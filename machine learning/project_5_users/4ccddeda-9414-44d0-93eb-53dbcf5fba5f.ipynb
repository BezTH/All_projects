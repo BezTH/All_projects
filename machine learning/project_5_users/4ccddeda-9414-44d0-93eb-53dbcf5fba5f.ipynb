{
 "cells": [
  {
   "cell_type": "markdown",
   "metadata": {},
   "source": [
    "# Рекомендация тарифов"
   ]
  },
  {
   "cell_type": "markdown",
   "metadata": {},
   "source": [
    "В вашем распоряжении данные о поведении клиентов, которые уже перешли на эти тарифы (из проекта курса «Статистический анализ данных»). Нужно построить модель для задачи классификации, которая выберет подходящий тариф. Предобработка данных не понадобится — вы её уже сделали.\n",
    "\n",
    "Постройте модель с максимально большим значением *accuracy*. Чтобы сдать проект успешно, нужно довести долю правильных ответов по крайней мере до 0.75. Проверьте *accuracy* на тестовой выборке самостоятельно."
   ]
  },
  {
   "cell_type": "markdown",
   "metadata": {},
   "source": [
    "# Проект рекомендация тарифов"
   ]
  },
  {
   "cell_type": "markdown",
   "metadata": {},
   "source": [
    "**Цель проекта - исследование моделей машиного обучения для задачи классификации.**\\\n",
    "\\\n",
    "**Ход проекта:**\n",
    "* **Загрузка и знакомство с данными.**\n",
    "* **Разделение данных три выборки, train, valid, test.**\n",
    "* **Исследование моделей - DecisionTreeClassifier, RandomForestClassifier.**\n",
    "* **Проверка моделей на тестовой выборке.**\n",
    "* **Проверка модели на адекватность с помощью DummyClassifier.**"
   ]
  },
  {
   "cell_type": "code",
   "execution_count": 1,
   "metadata": {},
   "outputs": [],
   "source": [
    "import numpy as np\n",
    "import pandas as pd\n",
    "from sklearn.ensemble import RandomForestClassifier\n",
    "from sklearn.tree import DecisionTreeClassifier\n",
    "from sklearn.linear_model import LinearRegression\n",
    "from sklearn.ensemble import ExtraTreesClassifier\n",
    "\n",
    "from sklearn.metrics import accuracy_score\n",
    "from sklearn.metrics import mean_squared_error\n",
    "from sklearn.dummy import DummyClassifier\n",
    "\n",
    "from sklearn.model_selection import train_test_split"
   ]
  },
  {
   "cell_type": "markdown",
   "metadata": {},
   "source": [
    "## Откройте и изучите файл"
   ]
  },
  {
   "cell_type": "code",
   "execution_count": 2,
   "metadata": {},
   "outputs": [
    {
     "name": "stdout",
     "output_type": "stream",
     "text": [
      "<class 'pandas.core.frame.DataFrame'>\n",
      "RangeIndex: 3214 entries, 0 to 3213\n",
      "Data columns (total 5 columns):\n",
      " #   Column    Non-Null Count  Dtype  \n",
      "---  ------    --------------  -----  \n",
      " 0   calls     3214 non-null   float64\n",
      " 1   minutes   3214 non-null   float64\n",
      " 2   messages  3214 non-null   float64\n",
      " 3   mb_used   3214 non-null   float64\n",
      " 4   is_ultra  3214 non-null   int64  \n",
      "dtypes: float64(4), int64(1)\n",
      "memory usage: 125.7 KB\n"
     ]
    },
    {
     "data": {
      "text/html": [
       "<div>\n",
       "<style scoped>\n",
       "    .dataframe tbody tr th:only-of-type {\n",
       "        vertical-align: middle;\n",
       "    }\n",
       "\n",
       "    .dataframe tbody tr th {\n",
       "        vertical-align: top;\n",
       "    }\n",
       "\n",
       "    .dataframe thead th {\n",
       "        text-align: right;\n",
       "    }\n",
       "</style>\n",
       "<table border=\"1\" class=\"dataframe\">\n",
       "  <thead>\n",
       "    <tr style=\"text-align: right;\">\n",
       "      <th></th>\n",
       "      <th>calls</th>\n",
       "      <th>minutes</th>\n",
       "      <th>messages</th>\n",
       "      <th>mb_used</th>\n",
       "      <th>is_ultra</th>\n",
       "    </tr>\n",
       "  </thead>\n",
       "  <tbody>\n",
       "    <tr>\n",
       "      <th>0</th>\n",
       "      <td>40.0</td>\n",
       "      <td>311.90</td>\n",
       "      <td>83.0</td>\n",
       "      <td>19915.42</td>\n",
       "      <td>0</td>\n",
       "    </tr>\n",
       "    <tr>\n",
       "      <th>1</th>\n",
       "      <td>85.0</td>\n",
       "      <td>516.75</td>\n",
       "      <td>56.0</td>\n",
       "      <td>22696.96</td>\n",
       "      <td>0</td>\n",
       "    </tr>\n",
       "    <tr>\n",
       "      <th>2</th>\n",
       "      <td>77.0</td>\n",
       "      <td>467.66</td>\n",
       "      <td>86.0</td>\n",
       "      <td>21060.45</td>\n",
       "      <td>0</td>\n",
       "    </tr>\n",
       "    <tr>\n",
       "      <th>3</th>\n",
       "      <td>106.0</td>\n",
       "      <td>745.53</td>\n",
       "      <td>81.0</td>\n",
       "      <td>8437.39</td>\n",
       "      <td>1</td>\n",
       "    </tr>\n",
       "    <tr>\n",
       "      <th>4</th>\n",
       "      <td>66.0</td>\n",
       "      <td>418.74</td>\n",
       "      <td>1.0</td>\n",
       "      <td>14502.75</td>\n",
       "      <td>0</td>\n",
       "    </tr>\n",
       "  </tbody>\n",
       "</table>\n",
       "</div>"
      ],
      "text/plain": [
       "   calls  minutes  messages   mb_used  is_ultra\n",
       "0   40.0   311.90      83.0  19915.42         0\n",
       "1   85.0   516.75      56.0  22696.96         0\n",
       "2   77.0   467.66      86.0  21060.45         0\n",
       "3  106.0   745.53      81.0   8437.39         1\n",
       "4   66.0   418.74       1.0  14502.75         0"
      ]
     },
     "execution_count": 2,
     "metadata": {},
     "output_type": "execute_result"
    }
   ],
   "source": [
    "data = pd.read_csv('/datasets/users_behavior.csv')\n",
    "data.info()\n",
    "data.head()"
   ]
  },
  {
   "cell_type": "markdown",
   "metadata": {},
   "source": [
    "**Столбцы calls и messages могут являться только натуральным числом, потому изменяем тип данных на int.**"
   ]
  },
  {
   "cell_type": "code",
   "execution_count": 3,
   "metadata": {},
   "outputs": [],
   "source": [
    "data['calls'] = data['calls'].astype(int)\n",
    "data['minutes'] = data['minutes'].astype(int)"
   ]
  },
  {
   "cell_type": "markdown",
   "metadata": {},
   "source": [
    "### Промежуточный вывод:"
   ]
  },
  {
   "cell_type": "markdown",
   "metadata": {},
   "source": [
    "**Данные состоят из 5 столбцов, и 3214 строк.**\\\n",
    "\\\n",
    "**Столбцы:**\\\n",
    "**calls - количество звонков.**\\\n",
    "**minutes - количество минут.**\\\n",
    "**messages - количество сообщений.**\\\n",
    "**mb_used - количество израсходованных мегабайт.**\\\n",
    "**is_ultra - 1 - ультра, 0 - смарт тариф.**\\\n",
    "\\\n",
    "**Столбцы calls и messages изменен тип данных на int.**"
   ]
  },
  {
   "cell_type": "markdown",
   "metadata": {},
   "source": [
    "## Разбейте данные на выборки"
   ]
  },
  {
   "cell_type": "code",
   "execution_count": 4,
   "metadata": {},
   "outputs": [],
   "source": [
    "data_train, data_valid, data_test = np.split(data.sample(frac=1, random_state=12345), \n",
    "                                                         [int(.6*len(data)), int(.8*len(data))])"
   ]
  },
  {
   "cell_type": "code",
   "execution_count": 5,
   "metadata": {},
   "outputs": [],
   "source": [
    "features_train = data_train.drop(['is_ultra'], axis=1)\n",
    "target_train = data_train['is_ultra']\n",
    "\n",
    "features_valid = data_valid.drop(['is_ultra'], axis=1)\n",
    "target_valid = data_valid['is_ultra']\n",
    "\n",
    "features_test = data_test.drop(['is_ultra'], axis=1)\n",
    "target_test = data_test['is_ultra']"
   ]
  },
  {
   "cell_type": "markdown",
   "metadata": {},
   "source": [
    "**Данные разбиты на три датафрейма:\\\n",
    "train - 60%\\\n",
    "valid - 20%\\\n",
    "test  - 20%\\\n",
    "Процент от общего числа строк.**"
   ]
  },
  {
   "cell_type": "markdown",
   "metadata": {},
   "source": [
    "## Исследуйте модели"
   ]
  },
  {
   "cell_type": "markdown",
   "metadata": {},
   "source": [
    "### Модель DecisionTreeClassifier."
   ]
  },
  {
   "cell_type": "code",
   "execution_count": 28,
   "metadata": {},
   "outputs": [
    {
     "name": "stdout",
     "output_type": "stream",
     "text": [
      "Accuracy лучшей модели: 0.7776049766718507\n",
      "Лучшая модель: DecisionTreeClassifier(max_depth=10, random_state=12345)\n"
     ]
    }
   ],
   "source": [
    "best_model = None \n",
    "best_result = 0\n",
    "\n",
    "for depth in range(1, 15):\n",
    "    model = DecisionTreeClassifier(random_state=12345, max_depth=depth)\n",
    "    model.fit(features_train, target_train) \n",
    "    predictions_valid = model.predict(features_valid)\n",
    "    result = accuracy_score(target_valid, predictions_valid)\n",
    "    if result > best_result:\n",
    "        best_model = model\n",
    "        best_result = result\n",
    "        \n",
    "print('Accuracy лучшей модели:', best_result)\n",
    "print('Лучшая модель:', best_model)"
   ]
  },
  {
   "cell_type": "markdown",
   "metadata": {},
   "source": [
    "**На валидационной выборке модель DecisionTreeClassifier с гиперпараметром глубины 10 предсказывает 77% результатов.**"
   ]
  },
  {
   "cell_type": "markdown",
   "metadata": {},
   "source": [
    "### Модель RandomForestClassifier."
   ]
  },
  {
   "cell_type": "code",
   "execution_count": 27,
   "metadata": {},
   "outputs": [
    {
     "name": "stdout",
     "output_type": "stream",
     "text": [
      "Accuracy лучшей модели: 0.8040435458786936\n",
      "Лучшая модель: RandomForestClassifier(max_depth=9, n_estimators=31, random_state=12345)\n"
     ]
    }
   ],
   "source": [
    "best_result = 0\n",
    "best_model = 0\n",
    "\n",
    "for est in range(1, 51, 10):\n",
    "    for depth in range (1, 11):\n",
    "        model = RandomForestClassifier(random_state=12345, n_estimators=est, max_depth=depth)\n",
    "        model.fit(features_train, target_train)\n",
    "        predictions_valid = model.predict(features_valid)\n",
    "        result = accuracy_score(target_valid, predictions_valid)\n",
    "        if result > best_result:\n",
    "            best_result = result\n",
    "            best_model = model\n",
    "\n",
    "print('Accuracy лучшей модели:', best_result)\n",
    "print('Лучшая модель:', best_model)"
   ]
  },
  {
   "cell_type": "markdown",
   "metadata": {},
   "source": [
    "**На валидационной выборке модель RandomForestClassifier предсказывает в 80% случаях.**"
   ]
  },
  {
   "cell_type": "markdown",
   "metadata": {},
   "source": [
    "### Промежуточный вывод"
   ]
  },
  {
   "cell_type": "markdown",
   "metadata": {},
   "source": [
    "**Исследованно две модели DecisionTreeClassifier и RandomForestClassifier.\\\n",
    "Модель DecisionTreeClassifier работает быстрее но предугадывает немного реже чем RandomForestClassifier.**"
   ]
  },
  {
   "cell_type": "markdown",
   "metadata": {},
   "source": [
    "## Проверьте модель на тестовой выборке"
   ]
  },
  {
   "cell_type": "markdown",
   "metadata": {},
   "source": [
    "### Тест модели DecisionTreeClassifier."
   ]
  },
  {
   "cell_type": "code",
   "execution_count": 29,
   "metadata": {},
   "outputs": [
    {
     "data": {
      "text/plain": [
       "0.7962674961119751"
      ]
     },
     "execution_count": 29,
     "metadata": {},
     "output_type": "execute_result"
    }
   ],
   "source": [
    "model = DecisionTreeClassifier(random_state=12345, max_depth=10)\n",
    "model.fit(features_train, target_train) \n",
    "predictions = model.predict(features_test)\n",
    "result = accuracy_score(target_test, predictions)\n",
    "result"
   ]
  },
  {
   "cell_type": "markdown",
   "metadata": {},
   "source": [
    "**На тестовой выборке DecisionTreeClassifier предсказала на 2% больше правильных ответов.**"
   ]
  },
  {
   "cell_type": "markdown",
   "metadata": {},
   "source": [
    "### Тест Модели RandomForestClassifier."
   ]
  },
  {
   "cell_type": "code",
   "execution_count": 20,
   "metadata": {},
   "outputs": [
    {
     "data": {
      "text/plain": [
       "0.8087091757387247"
      ]
     },
     "execution_count": 20,
     "metadata": {},
     "output_type": "execute_result"
    }
   ],
   "source": [
    "model = RandomForestClassifier(random_state=12345, n_estimators=31, max_depth=9)\n",
    "model.fit(features_train, target_train) \n",
    "predictions = model.predict(features_test)\n",
    "result = accuracy_score(target_test, predictions)\n",
    "result"
   ]
  },
  {
   "cell_type": "markdown",
   "metadata": {},
   "source": [
    "**RandomForestClassifier на тестовой выборке предсказала незначительно больше правильных ответов.**"
   ]
  },
  {
   "cell_type": "markdown",
   "metadata": {},
   "source": [
    "## Проверка модели на адекватность"
   ]
  },
  {
   "cell_type": "code",
   "execution_count": 42,
   "metadata": {},
   "outputs": [
    {
     "name": "stdout",
     "output_type": "stream",
     "text": [
      "Стратегия проверки: stratified\n",
      "Accuracy Dummy: 0.5847589424572317\n",
      "\n",
      "Стратегия проверки: most_frequent\n",
      "Accuracy Dummy: 0.6687402799377916\n",
      "\n",
      "Стратегия проверки: uniform\n",
      "Accuracy Dummy: 0.46967340590979784\n",
      "\n"
     ]
    }
   ],
   "source": [
    "strategy = ['stratified', 'most_frequent', 'uniform']\n",
    "\n",
    "for i in strategy:\n",
    "    model_dc = DummyClassifier(strategy=i, random_state=12345)\n",
    "    model_dc.fit(features_train, target_train)\n",
    "    model_dc_valid = model_dc.predict(features_valid)\n",
    "    result = model_dc.score(model_dc_valid, target_valid)\n",
    "    print('Стратегия проверки:', i)\n",
    "    print( 'Accuracy Dummy:', result)\n",
    "    print()"
   ]
  },
  {
   "cell_type": "markdown",
   "metadata": {},
   "source": [
    "## Общий вывод:"
   ]
  },
  {
   "cell_type": "markdown",
   "metadata": {},
   "source": [
    "* **Загруженны и просмотренны данные.**\n",
    "* **В данных изменен тип данных двух столбцов с float на int.**\n",
    "* **Данные разбиты на три группы, train, validate, test.**"
   ]
  },
  {
   "cell_type": "markdown",
   "metadata": {},
   "source": [
    "* **Исследованны две модели DecisionTreeClassifier и RandomForestClassifier, обе модели показали хороший предсказательный результат.**\n",
    "* **DecisionTreeClassifier на валидационной выборке предсказал тариф в 77% случаях.**\n",
    "* **RandomForestClassifier на валидационной выборке предсказал тариф в 80% случаях.**\n",
    "* **Было выяснено что в случае если нужно быстродействие DecisionTreeClassifier была бы приоритетней.**\n",
    "* **Если нужна более высокая точность RandomForestClassifier требует большего времени, но даёт более точный результат.**"
   ]
  },
  {
   "cell_type": "markdown",
   "metadata": {},
   "source": [
    "* **Проведенны проверки моделей на тестовой выборе.**\n",
    "* **DecisionTreeClassifier показал результат на 2% выше чем на валидацинной.**\n",
    "* **Результат модели RandomForestClassifier на тестовой выборке незначительно выше чем на валидационной.**"
   ]
  }
 ],
 "metadata": {
  "ExecuteTimeLog": [
   {
    "duration": 389,
    "start_time": "2023-07-13T15:33:38.205Z"
   },
   {
    "duration": 81,
    "start_time": "2023-07-13T15:34:22.025Z"
   },
   {
    "duration": 50,
    "start_time": "2023-07-13T15:34:28.205Z"
   },
   {
    "duration": 4,
    "start_time": "2023-07-13T15:45:35.814Z"
   },
   {
    "duration": 71,
    "start_time": "2023-07-13T15:45:37.222Z"
   },
   {
    "duration": 727,
    "start_time": "2023-07-13T15:45:52.607Z"
   },
   {
    "duration": 59,
    "start_time": "2023-07-13T15:45:57.813Z"
   },
   {
    "duration": 25,
    "start_time": "2023-07-13T15:46:06.552Z"
   },
   {
    "duration": 29,
    "start_time": "2023-07-13T15:48:23.248Z"
   },
   {
    "duration": 27,
    "start_time": "2023-07-13T15:48:34.256Z"
   },
   {
    "duration": 21,
    "start_time": "2023-07-13T15:49:11.948Z"
   },
   {
    "duration": 82,
    "start_time": "2023-07-13T17:16:43.633Z"
   },
   {
    "duration": 1281,
    "start_time": "2023-07-13T17:16:48.167Z"
   },
   {
    "duration": 95,
    "start_time": "2023-07-13T17:16:49.450Z"
   },
   {
    "duration": 5,
    "start_time": "2023-07-13T17:16:49.744Z"
   },
   {
    "duration": 23,
    "start_time": "2023-07-13T17:16:50.325Z"
   },
   {
    "duration": 3,
    "start_time": "2023-07-13T17:17:58.628Z"
   },
   {
    "duration": 63,
    "start_time": "2023-07-13T17:18:52.506Z"
   },
   {
    "duration": 66,
    "start_time": "2023-07-13T17:19:50.106Z"
   },
   {
    "duration": 63,
    "start_time": "2023-07-13T17:19:54.784Z"
   },
   {
    "duration": 80,
    "start_time": "2023-07-13T17:21:17.747Z"
   },
   {
    "duration": 107,
    "start_time": "2023-07-13T17:21:24.414Z"
   },
   {
    "duration": 133,
    "start_time": "2023-07-13T17:21:30.724Z"
   },
   {
    "duration": 1818,
    "start_time": "2023-07-13T17:21:38.100Z"
   },
   {
    "duration": 125,
    "start_time": "2023-07-13T17:21:49.070Z"
   },
   {
    "duration": 120,
    "start_time": "2023-07-13T17:21:55.284Z"
   },
   {
    "duration": 5,
    "start_time": "2023-07-13T17:23:39.193Z"
   },
   {
    "duration": 5,
    "start_time": "2023-07-13T17:24:31.947Z"
   },
   {
    "duration": 9,
    "start_time": "2023-07-13T17:26:15.475Z"
   },
   {
    "duration": 165,
    "start_time": "2023-07-13T17:26:19.057Z"
   },
   {
    "duration": 121,
    "start_time": "2023-07-13T17:29:34.500Z"
   },
   {
    "duration": 20,
    "start_time": "2023-07-13T17:30:01.290Z"
   },
   {
    "duration": 86,
    "start_time": "2023-07-13T17:30:20.174Z"
   },
   {
    "duration": 19,
    "start_time": "2023-07-13T17:32:49.383Z"
   },
   {
    "duration": 7,
    "start_time": "2023-07-13T17:33:05.087Z"
   },
   {
    "duration": 16,
    "start_time": "2023-07-13T17:33:06.935Z"
   },
   {
    "duration": 7,
    "start_time": "2023-07-13T17:33:16.787Z"
   },
   {
    "duration": 85,
    "start_time": "2023-07-13T17:33:19.152Z"
   },
   {
    "duration": 13,
    "start_time": "2023-07-13T17:40:30.484Z"
   },
   {
    "duration": 1202,
    "start_time": "2023-07-13T17:40:45.838Z"
   },
   {
    "duration": 1207,
    "start_time": "2023-07-13T17:41:10.938Z"
   },
   {
    "duration": 1201,
    "start_time": "2023-07-13T17:41:24.499Z"
   },
   {
    "duration": 5307,
    "start_time": "2023-07-13T17:42:11.328Z"
   },
   {
    "duration": 3,
    "start_time": "2023-07-13T17:44:52.918Z"
   },
   {
    "duration": 12,
    "start_time": "2023-07-13T17:44:56.703Z"
   },
   {
    "duration": 24,
    "start_time": "2023-07-13T17:45:09.053Z"
   },
   {
    "duration": 53,
    "start_time": "2023-07-14T22:20:59.549Z"
   },
   {
    "duration": 1165,
    "start_time": "2023-07-14T22:21:09.981Z"
   },
   {
    "duration": 142,
    "start_time": "2023-07-14T22:21:12.085Z"
   },
   {
    "duration": 6,
    "start_time": "2023-07-14T22:21:13.272Z"
   },
   {
    "duration": 65,
    "start_time": "2023-07-14T22:21:13.566Z"
   },
   {
    "duration": 11,
    "start_time": "2023-07-14T22:21:21.832Z"
   },
   {
    "duration": 13,
    "start_time": "2023-07-14T22:21:27.811Z"
   },
   {
    "duration": 7,
    "start_time": "2023-07-14T22:21:38.707Z"
   },
   {
    "duration": 12,
    "start_time": "2023-07-14T22:23:55.729Z"
   },
   {
    "duration": 12,
    "start_time": "2023-07-14T22:24:07.953Z"
   },
   {
    "duration": 7,
    "start_time": "2023-07-14T22:25:09.788Z"
   },
   {
    "duration": 22,
    "start_time": "2023-07-14T22:25:16.753Z"
   },
   {
    "duration": 8,
    "start_time": "2023-07-14T22:27:06.281Z"
   },
   {
    "duration": 20,
    "start_time": "2023-07-14T22:27:07.880Z"
   },
   {
    "duration": 8,
    "start_time": "2023-07-14T22:29:11.753Z"
   },
   {
    "duration": 88,
    "start_time": "2023-07-14T22:29:13.333Z"
   },
   {
    "duration": 4770,
    "start_time": "2023-07-14T22:29:21.910Z"
   },
   {
    "duration": 10,
    "start_time": "2023-07-14T22:29:26.683Z"
   },
   {
    "duration": 8,
    "start_time": "2023-07-14T22:30:33.625Z"
   },
   {
    "duration": 78,
    "start_time": "2023-07-14T22:30:34.603Z"
   },
   {
    "duration": 5065,
    "start_time": "2023-07-14T22:30:38.178Z"
   },
   {
    "duration": 19,
    "start_time": "2023-07-14T22:30:43.245Z"
   },
   {
    "duration": 4,
    "start_time": "2023-07-14T22:33:56.920Z"
   },
   {
    "duration": 4,
    "start_time": "2023-07-14T22:33:57.320Z"
   },
   {
    "duration": 4,
    "start_time": "2023-07-14T22:35:32.890Z"
   },
   {
    "duration": 18,
    "start_time": "2023-07-14T22:35:33.131Z"
   },
   {
    "duration": 15,
    "start_time": "2023-07-14T22:36:56.085Z"
   },
   {
    "duration": 5,
    "start_time": "2023-07-14T22:37:05.270Z"
   },
   {
    "duration": 43,
    "start_time": "2023-07-14T22:37:05.887Z"
   },
   {
    "duration": 6,
    "start_time": "2023-07-14T22:37:06.447Z"
   },
   {
    "duration": 11,
    "start_time": "2023-07-14T22:37:06.785Z"
   },
   {
    "duration": 17,
    "start_time": "2023-07-14T22:37:07.199Z"
   },
   {
    "duration": 1213,
    "start_time": "2023-07-14T22:37:29.168Z"
   },
   {
    "duration": 56,
    "start_time": "2023-07-14T22:37:30.383Z"
   },
   {
    "duration": 123,
    "start_time": "2023-07-14T22:37:30.442Z"
   },
   {
    "duration": 0,
    "start_time": "2023-07-14T22:37:30.567Z"
   },
   {
    "duration": 0,
    "start_time": "2023-07-14T22:37:30.568Z"
   },
   {
    "duration": 0,
    "start_time": "2023-07-14T22:37:30.568Z"
   },
   {
    "duration": 0,
    "start_time": "2023-07-14T22:37:30.569Z"
   },
   {
    "duration": 0,
    "start_time": "2023-07-14T22:37:30.573Z"
   },
   {
    "duration": 7,
    "start_time": "2023-07-14T22:37:50.609Z"
   },
   {
    "duration": 20,
    "start_time": "2023-07-14T22:37:51.742Z"
   },
   {
    "duration": 7,
    "start_time": "2023-07-14T22:37:53.109Z"
   },
   {
    "duration": 85,
    "start_time": "2023-07-14T22:37:55.864Z"
   },
   {
    "duration": 4718,
    "start_time": "2023-07-14T22:37:58.235Z"
   },
   {
    "duration": 12,
    "start_time": "2023-07-14T22:38:02.960Z"
   },
   {
    "duration": 21,
    "start_time": "2023-07-14T22:40:46.096Z"
   },
   {
    "duration": 28,
    "start_time": "2023-07-14T22:41:11.640Z"
   },
   {
    "duration": 11,
    "start_time": "2023-07-14T22:47:41.726Z"
   },
   {
    "duration": 3,
    "start_time": "2023-07-14T22:48:06.239Z"
   },
   {
    "duration": 3,
    "start_time": "2023-07-14T22:48:09.544Z"
   },
   {
    "duration": 6,
    "start_time": "2023-07-14T22:48:13.666Z"
   },
   {
    "duration": 6,
    "start_time": "2023-07-14T22:49:08.646Z"
   },
   {
    "duration": 5,
    "start_time": "2023-07-14T22:49:27.895Z"
   },
   {
    "duration": 7,
    "start_time": "2023-07-14T22:50:40.454Z"
   },
   {
    "duration": 10,
    "start_time": "2023-07-14T22:51:00.822Z"
   },
   {
    "duration": 114,
    "start_time": "2023-07-14T22:51:22.902Z"
   },
   {
    "duration": 107,
    "start_time": "2023-07-14T22:51:30.064Z"
   },
   {
    "duration": 4257,
    "start_time": "2023-07-14T22:51:31.102Z"
   },
   {
    "duration": 13,
    "start_time": "2023-07-14T22:51:35.361Z"
   },
   {
    "duration": 20,
    "start_time": "2023-07-14T22:51:35.376Z"
   },
   {
    "duration": 6,
    "start_time": "2023-07-14T22:51:36.638Z"
   },
   {
    "duration": 5,
    "start_time": "2023-07-14T22:51:36.890Z"
   },
   {
    "duration": 5,
    "start_time": "2023-07-14T22:51:37.211Z"
   },
   {
    "duration": 6,
    "start_time": "2023-07-14T22:52:15.087Z"
   },
   {
    "duration": 1152,
    "start_time": "2023-07-14T23:00:10.716Z"
   },
   {
    "duration": 51,
    "start_time": "2023-07-14T23:00:11.870Z"
   },
   {
    "duration": 5,
    "start_time": "2023-07-14T23:00:11.923Z"
   },
   {
    "duration": 7,
    "start_time": "2023-07-14T23:00:11.930Z"
   },
   {
    "duration": 109,
    "start_time": "2023-07-14T23:00:11.938Z"
   },
   {
    "duration": 4017,
    "start_time": "2023-07-14T23:00:12.049Z"
   },
   {
    "duration": 8,
    "start_time": "2023-07-14T23:00:16.068Z"
   },
   {
    "duration": 18,
    "start_time": "2023-07-14T23:00:16.077Z"
   },
   {
    "duration": 5,
    "start_time": "2023-07-14T23:00:16.096Z"
   },
   {
    "duration": 6,
    "start_time": "2023-07-14T23:00:16.103Z"
   },
   {
    "duration": 6,
    "start_time": "2023-07-14T23:00:16.110Z"
   },
   {
    "duration": 37,
    "start_time": "2023-07-14T23:00:16.117Z"
   },
   {
    "duration": 4,
    "start_time": "2023-07-14T23:04:34.480Z"
   },
   {
    "duration": 5,
    "start_time": "2023-07-14T23:04:35.966Z"
   },
   {
    "duration": 6,
    "start_time": "2023-07-14T23:04:36.315Z"
   },
   {
    "duration": 104,
    "start_time": "2023-07-14T23:04:36.903Z"
   },
   {
    "duration": 3962,
    "start_time": "2023-07-14T23:04:37.194Z"
   },
   {
    "duration": 9,
    "start_time": "2023-07-14T23:04:41.158Z"
   },
   {
    "duration": 15,
    "start_time": "2023-07-14T23:04:41.168Z"
   },
   {
    "duration": 5,
    "start_time": "2023-07-14T23:04:41.185Z"
   },
   {
    "duration": 8,
    "start_time": "2023-07-14T23:04:41.192Z"
   },
   {
    "duration": 7,
    "start_time": "2023-07-14T23:04:41.201Z"
   },
   {
    "duration": 6,
    "start_time": "2023-07-14T23:04:41.210Z"
   },
   {
    "duration": 1183,
    "start_time": "2023-07-14T23:27:58.657Z"
   },
   {
    "duration": 51,
    "start_time": "2023-07-14T23:27:59.842Z"
   },
   {
    "duration": 5,
    "start_time": "2023-07-14T23:27:59.895Z"
   },
   {
    "duration": 21,
    "start_time": "2023-07-14T23:27:59.902Z"
   },
   {
    "duration": 11,
    "start_time": "2023-07-14T23:27:59.926Z"
   },
   {
    "duration": 105,
    "start_time": "2023-07-14T23:27:59.939Z"
   },
   {
    "duration": 4092,
    "start_time": "2023-07-14T23:28:00.045Z"
   },
   {
    "duration": 18,
    "start_time": "2023-07-14T23:28:04.139Z"
   },
   {
    "duration": 192,
    "start_time": "2023-07-14T23:28:04.158Z"
   },
   {
    "duration": 8,
    "start_time": "2023-07-14T23:28:04.352Z"
   },
   {
    "duration": 11,
    "start_time": "2023-07-14T23:28:04.362Z"
   },
   {
    "duration": 12,
    "start_time": "2023-07-14T23:28:04.375Z"
   },
   {
    "duration": 21,
    "start_time": "2023-07-14T23:28:04.389Z"
   },
   {
    "duration": 110,
    "start_time": "2023-07-14T23:40:15.674Z"
   },
   {
    "duration": 4502,
    "start_time": "2023-07-14T23:41:37.146Z"
   },
   {
    "duration": 103,
    "start_time": "2023-07-14T23:42:42.666Z"
   },
   {
    "duration": 4288,
    "start_time": "2023-07-14T23:43:58.986Z"
   },
   {
    "duration": 110,
    "start_time": "2023-07-14T23:45:23.915Z"
   },
   {
    "duration": 10,
    "start_time": "2023-07-14T23:45:54.523Z"
   },
   {
    "duration": 11,
    "start_time": "2023-07-14T23:46:03.811Z"
   },
   {
    "duration": 48,
    "start_time": "2023-07-14T23:46:07.950Z"
   },
   {
    "duration": 9,
    "start_time": "2023-07-14T23:48:20.880Z"
   },
   {
    "duration": 4,
    "start_time": "2023-07-14T23:51:06.218Z"
   },
   {
    "duration": 3974,
    "start_time": "2023-07-14T23:51:10.713Z"
   },
   {
    "duration": 4,
    "start_time": "2023-07-14T23:52:59.469Z"
   },
   {
    "duration": 210,
    "start_time": "2023-07-14T23:53:24.169Z"
   },
   {
    "duration": 12,
    "start_time": "2023-07-14T23:53:33.340Z"
   },
   {
    "duration": 2416,
    "start_time": "2023-07-14T23:53:52.722Z"
   },
   {
    "duration": 4131,
    "start_time": "2023-07-14T23:55:16.886Z"
   },
   {
    "duration": 2443,
    "start_time": "2023-07-14T23:55:35.405Z"
   },
   {
    "duration": 238,
    "start_time": "2023-07-14T23:57:43.670Z"
   },
   {
    "duration": 40,
    "start_time": "2023-07-14T23:58:43.265Z"
   },
   {
    "duration": 8511,
    "start_time": "2023-07-14T23:59:15.198Z"
   },
   {
    "duration": 3263,
    "start_time": "2023-07-14T23:59:44.814Z"
   },
   {
    "duration": 3840,
    "start_time": "2023-07-14T23:59:55.084Z"
   },
   {
    "duration": 3694,
    "start_time": "2023-07-15T00:00:14.476Z"
   },
   {
    "duration": 3933,
    "start_time": "2023-07-15T00:00:30.652Z"
   },
   {
    "duration": 4035,
    "start_time": "2023-07-15T00:00:48.214Z"
   },
   {
    "duration": 4152,
    "start_time": "2023-07-15T00:00:56.269Z"
   },
   {
    "duration": 48,
    "start_time": "2023-07-15T00:01:03.023Z"
   },
   {
    "duration": 8286,
    "start_time": "2023-07-15T00:01:59.254Z"
   },
   {
    "duration": 49,
    "start_time": "2023-07-15T00:02:34.343Z"
   },
   {
    "duration": 45,
    "start_time": "2023-07-15T00:02:37.345Z"
   },
   {
    "duration": 4021,
    "start_time": "2023-07-15T00:02:50.966Z"
   },
   {
    "duration": 1293,
    "start_time": "2023-07-15T00:03:46.693Z"
   },
   {
    "duration": 53,
    "start_time": "2023-07-15T00:03:47.988Z"
   },
   {
    "duration": 5,
    "start_time": "2023-07-15T00:03:48.042Z"
   },
   {
    "duration": 30,
    "start_time": "2023-07-15T00:03:48.049Z"
   },
   {
    "duration": 8,
    "start_time": "2023-07-15T00:03:48.081Z"
   },
   {
    "duration": 110,
    "start_time": "2023-07-15T00:03:48.091Z"
   },
   {
    "duration": 4105,
    "start_time": "2023-07-15T00:03:48.202Z"
   },
   {
    "duration": 16,
    "start_time": "2023-07-15T00:03:52.309Z"
   },
   {
    "duration": 62,
    "start_time": "2023-07-15T00:03:52.326Z"
   },
   {
    "duration": 6,
    "start_time": "2023-07-15T00:03:52.390Z"
   },
   {
    "duration": 26,
    "start_time": "2023-07-15T00:03:52.397Z"
   },
   {
    "duration": 9,
    "start_time": "2023-07-15T00:03:52.424Z"
   },
   {
    "duration": 26,
    "start_time": "2023-07-15T00:03:52.435Z"
   },
   {
    "duration": 3697,
    "start_time": "2023-07-15T00:04:11.047Z"
   },
   {
    "duration": 1222,
    "start_time": "2023-07-15T00:04:18.534Z"
   },
   {
    "duration": 56,
    "start_time": "2023-07-15T00:04:19.759Z"
   },
   {
    "duration": 5,
    "start_time": "2023-07-15T00:04:19.816Z"
   },
   {
    "duration": 20,
    "start_time": "2023-07-15T00:04:19.823Z"
   },
   {
    "duration": 9,
    "start_time": "2023-07-15T00:04:19.846Z"
   },
   {
    "duration": 124,
    "start_time": "2023-07-15T00:04:19.857Z"
   },
   {
    "duration": 3727,
    "start_time": "2023-07-15T00:04:19.983Z"
   },
   {
    "duration": 14,
    "start_time": "2023-07-15T00:04:23.711Z"
   },
   {
    "duration": 55,
    "start_time": "2023-07-15T00:04:23.727Z"
   },
   {
    "duration": 5,
    "start_time": "2023-07-15T00:04:23.784Z"
   },
   {
    "duration": 7,
    "start_time": "2023-07-15T00:04:23.791Z"
   },
   {
    "duration": 23,
    "start_time": "2023-07-15T00:04:23.800Z"
   },
   {
    "duration": 25,
    "start_time": "2023-07-15T00:04:23.825Z"
   },
   {
    "duration": 128,
    "start_time": "2023-07-15T00:06:24.608Z"
   },
   {
    "duration": 3930,
    "start_time": "2023-07-15T00:07:23.168Z"
   },
   {
    "duration": 1175,
    "start_time": "2023-07-15T00:07:34.744Z"
   },
   {
    "duration": 56,
    "start_time": "2023-07-15T00:07:35.922Z"
   },
   {
    "duration": 4,
    "start_time": "2023-07-15T00:07:35.980Z"
   },
   {
    "duration": 10,
    "start_time": "2023-07-15T00:07:35.986Z"
   },
   {
    "duration": 8,
    "start_time": "2023-07-15T00:07:35.998Z"
   },
   {
    "duration": 112,
    "start_time": "2023-07-15T00:07:36.008Z"
   },
   {
    "duration": 3831,
    "start_time": "2023-07-15T00:07:36.122Z"
   },
   {
    "duration": 3769,
    "start_time": "2023-07-15T00:07:39.955Z"
   },
   {
    "duration": 14,
    "start_time": "2023-07-15T00:07:43.725Z"
   },
   {
    "duration": 51,
    "start_time": "2023-07-15T00:07:43.740Z"
   },
   {
    "duration": 6,
    "start_time": "2023-07-15T00:07:43.793Z"
   },
   {
    "duration": 9,
    "start_time": "2023-07-15T00:07:43.800Z"
   },
   {
    "duration": 8,
    "start_time": "2023-07-15T00:07:43.811Z"
   },
   {
    "duration": 30,
    "start_time": "2023-07-15T00:07:43.822Z"
   },
   {
    "duration": 4003,
    "start_time": "2023-07-15T00:07:49.683Z"
   },
   {
    "duration": 3860,
    "start_time": "2023-07-15T00:08:51.183Z"
   },
   {
    "duration": 1244,
    "start_time": "2023-07-15T00:09:02.869Z"
   },
   {
    "duration": 56,
    "start_time": "2023-07-15T00:09:04.115Z"
   },
   {
    "duration": 6,
    "start_time": "2023-07-15T00:09:04.173Z"
   },
   {
    "duration": 22,
    "start_time": "2023-07-15T00:09:04.181Z"
   },
   {
    "duration": 21,
    "start_time": "2023-07-15T00:09:04.206Z"
   },
   {
    "duration": 119,
    "start_time": "2023-07-15T00:09:04.229Z"
   },
   {
    "duration": 3731,
    "start_time": "2023-07-15T00:09:04.350Z"
   },
   {
    "duration": 3852,
    "start_time": "2023-07-15T00:09:08.082Z"
   },
   {
    "duration": 16,
    "start_time": "2023-07-15T00:09:11.936Z"
   },
   {
    "duration": 55,
    "start_time": "2023-07-15T00:09:11.954Z"
   },
   {
    "duration": 5,
    "start_time": "2023-07-15T00:09:12.011Z"
   },
   {
    "duration": 6,
    "start_time": "2023-07-15T00:09:12.018Z"
   },
   {
    "duration": 7,
    "start_time": "2023-07-15T00:09:12.026Z"
   },
   {
    "duration": 8,
    "start_time": "2023-07-15T00:09:12.053Z"
   },
   {
    "duration": 141,
    "start_time": "2023-07-15T00:18:23.664Z"
   },
   {
    "duration": 17,
    "start_time": "2023-07-15T00:18:25.866Z"
   },
   {
    "duration": 18,
    "start_time": "2023-07-15T00:18:35.099Z"
   },
   {
    "duration": 43,
    "start_time": "2023-07-15T00:18:35.679Z"
   },
   {
    "duration": 39,
    "start_time": "2023-07-15T00:21:24.017Z"
   },
   {
    "duration": 60,
    "start_time": "2023-07-15T00:21:54.023Z"
   },
   {
    "duration": 1330,
    "start_time": "2023-07-15T00:22:03.669Z"
   },
   {
    "duration": 53,
    "start_time": "2023-07-15T00:22:05.000Z"
   },
   {
    "duration": 10,
    "start_time": "2023-07-15T00:22:05.060Z"
   },
   {
    "duration": 46,
    "start_time": "2023-07-15T00:22:05.073Z"
   },
   {
    "duration": 12,
    "start_time": "2023-07-15T00:22:05.121Z"
   },
   {
    "duration": 139,
    "start_time": "2023-07-15T00:22:05.135Z"
   },
   {
    "duration": 4329,
    "start_time": "2023-07-15T00:22:05.277Z"
   },
   {
    "duration": 4151,
    "start_time": "2023-07-15T00:22:09.608Z"
   },
   {
    "duration": 19,
    "start_time": "2023-07-15T00:22:13.761Z"
   },
   {
    "duration": 51,
    "start_time": "2023-07-15T00:22:13.781Z"
   },
   {
    "duration": 21,
    "start_time": "2023-07-15T00:22:13.834Z"
   },
   {
    "duration": 7,
    "start_time": "2023-07-15T00:22:13.857Z"
   },
   {
    "duration": 30,
    "start_time": "2023-07-15T00:22:13.867Z"
   },
   {
    "duration": 8,
    "start_time": "2023-07-15T00:22:13.899Z"
   },
   {
    "duration": 25,
    "start_time": "2023-07-15T00:22:55.601Z"
   },
   {
    "duration": 48,
    "start_time": "2023-07-15T00:22:59.695Z"
   },
   {
    "duration": 4120,
    "start_time": "2023-07-15T00:23:12.218Z"
   },
   {
    "duration": 4281,
    "start_time": "2023-07-15T00:23:39.785Z"
   },
   {
    "duration": 4075,
    "start_time": "2023-07-15T00:24:02.580Z"
   },
   {
    "duration": 4122,
    "start_time": "2023-07-15T00:24:37.038Z"
   },
   {
    "duration": 4228,
    "start_time": "2023-07-15T00:24:53.790Z"
   },
   {
    "duration": 4134,
    "start_time": "2023-07-15T00:25:24.369Z"
   },
   {
    "duration": 4424,
    "start_time": "2023-07-15T00:25:31.912Z"
   },
   {
    "duration": 4167,
    "start_time": "2023-07-15T00:25:37.181Z"
   },
   {
    "duration": 4336,
    "start_time": "2023-07-15T00:25:48.676Z"
   },
   {
    "duration": 41,
    "start_time": "2023-07-15T00:26:16.563Z"
   },
   {
    "duration": 14,
    "start_time": "2023-07-15T00:26:17.870Z"
   },
   {
    "duration": 1191,
    "start_time": "2023-07-15T00:26:32.086Z"
   },
   {
    "duration": 54,
    "start_time": "2023-07-15T00:26:33.279Z"
   },
   {
    "duration": 13,
    "start_time": "2023-07-15T00:26:33.335Z"
   },
   {
    "duration": 29,
    "start_time": "2023-07-15T00:26:33.352Z"
   },
   {
    "duration": 18,
    "start_time": "2023-07-15T00:26:33.383Z"
   },
   {
    "duration": 136,
    "start_time": "2023-07-15T00:26:33.403Z"
   },
   {
    "duration": 3696,
    "start_time": "2023-07-15T00:26:33.541Z"
   },
   {
    "duration": 3724,
    "start_time": "2023-07-15T00:26:37.239Z"
   },
   {
    "duration": 16,
    "start_time": "2023-07-15T00:26:40.965Z"
   },
   {
    "duration": 48,
    "start_time": "2023-07-15T00:26:40.984Z"
   },
   {
    "duration": 7,
    "start_time": "2023-07-15T00:26:41.051Z"
   },
   {
    "duration": 6,
    "start_time": "2023-07-15T00:26:41.060Z"
   },
   {
    "duration": 12,
    "start_time": "2023-07-15T00:26:41.068Z"
   },
   {
    "duration": 6,
    "start_time": "2023-07-15T00:26:41.081Z"
   },
   {
    "duration": 3588,
    "start_time": "2023-07-15T00:28:13.973Z"
   },
   {
    "duration": 1195,
    "start_time": "2023-07-15T00:28:42.731Z"
   },
   {
    "duration": 64,
    "start_time": "2023-07-15T00:28:43.929Z"
   },
   {
    "duration": 6,
    "start_time": "2023-07-15T00:28:43.994Z"
   },
   {
    "duration": 11,
    "start_time": "2023-07-15T00:28:44.001Z"
   },
   {
    "duration": 8,
    "start_time": "2023-07-15T00:28:44.014Z"
   },
   {
    "duration": 124,
    "start_time": "2023-07-15T00:28:44.024Z"
   },
   {
    "duration": 3647,
    "start_time": "2023-07-15T00:28:44.152Z"
   },
   {
    "duration": 15,
    "start_time": "2023-07-15T00:28:47.802Z"
   },
   {
    "duration": 56,
    "start_time": "2023-07-15T00:28:47.818Z"
   },
   {
    "duration": 7,
    "start_time": "2023-07-15T00:28:47.877Z"
   },
   {
    "duration": 12,
    "start_time": "2023-07-15T00:28:47.886Z"
   },
   {
    "duration": 9,
    "start_time": "2023-07-15T00:28:47.900Z"
   },
   {
    "duration": 6,
    "start_time": "2023-07-15T00:28:47.911Z"
   },
   {
    "duration": 4209,
    "start_time": "2023-07-15T00:35:07.299Z"
   },
   {
    "duration": 145,
    "start_time": "2023-07-15T00:35:19.752Z"
   },
   {
    "duration": 2820,
    "start_time": "2023-07-15T00:35:36.909Z"
   },
   {
    "duration": 3122,
    "start_time": "2023-07-15T00:36:36.931Z"
   },
   {
    "duration": 157,
    "start_time": "2023-07-15T00:37:09.323Z"
   },
   {
    "duration": 2971,
    "start_time": "2023-07-15T00:37:10.939Z"
   },
   {
    "duration": 108,
    "start_time": "2023-07-15T00:38:23.389Z"
   },
   {
    "duration": 2772,
    "start_time": "2023-07-15T00:39:15.339Z"
   },
   {
    "duration": 2854,
    "start_time": "2023-07-15T00:39:23.805Z"
   },
   {
    "duration": 2973,
    "start_time": "2023-07-15T00:39:50.239Z"
   },
   {
    "duration": 3056,
    "start_time": "2023-07-15T00:39:58.545Z"
   },
   {
    "duration": 8018,
    "start_time": "2023-07-15T00:40:58.500Z"
   },
   {
    "duration": 12511,
    "start_time": "2023-07-15T00:41:15.823Z"
   },
   {
    "duration": 3003,
    "start_time": "2023-07-15T00:41:36.117Z"
   },
   {
    "duration": 107,
    "start_time": "2023-07-15T00:51:54.417Z"
   },
   {
    "duration": 21,
    "start_time": "2023-07-15T00:52:46.041Z"
   },
   {
    "duration": 8,
    "start_time": "2023-07-15T01:03:36.583Z"
   },
   {
    "duration": 7,
    "start_time": "2023-07-15T01:03:38.573Z"
   },
   {
    "duration": 7,
    "start_time": "2023-07-15T01:03:58.395Z"
   },
   {
    "duration": 9,
    "start_time": "2023-07-15T01:04:03.311Z"
   },
   {
    "duration": 16,
    "start_time": "2023-07-15T01:05:41.319Z"
   },
   {
    "duration": 16,
    "start_time": "2023-07-15T01:06:19.800Z"
   },
   {
    "duration": 12,
    "start_time": "2023-07-15T01:06:39.920Z"
   },
   {
    "duration": 12,
    "start_time": "2023-07-15T01:06:44.781Z"
   },
   {
    "duration": 14,
    "start_time": "2023-07-15T01:06:55.500Z"
   },
   {
    "duration": 126,
    "start_time": "2023-07-15T01:08:36.883Z"
   },
   {
    "duration": 13,
    "start_time": "2023-07-15T01:08:52.889Z"
   },
   {
    "duration": 17,
    "start_time": "2023-07-15T01:10:33.267Z"
   },
   {
    "duration": 11,
    "start_time": "2023-07-15T01:10:55.030Z"
   },
   {
    "duration": 14,
    "start_time": "2023-07-15T01:13:24.455Z"
   }
  ],
  "kernelspec": {
   "display_name": "Python 3 (ipykernel)",
   "language": "python",
   "name": "python3"
  },
  "language_info": {
   "codemirror_mode": {
    "name": "ipython",
    "version": 3
   },
   "file_extension": ".py",
   "mimetype": "text/x-python",
   "name": "python",
   "nbconvert_exporter": "python",
   "pygments_lexer": "ipython3",
   "version": "3.9.16"
  },
  "toc": {
   "base_numbering": 1,
   "nav_menu": {},
   "number_sections": true,
   "sideBar": true,
   "skip_h1_title": true,
   "title_cell": "Table of Contents",
   "title_sidebar": "Contents",
   "toc_cell": false,
   "toc_position": {},
   "toc_section_display": true,
   "toc_window_display": false
  }
 },
 "nbformat": 4,
 "nbformat_minor": 2
}
