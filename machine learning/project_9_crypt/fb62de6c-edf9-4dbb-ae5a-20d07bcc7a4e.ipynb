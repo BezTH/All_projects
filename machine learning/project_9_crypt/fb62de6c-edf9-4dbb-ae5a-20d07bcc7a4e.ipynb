{
 "cells": [
  {
   "cell_type": "markdown",
   "metadata": {},
   "source": [
    "# Защита персональных данных клиентов"
   ]
  },
  {
   "cell_type": "markdown",
   "metadata": {},
   "source": [
    "Вам нужно защитить данные клиентов страховой компании «Хоть потоп». Разработайте такой метод преобразования данных, чтобы по ним было сложно восстановить персональную информацию. Обоснуйте корректность его работы.\n",
    "\n",
    "Нужно защитить данные, чтобы при преобразовании качество моделей машинного обучения не ухудшилось. Подбирать наилучшую модель не требуется."
   ]
  },
  {
   "cell_type": "markdown",
   "metadata": {},
   "source": [
    "## Загрузка данных"
   ]
  },
  {
   "cell_type": "code",
   "execution_count": 1,
   "metadata": {},
   "outputs": [],
   "source": [
    "import pandas as pd\n",
    "import numpy as np\n",
    "import os\n",
    "from sklearn.metrics import r2_score"
   ]
  },
  {
   "cell_type": "code",
   "execution_count": 2,
   "metadata": {},
   "outputs": [],
   "source": [
    "pth1 = '/datasets/insurance.csv'\n",
    "pth2 = '/folder_2/data.csv'\n",
    "\n",
    "if os.path.exists(pth1):\n",
    "    df = pd.read_csv(pth1)\n",
    "elif os.path.exists(pth2):\n",
    "    df = pd.read_csv(pth2)\n",
    "else:\n",
    "    print('Something is wrong')"
   ]
  },
  {
   "cell_type": "code",
   "execution_count": 3,
   "metadata": {},
   "outputs": [
    {
     "name": "stdout",
     "output_type": "stream",
     "text": [
      "shape = (5000, 5)\n",
      "nan = 0\n",
      "dupl = 153\n",
      "\n",
      "<class 'pandas.core.frame.DataFrame'>\n",
      "RangeIndex: 5000 entries, 0 to 4999\n",
      "Data columns (total 5 columns):\n",
      " #   Column             Non-Null Count  Dtype  \n",
      "---  ------             --------------  -----  \n",
      " 0   Пол                5000 non-null   int64  \n",
      " 1   Возраст            5000 non-null   float64\n",
      " 2   Зарплата           5000 non-null   float64\n",
      " 3   Члены семьи        5000 non-null   int64  \n",
      " 4   Страховые выплаты  5000 non-null   int64  \n",
      "dtypes: float64(2), int64(3)\n",
      "memory usage: 195.4 KB\n",
      "None\n"
     ]
    },
    {
     "data": {
      "text/html": [
       "<div>\n",
       "<style scoped>\n",
       "    .dataframe tbody tr th:only-of-type {\n",
       "        vertical-align: middle;\n",
       "    }\n",
       "\n",
       "    .dataframe tbody tr th {\n",
       "        vertical-align: top;\n",
       "    }\n",
       "\n",
       "    .dataframe thead th {\n",
       "        text-align: right;\n",
       "    }\n",
       "</style>\n",
       "<table border=\"1\" class=\"dataframe\">\n",
       "  <thead>\n",
       "    <tr style=\"text-align: right;\">\n",
       "      <th></th>\n",
       "      <th>Пол</th>\n",
       "      <th>Возраст</th>\n",
       "      <th>Зарплата</th>\n",
       "      <th>Члены семьи</th>\n",
       "      <th>Страховые выплаты</th>\n",
       "    </tr>\n",
       "  </thead>\n",
       "  <tbody>\n",
       "    <tr>\n",
       "      <th>0</th>\n",
       "      <td>1</td>\n",
       "      <td>41.0</td>\n",
       "      <td>49600.0</td>\n",
       "      <td>1</td>\n",
       "      <td>0</td>\n",
       "    </tr>\n",
       "    <tr>\n",
       "      <th>1</th>\n",
       "      <td>0</td>\n",
       "      <td>46.0</td>\n",
       "      <td>38000.0</td>\n",
       "      <td>1</td>\n",
       "      <td>1</td>\n",
       "    </tr>\n",
       "    <tr>\n",
       "      <th>2</th>\n",
       "      <td>0</td>\n",
       "      <td>29.0</td>\n",
       "      <td>21000.0</td>\n",
       "      <td>0</td>\n",
       "      <td>0</td>\n",
       "    </tr>\n",
       "    <tr>\n",
       "      <th>3</th>\n",
       "      <td>0</td>\n",
       "      <td>21.0</td>\n",
       "      <td>41700.0</td>\n",
       "      <td>2</td>\n",
       "      <td>0</td>\n",
       "    </tr>\n",
       "    <tr>\n",
       "      <th>4</th>\n",
       "      <td>1</td>\n",
       "      <td>28.0</td>\n",
       "      <td>26100.0</td>\n",
       "      <td>0</td>\n",
       "      <td>0</td>\n",
       "    </tr>\n",
       "  </tbody>\n",
       "</table>\n",
       "</div>"
      ],
      "text/plain": [
       "   Пол  Возраст  Зарплата  Члены семьи  Страховые выплаты\n",
       "0    1     41.0   49600.0            1                  0\n",
       "1    0     46.0   38000.0            1                  1\n",
       "2    0     29.0   21000.0            0                  0\n",
       "3    0     21.0   41700.0            2                  0\n",
       "4    1     28.0   26100.0            0                  0"
      ]
     },
     "execution_count": 3,
     "metadata": {},
     "output_type": "execute_result"
    }
   ],
   "source": [
    "print('shape =', df.shape)\n",
    "print('nan =', df.isna().sum().sum())\n",
    "print('dupl =', df.duplicated().sum())\n",
    "print()\n",
    "print(df.info())\n",
    "\n",
    "df.head()"
   ]
  },
  {
   "cell_type": "markdown",
   "metadata": {},
   "source": [
    "**153 Дубликата. Остальное пока в порядке**"
   ]
  },
  {
   "cell_type": "markdown",
   "metadata": {},
   "source": [
    "### Предобработка данных."
   ]
  },
  {
   "cell_type": "code",
   "execution_count": 4,
   "metadata": {},
   "outputs": [
    {
     "name": "stdout",
     "output_type": "stream",
     "text": [
      "\n",
      "dupl = 0\n",
      "\n",
      "<class 'pandas.core.frame.DataFrame'>\n",
      "Int64Index: 4847 entries, 0 to 4999\n",
      "Data columns (total 5 columns):\n",
      " #   Column             Non-Null Count  Dtype\n",
      "---  ------             --------------  -----\n",
      " 0   Пол                4847 non-null   int64\n",
      " 1   Возраст            4847 non-null   int64\n",
      " 2   Зарплата           4847 non-null   int64\n",
      " 3   Члены семьи        4847 non-null   int64\n",
      " 4   Страховые выплаты  4847 non-null   int64\n",
      "dtypes: int64(5)\n",
      "memory usage: 227.2 KB\n"
     ]
    }
   ],
   "source": [
    "df[['Возраст', 'Зарплата']] = df[['Возраст', 'Зарплата']].astype(int)\n",
    "print()\n",
    "df.drop_duplicates(inplace=True)\n",
    "print('dupl =', df.duplicated().sum())\n",
    "print()\n",
    "\n",
    "df.info()"
   ]
  },
  {
   "cell_type": "code",
   "execution_count": 5,
   "metadata": {},
   "outputs": [
    {
     "name": "stdout",
     "output_type": "stream",
     "text": [
      "Index(['пол', 'возраст', 'зарплата', 'члены_семьи', 'страховые_выплаты'], dtype='object')\n"
     ]
    }
   ],
   "source": [
    "df.columns = map(str.lower, df.columns)\n",
    "df.columns = (df.columns.str.replace(' ', '_', regex=True))\n",
    "print(df.columns)"
   ]
  },
  {
   "cell_type": "markdown",
   "metadata": {},
   "source": [
    "**Колонки в питоний вид, дубли решил вынести, я не уверен, но думаю что подобные дубликаты могут негативно сказаться на обучении модели.**"
   ]
  },
  {
   "cell_type": "markdown",
   "metadata": {},
   "source": [
    "## Умножение матриц"
   ]
  },
  {
   "cell_type": "code",
   "execution_count": 6,
   "metadata": {},
   "outputs": [
    {
     "name": "stdout",
     "output_type": "stream",
     "text": [
      "[[1. 0. 0.]\n",
      " [0. 1. 0.]\n",
      " [0. 0. 1.]]\n",
      "[[ 0.68183124  1.53436836  1.        ]\n",
      " [ 0.65534382 -1.15896024  1.        ]\n",
      " [-0.21163314 -0.80787481  1.        ]]\n",
      "[-0.4333805697335855, 1.6208404420601161, -2.357305244087853]\n"
     ]
    }
   ],
   "source": [
    "X = []\n",
    "P = []\n",
    "for i in range(3):\n",
    "    row = []\n",
    "    row2 = []\n",
    "    for j in range(3):\n",
    "        row.append(np.random.normal())\n",
    "        row2.append(np.random.normal())\n",
    "    X.append(row)\n",
    "    P.append(row2)\n",
    "    \n",
    "X = np.array(X)\n",
    "P = np.array(P)\n",
    "np.linalg.inv(X)\n",
    "np.linalg.inv(P)\n",
    "\n",
    "y = []\n",
    "for i in range(3):\n",
    "    y.append(X[i][2])\n",
    "    X[i][2] = 1\n",
    "    \n",
    "E = np.eye(3)\n",
    "# Создаю единичную матрицу, две рандомных матрицы, у первой изымаю столбец признаков, заменяю их столбцом с единицами.\n",
    "print(E) \n",
    "print(X)\n",
    "print(y)"
   ]
  },
  {
   "cell_type": "code",
   "execution_count": 7,
   "metadata": {},
   "outputs": [],
   "source": [
    "# Раскрываем скобки с транспонированием по правилу (𝐴𝐵)𝑇=𝐵𝑇𝐴𝑇\n",
    "\n",
    "w1 = np.linalg.inv(P.T @ X.T @ X @ P) @ P.T @ X.T @ y\n",
    "\n",
    "# Далее выделим квадратные матрицы, поскольку только у квадратных могут быть обратные.\n",
    "# (𝑋.𝑇@𝑋) квадратная матрица,\n",
    "# 𝑃 и 𝑃.𝑇 по определению квадратные обратимые матрицы\n",
    "\n",
    "w1 = np.linalg.inv(P.T @ X.T @ X @ P) @ P.T @ X.T @ y\n",
    "\n",
    "# Раскроем скобки по правилу (𝐴𝐵)−1=𝐵−1𝐴−1\n",
    "\n",
    "w1 = np.linalg.inv(P) @ np.linalg.inv(X.T @ X) @ np.linalg.inv(P.T) @ P.T @ X.T @ y\n",
    "\n",
    "# Поскольку 𝐴−1𝐴=𝐸, а при умножении на единичную матрицу выражение не изменяется (𝐴𝐸=𝐸𝐴=𝐴), то\n",
    "\n",
    "w1 = np.linalg.inv(P) @ np.linalg.inv(X.T @ X) @ E @ X.T @ y\n",
    "w1 = np.linalg.inv(P) @ np.linalg.inv(X.T @ X) @ X.T @ y\n",
    "\n",
    "# Так как  𝑤=(𝑋𝑇𝑋)−1𝑋𝑇𝑦, то получаем связь весов\n",
    "\n",
    "w = np.linalg.inv(X.T @ X) @ X.T @ y\n",
    "\n",
    "w1 = np.linalg.inv(P) @ w\n",
    "\n",
    "# Подставляем получившееся выражение 𝑤1=𝑃−1𝑤 в фрмулу для предсказаний  𝑎1=𝑋𝑃𝑤1\n",
    "\n",
    "a1 = X @ P @ np.linalg.inv(P) @ w"
   ]
  },
  {
   "cell_type": "code",
   "execution_count": 8,
   "metadata": {},
   "outputs": [],
   "source": [
    "a = X @ np.array(w)"
   ]
  },
  {
   "cell_type": "code",
   "execution_count": 9,
   "metadata": {},
   "outputs": [
    {
     "data": {
      "text/plain": [
       "3"
      ]
     },
     "execution_count": 9,
     "metadata": {},
     "output_type": "execute_result"
    }
   ],
   "source": [
    "(np.round(a, 3) == np.round(a1, 3)).sum()"
   ]
  },
  {
   "cell_type": "markdown",
   "metadata": {},
   "source": [
    "**a равно а1.**"
   ]
  },
  {
   "cell_type": "markdown",
   "metadata": {},
   "source": [
    "## Изменится ли r2_score."
   ]
  },
  {
   "cell_type": "code",
   "execution_count": 10,
   "metadata": {},
   "outputs": [
    {
     "name": "stdout",
     "output_type": "stream",
     "text": [
      "0.4302010046633359\n"
     ]
    }
   ],
   "source": [
    "features = df.drop('страховые_выплаты', axis=1)\n",
    "target = df['страховые_выплаты']\n",
    "\n",
    "class LinearRegression:\n",
    "    def fit(self, train_features, train_target):\n",
    "        X = np.concatenate((np.ones((train_features.shape[0], 1)), train_features), axis=1)\n",
    "        y = train_target\n",
    "        w = np.linalg.inv(X.T @ X) @ X.T @ y\n",
    "        self.w = w[1:]\n",
    "        self.w0 = w[0]\n",
    "\n",
    "    def predict(self, test_features):\n",
    "        return test_features.dot(self.w) + self.w0\n",
    "    \n",
    "model = LinearRegression()\n",
    "model.fit(features, target)\n",
    "predictions = model.predict(features)\n",
    "print(r2_score(target, predictions))"
   ]
  },
  {
   "cell_type": "markdown",
   "metadata": {},
   "source": [
    "**Вычисляю исходный r2_score**"
   ]
  },
  {
   "cell_type": "code",
   "execution_count": 11,
   "metadata": {},
   "outputs": [
    {
     "name": "stdout",
     "output_type": "stream",
     "text": [
      "[[ 0.76610447  0.79149042  0.30868947  0.86341807]\n",
      " [ 0.80950502  1.44648183 -1.1899352   0.57094454]\n",
      " [-1.03018502  1.86672723 -0.93675535 -0.67259308]\n",
      " [ 0.8539778   1.55144047 -1.70310226  0.07521149]]\n"
     ]
    }
   ],
   "source": [
    "matrix = []\n",
    "for i in range(4):\n",
    "    row = []\n",
    "    for j in range(4):\n",
    "        row.append(np.random.normal())\n",
    "    matrix.append(row)\n",
    "matrix = np.array(matrix)\n",
    "print(matrix)"
   ]
  },
  {
   "cell_type": "code",
   "execution_count": 12,
   "metadata": {},
   "outputs": [
    {
     "data": {
      "text/plain": [
       "array([[ 1.07843635, -2.27561946, -0.32750709,  1.96555177],\n",
       "       [ 0.8603484 , -0.90494511,  0.39981077,  0.56830508],\n",
       "       [ 1.27836581, -1.81101548,  0.19357868,  0.80340053],\n",
       "       [-1.04441931,  3.49617314, -0.14511793, -2.55221358]])"
      ]
     },
     "execution_count": 12,
     "metadata": {},
     "output_type": "execute_result"
    }
   ],
   "source": [
    "np.linalg.inv(matrix)"
   ]
  },
  {
   "cell_type": "markdown",
   "metadata": {},
   "source": [
    "**Создаю матрицу рандомом подсказанным в теории, когда пытался указать цифры в цикле, даже через коунтер который немного изменял их, постоянно получалась необратимая матрица)) Пришлось рандом этот искать))**\n",
    "\n",
    "**Матрица обратимая, едем дальше.**"
   ]
  },
  {
   "cell_type": "code",
   "execution_count": 13,
   "metadata": {},
   "outputs": [],
   "source": [
    "m_features = features @ matrix # Умножаю датафрейм на обратимую матрицу."
   ]
  },
  {
   "cell_type": "code",
   "execution_count": 14,
   "metadata": {},
   "outputs": [
    {
     "name": "stdout",
     "output_type": "stream",
     "text": [
      "0.4302010046631788\n"
     ]
    }
   ],
   "source": [
    "model = LinearRegression()\n",
    "model.fit(m_features, target)\n",
    "predictions = model.predict(m_features)\n",
    "print(r2_score(target, predictions))"
   ]
  },
  {
   "cell_type": "markdown",
   "metadata": {},
   "source": [
    "**Ответ: r2_score не изменился..**\n",
    "\n",
    "**Обоснование: Я если честно в недоумении))**"
   ]
  },
  {
   "cell_type": "markdown",
   "metadata": {},
   "source": [
    "## Алгоритм преобразования"
   ]
  },
  {
   "cell_type": "markdown",
   "metadata": {},
   "source": [
    "**Алгоритм**\n",
    "\n",
    "Мы возьмём матрицу которая была результатом умножения нашего датафрейма на обратимую матрицу(m_features).\n",
    "Далее инвертируем нашу обратимую матрицу(matrix) и умножим m_features на inv(matrix).\n",
    "\n",
    "m_features = features @ matrix\n",
    "\n",
    "features = m_features @ inv(matrix)"
   ]
  },
  {
   "cell_type": "code",
   "execution_count": 15,
   "metadata": {},
   "outputs": [],
   "source": [
    "features_test = m_features @ np.linalg.inv(matrix)\n",
    "features_test = np.round(features_test)\n",
    "features_test = features_test.astype(int)"
   ]
  },
  {
   "cell_type": "code",
   "execution_count": 16,
   "metadata": {},
   "outputs": [
    {
     "data": {
      "text/html": [
       "<div>\n",
       "<style scoped>\n",
       "    .dataframe tbody tr th:only-of-type {\n",
       "        vertical-align: middle;\n",
       "    }\n",
       "\n",
       "    .dataframe tbody tr th {\n",
       "        vertical-align: top;\n",
       "    }\n",
       "\n",
       "    .dataframe thead th {\n",
       "        text-align: right;\n",
       "    }\n",
       "</style>\n",
       "<table border=\"1\" class=\"dataframe\">\n",
       "  <thead>\n",
       "    <tr style=\"text-align: right;\">\n",
       "      <th></th>\n",
       "      <th>0</th>\n",
       "      <th>1</th>\n",
       "      <th>2</th>\n",
       "      <th>3</th>\n",
       "    </tr>\n",
       "  </thead>\n",
       "  <tbody>\n",
       "    <tr>\n",
       "      <th>0</th>\n",
       "      <td>1</td>\n",
       "      <td>41</td>\n",
       "      <td>49600</td>\n",
       "      <td>1</td>\n",
       "    </tr>\n",
       "    <tr>\n",
       "      <th>1</th>\n",
       "      <td>0</td>\n",
       "      <td>46</td>\n",
       "      <td>38000</td>\n",
       "      <td>1</td>\n",
       "    </tr>\n",
       "    <tr>\n",
       "      <th>2</th>\n",
       "      <td>0</td>\n",
       "      <td>29</td>\n",
       "      <td>21000</td>\n",
       "      <td>0</td>\n",
       "    </tr>\n",
       "    <tr>\n",
       "      <th>3</th>\n",
       "      <td>0</td>\n",
       "      <td>21</td>\n",
       "      <td>41700</td>\n",
       "      <td>2</td>\n",
       "    </tr>\n",
       "    <tr>\n",
       "      <th>4</th>\n",
       "      <td>1</td>\n",
       "      <td>28</td>\n",
       "      <td>26100</td>\n",
       "      <td>0</td>\n",
       "    </tr>\n",
       "  </tbody>\n",
       "</table>\n",
       "</div>"
      ],
      "text/plain": [
       "   0   1      2  3\n",
       "0  1  41  49600  1\n",
       "1  0  46  38000  1\n",
       "2  0  29  21000  0\n",
       "3  0  21  41700  2\n",
       "4  1  28  26100  0"
      ]
     },
     "execution_count": 16,
     "metadata": {},
     "output_type": "execute_result"
    }
   ],
   "source": [
    "features_test.head()"
   ]
  },
  {
   "cell_type": "markdown",
   "metadata": {},
   "source": [
    "**Обоснование**\n",
    "\n",
    "Не меняется потому-что мы возвращаем данные в исходный вид."
   ]
  },
  {
   "cell_type": "markdown",
   "metadata": {},
   "source": [
    "## Проверка алгоритма"
   ]
  },
  {
   "cell_type": "markdown",
   "metadata": {},
   "source": [
    "### r2_score модели до преобразований."
   ]
  },
  {
   "cell_type": "code",
   "execution_count": 17,
   "metadata": {},
   "outputs": [
    {
     "name": "stdout",
     "output_type": "stream",
     "text": [
      "0.4302010046633359\n"
     ]
    }
   ],
   "source": [
    "model = LinearRegression()\n",
    "model.fit(features, target)\n",
    "predictions = model.predict(features)\n",
    "print(r2_score(target, predictions))"
   ]
  },
  {
   "cell_type": "markdown",
   "metadata": {},
   "source": [
    "### r2_score модели после умножения на обратимую матрицу."
   ]
  },
  {
   "cell_type": "code",
   "execution_count": 18,
   "metadata": {},
   "outputs": [
    {
     "name": "stdout",
     "output_type": "stream",
     "text": [
      "0.4302010046631788\n"
     ]
    }
   ],
   "source": [
    "model = LinearRegression()\n",
    "model.fit(m_features, target)\n",
    "predictions = model.predict(m_features)\n",
    "print(r2_score(target, predictions))"
   ]
  },
  {
   "cell_type": "markdown",
   "metadata": {},
   "source": [
    "### r2_score модели после обратного преобразования."
   ]
  },
  {
   "cell_type": "code",
   "execution_count": 19,
   "metadata": {},
   "outputs": [
    {
     "name": "stdout",
     "output_type": "stream",
     "text": [
      "0.4302010046633359\n"
     ]
    }
   ],
   "source": [
    "model = LinearRegression()\n",
    "model.fit(features_test, target)\n",
    "predictions = model.predict(features_test)\n",
    "print(r2_score(target, predictions))"
   ]
  },
  {
   "cell_type": "markdown",
   "metadata": {},
   "source": [
    "**Вывод**\n",
    "\n",
    "**Данные можно зашифровать рандомной обратимой матрицей и вернуть их в исходное положение, во время преобразований выводы линейной регрессии не изменяются.**\n",
    "\n",
    "**Также думаю стоит добавить что методом перебора такую матрицу-ключ подобрать очень проблематично и данные таким образом обладают некой степенью защиты.**"
   ]
  }
 ],
 "metadata": {
  "ExecuteTimeLog": [
   {
    "duration": 437,
    "start_time": "2023-09-07T14:54:57.595Z"
   },
   {
    "duration": 3,
    "start_time": "2023-09-07T14:55:05.016Z"
   },
   {
    "duration": 78,
    "start_time": "2023-09-07T14:56:32.912Z"
   },
   {
    "duration": 94,
    "start_time": "2023-09-07T14:56:41.107Z"
   },
   {
    "duration": 16,
    "start_time": "2023-09-07T14:56:47.514Z"
   },
   {
    "duration": 4,
    "start_time": "2023-09-07T14:58:19.036Z"
   },
   {
    "duration": 14,
    "start_time": "2023-09-07T14:58:25.823Z"
   },
   {
    "duration": 8,
    "start_time": "2023-09-07T14:58:30.920Z"
   },
   {
    "duration": 15,
    "start_time": "2023-09-07T14:58:40.156Z"
   },
   {
    "duration": 29,
    "start_time": "2023-09-07T15:00:33.178Z"
   },
   {
    "duration": 1558,
    "start_time": "2023-09-07T15:00:45.785Z"
   },
   {
    "duration": 8,
    "start_time": "2023-09-07T15:00:59.724Z"
   },
   {
    "duration": 10,
    "start_time": "2023-09-07T15:01:09.462Z"
   },
   {
    "duration": 16,
    "start_time": "2023-09-07T15:02:22.986Z"
   },
   {
    "duration": 10,
    "start_time": "2023-09-07T15:03:07.908Z"
   },
   {
    "duration": 7,
    "start_time": "2023-09-07T15:03:10.844Z"
   },
   {
    "duration": 21,
    "start_time": "2023-09-07T15:03:33.261Z"
   },
   {
    "duration": 21,
    "start_time": "2023-09-07T15:03:42.823Z"
   },
   {
    "duration": 4,
    "start_time": "2023-09-07T15:03:54.527Z"
   },
   {
    "duration": 12,
    "start_time": "2023-09-07T15:07:24.558Z"
   },
   {
    "duration": 8,
    "start_time": "2023-09-07T15:07:28.086Z"
   },
   {
    "duration": 10,
    "start_time": "2023-09-07T15:07:30.794Z"
   },
   {
    "duration": 8,
    "start_time": "2023-09-07T15:08:07.722Z"
   },
   {
    "duration": 9,
    "start_time": "2023-09-07T15:08:13.620Z"
   },
   {
    "duration": 8,
    "start_time": "2023-09-07T15:08:25.489Z"
   },
   {
    "duration": 8,
    "start_time": "2023-09-07T15:08:28.696Z"
   },
   {
    "duration": 7,
    "start_time": "2023-09-07T15:09:30.587Z"
   },
   {
    "duration": 7,
    "start_time": "2023-09-07T15:10:07.653Z"
   },
   {
    "duration": 7,
    "start_time": "2023-09-07T15:10:52.888Z"
   },
   {
    "duration": 15,
    "start_time": "2023-09-07T15:10:55.896Z"
   },
   {
    "duration": 8,
    "start_time": "2023-09-07T15:11:11.289Z"
   },
   {
    "duration": 3,
    "start_time": "2023-09-07T15:11:14.707Z"
   },
   {
    "duration": 32,
    "start_time": "2023-09-07T15:11:14.939Z"
   },
   {
    "duration": 18,
    "start_time": "2023-09-07T15:11:15.182Z"
   },
   {
    "duration": 8,
    "start_time": "2023-09-07T15:11:15.520Z"
   },
   {
    "duration": 13,
    "start_time": "2023-09-07T15:14:31.707Z"
   },
   {
    "duration": 14,
    "start_time": "2023-09-07T15:14:57.902Z"
   },
   {
    "duration": 27,
    "start_time": "2023-09-07T15:15:03.925Z"
   },
   {
    "duration": 70,
    "start_time": "2023-09-07T15:15:29.346Z"
   },
   {
    "duration": 81,
    "start_time": "2023-09-07T15:15:34.167Z"
   },
   {
    "duration": 21,
    "start_time": "2023-09-07T15:15:41.041Z"
   },
   {
    "duration": 22,
    "start_time": "2023-09-07T15:15:45.984Z"
   },
   {
    "duration": 21,
    "start_time": "2023-09-07T15:15:55.785Z"
   },
   {
    "duration": 20,
    "start_time": "2023-09-07T15:16:27.105Z"
   },
   {
    "duration": 21,
    "start_time": "2023-09-07T15:16:31.993Z"
   },
   {
    "duration": 24,
    "start_time": "2023-09-07T15:16:36.165Z"
   },
   {
    "duration": 20,
    "start_time": "2023-09-07T15:18:46.161Z"
   },
   {
    "duration": 15,
    "start_time": "2023-09-07T15:19:08.158Z"
   },
   {
    "duration": 10,
    "start_time": "2023-09-07T15:19:20.396Z"
   },
   {
    "duration": 15,
    "start_time": "2023-09-07T15:19:35.386Z"
   },
   {
    "duration": 17,
    "start_time": "2023-09-07T15:19:53.039Z"
   },
   {
    "duration": 3,
    "start_time": "2023-09-07T15:25:53.516Z"
   },
   {
    "duration": 28,
    "start_time": "2023-09-07T15:25:53.786Z"
   },
   {
    "duration": 31,
    "start_time": "2023-09-07T15:25:54.359Z"
   },
   {
    "duration": 16,
    "start_time": "2023-09-07T15:25:54.782Z"
   },
   {
    "duration": 8,
    "start_time": "2023-09-07T15:27:52.431Z"
   },
   {
    "duration": 10,
    "start_time": "2023-09-07T15:28:27.331Z"
   },
   {
    "duration": 8,
    "start_time": "2023-09-07T15:28:46.784Z"
   },
   {
    "duration": 7,
    "start_time": "2023-09-07T15:28:52.153Z"
   },
   {
    "duration": 11,
    "start_time": "2023-09-07T15:29:02.512Z"
   },
   {
    "duration": 8,
    "start_time": "2023-09-07T15:29:09.645Z"
   },
   {
    "duration": 10,
    "start_time": "2023-09-07T15:29:20.516Z"
   },
   {
    "duration": 3,
    "start_time": "2023-09-07T15:29:26.509Z"
   },
   {
    "duration": 34,
    "start_time": "2023-09-07T15:29:26.745Z"
   },
   {
    "duration": 20,
    "start_time": "2023-09-07T15:29:26.918Z"
   },
   {
    "duration": 18,
    "start_time": "2023-09-07T15:29:27.109Z"
   },
   {
    "duration": 8,
    "start_time": "2023-09-07T15:29:27.292Z"
   },
   {
    "duration": 4,
    "start_time": "2023-09-07T15:29:40.799Z"
   },
   {
    "duration": 9,
    "start_time": "2023-09-07T15:30:28.044Z"
   },
   {
    "duration": 11,
    "start_time": "2023-09-07T15:30:44.083Z"
   },
   {
    "duration": 9,
    "start_time": "2023-09-07T15:31:17.027Z"
   },
   {
    "duration": 10,
    "start_time": "2023-09-07T15:31:22.298Z"
   },
   {
    "duration": 10,
    "start_time": "2023-09-07T15:31:36.782Z"
   },
   {
    "duration": 9,
    "start_time": "2023-09-07T15:31:49.405Z"
   },
   {
    "duration": 10,
    "start_time": "2023-09-07T15:31:58.282Z"
   },
   {
    "duration": 8,
    "start_time": "2023-09-07T15:34:31.685Z"
   },
   {
    "duration": 9,
    "start_time": "2023-09-07T15:34:34.886Z"
   },
   {
    "duration": 4,
    "start_time": "2023-09-07T15:34:41.445Z"
   },
   {
    "duration": 4,
    "start_time": "2023-09-07T15:34:49.854Z"
   },
   {
    "duration": 413,
    "start_time": "2023-09-07T15:35:04.405Z"
   },
   {
    "duration": 31,
    "start_time": "2023-09-07T15:35:04.821Z"
   },
   {
    "duration": 88,
    "start_time": "2023-09-07T15:35:04.853Z"
   },
   {
    "duration": 0,
    "start_time": "2023-09-07T15:35:04.943Z"
   },
   {
    "duration": 0,
    "start_time": "2023-09-07T15:35:04.944Z"
   },
   {
    "duration": 0,
    "start_time": "2023-09-07T15:35:04.945Z"
   },
   {
    "duration": 396,
    "start_time": "2023-09-07T15:35:28.321Z"
   },
   {
    "duration": 31,
    "start_time": "2023-09-07T15:35:28.719Z"
   },
   {
    "duration": 33,
    "start_time": "2023-09-07T15:35:28.753Z"
   },
   {
    "duration": 17,
    "start_time": "2023-09-07T15:35:28.788Z"
   },
   {
    "duration": 3,
    "start_time": "2023-09-07T15:35:28.808Z"
   },
   {
    "duration": 17,
    "start_time": "2023-09-07T15:35:28.812Z"
   },
   {
    "duration": 93,
    "start_time": "2023-09-07T15:36:24.151Z"
   },
   {
    "duration": 10,
    "start_time": "2023-09-07T15:36:59.198Z"
   },
   {
    "duration": 4,
    "start_time": "2023-09-07T15:37:41.983Z"
   },
   {
    "duration": 5,
    "start_time": "2023-09-07T15:37:50.084Z"
   },
   {
    "duration": 6,
    "start_time": "2023-09-07T15:38:01.224Z"
   },
   {
    "duration": 17,
    "start_time": "2023-09-07T15:38:39.362Z"
   },
   {
    "duration": 408,
    "start_time": "2023-09-07T15:38:45.419Z"
   },
   {
    "duration": 30,
    "start_time": "2023-09-07T15:38:45.829Z"
   },
   {
    "duration": 37,
    "start_time": "2023-09-07T15:38:45.861Z"
   },
   {
    "duration": 20,
    "start_time": "2023-09-07T15:38:45.900Z"
   },
   {
    "duration": 5,
    "start_time": "2023-09-07T15:38:45.922Z"
   },
   {
    "duration": 11,
    "start_time": "2023-09-07T15:39:07.664Z"
   },
   {
    "duration": 876,
    "start_time": "2023-09-07T16:14:23.629Z"
   },
   {
    "duration": 120,
    "start_time": "2023-09-07T16:31:56.197Z"
   },
   {
    "duration": 80,
    "start_time": "2023-09-07T16:32:25.588Z"
   },
   {
    "duration": 49,
    "start_time": "2023-09-10T10:09:16.979Z"
   },
   {
    "duration": 7,
    "start_time": "2023-09-10T10:10:51.679Z"
   },
   {
    "duration": 6,
    "start_time": "2023-09-10T10:13:55.266Z"
   },
   {
    "duration": 10,
    "start_time": "2023-09-10T10:14:43.795Z"
   },
   {
    "duration": 7,
    "start_time": "2023-09-10T10:15:05.589Z"
   },
   {
    "duration": 5,
    "start_time": "2023-09-10T10:15:17.920Z"
   },
   {
    "duration": 4,
    "start_time": "2023-09-10T10:18:11.618Z"
   },
   {
    "duration": 4,
    "start_time": "2023-09-10T10:18:24.897Z"
   },
   {
    "duration": 4,
    "start_time": "2023-09-10T10:22:43.606Z"
   },
   {
    "duration": 4,
    "start_time": "2023-09-10T10:23:30.512Z"
   },
   {
    "duration": 7,
    "start_time": "2023-09-10T10:24:49.883Z"
   },
   {
    "duration": 6,
    "start_time": "2023-09-10T10:24:53.269Z"
   },
   {
    "duration": 1134,
    "start_time": "2023-09-10T10:24:58.155Z"
   },
   {
    "duration": 77,
    "start_time": "2023-09-10T10:24:59.291Z"
   },
   {
    "duration": 30,
    "start_time": "2023-09-10T10:24:59.370Z"
   },
   {
    "duration": 16,
    "start_time": "2023-09-10T10:24:59.402Z"
   },
   {
    "duration": 14,
    "start_time": "2023-09-10T10:24:59.420Z"
   },
   {
    "duration": 14,
    "start_time": "2023-09-10T10:25:00.041Z"
   },
   {
    "duration": 4,
    "start_time": "2023-09-10T10:25:00.244Z"
   },
   {
    "duration": 228,
    "start_time": "2023-09-10T10:25:00.410Z"
   },
   {
    "duration": 9,
    "start_time": "2023-09-10T10:25:05.579Z"
   },
   {
    "duration": 105,
    "start_time": "2023-09-10T10:25:11.079Z"
   },
   {
    "duration": 15,
    "start_time": "2023-09-10T10:32:37.180Z"
   },
   {
    "duration": 4,
    "start_time": "2023-09-10T10:32:40.457Z"
   },
   {
    "duration": 108,
    "start_time": "2023-09-10T10:32:42.102Z"
   },
   {
    "duration": 4,
    "start_time": "2023-09-10T10:32:48.213Z"
   },
   {
    "duration": 8,
    "start_time": "2023-09-10T10:33:55.657Z"
   },
   {
    "duration": 4,
    "start_time": "2023-09-10T10:34:00.816Z"
   },
   {
    "duration": 3,
    "start_time": "2023-09-10T10:34:07.195Z"
   },
   {
    "duration": 4,
    "start_time": "2023-09-10T10:34:08.486Z"
   },
   {
    "duration": 4,
    "start_time": "2023-09-10T10:34:09.239Z"
   },
   {
    "duration": 4,
    "start_time": "2023-09-10T10:34:09.859Z"
   },
   {
    "duration": 3,
    "start_time": "2023-09-10T10:34:10.568Z"
   },
   {
    "duration": 11,
    "start_time": "2023-09-10T10:35:32.216Z"
   },
   {
    "duration": 8,
    "start_time": "2023-09-10T10:36:12.307Z"
   },
   {
    "duration": 10,
    "start_time": "2023-09-10T10:36:42.767Z"
   },
   {
    "duration": 3,
    "start_time": "2023-09-10T10:36:49.340Z"
   },
   {
    "duration": 4,
    "start_time": "2023-09-10T10:36:56.822Z"
   },
   {
    "duration": 4,
    "start_time": "2023-09-10T10:37:08.297Z"
   },
   {
    "duration": 123,
    "start_time": "2023-09-10T10:37:13.857Z"
   },
   {
    "duration": 5,
    "start_time": "2023-09-10T10:38:12.327Z"
   },
   {
    "duration": 11,
    "start_time": "2023-09-10T10:38:13.656Z"
   },
   {
    "duration": 4,
    "start_time": "2023-09-10T10:40:04.615Z"
   },
   {
    "duration": 13,
    "start_time": "2023-09-10T10:40:08.738Z"
   },
   {
    "duration": 4,
    "start_time": "2023-09-10T10:40:32.621Z"
   },
   {
    "duration": 16,
    "start_time": "2023-09-10T10:40:34.340Z"
   },
   {
    "duration": 3,
    "start_time": "2023-09-10T10:40:34.771Z"
   },
   {
    "duration": 11,
    "start_time": "2023-09-10T10:41:50.516Z"
   },
   {
    "duration": 4,
    "start_time": "2023-09-10T10:41:54.260Z"
   },
   {
    "duration": 113,
    "start_time": "2023-09-10T10:41:54.630Z"
   },
   {
    "duration": 4,
    "start_time": "2023-09-10T10:45:10.640Z"
   },
   {
    "duration": 13,
    "start_time": "2023-09-10T10:45:21.118Z"
   },
   {
    "duration": 12,
    "start_time": "2023-09-10T10:46:59.797Z"
   },
   {
    "duration": 103,
    "start_time": "2023-09-10T10:48:24.099Z"
   },
   {
    "duration": 3,
    "start_time": "2023-09-10T10:49:01.717Z"
   },
   {
    "duration": 5,
    "start_time": "2023-09-10T10:49:11.025Z"
   },
   {
    "duration": 14,
    "start_time": "2023-09-10T10:49:18.379Z"
   },
   {
    "duration": 15,
    "start_time": "2023-09-10T10:51:04.076Z"
   },
   {
    "duration": 13,
    "start_time": "2023-09-10T10:52:22.362Z"
   },
   {
    "duration": 9,
    "start_time": "2023-09-10T10:52:51.074Z"
   },
   {
    "duration": 14,
    "start_time": "2023-09-10T10:53:09.808Z"
   },
   {
    "duration": 75,
    "start_time": "2023-09-10T10:53:14.973Z"
   },
   {
    "duration": 16,
    "start_time": "2023-09-10T10:53:22.975Z"
   },
   {
    "duration": 25,
    "start_time": "2023-09-10T10:53:25.419Z"
   },
   {
    "duration": 22,
    "start_time": "2023-09-10T10:53:30.740Z"
   },
   {
    "duration": 3,
    "start_time": "2023-09-10T10:53:34.722Z"
   },
   {
    "duration": 32,
    "start_time": "2023-09-10T10:53:34.954Z"
   },
   {
    "duration": 19,
    "start_time": "2023-09-10T10:53:35.184Z"
   },
   {
    "duration": 18,
    "start_time": "2023-09-10T10:53:35.460Z"
   },
   {
    "duration": 4,
    "start_time": "2023-09-10T10:53:35.876Z"
   },
   {
    "duration": 22,
    "start_time": "2023-09-10T10:53:37.857Z"
   },
   {
    "duration": 4,
    "start_time": "2023-09-10T10:53:38.835Z"
   },
   {
    "duration": 7,
    "start_time": "2023-09-10T10:53:40.935Z"
   },
   {
    "duration": 3,
    "start_time": "2023-09-10T10:53:41.565Z"
   },
   {
    "duration": 8,
    "start_time": "2023-09-10T10:53:42.189Z"
   },
   {
    "duration": 10,
    "start_time": "2023-09-10T10:53:47.057Z"
   },
   {
    "duration": 29,
    "start_time": "2023-09-10T10:53:49.020Z"
   },
   {
    "duration": 13,
    "start_time": "2023-09-10T10:53:51.962Z"
   },
   {
    "duration": 8,
    "start_time": "2023-09-10T10:53:56.721Z"
   },
   {
    "duration": 7,
    "start_time": "2023-09-10T10:56:26.598Z"
   },
   {
    "duration": 9,
    "start_time": "2023-09-10T10:56:28.025Z"
   },
   {
    "duration": 8,
    "start_time": "2023-09-10T10:56:31.532Z"
   },
   {
    "duration": 12,
    "start_time": "2023-09-10T10:56:36.306Z"
   },
   {
    "duration": 14,
    "start_time": "2023-09-10T10:56:43.941Z"
   },
   {
    "duration": 12,
    "start_time": "2023-09-10T10:56:46.458Z"
   },
   {
    "duration": 3,
    "start_time": "2023-09-10T10:56:57.491Z"
   },
   {
    "duration": 12,
    "start_time": "2023-09-10T10:56:59.479Z"
   },
   {
    "duration": 7,
    "start_time": "2023-09-10T10:57:21.492Z"
   },
   {
    "duration": 10,
    "start_time": "2023-09-10T10:57:39.700Z"
   },
   {
    "duration": 8,
    "start_time": "2023-09-10T10:57:46.521Z"
   },
   {
    "duration": 9,
    "start_time": "2023-09-10T10:58:13.796Z"
   },
   {
    "duration": 12,
    "start_time": "2023-09-10T10:58:15.588Z"
   },
   {
    "duration": 8,
    "start_time": "2023-09-10T10:58:15.930Z"
   },
   {
    "duration": 7,
    "start_time": "2023-09-10T10:58:18.912Z"
   },
   {
    "duration": 3,
    "start_time": "2023-09-10T11:10:37.850Z"
   },
   {
    "duration": 1066,
    "start_time": "2023-09-10T11:22:44.056Z"
   },
   {
    "duration": 30,
    "start_time": "2023-09-10T11:22:45.124Z"
   },
   {
    "duration": 27,
    "start_time": "2023-09-10T11:22:45.156Z"
   },
   {
    "duration": 16,
    "start_time": "2023-09-10T11:22:45.185Z"
   },
   {
    "duration": 4,
    "start_time": "2023-09-10T11:22:45.203Z"
   },
   {
    "duration": 41,
    "start_time": "2023-09-10T11:22:45.209Z"
   },
   {
    "duration": 98,
    "start_time": "2023-09-10T11:22:45.252Z"
   },
   {
    "duration": 9,
    "start_time": "2023-09-10T11:22:45.352Z"
   },
   {
    "duration": 5,
    "start_time": "2023-09-10T11:22:45.443Z"
   },
   {
    "duration": 102,
    "start_time": "2023-09-10T11:22:45.450Z"
   },
   {
    "duration": 96,
    "start_time": "2023-09-10T11:22:45.553Z"
   },
   {
    "duration": 99,
    "start_time": "2023-09-10T11:22:45.653Z"
   },
   {
    "duration": 14,
    "start_time": "2023-09-10T11:22:45.754Z"
   },
   {
    "duration": 7,
    "start_time": "2023-09-10T11:27:59.555Z"
   },
   {
    "duration": 10,
    "start_time": "2023-09-10T11:27:59.920Z"
   },
   {
    "duration": 7,
    "start_time": "2023-09-10T11:28:00.275Z"
   },
   {
    "duration": 10,
    "start_time": "2023-09-10T11:28:27.515Z"
   },
   {
    "duration": 7,
    "start_time": "2023-09-10T11:28:34.659Z"
   },
   {
    "duration": 1878,
    "start_time": "2023-09-10T13:31:10.731Z"
   },
   {
    "duration": 33,
    "start_time": "2023-09-10T13:31:12.611Z"
   },
   {
    "duration": 40,
    "start_time": "2023-09-10T13:31:12.646Z"
   },
   {
    "duration": 22,
    "start_time": "2023-09-10T13:31:12.688Z"
   },
   {
    "duration": 6,
    "start_time": "2023-09-10T13:31:12.713Z"
   },
   {
    "duration": 88,
    "start_time": "2023-09-10T13:31:12.721Z"
   },
   {
    "duration": 8,
    "start_time": "2023-09-10T13:31:12.812Z"
   },
   {
    "duration": 13,
    "start_time": "2023-09-10T13:31:12.910Z"
   },
   {
    "duration": 84,
    "start_time": "2023-09-10T13:31:12.926Z"
   },
   {
    "duration": 138,
    "start_time": "2023-09-10T13:31:13.014Z"
   },
   {
    "duration": 100,
    "start_time": "2023-09-10T13:31:13.210Z"
   },
   {
    "duration": 8,
    "start_time": "2023-09-10T13:31:13.312Z"
   },
   {
    "duration": 92,
    "start_time": "2023-09-10T13:31:13.322Z"
   },
   {
    "duration": 97,
    "start_time": "2023-09-10T13:31:13.417Z"
   },
   {
    "duration": 199,
    "start_time": "2023-09-10T13:31:13.517Z"
   },
   {
    "duration": 2044,
    "start_time": "2023-09-10T13:32:13.771Z"
   },
   {
    "duration": 32,
    "start_time": "2023-09-10T13:32:15.817Z"
   },
   {
    "duration": 30,
    "start_time": "2023-09-10T13:32:15.850Z"
   },
   {
    "duration": 17,
    "start_time": "2023-09-10T13:32:15.882Z"
   },
   {
    "duration": 12,
    "start_time": "2023-09-10T13:32:15.901Z"
   },
   {
    "duration": 19,
    "start_time": "2023-09-10T13:32:15.914Z"
   },
   {
    "duration": 8,
    "start_time": "2023-09-10T13:32:16.011Z"
   },
   {
    "duration": 10,
    "start_time": "2023-09-10T13:32:16.110Z"
   },
   {
    "duration": 5,
    "start_time": "2023-09-10T13:32:16.122Z"
   },
   {
    "duration": 89,
    "start_time": "2023-09-10T13:32:16.130Z"
   },
   {
    "duration": 93,
    "start_time": "2023-09-10T13:32:16.222Z"
   },
   {
    "duration": 194,
    "start_time": "2023-09-10T13:32:16.317Z"
   },
   {
    "duration": 139,
    "start_time": "2023-09-10T13:32:16.513Z"
   },
   {
    "duration": 188,
    "start_time": "2023-09-10T13:32:16.655Z"
   },
   {
    "duration": 163,
    "start_time": "2023-09-10T13:32:16.845Z"
   },
   {
    "duration": 1705,
    "start_time": "2023-09-10T18:57:16.967Z"
   },
   {
    "duration": 31,
    "start_time": "2023-09-10T18:57:18.674Z"
   },
   {
    "duration": 32,
    "start_time": "2023-09-10T18:57:18.707Z"
   },
   {
    "duration": 19,
    "start_time": "2023-09-10T18:57:18.741Z"
   },
   {
    "duration": 5,
    "start_time": "2023-09-10T18:57:18.761Z"
   },
   {
    "duration": 48,
    "start_time": "2023-09-10T18:57:18.767Z"
   },
   {
    "duration": 98,
    "start_time": "2023-09-10T18:57:18.817Z"
   },
   {
    "duration": 6,
    "start_time": "2023-09-10T18:57:18.917Z"
   },
   {
    "duration": 5,
    "start_time": "2023-09-10T18:57:19.011Z"
   },
   {
    "duration": 94,
    "start_time": "2023-09-10T18:57:19.019Z"
   },
   {
    "duration": 103,
    "start_time": "2023-09-10T18:57:19.115Z"
   },
   {
    "duration": 94,
    "start_time": "2023-09-10T18:57:19.221Z"
   },
   {
    "duration": 93,
    "start_time": "2023-09-10T18:57:19.318Z"
   },
   {
    "duration": 100,
    "start_time": "2023-09-10T18:57:19.413Z"
   },
   {
    "duration": 101,
    "start_time": "2023-09-10T18:57:19.516Z"
   },
   {
    "duration": 1694,
    "start_time": "2023-09-10T19:07:46.829Z"
   },
   {
    "duration": 30,
    "start_time": "2023-09-10T19:07:48.526Z"
   },
   {
    "duration": 38,
    "start_time": "2023-09-10T19:07:48.558Z"
   },
   {
    "duration": 14,
    "start_time": "2023-09-10T19:07:48.598Z"
   },
   {
    "duration": 5,
    "start_time": "2023-09-10T19:07:48.614Z"
   },
   {
    "duration": 90,
    "start_time": "2023-09-10T19:07:48.621Z"
   },
   {
    "duration": 95,
    "start_time": "2023-09-10T19:07:48.716Z"
   },
   {
    "duration": 8,
    "start_time": "2023-09-10T19:07:48.813Z"
   },
   {
    "duration": 4,
    "start_time": "2023-09-10T19:07:48.823Z"
   },
   {
    "duration": 86,
    "start_time": "2023-09-10T19:07:48.830Z"
   },
   {
    "duration": 7,
    "start_time": "2023-09-10T19:07:49.009Z"
   },
   {
    "duration": 92,
    "start_time": "2023-09-10T19:07:49.018Z"
   },
   {
    "duration": 12,
    "start_time": "2023-09-10T19:07:49.112Z"
   },
   {
    "duration": 102,
    "start_time": "2023-09-10T19:07:49.214Z"
   },
   {
    "duration": 98,
    "start_time": "2023-09-10T19:07:49.319Z"
   },
   {
    "duration": 1742,
    "start_time": "2023-09-10T19:08:10.392Z"
   },
   {
    "duration": 31,
    "start_time": "2023-09-10T19:08:12.136Z"
   },
   {
    "duration": 30,
    "start_time": "2023-09-10T19:08:12.169Z"
   },
   {
    "duration": 22,
    "start_time": "2023-09-10T19:08:12.567Z"
   },
   {
    "duration": 5,
    "start_time": "2023-09-10T19:08:12.592Z"
   },
   {
    "duration": 110,
    "start_time": "2023-09-10T19:08:12.599Z"
   },
   {
    "duration": 97,
    "start_time": "2023-09-10T19:08:12.712Z"
   },
   {
    "duration": 7,
    "start_time": "2023-09-10T19:08:12.813Z"
   },
   {
    "duration": 87,
    "start_time": "2023-09-10T19:08:12.822Z"
   },
   {
    "duration": 10,
    "start_time": "2023-09-10T19:08:12.912Z"
   },
   {
    "duration": 99,
    "start_time": "2023-09-10T19:08:13.011Z"
   },
   {
    "duration": 11,
    "start_time": "2023-09-10T19:08:13.112Z"
   },
   {
    "duration": 89,
    "start_time": "2023-09-10T19:08:13.125Z"
   },
   {
    "duration": 97,
    "start_time": "2023-09-10T19:08:13.217Z"
   },
   {
    "duration": 191,
    "start_time": "2023-09-10T19:08:13.317Z"
   },
   {
    "duration": 1199,
    "start_time": "2023-09-11T08:35:56.097Z"
   },
   {
    "duration": 87,
    "start_time": "2023-09-11T08:35:57.298Z"
   },
   {
    "duration": 28,
    "start_time": "2023-09-11T08:35:57.386Z"
   },
   {
    "duration": 16,
    "start_time": "2023-09-11T08:35:57.416Z"
   },
   {
    "duration": 4,
    "start_time": "2023-09-11T08:35:57.433Z"
   },
   {
    "duration": 107,
    "start_time": "2023-09-11T08:35:57.439Z"
   },
   {
    "duration": 96,
    "start_time": "2023-09-11T08:35:57.548Z"
   },
   {
    "duration": 6,
    "start_time": "2023-09-11T08:35:57.646Z"
   },
   {
    "duration": 5,
    "start_time": "2023-09-11T08:35:57.654Z"
   },
   {
    "duration": 88,
    "start_time": "2023-09-11T08:35:57.662Z"
   },
   {
    "duration": 93,
    "start_time": "2023-09-11T08:35:57.752Z"
   },
   {
    "duration": 97,
    "start_time": "2023-09-11T08:35:57.848Z"
   },
   {
    "duration": 11,
    "start_time": "2023-09-11T08:35:57.947Z"
   },
   {
    "duration": 101,
    "start_time": "2023-09-11T08:35:58.048Z"
   },
   {
    "duration": 96,
    "start_time": "2023-09-11T08:35:58.151Z"
   },
   {
    "duration": 6,
    "start_time": "2023-09-11T08:39:19.739Z"
   },
   {
    "duration": 5,
    "start_time": "2023-09-11T08:39:27.851Z"
   },
   {
    "duration": 91,
    "start_time": "2023-09-11T08:39:34.361Z"
   },
   {
    "duration": 5,
    "start_time": "2023-09-11T08:41:09.427Z"
   },
   {
    "duration": 6,
    "start_time": "2023-09-11T08:41:11.169Z"
   },
   {
    "duration": 5,
    "start_time": "2023-09-11T08:41:27.257Z"
   },
   {
    "duration": 13,
    "start_time": "2023-09-11T08:47:15.585Z"
   },
   {
    "duration": 6,
    "start_time": "2023-09-11T08:47:21.577Z"
   },
   {
    "duration": 83,
    "start_time": "2023-09-11T08:47:21.984Z"
   },
   {
    "duration": 96,
    "start_time": "2023-09-11T08:48:24.471Z"
   },
   {
    "duration": 3,
    "start_time": "2023-09-11T08:50:28.716Z"
   },
   {
    "duration": 77,
    "start_time": "2023-09-11T08:50:34.116Z"
   },
   {
    "duration": 91,
    "start_time": "2023-09-11T08:50:41.780Z"
   },
   {
    "duration": 10,
    "start_time": "2023-09-11T08:50:58.851Z"
   },
   {
    "duration": 10,
    "start_time": "2023-09-11T08:51:36.174Z"
   },
   {
    "duration": 4,
    "start_time": "2023-09-11T08:53:07.324Z"
   },
   {
    "duration": 6,
    "start_time": "2023-09-11T08:53:10.790Z"
   },
   {
    "duration": 523,
    "start_time": "2023-09-11T08:55:03.040Z"
   },
   {
    "duration": 8,
    "start_time": "2023-09-11T08:55:27.606Z"
   },
   {
    "duration": 16,
    "start_time": "2023-09-11T08:55:32.659Z"
   },
   {
    "duration": 467,
    "start_time": "2023-09-11T08:55:35.467Z"
   },
   {
    "duration": 499,
    "start_time": "2023-09-11T08:55:39.371Z"
   },
   {
    "duration": 333,
    "start_time": "2023-09-11T08:55:53.900Z"
   },
   {
    "duration": 247,
    "start_time": "2023-09-11T08:56:03.911Z"
   },
   {
    "duration": 13,
    "start_time": "2023-09-11T08:56:04.187Z"
   },
   {
    "duration": 5,
    "start_time": "2023-09-11T08:56:04.541Z"
   },
   {
    "duration": 25,
    "start_time": "2023-09-11T08:56:10.160Z"
   },
   {
    "duration": 8,
    "start_time": "2023-09-11T08:57:22.467Z"
   },
   {
    "duration": 6,
    "start_time": "2023-09-11T08:57:26.255Z"
   },
   {
    "duration": 22,
    "start_time": "2023-09-11T08:58:52.367Z"
   },
   {
    "duration": 11,
    "start_time": "2023-09-11T08:58:56.635Z"
   },
   {
    "duration": 11,
    "start_time": "2023-09-11T08:59:01.156Z"
   },
   {
    "duration": 11,
    "start_time": "2023-09-11T08:59:26.857Z"
   },
   {
    "duration": 6,
    "start_time": "2023-09-11T08:59:31.442Z"
   },
   {
    "duration": 12,
    "start_time": "2023-09-11T08:59:32.913Z"
   },
   {
    "duration": 11,
    "start_time": "2023-09-11T08:59:33.742Z"
   },
   {
    "duration": 10,
    "start_time": "2023-09-11T08:59:48.754Z"
   },
   {
    "duration": 8,
    "start_time": "2023-09-11T09:01:15.689Z"
   },
   {
    "duration": 12,
    "start_time": "2023-09-11T09:01:24.639Z"
   },
   {
    "duration": 9,
    "start_time": "2023-09-11T09:03:25.189Z"
   },
   {
    "duration": 12,
    "start_time": "2023-09-11T09:03:31.396Z"
   },
   {
    "duration": 15,
    "start_time": "2023-09-11T09:03:34.119Z"
   },
   {
    "duration": 3,
    "start_time": "2023-09-11T09:04:32.511Z"
   },
   {
    "duration": 8,
    "start_time": "2023-09-11T09:04:32.600Z"
   },
   {
    "duration": 10,
    "start_time": "2023-09-11T09:04:36.876Z"
   },
   {
    "duration": 5,
    "start_time": "2023-09-11T09:04:48.766Z"
   },
   {
    "duration": 4,
    "start_time": "2023-09-11T09:06:33.229Z"
   },
   {
    "duration": 4,
    "start_time": "2023-09-11T09:06:55.148Z"
   },
   {
    "duration": 11,
    "start_time": "2023-09-11T09:07:15.375Z"
   },
   {
    "duration": 12,
    "start_time": "2023-09-11T09:08:09.724Z"
   },
   {
    "duration": 6,
    "start_time": "2023-09-11T09:09:19.889Z"
   },
   {
    "duration": 14,
    "start_time": "2023-09-11T09:09:20.882Z"
   },
   {
    "duration": 12,
    "start_time": "2023-09-11T09:09:21.401Z"
   },
   {
    "duration": 171,
    "start_time": "2023-09-11T09:09:22.020Z"
   },
   {
    "duration": 13,
    "start_time": "2023-09-11T09:10:57.062Z"
   },
   {
    "duration": 12,
    "start_time": "2023-09-11T09:11:02.432Z"
   },
   {
    "duration": 3,
    "start_time": "2023-09-11T09:11:07.351Z"
   },
   {
    "duration": 5,
    "start_time": "2023-09-11T09:11:11.471Z"
   },
   {
    "duration": 12,
    "start_time": "2023-09-11T09:11:18.353Z"
   },
   {
    "duration": 525,
    "start_time": "2023-09-11T09:11:31.413Z"
   },
   {
    "duration": 3,
    "start_time": "2023-09-11T09:11:49.179Z"
   },
   {
    "duration": 4,
    "start_time": "2023-09-11T09:11:52.822Z"
   },
   {
    "duration": 8,
    "start_time": "2023-09-11T09:12:09.382Z"
   },
   {
    "duration": 3,
    "start_time": "2023-09-11T09:12:31.821Z"
   },
   {
    "duration": 4,
    "start_time": "2023-09-11T09:12:35.723Z"
   },
   {
    "duration": 8,
    "start_time": "2023-09-11T09:13:02.063Z"
   },
   {
    "duration": 525,
    "start_time": "2023-09-11T09:15:13.985Z"
   },
   {
    "duration": 15,
    "start_time": "2023-09-11T09:15:45.988Z"
   },
   {
    "duration": 10,
    "start_time": "2023-09-11T09:16:01.009Z"
   },
   {
    "duration": 4,
    "start_time": "2023-09-11T09:16:23.529Z"
   },
   {
    "duration": 6,
    "start_time": "2023-09-11T09:17:43.362Z"
   },
   {
    "duration": 10,
    "start_time": "2023-09-11T09:17:44.497Z"
   },
   {
    "duration": 8,
    "start_time": "2023-09-11T09:17:44.888Z"
   },
   {
    "duration": 7,
    "start_time": "2023-09-11T09:17:45.458Z"
   },
   {
    "duration": 5,
    "start_time": "2023-09-11T09:17:46.000Z"
   },
   {
    "duration": 10,
    "start_time": "2023-09-11T09:17:46.781Z"
   },
   {
    "duration": 10,
    "start_time": "2023-09-11T09:20:00.246Z"
   },
   {
    "duration": 7,
    "start_time": "2023-09-11T09:20:56.525Z"
   },
   {
    "duration": 6,
    "start_time": "2023-09-11T09:21:04.757Z"
   },
   {
    "duration": 10,
    "start_time": "2023-09-11T09:21:13.222Z"
   },
   {
    "duration": 11,
    "start_time": "2023-09-11T09:22:29.546Z"
   },
   {
    "duration": 4,
    "start_time": "2023-09-11T09:22:32.970Z"
   },
   {
    "duration": 3,
    "start_time": "2023-09-11T09:22:37.763Z"
   },
   {
    "duration": 7,
    "start_time": "2023-09-11T09:23:04.977Z"
   },
   {
    "duration": 4,
    "start_time": "2023-09-11T09:23:07.534Z"
   },
   {
    "duration": 5,
    "start_time": "2023-09-11T09:23:11.274Z"
   },
   {
    "duration": 4,
    "start_time": "2023-09-11T09:23:27.638Z"
   },
   {
    "duration": 5,
    "start_time": "2023-09-11T09:23:27.949Z"
   },
   {
    "duration": 7,
    "start_time": "2023-09-11T09:23:35.309Z"
   },
   {
    "duration": 4,
    "start_time": "2023-09-11T09:23:45.837Z"
   },
   {
    "duration": 5,
    "start_time": "2023-09-11T09:23:48.555Z"
   },
   {
    "duration": 1429,
    "start_time": "2023-09-11T09:25:30.638Z"
   },
   {
    "duration": 6,
    "start_time": "2023-09-11T09:25:51.652Z"
   },
   {
    "duration": 4,
    "start_time": "2023-09-11T09:26:25.968Z"
   },
   {
    "duration": 4,
    "start_time": "2023-09-11T09:26:28.457Z"
   },
   {
    "duration": 102,
    "start_time": "2023-09-11T09:27:15.159Z"
   },
   {
    "duration": 5,
    "start_time": "2023-09-11T09:27:24.763Z"
   },
   {
    "duration": 6,
    "start_time": "2023-09-11T09:27:50.409Z"
   },
   {
    "duration": 6,
    "start_time": "2023-09-11T09:28:20.286Z"
   },
   {
    "duration": 7,
    "start_time": "2023-09-11T09:28:20.523Z"
   },
   {
    "duration": 9,
    "start_time": "2023-09-11T09:28:20.867Z"
   },
   {
    "duration": 6,
    "start_time": "2023-09-11T09:28:21.124Z"
   },
   {
    "duration": 2,
    "start_time": "2023-09-11T09:28:21.674Z"
   },
   {
    "duration": 5,
    "start_time": "2023-09-11T09:28:22.226Z"
   },
   {
    "duration": 5,
    "start_time": "2023-09-11T09:28:51.533Z"
   },
   {
    "duration": 5,
    "start_time": "2023-09-11T09:29:24.289Z"
   },
   {
    "duration": 4,
    "start_time": "2023-09-11T09:29:24.785Z"
   },
   {
    "duration": 4,
    "start_time": "2023-09-11T09:30:19.378Z"
   },
   {
    "duration": 5,
    "start_time": "2023-09-11T09:30:25.397Z"
   },
   {
    "duration": 5,
    "start_time": "2023-09-11T09:31:13.659Z"
   },
   {
    "duration": 4,
    "start_time": "2023-09-11T09:31:22.069Z"
   },
   {
    "duration": 4,
    "start_time": "2023-09-11T09:31:28.256Z"
   },
   {
    "duration": 9,
    "start_time": "2023-09-11T09:33:03.164Z"
   },
   {
    "duration": 9,
    "start_time": "2023-09-11T09:33:09.697Z"
   },
   {
    "duration": 4,
    "start_time": "2023-09-11T09:33:14.992Z"
   },
   {
    "duration": 6,
    "start_time": "2023-09-11T09:33:33.895Z"
   },
   {
    "duration": 4,
    "start_time": "2023-09-11T09:33:42.705Z"
   },
   {
    "duration": 6,
    "start_time": "2023-09-11T09:33:50.677Z"
   },
   {
    "duration": 4,
    "start_time": "2023-09-11T09:33:57.206Z"
   },
   {
    "duration": 5,
    "start_time": "2023-09-11T09:33:58.353Z"
   },
   {
    "duration": 6,
    "start_time": "2023-09-11T09:34:13.466Z"
   },
   {
    "duration": 5,
    "start_time": "2023-09-11T09:34:30.475Z"
   },
   {
    "duration": 9,
    "start_time": "2023-09-11T09:35:07.432Z"
   },
   {
    "duration": 7,
    "start_time": "2023-09-11T09:35:27.453Z"
   },
   {
    "duration": 5,
    "start_time": "2023-09-11T09:35:30.458Z"
   },
   {
    "duration": 5,
    "start_time": "2023-09-11T09:35:41.677Z"
   },
   {
    "duration": 4,
    "start_time": "2023-09-11T09:36:48.077Z"
   },
   {
    "duration": 4,
    "start_time": "2023-09-11T09:37:10.767Z"
   },
   {
    "duration": 4,
    "start_time": "2023-09-11T09:37:11.572Z"
   },
   {
    "duration": 5,
    "start_time": "2023-09-11T09:38:22.768Z"
   },
   {
    "duration": 4,
    "start_time": "2023-09-11T09:38:37.119Z"
   },
   {
    "duration": 4,
    "start_time": "2023-09-11T09:38:50.240Z"
   },
   {
    "duration": 5,
    "start_time": "2023-09-11T09:38:55.918Z"
   },
   {
    "duration": 4,
    "start_time": "2023-09-11T09:39:13.694Z"
   },
   {
    "duration": 6,
    "start_time": "2023-09-11T09:39:54.673Z"
   },
   {
    "duration": 15,
    "start_time": "2023-09-11T09:39:54.996Z"
   },
   {
    "duration": 7,
    "start_time": "2023-09-11T09:39:55.637Z"
   },
   {
    "duration": 6,
    "start_time": "2023-09-11T09:39:56.470Z"
   },
   {
    "duration": 5,
    "start_time": "2023-09-11T09:40:08.922Z"
   },
   {
    "duration": 4,
    "start_time": "2023-09-11T09:40:20.061Z"
   },
   {
    "duration": 8,
    "start_time": "2023-09-11T09:45:52.807Z"
   },
   {
    "duration": 7,
    "start_time": "2023-09-11T09:45:58.317Z"
   },
   {
    "duration": 5,
    "start_time": "2023-09-11T09:46:06.230Z"
   },
   {
    "duration": 3,
    "start_time": "2023-09-11T09:47:29.010Z"
   },
   {
    "duration": 5,
    "start_time": "2023-09-11T09:47:30.423Z"
   },
   {
    "duration": 4,
    "start_time": "2023-09-11T09:47:37.017Z"
   },
   {
    "duration": 5,
    "start_time": "2023-09-11T09:47:44.643Z"
   },
   {
    "duration": 6,
    "start_time": "2023-09-11T09:47:51.474Z"
   },
   {
    "duration": 12,
    "start_time": "2023-09-11T09:47:51.883Z"
   },
   {
    "duration": 8,
    "start_time": "2023-09-11T09:47:52.642Z"
   },
   {
    "duration": 5,
    "start_time": "2023-09-11T09:47:55.293Z"
   },
   {
    "duration": 4,
    "start_time": "2023-09-11T09:48:00.194Z"
   },
   {
    "duration": 6,
    "start_time": "2023-09-11T09:48:01.614Z"
   },
   {
    "duration": 6,
    "start_time": "2023-09-11T09:48:08.037Z"
   },
   {
    "duration": 9,
    "start_time": "2023-09-11T09:48:08.328Z"
   },
   {
    "duration": 8,
    "start_time": "2023-09-11T09:48:08.661Z"
   },
   {
    "duration": 7,
    "start_time": "2023-09-11T09:48:09.792Z"
   },
   {
    "duration": 3,
    "start_time": "2023-09-11T09:48:22.629Z"
   },
   {
    "duration": 5,
    "start_time": "2023-09-11T09:48:43.547Z"
   },
   {
    "duration": 4,
    "start_time": "2023-09-11T09:48:44.646Z"
   },
   {
    "duration": 6,
    "start_time": "2023-09-11T09:50:26.953Z"
   },
   {
    "duration": 8,
    "start_time": "2023-09-11T09:50:27.496Z"
   },
   {
    "duration": 7,
    "start_time": "2023-09-11T09:50:27.763Z"
   },
   {
    "duration": 5,
    "start_time": "2023-09-11T09:50:28.439Z"
   },
   {
    "duration": 4,
    "start_time": "2023-09-11T09:50:29.182Z"
   },
   {
    "duration": 4,
    "start_time": "2023-09-11T09:50:38.208Z"
   },
   {
    "duration": 4,
    "start_time": "2023-09-11T09:50:38.848Z"
   },
   {
    "duration": 3,
    "start_time": "2023-09-11T09:54:29.849Z"
   },
   {
    "duration": 5,
    "start_time": "2023-09-11T09:54:30.679Z"
   },
   {
    "duration": 3,
    "start_time": "2023-09-11T09:54:35.390Z"
   },
   {
    "duration": 3,
    "start_time": "2023-09-11T09:54:36.152Z"
   },
   {
    "duration": 4,
    "start_time": "2023-09-11T09:54:36.590Z"
   },
   {
    "duration": 3,
    "start_time": "2023-09-11T09:54:52.987Z"
   },
   {
    "duration": 4,
    "start_time": "2023-09-11T09:54:53.344Z"
   },
   {
    "duration": 4,
    "start_time": "2023-09-11T09:54:55.282Z"
   },
   {
    "duration": 4,
    "start_time": "2023-09-11T09:54:59.936Z"
   },
   {
    "duration": 5,
    "start_time": "2023-09-11T09:55:13.888Z"
   },
   {
    "duration": 4,
    "start_time": "2023-09-11T09:55:22.016Z"
   },
   {
    "duration": 4,
    "start_time": "2023-09-11T09:55:34.615Z"
   },
   {
    "duration": 4,
    "start_time": "2023-09-11T09:55:41.642Z"
   },
   {
    "duration": 3,
    "start_time": "2023-09-11T09:55:44.719Z"
   },
   {
    "duration": 81,
    "start_time": "2023-09-11T09:55:54.414Z"
   },
   {
    "duration": 6,
    "start_time": "2023-09-11T09:55:59.289Z"
   },
   {
    "duration": 6,
    "start_time": "2023-09-11T09:56:26.379Z"
   },
   {
    "duration": 6,
    "start_time": "2023-09-11T09:57:14.375Z"
   },
   {
    "duration": 5,
    "start_time": "2023-09-11T09:58:43.166Z"
   },
   {
    "duration": 1040,
    "start_time": "2023-09-11T09:58:51.576Z"
   },
   {
    "duration": 29,
    "start_time": "2023-09-11T09:58:52.618Z"
   },
   {
    "duration": 27,
    "start_time": "2023-09-11T09:58:52.648Z"
   },
   {
    "duration": 15,
    "start_time": "2023-09-11T09:58:52.677Z"
   },
   {
    "duration": 4,
    "start_time": "2023-09-11T09:58:52.694Z"
   },
   {
    "duration": 7,
    "start_time": "2023-09-11T09:58:52.699Z"
   },
   {
    "duration": 136,
    "start_time": "2023-09-11T09:58:52.708Z"
   },
   {
    "duration": 100,
    "start_time": "2023-09-11T09:58:52.846Z"
   },
   {
    "duration": 98,
    "start_time": "2023-09-11T09:58:52.949Z"
   },
   {
    "duration": 5,
    "start_time": "2023-09-11T09:58:53.050Z"
   },
   {
    "duration": 4,
    "start_time": "2023-09-11T09:58:53.145Z"
   },
   {
    "duration": 5,
    "start_time": "2023-09-11T09:58:53.151Z"
   },
   {
    "duration": 7,
    "start_time": "2023-09-11T09:58:53.158Z"
   },
   {
    "duration": 83,
    "start_time": "2023-09-11T09:58:53.167Z"
   },
   {
    "duration": 7,
    "start_time": "2023-09-11T09:58:53.343Z"
   },
   {
    "duration": 96,
    "start_time": "2023-09-11T09:58:53.352Z"
   },
   {
    "duration": 15,
    "start_time": "2023-09-11T09:58:53.450Z"
   },
   {
    "duration": 100,
    "start_time": "2023-09-11T09:58:53.545Z"
   },
   {
    "duration": 96,
    "start_time": "2023-09-11T09:58:53.652Z"
   },
   {
    "duration": 96,
    "start_time": "2023-09-11T09:58:53.750Z"
   },
   {
    "duration": 13,
    "start_time": "2023-09-11T09:58:53.848Z"
   },
   {
    "duration": 183,
    "start_time": "2023-09-11T09:58:53.863Z"
   },
   {
    "duration": 100,
    "start_time": "2023-09-11T09:58:54.048Z"
   },
   {
    "duration": 1029,
    "start_time": "2023-09-11T10:03:21.581Z"
   },
   {
    "duration": 30,
    "start_time": "2023-09-11T10:03:22.612Z"
   },
   {
    "duration": 577,
    "start_time": "2023-09-11T10:03:22.643Z"
   },
   {
    "duration": 636,
    "start_time": "2023-09-11T10:03:23.222Z"
   },
   {
    "duration": 404,
    "start_time": "2023-09-11T10:03:23.860Z"
   },
   {
    "duration": 43,
    "start_time": "2023-09-11T10:03:24.266Z"
   },
   {
    "duration": 57,
    "start_time": "2023-09-11T10:03:24.310Z"
   },
   {
    "duration": 182,
    "start_time": "2023-09-11T10:03:24.369Z"
   },
   {
    "duration": 95,
    "start_time": "2023-09-11T10:03:24.553Z"
   },
   {
    "duration": 94,
    "start_time": "2023-09-11T10:03:24.652Z"
   },
   {
    "duration": 24,
    "start_time": "2023-09-11T10:03:24.747Z"
   },
   {
    "duration": 19,
    "start_time": "2023-09-11T10:03:24.772Z"
   },
   {
    "duration": 53,
    "start_time": "2023-09-11T10:03:24.793Z"
   },
   {
    "duration": 102,
    "start_time": "2023-09-11T10:03:24.848Z"
   },
   {
    "duration": 93,
    "start_time": "2023-09-11T10:03:24.953Z"
   },
   {
    "duration": 29,
    "start_time": "2023-09-11T10:03:25.047Z"
   },
   {
    "duration": 85,
    "start_time": "2023-09-11T10:03:25.078Z"
   },
   {
    "duration": 125,
    "start_time": "2023-09-11T10:03:25.165Z"
   },
   {
    "duration": 158,
    "start_time": "2023-09-11T10:03:25.292Z"
   },
   {
    "duration": 98,
    "start_time": "2023-09-11T10:03:25.452Z"
   },
   {
    "duration": 96,
    "start_time": "2023-09-11T10:03:25.552Z"
   },
   {
    "duration": 95,
    "start_time": "2023-09-11T10:03:25.650Z"
   },
   {
    "duration": 14,
    "start_time": "2023-09-11T10:03:25.747Z"
   },
   {
    "duration": 2020,
    "start_time": "2023-09-11T10:28:41.871Z"
   },
   {
    "duration": 75,
    "start_time": "2023-09-11T10:28:43.893Z"
   },
   {
    "duration": 27,
    "start_time": "2023-09-11T10:28:43.970Z"
   },
   {
    "duration": 34,
    "start_time": "2023-09-11T10:28:43.999Z"
   },
   {
    "duration": 22,
    "start_time": "2023-09-11T10:28:44.035Z"
   },
   {
    "duration": 32,
    "start_time": "2023-09-11T10:28:44.059Z"
   },
   {
    "duration": 35,
    "start_time": "2023-09-11T10:28:44.092Z"
   },
   {
    "duration": 116,
    "start_time": "2023-09-11T10:28:44.148Z"
   },
   {
    "duration": 178,
    "start_time": "2023-09-11T10:28:44.266Z"
   },
   {
    "duration": 4,
    "start_time": "2023-09-11T10:28:44.447Z"
   },
   {
    "duration": 29,
    "start_time": "2023-09-11T10:28:44.453Z"
   },
   {
    "duration": 28,
    "start_time": "2023-09-11T10:28:44.484Z"
   },
   {
    "duration": 32,
    "start_time": "2023-09-11T10:28:44.515Z"
   },
   {
    "duration": 102,
    "start_time": "2023-09-11T10:28:44.552Z"
   },
   {
    "duration": 102,
    "start_time": "2023-09-11T10:28:44.744Z"
   },
   {
    "duration": 20,
    "start_time": "2023-09-11T10:28:44.848Z"
   },
   {
    "duration": 5,
    "start_time": "2023-09-11T10:28:44.871Z"
   },
   {
    "duration": 71,
    "start_time": "2023-09-11T10:28:44.878Z"
   },
   {
    "duration": 93,
    "start_time": "2023-09-11T10:28:44.951Z"
   },
   {
    "duration": 105,
    "start_time": "2023-09-11T10:28:45.047Z"
   },
   {
    "duration": 16,
    "start_time": "2023-09-11T10:28:45.153Z"
   },
   {
    "duration": 75,
    "start_time": "2023-09-11T10:28:45.171Z"
   },
   {
    "duration": 103,
    "start_time": "2023-09-11T10:28:45.249Z"
   },
   {
    "duration": 8,
    "start_time": "2023-09-11T11:06:37.908Z"
   },
   {
    "duration": 4,
    "start_time": "2023-09-11T11:06:53.512Z"
   },
   {
    "duration": 116,
    "start_time": "2023-09-11T11:20:04.870Z"
   },
   {
    "duration": 6,
    "start_time": "2023-09-11T11:20:29.504Z"
   },
   {
    "duration": 10,
    "start_time": "2023-09-11T11:22:22.122Z"
   },
   {
    "duration": 13,
    "start_time": "2023-09-11T11:22:27.389Z"
   },
   {
    "duration": 9,
    "start_time": "2023-09-11T11:22:31.404Z"
   },
   {
    "duration": 5,
    "start_time": "2023-09-11T11:23:21.783Z"
   },
   {
    "duration": 4,
    "start_time": "2023-09-11T11:23:49.036Z"
   },
   {
    "duration": 3,
    "start_time": "2023-09-11T11:23:49.238Z"
   },
   {
    "duration": 4,
    "start_time": "2023-09-11T11:24:48.721Z"
   },
   {
    "duration": 4,
    "start_time": "2023-09-11T11:24:49.033Z"
   },
   {
    "duration": 5,
    "start_time": "2023-09-11T11:25:29.283Z"
   },
   {
    "duration": 4,
    "start_time": "2023-09-11T11:25:30.635Z"
   },
   {
    "duration": 4,
    "start_time": "2023-09-11T11:25:34.100Z"
   },
   {
    "duration": 3,
    "start_time": "2023-09-11T11:26:22.092Z"
   },
   {
    "duration": 3,
    "start_time": "2023-09-11T11:26:43.388Z"
   },
   {
    "duration": 5,
    "start_time": "2023-09-11T11:28:52.808Z"
   },
   {
    "duration": 6,
    "start_time": "2023-09-11T11:29:00.577Z"
   },
   {
    "duration": 3,
    "start_time": "2023-09-11T11:31:52.110Z"
   },
   {
    "duration": 3,
    "start_time": "2023-09-11T11:35:37.824Z"
   },
   {
    "duration": 11,
    "start_time": "2023-09-11T11:35:38.146Z"
   },
   {
    "duration": 4,
    "start_time": "2023-09-11T11:35:38.883Z"
   },
   {
    "duration": 10,
    "start_time": "2023-09-11T11:42:22.990Z"
   },
   {
    "duration": 10,
    "start_time": "2023-09-11T11:43:52.660Z"
   },
   {
    "duration": 5,
    "start_time": "2023-09-11T11:45:47.583Z"
   },
   {
    "duration": 7,
    "start_time": "2023-09-11T11:47:24.083Z"
   },
   {
    "duration": 6,
    "start_time": "2023-09-11T11:54:58.471Z"
   },
   {
    "duration": 4,
    "start_time": "2023-09-11T11:55:01.375Z"
   },
   {
    "duration": 4,
    "start_time": "2023-09-11T11:55:02.857Z"
   },
   {
    "duration": 4,
    "start_time": "2023-09-11T11:55:15.133Z"
   },
   {
    "duration": 12,
    "start_time": "2023-09-11T11:55:19.339Z"
   },
   {
    "duration": 5,
    "start_time": "2023-09-11T11:55:24.407Z"
   },
   {
    "duration": 4,
    "start_time": "2023-09-11T11:55:33.764Z"
   },
   {
    "duration": 4,
    "start_time": "2023-09-11T11:56:11.230Z"
   },
   {
    "duration": 5,
    "start_time": "2023-09-11T11:56:34.983Z"
   },
   {
    "duration": 5,
    "start_time": "2023-09-11T11:57:41.894Z"
   },
   {
    "duration": 4,
    "start_time": "2023-09-11T11:57:42.284Z"
   },
   {
    "duration": 3,
    "start_time": "2023-09-11T11:57:50.627Z"
   },
   {
    "duration": 4,
    "start_time": "2023-09-11T11:58:27.454Z"
   },
   {
    "duration": 5,
    "start_time": "2023-09-11T11:58:56.907Z"
   },
   {
    "duration": 3,
    "start_time": "2023-09-11T11:58:57.126Z"
   },
   {
    "duration": 3,
    "start_time": "2023-09-11T11:58:57.395Z"
   },
   {
    "duration": 3,
    "start_time": "2023-09-11T11:59:06.100Z"
   },
   {
    "duration": 3,
    "start_time": "2023-09-11T11:59:10.437Z"
   },
   {
    "duration": 4,
    "start_time": "2023-09-11T11:59:21.088Z"
   },
   {
    "duration": 4,
    "start_time": "2023-09-11T11:59:30.645Z"
   },
   {
    "duration": 6,
    "start_time": "2023-09-11T12:00:01.976Z"
   },
   {
    "duration": 3,
    "start_time": "2023-09-11T12:00:02.329Z"
   },
   {
    "duration": 5,
    "start_time": "2023-09-11T12:00:02.784Z"
   },
   {
    "duration": 5,
    "start_time": "2023-09-11T12:00:05.651Z"
   },
   {
    "duration": 4,
    "start_time": "2023-09-11T12:00:06.009Z"
   },
   {
    "duration": 6,
    "start_time": "2023-09-11T12:00:07.393Z"
   },
   {
    "duration": 3,
    "start_time": "2023-09-11T12:00:08.078Z"
   },
   {
    "duration": 4,
    "start_time": "2023-09-11T12:00:08.595Z"
   },
   {
    "duration": 11,
    "start_time": "2023-09-11T12:03:46.166Z"
   },
   {
    "duration": 8,
    "start_time": "2023-09-11T12:03:47.075Z"
   },
   {
    "duration": 4,
    "start_time": "2023-09-11T12:03:47.178Z"
   },
   {
    "duration": 4,
    "start_time": "2023-09-11T12:03:47.478Z"
   },
   {
    "duration": 6,
    "start_time": "2023-09-11T12:06:08.592Z"
   },
   {
    "duration": 5,
    "start_time": "2023-09-11T12:06:17.955Z"
   },
   {
    "duration": 3,
    "start_time": "2023-09-11T12:06:18.315Z"
   },
   {
    "duration": 5,
    "start_time": "2023-09-11T12:06:19.035Z"
   },
   {
    "duration": 1660,
    "start_time": "2023-09-11T22:29:38.723Z"
   },
   {
    "duration": 77,
    "start_time": "2023-09-11T22:29:40.385Z"
   },
   {
    "duration": 27,
    "start_time": "2023-09-11T22:29:40.464Z"
   },
   {
    "duration": 26,
    "start_time": "2023-09-11T22:29:40.493Z"
   },
   {
    "duration": 6,
    "start_time": "2023-09-11T22:29:40.521Z"
   },
   {
    "duration": 10,
    "start_time": "2023-09-11T22:29:40.529Z"
   },
   {
    "duration": 102,
    "start_time": "2023-09-11T22:29:40.549Z"
   },
   {
    "duration": 27,
    "start_time": "2023-09-11T22:29:40.652Z"
   },
   {
    "duration": 69,
    "start_time": "2023-09-11T22:29:40.682Z"
   },
   {
    "duration": 101,
    "start_time": "2023-09-11T22:29:40.755Z"
   },
   {
    "duration": 95,
    "start_time": "2023-09-11T22:29:40.858Z"
   },
   {
    "duration": 8,
    "start_time": "2023-09-11T22:29:40.955Z"
   },
   {
    "duration": 86,
    "start_time": "2023-09-11T22:29:40.964Z"
   },
   {
    "duration": 8,
    "start_time": "2023-09-11T22:29:41.051Z"
   },
   {
    "duration": 188,
    "start_time": "2023-09-11T22:29:41.062Z"
   },
   {
    "duration": 10,
    "start_time": "2023-09-11T22:29:41.252Z"
   },
   {
    "duration": 91,
    "start_time": "2023-09-11T22:29:41.264Z"
   },
   {
    "duration": 97,
    "start_time": "2023-09-11T22:29:41.358Z"
   },
   {
    "duration": 201,
    "start_time": "2023-09-11T22:29:41.457Z"
   },
   {
    "duration": 4,
    "start_time": "2023-09-11T22:32:34.840Z"
   },
   {
    "duration": 3,
    "start_time": "2023-09-11T22:37:49.900Z"
   },
   {
    "duration": 3,
    "start_time": "2023-09-11T22:37:55.774Z"
   },
   {
    "duration": 4,
    "start_time": "2023-09-11T22:40:34.975Z"
   },
   {
    "duration": 5,
    "start_time": "2023-09-11T22:53:26.451Z"
   },
   {
    "duration": 3,
    "start_time": "2023-09-11T22:53:33.982Z"
   }
  ],
  "kernelspec": {
   "display_name": "Python 3 (ipykernel)",
   "language": "python",
   "name": "python3"
  },
  "language_info": {
   "codemirror_mode": {
    "name": "ipython",
    "version": 3
   },
   "file_extension": ".py",
   "mimetype": "text/x-python",
   "name": "python",
   "nbconvert_exporter": "python",
   "pygments_lexer": "ipython3",
   "version": "3.9.16"
  },
  "toc": {
   "base_numbering": 1,
   "nav_menu": {},
   "number_sections": true,
   "sideBar": true,
   "skip_h1_title": true,
   "title_cell": "Содержание",
   "title_sidebar": "Contents",
   "toc_cell": true,
   "toc_position": {},
   "toc_section_display": true,
   "toc_window_display": true
  }
 },
 "nbformat": 4,
 "nbformat_minor": 2
}
