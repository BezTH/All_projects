{
 "cells": [
  {
   "cell_type": "markdown",
   "metadata": {},
   "source": [
    "#  Прогнозирование заказов такси"
   ]
  },
  {
   "cell_type": "markdown",
   "metadata": {},
   "source": [
    "Компания «Чётенькое такси» собрала исторические данные о заказах такси в аэропортах. Чтобы привлекать больше водителей в период пиковой нагрузки, нужно спрогнозировать количество заказов такси на следующий час. Постройте модель для такого предсказания.\n",
    "\n",
    "Значение метрики *RMSE* на тестовой выборке должно быть не больше 48.\n",
    "\n",
    "Вам нужно:\n",
    "\n",
    "1. Загрузить данные и выполнить их ресемплирование по одному часу.\n",
    "2. Проанализировать данные.\n",
    "3. Обучить разные модели с различными гиперпараметрами. Сделать тестовую выборку размером 10% от исходных данных.\n",
    "4. Проверить данные на тестовой выборке и сделать выводы.\n",
    "\n",
    "\n",
    "Данные лежат в файле `taxi.csv`. Количество заказов находится в столбце `num_orders` (от англ. *number of orders*, «число заказов»)."
   ]
  },
  {
   "cell_type": "markdown",
   "metadata": {},
   "source": [
    "Ход проекта:\n",
    "* Загрузка и знакомство с данными.\n",
    "* Предобработка данных.\n",
    "* Анализ данных\n",
    "* Настройка и обучение моделей.\n",
    "* Тест моделей."
   ]
  },
  {
   "cell_type": "markdown",
   "metadata": {},
   "source": [
    "## Подготовка"
   ]
  },
  {
   "cell_type": "code",
   "execution_count": 2,
   "metadata": {},
   "outputs": [],
   "source": [
    "import pandas as pd\n",
    "import seaborn as sns\n",
    "import warnings\n",
    "import os\n",
    "\n",
    "from sklearn.dummy import DummyRegressor\n",
    "from sklearn.model_selection import train_test_split, cross_val_score, GridSearchCV, TimeSeriesSplit\n",
    "from sklearn.linear_model import LinearRegression\n",
    "from lightgbm import LGBMRegressor\n",
    "from sklearn.metrics import mean_squared_error\n",
    "from catboost import CatBoostRegressor\n",
    "from statsmodels.tsa.seasonal import seasonal_decompose\n",
    "import matplotlib.pyplot as plt\n",
    "import numpy as np\n",
    "\n",
    "warnings.filterwarnings(\"ignore\")\n",
    "pd.set_option('display.max_columns', None)"
   ]
  },
  {
   "cell_type": "code",
   "execution_count": 3,
   "metadata": {},
   "outputs": [],
   "source": [
    "pth1 = '/datasets/taxi.csv'\n",
    "pth2 = '/folder_2/data.csv'\n",
    "\n",
    "if os.path.exists(pth1):\n",
    "    data = pd.read_csv(pth1, index_col=[0], parse_dates=[0])\n",
    "elif os.path.exists(pth2):\n",
    "    data = pd.read_csv(pth2, index_col=[0], parse_dates=[0])\n",
    "else:\n",
    "    print('Something is wrong')"
   ]
  },
  {
   "cell_type": "code",
   "execution_count": 4,
   "metadata": {},
   "outputs": [
    {
     "data": {
      "text/html": [
       "<div>\n",
       "<style scoped>\n",
       "    .dataframe tbody tr th:only-of-type {\n",
       "        vertical-align: middle;\n",
       "    }\n",
       "\n",
       "    .dataframe tbody tr th {\n",
       "        vertical-align: top;\n",
       "    }\n",
       "\n",
       "    .dataframe thead th {\n",
       "        text-align: right;\n",
       "    }\n",
       "</style>\n",
       "<table border=\"1\" class=\"dataframe\">\n",
       "  <thead>\n",
       "    <tr style=\"text-align: right;\">\n",
       "      <th></th>\n",
       "      <th>num_orders</th>\n",
       "    </tr>\n",
       "    <tr>\n",
       "      <th>datetime</th>\n",
       "      <th></th>\n",
       "    </tr>\n",
       "  </thead>\n",
       "  <tbody>\n",
       "    <tr>\n",
       "      <th>2018-03-01 00:00:00</th>\n",
       "      <td>9</td>\n",
       "    </tr>\n",
       "    <tr>\n",
       "      <th>2018-03-01 00:10:00</th>\n",
       "      <td>14</td>\n",
       "    </tr>\n",
       "    <tr>\n",
       "      <th>2018-03-01 00:20:00</th>\n",
       "      <td>28</td>\n",
       "    </tr>\n",
       "    <tr>\n",
       "      <th>2018-03-01 00:30:00</th>\n",
       "      <td>20</td>\n",
       "    </tr>\n",
       "    <tr>\n",
       "      <th>2018-03-01 00:40:00</th>\n",
       "      <td>32</td>\n",
       "    </tr>\n",
       "  </tbody>\n",
       "</table>\n",
       "</div>"
      ],
      "text/plain": [
       "                     num_orders\n",
       "datetime                       \n",
       "2018-03-01 00:00:00           9\n",
       "2018-03-01 00:10:00          14\n",
       "2018-03-01 00:20:00          28\n",
       "2018-03-01 00:30:00          20\n",
       "2018-03-01 00:40:00          32"
      ]
     },
     "execution_count": 4,
     "metadata": {},
     "output_type": "execute_result"
    }
   ],
   "source": [
    "data.head()"
   ]
  },
  {
   "cell_type": "code",
   "execution_count": 5,
   "metadata": {},
   "outputs": [
    {
     "data": {
      "text/html": [
       "<div>\n",
       "<style scoped>\n",
       "    .dataframe tbody tr th:only-of-type {\n",
       "        vertical-align: middle;\n",
       "    }\n",
       "\n",
       "    .dataframe tbody tr th {\n",
       "        vertical-align: top;\n",
       "    }\n",
       "\n",
       "    .dataframe thead th {\n",
       "        text-align: right;\n",
       "    }\n",
       "</style>\n",
       "<table border=\"1\" class=\"dataframe\">\n",
       "  <thead>\n",
       "    <tr style=\"text-align: right;\">\n",
       "      <th></th>\n",
       "      <th>num_orders</th>\n",
       "    </tr>\n",
       "    <tr>\n",
       "      <th>datetime</th>\n",
       "      <th></th>\n",
       "    </tr>\n",
       "  </thead>\n",
       "  <tbody>\n",
       "    <tr>\n",
       "      <th>2018-08-31 23:10:00</th>\n",
       "      <td>32</td>\n",
       "    </tr>\n",
       "    <tr>\n",
       "      <th>2018-08-31 23:20:00</th>\n",
       "      <td>24</td>\n",
       "    </tr>\n",
       "    <tr>\n",
       "      <th>2018-08-31 23:30:00</th>\n",
       "      <td>27</td>\n",
       "    </tr>\n",
       "    <tr>\n",
       "      <th>2018-08-31 23:40:00</th>\n",
       "      <td>39</td>\n",
       "    </tr>\n",
       "    <tr>\n",
       "      <th>2018-08-31 23:50:00</th>\n",
       "      <td>53</td>\n",
       "    </tr>\n",
       "  </tbody>\n",
       "</table>\n",
       "</div>"
      ],
      "text/plain": [
       "                     num_orders\n",
       "datetime                       \n",
       "2018-08-31 23:10:00          32\n",
       "2018-08-31 23:20:00          24\n",
       "2018-08-31 23:30:00          27\n",
       "2018-08-31 23:40:00          39\n",
       "2018-08-31 23:50:00          53"
      ]
     },
     "execution_count": 5,
     "metadata": {},
     "output_type": "execute_result"
    }
   ],
   "source": [
    "data.tail()"
   ]
  },
  {
   "cell_type": "code",
   "execution_count": 6,
   "metadata": {},
   "outputs": [
    {
     "name": "stdout",
     "output_type": "stream",
     "text": [
      "<class 'pandas.core.frame.DataFrame'>\n",
      "DatetimeIndex: 26496 entries, 2018-03-01 00:00:00 to 2018-08-31 23:50:00\n",
      "Data columns (total 1 columns):\n",
      " #   Column      Non-Null Count  Dtype\n",
      "---  ------      --------------  -----\n",
      " 0   num_orders  26496 non-null  int64\n",
      "dtypes: int64(1)\n",
      "memory usage: 414.0 KB\n",
      "None\n",
      "\n",
      "Количество пропущенных: num_orders    0\n",
      "dtype: int64\n",
      "\n",
      "Размер сета: (26496, 1)\n"
     ]
    }
   ],
   "source": [
    "print(data.info())\n",
    "print()\n",
    "print('Количество пропущенных:', data.isna().sum())\n",
    "print()\n",
    "#print('Количество дубликатов:', data.duplicated().sum())\n",
    "#print() Количество дубликатов пишет практически равным сету.\n",
    "print('Размер сета:', data.shape)"
   ]
  },
  {
   "cell_type": "code",
   "execution_count": 7,
   "metadata": {},
   "outputs": [
    {
     "data": {
      "image/png": "[encoded data removed]",
      "text/plain": [
       "<Figure size 1080x360 with 1 Axes>"
      ]
     },
     "metadata": {},
     "output_type": "display_data"
    }
   ],
   "source": [
    "sns.set(rc={'figure.figsize':(15,5)})\n",
    "sns.boxplot(data['num_orders']).set_title('Количество заказов.');"
   ]
  },
  {
   "cell_type": "markdown",
   "metadata": {},
   "source": [
    "### Промежуточный вывод"
   ]
  },
  {
   "cell_type": "markdown",
   "metadata": {},
   "source": [
    "**Данные в порядке**"
   ]
  },
  {
   "cell_type": "markdown",
   "metadata": {},
   "source": [
    "## Предобработка данных."
   ]
  },
  {
   "cell_type": "code",
   "execution_count": 8,
   "metadata": {},
   "outputs": [],
   "source": [
    "data.sort_index(inplace=True)\n",
    "data = data.resample('1H').sum()"
   ]
  },
  {
   "cell_type": "code",
   "execution_count": 9,
   "metadata": {},
   "outputs": [],
   "source": [
    "def make_features(data, max_lag, rolling_mean_size):\n",
    "    data['hour'] = data.index.hour\n",
    "    data['dayofweek'] = data.index.dayofweek\n",
    "    \n",
    "    for lag in range(1, max_lag + 1):\n",
    "        data['lag_{}'.format(lag)] = data['num_orders'].shift(lag)\n",
    "\n",
    "    data['rolling_mean'] = data['num_orders'].shift().rolling(rolling_mean_size).mean()\n",
    "    return data"
   ]
  },
  {
   "cell_type": "code",
   "execution_count": 10,
   "metadata": {},
   "outputs": [
    {
     "data": {
      "text/html": [
       "<div>\n",
       "<style scoped>\n",
       "    .dataframe tbody tr th:only-of-type {\n",
       "        vertical-align: middle;\n",
       "    }\n",
       "\n",
       "    .dataframe tbody tr th {\n",
       "        vertical-align: top;\n",
       "    }\n",
       "\n",
       "    .dataframe thead th {\n",
       "        text-align: right;\n",
       "    }\n",
       "</style>\n",
       "<table border=\"1\" class=\"dataframe\">\n",
       "  <thead>\n",
       "    <tr style=\"text-align: right;\">\n",
       "      <th></th>\n",
       "      <th>num_orders</th>\n",
       "    </tr>\n",
       "    <tr>\n",
       "      <th>datetime</th>\n",
       "      <th></th>\n",
       "    </tr>\n",
       "  </thead>\n",
       "  <tbody>\n",
       "    <tr>\n",
       "      <th>2018-03-01 00:00:00</th>\n",
       "      <td>124</td>\n",
       "    </tr>\n",
       "    <tr>\n",
       "      <th>2018-03-01 01:00:00</th>\n",
       "      <td>85</td>\n",
       "    </tr>\n",
       "    <tr>\n",
       "      <th>2018-03-01 02:00:00</th>\n",
       "      <td>71</td>\n",
       "    </tr>\n",
       "    <tr>\n",
       "      <th>2018-03-01 03:00:00</th>\n",
       "      <td>66</td>\n",
       "    </tr>\n",
       "    <tr>\n",
       "      <th>2018-03-01 04:00:00</th>\n",
       "      <td>43</td>\n",
       "    </tr>\n",
       "  </tbody>\n",
       "</table>\n",
       "</div>"
      ],
      "text/plain": [
       "                     num_orders\n",
       "datetime                       \n",
       "2018-03-01 00:00:00         124\n",
       "2018-03-01 01:00:00          85\n",
       "2018-03-01 02:00:00          71\n",
       "2018-03-01 03:00:00          66\n",
       "2018-03-01 04:00:00          43"
      ]
     },
     "execution_count": 10,
     "metadata": {},
     "output_type": "execute_result"
    }
   ],
   "source": [
    "data.head()"
   ]
  },
  {
   "cell_type": "markdown",
   "metadata": {},
   "source": [
    "### Промежуточный вывод"
   ]
  },
  {
   "cell_type": "markdown",
   "metadata": {},
   "source": [
    "* **Провели ресемплирование по одному часу**\n",
    "* **Настроили временной сдвиг, добавили скользящее среднее по 24 часа, выбросили пропуски.**"
   ]
  },
  {
   "cell_type": "markdown",
   "metadata": {},
   "source": [
    "## Анализ"
   ]
  },
  {
   "cell_type": "code",
   "execution_count": 11,
   "metadata": {},
   "outputs": [
    {
     "data": {
      "image/png": "[encoded data removed]",
      "text/plain": [
       "<Figure size 1080x360 with 1 Axes>"
      ]
     },
     "metadata": {},
     "output_type": "display_data"
    }
   ],
   "source": [
    "data2 = data.copy()\n",
    "data2['rolling_mean'] = data.rolling(24).mean()\n",
    "data2.plot(title='Скользящая средняя');"
   ]
  },
  {
   "cell_type": "code",
   "execution_count": 12,
   "metadata": {},
   "outputs": [
    {
     "data": {
      "text/html": [
       "<div>\n",
       "<style scoped>\n",
       "    .dataframe tbody tr th:only-of-type {\n",
       "        vertical-align: middle;\n",
       "    }\n",
       "\n",
       "    .dataframe tbody tr th {\n",
       "        vertical-align: top;\n",
       "    }\n",
       "\n",
       "    .dataframe thead th {\n",
       "        text-align: right;\n",
       "    }\n",
       "</style>\n",
       "<table border=\"1\" class=\"dataframe\">\n",
       "  <thead>\n",
       "    <tr style=\"text-align: right;\">\n",
       "      <th></th>\n",
       "      <th>num_orders</th>\n",
       "    </tr>\n",
       "    <tr>\n",
       "      <th>datetime</th>\n",
       "      <th></th>\n",
       "    </tr>\n",
       "  </thead>\n",
       "  <tbody>\n",
       "    <tr>\n",
       "      <th>2018-03-01 00:00:00</th>\n",
       "      <td>124</td>\n",
       "    </tr>\n",
       "    <tr>\n",
       "      <th>2018-03-01 01:00:00</th>\n",
       "      <td>85</td>\n",
       "    </tr>\n",
       "    <tr>\n",
       "      <th>2018-03-01 02:00:00</th>\n",
       "      <td>71</td>\n",
       "    </tr>\n",
       "    <tr>\n",
       "      <th>2018-03-01 03:00:00</th>\n",
       "      <td>66</td>\n",
       "    </tr>\n",
       "    <tr>\n",
       "      <th>2018-03-01 04:00:00</th>\n",
       "      <td>43</td>\n",
       "    </tr>\n",
       "  </tbody>\n",
       "</table>\n",
       "</div>"
      ],
      "text/plain": [
       "                     num_orders\n",
       "datetime                       \n",
       "2018-03-01 00:00:00         124\n",
       "2018-03-01 01:00:00          85\n",
       "2018-03-01 02:00:00          71\n",
       "2018-03-01 03:00:00          66\n",
       "2018-03-01 04:00:00          43"
      ]
     },
     "execution_count": 12,
     "metadata": {},
     "output_type": "execute_result"
    }
   ],
   "source": [
    "data.head()"
   ]
  },
  {
   "cell_type": "code",
   "execution_count": 13,
   "metadata": {},
   "outputs": [
    {
     "data": {
      "image/png": "[encoded data removed]",
      "text/plain": [
       "<Figure size 1080x360 with 1 Axes>"
      ]
     },
     "metadata": {},
     "output_type": "display_data"
    }
   ],
   "source": [
    "decomposed = seasonal_decompose(data)\n",
    "decomposed.trend.plot(title='Тренд по месяцам');"
   ]
  },
  {
   "cell_type": "code",
   "execution_count": 14,
   "metadata": {},
   "outputs": [
    {
     "data": {
      "image/png": "[encoded data removed]",
      "text/plain": [
       "<Figure size 1080x360 with 1 Axes>"
      ]
     },
     "metadata": {},
     "output_type": "display_data"
    }
   ],
   "source": [
    "decomposed = seasonal_decompose(data['2018-03-5':'2018-03-7'])\n",
    "decomposed.seasonal.plot(title='Сезонность по часам');"
   ]
  },
  {
   "cell_type": "markdown",
   "metadata": {},
   "source": [
    "* **Тренд показывает что заказов с каждым месяцем становится всё больше.**\n",
    "* **Сезонность по часам показывает как меняется количество заказов в течении суток, от максимального количества заказов вечером до минимального количества утром.**"
   ]
  },
  {
   "cell_type": "markdown",
   "metadata": {},
   "source": [
    "## Обучение"
   ]
  },
  {
   "cell_type": "code",
   "execution_count": 15,
   "metadata": {},
   "outputs": [],
   "source": [
    "df = make_features(data, 24, 24).dropna()\n",
    "\n",
    "train, test = train_test_split(df, shuffle=False, test_size=0.1)\n",
    "\n",
    "X_train = train.drop('num_orders', axis=1)\n",
    "y_train = train['num_orders']\n",
    "\n",
    "X_test = test.drop('num_orders', axis=1)\n",
    "y_test = test['num_orders']"
   ]
  },
  {
   "cell_type": "code",
   "execution_count": 16,
   "metadata": {},
   "outputs": [],
   "source": [
    "tscv = TimeSeriesSplit(n_splits=3)"
   ]
  },
  {
   "cell_type": "markdown",
   "metadata": {},
   "source": [
    "### LinearRegression"
   ]
  },
  {
   "cell_type": "code",
   "execution_count": 17,
   "metadata": {},
   "outputs": [
    {
     "name": "stdout",
     "output_type": "stream",
     "text": [
      "CPU times: user 19.3 ms, sys: 4.67 ms, total: 24 ms\n",
      "Wall time: 15.9 ms\n"
     ]
    },
    {
     "data": {
      "text/html": [
       "<style>#sk-container-id-1 {color: black;background-color: white;}#sk-container-id-1 pre{padding: 0;}#sk-container-id-1 div.sk-toggleable {background-color: white;}#sk-container-id-1 label.sk-toggleable__label {cursor: pointer;display: block;width: 100%;margin-bottom: 0;padding: 0.3em;box-sizing: border-box;text-align: center;}#sk-container-id-1 label.sk-toggleable__label-arrow:before {content: \"▸\";float: left;margin-right: 0.25em;color: #696969;}#sk-container-id-1 label.sk-toggleable__label-arrow:hover:before {color: black;}#sk-container-id-1 div.sk-estimator:hover label.sk-toggleable__label-arrow:before {color: black;}#sk-container-id-1 div.sk-toggleable__content {max-height: 0;max-width: 0;overflow: hidden;text-align: left;background-color: #f0f8ff;}#sk-container-id-1 div.sk-toggleable__content pre {margin: 0.2em;color: black;border-radius: 0.25em;background-color: #f0f8ff;}#sk-container-id-1 input.sk-toggleable__control:checked~div.sk-toggleable__content {max-height: 200px;max-width: 100%;overflow: auto;}#sk-container-id-1 input.sk-toggleable__control:checked~label.sk-toggleable__label-arrow:before {content: \"▾\";}#sk-container-id-1 div.sk-estimator input.sk-toggleable__control:checked~label.sk-toggleable__label {background-color: #d4ebff;}#sk-container-id-1 div.sk-label input.sk-toggleable__control:checked~label.sk-toggleable__label {background-color: #d4ebff;}#sk-container-id-1 input.sk-hidden--visually {border: 0;clip: rect(1px 1px 1px 1px);clip: rect(1px, 1px, 1px, 1px);height: 1px;margin: -1px;overflow: hidden;padding: 0;position: absolute;width: 1px;}#sk-container-id-1 div.sk-estimator {font-family: monospace;background-color: #f0f8ff;border: 1px dotted black;border-radius: 0.25em;box-sizing: border-box;margin-bottom: 0.5em;}#sk-container-id-1 div.sk-estimator:hover {background-color: #d4ebff;}#sk-container-id-1 div.sk-parallel-item::after {content: \"\";width: 100%;border-bottom: 1px solid gray;flex-grow: 1;}#sk-container-id-1 div.sk-label:hover label.sk-toggleable__label {background-color: #d4ebff;}#sk-container-id-1 div.sk-serial::before {content: \"\";position: absolute;border-left: 1px solid gray;box-sizing: border-box;top: 0;bottom: 0;left: 50%;z-index: 0;}#sk-container-id-1 div.sk-serial {display: flex;flex-direction: column;align-items: center;background-color: white;padding-right: 0.2em;padding-left: 0.2em;position: relative;}#sk-container-id-1 div.sk-item {position: relative;z-index: 1;}#sk-container-id-1 div.sk-parallel {display: flex;align-items: stretch;justify-content: center;background-color: white;position: relative;}#sk-container-id-1 div.sk-item::before, #sk-container-id-1 div.sk-parallel-item::before {content: \"\";position: absolute;border-left: 1px solid gray;box-sizing: border-box;top: 0;bottom: 0;left: 50%;z-index: -1;}#sk-container-id-1 div.sk-parallel-item {display: flex;flex-direction: column;z-index: 1;position: relative;background-color: white;}#sk-container-id-1 div.sk-parallel-item:first-child::after {align-self: flex-end;width: 50%;}#sk-container-id-1 div.sk-parallel-item:last-child::after {align-self: flex-start;width: 50%;}#sk-container-id-1 div.sk-parallel-item:only-child::after {width: 0;}#sk-container-id-1 div.sk-dashed-wrapped {border: 1px dashed gray;margin: 0 0.4em 0.5em 0.4em;box-sizing: border-box;padding-bottom: 0.4em;background-color: white;}#sk-container-id-1 div.sk-label label {font-family: monospace;font-weight: bold;display: inline-block;line-height: 1.2em;}#sk-container-id-1 div.sk-label-container {text-align: center;}#sk-container-id-1 div.sk-container {/* jupyter's `normalize.less` sets `[hidden] { display: none; }` but bootstrap.min.css set `[hidden] { display: none !important; }` so we also need the `!important` here to be able to override the default hidden behavior on the sphinx rendered scikit-learn.org. See: https://github.com/scikit-learn/scikit-learn/issues/21755 */display: inline-block !important;position: relative;}#sk-container-id-1 div.sk-text-repr-fallback {display: none;}</style><div id=\"sk-container-id-1\" class=\"sk-top-container\"><div class=\"sk-text-repr-fallback\"><pre>LinearRegression()</pre><b>In a Jupyter environment, please rerun this cell to show the HTML representation or trust the notebook. <br />On GitHub, the HTML representation is unable to render, please try loading this page with nbviewer.org.</b></div><div class=\"sk-container\" hidden><div class=\"sk-item\"><div class=\"sk-estimator sk-toggleable\"><input class=\"sk-toggleable__control sk-hidden--visually\" id=\"sk-estimator-id-1\" type=\"checkbox\" checked><label for=\"sk-estimator-id-1\" class=\"sk-toggleable__label sk-toggleable__label-arrow\">LinearRegression</label><div class=\"sk-toggleable__content\"><pre>LinearRegression()</pre></div></div></div></div></div>"
      ],
      "text/plain": [
       "LinearRegression()"
      ]
     },
     "execution_count": 17,
     "metadata": {},
     "output_type": "execute_result"
    }
   ],
   "source": [
    "%%time\n",
    "\n",
    "model = LinearRegression()\n",
    "\n",
    "model.fit(X_train, y_train)"
   ]
  },
  {
   "cell_type": "code",
   "execution_count": 18,
   "metadata": {},
   "outputs": [
    {
     "name": "stdout",
     "output_type": "stream",
     "text": [
      "CPU times: user 148 ms, sys: 193 ms, total: 341 ms\n",
      "Wall time: 393 ms\n"
     ]
    }
   ],
   "source": [
    "%%time\n",
    "scores = cross_val_score(LinearRegression(), X_train, y_train, cv=tscv, scoring = 'neg_root_mean_squared_error')"
   ]
  },
  {
   "cell_type": "code",
   "execution_count": 19,
   "metadata": {},
   "outputs": [
    {
     "name": "stdout",
     "output_type": "stream",
     "text": [
      "RMSE модели на кроссвалидации: 27.773206734110147\n"
     ]
    }
   ],
   "source": [
    "print('RMSE модели на кроссвалидации:', (scores*-1).sum()/3)"
   ]
  },
  {
   "cell_type": "code",
   "execution_count": 20,
   "metadata": {},
   "outputs": [
    {
     "name": "stdout",
     "output_type": "stream",
     "text": [
      "CPU times: user 4.18 ms, sys: 18 µs, total: 4.2 ms\n",
      "Wall time: 2.99 ms\n"
     ]
    }
   ],
   "source": [
    "%%time\n",
    "predictions = model.predict(X_train)"
   ]
  },
  {
   "cell_type": "markdown",
   "metadata": {},
   "source": [
    "**Время обучения модели 8 секунд, RMSE модели 27, время предсказания 12 секунд**"
   ]
  },
  {
   "cell_type": "markdown",
   "metadata": {},
   "source": [
    "### LightGBM"
   ]
  },
  {
   "cell_type": "code",
   "execution_count": 21,
   "metadata": {},
   "outputs": [],
   "source": [
    "model_lg = LGBMRegressor()\n",
    "\n",
    "params = {\n",
    "    'num_leaves': [7, 15],\n",
    "    'learning_rate': [0.9],\n",
    "    'max_depth': [None, 3],\n",
    "    'n_estimators': [7, 15],\n",
    "    'random_state': [42],\n",
    "    'num_iterations': [15],\n",
    "}\n",
    "\n",
    "grid = GridSearchCV(model_lg, param_grid = params, cv=tscv, scoring='neg_root_mean_squared_error')"
   ]
  },
  {
   "cell_type": "code",
   "execution_count": 22,
   "metadata": {},
   "outputs": [
    {
     "name": "stdout",
     "output_type": "stream",
     "text": [
      "CPU times: user 3.37 s, sys: 32 ms, total: 3.4 s\n",
      "Wall time: 3.4 s\n"
     ]
    },
    {
     "data": {
      "text/html": [
       "<style>#sk-container-id-2 {color: black;background-color: white;}#sk-container-id-2 pre{padding: 0;}#sk-container-id-2 div.sk-toggleable {background-color: white;}#sk-container-id-2 label.sk-toggleable__label {cursor: pointer;display: block;width: 100%;margin-bottom: 0;padding: 0.3em;box-sizing: border-box;text-align: center;}#sk-container-id-2 label.sk-toggleable__label-arrow:before {content: \"▸\";float: left;margin-right: 0.25em;color: #696969;}#sk-container-id-2 label.sk-toggleable__label-arrow:hover:before {color: black;}#sk-container-id-2 div.sk-estimator:hover label.sk-toggleable__label-arrow:before {color: black;}#sk-container-id-2 div.sk-toggleable__content {max-height: 0;max-width: 0;overflow: hidden;text-align: left;background-color: #f0f8ff;}#sk-container-id-2 div.sk-toggleable__content pre {margin: 0.2em;color: black;border-radius: 0.25em;background-color: #f0f8ff;}#sk-container-id-2 input.sk-toggleable__control:checked~div.sk-toggleable__content {max-height: 200px;max-width: 100%;overflow: auto;}#sk-container-id-2 input.sk-toggleable__control:checked~label.sk-toggleable__label-arrow:before {content: \"▾\";}#sk-container-id-2 div.sk-estimator input.sk-toggleable__control:checked~label.sk-toggleable__label {background-color: #d4ebff;}#sk-container-id-2 div.sk-label input.sk-toggleable__control:checked~label.sk-toggleable__label {background-color: #d4ebff;}#sk-container-id-2 input.sk-hidden--visually {border: 0;clip: rect(1px 1px 1px 1px);clip: rect(1px, 1px, 1px, 1px);height: 1px;margin: -1px;overflow: hidden;padding: 0;position: absolute;width: 1px;}#sk-container-id-2 div.sk-estimator {font-family: monospace;background-color: #f0f8ff;border: 1px dotted black;border-radius: 0.25em;box-sizing: border-box;margin-bottom: 0.5em;}#sk-container-id-2 div.sk-estimator:hover {background-color: #d4ebff;}#sk-container-id-2 div.sk-parallel-item::after {content: \"\";width: 100%;border-bottom: 1px solid gray;flex-grow: 1;}#sk-container-id-2 div.sk-label:hover label.sk-toggleable__label {background-color: #d4ebff;}#sk-container-id-2 div.sk-serial::before {content: \"\";position: absolute;border-left: 1px solid gray;box-sizing: border-box;top: 0;bottom: 0;left: 50%;z-index: 0;}#sk-container-id-2 div.sk-serial {display: flex;flex-direction: column;align-items: center;background-color: white;padding-right: 0.2em;padding-left: 0.2em;position: relative;}#sk-container-id-2 div.sk-item {position: relative;z-index: 1;}#sk-container-id-2 div.sk-parallel {display: flex;align-items: stretch;justify-content: center;background-color: white;position: relative;}#sk-container-id-2 div.sk-item::before, #sk-container-id-2 div.sk-parallel-item::before {content: \"\";position: absolute;border-left: 1px solid gray;box-sizing: border-box;top: 0;bottom: 0;left: 50%;z-index: -1;}#sk-container-id-2 div.sk-parallel-item {display: flex;flex-direction: column;z-index: 1;position: relative;background-color: white;}#sk-container-id-2 div.sk-parallel-item:first-child::after {align-self: flex-end;width: 50%;}#sk-container-id-2 div.sk-parallel-item:last-child::after {align-self: flex-start;width: 50%;}#sk-container-id-2 div.sk-parallel-item:only-child::after {width: 0;}#sk-container-id-2 div.sk-dashed-wrapped {border: 1px dashed gray;margin: 0 0.4em 0.5em 0.4em;box-sizing: border-box;padding-bottom: 0.4em;background-color: white;}#sk-container-id-2 div.sk-label label {font-family: monospace;font-weight: bold;display: inline-block;line-height: 1.2em;}#sk-container-id-2 div.sk-label-container {text-align: center;}#sk-container-id-2 div.sk-container {/* jupyter's `normalize.less` sets `[hidden] { display: none; }` but bootstrap.min.css set `[hidden] { display: none !important; }` so we also need the `!important` here to be able to override the default hidden behavior on the sphinx rendered scikit-learn.org. See: https://github.com/scikit-learn/scikit-learn/issues/21755 */display: inline-block !important;position: relative;}#sk-container-id-2 div.sk-text-repr-fallback {display: none;}</style><div id=\"sk-container-id-2\" class=\"sk-top-container\"><div class=\"sk-text-repr-fallback\"><pre>GridSearchCV(cv=TimeSeriesSplit(gap=0, max_train_size=None, n_splits=3, test_size=None),\n",
       "             estimator=LGBMRegressor(),\n",
       "             param_grid={&#x27;learning_rate&#x27;: [0.9], &#x27;max_depth&#x27;: [None, 3],\n",
       "                         &#x27;n_estimators&#x27;: [7, 15], &#x27;num_iterations&#x27;: [15],\n",
       "                         &#x27;num_leaves&#x27;: [7, 15], &#x27;random_state&#x27;: [42]},\n",
       "             scoring=&#x27;neg_root_mean_squared_error&#x27;)</pre><b>In a Jupyter environment, please rerun this cell to show the HTML representation or trust the notebook. <br />On GitHub, the HTML representation is unable to render, please try loading this page with nbviewer.org.</b></div><div class=\"sk-container\" hidden><div class=\"sk-item sk-dashed-wrapped\"><div class=\"sk-label-container\"><div class=\"sk-label sk-toggleable\"><input class=\"sk-toggleable__control sk-hidden--visually\" id=\"sk-estimator-id-2\" type=\"checkbox\" ><label for=\"sk-estimator-id-2\" class=\"sk-toggleable__label sk-toggleable__label-arrow\">GridSearchCV</label><div class=\"sk-toggleable__content\"><pre>GridSearchCV(cv=TimeSeriesSplit(gap=0, max_train_size=None, n_splits=3, test_size=None),\n",
       "             estimator=LGBMRegressor(),\n",
       "             param_grid={&#x27;learning_rate&#x27;: [0.9], &#x27;max_depth&#x27;: [None, 3],\n",
       "                         &#x27;n_estimators&#x27;: [7, 15], &#x27;num_iterations&#x27;: [15],\n",
       "                         &#x27;num_leaves&#x27;: [7, 15], &#x27;random_state&#x27;: [42]},\n",
       "             scoring=&#x27;neg_root_mean_squared_error&#x27;)</pre></div></div></div><div class=\"sk-parallel\"><div class=\"sk-parallel-item\"><div class=\"sk-item\"><div class=\"sk-label-container\"><div class=\"sk-label sk-toggleable\"><input class=\"sk-toggleable__control sk-hidden--visually\" id=\"sk-estimator-id-3\" type=\"checkbox\" ><label for=\"sk-estimator-id-3\" class=\"sk-toggleable__label sk-toggleable__label-arrow\">estimator: LGBMRegressor</label><div class=\"sk-toggleable__content\"><pre>LGBMRegressor()</pre></div></div></div><div class=\"sk-serial\"><div class=\"sk-item\"><div class=\"sk-estimator sk-toggleable\"><input class=\"sk-toggleable__control sk-hidden--visually\" id=\"sk-estimator-id-4\" type=\"checkbox\" ><label for=\"sk-estimator-id-4\" class=\"sk-toggleable__label sk-toggleable__label-arrow\">LGBMRegressor</label><div class=\"sk-toggleable__content\"><pre>LGBMRegressor()</pre></div></div></div></div></div></div></div></div></div></div>"
      ],
      "text/plain": [
       "GridSearchCV(cv=TimeSeriesSplit(gap=0, max_train_size=None, n_splits=3, test_size=None),\n",
       "             estimator=LGBMRegressor(),\n",
       "             param_grid={'learning_rate': [0.9], 'max_depth': [None, 3],\n",
       "                         'n_estimators': [7, 15], 'num_iterations': [15],\n",
       "                         'num_leaves': [7, 15], 'random_state': [42]},\n",
       "             scoring='neg_root_mean_squared_error')"
      ]
     },
     "execution_count": 22,
     "metadata": {},
     "output_type": "execute_result"
    }
   ],
   "source": [
    "%%time\n",
    "grid.fit(X_train, y_train)"
   ]
  },
  {
   "cell_type": "code",
   "execution_count": 23,
   "metadata": {},
   "outputs": [
    {
     "name": "stdout",
     "output_type": "stream",
     "text": [
      "Лучшие гиперпараметры модели\n",
      "{'learning_rate': 0.9, 'max_depth': 3, 'n_estimators': 7, 'num_iterations': 15, 'num_leaves': 7, 'random_state': 42}\n",
      "score:\n",
      "LGBMRegressor RMSE: 29.02331326436406\n"
     ]
    }
   ],
   "source": [
    "lg_param = grid.best_params_\n",
    "lg_score = grid.best_score_\n",
    "\n",
    "print('Лучшие гиперпараметры модели')\n",
    "print(lg_param)\n",
    "\n",
    "print('score:')\n",
    "print('LGBMRegressor RMSE:', lg_score*-1)"
   ]
  },
  {
   "cell_type": "code",
   "execution_count": 24,
   "metadata": {},
   "outputs": [
    {
     "name": "stdout",
     "output_type": "stream",
     "text": [
      "CPU times: user 80.7 ms, sys: 6.01 ms, total: 86.8 ms\n",
      "Wall time: 74.3 ms\n"
     ]
    }
   ],
   "source": [
    "%%time\n",
    "model_lg = LGBMRegressor(learning_rate = 0.9, \n",
    "                         max_depth = 3, \n",
    "                         n_estimators = 7, \n",
    "                         num_iterations = 15,\n",
    "                         num_leaves = 15, \n",
    "                         random_state= 42)\n",
    "\n",
    "LGBMR = model_lg.fit(X_train, y_train)"
   ]
  },
  {
   "cell_type": "code",
   "execution_count": 25,
   "metadata": {},
   "outputs": [
    {
     "name": "stdout",
     "output_type": "stream",
     "text": [
      "CPU times: user 66.1 ms, sys: 0 ns, total: 66.1 ms\n",
      "Wall time: 19.4 ms\n"
     ]
    }
   ],
   "source": [
    "%%time\n",
    "predictions = LGBMR.predict(X_train)"
   ]
  },
  {
   "cell_type": "markdown",
   "metadata": {},
   "source": [
    "**Время поиска лучших гиперпараметров 3 минуты 36 секунд, RMSE модели 30, время обучения 11 секунд, время предсказания 0.15 секунд.**"
   ]
  },
  {
   "cell_type": "markdown",
   "metadata": {},
   "source": [
    "### CatBoostRegressor"
   ]
  },
  {
   "cell_type": "code",
   "execution_count": 26,
   "metadata": {},
   "outputs": [],
   "source": [
    "model_cbr = CatBoostRegressor()\n",
    "\n",
    "params = {\n",
    "        'iterations':[3],\n",
    "        'learning_rate':[0.9],\n",
    "        'depth':[None, 2, 5],\n",
    "        'random_state': [42],\n",
    "}\n",
    "\n",
    "grid_cbr = GridSearchCV(model_cbr, param_grid = params, cv=tscv, scoring='neg_root_mean_squared_error')"
   ]
  },
  {
   "cell_type": "code",
   "execution_count": 27,
   "metadata": {},
   "outputs": [
    {
     "name": "stdout",
     "output_type": "stream",
     "text": [
      "0:\tlearn: 21.4944385\ttotal: 52.8ms\tremaining: 106ms\n",
      "1:\tlearn: 19.3467778\ttotal: 56.8ms\tremaining: 28.4ms\n",
      "2:\tlearn: 18.5311745\ttotal: 60.7ms\tremaining: 0us\n",
      "0:\tlearn: 22.8787705\ttotal: 7.2ms\tremaining: 14.4ms\n",
      "1:\tlearn: 21.0985200\ttotal: 12.2ms\tremaining: 6.09ms\n",
      "2:\tlearn: 20.2355229\ttotal: 17.8ms\tremaining: 0us\n",
      "0:\tlearn: 24.6153245\ttotal: 6.61ms\tremaining: 13.2ms\n",
      "1:\tlearn: 22.8267772\ttotal: 12ms\tremaining: 6.02ms\n",
      "2:\tlearn: 22.0706647\ttotal: 17.4ms\tremaining: 0us\n",
      "0:\tlearn: 24.4543951\ttotal: 1.01ms\tremaining: 2.02ms\n",
      "1:\tlearn: 22.0122505\ttotal: 2.12ms\tremaining: 1.06ms\n",
      "2:\tlearn: 21.1795528\ttotal: 2.93ms\tremaining: 0us\n",
      "0:\tlearn: 25.7681846\ttotal: 1.8ms\tremaining: 3.6ms\n",
      "1:\tlearn: 23.6650654\ttotal: 3.08ms\tremaining: 1.54ms\n",
      "2:\tlearn: 22.7807212\ttotal: 4.19ms\tremaining: 0us\n",
      "0:\tlearn: 26.9114607\ttotal: 1.27ms\tremaining: 2.55ms\n",
      "1:\tlearn: 25.6271950\ttotal: 2.57ms\tremaining: 1.28ms\n",
      "2:\tlearn: 24.8077432\ttotal: 3.68ms\tremaining: 0us\n",
      "0:\tlearn: 21.7046249\ttotal: 2.72ms\tremaining: 5.44ms\n",
      "1:\tlearn: 19.7294853\ttotal: 5.19ms\tremaining: 2.6ms\n",
      "2:\tlearn: 19.0877367\ttotal: 7.62ms\tremaining: 0us\n",
      "0:\tlearn: 23.1416041\ttotal: 3.4ms\tremaining: 6.79ms\n",
      "1:\tlearn: 21.2503161\ttotal: 6.82ms\tremaining: 3.41ms\n",
      "2:\tlearn: 20.5451476\ttotal: 9.72ms\tremaining: 0us\n",
      "0:\tlearn: 24.7898674\ttotal: 3.65ms\tremaining: 7.3ms\n",
      "1:\tlearn: 23.0638968\ttotal: 7.26ms\tremaining: 3.63ms\n",
      "2:\tlearn: 22.1274902\ttotal: 10.8ms\tremaining: 0us\n",
      "0:\tlearn: 27.9272224\ttotal: 4.63ms\tremaining: 9.26ms\n",
      "1:\tlearn: 26.2337572\ttotal: 8.94ms\tremaining: 4.47ms\n",
      "2:\tlearn: 25.5733018\ttotal: 13ms\tremaining: 0us\n",
      "CPU times: user 267 ms, sys: 61.8 ms, total: 328 ms\n",
      "Wall time: 7.84 s\n"
     ]
    },
    {
     "data": {
      "text/html": [
       "<style>#sk-container-id-3 {color: black;background-color: white;}#sk-container-id-3 pre{padding: 0;}#sk-container-id-3 div.sk-toggleable {background-color: white;}#sk-container-id-3 label.sk-toggleable__label {cursor: pointer;display: block;width: 100%;margin-bottom: 0;padding: 0.3em;box-sizing: border-box;text-align: center;}#sk-container-id-3 label.sk-toggleable__label-arrow:before {content: \"▸\";float: left;margin-right: 0.25em;color: #696969;}#sk-container-id-3 label.sk-toggleable__label-arrow:hover:before {color: black;}#sk-container-id-3 div.sk-estimator:hover label.sk-toggleable__label-arrow:before {color: black;}#sk-container-id-3 div.sk-toggleable__content {max-height: 0;max-width: 0;overflow: hidden;text-align: left;background-color: #f0f8ff;}#sk-container-id-3 div.sk-toggleable__content pre {margin: 0.2em;color: black;border-radius: 0.25em;background-color: #f0f8ff;}#sk-container-id-3 input.sk-toggleable__control:checked~div.sk-toggleable__content {max-height: 200px;max-width: 100%;overflow: auto;}#sk-container-id-3 input.sk-toggleable__control:checked~label.sk-toggleable__label-arrow:before {content: \"▾\";}#sk-container-id-3 div.sk-estimator input.sk-toggleable__control:checked~label.sk-toggleable__label {background-color: #d4ebff;}#sk-container-id-3 div.sk-label input.sk-toggleable__control:checked~label.sk-toggleable__label {background-color: #d4ebff;}#sk-container-id-3 input.sk-hidden--visually {border: 0;clip: rect(1px 1px 1px 1px);clip: rect(1px, 1px, 1px, 1px);height: 1px;margin: -1px;overflow: hidden;padding: 0;position: absolute;width: 1px;}#sk-container-id-3 div.sk-estimator {font-family: monospace;background-color: #f0f8ff;border: 1px dotted black;border-radius: 0.25em;box-sizing: border-box;margin-bottom: 0.5em;}#sk-container-id-3 div.sk-estimator:hover {background-color: #d4ebff;}#sk-container-id-3 div.sk-parallel-item::after {content: \"\";width: 100%;border-bottom: 1px solid gray;flex-grow: 1;}#sk-container-id-3 div.sk-label:hover label.sk-toggleable__label {background-color: #d4ebff;}#sk-container-id-3 div.sk-serial::before {content: \"\";position: absolute;border-left: 1px solid gray;box-sizing: border-box;top: 0;bottom: 0;left: 50%;z-index: 0;}#sk-container-id-3 div.sk-serial {display: flex;flex-direction: column;align-items: center;background-color: white;padding-right: 0.2em;padding-left: 0.2em;position: relative;}#sk-container-id-3 div.sk-item {position: relative;z-index: 1;}#sk-container-id-3 div.sk-parallel {display: flex;align-items: stretch;justify-content: center;background-color: white;position: relative;}#sk-container-id-3 div.sk-item::before, #sk-container-id-3 div.sk-parallel-item::before {content: \"\";position: absolute;border-left: 1px solid gray;box-sizing: border-box;top: 0;bottom: 0;left: 50%;z-index: -1;}#sk-container-id-3 div.sk-parallel-item {display: flex;flex-direction: column;z-index: 1;position: relative;background-color: white;}#sk-container-id-3 div.sk-parallel-item:first-child::after {align-self: flex-end;width: 50%;}#sk-container-id-3 div.sk-parallel-item:last-child::after {align-self: flex-start;width: 50%;}#sk-container-id-3 div.sk-parallel-item:only-child::after {width: 0;}#sk-container-id-3 div.sk-dashed-wrapped {border: 1px dashed gray;margin: 0 0.4em 0.5em 0.4em;box-sizing: border-box;padding-bottom: 0.4em;background-color: white;}#sk-container-id-3 div.sk-label label {font-family: monospace;font-weight: bold;display: inline-block;line-height: 1.2em;}#sk-container-id-3 div.sk-label-container {text-align: center;}#sk-container-id-3 div.sk-container {/* jupyter's `normalize.less` sets `[hidden] { display: none; }` but bootstrap.min.css set `[hidden] { display: none !important; }` so we also need the `!important` here to be able to override the default hidden behavior on the sphinx rendered scikit-learn.org. See: https://github.com/scikit-learn/scikit-learn/issues/21755 */display: inline-block !important;position: relative;}#sk-container-id-3 div.sk-text-repr-fallback {display: none;}</style><div id=\"sk-container-id-3\" class=\"sk-top-container\"><div class=\"sk-text-repr-fallback\"><pre>GridSearchCV(cv=TimeSeriesSplit(gap=0, max_train_size=None, n_splits=3, test_size=None),\n",
       "             estimator=&lt;catboost.core.CatBoostRegressor object at 0x7fc7cd53c430&gt;,\n",
       "             param_grid={&#x27;depth&#x27;: [None, 2, 5], &#x27;iterations&#x27;: [3],\n",
       "                         &#x27;learning_rate&#x27;: [0.9], &#x27;random_state&#x27;: [42]},\n",
       "             scoring=&#x27;neg_root_mean_squared_error&#x27;)</pre><b>In a Jupyter environment, please rerun this cell to show the HTML representation or trust the notebook. <br />On GitHub, the HTML representation is unable to render, please try loading this page with nbviewer.org.</b></div><div class=\"sk-container\" hidden><div class=\"sk-item sk-dashed-wrapped\"><div class=\"sk-label-container\"><div class=\"sk-label sk-toggleable\"><input class=\"sk-toggleable__control sk-hidden--visually\" id=\"sk-estimator-id-5\" type=\"checkbox\" ><label for=\"sk-estimator-id-5\" class=\"sk-toggleable__label sk-toggleable__label-arrow\">GridSearchCV</label><div class=\"sk-toggleable__content\"><pre>GridSearchCV(cv=TimeSeriesSplit(gap=0, max_train_size=None, n_splits=3, test_size=None),\n",
       "             estimator=&lt;catboost.core.CatBoostRegressor object at 0x7fc7cd53c430&gt;,\n",
       "             param_grid={&#x27;depth&#x27;: [None, 2, 5], &#x27;iterations&#x27;: [3],\n",
       "                         &#x27;learning_rate&#x27;: [0.9], &#x27;random_state&#x27;: [42]},\n",
       "             scoring=&#x27;neg_root_mean_squared_error&#x27;)</pre></div></div></div><div class=\"sk-parallel\"><div class=\"sk-parallel-item\"><div class=\"sk-item\"><div class=\"sk-label-container\"><div class=\"sk-label sk-toggleable\"><input class=\"sk-toggleable__control sk-hidden--visually\" id=\"sk-estimator-id-6\" type=\"checkbox\" ><label for=\"sk-estimator-id-6\" class=\"sk-toggleable__label sk-toggleable__label-arrow\">estimator: CatBoostRegressor</label><div class=\"sk-toggleable__content\"><pre>&lt;catboost.core.CatBoostRegressor object at 0x7fc7cd53c430&gt;</pre></div></div></div><div class=\"sk-serial\"><div class=\"sk-item\"><div class=\"sk-estimator sk-toggleable\"><input class=\"sk-toggleable__control sk-hidden--visually\" id=\"sk-estimator-id-7\" type=\"checkbox\" ><label for=\"sk-estimator-id-7\" class=\"sk-toggleable__label sk-toggleable__label-arrow\">CatBoostRegressor</label><div class=\"sk-toggleable__content\"><pre>&lt;catboost.core.CatBoostRegressor object at 0x7fc7cd53c430&gt;</pre></div></div></div></div></div></div></div></div></div></div>"
      ],
      "text/plain": [
       "GridSearchCV(cv=TimeSeriesSplit(gap=0, max_train_size=None, n_splits=3, test_size=None),\n",
       "             estimator=<catboost.core.CatBoostRegressor object at 0x7fc7cd53c430>,\n",
       "             param_grid={'depth': [None, 2, 5], 'iterations': [3],\n",
       "                         'learning_rate': [0.9], 'random_state': [42]},\n",
       "             scoring='neg_root_mean_squared_error')"
      ]
     },
     "execution_count": 27,
     "metadata": {},
     "output_type": "execute_result"
    }
   ],
   "source": [
    "%%time\n",
    "grid_cbr.fit(X_train, y_train);"
   ]
  },
  {
   "cell_type": "code",
   "execution_count": 28,
   "metadata": {},
   "outputs": [
    {
     "name": "stdout",
     "output_type": "stream",
     "text": [
      "Лучшие гиперпараметры модели\n",
      "{'depth': 5, 'iterations': 3, 'learning_rate': 0.9, 'random_state': 42}\n",
      "score:\n",
      "CatBoostRegressor RMSE: 30.179142968451558\n"
     ]
    }
   ],
   "source": [
    "cbr_param = grid_cbr.best_params_\n",
    "cbr_score = grid_cbr.best_score_\n",
    "\n",
    "print('Лучшие гиперпараметры модели')\n",
    "print(cbr_param)\n",
    "\n",
    "print('score:')\n",
    "print('CatBoostRegressor RMSE:', cbr_score*-1)"
   ]
  },
  {
   "cell_type": "code",
   "execution_count": 29,
   "metadata": {},
   "outputs": [],
   "source": [
    "model_cbr = CatBoostRegressor(\n",
    "    iterations=3,\n",
    "    learning_rate=0.9,\n",
    "    depth=2,\n",
    "    random_state=42\n",
    ")\n"
   ]
  },
  {
   "cell_type": "code",
   "execution_count": 30,
   "metadata": {},
   "outputs": [
    {
     "name": "stdout",
     "output_type": "stream",
     "text": [
      "0:\tlearn: 30.6155615\ttotal: 1.53ms\tremaining: 3.05ms\n",
      "1:\tlearn: 28.2577584\ttotal: 2.96ms\tremaining: 1.48ms\n",
      "2:\tlearn: 27.5656787\ttotal: 4.28ms\tremaining: 0us\n",
      "CPU times: user 23.3 ms, sys: 4.56 ms, total: 27.9 ms\n",
      "Wall time: 525 ms\n"
     ]
    },
    {
     "data": {
      "text/plain": [
       "<catboost.core.CatBoostRegressor at 0x7fc8581ae250>"
      ]
     },
     "execution_count": 30,
     "metadata": {},
     "output_type": "execute_result"
    }
   ],
   "source": [
    "%%time\n",
    "model_cbr.fit(X_train, y_train);"
   ]
  },
  {
   "cell_type": "code",
   "execution_count": 31,
   "metadata": {},
   "outputs": [
    {
     "name": "stdout",
     "output_type": "stream",
     "text": [
      "CPU times: user 0 ns, sys: 3.17 ms, total: 3.17 ms\n",
      "Wall time: 2.03 ms\n"
     ]
    }
   ],
   "source": [
    "%%time\n",
    "predictions = model_cbr.predict(X_train)"
   ]
  },
  {
   "cell_type": "markdown",
   "metadata": {},
   "source": [
    "**Время поиска параметров 12 секунд, RMSE 30, время обучения 1 секунда, время предсказания 2 милисекунды.**"
   ]
  },
  {
   "cell_type": "markdown",
   "metadata": {},
   "source": [
    "### Промежуточный вывод"
   ]
  },
  {
   "cell_type": "markdown",
   "metadata": {},
   "source": [
    "* **Лучшая модель LinearRegression**\n",
    "* **Время обучения модели 8 секунд** \n",
    "* **RMSE модели 27** \n",
    "* **время предсказания 12 секунд**"
   ]
  },
  {
   "cell_type": "markdown",
   "metadata": {},
   "source": [
    "## Тестирование"
   ]
  },
  {
   "cell_type": "code",
   "execution_count": 32,
   "metadata": {},
   "outputs": [
    {
     "name": "stdout",
     "output_type": "stream",
     "text": [
      "RMSE LinearRegression на тестовой выборке: 45.22\n",
      "CPU times: user 0 ns, sys: 12.9 ms, total: 12.9 ms\n",
      "Wall time: 3.71 ms\n"
     ]
    }
   ],
   "source": [
    "%%time\n",
    "\n",
    "pred = model.predict(X_test)\n",
    "mse = mean_squared_error(y_test, pred)\n",
    "rmse = mse**(0.5)\n",
    "print('RMSE LinearRegression на тестовой выборке: %.2f' % rmse)"
   ]
  },
  {
   "cell_type": "markdown",
   "metadata": {},
   "source": [
    "**Результат RMSE на тестовой выборке 45, время предсказания 4 милисекунды.**"
   ]
  },
  {
   "cell_type": "markdown",
   "metadata": {},
   "source": [
    "### DummyRegressor"
   ]
  },
  {
   "cell_type": "code",
   "execution_count": 33,
   "metadata": {},
   "outputs": [
    {
     "name": "stdout",
     "output_type": "stream",
     "text": [
      "RMSE: 87.21\n"
     ]
    }
   ],
   "source": [
    "dummy = DummyRegressor(strategy='median')\n",
    "\n",
    "dummy.fit(X_train, y_train)\n",
    "\n",
    "predict = dummy.predict(X_test)\n",
    "\n",
    "mse = mean_squared_error(y_test, predict)\n",
    "rmse = mse**(0.5)\n",
    "print(\"RMSE: %.2f\" % rmse)"
   ]
  },
  {
   "cell_type": "code",
   "execution_count": 17,
   "metadata": {},
   "outputs": [
    {
     "data": {
      "text/plain": [
       "'RMSE Dummy модели составляет 58.88'"
      ]
     },
     "execution_count": 17,
     "metadata": {},
     "output_type": "execute_result"
    }
   ],
   "source": [
    "# Dummy с предыдущим значением.\n",
    "predict_dummy = X_test.lag_1\n",
    "f\"RMSE Dummy модели составляет {np.sqrt(mean_squared_error(y_test, predict_dummy)):.2f}\""
   ]
  },
  {
   "cell_type": "markdown",
   "metadata": {},
   "source": [
    "**Проверка константной моделью показала что обученая модель справляется лучше.**"
   ]
  },
  {
   "cell_type": "markdown",
   "metadata": {},
   "source": [
    "## Вывод"
   ]
  },
  {
   "cell_type": "markdown",
   "metadata": {},
   "source": [
    "### Знакомство с данными"
   ]
  },
  {
   "cell_type": "markdown",
   "metadata": {},
   "source": [
    "* **Знакомство с данными показало относительный порядок в данных, замечены незначительные выбросы.**"
   ]
  },
  {
   "cell_type": "markdown",
   "metadata": {},
   "source": [
    "### Предобработка данных"
   ]
  },
  {
   "cell_type": "markdown",
   "metadata": {},
   "source": [
    "* **Удалили 687 выбросов**\n",
    "* **Провели ресемплирование по одному часу**\n",
    "* **Настроили временной сдвиг на 10 строк, добавили скользящее среднее по 15 строкам, выбросили пропуски.**"
   ]
  },
  {
   "cell_type": "markdown",
   "metadata": {},
   "source": [
    "### Анализ данных"
   ]
  },
  {
   "cell_type": "markdown",
   "metadata": {},
   "source": [
    "* **Тренд показывает что заказов с каждым месяцем становится всё больше.**\n",
    "* **Сезонность по часам показывает как меняется количество заказов в течении суток, от максимального количества заказов вечером до минимального количества утром.**"
   ]
  },
  {
   "cell_type": "markdown",
   "metadata": {},
   "source": [
    "### Обучение моделей."
   ]
  },
  {
   "cell_type": "markdown",
   "metadata": {},
   "source": [
    "* **Обучены модели LinearRegression, LightGBM, CatBoostRegressor.**\n",
    "* **Лучшие показатели у LinearRegression, время обучения модели 8 секунд, RMSE модели 27, время предсказания 12 секунд****"
   ]
  },
  {
   "cell_type": "markdown",
   "metadata": {},
   "source": [
    "### Тестирование LinearRegression"
   ]
  },
  {
   "cell_type": "markdown",
   "metadata": {},
   "source": [
    "* **Проведён тест лучшей модели, показатель RMSE 45, время предсказания 4 милисекунды.**\n",
    "* **Проведена проверка константной моделью DummyRegressor, показатель RMSE модели 87.**"
   ]
  }
 ],
 "metadata": {
  "ExecuteTimeLog": [
   {
    "duration": 49,
    "start_time": "2023-10-08T17:27:31.324Z"
   },
   {
    "duration": 404,
    "start_time": "2023-10-08T17:27:33.353Z"
   },
   {
    "duration": 192,
    "start_time": "2023-10-08T17:27:33.759Z"
   },
   {
    "duration": 14,
    "start_time": "2023-10-08T17:27:33.953Z"
   },
   {
    "duration": 13,
    "start_time": "2023-10-08T17:30:20.051Z"
   },
   {
    "duration": 28,
    "start_time": "2023-10-08T17:30:24.662Z"
   },
   {
    "duration": 6,
    "start_time": "2023-10-08T17:30:24.909Z"
   },
   {
    "duration": 7,
    "start_time": "2023-10-08T17:30:37.391Z"
   },
   {
    "duration": 8,
    "start_time": "2023-10-08T17:30:37.699Z"
   },
   {
    "duration": 47,
    "start_time": "2023-10-08T17:30:46.164Z"
   },
   {
    "duration": 7,
    "start_time": "2023-10-08T17:30:46.803Z"
   },
   {
    "duration": 12,
    "start_time": "2023-10-08T17:30:48.611Z"
   },
   {
    "duration": 2,
    "start_time": "2023-10-08T17:31:42.778Z"
   },
   {
    "duration": 46,
    "start_time": "2023-10-08T17:31:42.999Z"
   },
   {
    "duration": 7,
    "start_time": "2023-10-08T17:31:43.273Z"
   },
   {
    "duration": 11,
    "start_time": "2023-10-08T17:31:43.620Z"
   },
   {
    "duration": 6,
    "start_time": "2023-10-08T17:31:44.453Z"
   },
   {
    "duration": 726,
    "start_time": "2023-10-08T17:31:52.402Z"
   },
   {
    "duration": 18,
    "start_time": "2023-10-08T17:34:27.510Z"
   },
   {
    "duration": 559,
    "start_time": "2023-10-08T17:34:30.663Z"
   },
   {
    "duration": 50,
    "start_time": "2023-10-08T17:34:31.224Z"
   },
   {
    "duration": 0,
    "start_time": "2023-10-08T17:34:31.276Z"
   },
   {
    "duration": 0,
    "start_time": "2023-10-08T17:34:31.277Z"
   },
   {
    "duration": 11,
    "start_time": "2023-10-08T17:34:31.359Z"
   },
   {
    "duration": 6,
    "start_time": "2023-10-08T17:34:31.530Z"
   },
   {
    "duration": 642,
    "start_time": "2023-10-08T17:34:32.034Z"
   },
   {
    "duration": 580,
    "start_time": "2023-10-08T17:35:13.749Z"
   },
   {
    "duration": 1502,
    "start_time": "2023-10-08T17:35:50.332Z"
   },
   {
    "duration": 3,
    "start_time": "2023-10-08T17:35:57.339Z"
   },
   {
    "duration": 46,
    "start_time": "2023-10-08T17:35:57.564Z"
   },
   {
    "duration": 7,
    "start_time": "2023-10-08T17:35:57.789Z"
   },
   {
    "duration": 12,
    "start_time": "2023-10-08T17:36:00.773Z"
   },
   {
    "duration": 6,
    "start_time": "2023-10-08T17:36:01.027Z"
   },
   {
    "duration": 617,
    "start_time": "2023-10-08T17:36:01.910Z"
   },
   {
    "duration": 370,
    "start_time": "2023-10-08T17:36:06.348Z"
   },
   {
    "duration": 444,
    "start_time": "2023-10-08T17:36:13.586Z"
   },
   {
    "duration": 98,
    "start_time": "2023-10-08T17:38:03.323Z"
   },
   {
    "duration": 519,
    "start_time": "2023-10-08T17:38:07.039Z"
   },
   {
    "duration": 7,
    "start_time": "2023-10-08T17:38:38.504Z"
   },
   {
    "duration": 476,
    "start_time": "2023-10-08T17:39:12.789Z"
   },
   {
    "duration": 141,
    "start_time": "2023-10-08T17:40:11.229Z"
   },
   {
    "duration": 140,
    "start_time": "2023-10-08T17:40:24.658Z"
   },
   {
    "duration": 438,
    "start_time": "2023-10-08T17:40:40.164Z"
   },
   {
    "duration": 13,
    "start_time": "2023-10-08T17:40:46.887Z"
   },
   {
    "duration": 331,
    "start_time": "2023-10-08T17:40:52.267Z"
   },
   {
    "duration": 401,
    "start_time": "2023-10-08T17:41:18.313Z"
   },
   {
    "duration": 138,
    "start_time": "2023-10-08T17:41:40.355Z"
   },
   {
    "duration": 7,
    "start_time": "2023-10-08T17:41:55.583Z"
   },
   {
    "duration": 8,
    "start_time": "2023-10-08T17:42:52.172Z"
   },
   {
    "duration": 8,
    "start_time": "2023-10-08T17:43:08.016Z"
   },
   {
    "duration": 3,
    "start_time": "2023-10-08T17:43:19.555Z"
   },
   {
    "duration": 238,
    "start_time": "2023-10-08T17:43:31.707Z"
   },
   {
    "duration": 3,
    "start_time": "2023-10-08T17:43:41.355Z"
   },
   {
    "duration": 19,
    "start_time": "2023-10-08T17:45:37.783Z"
   },
   {
    "duration": 3,
    "start_time": "2023-10-08T17:45:40.475Z"
   },
   {
    "duration": 48,
    "start_time": "2023-10-08T17:45:40.697Z"
   },
   {
    "duration": 9,
    "start_time": "2023-10-08T17:45:41.397Z"
   },
   {
    "duration": 7,
    "start_time": "2023-10-08T17:45:41.593Z"
   },
   {
    "duration": 11,
    "start_time": "2023-10-08T17:45:41.764Z"
   },
   {
    "duration": 6,
    "start_time": "2023-10-08T17:45:41.938Z"
   },
   {
    "duration": 138,
    "start_time": "2023-10-08T17:45:42.106Z"
   },
   {
    "duration": 413,
    "start_time": "2023-10-08T17:45:42.296Z"
   },
   {
    "duration": 8,
    "start_time": "2023-10-08T17:45:44.790Z"
   },
   {
    "duration": 11,
    "start_time": "2023-10-08T17:46:11.224Z"
   },
   {
    "duration": 12,
    "start_time": "2023-10-08T17:46:36.245Z"
   },
   {
    "duration": 12,
    "start_time": "2023-10-08T17:46:53.545Z"
   },
   {
    "duration": 14,
    "start_time": "2023-10-08T17:47:16.032Z"
   },
   {
    "duration": 14,
    "start_time": "2023-10-08T17:47:22.902Z"
   },
   {
    "duration": 16,
    "start_time": "2023-10-08T17:47:27.329Z"
   },
   {
    "duration": 12,
    "start_time": "2023-10-08T17:47:49.149Z"
   },
   {
    "duration": 13,
    "start_time": "2023-10-08T17:48:14.343Z"
   },
   {
    "duration": 5,
    "start_time": "2023-10-08T17:50:43.731Z"
   },
   {
    "duration": 254,
    "start_time": "2023-10-08T17:50:59.793Z"
   },
   {
    "duration": 13,
    "start_time": "2023-10-08T17:52:20.099Z"
   },
   {
    "duration": 288,
    "start_time": "2023-10-08T17:52:20.357Z"
   },
   {
    "duration": 1542,
    "start_time": "2023-10-08T17:52:24.469Z"
   },
   {
    "duration": 50,
    "start_time": "2023-10-08T17:52:26.013Z"
   },
   {
    "duration": 13,
    "start_time": "2023-10-08T17:52:26.065Z"
   },
   {
    "duration": 9,
    "start_time": "2023-10-08T17:52:26.079Z"
   },
   {
    "duration": 29,
    "start_time": "2023-10-08T17:52:26.091Z"
   },
   {
    "duration": 162,
    "start_time": "2023-10-08T17:52:26.123Z"
   },
   {
    "duration": 479,
    "start_time": "2023-10-08T17:52:26.287Z"
   },
   {
    "duration": 9,
    "start_time": "2023-10-08T17:52:26.767Z"
   },
   {
    "duration": 120,
    "start_time": "2023-10-08T17:52:26.778Z"
   },
   {
    "duration": 0,
    "start_time": "2023-10-08T17:52:26.900Z"
   },
   {
    "duration": 11,
    "start_time": "2023-10-08T17:52:44.843Z"
   },
   {
    "duration": 4,
    "start_time": "2023-10-08T17:52:55.933Z"
   },
   {
    "duration": 158,
    "start_time": "2023-10-08T17:52:56.699Z"
   },
   {
    "duration": 8,
    "start_time": "2023-10-08T17:53:18.566Z"
   },
   {
    "duration": 8,
    "start_time": "2023-10-08T17:53:25.330Z"
   },
   {
    "duration": 1443,
    "start_time": "2023-10-08T17:53:33.321Z"
   },
   {
    "duration": 50,
    "start_time": "2023-10-08T17:53:34.766Z"
   },
   {
    "duration": 11,
    "start_time": "2023-10-08T17:53:34.818Z"
   },
   {
    "duration": 18,
    "start_time": "2023-10-08T17:53:34.831Z"
   },
   {
    "duration": 18,
    "start_time": "2023-10-08T17:53:34.852Z"
   },
   {
    "duration": 160,
    "start_time": "2023-10-08T17:53:34.871Z"
   },
   {
    "duration": 15,
    "start_time": "2023-10-08T17:53:35.032Z"
   },
   {
    "duration": 482,
    "start_time": "2023-10-08T17:53:35.048Z"
   },
   {
    "duration": 14,
    "start_time": "2023-10-08T17:53:35.532Z"
   },
   {
    "duration": 36,
    "start_time": "2023-10-08T17:53:35.548Z"
   },
   {
    "duration": 182,
    "start_time": "2023-10-08T17:53:35.586Z"
   },
   {
    "duration": 1518,
    "start_time": "2023-10-08T17:54:23.698Z"
   },
   {
    "duration": 50,
    "start_time": "2023-10-08T17:54:25.219Z"
   },
   {
    "duration": 10,
    "start_time": "2023-10-08T17:54:25.271Z"
   },
   {
    "duration": 29,
    "start_time": "2023-10-08T17:54:25.283Z"
   },
   {
    "duration": 12,
    "start_time": "2023-10-08T17:54:25.315Z"
   },
   {
    "duration": 151,
    "start_time": "2023-10-08T17:54:25.329Z"
   },
   {
    "duration": 8,
    "start_time": "2023-10-08T17:54:25.481Z"
   },
   {
    "duration": 485,
    "start_time": "2023-10-08T17:54:25.490Z"
   },
   {
    "duration": 7,
    "start_time": "2023-10-08T17:54:25.977Z"
   },
   {
    "duration": 14,
    "start_time": "2023-10-08T17:54:25.986Z"
   },
   {
    "duration": 154,
    "start_time": "2023-10-08T17:54:26.002Z"
   },
   {
    "duration": 36,
    "start_time": "2023-10-08T18:02:39.911Z"
   },
   {
    "duration": 133,
    "start_time": "2023-10-08T18:15:13.758Z"
   },
   {
    "duration": 12,
    "start_time": "2023-10-08T18:16:07.942Z"
   },
   {
    "duration": 10,
    "start_time": "2023-10-08T18:16:23.502Z"
   },
   {
    "duration": 9,
    "start_time": "2023-10-08T18:17:50.580Z"
   },
   {
    "duration": 51,
    "start_time": "2023-10-08T18:18:32.577Z"
   },
   {
    "duration": 7,
    "start_time": "2023-10-08T18:18:32.968Z"
   },
   {
    "duration": 7,
    "start_time": "2023-10-08T18:18:33.481Z"
   },
   {
    "duration": 12,
    "start_time": "2023-10-08T18:18:34.773Z"
   },
   {
    "duration": 150,
    "start_time": "2023-10-08T18:18:37.145Z"
   },
   {
    "duration": 8,
    "start_time": "2023-10-08T18:18:46.582Z"
   },
   {
    "duration": 1351,
    "start_time": "2023-10-08T18:18:48.688Z"
   },
   {
    "duration": 14,
    "start_time": "2023-10-08T18:22:08.423Z"
   },
   {
    "duration": 13,
    "start_time": "2023-10-08T18:22:16.168Z"
   },
   {
    "duration": 1439,
    "start_time": "2023-10-08T18:22:34.801Z"
   },
   {
    "duration": 50,
    "start_time": "2023-10-08T18:22:36.242Z"
   },
   {
    "duration": 10,
    "start_time": "2023-10-08T18:22:36.294Z"
   },
   {
    "duration": 21,
    "start_time": "2023-10-08T18:22:36.305Z"
   },
   {
    "duration": 45,
    "start_time": "2023-10-08T18:22:36.328Z"
   },
   {
    "duration": 136,
    "start_time": "2023-10-08T18:22:36.375Z"
   },
   {
    "duration": 0,
    "start_time": "2023-10-08T18:22:36.513Z"
   },
   {
    "duration": 0,
    "start_time": "2023-10-08T18:22:36.515Z"
   },
   {
    "duration": 0,
    "start_time": "2023-10-08T18:22:36.516Z"
   },
   {
    "duration": 0,
    "start_time": "2023-10-08T18:22:36.517Z"
   },
   {
    "duration": 0,
    "start_time": "2023-10-08T18:22:36.518Z"
   },
   {
    "duration": 0,
    "start_time": "2023-10-08T18:22:36.519Z"
   },
   {
    "duration": 0,
    "start_time": "2023-10-08T18:22:36.520Z"
   },
   {
    "duration": 0,
    "start_time": "2023-10-08T18:22:36.521Z"
   },
   {
    "duration": 14,
    "start_time": "2023-10-08T18:22:49.988Z"
   },
   {
    "duration": 159,
    "start_time": "2023-10-08T18:23:52.611Z"
   },
   {
    "duration": 8,
    "start_time": "2023-10-08T18:23:53.004Z"
   },
   {
    "duration": 4,
    "start_time": "2023-10-08T18:23:55.197Z"
   },
   {
    "duration": 148,
    "start_time": "2023-10-08T18:23:56.248Z"
   },
   {
    "duration": 11,
    "start_time": "2023-10-08T18:23:57.468Z"
   },
   {
    "duration": 10,
    "start_time": "2023-10-08T18:24:01.158Z"
   },
   {
    "duration": 4,
    "start_time": "2023-10-08T18:24:02.249Z"
   },
   {
    "duration": 4,
    "start_time": "2023-10-08T18:24:08.902Z"
   },
   {
    "duration": 5,
    "start_time": "2023-10-08T18:31:20.794Z"
   },
   {
    "duration": 93,
    "start_time": "2023-10-08T18:34:42.073Z"
   },
   {
    "duration": 100,
    "start_time": "2023-10-08T18:35:26.073Z"
   },
   {
    "duration": 116,
    "start_time": "2023-10-08T18:36:29.122Z"
   },
   {
    "duration": 2320,
    "start_time": "2023-10-08T18:37:54.368Z"
   },
   {
    "duration": 21,
    "start_time": "2023-10-08T18:38:15.417Z"
   },
   {
    "duration": 6,
    "start_time": "2023-10-08T18:38:16.789Z"
   },
   {
    "duration": 5,
    "start_time": "2023-10-08T18:38:17.291Z"
   },
   {
    "duration": 17,
    "start_time": "2023-10-08T18:38:19.527Z"
   },
   {
    "duration": 1487,
    "start_time": "2023-10-08T18:38:24.214Z"
   },
   {
    "duration": 48,
    "start_time": "2023-10-08T18:38:25.703Z"
   },
   {
    "duration": 10,
    "start_time": "2023-10-08T18:38:25.753Z"
   },
   {
    "duration": 7,
    "start_time": "2023-10-08T18:38:25.764Z"
   },
   {
    "duration": 31,
    "start_time": "2023-10-08T18:38:25.773Z"
   },
   {
    "duration": 162,
    "start_time": "2023-10-08T18:38:25.807Z"
   },
   {
    "duration": 7,
    "start_time": "2023-10-08T18:38:25.971Z"
   },
   {
    "duration": 3,
    "start_time": "2023-10-08T18:38:25.980Z"
   },
   {
    "duration": 172,
    "start_time": "2023-10-08T18:38:25.985Z"
   },
   {
    "duration": 10,
    "start_time": "2023-10-08T18:38:26.159Z"
   },
   {
    "duration": 14,
    "start_time": "2023-10-08T18:38:26.170Z"
   },
   {
    "duration": 26,
    "start_time": "2023-10-08T18:38:26.186Z"
   },
   {
    "duration": 6,
    "start_time": "2023-10-08T18:38:26.213Z"
   },
   {
    "duration": 24,
    "start_time": "2023-10-08T18:38:26.222Z"
   },
   {
    "duration": 119,
    "start_time": "2023-10-08T18:38:26.247Z"
   },
   {
    "duration": 1401,
    "start_time": "2023-10-08T18:39:01.396Z"
   },
   {
    "duration": 49,
    "start_time": "2023-10-08T18:39:02.799Z"
   },
   {
    "duration": 24,
    "start_time": "2023-10-08T18:39:02.850Z"
   },
   {
    "duration": 53,
    "start_time": "2023-10-08T18:39:02.875Z"
   },
   {
    "duration": 59,
    "start_time": "2023-10-08T18:39:02.930Z"
   },
   {
    "duration": 189,
    "start_time": "2023-10-08T18:39:02.990Z"
   },
   {
    "duration": 8,
    "start_time": "2023-10-08T18:39:03.181Z"
   },
   {
    "duration": 19,
    "start_time": "2023-10-08T18:39:03.191Z"
   },
   {
    "duration": 158,
    "start_time": "2023-10-08T18:39:03.212Z"
   },
   {
    "duration": 9,
    "start_time": "2023-10-08T18:39:03.372Z"
   },
   {
    "duration": 16,
    "start_time": "2023-10-08T18:39:03.383Z"
   },
   {
    "duration": 32,
    "start_time": "2023-10-08T18:39:03.401Z"
   },
   {
    "duration": 8,
    "start_time": "2023-10-08T18:39:03.435Z"
   },
   {
    "duration": 19,
    "start_time": "2023-10-08T18:39:03.445Z"
   },
   {
    "duration": 20,
    "start_time": "2023-10-08T18:39:03.466Z"
   },
   {
    "duration": 123,
    "start_time": "2023-10-08T18:39:03.488Z"
   },
   {
    "duration": 8,
    "start_time": "2023-10-08T18:39:32.875Z"
   },
   {
    "duration": 6,
    "start_time": "2023-10-08T18:39:33.138Z"
   },
   {
    "duration": 140,
    "start_time": "2023-10-08T18:39:34.307Z"
   },
   {
    "duration": 17,
    "start_time": "2023-10-08T18:39:39.322Z"
   },
   {
    "duration": 77,
    "start_time": "2023-10-08T18:43:45.882Z"
   },
   {
    "duration": 96,
    "start_time": "2023-10-08T18:43:50.649Z"
   },
   {
    "duration": 87,
    "start_time": "2023-10-08T18:50:21.761Z"
   },
   {
    "duration": 6268,
    "start_time": "2023-10-08T18:56:00.977Z"
   },
   {
    "duration": 6307,
    "start_time": "2023-10-08T18:56:46.138Z"
   },
   {
    "duration": 6541,
    "start_time": "2023-10-08T18:59:04.403Z"
   },
   {
    "duration": 5973,
    "start_time": "2023-10-08T18:59:28.876Z"
   },
   {
    "duration": 6728,
    "start_time": "2023-10-08T19:00:07.022Z"
   },
   {
    "duration": 9285,
    "start_time": "2023-10-08T19:00:36.666Z"
   },
   {
    "duration": 9095,
    "start_time": "2023-10-08T19:01:55.751Z"
   },
   {
    "duration": 29335,
    "start_time": "2023-10-08T19:03:00.415Z"
   },
   {
    "duration": 28638,
    "start_time": "2023-10-08T19:04:19.209Z"
   },
   {
    "duration": 686903,
    "start_time": "2023-10-08T19:04:59.948Z"
   },
   {
    "duration": 66,
    "start_time": "2023-10-09T09:16:34.568Z"
   },
   {
    "duration": 1746,
    "start_time": "2023-10-09T09:16:40.054Z"
   },
   {
    "duration": 153,
    "start_time": "2023-10-09T09:16:41.802Z"
   },
   {
    "duration": 14,
    "start_time": "2023-10-09T09:16:41.956Z"
   },
   {
    "duration": 6,
    "start_time": "2023-10-09T09:16:41.972Z"
   },
   {
    "duration": 31,
    "start_time": "2023-10-09T09:16:41.979Z"
   },
   {
    "duration": 160,
    "start_time": "2023-10-09T09:16:42.011Z"
   },
   {
    "duration": 10,
    "start_time": "2023-10-09T09:16:42.172Z"
   },
   {
    "duration": 5,
    "start_time": "2023-10-09T09:16:43.007Z"
   },
   {
    "duration": 153,
    "start_time": "2023-10-09T09:16:43.233Z"
   },
   {
    "duration": 12,
    "start_time": "2023-10-09T09:16:44.573Z"
   },
   {
    "duration": 10,
    "start_time": "2023-10-09T09:16:45.168Z"
   },
   {
    "duration": 177,
    "start_time": "2023-10-09T09:19:26.634Z"
   },
   {
    "duration": 8,
    "start_time": "2023-10-09T09:19:35.243Z"
   },
   {
    "duration": 1513,
    "start_time": "2023-10-09T09:21:41.005Z"
   },
   {
    "duration": 51,
    "start_time": "2023-10-09T09:21:42.520Z"
   },
   {
    "duration": 12,
    "start_time": "2023-10-09T09:21:42.573Z"
   },
   {
    "duration": 12,
    "start_time": "2023-10-09T09:21:42.586Z"
   },
   {
    "duration": 24,
    "start_time": "2023-10-09T09:21:42.600Z"
   },
   {
    "duration": 165,
    "start_time": "2023-10-09T09:21:42.626Z"
   },
   {
    "duration": 8,
    "start_time": "2023-10-09T09:21:42.793Z"
   },
   {
    "duration": 13,
    "start_time": "2023-10-09T09:21:42.803Z"
   },
   {
    "duration": 164,
    "start_time": "2023-10-09T09:21:42.818Z"
   },
   {
    "duration": 9,
    "start_time": "2023-10-09T09:21:42.984Z"
   },
   {
    "duration": 9,
    "start_time": "2023-10-09T09:21:42.995Z"
   },
   {
    "duration": 12,
    "start_time": "2023-10-09T09:21:43.006Z"
   },
   {
    "duration": 381,
    "start_time": "2023-10-09T09:21:43.020Z"
   },
   {
    "duration": 88,
    "start_time": "2023-10-09T09:21:43.403Z"
   },
   {
    "duration": 168,
    "start_time": "2023-10-09T09:25:07.070Z"
   },
   {
    "duration": 176,
    "start_time": "2023-10-09T09:28:43.811Z"
   },
   {
    "duration": 1566,
    "start_time": "2023-10-09T09:30:37.798Z"
   },
   {
    "duration": 60,
    "start_time": "2023-10-09T09:30:39.366Z"
   },
   {
    "duration": 11,
    "start_time": "2023-10-09T09:30:39.429Z"
   },
   {
    "duration": 49,
    "start_time": "2023-10-09T09:30:39.441Z"
   },
   {
    "duration": 52,
    "start_time": "2023-10-09T09:30:39.493Z"
   },
   {
    "duration": 184,
    "start_time": "2023-10-09T09:30:39.547Z"
   },
   {
    "duration": 9,
    "start_time": "2023-10-09T09:30:39.733Z"
   },
   {
    "duration": 29,
    "start_time": "2023-10-09T09:30:39.744Z"
   },
   {
    "duration": 166,
    "start_time": "2023-10-09T09:30:39.775Z"
   },
   {
    "duration": 15,
    "start_time": "2023-10-09T09:30:39.942Z"
   },
   {
    "duration": 35,
    "start_time": "2023-10-09T09:30:39.958Z"
   },
   {
    "duration": 16,
    "start_time": "2023-10-09T09:30:39.994Z"
   },
   {
    "duration": 304,
    "start_time": "2023-10-09T09:30:40.012Z"
   },
   {
    "duration": 85,
    "start_time": "2023-10-09T09:30:40.318Z"
   },
   {
    "duration": 165,
    "start_time": "2023-10-09T09:31:35.958Z"
   },
   {
    "duration": 170,
    "start_time": "2023-10-09T09:32:16.742Z"
   },
   {
    "duration": 217,
    "start_time": "2023-10-09T09:32:29.546Z"
   },
   {
    "duration": 4,
    "start_time": "2023-10-09T09:33:28.646Z"
   },
   {
    "duration": 260,
    "start_time": "2023-10-09T09:37:35.005Z"
   },
   {
    "duration": 172,
    "start_time": "2023-10-09T09:37:44.325Z"
   },
   {
    "duration": 178,
    "start_time": "2023-10-09T09:38:09.949Z"
   },
   {
    "duration": 244,
    "start_time": "2023-10-09T09:38:14.515Z"
   },
   {
    "duration": 2528,
    "start_time": "2023-10-09T09:38:36.864Z"
   },
   {
    "duration": 1690,
    "start_time": "2023-10-09T09:39:37.454Z"
   },
   {
    "duration": 66,
    "start_time": "2023-10-09T09:39:39.147Z"
   },
   {
    "duration": 15,
    "start_time": "2023-10-09T09:39:39.214Z"
   },
   {
    "duration": 9,
    "start_time": "2023-10-09T09:39:39.231Z"
   },
   {
    "duration": 23,
    "start_time": "2023-10-09T09:39:39.243Z"
   },
   {
    "duration": 198,
    "start_time": "2023-10-09T09:39:39.268Z"
   },
   {
    "duration": 9,
    "start_time": "2023-10-09T09:39:39.468Z"
   },
   {
    "duration": 8,
    "start_time": "2023-10-09T09:39:39.479Z"
   },
   {
    "duration": 203,
    "start_time": "2023-10-09T09:39:39.489Z"
   },
   {
    "duration": 11,
    "start_time": "2023-10-09T09:39:39.694Z"
   },
   {
    "duration": 10,
    "start_time": "2023-10-09T09:39:39.707Z"
   },
   {
    "duration": 5,
    "start_time": "2023-10-09T09:39:39.719Z"
   },
   {
    "duration": 42,
    "start_time": "2023-10-09T09:39:39.726Z"
   },
   {
    "duration": 282,
    "start_time": "2023-10-09T09:39:39.772Z"
   },
   {
    "duration": 0,
    "start_time": "2023-10-09T09:39:40.056Z"
   },
   {
    "duration": 0,
    "start_time": "2023-10-09T09:39:40.057Z"
   },
   {
    "duration": 93,
    "start_time": "2023-10-09T09:40:36.630Z"
   },
   {
    "duration": 11,
    "start_time": "2023-10-09T09:41:53.977Z"
   },
   {
    "duration": 127,
    "start_time": "2023-10-09T09:41:54.297Z"
   },
   {
    "duration": 10,
    "start_time": "2023-10-09T09:43:30.981Z"
   },
   {
    "duration": 92,
    "start_time": "2023-10-09T09:43:31.668Z"
   },
   {
    "duration": 1878,
    "start_time": "2023-10-09T09:43:35.158Z"
   },
   {
    "duration": 15,
    "start_time": "2023-10-09T09:44:23.386Z"
   },
   {
    "duration": 12,
    "start_time": "2023-10-09T09:44:32.577Z"
   },
   {
    "duration": 86,
    "start_time": "2023-10-09T09:44:56.261Z"
   },
   {
    "duration": 160,
    "start_time": "2023-10-09T09:46:07.186Z"
   },
   {
    "duration": 1618,
    "start_time": "2023-10-09T09:46:13.562Z"
   },
   {
    "duration": 55,
    "start_time": "2023-10-09T09:46:15.182Z"
   },
   {
    "duration": 13,
    "start_time": "2023-10-09T09:46:15.239Z"
   },
   {
    "duration": 26,
    "start_time": "2023-10-09T09:46:15.254Z"
   },
   {
    "duration": 33,
    "start_time": "2023-10-09T09:46:15.283Z"
   },
   {
    "duration": 164,
    "start_time": "2023-10-09T09:46:15.318Z"
   },
   {
    "duration": 9,
    "start_time": "2023-10-09T09:46:15.484Z"
   },
   {
    "duration": 16,
    "start_time": "2023-10-09T09:46:15.495Z"
   },
   {
    "duration": 178,
    "start_time": "2023-10-09T09:46:15.513Z"
   },
   {
    "duration": 11,
    "start_time": "2023-10-09T09:46:15.693Z"
   },
   {
    "duration": 11,
    "start_time": "2023-10-09T09:46:15.706Z"
   },
   {
    "duration": 5,
    "start_time": "2023-10-09T09:46:15.719Z"
   },
   {
    "duration": 33,
    "start_time": "2023-10-09T09:46:15.726Z"
   },
   {
    "duration": 217,
    "start_time": "2023-10-09T09:46:15.763Z"
   },
   {
    "duration": 0,
    "start_time": "2023-10-09T09:46:15.982Z"
   },
   {
    "duration": 0,
    "start_time": "2023-10-09T09:46:15.983Z"
   },
   {
    "duration": 17,
    "start_time": "2023-10-09T09:47:35.982Z"
   },
   {
    "duration": 17,
    "start_time": "2023-10-09T09:47:57.873Z"
   },
   {
    "duration": 2034,
    "start_time": "2023-10-09T09:58:13.227Z"
   },
   {
    "duration": 4,
    "start_time": "2023-10-09T09:59:17.925Z"
   },
   {
    "duration": 1942,
    "start_time": "2023-10-09T09:59:21.971Z"
   },
   {
    "duration": 7,
    "start_time": "2023-10-09T10:01:00.529Z"
   },
   {
    "duration": 2083,
    "start_time": "2023-10-09T10:01:00.856Z"
   },
   {
    "duration": 1635,
    "start_time": "2023-10-09T10:01:26.049Z"
   },
   {
    "duration": 54,
    "start_time": "2023-10-09T10:01:27.686Z"
   },
   {
    "duration": 11,
    "start_time": "2023-10-09T10:01:27.742Z"
   },
   {
    "duration": 8,
    "start_time": "2023-10-09T10:01:27.755Z"
   },
   {
    "duration": 20,
    "start_time": "2023-10-09T10:01:27.765Z"
   },
   {
    "duration": 172,
    "start_time": "2023-10-09T10:01:27.786Z"
   },
   {
    "duration": 8,
    "start_time": "2023-10-09T10:01:27.960Z"
   },
   {
    "duration": 5,
    "start_time": "2023-10-09T10:01:27.970Z"
   },
   {
    "duration": 208,
    "start_time": "2023-10-09T10:01:27.977Z"
   },
   {
    "duration": 12,
    "start_time": "2023-10-09T10:01:28.187Z"
   },
   {
    "duration": 10,
    "start_time": "2023-10-09T10:01:28.201Z"
   },
   {
    "duration": 5,
    "start_time": "2023-10-09T10:01:28.213Z"
   },
   {
    "duration": 137,
    "start_time": "2023-10-09T10:01:28.220Z"
   },
   {
    "duration": 0,
    "start_time": "2023-10-09T10:01:28.359Z"
   },
   {
    "duration": 0,
    "start_time": "2023-10-09T10:01:28.360Z"
   },
   {
    "duration": 0,
    "start_time": "2023-10-09T10:01:28.361Z"
   },
   {
    "duration": 0,
    "start_time": "2023-10-09T10:01:28.362Z"
   },
   {
    "duration": 0,
    "start_time": "2023-10-09T10:01:28.363Z"
   },
   {
    "duration": 12,
    "start_time": "2023-10-09T10:02:22.281Z"
   },
   {
    "duration": 11,
    "start_time": "2023-10-09T10:02:47.470Z"
   },
   {
    "duration": 1760,
    "start_time": "2023-10-09T10:02:48.619Z"
   },
   {
    "duration": 11,
    "start_time": "2023-10-09T10:04:00.071Z"
   },
   {
    "duration": 1923,
    "start_time": "2023-10-09T10:04:00.563Z"
   },
   {
    "duration": 15,
    "start_time": "2023-10-09T10:04:13.503Z"
   },
   {
    "duration": 2332,
    "start_time": "2023-10-09T10:04:19.080Z"
   },
   {
    "duration": 90,
    "start_time": "2023-10-09T10:04:38.671Z"
   },
   {
    "duration": 1882,
    "start_time": "2023-10-09T10:04:49.589Z"
   },
   {
    "duration": 18,
    "start_time": "2023-10-09T10:06:17.889Z"
   },
   {
    "duration": 17,
    "start_time": "2023-10-09T10:06:53.659Z"
   },
   {
    "duration": 18,
    "start_time": "2023-10-09T10:07:47.414Z"
   },
   {
    "duration": 11,
    "start_time": "2023-10-09T10:08:42.140Z"
   },
   {
    "duration": 1855,
    "start_time": "2023-10-09T10:08:42.628Z"
   },
   {
    "duration": 33,
    "start_time": "2023-10-09T10:09:26.837Z"
   },
   {
    "duration": 1566,
    "start_time": "2023-10-09T10:10:00.703Z"
   },
   {
    "duration": 56,
    "start_time": "2023-10-09T10:10:02.271Z"
   },
   {
    "duration": 19,
    "start_time": "2023-10-09T10:10:02.329Z"
   },
   {
    "duration": 43,
    "start_time": "2023-10-09T10:10:02.350Z"
   },
   {
    "duration": 81,
    "start_time": "2023-10-09T10:10:02.396Z"
   },
   {
    "duration": 232,
    "start_time": "2023-10-09T10:10:02.479Z"
   },
   {
    "duration": 9,
    "start_time": "2023-10-09T10:10:02.713Z"
   },
   {
    "duration": 25,
    "start_time": "2023-10-09T10:10:02.724Z"
   },
   {
    "duration": 196,
    "start_time": "2023-10-09T10:10:02.751Z"
   },
   {
    "duration": 15,
    "start_time": "2023-10-09T10:10:02.956Z"
   },
   {
    "duration": 28,
    "start_time": "2023-10-09T10:10:02.973Z"
   },
   {
    "duration": 23,
    "start_time": "2023-10-09T10:10:03.003Z"
   },
   {
    "duration": 142,
    "start_time": "2023-10-09T10:10:03.027Z"
   },
   {
    "duration": 0,
    "start_time": "2023-10-09T10:10:03.171Z"
   },
   {
    "duration": 0,
    "start_time": "2023-10-09T10:10:03.173Z"
   },
   {
    "duration": 0,
    "start_time": "2023-10-09T10:10:03.175Z"
   },
   {
    "duration": 0,
    "start_time": "2023-10-09T10:10:03.176Z"
   },
   {
    "duration": 0,
    "start_time": "2023-10-09T10:10:03.178Z"
   },
   {
    "duration": 0,
    "start_time": "2023-10-09T10:10:03.179Z"
   },
   {
    "duration": 16,
    "start_time": "2023-10-09T10:10:21.548Z"
   },
   {
    "duration": 50362,
    "start_time": "2023-10-09T10:10:23.195Z"
   },
   {
    "duration": 1975,
    "start_time": "2023-10-09T10:13:54.196Z"
   },
   {
    "duration": 18,
    "start_time": "2023-10-09T10:14:05.976Z"
   },
   {
    "duration": 2100,
    "start_time": "2023-10-09T10:14:15.029Z"
   },
   {
    "duration": 1583,
    "start_time": "2023-10-09T10:14:26.334Z"
   },
   {
    "duration": 53,
    "start_time": "2023-10-09T10:14:27.919Z"
   },
   {
    "duration": 12,
    "start_time": "2023-10-09T10:14:27.975Z"
   },
   {
    "duration": 9,
    "start_time": "2023-10-09T10:14:27.989Z"
   },
   {
    "duration": 18,
    "start_time": "2023-10-09T10:14:28.001Z"
   },
   {
    "duration": 197,
    "start_time": "2023-10-09T10:14:28.020Z"
   },
   {
    "duration": 9,
    "start_time": "2023-10-09T10:14:28.218Z"
   },
   {
    "duration": 7,
    "start_time": "2023-10-09T10:14:28.229Z"
   },
   {
    "duration": 167,
    "start_time": "2023-10-09T10:14:28.238Z"
   },
   {
    "duration": 10,
    "start_time": "2023-10-09T10:14:28.407Z"
   },
   {
    "duration": 16,
    "start_time": "2023-10-09T10:14:28.419Z"
   },
   {
    "duration": 28,
    "start_time": "2023-10-09T10:14:28.437Z"
   },
   {
    "duration": 46906,
    "start_time": "2023-10-09T10:14:28.467Z"
   },
   {
    "duration": 101,
    "start_time": "2023-10-09T10:15:15.470Z"
   },
   {
    "duration": 26,
    "start_time": "2023-10-09T10:15:15.574Z"
   },
   {
    "duration": 2047,
    "start_time": "2023-10-09T10:15:15.602Z"
   },
   {
    "duration": 106,
    "start_time": "2023-10-09T10:15:17.651Z"
   },
   {
    "duration": 1987,
    "start_time": "2023-10-09T10:15:17.761Z"
   },
   {
    "duration": 108,
    "start_time": "2023-10-09T10:15:19.750Z"
   },
   {
    "duration": 251,
    "start_time": "2023-10-09T10:15:43.303Z"
   },
   {
    "duration": 199,
    "start_time": "2023-10-09T10:16:15.362Z"
   },
   {
    "duration": 211,
    "start_time": "2023-10-09T10:16:29.254Z"
   },
   {
    "duration": 1556,
    "start_time": "2023-10-09T10:16:53.958Z"
   },
   {
    "duration": 51,
    "start_time": "2023-10-09T10:16:55.516Z"
   },
   {
    "duration": 10,
    "start_time": "2023-10-09T10:16:55.569Z"
   },
   {
    "duration": 9,
    "start_time": "2023-10-09T10:16:55.580Z"
   },
   {
    "duration": 15,
    "start_time": "2023-10-09T10:16:55.591Z"
   },
   {
    "duration": 187,
    "start_time": "2023-10-09T10:16:55.608Z"
   },
   {
    "duration": 8,
    "start_time": "2023-10-09T10:16:55.797Z"
   },
   {
    "duration": 5,
    "start_time": "2023-10-09T10:16:55.807Z"
   },
   {
    "duration": 178,
    "start_time": "2023-10-09T10:16:55.813Z"
   },
   {
    "duration": 12,
    "start_time": "2023-10-09T10:16:55.993Z"
   },
   {
    "duration": 19,
    "start_time": "2023-10-09T10:16:56.007Z"
   },
   {
    "duration": 32,
    "start_time": "2023-10-09T10:16:56.028Z"
   },
   {
    "duration": 1554,
    "start_time": "2023-10-09T10:17:40.936Z"
   },
   {
    "duration": 53,
    "start_time": "2023-10-09T10:17:42.492Z"
   },
   {
    "duration": 10,
    "start_time": "2023-10-09T10:17:42.547Z"
   },
   {
    "duration": 20,
    "start_time": "2023-10-09T10:17:42.558Z"
   },
   {
    "duration": 43,
    "start_time": "2023-10-09T10:17:42.580Z"
   },
   {
    "duration": 180,
    "start_time": "2023-10-09T10:17:42.624Z"
   },
   {
    "duration": 8,
    "start_time": "2023-10-09T10:17:42.806Z"
   },
   {
    "duration": 12,
    "start_time": "2023-10-09T10:17:42.816Z"
   },
   {
    "duration": 173,
    "start_time": "2023-10-09T10:17:42.830Z"
   },
   {
    "duration": 10,
    "start_time": "2023-10-09T10:17:43.005Z"
   },
   {
    "duration": 19,
    "start_time": "2023-10-09T10:17:43.017Z"
   },
   {
    "duration": 18,
    "start_time": "2023-10-09T10:17:43.038Z"
   },
   {
    "duration": 132,
    "start_time": "2023-10-09T10:17:43.058Z"
   },
   {
    "duration": 0,
    "start_time": "2023-10-09T10:17:43.192Z"
   },
   {
    "duration": 0,
    "start_time": "2023-10-09T10:17:43.193Z"
   },
   {
    "duration": 0,
    "start_time": "2023-10-09T10:17:43.194Z"
   },
   {
    "duration": 0,
    "start_time": "2023-10-09T10:17:43.195Z"
   },
   {
    "duration": 15,
    "start_time": "2023-10-09T10:18:22.788Z"
   },
   {
    "duration": 49679,
    "start_time": "2023-10-09T10:18:24.280Z"
   },
   {
    "duration": 398,
    "start_time": "2023-10-09T10:19:13.962Z"
   },
   {
    "duration": 294,
    "start_time": "2023-10-09T10:20:22.592Z"
   },
   {
    "duration": 1806,
    "start_time": "2023-10-09T10:21:08.353Z"
   },
   {
    "duration": 54,
    "start_time": "2023-10-09T10:21:10.161Z"
   },
   {
    "duration": 11,
    "start_time": "2023-10-09T10:21:10.218Z"
   },
   {
    "duration": 14,
    "start_time": "2023-10-09T10:21:10.230Z"
   },
   {
    "duration": 20,
    "start_time": "2023-10-09T10:21:10.246Z"
   },
   {
    "duration": 190,
    "start_time": "2023-10-09T10:21:10.268Z"
   },
   {
    "duration": 11,
    "start_time": "2023-10-09T10:21:10.460Z"
   },
   {
    "duration": 5,
    "start_time": "2023-10-09T10:21:10.473Z"
   },
   {
    "duration": 187,
    "start_time": "2023-10-09T10:21:10.480Z"
   },
   {
    "duration": 10,
    "start_time": "2023-10-09T10:21:10.669Z"
   },
   {
    "duration": 20,
    "start_time": "2023-10-09T10:21:10.681Z"
   },
   {
    "duration": 36,
    "start_time": "2023-10-09T10:21:10.703Z"
   },
   {
    "duration": 23,
    "start_time": "2023-10-09T10:21:10.741Z"
   },
   {
    "duration": 3,
    "start_time": "2023-10-09T10:21:10.766Z"
   },
   {
    "duration": 361,
    "start_time": "2023-10-09T10:21:10.771Z"
   },
   {
    "duration": 10,
    "start_time": "2023-10-09T10:21:11.134Z"
   },
   {
    "duration": 0,
    "start_time": "2023-10-09T10:21:11.146Z"
   },
   {
    "duration": 0,
    "start_time": "2023-10-09T10:21:11.147Z"
   },
   {
    "duration": 0,
    "start_time": "2023-10-09T10:21:11.148Z"
   },
   {
    "duration": 14,
    "start_time": "2023-10-09T10:22:19.900Z"
   },
   {
    "duration": 3,
    "start_time": "2023-10-09T10:22:20.374Z"
   },
   {
    "duration": 10,
    "start_time": "2023-10-09T10:22:21.665Z"
   },
   {
    "duration": 4,
    "start_time": "2023-10-09T10:23:19.356Z"
   },
   {
    "duration": 14,
    "start_time": "2023-10-09T10:23:19.604Z"
   },
   {
    "duration": 9,
    "start_time": "2023-10-09T10:23:21.402Z"
   },
   {
    "duration": 1854,
    "start_time": "2023-10-09T10:23:24.822Z"
   },
   {
    "duration": 14,
    "start_time": "2023-10-09T10:23:55.271Z"
   },
   {
    "duration": 19,
    "start_time": "2023-10-09T10:24:15.691Z"
   },
   {
    "duration": 76,
    "start_time": "2023-10-09T10:24:17.985Z"
   },
   {
    "duration": 71,
    "start_time": "2023-10-09T10:24:49.893Z"
   },
   {
    "duration": 1782,
    "start_time": "2023-10-10T22:13:45.131Z"
   },
   {
    "duration": 125,
    "start_time": "2023-10-10T22:13:46.919Z"
   },
   {
    "duration": 11,
    "start_time": "2023-10-10T22:13:47.046Z"
   },
   {
    "duration": 21,
    "start_time": "2023-10-10T22:13:47.058Z"
   },
   {
    "duration": 24,
    "start_time": "2023-10-10T22:13:47.081Z"
   },
   {
    "duration": 185,
    "start_time": "2023-10-10T22:13:47.108Z"
   },
   {
    "duration": 16,
    "start_time": "2023-10-10T22:13:47.295Z"
   },
   {
    "duration": 48,
    "start_time": "2023-10-10T22:13:47.314Z"
   },
   {
    "duration": 196,
    "start_time": "2023-10-10T22:13:47.364Z"
   },
   {
    "duration": 10,
    "start_time": "2023-10-10T22:13:47.562Z"
   },
   {
    "duration": 33,
    "start_time": "2023-10-10T22:13:47.574Z"
   },
   {
    "duration": 8,
    "start_time": "2023-10-10T22:13:47.609Z"
   },
   {
    "duration": 32,
    "start_time": "2023-10-10T22:13:47.620Z"
   },
   {
    "duration": 109,
    "start_time": "2023-10-10T22:13:47.655Z"
   },
   {
    "duration": 53,
    "start_time": "2023-10-10T22:13:47.766Z"
   },
   {
    "duration": 287,
    "start_time": "2023-10-10T22:13:47.821Z"
   },
   {
    "duration": 0,
    "start_time": "2023-10-10T22:13:48.110Z"
   },
   {
    "duration": 24,
    "start_time": "2023-10-10T22:14:02.793Z"
   },
   {
    "duration": 43,
    "start_time": "2023-10-10T22:14:41.989Z"
   },
   {
    "duration": 19,
    "start_time": "2023-10-10T22:15:39.585Z"
   },
   {
    "duration": 17,
    "start_time": "2023-10-10T22:15:41.054Z"
   },
   {
    "duration": 19,
    "start_time": "2023-10-10T22:15:50.675Z"
   },
   {
    "duration": 1589,
    "start_time": "2023-10-10T22:15:58.047Z"
   },
   {
    "duration": 52,
    "start_time": "2023-10-10T22:15:59.639Z"
   },
   {
    "duration": 13,
    "start_time": "2023-10-10T22:15:59.692Z"
   },
   {
    "duration": 10,
    "start_time": "2023-10-10T22:15:59.710Z"
   },
   {
    "duration": 21,
    "start_time": "2023-10-10T22:15:59.723Z"
   },
   {
    "duration": 206,
    "start_time": "2023-10-10T22:15:59.746Z"
   },
   {
    "duration": 8,
    "start_time": "2023-10-10T22:15:59.954Z"
   },
   {
    "duration": 24,
    "start_time": "2023-10-10T22:15:59.964Z"
   },
   {
    "duration": 178,
    "start_time": "2023-10-10T22:15:59.990Z"
   },
   {
    "duration": 12,
    "start_time": "2023-10-10T22:16:00.170Z"
   },
   {
    "duration": 49,
    "start_time": "2023-10-10T22:16:00.184Z"
   },
   {
    "duration": 49,
    "start_time": "2023-10-10T22:16:00.235Z"
   },
   {
    "duration": 82,
    "start_time": "2023-10-10T22:16:00.285Z"
   },
   {
    "duration": 124,
    "start_time": "2023-10-10T22:16:00.370Z"
   },
   {
    "duration": 120,
    "start_time": "2023-10-10T22:16:00.496Z"
   },
   {
    "duration": 253,
    "start_time": "2023-10-10T22:16:00.619Z"
   },
   {
    "duration": 0,
    "start_time": "2023-10-10T22:16:00.873Z"
   },
   {
    "duration": 15,
    "start_time": "2023-10-10T22:19:51.001Z"
   },
   {
    "duration": 4,
    "start_time": "2023-10-10T22:20:01.648Z"
   },
   {
    "duration": 3,
    "start_time": "2023-10-10T22:20:45.589Z"
   },
   {
    "duration": 19155,
    "start_time": "2023-10-10T22:20:45.594Z"
   },
   {
    "duration": 6,
    "start_time": "2023-10-10T22:21:04.757Z"
   },
   {
    "duration": 4,
    "start_time": "2023-10-10T22:21:15.927Z"
   },
   {
    "duration": 52650,
    "start_time": "2023-10-10T22:21:17.483Z"
   },
   {
    "duration": 10368,
    "start_time": "2023-10-10T22:22:25.230Z"
   },
   {
    "duration": 1440,
    "start_time": "2023-10-10T22:22:35.601Z"
   },
   {
    "duration": 52,
    "start_time": "2023-10-10T22:22:37.042Z"
   },
   {
    "duration": 16,
    "start_time": "2023-10-10T22:22:37.096Z"
   },
   {
    "duration": 15,
    "start_time": "2023-10-10T22:22:37.116Z"
   },
   {
    "duration": 37,
    "start_time": "2023-10-10T22:22:37.133Z"
   },
   {
    "duration": 199,
    "start_time": "2023-10-10T22:22:37.171Z"
   },
   {
    "duration": 11,
    "start_time": "2023-10-10T22:22:37.372Z"
   },
   {
    "duration": 43,
    "start_time": "2023-10-10T22:22:37.385Z"
   },
   {
    "duration": 210,
    "start_time": "2023-10-10T22:22:37.438Z"
   },
   {
    "duration": 12,
    "start_time": "2023-10-10T22:22:37.649Z"
   },
   {
    "duration": 31,
    "start_time": "2023-10-10T22:22:37.663Z"
   },
   {
    "duration": 70,
    "start_time": "2023-10-10T22:22:37.696Z"
   },
   {
    "duration": 64,
    "start_time": "2023-10-10T22:22:37.770Z"
   },
   {
    "duration": 64,
    "start_time": "2023-10-10T22:22:37.836Z"
   },
   {
    "duration": 203,
    "start_time": "2023-10-10T22:22:37.902Z"
   },
   {
    "duration": 6,
    "start_time": "2023-10-10T22:22:38.116Z"
   },
   {
    "duration": 54863,
    "start_time": "2023-10-10T22:22:38.125Z"
   },
   {
    "duration": 209,
    "start_time": "2023-10-10T22:23:32.991Z"
   },
   {
    "duration": 27,
    "start_time": "2023-10-10T22:23:33.205Z"
   },
   {
    "duration": 30,
    "start_time": "2023-10-10T22:23:33.234Z"
   },
   {
    "duration": 18,
    "start_time": "2023-10-10T22:23:33.267Z"
   },
   {
    "duration": 17,
    "start_time": "2023-10-10T22:23:37.229Z"
   },
   {
    "duration": 29,
    "start_time": "2023-10-10T22:23:37.492Z"
   },
   {
    "duration": 101,
    "start_time": "2023-10-10T22:23:52.809Z"
   },
   {
    "duration": 5,
    "start_time": "2023-10-10T22:23:54.789Z"
   },
   {
    "duration": 76125,
    "start_time": "2023-10-10T22:23:55.794Z"
   },
   {
    "duration": 116,
    "start_time": "2023-10-10T22:26:24.317Z"
   },
   {
    "duration": 97,
    "start_time": "2023-10-10T22:26:55.175Z"
   },
   {
    "duration": 355,
    "start_time": "2023-10-10T22:27:14.950Z"
   },
   {
    "duration": 5,
    "start_time": "2023-10-10T22:27:16.992Z"
   },
   {
    "duration": 241,
    "start_time": "2023-10-10T22:27:59.956Z"
   },
   {
    "duration": 91,
    "start_time": "2023-10-10T22:28:13.072Z"
   },
   {
    "duration": 15,
    "start_time": "2023-10-10T22:28:27.303Z"
   },
   {
    "duration": 6,
    "start_time": "2023-10-10T22:29:02.520Z"
   },
   {
    "duration": 5,
    "start_time": "2023-10-10T22:29:33.799Z"
   },
   {
    "duration": 5,
    "start_time": "2023-10-10T22:29:50.754Z"
   },
   {
    "duration": 65174,
    "start_time": "2023-10-10T22:29:52.536Z"
   },
   {
    "duration": 5,
    "start_time": "2023-10-10T22:30:57.713Z"
   },
   {
    "duration": 22,
    "start_time": "2023-10-10T22:33:52.975Z"
   },
   {
    "duration": 1452,
    "start_time": "2023-10-10T22:39:18.275Z"
   },
   {
    "duration": 1032,
    "start_time": "2023-10-10T22:40:18.620Z"
   },
   {
    "duration": 969,
    "start_time": "2023-10-10T22:40:28.026Z"
   },
   {
    "duration": 1169,
    "start_time": "2023-10-10T22:40:53.744Z"
   },
   {
    "duration": 862,
    "start_time": "2023-10-10T22:40:58.129Z"
   },
   {
    "duration": 14,
    "start_time": "2023-10-10T22:41:10.441Z"
   },
   {
    "duration": 4133,
    "start_time": "2023-10-10T22:41:30.223Z"
   },
   {
    "duration": 3,
    "start_time": "2023-10-10T22:42:31.832Z"
   },
   {
    "duration": 3692,
    "start_time": "2023-10-10T22:42:32.171Z"
   },
   {
    "duration": 6,
    "start_time": "2023-10-10T22:42:38.634Z"
   },
   {
    "duration": 5,
    "start_time": "2023-10-10T22:42:56.831Z"
   },
   {
    "duration": 8920,
    "start_time": "2023-10-10T22:42:58.380Z"
   },
   {
    "duration": 5,
    "start_time": "2023-10-10T22:43:07.304Z"
   },
   {
    "duration": 5,
    "start_time": "2023-10-10T22:43:17.225Z"
   },
   {
    "duration": 6,
    "start_time": "2023-10-10T22:43:27.127Z"
   },
   {
    "duration": 18472,
    "start_time": "2023-10-10T22:43:28.196Z"
   },
   {
    "duration": 4,
    "start_time": "2023-10-10T22:43:50.350Z"
   },
   {
    "duration": 3,
    "start_time": "2023-10-10T22:44:18.249Z"
   },
   {
    "duration": 36596,
    "start_time": "2023-10-10T22:44:18.630Z"
   },
   {
    "duration": 6,
    "start_time": "2023-10-10T22:44:55.228Z"
   },
   {
    "duration": 4,
    "start_time": "2023-10-10T22:45:23.837Z"
   },
   {
    "duration": 5430,
    "start_time": "2023-10-10T22:45:25.365Z"
   },
   {
    "duration": 9,
    "start_time": "2023-10-10T22:45:30.797Z"
   },
   {
    "duration": 9,
    "start_time": "2023-10-10T22:45:52.218Z"
   },
   {
    "duration": 5320,
    "start_time": "2023-10-10T22:45:52.674Z"
   },
   {
    "duration": 6,
    "start_time": "2023-10-10T22:45:57.997Z"
   },
   {
    "duration": 4,
    "start_time": "2023-10-10T22:46:19.334Z"
   },
   {
    "duration": 5498,
    "start_time": "2023-10-10T22:46:19.665Z"
   },
   {
    "duration": 4,
    "start_time": "2023-10-10T22:46:25.165Z"
   },
   {
    "duration": 3,
    "start_time": "2023-10-10T22:46:54.162Z"
   },
   {
    "duration": 3947,
    "start_time": "2023-10-10T22:46:54.525Z"
   },
   {
    "duration": 4,
    "start_time": "2023-10-10T22:46:58.474Z"
   },
   {
    "duration": 3,
    "start_time": "2023-10-10T22:47:19.689Z"
   },
   {
    "duration": 7637,
    "start_time": "2023-10-10T22:47:19.924Z"
   },
   {
    "duration": 4,
    "start_time": "2023-10-10T22:47:27.563Z"
   },
   {
    "duration": 4,
    "start_time": "2023-10-10T22:47:33.046Z"
   },
   {
    "duration": 4,
    "start_time": "2023-10-10T22:52:11.030Z"
   },
   {
    "duration": 17503,
    "start_time": "2023-10-10T22:52:12.362Z"
   },
   {
    "duration": 4,
    "start_time": "2023-10-10T22:52:32.479Z"
   },
   {
    "duration": 4,
    "start_time": "2023-10-10T22:52:50.467Z"
   },
   {
    "duration": 9134,
    "start_time": "2023-10-10T22:52:50.898Z"
   },
   {
    "duration": 5,
    "start_time": "2023-10-10T22:53:00.033Z"
   },
   {
    "duration": 3,
    "start_time": "2023-10-10T22:54:21.896Z"
   },
   {
    "duration": 8300,
    "start_time": "2023-10-10T22:54:22.246Z"
   },
   {
    "duration": 3,
    "start_time": "2023-10-10T22:54:30.548Z"
   },
   {
    "duration": 4,
    "start_time": "2023-10-10T22:55:13.594Z"
   },
   {
    "duration": 2077,
    "start_time": "2023-10-10T22:55:13.979Z"
   },
   {
    "duration": 10,
    "start_time": "2023-10-10T22:55:16.058Z"
   },
   {
    "duration": 4,
    "start_time": "2023-10-10T22:55:23.964Z"
   },
   {
    "duration": 2205,
    "start_time": "2023-10-10T22:55:24.745Z"
   },
   {
    "duration": 4,
    "start_time": "2023-10-10T22:55:30.627Z"
   },
   {
    "duration": 8623,
    "start_time": "2023-10-10T22:55:30.903Z"
   },
   {
    "duration": 6,
    "start_time": "2023-10-10T22:55:39.530Z"
   },
   {
    "duration": 4,
    "start_time": "2023-10-10T22:55:54.664Z"
   },
   {
    "duration": 62896,
    "start_time": "2023-10-10T22:55:54.926Z"
   },
   {
    "duration": 7,
    "start_time": "2023-10-10T22:56:57.825Z"
   },
   {
    "duration": 3,
    "start_time": "2023-10-10T22:57:04.462Z"
   },
   {
    "duration": 21,
    "start_time": "2023-10-10T22:57:06.126Z"
   },
   {
    "duration": 14,
    "start_time": "2023-10-10T22:57:06.530Z"
   },
   {
    "duration": 4,
    "start_time": "2023-10-10T22:57:08.536Z"
   },
   {
    "duration": 99,
    "start_time": "2023-10-10T22:58:39.874Z"
   },
   {
    "duration": 15,
    "start_time": "2023-10-10T22:58:56.981Z"
   },
   {
    "duration": 8,
    "start_time": "2023-10-10T22:59:17.227Z"
   },
   {
    "duration": 4,
    "start_time": "2023-10-10T23:02:30.817Z"
   },
   {
    "duration": 1152,
    "start_time": "2023-10-10T23:02:31.040Z"
   },
   {
    "duration": 934,
    "start_time": "2023-10-10T23:02:45.604Z"
   },
   {
    "duration": 5,
    "start_time": "2023-10-10T23:03:26.067Z"
   },
   {
    "duration": 127,
    "start_time": "2023-10-10T23:06:53.364Z"
   },
   {
    "duration": 79,
    "start_time": "2023-10-10T23:07:20.224Z"
   },
   {
    "duration": 2515,
    "start_time": "2023-10-10T23:07:24.828Z"
   },
   {
    "duration": 1443,
    "start_time": "2023-10-10T23:07:27.345Z"
   },
   {
    "duration": 67,
    "start_time": "2023-10-10T23:07:28.790Z"
   },
   {
    "duration": 12,
    "start_time": "2023-10-10T23:07:28.859Z"
   },
   {
    "duration": 32,
    "start_time": "2023-10-10T23:07:28.873Z"
   },
   {
    "duration": 31,
    "start_time": "2023-10-10T23:07:28.907Z"
   },
   {
    "duration": 199,
    "start_time": "2023-10-10T23:07:28.940Z"
   },
   {
    "duration": 7,
    "start_time": "2023-10-10T23:07:29.141Z"
   },
   {
    "duration": 23,
    "start_time": "2023-10-10T23:07:29.149Z"
   },
   {
    "duration": 197,
    "start_time": "2023-10-10T23:07:29.174Z"
   },
   {
    "duration": 10,
    "start_time": "2023-10-10T23:07:29.373Z"
   },
   {
    "duration": 40,
    "start_time": "2023-10-10T23:07:29.384Z"
   },
   {
    "duration": 4,
    "start_time": "2023-10-10T23:07:29.427Z"
   },
   {
    "duration": 96,
    "start_time": "2023-10-10T23:07:29.434Z"
   },
   {
    "duration": 18,
    "start_time": "2023-10-10T23:07:29.532Z"
   },
   {
    "duration": 34,
    "start_time": "2023-10-10T23:07:29.552Z"
   },
   {
    "duration": 42,
    "start_time": "2023-10-10T23:07:29.587Z"
   },
   {
    "duration": 4,
    "start_time": "2023-10-10T23:07:29.631Z"
   },
   {
    "duration": 63,
    "start_time": "2023-10-10T23:07:29.637Z"
   },
   {
    "duration": 502,
    "start_time": "2023-10-10T23:07:29.705Z"
   },
   {
    "duration": 13,
    "start_time": "2023-10-10T23:07:30.213Z"
   },
   {
    "duration": 209,
    "start_time": "2023-10-10T23:07:30.229Z"
   },
   {
    "duration": 93,
    "start_time": "2023-10-10T23:07:30.440Z"
   },
   {
    "duration": 88792,
    "start_time": "2023-10-10T23:07:30.541Z"
   },
   {
    "duration": 70,
    "start_time": "2023-10-10T23:08:59.334Z"
   },
   {
    "duration": 96,
    "start_time": "2023-10-10T23:08:59.406Z"
   },
   {
    "duration": 22,
    "start_time": "2023-10-10T23:08:59.504Z"
   },
   {
    "duration": 15,
    "start_time": "2023-10-10T23:08:59.530Z"
   },
   {
    "duration": 11511,
    "start_time": "2023-10-10T23:08:59.547Z"
   },
   {
    "duration": 5,
    "start_time": "2023-10-10T23:09:11.060Z"
   },
   {
    "duration": 63,
    "start_time": "2023-10-10T23:09:11.067Z"
   },
   {
    "duration": 754,
    "start_time": "2023-10-10T23:09:11.131Z"
   },
   {
    "duration": 5,
    "start_time": "2023-10-10T23:09:11.887Z"
   },
   {
    "duration": 259,
    "start_time": "2023-10-10T23:09:11.893Z"
   },
   {
    "duration": 4,
    "start_time": "2023-10-10T23:12:09.939Z"
   },
   {
    "duration": 10,
    "start_time": "2023-10-10T23:12:13.318Z"
   },
   {
    "duration": 15,
    "start_time": "2023-10-10T23:13:26.431Z"
   },
   {
    "duration": 6,
    "start_time": "2023-10-10T23:14:01.063Z"
   },
   {
    "duration": 22,
    "start_time": "2023-10-10T23:16:26.936Z"
   },
   {
    "duration": 29,
    "start_time": "2023-10-10T23:16:27.830Z"
   },
   {
    "duration": 19,
    "start_time": "2023-10-10T23:16:28.292Z"
   },
   {
    "duration": 4,
    "start_time": "2023-10-10T23:16:29.562Z"
   },
   {
    "duration": 15,
    "start_time": "2023-10-10T23:16:30.039Z"
   },
   {
    "duration": 420,
    "start_time": "2023-10-10T23:16:30.285Z"
   },
   {
    "duration": 8,
    "start_time": "2023-10-10T23:16:30.707Z"
   },
   {
    "duration": 149,
    "start_time": "2023-10-10T23:16:30.718Z"
   },
   {
    "duration": 4,
    "start_time": "2023-10-10T23:16:31.238Z"
   },
   {
    "duration": 200983,
    "start_time": "2023-10-10T23:16:31.432Z"
   },
   {
    "duration": 91,
    "start_time": "2023-10-10T23:19:52.418Z"
   },
   {
    "duration": 6003,
    "start_time": "2023-10-10T23:19:52.513Z"
   },
   {
    "duration": 97,
    "start_time": "2023-10-10T23:19:58.522Z"
   },
   {
    "duration": 13,
    "start_time": "2023-10-10T23:19:58.622Z"
   },
   {
    "duration": 11049,
    "start_time": "2023-10-10T23:19:58.637Z"
   },
   {
    "duration": 5,
    "start_time": "2023-10-10T23:20:09.688Z"
   },
   {
    "duration": 26,
    "start_time": "2023-10-10T23:20:09.694Z"
   },
   {
    "duration": 836,
    "start_time": "2023-10-10T23:20:09.722Z"
   },
   {
    "duration": 5,
    "start_time": "2023-10-10T23:20:10.561Z"
   },
   {
    "duration": 26,
    "start_time": "2023-10-10T23:20:10.568Z"
   },
   {
    "duration": 108,
    "start_time": "2023-10-10T23:20:10.607Z"
   },
   {
    "duration": 11,
    "start_time": "2023-10-10T23:20:10.717Z"
   },
   {
    "duration": 2544,
    "start_time": "2023-10-10T23:21:00.517Z"
   },
   {
    "duration": 1419,
    "start_time": "2023-10-10T23:21:03.064Z"
   },
   {
    "duration": 69,
    "start_time": "2023-10-10T23:21:04.485Z"
   },
   {
    "duration": 12,
    "start_time": "2023-10-10T23:21:04.556Z"
   },
   {
    "duration": 8,
    "start_time": "2023-10-10T23:21:04.570Z"
   },
   {
    "duration": 58,
    "start_time": "2023-10-10T23:21:04.580Z"
   },
   {
    "duration": 235,
    "start_time": "2023-10-10T23:21:04.640Z"
   },
   {
    "duration": 8,
    "start_time": "2023-10-10T23:21:04.877Z"
   },
   {
    "duration": 10,
    "start_time": "2023-10-10T23:21:04.886Z"
   },
   {
    "duration": 174,
    "start_time": "2023-10-10T23:21:04.909Z"
   },
   {
    "duration": 10,
    "start_time": "2023-10-10T23:21:05.084Z"
   },
   {
    "duration": 14,
    "start_time": "2023-10-10T23:21:05.109Z"
   },
   {
    "duration": 10,
    "start_time": "2023-10-10T23:21:05.124Z"
   },
   {
    "duration": 33,
    "start_time": "2023-10-10T23:21:05.137Z"
   },
   {
    "duration": 19,
    "start_time": "2023-10-10T23:21:05.172Z"
   },
   {
    "duration": 31,
    "start_time": "2023-10-10T23:21:05.192Z"
   },
   {
    "duration": 4,
    "start_time": "2023-10-10T23:21:05.225Z"
   },
   {
    "duration": 70,
    "start_time": "2023-10-10T23:21:05.231Z"
   },
   {
    "duration": 298,
    "start_time": "2023-10-10T23:21:05.310Z"
   },
   {
    "duration": 93,
    "start_time": "2023-10-10T23:21:05.615Z"
   },
   {
    "duration": 91,
    "start_time": "2023-10-10T23:21:05.711Z"
   },
   {
    "duration": 9,
    "start_time": "2023-10-10T23:21:05.804Z"
   },
   {
    "duration": 216592,
    "start_time": "2023-10-10T23:21:05.816Z"
   },
   {
    "duration": 10,
    "start_time": "2023-10-10T23:24:42.410Z"
   },
   {
    "duration": 10890,
    "start_time": "2023-10-10T23:24:42.422Z"
   },
   {
    "duration": 18,
    "start_time": "2023-10-10T23:24:53.315Z"
   },
   {
    "duration": 387,
    "start_time": "2023-10-10T23:24:53.335Z"
   },
   {
    "duration": 12161,
    "start_time": "2023-10-10T23:24:53.724Z"
   },
   {
    "duration": 4,
    "start_time": "2023-10-10T23:25:05.886Z"
   },
   {
    "duration": 22,
    "start_time": "2023-10-10T23:25:05.892Z"
   },
   {
    "duration": 1002,
    "start_time": "2023-10-10T23:25:05.916Z"
   },
   {
    "duration": 5,
    "start_time": "2023-10-10T23:25:06.920Z"
   },
   {
    "duration": 9,
    "start_time": "2023-10-10T23:25:06.926Z"
   },
   {
    "duration": 65,
    "start_time": "2023-10-10T23:25:06.936Z"
   },
   {
    "duration": 8,
    "start_time": "2023-10-10T23:25:07.003Z"
   },
   {
    "duration": 5,
    "start_time": "2023-10-10T23:25:08.893Z"
   },
   {
    "duration": 24,
    "start_time": "2023-10-10T23:39:09.893Z"
   },
   {
    "duration": 63,
    "start_time": "2023-10-10T23:39:20.353Z"
   },
   {
    "duration": 6,
    "start_time": "2023-10-10T23:39:20.642Z"
   },
   {
    "duration": 8,
    "start_time": "2023-10-10T23:39:21.023Z"
   },
   {
    "duration": 13,
    "start_time": "2023-10-10T23:39:21.550Z"
   },
   {
    "duration": 7,
    "start_time": "2023-10-10T23:41:16.036Z"
   },
   {
    "duration": 5,
    "start_time": "2023-10-10T23:43:52.793Z"
   },
   {
    "duration": 6,
    "start_time": "2023-10-10T23:44:04.066Z"
   },
   {
    "duration": 5,
    "start_time": "2023-10-10T23:44:39.437Z"
   },
   {
    "duration": 8,
    "start_time": "2023-10-10T23:45:25.566Z"
   },
   {
    "duration": 127,
    "start_time": "2023-10-10T23:46:43.628Z"
   },
   {
    "duration": 99,
    "start_time": "2023-10-10T23:46:50.663Z"
   },
   {
    "duration": 12,
    "start_time": "2023-10-10T23:48:40.481Z"
   },
   {
    "duration": 2646,
    "start_time": "2023-10-11T00:15:06.283Z"
   },
   {
    "duration": 1351,
    "start_time": "2023-10-11T00:15:08.933Z"
   },
   {
    "duration": 55,
    "start_time": "2023-10-11T00:15:10.286Z"
   },
   {
    "duration": 11,
    "start_time": "2023-10-11T00:15:10.344Z"
   },
   {
    "duration": 21,
    "start_time": "2023-10-11T00:15:10.357Z"
   },
   {
    "duration": 30,
    "start_time": "2023-10-11T00:15:10.380Z"
   },
   {
    "duration": 208,
    "start_time": "2023-10-11T00:15:10.412Z"
   },
   {
    "duration": 12,
    "start_time": "2023-10-11T00:15:10.622Z"
   },
   {
    "duration": 7,
    "start_time": "2023-10-11T00:15:10.637Z"
   },
   {
    "duration": 200,
    "start_time": "2023-10-11T00:15:10.648Z"
   },
   {
    "duration": 13,
    "start_time": "2023-10-11T00:15:10.850Z"
   },
   {
    "duration": 19,
    "start_time": "2023-10-11T00:15:10.865Z"
   },
   {
    "duration": 18,
    "start_time": "2023-10-11T00:15:10.886Z"
   },
   {
    "duration": 40,
    "start_time": "2023-10-11T00:15:10.906Z"
   },
   {
    "duration": 19,
    "start_time": "2023-10-11T00:15:10.948Z"
   },
   {
    "duration": 14,
    "start_time": "2023-10-11T00:15:10.969Z"
   },
   {
    "duration": 5,
    "start_time": "2023-10-11T00:15:11.000Z"
   },
   {
    "duration": 16,
    "start_time": "2023-10-11T00:15:11.007Z"
   },
   {
    "duration": 284,
    "start_time": "2023-10-11T00:15:11.024Z"
   },
   {
    "duration": 93,
    "start_time": "2023-10-11T00:15:11.310Z"
   },
   {
    "duration": 102,
    "start_time": "2023-10-11T00:15:11.406Z"
   },
   {
    "duration": 92,
    "start_time": "2023-10-11T00:15:11.510Z"
   },
   {
    "duration": 303107,
    "start_time": "2023-10-11T00:15:11.604Z"
   },
   {
    "duration": 5,
    "start_time": "2023-10-11T00:20:14.714Z"
   },
   {
    "duration": 9690,
    "start_time": "2023-10-11T00:20:14.722Z"
   },
   {
    "duration": 23,
    "start_time": "2023-10-11T00:20:24.417Z"
   },
   {
    "duration": 5,
    "start_time": "2023-10-11T00:20:24.443Z"
   },
   {
    "duration": 10469,
    "start_time": "2023-10-11T00:20:24.454Z"
   },
   {
    "duration": 5,
    "start_time": "2023-10-11T00:20:34.925Z"
   },
   {
    "duration": 30,
    "start_time": "2023-10-11T00:20:34.931Z"
   },
   {
    "duration": 890,
    "start_time": "2023-10-11T00:20:34.963Z"
   },
   {
    "duration": 6,
    "start_time": "2023-10-11T00:20:35.855Z"
   },
   {
    "duration": 74,
    "start_time": "2023-10-11T00:20:35.863Z"
   },
   {
    "duration": 325,
    "start_time": "2023-10-11T00:20:35.939Z"
   },
   {
    "duration": 10,
    "start_time": "2023-10-11T08:19:25.239Z"
   },
   {
    "duration": 8451,
    "start_time": "2023-10-11T08:19:35.786Z"
   },
   {
    "duration": 1697,
    "start_time": "2023-10-11T08:19:44.240Z"
   },
   {
    "duration": 170,
    "start_time": "2023-10-11T08:19:45.940Z"
   },
   {
    "duration": 13,
    "start_time": "2023-10-11T08:19:46.113Z"
   },
   {
    "duration": 46,
    "start_time": "2023-10-11T08:19:46.128Z"
   },
   {
    "duration": 22,
    "start_time": "2023-10-11T08:19:46.176Z"
   },
   {
    "duration": 182,
    "start_time": "2023-10-11T08:19:46.200Z"
   },
   {
    "duration": 12,
    "start_time": "2023-10-11T08:19:46.384Z"
   },
   {
    "duration": 7,
    "start_time": "2023-10-11T08:19:46.398Z"
   },
   {
    "duration": 168,
    "start_time": "2023-10-11T08:19:46.408Z"
   },
   {
    "duration": 0,
    "start_time": "2023-10-11T08:19:46.579Z"
   },
   {
    "duration": 0,
    "start_time": "2023-10-11T08:19:46.580Z"
   },
   {
    "duration": 0,
    "start_time": "2023-10-11T08:19:46.582Z"
   },
   {
    "duration": 0,
    "start_time": "2023-10-11T08:19:46.583Z"
   },
   {
    "duration": 0,
    "start_time": "2023-10-11T08:19:46.585Z"
   },
   {
    "duration": 0,
    "start_time": "2023-10-11T08:19:46.586Z"
   },
   {
    "duration": 0,
    "start_time": "2023-10-11T08:19:46.588Z"
   },
   {
    "duration": 0,
    "start_time": "2023-10-11T08:19:46.589Z"
   },
   {
    "duration": 0,
    "start_time": "2023-10-11T08:19:46.591Z"
   },
   {
    "duration": 0,
    "start_time": "2023-10-11T08:19:46.593Z"
   },
   {
    "duration": 0,
    "start_time": "2023-10-11T08:19:46.594Z"
   },
   {
    "duration": 0,
    "start_time": "2023-10-11T08:19:46.596Z"
   },
   {
    "duration": 0,
    "start_time": "2023-10-11T08:19:46.598Z"
   },
   {
    "duration": 0,
    "start_time": "2023-10-11T08:19:46.600Z"
   },
   {
    "duration": 0,
    "start_time": "2023-10-11T08:19:46.601Z"
   },
   {
    "duration": 0,
    "start_time": "2023-10-11T08:19:46.602Z"
   },
   {
    "duration": 0,
    "start_time": "2023-10-11T08:19:46.603Z"
   },
   {
    "duration": 0,
    "start_time": "2023-10-11T08:19:46.604Z"
   },
   {
    "duration": 0,
    "start_time": "2023-10-11T08:19:46.607Z"
   },
   {
    "duration": 0,
    "start_time": "2023-10-11T08:19:46.608Z"
   },
   {
    "duration": 0,
    "start_time": "2023-10-11T08:19:46.661Z"
   },
   {
    "duration": 8,
    "start_time": "2023-10-11T08:19:54.939Z"
   },
   {
    "duration": 38,
    "start_time": "2023-10-11T08:20:04.000Z"
   },
   {
    "duration": 53,
    "start_time": "2023-10-11T08:20:08.809Z"
   },
   {
    "duration": 51,
    "start_time": "2023-10-11T08:23:39.067Z"
   },
   {
    "duration": 20,
    "start_time": "2023-10-11T08:23:39.342Z"
   },
   {
    "duration": 5,
    "start_time": "2023-10-11T08:23:39.874Z"
   },
   {
    "duration": 1897,
    "start_time": "2023-10-11T08:24:43.412Z"
   },
   {
    "duration": 1802,
    "start_time": "2023-10-11T08:26:30.541Z"
   },
   {
    "duration": 25,
    "start_time": "2023-10-11T08:26:50.931Z"
   },
   {
    "duration": 2570,
    "start_time": "2023-10-11T08:29:35.622Z"
   },
   {
    "duration": 1465,
    "start_time": "2023-10-11T08:29:38.195Z"
   },
   {
    "duration": 55,
    "start_time": "2023-10-11T08:29:39.662Z"
   },
   {
    "duration": 13,
    "start_time": "2023-10-11T08:29:39.720Z"
   },
   {
    "duration": 37,
    "start_time": "2023-10-11T08:29:39.735Z"
   },
   {
    "duration": 42,
    "start_time": "2023-10-11T08:29:39.775Z"
   },
   {
    "duration": 173,
    "start_time": "2023-10-11T08:29:39.819Z"
   },
   {
    "duration": 10,
    "start_time": "2023-10-11T08:29:39.994Z"
   },
   {
    "duration": 58,
    "start_time": "2023-10-11T08:29:40.006Z"
   },
   {
    "duration": 26,
    "start_time": "2023-10-11T08:29:40.068Z"
   },
   {
    "duration": 444,
    "start_time": "2023-10-11T08:29:40.096Z"
   },
   {
    "duration": 134,
    "start_time": "2023-10-11T08:29:40.542Z"
   },
   {
    "duration": 0,
    "start_time": "2023-10-11T08:29:40.678Z"
   },
   {
    "duration": 0,
    "start_time": "2023-10-11T08:29:40.680Z"
   },
   {
    "duration": 0,
    "start_time": "2023-10-11T08:29:40.681Z"
   },
   {
    "duration": 0,
    "start_time": "2023-10-11T08:29:40.682Z"
   },
   {
    "duration": 0,
    "start_time": "2023-10-11T08:29:40.683Z"
   },
   {
    "duration": 0,
    "start_time": "2023-10-11T08:29:40.685Z"
   },
   {
    "duration": 0,
    "start_time": "2023-10-11T08:29:40.686Z"
   },
   {
    "duration": 0,
    "start_time": "2023-10-11T08:29:40.687Z"
   },
   {
    "duration": 0,
    "start_time": "2023-10-11T08:29:40.688Z"
   },
   {
    "duration": 0,
    "start_time": "2023-10-11T08:29:40.689Z"
   },
   {
    "duration": 0,
    "start_time": "2023-10-11T08:29:40.691Z"
   },
   {
    "duration": 0,
    "start_time": "2023-10-11T08:29:40.692Z"
   },
   {
    "duration": 0,
    "start_time": "2023-10-11T08:29:40.693Z"
   },
   {
    "duration": 0,
    "start_time": "2023-10-11T08:29:40.695Z"
   },
   {
    "duration": 0,
    "start_time": "2023-10-11T08:29:40.696Z"
   },
   {
    "duration": 0,
    "start_time": "2023-10-11T08:29:40.697Z"
   },
   {
    "duration": 0,
    "start_time": "2023-10-11T08:29:40.698Z"
   },
   {
    "duration": 0,
    "start_time": "2023-10-11T08:29:40.700Z"
   },
   {
    "duration": 35,
    "start_time": "2023-10-11T08:31:52.961Z"
   },
   {
    "duration": 418,
    "start_time": "2023-10-11T08:33:01.171Z"
   },
   {
    "duration": 21,
    "start_time": "2023-10-11T08:33:04.767Z"
   },
   {
    "duration": 15,
    "start_time": "2023-10-11T08:33:12.478Z"
   },
   {
    "duration": 110,
    "start_time": "2023-10-11T08:33:22.019Z"
   },
   {
    "duration": 14,
    "start_time": "2023-10-11T08:33:25.103Z"
   },
   {
    "duration": 556,
    "start_time": "2023-10-11T08:34:08.519Z"
   },
   {
    "duration": 13,
    "start_time": "2023-10-11T08:34:12.438Z"
   },
   {
    "duration": 2523,
    "start_time": "2023-10-11T08:34:29.265Z"
   },
   {
    "duration": 1414,
    "start_time": "2023-10-11T08:34:31.791Z"
   },
   {
    "duration": 51,
    "start_time": "2023-10-11T08:34:33.208Z"
   },
   {
    "duration": 12,
    "start_time": "2023-10-11T08:34:33.261Z"
   },
   {
    "duration": 35,
    "start_time": "2023-10-11T08:34:33.278Z"
   },
   {
    "duration": 24,
    "start_time": "2023-10-11T08:34:33.315Z"
   },
   {
    "duration": 178,
    "start_time": "2023-10-11T08:34:33.341Z"
   },
   {
    "duration": 10,
    "start_time": "2023-10-11T08:34:33.522Z"
   },
   {
    "duration": 18,
    "start_time": "2023-10-11T08:34:33.534Z"
   },
   {
    "duration": 22,
    "start_time": "2023-10-11T08:34:33.556Z"
   },
   {
    "duration": 457,
    "start_time": "2023-10-11T08:34:33.580Z"
   },
   {
    "duration": 13,
    "start_time": "2023-10-11T08:34:34.040Z"
   },
   {
    "duration": 129,
    "start_time": "2023-10-11T08:34:34.055Z"
   },
   {
    "duration": 0,
    "start_time": "2023-10-11T08:34:34.187Z"
   },
   {
    "duration": 0,
    "start_time": "2023-10-11T08:34:34.188Z"
   },
   {
    "duration": 0,
    "start_time": "2023-10-11T08:34:34.189Z"
   },
   {
    "duration": 0,
    "start_time": "2023-10-11T08:34:34.190Z"
   },
   {
    "duration": 0,
    "start_time": "2023-10-11T08:34:34.191Z"
   },
   {
    "duration": 0,
    "start_time": "2023-10-11T08:34:34.192Z"
   },
   {
    "duration": 0,
    "start_time": "2023-10-11T08:34:34.193Z"
   },
   {
    "duration": 0,
    "start_time": "2023-10-11T08:34:34.194Z"
   },
   {
    "duration": 0,
    "start_time": "2023-10-11T08:34:34.195Z"
   },
   {
    "duration": 0,
    "start_time": "2023-10-11T08:34:34.196Z"
   },
   {
    "duration": 0,
    "start_time": "2023-10-11T08:34:34.198Z"
   },
   {
    "duration": 0,
    "start_time": "2023-10-11T08:34:34.199Z"
   },
   {
    "duration": 0,
    "start_time": "2023-10-11T08:34:34.200Z"
   },
   {
    "duration": 0,
    "start_time": "2023-10-11T08:34:34.201Z"
   },
   {
    "duration": 0,
    "start_time": "2023-10-11T08:34:34.202Z"
   },
   {
    "duration": 0,
    "start_time": "2023-10-11T08:34:34.203Z"
   },
   {
    "duration": 0,
    "start_time": "2023-10-11T08:34:34.205Z"
   },
   {
    "duration": 0,
    "start_time": "2023-10-11T08:34:34.206Z"
   },
   {
    "duration": 0,
    "start_time": "2023-10-11T08:34:34.207Z"
   },
   {
    "duration": 10,
    "start_time": "2023-10-11T08:38:07.061Z"
   },
   {
    "duration": 2455,
    "start_time": "2023-10-11T08:38:38.664Z"
   },
   {
    "duration": 1402,
    "start_time": "2023-10-11T08:38:41.122Z"
   },
   {
    "duration": 53,
    "start_time": "2023-10-11T08:38:42.526Z"
   },
   {
    "duration": 13,
    "start_time": "2023-10-11T08:38:42.581Z"
   },
   {
    "duration": 7,
    "start_time": "2023-10-11T08:38:42.598Z"
   },
   {
    "duration": 31,
    "start_time": "2023-10-11T08:38:42.607Z"
   },
   {
    "duration": 189,
    "start_time": "2023-10-11T08:38:42.640Z"
   },
   {
    "duration": 10,
    "start_time": "2023-10-11T08:38:42.831Z"
   },
   {
    "duration": 16,
    "start_time": "2023-10-11T08:38:42.843Z"
   },
   {
    "duration": 23,
    "start_time": "2023-10-11T08:38:42.862Z"
   },
   {
    "duration": 128,
    "start_time": "2023-10-11T08:38:42.888Z"
   },
   {
    "duration": 0,
    "start_time": "2023-10-11T08:38:43.019Z"
   },
   {
    "duration": 0,
    "start_time": "2023-10-11T08:38:43.020Z"
   },
   {
    "duration": 0,
    "start_time": "2023-10-11T08:38:43.022Z"
   },
   {
    "duration": 0,
    "start_time": "2023-10-11T08:38:43.023Z"
   },
   {
    "duration": 0,
    "start_time": "2023-10-11T08:38:43.024Z"
   },
   {
    "duration": 0,
    "start_time": "2023-10-11T08:38:43.025Z"
   },
   {
    "duration": 0,
    "start_time": "2023-10-11T08:38:43.026Z"
   },
   {
    "duration": 0,
    "start_time": "2023-10-11T08:38:43.027Z"
   },
   {
    "duration": 0,
    "start_time": "2023-10-11T08:38:43.029Z"
   },
   {
    "duration": 0,
    "start_time": "2023-10-11T08:38:43.030Z"
   },
   {
    "duration": 0,
    "start_time": "2023-10-11T08:38:43.031Z"
   },
   {
    "duration": 0,
    "start_time": "2023-10-11T08:38:43.056Z"
   },
   {
    "duration": 0,
    "start_time": "2023-10-11T08:38:43.058Z"
   },
   {
    "duration": 0,
    "start_time": "2023-10-11T08:38:43.059Z"
   },
   {
    "duration": 0,
    "start_time": "2023-10-11T08:38:43.060Z"
   },
   {
    "duration": 0,
    "start_time": "2023-10-11T08:38:43.061Z"
   },
   {
    "duration": 0,
    "start_time": "2023-10-11T08:38:43.063Z"
   },
   {
    "duration": 0,
    "start_time": "2023-10-11T08:38:43.064Z"
   },
   {
    "duration": 0,
    "start_time": "2023-10-11T08:38:43.065Z"
   },
   {
    "duration": 0,
    "start_time": "2023-10-11T08:38:43.066Z"
   },
   {
    "duration": 0,
    "start_time": "2023-10-11T08:38:43.067Z"
   },
   {
    "duration": 497,
    "start_time": "2023-10-11T08:38:51.412Z"
   },
   {
    "duration": 12,
    "start_time": "2023-10-11T08:38:53.423Z"
   },
   {
    "duration": 414,
    "start_time": "2023-10-11T08:38:56.998Z"
   },
   {
    "duration": 439,
    "start_time": "2023-10-11T08:41:10.373Z"
   },
   {
    "duration": 315,
    "start_time": "2023-10-11T08:43:48.983Z"
   },
   {
    "duration": 206,
    "start_time": "2023-10-11T08:44:05.224Z"
   },
   {
    "duration": 177,
    "start_time": "2023-10-11T08:44:11.070Z"
   },
   {
    "duration": 199,
    "start_time": "2023-10-11T08:44:22.576Z"
   },
   {
    "duration": 219,
    "start_time": "2023-10-11T08:44:43.770Z"
   },
   {
    "duration": 217,
    "start_time": "2023-10-11T08:44:50.874Z"
   },
   {
    "duration": 201,
    "start_time": "2023-10-11T08:45:17.170Z"
   },
   {
    "duration": 231,
    "start_time": "2023-10-11T08:45:23.211Z"
   },
   {
    "duration": 221,
    "start_time": "2023-10-11T08:45:25.483Z"
   },
   {
    "duration": 229,
    "start_time": "2023-10-11T08:45:39.781Z"
   },
   {
    "duration": 219,
    "start_time": "2023-10-11T08:46:01.530Z"
   },
   {
    "duration": 255,
    "start_time": "2023-10-11T08:46:08.770Z"
   },
   {
    "duration": 227,
    "start_time": "2023-10-11T08:46:13.265Z"
   },
   {
    "duration": 369,
    "start_time": "2023-10-11T08:46:38.460Z"
   },
   {
    "duration": 244,
    "start_time": "2023-10-11T08:46:49.046Z"
   },
   {
    "duration": 196,
    "start_time": "2023-10-11T08:47:57.099Z"
   },
   {
    "duration": 238,
    "start_time": "2023-10-11T08:48:22.193Z"
   },
   {
    "duration": 216,
    "start_time": "2023-10-11T08:48:22.543Z"
   },
   {
    "duration": 374,
    "start_time": "2023-10-11T08:49:32.213Z"
   },
   {
    "duration": 5,
    "start_time": "2023-10-11T08:51:28.607Z"
   },
   {
    "duration": 34,
    "start_time": "2023-10-11T08:52:30.860Z"
   },
   {
    "duration": 4,
    "start_time": "2023-10-11T08:52:31.363Z"
   },
   {
    "duration": 21,
    "start_time": "2023-10-11T08:52:32.674Z"
   },
   {
    "duration": 713,
    "start_time": "2023-10-11T08:52:33.444Z"
   },
   {
    "duration": 4,
    "start_time": "2023-10-11T08:52:34.159Z"
   },
   {
    "duration": 1925,
    "start_time": "2023-10-11T08:55:12.476Z"
   },
   {
    "duration": 2662,
    "start_time": "2023-10-11T08:55:42.647Z"
   },
   {
    "duration": 1474,
    "start_time": "2023-10-11T08:55:45.313Z"
   },
   {
    "duration": 64,
    "start_time": "2023-10-11T08:55:46.789Z"
   },
   {
    "duration": 22,
    "start_time": "2023-10-11T08:55:46.860Z"
   },
   {
    "duration": 24,
    "start_time": "2023-10-11T08:55:46.884Z"
   },
   {
    "duration": 21,
    "start_time": "2023-10-11T08:55:46.910Z"
   },
   {
    "duration": 208,
    "start_time": "2023-10-11T08:55:46.934Z"
   },
   {
    "duration": 23,
    "start_time": "2023-10-11T08:55:47.144Z"
   },
   {
    "duration": 15,
    "start_time": "2023-10-11T08:55:47.173Z"
   },
   {
    "duration": 16,
    "start_time": "2023-10-11T08:55:47.192Z"
   },
   {
    "duration": 493,
    "start_time": "2023-10-11T08:55:47.209Z"
   },
   {
    "duration": 11,
    "start_time": "2023-10-11T08:55:47.704Z"
   },
   {
    "duration": 413,
    "start_time": "2023-10-11T08:55:47.717Z"
   },
   {
    "duration": 312,
    "start_time": "2023-10-11T08:55:48.132Z"
   },
   {
    "duration": 161,
    "start_time": "2023-10-11T08:55:48.446Z"
   },
   {
    "duration": 0,
    "start_time": "2023-10-11T08:55:48.609Z"
   },
   {
    "duration": 0,
    "start_time": "2023-10-11T08:55:48.610Z"
   },
   {
    "duration": 0,
    "start_time": "2023-10-11T08:55:48.612Z"
   },
   {
    "duration": 0,
    "start_time": "2023-10-11T08:55:48.613Z"
   },
   {
    "duration": 1,
    "start_time": "2023-10-11T08:55:48.614Z"
   },
   {
    "duration": 0,
    "start_time": "2023-10-11T08:55:48.615Z"
   },
   {
    "duration": 0,
    "start_time": "2023-10-11T08:55:48.616Z"
   },
   {
    "duration": 0,
    "start_time": "2023-10-11T08:55:48.617Z"
   },
   {
    "duration": 0,
    "start_time": "2023-10-11T08:55:48.619Z"
   },
   {
    "duration": 0,
    "start_time": "2023-10-11T08:55:48.620Z"
   },
   {
    "duration": 0,
    "start_time": "2023-10-11T08:55:48.621Z"
   },
   {
    "duration": 0,
    "start_time": "2023-10-11T08:55:48.622Z"
   },
   {
    "duration": 0,
    "start_time": "2023-10-11T08:55:48.624Z"
   },
   {
    "duration": 0,
    "start_time": "2023-10-11T08:55:48.625Z"
   },
   {
    "duration": 0,
    "start_time": "2023-10-11T08:55:48.626Z"
   },
   {
    "duration": 0,
    "start_time": "2023-10-11T08:55:48.627Z"
   },
   {
    "duration": 0,
    "start_time": "2023-10-11T08:55:48.661Z"
   },
   {
    "duration": 0,
    "start_time": "2023-10-11T08:55:48.662Z"
   },
   {
    "duration": 5,
    "start_time": "2023-10-11T08:57:00.771Z"
   },
   {
    "duration": 21,
    "start_time": "2023-10-11T08:57:08.268Z"
   },
   {
    "duration": 3,
    "start_time": "2023-10-11T08:57:11.472Z"
   },
   {
    "duration": 103,
    "start_time": "2023-10-11T08:57:16.773Z"
   },
   {
    "duration": 659,
    "start_time": "2023-10-11T08:57:17.614Z"
   },
   {
    "duration": 5,
    "start_time": "2023-10-11T08:57:19.132Z"
   },
   {
    "duration": 2624,
    "start_time": "2023-10-11T08:57:25.521Z"
   },
   {
    "duration": 1553,
    "start_time": "2023-10-11T08:57:28.148Z"
   },
   {
    "duration": 53,
    "start_time": "2023-10-11T08:57:29.706Z"
   },
   {
    "duration": 16,
    "start_time": "2023-10-11T08:57:29.761Z"
   },
   {
    "duration": 36,
    "start_time": "2023-10-11T08:57:29.779Z"
   },
   {
    "duration": 64,
    "start_time": "2023-10-11T08:57:29.817Z"
   },
   {
    "duration": 207,
    "start_time": "2023-10-11T08:57:29.884Z"
   },
   {
    "duration": 10,
    "start_time": "2023-10-11T08:57:30.093Z"
   },
   {
    "duration": 69,
    "start_time": "2023-10-11T08:57:30.107Z"
   },
   {
    "duration": 41,
    "start_time": "2023-10-11T08:57:30.179Z"
   },
   {
    "duration": 491,
    "start_time": "2023-10-11T08:57:30.222Z"
   },
   {
    "duration": 9,
    "start_time": "2023-10-11T08:57:30.716Z"
   },
   {
    "duration": 476,
    "start_time": "2023-10-11T08:57:30.727Z"
   },
   {
    "duration": 339,
    "start_time": "2023-10-11T08:57:31.205Z"
   },
   {
    "duration": 49,
    "start_time": "2023-10-11T08:57:31.546Z"
   },
   {
    "duration": 746,
    "start_time": "2023-10-11T08:57:31.597Z"
   },
   {
    "duration": 99,
    "start_time": "2023-10-11T08:57:32.346Z"
   },
   {
    "duration": 819,
    "start_time": "2023-10-11T08:57:32.448Z"
   },
   {
    "duration": 4,
    "start_time": "2023-10-11T08:57:33.276Z"
   },
   {
    "duration": 187,
    "start_time": "2023-10-11T08:57:33.283Z"
   },
   {
    "duration": 93,
    "start_time": "2023-10-11T08:57:33.478Z"
   },
   {
    "duration": 333191,
    "start_time": "2023-10-11T08:57:33.574Z"
   },
   {
    "duration": 7,
    "start_time": "2023-10-11T09:03:06.767Z"
   },
   {
    "duration": 10789,
    "start_time": "2023-10-11T09:03:06.777Z"
   },
   {
    "duration": 95,
    "start_time": "2023-10-11T09:03:17.571Z"
   },
   {
    "duration": 4,
    "start_time": "2023-10-11T09:03:17.669Z"
   },
   {
    "duration": 7584,
    "start_time": "2023-10-11T09:03:17.681Z"
   },
   {
    "duration": 5,
    "start_time": "2023-10-11T09:03:25.271Z"
   },
   {
    "duration": 16,
    "start_time": "2023-10-11T09:03:25.278Z"
   },
   {
    "duration": 748,
    "start_time": "2023-10-11T09:03:25.296Z"
   },
   {
    "duration": 5,
    "start_time": "2023-10-11T09:03:26.046Z"
   },
   {
    "duration": 36,
    "start_time": "2023-10-11T09:03:26.053Z"
   },
   {
    "duration": 171,
    "start_time": "2023-10-11T09:03:26.092Z"
   },
   {
    "duration": 836,
    "start_time": "2023-10-11T09:55:27.185Z"
   },
   {
    "duration": 137,
    "start_time": "2023-10-11T10:00:10.410Z"
   },
   {
    "duration": 2859,
    "start_time": "2023-10-11T10:02:24.453Z"
   },
   {
    "duration": 1461,
    "start_time": "2023-10-11T10:02:27.314Z"
   },
   {
    "duration": 64,
    "start_time": "2023-10-11T10:02:28.777Z"
   },
   {
    "duration": 19,
    "start_time": "2023-10-11T10:02:28.843Z"
   },
   {
    "duration": 21,
    "start_time": "2023-10-11T10:02:28.868Z"
   },
   {
    "duration": 40,
    "start_time": "2023-10-11T10:02:28.892Z"
   },
   {
    "duration": 229,
    "start_time": "2023-10-11T10:02:28.934Z"
   },
   {
    "duration": 15,
    "start_time": "2023-10-11T10:02:29.166Z"
   },
   {
    "duration": 12,
    "start_time": "2023-10-11T10:02:29.183Z"
   },
   {
    "duration": 19,
    "start_time": "2023-10-11T10:02:29.197Z"
   },
   {
    "duration": 503,
    "start_time": "2023-10-11T10:02:29.218Z"
   },
   {
    "duration": 9,
    "start_time": "2023-10-11T10:02:29.723Z"
   },
   {
    "duration": 471,
    "start_time": "2023-10-11T10:02:29.733Z"
   },
   {
    "duration": 328,
    "start_time": "2023-10-11T10:02:30.207Z"
   },
   {
    "duration": 150,
    "start_time": "2023-10-11T10:02:30.537Z"
   },
   {
    "duration": 0,
    "start_time": "2023-10-11T10:02:30.689Z"
   },
   {
    "duration": 0,
    "start_time": "2023-10-11T10:02:30.690Z"
   },
   {
    "duration": 0,
    "start_time": "2023-10-11T10:02:30.690Z"
   },
   {
    "duration": 0,
    "start_time": "2023-10-11T10:02:30.692Z"
   },
   {
    "duration": 0,
    "start_time": "2023-10-11T10:02:30.693Z"
   },
   {
    "duration": 0,
    "start_time": "2023-10-11T10:02:30.694Z"
   },
   {
    "duration": 0,
    "start_time": "2023-10-11T10:02:30.695Z"
   },
   {
    "duration": 0,
    "start_time": "2023-10-11T10:02:30.696Z"
   },
   {
    "duration": 0,
    "start_time": "2023-10-11T10:02:30.697Z"
   },
   {
    "duration": 0,
    "start_time": "2023-10-11T10:02:30.698Z"
   },
   {
    "duration": 0,
    "start_time": "2023-10-11T10:02:30.699Z"
   },
   {
    "duration": 0,
    "start_time": "2023-10-11T10:02:30.700Z"
   },
   {
    "duration": 0,
    "start_time": "2023-10-11T10:02:30.701Z"
   },
   {
    "duration": 0,
    "start_time": "2023-10-11T10:02:30.701Z"
   },
   {
    "duration": 0,
    "start_time": "2023-10-11T10:02:30.702Z"
   },
   {
    "duration": 0,
    "start_time": "2023-10-11T10:02:30.703Z"
   },
   {
    "duration": 0,
    "start_time": "2023-10-11T10:02:30.704Z"
   },
   {
    "duration": 0,
    "start_time": "2023-10-11T10:02:30.706Z"
   },
   {
    "duration": 0,
    "start_time": "2023-10-11T10:02:30.707Z"
   },
   {
    "duration": 403,
    "start_time": "2023-10-11T10:02:57.918Z"
   },
   {
    "duration": 220,
    "start_time": "2023-10-11T10:03:16.501Z"
   },
   {
    "duration": 380,
    "start_time": "2023-10-11T10:03:24.369Z"
   },
   {
    "duration": 2981,
    "start_time": "2023-10-11T10:11:41.570Z"
   },
   {
    "duration": 1988,
    "start_time": "2023-10-11T10:11:44.554Z"
   },
   {
    "duration": 77,
    "start_time": "2023-10-11T10:11:46.545Z"
   },
   {
    "duration": 14,
    "start_time": "2023-10-11T10:11:46.625Z"
   },
   {
    "duration": 11,
    "start_time": "2023-10-11T10:11:46.640Z"
   },
   {
    "duration": 21,
    "start_time": "2023-10-11T10:11:46.653Z"
   },
   {
    "duration": 183,
    "start_time": "2023-10-11T10:11:46.676Z"
   },
   {
    "duration": 16,
    "start_time": "2023-10-11T10:11:46.861Z"
   },
   {
    "duration": 17,
    "start_time": "2023-10-11T10:11:46.879Z"
   },
   {
    "duration": 11,
    "start_time": "2023-10-11T10:11:46.898Z"
   },
   {
    "duration": 525,
    "start_time": "2023-10-11T10:11:46.912Z"
   },
   {
    "duration": 10,
    "start_time": "2023-10-11T10:11:47.439Z"
   },
   {
    "duration": 374,
    "start_time": "2023-10-11T10:11:47.451Z"
   },
   {
    "duration": 321,
    "start_time": "2023-10-11T10:11:47.828Z"
   },
   {
    "duration": 35,
    "start_time": "2023-10-11T10:11:48.151Z"
   },
   {
    "duration": 3,
    "start_time": "2023-10-11T10:11:48.188Z"
   },
   {
    "duration": 70,
    "start_time": "2023-10-11T10:11:48.193Z"
   },
   {
    "duration": 299,
    "start_time": "2023-10-11T10:11:48.265Z"
   },
   {
    "duration": 6,
    "start_time": "2023-10-11T10:11:48.657Z"
   },
   {
    "duration": 108,
    "start_time": "2023-10-11T10:11:48.665Z"
   },
   {
    "duration": 83,
    "start_time": "2023-10-11T10:11:48.777Z"
   },
   {
    "duration": 3605,
    "start_time": "2023-10-11T10:11:48.863Z"
   },
   {
    "duration": 5,
    "start_time": "2023-10-11T10:11:52.469Z"
   },
   {
    "duration": 184,
    "start_time": "2023-10-11T10:11:52.476Z"
   },
   {
    "duration": 11,
    "start_time": "2023-10-11T10:11:52.662Z"
   },
   {
    "duration": 81,
    "start_time": "2023-10-11T10:11:52.676Z"
   },
   {
    "duration": 6651,
    "start_time": "2023-10-11T10:11:52.760Z"
   },
   {
    "duration": 5,
    "start_time": "2023-10-11T10:11:59.416Z"
   },
   {
    "duration": 29,
    "start_time": "2023-10-11T10:11:59.422Z"
   },
   {
    "duration": 817,
    "start_time": "2023-10-11T10:11:59.453Z"
   },
   {
    "duration": 6,
    "start_time": "2023-10-11T10:12:00.271Z"
   },
   {
    "duration": 77,
    "start_time": "2023-10-11T10:12:00.279Z"
   },
   {
    "duration": 102,
    "start_time": "2023-10-11T10:12:00.359Z"
   },
   {
    "duration": 1716,
    "start_time": "2023-10-11T10:21:40.996Z"
   },
   {
    "duration": 2519,
    "start_time": "2023-10-11T10:21:48.614Z"
   },
   {
    "duration": 1423,
    "start_time": "2023-10-11T10:21:51.135Z"
   },
   {
    "duration": 54,
    "start_time": "2023-10-11T10:21:52.563Z"
   },
   {
    "duration": 14,
    "start_time": "2023-10-11T10:21:52.618Z"
   },
   {
    "duration": 40,
    "start_time": "2023-10-11T10:21:52.634Z"
   },
   {
    "duration": 29,
    "start_time": "2023-10-11T10:21:52.676Z"
   },
   {
    "duration": 170,
    "start_time": "2023-10-11T10:21:52.707Z"
   },
   {
    "duration": 10,
    "start_time": "2023-10-11T10:21:52.879Z"
   },
   {
    "duration": 22,
    "start_time": "2023-10-11T10:21:52.892Z"
   },
   {
    "duration": 21,
    "start_time": "2023-10-11T10:21:52.917Z"
   },
   {
    "duration": 456,
    "start_time": "2023-10-11T10:21:52.941Z"
   },
   {
    "duration": 9,
    "start_time": "2023-10-11T10:21:53.399Z"
   },
   {
    "duration": 367,
    "start_time": "2023-10-11T10:21:53.409Z"
   },
   {
    "duration": 303,
    "start_time": "2023-10-11T10:21:53.778Z"
   },
   {
    "duration": 31,
    "start_time": "2023-10-11T10:21:54.083Z"
   },
   {
    "duration": 3,
    "start_time": "2023-10-11T10:21:54.116Z"
   },
   {
    "duration": 138,
    "start_time": "2023-10-11T10:21:54.121Z"
   },
   {
    "duration": 398,
    "start_time": "2023-10-11T10:21:54.262Z"
   },
   {
    "duration": 96,
    "start_time": "2023-10-11T10:21:54.662Z"
   },
   {
    "duration": 108,
    "start_time": "2023-10-11T10:21:54.760Z"
   },
   {
    "duration": 301,
    "start_time": "2023-10-11T10:21:54.870Z"
   },
   {
    "duration": 3494,
    "start_time": "2023-10-11T10:21:55.173Z"
   },
   {
    "duration": 5,
    "start_time": "2023-10-11T10:21:58.670Z"
   },
   {
    "duration": 180,
    "start_time": "2023-10-11T10:21:58.677Z"
   },
   {
    "duration": 98,
    "start_time": "2023-10-11T10:21:58.860Z"
   },
   {
    "duration": 6,
    "start_time": "2023-10-11T10:21:58.960Z"
   },
   {
    "duration": 7863,
    "start_time": "2023-10-11T10:21:58.970Z"
   },
   {
    "duration": 6,
    "start_time": "2023-10-11T10:22:06.835Z"
   },
   {
    "duration": 8,
    "start_time": "2023-10-11T10:22:06.843Z"
   },
   {
    "duration": 673,
    "start_time": "2023-10-11T10:22:06.853Z"
   },
   {
    "duration": 6,
    "start_time": "2023-10-11T10:22:07.528Z"
   },
   {
    "duration": 21,
    "start_time": "2023-10-11T10:22:07.535Z"
   },
   {
    "duration": 104,
    "start_time": "2023-10-11T10:22:07.559Z"
   },
   {
    "duration": 7372,
    "start_time": "2023-10-11T14:59:04.316Z"
   },
   {
    "duration": 1226,
    "start_time": "2023-10-11T14:59:11.690Z"
   },
   {
    "duration": 53,
    "start_time": "2023-10-11T14:59:12.917Z"
   },
   {
    "duration": 11,
    "start_time": "2023-10-11T14:59:12.972Z"
   },
   {
    "duration": 6,
    "start_time": "2023-10-11T14:59:12.984Z"
   },
   {
    "duration": 26,
    "start_time": "2023-10-11T14:59:12.991Z"
   },
   {
    "duration": 163,
    "start_time": "2023-10-11T14:59:13.019Z"
   },
   {
    "duration": 8,
    "start_time": "2023-10-11T14:59:13.186Z"
   },
   {
    "duration": 10,
    "start_time": "2023-10-11T14:59:13.196Z"
   },
   {
    "duration": 23,
    "start_time": "2023-10-11T14:59:13.208Z"
   },
   {
    "duration": 421,
    "start_time": "2023-10-11T14:59:13.233Z"
   },
   {
    "duration": 12,
    "start_time": "2023-10-11T14:59:13.657Z"
   },
   {
    "duration": 324,
    "start_time": "2023-10-11T14:59:13.671Z"
   },
   {
    "duration": 294,
    "start_time": "2023-10-11T14:59:13.997Z"
   },
   {
    "duration": 52,
    "start_time": "2023-10-11T14:59:14.293Z"
   },
   {
    "duration": 5,
    "start_time": "2023-10-11T14:59:14.347Z"
   },
   {
    "duration": 5,
    "start_time": "2023-10-11T14:59:39.762Z"
   }
  ],
  "kernelspec": {
   "display_name": "Python 3 (ipykernel)",
   "language": "python",
   "name": "python3"
  },
  "language_info": {
   "codemirror_mode": {
    "name": "ipython",
    "version": 3
   },
   "file_extension": ".py",
   "mimetype": "text/x-python",
   "name": "python",
   "nbconvert_exporter": "python",
   "pygments_lexer": "ipython3",
   "version": "3.9.16"
  },
  "toc": {
   "base_numbering": 1,
   "nav_menu": {},
   "number_sections": true,
   "sideBar": true,
   "skip_h1_title": true,
   "title_cell": "Содержание",
   "title_sidebar": "Contents",
   "toc_cell": true,
   "toc_position": {
    "height": "calc(100% - 180px)",
    "left": "10px",
    "top": "150px",
    "width": "165px"
   },
   "toc_section_display": true,
   "toc_window_display": true
  }
 },
 "nbformat": 4,
 "nbformat_minor": 2
}
