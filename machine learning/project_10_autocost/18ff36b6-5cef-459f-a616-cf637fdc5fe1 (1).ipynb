{
 "cells": [
  {
   "cell_type": "markdown",
   "metadata": {},
   "source": [
    "# Определение стоимости автомобилей"
   ]
  },
  {
   "cell_type": "markdown",
   "metadata": {},
   "source": [
    "Сервис по продаже автомобилей с пробегом «Не бит, не крашен» разрабатывает приложение для привлечения новых клиентов. В нём можно быстро узнать рыночную стоимость своего автомобиля. В вашем распоряжении исторические данные: технические характеристики, комплектации и цены автомобилей. Вам нужно построить модель для определения стоимости. \n",
    "\n",
    "Заказчику важны:\n",
    "\n",
    "- качество предсказания;\n",
    "- скорость предсказания;\n",
    "- время обучения."
   ]
  },
  {
   "cell_type": "markdown",
   "metadata": {},
   "source": [
    "Ход проекта:\n",
    "* Загрузка и знакомство с данными.\n",
    "* Предобработка данных.\n",
    "* Настройка и обучение моделей.\n",
    "* Анализ моделей.\n",
    "* Тест лучшей модели."
   ]
  },
  {
   "cell_type": "code",
   "execution_count": 3,
   "metadata": {},
   "outputs": [],
   "source": [
    "import pandas as pd\n",
    "import numpy as np\n",
    "import os\n",
    "import warnings\n",
    "import seaborn as sns\n",
    "import matplotlib.pyplot as plt\n",
    "import re\n",
    "import lightgbm as lgb\n",
    "\n",
    "from sklearn.impute import SimpleImputer \n",
    "from sklearn.compose import ColumnTransformer\n",
    "from sklearn.linear_model import LinearRegression\n",
    "from sklearn.model_selection import train_test_split, cross_val_score, GridSearchCV\n",
    "from sklearn.preprocessing import StandardScaler, OneHotEncoder\n",
    "from sklearn.pipeline import Pipeline\n",
    "from sklearn.ensemble import RandomForestRegressor\n",
    "from sklearn.metrics import mean_squared_error\n",
    "from sklearn.dummy import DummyRegressor\n",
    "from sklearn.tree import DecisionTreeRegressor\n",
    "from lightgbm import LGBMRegressor\n",
    "import phik\n",
    "\n",
    "\n",
    "warnings.filterwarnings(\"ignore\")\n",
    "pd.set_option('display.max_columns', None)"
   ]
  },
  {
   "cell_type": "markdown",
   "metadata": {},
   "source": [
    "## Знакомство с данными"
   ]
  },
  {
   "cell_type": "code",
   "execution_count": 4,
   "metadata": {},
   "outputs": [],
   "source": [
    "pth1 = '/datasets/autos.csv'\n",
    "pth2 = '/folder_2/data.csv'\n",
    "\n",
    "if os.path.exists(pth1):\n",
    "    df = pd.read_csv(pth1, parse_dates=['DateCrawled', 'DateCreated', 'LastSeen'])\n",
    "elif os.path.exists(pth2):\n",
    "    df = pd.read_csv(pth2, parse_dates=['DateCrawled', 'DateCreated', 'LastSeen'])\n",
    "else:\n",
    "    print('Something is wrong')"
   ]
  },
  {
   "cell_type": "code",
   "execution_count": 5,
   "metadata": {},
   "outputs": [
    {
     "data": {
      "text/html": [
       "<div>\n",
       "<style scoped>\n",
       "    .dataframe tbody tr th:only-of-type {\n",
       "        vertical-align: middle;\n",
       "    }\n",
       "\n",
       "    .dataframe tbody tr th {\n",
       "        vertical-align: top;\n",
       "    }\n",
       "\n",
       "    .dataframe thead th {\n",
       "        text-align: right;\n",
       "    }\n",
       "</style>\n",
       "<table border=\"1\" class=\"dataframe\">\n",
       "  <thead>\n",
       "    <tr style=\"text-align: right;\">\n",
       "      <th></th>\n",
       "      <th>DateCrawled</th>\n",
       "      <th>Price</th>\n",
       "      <th>VehicleType</th>\n",
       "      <th>RegistrationYear</th>\n",
       "      <th>Gearbox</th>\n",
       "      <th>Power</th>\n",
       "      <th>Model</th>\n",
       "      <th>Kilometer</th>\n",
       "      <th>RegistrationMonth</th>\n",
       "      <th>FuelType</th>\n",
       "      <th>Brand</th>\n",
       "      <th>Repaired</th>\n",
       "      <th>DateCreated</th>\n",
       "      <th>NumberOfPictures</th>\n",
       "      <th>PostalCode</th>\n",
       "      <th>LastSeen</th>\n",
       "    </tr>\n",
       "  </thead>\n",
       "  <tbody>\n",
       "    <tr>\n",
       "      <th>0</th>\n",
       "      <td>2016-03-24 11:52:17</td>\n",
       "      <td>480</td>\n",
       "      <td>NaN</td>\n",
       "      <td>1993</td>\n",
       "      <td>manual</td>\n",
       "      <td>0</td>\n",
       "      <td>golf</td>\n",
       "      <td>150000</td>\n",
       "      <td>0</td>\n",
       "      <td>petrol</td>\n",
       "      <td>volkswagen</td>\n",
       "      <td>NaN</td>\n",
       "      <td>2016-03-24</td>\n",
       "      <td>0</td>\n",
       "      <td>70435</td>\n",
       "      <td>2016-04-07 03:16:57</td>\n",
       "    </tr>\n",
       "    <tr>\n",
       "      <th>1</th>\n",
       "      <td>2016-03-24 10:58:45</td>\n",
       "      <td>18300</td>\n",
       "      <td>coupe</td>\n",
       "      <td>2011</td>\n",
       "      <td>manual</td>\n",
       "      <td>190</td>\n",
       "      <td>NaN</td>\n",
       "      <td>125000</td>\n",
       "      <td>5</td>\n",
       "      <td>gasoline</td>\n",
       "      <td>audi</td>\n",
       "      <td>yes</td>\n",
       "      <td>2016-03-24</td>\n",
       "      <td>0</td>\n",
       "      <td>66954</td>\n",
       "      <td>2016-04-07 01:46:50</td>\n",
       "    </tr>\n",
       "    <tr>\n",
       "      <th>2</th>\n",
       "      <td>2016-03-14 12:52:21</td>\n",
       "      <td>9800</td>\n",
       "      <td>suv</td>\n",
       "      <td>2004</td>\n",
       "      <td>auto</td>\n",
       "      <td>163</td>\n",
       "      <td>grand</td>\n",
       "      <td>125000</td>\n",
       "      <td>8</td>\n",
       "      <td>gasoline</td>\n",
       "      <td>jeep</td>\n",
       "      <td>NaN</td>\n",
       "      <td>2016-03-14</td>\n",
       "      <td>0</td>\n",
       "      <td>90480</td>\n",
       "      <td>2016-04-05 12:47:46</td>\n",
       "    </tr>\n",
       "    <tr>\n",
       "      <th>3</th>\n",
       "      <td>2016-03-17 16:54:04</td>\n",
       "      <td>1500</td>\n",
       "      <td>small</td>\n",
       "      <td>2001</td>\n",
       "      <td>manual</td>\n",
       "      <td>75</td>\n",
       "      <td>golf</td>\n",
       "      <td>150000</td>\n",
       "      <td>6</td>\n",
       "      <td>petrol</td>\n",
       "      <td>volkswagen</td>\n",
       "      <td>no</td>\n",
       "      <td>2016-03-17</td>\n",
       "      <td>0</td>\n",
       "      <td>91074</td>\n",
       "      <td>2016-03-17 17:40:17</td>\n",
       "    </tr>\n",
       "    <tr>\n",
       "      <th>4</th>\n",
       "      <td>2016-03-31 17:25:20</td>\n",
       "      <td>3600</td>\n",
       "      <td>small</td>\n",
       "      <td>2008</td>\n",
       "      <td>manual</td>\n",
       "      <td>69</td>\n",
       "      <td>fabia</td>\n",
       "      <td>90000</td>\n",
       "      <td>7</td>\n",
       "      <td>gasoline</td>\n",
       "      <td>skoda</td>\n",
       "      <td>no</td>\n",
       "      <td>2016-03-31</td>\n",
       "      <td>0</td>\n",
       "      <td>60437</td>\n",
       "      <td>2016-04-06 10:17:21</td>\n",
       "    </tr>\n",
       "  </tbody>\n",
       "</table>\n",
       "</div>"
      ],
      "text/plain": [
       "          DateCrawled  Price VehicleType  RegistrationYear Gearbox  Power  \\\n",
       "0 2016-03-24 11:52:17    480         NaN              1993  manual      0   \n",
       "1 2016-03-24 10:58:45  18300       coupe              2011  manual    190   \n",
       "2 2016-03-14 12:52:21   9800         suv              2004    auto    163   \n",
       "3 2016-03-17 16:54:04   1500       small              2001  manual     75   \n",
       "4 2016-03-31 17:25:20   3600       small              2008  manual     69   \n",
       "\n",
       "   Model  Kilometer  RegistrationMonth  FuelType       Brand Repaired  \\\n",
       "0   golf     150000                  0    petrol  volkswagen      NaN   \n",
       "1    NaN     125000                  5  gasoline        audi      yes   \n",
       "2  grand     125000                  8  gasoline        jeep      NaN   \n",
       "3   golf     150000                  6    petrol  volkswagen       no   \n",
       "4  fabia      90000                  7  gasoline       skoda       no   \n",
       "\n",
       "  DateCreated  NumberOfPictures  PostalCode            LastSeen  \n",
       "0  2016-03-24                 0       70435 2016-04-07 03:16:57  \n",
       "1  2016-03-24                 0       66954 2016-04-07 01:46:50  \n",
       "2  2016-03-14                 0       90480 2016-04-05 12:47:46  \n",
       "3  2016-03-17                 0       91074 2016-03-17 17:40:17  \n",
       "4  2016-03-31                 0       60437 2016-04-06 10:17:21  "
      ]
     },
     "execution_count": 5,
     "metadata": {},
     "output_type": "execute_result"
    }
   ],
   "source": [
    "df.head()"
   ]
  },
  {
   "cell_type": "markdown",
   "metadata": {},
   "source": [
    "**Даты исправлены в datetime сразу при подгрузке, названия колонок будем изменять в предобработке.**"
   ]
  },
  {
   "cell_type": "code",
   "execution_count": 6,
   "metadata": {},
   "outputs": [
    {
     "name": "stdout",
     "output_type": "stream",
     "text": [
      "<class 'pandas.core.frame.DataFrame'>\n",
      "RangeIndex: 354369 entries, 0 to 354368\n",
      "Data columns (total 16 columns):\n",
      " #   Column             Non-Null Count   Dtype         \n",
      "---  ------             --------------   -----         \n",
      " 0   DateCrawled        354369 non-null  datetime64[ns]\n",
      " 1   Price              354369 non-null  int64         \n",
      " 2   VehicleType        316879 non-null  object        \n",
      " 3   RegistrationYear   354369 non-null  int64         \n",
      " 4   Gearbox            334536 non-null  object        \n",
      " 5   Power              354369 non-null  int64         \n",
      " 6   Model              334664 non-null  object        \n",
      " 7   Kilometer          354369 non-null  int64         \n",
      " 8   RegistrationMonth  354369 non-null  int64         \n",
      " 9   FuelType           321474 non-null  object        \n",
      " 10  Brand              354369 non-null  object        \n",
      " 11  Repaired           283215 non-null  object        \n",
      " 12  DateCreated        354369 non-null  datetime64[ns]\n",
      " 13  NumberOfPictures   354369 non-null  int64         \n",
      " 14  PostalCode         354369 non-null  int64         \n",
      " 15  LastSeen           354369 non-null  datetime64[ns]\n",
      "dtypes: datetime64[ns](3), int64(7), object(6)\n",
      "memory usage: 43.3+ MB\n"
     ]
    }
   ],
   "source": [
    "df.info()"
   ]
  },
  {
   "cell_type": "markdown",
   "metadata": {},
   "source": [
    "**Год регистрации скорее категориальный признак, изменим на object.**\n",
    "\n",
    "**Многие колонки не нужны, так-как только запутают модели, удалим в предобработке.**"
   ]
  },
  {
   "cell_type": "code",
   "execution_count": 7,
   "metadata": {},
   "outputs": [
    {
     "name": "stdout",
     "output_type": "stream",
     "text": [
      "Размер сета: (354369, 16)\n",
      "Количество дубликатов: 4\n",
      "\n",
      "======= Пропуски =======\n"
     ]
    },
    {
     "data": {
      "text/plain": [
       "DateCrawled              0\n",
       "Price                    0\n",
       "VehicleType          37490\n",
       "RegistrationYear         0\n",
       "Gearbox              19833\n",
       "Power                    0\n",
       "Model                19705\n",
       "Kilometer                0\n",
       "RegistrationMonth        0\n",
       "FuelType             32895\n",
       "Brand                    0\n",
       "Repaired             71154\n",
       "DateCreated              0\n",
       "NumberOfPictures         0\n",
       "PostalCode               0\n",
       "LastSeen                 0\n",
       "dtype: int64"
      ]
     },
     "execution_count": 7,
     "metadata": {},
     "output_type": "execute_result"
    }
   ],
   "source": [
    "print('Размер сета:', df.shape)\n",
    "print('Количество дубликатов:', df.duplicated().sum())\n",
    "print()\n",
    "print(7*'=', 'Пропуски', 7*'=')\n",
    "df.isna().sum()"
   ]
  },
  {
   "cell_type": "markdown",
   "metadata": {},
   "source": [
    "**4 дубля, ничего страшного, но всё равно удалим.**\n",
    "\n",
    "**Все пропуски находятся в категориальных признаках.**"
   ]
  },
  {
   "cell_type": "code",
   "execution_count": 8,
   "metadata": {},
   "outputs": [
    {
     "data": {
      "text/html": [
       "<div>\n",
       "<style scoped>\n",
       "    .dataframe tbody tr th:only-of-type {\n",
       "        vertical-align: middle;\n",
       "    }\n",
       "\n",
       "    .dataframe tbody tr th {\n",
       "        vertical-align: top;\n",
       "    }\n",
       "\n",
       "    .dataframe thead th {\n",
       "        text-align: right;\n",
       "    }\n",
       "</style>\n",
       "<table border=\"1\" class=\"dataframe\">\n",
       "  <thead>\n",
       "    <tr style=\"text-align: right;\">\n",
       "      <th></th>\n",
       "      <th>Price</th>\n",
       "      <th>RegistrationYear</th>\n",
       "      <th>Power</th>\n",
       "      <th>Kilometer</th>\n",
       "      <th>RegistrationMonth</th>\n",
       "      <th>NumberOfPictures</th>\n",
       "      <th>PostalCode</th>\n",
       "    </tr>\n",
       "  </thead>\n",
       "  <tbody>\n",
       "    <tr>\n",
       "      <th>count</th>\n",
       "      <td>354369.000000</td>\n",
       "      <td>354369.000000</td>\n",
       "      <td>354369.000000</td>\n",
       "      <td>354369.000000</td>\n",
       "      <td>354369.000000</td>\n",
       "      <td>354369.0</td>\n",
       "      <td>354369.000000</td>\n",
       "    </tr>\n",
       "    <tr>\n",
       "      <th>mean</th>\n",
       "      <td>4416.656776</td>\n",
       "      <td>2004.234448</td>\n",
       "      <td>110.094337</td>\n",
       "      <td>128211.172535</td>\n",
       "      <td>5.714645</td>\n",
       "      <td>0.0</td>\n",
       "      <td>50508.689087</td>\n",
       "    </tr>\n",
       "    <tr>\n",
       "      <th>std</th>\n",
       "      <td>4514.158514</td>\n",
       "      <td>90.227958</td>\n",
       "      <td>189.850405</td>\n",
       "      <td>37905.341530</td>\n",
       "      <td>3.726421</td>\n",
       "      <td>0.0</td>\n",
       "      <td>25783.096248</td>\n",
       "    </tr>\n",
       "    <tr>\n",
       "      <th>min</th>\n",
       "      <td>0.000000</td>\n",
       "      <td>1000.000000</td>\n",
       "      <td>0.000000</td>\n",
       "      <td>5000.000000</td>\n",
       "      <td>0.000000</td>\n",
       "      <td>0.0</td>\n",
       "      <td>1067.000000</td>\n",
       "    </tr>\n",
       "    <tr>\n",
       "      <th>25%</th>\n",
       "      <td>1050.000000</td>\n",
       "      <td>1999.000000</td>\n",
       "      <td>69.000000</td>\n",
       "      <td>125000.000000</td>\n",
       "      <td>3.000000</td>\n",
       "      <td>0.0</td>\n",
       "      <td>30165.000000</td>\n",
       "    </tr>\n",
       "    <tr>\n",
       "      <th>50%</th>\n",
       "      <td>2700.000000</td>\n",
       "      <td>2003.000000</td>\n",
       "      <td>105.000000</td>\n",
       "      <td>150000.000000</td>\n",
       "      <td>6.000000</td>\n",
       "      <td>0.0</td>\n",
       "      <td>49413.000000</td>\n",
       "    </tr>\n",
       "    <tr>\n",
       "      <th>75%</th>\n",
       "      <td>6400.000000</td>\n",
       "      <td>2008.000000</td>\n",
       "      <td>143.000000</td>\n",
       "      <td>150000.000000</td>\n",
       "      <td>9.000000</td>\n",
       "      <td>0.0</td>\n",
       "      <td>71083.000000</td>\n",
       "    </tr>\n",
       "    <tr>\n",
       "      <th>max</th>\n",
       "      <td>20000.000000</td>\n",
       "      <td>9999.000000</td>\n",
       "      <td>20000.000000</td>\n",
       "      <td>150000.000000</td>\n",
       "      <td>12.000000</td>\n",
       "      <td>0.0</td>\n",
       "      <td>99998.000000</td>\n",
       "    </tr>\n",
       "  </tbody>\n",
       "</table>\n",
       "</div>"
      ],
      "text/plain": [
       "               Price  RegistrationYear          Power      Kilometer  \\\n",
       "count  354369.000000     354369.000000  354369.000000  354369.000000   \n",
       "mean     4416.656776       2004.234448     110.094337  128211.172535   \n",
       "std      4514.158514         90.227958     189.850405   37905.341530   \n",
       "min         0.000000       1000.000000       0.000000    5000.000000   \n",
       "25%      1050.000000       1999.000000      69.000000  125000.000000   \n",
       "50%      2700.000000       2003.000000     105.000000  150000.000000   \n",
       "75%      6400.000000       2008.000000     143.000000  150000.000000   \n",
       "max     20000.000000       9999.000000   20000.000000  150000.000000   \n",
       "\n",
       "       RegistrationMonth  NumberOfPictures     PostalCode  \n",
       "count      354369.000000          354369.0  354369.000000  \n",
       "mean            5.714645               0.0   50508.689087  \n",
       "std             3.726421               0.0   25783.096248  \n",
       "min             0.000000               0.0    1067.000000  \n",
       "25%             3.000000               0.0   30165.000000  \n",
       "50%             6.000000               0.0   49413.000000  \n",
       "75%             9.000000               0.0   71083.000000  \n",
       "max            12.000000               0.0   99998.000000  "
      ]
     },
     "metadata": {},
     "output_type": "display_data"
    },
    {
     "name": "stdout",
     "output_type": "stream",
     "text": [
      "None\n"
     ]
    }
   ],
   "source": [
    "print(display(df.describe()))"
   ]
  },
  {
   "cell_type": "markdown",
   "metadata": {},
   "source": [
    "**Присутствуют нулевые цена, диапозон цен от 0 до 20000.**\n",
    "\n",
    "**Год регистрации от 1009 до 9999 года, год очень сильно влияет на цену автомобиля, соответственно выбросы будут удалены.**\n",
    "\n",
    "**Мощность двигателя опять же выбросы.**\n",
    "\n",
    "**Месяц регситрации и номер продавца, удалим.**"
   ]
  },
  {
   "cell_type": "code",
   "execution_count": 9,
   "metadata": {},
   "outputs": [
    {
     "data": {
      "image/png": "[encoded data removed]",
      "text/plain": [
       "<Figure size 1080x648 with 2 Axes>"
      ]
     },
     "metadata": {
      "needs_background": "light"
     },
     "output_type": "display_data"
    }
   ],
   "source": [
    "heat = df.corr()\n",
    "ax = plt.subplots(figsize=(15, 9))\n",
    "sns.heatmap(heat, annot=True);"
   ]
  },
  {
   "cell_type": "code",
   "execution_count": 10,
   "metadata": {},
   "outputs": [
    {
     "data": {
      "text/html": [
       "<div>\n",
       "<style scoped>\n",
       "    .dataframe tbody tr th:only-of-type {\n",
       "        vertical-align: middle;\n",
       "    }\n",
       "\n",
       "    .dataframe tbody tr th {\n",
       "        vertical-align: top;\n",
       "    }\n",
       "\n",
       "    .dataframe thead th {\n",
       "        text-align: right;\n",
       "    }\n",
       "</style>\n",
       "<table border=\"1\" class=\"dataframe\">\n",
       "  <thead>\n",
       "    <tr style=\"text-align: right;\">\n",
       "      <th></th>\n",
       "      <th>Price</th>\n",
       "      <th>RegistrationYear</th>\n",
       "      <th>Power</th>\n",
       "      <th>Kilometer</th>\n",
       "      <th>RegistrationMonth</th>\n",
       "      <th>NumberOfPictures</th>\n",
       "      <th>PostalCode</th>\n",
       "    </tr>\n",
       "  </thead>\n",
       "  <tbody>\n",
       "    <tr>\n",
       "      <th>Price</th>\n",
       "      <td>1.000000</td>\n",
       "      <td>0.026916</td>\n",
       "      <td>0.158872</td>\n",
       "      <td>-0.333199</td>\n",
       "      <td>0.110581</td>\n",
       "      <td>NaN</td>\n",
       "      <td>0.076055</td>\n",
       "    </tr>\n",
       "    <tr>\n",
       "      <th>RegistrationYear</th>\n",
       "      <td>0.026916</td>\n",
       "      <td>1.000000</td>\n",
       "      <td>-0.000828</td>\n",
       "      <td>-0.053447</td>\n",
       "      <td>-0.011619</td>\n",
       "      <td>NaN</td>\n",
       "      <td>-0.003459</td>\n",
       "    </tr>\n",
       "    <tr>\n",
       "      <th>Power</th>\n",
       "      <td>0.158872</td>\n",
       "      <td>-0.000828</td>\n",
       "      <td>1.000000</td>\n",
       "      <td>0.024002</td>\n",
       "      <td>0.043380</td>\n",
       "      <td>NaN</td>\n",
       "      <td>0.021665</td>\n",
       "    </tr>\n",
       "    <tr>\n",
       "      <th>Kilometer</th>\n",
       "      <td>-0.333199</td>\n",
       "      <td>-0.053447</td>\n",
       "      <td>0.024002</td>\n",
       "      <td>1.000000</td>\n",
       "      <td>0.009571</td>\n",
       "      <td>NaN</td>\n",
       "      <td>-0.007698</td>\n",
       "    </tr>\n",
       "    <tr>\n",
       "      <th>RegistrationMonth</th>\n",
       "      <td>0.110581</td>\n",
       "      <td>-0.011619</td>\n",
       "      <td>0.043380</td>\n",
       "      <td>0.009571</td>\n",
       "      <td>1.000000</td>\n",
       "      <td>NaN</td>\n",
       "      <td>0.013995</td>\n",
       "    </tr>\n",
       "    <tr>\n",
       "      <th>NumberOfPictures</th>\n",
       "      <td>NaN</td>\n",
       "      <td>NaN</td>\n",
       "      <td>NaN</td>\n",
       "      <td>NaN</td>\n",
       "      <td>NaN</td>\n",
       "      <td>NaN</td>\n",
       "      <td>NaN</td>\n",
       "    </tr>\n",
       "    <tr>\n",
       "      <th>PostalCode</th>\n",
       "      <td>0.076055</td>\n",
       "      <td>-0.003459</td>\n",
       "      <td>0.021665</td>\n",
       "      <td>-0.007698</td>\n",
       "      <td>0.013995</td>\n",
       "      <td>NaN</td>\n",
       "      <td>1.000000</td>\n",
       "    </tr>\n",
       "  </tbody>\n",
       "</table>\n",
       "</div>"
      ],
      "text/plain": [
       "                      Price  RegistrationYear     Power  Kilometer  \\\n",
       "Price              1.000000          0.026916  0.158872  -0.333199   \n",
       "RegistrationYear   0.026916          1.000000 -0.000828  -0.053447   \n",
       "Power              0.158872         -0.000828  1.000000   0.024002   \n",
       "Kilometer         -0.333199         -0.053447  0.024002   1.000000   \n",
       "RegistrationMonth  0.110581         -0.011619  0.043380   0.009571   \n",
       "NumberOfPictures        NaN               NaN       NaN        NaN   \n",
       "PostalCode         0.076055         -0.003459  0.021665  -0.007698   \n",
       "\n",
       "                   RegistrationMonth  NumberOfPictures  PostalCode  \n",
       "Price                       0.110581               NaN    0.076055  \n",
       "RegistrationYear           -0.011619               NaN   -0.003459  \n",
       "Power                       0.043380               NaN    0.021665  \n",
       "Kilometer                   0.009571               NaN   -0.007698  \n",
       "RegistrationMonth           1.000000               NaN    0.013995  \n",
       "NumberOfPictures                 NaN               NaN         NaN  \n",
       "PostalCode                  0.013995               NaN    1.000000  "
      ]
     },
     "execution_count": 10,
     "metadata": {},
     "output_type": "execute_result"
    }
   ],
   "source": [
    "df.corr()"
   ]
  },
  {
   "cell_type": "markdown",
   "metadata": {},
   "source": [
    "**Сильно скоррелированные признаки отсутствуют**"
   ]
  },
  {
   "cell_type": "code",
   "execution_count": 11,
   "metadata": {},
   "outputs": [
    {
     "name": "stdout",
     "output_type": "stream",
     "text": [
      "0\n",
      "[150000 125000  90000  40000  30000  70000   5000 100000  60000  20000\n",
      "  80000  50000  10000]\n",
      "Количество признаков в столбце Kilometer со значением более 149к: 238209\n"
     ]
    }
   ],
   "source": [
    "print(df['NumberOfPictures'].sum())\n",
    "print(df['Kilometer'].unique())\n",
    "print('Количество признаков в столбце Kilometer со значением более 149к:', (df['Kilometer'] == 150000).sum())"
   ]
  },
  {
   "cell_type": "markdown",
   "metadata": {},
   "source": [
    "**Количество километража равному 150к километру: 238209.**"
   ]
  },
  {
   "cell_type": "markdown",
   "metadata": {},
   "source": [
    "**Количество фото везде 0, удалим**"
   ]
  },
  {
   "cell_type": "code",
   "execution_count": 12,
   "metadata": {},
   "outputs": [
    {
     "data": {
      "image/png": "[encoded data removed]",
      "text/plain": [
       "<Figure size 1080x360 with 1 Axes>"
      ]
     },
     "metadata": {},
     "output_type": "display_data"
    }
   ],
   "source": [
    "sns.set(rc={'figure.figsize':(15,5)})\n",
    "sns.scatterplot(data=df, x='Price', y='Kilometer');"
   ]
  },
  {
   "cell_type": "code",
   "execution_count": 14,
   "metadata": {},
   "outputs": [
    {
     "data": {
      "text/plain": [
       "array([nan, 'coupe', 'suv', 'small', 'sedan', 'convertible', 'bus',\n",
       "       'wagon', 'other'], dtype=object)"
      ]
     },
     "execution_count": 14,
     "metadata": {},
     "output_type": "execute_result"
    }
   ],
   "source": [
    "df['VehicleType'].unique()"
   ]
  },
  {
   "cell_type": "code",
   "execution_count": 15,
   "metadata": {},
   "outputs": [
    {
     "data": {
      "text/html": [
       "<div>\n",
       "<style scoped>\n",
       "    .dataframe tbody tr th:only-of-type {\n",
       "        vertical-align: middle;\n",
       "    }\n",
       "\n",
       "    .dataframe tbody tr th {\n",
       "        vertical-align: top;\n",
       "    }\n",
       "\n",
       "    .dataframe thead th {\n",
       "        text-align: right;\n",
       "    }\n",
       "</style>\n",
       "<table border=\"1\" class=\"dataframe\">\n",
       "  <thead>\n",
       "    <tr style=\"text-align: right;\">\n",
       "      <th></th>\n",
       "      <th>DateCrawled</th>\n",
       "      <th>Price</th>\n",
       "      <th>RegistrationYear</th>\n",
       "      <th>Gearbox</th>\n",
       "      <th>Power</th>\n",
       "      <th>Model</th>\n",
       "      <th>Kilometer</th>\n",
       "      <th>RegistrationMonth</th>\n",
       "      <th>FuelType</th>\n",
       "      <th>Brand</th>\n",
       "      <th>Repaired</th>\n",
       "      <th>DateCreated</th>\n",
       "      <th>NumberOfPictures</th>\n",
       "      <th>PostalCode</th>\n",
       "      <th>LastSeen</th>\n",
       "    </tr>\n",
       "    <tr>\n",
       "      <th>VehicleType</th>\n",
       "      <th></th>\n",
       "      <th></th>\n",
       "      <th></th>\n",
       "      <th></th>\n",
       "      <th></th>\n",
       "      <th></th>\n",
       "      <th></th>\n",
       "      <th></th>\n",
       "      <th></th>\n",
       "      <th></th>\n",
       "      <th></th>\n",
       "      <th></th>\n",
       "      <th></th>\n",
       "      <th></th>\n",
       "      <th></th>\n",
       "    </tr>\n",
       "  </thead>\n",
       "  <tbody>\n",
       "    <tr>\n",
       "      <th>bus</th>\n",
       "      <td>28775</td>\n",
       "      <td>28775</td>\n",
       "      <td>28775</td>\n",
       "      <td>27973</td>\n",
       "      <td>28775</td>\n",
       "      <td>27794</td>\n",
       "      <td>28775</td>\n",
       "      <td>28775</td>\n",
       "      <td>27741</td>\n",
       "      <td>28775</td>\n",
       "      <td>25197</td>\n",
       "      <td>28775</td>\n",
       "      <td>28775</td>\n",
       "      <td>28775</td>\n",
       "      <td>28775</td>\n",
       "    </tr>\n",
       "    <tr>\n",
       "      <th>convertible</th>\n",
       "      <td>20203</td>\n",
       "      <td>20203</td>\n",
       "      <td>20203</td>\n",
       "      <td>19522</td>\n",
       "      <td>20203</td>\n",
       "      <td>19319</td>\n",
       "      <td>20203</td>\n",
       "      <td>20203</td>\n",
       "      <td>19338</td>\n",
       "      <td>20203</td>\n",
       "      <td>17526</td>\n",
       "      <td>20203</td>\n",
       "      <td>20203</td>\n",
       "      <td>20203</td>\n",
       "      <td>20203</td>\n",
       "    </tr>\n",
       "    <tr>\n",
       "      <th>coupe</th>\n",
       "      <td>16163</td>\n",
       "      <td>16163</td>\n",
       "      <td>16163</td>\n",
       "      <td>15704</td>\n",
       "      <td>16163</td>\n",
       "      <td>15239</td>\n",
       "      <td>16163</td>\n",
       "      <td>16163</td>\n",
       "      <td>15344</td>\n",
       "      <td>16163</td>\n",
       "      <td>13393</td>\n",
       "      <td>16163</td>\n",
       "      <td>16163</td>\n",
       "      <td>16163</td>\n",
       "      <td>16163</td>\n",
       "    </tr>\n",
       "    <tr>\n",
       "      <th>other</th>\n",
       "      <td>3288</td>\n",
       "      <td>3288</td>\n",
       "      <td>3288</td>\n",
       "      <td>3048</td>\n",
       "      <td>3288</td>\n",
       "      <td>2804</td>\n",
       "      <td>3288</td>\n",
       "      <td>3288</td>\n",
       "      <td>2941</td>\n",
       "      <td>3288</td>\n",
       "      <td>2136</td>\n",
       "      <td>3288</td>\n",
       "      <td>3288</td>\n",
       "      <td>3288</td>\n",
       "      <td>3288</td>\n",
       "    </tr>\n",
       "    <tr>\n",
       "      <th>sedan</th>\n",
       "      <td>91457</td>\n",
       "      <td>91457</td>\n",
       "      <td>91457</td>\n",
       "      <td>89048</td>\n",
       "      <td>91457</td>\n",
       "      <td>88119</td>\n",
       "      <td>91457</td>\n",
       "      <td>91457</td>\n",
       "      <td>87441</td>\n",
       "      <td>91457</td>\n",
       "      <td>77617</td>\n",
       "      <td>91457</td>\n",
       "      <td>91457</td>\n",
       "      <td>91457</td>\n",
       "      <td>91457</td>\n",
       "    </tr>\n",
       "    <tr>\n",
       "      <th>small</th>\n",
       "      <td>79831</td>\n",
       "      <td>79831</td>\n",
       "      <td>79831</td>\n",
       "      <td>76629</td>\n",
       "      <td>79831</td>\n",
       "      <td>76494</td>\n",
       "      <td>79831</td>\n",
       "      <td>79831</td>\n",
       "      <td>75045</td>\n",
       "      <td>79831</td>\n",
       "      <td>64891</td>\n",
       "      <td>79831</td>\n",
       "      <td>79831</td>\n",
       "      <td>79831</td>\n",
       "      <td>79831</td>\n",
       "    </tr>\n",
       "    <tr>\n",
       "      <th>suv</th>\n",
       "      <td>11996</td>\n",
       "      <td>11996</td>\n",
       "      <td>11996</td>\n",
       "      <td>11661</td>\n",
       "      <td>11996</td>\n",
       "      <td>11237</td>\n",
       "      <td>11996</td>\n",
       "      <td>11996</td>\n",
       "      <td>11579</td>\n",
       "      <td>11996</td>\n",
       "      <td>10569</td>\n",
       "      <td>11996</td>\n",
       "      <td>11996</td>\n",
       "      <td>11996</td>\n",
       "      <td>11996</td>\n",
       "    </tr>\n",
       "    <tr>\n",
       "      <th>wagon</th>\n",
       "      <td>65166</td>\n",
       "      <td>65166</td>\n",
       "      <td>65166</td>\n",
       "      <td>63431</td>\n",
       "      <td>65166</td>\n",
       "      <td>62996</td>\n",
       "      <td>65166</td>\n",
       "      <td>65166</td>\n",
       "      <td>61850</td>\n",
       "      <td>65166</td>\n",
       "      <td>54967</td>\n",
       "      <td>65166</td>\n",
       "      <td>65166</td>\n",
       "      <td>65166</td>\n",
       "      <td>65166</td>\n",
       "    </tr>\n",
       "  </tbody>\n",
       "</table>\n",
       "</div>"
      ],
      "text/plain": [
       "             DateCrawled  Price  RegistrationYear  Gearbox  Power  Model  \\\n",
       "VehicleType                                                                \n",
       "bus                28775  28775             28775    27973  28775  27794   \n",
       "convertible        20203  20203             20203    19522  20203  19319   \n",
       "coupe              16163  16163             16163    15704  16163  15239   \n",
       "other               3288   3288              3288     3048   3288   2804   \n",
       "sedan              91457  91457             91457    89048  91457  88119   \n",
       "small              79831  79831             79831    76629  79831  76494   \n",
       "suv                11996  11996             11996    11661  11996  11237   \n",
       "wagon              65166  65166             65166    63431  65166  62996   \n",
       "\n",
       "             Kilometer  RegistrationMonth  FuelType  Brand  Repaired  \\\n",
       "VehicleType                                                            \n",
       "bus              28775              28775     27741  28775     25197   \n",
       "convertible      20203              20203     19338  20203     17526   \n",
       "coupe            16163              16163     15344  16163     13393   \n",
       "other             3288               3288      2941   3288      2136   \n",
       "sedan            91457              91457     87441  91457     77617   \n",
       "small            79831              79831     75045  79831     64891   \n",
       "suv              11996              11996     11579  11996     10569   \n",
       "wagon            65166              65166     61850  65166     54967   \n",
       "\n",
       "             DateCreated  NumberOfPictures  PostalCode  LastSeen  \n",
       "VehicleType                                                       \n",
       "bus                28775             28775       28775     28775  \n",
       "convertible        20203             20203       20203     20203  \n",
       "coupe              16163             16163       16163     16163  \n",
       "other               3288              3288        3288      3288  \n",
       "sedan              91457             91457       91457     91457  \n",
       "small              79831             79831       79831     79831  \n",
       "suv                11996             11996       11996     11996  \n",
       "wagon              65166             65166       65166     65166  "
      ]
     },
     "execution_count": 15,
     "metadata": {},
     "output_type": "execute_result"
    }
   ],
   "source": [
    "df.groupby(['VehicleType']).count()"
   ]
  },
  {
   "cell_type": "code",
   "execution_count": 16,
   "metadata": {},
   "outputs": [
    {
     "data": {
      "text/plain": [
       "array(['manual', 'auto', nan], dtype=object)"
      ]
     },
     "execution_count": 16,
     "metadata": {},
     "output_type": "execute_result"
    }
   ],
   "source": [
    "df['Gearbox'].unique()"
   ]
  },
  {
   "cell_type": "code",
   "execution_count": 17,
   "metadata": {},
   "outputs": [
    {
     "data": {
      "text/html": [
       "<div>\n",
       "<style scoped>\n",
       "    .dataframe tbody tr th:only-of-type {\n",
       "        vertical-align: middle;\n",
       "    }\n",
       "\n",
       "    .dataframe tbody tr th {\n",
       "        vertical-align: top;\n",
       "    }\n",
       "\n",
       "    .dataframe thead th {\n",
       "        text-align: right;\n",
       "    }\n",
       "</style>\n",
       "<table border=\"1\" class=\"dataframe\">\n",
       "  <thead>\n",
       "    <tr style=\"text-align: right;\">\n",
       "      <th></th>\n",
       "      <th>DateCrawled</th>\n",
       "      <th>Price</th>\n",
       "      <th>VehicleType</th>\n",
       "      <th>RegistrationYear</th>\n",
       "      <th>Power</th>\n",
       "      <th>Model</th>\n",
       "      <th>Kilometer</th>\n",
       "      <th>RegistrationMonth</th>\n",
       "      <th>FuelType</th>\n",
       "      <th>Brand</th>\n",
       "      <th>Repaired</th>\n",
       "      <th>DateCreated</th>\n",
       "      <th>NumberOfPictures</th>\n",
       "      <th>PostalCode</th>\n",
       "      <th>LastSeen</th>\n",
       "    </tr>\n",
       "    <tr>\n",
       "      <th>Gearbox</th>\n",
       "      <th></th>\n",
       "      <th></th>\n",
       "      <th></th>\n",
       "      <th></th>\n",
       "      <th></th>\n",
       "      <th></th>\n",
       "      <th></th>\n",
       "      <th></th>\n",
       "      <th></th>\n",
       "      <th></th>\n",
       "      <th></th>\n",
       "      <th></th>\n",
       "      <th></th>\n",
       "      <th></th>\n",
       "      <th></th>\n",
       "    </tr>\n",
       "  </thead>\n",
       "  <tbody>\n",
       "    <tr>\n",
       "      <th>auto</th>\n",
       "      <td>66285</td>\n",
       "      <td>66285</td>\n",
       "      <td>62287</td>\n",
       "      <td>66285</td>\n",
       "      <td>66285</td>\n",
       "      <td>63038</td>\n",
       "      <td>66285</td>\n",
       "      <td>66285</td>\n",
       "      <td>62451</td>\n",
       "      <td>66285</td>\n",
       "      <td>56323</td>\n",
       "      <td>66285</td>\n",
       "      <td>66285</td>\n",
       "      <td>66285</td>\n",
       "      <td>66285</td>\n",
       "    </tr>\n",
       "    <tr>\n",
       "      <th>manual</th>\n",
       "      <td>268251</td>\n",
       "      <td>268251</td>\n",
       "      <td>244729</td>\n",
       "      <td>268251</td>\n",
       "      <td>268251</td>\n",
       "      <td>255924</td>\n",
       "      <td>268251</td>\n",
       "      <td>268251</td>\n",
       "      <td>248110</td>\n",
       "      <td>268251</td>\n",
       "      <td>219847</td>\n",
       "      <td>268251</td>\n",
       "      <td>268251</td>\n",
       "      <td>268251</td>\n",
       "      <td>268251</td>\n",
       "    </tr>\n",
       "  </tbody>\n",
       "</table>\n",
       "</div>"
      ],
      "text/plain": [
       "         DateCrawled   Price  VehicleType  RegistrationYear   Power   Model  \\\n",
       "Gearbox                                                                       \n",
       "auto           66285   66285        62287             66285   66285   63038   \n",
       "manual        268251  268251       244729            268251  268251  255924   \n",
       "\n",
       "         Kilometer  RegistrationMonth  FuelType   Brand  Repaired  \\\n",
       "Gearbox                                                             \n",
       "auto         66285              66285     62451   66285     56323   \n",
       "manual      268251             268251    248110  268251    219847   \n",
       "\n",
       "         DateCreated  NumberOfPictures  PostalCode  LastSeen  \n",
       "Gearbox                                                       \n",
       "auto           66285             66285       66285     66285  \n",
       "manual        268251            268251      268251    268251  "
      ]
     },
     "execution_count": 17,
     "metadata": {},
     "output_type": "execute_result"
    }
   ],
   "source": [
    "df.groupby(['Gearbox']).count()"
   ]
  },
  {
   "cell_type": "code",
   "execution_count": 18,
   "metadata": {},
   "outputs": [
    {
     "data": {
      "text/plain": [
       "array(['petrol', 'gasoline', nan, 'lpg', 'other', 'hybrid', 'cng',\n",
       "       'electric'], dtype=object)"
      ]
     },
     "execution_count": 18,
     "metadata": {},
     "output_type": "execute_result"
    }
   ],
   "source": [
    "df['FuelType'].unique()"
   ]
  },
  {
   "cell_type": "code",
   "execution_count": 19,
   "metadata": {},
   "outputs": [
    {
     "data": {
      "text/html": [
       "<div>\n",
       "<style scoped>\n",
       "    .dataframe tbody tr th:only-of-type {\n",
       "        vertical-align: middle;\n",
       "    }\n",
       "\n",
       "    .dataframe tbody tr th {\n",
       "        vertical-align: top;\n",
       "    }\n",
       "\n",
       "    .dataframe thead th {\n",
       "        text-align: right;\n",
       "    }\n",
       "</style>\n",
       "<table border=\"1\" class=\"dataframe\">\n",
       "  <thead>\n",
       "    <tr style=\"text-align: right;\">\n",
       "      <th></th>\n",
       "      <th>DateCrawled</th>\n",
       "      <th>Price</th>\n",
       "      <th>VehicleType</th>\n",
       "      <th>RegistrationYear</th>\n",
       "      <th>Gearbox</th>\n",
       "      <th>Power</th>\n",
       "      <th>Model</th>\n",
       "      <th>Kilometer</th>\n",
       "      <th>RegistrationMonth</th>\n",
       "      <th>Brand</th>\n",
       "      <th>Repaired</th>\n",
       "      <th>DateCreated</th>\n",
       "      <th>NumberOfPictures</th>\n",
       "      <th>PostalCode</th>\n",
       "      <th>LastSeen</th>\n",
       "    </tr>\n",
       "    <tr>\n",
       "      <th>FuelType</th>\n",
       "      <th></th>\n",
       "      <th></th>\n",
       "      <th></th>\n",
       "      <th></th>\n",
       "      <th></th>\n",
       "      <th></th>\n",
       "      <th></th>\n",
       "      <th></th>\n",
       "      <th></th>\n",
       "      <th></th>\n",
       "      <th></th>\n",
       "      <th></th>\n",
       "      <th></th>\n",
       "      <th></th>\n",
       "      <th></th>\n",
       "    </tr>\n",
       "  </thead>\n",
       "  <tbody>\n",
       "    <tr>\n",
       "      <th>cng</th>\n",
       "      <td>565</td>\n",
       "      <td>565</td>\n",
       "      <td>514</td>\n",
       "      <td>565</td>\n",
       "      <td>551</td>\n",
       "      <td>565</td>\n",
       "      <td>544</td>\n",
       "      <td>565</td>\n",
       "      <td>565</td>\n",
       "      <td>565</td>\n",
       "      <td>509</td>\n",
       "      <td>565</td>\n",
       "      <td>565</td>\n",
       "      <td>565</td>\n",
       "      <td>565</td>\n",
       "    </tr>\n",
       "    <tr>\n",
       "      <th>electric</th>\n",
       "      <td>90</td>\n",
       "      <td>90</td>\n",
       "      <td>87</td>\n",
       "      <td>90</td>\n",
       "      <td>78</td>\n",
       "      <td>90</td>\n",
       "      <td>66</td>\n",
       "      <td>90</td>\n",
       "      <td>90</td>\n",
       "      <td>90</td>\n",
       "      <td>78</td>\n",
       "      <td>90</td>\n",
       "      <td>90</td>\n",
       "      <td>90</td>\n",
       "      <td>90</td>\n",
       "    </tr>\n",
       "    <tr>\n",
       "      <th>gasoline</th>\n",
       "      <td>98720</td>\n",
       "      <td>98720</td>\n",
       "      <td>93744</td>\n",
       "      <td>98720</td>\n",
       "      <td>95126</td>\n",
       "      <td>98720</td>\n",
       "      <td>95857</td>\n",
       "      <td>98720</td>\n",
       "      <td>98720</td>\n",
       "      <td>98720</td>\n",
       "      <td>84043</td>\n",
       "      <td>98720</td>\n",
       "      <td>98720</td>\n",
       "      <td>98720</td>\n",
       "      <td>98720</td>\n",
       "    </tr>\n",
       "    <tr>\n",
       "      <th>hybrid</th>\n",
       "      <td>233</td>\n",
       "      <td>233</td>\n",
       "      <td>218</td>\n",
       "      <td>233</td>\n",
       "      <td>227</td>\n",
       "      <td>233</td>\n",
       "      <td>208</td>\n",
       "      <td>233</td>\n",
       "      <td>233</td>\n",
       "      <td>233</td>\n",
       "      <td>214</td>\n",
       "      <td>233</td>\n",
       "      <td>233</td>\n",
       "      <td>233</td>\n",
       "      <td>233</td>\n",
       "    </tr>\n",
       "    <tr>\n",
       "      <th>lpg</th>\n",
       "      <td>5310</td>\n",
       "      <td>5310</td>\n",
       "      <td>4998</td>\n",
       "      <td>5310</td>\n",
       "      <td>5174</td>\n",
       "      <td>5310</td>\n",
       "      <td>4962</td>\n",
       "      <td>5310</td>\n",
       "      <td>5310</td>\n",
       "      <td>5310</td>\n",
       "      <td>4345</td>\n",
       "      <td>5310</td>\n",
       "      <td>5310</td>\n",
       "      <td>5310</td>\n",
       "      <td>5310</td>\n",
       "    </tr>\n",
       "    <tr>\n",
       "      <th>other</th>\n",
       "      <td>204</td>\n",
       "      <td>204</td>\n",
       "      <td>173</td>\n",
       "      <td>204</td>\n",
       "      <td>150</td>\n",
       "      <td>204</td>\n",
       "      <td>133</td>\n",
       "      <td>204</td>\n",
       "      <td>204</td>\n",
       "      <td>204</td>\n",
       "      <td>113</td>\n",
       "      <td>204</td>\n",
       "      <td>204</td>\n",
       "      <td>204</td>\n",
       "      <td>204</td>\n",
       "    </tr>\n",
       "    <tr>\n",
       "      <th>petrol</th>\n",
       "      <td>216352</td>\n",
       "      <td>216352</td>\n",
       "      <td>201545</td>\n",
       "      <td>216352</td>\n",
       "      <td>209255</td>\n",
       "      <td>216352</td>\n",
       "      <td>207162</td>\n",
       "      <td>216352</td>\n",
       "      <td>216352</td>\n",
       "      <td>216352</td>\n",
       "      <td>177599</td>\n",
       "      <td>216352</td>\n",
       "      <td>216352</td>\n",
       "      <td>216352</td>\n",
       "      <td>216352</td>\n",
       "    </tr>\n",
       "  </tbody>\n",
       "</table>\n",
       "</div>"
      ],
      "text/plain": [
       "          DateCrawled   Price  VehicleType  RegistrationYear  Gearbox   Power  \\\n",
       "FuelType                                                                        \n",
       "cng               565     565          514               565      551     565   \n",
       "electric           90      90           87                90       78      90   \n",
       "gasoline        98720   98720        93744             98720    95126   98720   \n",
       "hybrid            233     233          218               233      227     233   \n",
       "lpg              5310    5310         4998              5310     5174    5310   \n",
       "other             204     204          173               204      150     204   \n",
       "petrol         216352  216352       201545            216352   209255  216352   \n",
       "\n",
       "           Model  Kilometer  RegistrationMonth   Brand  Repaired  DateCreated  \\\n",
       "FuelType                                                                        \n",
       "cng          544        565                565     565       509          565   \n",
       "electric      66         90                 90      90        78           90   \n",
       "gasoline   95857      98720              98720   98720     84043        98720   \n",
       "hybrid       208        233                233     233       214          233   \n",
       "lpg         4962       5310               5310    5310      4345         5310   \n",
       "other        133        204                204     204       113          204   \n",
       "petrol    207162     216352             216352  216352    177599       216352   \n",
       "\n",
       "          NumberOfPictures  PostalCode  LastSeen  \n",
       "FuelType                                          \n",
       "cng                    565         565       565  \n",
       "electric                90          90        90  \n",
       "gasoline             98720       98720     98720  \n",
       "hybrid                 233         233       233  \n",
       "lpg                   5310        5310      5310  \n",
       "other                  204         204       204  \n",
       "petrol              216352      216352    216352  "
      ]
     },
     "execution_count": 19,
     "metadata": {},
     "output_type": "execute_result"
    }
   ],
   "source": [
    "df.groupby(['FuelType']).count()"
   ]
  },
  {
   "cell_type": "code",
   "execution_count": 20,
   "metadata": {},
   "outputs": [
    {
     "data": {
      "text/plain": [
       "array(['golf', nan, 'grand', 'fabia', '3er', '2_reihe', 'other', 'c_max',\n",
       "       '3_reihe', 'passat', 'navara', 'ka', 'polo', 'twingo', 'a_klasse',\n",
       "       'scirocco', '5er', 'meriva', 'arosa', 'c4', 'civic', 'transporter',\n",
       "       'punto', 'e_klasse', 'clio', 'kadett', 'kangoo', 'corsa', 'one',\n",
       "       'fortwo', '1er', 'b_klasse', 'signum', 'astra', 'a8', 'jetta',\n",
       "       'fiesta', 'c_klasse', 'micra', 'vito', 'sprinter', '156', 'escort',\n",
       "       'forester', 'xc_reihe', 'scenic', 'a4', 'a1', 'insignia', 'combo',\n",
       "       'focus', 'tt', 'a6', 'jazz', 'omega', 'slk', '7er', '80', '147',\n",
       "       '100', 'z_reihe', 'sportage', 'sorento', 'v40', 'ibiza', 'mustang',\n",
       "       'eos', 'touran', 'getz', 'a3', 'almera', 'megane', 'lupo', 'r19',\n",
       "       'zafira', 'caddy', 'mondeo', 'cordoba', 'colt', 'impreza',\n",
       "       'vectra', 'berlingo', 'tiguan', 'i_reihe', 'espace', 'sharan',\n",
       "       '6_reihe', 'panda', 'up', 'seicento', 'ceed', '5_reihe', 'yeti',\n",
       "       'octavia', 'mii', 'rx_reihe', '6er', 'modus', 'fox', 'matiz',\n",
       "       'beetle', 'c1', 'rio', 'touareg', 'logan', 'spider', 'cuore',\n",
       "       's_max', 'a2', 'galaxy', 'c3', 'viano', 's_klasse', '1_reihe',\n",
       "       'avensis', 'roomster', 'sl', 'kaefer', 'santa', 'cooper', 'leon',\n",
       "       '4_reihe', 'a5', '500', 'laguna', 'ptcruiser', 'clk', 'primera',\n",
       "       'x_reihe', 'exeo', '159', 'transit', 'juke', 'qashqai', 'carisma',\n",
       "       'accord', 'corolla', 'lanos', 'phaeton', 'verso', 'swift', 'rav',\n",
       "       'picanto', 'boxster', 'kalos', 'superb', 'stilo', 'alhambra',\n",
       "       'mx_reihe', 'roadster', 'ypsilon', 'cayenne', 'galant', 'justy',\n",
       "       '90', 'sirion', 'crossfire', 'agila', 'duster', 'cr_reihe', 'v50',\n",
       "       'c_reihe', 'v_klasse', 'm_klasse', 'yaris', 'c5', 'aygo', 'cc',\n",
       "       'carnival', 'fusion', '911', 'bora', 'forfour', 'm_reihe', 'cl',\n",
       "       'tigra', '300c', 'spark', 'v70', 'kuga', 'x_type', 'ducato',\n",
       "       's_type', 'x_trail', 'toledo', 'altea', 'voyager', 'calibra',\n",
       "       'bravo', 'antara', 'tucson', 'citigo', 'jimny', 'wrangler',\n",
       "       'lybra', 'q7', 'lancer', 'captiva', 'c2', 'discovery',\n",
       "       'freelander', 'sandero', 'note', '900', 'cherokee', 'clubman',\n",
       "       'samara', 'defender', '601', 'cx_reihe', 'legacy', 'pajero',\n",
       "       'auris', 'niva', 's60', 'nubira', 'vivaro', 'g_klasse', 'lodgy',\n",
       "       '850', 'range_rover', 'q3', 'serie_2', 'glk', 'charade', 'croma',\n",
       "       'outlander', 'doblo', 'musa', 'move', '9000', 'v60', '145', 'aveo',\n",
       "       '200', 'b_max', 'range_rover_sport', 'terios', 'rangerover', 'q5',\n",
       "       'range_rover_evoque', 'materia', 'delta', 'gl', 'kalina', 'amarok',\n",
       "       'elefantino', 'i3', 'kappa', 'serie_3', 'serie_1'], dtype=object)"
      ]
     },
     "execution_count": 20,
     "metadata": {},
     "output_type": "execute_result"
    }
   ],
   "source": [
    "df['Model'].unique()"
   ]
  },
  {
   "cell_type": "markdown",
   "metadata": {},
   "source": [
    "**Смотрим уникальные значения категориальных признаков.**\n",
    "\n",
    "**Моделей слишком много, далее они внесут свою лепту после обработки энкодером, линейная регрессия будет выдавать просто адски неверные результаты, потому пришлось удалить такой признак полностью.**"
   ]
  },
  {
   "cell_type": "markdown",
   "metadata": {},
   "source": [
    "### Промежуточный вывод:"
   ]
  },
  {
   "cell_type": "markdown",
   "metadata": {},
   "source": [
    "**Требуется обработка названий столбцов, выбросов, изменение типа данных**"
   ]
  },
  {
   "cell_type": "markdown",
   "metadata": {},
   "source": [
    "## Предобработка данных"
   ]
  },
  {
   "cell_type": "code",
   "execution_count": 21,
   "metadata": {},
   "outputs": [
    {
     "name": "stdout",
     "output_type": "stream",
     "text": [
      "(354369, 16)\n"
     ]
    },
    {
     "data": {
      "text/plain": [
       "(354365, 16)"
      ]
     },
     "execution_count": 21,
     "metadata": {},
     "output_type": "execute_result"
    }
   ],
   "source": [
    "df.duplicated().sum()\n",
    "print(df.shape)\n",
    "df.drop_duplicates(inplace=True)\n",
    "df.shape"
   ]
  },
  {
   "cell_type": "markdown",
   "metadata": {},
   "source": [
    "**Удаляем дубликаты.**"
   ]
  },
  {
   "cell_type": "code",
   "execution_count": 22,
   "metadata": {},
   "outputs": [],
   "source": [
    "useless = ['LastSeen', 'DateCreated', 'DateCrawled', 'RegistrationMonth', \n",
    "           'PostalCode', 'NumberOfPictures']"
   ]
  },
  {
   "cell_type": "markdown",
   "metadata": {},
   "source": [
    "**Признак Kilometer удаляем так-как больше трети данных в нём равны одному значению.**"
   ]
  },
  {
   "cell_type": "code",
   "execution_count": 23,
   "metadata": {},
   "outputs": [
    {
     "data": {
      "text/html": [
       "<div>\n",
       "<style scoped>\n",
       "    .dataframe tbody tr th:only-of-type {\n",
       "        vertical-align: middle;\n",
       "    }\n",
       "\n",
       "    .dataframe tbody tr th {\n",
       "        vertical-align: top;\n",
       "    }\n",
       "\n",
       "    .dataframe thead th {\n",
       "        text-align: right;\n",
       "    }\n",
       "</style>\n",
       "<table border=\"1\" class=\"dataframe\">\n",
       "  <thead>\n",
       "    <tr style=\"text-align: right;\">\n",
       "      <th></th>\n",
       "      <th>Price</th>\n",
       "      <th>VehicleType</th>\n",
       "      <th>RegistrationYear</th>\n",
       "      <th>Gearbox</th>\n",
       "      <th>Power</th>\n",
       "      <th>Model</th>\n",
       "      <th>Kilometer</th>\n",
       "      <th>FuelType</th>\n",
       "      <th>Brand</th>\n",
       "      <th>Repaired</th>\n",
       "    </tr>\n",
       "  </thead>\n",
       "  <tbody>\n",
       "    <tr>\n",
       "      <th>0</th>\n",
       "      <td>480</td>\n",
       "      <td>NaN</td>\n",
       "      <td>1993</td>\n",
       "      <td>manual</td>\n",
       "      <td>0</td>\n",
       "      <td>golf</td>\n",
       "      <td>150000</td>\n",
       "      <td>petrol</td>\n",
       "      <td>volkswagen</td>\n",
       "      <td>NaN</td>\n",
       "    </tr>\n",
       "    <tr>\n",
       "      <th>1</th>\n",
       "      <td>18300</td>\n",
       "      <td>coupe</td>\n",
       "      <td>2011</td>\n",
       "      <td>manual</td>\n",
       "      <td>190</td>\n",
       "      <td>NaN</td>\n",
       "      <td>125000</td>\n",
       "      <td>gasoline</td>\n",
       "      <td>audi</td>\n",
       "      <td>yes</td>\n",
       "    </tr>\n",
       "    <tr>\n",
       "      <th>2</th>\n",
       "      <td>9800</td>\n",
       "      <td>suv</td>\n",
       "      <td>2004</td>\n",
       "      <td>auto</td>\n",
       "      <td>163</td>\n",
       "      <td>grand</td>\n",
       "      <td>125000</td>\n",
       "      <td>gasoline</td>\n",
       "      <td>jeep</td>\n",
       "      <td>NaN</td>\n",
       "    </tr>\n",
       "    <tr>\n",
       "      <th>3</th>\n",
       "      <td>1500</td>\n",
       "      <td>small</td>\n",
       "      <td>2001</td>\n",
       "      <td>manual</td>\n",
       "      <td>75</td>\n",
       "      <td>golf</td>\n",
       "      <td>150000</td>\n",
       "      <td>petrol</td>\n",
       "      <td>volkswagen</td>\n",
       "      <td>no</td>\n",
       "    </tr>\n",
       "    <tr>\n",
       "      <th>4</th>\n",
       "      <td>3600</td>\n",
       "      <td>small</td>\n",
       "      <td>2008</td>\n",
       "      <td>manual</td>\n",
       "      <td>69</td>\n",
       "      <td>fabia</td>\n",
       "      <td>90000</td>\n",
       "      <td>gasoline</td>\n",
       "      <td>skoda</td>\n",
       "      <td>no</td>\n",
       "    </tr>\n",
       "    <tr>\n",
       "      <th>...</th>\n",
       "      <td>...</td>\n",
       "      <td>...</td>\n",
       "      <td>...</td>\n",
       "      <td>...</td>\n",
       "      <td>...</td>\n",
       "      <td>...</td>\n",
       "      <td>...</td>\n",
       "      <td>...</td>\n",
       "      <td>...</td>\n",
       "      <td>...</td>\n",
       "    </tr>\n",
       "    <tr>\n",
       "      <th>354364</th>\n",
       "      <td>0</td>\n",
       "      <td>NaN</td>\n",
       "      <td>2005</td>\n",
       "      <td>manual</td>\n",
       "      <td>0</td>\n",
       "      <td>colt</td>\n",
       "      <td>150000</td>\n",
       "      <td>petrol</td>\n",
       "      <td>mitsubishi</td>\n",
       "      <td>yes</td>\n",
       "    </tr>\n",
       "    <tr>\n",
       "      <th>354365</th>\n",
       "      <td>2200</td>\n",
       "      <td>NaN</td>\n",
       "      <td>2005</td>\n",
       "      <td>NaN</td>\n",
       "      <td>0</td>\n",
       "      <td>NaN</td>\n",
       "      <td>20000</td>\n",
       "      <td>NaN</td>\n",
       "      <td>sonstige_autos</td>\n",
       "      <td>NaN</td>\n",
       "    </tr>\n",
       "    <tr>\n",
       "      <th>354366</th>\n",
       "      <td>1199</td>\n",
       "      <td>convertible</td>\n",
       "      <td>2000</td>\n",
       "      <td>auto</td>\n",
       "      <td>101</td>\n",
       "      <td>fortwo</td>\n",
       "      <td>125000</td>\n",
       "      <td>petrol</td>\n",
       "      <td>smart</td>\n",
       "      <td>no</td>\n",
       "    </tr>\n",
       "    <tr>\n",
       "      <th>354367</th>\n",
       "      <td>9200</td>\n",
       "      <td>bus</td>\n",
       "      <td>1996</td>\n",
       "      <td>manual</td>\n",
       "      <td>102</td>\n",
       "      <td>transporter</td>\n",
       "      <td>150000</td>\n",
       "      <td>gasoline</td>\n",
       "      <td>volkswagen</td>\n",
       "      <td>no</td>\n",
       "    </tr>\n",
       "    <tr>\n",
       "      <th>354368</th>\n",
       "      <td>3400</td>\n",
       "      <td>wagon</td>\n",
       "      <td>2002</td>\n",
       "      <td>manual</td>\n",
       "      <td>100</td>\n",
       "      <td>golf</td>\n",
       "      <td>150000</td>\n",
       "      <td>gasoline</td>\n",
       "      <td>volkswagen</td>\n",
       "      <td>NaN</td>\n",
       "    </tr>\n",
       "  </tbody>\n",
       "</table>\n",
       "<p>354365 rows × 10 columns</p>\n",
       "</div>"
      ],
      "text/plain": [
       "        Price  VehicleType  RegistrationYear Gearbox  Power        Model  \\\n",
       "0         480          NaN              1993  manual      0         golf   \n",
       "1       18300        coupe              2011  manual    190          NaN   \n",
       "2        9800          suv              2004    auto    163        grand   \n",
       "3        1500        small              2001  manual     75         golf   \n",
       "4        3600        small              2008  manual     69        fabia   \n",
       "...       ...          ...               ...     ...    ...          ...   \n",
       "354364      0          NaN              2005  manual      0         colt   \n",
       "354365   2200          NaN              2005     NaN      0          NaN   \n",
       "354366   1199  convertible              2000    auto    101       fortwo   \n",
       "354367   9200          bus              1996  manual    102  transporter   \n",
       "354368   3400        wagon              2002  manual    100         golf   \n",
       "\n",
       "        Kilometer  FuelType           Brand Repaired  \n",
       "0          150000    petrol      volkswagen      NaN  \n",
       "1          125000  gasoline            audi      yes  \n",
       "2          125000  gasoline            jeep      NaN  \n",
       "3          150000    petrol      volkswagen       no  \n",
       "4           90000  gasoline           skoda       no  \n",
       "...           ...       ...             ...      ...  \n",
       "354364     150000    petrol      mitsubishi      yes  \n",
       "354365      20000       NaN  sonstige_autos      NaN  \n",
       "354366     125000    petrol           smart       no  \n",
       "354367     150000  gasoline      volkswagen       no  \n",
       "354368     150000  gasoline      volkswagen      NaN  \n",
       "\n",
       "[354365 rows x 10 columns]"
      ]
     },
     "execution_count": 23,
     "metadata": {},
     "output_type": "execute_result"
    }
   ],
   "source": [
    "df = df.drop(useless, axis=1)\n",
    "df"
   ]
  },
  {
   "cell_type": "code",
   "execution_count": 25,
   "metadata": {},
   "outputs": [
    {
     "data": {
      "text/plain": [
       "Index(['price', 'vehicle_type', 'registration_year', 'gearbox', 'power',\n",
       "       'model', 'kilometer', 'fuel_type', 'brand', 'repaired'],\n",
       "      dtype='object')"
      ]
     },
     "execution_count": 25,
     "metadata": {},
     "output_type": "execute_result"
    }
   ],
   "source": [
    "for ini_str in df.columns:\n",
    "    res_list = []\n",
    "    res_list = re.findall('[A-Z][^A-Z]*', ini_str)\n",
    "    res_list = '_'.join(res_list).lower()\n",
    "    df.rename(columns = {ini_str:res_list}, inplace=True)\n",
    "df.columns"
   ]
  },
  {
   "cell_type": "markdown",
   "metadata": {},
   "source": [
    "**Оставшиеся столбцы приводим в питоний вид.**"
   ]
  },
  {
   "cell_type": "code",
   "execution_count": 26,
   "metadata": {},
   "outputs": [
    {
     "data": {
      "image/png": "[encoded data removed]",
      "text/plain": [
       "<Figure size 1080x360 with 1 Axes>"
      ]
     },
     "metadata": {},
     "output_type": "display_data"
    }
   ],
   "source": [
    "\n",
    "sns.boxplot(df['registration_year']).set_title('Выбросы года регистрации');"
   ]
  },
  {
   "cell_type": "code",
   "execution_count": 27,
   "metadata": {},
   "outputs": [
    {
     "data": {
      "image/png": "[encoded data removed]",
      "text/plain": [
       "<Figure size 1080x360 with 1 Axes>"
      ]
     },
     "metadata": {},
     "output_type": "display_data"
    }
   ],
   "source": [
    "sns.boxplot(df['price']).set_title('Выбросы цены');"
   ]
  },
  {
   "cell_type": "code",
   "execution_count": 28,
   "metadata": {},
   "outputs": [
    {
     "data": {
      "image/png": "[encoded data removed]",
      "text/plain": [
       "<Figure size 1080x360 with 1 Axes>"
      ]
     },
     "metadata": {},
     "output_type": "display_data"
    }
   ],
   "source": [
    "sns.boxplot(df['power']).set_title('Выбросы мощности двигателя');"
   ]
  },
  {
   "cell_type": "markdown",
   "metadata": {},
   "source": [
    "**Смторим выбросы, далее удаляем их.**"
   ]
  },
  {
   "cell_type": "code",
   "execution_count": 29,
   "metadata": {},
   "outputs": [
    {
     "name": "stdout",
     "output_type": "stream",
     "text": [
      "(354365, 10)\n"
     ]
    }
   ],
   "source": [
    "print(df.shape)\n",
    "df = df.loc[(df['price'] > 100) & (df['price'] < 19000)]"
   ]
  },
  {
   "cell_type": "code",
   "execution_count": 30,
   "metadata": {},
   "outputs": [],
   "source": [
    "df = df.loc[(df['power'] > 30) & (df['power'] < 350)]"
   ]
  },
  {
   "cell_type": "code",
   "execution_count": 31,
   "metadata": {},
   "outputs": [
    {
     "name": "stdout",
     "output_type": "stream",
     "text": [
      "(287038, 10)\n"
     ]
    }
   ],
   "source": [
    "df = df.loc[(df['registration_year'] > 1985) & (df['registration_year'] < 2017)]\n",
    "print(df.shape)"
   ]
  },
  {
   "cell_type": "code",
   "execution_count": 32,
   "metadata": {},
   "outputs": [
    {
     "data": {
      "text/html": [
       "<div>\n",
       "<style scoped>\n",
       "    .dataframe tbody tr th:only-of-type {\n",
       "        vertical-align: middle;\n",
       "    }\n",
       "\n",
       "    .dataframe tbody tr th {\n",
       "        vertical-align: top;\n",
       "    }\n",
       "\n",
       "    .dataframe thead th {\n",
       "        text-align: right;\n",
       "    }\n",
       "</style>\n",
       "<table border=\"1\" class=\"dataframe\">\n",
       "  <thead>\n",
       "    <tr style=\"text-align: right;\">\n",
       "      <th></th>\n",
       "      <th>price</th>\n",
       "      <th>registration_year</th>\n",
       "      <th>power</th>\n",
       "      <th>kilometer</th>\n",
       "    </tr>\n",
       "  </thead>\n",
       "  <tbody>\n",
       "    <tr>\n",
       "      <th>count</th>\n",
       "      <td>287038.000000</td>\n",
       "      <td>287038.000000</td>\n",
       "      <td>287038.000000</td>\n",
       "      <td>287038.000000</td>\n",
       "    </tr>\n",
       "    <tr>\n",
       "      <th>mean</th>\n",
       "      <td>4713.831033</td>\n",
       "      <td>2003.162003</td>\n",
       "      <td>119.857768</td>\n",
       "      <td>129090.120472</td>\n",
       "    </tr>\n",
       "    <tr>\n",
       "      <th>std</th>\n",
       "      <td>4392.354805</td>\n",
       "      <td>5.658587</td>\n",
       "      <td>50.897742</td>\n",
       "      <td>35978.149726</td>\n",
       "    </tr>\n",
       "    <tr>\n",
       "      <th>min</th>\n",
       "      <td>101.000000</td>\n",
       "      <td>1986.000000</td>\n",
       "      <td>31.000000</td>\n",
       "      <td>5000.000000</td>\n",
       "    </tr>\n",
       "    <tr>\n",
       "      <th>25%</th>\n",
       "      <td>1350.000000</td>\n",
       "      <td>1999.000000</td>\n",
       "      <td>77.000000</td>\n",
       "      <td>125000.000000</td>\n",
       "    </tr>\n",
       "    <tr>\n",
       "      <th>50%</th>\n",
       "      <td>3100.000000</td>\n",
       "      <td>2003.000000</td>\n",
       "      <td>110.000000</td>\n",
       "      <td>150000.000000</td>\n",
       "    </tr>\n",
       "    <tr>\n",
       "      <th>75%</th>\n",
       "      <td>6900.000000</td>\n",
       "      <td>2007.000000</td>\n",
       "      <td>150.000000</td>\n",
       "      <td>150000.000000</td>\n",
       "    </tr>\n",
       "    <tr>\n",
       "      <th>max</th>\n",
       "      <td>18999.000000</td>\n",
       "      <td>2016.000000</td>\n",
       "      <td>349.000000</td>\n",
       "      <td>150000.000000</td>\n",
       "    </tr>\n",
       "  </tbody>\n",
       "</table>\n",
       "</div>"
      ],
      "text/plain": [
       "               price  registration_year          power      kilometer\n",
       "count  287038.000000      287038.000000  287038.000000  287038.000000\n",
       "mean     4713.831033        2003.162003     119.857768  129090.120472\n",
       "std      4392.354805           5.658587      50.897742   35978.149726\n",
       "min       101.000000        1986.000000      31.000000    5000.000000\n",
       "25%      1350.000000        1999.000000      77.000000  125000.000000\n",
       "50%      3100.000000        2003.000000     110.000000  150000.000000\n",
       "75%      6900.000000        2007.000000     150.000000  150000.000000\n",
       "max     18999.000000        2016.000000     349.000000  150000.000000"
      ]
     },
     "metadata": {},
     "output_type": "display_data"
    },
    {
     "name": "stdout",
     "output_type": "stream",
     "text": [
      "None\n"
     ]
    }
   ],
   "source": [
    "print(display(df.describe()))"
   ]
  },
  {
   "cell_type": "code",
   "execution_count": 33,
   "metadata": {},
   "outputs": [
    {
     "data": {
      "image/png": "[encoded data removed]",
      "text/plain": [
       "<Figure size 1080x360 with 4 Axes>"
      ]
     },
     "metadata": {},
     "output_type": "display_data"
    }
   ],
   "source": [
    "df.hist(figsize=(15, 5));"
   ]
  },
  {
   "cell_type": "markdown",
   "metadata": {},
   "source": [
    "**Более менее порядок.**"
   ]
  },
  {
   "cell_type": "code",
   "execution_count": 34,
   "metadata": {},
   "outputs": [],
   "source": [
    "df['registration_year'] = df['registration_year'].astype(str)"
   ]
  },
  {
   "cell_type": "markdown",
   "metadata": {},
   "source": [
    "**Год регистрации в категориальный признак.**"
   ]
  },
  {
   "cell_type": "code",
   "execution_count": 35,
   "metadata": {},
   "outputs": [
    {
     "name": "stdout",
     "output_type": "stream",
     "text": [
      "<class 'pandas.core.frame.DataFrame'>\n",
      "Int64Index: 287038 entries, 1 to 354368\n",
      "Data columns (total 10 columns):\n",
      " #   Column             Non-Null Count   Dtype \n",
      "---  ------             --------------   ----- \n",
      " 0   price              287038 non-null  int64 \n",
      " 1   vehicle_type       276615 non-null  object\n",
      " 2   registration_year  287038 non-null  object\n",
      " 3   gearbox            282022 non-null  object\n",
      " 4   power              287038 non-null  int64 \n",
      " 5   model              276997 non-null  object\n",
      " 6   kilometer          287038 non-null  int64 \n",
      " 7   fuel_type          272267 non-null  object\n",
      " 8   brand              287038 non-null  object\n",
      " 9   repaired           245915 non-null  object\n",
      "dtypes: int64(3), object(7)\n",
      "memory usage: 24.1+ MB\n"
     ]
    }
   ],
   "source": [
    "df.info()"
   ]
  },
  {
   "cell_type": "markdown",
   "metadata": {},
   "source": [
    "**Далее делим сет на две выборки.**"
   ]
  },
  {
   "cell_type": "code",
   "execution_count": 36,
   "metadata": {},
   "outputs": [],
   "source": [
    "X = df.drop('price', axis=1)\n",
    "y = df['price']          # Разделяем выборки\n",
    "\n",
    "X_train, X_test, y_train, y_test = train_test_split(X, y, test_size=0.33, random_state=42)"
   ]
  },
  {
   "cell_type": "markdown",
   "metadata": {},
   "source": [
    "**Порядок.**"
   ]
  },
  {
   "cell_type": "code",
   "execution_count": 37,
   "metadata": {},
   "outputs": [],
   "source": [
    "num = [x for x in X_train.columns if X_train[x].dtype!='object']\n",
    "cat = [x for x in X_train.columns if X_train[x].dtype=='object'] # Создаём списки категориальных и нумерных колонок."
   ]
  },
  {
   "cell_type": "markdown",
   "metadata": {},
   "source": [
    "**К слову у нас только одна не категориальная колонка.)) это power ))**"
   ]
  },
  {
   "cell_type": "markdown",
   "metadata": {},
   "source": [
    "**Далее был вынужден сделать так - линейную регрессию получилось сделать через пайплайн, это нам показали на вебинаре.**\n",
    "\n",
    "**Но далее пошли сложности, я несколько часов пытался запихать в пайп разные модели, и одновременно с этим ещё и соеденить с gridsearchcv, очень долго натыкался то на одни то на другие ошибки, в конце концов я подумал что хватит, вообще пора уже сдавать проект, в прочем для меня это был очень полезный и увлекательный опыт, к сожалению без видимых результатов.**"
   ]
  },
  {
   "cell_type": "code",
   "execution_count": 40,
   "metadata": {},
   "outputs": [],
   "source": [
    "encoder_ohe = OneHotEncoder(handle_unknown='ignore', drop='first')"
   ]
  },
  {
   "cell_type": "markdown",
   "metadata": {},
   "source": [
    "**Прохожу энкодером по выборкам, я думал что лучше пройтись им до разделения выборок, но почему-то встречаю примеры именно после разделения, решил сделать так-как видел в примерах.**"
   ]
  },
  {
   "cell_type": "markdown",
   "metadata": {},
   "source": [
    "**Настройка пайплайна**"
   ]
  },
  {
   "cell_type": "code",
   "execution_count": 41,
   "metadata": {},
   "outputs": [],
   "source": [
    "# Imputer - способ заполнения пропусков\n",
    "#simple_imputer = SimpleImputer(strategy='median') ('imputer', simple_imputer)\n",
    "#Scaler - способо масштабирования\n",
    "std_scaler = StandardScaler()\n",
    "# Конвеер трансформации числовых столбцов\n",
    "pipe_num = Pipeline([('scaler', std_scaler)])"
   ]
  },
  {
   "cell_type": "code",
   "execution_count": 42,
   "metadata": {},
   "outputs": [],
   "source": [
    "s_imputer = SimpleImputer(strategy='constant', fill_value='unknown')"
   ]
  },
  {
   "cell_type": "code",
   "execution_count": 43,
   "metadata": {},
   "outputs": [],
   "source": [
    "# Конвеер трансформации категориальнов столбцов     \n",
    "pipe_cat = Pipeline([('imputer', s_imputer), ('encoder', encoder_ohe)])\n",
    "\n",
    "# Ветвление трансформеров\n",
    "col_transformer = ColumnTransformer([('num_preproc', pipe_num, num),\n",
    "                                     ('cat_preproc', pipe_cat, cat)])"
   ]
  },
  {
   "cell_type": "markdown",
   "metadata": {},
   "source": [
    "### Промежуточный вывод:"
   ]
  },
  {
   "cell_type": "markdown",
   "metadata": {},
   "source": [
    "**Столбцы мешающие обучению моделей удалены, удален один столбец с категориальными признакми который в дальнейшем оказывал негативное влияние на обучение моделей.**\n",
    "\n",
    "**Названия столбцов приведены в питоний вид, удалены выбросы**\n",
    "\n",
    "**Пропуски оставлены в виде отдельной категории.**\n",
    "\n",
    "**Настроен пайплайн для линейной регрессии**\n",
    "\n",
    "**Отдельно скалированы числовые признаки, а также энкодером прошлись по категориальным признакам.**"
   ]
  },
  {
   "cell_type": "markdown",
   "metadata": {},
   "source": [
    "## Обучение моделей"
   ]
  },
  {
   "cell_type": "markdown",
   "metadata": {},
   "source": [
    "### LinearRegression"
   ]
  },
  {
   "cell_type": "code",
   "execution_count": 44,
   "metadata": {},
   "outputs": [
    {
     "name": "stdout",
     "output_type": "stream",
     "text": [
      "CPU times: user 24.5 s, sys: 29.7 s, total: 54.2 s\n",
      "Wall time: 54.8 s\n"
     ]
    },
    {
     "data": {
      "text/html": [
       "<style>#sk-container-id-1 {color: black;background-color: white;}#sk-container-id-1 pre{padding: 0;}#sk-container-id-1 div.sk-toggleable {background-color: white;}#sk-container-id-1 label.sk-toggleable__label {cursor: pointer;display: block;width: 100%;margin-bottom: 0;padding: 0.3em;box-sizing: border-box;text-align: center;}#sk-container-id-1 label.sk-toggleable__label-arrow:before {content: \"▸\";float: left;margin-right: 0.25em;color: #696969;}#sk-container-id-1 label.sk-toggleable__label-arrow:hover:before {color: black;}#sk-container-id-1 div.sk-estimator:hover label.sk-toggleable__label-arrow:before {color: black;}#sk-container-id-1 div.sk-toggleable__content {max-height: 0;max-width: 0;overflow: hidden;text-align: left;background-color: #f0f8ff;}#sk-container-id-1 div.sk-toggleable__content pre {margin: 0.2em;color: black;border-radius: 0.25em;background-color: #f0f8ff;}#sk-container-id-1 input.sk-toggleable__control:checked~div.sk-toggleable__content {max-height: 200px;max-width: 100%;overflow: auto;}#sk-container-id-1 input.sk-toggleable__control:checked~label.sk-toggleable__label-arrow:before {content: \"▾\";}#sk-container-id-1 div.sk-estimator input.sk-toggleable__control:checked~label.sk-toggleable__label {background-color: #d4ebff;}#sk-container-id-1 div.sk-label input.sk-toggleable__control:checked~label.sk-toggleable__label {background-color: #d4ebff;}#sk-container-id-1 input.sk-hidden--visually {border: 0;clip: rect(1px 1px 1px 1px);clip: rect(1px, 1px, 1px, 1px);height: 1px;margin: -1px;overflow: hidden;padding: 0;position: absolute;width: 1px;}#sk-container-id-1 div.sk-estimator {font-family: monospace;background-color: #f0f8ff;border: 1px dotted black;border-radius: 0.25em;box-sizing: border-box;margin-bottom: 0.5em;}#sk-container-id-1 div.sk-estimator:hover {background-color: #d4ebff;}#sk-container-id-1 div.sk-parallel-item::after {content: \"\";width: 100%;border-bottom: 1px solid gray;flex-grow: 1;}#sk-container-id-1 div.sk-label:hover label.sk-toggleable__label {background-color: #d4ebff;}#sk-container-id-1 div.sk-serial::before {content: \"\";position: absolute;border-left: 1px solid gray;box-sizing: border-box;top: 0;bottom: 0;left: 50%;z-index: 0;}#sk-container-id-1 div.sk-serial {display: flex;flex-direction: column;align-items: center;background-color: white;padding-right: 0.2em;padding-left: 0.2em;position: relative;}#sk-container-id-1 div.sk-item {position: relative;z-index: 1;}#sk-container-id-1 div.sk-parallel {display: flex;align-items: stretch;justify-content: center;background-color: white;position: relative;}#sk-container-id-1 div.sk-item::before, #sk-container-id-1 div.sk-parallel-item::before {content: \"\";position: absolute;border-left: 1px solid gray;box-sizing: border-box;top: 0;bottom: 0;left: 50%;z-index: -1;}#sk-container-id-1 div.sk-parallel-item {display: flex;flex-direction: column;z-index: 1;position: relative;background-color: white;}#sk-container-id-1 div.sk-parallel-item:first-child::after {align-self: flex-end;width: 50%;}#sk-container-id-1 div.sk-parallel-item:last-child::after {align-self: flex-start;width: 50%;}#sk-container-id-1 div.sk-parallel-item:only-child::after {width: 0;}#sk-container-id-1 div.sk-dashed-wrapped {border: 1px dashed gray;margin: 0 0.4em 0.5em 0.4em;box-sizing: border-box;padding-bottom: 0.4em;background-color: white;}#sk-container-id-1 div.sk-label label {font-family: monospace;font-weight: bold;display: inline-block;line-height: 1.2em;}#sk-container-id-1 div.sk-label-container {text-align: center;}#sk-container-id-1 div.sk-container {/* jupyter's `normalize.less` sets `[hidden] { display: none; }` but bootstrap.min.css set `[hidden] { display: none !important; }` so we also need the `!important` here to be able to override the default hidden behavior on the sphinx rendered scikit-learn.org. See: https://github.com/scikit-learn/scikit-learn/issues/21755 */display: inline-block !important;position: relative;}#sk-container-id-1 div.sk-text-repr-fallback {display: none;}</style><div id=\"sk-container-id-1\" class=\"sk-top-container\"><div class=\"sk-text-repr-fallback\"><pre>Pipeline(steps=[(&#x27;preproc&#x27;,\n",
       "                 ColumnTransformer(transformers=[(&#x27;num_preproc&#x27;,\n",
       "                                                  Pipeline(steps=[(&#x27;scaler&#x27;,\n",
       "                                                                   StandardScaler())]),\n",
       "                                                  [&#x27;power&#x27;, &#x27;kilometer&#x27;]),\n",
       "                                                 (&#x27;cat_preproc&#x27;,\n",
       "                                                  Pipeline(steps=[(&#x27;imputer&#x27;,\n",
       "                                                                   SimpleImputer(fill_value=&#x27;unknown&#x27;,\n",
       "                                                                                 strategy=&#x27;constant&#x27;)),\n",
       "                                                                  (&#x27;encoder&#x27;,\n",
       "                                                                   OneHotEncoder(drop=&#x27;first&#x27;,\n",
       "                                                                                 handle_unknown=&#x27;ignore&#x27;))]),\n",
       "                                                  [&#x27;vehicle_type&#x27;,\n",
       "                                                   &#x27;registration_year&#x27;,\n",
       "                                                   &#x27;gearbox&#x27;, &#x27;model&#x27;,\n",
       "                                                   &#x27;fuel_type&#x27;, &#x27;brand&#x27;,\n",
       "                                                   &#x27;repaired&#x27;])])),\n",
       "                (&#x27;model&#x27;, LinearRegression())])</pre><b>In a Jupyter environment, please rerun this cell to show the HTML representation or trust the notebook. <br />On GitHub, the HTML representation is unable to render, please try loading this page with nbviewer.org.</b></div><div class=\"sk-container\" hidden><div class=\"sk-item sk-dashed-wrapped\"><div class=\"sk-label-container\"><div class=\"sk-label sk-toggleable\"><input class=\"sk-toggleable__control sk-hidden--visually\" id=\"sk-estimator-id-1\" type=\"checkbox\" ><label for=\"sk-estimator-id-1\" class=\"sk-toggleable__label sk-toggleable__label-arrow\">Pipeline</label><div class=\"sk-toggleable__content\"><pre>Pipeline(steps=[(&#x27;preproc&#x27;,\n",
       "                 ColumnTransformer(transformers=[(&#x27;num_preproc&#x27;,\n",
       "                                                  Pipeline(steps=[(&#x27;scaler&#x27;,\n",
       "                                                                   StandardScaler())]),\n",
       "                                                  [&#x27;power&#x27;, &#x27;kilometer&#x27;]),\n",
       "                                                 (&#x27;cat_preproc&#x27;,\n",
       "                                                  Pipeline(steps=[(&#x27;imputer&#x27;,\n",
       "                                                                   SimpleImputer(fill_value=&#x27;unknown&#x27;,\n",
       "                                                                                 strategy=&#x27;constant&#x27;)),\n",
       "                                                                  (&#x27;encoder&#x27;,\n",
       "                                                                   OneHotEncoder(drop=&#x27;first&#x27;,\n",
       "                                                                                 handle_unknown=&#x27;ignore&#x27;))]),\n",
       "                                                  [&#x27;vehicle_type&#x27;,\n",
       "                                                   &#x27;registration_year&#x27;,\n",
       "                                                   &#x27;gearbox&#x27;, &#x27;model&#x27;,\n",
       "                                                   &#x27;fuel_type&#x27;, &#x27;brand&#x27;,\n",
       "                                                   &#x27;repaired&#x27;])])),\n",
       "                (&#x27;model&#x27;, LinearRegression())])</pre></div></div></div><div class=\"sk-serial\"><div class=\"sk-item sk-dashed-wrapped\"><div class=\"sk-label-container\"><div class=\"sk-label sk-toggleable\"><input class=\"sk-toggleable__control sk-hidden--visually\" id=\"sk-estimator-id-2\" type=\"checkbox\" ><label for=\"sk-estimator-id-2\" class=\"sk-toggleable__label sk-toggleable__label-arrow\">preproc: ColumnTransformer</label><div class=\"sk-toggleable__content\"><pre>ColumnTransformer(transformers=[(&#x27;num_preproc&#x27;,\n",
       "                                 Pipeline(steps=[(&#x27;scaler&#x27;, StandardScaler())]),\n",
       "                                 [&#x27;power&#x27;, &#x27;kilometer&#x27;]),\n",
       "                                (&#x27;cat_preproc&#x27;,\n",
       "                                 Pipeline(steps=[(&#x27;imputer&#x27;,\n",
       "                                                  SimpleImputer(fill_value=&#x27;unknown&#x27;,\n",
       "                                                                strategy=&#x27;constant&#x27;)),\n",
       "                                                 (&#x27;encoder&#x27;,\n",
       "                                                  OneHotEncoder(drop=&#x27;first&#x27;,\n",
       "                                                                handle_unknown=&#x27;ignore&#x27;))]),\n",
       "                                 [&#x27;vehicle_type&#x27;, &#x27;registration_year&#x27;,\n",
       "                                  &#x27;gearbox&#x27;, &#x27;model&#x27;, &#x27;fuel_type&#x27;, &#x27;brand&#x27;,\n",
       "                                  &#x27;repaired&#x27;])])</pre></div></div></div><div class=\"sk-parallel\"><div class=\"sk-parallel-item\"><div class=\"sk-item\"><div class=\"sk-label-container\"><div class=\"sk-label sk-toggleable\"><input class=\"sk-toggleable__control sk-hidden--visually\" id=\"sk-estimator-id-3\" type=\"checkbox\" ><label for=\"sk-estimator-id-3\" class=\"sk-toggleable__label sk-toggleable__label-arrow\">num_preproc</label><div class=\"sk-toggleable__content\"><pre>[&#x27;power&#x27;, &#x27;kilometer&#x27;]</pre></div></div></div><div class=\"sk-serial\"><div class=\"sk-item\"><div class=\"sk-serial\"><div class=\"sk-item\"><div class=\"sk-estimator sk-toggleable\"><input class=\"sk-toggleable__control sk-hidden--visually\" id=\"sk-estimator-id-4\" type=\"checkbox\" ><label for=\"sk-estimator-id-4\" class=\"sk-toggleable__label sk-toggleable__label-arrow\">StandardScaler</label><div class=\"sk-toggleable__content\"><pre>StandardScaler()</pre></div></div></div></div></div></div></div></div><div class=\"sk-parallel-item\"><div class=\"sk-item\"><div class=\"sk-label-container\"><div class=\"sk-label sk-toggleable\"><input class=\"sk-toggleable__control sk-hidden--visually\" id=\"sk-estimator-id-5\" type=\"checkbox\" ><label for=\"sk-estimator-id-5\" class=\"sk-toggleable__label sk-toggleable__label-arrow\">cat_preproc</label><div class=\"sk-toggleable__content\"><pre>[&#x27;vehicle_type&#x27;, &#x27;registration_year&#x27;, &#x27;gearbox&#x27;, &#x27;model&#x27;, &#x27;fuel_type&#x27;, &#x27;brand&#x27;, &#x27;repaired&#x27;]</pre></div></div></div><div class=\"sk-serial\"><div class=\"sk-item\"><div class=\"sk-serial\"><div class=\"sk-item\"><div class=\"sk-estimator sk-toggleable\"><input class=\"sk-toggleable__control sk-hidden--visually\" id=\"sk-estimator-id-6\" type=\"checkbox\" ><label for=\"sk-estimator-id-6\" class=\"sk-toggleable__label sk-toggleable__label-arrow\">SimpleImputer</label><div class=\"sk-toggleable__content\"><pre>SimpleImputer(fill_value=&#x27;unknown&#x27;, strategy=&#x27;constant&#x27;)</pre></div></div></div><div class=\"sk-item\"><div class=\"sk-estimator sk-toggleable\"><input class=\"sk-toggleable__control sk-hidden--visually\" id=\"sk-estimator-id-7\" type=\"checkbox\" ><label for=\"sk-estimator-id-7\" class=\"sk-toggleable__label sk-toggleable__label-arrow\">OneHotEncoder</label><div class=\"sk-toggleable__content\"><pre>OneHotEncoder(drop=&#x27;first&#x27;, handle_unknown=&#x27;ignore&#x27;)</pre></div></div></div></div></div></div></div></div></div></div><div class=\"sk-item\"><div class=\"sk-estimator sk-toggleable\"><input class=\"sk-toggleable__control sk-hidden--visually\" id=\"sk-estimator-id-8\" type=\"checkbox\" ><label for=\"sk-estimator-id-8\" class=\"sk-toggleable__label sk-toggleable__label-arrow\">LinearRegression</label><div class=\"sk-toggleable__content\"><pre>LinearRegression()</pre></div></div></div></div></div></div></div>"
      ],
      "text/plain": [
       "Pipeline(steps=[('preproc',\n",
       "                 ColumnTransformer(transformers=[('num_preproc',\n",
       "                                                  Pipeline(steps=[('scaler',\n",
       "                                                                   StandardScaler())]),\n",
       "                                                  ['power', 'kilometer']),\n",
       "                                                 ('cat_preproc',\n",
       "                                                  Pipeline(steps=[('imputer',\n",
       "                                                                   SimpleImputer(fill_value='unknown',\n",
       "                                                                                 strategy='constant')),\n",
       "                                                                  ('encoder',\n",
       "                                                                   OneHotEncoder(drop='first',\n",
       "                                                                                 handle_unknown='ignore'))]),\n",
       "                                                  ['vehicle_type',\n",
       "                                                   'registration_year',\n",
       "                                                   'gearbox', 'model',\n",
       "                                                   'fuel_type', 'brand',\n",
       "                                                   'repaired'])])),\n",
       "                ('model', LinearRegression())])"
      ]
     },
     "execution_count": 44,
     "metadata": {},
     "output_type": "execute_result"
    }
   ],
   "source": [
    "%%time\n",
    "model=LinearRegression()\n",
    "final_pipe = Pipeline([('preproc', col_transformer),\n",
    "                       ('model', model)])\n",
    "\n",
    "final_pipe.fit(X_train, y_train)"
   ]
  },
  {
   "cell_type": "code",
   "execution_count": 45,
   "metadata": {},
   "outputs": [
    {
     "name": "stdout",
     "output_type": "stream",
     "text": [
      "CPU times: user 58.7 s, sys: 1min 11s, total: 2min 10s\n",
      "Wall time: 2min 11s\n"
     ]
    }
   ],
   "source": [
    "%%time\n",
    "scores = cross_val_score(final_pipe, X_train, y_train, cv=3, scoring = 'neg_root_mean_squared_error')"
   ]
  },
  {
   "cell_type": "code",
   "execution_count": 46,
   "metadata": {},
   "outputs": [
    {
     "name": "stdout",
     "output_type": "stream",
     "text": [
      "RMSE модели на кроссвалидационной выборке: 1928.2275892886676\n"
     ]
    }
   ],
   "source": [
    "print('RMSE модели на кроссвалидационной выборке:', (scores*-1).sum()/3)"
   ]
  },
  {
   "cell_type": "code",
   "execution_count": 47,
   "metadata": {},
   "outputs": [
    {
     "name": "stdout",
     "output_type": "stream",
     "text": [
      "CPU times: user 592 ms, sys: 13.5 ms, total: 605 ms\n",
      "Wall time: 604 ms\n"
     ]
    }
   ],
   "source": [
    "%%time\n",
    "predictions = final_pipe.predict(X_train)"
   ]
  },
  {
   "cell_type": "markdown",
   "metadata": {},
   "source": [
    "**Пока возился со всеми этими признаками, обратил внимание на то что выпадают отрицательные предсказания! Далее решил проверять их везде что в конечном итоге изменило выбор лучшей модели.**"
   ]
  },
  {
   "cell_type": "markdown",
   "metadata": {},
   "source": [
    "### LightGBM"
   ]
  },
  {
   "cell_type": "code",
   "execution_count": 84,
   "metadata": {},
   "outputs": [],
   "source": [
    "model_lg = LGBMRegressor()\n",
    "\n",
    "params = {\n",
    "    'model__num_leaves': [7, 15],\n",
    "    'model__learning_rate': [0.9],\n",
    "    'model__max_depth': [None],\n",
    "    'model__n_estimators': [3, 7, 15],\n",
    "    'model__random_state': [42],\n",
    "    'model__num_iterations': [15],\n",
    "}\n",
    "\n",
    "final_pipe = Pipeline([('preproc', col_transformer),\n",
    "                       ('model', model_lg)])\n",
    "\n",
    "grid = GridSearchCV(final_pipe, param_grid = params, cv=3, scoring='neg_root_mean_squared_error')"
   ]
  },
  {
   "cell_type": "code",
   "execution_count": 85,
   "metadata": {},
   "outputs": [
    {
     "name": "stdout",
     "output_type": "stream",
     "text": [
      "CPU times: user 57.5 s, sys: 361 ms, total: 57.9 s\n",
      "Wall time: 58.1 s\n"
     ]
    },
    {
     "data": {
      "text/html": [
       "<style>#sk-container-id-14 {color: black;background-color: white;}#sk-container-id-14 pre{padding: 0;}#sk-container-id-14 div.sk-toggleable {background-color: white;}#sk-container-id-14 label.sk-toggleable__label {cursor: pointer;display: block;width: 100%;margin-bottom: 0;padding: 0.3em;box-sizing: border-box;text-align: center;}#sk-container-id-14 label.sk-toggleable__label-arrow:before {content: \"▸\";float: left;margin-right: 0.25em;color: #696969;}#sk-container-id-14 label.sk-toggleable__label-arrow:hover:before {color: black;}#sk-container-id-14 div.sk-estimator:hover label.sk-toggleable__label-arrow:before {color: black;}#sk-container-id-14 div.sk-toggleable__content {max-height: 0;max-width: 0;overflow: hidden;text-align: left;background-color: #f0f8ff;}#sk-container-id-14 div.sk-toggleable__content pre {margin: 0.2em;color: black;border-radius: 0.25em;background-color: #f0f8ff;}#sk-container-id-14 input.sk-toggleable__control:checked~div.sk-toggleable__content {max-height: 200px;max-width: 100%;overflow: auto;}#sk-container-id-14 input.sk-toggleable__control:checked~label.sk-toggleable__label-arrow:before {content: \"▾\";}#sk-container-id-14 div.sk-estimator input.sk-toggleable__control:checked~label.sk-toggleable__label {background-color: #d4ebff;}#sk-container-id-14 div.sk-label input.sk-toggleable__control:checked~label.sk-toggleable__label {background-color: #d4ebff;}#sk-container-id-14 input.sk-hidden--visually {border: 0;clip: rect(1px 1px 1px 1px);clip: rect(1px, 1px, 1px, 1px);height: 1px;margin: -1px;overflow: hidden;padding: 0;position: absolute;width: 1px;}#sk-container-id-14 div.sk-estimator {font-family: monospace;background-color: #f0f8ff;border: 1px dotted black;border-radius: 0.25em;box-sizing: border-box;margin-bottom: 0.5em;}#sk-container-id-14 div.sk-estimator:hover {background-color: #d4ebff;}#sk-container-id-14 div.sk-parallel-item::after {content: \"\";width: 100%;border-bottom: 1px solid gray;flex-grow: 1;}#sk-container-id-14 div.sk-label:hover label.sk-toggleable__label {background-color: #d4ebff;}#sk-container-id-14 div.sk-serial::before {content: \"\";position: absolute;border-left: 1px solid gray;box-sizing: border-box;top: 0;bottom: 0;left: 50%;z-index: 0;}#sk-container-id-14 div.sk-serial {display: flex;flex-direction: column;align-items: center;background-color: white;padding-right: 0.2em;padding-left: 0.2em;position: relative;}#sk-container-id-14 div.sk-item {position: relative;z-index: 1;}#sk-container-id-14 div.sk-parallel {display: flex;align-items: stretch;justify-content: center;background-color: white;position: relative;}#sk-container-id-14 div.sk-item::before, #sk-container-id-14 div.sk-parallel-item::before {content: \"\";position: absolute;border-left: 1px solid gray;box-sizing: border-box;top: 0;bottom: 0;left: 50%;z-index: -1;}#sk-container-id-14 div.sk-parallel-item {display: flex;flex-direction: column;z-index: 1;position: relative;background-color: white;}#sk-container-id-14 div.sk-parallel-item:first-child::after {align-self: flex-end;width: 50%;}#sk-container-id-14 div.sk-parallel-item:last-child::after {align-self: flex-start;width: 50%;}#sk-container-id-14 div.sk-parallel-item:only-child::after {width: 0;}#sk-container-id-14 div.sk-dashed-wrapped {border: 1px dashed gray;margin: 0 0.4em 0.5em 0.4em;box-sizing: border-box;padding-bottom: 0.4em;background-color: white;}#sk-container-id-14 div.sk-label label {font-family: monospace;font-weight: bold;display: inline-block;line-height: 1.2em;}#sk-container-id-14 div.sk-label-container {text-align: center;}#sk-container-id-14 div.sk-container {/* jupyter's `normalize.less` sets `[hidden] { display: none; }` but bootstrap.min.css set `[hidden] { display: none !important; }` so we also need the `!important` here to be able to override the default hidden behavior on the sphinx rendered scikit-learn.org. See: https://github.com/scikit-learn/scikit-learn/issues/21755 */display: inline-block !important;position: relative;}#sk-container-id-14 div.sk-text-repr-fallback {display: none;}</style><div id=\"sk-container-id-14\" class=\"sk-top-container\"><div class=\"sk-text-repr-fallback\"><pre>GridSearchCV(cv=3,\n",
       "             estimator=Pipeline(steps=[(&#x27;preproc&#x27;,\n",
       "                                        ColumnTransformer(transformers=[(&#x27;num_preproc&#x27;,\n",
       "                                                                         Pipeline(steps=[(&#x27;scaler&#x27;,\n",
       "                                                                                          StandardScaler())]),\n",
       "                                                                         [&#x27;power&#x27;,\n",
       "                                                                          &#x27;kilometer&#x27;]),\n",
       "                                                                        (&#x27;cat_preproc&#x27;,\n",
       "                                                                         Pipeline(steps=[(&#x27;imputer&#x27;,\n",
       "                                                                                          SimpleImputer(fill_value=&#x27;unknown&#x27;,\n",
       "                                                                                                        strategy=&#x27;constant&#x27;)),\n",
       "                                                                                         (&#x27;encoder&#x27;,\n",
       "                                                                                          OneHotEncoder(drop=&#x27;first&#x27;,\n",
       "                                                                                                        handle_unknown=&#x27;ignore&#x27;))]),\n",
       "                                                                         [&#x27;vehicle_type&#x27;,\n",
       "                                                                          &#x27;registration_year&#x27;,\n",
       "                                                                          &#x27;gearbox&#x27;,\n",
       "                                                                          &#x27;model&#x27;,\n",
       "                                                                          &#x27;fuel_type&#x27;,\n",
       "                                                                          &#x27;brand&#x27;,\n",
       "                                                                          &#x27;repaired&#x27;])])),\n",
       "                                       (&#x27;model&#x27;, LGBMRegressor())]),\n",
       "             param_grid={&#x27;model__learning_rate&#x27;: [0.9],\n",
       "                         &#x27;model__max_depth&#x27;: [None],\n",
       "                         &#x27;model__n_estimators&#x27;: [3, 7, 15],\n",
       "                         &#x27;model__num_iterations&#x27;: [15],\n",
       "                         &#x27;model__num_leaves&#x27;: [7, 15],\n",
       "                         &#x27;model__random_state&#x27;: [42]},\n",
       "             scoring=&#x27;neg_root_mean_squared_error&#x27;)</pre><b>In a Jupyter environment, please rerun this cell to show the HTML representation or trust the notebook. <br />On GitHub, the HTML representation is unable to render, please try loading this page with nbviewer.org.</b></div><div class=\"sk-container\" hidden><div class=\"sk-item sk-dashed-wrapped\"><div class=\"sk-label-container\"><div class=\"sk-label sk-toggleable\"><input class=\"sk-toggleable__control sk-hidden--visually\" id=\"sk-estimator-id-111\" type=\"checkbox\" ><label for=\"sk-estimator-id-111\" class=\"sk-toggleable__label sk-toggleable__label-arrow\">GridSearchCV</label><div class=\"sk-toggleable__content\"><pre>GridSearchCV(cv=3,\n",
       "             estimator=Pipeline(steps=[(&#x27;preproc&#x27;,\n",
       "                                        ColumnTransformer(transformers=[(&#x27;num_preproc&#x27;,\n",
       "                                                                         Pipeline(steps=[(&#x27;scaler&#x27;,\n",
       "                                                                                          StandardScaler())]),\n",
       "                                                                         [&#x27;power&#x27;,\n",
       "                                                                          &#x27;kilometer&#x27;]),\n",
       "                                                                        (&#x27;cat_preproc&#x27;,\n",
       "                                                                         Pipeline(steps=[(&#x27;imputer&#x27;,\n",
       "                                                                                          SimpleImputer(fill_value=&#x27;unknown&#x27;,\n",
       "                                                                                                        strategy=&#x27;constant&#x27;)),\n",
       "                                                                                         (&#x27;encoder&#x27;,\n",
       "                                                                                          OneHotEncoder(drop=&#x27;first&#x27;,\n",
       "                                                                                                        handle_unknown=&#x27;ignore&#x27;))]),\n",
       "                                                                         [&#x27;vehicle_type&#x27;,\n",
       "                                                                          &#x27;registration_year&#x27;,\n",
       "                                                                          &#x27;gearbox&#x27;,\n",
       "                                                                          &#x27;model&#x27;,\n",
       "                                                                          &#x27;fuel_type&#x27;,\n",
       "                                                                          &#x27;brand&#x27;,\n",
       "                                                                          &#x27;repaired&#x27;])])),\n",
       "                                       (&#x27;model&#x27;, LGBMRegressor())]),\n",
       "             param_grid={&#x27;model__learning_rate&#x27;: [0.9],\n",
       "                         &#x27;model__max_depth&#x27;: [None],\n",
       "                         &#x27;model__n_estimators&#x27;: [3, 7, 15],\n",
       "                         &#x27;model__num_iterations&#x27;: [15],\n",
       "                         &#x27;model__num_leaves&#x27;: [7, 15],\n",
       "                         &#x27;model__random_state&#x27;: [42]},\n",
       "             scoring=&#x27;neg_root_mean_squared_error&#x27;)</pre></div></div></div><div class=\"sk-parallel\"><div class=\"sk-parallel-item\"><div class=\"sk-item\"><div class=\"sk-label-container\"><div class=\"sk-label sk-toggleable\"><input class=\"sk-toggleable__control sk-hidden--visually\" id=\"sk-estimator-id-112\" type=\"checkbox\" ><label for=\"sk-estimator-id-112\" class=\"sk-toggleable__label sk-toggleable__label-arrow\">estimator: Pipeline</label><div class=\"sk-toggleable__content\"><pre>Pipeline(steps=[(&#x27;preproc&#x27;,\n",
       "                 ColumnTransformer(transformers=[(&#x27;num_preproc&#x27;,\n",
       "                                                  Pipeline(steps=[(&#x27;scaler&#x27;,\n",
       "                                                                   StandardScaler())]),\n",
       "                                                  [&#x27;power&#x27;, &#x27;kilometer&#x27;]),\n",
       "                                                 (&#x27;cat_preproc&#x27;,\n",
       "                                                  Pipeline(steps=[(&#x27;imputer&#x27;,\n",
       "                                                                   SimpleImputer(fill_value=&#x27;unknown&#x27;,\n",
       "                                                                                 strategy=&#x27;constant&#x27;)),\n",
       "                                                                  (&#x27;encoder&#x27;,\n",
       "                                                                   OneHotEncoder(drop=&#x27;first&#x27;,\n",
       "                                                                                 handle_unknown=&#x27;ignore&#x27;))]),\n",
       "                                                  [&#x27;vehicle_type&#x27;,\n",
       "                                                   &#x27;registration_year&#x27;,\n",
       "                                                   &#x27;gearbox&#x27;, &#x27;model&#x27;,\n",
       "                                                   &#x27;fuel_type&#x27;, &#x27;brand&#x27;,\n",
       "                                                   &#x27;repaired&#x27;])])),\n",
       "                (&#x27;model&#x27;, LGBMRegressor())])</pre></div></div></div><div class=\"sk-serial\"><div class=\"sk-item\"><div class=\"sk-serial\"><div class=\"sk-item sk-dashed-wrapped\"><div class=\"sk-label-container\"><div class=\"sk-label sk-toggleable\"><input class=\"sk-toggleable__control sk-hidden--visually\" id=\"sk-estimator-id-113\" type=\"checkbox\" ><label for=\"sk-estimator-id-113\" class=\"sk-toggleable__label sk-toggleable__label-arrow\">preproc: ColumnTransformer</label><div class=\"sk-toggleable__content\"><pre>ColumnTransformer(transformers=[(&#x27;num_preproc&#x27;,\n",
       "                                 Pipeline(steps=[(&#x27;scaler&#x27;, StandardScaler())]),\n",
       "                                 [&#x27;power&#x27;, &#x27;kilometer&#x27;]),\n",
       "                                (&#x27;cat_preproc&#x27;,\n",
       "                                 Pipeline(steps=[(&#x27;imputer&#x27;,\n",
       "                                                  SimpleImputer(fill_value=&#x27;unknown&#x27;,\n",
       "                                                                strategy=&#x27;constant&#x27;)),\n",
       "                                                 (&#x27;encoder&#x27;,\n",
       "                                                  OneHotEncoder(drop=&#x27;first&#x27;,\n",
       "                                                                handle_unknown=&#x27;ignore&#x27;))]),\n",
       "                                 [&#x27;vehicle_type&#x27;, &#x27;registration_year&#x27;,\n",
       "                                  &#x27;gearbox&#x27;, &#x27;model&#x27;, &#x27;fuel_type&#x27;, &#x27;brand&#x27;,\n",
       "                                  &#x27;repaired&#x27;])])</pre></div></div></div><div class=\"sk-parallel\"><div class=\"sk-parallel-item\"><div class=\"sk-item\"><div class=\"sk-label-container\"><div class=\"sk-label sk-toggleable\"><input class=\"sk-toggleable__control sk-hidden--visually\" id=\"sk-estimator-id-114\" type=\"checkbox\" ><label for=\"sk-estimator-id-114\" class=\"sk-toggleable__label sk-toggleable__label-arrow\">num_preproc</label><div class=\"sk-toggleable__content\"><pre>[&#x27;power&#x27;, &#x27;kilometer&#x27;]</pre></div></div></div><div class=\"sk-serial\"><div class=\"sk-item\"><div class=\"sk-serial\"><div class=\"sk-item\"><div class=\"sk-estimator sk-toggleable\"><input class=\"sk-toggleable__control sk-hidden--visually\" id=\"sk-estimator-id-115\" type=\"checkbox\" ><label for=\"sk-estimator-id-115\" class=\"sk-toggleable__label sk-toggleable__label-arrow\">StandardScaler</label><div class=\"sk-toggleable__content\"><pre>StandardScaler()</pre></div></div></div></div></div></div></div></div><div class=\"sk-parallel-item\"><div class=\"sk-item\"><div class=\"sk-label-container\"><div class=\"sk-label sk-toggleable\"><input class=\"sk-toggleable__control sk-hidden--visually\" id=\"sk-estimator-id-116\" type=\"checkbox\" ><label for=\"sk-estimator-id-116\" class=\"sk-toggleable__label sk-toggleable__label-arrow\">cat_preproc</label><div class=\"sk-toggleable__content\"><pre>[&#x27;vehicle_type&#x27;, &#x27;registration_year&#x27;, &#x27;gearbox&#x27;, &#x27;model&#x27;, &#x27;fuel_type&#x27;, &#x27;brand&#x27;, &#x27;repaired&#x27;]</pre></div></div></div><div class=\"sk-serial\"><div class=\"sk-item\"><div class=\"sk-serial\"><div class=\"sk-item\"><div class=\"sk-estimator sk-toggleable\"><input class=\"sk-toggleable__control sk-hidden--visually\" id=\"sk-estimator-id-117\" type=\"checkbox\" ><label for=\"sk-estimator-id-117\" class=\"sk-toggleable__label sk-toggleable__label-arrow\">SimpleImputer</label><div class=\"sk-toggleable__content\"><pre>SimpleImputer(fill_value=&#x27;unknown&#x27;, strategy=&#x27;constant&#x27;)</pre></div></div></div><div class=\"sk-item\"><div class=\"sk-estimator sk-toggleable\"><input class=\"sk-toggleable__control sk-hidden--visually\" id=\"sk-estimator-id-118\" type=\"checkbox\" ><label for=\"sk-estimator-id-118\" class=\"sk-toggleable__label sk-toggleable__label-arrow\">OneHotEncoder</label><div class=\"sk-toggleable__content\"><pre>OneHotEncoder(drop=&#x27;first&#x27;, handle_unknown=&#x27;ignore&#x27;)</pre></div></div></div></div></div></div></div></div></div></div><div class=\"sk-item\"><div class=\"sk-estimator sk-toggleable\"><input class=\"sk-toggleable__control sk-hidden--visually\" id=\"sk-estimator-id-119\" type=\"checkbox\" ><label for=\"sk-estimator-id-119\" class=\"sk-toggleable__label sk-toggleable__label-arrow\">LGBMRegressor</label><div class=\"sk-toggleable__content\"><pre>LGBMRegressor()</pre></div></div></div></div></div></div></div></div></div></div></div></div>"
      ],
      "text/plain": [
       "GridSearchCV(cv=3,\n",
       "             estimator=Pipeline(steps=[('preproc',\n",
       "                                        ColumnTransformer(transformers=[('num_preproc',\n",
       "                                                                         Pipeline(steps=[('scaler',\n",
       "                                                                                          StandardScaler())]),\n",
       "                                                                         ['power',\n",
       "                                                                          'kilometer']),\n",
       "                                                                        ('cat_preproc',\n",
       "                                                                         Pipeline(steps=[('imputer',\n",
       "                                                                                          SimpleImputer(fill_value='unknown',\n",
       "                                                                                                        strategy='constant')),\n",
       "                                                                                         ('encoder',\n",
       "                                                                                          OneHotEncoder(drop='first',\n",
       "                                                                                                        handle_unknown='ignore'))]),\n",
       "                                                                         ['vehicle_type',\n",
       "                                                                          'registration_year',\n",
       "                                                                          'gearbox',\n",
       "                                                                          'model',\n",
       "                                                                          'fuel_type',\n",
       "                                                                          'brand',\n",
       "                                                                          'repaired'])])),\n",
       "                                       ('model', LGBMRegressor())]),\n",
       "             param_grid={'model__learning_rate': [0.9],\n",
       "                         'model__max_depth': [None],\n",
       "                         'model__n_estimators': [3, 7, 15],\n",
       "                         'model__num_iterations': [15],\n",
       "                         'model__num_leaves': [7, 15],\n",
       "                         'model__random_state': [42]},\n",
       "             scoring='neg_root_mean_squared_error')"
      ]
     },
     "execution_count": 85,
     "metadata": {},
     "output_type": "execute_result"
    }
   ],
   "source": [
    "%%time\n",
    "grid.fit(X_train, y_train)"
   ]
  },
  {
   "cell_type": "code",
   "execution_count": 86,
   "metadata": {},
   "outputs": [
    {
     "name": "stdout",
     "output_type": "stream",
     "text": [
      "Лучшие гиперпараметры модели\n",
      "{'model__learning_rate': 0.9, 'model__max_depth': None, 'model__n_estimators': 3, 'model__num_iterations': 15, 'model__num_leaves': 15, 'model__random_state': 42}\n",
      "score:\n",
      "LGBMRegressor RMSE: 1805.341922392401\n"
     ]
    }
   ],
   "source": [
    "lg_param = grid.best_params_\n",
    "lg_score = grid.best_score_\n",
    "\n",
    "print('Лучшие гиперпараметры модели')\n",
    "print(lg_param)\n",
    "\n",
    "print('score:')\n",
    "print('LGBMRegressor RMSE:', lg_score*-1)"
   ]
  },
  {
   "cell_type": "code",
   "execution_count": 97,
   "metadata": {},
   "outputs": [
    {
     "name": "stdout",
     "output_type": "stream",
     "text": [
      "CPU times: user 1.62 s, sys: 0 ns, total: 1.62 s\n",
      "Wall time: 1.57 s\n"
     ]
    }
   ],
   "source": [
    "%%time\n",
    "model_lg = LGBMRegressor(learning_rate = 0.9, \n",
    "                         max_depth = None, \n",
    "                         n_estimators = 3, \n",
    "                         num_iterations = 15,\n",
    "                         num_leaves = 15, \n",
    "                         random_state= 42)\n",
    "\n",
    "final_pipe = Pipeline([('preproc', col_transformer),\n",
    "                       ('model', model_lg)])\n",
    "\n",
    "LGBMR = final_pipe.fit(X_train, y_train)"
   ]
  },
  {
   "cell_type": "code",
   "execution_count": 98,
   "metadata": {},
   "outputs": [
    {
     "name": "stdout",
     "output_type": "stream",
     "text": [
      "CPU times: user 738 ms, sys: 0 ns, total: 738 ms\n",
      "Wall time: 727 ms\n"
     ]
    }
   ],
   "source": [
    "%%time\n",
    "predictions = LGBMR.predict(X_train)"
   ]
  },
  {
   "cell_type": "markdown",
   "metadata": {},
   "source": [
    "**В LightGBM менял такие гиперпараметры как num_leaves, num_boost_round, learning_rate. Все параметры улучшали результат при увелечении значения самого параметра**\n",
    "\n",
    "**В конечном итоге при работе обучения в 40 секунд результат RMSE давал 1700, результат можно сказать не отличается от того что выбран сейчас, а учится всего 2.4 секунды.**"
   ]
  },
  {
   "cell_type": "markdown",
   "metadata": {},
   "source": [
    "### Модели: RandomForestRegressor и DecisionTreeRegressor."
   ]
  },
  {
   "cell_type": "raw",
   "metadata": {},
   "source": [
    "model_RF = RandomForestRegressor()\n",
    "\n",
    "final_pipe = Pipeline([('preproc', col_transformer),\n",
    "                       ('model', model_RF)])\n",
    "\n",
    "params_RF = {\n",
    "    'model__n_estimators':range(5,20,10),\n",
    "    'model__max_depth':[None] + [5], 'model__random_state': [42]\n",
    "}\n",
    "\n",
    "grid_RF = GridSearchCV(final_pipe, param_grid = params_RF, cv=3, scoring='neg_root_mean_squared_error')"
   ]
  },
  {
   "cell_type": "code",
   "execution_count": 64,
   "metadata": {},
   "outputs": [
    {
     "name": "stdout",
     "output_type": "stream",
     "text": [
      "CPU times: user 1min 49s, sys: 156 ms, total: 1min 49s\n",
      "Wall time: 1min 50s\n"
     ]
    },
    {
     "data": {
      "text/html": [
       "<style>#sk-container-id-6 {color: black;background-color: white;}#sk-container-id-6 pre{padding: 0;}#sk-container-id-6 div.sk-toggleable {background-color: white;}#sk-container-id-6 label.sk-toggleable__label {cursor: pointer;display: block;width: 100%;margin-bottom: 0;padding: 0.3em;box-sizing: border-box;text-align: center;}#sk-container-id-6 label.sk-toggleable__label-arrow:before {content: \"▸\";float: left;margin-right: 0.25em;color: #696969;}#sk-container-id-6 label.sk-toggleable__label-arrow:hover:before {color: black;}#sk-container-id-6 div.sk-estimator:hover label.sk-toggleable__label-arrow:before {color: black;}#sk-container-id-6 div.sk-toggleable__content {max-height: 0;max-width: 0;overflow: hidden;text-align: left;background-color: #f0f8ff;}#sk-container-id-6 div.sk-toggleable__content pre {margin: 0.2em;color: black;border-radius: 0.25em;background-color: #f0f8ff;}#sk-container-id-6 input.sk-toggleable__control:checked~div.sk-toggleable__content {max-height: 200px;max-width: 100%;overflow: auto;}#sk-container-id-6 input.sk-toggleable__control:checked~label.sk-toggleable__label-arrow:before {content: \"▾\";}#sk-container-id-6 div.sk-estimator input.sk-toggleable__control:checked~label.sk-toggleable__label {background-color: #d4ebff;}#sk-container-id-6 div.sk-label input.sk-toggleable__control:checked~label.sk-toggleable__label {background-color: #d4ebff;}#sk-container-id-6 input.sk-hidden--visually {border: 0;clip: rect(1px 1px 1px 1px);clip: rect(1px, 1px, 1px, 1px);height: 1px;margin: -1px;overflow: hidden;padding: 0;position: absolute;width: 1px;}#sk-container-id-6 div.sk-estimator {font-family: monospace;background-color: #f0f8ff;border: 1px dotted black;border-radius: 0.25em;box-sizing: border-box;margin-bottom: 0.5em;}#sk-container-id-6 div.sk-estimator:hover {background-color: #d4ebff;}#sk-container-id-6 div.sk-parallel-item::after {content: \"\";width: 100%;border-bottom: 1px solid gray;flex-grow: 1;}#sk-container-id-6 div.sk-label:hover label.sk-toggleable__label {background-color: #d4ebff;}#sk-container-id-6 div.sk-serial::before {content: \"\";position: absolute;border-left: 1px solid gray;box-sizing: border-box;top: 0;bottom: 0;left: 50%;z-index: 0;}#sk-container-id-6 div.sk-serial {display: flex;flex-direction: column;align-items: center;background-color: white;padding-right: 0.2em;padding-left: 0.2em;position: relative;}#sk-container-id-6 div.sk-item {position: relative;z-index: 1;}#sk-container-id-6 div.sk-parallel {display: flex;align-items: stretch;justify-content: center;background-color: white;position: relative;}#sk-container-id-6 div.sk-item::before, #sk-container-id-6 div.sk-parallel-item::before {content: \"\";position: absolute;border-left: 1px solid gray;box-sizing: border-box;top: 0;bottom: 0;left: 50%;z-index: -1;}#sk-container-id-6 div.sk-parallel-item {display: flex;flex-direction: column;z-index: 1;position: relative;background-color: white;}#sk-container-id-6 div.sk-parallel-item:first-child::after {align-self: flex-end;width: 50%;}#sk-container-id-6 div.sk-parallel-item:last-child::after {align-self: flex-start;width: 50%;}#sk-container-id-6 div.sk-parallel-item:only-child::after {width: 0;}#sk-container-id-6 div.sk-dashed-wrapped {border: 1px dashed gray;margin: 0 0.4em 0.5em 0.4em;box-sizing: border-box;padding-bottom: 0.4em;background-color: white;}#sk-container-id-6 div.sk-label label {font-family: monospace;font-weight: bold;display: inline-block;line-height: 1.2em;}#sk-container-id-6 div.sk-label-container {text-align: center;}#sk-container-id-6 div.sk-container {/* jupyter's `normalize.less` sets `[hidden] { display: none; }` but bootstrap.min.css set `[hidden] { display: none !important; }` so we also need the `!important` here to be able to override the default hidden behavior on the sphinx rendered scikit-learn.org. See: https://github.com/scikit-learn/scikit-learn/issues/21755 */display: inline-block !important;position: relative;}#sk-container-id-6 div.sk-text-repr-fallback {display: none;}</style><div id=\"sk-container-id-6\" class=\"sk-top-container\"><div class=\"sk-text-repr-fallback\"><pre>GridSearchCV(cv=3,\n",
       "             estimator=Pipeline(steps=[(&#x27;preproc&#x27;,\n",
       "                                        ColumnTransformer(transformers=[(&#x27;num_preproc&#x27;,\n",
       "                                                                         Pipeline(steps=[(&#x27;scaler&#x27;,\n",
       "                                                                                          StandardScaler())]),\n",
       "                                                                         [&#x27;power&#x27;,\n",
       "                                                                          &#x27;kilometer&#x27;]),\n",
       "                                                                        (&#x27;cat_preproc&#x27;,\n",
       "                                                                         Pipeline(steps=[(&#x27;imputer&#x27;,\n",
       "                                                                                          SimpleImputer(fill_value=&#x27;unknown&#x27;,\n",
       "                                                                                                        strategy=&#x27;constant&#x27;)),\n",
       "                                                                                         (&#x27;encoder&#x27;,\n",
       "                                                                                          OneHotEncoder(drop=&#x27;first&#x27;,\n",
       "                                                                                                        handle_unknown=&#x27;ignore&#x27;))]),\n",
       "                                                                         [&#x27;vehicle_type&#x27;,\n",
       "                                                                          &#x27;registration_year&#x27;,\n",
       "                                                                          &#x27;gearbox&#x27;,\n",
       "                                                                          &#x27;model&#x27;,\n",
       "                                                                          &#x27;fuel_type&#x27;,\n",
       "                                                                          &#x27;brand&#x27;,\n",
       "                                                                          &#x27;repaired&#x27;])])),\n",
       "                                       (&#x27;model&#x27;, DecisionTreeRegressor())]),\n",
       "             param_grid={&#x27;model__max_depth&#x27;: [None, 2, 3, 4, 5, 6],\n",
       "                         &#x27;model__random_state&#x27;: [42]},\n",
       "             scoring=&#x27;neg_root_mean_squared_error&#x27;)</pre><b>In a Jupyter environment, please rerun this cell to show the HTML representation or trust the notebook. <br />On GitHub, the HTML representation is unable to render, please try loading this page with nbviewer.org.</b></div><div class=\"sk-container\" hidden><div class=\"sk-item sk-dashed-wrapped\"><div class=\"sk-label-container\"><div class=\"sk-label sk-toggleable\"><input class=\"sk-toggleable__control sk-hidden--visually\" id=\"sk-estimator-id-43\" type=\"checkbox\" ><label for=\"sk-estimator-id-43\" class=\"sk-toggleable__label sk-toggleable__label-arrow\">GridSearchCV</label><div class=\"sk-toggleable__content\"><pre>GridSearchCV(cv=3,\n",
       "             estimator=Pipeline(steps=[(&#x27;preproc&#x27;,\n",
       "                                        ColumnTransformer(transformers=[(&#x27;num_preproc&#x27;,\n",
       "                                                                         Pipeline(steps=[(&#x27;scaler&#x27;,\n",
       "                                                                                          StandardScaler())]),\n",
       "                                                                         [&#x27;power&#x27;,\n",
       "                                                                          &#x27;kilometer&#x27;]),\n",
       "                                                                        (&#x27;cat_preproc&#x27;,\n",
       "                                                                         Pipeline(steps=[(&#x27;imputer&#x27;,\n",
       "                                                                                          SimpleImputer(fill_value=&#x27;unknown&#x27;,\n",
       "                                                                                                        strategy=&#x27;constant&#x27;)),\n",
       "                                                                                         (&#x27;encoder&#x27;,\n",
       "                                                                                          OneHotEncoder(drop=&#x27;first&#x27;,\n",
       "                                                                                                        handle_unknown=&#x27;ignore&#x27;))]),\n",
       "                                                                         [&#x27;vehicle_type&#x27;,\n",
       "                                                                          &#x27;registration_year&#x27;,\n",
       "                                                                          &#x27;gearbox&#x27;,\n",
       "                                                                          &#x27;model&#x27;,\n",
       "                                                                          &#x27;fuel_type&#x27;,\n",
       "                                                                          &#x27;brand&#x27;,\n",
       "                                                                          &#x27;repaired&#x27;])])),\n",
       "                                       (&#x27;model&#x27;, DecisionTreeRegressor())]),\n",
       "             param_grid={&#x27;model__max_depth&#x27;: [None, 2, 3, 4, 5, 6],\n",
       "                         &#x27;model__random_state&#x27;: [42]},\n",
       "             scoring=&#x27;neg_root_mean_squared_error&#x27;)</pre></div></div></div><div class=\"sk-parallel\"><div class=\"sk-parallel-item\"><div class=\"sk-item\"><div class=\"sk-label-container\"><div class=\"sk-label sk-toggleable\"><input class=\"sk-toggleable__control sk-hidden--visually\" id=\"sk-estimator-id-44\" type=\"checkbox\" ><label for=\"sk-estimator-id-44\" class=\"sk-toggleable__label sk-toggleable__label-arrow\">estimator: Pipeline</label><div class=\"sk-toggleable__content\"><pre>Pipeline(steps=[(&#x27;preproc&#x27;,\n",
       "                 ColumnTransformer(transformers=[(&#x27;num_preproc&#x27;,\n",
       "                                                  Pipeline(steps=[(&#x27;scaler&#x27;,\n",
       "                                                                   StandardScaler())]),\n",
       "                                                  [&#x27;power&#x27;, &#x27;kilometer&#x27;]),\n",
       "                                                 (&#x27;cat_preproc&#x27;,\n",
       "                                                  Pipeline(steps=[(&#x27;imputer&#x27;,\n",
       "                                                                   SimpleImputer(fill_value=&#x27;unknown&#x27;,\n",
       "                                                                                 strategy=&#x27;constant&#x27;)),\n",
       "                                                                  (&#x27;encoder&#x27;,\n",
       "                                                                   OneHotEncoder(drop=&#x27;first&#x27;,\n",
       "                                                                                 handle_unknown=&#x27;ignore&#x27;))]),\n",
       "                                                  [&#x27;vehicle_type&#x27;,\n",
       "                                                   &#x27;registration_year&#x27;,\n",
       "                                                   &#x27;gearbox&#x27;, &#x27;model&#x27;,\n",
       "                                                   &#x27;fuel_type&#x27;, &#x27;brand&#x27;,\n",
       "                                                   &#x27;repaired&#x27;])])),\n",
       "                (&#x27;model&#x27;, DecisionTreeRegressor())])</pre></div></div></div><div class=\"sk-serial\"><div class=\"sk-item\"><div class=\"sk-serial\"><div class=\"sk-item sk-dashed-wrapped\"><div class=\"sk-label-container\"><div class=\"sk-label sk-toggleable\"><input class=\"sk-toggleable__control sk-hidden--visually\" id=\"sk-estimator-id-45\" type=\"checkbox\" ><label for=\"sk-estimator-id-45\" class=\"sk-toggleable__label sk-toggleable__label-arrow\">preproc: ColumnTransformer</label><div class=\"sk-toggleable__content\"><pre>ColumnTransformer(transformers=[(&#x27;num_preproc&#x27;,\n",
       "                                 Pipeline(steps=[(&#x27;scaler&#x27;, StandardScaler())]),\n",
       "                                 [&#x27;power&#x27;, &#x27;kilometer&#x27;]),\n",
       "                                (&#x27;cat_preproc&#x27;,\n",
       "                                 Pipeline(steps=[(&#x27;imputer&#x27;,\n",
       "                                                  SimpleImputer(fill_value=&#x27;unknown&#x27;,\n",
       "                                                                strategy=&#x27;constant&#x27;)),\n",
       "                                                 (&#x27;encoder&#x27;,\n",
       "                                                  OneHotEncoder(drop=&#x27;first&#x27;,\n",
       "                                                                handle_unknown=&#x27;ignore&#x27;))]),\n",
       "                                 [&#x27;vehicle_type&#x27;, &#x27;registration_year&#x27;,\n",
       "                                  &#x27;gearbox&#x27;, &#x27;model&#x27;, &#x27;fuel_type&#x27;, &#x27;brand&#x27;,\n",
       "                                  &#x27;repaired&#x27;])])</pre></div></div></div><div class=\"sk-parallel\"><div class=\"sk-parallel-item\"><div class=\"sk-item\"><div class=\"sk-label-container\"><div class=\"sk-label sk-toggleable\"><input class=\"sk-toggleable__control sk-hidden--visually\" id=\"sk-estimator-id-46\" type=\"checkbox\" ><label for=\"sk-estimator-id-46\" class=\"sk-toggleable__label sk-toggleable__label-arrow\">num_preproc</label><div class=\"sk-toggleable__content\"><pre>[&#x27;power&#x27;, &#x27;kilometer&#x27;]</pre></div></div></div><div class=\"sk-serial\"><div class=\"sk-item\"><div class=\"sk-serial\"><div class=\"sk-item\"><div class=\"sk-estimator sk-toggleable\"><input class=\"sk-toggleable__control sk-hidden--visually\" id=\"sk-estimator-id-47\" type=\"checkbox\" ><label for=\"sk-estimator-id-47\" class=\"sk-toggleable__label sk-toggleable__label-arrow\">StandardScaler</label><div class=\"sk-toggleable__content\"><pre>StandardScaler()</pre></div></div></div></div></div></div></div></div><div class=\"sk-parallel-item\"><div class=\"sk-item\"><div class=\"sk-label-container\"><div class=\"sk-label sk-toggleable\"><input class=\"sk-toggleable__control sk-hidden--visually\" id=\"sk-estimator-id-48\" type=\"checkbox\" ><label for=\"sk-estimator-id-48\" class=\"sk-toggleable__label sk-toggleable__label-arrow\">cat_preproc</label><div class=\"sk-toggleable__content\"><pre>[&#x27;vehicle_type&#x27;, &#x27;registration_year&#x27;, &#x27;gearbox&#x27;, &#x27;model&#x27;, &#x27;fuel_type&#x27;, &#x27;brand&#x27;, &#x27;repaired&#x27;]</pre></div></div></div><div class=\"sk-serial\"><div class=\"sk-item\"><div class=\"sk-serial\"><div class=\"sk-item\"><div class=\"sk-estimator sk-toggleable\"><input class=\"sk-toggleable__control sk-hidden--visually\" id=\"sk-estimator-id-49\" type=\"checkbox\" ><label for=\"sk-estimator-id-49\" class=\"sk-toggleable__label sk-toggleable__label-arrow\">SimpleImputer</label><div class=\"sk-toggleable__content\"><pre>SimpleImputer(fill_value=&#x27;unknown&#x27;, strategy=&#x27;constant&#x27;)</pre></div></div></div><div class=\"sk-item\"><div class=\"sk-estimator sk-toggleable\"><input class=\"sk-toggleable__control sk-hidden--visually\" id=\"sk-estimator-id-50\" type=\"checkbox\" ><label for=\"sk-estimator-id-50\" class=\"sk-toggleable__label sk-toggleable__label-arrow\">OneHotEncoder</label><div class=\"sk-toggleable__content\"><pre>OneHotEncoder(drop=&#x27;first&#x27;, handle_unknown=&#x27;ignore&#x27;)</pre></div></div></div></div></div></div></div></div></div></div><div class=\"sk-item\"><div class=\"sk-estimator sk-toggleable\"><input class=\"sk-toggleable__control sk-hidden--visually\" id=\"sk-estimator-id-51\" type=\"checkbox\" ><label for=\"sk-estimator-id-51\" class=\"sk-toggleable__label sk-toggleable__label-arrow\">DecisionTreeRegressor</label><div class=\"sk-toggleable__content\"><pre>DecisionTreeRegressor()</pre></div></div></div></div></div></div></div></div></div></div></div></div>"
      ],
      "text/plain": [
       "GridSearchCV(cv=3,\n",
       "             estimator=Pipeline(steps=[('preproc',\n",
       "                                        ColumnTransformer(transformers=[('num_preproc',\n",
       "                                                                         Pipeline(steps=[('scaler',\n",
       "                                                                                          StandardScaler())]),\n",
       "                                                                         ['power',\n",
       "                                                                          'kilometer']),\n",
       "                                                                        ('cat_preproc',\n",
       "                                                                         Pipeline(steps=[('imputer',\n",
       "                                                                                          SimpleImputer(fill_value='unknown',\n",
       "                                                                                                        strategy='constant')),\n",
       "                                                                                         ('encoder',\n",
       "                                                                                          OneHotEncoder(drop='first',\n",
       "                                                                                                        handle_unknown='ignore'))]),\n",
       "                                                                         ['vehicle_type',\n",
       "                                                                          'registration_year',\n",
       "                                                                          'gearbox',\n",
       "                                                                          'model',\n",
       "                                                                          'fuel_type',\n",
       "                                                                          'brand',\n",
       "                                                                          'repaired'])])),\n",
       "                                       ('model', DecisionTreeRegressor())]),\n",
       "             param_grid={'model__max_depth': [None, 2, 3, 4, 5, 6],\n",
       "                         'model__random_state': [42]},\n",
       "             scoring='neg_root_mean_squared_error')"
      ]
     },
     "execution_count": 64,
     "metadata": {},
     "output_type": "execute_result"
    }
   ],
   "source": [
    "%%time\n",
    "model_DT = DecisionTreeRegressor()\n",
    "\n",
    "final_pipe = Pipeline([('preproc', col_transformer),\n",
    "                       ('model', model_DT)])\n",
    "\n",
    "params_DT = {\n",
    "    'model__max_depth':[None] + [i for i in range(2, 7)],\n",
    "    'model__random_state': [42]\n",
    "}\n",
    "\n",
    "grid_DT = GridSearchCV(final_pipe, param_grid = params_DT, cv=3, scoring='neg_root_mean_squared_error')\n",
    "\n",
    "\n",
    "grid_DT.fit(X_train, y_train)"
   ]
  },
  {
   "cell_type": "code",
   "execution_count": 65,
   "metadata": {},
   "outputs": [
    {
     "name": "stdout",
     "output_type": "stream",
     "text": [
      "Лучшие гиперпараметры\n",
      "{'model__max_depth': None, 'model__random_state': 42}\n",
      "score:\n",
      "DecisionTreeRegressor RMSE: 1818.875632648292\n"
     ]
    }
   ],
   "source": [
    "print('Лучшие гиперпараметры')\n",
    "print(grid_DT.best_params_)\n",
    "\n",
    "print('score:')\n",
    "print('DecisionTreeRegressor RMSE:', grid_DT.best_score_*-1)"
   ]
  },
  {
   "cell_type": "code",
   "execution_count": 66,
   "metadata": {},
   "outputs": [
    {
     "name": "stdout",
     "output_type": "stream",
     "text": [
      "CPU times: user 35.8 s, sys: 101 ms, total: 35.9 s\n",
      "Wall time: 36.4 s\n"
     ]
    },
    {
     "data": {
      "text/html": [
       "<style>#sk-container-id-7 {color: black;background-color: white;}#sk-container-id-7 pre{padding: 0;}#sk-container-id-7 div.sk-toggleable {background-color: white;}#sk-container-id-7 label.sk-toggleable__label {cursor: pointer;display: block;width: 100%;margin-bottom: 0;padding: 0.3em;box-sizing: border-box;text-align: center;}#sk-container-id-7 label.sk-toggleable__label-arrow:before {content: \"▸\";float: left;margin-right: 0.25em;color: #696969;}#sk-container-id-7 label.sk-toggleable__label-arrow:hover:before {color: black;}#sk-container-id-7 div.sk-estimator:hover label.sk-toggleable__label-arrow:before {color: black;}#sk-container-id-7 div.sk-toggleable__content {max-height: 0;max-width: 0;overflow: hidden;text-align: left;background-color: #f0f8ff;}#sk-container-id-7 div.sk-toggleable__content pre {margin: 0.2em;color: black;border-radius: 0.25em;background-color: #f0f8ff;}#sk-container-id-7 input.sk-toggleable__control:checked~div.sk-toggleable__content {max-height: 200px;max-width: 100%;overflow: auto;}#sk-container-id-7 input.sk-toggleable__control:checked~label.sk-toggleable__label-arrow:before {content: \"▾\";}#sk-container-id-7 div.sk-estimator input.sk-toggleable__control:checked~label.sk-toggleable__label {background-color: #d4ebff;}#sk-container-id-7 div.sk-label input.sk-toggleable__control:checked~label.sk-toggleable__label {background-color: #d4ebff;}#sk-container-id-7 input.sk-hidden--visually {border: 0;clip: rect(1px 1px 1px 1px);clip: rect(1px, 1px, 1px, 1px);height: 1px;margin: -1px;overflow: hidden;padding: 0;position: absolute;width: 1px;}#sk-container-id-7 div.sk-estimator {font-family: monospace;background-color: #f0f8ff;border: 1px dotted black;border-radius: 0.25em;box-sizing: border-box;margin-bottom: 0.5em;}#sk-container-id-7 div.sk-estimator:hover {background-color: #d4ebff;}#sk-container-id-7 div.sk-parallel-item::after {content: \"\";width: 100%;border-bottom: 1px solid gray;flex-grow: 1;}#sk-container-id-7 div.sk-label:hover label.sk-toggleable__label {background-color: #d4ebff;}#sk-container-id-7 div.sk-serial::before {content: \"\";position: absolute;border-left: 1px solid gray;box-sizing: border-box;top: 0;bottom: 0;left: 50%;z-index: 0;}#sk-container-id-7 div.sk-serial {display: flex;flex-direction: column;align-items: center;background-color: white;padding-right: 0.2em;padding-left: 0.2em;position: relative;}#sk-container-id-7 div.sk-item {position: relative;z-index: 1;}#sk-container-id-7 div.sk-parallel {display: flex;align-items: stretch;justify-content: center;background-color: white;position: relative;}#sk-container-id-7 div.sk-item::before, #sk-container-id-7 div.sk-parallel-item::before {content: \"\";position: absolute;border-left: 1px solid gray;box-sizing: border-box;top: 0;bottom: 0;left: 50%;z-index: -1;}#sk-container-id-7 div.sk-parallel-item {display: flex;flex-direction: column;z-index: 1;position: relative;background-color: white;}#sk-container-id-7 div.sk-parallel-item:first-child::after {align-self: flex-end;width: 50%;}#sk-container-id-7 div.sk-parallel-item:last-child::after {align-self: flex-start;width: 50%;}#sk-container-id-7 div.sk-parallel-item:only-child::after {width: 0;}#sk-container-id-7 div.sk-dashed-wrapped {border: 1px dashed gray;margin: 0 0.4em 0.5em 0.4em;box-sizing: border-box;padding-bottom: 0.4em;background-color: white;}#sk-container-id-7 div.sk-label label {font-family: monospace;font-weight: bold;display: inline-block;line-height: 1.2em;}#sk-container-id-7 div.sk-label-container {text-align: center;}#sk-container-id-7 div.sk-container {/* jupyter's `normalize.less` sets `[hidden] { display: none; }` but bootstrap.min.css set `[hidden] { display: none !important; }` so we also need the `!important` here to be able to override the default hidden behavior on the sphinx rendered scikit-learn.org. See: https://github.com/scikit-learn/scikit-learn/issues/21755 */display: inline-block !important;position: relative;}#sk-container-id-7 div.sk-text-repr-fallback {display: none;}</style><div id=\"sk-container-id-7\" class=\"sk-top-container\"><div class=\"sk-text-repr-fallback\"><pre>Pipeline(steps=[(&#x27;preproc&#x27;,\n",
       "                 ColumnTransformer(transformers=[(&#x27;num_preproc&#x27;,\n",
       "                                                  Pipeline(steps=[(&#x27;scaler&#x27;,\n",
       "                                                                   StandardScaler())]),\n",
       "                                                  [&#x27;power&#x27;, &#x27;kilometer&#x27;]),\n",
       "                                                 (&#x27;cat_preproc&#x27;,\n",
       "                                                  Pipeline(steps=[(&#x27;imputer&#x27;,\n",
       "                                                                   SimpleImputer(fill_value=&#x27;unknown&#x27;,\n",
       "                                                                                 strategy=&#x27;constant&#x27;)),\n",
       "                                                                  (&#x27;encoder&#x27;,\n",
       "                                                                   OneHotEncoder(drop=&#x27;first&#x27;,\n",
       "                                                                                 handle_unknown=&#x27;ignore&#x27;))]),\n",
       "                                                  [&#x27;vehicle_type&#x27;,\n",
       "                                                   &#x27;registration_year&#x27;,\n",
       "                                                   &#x27;gearbox&#x27;, &#x27;model&#x27;,\n",
       "                                                   &#x27;fuel_type&#x27;, &#x27;brand&#x27;,\n",
       "                                                   &#x27;repaired&#x27;])])),\n",
       "                (&#x27;model&#x27;, DecisionTreeRegressor(random_state=42))])</pre><b>In a Jupyter environment, please rerun this cell to show the HTML representation or trust the notebook. <br />On GitHub, the HTML representation is unable to render, please try loading this page with nbviewer.org.</b></div><div class=\"sk-container\" hidden><div class=\"sk-item sk-dashed-wrapped\"><div class=\"sk-label-container\"><div class=\"sk-label sk-toggleable\"><input class=\"sk-toggleable__control sk-hidden--visually\" id=\"sk-estimator-id-52\" type=\"checkbox\" ><label for=\"sk-estimator-id-52\" class=\"sk-toggleable__label sk-toggleable__label-arrow\">Pipeline</label><div class=\"sk-toggleable__content\"><pre>Pipeline(steps=[(&#x27;preproc&#x27;,\n",
       "                 ColumnTransformer(transformers=[(&#x27;num_preproc&#x27;,\n",
       "                                                  Pipeline(steps=[(&#x27;scaler&#x27;,\n",
       "                                                                   StandardScaler())]),\n",
       "                                                  [&#x27;power&#x27;, &#x27;kilometer&#x27;]),\n",
       "                                                 (&#x27;cat_preproc&#x27;,\n",
       "                                                  Pipeline(steps=[(&#x27;imputer&#x27;,\n",
       "                                                                   SimpleImputer(fill_value=&#x27;unknown&#x27;,\n",
       "                                                                                 strategy=&#x27;constant&#x27;)),\n",
       "                                                                  (&#x27;encoder&#x27;,\n",
       "                                                                   OneHotEncoder(drop=&#x27;first&#x27;,\n",
       "                                                                                 handle_unknown=&#x27;ignore&#x27;))]),\n",
       "                                                  [&#x27;vehicle_type&#x27;,\n",
       "                                                   &#x27;registration_year&#x27;,\n",
       "                                                   &#x27;gearbox&#x27;, &#x27;model&#x27;,\n",
       "                                                   &#x27;fuel_type&#x27;, &#x27;brand&#x27;,\n",
       "                                                   &#x27;repaired&#x27;])])),\n",
       "                (&#x27;model&#x27;, DecisionTreeRegressor(random_state=42))])</pre></div></div></div><div class=\"sk-serial\"><div class=\"sk-item sk-dashed-wrapped\"><div class=\"sk-label-container\"><div class=\"sk-label sk-toggleable\"><input class=\"sk-toggleable__control sk-hidden--visually\" id=\"sk-estimator-id-53\" type=\"checkbox\" ><label for=\"sk-estimator-id-53\" class=\"sk-toggleable__label sk-toggleable__label-arrow\">preproc: ColumnTransformer</label><div class=\"sk-toggleable__content\"><pre>ColumnTransformer(transformers=[(&#x27;num_preproc&#x27;,\n",
       "                                 Pipeline(steps=[(&#x27;scaler&#x27;, StandardScaler())]),\n",
       "                                 [&#x27;power&#x27;, &#x27;kilometer&#x27;]),\n",
       "                                (&#x27;cat_preproc&#x27;,\n",
       "                                 Pipeline(steps=[(&#x27;imputer&#x27;,\n",
       "                                                  SimpleImputer(fill_value=&#x27;unknown&#x27;,\n",
       "                                                                strategy=&#x27;constant&#x27;)),\n",
       "                                                 (&#x27;encoder&#x27;,\n",
       "                                                  OneHotEncoder(drop=&#x27;first&#x27;,\n",
       "                                                                handle_unknown=&#x27;ignore&#x27;))]),\n",
       "                                 [&#x27;vehicle_type&#x27;, &#x27;registration_year&#x27;,\n",
       "                                  &#x27;gearbox&#x27;, &#x27;model&#x27;, &#x27;fuel_type&#x27;, &#x27;brand&#x27;,\n",
       "                                  &#x27;repaired&#x27;])])</pre></div></div></div><div class=\"sk-parallel\"><div class=\"sk-parallel-item\"><div class=\"sk-item\"><div class=\"sk-label-container\"><div class=\"sk-label sk-toggleable\"><input class=\"sk-toggleable__control sk-hidden--visually\" id=\"sk-estimator-id-54\" type=\"checkbox\" ><label for=\"sk-estimator-id-54\" class=\"sk-toggleable__label sk-toggleable__label-arrow\">num_preproc</label><div class=\"sk-toggleable__content\"><pre>[&#x27;power&#x27;, &#x27;kilometer&#x27;]</pre></div></div></div><div class=\"sk-serial\"><div class=\"sk-item\"><div class=\"sk-serial\"><div class=\"sk-item\"><div class=\"sk-estimator sk-toggleable\"><input class=\"sk-toggleable__control sk-hidden--visually\" id=\"sk-estimator-id-55\" type=\"checkbox\" ><label for=\"sk-estimator-id-55\" class=\"sk-toggleable__label sk-toggleable__label-arrow\">StandardScaler</label><div class=\"sk-toggleable__content\"><pre>StandardScaler()</pre></div></div></div></div></div></div></div></div><div class=\"sk-parallel-item\"><div class=\"sk-item\"><div class=\"sk-label-container\"><div class=\"sk-label sk-toggleable\"><input class=\"sk-toggleable__control sk-hidden--visually\" id=\"sk-estimator-id-56\" type=\"checkbox\" ><label for=\"sk-estimator-id-56\" class=\"sk-toggleable__label sk-toggleable__label-arrow\">cat_preproc</label><div class=\"sk-toggleable__content\"><pre>[&#x27;vehicle_type&#x27;, &#x27;registration_year&#x27;, &#x27;gearbox&#x27;, &#x27;model&#x27;, &#x27;fuel_type&#x27;, &#x27;brand&#x27;, &#x27;repaired&#x27;]</pre></div></div></div><div class=\"sk-serial\"><div class=\"sk-item\"><div class=\"sk-serial\"><div class=\"sk-item\"><div class=\"sk-estimator sk-toggleable\"><input class=\"sk-toggleable__control sk-hidden--visually\" id=\"sk-estimator-id-57\" type=\"checkbox\" ><label for=\"sk-estimator-id-57\" class=\"sk-toggleable__label sk-toggleable__label-arrow\">SimpleImputer</label><div class=\"sk-toggleable__content\"><pre>SimpleImputer(fill_value=&#x27;unknown&#x27;, strategy=&#x27;constant&#x27;)</pre></div></div></div><div class=\"sk-item\"><div class=\"sk-estimator sk-toggleable\"><input class=\"sk-toggleable__control sk-hidden--visually\" id=\"sk-estimator-id-58\" type=\"checkbox\" ><label for=\"sk-estimator-id-58\" class=\"sk-toggleable__label sk-toggleable__label-arrow\">OneHotEncoder</label><div class=\"sk-toggleable__content\"><pre>OneHotEncoder(drop=&#x27;first&#x27;, handle_unknown=&#x27;ignore&#x27;)</pre></div></div></div></div></div></div></div></div></div></div><div class=\"sk-item\"><div class=\"sk-estimator sk-toggleable\"><input class=\"sk-toggleable__control sk-hidden--visually\" id=\"sk-estimator-id-59\" type=\"checkbox\" ><label for=\"sk-estimator-id-59\" class=\"sk-toggleable__label sk-toggleable__label-arrow\">DecisionTreeRegressor</label><div class=\"sk-toggleable__content\"><pre>DecisionTreeRegressor(random_state=42)</pre></div></div></div></div></div></div></div>"
      ],
      "text/plain": [
       "Pipeline(steps=[('preproc',\n",
       "                 ColumnTransformer(transformers=[('num_preproc',\n",
       "                                                  Pipeline(steps=[('scaler',\n",
       "                                                                   StandardScaler())]),\n",
       "                                                  ['power', 'kilometer']),\n",
       "                                                 ('cat_preproc',\n",
       "                                                  Pipeline(steps=[('imputer',\n",
       "                                                                   SimpleImputer(fill_value='unknown',\n",
       "                                                                                 strategy='constant')),\n",
       "                                                                  ('encoder',\n",
       "                                                                   OneHotEncoder(drop='first',\n",
       "                                                                                 handle_unknown='ignore'))]),\n",
       "                                                  ['vehicle_type',\n",
       "                                                   'registration_year',\n",
       "                                                   'gearbox', 'model',\n",
       "                                                   'fuel_type', 'brand',\n",
       "                                                   'repaired'])])),\n",
       "                ('model', DecisionTreeRegressor(random_state=42))])"
      ]
     },
     "execution_count": 66,
     "metadata": {},
     "output_type": "execute_result"
    }
   ],
   "source": [
    "%%time\n",
    "model_DT = DecisionTreeRegressor(max_depth = None, random_state = 42)\n",
    "\n",
    "final_pipe = Pipeline([('preproc', col_transformer),\n",
    "                       ('model', model_DT)])\n",
    "\n",
    "final_pipe.fit(X_train, y_train)"
   ]
  },
  {
   "cell_type": "code",
   "execution_count": 67,
   "metadata": {},
   "outputs": [
    {
     "name": "stdout",
     "output_type": "stream",
     "text": [
      "CPU times: user 674 ms, sys: 7.75 ms, total: 681 ms\n",
      "Wall time: 691 ms\n"
     ]
    }
   ],
   "source": [
    "%%time\n",
    "predictions = grid_DT.predict(X_train)"
   ]
  },
  {
   "cell_type": "markdown",
   "metadata": {},
   "source": [
    "**Отдельно копался в настройках подгоняя под быстрый результат.**"
   ]
  },
  {
   "cell_type": "markdown",
   "metadata": {},
   "source": [
    "**Максимальное значение на DT получал примерно такой-же как у LightGBM но время обучения получалось уже полторы минуты, и можно было и далее увеличивать, но решил всё таки подобрать более слабый результат с более высокой скоростью обучения.. )**"
   ]
  },
  {
   "cell_type": "markdown",
   "metadata": {},
   "source": [
    "**Результат DT вполне себе годный**"
   ]
  },
  {
   "cell_type": "markdown",
   "metadata": {},
   "source": [
    "### Промежуточный вывод:"
   ]
  },
  {
   "cell_type": "markdown",
   "metadata": {},
   "source": [
    "* **LinearRegression ошибка в ~1900 RMSE, время обучения 54 секунды, время предсказания 6 секунд.**\n",
    "* **LGBM Regressor ошибка в ~1800 RMSE, время поиска лучшей модели 1 минута, время обучения лучшей модели 1.5 секунды, время предсказания 7 секунд.**\n",
    "* **RandomForestRegression ошибка в ~1550 RMSE, время поиска лучшей модели 22 минуты(google colab), время обучения лучшей модели 38 секунд, время предсказания 2 секунды.**\n",
    "* **DecisionTreeRegression ошибка в ~1800 RMSE, время поиска лучшей модели 2 минуты, время обучения лучшей модели 36 секунд, время предсказания 7 секунд.**\n"
   ]
  },
  {
   "cell_type": "markdown",
   "metadata": {},
   "source": [
    "## Анализ моделей"
   ]
  },
  {
   "cell_type": "markdown",
   "metadata": {},
   "source": [
    "### LinearRegression"
   ]
  },
  {
   "cell_type": "markdown",
   "metadata": {},
   "source": [
    "* **LinearRegression ошибка в ~1900 RMSE, время обучения 54 секунды, время предсказания 6 секунд.**\n",
    "* **Хорошие показатели, немного уступает LGBM Regressor в плане RMSE.**"
   ]
  },
  {
   "cell_type": "markdown",
   "metadata": {},
   "source": [
    "### LightGBM"
   ]
  },
  {
   "cell_type": "markdown",
   "metadata": {},
   "source": [
    "* **LGBM Regressor ошибка в ~1800 RMSE, время поиска лучшей модели 1 минута, время обучения лучшей модели 1.5 секунды, время предсказания 7 секунд.**\n",
    "* **Показывает наилучшие результаты, имеет наибольший потенциал в том плане что если надо то можно улучшить результат за счёт скорости обучения, либо более грамотного выбора поиска гиперпараметров.**"
   ]
  },
  {
   "cell_type": "markdown",
   "metadata": {},
   "source": [
    "### RandomForestRegressor"
   ]
  },
  {
   "cell_type": "markdown",
   "metadata": {},
   "source": [
    "* **RandomForestRegression ошибка в ~1550 RMSE, время поиска лучшей модели 22 минуты(google colab), время обучения лучшей модели 38 секунд, время предсказания 2 секунды.**\n",
    "* **Наилучший результат в плане RMSE, но слишком долгое обучение.**"
   ]
  },
  {
   "cell_type": "markdown",
   "metadata": {},
   "source": [
    "### DecisionTreeRegressor"
   ]
  },
  {
   "cell_type": "markdown",
   "metadata": {},
   "source": [
    "* **DecisionTreeRegression ошибка в ~1800 RMSE, время поиска лучшей модели 2 минуты, время обучения лучшей модели 36 секунд, время предсказания 7 секунд.**\n",
    "* **Хороший результат, но поиск лучшей модели в нашем проекте в два раза дольше, время обучения лучшей модели в 6 раз чем у LGBM Regressor, слишком большая разница.**"
   ]
  },
  {
   "cell_type": "markdown",
   "metadata": {},
   "source": [
    "### Промежуточный вывод"
   ]
  },
  {
   "cell_type": "markdown",
   "metadata": {},
   "source": [
    "**Анализ моделей выявил LGBM Regressor как лучшую модель за счёт скорости поиска параметров(1 минута), обучения лучшей модели(1.5 секунды), и хороших показателей RMSE(1800).**"
   ]
  },
  {
   "cell_type": "markdown",
   "metadata": {},
   "source": [
    "## Проверка лучшей модели на тестовой выборке."
   ]
  },
  {
   "cell_type": "code",
   "execution_count": 100,
   "metadata": {},
   "outputs": [
    {
     "name": "stdout",
     "output_type": "stream",
     "text": [
      "RMSE лучше модели на тестовой выборке: 1797.72\n"
     ]
    }
   ],
   "source": [
    "pred = LGBMR.predict(X_test)\n",
    "mse = mean_squared_error(y_test, pred)\n",
    "rmse = mse**(0.5)\n",
    "print('RMSE лучшей модели на тестовой выборке: %.2f' % rmse)"
   ]
  },
  {
   "cell_type": "markdown",
   "metadata": {},
   "source": [
    "**Замечательный результат.**"
   ]
  },
  {
   "cell_type": "markdown",
   "metadata": {},
   "source": [
    "**Проверка дамми регрессором.**"
   ]
  },
  {
   "cell_type": "code",
   "execution_count": 101,
   "metadata": {},
   "outputs": [
    {
     "name": "stdout",
     "output_type": "stream",
     "text": [
      "RMSE: 4695.88\n"
     ]
    }
   ],
   "source": [
    "dummy = DummyRegressor(strategy='median')\n",
    "\n",
    "dummy.fit(X_train, y_train)\n",
    "\n",
    "predict = dummy.predict(X_test)\n",
    "\n",
    "mse = mean_squared_error(y_test, predict)\n",
    "rmse = mse**(0.5)\n",
    "print(\"RMSE: %.2f\" % rmse)"
   ]
  },
  {
   "cell_type": "markdown",
   "metadata": {},
   "source": [
    "**Дамми показывает что наша модель намного лучше!**"
   ]
  },
  {
   "cell_type": "markdown",
   "metadata": {},
   "source": [
    "## Вывод:"
   ]
  },
  {
   "cell_type": "markdown",
   "metadata": {},
   "source": [
    "### Загрузка данных.\n",
    "* **При знакомстве с данными выяснилось что требуется обработка названий столбцов, выбросов, изменение типа данных**"
   ]
  },
  {
   "cell_type": "markdown",
   "metadata": {},
   "source": [
    "### Предобработка данных.\n",
    "* **Выполнена предобработка данных удалены столбцы не влияющие на цену.**\n",
    "* **Названия столбцов приведены в питоний вид, удалены выбросы.**\n",
    "* **Пропуски оставлены в виде отдельной категории.** \n",
    "* **Настроен пайплайн, включающий в себя eho_encoder, StandardScaler.**\n"
   ]
  },
  {
   "cell_type": "markdown",
   "metadata": {},
   "source": [
    "### Обучение моделей.\n",
    "\n",
    "* **Обучены 4 следующие модели LinearRegression, LGBMRegressor, DecisionTreeRegressor, RandomForestRegressor.**\n",
    "* **У моделей проведены замеры времени поиска лучшей модели, время обучения лучшей модели, время предсказания.**"
   ]
  },
  {
   "cell_type": "markdown",
   "metadata": {},
   "source": [
    "### Анализ моделей.\n",
    "* **Анализ моделей выявил LGBM Regressor как лучшую модель за счёт скорости поиска параметров(1 минута), обучения лучшей модели(1.5 секунды), и хороших показателей RMSE(1800).**"
   ]
  },
  {
   "cell_type": "markdown",
   "metadata": {},
   "source": [
    "### Проверка лучшей модели LGBM Regressor на тестовой выборке.\n",
    "* **LGBM Regressor на тестовой выборке показал корень средней квадратичной ошибки в 1797.**\n",
    "* **Проведенна проверка на константной модели DummyRegressor, показатель RMSE ~4000.**\n",
    "* **Модель LGBM Regressor показывает отличный результат.**"
   ]
  }
 ],
 "metadata": {
  "ExecuteTimeLog": [
   {
    "duration": 364,
    "start_time": "2023-09-21T02:14:07.951Z"
   },
   {
    "duration": 79,
    "start_time": "2023-09-21T02:14:32.238Z"
   },
   {
    "duration": 1321,
    "start_time": "2023-09-21T02:14:43.032Z"
   },
   {
    "duration": 3,
    "start_time": "2023-09-21T02:19:09.159Z"
   },
   {
    "duration": 857,
    "start_time": "2023-09-21T02:19:10.804Z"
   },
   {
    "duration": 62,
    "start_time": "2023-09-21T02:19:58.095Z"
   },
   {
    "duration": 3,
    "start_time": "2023-09-21T02:20:14.426Z"
   },
   {
    "duration": 14,
    "start_time": "2023-09-21T02:20:48.591Z"
   },
   {
    "duration": 139,
    "start_time": "2023-09-21T02:21:13.112Z"
   },
   {
    "duration": 144,
    "start_time": "2023-09-21T02:21:19.918Z"
   },
   {
    "duration": 145,
    "start_time": "2023-09-21T02:21:21.817Z"
   },
   {
    "duration": 35,
    "start_time": "2023-09-21T02:22:07.132Z"
   },
   {
    "duration": 55,
    "start_time": "2023-09-21T02:22:35.918Z"
   },
   {
    "duration": 1014,
    "start_time": "2023-09-21T02:22:45.154Z"
   },
   {
    "duration": 14,
    "start_time": "2023-09-21T02:22:46.170Z"
   },
   {
    "duration": 127,
    "start_time": "2023-09-21T02:22:48.871Z"
   },
   {
    "duration": 96,
    "start_time": "2023-09-21T02:24:48.729Z"
   },
   {
    "duration": 4,
    "start_time": "2023-09-21T02:25:29.798Z"
   },
   {
    "duration": 13,
    "start_time": "2023-09-21T02:25:56.988Z"
   },
   {
    "duration": 7,
    "start_time": "2023-09-21T02:26:05.009Z"
   },
   {
    "duration": 378,
    "start_time": "2023-09-21T02:26:19.365Z"
   },
   {
    "duration": 394,
    "start_time": "2023-09-21T02:26:28.857Z"
   },
   {
    "duration": 387,
    "start_time": "2023-09-21T02:26:33.559Z"
   },
   {
    "duration": 393,
    "start_time": "2023-09-21T02:26:37.930Z"
   },
   {
    "duration": 540,
    "start_time": "2023-09-21T02:27:04.319Z"
   },
   {
    "duration": 78,
    "start_time": "2023-09-21T02:28:09.218Z"
   },
   {
    "duration": 508,
    "start_time": "2023-09-21T02:28:20.967Z"
   },
   {
    "duration": 498,
    "start_time": "2023-09-21T02:29:26.086Z"
   },
   {
    "duration": 528,
    "start_time": "2023-09-21T02:29:33.895Z"
   },
   {
    "duration": 1019,
    "start_time": "2023-09-21T02:36:21.248Z"
   },
   {
    "duration": 14,
    "start_time": "2023-09-21T02:36:22.269Z"
   },
   {
    "duration": 131,
    "start_time": "2023-09-21T02:36:24.080Z"
   },
   {
    "duration": 1122,
    "start_time": "2023-09-21T02:36:47.836Z"
   },
   {
    "duration": 15,
    "start_time": "2023-09-21T02:36:48.960Z"
   },
   {
    "duration": 971,
    "start_time": "2023-09-21T02:39:35.856Z"
   },
   {
    "duration": 419,
    "start_time": "2023-09-21T02:39:43.950Z"
   },
   {
    "duration": 725,
    "start_time": "2023-09-21T02:40:05.103Z"
   },
   {
    "duration": 413,
    "start_time": "2023-09-21T02:40:12.998Z"
   },
   {
    "duration": 182,
    "start_time": "2023-09-21T02:40:44.470Z"
   },
   {
    "duration": 414,
    "start_time": "2023-09-21T02:43:00.160Z"
   },
   {
    "duration": 395,
    "start_time": "2023-09-21T02:43:36.967Z"
   },
   {
    "duration": 421,
    "start_time": "2023-09-21T02:43:50.230Z"
   },
   {
    "duration": 43,
    "start_time": "2023-09-21T02:50:33.126Z"
   },
   {
    "duration": 24,
    "start_time": "2023-09-21T02:50:41.054Z"
   },
   {
    "duration": 8,
    "start_time": "2023-09-21T02:50:49.127Z"
   },
   {
    "duration": 4,
    "start_time": "2023-09-21T02:50:56.781Z"
   },
   {
    "duration": 406,
    "start_time": "2023-09-21T02:51:05.719Z"
   },
   {
    "duration": 1084,
    "start_time": "2023-09-21T02:51:06.126Z"
   },
   {
    "duration": 20,
    "start_time": "2023-09-21T02:51:07.212Z"
   },
   {
    "duration": 134,
    "start_time": "2023-09-21T02:51:07.234Z"
   },
   {
    "duration": 444,
    "start_time": "2023-09-21T02:51:07.370Z"
   },
   {
    "duration": 103,
    "start_time": "2023-09-21T02:51:07.816Z"
   },
   {
    "duration": 27,
    "start_time": "2023-09-21T02:51:07.921Z"
   },
   {
    "duration": 18,
    "start_time": "2023-09-21T02:51:07.950Z"
   },
   {
    "duration": 70,
    "start_time": "2023-09-21T02:51:35.982Z"
   },
   {
    "duration": 3,
    "start_time": "2023-09-21T02:51:36.295Z"
   },
   {
    "duration": 435,
    "start_time": "2023-09-21T02:51:44.169Z"
   },
   {
    "duration": 1133,
    "start_time": "2023-09-21T02:51:44.607Z"
   },
   {
    "duration": 20,
    "start_time": "2023-09-21T02:51:45.744Z"
   },
   {
    "duration": 123,
    "start_time": "2023-09-21T02:51:45.767Z"
   },
   {
    "duration": 429,
    "start_time": "2023-09-21T02:51:45.892Z"
   },
   {
    "duration": 104,
    "start_time": "2023-09-21T02:51:46.322Z"
   },
   {
    "duration": 27,
    "start_time": "2023-09-21T02:51:46.428Z"
   },
   {
    "duration": 172,
    "start_time": "2023-09-21T02:51:46.457Z"
   },
   {
    "duration": 382,
    "start_time": "2023-09-21T02:53:57.342Z"
   },
   {
    "duration": 1133,
    "start_time": "2023-09-21T02:53:57.726Z"
   },
   {
    "duration": 21,
    "start_time": "2023-09-21T02:53:58.860Z"
   },
   {
    "duration": 119,
    "start_time": "2023-09-21T02:53:58.883Z"
   },
   {
    "duration": 437,
    "start_time": "2023-09-21T02:53:59.004Z"
   },
   {
    "duration": 100,
    "start_time": "2023-09-21T02:53:59.443Z"
   },
   {
    "duration": 26,
    "start_time": "2023-09-21T02:53:59.545Z"
   },
   {
    "duration": 5,
    "start_time": "2023-09-21T02:53:59.573Z"
   },
   {
    "duration": 430,
    "start_time": "2023-09-21T02:56:20.289Z"
   },
   {
    "duration": 1081,
    "start_time": "2023-09-21T02:56:20.721Z"
   },
   {
    "duration": 19,
    "start_time": "2023-09-21T02:56:21.804Z"
   },
   {
    "duration": 123,
    "start_time": "2023-09-21T02:56:21.824Z"
   },
   {
    "duration": 420,
    "start_time": "2023-09-21T02:56:21.949Z"
   },
   {
    "duration": 114,
    "start_time": "2023-09-21T02:56:22.371Z"
   },
   {
    "duration": 76,
    "start_time": "2023-09-21T02:56:22.487Z"
   },
   {
    "duration": 0,
    "start_time": "2023-09-21T02:56:22.565Z"
   },
   {
    "duration": 0,
    "start_time": "2023-09-21T02:56:22.566Z"
   },
   {
    "duration": 9,
    "start_time": "2023-09-21T02:57:00.897Z"
   },
   {
    "duration": 6,
    "start_time": "2023-09-21T02:57:08.760Z"
   },
   {
    "duration": 12,
    "start_time": "2023-09-21T02:57:13.929Z"
   },
   {
    "duration": 12,
    "start_time": "2023-09-21T02:58:36.882Z"
   },
   {
    "duration": 5,
    "start_time": "2023-09-21T02:58:48.245Z"
   },
   {
    "duration": 9,
    "start_time": "2023-09-21T03:05:56.173Z"
   },
   {
    "duration": 3419,
    "start_time": "2023-09-21T03:06:05.188Z"
   },
   {
    "duration": 22,
    "start_time": "2023-09-21T03:06:28.953Z"
   },
   {
    "duration": 30,
    "start_time": "2023-09-21T03:07:02.125Z"
   },
   {
    "duration": 27,
    "start_time": "2023-09-21T03:07:06.682Z"
   },
   {
    "duration": 23,
    "start_time": "2023-09-21T03:07:11.234Z"
   },
   {
    "duration": 5,
    "start_time": "2023-09-21T03:07:40.186Z"
   },
   {
    "duration": 160,
    "start_time": "2023-09-21T03:07:48.329Z"
   },
   {
    "duration": 99,
    "start_time": "2023-09-21T03:08:08.521Z"
   },
   {
    "duration": 166,
    "start_time": "2023-09-21T03:08:17.539Z"
   },
   {
    "duration": 8,
    "start_time": "2023-09-21T03:08:26.133Z"
   },
   {
    "duration": 178,
    "start_time": "2023-09-21T03:08:39.201Z"
   },
   {
    "duration": 9,
    "start_time": "2023-09-21T03:09:06.763Z"
   },
   {
    "duration": 9,
    "start_time": "2023-09-21T03:14:02.820Z"
   },
   {
    "duration": 4,
    "start_time": "2023-09-21T03:14:20.664Z"
   },
   {
    "duration": 4,
    "start_time": "2023-09-21T03:14:24.386Z"
   },
   {
    "duration": 4,
    "start_time": "2023-09-21T03:16:12.982Z"
   },
   {
    "duration": 8,
    "start_time": "2023-09-21T03:16:43.890Z"
   },
   {
    "duration": 3,
    "start_time": "2023-09-21T03:19:20.166Z"
   },
   {
    "duration": 96,
    "start_time": "2023-09-21T03:20:32.079Z"
   },
   {
    "duration": 86,
    "start_time": "2023-09-21T03:20:42.243Z"
   },
   {
    "duration": 99,
    "start_time": "2023-09-21T03:20:46.343Z"
   },
   {
    "duration": 704,
    "start_time": "2023-09-21T03:20:51.858Z"
   },
   {
    "duration": 693,
    "start_time": "2023-09-21T03:21:06.740Z"
   },
   {
    "duration": 519,
    "start_time": "2023-09-21T03:21:15.562Z"
   },
   {
    "duration": 501,
    "start_time": "2023-09-21T03:21:58.806Z"
   },
   {
    "duration": 10,
    "start_time": "2023-09-21T03:22:54.239Z"
   },
   {
    "duration": 132,
    "start_time": "2023-09-21T03:23:06.299Z"
   },
   {
    "duration": 147,
    "start_time": "2023-09-21T03:23:28.896Z"
   },
   {
    "duration": 4,
    "start_time": "2023-09-21T03:25:54.864Z"
   },
   {
    "duration": 5,
    "start_time": "2023-09-21T03:26:16.649Z"
   },
   {
    "duration": 437,
    "start_time": "2023-09-21T03:26:22.194Z"
   },
   {
    "duration": 1117,
    "start_time": "2023-09-21T03:26:22.633Z"
   },
   {
    "duration": 20,
    "start_time": "2023-09-21T03:26:23.752Z"
   },
   {
    "duration": 128,
    "start_time": "2023-09-21T03:26:23.774Z"
   },
   {
    "duration": 453,
    "start_time": "2023-09-21T03:26:23.904Z"
   },
   {
    "duration": 107,
    "start_time": "2023-09-21T03:26:24.358Z"
   },
   {
    "duration": 36,
    "start_time": "2023-09-21T03:26:24.466Z"
   },
   {
    "duration": 5,
    "start_time": "2023-09-21T03:26:24.504Z"
   },
   {
    "duration": 21,
    "start_time": "2023-09-21T03:26:24.510Z"
   },
   {
    "duration": 68,
    "start_time": "2023-09-21T03:26:47.440Z"
   },
   {
    "duration": 9,
    "start_time": "2023-09-21T03:26:56.882Z"
   },
   {
    "duration": 5,
    "start_time": "2023-09-21T03:27:31.827Z"
   },
   {
    "duration": 394,
    "start_time": "2023-09-21T03:27:46.122Z"
   },
   {
    "duration": 1138,
    "start_time": "2023-09-21T03:27:46.518Z"
   },
   {
    "duration": 22,
    "start_time": "2023-09-21T03:27:47.657Z"
   },
   {
    "duration": 137,
    "start_time": "2023-09-21T03:27:47.681Z"
   },
   {
    "duration": 444,
    "start_time": "2023-09-21T03:27:47.820Z"
   },
   {
    "duration": 112,
    "start_time": "2023-09-21T03:27:48.266Z"
   },
   {
    "duration": 35,
    "start_time": "2023-09-21T03:27:48.379Z"
   },
   {
    "duration": 5,
    "start_time": "2023-09-21T03:27:48.416Z"
   },
   {
    "duration": 7,
    "start_time": "2023-09-21T03:27:48.423Z"
   },
   {
    "duration": 4,
    "start_time": "2023-09-21T03:28:01.741Z"
   },
   {
    "duration": 165,
    "start_time": "2023-09-21T03:29:03.165Z"
   },
   {
    "duration": 158,
    "start_time": "2023-09-21T03:29:14.602Z"
   },
   {
    "duration": 10,
    "start_time": "2023-09-21T03:30:05.980Z"
   },
   {
    "duration": 15,
    "start_time": "2023-09-21T03:30:24.616Z"
   },
   {
    "duration": 68,
    "start_time": "2023-09-21T03:30:49.216Z"
   },
   {
    "duration": 8,
    "start_time": "2023-09-21T03:30:56.196Z"
   },
   {
    "duration": 10,
    "start_time": "2023-09-21T03:31:22.130Z"
   },
   {
    "duration": 12,
    "start_time": "2023-09-21T03:31:26.102Z"
   },
   {
    "duration": 515,
    "start_time": "2023-09-21T03:31:32.091Z"
   },
   {
    "duration": 1115,
    "start_time": "2023-09-21T03:31:32.608Z"
   },
   {
    "duration": 21,
    "start_time": "2023-09-21T03:31:33.724Z"
   },
   {
    "duration": 143,
    "start_time": "2023-09-21T03:31:33.746Z"
   },
   {
    "duration": 470,
    "start_time": "2023-09-21T03:31:33.891Z"
   },
   {
    "duration": 101,
    "start_time": "2023-09-21T03:31:34.363Z"
   },
   {
    "duration": 25,
    "start_time": "2023-09-21T03:31:34.466Z"
   },
   {
    "duration": 7,
    "start_time": "2023-09-21T03:31:34.502Z"
   },
   {
    "duration": 33,
    "start_time": "2023-09-21T03:31:34.510Z"
   },
   {
    "duration": 49,
    "start_time": "2023-09-21T03:31:34.545Z"
   },
   {
    "duration": 484,
    "start_time": "2023-09-21T03:36:04.579Z"
   },
   {
    "duration": 24,
    "start_time": "2023-09-21T03:40:05.073Z"
   },
   {
    "duration": 77,
    "start_time": "2023-09-21T03:47:06.546Z"
   },
   {
    "duration": 94,
    "start_time": "2023-09-21T03:49:28.911Z"
   },
   {
    "duration": 70,
    "start_time": "2023-09-21T03:49:40.805Z"
   },
   {
    "duration": 4,
    "start_time": "2023-09-21T03:49:47.871Z"
   },
   {
    "duration": 88,
    "start_time": "2023-09-21T03:50:32.888Z"
   },
   {
    "duration": 4,
    "start_time": "2023-09-21T03:50:33.677Z"
   },
   {
    "duration": 55,
    "start_time": "2023-09-21T03:52:59.547Z"
   },
   {
    "duration": 4,
    "start_time": "2023-09-21T03:53:00.174Z"
   },
   {
    "duration": 1216,
    "start_time": "2023-09-21T03:53:45.657Z"
   },
   {
    "duration": 1099,
    "start_time": "2023-09-21T03:53:46.875Z"
   },
   {
    "duration": 30,
    "start_time": "2023-09-21T03:53:47.978Z"
   },
   {
    "duration": 122,
    "start_time": "2023-09-21T03:53:48.010Z"
   },
   {
    "duration": 437,
    "start_time": "2023-09-21T03:53:48.133Z"
   },
   {
    "duration": 112,
    "start_time": "2023-09-21T03:53:48.572Z"
   },
   {
    "duration": 34,
    "start_time": "2023-09-21T03:53:48.686Z"
   },
   {
    "duration": 7,
    "start_time": "2023-09-21T03:53:48.721Z"
   },
   {
    "duration": 22,
    "start_time": "2023-09-21T03:53:48.730Z"
   },
   {
    "duration": 87,
    "start_time": "2023-09-21T03:53:48.754Z"
   },
   {
    "duration": 4,
    "start_time": "2023-09-21T03:53:48.842Z"
   },
   {
    "duration": 113,
    "start_time": "2023-09-21T03:53:48.847Z"
   },
   {
    "duration": 0,
    "start_time": "2023-09-21T03:53:48.961Z"
   },
   {
    "duration": 185,
    "start_time": "2023-09-21T03:55:07.626Z"
   },
   {
    "duration": 4,
    "start_time": "2023-09-21T03:55:08.016Z"
   },
   {
    "duration": 93,
    "start_time": "2023-09-21T03:55:20.539Z"
   },
   {
    "duration": 113,
    "start_time": "2023-09-21T03:55:23.858Z"
   },
   {
    "duration": 12,
    "start_time": "2023-09-21T03:55:36.076Z"
   },
   {
    "duration": 86,
    "start_time": "2023-09-21T03:55:47.642Z"
   },
   {
    "duration": 5,
    "start_time": "2023-09-21T03:57:54.023Z"
   },
   {
    "duration": 92,
    "start_time": "2023-09-21T04:05:38.213Z"
   },
   {
    "duration": 6,
    "start_time": "2023-09-21T04:07:54.484Z"
   },
   {
    "duration": 5,
    "start_time": "2023-09-21T04:07:57.545Z"
   },
   {
    "duration": 1178,
    "start_time": "2023-09-21T04:08:21.236Z"
   },
   {
    "duration": 1094,
    "start_time": "2023-09-21T04:08:22.416Z"
   },
   {
    "duration": 19,
    "start_time": "2023-09-21T04:08:23.512Z"
   },
   {
    "duration": 116,
    "start_time": "2023-09-21T04:08:23.532Z"
   },
   {
    "duration": 427,
    "start_time": "2023-09-21T04:08:23.651Z"
   },
   {
    "duration": 103,
    "start_time": "2023-09-21T04:08:24.079Z"
   },
   {
    "duration": 32,
    "start_time": "2023-09-21T04:08:24.183Z"
   },
   {
    "duration": 22,
    "start_time": "2023-09-21T04:08:24.217Z"
   },
   {
    "duration": 220,
    "start_time": "2023-09-21T04:08:24.241Z"
   },
   {
    "duration": 100,
    "start_time": "2023-09-21T04:08:24.463Z"
   },
   {
    "duration": 15,
    "start_time": "2023-09-21T04:08:24.564Z"
   },
   {
    "duration": 121,
    "start_time": "2023-09-21T04:08:24.582Z"
   },
   {
    "duration": 3,
    "start_time": "2023-09-21T04:08:24.706Z"
   },
   {
    "duration": 105,
    "start_time": "2023-09-21T04:15:17.154Z"
   },
   {
    "duration": 94,
    "start_time": "2023-09-21T04:15:43.016Z"
   },
   {
    "duration": 11,
    "start_time": "2023-09-21T04:16:04.764Z"
   },
   {
    "duration": 79,
    "start_time": "2023-09-21T04:16:36.045Z"
   },
   {
    "duration": 12,
    "start_time": "2023-09-21T04:16:36.516Z"
   },
   {
    "duration": 90,
    "start_time": "2023-09-21T04:16:53.261Z"
   },
   {
    "duration": 83,
    "start_time": "2023-09-21T04:16:56.224Z"
   },
   {
    "duration": 94,
    "start_time": "2023-09-21T04:17:43.539Z"
   },
   {
    "duration": 106,
    "start_time": "2023-09-21T04:17:49.628Z"
   },
   {
    "duration": 51,
    "start_time": "2023-09-21T04:17:50.124Z"
   },
   {
    "duration": 11,
    "start_time": "2023-09-21T04:17:50.797Z"
   },
   {
    "duration": 92,
    "start_time": "2023-09-21T04:17:56.984Z"
   },
   {
    "duration": 91,
    "start_time": "2023-09-21T04:17:57.281Z"
   },
   {
    "duration": 12,
    "start_time": "2023-09-21T04:17:57.742Z"
   },
   {
    "duration": 1489,
    "start_time": "2023-09-21T04:18:02.559Z"
   },
   {
    "duration": 1204,
    "start_time": "2023-09-21T04:18:04.050Z"
   },
   {
    "duration": 19,
    "start_time": "2023-09-21T04:18:05.258Z"
   },
   {
    "duration": 122,
    "start_time": "2023-09-21T04:18:05.279Z"
   },
   {
    "duration": 430,
    "start_time": "2023-09-21T04:18:05.403Z"
   },
   {
    "duration": 106,
    "start_time": "2023-09-21T04:18:05.834Z"
   },
   {
    "duration": 24,
    "start_time": "2023-09-21T04:18:05.942Z"
   },
   {
    "duration": 18,
    "start_time": "2023-09-21T04:18:05.968Z"
   },
   {
    "duration": 207,
    "start_time": "2023-09-21T04:18:05.988Z"
   },
   {
    "duration": 88,
    "start_time": "2023-09-21T04:18:06.201Z"
   },
   {
    "duration": 5,
    "start_time": "2023-09-21T04:18:06.301Z"
   },
   {
    "duration": 154,
    "start_time": "2023-09-21T04:18:06.307Z"
   },
   {
    "duration": 141,
    "start_time": "2023-09-21T04:18:06.465Z"
   },
   {
    "duration": 95,
    "start_time": "2023-09-21T04:18:06.608Z"
   },
   {
    "duration": 46,
    "start_time": "2023-09-21T04:18:06.705Z"
   },
   {
    "duration": 111,
    "start_time": "2023-09-21T04:18:20.038Z"
   },
   {
    "duration": 5,
    "start_time": "2023-09-21T04:18:22.270Z"
   },
   {
    "duration": 269,
    "start_time": "2023-09-21T04:21:13.049Z"
   },
   {
    "duration": 18,
    "start_time": "2023-09-21T04:37:02.722Z"
   },
   {
    "duration": 122,
    "start_time": "2023-09-21T04:37:20.350Z"
   },
   {
    "duration": 57,
    "start_time": "2023-09-21T04:37:40.860Z"
   },
   {
    "duration": 128,
    "start_time": "2023-09-21T04:38:18.723Z"
   },
   {
    "duration": 51,
    "start_time": "2023-09-21T04:38:19.302Z"
   },
   {
    "duration": 112,
    "start_time": "2023-09-21T04:38:33.392Z"
   },
   {
    "duration": 52,
    "start_time": "2023-09-21T04:38:33.626Z"
   },
   {
    "duration": 119,
    "start_time": "2023-09-21T04:38:36.616Z"
   },
   {
    "duration": 51,
    "start_time": "2023-09-21T04:38:36.974Z"
   },
   {
    "duration": 128,
    "start_time": "2023-09-21T04:39:04.549Z"
   },
   {
    "duration": 46,
    "start_time": "2023-09-21T04:39:05.063Z"
   },
   {
    "duration": 86,
    "start_time": "2023-09-21T04:39:17.093Z"
   },
   {
    "duration": 20,
    "start_time": "2023-09-21T04:39:17.450Z"
   },
   {
    "duration": 1520,
    "start_time": "2023-09-21T04:39:23.620Z"
   },
   {
    "duration": 1136,
    "start_time": "2023-09-21T04:39:25.143Z"
   },
   {
    "duration": 23,
    "start_time": "2023-09-21T04:39:26.281Z"
   },
   {
    "duration": 117,
    "start_time": "2023-09-21T04:39:26.306Z"
   },
   {
    "duration": 425,
    "start_time": "2023-09-21T04:39:26.425Z"
   },
   {
    "duration": 109,
    "start_time": "2023-09-21T04:39:26.851Z"
   },
   {
    "duration": 19,
    "start_time": "2023-09-21T04:39:26.962Z"
   },
   {
    "duration": 20,
    "start_time": "2023-09-21T04:39:26.984Z"
   },
   {
    "duration": 199,
    "start_time": "2023-09-21T04:39:27.006Z"
   },
   {
    "duration": 99,
    "start_time": "2023-09-21T04:39:27.207Z"
   },
   {
    "duration": 4,
    "start_time": "2023-09-21T04:39:27.307Z"
   },
   {
    "duration": 108,
    "start_time": "2023-09-21T04:39:27.313Z"
   },
   {
    "duration": 109,
    "start_time": "2023-09-21T04:39:27.423Z"
   },
   {
    "duration": 90,
    "start_time": "2023-09-21T04:39:27.534Z"
   },
   {
    "duration": 17,
    "start_time": "2023-09-21T04:39:27.626Z"
   },
   {
    "duration": 138,
    "start_time": "2023-09-21T04:39:27.645Z"
   },
   {
    "duration": 51,
    "start_time": "2023-09-21T04:39:27.785Z"
   },
   {
    "duration": 116,
    "start_time": "2023-09-21T04:39:27.838Z"
   },
   {
    "duration": 1348,
    "start_time": "2023-09-21T04:39:53.050Z"
   },
   {
    "duration": 1156,
    "start_time": "2023-09-21T04:39:54.400Z"
   },
   {
    "duration": 20,
    "start_time": "2023-09-21T04:39:55.557Z"
   },
   {
    "duration": 120,
    "start_time": "2023-09-21T04:39:55.579Z"
   },
   {
    "duration": 427,
    "start_time": "2023-09-21T04:39:55.702Z"
   },
   {
    "duration": 106,
    "start_time": "2023-09-21T04:39:56.131Z"
   },
   {
    "duration": 25,
    "start_time": "2023-09-21T04:39:56.239Z"
   },
   {
    "duration": 46,
    "start_time": "2023-09-21T04:39:56.265Z"
   },
   {
    "duration": 219,
    "start_time": "2023-09-21T04:39:56.313Z"
   },
   {
    "duration": 112,
    "start_time": "2023-09-21T04:39:56.535Z"
   },
   {
    "duration": 17,
    "start_time": "2023-09-21T04:39:56.649Z"
   },
   {
    "duration": 120,
    "start_time": "2023-09-21T04:39:56.667Z"
   },
   {
    "duration": 136,
    "start_time": "2023-09-21T04:39:56.788Z"
   },
   {
    "duration": 89,
    "start_time": "2023-09-21T04:39:56.927Z"
   },
   {
    "duration": 5,
    "start_time": "2023-09-21T04:39:57.017Z"
   },
   {
    "duration": 146,
    "start_time": "2023-09-21T04:39:57.024Z"
   },
   {
    "duration": 61,
    "start_time": "2023-09-21T04:39:57.172Z"
   },
   {
    "duration": 114,
    "start_time": "2023-09-21T04:39:57.234Z"
   },
   {
    "duration": 35,
    "start_time": "2023-09-21T04:40:55.672Z"
   },
   {
    "duration": 57,
    "start_time": "2023-09-21T04:40:58.102Z"
   },
   {
    "duration": 36,
    "start_time": "2023-09-21T04:41:09.663Z"
   },
   {
    "duration": 35,
    "start_time": "2023-09-21T04:41:12.387Z"
   },
   {
    "duration": 57,
    "start_time": "2023-09-21T04:41:12.761Z"
   },
   {
    "duration": 36,
    "start_time": "2023-09-21T04:41:25.360Z"
   },
   {
    "duration": 22,
    "start_time": "2023-09-21T04:41:32.565Z"
   },
   {
    "duration": 36,
    "start_time": "2023-09-21T04:41:35.700Z"
   },
   {
    "duration": 37,
    "start_time": "2023-09-21T04:42:00.411Z"
   },
   {
    "duration": 46,
    "start_time": "2023-09-21T04:42:05.740Z"
   },
   {
    "duration": 37,
    "start_time": "2023-09-21T04:42:19.877Z"
   },
   {
    "duration": 56,
    "start_time": "2023-09-21T04:42:21.380Z"
   },
   {
    "duration": 37,
    "start_time": "2023-09-21T05:41:09.012Z"
   },
   {
    "duration": 23,
    "start_time": "2023-09-21T05:42:40.250Z"
   },
   {
    "duration": 54,
    "start_time": "2023-09-21T05:42:41.748Z"
   },
   {
    "duration": 91,
    "start_time": "2023-09-21T05:42:44.935Z"
   },
   {
    "duration": 55,
    "start_time": "2023-09-21T05:42:47.050Z"
   },
   {
    "duration": 90,
    "start_time": "2023-09-21T05:43:02.429Z"
   },
   {
    "duration": 23,
    "start_time": "2023-09-21T05:43:02.993Z"
   },
   {
    "duration": 70,
    "start_time": "2023-09-21T05:43:04.666Z"
   },
   {
    "duration": 22,
    "start_time": "2023-09-21T05:43:13.319Z"
   },
   {
    "duration": 51,
    "start_time": "2023-09-21T05:43:13.827Z"
   },
   {
    "duration": 104,
    "start_time": "2023-09-21T05:43:42.914Z"
   },
   {
    "duration": 96,
    "start_time": "2023-09-21T05:44:39.227Z"
   },
   {
    "duration": 23,
    "start_time": "2023-09-21T05:44:51.318Z"
   },
   {
    "duration": 54,
    "start_time": "2023-09-21T05:44:52.429Z"
   },
   {
    "duration": 12,
    "start_time": "2023-09-21T05:45:56.550Z"
   },
   {
    "duration": 413,
    "start_time": "2023-09-21T05:46:03.550Z"
   },
   {
    "duration": 92,
    "start_time": "2023-09-21T05:46:39.824Z"
   },
   {
    "duration": 144,
    "start_time": "2023-09-21T05:46:56.967Z"
   },
   {
    "duration": 119,
    "start_time": "2023-09-21T05:47:34.720Z"
   },
   {
    "duration": 108,
    "start_time": "2023-09-21T05:47:49.369Z"
   },
   {
    "duration": 140,
    "start_time": "2023-09-21T05:48:12.118Z"
   },
   {
    "duration": 234,
    "start_time": "2023-09-21T05:48:14.607Z"
   },
   {
    "duration": 23,
    "start_time": "2023-09-21T05:48:50.920Z"
   },
   {
    "duration": 4,
    "start_time": "2023-09-21T05:48:59.889Z"
   },
   {
    "duration": 1501,
    "start_time": "2023-09-21T05:49:06.988Z"
   },
   {
    "duration": 1137,
    "start_time": "2023-09-21T05:49:08.491Z"
   },
   {
    "duration": 19,
    "start_time": "2023-09-21T05:49:09.629Z"
   },
   {
    "duration": 125,
    "start_time": "2023-09-21T05:49:09.650Z"
   },
   {
    "duration": 452,
    "start_time": "2023-09-21T05:49:09.777Z"
   },
   {
    "duration": 108,
    "start_time": "2023-09-21T05:49:10.230Z"
   },
   {
    "duration": 26,
    "start_time": "2023-09-21T05:49:10.340Z"
   },
   {
    "duration": 12,
    "start_time": "2023-09-21T05:49:10.367Z"
   },
   {
    "duration": 206,
    "start_time": "2023-09-21T05:49:10.381Z"
   },
   {
    "duration": 92,
    "start_time": "2023-09-21T05:49:10.589Z"
   },
   {
    "duration": 19,
    "start_time": "2023-09-21T05:49:10.683Z"
   },
   {
    "duration": 106,
    "start_time": "2023-09-21T05:49:10.704Z"
   },
   {
    "duration": 108,
    "start_time": "2023-09-21T05:49:10.812Z"
   },
   {
    "duration": 89,
    "start_time": "2023-09-21T05:49:10.923Z"
   },
   {
    "duration": 15,
    "start_time": "2023-09-21T05:49:11.014Z"
   },
   {
    "duration": 174,
    "start_time": "2023-09-21T05:49:11.030Z"
   },
   {
    "duration": 24,
    "start_time": "2023-09-21T05:49:11.206Z"
   },
   {
    "duration": 4,
    "start_time": "2023-09-21T05:49:11.232Z"
   },
   {
    "duration": 47,
    "start_time": "2023-09-21T05:49:11.237Z"
   },
   {
    "duration": 61,
    "start_time": "2023-09-21T05:49:11.286Z"
   },
   {
    "duration": 130,
    "start_time": "2023-09-21T05:49:11.349Z"
   },
   {
    "duration": 84,
    "start_time": "2023-09-21T05:49:36.574Z"
   },
   {
    "duration": 1723,
    "start_time": "2023-09-21T05:49:52.391Z"
   },
   {
    "duration": 18,
    "start_time": "2023-09-21T05:50:00.645Z"
   },
   {
    "duration": 113,
    "start_time": "2023-09-21T05:50:10.096Z"
   },
   {
    "duration": 1531,
    "start_time": "2023-09-21T05:50:46.331Z"
   },
   {
    "duration": 5,
    "start_time": "2023-09-21T05:50:55.422Z"
   },
   {
    "duration": 17,
    "start_time": "2023-09-21T05:51:01.197Z"
   },
   {
    "duration": 104,
    "start_time": "2023-09-21T05:51:27.680Z"
   },
   {
    "duration": 116,
    "start_time": "2023-09-21T05:51:50.972Z"
   },
   {
    "duration": 117,
    "start_time": "2023-09-21T05:52:03.094Z"
   },
   {
    "duration": 61,
    "start_time": "2023-09-21T05:53:55.189Z"
   },
   {
    "duration": 111,
    "start_time": "2023-09-21T05:53:57.494Z"
   },
   {
    "duration": 55,
    "start_time": "2023-09-21T05:54:23.901Z"
   },
   {
    "duration": 170,
    "start_time": "2023-09-21T05:54:25.696Z"
   },
   {
    "duration": 102,
    "start_time": "2023-09-21T05:54:37.475Z"
   },
   {
    "duration": 59,
    "start_time": "2023-09-21T05:54:44.719Z"
   },
   {
    "duration": 101,
    "start_time": "2023-09-21T05:54:45.378Z"
   },
   {
    "duration": 52,
    "start_time": "2023-09-21T05:54:49.399Z"
   },
   {
    "duration": 103,
    "start_time": "2023-09-21T05:54:50.201Z"
   },
   {
    "duration": 48,
    "start_time": "2023-09-21T05:55:24.767Z"
   },
   {
    "duration": 93,
    "start_time": "2023-09-21T05:55:26.865Z"
   },
   {
    "duration": 112,
    "start_time": "2023-09-21T05:55:27.201Z"
   },
   {
    "duration": 103,
    "start_time": "2023-09-21T05:55:27.598Z"
   },
   {
    "duration": 1375,
    "start_time": "2023-09-21T05:55:57.099Z"
   },
   {
    "duration": 1132,
    "start_time": "2023-09-21T05:55:58.476Z"
   },
   {
    "duration": 19,
    "start_time": "2023-09-21T05:55:59.609Z"
   },
   {
    "duration": 124,
    "start_time": "2023-09-21T05:55:59.630Z"
   },
   {
    "duration": 435,
    "start_time": "2023-09-21T05:55:59.757Z"
   },
   {
    "duration": 110,
    "start_time": "2023-09-21T05:56:00.200Z"
   },
   {
    "duration": 26,
    "start_time": "2023-09-21T05:56:00.312Z"
   },
   {
    "duration": 55,
    "start_time": "2023-09-21T05:56:00.339Z"
   },
   {
    "duration": 260,
    "start_time": "2023-09-21T05:56:00.395Z"
   },
   {
    "duration": 93,
    "start_time": "2023-09-21T05:56:00.657Z"
   },
   {
    "duration": 39,
    "start_time": "2023-09-21T05:56:00.752Z"
   },
   {
    "duration": 176,
    "start_time": "2023-09-21T05:56:00.793Z"
   },
   {
    "duration": 153,
    "start_time": "2023-09-21T05:56:00.971Z"
   },
   {
    "duration": 92,
    "start_time": "2023-09-21T05:56:01.127Z"
   },
   {
    "duration": 492,
    "start_time": "2023-09-21T05:56:01.221Z"
   },
   {
    "duration": 266,
    "start_time": "2023-09-21T05:56:01.715Z"
   },
   {
    "duration": 151,
    "start_time": "2023-09-21T05:56:01.983Z"
   },
   {
    "duration": 127,
    "start_time": "2023-09-21T05:56:02.136Z"
   },
   {
    "duration": 204,
    "start_time": "2023-09-21T05:56:02.264Z"
   },
   {
    "duration": 108,
    "start_time": "2023-09-21T05:56:02.470Z"
   },
   {
    "duration": 315,
    "start_time": "2023-09-21T05:56:02.581Z"
   },
   {
    "duration": 76,
    "start_time": "2023-09-21T05:57:21.990Z"
   },
   {
    "duration": 156,
    "start_time": "2023-09-21T05:58:38.394Z"
   },
   {
    "duration": 1604,
    "start_time": "2023-09-21T05:59:16.879Z"
   },
   {
    "duration": 1138,
    "start_time": "2023-09-21T05:59:18.486Z"
   },
   {
    "duration": 20,
    "start_time": "2023-09-21T05:59:19.626Z"
   },
   {
    "duration": 124,
    "start_time": "2023-09-21T05:59:19.648Z"
   },
   {
    "duration": 444,
    "start_time": "2023-09-21T05:59:19.775Z"
   },
   {
    "duration": 114,
    "start_time": "2023-09-21T05:59:20.221Z"
   },
   {
    "duration": 26,
    "start_time": "2023-09-21T05:59:20.336Z"
   },
   {
    "duration": 12,
    "start_time": "2023-09-21T05:59:20.364Z"
   },
   {
    "duration": 203,
    "start_time": "2023-09-21T05:59:20.378Z"
   },
   {
    "duration": 87,
    "start_time": "2023-09-21T05:59:20.583Z"
   },
   {
    "duration": 20,
    "start_time": "2023-09-21T05:59:20.672Z"
   },
   {
    "duration": 97,
    "start_time": "2023-09-21T05:59:20.694Z"
   },
   {
    "duration": 100,
    "start_time": "2023-09-21T05:59:20.793Z"
   },
   {
    "duration": 91,
    "start_time": "2023-09-21T05:59:20.896Z"
   },
   {
    "duration": 66,
    "start_time": "2023-09-21T05:59:20.989Z"
   },
   {
    "duration": 118,
    "start_time": "2023-09-21T05:59:21.056Z"
   },
   {
    "duration": 134,
    "start_time": "2023-09-21T05:59:21.175Z"
   },
   {
    "duration": 132,
    "start_time": "2023-09-21T05:59:21.310Z"
   },
   {
    "duration": 193,
    "start_time": "2023-09-21T05:59:21.443Z"
   },
   {
    "duration": 70,
    "start_time": "2023-09-21T05:59:21.638Z"
   },
   {
    "duration": 47,
    "start_time": "2023-09-21T05:59:21.710Z"
   },
   {
    "duration": 120,
    "start_time": "2023-09-21T05:59:21.759Z"
   },
   {
    "duration": 1536,
    "start_time": "2023-09-21T06:00:05.691Z"
   },
   {
    "duration": 1167,
    "start_time": "2023-09-21T06:00:07.229Z"
   },
   {
    "duration": 17,
    "start_time": "2023-09-21T06:00:08.398Z"
   },
   {
    "duration": 147,
    "start_time": "2023-09-21T06:00:08.417Z"
   },
   {
    "duration": 452,
    "start_time": "2023-09-21T06:00:08.567Z"
   },
   {
    "duration": 107,
    "start_time": "2023-09-21T06:00:09.021Z"
   },
   {
    "duration": 25,
    "start_time": "2023-09-21T06:00:09.129Z"
   },
   {
    "duration": 64,
    "start_time": "2023-09-21T06:00:09.156Z"
   },
   {
    "duration": 235,
    "start_time": "2023-09-21T06:00:09.222Z"
   },
   {
    "duration": 85,
    "start_time": "2023-09-21T06:00:09.458Z"
   },
   {
    "duration": 105,
    "start_time": "2023-09-21T06:00:09.545Z"
   },
   {
    "duration": 147,
    "start_time": "2023-09-21T06:00:09.651Z"
   },
   {
    "duration": 142,
    "start_time": "2023-09-21T06:00:09.800Z"
   },
   {
    "duration": 91,
    "start_time": "2023-09-21T06:00:09.944Z"
   },
   {
    "duration": 50,
    "start_time": "2023-09-21T06:00:10.037Z"
   },
   {
    "duration": 168,
    "start_time": "2023-09-21T06:00:10.089Z"
   },
   {
    "duration": 143,
    "start_time": "2023-09-21T06:00:10.258Z"
   },
   {
    "duration": 138,
    "start_time": "2023-09-21T06:00:10.403Z"
   },
   {
    "duration": 199,
    "start_time": "2023-09-21T06:00:10.543Z"
   },
   {
    "duration": 69,
    "start_time": "2023-09-21T06:00:10.744Z"
   },
   {
    "duration": 53,
    "start_time": "2023-09-21T06:00:10.815Z"
   },
   {
    "duration": 139,
    "start_time": "2023-09-21T06:00:10.870Z"
   },
   {
    "duration": 1405,
    "start_time": "2023-09-21T06:01:34.602Z"
   },
   {
    "duration": 1134,
    "start_time": "2023-09-21T06:01:36.009Z"
   },
   {
    "duration": 18,
    "start_time": "2023-09-21T06:01:37.145Z"
   },
   {
    "duration": 118,
    "start_time": "2023-09-21T06:01:37.165Z"
   },
   {
    "duration": 526,
    "start_time": "2023-09-21T06:01:37.285Z"
   },
   {
    "duration": 122,
    "start_time": "2023-09-21T06:01:37.813Z"
   },
   {
    "duration": 220,
    "start_time": "2023-09-21T06:01:37.937Z"
   },
   {
    "duration": 31,
    "start_time": "2023-09-21T06:01:38.159Z"
   },
   {
    "duration": 15,
    "start_time": "2023-09-21T06:01:38.201Z"
   },
   {
    "duration": 200,
    "start_time": "2023-09-21T06:01:38.218Z"
   },
   {
    "duration": 92,
    "start_time": "2023-09-21T06:01:38.421Z"
   },
   {
    "duration": 48,
    "start_time": "2023-09-21T06:01:38.515Z"
   },
   {
    "duration": 111,
    "start_time": "2023-09-21T06:01:38.565Z"
   },
   {
    "duration": 125,
    "start_time": "2023-09-21T06:01:38.680Z"
   },
   {
    "duration": 85,
    "start_time": "2023-09-21T06:01:38.806Z"
   },
   {
    "duration": 9,
    "start_time": "2023-09-21T06:01:38.900Z"
   },
   {
    "duration": 124,
    "start_time": "2023-09-21T06:01:38.911Z"
   },
   {
    "duration": 144,
    "start_time": "2023-09-21T06:01:39.037Z"
   },
   {
    "duration": 134,
    "start_time": "2023-09-21T06:01:39.183Z"
   },
   {
    "duration": 201,
    "start_time": "2023-09-21T06:01:39.319Z"
   },
   {
    "duration": 61,
    "start_time": "2023-09-21T06:01:39.522Z"
   },
   {
    "duration": 65,
    "start_time": "2023-09-21T06:01:39.585Z"
   },
   {
    "duration": 119,
    "start_time": "2023-09-21T06:01:39.651Z"
   },
   {
    "duration": 84,
    "start_time": "2023-09-21T06:04:21.186Z"
   },
   {
    "duration": 194,
    "start_time": "2023-09-21T06:04:25.754Z"
   },
   {
    "duration": 64,
    "start_time": "2023-09-21T06:04:57.828Z"
   },
   {
    "duration": 55,
    "start_time": "2023-09-21T06:05:01.954Z"
   },
   {
    "duration": 110,
    "start_time": "2023-09-21T06:05:04.777Z"
   },
   {
    "duration": 177,
    "start_time": "2023-09-21T06:06:03.904Z"
   },
   {
    "duration": 1402,
    "start_time": "2023-09-21T06:06:16.077Z"
   },
   {
    "duration": 1092,
    "start_time": "2023-09-21T06:06:17.482Z"
   },
   {
    "duration": 27,
    "start_time": "2023-09-21T06:06:18.575Z"
   },
   {
    "duration": 128,
    "start_time": "2023-09-21T06:06:18.604Z"
   },
   {
    "duration": 458,
    "start_time": "2023-09-21T06:06:18.734Z"
   },
   {
    "duration": 109,
    "start_time": "2023-09-21T06:06:19.194Z"
   },
   {
    "duration": 25,
    "start_time": "2023-09-21T06:06:19.304Z"
   },
   {
    "duration": 37,
    "start_time": "2023-09-21T06:06:19.331Z"
   },
   {
    "duration": 211,
    "start_time": "2023-09-21T06:06:19.370Z"
   },
   {
    "duration": 88,
    "start_time": "2023-09-21T06:06:19.583Z"
   },
   {
    "duration": 10,
    "start_time": "2023-09-21T06:06:19.672Z"
   },
   {
    "duration": 124,
    "start_time": "2023-09-21T06:06:19.684Z"
   },
   {
    "duration": 104,
    "start_time": "2023-09-21T06:06:19.810Z"
   },
   {
    "duration": 89,
    "start_time": "2023-09-21T06:06:19.916Z"
   },
   {
    "duration": 7,
    "start_time": "2023-09-21T06:06:20.007Z"
   },
   {
    "duration": 150,
    "start_time": "2023-09-21T06:06:20.015Z"
   },
   {
    "duration": 138,
    "start_time": "2023-09-21T06:06:20.166Z"
   },
   {
    "duration": 127,
    "start_time": "2023-09-21T06:06:20.306Z"
   },
   {
    "duration": 196,
    "start_time": "2023-09-21T06:06:20.435Z"
   },
   {
    "duration": 75,
    "start_time": "2023-09-21T06:06:20.633Z"
   },
   {
    "duration": 50,
    "start_time": "2023-09-21T06:06:20.709Z"
   },
   {
    "duration": 128,
    "start_time": "2023-09-21T06:06:20.761Z"
   },
   {
    "duration": 212,
    "start_time": "2023-09-21T06:07:24.427Z"
   },
   {
    "duration": 58,
    "start_time": "2023-09-21T06:07:27.718Z"
   },
   {
    "duration": 1415,
    "start_time": "2023-09-21T06:07:32.349Z"
   },
   {
    "duration": 1198,
    "start_time": "2023-09-21T06:07:33.766Z"
   },
   {
    "duration": 17,
    "start_time": "2023-09-21T06:07:34.966Z"
   },
   {
    "duration": 125,
    "start_time": "2023-09-21T06:07:34.985Z"
   },
   {
    "duration": 445,
    "start_time": "2023-09-21T06:07:35.113Z"
   },
   {
    "duration": 104,
    "start_time": "2023-09-21T06:07:35.560Z"
   },
   {
    "duration": 36,
    "start_time": "2023-09-21T06:07:35.666Z"
   },
   {
    "duration": 131,
    "start_time": "2023-09-21T06:07:35.703Z"
   },
   {
    "duration": 247,
    "start_time": "2023-09-21T06:07:35.836Z"
   },
   {
    "duration": 83,
    "start_time": "2023-09-21T06:07:36.085Z"
   },
   {
    "duration": 27,
    "start_time": "2023-09-21T06:07:36.169Z"
   },
   {
    "duration": 120,
    "start_time": "2023-09-21T06:07:36.198Z"
   },
   {
    "duration": 173,
    "start_time": "2023-09-21T06:07:36.320Z"
   },
   {
    "duration": 104,
    "start_time": "2023-09-21T06:07:36.500Z"
   },
   {
    "duration": 244,
    "start_time": "2023-09-21T06:07:36.605Z"
   },
   {
    "duration": 133,
    "start_time": "2023-09-21T06:07:36.850Z"
   },
   {
    "duration": 133,
    "start_time": "2023-09-21T06:07:36.985Z"
   },
   {
    "duration": 127,
    "start_time": "2023-09-21T06:07:37.119Z"
   },
   {
    "duration": 211,
    "start_time": "2023-09-21T06:07:37.248Z"
   },
   {
    "duration": 69,
    "start_time": "2023-09-21T06:07:37.461Z"
   },
   {
    "duration": 40,
    "start_time": "2023-09-21T06:07:37.531Z"
   },
   {
    "duration": 129,
    "start_time": "2023-09-21T06:07:37.572Z"
   },
   {
    "duration": 1673,
    "start_time": "2023-09-21T06:08:33.273Z"
   },
   {
    "duration": 1140,
    "start_time": "2023-09-21T06:08:34.949Z"
   },
   {
    "duration": 24,
    "start_time": "2023-09-21T06:08:36.091Z"
   },
   {
    "duration": 316,
    "start_time": "2023-09-21T06:08:36.117Z"
   },
   {
    "duration": 546,
    "start_time": "2023-09-21T06:08:36.435Z"
   },
   {
    "duration": 361,
    "start_time": "2023-09-21T06:08:36.983Z"
   },
   {
    "duration": 24,
    "start_time": "2023-09-21T06:08:37.345Z"
   },
   {
    "duration": 23,
    "start_time": "2023-09-21T06:08:37.370Z"
   },
   {
    "duration": 260,
    "start_time": "2023-09-21T06:08:37.395Z"
   },
   {
    "duration": 99,
    "start_time": "2023-09-21T06:08:37.656Z"
   },
   {
    "duration": 14,
    "start_time": "2023-09-21T06:08:37.757Z"
   },
   {
    "duration": 116,
    "start_time": "2023-09-21T06:08:37.773Z"
   },
   {
    "duration": 142,
    "start_time": "2023-09-21T06:08:37.891Z"
   },
   {
    "duration": 86,
    "start_time": "2023-09-21T06:08:38.036Z"
   },
   {
    "duration": 29,
    "start_time": "2023-09-21T06:08:38.124Z"
   },
   {
    "duration": 162,
    "start_time": "2023-09-21T06:08:38.155Z"
   },
   {
    "duration": 150,
    "start_time": "2023-09-21T06:08:38.319Z"
   },
   {
    "duration": 144,
    "start_time": "2023-09-21T06:08:38.471Z"
   },
   {
    "duration": 66,
    "start_time": "2023-09-21T06:08:38.617Z"
   },
   {
    "duration": 128,
    "start_time": "2023-09-21T06:08:38.685Z"
   },
   {
    "duration": 116,
    "start_time": "2023-09-21T06:08:38.814Z"
   },
   {
    "duration": 63,
    "start_time": "2023-09-21T06:09:03.875Z"
   },
   {
    "duration": 42,
    "start_time": "2023-09-21T06:09:04.779Z"
   },
   {
    "duration": 1479,
    "start_time": "2023-09-21T06:12:08.613Z"
   },
   {
    "duration": 1139,
    "start_time": "2023-09-21T06:12:10.095Z"
   },
   {
    "duration": 19,
    "start_time": "2023-09-21T06:12:11.236Z"
   },
   {
    "duration": 116,
    "start_time": "2023-09-21T06:12:11.257Z"
   },
   {
    "duration": 441,
    "start_time": "2023-09-21T06:12:11.376Z"
   },
   {
    "duration": 108,
    "start_time": "2023-09-21T06:12:11.819Z"
   },
   {
    "duration": 27,
    "start_time": "2023-09-21T06:12:11.929Z"
   },
   {
    "duration": 16,
    "start_time": "2023-09-21T06:12:11.958Z"
   },
   {
    "duration": 255,
    "start_time": "2023-09-21T06:12:11.976Z"
   },
   {
    "duration": 104,
    "start_time": "2023-09-21T06:12:12.233Z"
   },
   {
    "duration": 9,
    "start_time": "2023-09-21T06:12:12.339Z"
   },
   {
    "duration": 109,
    "start_time": "2023-09-21T06:12:12.350Z"
   },
   {
    "duration": 128,
    "start_time": "2023-09-21T06:12:12.461Z"
   },
   {
    "duration": 90,
    "start_time": "2023-09-21T06:12:12.591Z"
   },
   {
    "duration": 31,
    "start_time": "2023-09-21T06:12:12.683Z"
   },
   {
    "duration": 175,
    "start_time": "2023-09-21T06:12:12.715Z"
   },
   {
    "duration": 151,
    "start_time": "2023-09-21T06:12:12.892Z"
   },
   {
    "duration": 134,
    "start_time": "2023-09-21T06:12:13.045Z"
   },
   {
    "duration": 70,
    "start_time": "2023-09-21T06:12:13.181Z"
   },
   {
    "duration": 50,
    "start_time": "2023-09-21T06:12:13.253Z"
   },
   {
    "duration": 376,
    "start_time": "2023-09-21T06:12:13.305Z"
   },
   {
    "duration": 1,
    "start_time": "2023-09-21T06:12:13.682Z"
   },
   {
    "duration": 156,
    "start_time": "2023-09-21T06:14:32.578Z"
   },
   {
    "duration": 144,
    "start_time": "2023-09-21T06:15:15.113Z"
   },
   {
    "duration": 1373,
    "start_time": "2023-09-21T06:15:21.018Z"
   },
   {
    "duration": 1201,
    "start_time": "2023-09-21T06:15:22.393Z"
   },
   {
    "duration": 21,
    "start_time": "2023-09-21T06:15:23.602Z"
   },
   {
    "duration": 196,
    "start_time": "2023-09-21T06:15:23.624Z"
   },
   {
    "duration": 457,
    "start_time": "2023-09-21T06:15:23.824Z"
   },
   {
    "duration": 119,
    "start_time": "2023-09-21T06:15:24.284Z"
   },
   {
    "duration": 24,
    "start_time": "2023-09-21T06:15:24.405Z"
   },
   {
    "duration": 35,
    "start_time": "2023-09-21T06:15:24.430Z"
   },
   {
    "duration": 8,
    "start_time": "2023-09-21T06:15:24.467Z"
   },
   {
    "duration": 280,
    "start_time": "2023-09-21T06:15:24.477Z"
   },
   {
    "duration": 190,
    "start_time": "2023-09-21T06:15:24.759Z"
   },
   {
    "duration": 95,
    "start_time": "2023-09-21T06:15:24.951Z"
   },
   {
    "duration": 17,
    "start_time": "2023-09-21T06:15:25.048Z"
   },
   {
    "duration": 99,
    "start_time": "2023-09-21T06:15:25.068Z"
   },
   {
    "duration": 107,
    "start_time": "2023-09-21T06:15:25.169Z"
   },
   {
    "duration": 91,
    "start_time": "2023-09-21T06:15:25.278Z"
   },
   {
    "duration": 20,
    "start_time": "2023-09-21T06:15:25.371Z"
   },
   {
    "duration": 126,
    "start_time": "2023-09-21T06:15:25.393Z"
   },
   {
    "duration": 146,
    "start_time": "2023-09-21T06:15:25.521Z"
   },
   {
    "duration": 136,
    "start_time": "2023-09-21T06:15:25.668Z"
   },
   {
    "duration": 68,
    "start_time": "2023-09-21T06:15:25.806Z"
   },
   {
    "duration": 59,
    "start_time": "2023-09-21T06:15:25.876Z"
   },
   {
    "duration": 218,
    "start_time": "2023-09-21T06:15:25.936Z"
   },
   {
    "duration": 0,
    "start_time": "2023-09-21T06:15:26.156Z"
   },
   {
    "duration": 140,
    "start_time": "2023-09-21T06:15:38.391Z"
   },
   {
    "duration": 1600,
    "start_time": "2023-09-21T06:15:43.792Z"
   },
   {
    "duration": 1148,
    "start_time": "2023-09-21T06:15:45.394Z"
   },
   {
    "duration": 26,
    "start_time": "2023-09-21T06:15:46.544Z"
   },
   {
    "duration": 183,
    "start_time": "2023-09-21T06:15:46.572Z"
   },
   {
    "duration": 442,
    "start_time": "2023-09-21T06:15:46.759Z"
   },
   {
    "duration": 114,
    "start_time": "2023-09-21T06:15:47.203Z"
   },
   {
    "duration": 26,
    "start_time": "2023-09-21T06:15:47.319Z"
   },
   {
    "duration": 44,
    "start_time": "2023-09-21T06:15:47.347Z"
   },
   {
    "duration": 16,
    "start_time": "2023-09-21T06:15:47.393Z"
   },
   {
    "duration": 280,
    "start_time": "2023-09-21T06:15:47.411Z"
   },
   {
    "duration": 181,
    "start_time": "2023-09-21T06:15:47.692Z"
   },
   {
    "duration": 91,
    "start_time": "2023-09-21T06:15:47.874Z"
   },
   {
    "duration": 33,
    "start_time": "2023-09-21T06:15:47.967Z"
   },
   {
    "duration": 104,
    "start_time": "2023-09-21T06:15:48.003Z"
   },
   {
    "duration": 124,
    "start_time": "2023-09-21T06:15:48.109Z"
   },
   {
    "duration": 89,
    "start_time": "2023-09-21T06:15:48.235Z"
   },
   {
    "duration": 24,
    "start_time": "2023-09-21T06:15:48.325Z"
   },
   {
    "duration": 137,
    "start_time": "2023-09-21T06:15:48.351Z"
   },
   {
    "duration": 170,
    "start_time": "2023-09-21T06:15:48.491Z"
   },
   {
    "duration": 141,
    "start_time": "2023-09-21T06:15:48.662Z"
   },
   {
    "duration": 60,
    "start_time": "2023-09-21T06:15:48.805Z"
   },
   {
    "duration": 61,
    "start_time": "2023-09-21T06:15:48.867Z"
   },
   {
    "duration": 225,
    "start_time": "2023-09-21T06:15:48.930Z"
   },
   {
    "duration": 0,
    "start_time": "2023-09-21T06:15:49.157Z"
   },
   {
    "duration": 122,
    "start_time": "2023-09-21T06:16:21.914Z"
   },
   {
    "duration": 1503,
    "start_time": "2023-09-21T06:16:38.805Z"
   },
   {
    "duration": 1072,
    "start_time": "2023-09-21T06:16:40.310Z"
   },
   {
    "duration": 22,
    "start_time": "2023-09-21T06:16:41.384Z"
   },
   {
    "duration": 115,
    "start_time": "2023-09-21T06:16:41.408Z"
   },
   {
    "duration": 445,
    "start_time": "2023-09-21T06:16:41.525Z"
   },
   {
    "duration": 111,
    "start_time": "2023-09-21T06:16:41.971Z"
   },
   {
    "duration": 30,
    "start_time": "2023-09-21T06:16:42.084Z"
   },
   {
    "duration": 43,
    "start_time": "2023-09-21T06:16:42.117Z"
   },
   {
    "duration": 281,
    "start_time": "2023-09-21T06:16:42.162Z"
   },
   {
    "duration": 211,
    "start_time": "2023-09-21T06:16:42.444Z"
   },
   {
    "duration": 187,
    "start_time": "2023-09-21T06:16:42.656Z"
   },
   {
    "duration": 92,
    "start_time": "2023-09-21T06:16:42.845Z"
   },
   {
    "duration": 6,
    "start_time": "2023-09-21T06:16:42.938Z"
   },
   {
    "duration": 112,
    "start_time": "2023-09-21T06:16:42.946Z"
   },
   {
    "duration": 105,
    "start_time": "2023-09-21T06:16:43.060Z"
   },
   {
    "duration": 90,
    "start_time": "2023-09-21T06:16:43.167Z"
   },
   {
    "duration": 12,
    "start_time": "2023-09-21T06:16:43.259Z"
   },
   {
    "duration": 128,
    "start_time": "2023-09-21T06:16:43.273Z"
   },
   {
    "duration": 142,
    "start_time": "2023-09-21T06:16:43.402Z"
   },
   {
    "duration": 129,
    "start_time": "2023-09-21T06:16:43.545Z"
   },
   {
    "duration": 67,
    "start_time": "2023-09-21T06:16:43.676Z"
   },
   {
    "duration": 42,
    "start_time": "2023-09-21T06:16:43.744Z"
   },
   {
    "duration": 221,
    "start_time": "2023-09-21T06:16:43.787Z"
   },
   {
    "duration": 0,
    "start_time": "2023-09-21T06:16:44.010Z"
   },
   {
    "duration": 119,
    "start_time": "2023-09-21T06:17:38.408Z"
   },
   {
    "duration": 124,
    "start_time": "2023-09-21T06:17:46.469Z"
   },
   {
    "duration": 144,
    "start_time": "2023-09-21T06:17:55.049Z"
   },
   {
    "duration": 128,
    "start_time": "2023-09-21T06:18:07.368Z"
   },
   {
    "duration": 120,
    "start_time": "2023-09-21T06:18:10.076Z"
   },
   {
    "duration": 266,
    "start_time": "2023-09-21T06:18:34.196Z"
   },
   {
    "duration": 1447,
    "start_time": "2023-09-21T06:18:44.982Z"
   },
   {
    "duration": 1103,
    "start_time": "2023-09-21T06:18:46.431Z"
   },
   {
    "duration": 19,
    "start_time": "2023-09-21T06:18:47.536Z"
   },
   {
    "duration": 133,
    "start_time": "2023-09-21T06:18:47.557Z"
   },
   {
    "duration": 463,
    "start_time": "2023-09-21T06:18:47.693Z"
   },
   {
    "duration": 106,
    "start_time": "2023-09-21T06:18:48.158Z"
   },
   {
    "duration": 728,
    "start_time": "2023-09-21T06:18:48.266Z"
   },
   {
    "duration": 32,
    "start_time": "2023-09-21T06:18:48.995Z"
   },
   {
    "duration": 39,
    "start_time": "2023-09-21T06:18:49.029Z"
   },
   {
    "duration": 195,
    "start_time": "2023-09-21T06:18:49.070Z"
   },
   {
    "duration": 97,
    "start_time": "2023-09-21T06:18:49.267Z"
   },
   {
    "duration": 40,
    "start_time": "2023-09-21T06:18:49.366Z"
   },
   {
    "duration": 128,
    "start_time": "2023-09-21T06:18:49.408Z"
   },
   {
    "duration": 139,
    "start_time": "2023-09-21T06:18:49.539Z"
   },
   {
    "duration": 92,
    "start_time": "2023-09-21T06:18:49.680Z"
   },
   {
    "duration": 28,
    "start_time": "2023-09-21T06:18:49.774Z"
   },
   {
    "duration": 139,
    "start_time": "2023-09-21T06:18:49.804Z"
   },
   {
    "duration": 156,
    "start_time": "2023-09-21T06:18:49.945Z"
   },
   {
    "duration": 136,
    "start_time": "2023-09-21T06:18:50.103Z"
   },
   {
    "duration": 72,
    "start_time": "2023-09-21T06:18:50.241Z"
   },
   {
    "duration": 41,
    "start_time": "2023-09-21T06:18:50.315Z"
   },
   {
    "duration": 233,
    "start_time": "2023-09-21T06:18:50.358Z"
   },
   {
    "duration": 0,
    "start_time": "2023-09-21T06:18:50.593Z"
   },
   {
    "duration": 98,
    "start_time": "2023-09-21T06:19:23.290Z"
   },
   {
    "duration": 11,
    "start_time": "2023-09-21T06:20:09.454Z"
   },
   {
    "duration": 12,
    "start_time": "2023-09-21T06:31:36.285Z"
   },
   {
    "duration": 16,
    "start_time": "2023-09-21T06:37:19.861Z"
   },
   {
    "duration": 24,
    "start_time": "2023-09-21T06:41:53.789Z"
   },
   {
    "duration": 23,
    "start_time": "2023-09-21T06:42:19.564Z"
   },
   {
    "duration": 62,
    "start_time": "2023-09-21T06:42:36.212Z"
   },
   {
    "duration": 68,
    "start_time": "2023-09-21T06:43:15.169Z"
   },
   {
    "duration": 885,
    "start_time": "2023-09-21T06:44:11.136Z"
   },
   {
    "duration": 57,
    "start_time": "2023-09-21T06:44:31.276Z"
   },
   {
    "duration": 21,
    "start_time": "2023-09-21T06:44:42.149Z"
   },
   {
    "duration": 1496,
    "start_time": "2023-09-21T06:44:56.055Z"
   },
   {
    "duration": 1229,
    "start_time": "2023-09-21T06:44:57.553Z"
   },
   {
    "duration": 32,
    "start_time": "2023-09-21T06:44:58.784Z"
   },
   {
    "duration": 122,
    "start_time": "2023-09-21T06:44:58.818Z"
   },
   {
    "duration": 481,
    "start_time": "2023-09-21T06:44:58.943Z"
   },
   {
    "duration": 122,
    "start_time": "2023-09-21T06:44:59.426Z"
   },
   {
    "duration": 766,
    "start_time": "2023-09-21T06:44:59.551Z"
   },
   {
    "duration": 26,
    "start_time": "2023-09-21T06:45:00.319Z"
   },
   {
    "duration": 119,
    "start_time": "2023-09-21T06:45:00.347Z"
   },
   {
    "duration": 485,
    "start_time": "2023-09-21T06:45:00.468Z"
   },
   {
    "duration": 1041,
    "start_time": "2023-09-21T06:45:00.954Z"
   },
   {
    "duration": 587,
    "start_time": "2023-09-21T06:45:01.997Z"
   },
   {
    "duration": 129,
    "start_time": "2023-09-21T06:45:02.587Z"
   },
   {
    "duration": 655,
    "start_time": "2023-09-21T06:45:02.718Z"
   },
   {
    "duration": 97,
    "start_time": "2023-09-21T06:45:03.375Z"
   },
   {
    "duration": 371,
    "start_time": "2023-09-21T06:45:03.473Z"
   },
   {
    "duration": 178,
    "start_time": "2023-09-21T06:45:03.846Z"
   },
   {
    "duration": 150,
    "start_time": "2023-09-21T06:45:04.025Z"
   },
   {
    "duration": 246,
    "start_time": "2023-09-21T06:45:04.177Z"
   },
   {
    "duration": 417,
    "start_time": "2023-09-21T06:45:04.425Z"
   },
   {
    "duration": 42,
    "start_time": "2023-09-21T06:45:04.844Z"
   },
   {
    "duration": 124,
    "start_time": "2023-09-21T06:45:04.888Z"
   },
   {
    "duration": 80,
    "start_time": "2023-09-21T06:45:32.230Z"
   },
   {
    "duration": 7324,
    "start_time": "2023-09-21T06:51:56.746Z"
   },
   {
    "duration": 605,
    "start_time": "2023-09-21T06:52:22.238Z"
   },
   {
    "duration": 16,
    "start_time": "2023-09-21T06:55:00.503Z"
   },
   {
    "duration": 88,
    "start_time": "2023-09-21T06:55:40.315Z"
   },
   {
    "duration": 139,
    "start_time": "2023-09-21T06:56:30.633Z"
   },
   {
    "duration": 104,
    "start_time": "2023-09-21T06:56:33.735Z"
   },
   {
    "duration": 16,
    "start_time": "2023-09-21T06:56:37.890Z"
   },
   {
    "duration": 14,
    "start_time": "2023-09-21T06:57:01.023Z"
   },
   {
    "duration": 2357,
    "start_time": "2023-09-21T06:57:10.871Z"
   },
   {
    "duration": 1346,
    "start_time": "2023-09-21T06:57:13.231Z"
   },
   {
    "duration": 1096,
    "start_time": "2023-09-21T06:57:14.581Z"
   },
   {
    "duration": 22,
    "start_time": "2023-09-21T06:57:15.680Z"
   },
   {
    "duration": 124,
    "start_time": "2023-09-21T06:57:15.704Z"
   },
   {
    "duration": 429,
    "start_time": "2023-09-21T06:57:15.830Z"
   },
   {
    "duration": 102,
    "start_time": "2023-09-21T06:57:16.260Z"
   },
   {
    "duration": 663,
    "start_time": "2023-09-21T06:57:16.364Z"
   },
   {
    "duration": 26,
    "start_time": "2023-09-21T06:57:17.029Z"
   },
   {
    "duration": 29,
    "start_time": "2023-09-21T06:57:17.056Z"
   },
   {
    "duration": 172,
    "start_time": "2023-09-21T06:57:17.086Z"
   },
   {
    "duration": 89,
    "start_time": "2023-09-21T06:57:17.260Z"
   },
   {
    "duration": 5,
    "start_time": "2023-09-21T06:57:17.353Z"
   },
   {
    "duration": 106,
    "start_time": "2023-09-21T06:57:17.359Z"
   },
   {
    "duration": 113,
    "start_time": "2023-09-21T06:57:17.466Z"
   },
   {
    "duration": 87,
    "start_time": "2023-09-21T06:57:17.581Z"
   },
   {
    "duration": 4,
    "start_time": "2023-09-21T06:57:17.670Z"
   },
   {
    "duration": 127,
    "start_time": "2023-09-21T06:57:17.676Z"
   },
   {
    "duration": 139,
    "start_time": "2023-09-21T06:57:17.805Z"
   },
   {
    "duration": 133,
    "start_time": "2023-09-21T06:57:17.946Z"
   },
   {
    "duration": 75,
    "start_time": "2023-09-21T06:57:18.081Z"
   },
   {
    "duration": 50,
    "start_time": "2023-09-21T06:57:18.157Z"
   },
   {
    "duration": 124,
    "start_time": "2023-09-21T06:57:18.208Z"
   },
   {
    "duration": 88,
    "start_time": "2023-09-21T06:57:25.377Z"
   },
   {
    "duration": 2276,
    "start_time": "2023-09-21T06:57:30.186Z"
   },
   {
    "duration": 79,
    "start_time": "2023-09-21T06:57:32.464Z"
   },
   {
    "duration": 0,
    "start_time": "2023-09-21T06:57:32.546Z"
   },
   {
    "duration": 0,
    "start_time": "2023-09-21T06:57:32.547Z"
   },
   {
    "duration": 0,
    "start_time": "2023-09-21T06:57:32.549Z"
   },
   {
    "duration": 0,
    "start_time": "2023-09-21T06:57:32.550Z"
   },
   {
    "duration": 0,
    "start_time": "2023-09-21T06:57:32.552Z"
   },
   {
    "duration": 0,
    "start_time": "2023-09-21T06:57:32.554Z"
   },
   {
    "duration": 0,
    "start_time": "2023-09-21T06:57:32.556Z"
   },
   {
    "duration": 0,
    "start_time": "2023-09-21T06:57:32.557Z"
   },
   {
    "duration": 0,
    "start_time": "2023-09-21T06:57:32.559Z"
   },
   {
    "duration": 0,
    "start_time": "2023-09-21T06:57:32.560Z"
   },
   {
    "duration": 0,
    "start_time": "2023-09-21T06:57:32.562Z"
   },
   {
    "duration": 0,
    "start_time": "2023-09-21T06:57:32.563Z"
   },
   {
    "duration": 0,
    "start_time": "2023-09-21T06:57:32.566Z"
   },
   {
    "duration": 0,
    "start_time": "2023-09-21T06:57:32.567Z"
   },
   {
    "duration": 0,
    "start_time": "2023-09-21T06:57:32.569Z"
   },
   {
    "duration": 0,
    "start_time": "2023-09-21T06:57:32.570Z"
   },
   {
    "duration": 0,
    "start_time": "2023-09-21T06:57:32.572Z"
   },
   {
    "duration": 0,
    "start_time": "2023-09-21T06:57:32.573Z"
   },
   {
    "duration": 0,
    "start_time": "2023-09-21T06:57:32.575Z"
   },
   {
    "duration": 0,
    "start_time": "2023-09-21T06:57:32.576Z"
   },
   {
    "duration": 0,
    "start_time": "2023-09-21T06:57:32.578Z"
   },
   {
    "duration": 1393,
    "start_time": "2023-09-21T06:58:33.117Z"
   },
   {
    "duration": 2331,
    "start_time": "2023-09-21T06:58:49.218Z"
   },
   {
    "duration": 1307,
    "start_time": "2023-09-21T06:58:51.551Z"
   },
   {
    "duration": 1106,
    "start_time": "2023-09-21T06:58:52.860Z"
   },
   {
    "duration": 19,
    "start_time": "2023-09-21T06:58:53.968Z"
   },
   {
    "duration": 134,
    "start_time": "2023-09-21T06:58:53.990Z"
   },
   {
    "duration": 450,
    "start_time": "2023-09-21T06:58:54.126Z"
   },
   {
    "duration": 132,
    "start_time": "2023-09-21T06:58:54.578Z"
   },
   {
    "duration": 698,
    "start_time": "2023-09-21T06:58:54.712Z"
   },
   {
    "duration": 26,
    "start_time": "2023-09-21T06:58:55.412Z"
   },
   {
    "duration": 43,
    "start_time": "2023-09-21T06:58:55.440Z"
   },
   {
    "duration": 198,
    "start_time": "2023-09-21T06:58:55.485Z"
   },
   {
    "duration": 100,
    "start_time": "2023-09-21T06:58:55.685Z"
   },
   {
    "duration": 94,
    "start_time": "2023-09-21T06:58:55.786Z"
   },
   {
    "duration": 110,
    "start_time": "2023-09-21T06:58:55.884Z"
   },
   {
    "duration": 143,
    "start_time": "2023-09-21T06:58:55.996Z"
   },
   {
    "duration": 93,
    "start_time": "2023-09-21T06:58:56.141Z"
   },
   {
    "duration": 22,
    "start_time": "2023-09-21T06:58:56.236Z"
   },
   {
    "duration": 125,
    "start_time": "2023-09-21T06:58:56.260Z"
   },
   {
    "duration": 142,
    "start_time": "2023-09-21T06:58:56.387Z"
   },
   {
    "duration": 145,
    "start_time": "2023-09-21T06:58:56.531Z"
   },
   {
    "duration": 2420,
    "start_time": "2023-09-21T06:59:00.374Z"
   },
   {
    "duration": 1329,
    "start_time": "2023-09-21T06:59:02.797Z"
   },
   {
    "duration": 1166,
    "start_time": "2023-09-21T06:59:04.128Z"
   },
   {
    "duration": 21,
    "start_time": "2023-09-21T06:59:05.296Z"
   },
   {
    "duration": 117,
    "start_time": "2023-09-21T06:59:05.319Z"
   },
   {
    "duration": 438,
    "start_time": "2023-09-21T06:59:05.438Z"
   },
   {
    "duration": 116,
    "start_time": "2023-09-21T06:59:05.878Z"
   },
   {
    "duration": 656,
    "start_time": "2023-09-21T06:59:05.996Z"
   },
   {
    "duration": 28,
    "start_time": "2023-09-21T06:59:06.654Z"
   },
   {
    "duration": 19,
    "start_time": "2023-09-21T06:59:06.684Z"
   },
   {
    "duration": 197,
    "start_time": "2023-09-21T06:59:06.704Z"
   },
   {
    "duration": 99,
    "start_time": "2023-09-21T06:59:06.903Z"
   },
   {
    "duration": 13,
    "start_time": "2023-09-21T06:59:07.004Z"
   },
   {
    "duration": 96,
    "start_time": "2023-09-21T06:59:07.021Z"
   },
   {
    "duration": 121,
    "start_time": "2023-09-21T06:59:07.119Z"
   },
   {
    "duration": 84,
    "start_time": "2023-09-21T06:59:07.242Z"
   },
   {
    "duration": 121,
    "start_time": "2023-09-21T06:59:07.328Z"
   },
   {
    "duration": 139,
    "start_time": "2023-09-21T06:59:07.451Z"
   },
   {
    "duration": 155,
    "start_time": "2023-09-21T06:59:07.591Z"
   },
   {
    "duration": 131,
    "start_time": "2023-09-21T06:59:07.747Z"
   },
   {
    "duration": 65,
    "start_time": "2023-09-21T06:59:07.880Z"
   },
   {
    "duration": 55,
    "start_time": "2023-09-21T06:59:07.947Z"
   },
   {
    "duration": 120,
    "start_time": "2023-09-21T06:59:08.004Z"
   },
   {
    "duration": 73,
    "start_time": "2023-09-21T07:00:40.898Z"
   },
   {
    "duration": 107,
    "start_time": "2023-09-21T07:08:34.814Z"
   },
   {
    "duration": 17,
    "start_time": "2023-09-21T07:13:58.165Z"
   },
   {
    "duration": 91,
    "start_time": "2023-09-21T07:14:05.066Z"
   },
   {
    "duration": 97,
    "start_time": "2023-09-21T07:14:15.121Z"
   },
   {
    "duration": 11,
    "start_time": "2023-09-21T07:14:27.433Z"
   },
   {
    "duration": 1638,
    "start_time": "2023-09-22T03:06:01.608Z"
   },
   {
    "duration": 124,
    "start_time": "2023-09-22T03:06:34.634Z"
   },
   {
    "duration": 4,
    "start_time": "2023-09-22T03:06:39.736Z"
   },
   {
    "duration": 1468,
    "start_time": "2023-09-22T03:06:40.324Z"
   },
   {
    "duration": 9434,
    "start_time": "2023-09-22T03:06:43.066Z"
   },
   {
    "duration": 5,
    "start_time": "2023-09-22T03:06:52.503Z"
   },
   {
    "duration": 1219,
    "start_time": "2023-09-22T03:06:52.510Z"
   },
   {
    "duration": 21,
    "start_time": "2023-09-22T03:06:53.732Z"
   },
   {
    "duration": 138,
    "start_time": "2023-09-22T03:06:53.755Z"
   },
   {
    "duration": 449,
    "start_time": "2023-09-22T03:06:53.895Z"
   },
   {
    "duration": 106,
    "start_time": "2023-09-22T03:06:54.346Z"
   },
   {
    "duration": 3652,
    "start_time": "2023-09-22T03:06:54.453Z"
   },
   {
    "duration": 3449,
    "start_time": "2023-09-22T03:07:50.997Z"
   },
   {
    "duration": 353,
    "start_time": "2023-09-22T03:08:02.594Z"
   },
   {
    "duration": 37,
    "start_time": "2023-09-22T03:08:30.102Z"
   },
   {
    "duration": 367,
    "start_time": "2023-09-22T03:08:35.763Z"
   },
   {
    "duration": 5,
    "start_time": "2023-09-22T03:11:30.787Z"
   },
   {
    "duration": 2156,
    "start_time": "2023-09-22T03:13:15.647Z"
   },
   {
    "duration": 9,
    "start_time": "2023-09-22T03:13:27.306Z"
   },
   {
    "duration": 12,
    "start_time": "2023-09-22T03:13:38.281Z"
   },
   {
    "duration": 7,
    "start_time": "2023-09-22T03:13:43.868Z"
   },
   {
    "duration": 5,
    "start_time": "2023-09-22T03:14:17.233Z"
   },
   {
    "duration": 12,
    "start_time": "2023-09-22T03:14:53.329Z"
   },
   {
    "duration": 8,
    "start_time": "2023-09-22T03:15:01.893Z"
   },
   {
    "duration": 365,
    "start_time": "2023-09-22T03:15:35.526Z"
   },
   {
    "duration": 20,
    "start_time": "2023-09-22T03:15:55.694Z"
   },
   {
    "duration": 3388,
    "start_time": "2023-09-22T03:15:55.920Z"
   },
   {
    "duration": 9,
    "start_time": "2023-09-22T03:16:22.945Z"
   },
   {
    "duration": 1635,
    "start_time": "2023-09-22T03:16:24.036Z"
   },
   {
    "duration": 7,
    "start_time": "2023-09-22T03:19:16.464Z"
   },
   {
    "duration": 1297,
    "start_time": "2023-09-22T03:19:18.089Z"
   },
   {
    "duration": 7,
    "start_time": "2023-09-22T03:19:28.971Z"
   },
   {
    "duration": 952,
    "start_time": "2023-09-22T03:19:31.113Z"
   },
   {
    "duration": 72,
    "start_time": "2023-09-22T03:20:16.157Z"
   },
   {
    "duration": 357,
    "start_time": "2023-09-22T03:20:17.257Z"
   },
   {
    "duration": 352,
    "start_time": "2023-09-22T03:20:34.003Z"
   },
   {
    "duration": 3590,
    "start_time": "2023-09-22T03:20:48.903Z"
   },
   {
    "duration": 63,
    "start_time": "2023-09-22T03:21:45.478Z"
   },
   {
    "duration": 375,
    "start_time": "2023-09-22T03:21:46.403Z"
   },
   {
    "duration": 67,
    "start_time": "2023-09-22T03:22:35.097Z"
   },
   {
    "duration": 376,
    "start_time": "2023-09-22T03:23:00.576Z"
   },
   {
    "duration": 440,
    "start_time": "2023-09-22T03:23:38.239Z"
   },
   {
    "duration": 494,
    "start_time": "2023-09-22T03:23:44.402Z"
   },
   {
    "duration": 414,
    "start_time": "2023-09-22T03:23:50.392Z"
   },
   {
    "duration": 79,
    "start_time": "2023-09-22T03:25:30.526Z"
   },
   {
    "duration": 67,
    "start_time": "2023-09-22T03:25:55.311Z"
   },
   {
    "duration": 77,
    "start_time": "2023-09-22T03:26:00.797Z"
   },
   {
    "duration": 9,
    "start_time": "2023-09-22T03:26:13.604Z"
   },
   {
    "duration": 7280,
    "start_time": "2023-09-22T10:18:00.763Z"
   },
   {
    "duration": 1382,
    "start_time": "2023-09-22T10:18:08.046Z"
   },
   {
    "duration": 1375,
    "start_time": "2023-09-22T10:18:09.430Z"
   },
   {
    "duration": 17,
    "start_time": "2023-09-22T10:18:10.807Z"
   },
   {
    "duration": 102,
    "start_time": "2023-09-22T10:18:10.826Z"
   },
   {
    "duration": 404,
    "start_time": "2023-09-22T10:18:10.930Z"
   },
   {
    "duration": 92,
    "start_time": "2023-09-22T10:18:11.343Z"
   },
   {
    "duration": 499,
    "start_time": "2023-09-22T10:18:11.444Z"
   },
   {
    "duration": 9,
    "start_time": "2023-09-22T10:18:11.944Z"
   },
   {
    "duration": 98,
    "start_time": "2023-09-22T10:18:11.955Z"
   },
   {
    "duration": 657,
    "start_time": "2023-09-22T10:18:12.055Z"
   },
   {
    "duration": 33,
    "start_time": "2023-09-22T10:18:12.714Z"
   },
   {
    "duration": 11,
    "start_time": "2023-09-22T10:18:12.749Z"
   },
   {
    "duration": 179,
    "start_time": "2023-09-22T10:18:12.764Z"
   },
   {
    "duration": 85,
    "start_time": "2023-09-22T10:18:12.945Z"
   },
   {
    "duration": 16,
    "start_time": "2023-09-22T10:18:13.031Z"
   },
   {
    "duration": 99,
    "start_time": "2023-09-22T10:18:13.048Z"
   },
   {
    "duration": 110,
    "start_time": "2023-09-22T10:18:13.149Z"
   },
   {
    "duration": 90,
    "start_time": "2023-09-22T10:18:13.260Z"
   },
   {
    "duration": 39,
    "start_time": "2023-09-22T10:18:13.351Z"
   },
   {
    "duration": 118,
    "start_time": "2023-09-22T10:18:13.392Z"
   },
   {
    "duration": 143,
    "start_time": "2023-09-22T10:18:13.511Z"
   },
   {
    "duration": 134,
    "start_time": "2023-09-22T10:18:13.655Z"
   },
   {
    "duration": 76,
    "start_time": "2023-09-22T10:18:13.791Z"
   },
   {
    "duration": 39,
    "start_time": "2023-09-22T10:18:13.868Z"
   },
   {
    "duration": 72,
    "start_time": "2023-09-22T10:18:13.909Z"
   },
   {
    "duration": 100,
    "start_time": "2023-09-22T10:18:13.983Z"
   },
   {
    "duration": 10,
    "start_time": "2023-09-22T10:18:14.085Z"
   },
   {
    "duration": 3595,
    "start_time": "2023-09-22T10:20:14.220Z"
   },
   {
    "duration": 382,
    "start_time": "2023-09-22T10:20:28.711Z"
   },
   {
    "duration": 283,
    "start_time": "2023-09-22T10:20:55.298Z"
   },
   {
    "duration": 489,
    "start_time": "2023-09-22T10:21:15.304Z"
   },
   {
    "duration": 55,
    "start_time": "2023-09-22T10:21:49.900Z"
   },
   {
    "duration": 39,
    "start_time": "2023-09-22T10:21:50.373Z"
   },
   {
    "duration": 395,
    "start_time": "2023-09-22T10:21:50.724Z"
   },
   {
    "duration": 56,
    "start_time": "2023-09-22T10:21:59.873Z"
   },
   {
    "duration": 40,
    "start_time": "2023-09-22T10:22:00.474Z"
   },
   {
    "duration": 384,
    "start_time": "2023-09-22T10:22:00.991Z"
   },
   {
    "duration": 61,
    "start_time": "2023-09-22T10:23:20.179Z"
   },
   {
    "duration": 100,
    "start_time": "2023-09-22T10:23:20.525Z"
   },
   {
    "duration": 11,
    "start_time": "2023-09-22T10:23:22.163Z"
   },
   {
    "duration": 213,
    "start_time": "2023-09-22T10:23:42.118Z"
   },
   {
    "duration": 94,
    "start_time": "2023-09-22T10:23:58.791Z"
   },
   {
    "duration": 68,
    "start_time": "2023-09-22T10:24:07.935Z"
   },
   {
    "duration": 107,
    "start_time": "2023-09-22T10:24:08.364Z"
   },
   {
    "duration": 2223,
    "start_time": "2023-09-22T10:24:33.533Z"
   },
   {
    "duration": 1333,
    "start_time": "2023-09-22T10:24:35.758Z"
   },
   {
    "duration": 1063,
    "start_time": "2023-09-22T10:24:37.093Z"
   },
   {
    "duration": 17,
    "start_time": "2023-09-22T10:24:38.158Z"
   },
   {
    "duration": 121,
    "start_time": "2023-09-22T10:24:38.177Z"
   },
   {
    "duration": 415,
    "start_time": "2023-09-22T10:24:38.299Z"
   },
   {
    "duration": 99,
    "start_time": "2023-09-22T10:24:38.715Z"
   },
   {
    "duration": 410,
    "start_time": "2023-09-22T10:24:38.816Z"
   },
   {
    "duration": 88,
    "start_time": "2023-09-22T10:24:39.228Z"
   },
   {
    "duration": 10,
    "start_time": "2023-09-22T10:24:39.318Z"
   },
   {
    "duration": 724,
    "start_time": "2023-09-22T10:24:39.330Z"
   },
   {
    "duration": 28,
    "start_time": "2023-09-22T10:24:40.055Z"
   },
   {
    "duration": 19,
    "start_time": "2023-09-22T10:24:40.084Z"
   },
   {
    "duration": 178,
    "start_time": "2023-09-22T10:24:40.106Z"
   },
   {
    "duration": 91,
    "start_time": "2023-09-22T10:24:40.286Z"
   },
   {
    "duration": 73,
    "start_time": "2023-09-22T10:24:40.379Z"
   },
   {
    "duration": 166,
    "start_time": "2023-09-22T10:24:40.453Z"
   },
   {
    "duration": 110,
    "start_time": "2023-09-22T10:24:40.621Z"
   },
   {
    "duration": 84,
    "start_time": "2023-09-22T10:24:40.733Z"
   },
   {
    "duration": 7,
    "start_time": "2023-09-22T10:24:40.818Z"
   },
   {
    "duration": 139,
    "start_time": "2023-09-22T10:24:40.826Z"
   },
   {
    "duration": 131,
    "start_time": "2023-09-22T10:24:40.967Z"
   },
   {
    "duration": 131,
    "start_time": "2023-09-22T10:24:41.100Z"
   },
   {
    "duration": 61,
    "start_time": "2023-09-22T10:24:41.233Z"
   },
   {
    "duration": 53,
    "start_time": "2023-09-22T10:24:41.296Z"
   },
   {
    "duration": 395,
    "start_time": "2023-09-22T10:24:41.351Z"
   },
   {
    "duration": 60,
    "start_time": "2023-09-22T10:24:41.748Z"
   },
   {
    "duration": 343,
    "start_time": "2023-09-22T10:24:41.810Z"
   },
   {
    "duration": 0,
    "start_time": "2023-09-22T10:24:42.155Z"
   },
   {
    "duration": 5,
    "start_time": "2023-09-22T10:25:36.198Z"
   },
   {
    "duration": 70,
    "start_time": "2023-09-22T10:26:18.784Z"
   },
   {
    "duration": 16,
    "start_time": "2023-09-22T10:26:19.142Z"
   },
   {
    "duration": 89,
    "start_time": "2023-09-22T10:26:19.938Z"
   },
   {
    "duration": 11,
    "start_time": "2023-09-22T10:26:23.694Z"
   },
   {
    "duration": 83,
    "start_time": "2023-09-22T10:44:03.388Z"
   },
   {
    "duration": 4,
    "start_time": "2023-09-22T10:44:53.240Z"
   },
   {
    "duration": 4,
    "start_time": "2023-09-22T10:44:59.619Z"
   },
   {
    "duration": 13,
    "start_time": "2023-09-22T10:48:11.994Z"
   },
   {
    "duration": 4,
    "start_time": "2023-09-22T10:48:36.156Z"
   },
   {
    "duration": 2279,
    "start_time": "2023-09-22T10:49:05.860Z"
   },
   {
    "duration": 2348,
    "start_time": "2023-09-22T10:49:08.142Z"
   },
   {
    "duration": 1582,
    "start_time": "2023-09-22T10:49:10.492Z"
   },
   {
    "duration": 22,
    "start_time": "2023-09-22T10:49:12.076Z"
   },
   {
    "duration": 155,
    "start_time": "2023-09-22T10:49:12.101Z"
   },
   {
    "duration": 448,
    "start_time": "2023-09-22T10:49:12.263Z"
   },
   {
    "duration": 108,
    "start_time": "2023-09-22T10:49:12.713Z"
   },
   {
    "duration": 516,
    "start_time": "2023-09-22T10:49:12.823Z"
   },
   {
    "duration": 90,
    "start_time": "2023-09-22T10:49:13.341Z"
   },
   {
    "duration": 14,
    "start_time": "2023-09-22T10:49:13.445Z"
   },
   {
    "duration": 800,
    "start_time": "2023-09-22T10:49:13.461Z"
   },
   {
    "duration": 34,
    "start_time": "2023-09-22T10:49:14.263Z"
   },
   {
    "duration": 30,
    "start_time": "2023-09-22T10:49:14.300Z"
   },
   {
    "duration": 242,
    "start_time": "2023-09-22T10:49:14.333Z"
   },
   {
    "duration": 119,
    "start_time": "2023-09-22T10:49:14.578Z"
   },
   {
    "duration": 25,
    "start_time": "2023-09-22T10:49:14.698Z"
   },
   {
    "duration": 129,
    "start_time": "2023-09-22T10:49:14.725Z"
   },
   {
    "duration": 103,
    "start_time": "2023-09-22T10:49:14.863Z"
   },
   {
    "duration": 105,
    "start_time": "2023-09-22T10:49:14.968Z"
   },
   {
    "duration": 25,
    "start_time": "2023-09-22T10:49:15.075Z"
   },
   {
    "duration": 151,
    "start_time": "2023-09-22T10:49:15.102Z"
   },
   {
    "duration": 139,
    "start_time": "2023-09-22T10:49:15.259Z"
   },
   {
    "duration": 130,
    "start_time": "2023-09-22T10:49:15.400Z"
   },
   {
    "duration": 64,
    "start_time": "2023-09-22T10:49:15.531Z"
   },
   {
    "duration": 52,
    "start_time": "2023-09-22T10:49:15.596Z"
   },
   {
    "duration": 427,
    "start_time": "2023-09-22T10:49:15.650Z"
   },
   {
    "duration": 69,
    "start_time": "2023-09-22T10:49:16.078Z"
   },
   {
    "duration": 17,
    "start_time": "2023-09-22T10:49:16.149Z"
   },
   {
    "duration": 118,
    "start_time": "2023-09-22T10:49:16.168Z"
   },
   {
    "duration": 12,
    "start_time": "2023-09-22T10:49:16.287Z"
   },
   {
    "duration": 14,
    "start_time": "2023-09-22T10:49:16.301Z"
   },
   {
    "duration": 56,
    "start_time": "2023-09-22T10:49:33.363Z"
   },
   {
    "duration": 2367,
    "start_time": "2023-09-22T10:49:55.257Z"
   },
   {
    "duration": 2787,
    "start_time": "2023-09-22T10:49:57.627Z"
   },
   {
    "duration": 1508,
    "start_time": "2023-09-22T10:50:00.416Z"
   },
   {
    "duration": 23,
    "start_time": "2023-09-22T10:50:01.926Z"
   },
   {
    "duration": 1020,
    "start_time": "2023-09-22T10:50:01.957Z"
   },
   {
    "duration": 448,
    "start_time": "2023-09-22T10:50:02.979Z"
   },
   {
    "duration": 109,
    "start_time": "2023-09-22T10:50:03.429Z"
   },
   {
    "duration": 494,
    "start_time": "2023-09-22T10:50:03.540Z"
   },
   {
    "duration": 78,
    "start_time": "2023-09-22T10:50:04.035Z"
   },
   {
    "duration": 8,
    "start_time": "2023-09-22T10:50:04.115Z"
   },
   {
    "duration": 789,
    "start_time": "2023-09-22T10:50:04.125Z"
   },
   {
    "duration": 39,
    "start_time": "2023-09-22T10:50:04.915Z"
   },
   {
    "duration": 61,
    "start_time": "2023-09-22T10:50:04.957Z"
   },
   {
    "duration": 239,
    "start_time": "2023-09-22T10:50:05.021Z"
   },
   {
    "duration": 97,
    "start_time": "2023-09-22T10:50:05.262Z"
   },
   {
    "duration": 30,
    "start_time": "2023-09-22T10:50:05.361Z"
   },
   {
    "duration": 135,
    "start_time": "2023-09-22T10:50:05.393Z"
   },
   {
    "duration": 145,
    "start_time": "2023-09-22T10:50:05.530Z"
   },
   {
    "duration": 90,
    "start_time": "2023-09-22T10:50:05.677Z"
   },
   {
    "duration": 59,
    "start_time": "2023-09-22T10:50:05.769Z"
   },
   {
    "duration": 174,
    "start_time": "2023-09-22T10:50:05.829Z"
   },
   {
    "duration": 151,
    "start_time": "2023-09-22T10:50:06.005Z"
   },
   {
    "duration": 123,
    "start_time": "2023-09-22T10:50:06.158Z"
   },
   {
    "duration": 75,
    "start_time": "2023-09-22T10:50:06.283Z"
   },
   {
    "duration": 43,
    "start_time": "2023-09-22T10:50:06.360Z"
   },
   {
    "duration": 395,
    "start_time": "2023-09-22T10:50:06.405Z"
   },
   {
    "duration": 75,
    "start_time": "2023-09-22T10:50:06.802Z"
   },
   {
    "duration": 15,
    "start_time": "2023-09-22T10:50:06.879Z"
   },
   {
    "duration": 144,
    "start_time": "2023-09-22T10:50:06.896Z"
   },
   {
    "duration": 18,
    "start_time": "2023-09-22T10:50:07.049Z"
   },
   {
    "duration": 43,
    "start_time": "2023-09-22T10:50:07.069Z"
   },
   {
    "duration": 242,
    "start_time": "2023-09-22T10:50:07.114Z"
   },
   {
    "duration": 0,
    "start_time": "2023-09-22T10:50:07.358Z"
   },
   {
    "duration": 2256,
    "start_time": "2023-09-22T10:51:36.781Z"
   },
   {
    "duration": 1249,
    "start_time": "2023-09-22T10:51:39.040Z"
   },
   {
    "duration": 1099,
    "start_time": "2023-09-22T10:51:40.290Z"
   },
   {
    "duration": 17,
    "start_time": "2023-09-22T10:51:41.390Z"
   },
   {
    "duration": 122,
    "start_time": "2023-09-22T10:51:41.410Z"
   },
   {
    "duration": 430,
    "start_time": "2023-09-22T10:51:41.533Z"
   },
   {
    "duration": 97,
    "start_time": "2023-09-22T10:51:41.965Z"
   },
   {
    "duration": 460,
    "start_time": "2023-09-22T10:51:42.064Z"
   },
   {
    "duration": 82,
    "start_time": "2023-09-22T10:51:42.525Z"
   },
   {
    "duration": 9,
    "start_time": "2023-09-22T10:51:42.608Z"
   },
   {
    "duration": 689,
    "start_time": "2023-09-22T10:51:42.618Z"
   },
   {
    "duration": 26,
    "start_time": "2023-09-22T10:51:43.309Z"
   },
   {
    "duration": 9,
    "start_time": "2023-09-22T10:51:43.351Z"
   },
   {
    "duration": 185,
    "start_time": "2023-09-22T10:51:43.363Z"
   },
   {
    "duration": 97,
    "start_time": "2023-09-22T10:51:43.552Z"
   },
   {
    "duration": 12,
    "start_time": "2023-09-22T10:51:43.650Z"
   },
   {
    "duration": 176,
    "start_time": "2023-09-22T10:51:43.664Z"
   },
   {
    "duration": 117,
    "start_time": "2023-09-22T10:51:43.843Z"
   },
   {
    "duration": 96,
    "start_time": "2023-09-22T10:51:43.962Z"
   },
   {
    "duration": 29,
    "start_time": "2023-09-22T10:51:44.060Z"
   },
   {
    "duration": 139,
    "start_time": "2023-09-22T10:51:44.090Z"
   },
   {
    "duration": 137,
    "start_time": "2023-09-22T10:51:44.231Z"
   },
   {
    "duration": 158,
    "start_time": "2023-09-22T10:51:44.369Z"
   },
   {
    "duration": 69,
    "start_time": "2023-09-22T10:51:44.529Z"
   },
   {
    "duration": 61,
    "start_time": "2023-09-22T10:51:44.600Z"
   },
   {
    "duration": 402,
    "start_time": "2023-09-22T10:51:44.662Z"
   },
   {
    "duration": 59,
    "start_time": "2023-09-22T10:51:45.066Z"
   },
   {
    "duration": 29,
    "start_time": "2023-09-22T10:51:45.127Z"
   },
   {
    "duration": 31,
    "start_time": "2023-09-22T10:51:45.157Z"
   },
   {
    "duration": 18,
    "start_time": "2023-09-22T10:51:45.189Z"
   },
   {
    "duration": 49,
    "start_time": "2023-09-22T10:51:45.208Z"
   },
   {
    "duration": 2294,
    "start_time": "2023-09-22T10:55:31.153Z"
   },
   {
    "duration": 2201,
    "start_time": "2023-09-22T10:55:33.449Z"
   },
   {
    "duration": 1318,
    "start_time": "2023-09-22T10:55:35.652Z"
   },
   {
    "duration": 18,
    "start_time": "2023-09-22T10:55:36.972Z"
   },
   {
    "duration": 122,
    "start_time": "2023-09-22T10:55:36.992Z"
   },
   {
    "duration": 382,
    "start_time": "2023-09-22T10:55:37.115Z"
   },
   {
    "duration": 93,
    "start_time": "2023-09-22T10:55:37.499Z"
   },
   {
    "duration": 403,
    "start_time": "2023-09-22T10:55:37.593Z"
   },
   {
    "duration": 84,
    "start_time": "2023-09-22T10:55:37.998Z"
   },
   {
    "duration": 9,
    "start_time": "2023-09-22T10:55:38.083Z"
   },
   {
    "duration": 616,
    "start_time": "2023-09-22T10:55:38.093Z"
   },
   {
    "duration": 34,
    "start_time": "2023-09-22T10:55:38.710Z"
   },
   {
    "duration": 21,
    "start_time": "2023-09-22T10:55:38.746Z"
   },
   {
    "duration": 169,
    "start_time": "2023-09-22T10:55:38.770Z"
   },
   {
    "duration": 85,
    "start_time": "2023-09-22T10:55:38.940Z"
   },
   {
    "duration": 25,
    "start_time": "2023-09-22T10:55:39.027Z"
   },
   {
    "duration": 106,
    "start_time": "2023-09-22T10:55:39.055Z"
   },
   {
    "duration": 117,
    "start_time": "2023-09-22T10:55:39.163Z"
   },
   {
    "duration": 88,
    "start_time": "2023-09-22T10:55:39.282Z"
   },
   {
    "duration": 19,
    "start_time": "2023-09-22T10:55:39.372Z"
   },
   {
    "duration": 121,
    "start_time": "2023-09-22T10:55:39.393Z"
   },
   {
    "duration": 133,
    "start_time": "2023-09-22T10:55:39.516Z"
   },
   {
    "duration": 125,
    "start_time": "2023-09-22T10:55:39.651Z"
   },
   {
    "duration": 66,
    "start_time": "2023-09-22T10:55:39.778Z"
   },
   {
    "duration": 40,
    "start_time": "2023-09-22T10:55:39.846Z"
   },
   {
    "duration": 390,
    "start_time": "2023-09-22T10:55:39.888Z"
   },
   {
    "duration": 67,
    "start_time": "2023-09-22T10:55:40.280Z"
   },
   {
    "duration": 15,
    "start_time": "2023-09-22T10:55:40.349Z"
   },
   {
    "duration": 13,
    "start_time": "2023-09-22T10:55:40.366Z"
   },
   {
    "duration": 21,
    "start_time": "2023-09-22T10:55:40.381Z"
   },
   {
    "duration": 31,
    "start_time": "2023-09-22T10:55:40.404Z"
   },
   {
    "duration": 79,
    "start_time": "2023-09-22T10:55:40.437Z"
   },
   {
    "duration": 2115,
    "start_time": "2023-09-22T10:56:24.639Z"
   },
   {
    "duration": 1356,
    "start_time": "2023-09-22T10:56:31.340Z"
   },
   {
    "duration": 19,
    "start_time": "2023-09-22T10:56:32.698Z"
   },
   {
    "duration": 143,
    "start_time": "2023-09-22T10:56:32.719Z"
   },
   {
    "duration": 396,
    "start_time": "2023-09-22T10:56:32.865Z"
   },
   {
    "duration": 100,
    "start_time": "2023-09-22T10:56:33.264Z"
   },
   {
    "duration": 477,
    "start_time": "2023-09-22T10:56:33.366Z"
   },
   {
    "duration": 74,
    "start_time": "2023-09-22T10:56:33.845Z"
   },
   {
    "duration": 9,
    "start_time": "2023-09-22T10:56:33.921Z"
   },
   {
    "duration": 650,
    "start_time": "2023-09-22T10:56:33.944Z"
   },
   {
    "duration": 27,
    "start_time": "2023-09-22T10:56:34.596Z"
   },
   {
    "duration": 33,
    "start_time": "2023-09-22T10:56:34.624Z"
   },
   {
    "duration": 206,
    "start_time": "2023-09-22T10:56:34.659Z"
   },
   {
    "duration": 85,
    "start_time": "2023-09-22T10:56:34.867Z"
   },
   {
    "duration": 90,
    "start_time": "2023-09-22T10:56:34.953Z"
   },
   {
    "duration": 116,
    "start_time": "2023-09-22T10:56:35.045Z"
   },
   {
    "duration": 123,
    "start_time": "2023-09-22T10:56:35.162Z"
   },
   {
    "duration": 83,
    "start_time": "2023-09-22T10:56:35.287Z"
   },
   {
    "duration": 39,
    "start_time": "2023-09-22T10:56:35.372Z"
   },
   {
    "duration": 162,
    "start_time": "2023-09-22T10:56:35.413Z"
   },
   {
    "duration": 136,
    "start_time": "2023-09-22T10:56:35.577Z"
   },
   {
    "duration": 122,
    "start_time": "2023-09-22T10:56:35.715Z"
   },
   {
    "duration": 55,
    "start_time": "2023-09-22T10:56:35.843Z"
   },
   {
    "duration": 74,
    "start_time": "2023-09-22T10:56:35.899Z"
   },
   {
    "duration": 482,
    "start_time": "2023-09-22T10:56:35.975Z"
   },
   {
    "duration": 57,
    "start_time": "2023-09-22T10:56:36.459Z"
   },
   {
    "duration": 33,
    "start_time": "2023-09-22T10:56:36.518Z"
   },
   {
    "duration": 53,
    "start_time": "2023-09-22T10:56:36.553Z"
   },
   {
    "duration": 39,
    "start_time": "2023-09-22T10:56:36.608Z"
   },
   {
    "duration": 55,
    "start_time": "2023-09-22T10:56:36.649Z"
   },
   {
    "duration": 52,
    "start_time": "2023-09-22T10:56:36.706Z"
   },
   {
    "duration": 2153,
    "start_time": "2023-09-22T10:57:35.401Z"
   },
   {
    "duration": 2428,
    "start_time": "2023-09-22T10:57:37.557Z"
   },
   {
    "duration": 1325,
    "start_time": "2023-09-22T10:57:39.986Z"
   },
   {
    "duration": 19,
    "start_time": "2023-09-22T10:57:41.312Z"
   },
   {
    "duration": 124,
    "start_time": "2023-09-22T10:57:41.333Z"
   },
   {
    "duration": 399,
    "start_time": "2023-09-22T10:57:41.459Z"
   },
   {
    "duration": 103,
    "start_time": "2023-09-22T10:57:41.860Z"
   },
   {
    "duration": 459,
    "start_time": "2023-09-22T10:57:41.964Z"
   },
   {
    "duration": 84,
    "start_time": "2023-09-22T10:57:42.425Z"
   },
   {
    "duration": 10,
    "start_time": "2023-09-22T10:57:42.511Z"
   },
   {
    "duration": 649,
    "start_time": "2023-09-22T10:57:42.523Z"
   },
   {
    "duration": 27,
    "start_time": "2023-09-22T10:57:43.174Z"
   },
   {
    "duration": 53,
    "start_time": "2023-09-22T10:57:43.203Z"
   },
   {
    "duration": 182,
    "start_time": "2023-09-22T10:57:43.258Z"
   },
   {
    "duration": 85,
    "start_time": "2023-09-22T10:57:43.442Z"
   },
   {
    "duration": 26,
    "start_time": "2023-09-22T10:57:43.529Z"
   },
   {
    "duration": 121,
    "start_time": "2023-09-22T10:57:43.557Z"
   },
   {
    "duration": 14,
    "start_time": "2023-09-22T10:57:43.680Z"
   },
   {
    "duration": 139,
    "start_time": "2023-09-22T10:57:43.696Z"
   },
   {
    "duration": 29,
    "start_time": "2023-09-22T10:57:43.836Z"
   },
   {
    "duration": 130,
    "start_time": "2023-09-22T10:57:43.867Z"
   },
   {
    "duration": 130,
    "start_time": "2023-09-22T10:57:43.998Z"
   },
   {
    "duration": 124,
    "start_time": "2023-09-22T10:57:44.130Z"
   },
   {
    "duration": 61,
    "start_time": "2023-09-22T10:57:44.255Z"
   },
   {
    "duration": 58,
    "start_time": "2023-09-22T10:57:44.318Z"
   },
   {
    "duration": 479,
    "start_time": "2023-09-22T10:57:44.378Z"
   },
   {
    "duration": 57,
    "start_time": "2023-09-22T10:57:44.859Z"
   },
   {
    "duration": 31,
    "start_time": "2023-09-22T10:57:44.918Z"
   },
   {
    "duration": 63,
    "start_time": "2023-09-22T10:57:44.951Z"
   },
   {
    "duration": 30,
    "start_time": "2023-09-22T10:57:45.015Z"
   },
   {
    "duration": 39,
    "start_time": "2023-09-22T10:57:45.047Z"
   },
   {
    "duration": 20,
    "start_time": "2023-09-22T10:57:45.088Z"
   },
   {
    "duration": 2186,
    "start_time": "2023-09-22T10:58:31.080Z"
   },
   {
    "duration": 2369,
    "start_time": "2023-09-22T10:58:33.269Z"
   },
   {
    "duration": 1294,
    "start_time": "2023-09-22T10:58:35.642Z"
   },
   {
    "duration": 17,
    "start_time": "2023-09-22T10:58:36.938Z"
   },
   {
    "duration": 132,
    "start_time": "2023-09-22T10:58:36.957Z"
   },
   {
    "duration": 383,
    "start_time": "2023-09-22T10:58:37.091Z"
   },
   {
    "duration": 97,
    "start_time": "2023-09-22T10:58:37.475Z"
   },
   {
    "duration": 422,
    "start_time": "2023-09-22T10:58:37.574Z"
   },
   {
    "duration": 78,
    "start_time": "2023-09-22T10:58:37.997Z"
   },
   {
    "duration": 8,
    "start_time": "2023-09-22T10:58:38.077Z"
   },
   {
    "duration": 590,
    "start_time": "2023-09-22T10:58:38.087Z"
   },
   {
    "duration": 26,
    "start_time": "2023-09-22T10:58:38.678Z"
   },
   {
    "duration": 8,
    "start_time": "2023-09-22T10:58:38.707Z"
   },
   {
    "duration": 181,
    "start_time": "2023-09-22T10:58:38.717Z"
   },
   {
    "duration": 90,
    "start_time": "2023-09-22T10:58:38.900Z"
   },
   {
    "duration": 16,
    "start_time": "2023-09-22T10:58:38.992Z"
   },
   {
    "duration": 114,
    "start_time": "2023-09-22T10:58:39.009Z"
   },
   {
    "duration": 3,
    "start_time": "2023-09-22T10:58:39.125Z"
   },
   {
    "duration": 168,
    "start_time": "2023-09-22T10:58:39.129Z"
   },
   {
    "duration": 8,
    "start_time": "2023-09-22T10:58:39.299Z"
   },
   {
    "duration": 129,
    "start_time": "2023-09-22T10:58:39.308Z"
   },
   {
    "duration": 123,
    "start_time": "2023-09-22T10:58:39.439Z"
   },
   {
    "duration": 122,
    "start_time": "2023-09-22T10:58:39.563Z"
   },
   {
    "duration": 63,
    "start_time": "2023-09-22T10:58:39.687Z"
   },
   {
    "duration": 39,
    "start_time": "2023-09-22T10:58:39.751Z"
   },
   {
    "duration": 444,
    "start_time": "2023-09-22T10:58:39.791Z"
   },
   {
    "duration": 64,
    "start_time": "2023-09-22T10:58:40.236Z"
   },
   {
    "duration": 15,
    "start_time": "2023-09-22T10:58:40.301Z"
   },
   {
    "duration": 19,
    "start_time": "2023-09-22T10:58:40.317Z"
   },
   {
    "duration": 13,
    "start_time": "2023-09-22T10:58:40.338Z"
   },
   {
    "duration": 20,
    "start_time": "2023-09-22T10:58:40.352Z"
   },
   {
    "duration": 21,
    "start_time": "2023-09-22T10:58:40.374Z"
   },
   {
    "duration": 44,
    "start_time": "2023-09-22T10:59:31.700Z"
   },
   {
    "duration": 2164,
    "start_time": "2023-09-22T10:59:37.210Z"
   },
   {
    "duration": 1952,
    "start_time": "2023-09-22T10:59:39.377Z"
   },
   {
    "duration": 1306,
    "start_time": "2023-09-22T10:59:41.331Z"
   },
   {
    "duration": 16,
    "start_time": "2023-09-22T10:59:42.639Z"
   },
   {
    "duration": 123,
    "start_time": "2023-09-22T10:59:42.657Z"
   },
   {
    "duration": 392,
    "start_time": "2023-09-22T10:59:42.781Z"
   },
   {
    "duration": 99,
    "start_time": "2023-09-22T10:59:43.174Z"
   },
   {
    "duration": 419,
    "start_time": "2023-09-22T10:59:43.275Z"
   },
   {
    "duration": 94,
    "start_time": "2023-09-22T10:59:43.696Z"
   },
   {
    "duration": 10,
    "start_time": "2023-09-22T10:59:43.794Z"
   },
   {
    "duration": 675,
    "start_time": "2023-09-22T10:59:43.805Z"
   },
   {
    "duration": 30,
    "start_time": "2023-09-22T10:59:44.481Z"
   },
   {
    "duration": 20,
    "start_time": "2023-09-22T10:59:44.513Z"
   },
   {
    "duration": 167,
    "start_time": "2023-09-22T10:59:44.534Z"
   },
   {
    "duration": 81,
    "start_time": "2023-09-22T10:59:44.702Z"
   },
   {
    "duration": 19,
    "start_time": "2023-09-22T10:59:44.784Z"
   },
   {
    "duration": 93,
    "start_time": "2023-09-22T10:59:44.805Z"
   },
   {
    "duration": 26,
    "start_time": "2023-09-22T10:59:44.900Z"
   },
   {
    "duration": 110,
    "start_time": "2023-09-22T10:59:44.928Z"
   },
   {
    "duration": 58,
    "start_time": "2023-09-22T10:59:45.040Z"
   },
   {
    "duration": 153,
    "start_time": "2023-09-22T10:59:45.100Z"
   },
   {
    "duration": 125,
    "start_time": "2023-09-22T10:59:45.255Z"
   },
   {
    "duration": 125,
    "start_time": "2023-09-22T10:59:45.382Z"
   },
   {
    "duration": 71,
    "start_time": "2023-09-22T10:59:45.508Z"
   },
   {
    "duration": 39,
    "start_time": "2023-09-22T10:59:45.581Z"
   },
   {
    "duration": 447,
    "start_time": "2023-09-22T10:59:45.621Z"
   },
   {
    "duration": 60,
    "start_time": "2023-09-22T10:59:46.070Z"
   },
   {
    "duration": 14,
    "start_time": "2023-09-22T10:59:46.143Z"
   },
   {
    "duration": 12,
    "start_time": "2023-09-22T10:59:46.159Z"
   },
   {
    "duration": 22,
    "start_time": "2023-09-22T10:59:46.173Z"
   },
   {
    "duration": 28,
    "start_time": "2023-09-22T10:59:46.196Z"
   },
   {
    "duration": 32,
    "start_time": "2023-09-22T10:59:46.226Z"
   },
   {
    "duration": 2353,
    "start_time": "2023-09-22T11:01:13.787Z"
   },
   {
    "duration": 2266,
    "start_time": "2023-09-22T11:01:16.143Z"
   },
   {
    "duration": 1454,
    "start_time": "2023-09-22T11:01:18.411Z"
   },
   {
    "duration": 18,
    "start_time": "2023-09-22T11:01:19.867Z"
   },
   {
    "duration": 116,
    "start_time": "2023-09-22T11:01:19.887Z"
   },
   {
    "duration": 435,
    "start_time": "2023-09-22T11:01:20.004Z"
   },
   {
    "duration": 104,
    "start_time": "2023-09-22T11:01:20.443Z"
   },
   {
    "duration": 470,
    "start_time": "2023-09-22T11:01:20.548Z"
   },
   {
    "duration": 94,
    "start_time": "2023-09-22T11:01:21.020Z"
   },
   {
    "duration": 10,
    "start_time": "2023-09-22T11:01:21.115Z"
   },
   {
    "duration": 706,
    "start_time": "2023-09-22T11:01:21.127Z"
   },
   {
    "duration": 39,
    "start_time": "2023-09-22T11:01:21.835Z"
   },
   {
    "duration": 8,
    "start_time": "2023-09-22T11:01:21.875Z"
   },
   {
    "duration": 182,
    "start_time": "2023-09-22T11:01:21.885Z"
   },
   {
    "duration": 94,
    "start_time": "2023-09-22T11:01:22.068Z"
   },
   {
    "duration": 24,
    "start_time": "2023-09-22T11:01:22.163Z"
   },
   {
    "duration": 115,
    "start_time": "2023-09-22T11:01:22.189Z"
   },
   {
    "duration": 4,
    "start_time": "2023-09-22T11:01:22.305Z"
   },
   {
    "duration": 119,
    "start_time": "2023-09-22T11:01:22.310Z"
   },
   {
    "duration": 28,
    "start_time": "2023-09-22T11:01:22.430Z"
   },
   {
    "duration": 107,
    "start_time": "2023-09-22T11:01:22.460Z"
   },
   {
    "duration": 146,
    "start_time": "2023-09-22T11:01:22.568Z"
   },
   {
    "duration": 142,
    "start_time": "2023-09-22T11:01:22.716Z"
   },
   {
    "duration": 61,
    "start_time": "2023-09-22T11:01:22.859Z"
   },
   {
    "duration": 127,
    "start_time": "2023-09-22T11:01:22.922Z"
   },
   {
    "duration": 482,
    "start_time": "2023-09-22T11:01:23.055Z"
   },
   {
    "duration": 68,
    "start_time": "2023-09-22T11:01:23.543Z"
   },
   {
    "duration": 16,
    "start_time": "2023-09-22T11:01:23.613Z"
   },
   {
    "duration": 8,
    "start_time": "2023-09-22T11:01:23.645Z"
   },
   {
    "duration": 35,
    "start_time": "2023-09-22T11:01:23.657Z"
   },
   {
    "duration": 16,
    "start_time": "2023-09-22T11:01:23.694Z"
   },
   {
    "duration": 15,
    "start_time": "2023-09-22T11:01:23.713Z"
   },
   {
    "duration": 11,
    "start_time": "2023-09-22T11:01:23.730Z"
   },
   {
    "duration": 21,
    "start_time": "2023-09-22T11:01:23.743Z"
   },
   {
    "duration": 108,
    "start_time": "2023-09-22T11:03:12.356Z"
   },
   {
    "duration": 17,
    "start_time": "2023-09-22T11:03:12.728Z"
   },
   {
    "duration": 3,
    "start_time": "2023-09-22T11:03:13.058Z"
   },
   {
    "duration": 2285,
    "start_time": "2023-09-22T11:03:33.113Z"
   },
   {
    "duration": 1253,
    "start_time": "2023-09-22T11:03:35.400Z"
   },
   {
    "duration": 1100,
    "start_time": "2023-09-22T11:03:36.659Z"
   },
   {
    "duration": 17,
    "start_time": "2023-09-22T11:03:37.761Z"
   },
   {
    "duration": 121,
    "start_time": "2023-09-22T11:03:37.780Z"
   },
   {
    "duration": 417,
    "start_time": "2023-09-22T11:03:37.903Z"
   },
   {
    "duration": 96,
    "start_time": "2023-09-22T11:03:38.321Z"
   },
   {
    "duration": 446,
    "start_time": "2023-09-22T11:03:38.418Z"
   },
   {
    "duration": 92,
    "start_time": "2023-09-22T11:03:38.865Z"
   },
   {
    "duration": 8,
    "start_time": "2023-09-22T11:03:38.959Z"
   },
   {
    "duration": 695,
    "start_time": "2023-09-22T11:03:38.969Z"
   },
   {
    "duration": 26,
    "start_time": "2023-09-22T11:03:39.666Z"
   },
   {
    "duration": 29,
    "start_time": "2023-09-22T11:03:39.694Z"
   },
   {
    "duration": 184,
    "start_time": "2023-09-22T11:03:39.725Z"
   },
   {
    "duration": 90,
    "start_time": "2023-09-22T11:03:39.911Z"
   },
   {
    "duration": 54,
    "start_time": "2023-09-22T11:03:40.003Z"
   },
   {
    "duration": 122,
    "start_time": "2023-09-22T11:03:40.059Z"
   },
   {
    "duration": 4,
    "start_time": "2023-09-22T11:03:40.183Z"
   },
   {
    "duration": 119,
    "start_time": "2023-09-22T11:03:40.188Z"
   },
   {
    "duration": 8,
    "start_time": "2023-09-22T11:03:40.309Z"
   },
   {
    "duration": 106,
    "start_time": "2023-09-22T11:03:40.319Z"
   },
   {
    "duration": 148,
    "start_time": "2023-09-22T11:03:40.427Z"
   },
   {
    "duration": 131,
    "start_time": "2023-09-22T11:03:40.578Z"
   },
   {
    "duration": 69,
    "start_time": "2023-09-22T11:03:40.711Z"
   },
   {
    "duration": 39,
    "start_time": "2023-09-22T11:03:40.782Z"
   },
   {
    "duration": 491,
    "start_time": "2023-09-22T11:03:40.822Z"
   },
   {
    "duration": 66,
    "start_time": "2023-09-22T11:03:41.315Z"
   },
   {
    "duration": 15,
    "start_time": "2023-09-22T11:03:41.383Z"
   },
   {
    "duration": 143,
    "start_time": "2023-09-22T11:03:41.400Z"
   },
   {
    "duration": 11,
    "start_time": "2023-09-22T11:03:41.555Z"
   },
   {
    "duration": 10,
    "start_time": "2023-09-22T11:03:41.568Z"
   },
   {
    "duration": 25,
    "start_time": "2023-09-22T11:03:41.579Z"
   },
   {
    "duration": 49,
    "start_time": "2023-09-22T11:03:41.605Z"
   },
   {
    "duration": 17,
    "start_time": "2023-09-22T11:03:41.656Z"
   },
   {
    "duration": 177,
    "start_time": "2023-09-22T11:07:31.040Z"
   },
   {
    "duration": 2179,
    "start_time": "2023-09-22T11:08:00.653Z"
   },
   {
    "duration": 101,
    "start_time": "2023-09-22T11:08:18.306Z"
   },
   {
    "duration": 96,
    "start_time": "2023-09-22T11:08:35.824Z"
   },
   {
    "duration": 97,
    "start_time": "2023-09-22T11:08:42.614Z"
   },
   {
    "duration": 18,
    "start_time": "2023-09-22T11:08:59.639Z"
   },
   {
    "duration": 85,
    "start_time": "2023-09-22T11:12:29.456Z"
   },
   {
    "duration": 65,
    "start_time": "2023-09-22T11:13:08.696Z"
   },
   {
    "duration": 16,
    "start_time": "2023-09-22T11:13:09.702Z"
   },
   {
    "duration": 18,
    "start_time": "2023-09-22T11:13:22.683Z"
   },
   {
    "duration": 69,
    "start_time": "2023-09-22T11:15:07.090Z"
   },
   {
    "duration": 8,
    "start_time": "2023-09-22T11:15:07.542Z"
   },
   {
    "duration": 18,
    "start_time": "2023-09-22T11:15:08.007Z"
   },
   {
    "duration": 2,
    "start_time": "2023-09-22T11:15:08.925Z"
   },
   {
    "duration": 99,
    "start_time": "2023-09-22T11:17:11.877Z"
   },
   {
    "duration": 75,
    "start_time": "2023-09-22T11:17:13.900Z"
   },
   {
    "duration": 5,
    "start_time": "2023-09-22T11:17:14.446Z"
   },
   {
    "duration": 109,
    "start_time": "2023-09-22T11:17:15.679Z"
   },
   {
    "duration": 122,
    "start_time": "2023-09-22T11:17:17.263Z"
   },
   {
    "duration": 104,
    "start_time": "2023-09-22T11:17:17.809Z"
   },
   {
    "duration": 64,
    "start_time": "2023-09-22T11:17:18.260Z"
   },
   {
    "duration": 42,
    "start_time": "2023-09-22T11:17:18.727Z"
   },
   {
    "duration": 386,
    "start_time": "2023-09-22T11:17:19.293Z"
   },
   {
    "duration": 72,
    "start_time": "2023-09-22T11:17:19.681Z"
   },
   {
    "duration": 16,
    "start_time": "2023-09-22T11:17:20.163Z"
   },
   {
    "duration": 93,
    "start_time": "2023-09-22T11:17:20.567Z"
   },
   {
    "duration": 12,
    "start_time": "2023-09-22T11:17:21.581Z"
   },
   {
    "duration": 4,
    "start_time": "2023-09-22T11:17:21.813Z"
   },
   {
    "duration": 17,
    "start_time": "2023-09-22T11:17:22.138Z"
   },
   {
    "duration": 65,
    "start_time": "2023-09-22T11:17:22.549Z"
   },
   {
    "duration": 9,
    "start_time": "2023-09-22T11:17:23.007Z"
   },
   {
    "duration": 20,
    "start_time": "2023-09-22T11:17:23.464Z"
   },
   {
    "duration": 3,
    "start_time": "2023-09-22T11:17:24.017Z"
   },
   {
    "duration": 12,
    "start_time": "2023-09-22T11:18:19.463Z"
   },
   {
    "duration": 4247,
    "start_time": "2023-09-22T11:21:32.744Z"
   },
   {
    "duration": 395,
    "start_time": "2023-09-22T11:22:06.424Z"
   },
   {
    "duration": 18,
    "start_time": "2023-09-22T11:22:59.126Z"
   },
   {
    "duration": 205,
    "start_time": "2023-09-22T11:23:03.771Z"
   },
   {
    "duration": 260,
    "start_time": "2023-09-22T11:23:11.436Z"
   },
   {
    "duration": 258,
    "start_time": "2023-09-22T11:23:40.156Z"
   },
   {
    "duration": 6,
    "start_time": "2023-09-22T11:29:44.906Z"
   },
   {
    "duration": 10,
    "start_time": "2023-09-22T11:32:18.728Z"
   },
   {
    "duration": 6,
    "start_time": "2023-09-22T11:32:56.316Z"
   },
   {
    "duration": 3,
    "start_time": "2023-09-22T11:33:48.155Z"
   },
   {
    "duration": 18,
    "start_time": "2023-09-22T11:45:38.312Z"
   },
   {
    "duration": 47,
    "start_time": "2023-09-22T11:51:42.680Z"
   },
   {
    "duration": 2212,
    "start_time": "2023-09-22T11:51:46.674Z"
   },
   {
    "duration": 2778,
    "start_time": "2023-09-22T11:51:48.889Z"
   },
   {
    "duration": 1349,
    "start_time": "2023-09-22T11:51:51.668Z"
   },
   {
    "duration": 22,
    "start_time": "2023-09-22T11:51:53.018Z"
   },
   {
    "duration": 131,
    "start_time": "2023-09-22T11:51:53.042Z"
   },
   {
    "duration": 440,
    "start_time": "2023-09-22T11:51:53.174Z"
   },
   {
    "duration": 113,
    "start_time": "2023-09-22T11:51:53.616Z"
   },
   {
    "duration": 481,
    "start_time": "2023-09-22T11:51:53.731Z"
   },
   {
    "duration": 91,
    "start_time": "2023-09-22T11:51:54.214Z"
   },
   {
    "duration": 10,
    "start_time": "2023-09-22T11:51:54.307Z"
   },
   {
    "duration": 784,
    "start_time": "2023-09-22T11:51:54.319Z"
   },
   {
    "duration": 24,
    "start_time": "2023-09-22T11:51:55.105Z"
   },
   {
    "duration": 118,
    "start_time": "2023-09-22T11:51:55.131Z"
   },
   {
    "duration": 204,
    "start_time": "2023-09-22T11:51:55.251Z"
   },
   {
    "duration": 130,
    "start_time": "2023-09-22T11:51:55.457Z"
   },
   {
    "duration": 4,
    "start_time": "2023-09-22T11:51:55.588Z"
   },
   {
    "duration": 157,
    "start_time": "2023-09-22T11:51:55.593Z"
   },
   {
    "duration": 104,
    "start_time": "2023-09-22T11:51:55.752Z"
   },
   {
    "duration": 78,
    "start_time": "2023-09-22T11:51:55.857Z"
   },
   {
    "duration": 14,
    "start_time": "2023-09-22T11:51:55.944Z"
   },
   {
    "duration": 119,
    "start_time": "2023-09-22T11:51:55.959Z"
   },
   {
    "duration": 131,
    "start_time": "2023-09-22T11:51:56.080Z"
   },
   {
    "duration": 118,
    "start_time": "2023-09-22T11:51:56.213Z"
   },
   {
    "duration": 61,
    "start_time": "2023-09-22T11:51:56.333Z"
   },
   {
    "duration": 49,
    "start_time": "2023-09-22T11:51:56.396Z"
   },
   {
    "duration": 451,
    "start_time": "2023-09-22T11:51:56.447Z"
   },
   {
    "duration": 75,
    "start_time": "2023-09-22T11:51:56.900Z"
   },
   {
    "duration": 16,
    "start_time": "2023-09-22T11:51:56.978Z"
   },
   {
    "duration": 128,
    "start_time": "2023-09-22T11:51:56.996Z"
   },
   {
    "duration": 3,
    "start_time": "2023-09-22T11:51:57.126Z"
   },
   {
    "duration": 26,
    "start_time": "2023-09-22T11:51:57.131Z"
   },
   {
    "duration": 3571,
    "start_time": "2023-09-22T11:51:57.159Z"
   },
   {
    "duration": 271,
    "start_time": "2023-09-22T11:52:00.732Z"
   },
   {
    "duration": 3,
    "start_time": "2023-09-22T11:52:01.005Z"
   },
   {
    "duration": 72,
    "start_time": "2023-09-22T11:52:01.009Z"
   },
   {
    "duration": 50,
    "start_time": "2023-09-22T11:52:01.082Z"
   },
   {
    "duration": 109,
    "start_time": "2023-09-22T11:52:01.135Z"
   },
   {
    "duration": 66,
    "start_time": "2023-09-22T11:52:01.246Z"
   },
   {
    "duration": 47,
    "start_time": "2023-09-22T11:53:27.840Z"
   },
   {
    "duration": 2306,
    "start_time": "2023-09-22T11:53:32.403Z"
   },
   {
    "duration": 2536,
    "start_time": "2023-09-22T11:53:34.711Z"
   },
   {
    "duration": 1468,
    "start_time": "2023-09-22T11:53:37.250Z"
   },
   {
    "duration": 17,
    "start_time": "2023-09-22T11:53:38.720Z"
   },
   {
    "duration": 134,
    "start_time": "2023-09-22T11:53:38.739Z"
   },
   {
    "duration": 417,
    "start_time": "2023-09-22T11:53:38.874Z"
   },
   {
    "duration": 105,
    "start_time": "2023-09-22T11:53:39.293Z"
   },
   {
    "duration": 426,
    "start_time": "2023-09-22T11:53:39.399Z"
   },
   {
    "duration": 89,
    "start_time": "2023-09-22T11:53:39.827Z"
   },
   {
    "duration": 10,
    "start_time": "2023-09-22T11:53:39.919Z"
   },
   {
    "duration": 744,
    "start_time": "2023-09-22T11:53:39.930Z"
   },
   {
    "duration": 28,
    "start_time": "2023-09-22T11:53:40.676Z"
   },
   {
    "duration": 36,
    "start_time": "2023-09-22T11:53:40.706Z"
   },
   {
    "duration": 183,
    "start_time": "2023-09-22T11:53:40.743Z"
   },
   {
    "duration": 105,
    "start_time": "2023-09-22T11:53:40.927Z"
   },
   {
    "duration": 23,
    "start_time": "2023-09-22T11:53:41.034Z"
   },
   {
    "duration": 116,
    "start_time": "2023-09-22T11:53:41.059Z"
   },
   {
    "duration": 120,
    "start_time": "2023-09-22T11:53:41.177Z"
   },
   {
    "duration": 87,
    "start_time": "2023-09-22T11:53:41.300Z"
   },
   {
    "duration": 5,
    "start_time": "2023-09-22T11:53:41.389Z"
   },
   {
    "duration": 115,
    "start_time": "2023-09-22T11:53:41.396Z"
   },
   {
    "duration": 135,
    "start_time": "2023-09-22T11:53:41.513Z"
   },
   {
    "duration": 128,
    "start_time": "2023-09-22T11:53:41.649Z"
   },
   {
    "duration": 65,
    "start_time": "2023-09-22T11:53:41.779Z"
   },
   {
    "duration": 42,
    "start_time": "2023-09-22T11:53:41.846Z"
   },
   {
    "duration": 468,
    "start_time": "2023-09-22T11:53:41.890Z"
   },
   {
    "duration": 64,
    "start_time": "2023-09-22T11:53:42.359Z"
   },
   {
    "duration": 29,
    "start_time": "2023-09-22T11:53:42.427Z"
   },
   {
    "duration": 136,
    "start_time": "2023-09-22T11:53:42.458Z"
   },
   {
    "duration": 3,
    "start_time": "2023-09-22T11:53:42.595Z"
   },
   {
    "duration": 21,
    "start_time": "2023-09-22T11:53:42.600Z"
   },
   {
    "duration": 3433,
    "start_time": "2023-09-22T11:53:42.623Z"
   },
   {
    "duration": 281,
    "start_time": "2023-09-22T11:53:46.058Z"
   },
   {
    "duration": 3,
    "start_time": "2023-09-22T11:53:46.341Z"
   },
   {
    "duration": 50,
    "start_time": "2023-09-22T11:53:46.346Z"
   },
   {
    "duration": 28,
    "start_time": "2023-09-22T11:53:46.398Z"
   },
   {
    "duration": 30,
    "start_time": "2023-09-22T11:53:46.427Z"
   },
   {
    "duration": 31,
    "start_time": "2023-09-22T11:53:46.459Z"
   },
   {
    "duration": 44,
    "start_time": "2023-09-22T11:53:46.491Z"
   },
   {
    "duration": 119,
    "start_time": "2023-09-22T11:53:46.536Z"
   },
   {
    "duration": 0,
    "start_time": "2023-09-22T11:53:46.657Z"
   },
   {
    "duration": 0,
    "start_time": "2023-09-22T11:53:46.658Z"
   },
   {
    "duration": 4,
    "start_time": "2023-09-22T12:05:02.401Z"
   },
   {
    "duration": 3581,
    "start_time": "2023-09-22T12:05:02.407Z"
   },
   {
    "duration": 1284,
    "start_time": "2023-09-22T12:05:05.989Z"
   },
   {
    "duration": 16,
    "start_time": "2023-09-22T12:05:07.275Z"
   },
   {
    "duration": 103,
    "start_time": "2023-09-22T12:05:07.292Z"
   },
   {
    "duration": 389,
    "start_time": "2023-09-22T12:05:07.397Z"
   },
   {
    "duration": 97,
    "start_time": "2023-09-22T12:05:07.787Z"
   },
   {
    "duration": 426,
    "start_time": "2023-09-22T12:05:07.886Z"
   },
   {
    "duration": 84,
    "start_time": "2023-09-22T12:05:08.314Z"
   },
   {
    "duration": 9,
    "start_time": "2023-09-22T12:05:08.399Z"
   },
   {
    "duration": 662,
    "start_time": "2023-09-22T12:05:08.410Z"
   },
   {
    "duration": 32,
    "start_time": "2023-09-22T12:05:09.075Z"
   },
   {
    "duration": 145,
    "start_time": "2023-09-22T12:05:09.110Z"
   },
   {
    "duration": 0,
    "start_time": "2023-09-22T12:05:09.257Z"
   },
   {
    "duration": 0,
    "start_time": "2023-09-22T12:05:09.259Z"
   },
   {
    "duration": 0,
    "start_time": "2023-09-22T12:05:09.260Z"
   },
   {
    "duration": 0,
    "start_time": "2023-09-22T12:05:09.261Z"
   },
   {
    "duration": 0,
    "start_time": "2023-09-22T12:05:09.262Z"
   },
   {
    "duration": 0,
    "start_time": "2023-09-22T12:05:09.263Z"
   },
   {
    "duration": 0,
    "start_time": "2023-09-22T12:05:09.265Z"
   },
   {
    "duration": 0,
    "start_time": "2023-09-22T12:05:09.268Z"
   },
   {
    "duration": 0,
    "start_time": "2023-09-22T12:05:09.269Z"
   },
   {
    "duration": 0,
    "start_time": "2023-09-22T12:05:09.271Z"
   },
   {
    "duration": 0,
    "start_time": "2023-09-22T12:05:09.273Z"
   },
   {
    "duration": 0,
    "start_time": "2023-09-22T12:05:09.275Z"
   },
   {
    "duration": 0,
    "start_time": "2023-09-22T12:05:09.276Z"
   },
   {
    "duration": 0,
    "start_time": "2023-09-22T12:05:09.278Z"
   },
   {
    "duration": 0,
    "start_time": "2023-09-22T12:05:09.280Z"
   },
   {
    "duration": 0,
    "start_time": "2023-09-22T12:05:09.281Z"
   },
   {
    "duration": 0,
    "start_time": "2023-09-22T12:05:09.283Z"
   },
   {
    "duration": 0,
    "start_time": "2023-09-22T12:05:09.285Z"
   },
   {
    "duration": 0,
    "start_time": "2023-09-22T12:05:09.287Z"
   },
   {
    "duration": 0,
    "start_time": "2023-09-22T12:05:09.288Z"
   },
   {
    "duration": 0,
    "start_time": "2023-09-22T12:05:09.290Z"
   },
   {
    "duration": 0,
    "start_time": "2023-09-22T12:05:09.292Z"
   },
   {
    "duration": 0,
    "start_time": "2023-09-22T12:05:09.293Z"
   },
   {
    "duration": 0,
    "start_time": "2023-09-22T12:05:09.345Z"
   },
   {
    "duration": 0,
    "start_time": "2023-09-22T12:05:09.346Z"
   },
   {
    "duration": 0,
    "start_time": "2023-09-22T12:05:09.348Z"
   },
   {
    "duration": 0,
    "start_time": "2023-09-22T12:05:09.350Z"
   },
   {
    "duration": 0,
    "start_time": "2023-09-22T12:05:09.352Z"
   },
   {
    "duration": 0,
    "start_time": "2023-09-22T12:05:09.353Z"
   },
   {
    "duration": 5,
    "start_time": "2023-09-22T12:05:31.719Z"
   },
   {
    "duration": 4,
    "start_time": "2023-09-22T12:05:35.767Z"
   },
   {
    "duration": 1251,
    "start_time": "2023-09-22T12:05:35.772Z"
   },
   {
    "duration": 1015,
    "start_time": "2023-09-22T12:05:37.024Z"
   },
   {
    "duration": 20,
    "start_time": "2023-09-22T12:05:38.041Z"
   },
   {
    "duration": 122,
    "start_time": "2023-09-22T12:05:38.065Z"
   },
   {
    "duration": 403,
    "start_time": "2023-09-22T12:05:38.189Z"
   },
   {
    "duration": 96,
    "start_time": "2023-09-22T12:05:38.594Z"
   },
   {
    "duration": 431,
    "start_time": "2023-09-22T12:05:38.692Z"
   },
   {
    "duration": 96,
    "start_time": "2023-09-22T12:05:39.125Z"
   },
   {
    "duration": 21,
    "start_time": "2023-09-22T12:05:39.223Z"
   },
   {
    "duration": 613,
    "start_time": "2023-09-22T12:05:39.245Z"
   },
   {
    "duration": 27,
    "start_time": "2023-09-22T12:05:39.860Z"
   },
   {
    "duration": 44,
    "start_time": "2023-09-22T12:05:39.889Z"
   },
   {
    "duration": 191,
    "start_time": "2023-09-22T12:05:39.937Z"
   },
   {
    "duration": 88,
    "start_time": "2023-09-22T12:05:40.130Z"
   },
   {
    "duration": 24,
    "start_time": "2023-09-22T12:05:40.220Z"
   },
   {
    "duration": 109,
    "start_time": "2023-09-22T12:05:40.246Z"
   },
   {
    "duration": 101,
    "start_time": "2023-09-22T12:05:40.357Z"
   },
   {
    "duration": 90,
    "start_time": "2023-09-22T12:05:40.459Z"
   },
   {
    "duration": 52,
    "start_time": "2023-09-22T12:05:40.551Z"
   },
   {
    "duration": 153,
    "start_time": "2023-09-22T12:05:40.605Z"
   },
   {
    "duration": 138,
    "start_time": "2023-09-22T12:05:40.760Z"
   },
   {
    "duration": 130,
    "start_time": "2023-09-22T12:05:40.899Z"
   },
   {
    "duration": 63,
    "start_time": "2023-09-22T12:05:41.031Z"
   },
   {
    "duration": 49,
    "start_time": "2023-09-22T12:05:41.096Z"
   },
   {
    "duration": 482,
    "start_time": "2023-09-22T12:05:41.147Z"
   },
   {
    "duration": 69,
    "start_time": "2023-09-22T12:05:41.631Z"
   },
   {
    "duration": 14,
    "start_time": "2023-09-22T12:05:41.701Z"
   },
   {
    "duration": 129,
    "start_time": "2023-09-22T12:05:41.716Z"
   },
   {
    "duration": 3,
    "start_time": "2023-09-22T12:05:41.847Z"
   },
   {
    "duration": 43,
    "start_time": "2023-09-22T12:05:41.852Z"
   },
   {
    "duration": 3697,
    "start_time": "2023-09-22T12:05:41.897Z"
   },
   {
    "duration": 283,
    "start_time": "2023-09-22T12:05:45.596Z"
   },
   {
    "duration": 3,
    "start_time": "2023-09-22T12:05:45.882Z"
   },
   {
    "duration": 38,
    "start_time": "2023-09-22T12:05:45.887Z"
   },
   {
    "duration": 49,
    "start_time": "2023-09-22T12:05:45.927Z"
   },
   {
    "duration": 56,
    "start_time": "2023-09-22T12:05:45.977Z"
   },
   {
    "duration": 37,
    "start_time": "2023-09-22T12:05:46.035Z"
   },
   {
    "duration": 53,
    "start_time": "2023-09-22T12:05:46.073Z"
   },
   {
    "duration": 124,
    "start_time": "2023-09-22T12:05:46.128Z"
   },
   {
    "duration": 0,
    "start_time": "2023-09-22T12:05:46.254Z"
   },
   {
    "duration": 0,
    "start_time": "2023-09-22T12:05:46.255Z"
   },
   {
    "duration": 3,
    "start_time": "2023-09-22T12:15:08.395Z"
   },
   {
    "duration": 2055,
    "start_time": "2023-09-22T12:15:08.400Z"
   },
   {
    "duration": 1330,
    "start_time": "2023-09-22T12:15:10.457Z"
   },
   {
    "duration": 17,
    "start_time": "2023-09-22T12:15:11.789Z"
   },
   {
    "duration": 120,
    "start_time": "2023-09-22T12:15:11.808Z"
   },
   {
    "duration": 407,
    "start_time": "2023-09-22T12:15:11.929Z"
   },
   {
    "duration": 108,
    "start_time": "2023-09-22T12:15:12.338Z"
   },
   {
    "duration": 479,
    "start_time": "2023-09-22T12:15:12.448Z"
   },
   {
    "duration": 82,
    "start_time": "2023-09-22T12:15:12.929Z"
   },
   {
    "duration": 9,
    "start_time": "2023-09-22T12:15:13.012Z"
   },
   {
    "duration": 728,
    "start_time": "2023-09-22T12:15:13.023Z"
   },
   {
    "duration": 28,
    "start_time": "2023-09-22T12:15:13.753Z"
   },
   {
    "duration": 54,
    "start_time": "2023-09-22T12:15:13.784Z"
   },
   {
    "duration": 201,
    "start_time": "2023-09-22T12:15:13.842Z"
   },
   {
    "duration": 85,
    "start_time": "2023-09-22T12:15:14.045Z"
   },
   {
    "duration": 4,
    "start_time": "2023-09-22T12:15:14.143Z"
   },
   {
    "duration": 112,
    "start_time": "2023-09-22T12:15:14.149Z"
   },
   {
    "duration": 132,
    "start_time": "2023-09-22T12:15:14.262Z"
   },
   {
    "duration": 125,
    "start_time": "2023-09-22T12:15:14.397Z"
   },
   {
    "duration": 27,
    "start_time": "2023-09-22T12:15:14.524Z"
   },
   {
    "duration": 137,
    "start_time": "2023-09-22T12:15:14.553Z"
   },
   {
    "duration": 147,
    "start_time": "2023-09-22T12:15:14.693Z"
   },
   {
    "duration": 123,
    "start_time": "2023-09-22T12:15:14.844Z"
   },
   {
    "duration": 62,
    "start_time": "2023-09-22T12:15:14.969Z"
   },
   {
    "duration": 43,
    "start_time": "2023-09-22T12:15:15.043Z"
   },
   {
    "duration": 459,
    "start_time": "2023-09-22T12:15:15.088Z"
   },
   {
    "duration": 64,
    "start_time": "2023-09-22T12:15:15.549Z"
   },
   {
    "duration": 49,
    "start_time": "2023-09-22T12:15:15.615Z"
   },
   {
    "duration": 149,
    "start_time": "2023-09-22T12:15:15.666Z"
   },
   {
    "duration": 3,
    "start_time": "2023-09-22T12:15:15.818Z"
   },
   {
    "duration": 49,
    "start_time": "2023-09-22T12:15:15.823Z"
   },
   {
    "duration": 3683,
    "start_time": "2023-09-22T12:15:15.874Z"
   },
   {
    "duration": 305,
    "start_time": "2023-09-22T12:15:19.559Z"
   },
   {
    "duration": 4,
    "start_time": "2023-09-22T12:15:19.865Z"
   },
   {
    "duration": 13,
    "start_time": "2023-09-22T12:15:19.870Z"
   },
   {
    "duration": 51,
    "start_time": "2023-09-22T12:15:19.886Z"
   },
   {
    "duration": 19,
    "start_time": "2023-09-22T12:15:19.939Z"
   },
   {
    "duration": 20,
    "start_time": "2023-09-22T12:15:19.960Z"
   },
   {
    "duration": 45,
    "start_time": "2023-09-22T12:15:19.982Z"
   },
   {
    "duration": 5,
    "start_time": "2023-09-22T12:16:16.160Z"
   },
   {
    "duration": 6342,
    "start_time": "2023-09-22T12:16:16.167Z"
   },
   {
    "duration": 1527,
    "start_time": "2023-09-22T12:16:22.511Z"
   },
   {
    "duration": 31,
    "start_time": "2023-09-22T12:16:24.040Z"
   },
   {
    "duration": 135,
    "start_time": "2023-09-22T12:16:24.073Z"
   },
   {
    "duration": 519,
    "start_time": "2023-09-22T12:16:24.210Z"
   },
   {
    "duration": 122,
    "start_time": "2023-09-22T12:16:24.731Z"
   },
   {
    "duration": 469,
    "start_time": "2023-09-22T12:16:24.855Z"
   },
   {
    "duration": 91,
    "start_time": "2023-09-22T12:16:25.327Z"
   },
   {
    "duration": 10,
    "start_time": "2023-09-22T12:16:25.420Z"
   },
   {
    "duration": 776,
    "start_time": "2023-09-22T12:16:25.431Z"
   },
   {
    "duration": 35,
    "start_time": "2023-09-22T12:16:26.209Z"
   },
   {
    "duration": 82,
    "start_time": "2023-09-22T12:16:26.247Z"
   },
   {
    "duration": 217,
    "start_time": "2023-09-22T12:16:26.331Z"
   },
   {
    "duration": 99,
    "start_time": "2023-09-22T12:16:26.551Z"
   },
   {
    "duration": 5,
    "start_time": "2023-09-22T12:16:26.653Z"
   },
   {
    "duration": 126,
    "start_time": "2023-09-22T12:16:26.660Z"
   },
   {
    "duration": 136,
    "start_time": "2023-09-22T12:16:26.788Z"
   },
   {
    "duration": 112,
    "start_time": "2023-09-22T12:16:26.925Z"
   },
   {
    "duration": 48,
    "start_time": "2023-09-22T12:16:27.039Z"
   },
   {
    "duration": 154,
    "start_time": "2023-09-22T12:16:27.088Z"
   },
   {
    "duration": 146,
    "start_time": "2023-09-22T12:16:27.244Z"
   },
   {
    "duration": 135,
    "start_time": "2023-09-22T12:16:27.392Z"
   },
   {
    "duration": 74,
    "start_time": "2023-09-22T12:16:27.530Z"
   },
   {
    "duration": 60,
    "start_time": "2023-09-22T12:16:27.605Z"
   },
   {
    "duration": 513,
    "start_time": "2023-09-22T12:16:27.668Z"
   },
   {
    "duration": 76,
    "start_time": "2023-09-22T12:16:28.183Z"
   },
   {
    "duration": 19,
    "start_time": "2023-09-22T12:16:28.262Z"
   },
   {
    "duration": 136,
    "start_time": "2023-09-22T12:16:28.283Z"
   },
   {
    "duration": 4,
    "start_time": "2023-09-22T12:16:28.421Z"
   },
   {
    "duration": 65,
    "start_time": "2023-09-22T12:16:28.427Z"
   },
   {
    "duration": 3523,
    "start_time": "2023-09-22T12:16:28.494Z"
   },
   {
    "duration": 34,
    "start_time": "2023-09-22T12:16:32.019Z"
   },
   {
    "duration": 110,
    "start_time": "2023-09-22T12:16:32.055Z"
   },
   {
    "duration": 65,
    "start_time": "2023-09-22T12:16:32.166Z"
   },
   {
    "duration": 58,
    "start_time": "2023-09-22T12:16:32.234Z"
   },
   {
    "duration": 89,
    "start_time": "2023-09-22T12:16:32.295Z"
   },
   {
    "duration": 59,
    "start_time": "2023-09-22T12:16:32.386Z"
   },
   {
    "duration": 63,
    "start_time": "2023-09-22T12:16:32.448Z"
   },
   {
    "duration": 2387,
    "start_time": "2023-09-22T12:19:22.546Z"
   },
   {
    "duration": 2307,
    "start_time": "2023-09-22T12:19:24.935Z"
   },
   {
    "duration": 1332,
    "start_time": "2023-09-22T12:19:27.244Z"
   },
   {
    "duration": 16,
    "start_time": "2023-09-22T12:19:28.578Z"
   },
   {
    "duration": 105,
    "start_time": "2023-09-22T12:19:28.596Z"
   },
   {
    "duration": 388,
    "start_time": "2023-09-22T12:19:28.703Z"
   },
   {
    "duration": 97,
    "start_time": "2023-09-22T12:19:29.093Z"
   },
   {
    "duration": 433,
    "start_time": "2023-09-22T12:19:29.191Z"
   },
   {
    "duration": 83,
    "start_time": "2023-09-22T12:19:29.625Z"
   },
   {
    "duration": 9,
    "start_time": "2023-09-22T12:19:29.710Z"
   },
   {
    "duration": 640,
    "start_time": "2023-09-22T12:19:29.721Z"
   },
   {
    "duration": 25,
    "start_time": "2023-09-22T12:19:30.363Z"
   },
   {
    "duration": 49,
    "start_time": "2023-09-22T12:19:30.389Z"
   },
   {
    "duration": 213,
    "start_time": "2023-09-22T12:19:30.439Z"
   },
   {
    "duration": 83,
    "start_time": "2023-09-22T12:19:30.654Z"
   },
   {
    "duration": 57,
    "start_time": "2023-09-22T12:19:30.744Z"
   },
   {
    "duration": 141,
    "start_time": "2023-09-22T12:19:30.803Z"
   },
   {
    "duration": 194,
    "start_time": "2023-09-22T12:19:30.945Z"
   },
   {
    "duration": 84,
    "start_time": "2023-09-22T12:19:31.140Z"
   },
   {
    "duration": 104,
    "start_time": "2023-09-22T12:19:31.225Z"
   },
   {
    "duration": 145,
    "start_time": "2023-09-22T12:19:31.331Z"
   },
   {
    "duration": 138,
    "start_time": "2023-09-22T12:19:31.478Z"
   },
   {
    "duration": 122,
    "start_time": "2023-09-22T12:19:31.618Z"
   },
   {
    "duration": 54,
    "start_time": "2023-09-22T12:19:31.741Z"
   },
   {
    "duration": 61,
    "start_time": "2023-09-22T12:19:31.796Z"
   },
   {
    "duration": 470,
    "start_time": "2023-09-22T12:19:31.858Z"
   },
   {
    "duration": 103,
    "start_time": "2023-09-22T12:19:32.331Z"
   },
   {
    "duration": 18,
    "start_time": "2023-09-22T12:19:32.448Z"
   },
   {
    "duration": 266,
    "start_time": "2023-09-22T12:19:32.468Z"
   },
   {
    "duration": 35,
    "start_time": "2023-09-22T12:19:32.736Z"
   },
   {
    "duration": 145,
    "start_time": "2023-09-22T12:19:32.773Z"
   },
   {
    "duration": 3207,
    "start_time": "2023-09-22T12:19:32.920Z"
   },
   {
    "duration": 279,
    "start_time": "2023-09-22T12:19:36.129Z"
   },
   {
    "duration": 4,
    "start_time": "2023-09-22T12:19:36.410Z"
   },
   {
    "duration": 60,
    "start_time": "2023-09-22T12:19:36.416Z"
   },
   {
    "duration": 32,
    "start_time": "2023-09-22T12:19:36.478Z"
   },
   {
    "duration": 40,
    "start_time": "2023-09-22T12:19:36.511Z"
   },
   {
    "duration": 37,
    "start_time": "2023-09-22T12:19:36.553Z"
   },
   {
    "duration": 44,
    "start_time": "2023-09-22T12:19:36.592Z"
   },
   {
    "duration": 2306,
    "start_time": "2023-09-22T12:20:48.073Z"
   },
   {
    "duration": 2206,
    "start_time": "2023-09-22T12:21:10.376Z"
   },
   {
    "duration": 1317,
    "start_time": "2023-09-22T12:21:12.585Z"
   },
   {
    "duration": 1489,
    "start_time": "2023-09-22T12:21:13.904Z"
   },
   {
    "duration": 19,
    "start_time": "2023-09-22T12:21:15.397Z"
   },
   {
    "duration": 143,
    "start_time": "2023-09-22T12:21:15.418Z"
   },
   {
    "duration": 437,
    "start_time": "2023-09-22T12:21:15.563Z"
   },
   {
    "duration": 100,
    "start_time": "2023-09-22T12:21:16.003Z"
   },
   {
    "duration": 416,
    "start_time": "2023-09-22T12:21:16.104Z"
   },
   {
    "duration": 81,
    "start_time": "2023-09-22T12:21:16.522Z"
   },
   {
    "duration": 13,
    "start_time": "2023-09-22T12:21:16.608Z"
   },
   {
    "duration": 750,
    "start_time": "2023-09-22T12:21:16.623Z"
   },
   {
    "duration": 28,
    "start_time": "2023-09-22T12:21:17.374Z"
   },
   {
    "duration": 13,
    "start_time": "2023-09-22T12:21:17.405Z"
   },
   {
    "duration": 187,
    "start_time": "2023-09-22T12:21:17.421Z"
   },
   {
    "duration": 89,
    "start_time": "2023-09-22T12:21:17.610Z"
   },
   {
    "duration": 6,
    "start_time": "2023-09-22T12:21:17.701Z"
   },
   {
    "duration": 112,
    "start_time": "2023-09-22T12:21:17.708Z"
   },
   {
    "duration": 143,
    "start_time": "2023-09-22T12:21:17.822Z"
   },
   {
    "duration": 169,
    "start_time": "2023-09-22T12:21:17.968Z"
   },
   {
    "duration": 14,
    "start_time": "2023-09-22T12:21:18.139Z"
   },
   {
    "duration": 137,
    "start_time": "2023-09-22T12:21:18.155Z"
   },
   {
    "duration": 175,
    "start_time": "2023-09-22T12:21:18.294Z"
   },
   {
    "duration": 118,
    "start_time": "2023-09-22T12:21:18.471Z"
   },
   {
    "duration": 65,
    "start_time": "2023-09-22T12:21:18.590Z"
   },
   {
    "duration": 39,
    "start_time": "2023-09-22T12:21:18.656Z"
   },
   {
    "duration": 495,
    "start_time": "2023-09-22T12:21:18.697Z"
   },
   {
    "duration": 73,
    "start_time": "2023-09-22T12:21:19.195Z"
   },
   {
    "duration": 15,
    "start_time": "2023-09-22T12:21:19.273Z"
   },
   {
    "duration": 130,
    "start_time": "2023-09-22T12:21:19.290Z"
   },
   {
    "duration": 5,
    "start_time": "2023-09-22T12:21:19.423Z"
   },
   {
    "duration": 32,
    "start_time": "2023-09-22T12:21:19.430Z"
   },
   {
    "duration": 3087,
    "start_time": "2023-09-22T12:21:19.465Z"
   },
   {
    "duration": 317,
    "start_time": "2023-09-22T12:21:22.554Z"
   },
   {
    "duration": 4,
    "start_time": "2023-09-22T12:21:22.874Z"
   },
   {
    "duration": 37,
    "start_time": "2023-09-22T12:21:22.879Z"
   },
   {
    "duration": 25,
    "start_time": "2023-09-22T12:21:22.919Z"
   },
   {
    "duration": 22,
    "start_time": "2023-09-22T12:21:22.947Z"
   },
   {
    "duration": 23,
    "start_time": "2023-09-22T12:21:22.971Z"
   },
   {
    "duration": 48,
    "start_time": "2023-09-22T12:21:22.996Z"
   },
   {
    "duration": 68,
    "start_time": "2023-09-22T12:21:38.102Z"
   },
   {
    "duration": 2259,
    "start_time": "2023-09-22T12:21:46.162Z"
   },
   {
    "duration": 2449,
    "start_time": "2023-09-22T12:21:48.423Z"
   },
   {
    "duration": 1373,
    "start_time": "2023-09-22T12:21:50.874Z"
   },
   {
    "duration": 17,
    "start_time": "2023-09-22T12:21:52.249Z"
   },
   {
    "duration": 115,
    "start_time": "2023-09-22T12:21:52.268Z"
   },
   {
    "duration": 409,
    "start_time": "2023-09-22T12:21:52.385Z"
   },
   {
    "duration": 103,
    "start_time": "2023-09-22T12:21:52.795Z"
   },
   {
    "duration": 424,
    "start_time": "2023-09-22T12:21:52.899Z"
   },
   {
    "duration": 92,
    "start_time": "2023-09-22T12:21:53.325Z"
   },
   {
    "duration": 23,
    "start_time": "2023-09-22T12:21:53.420Z"
   },
   {
    "duration": 717,
    "start_time": "2023-09-22T12:21:53.445Z"
   },
   {
    "duration": 27,
    "start_time": "2023-09-22T12:21:54.164Z"
   },
   {
    "duration": 20,
    "start_time": "2023-09-22T12:21:54.193Z"
   },
   {
    "duration": 192,
    "start_time": "2023-09-22T12:21:54.215Z"
   },
   {
    "duration": 183,
    "start_time": "2023-09-22T12:21:54.410Z"
   },
   {
    "duration": 22,
    "start_time": "2023-09-22T12:21:54.595Z"
   },
   {
    "duration": 114,
    "start_time": "2023-09-22T12:21:54.619Z"
   },
   {
    "duration": 138,
    "start_time": "2023-09-22T12:21:54.735Z"
   },
   {
    "duration": 89,
    "start_time": "2023-09-22T12:21:54.875Z"
   },
   {
    "duration": 15,
    "start_time": "2023-09-22T12:21:54.966Z"
   },
   {
    "duration": 115,
    "start_time": "2023-09-22T12:21:54.982Z"
   },
   {
    "duration": 162,
    "start_time": "2023-09-22T12:21:55.100Z"
   },
   {
    "duration": 123,
    "start_time": "2023-09-22T12:21:55.263Z"
   },
   {
    "duration": 207,
    "start_time": "2023-09-22T12:21:55.388Z"
   },
   {
    "duration": 68,
    "start_time": "2023-09-22T12:21:55.597Z"
   },
   {
    "duration": 498,
    "start_time": "2023-09-22T12:21:55.667Z"
   },
   {
    "duration": 61,
    "start_time": "2023-09-22T12:21:56.166Z"
   },
   {
    "duration": 15,
    "start_time": "2023-09-22T12:21:56.244Z"
   },
   {
    "duration": 109,
    "start_time": "2023-09-22T12:21:56.261Z"
   },
   {
    "duration": 4,
    "start_time": "2023-09-22T12:21:56.372Z"
   },
   {
    "duration": 27,
    "start_time": "2023-09-22T12:21:56.377Z"
   },
   {
    "duration": 3009,
    "start_time": "2023-09-22T12:21:56.406Z"
   },
   {
    "duration": 302,
    "start_time": "2023-09-22T12:21:59.417Z"
   },
   {
    "duration": 3,
    "start_time": "2023-09-22T12:21:59.721Z"
   },
   {
    "duration": 11,
    "start_time": "2023-09-22T12:21:59.726Z"
   },
   {
    "duration": 7,
    "start_time": "2023-09-22T12:21:59.739Z"
   },
   {
    "duration": 5,
    "start_time": "2023-09-22T12:21:59.747Z"
   },
   {
    "duration": 7,
    "start_time": "2023-09-22T12:21:59.754Z"
   },
   {
    "duration": 21,
    "start_time": "2023-09-22T12:21:59.762Z"
   },
   {
    "duration": 126,
    "start_time": "2023-09-22T12:21:59.785Z"
   },
   {
    "duration": 0,
    "start_time": "2023-09-22T12:21:59.914Z"
   },
   {
    "duration": 0,
    "start_time": "2023-09-22T12:21:59.915Z"
   },
   {
    "duration": 7,
    "start_time": "2023-09-22T12:22:23.480Z"
   },
   {
    "duration": 3,
    "start_time": "2023-09-22T12:22:55.309Z"
   },
   {
    "duration": 61,
    "start_time": "2023-09-22T12:22:55.672Z"
   },
   {
    "duration": 11,
    "start_time": "2023-09-22T12:23:21.838Z"
   },
   {
    "duration": 56,
    "start_time": "2023-09-22T12:27:39.508Z"
   },
   {
    "duration": 2334,
    "start_time": "2023-09-22T12:27:49.877Z"
   },
   {
    "duration": 1340,
    "start_time": "2023-09-22T12:28:00.067Z"
   },
   {
    "duration": 1091,
    "start_time": "2023-09-22T12:28:01.472Z"
   },
   {
    "duration": 17,
    "start_time": "2023-09-22T12:28:02.565Z"
   },
   {
    "duration": 146,
    "start_time": "2023-09-22T12:28:02.583Z"
   },
   {
    "duration": 460,
    "start_time": "2023-09-22T12:28:02.731Z"
   },
   {
    "duration": 115,
    "start_time": "2023-09-22T12:28:03.193Z"
   },
   {
    "duration": 461,
    "start_time": "2023-09-22T12:28:04.057Z"
   },
   {
    "duration": 86,
    "start_time": "2023-09-22T12:28:05.122Z"
   },
   {
    "duration": 11,
    "start_time": "2023-09-22T12:28:05.580Z"
   },
   {
    "duration": 1961,
    "start_time": "2023-09-22T12:28:07.630Z"
   },
   {
    "duration": 30,
    "start_time": "2023-09-22T12:28:24.228Z"
   },
   {
    "duration": 46,
    "start_time": "2023-09-22T12:28:45.375Z"
   },
   {
    "duration": 34,
    "start_time": "2023-09-22T12:28:48.329Z"
   },
   {
    "duration": 1707,
    "start_time": "2023-09-22T12:29:02.989Z"
   },
   {
    "duration": 38,
    "start_time": "2023-09-22T12:29:12.802Z"
   },
   {
    "duration": 21,
    "start_time": "2023-09-22T12:29:21.587Z"
   },
   {
    "duration": 2045,
    "start_time": "2023-09-22T12:30:22.995Z"
   },
   {
    "duration": 1844,
    "start_time": "2023-09-22T12:30:28.467Z"
   },
   {
    "duration": 20,
    "start_time": "2023-09-22T12:30:39.960Z"
   },
   {
    "duration": 23,
    "start_time": "2023-09-22T12:31:14.268Z"
   },
   {
    "duration": 1871,
    "start_time": "2023-09-22T12:31:39.107Z"
   },
   {
    "duration": 24,
    "start_time": "2023-09-22T12:31:42.957Z"
   },
   {
    "duration": 31,
    "start_time": "2023-09-22T12:32:26.440Z"
   },
   {
    "duration": 23,
    "start_time": "2023-09-22T12:32:32.003Z"
   },
   {
    "duration": 2070,
    "start_time": "2023-09-22T12:47:36.906Z"
   },
   {
    "duration": 1188,
    "start_time": "2023-09-22T12:47:38.978Z"
   },
   {
    "duration": 963,
    "start_time": "2023-09-22T12:47:40.167Z"
   },
   {
    "duration": 18,
    "start_time": "2023-09-22T12:47:41.132Z"
   },
   {
    "duration": 117,
    "start_time": "2023-09-22T12:47:41.152Z"
   },
   {
    "duration": 376,
    "start_time": "2023-09-22T12:47:41.271Z"
   },
   {
    "duration": 95,
    "start_time": "2023-09-22T12:47:41.649Z"
   },
   {
    "duration": 432,
    "start_time": "2023-09-22T12:47:41.746Z"
   },
   {
    "duration": 83,
    "start_time": "2023-09-22T12:47:42.180Z"
   },
   {
    "duration": 9,
    "start_time": "2023-09-22T12:47:42.265Z"
   },
   {
    "duration": 26,
    "start_time": "2023-09-22T12:47:42.276Z"
   },
   {
    "duration": 37,
    "start_time": "2023-09-22T12:47:42.303Z"
   },
   {
    "duration": 28,
    "start_time": "2023-09-22T12:47:42.343Z"
   },
   {
    "duration": 45,
    "start_time": "2023-09-22T12:47:42.373Z"
   },
   {
    "duration": 36,
    "start_time": "2023-09-22T12:47:42.420Z"
   },
   {
    "duration": 544,
    "start_time": "2023-09-22T12:47:42.457Z"
   },
   {
    "duration": 13,
    "start_time": "2023-09-22T12:47:43.002Z"
   },
   {
    "duration": 7,
    "start_time": "2023-09-22T12:47:43.016Z"
   },
   {
    "duration": 133,
    "start_time": "2023-09-22T12:47:43.024Z"
   },
   {
    "duration": 0,
    "start_time": "2023-09-22T12:47:43.159Z"
   },
   {
    "duration": 0,
    "start_time": "2023-09-22T12:47:43.160Z"
   },
   {
    "duration": 0,
    "start_time": "2023-09-22T12:47:43.161Z"
   },
   {
    "duration": 0,
    "start_time": "2023-09-22T12:47:43.162Z"
   },
   {
    "duration": 0,
    "start_time": "2023-09-22T12:47:43.163Z"
   },
   {
    "duration": 0,
    "start_time": "2023-09-22T12:47:43.164Z"
   },
   {
    "duration": 0,
    "start_time": "2023-09-22T12:47:43.165Z"
   },
   {
    "duration": 0,
    "start_time": "2023-09-22T12:47:43.166Z"
   },
   {
    "duration": 0,
    "start_time": "2023-09-22T12:47:43.168Z"
   },
   {
    "duration": 0,
    "start_time": "2023-09-22T12:47:43.169Z"
   },
   {
    "duration": 0,
    "start_time": "2023-09-22T12:47:43.170Z"
   },
   {
    "duration": 0,
    "start_time": "2023-09-22T12:47:43.171Z"
   },
   {
    "duration": 0,
    "start_time": "2023-09-22T12:47:43.172Z"
   },
   {
    "duration": 0,
    "start_time": "2023-09-22T12:47:43.173Z"
   },
   {
    "duration": 0,
    "start_time": "2023-09-22T12:47:43.175Z"
   },
   {
    "duration": 0,
    "start_time": "2023-09-22T12:47:43.176Z"
   },
   {
    "duration": 0,
    "start_time": "2023-09-22T12:47:43.177Z"
   },
   {
    "duration": 0,
    "start_time": "2023-09-22T12:47:43.179Z"
   },
   {
    "duration": 0,
    "start_time": "2023-09-22T12:47:43.180Z"
   },
   {
    "duration": 0,
    "start_time": "2023-09-22T12:47:43.181Z"
   },
   {
    "duration": 0,
    "start_time": "2023-09-22T12:47:43.183Z"
   },
   {
    "duration": 0,
    "start_time": "2023-09-22T12:47:43.184Z"
   },
   {
    "duration": 0,
    "start_time": "2023-09-22T12:47:43.186Z"
   },
   {
    "duration": 0,
    "start_time": "2023-09-22T12:47:43.187Z"
   },
   {
    "duration": 0,
    "start_time": "2023-09-22T12:47:43.188Z"
   },
   {
    "duration": 0,
    "start_time": "2023-09-22T12:47:43.190Z"
   },
   {
    "duration": 0,
    "start_time": "2023-09-22T12:47:43.191Z"
   },
   {
    "duration": 0,
    "start_time": "2023-09-22T12:47:43.193Z"
   },
   {
    "duration": 0,
    "start_time": "2023-09-22T12:47:43.244Z"
   },
   {
    "duration": 0,
    "start_time": "2023-09-22T12:47:43.245Z"
   },
   {
    "duration": 54,
    "start_time": "2023-09-22T12:48:06.242Z"
   },
   {
    "duration": 71,
    "start_time": "2023-09-22T12:48:07.061Z"
   },
   {
    "duration": 4,
    "start_time": "2023-09-22T12:48:07.313Z"
   },
   {
    "duration": 73,
    "start_time": "2023-09-22T12:48:07.343Z"
   },
   {
    "duration": 12,
    "start_time": "2023-09-22T12:48:07.418Z"
   },
   {
    "duration": 0,
    "start_time": "2023-09-22T12:48:07.443Z"
   },
   {
    "duration": 4,
    "start_time": "2023-09-22T12:48:07.445Z"
   },
   {
    "duration": 97,
    "start_time": "2023-09-22T12:48:07.465Z"
   },
   {
    "duration": 145,
    "start_time": "2023-09-22T12:48:07.564Z"
   },
   {
    "duration": 123,
    "start_time": "2023-09-22T12:48:07.710Z"
   },
   {
    "duration": 48,
    "start_time": "2023-09-22T12:48:07.844Z"
   },
   {
    "duration": 51,
    "start_time": "2023-09-22T12:48:07.893Z"
   },
   {
    "duration": 438,
    "start_time": "2023-09-22T12:48:07.945Z"
   },
   {
    "duration": 64,
    "start_time": "2023-09-22T12:48:08.384Z"
   },
   {
    "duration": 13,
    "start_time": "2023-09-22T12:48:08.449Z"
   },
   {
    "duration": 104,
    "start_time": "2023-09-22T12:48:08.464Z"
   },
   {
    "duration": 3,
    "start_time": "2023-09-22T12:48:08.571Z"
   },
   {
    "duration": 48,
    "start_time": "2023-09-22T12:48:08.576Z"
   },
   {
    "duration": 714,
    "start_time": "2023-09-22T12:48:08.626Z"
   },
   {
    "duration": 52,
    "start_time": "2023-09-22T12:48:09.342Z"
   },
   {
    "duration": 3,
    "start_time": "2023-09-22T12:48:09.396Z"
   },
   {
    "duration": 13,
    "start_time": "2023-09-22T12:48:09.400Z"
   },
   {
    "duration": 21,
    "start_time": "2023-09-22T12:48:09.414Z"
   },
   {
    "duration": 11,
    "start_time": "2023-09-22T12:48:09.437Z"
   },
   {
    "duration": 15,
    "start_time": "2023-09-22T12:48:09.449Z"
   },
   {
    "duration": 19,
    "start_time": "2023-09-22T12:48:09.466Z"
   },
   {
    "duration": 9,
    "start_time": "2023-09-22T12:48:09.486Z"
   },
   {
    "duration": 13,
    "start_time": "2023-09-22T12:48:09.497Z"
   },
   {
    "duration": 0,
    "start_time": "2023-09-22T12:48:09.512Z"
   },
   {
    "duration": 0,
    "start_time": "2023-09-22T12:48:09.514Z"
   },
   {
    "duration": 0,
    "start_time": "2023-09-22T12:48:09.514Z"
   },
   {
    "duration": 3,
    "start_time": "2023-09-22T12:48:14.771Z"
   },
   {
    "duration": 2178,
    "start_time": "2023-09-22T12:53:00.822Z"
   },
   {
    "duration": 1207,
    "start_time": "2023-09-22T12:53:03.002Z"
   },
   {
    "duration": 1087,
    "start_time": "2023-09-22T12:53:04.212Z"
   },
   {
    "duration": 17,
    "start_time": "2023-09-22T12:53:05.301Z"
   },
   {
    "duration": 133,
    "start_time": "2023-09-22T12:53:05.320Z"
   },
   {
    "duration": 442,
    "start_time": "2023-09-22T12:53:05.455Z"
   },
   {
    "duration": 100,
    "start_time": "2023-09-22T12:53:05.899Z"
   },
   {
    "duration": 425,
    "start_time": "2023-09-22T12:53:06.001Z"
   },
   {
    "duration": 88,
    "start_time": "2023-09-22T12:53:06.428Z"
   },
   {
    "duration": 9,
    "start_time": "2023-09-22T12:53:06.517Z"
   },
   {
    "duration": 35,
    "start_time": "2023-09-22T12:53:06.527Z"
   },
   {
    "duration": 50,
    "start_time": "2023-09-22T12:53:06.563Z"
   },
   {
    "duration": 53,
    "start_time": "2023-09-22T12:53:06.616Z"
   },
   {
    "duration": 58,
    "start_time": "2023-09-22T12:53:06.671Z"
   },
   {
    "duration": 32,
    "start_time": "2023-09-22T12:53:06.730Z"
   },
   {
    "duration": 484,
    "start_time": "2023-09-22T12:53:06.763Z"
   },
   {
    "duration": 11,
    "start_time": "2023-09-22T12:53:07.249Z"
   },
   {
    "duration": 25,
    "start_time": "2023-09-22T12:53:07.262Z"
   },
   {
    "duration": 88,
    "start_time": "2023-09-22T12:53:07.289Z"
   },
   {
    "duration": 56,
    "start_time": "2023-09-22T12:53:07.379Z"
   },
   {
    "duration": 21,
    "start_time": "2023-09-22T12:53:07.437Z"
   },
   {
    "duration": 77,
    "start_time": "2023-09-22T12:53:07.459Z"
   },
   {
    "duration": 124,
    "start_time": "2023-09-22T12:53:07.537Z"
   },
   {
    "duration": 0,
    "start_time": "2023-09-22T12:53:07.663Z"
   },
   {
    "duration": 0,
    "start_time": "2023-09-22T12:53:07.664Z"
   },
   {
    "duration": 0,
    "start_time": "2023-09-22T12:53:07.665Z"
   },
   {
    "duration": 0,
    "start_time": "2023-09-22T12:53:07.666Z"
   },
   {
    "duration": 0,
    "start_time": "2023-09-22T12:53:07.667Z"
   },
   {
    "duration": 0,
    "start_time": "2023-09-22T12:53:07.669Z"
   },
   {
    "duration": 0,
    "start_time": "2023-09-22T12:53:07.670Z"
   },
   {
    "duration": 0,
    "start_time": "2023-09-22T12:53:07.671Z"
   },
   {
    "duration": 0,
    "start_time": "2023-09-22T12:53:07.672Z"
   },
   {
    "duration": 0,
    "start_time": "2023-09-22T12:53:07.673Z"
   },
   {
    "duration": 0,
    "start_time": "2023-09-22T12:53:07.674Z"
   },
   {
    "duration": 0,
    "start_time": "2023-09-22T12:53:07.675Z"
   },
   {
    "duration": 0,
    "start_time": "2023-09-22T12:53:07.676Z"
   },
   {
    "duration": 0,
    "start_time": "2023-09-22T12:53:07.678Z"
   },
   {
    "duration": 0,
    "start_time": "2023-09-22T12:53:07.679Z"
   },
   {
    "duration": 0,
    "start_time": "2023-09-22T12:53:07.680Z"
   },
   {
    "duration": 0,
    "start_time": "2023-09-22T12:53:07.681Z"
   },
   {
    "duration": 0,
    "start_time": "2023-09-22T12:53:07.682Z"
   },
   {
    "duration": 0,
    "start_time": "2023-09-22T12:53:07.683Z"
   },
   {
    "duration": 0,
    "start_time": "2023-09-22T12:53:07.684Z"
   },
   {
    "duration": 0,
    "start_time": "2023-09-22T12:53:07.685Z"
   },
   {
    "duration": 0,
    "start_time": "2023-09-22T12:53:07.686Z"
   },
   {
    "duration": 0,
    "start_time": "2023-09-22T12:53:07.688Z"
   },
   {
    "duration": 0,
    "start_time": "2023-09-22T12:53:07.689Z"
   },
   {
    "duration": 0,
    "start_time": "2023-09-22T12:53:07.690Z"
   },
   {
    "duration": 0,
    "start_time": "2023-09-22T12:53:07.691Z"
   },
   {
    "duration": 60,
    "start_time": "2023-09-22T12:55:00.236Z"
   },
   {
    "duration": 59,
    "start_time": "2023-09-22T12:55:01.544Z"
   },
   {
    "duration": 5,
    "start_time": "2023-09-22T12:55:01.867Z"
   },
   {
    "duration": 106,
    "start_time": "2023-09-22T12:55:02.123Z"
   },
   {
    "duration": 134,
    "start_time": "2023-09-22T12:55:02.994Z"
   },
   {
    "duration": 124,
    "start_time": "2023-09-22T12:55:03.376Z"
   },
   {
    "duration": 61,
    "start_time": "2023-09-22T12:55:03.650Z"
   },
   {
    "duration": 41,
    "start_time": "2023-09-22T12:55:03.871Z"
   },
   {
    "duration": 548,
    "start_time": "2023-09-22T12:55:04.078Z"
   },
   {
    "duration": 72,
    "start_time": "2023-09-22T12:55:04.628Z"
   },
   {
    "duration": 17,
    "start_time": "2023-09-22T12:55:04.703Z"
   },
   {
    "duration": 98,
    "start_time": "2023-09-22T12:55:10.162Z"
   },
   {
    "duration": 4,
    "start_time": "2023-09-22T12:55:10.642Z"
   },
   {
    "duration": 16,
    "start_time": "2023-09-22T12:55:10.893Z"
   },
   {
    "duration": 812,
    "start_time": "2023-09-22T12:55:11.150Z"
   },
   {
    "duration": 63,
    "start_time": "2023-09-22T12:55:11.964Z"
   },
   {
    "duration": 3,
    "start_time": "2023-09-22T12:55:12.045Z"
   },
   {
    "duration": 3,
    "start_time": "2023-09-22T12:55:15.268Z"
   },
   {
    "duration": 2,
    "start_time": "2023-09-22T12:55:15.663Z"
   },
   {
    "duration": 4,
    "start_time": "2023-09-22T12:55:16.462Z"
   },
   {
    "duration": 3,
    "start_time": "2023-09-22T12:55:16.893Z"
   },
   {
    "duration": 15,
    "start_time": "2023-09-22T12:55:17.278Z"
   },
   {
    "duration": 7,
    "start_time": "2023-09-22T12:55:19.226Z"
   },
   {
    "duration": 10,
    "start_time": "2023-09-22T12:55:20.643Z"
   },
   {
    "duration": 3,
    "start_time": "2023-09-22T12:55:22.223Z"
   },
   {
    "duration": 7273,
    "start_time": "2023-09-22T23:06:36.480Z"
   },
   {
    "duration": 1631,
    "start_time": "2023-09-22T23:06:43.755Z"
   },
   {
    "duration": 1404,
    "start_time": "2023-09-22T23:06:45.388Z"
   },
   {
    "duration": 18,
    "start_time": "2023-09-22T23:06:46.795Z"
   },
   {
    "duration": 116,
    "start_time": "2023-09-22T23:06:46.814Z"
   },
   {
    "duration": 412,
    "start_time": "2023-09-22T23:06:46.931Z"
   },
   {
    "duration": 111,
    "start_time": "2023-09-22T23:06:47.345Z"
   },
   {
    "duration": 523,
    "start_time": "2023-09-22T23:06:47.458Z"
   },
   {
    "duration": 84,
    "start_time": "2023-09-22T23:06:47.983Z"
   },
   {
    "duration": 9,
    "start_time": "2023-09-22T23:06:48.070Z"
   },
   {
    "duration": 38,
    "start_time": "2023-09-22T23:06:48.080Z"
   },
   {
    "duration": 59,
    "start_time": "2023-09-22T23:06:48.120Z"
   },
   {
    "duration": 25,
    "start_time": "2023-09-22T23:06:48.181Z"
   },
   {
    "duration": 1811,
    "start_time": "2023-09-22T23:06:48.208Z"
   },
   {
    "duration": 0,
    "start_time": "2023-09-22T23:06:50.022Z"
   },
   {
    "duration": 0,
    "start_time": "2023-09-22T23:06:50.023Z"
   },
   {
    "duration": 0,
    "start_time": "2023-09-22T23:06:50.024Z"
   },
   {
    "duration": 0,
    "start_time": "2023-09-22T23:06:50.026Z"
   },
   {
    "duration": 0,
    "start_time": "2023-09-22T23:06:50.027Z"
   },
   {
    "duration": 0,
    "start_time": "2023-09-22T23:06:50.028Z"
   },
   {
    "duration": 0,
    "start_time": "2023-09-22T23:06:50.029Z"
   },
   {
    "duration": 0,
    "start_time": "2023-09-22T23:06:50.030Z"
   },
   {
    "duration": 0,
    "start_time": "2023-09-22T23:06:50.032Z"
   },
   {
    "duration": 0,
    "start_time": "2023-09-22T23:06:50.033Z"
   },
   {
    "duration": 0,
    "start_time": "2023-09-22T23:06:50.034Z"
   },
   {
    "duration": 0,
    "start_time": "2023-09-22T23:06:50.035Z"
   },
   {
    "duration": 0,
    "start_time": "2023-09-22T23:06:50.036Z"
   },
   {
    "duration": 0,
    "start_time": "2023-09-22T23:06:50.037Z"
   },
   {
    "duration": 0,
    "start_time": "2023-09-22T23:06:50.038Z"
   },
   {
    "duration": 0,
    "start_time": "2023-09-22T23:06:50.039Z"
   },
   {
    "duration": 0,
    "start_time": "2023-09-22T23:06:50.041Z"
   },
   {
    "duration": 0,
    "start_time": "2023-09-22T23:06:50.042Z"
   },
   {
    "duration": 0,
    "start_time": "2023-09-22T23:06:50.043Z"
   },
   {
    "duration": 0,
    "start_time": "2023-09-22T23:06:50.044Z"
   },
   {
    "duration": 0,
    "start_time": "2023-09-22T23:06:50.045Z"
   },
   {
    "duration": 0,
    "start_time": "2023-09-22T23:06:50.046Z"
   },
   {
    "duration": 0,
    "start_time": "2023-09-22T23:06:50.047Z"
   },
   {
    "duration": 0,
    "start_time": "2023-09-22T23:06:50.048Z"
   },
   {
    "duration": 0,
    "start_time": "2023-09-22T23:06:50.049Z"
   },
   {
    "duration": 0,
    "start_time": "2023-09-22T23:06:50.050Z"
   },
   {
    "duration": 0,
    "start_time": "2023-09-22T23:06:50.052Z"
   },
   {
    "duration": 0,
    "start_time": "2023-09-22T23:06:50.053Z"
   },
   {
    "duration": 0,
    "start_time": "2023-09-22T23:06:50.054Z"
   },
   {
    "duration": 0,
    "start_time": "2023-09-22T23:06:50.055Z"
   },
   {
    "duration": 0,
    "start_time": "2023-09-22T23:06:50.056Z"
   },
   {
    "duration": 0,
    "start_time": "2023-09-22T23:06:50.102Z"
   },
   {
    "duration": 0,
    "start_time": "2023-09-22T23:06:50.103Z"
   },
   {
    "duration": 0,
    "start_time": "2023-09-22T23:06:50.104Z"
   },
   {
    "duration": 0,
    "start_time": "2023-09-22T23:06:50.105Z"
   },
   {
    "duration": 0,
    "start_time": "2023-09-22T23:06:50.106Z"
   },
   {
    "duration": 22,
    "start_time": "2023-09-22T23:07:03.963Z"
   },
   {
    "duration": 5,
    "start_time": "2023-09-22T23:11:53.164Z"
   },
   {
    "duration": 162,
    "start_time": "2023-09-22T23:11:59.274Z"
   },
   {
    "duration": 85,
    "start_time": "2023-09-22T23:12:11.804Z"
   },
   {
    "duration": 165,
    "start_time": "2023-09-22T23:12:21.179Z"
   },
   {
    "duration": 13,
    "start_time": "2023-09-22T23:18:45.323Z"
   },
   {
    "duration": 12,
    "start_time": "2023-09-22T23:18:50.376Z"
   },
   {
    "duration": 4,
    "start_time": "2023-09-22T23:18:55.143Z"
   },
   {
    "duration": 4,
    "start_time": "2023-09-22T23:19:10.372Z"
   },
   {
    "duration": 2493,
    "start_time": "2023-09-22T23:20:20.561Z"
   },
   {
    "duration": 1359,
    "start_time": "2023-09-22T23:20:23.057Z"
   },
   {
    "duration": 1193,
    "start_time": "2023-09-22T23:20:24.417Z"
   },
   {
    "duration": 18,
    "start_time": "2023-09-22T23:20:25.613Z"
   },
   {
    "duration": 132,
    "start_time": "2023-09-22T23:20:25.633Z"
   },
   {
    "duration": 458,
    "start_time": "2023-09-22T23:20:25.767Z"
   },
   {
    "duration": 104,
    "start_time": "2023-09-22T23:20:26.226Z"
   },
   {
    "duration": 458,
    "start_time": "2023-09-22T23:20:26.331Z"
   },
   {
    "duration": 81,
    "start_time": "2023-09-22T23:20:26.791Z"
   },
   {
    "duration": 9,
    "start_time": "2023-09-22T23:20:26.873Z"
   },
   {
    "duration": 49,
    "start_time": "2023-09-22T23:20:26.884Z"
   },
   {
    "duration": 40,
    "start_time": "2023-09-22T23:20:26.935Z"
   },
   {
    "duration": 41,
    "start_time": "2023-09-22T23:20:26.977Z"
   },
   {
    "duration": 40,
    "start_time": "2023-09-22T23:20:27.022Z"
   },
   {
    "duration": 192,
    "start_time": "2023-09-22T23:20:27.064Z"
   },
   {
    "duration": 120,
    "start_time": "2023-09-22T23:20:27.258Z"
   },
   {
    "duration": 0,
    "start_time": "2023-09-22T23:20:27.380Z"
   },
   {
    "duration": 0,
    "start_time": "2023-09-22T23:20:27.381Z"
   },
   {
    "duration": 0,
    "start_time": "2023-09-22T23:20:27.382Z"
   },
   {
    "duration": 0,
    "start_time": "2023-09-22T23:20:27.383Z"
   },
   {
    "duration": 0,
    "start_time": "2023-09-22T23:20:27.384Z"
   },
   {
    "duration": 0,
    "start_time": "2023-09-22T23:20:27.401Z"
   },
   {
    "duration": 0,
    "start_time": "2023-09-22T23:20:27.402Z"
   },
   {
    "duration": 0,
    "start_time": "2023-09-22T23:20:27.405Z"
   },
   {
    "duration": 0,
    "start_time": "2023-09-22T23:20:27.406Z"
   },
   {
    "duration": 0,
    "start_time": "2023-09-22T23:20:27.408Z"
   },
   {
    "duration": 0,
    "start_time": "2023-09-22T23:20:27.409Z"
   },
   {
    "duration": 0,
    "start_time": "2023-09-22T23:20:27.413Z"
   },
   {
    "duration": 0,
    "start_time": "2023-09-22T23:20:27.414Z"
   },
   {
    "duration": 0,
    "start_time": "2023-09-22T23:20:27.416Z"
   },
   {
    "duration": 0,
    "start_time": "2023-09-22T23:20:27.417Z"
   },
   {
    "duration": 0,
    "start_time": "2023-09-22T23:20:27.419Z"
   },
   {
    "duration": 0,
    "start_time": "2023-09-22T23:20:27.421Z"
   },
   {
    "duration": 0,
    "start_time": "2023-09-22T23:20:27.422Z"
   },
   {
    "duration": 0,
    "start_time": "2023-09-22T23:20:27.423Z"
   },
   {
    "duration": 0,
    "start_time": "2023-09-22T23:20:27.424Z"
   },
   {
    "duration": 0,
    "start_time": "2023-09-22T23:20:27.425Z"
   },
   {
    "duration": 0,
    "start_time": "2023-09-22T23:20:27.426Z"
   },
   {
    "duration": 0,
    "start_time": "2023-09-22T23:20:27.427Z"
   },
   {
    "duration": 0,
    "start_time": "2023-09-22T23:20:27.429Z"
   },
   {
    "duration": 0,
    "start_time": "2023-09-22T23:20:27.430Z"
   },
   {
    "duration": 0,
    "start_time": "2023-09-22T23:20:27.431Z"
   },
   {
    "duration": 0,
    "start_time": "2023-09-22T23:20:27.432Z"
   },
   {
    "duration": 0,
    "start_time": "2023-09-22T23:20:27.433Z"
   },
   {
    "duration": 0,
    "start_time": "2023-09-22T23:20:27.434Z"
   },
   {
    "duration": 0,
    "start_time": "2023-09-22T23:20:27.435Z"
   },
   {
    "duration": 0,
    "start_time": "2023-09-22T23:20:27.436Z"
   },
   {
    "duration": 0,
    "start_time": "2023-09-22T23:20:27.437Z"
   },
   {
    "duration": 0,
    "start_time": "2023-09-22T23:20:27.438Z"
   },
   {
    "duration": 0,
    "start_time": "2023-09-22T23:20:27.439Z"
   },
   {
    "duration": 0,
    "start_time": "2023-09-22T23:20:27.440Z"
   },
   {
    "duration": 0,
    "start_time": "2023-09-22T23:20:27.441Z"
   },
   {
    "duration": 0,
    "start_time": "2023-09-22T23:20:27.443Z"
   },
   {
    "duration": 707,
    "start_time": "2023-09-22T23:20:50.501Z"
   },
   {
    "duration": 29,
    "start_time": "2023-09-22T23:20:51.385Z"
   },
   {
    "duration": 8,
    "start_time": "2023-09-22T23:20:52.146Z"
   },
   {
    "duration": 65,
    "start_time": "2023-09-22T23:20:52.474Z"
   },
   {
    "duration": 80,
    "start_time": "2023-09-22T23:20:52.906Z"
   },
   {
    "duration": 14,
    "start_time": "2023-09-22T23:20:54.342Z"
   },
   {
    "duration": 10,
    "start_time": "2023-09-22T23:20:59.483Z"
   },
   {
    "duration": 28,
    "start_time": "2023-09-22T23:21:08.226Z"
   },
   {
    "duration": 30,
    "start_time": "2023-09-22T23:21:18.135Z"
   },
   {
    "duration": 901,
    "start_time": "2023-09-22T23:21:47.517Z"
   },
   {
    "duration": 987,
    "start_time": "2023-09-22T23:24:11.641Z"
   },
   {
    "duration": 747,
    "start_time": "2023-09-22T23:25:27.792Z"
   },
   {
    "duration": 15,
    "start_time": "2023-09-22T23:26:38.704Z"
   },
   {
    "duration": 3,
    "start_time": "2023-09-22T23:26:50.770Z"
   },
   {
    "duration": 4,
    "start_time": "2023-09-22T23:26:54.953Z"
   },
   {
    "duration": 34,
    "start_time": "2023-09-22T23:27:01.743Z"
   },
   {
    "duration": 5,
    "start_time": "2023-09-22T23:27:02.799Z"
   },
   {
    "duration": 40,
    "start_time": "2023-09-22T23:27:25.857Z"
   },
   {
    "duration": 8,
    "start_time": "2023-09-22T23:27:27.280Z"
   },
   {
    "duration": 10,
    "start_time": "2023-09-22T23:28:03.377Z"
   },
   {
    "duration": 11,
    "start_time": "2023-09-22T23:28:05.597Z"
   },
   {
    "duration": 7,
    "start_time": "2023-09-22T23:28:10.884Z"
   },
   {
    "duration": 5,
    "start_time": "2023-09-22T23:28:30.057Z"
   },
   {
    "duration": 5,
    "start_time": "2023-09-22T23:28:33.247Z"
   },
   {
    "duration": 5,
    "start_time": "2023-09-22T23:28:49.534Z"
   },
   {
    "duration": 52,
    "start_time": "2023-09-22T23:30:33.262Z"
   },
   {
    "duration": 14,
    "start_time": "2023-09-22T23:30:39.187Z"
   },
   {
    "duration": 15,
    "start_time": "2023-09-22T23:30:51.367Z"
   },
   {
    "duration": 120,
    "start_time": "2023-09-22T23:31:21.701Z"
   },
   {
    "duration": 37,
    "start_time": "2023-09-22T23:31:24.556Z"
   },
   {
    "duration": 31,
    "start_time": "2023-09-22T23:31:24.782Z"
   },
   {
    "duration": 15,
    "start_time": "2023-09-22T23:31:25.023Z"
   },
   {
    "duration": 13,
    "start_time": "2023-09-22T23:31:27.421Z"
   },
   {
    "duration": 9,
    "start_time": "2023-09-22T23:35:51.955Z"
   },
   {
    "duration": 2236,
    "start_time": "2023-09-22T23:36:00.571Z"
   },
   {
    "duration": 1311,
    "start_time": "2023-09-22T23:36:02.810Z"
   },
   {
    "duration": 1084,
    "start_time": "2023-09-22T23:36:04.122Z"
   },
   {
    "duration": 17,
    "start_time": "2023-09-22T23:36:05.208Z"
   },
   {
    "duration": 107,
    "start_time": "2023-09-22T23:36:05.227Z"
   },
   {
    "duration": 393,
    "start_time": "2023-09-22T23:36:05.336Z"
   },
   {
    "duration": 97,
    "start_time": "2023-09-22T23:36:05.731Z"
   },
   {
    "duration": 429,
    "start_time": "2023-09-22T23:36:05.829Z"
   },
   {
    "duration": 81,
    "start_time": "2023-09-22T23:36:06.260Z"
   },
   {
    "duration": 8,
    "start_time": "2023-09-22T23:36:06.343Z"
   },
   {
    "duration": 32,
    "start_time": "2023-09-22T23:36:06.353Z"
   },
   {
    "duration": 43,
    "start_time": "2023-09-22T23:36:06.387Z"
   },
   {
    "duration": 31,
    "start_time": "2023-09-22T23:36:06.432Z"
   },
   {
    "duration": 58,
    "start_time": "2023-09-22T23:36:06.466Z"
   },
   {
    "duration": 609,
    "start_time": "2023-09-22T23:36:06.525Z"
   },
   {
    "duration": 26,
    "start_time": "2023-09-22T23:36:07.136Z"
   },
   {
    "duration": 32,
    "start_time": "2023-09-22T23:36:07.164Z"
   },
   {
    "duration": 65,
    "start_time": "2023-09-22T23:36:07.198Z"
   },
   {
    "duration": 69,
    "start_time": "2023-09-22T23:36:07.265Z"
   },
   {
    "duration": 104,
    "start_time": "2023-09-22T23:36:07.336Z"
   },
   {
    "duration": 45,
    "start_time": "2023-09-22T23:36:07.441Z"
   },
   {
    "duration": 120,
    "start_time": "2023-09-22T23:36:07.488Z"
   },
   {
    "duration": 0,
    "start_time": "2023-09-22T23:36:07.609Z"
   },
   {
    "duration": 0,
    "start_time": "2023-09-22T23:36:07.611Z"
   },
   {
    "duration": 0,
    "start_time": "2023-09-22T23:36:07.612Z"
   },
   {
    "duration": 0,
    "start_time": "2023-09-22T23:36:07.613Z"
   },
   {
    "duration": 0,
    "start_time": "2023-09-22T23:36:07.614Z"
   },
   {
    "duration": 0,
    "start_time": "2023-09-22T23:36:07.615Z"
   },
   {
    "duration": 0,
    "start_time": "2023-09-22T23:36:07.616Z"
   },
   {
    "duration": 0,
    "start_time": "2023-09-22T23:36:07.616Z"
   },
   {
    "duration": 0,
    "start_time": "2023-09-22T23:36:07.617Z"
   },
   {
    "duration": 0,
    "start_time": "2023-09-22T23:36:07.618Z"
   },
   {
    "duration": 0,
    "start_time": "2023-09-22T23:36:07.619Z"
   },
   {
    "duration": 0,
    "start_time": "2023-09-22T23:36:07.620Z"
   },
   {
    "duration": 0,
    "start_time": "2023-09-22T23:36:07.621Z"
   },
   {
    "duration": 0,
    "start_time": "2023-09-22T23:36:07.622Z"
   },
   {
    "duration": 0,
    "start_time": "2023-09-22T23:36:07.622Z"
   },
   {
    "duration": 0,
    "start_time": "2023-09-22T23:36:07.623Z"
   },
   {
    "duration": 1,
    "start_time": "2023-09-22T23:36:07.624Z"
   },
   {
    "duration": 0,
    "start_time": "2023-09-22T23:36:07.625Z"
   },
   {
    "duration": 0,
    "start_time": "2023-09-22T23:36:07.626Z"
   },
   {
    "duration": 0,
    "start_time": "2023-09-22T23:36:07.627Z"
   },
   {
    "duration": 0,
    "start_time": "2023-09-22T23:36:07.628Z"
   },
   {
    "duration": 0,
    "start_time": "2023-09-22T23:36:07.629Z"
   },
   {
    "duration": 0,
    "start_time": "2023-09-22T23:36:07.630Z"
   },
   {
    "duration": 0,
    "start_time": "2023-09-22T23:36:07.631Z"
   },
   {
    "duration": 0,
    "start_time": "2023-09-22T23:36:07.632Z"
   },
   {
    "duration": 0,
    "start_time": "2023-09-22T23:36:07.634Z"
   },
   {
    "duration": 0,
    "start_time": "2023-09-22T23:36:07.634Z"
   },
   {
    "duration": 0,
    "start_time": "2023-09-22T23:36:07.635Z"
   },
   {
    "duration": 6,
    "start_time": "2023-09-22T23:36:23.390Z"
   },
   {
    "duration": 5,
    "start_time": "2023-09-22T23:37:17.879Z"
   },
   {
    "duration": 7,
    "start_time": "2023-09-22T23:37:22.164Z"
   },
   {
    "duration": 11,
    "start_time": "2023-09-22T23:40:37.207Z"
   },
   {
    "duration": 9,
    "start_time": "2023-09-22T23:41:38.948Z"
   },
   {
    "duration": 29,
    "start_time": "2023-09-22T23:42:00.486Z"
   },
   {
    "duration": 956,
    "start_time": "2023-09-22T23:42:24.371Z"
   },
   {
    "duration": 145,
    "start_time": "2023-09-22T23:43:13.864Z"
   },
   {
    "duration": 12,
    "start_time": "2023-09-22T23:43:17.012Z"
   },
   {
    "duration": 2257,
    "start_time": "2023-09-22T23:43:52.421Z"
   },
   {
    "duration": 1356,
    "start_time": "2023-09-22T23:43:54.681Z"
   },
   {
    "duration": 1043,
    "start_time": "2023-09-22T23:43:56.039Z"
   },
   {
    "duration": 25,
    "start_time": "2023-09-22T23:43:57.085Z"
   },
   {
    "duration": 111,
    "start_time": "2023-09-22T23:43:57.112Z"
   },
   {
    "duration": 411,
    "start_time": "2023-09-22T23:43:57.225Z"
   },
   {
    "duration": 102,
    "start_time": "2023-09-22T23:43:57.638Z"
   },
   {
    "duration": 410,
    "start_time": "2023-09-22T23:43:57.741Z"
   },
   {
    "duration": 83,
    "start_time": "2023-09-22T23:43:58.153Z"
   },
   {
    "duration": 9,
    "start_time": "2023-09-22T23:43:58.238Z"
   },
   {
    "duration": 32,
    "start_time": "2023-09-22T23:43:58.249Z"
   },
   {
    "duration": 47,
    "start_time": "2023-09-22T23:43:58.283Z"
   },
   {
    "duration": 56,
    "start_time": "2023-09-22T23:43:58.332Z"
   },
   {
    "duration": 31,
    "start_time": "2023-09-22T23:43:58.391Z"
   },
   {
    "duration": 117,
    "start_time": "2023-09-22T23:43:58.424Z"
   },
   {
    "duration": 0,
    "start_time": "2023-09-22T23:43:58.543Z"
   },
   {
    "duration": 0,
    "start_time": "2023-09-22T23:43:58.544Z"
   },
   {
    "duration": 0,
    "start_time": "2023-09-22T23:43:58.545Z"
   },
   {
    "duration": 0,
    "start_time": "2023-09-22T23:43:58.546Z"
   },
   {
    "duration": 1,
    "start_time": "2023-09-22T23:43:58.547Z"
   },
   {
    "duration": 0,
    "start_time": "2023-09-22T23:43:58.548Z"
   },
   {
    "duration": 0,
    "start_time": "2023-09-22T23:43:58.549Z"
   },
   {
    "duration": 0,
    "start_time": "2023-09-22T23:43:58.550Z"
   },
   {
    "duration": 0,
    "start_time": "2023-09-22T23:43:58.551Z"
   },
   {
    "duration": 0,
    "start_time": "2023-09-22T23:43:58.553Z"
   },
   {
    "duration": 0,
    "start_time": "2023-09-22T23:43:58.554Z"
   },
   {
    "duration": 0,
    "start_time": "2023-09-22T23:43:58.555Z"
   },
   {
    "duration": 0,
    "start_time": "2023-09-22T23:43:58.557Z"
   },
   {
    "duration": 0,
    "start_time": "2023-09-22T23:43:58.558Z"
   },
   {
    "duration": 0,
    "start_time": "2023-09-22T23:43:58.560Z"
   },
   {
    "duration": 0,
    "start_time": "2023-09-22T23:43:58.561Z"
   },
   {
    "duration": 1,
    "start_time": "2023-09-22T23:43:58.562Z"
   },
   {
    "duration": 0,
    "start_time": "2023-09-22T23:43:58.564Z"
   },
   {
    "duration": 0,
    "start_time": "2023-09-22T23:43:58.565Z"
   },
   {
    "duration": 0,
    "start_time": "2023-09-22T23:43:58.566Z"
   },
   {
    "duration": 0,
    "start_time": "2023-09-22T23:43:58.567Z"
   },
   {
    "duration": 0,
    "start_time": "2023-09-22T23:43:58.602Z"
   },
   {
    "duration": 0,
    "start_time": "2023-09-22T23:43:58.603Z"
   },
   {
    "duration": 0,
    "start_time": "2023-09-22T23:43:58.604Z"
   },
   {
    "duration": 0,
    "start_time": "2023-09-22T23:43:58.605Z"
   },
   {
    "duration": 0,
    "start_time": "2023-09-22T23:43:58.606Z"
   },
   {
    "duration": 0,
    "start_time": "2023-09-22T23:43:58.607Z"
   },
   {
    "duration": 0,
    "start_time": "2023-09-22T23:43:58.608Z"
   },
   {
    "duration": 0,
    "start_time": "2023-09-22T23:43:58.609Z"
   },
   {
    "duration": 0,
    "start_time": "2023-09-22T23:43:58.610Z"
   },
   {
    "duration": 0,
    "start_time": "2023-09-22T23:43:58.611Z"
   },
   {
    "duration": 0,
    "start_time": "2023-09-22T23:43:58.612Z"
   },
   {
    "duration": 0,
    "start_time": "2023-09-22T23:43:58.613Z"
   },
   {
    "duration": 0,
    "start_time": "2023-09-22T23:43:58.614Z"
   },
   {
    "duration": 0,
    "start_time": "2023-09-22T23:43:58.615Z"
   },
   {
    "duration": 0,
    "start_time": "2023-09-22T23:43:58.616Z"
   },
   {
    "duration": 35,
    "start_time": "2023-09-22T23:46:13.396Z"
   },
   {
    "duration": 41,
    "start_time": "2023-09-22T23:46:38.356Z"
   },
   {
    "duration": 43,
    "start_time": "2023-09-22T23:46:52.653Z"
   },
   {
    "duration": 50,
    "start_time": "2023-09-22T23:47:20.135Z"
   },
   {
    "duration": 38,
    "start_time": "2023-09-22T23:47:41.411Z"
   },
   {
    "duration": 9,
    "start_time": "2023-09-22T23:52:31.954Z"
   },
   {
    "duration": 36,
    "start_time": "2023-09-22T23:52:36.115Z"
   },
   {
    "duration": 4,
    "start_time": "2023-09-22T23:52:36.613Z"
   },
   {
    "duration": 21,
    "start_time": "2023-09-22T23:52:56.594Z"
   },
   {
    "duration": 112,
    "start_time": "2023-09-22T23:53:25.435Z"
   },
   {
    "duration": 1682,
    "start_time": "2023-09-22T23:53:40.160Z"
   },
   {
    "duration": 1973,
    "start_time": "2023-09-22T23:53:51.939Z"
   },
   {
    "duration": 27,
    "start_time": "2023-09-22T23:54:06.842Z"
   },
   {
    "duration": 40421,
    "start_time": "2023-09-22T23:55:42.806Z"
   },
   {
    "duration": 0,
    "start_time": "2023-09-22T23:56:23.228Z"
   },
   {
    "duration": 8,
    "start_time": "2023-09-22T23:57:10.266Z"
   },
   {
    "duration": 26,
    "start_time": "2023-09-22T23:57:13.255Z"
   },
   {
    "duration": 9,
    "start_time": "2023-09-22T23:58:47.051Z"
   },
   {
    "duration": 2,
    "start_time": "2023-09-22T23:58:50.041Z"
   },
   {
    "duration": 5,
    "start_time": "2023-09-22T23:59:02.458Z"
   },
   {
    "duration": 52,
    "start_time": "2023-09-22T23:59:58.665Z"
   },
   {
    "duration": 28,
    "start_time": "2023-09-23T00:00:09.151Z"
   },
   {
    "duration": 2003,
    "start_time": "2023-09-23T00:00:45.155Z"
   },
   {
    "duration": 4,
    "start_time": "2023-09-23T00:00:56.004Z"
   },
   {
    "duration": 36,
    "start_time": "2023-09-23T00:01:26.383Z"
   },
   {
    "duration": 2188,
    "start_time": "2023-09-23T00:01:44.154Z"
   },
   {
    "duration": 1188,
    "start_time": "2023-09-23T00:01:46.344Z"
   },
   {
    "duration": 1096,
    "start_time": "2023-09-23T00:01:47.533Z"
   },
   {
    "duration": 19,
    "start_time": "2023-09-23T00:01:48.631Z"
   },
   {
    "duration": 133,
    "start_time": "2023-09-23T00:01:48.652Z"
   },
   {
    "duration": 420,
    "start_time": "2023-09-23T00:01:48.787Z"
   },
   {
    "duration": 104,
    "start_time": "2023-09-23T00:01:49.209Z"
   },
   {
    "duration": 428,
    "start_time": "2023-09-23T00:01:49.315Z"
   },
   {
    "duration": 86,
    "start_time": "2023-09-23T00:01:49.744Z"
   },
   {
    "duration": 9,
    "start_time": "2023-09-23T00:01:49.832Z"
   },
   {
    "duration": 30,
    "start_time": "2023-09-23T00:01:49.842Z"
   },
   {
    "duration": 34,
    "start_time": "2023-09-23T00:01:49.874Z"
   },
   {
    "duration": 22,
    "start_time": "2023-09-23T00:01:49.910Z"
   },
   {
    "duration": 32,
    "start_time": "2023-09-23T00:01:49.935Z"
   },
   {
    "duration": 53,
    "start_time": "2023-09-23T00:01:49.968Z"
   },
   {
    "duration": 5,
    "start_time": "2023-09-23T00:01:50.022Z"
   },
   {
    "duration": 29,
    "start_time": "2023-09-23T00:01:50.028Z"
   },
   {
    "duration": 15021,
    "start_time": "2023-09-23T00:01:50.058Z"
   },
   {
    "duration": 0,
    "start_time": "2023-09-23T00:02:05.081Z"
   },
   {
    "duration": 0,
    "start_time": "2023-09-23T00:02:05.083Z"
   },
   {
    "duration": 0,
    "start_time": "2023-09-23T00:02:05.084Z"
   },
   {
    "duration": 0,
    "start_time": "2023-09-23T00:02:05.102Z"
   },
   {
    "duration": 0,
    "start_time": "2023-09-23T00:02:05.103Z"
   },
   {
    "duration": 0,
    "start_time": "2023-09-23T00:02:05.104Z"
   },
   {
    "duration": 0,
    "start_time": "2023-09-23T00:02:05.105Z"
   },
   {
    "duration": 0,
    "start_time": "2023-09-23T00:02:05.106Z"
   },
   {
    "duration": 0,
    "start_time": "2023-09-23T00:02:05.107Z"
   },
   {
    "duration": 0,
    "start_time": "2023-09-23T00:02:05.108Z"
   },
   {
    "duration": 0,
    "start_time": "2023-09-23T00:02:05.109Z"
   },
   {
    "duration": 0,
    "start_time": "2023-09-23T00:02:05.109Z"
   },
   {
    "duration": 0,
    "start_time": "2023-09-23T00:02:05.111Z"
   },
   {
    "duration": 1,
    "start_time": "2023-09-23T00:02:05.111Z"
   },
   {
    "duration": 0,
    "start_time": "2023-09-23T00:02:05.113Z"
   },
   {
    "duration": 0,
    "start_time": "2023-09-23T00:02:05.114Z"
   },
   {
    "duration": 0,
    "start_time": "2023-09-23T00:02:05.115Z"
   },
   {
    "duration": 0,
    "start_time": "2023-09-23T00:02:05.116Z"
   },
   {
    "duration": 0,
    "start_time": "2023-09-23T00:02:05.116Z"
   },
   {
    "duration": 0,
    "start_time": "2023-09-23T00:02:05.118Z"
   },
   {
    "duration": 0,
    "start_time": "2023-09-23T00:02:05.118Z"
   },
   {
    "duration": 0,
    "start_time": "2023-09-23T00:02:05.119Z"
   },
   {
    "duration": 0,
    "start_time": "2023-09-23T00:02:05.121Z"
   },
   {
    "duration": 0,
    "start_time": "2023-09-23T00:02:05.121Z"
   },
   {
    "duration": 0,
    "start_time": "2023-09-23T00:02:05.122Z"
   },
   {
    "duration": 0,
    "start_time": "2023-09-23T00:02:05.123Z"
   },
   {
    "duration": 0,
    "start_time": "2023-09-23T00:02:05.124Z"
   },
   {
    "duration": 0,
    "start_time": "2023-09-23T00:02:05.126Z"
   },
   {
    "duration": 0,
    "start_time": "2023-09-23T00:02:05.127Z"
   },
   {
    "duration": 0,
    "start_time": "2023-09-23T00:02:05.128Z"
   },
   {
    "duration": 0,
    "start_time": "2023-09-23T00:02:05.129Z"
   },
   {
    "duration": 0,
    "start_time": "2023-09-23T00:02:05.130Z"
   },
   {
    "duration": 0,
    "start_time": "2023-09-23T00:02:05.131Z"
   },
   {
    "duration": 0,
    "start_time": "2023-09-23T00:02:05.132Z"
   },
   {
    "duration": 0,
    "start_time": "2023-09-23T00:02:05.133Z"
   },
   {
    "duration": 0,
    "start_time": "2023-09-23T00:02:05.133Z"
   },
   {
    "duration": 5,
    "start_time": "2023-09-23T00:03:02.862Z"
   },
   {
    "duration": 5,
    "start_time": "2023-09-23T00:03:05.831Z"
   },
   {
    "duration": 2180,
    "start_time": "2023-09-23T00:03:10.882Z"
   },
   {
    "duration": 1290,
    "start_time": "2023-09-23T00:03:13.064Z"
   },
   {
    "duration": 1062,
    "start_time": "2023-09-23T00:03:14.358Z"
   },
   {
    "duration": 19,
    "start_time": "2023-09-23T00:03:15.421Z"
   },
   {
    "duration": 119,
    "start_time": "2023-09-23T00:03:15.441Z"
   },
   {
    "duration": 434,
    "start_time": "2023-09-23T00:03:15.563Z"
   },
   {
    "duration": 103,
    "start_time": "2023-09-23T00:03:16.001Z"
   },
   {
    "duration": 455,
    "start_time": "2023-09-23T00:03:16.105Z"
   },
   {
    "duration": 80,
    "start_time": "2023-09-23T00:03:16.562Z"
   },
   {
    "duration": 9,
    "start_time": "2023-09-23T00:03:16.644Z"
   },
   {
    "duration": 38,
    "start_time": "2023-09-23T00:03:16.654Z"
   },
   {
    "duration": 47,
    "start_time": "2023-09-23T00:03:16.694Z"
   },
   {
    "duration": 62,
    "start_time": "2023-09-23T00:03:16.743Z"
   },
   {
    "duration": 41,
    "start_time": "2023-09-23T00:03:16.806Z"
   },
   {
    "duration": 57,
    "start_time": "2023-09-23T00:03:16.848Z"
   },
   {
    "duration": 15,
    "start_time": "2023-09-23T00:03:16.906Z"
   },
   {
    "duration": 16,
    "start_time": "2023-09-23T00:03:16.923Z"
   },
   {
    "duration": 14425,
    "start_time": "2023-09-23T00:03:16.941Z"
   },
   {
    "duration": 0,
    "start_time": "2023-09-23T00:03:31.368Z"
   },
   {
    "duration": 0,
    "start_time": "2023-09-23T00:03:31.369Z"
   },
   {
    "duration": 0,
    "start_time": "2023-09-23T00:03:31.370Z"
   },
   {
    "duration": 0,
    "start_time": "2023-09-23T00:03:31.371Z"
   },
   {
    "duration": 0,
    "start_time": "2023-09-23T00:03:31.372Z"
   },
   {
    "duration": 0,
    "start_time": "2023-09-23T00:03:31.373Z"
   },
   {
    "duration": 0,
    "start_time": "2023-09-23T00:03:31.374Z"
   },
   {
    "duration": 0,
    "start_time": "2023-09-23T00:03:31.375Z"
   },
   {
    "duration": 0,
    "start_time": "2023-09-23T00:03:31.376Z"
   },
   {
    "duration": 0,
    "start_time": "2023-09-23T00:03:31.377Z"
   },
   {
    "duration": 0,
    "start_time": "2023-09-23T00:03:31.378Z"
   },
   {
    "duration": 0,
    "start_time": "2023-09-23T00:03:31.378Z"
   },
   {
    "duration": 0,
    "start_time": "2023-09-23T00:03:31.379Z"
   },
   {
    "duration": 0,
    "start_time": "2023-09-23T00:03:31.402Z"
   },
   {
    "duration": 0,
    "start_time": "2023-09-23T00:03:31.403Z"
   },
   {
    "duration": 0,
    "start_time": "2023-09-23T00:03:31.404Z"
   },
   {
    "duration": 0,
    "start_time": "2023-09-23T00:03:31.404Z"
   },
   {
    "duration": 0,
    "start_time": "2023-09-23T00:03:31.405Z"
   },
   {
    "duration": 0,
    "start_time": "2023-09-23T00:03:31.406Z"
   },
   {
    "duration": 0,
    "start_time": "2023-09-23T00:03:31.407Z"
   },
   {
    "duration": 0,
    "start_time": "2023-09-23T00:03:31.408Z"
   },
   {
    "duration": 0,
    "start_time": "2023-09-23T00:03:31.408Z"
   },
   {
    "duration": 0,
    "start_time": "2023-09-23T00:03:31.409Z"
   },
   {
    "duration": 0,
    "start_time": "2023-09-23T00:03:31.411Z"
   },
   {
    "duration": 0,
    "start_time": "2023-09-23T00:03:31.412Z"
   },
   {
    "duration": 0,
    "start_time": "2023-09-23T00:03:31.413Z"
   },
   {
    "duration": 0,
    "start_time": "2023-09-23T00:03:31.414Z"
   },
   {
    "duration": 0,
    "start_time": "2023-09-23T00:03:31.415Z"
   },
   {
    "duration": 0,
    "start_time": "2023-09-23T00:03:31.415Z"
   },
   {
    "duration": 0,
    "start_time": "2023-09-23T00:03:31.416Z"
   },
   {
    "duration": 0,
    "start_time": "2023-09-23T00:03:31.418Z"
   },
   {
    "duration": 0,
    "start_time": "2023-09-23T00:03:31.418Z"
   },
   {
    "duration": 0,
    "start_time": "2023-09-23T00:03:31.419Z"
   },
   {
    "duration": 0,
    "start_time": "2023-09-23T00:03:31.421Z"
   },
   {
    "duration": 0,
    "start_time": "2023-09-23T00:03:31.421Z"
   },
   {
    "duration": 0,
    "start_time": "2023-09-23T00:03:31.422Z"
   },
   {
    "duration": 4,
    "start_time": "2023-09-23T00:04:11.210Z"
   },
   {
    "duration": 22,
    "start_time": "2023-09-23T00:04:18.403Z"
   },
   {
    "duration": 17,
    "start_time": "2023-09-23T00:05:39.712Z"
   },
   {
    "duration": 22,
    "start_time": "2023-09-23T00:06:13.733Z"
   },
   {
    "duration": 39,
    "start_time": "2023-09-23T00:06:23.928Z"
   },
   {
    "duration": 3,
    "start_time": "2023-09-23T00:06:24.392Z"
   },
   {
    "duration": 14,
    "start_time": "2023-09-23T00:07:48.446Z"
   },
   {
    "duration": 11,
    "start_time": "2023-09-23T00:07:58.930Z"
   },
   {
    "duration": 17,
    "start_time": "2023-09-23T00:08:51.039Z"
   },
   {
    "duration": 41,
    "start_time": "2023-09-23T00:09:03.722Z"
   },
   {
    "duration": 11,
    "start_time": "2023-09-23T00:10:36.637Z"
   },
   {
    "duration": 94,
    "start_time": "2023-09-23T00:11:32.149Z"
   },
   {
    "duration": 54,
    "start_time": "2023-09-23T00:11:39.865Z"
   },
   {
    "duration": 10,
    "start_time": "2023-09-23T00:13:35.311Z"
   },
   {
    "duration": 42,
    "start_time": "2023-09-23T00:13:38.494Z"
   },
   {
    "duration": 4,
    "start_time": "2023-09-23T00:13:38.924Z"
   },
   {
    "duration": 4,
    "start_time": "2023-09-23T00:13:44.885Z"
   },
   {
    "duration": 4,
    "start_time": "2023-09-23T00:14:25.854Z"
   },
   {
    "duration": 4,
    "start_time": "2023-09-23T00:15:10.589Z"
   },
   {
    "duration": 6,
    "start_time": "2023-09-23T00:15:19.135Z"
   },
   {
    "duration": 3,
    "start_time": "2023-09-23T00:15:21.978Z"
   },
   {
    "duration": 1884,
    "start_time": "2023-09-23T00:16:01.601Z"
   },
   {
    "duration": 25,
    "start_time": "2023-09-23T00:16:08.013Z"
   },
   {
    "duration": 2164,
    "start_time": "2023-09-23T00:16:39.090Z"
   },
   {
    "duration": 23,
    "start_time": "2023-09-23T00:16:41.256Z"
   },
   {
    "duration": 2163,
    "start_time": "2023-09-23T00:17:03.307Z"
   },
   {
    "duration": 30,
    "start_time": "2023-09-23T00:17:05.472Z"
   },
   {
    "duration": 2192,
    "start_time": "2023-09-23T00:18:28.956Z"
   },
   {
    "duration": 1223,
    "start_time": "2023-09-23T00:18:31.150Z"
   },
   {
    "duration": 1020,
    "start_time": "2023-09-23T00:18:32.377Z"
   },
   {
    "duration": 18,
    "start_time": "2023-09-23T00:18:33.400Z"
   },
   {
    "duration": 168,
    "start_time": "2023-09-23T00:18:33.419Z"
   },
   {
    "duration": 535,
    "start_time": "2023-09-23T00:18:33.589Z"
   },
   {
    "duration": 111,
    "start_time": "2023-09-23T00:18:34.126Z"
   },
   {
    "duration": 490,
    "start_time": "2023-09-23T00:18:34.238Z"
   },
   {
    "duration": 85,
    "start_time": "2023-09-23T00:18:34.731Z"
   },
   {
    "duration": 10,
    "start_time": "2023-09-23T00:18:34.818Z"
   },
   {
    "duration": 65,
    "start_time": "2023-09-23T00:18:34.830Z"
   },
   {
    "duration": 49,
    "start_time": "2023-09-23T00:18:34.897Z"
   },
   {
    "duration": 60,
    "start_time": "2023-09-23T00:18:34.948Z"
   },
   {
    "duration": 56,
    "start_time": "2023-09-23T00:18:35.010Z"
   },
   {
    "duration": 78,
    "start_time": "2023-09-23T00:18:35.068Z"
   },
   {
    "duration": 2353,
    "start_time": "2023-09-23T00:18:35.148Z"
   },
   {
    "duration": 22,
    "start_time": "2023-09-23T00:18:37.503Z"
   },
   {
    "duration": 130,
    "start_time": "2023-09-23T00:18:37.527Z"
   },
   {
    "duration": 0,
    "start_time": "2023-09-23T00:18:37.660Z"
   },
   {
    "duration": 0,
    "start_time": "2023-09-23T00:18:37.662Z"
   },
   {
    "duration": 0,
    "start_time": "2023-09-23T00:18:37.663Z"
   },
   {
    "duration": 0,
    "start_time": "2023-09-23T00:18:37.665Z"
   },
   {
    "duration": 0,
    "start_time": "2023-09-23T00:18:37.667Z"
   },
   {
    "duration": 0,
    "start_time": "2023-09-23T00:18:37.668Z"
   },
   {
    "duration": 0,
    "start_time": "2023-09-23T00:18:37.670Z"
   },
   {
    "duration": 0,
    "start_time": "2023-09-23T00:18:37.671Z"
   },
   {
    "duration": 0,
    "start_time": "2023-09-23T00:18:37.673Z"
   },
   {
    "duration": 0,
    "start_time": "2023-09-23T00:18:37.674Z"
   },
   {
    "duration": 0,
    "start_time": "2023-09-23T00:18:37.701Z"
   },
   {
    "duration": 0,
    "start_time": "2023-09-23T00:18:37.702Z"
   },
   {
    "duration": 0,
    "start_time": "2023-09-23T00:18:37.704Z"
   },
   {
    "duration": 0,
    "start_time": "2023-09-23T00:18:37.705Z"
   },
   {
    "duration": 0,
    "start_time": "2023-09-23T00:18:37.709Z"
   },
   {
    "duration": 0,
    "start_time": "2023-09-23T00:18:37.710Z"
   },
   {
    "duration": 0,
    "start_time": "2023-09-23T00:18:37.711Z"
   },
   {
    "duration": 0,
    "start_time": "2023-09-23T00:18:37.711Z"
   },
   {
    "duration": 0,
    "start_time": "2023-09-23T00:18:37.712Z"
   },
   {
    "duration": 0,
    "start_time": "2023-09-23T00:18:37.713Z"
   },
   {
    "duration": 0,
    "start_time": "2023-09-23T00:18:37.715Z"
   },
   {
    "duration": 0,
    "start_time": "2023-09-23T00:18:37.716Z"
   },
   {
    "duration": 0,
    "start_time": "2023-09-23T00:18:37.718Z"
   },
   {
    "duration": 0,
    "start_time": "2023-09-23T00:18:37.720Z"
   },
   {
    "duration": 0,
    "start_time": "2023-09-23T00:18:37.721Z"
   },
   {
    "duration": 0,
    "start_time": "2023-09-23T00:18:37.722Z"
   },
   {
    "duration": 0,
    "start_time": "2023-09-23T00:18:37.723Z"
   },
   {
    "duration": 0,
    "start_time": "2023-09-23T00:18:37.724Z"
   },
   {
    "duration": 0,
    "start_time": "2023-09-23T00:18:37.725Z"
   },
   {
    "duration": 1,
    "start_time": "2023-09-23T00:18:37.725Z"
   },
   {
    "duration": 0,
    "start_time": "2023-09-23T00:18:37.726Z"
   },
   {
    "duration": 1,
    "start_time": "2023-09-23T00:18:37.727Z"
   },
   {
    "duration": 0,
    "start_time": "2023-09-23T00:18:37.729Z"
   },
   {
    "duration": 0,
    "start_time": "2023-09-23T00:18:37.729Z"
   },
   {
    "duration": 0,
    "start_time": "2023-09-23T00:18:37.731Z"
   },
   {
    "duration": 614,
    "start_time": "2023-09-23T00:18:48.828Z"
   },
   {
    "duration": 11,
    "start_time": "2023-09-23T00:18:49.444Z"
   },
   {
    "duration": 9,
    "start_time": "2023-09-23T00:18:49.649Z"
   },
   {
    "duration": 60,
    "start_time": "2023-09-23T00:18:49.846Z"
   },
   {
    "duration": 45,
    "start_time": "2023-09-23T00:18:50.095Z"
   },
   {
    "duration": 45,
    "start_time": "2023-09-23T00:18:50.142Z"
   },
   {
    "duration": 0,
    "start_time": "2023-09-23T00:18:50.189Z"
   },
   {
    "duration": 5,
    "start_time": "2023-09-23T00:18:50.215Z"
   },
   {
    "duration": 65,
    "start_time": "2023-09-23T00:18:50.243Z"
   },
   {
    "duration": 73,
    "start_time": "2023-09-23T00:18:50.310Z"
   },
   {
    "duration": 18,
    "start_time": "2023-09-23T00:18:50.385Z"
   },
   {
    "duration": 129,
    "start_time": "2023-09-23T00:18:50.405Z"
   },
   {
    "duration": 150,
    "start_time": "2023-09-23T00:18:50.536Z"
   },
   {
    "duration": 129,
    "start_time": "2023-09-23T00:18:50.688Z"
   },
   {
    "duration": 47,
    "start_time": "2023-09-23T00:18:50.819Z"
   },
   {
    "duration": 73,
    "start_time": "2023-09-23T00:18:50.868Z"
   },
   {
    "duration": 562,
    "start_time": "2023-09-23T00:18:50.943Z"
   },
   {
    "duration": 60,
    "start_time": "2023-09-23T00:18:51.507Z"
   },
   {
    "duration": 33,
    "start_time": "2023-09-23T00:18:51.569Z"
   },
   {
    "duration": 124,
    "start_time": "2023-09-23T00:18:51.604Z"
   },
   {
    "duration": 4,
    "start_time": "2023-09-23T00:18:51.730Z"
   },
   {
    "duration": 83,
    "start_time": "2023-09-23T00:18:51.735Z"
   },
   {
    "duration": 696,
    "start_time": "2023-09-23T00:18:51.821Z"
   },
   {
    "duration": 69,
    "start_time": "2023-09-23T00:18:52.519Z"
   },
   {
    "duration": 3,
    "start_time": "2023-09-23T00:18:52.602Z"
   },
   {
    "duration": 37,
    "start_time": "2023-09-23T00:18:52.606Z"
   },
   {
    "duration": 34,
    "start_time": "2023-09-23T00:18:52.646Z"
   },
   {
    "duration": 16,
    "start_time": "2023-09-23T00:18:52.682Z"
   },
   {
    "duration": 102,
    "start_time": "2023-09-23T00:18:52.700Z"
   },
   {
    "duration": 137,
    "start_time": "2023-09-23T00:18:52.804Z"
   },
   {
    "duration": 83,
    "start_time": "2023-09-23T00:18:52.943Z"
   },
   {
    "duration": 172,
    "start_time": "2023-09-23T00:18:53.028Z"
   },
   {
    "duration": 0,
    "start_time": "2023-09-23T00:18:53.202Z"
   },
   {
    "duration": 0,
    "start_time": "2023-09-23T00:18:53.204Z"
   },
   {
    "duration": 64,
    "start_time": "2023-09-23T00:19:27.246Z"
   },
   {
    "duration": 2213,
    "start_time": "2023-09-23T00:20:45.508Z"
   },
   {
    "duration": 1339,
    "start_time": "2023-09-23T00:20:47.723Z"
   },
   {
    "duration": 1141,
    "start_time": "2023-09-23T00:20:49.064Z"
   },
   {
    "duration": 17,
    "start_time": "2023-09-23T00:20:50.208Z"
   },
   {
    "duration": 131,
    "start_time": "2023-09-23T00:20:50.226Z"
   },
   {
    "duration": 451,
    "start_time": "2023-09-23T00:20:50.359Z"
   },
   {
    "duration": 111,
    "start_time": "2023-09-23T00:20:50.812Z"
   },
   {
    "duration": 450,
    "start_time": "2023-09-23T00:20:50.924Z"
   },
   {
    "duration": 90,
    "start_time": "2023-09-23T00:20:51.375Z"
   },
   {
    "duration": 10,
    "start_time": "2023-09-23T00:20:51.468Z"
   },
   {
    "duration": 149,
    "start_time": "2023-09-23T00:20:51.480Z"
   },
   {
    "duration": 43,
    "start_time": "2023-09-23T00:20:51.631Z"
   },
   {
    "duration": 44,
    "start_time": "2023-09-23T00:20:51.676Z"
   },
   {
    "duration": 34,
    "start_time": "2023-09-23T00:20:51.722Z"
   },
   {
    "duration": 6219,
    "start_time": "2023-09-23T00:20:51.759Z"
   },
   {
    "duration": 1,
    "start_time": "2023-09-23T00:20:57.979Z"
   },
   {
    "duration": 0,
    "start_time": "2023-09-23T00:20:57.981Z"
   },
   {
    "duration": 0,
    "start_time": "2023-09-23T00:20:57.982Z"
   },
   {
    "duration": 0,
    "start_time": "2023-09-23T00:20:57.983Z"
   },
   {
    "duration": 0,
    "start_time": "2023-09-23T00:20:57.983Z"
   },
   {
    "duration": 0,
    "start_time": "2023-09-23T00:20:57.984Z"
   },
   {
    "duration": 0,
    "start_time": "2023-09-23T00:20:57.985Z"
   },
   {
    "duration": 0,
    "start_time": "2023-09-23T00:20:57.986Z"
   },
   {
    "duration": 0,
    "start_time": "2023-09-23T00:20:57.987Z"
   },
   {
    "duration": 0,
    "start_time": "2023-09-23T00:20:57.988Z"
   },
   {
    "duration": 0,
    "start_time": "2023-09-23T00:20:57.989Z"
   },
   {
    "duration": 0,
    "start_time": "2023-09-23T00:20:57.991Z"
   },
   {
    "duration": 0,
    "start_time": "2023-09-23T00:20:57.992Z"
   },
   {
    "duration": 0,
    "start_time": "2023-09-23T00:20:57.993Z"
   },
   {
    "duration": 0,
    "start_time": "2023-09-23T00:20:57.994Z"
   },
   {
    "duration": 0,
    "start_time": "2023-09-23T00:20:57.995Z"
   },
   {
    "duration": 0,
    "start_time": "2023-09-23T00:20:57.996Z"
   },
   {
    "duration": 0,
    "start_time": "2023-09-23T00:20:57.997Z"
   },
   {
    "duration": 0,
    "start_time": "2023-09-23T00:20:57.998Z"
   },
   {
    "duration": 0,
    "start_time": "2023-09-23T00:20:57.999Z"
   },
   {
    "duration": 0,
    "start_time": "2023-09-23T00:20:58.000Z"
   },
   {
    "duration": 0,
    "start_time": "2023-09-23T00:20:58.001Z"
   },
   {
    "duration": 0,
    "start_time": "2023-09-23T00:20:58.003Z"
   },
   {
    "duration": 0,
    "start_time": "2023-09-23T00:20:58.004Z"
   },
   {
    "duration": 0,
    "start_time": "2023-09-23T00:20:58.005Z"
   },
   {
    "duration": 0,
    "start_time": "2023-09-23T00:20:58.006Z"
   },
   {
    "duration": 0,
    "start_time": "2023-09-23T00:20:58.007Z"
   },
   {
    "duration": 0,
    "start_time": "2023-09-23T00:20:58.008Z"
   },
   {
    "duration": 0,
    "start_time": "2023-09-23T00:20:58.009Z"
   },
   {
    "duration": 0,
    "start_time": "2023-09-23T00:20:58.010Z"
   },
   {
    "duration": 0,
    "start_time": "2023-09-23T00:20:58.011Z"
   },
   {
    "duration": 0,
    "start_time": "2023-09-23T00:20:58.012Z"
   },
   {
    "duration": 0,
    "start_time": "2023-09-23T00:20:58.014Z"
   },
   {
    "duration": 0,
    "start_time": "2023-09-23T00:20:58.015Z"
   },
   {
    "duration": 0,
    "start_time": "2023-09-23T00:20:58.016Z"
   },
   {
    "duration": 0,
    "start_time": "2023-09-23T00:20:58.017Z"
   },
   {
    "duration": 2059,
    "start_time": "2023-09-23T00:22:05.416Z"
   },
   {
    "duration": 20,
    "start_time": "2023-09-23T00:22:09.133Z"
   },
   {
    "duration": 669,
    "start_time": "2023-09-23T00:23:08.118Z"
   },
   {
    "duration": 29,
    "start_time": "2023-09-23T00:23:08.789Z"
   },
   {
    "duration": 441,
    "start_time": "2023-09-23T00:24:19.449Z"
   },
   {
    "duration": 34,
    "start_time": "2023-09-23T00:24:19.892Z"
   },
   {
    "duration": 12,
    "start_time": "2023-09-23T00:24:53.335Z"
   },
   {
    "duration": 516,
    "start_time": "2023-09-23T00:24:57.012Z"
   },
   {
    "duration": 9,
    "start_time": "2023-09-23T00:24:57.530Z"
   },
   {
    "duration": 16,
    "start_time": "2023-09-23T00:24:57.540Z"
   },
   {
    "duration": 40,
    "start_time": "2023-09-23T00:24:58.331Z"
   },
   {
    "duration": 23,
    "start_time": "2023-09-23T00:24:58.373Z"
   },
   {
    "duration": 136,
    "start_time": "2023-09-23T00:24:58.397Z"
   },
   {
    "duration": 9,
    "start_time": "2023-09-23T00:24:58.574Z"
   },
   {
    "duration": 5,
    "start_time": "2023-09-23T00:24:58.796Z"
   },
   {
    "duration": 45,
    "start_time": "2023-09-23T00:24:58.985Z"
   },
   {
    "duration": 60,
    "start_time": "2023-09-23T00:24:59.169Z"
   },
   {
    "duration": 3,
    "start_time": "2023-09-23T00:24:59.357Z"
   },
   {
    "duration": 47,
    "start_time": "2023-09-23T00:25:11.587Z"
   },
   {
    "duration": 44,
    "start_time": "2023-09-23T00:25:12.039Z"
   },
   {
    "duration": 3,
    "start_time": "2023-09-23T00:25:12.918Z"
   },
   {
    "duration": 99,
    "start_time": "2023-09-23T00:25:15.826Z"
   },
   {
    "duration": 136,
    "start_time": "2023-09-23T00:25:16.251Z"
   },
   {
    "duration": 115,
    "start_time": "2023-09-23T00:25:16.580Z"
   },
   {
    "duration": 73,
    "start_time": "2023-09-23T00:25:16.841Z"
   },
   {
    "duration": 53,
    "start_time": "2023-09-23T00:25:17.279Z"
   },
   {
    "duration": 526,
    "start_time": "2023-09-23T00:25:18.014Z"
   },
   {
    "duration": 85,
    "start_time": "2023-09-23T00:25:19.203Z"
   },
   {
    "duration": 15,
    "start_time": "2023-09-23T00:25:20.032Z"
   },
   {
    "duration": 136,
    "start_time": "2023-09-23T00:25:22.230Z"
   },
   {
    "duration": 7,
    "start_time": "2023-09-23T00:25:22.700Z"
   },
   {
    "duration": 16,
    "start_time": "2023-09-23T00:25:23.510Z"
   },
   {
    "duration": 104,
    "start_time": "2023-09-23T00:25:24.033Z"
   },
   {
    "duration": 61,
    "start_time": "2023-09-23T00:26:26.759Z"
   },
   {
    "duration": 34,
    "start_time": "2023-09-23T00:26:33.494Z"
   },
   {
    "duration": 5,
    "start_time": "2023-09-23T00:26:36.737Z"
   },
   {
    "duration": 41,
    "start_time": "2023-09-23T00:26:40.894Z"
   },
   {
    "duration": 35,
    "start_time": "2023-09-23T00:26:41.251Z"
   },
   {
    "duration": 4,
    "start_time": "2023-09-23T00:26:41.495Z"
   },
   {
    "duration": 96,
    "start_time": "2023-09-23T00:26:41.765Z"
   },
   {
    "duration": 116,
    "start_time": "2023-09-23T00:26:42.055Z"
   },
   {
    "duration": 112,
    "start_time": "2023-09-23T00:26:42.512Z"
   },
   {
    "duration": 56,
    "start_time": "2023-09-23T00:26:42.749Z"
   },
   {
    "duration": 54,
    "start_time": "2023-09-23T00:26:43.012Z"
   },
   {
    "duration": 445,
    "start_time": "2023-09-23T00:26:43.293Z"
   },
   {
    "duration": 93,
    "start_time": "2023-09-23T00:26:43.740Z"
   },
   {
    "duration": 13,
    "start_time": "2023-09-23T00:26:43.835Z"
   },
   {
    "duration": 132,
    "start_time": "2023-09-23T00:26:43.956Z"
   },
   {
    "duration": 4,
    "start_time": "2023-09-23T00:26:44.206Z"
   },
   {
    "duration": 16,
    "start_time": "2023-09-23T00:26:44.502Z"
   },
   {
    "duration": 104,
    "start_time": "2023-09-23T00:26:44.745Z"
   },
   {
    "duration": 10,
    "start_time": "2023-09-23T00:26:44.978Z"
   },
   {
    "duration": 3,
    "start_time": "2023-09-23T00:26:45.439Z"
   },
   {
    "duration": 98,
    "start_time": "2023-09-23T00:26:49.190Z"
   },
   {
    "duration": 10,
    "start_time": "2023-09-23T00:28:46.012Z"
   },
   {
    "duration": 38,
    "start_time": "2023-09-23T00:28:49.825Z"
   },
   {
    "duration": 716,
    "start_time": "2023-09-23T00:29:04.094Z"
   },
   {
    "duration": 2668,
    "start_time": "2023-09-23T00:29:31.150Z"
   },
   {
    "duration": 1337,
    "start_time": "2023-09-23T00:29:33.820Z"
   },
   {
    "duration": 1086,
    "start_time": "2023-09-23T00:29:35.160Z"
   },
   {
    "duration": 17,
    "start_time": "2023-09-23T00:29:36.247Z"
   },
   {
    "duration": 155,
    "start_time": "2023-09-23T00:29:36.267Z"
   },
   {
    "duration": 417,
    "start_time": "2023-09-23T00:29:36.424Z"
   },
   {
    "duration": 112,
    "start_time": "2023-09-23T00:29:36.843Z"
   },
   {
    "duration": 417,
    "start_time": "2023-09-23T00:29:36.957Z"
   },
   {
    "duration": 88,
    "start_time": "2023-09-23T00:29:37.376Z"
   },
   {
    "duration": 13,
    "start_time": "2023-09-23T00:29:37.466Z"
   },
   {
    "duration": 77,
    "start_time": "2023-09-23T00:29:37.481Z"
   },
   {
    "duration": 59,
    "start_time": "2023-09-23T00:29:37.560Z"
   },
   {
    "duration": 87,
    "start_time": "2023-09-23T00:29:37.621Z"
   },
   {
    "duration": 53,
    "start_time": "2023-09-23T00:29:37.711Z"
   },
   {
    "duration": 2930,
    "start_time": "2023-09-23T00:29:37.766Z"
   },
   {
    "duration": 27,
    "start_time": "2023-09-23T00:29:40.700Z"
   },
   {
    "duration": 553,
    "start_time": "2023-09-23T00:29:40.729Z"
   },
   {
    "duration": 20,
    "start_time": "2023-09-23T00:29:41.284Z"
   },
   {
    "duration": 58,
    "start_time": "2023-09-23T00:29:41.305Z"
   },
   {
    "duration": 75,
    "start_time": "2023-09-23T00:29:41.365Z"
   },
   {
    "duration": 22,
    "start_time": "2023-09-23T00:29:41.441Z"
   },
   {
    "duration": 142,
    "start_time": "2023-09-23T00:29:41.464Z"
   },
   {
    "duration": 42,
    "start_time": "2023-09-23T00:29:41.608Z"
   },
   {
    "duration": 60,
    "start_time": "2023-09-23T00:29:41.652Z"
   },
   {
    "duration": 469,
    "start_time": "2023-09-23T00:29:41.714Z"
   },
   {
    "duration": 0,
    "start_time": "2023-09-23T00:29:42.185Z"
   },
   {
    "duration": 0,
    "start_time": "2023-09-23T00:29:42.187Z"
   },
   {
    "duration": 0,
    "start_time": "2023-09-23T00:29:42.188Z"
   },
   {
    "duration": 0,
    "start_time": "2023-09-23T00:29:42.190Z"
   },
   {
    "duration": 0,
    "start_time": "2023-09-23T00:29:42.191Z"
   },
   {
    "duration": 0,
    "start_time": "2023-09-23T00:29:42.192Z"
   },
   {
    "duration": 0,
    "start_time": "2023-09-23T00:29:42.194Z"
   },
   {
    "duration": 0,
    "start_time": "2023-09-23T00:29:42.195Z"
   },
   {
    "duration": 0,
    "start_time": "2023-09-23T00:29:42.197Z"
   },
   {
    "duration": 0,
    "start_time": "2023-09-23T00:29:42.198Z"
   },
   {
    "duration": 0,
    "start_time": "2023-09-23T00:29:42.199Z"
   },
   {
    "duration": 0,
    "start_time": "2023-09-23T00:29:42.200Z"
   },
   {
    "duration": 0,
    "start_time": "2023-09-23T00:29:42.202Z"
   },
   {
    "duration": 0,
    "start_time": "2023-09-23T00:29:42.203Z"
   },
   {
    "duration": 0,
    "start_time": "2023-09-23T00:29:42.205Z"
   },
   {
    "duration": 0,
    "start_time": "2023-09-23T00:29:42.207Z"
   },
   {
    "duration": 0,
    "start_time": "2023-09-23T00:29:42.208Z"
   },
   {
    "duration": 0,
    "start_time": "2023-09-23T00:29:42.210Z"
   },
   {
    "duration": 0,
    "start_time": "2023-09-23T00:29:42.210Z"
   },
   {
    "duration": 0,
    "start_time": "2023-09-23T00:29:42.212Z"
   },
   {
    "duration": 0,
    "start_time": "2023-09-23T00:29:42.213Z"
   },
   {
    "duration": 0,
    "start_time": "2023-09-23T00:29:42.215Z"
   },
   {
    "duration": 0,
    "start_time": "2023-09-23T00:29:42.216Z"
   },
   {
    "duration": 0,
    "start_time": "2023-09-23T00:29:42.217Z"
   },
   {
    "duration": 0,
    "start_time": "2023-09-23T00:29:42.218Z"
   },
   {
    "duration": 0,
    "start_time": "2023-09-23T00:29:42.220Z"
   },
   {
    "duration": 0,
    "start_time": "2023-09-23T00:29:42.221Z"
   },
   {
    "duration": 0,
    "start_time": "2023-09-23T00:29:42.222Z"
   },
   {
    "duration": 35,
    "start_time": "2023-09-23T00:30:38.625Z"
   },
   {
    "duration": 42,
    "start_time": "2023-09-23T00:30:39.170Z"
   },
   {
    "duration": 18,
    "start_time": "2023-09-23T00:31:48.342Z"
   },
   {
    "duration": 23,
    "start_time": "2023-09-23T00:32:24.317Z"
   },
   {
    "duration": 29,
    "start_time": "2023-09-23T00:33:00.567Z"
   },
   {
    "duration": 22,
    "start_time": "2023-09-23T00:33:11.387Z"
   },
   {
    "duration": 96,
    "start_time": "2023-09-23T00:33:18.405Z"
   },
   {
    "duration": 41,
    "start_time": "2023-09-23T00:33:21.242Z"
   },
   {
    "duration": 46,
    "start_time": "2023-09-23T00:33:21.959Z"
   },
   {
    "duration": 851,
    "start_time": "2023-09-23T00:33:22.170Z"
   },
   {
    "duration": 2455,
    "start_time": "2023-09-23T00:33:30.698Z"
   },
   {
    "duration": 1665,
    "start_time": "2023-09-23T00:33:33.156Z"
   },
   {
    "duration": 1071,
    "start_time": "2023-09-23T00:33:34.822Z"
   },
   {
    "duration": 21,
    "start_time": "2023-09-23T00:33:35.894Z"
   },
   {
    "duration": 306,
    "start_time": "2023-09-23T00:33:35.917Z"
   },
   {
    "duration": 457,
    "start_time": "2023-09-23T00:33:36.226Z"
   },
   {
    "duration": 91,
    "start_time": "2023-09-23T00:33:36.684Z"
   },
   {
    "duration": 499,
    "start_time": "2023-09-23T00:33:36.777Z"
   },
   {
    "duration": 82,
    "start_time": "2023-09-23T00:33:37.278Z"
   },
   {
    "duration": 9,
    "start_time": "2023-09-23T00:33:37.362Z"
   },
   {
    "duration": 37,
    "start_time": "2023-09-23T00:33:37.372Z"
   },
   {
    "duration": 24,
    "start_time": "2023-09-23T00:33:37.411Z"
   },
   {
    "duration": 30,
    "start_time": "2023-09-23T00:33:37.436Z"
   },
   {
    "duration": 58,
    "start_time": "2023-09-23T00:33:37.469Z"
   },
   {
    "duration": 2890,
    "start_time": "2023-09-23T00:33:37.529Z"
   },
   {
    "duration": 25,
    "start_time": "2023-09-23T00:33:40.420Z"
   },
   {
    "duration": 499,
    "start_time": "2023-09-23T00:33:40.447Z"
   },
   {
    "duration": 9,
    "start_time": "2023-09-23T00:33:40.948Z"
   },
   {
    "duration": 21,
    "start_time": "2023-09-23T00:33:40.959Z"
   },
   {
    "duration": 53,
    "start_time": "2023-09-23T00:33:40.981Z"
   },
   {
    "duration": 21,
    "start_time": "2023-09-23T00:33:41.035Z"
   },
   {
    "duration": 153,
    "start_time": "2023-09-23T00:33:41.059Z"
   },
   {
    "duration": 40,
    "start_time": "2023-09-23T00:33:41.214Z"
   },
   {
    "duration": 58,
    "start_time": "2023-09-23T00:33:41.256Z"
   },
   {
    "duration": 700,
    "start_time": "2023-09-23T00:33:41.315Z"
   },
   {
    "duration": 0,
    "start_time": "2023-09-23T00:33:42.018Z"
   },
   {
    "duration": 0,
    "start_time": "2023-09-23T00:33:42.020Z"
   },
   {
    "duration": 0,
    "start_time": "2023-09-23T00:33:42.021Z"
   },
   {
    "duration": 0,
    "start_time": "2023-09-23T00:33:42.023Z"
   },
   {
    "duration": 0,
    "start_time": "2023-09-23T00:33:42.024Z"
   },
   {
    "duration": 0,
    "start_time": "2023-09-23T00:33:42.030Z"
   },
   {
    "duration": 0,
    "start_time": "2023-09-23T00:33:42.032Z"
   },
   {
    "duration": 0,
    "start_time": "2023-09-23T00:33:42.033Z"
   },
   {
    "duration": 0,
    "start_time": "2023-09-23T00:33:42.035Z"
   },
   {
    "duration": 0,
    "start_time": "2023-09-23T00:33:42.037Z"
   },
   {
    "duration": 0,
    "start_time": "2023-09-23T00:33:42.038Z"
   },
   {
    "duration": 0,
    "start_time": "2023-09-23T00:33:42.040Z"
   },
   {
    "duration": 0,
    "start_time": "2023-09-23T00:33:42.041Z"
   },
   {
    "duration": 0,
    "start_time": "2023-09-23T00:33:42.043Z"
   },
   {
    "duration": 0,
    "start_time": "2023-09-23T00:33:42.044Z"
   },
   {
    "duration": 0,
    "start_time": "2023-09-23T00:33:42.045Z"
   },
   {
    "duration": 0,
    "start_time": "2023-09-23T00:33:42.046Z"
   },
   {
    "duration": 0,
    "start_time": "2023-09-23T00:33:42.047Z"
   },
   {
    "duration": 0,
    "start_time": "2023-09-23T00:33:42.048Z"
   },
   {
    "duration": 0,
    "start_time": "2023-09-23T00:33:42.049Z"
   },
   {
    "duration": 0,
    "start_time": "2023-09-23T00:33:42.051Z"
   },
   {
    "duration": 0,
    "start_time": "2023-09-23T00:33:42.052Z"
   },
   {
    "duration": 0,
    "start_time": "2023-09-23T00:33:42.053Z"
   },
   {
    "duration": 0,
    "start_time": "2023-09-23T00:33:42.054Z"
   },
   {
    "duration": 0,
    "start_time": "2023-09-23T00:33:42.056Z"
   },
   {
    "duration": 0,
    "start_time": "2023-09-23T00:33:42.057Z"
   },
   {
    "duration": 0,
    "start_time": "2023-09-23T00:33:42.058Z"
   },
   {
    "duration": 0,
    "start_time": "2023-09-23T00:33:42.059Z"
   },
   {
    "duration": 11,
    "start_time": "2023-09-23T00:34:35.012Z"
   },
   {
    "duration": 22,
    "start_time": "2023-09-23T00:35:05.413Z"
   },
   {
    "duration": 15,
    "start_time": "2023-09-23T00:35:10.366Z"
   },
   {
    "duration": 2449,
    "start_time": "2023-09-23T00:35:58.458Z"
   },
   {
    "duration": 1442,
    "start_time": "2023-09-23T00:36:00.910Z"
   },
   {
    "duration": 1136,
    "start_time": "2023-09-23T00:36:02.354Z"
   },
   {
    "duration": 27,
    "start_time": "2023-09-23T00:36:03.492Z"
   },
   {
    "duration": 136,
    "start_time": "2023-09-23T00:36:03.522Z"
   },
   {
    "duration": 444,
    "start_time": "2023-09-23T00:36:03.660Z"
   },
   {
    "duration": 112,
    "start_time": "2023-09-23T00:36:04.106Z"
   },
   {
    "duration": 530,
    "start_time": "2023-09-23T00:36:04.220Z"
   },
   {
    "duration": 111,
    "start_time": "2023-09-23T00:36:04.753Z"
   },
   {
    "duration": 9,
    "start_time": "2023-09-23T00:36:04.866Z"
   },
   {
    "duration": 48,
    "start_time": "2023-09-23T00:36:04.877Z"
   },
   {
    "duration": 21,
    "start_time": "2023-09-23T00:36:04.927Z"
   },
   {
    "duration": 35,
    "start_time": "2023-09-23T00:36:04.950Z"
   },
   {
    "duration": 47,
    "start_time": "2023-09-23T00:36:04.989Z"
   },
   {
    "duration": 3219,
    "start_time": "2023-09-23T00:36:05.037Z"
   },
   {
    "duration": 28,
    "start_time": "2023-09-23T00:36:08.258Z"
   },
   {
    "duration": 608,
    "start_time": "2023-09-23T00:36:08.287Z"
   },
   {
    "duration": 20,
    "start_time": "2023-09-23T00:36:08.897Z"
   },
   {
    "duration": 15,
    "start_time": "2023-09-23T00:36:08.919Z"
   },
   {
    "duration": 71,
    "start_time": "2023-09-23T00:36:08.936Z"
   },
   {
    "duration": 29,
    "start_time": "2023-09-23T00:36:09.009Z"
   },
   {
    "duration": 6,
    "start_time": "2023-09-23T00:36:09.039Z"
   },
   {
    "duration": 82,
    "start_time": "2023-09-23T00:36:09.046Z"
   },
   {
    "duration": 32,
    "start_time": "2023-09-23T00:36:09.130Z"
   },
   {
    "duration": 133,
    "start_time": "2023-09-23T00:36:09.164Z"
   },
   {
    "duration": 0,
    "start_time": "2023-09-23T00:36:09.300Z"
   },
   {
    "duration": 0,
    "start_time": "2023-09-23T00:36:09.300Z"
   },
   {
    "duration": 0,
    "start_time": "2023-09-23T00:36:09.301Z"
   },
   {
    "duration": 0,
    "start_time": "2023-09-23T00:36:09.302Z"
   },
   {
    "duration": 0,
    "start_time": "2023-09-23T00:36:09.302Z"
   },
   {
    "duration": 0,
    "start_time": "2023-09-23T00:36:09.303Z"
   },
   {
    "duration": 0,
    "start_time": "2023-09-23T00:36:09.304Z"
   },
   {
    "duration": 0,
    "start_time": "2023-09-23T00:36:09.304Z"
   },
   {
    "duration": 0,
    "start_time": "2023-09-23T00:36:09.313Z"
   },
   {
    "duration": 1,
    "start_time": "2023-09-23T00:36:09.319Z"
   },
   {
    "duration": 0,
    "start_time": "2023-09-23T00:36:09.321Z"
   },
   {
    "duration": 0,
    "start_time": "2023-09-23T00:36:09.322Z"
   },
   {
    "duration": 0,
    "start_time": "2023-09-23T00:36:09.323Z"
   },
   {
    "duration": 0,
    "start_time": "2023-09-23T00:36:09.325Z"
   },
   {
    "duration": 0,
    "start_time": "2023-09-23T00:36:09.326Z"
   },
   {
    "duration": 0,
    "start_time": "2023-09-23T00:36:09.328Z"
   },
   {
    "duration": 0,
    "start_time": "2023-09-23T00:36:09.328Z"
   },
   {
    "duration": 0,
    "start_time": "2023-09-23T00:36:09.330Z"
   },
   {
    "duration": 0,
    "start_time": "2023-09-23T00:36:09.331Z"
   },
   {
    "duration": 0,
    "start_time": "2023-09-23T00:36:09.332Z"
   },
   {
    "duration": 0,
    "start_time": "2023-09-23T00:36:09.333Z"
   },
   {
    "duration": 0,
    "start_time": "2023-09-23T00:36:09.334Z"
   },
   {
    "duration": 0,
    "start_time": "2023-09-23T00:36:09.335Z"
   },
   {
    "duration": 0,
    "start_time": "2023-09-23T00:36:09.336Z"
   },
   {
    "duration": 0,
    "start_time": "2023-09-23T00:36:09.338Z"
   },
   {
    "duration": 0,
    "start_time": "2023-09-23T00:36:09.339Z"
   },
   {
    "duration": 0,
    "start_time": "2023-09-23T00:36:09.340Z"
   },
   {
    "duration": 0,
    "start_time": "2023-09-23T00:36:09.341Z"
   },
   {
    "duration": 9,
    "start_time": "2023-09-23T00:36:32.332Z"
   },
   {
    "duration": 6,
    "start_time": "2023-09-23T00:36:37.082Z"
   },
   {
    "duration": 24,
    "start_time": "2023-09-23T00:36:51.395Z"
   },
   {
    "duration": 13,
    "start_time": "2023-09-23T00:38:23.053Z"
   },
   {
    "duration": 14,
    "start_time": "2023-09-23T00:38:23.632Z"
   },
   {
    "duration": 4,
    "start_time": "2023-09-23T00:38:24.988Z"
   },
   {
    "duration": 5,
    "start_time": "2023-09-23T00:38:46.197Z"
   },
   {
    "duration": 2650,
    "start_time": "2023-09-23T00:40:04.648Z"
   },
   {
    "duration": 1541,
    "start_time": "2023-09-23T00:40:07.305Z"
   },
   {
    "duration": 1209,
    "start_time": "2023-09-23T00:40:08.848Z"
   },
   {
    "duration": 18,
    "start_time": "2023-09-23T00:40:10.059Z"
   },
   {
    "duration": 142,
    "start_time": "2023-09-23T00:40:10.079Z"
   },
   {
    "duration": 516,
    "start_time": "2023-09-23T00:40:10.224Z"
   },
   {
    "duration": 114,
    "start_time": "2023-09-23T00:40:10.742Z"
   },
   {
    "duration": 453,
    "start_time": "2023-09-23T00:40:10.858Z"
   },
   {
    "duration": 95,
    "start_time": "2023-09-23T00:40:11.314Z"
   },
   {
    "duration": 13,
    "start_time": "2023-09-23T00:40:11.423Z"
   },
   {
    "duration": 82,
    "start_time": "2023-09-23T00:40:11.438Z"
   },
   {
    "duration": 53,
    "start_time": "2023-09-23T00:40:11.522Z"
   },
   {
    "duration": 40,
    "start_time": "2023-09-23T00:40:11.577Z"
   },
   {
    "duration": 28,
    "start_time": "2023-09-23T00:40:11.623Z"
   },
   {
    "duration": 38,
    "start_time": "2023-09-23T00:40:11.653Z"
   },
   {
    "duration": 770,
    "start_time": "2023-09-23T00:40:11.692Z"
   },
   {
    "duration": 153,
    "start_time": "2023-09-23T00:40:12.464Z"
   },
   {
    "duration": 0,
    "start_time": "2023-09-23T00:40:12.619Z"
   },
   {
    "duration": 0,
    "start_time": "2023-09-23T00:40:12.621Z"
   },
   {
    "duration": 0,
    "start_time": "2023-09-23T00:40:12.622Z"
   },
   {
    "duration": 0,
    "start_time": "2023-09-23T00:40:12.623Z"
   },
   {
    "duration": 0,
    "start_time": "2023-09-23T00:40:12.624Z"
   },
   {
    "duration": 0,
    "start_time": "2023-09-23T00:40:12.626Z"
   },
   {
    "duration": 0,
    "start_time": "2023-09-23T00:40:12.627Z"
   },
   {
    "duration": 1,
    "start_time": "2023-09-23T00:40:12.627Z"
   },
   {
    "duration": 0,
    "start_time": "2023-09-23T00:40:12.628Z"
   },
   {
    "duration": 0,
    "start_time": "2023-09-23T00:40:12.630Z"
   },
   {
    "duration": 0,
    "start_time": "2023-09-23T00:40:12.631Z"
   },
   {
    "duration": 0,
    "start_time": "2023-09-23T00:40:12.632Z"
   },
   {
    "duration": 0,
    "start_time": "2023-09-23T00:40:12.633Z"
   },
   {
    "duration": 0,
    "start_time": "2023-09-23T00:40:12.635Z"
   },
   {
    "duration": 0,
    "start_time": "2023-09-23T00:40:12.637Z"
   },
   {
    "duration": 0,
    "start_time": "2023-09-23T00:40:12.638Z"
   },
   {
    "duration": 0,
    "start_time": "2023-09-23T00:40:12.639Z"
   },
   {
    "duration": 0,
    "start_time": "2023-09-23T00:40:12.640Z"
   },
   {
    "duration": 0,
    "start_time": "2023-09-23T00:40:12.642Z"
   },
   {
    "duration": 0,
    "start_time": "2023-09-23T00:40:12.644Z"
   },
   {
    "duration": 0,
    "start_time": "2023-09-23T00:40:12.645Z"
   },
   {
    "duration": 0,
    "start_time": "2023-09-23T00:40:12.646Z"
   },
   {
    "duration": 0,
    "start_time": "2023-09-23T00:40:12.648Z"
   },
   {
    "duration": 0,
    "start_time": "2023-09-23T00:40:12.649Z"
   },
   {
    "duration": 0,
    "start_time": "2023-09-23T00:40:12.650Z"
   },
   {
    "duration": 0,
    "start_time": "2023-09-23T00:40:12.651Z"
   },
   {
    "duration": 0,
    "start_time": "2023-09-23T00:40:12.653Z"
   },
   {
    "duration": 0,
    "start_time": "2023-09-23T00:40:12.703Z"
   },
   {
    "duration": 0,
    "start_time": "2023-09-23T00:40:12.703Z"
   },
   {
    "duration": 0,
    "start_time": "2023-09-23T00:40:12.704Z"
   },
   {
    "duration": 0,
    "start_time": "2023-09-23T00:40:12.705Z"
   },
   {
    "duration": 0,
    "start_time": "2023-09-23T00:40:12.705Z"
   },
   {
    "duration": 0,
    "start_time": "2023-09-23T00:40:12.706Z"
   },
   {
    "duration": 0,
    "start_time": "2023-09-23T00:40:12.707Z"
   },
   {
    "duration": 0,
    "start_time": "2023-09-23T00:40:12.707Z"
   },
   {
    "duration": 0,
    "start_time": "2023-09-23T00:40:12.708Z"
   },
   {
    "duration": 0,
    "start_time": "2023-09-23T00:40:12.710Z"
   },
   {
    "duration": 0,
    "start_time": "2023-09-23T00:40:12.711Z"
   },
   {
    "duration": 22,
    "start_time": "2023-09-23T00:40:44.258Z"
   },
   {
    "duration": 8,
    "start_time": "2023-09-23T00:40:44.917Z"
   },
   {
    "duration": 97,
    "start_time": "2023-09-23T00:40:45.499Z"
   },
   {
    "duration": 2320,
    "start_time": "2023-09-23T00:40:46.317Z"
   },
   {
    "duration": 0,
    "start_time": "2023-09-23T00:40:48.639Z"
   },
   {
    "duration": 0,
    "start_time": "2023-09-23T00:40:48.641Z"
   },
   {
    "duration": 70,
    "start_time": "2023-09-23T00:40:48.771Z"
   },
   {
    "duration": 15,
    "start_time": "2023-09-23T00:41:28.381Z"
   },
   {
    "duration": 3239,
    "start_time": "2023-09-23T00:41:38.142Z"
   },
   {
    "duration": 53,
    "start_time": "2023-09-23T00:41:42.120Z"
   },
   {
    "duration": 49,
    "start_time": "2023-09-23T00:41:49.288Z"
   },
   {
    "duration": 33,
    "start_time": "2023-09-23T00:41:49.678Z"
   },
   {
    "duration": 24,
    "start_time": "2023-09-23T00:41:50.260Z"
   },
   {
    "duration": 39,
    "start_time": "2023-09-23T00:41:51.391Z"
   },
   {
    "duration": 5,
    "start_time": "2023-09-23T00:41:51.894Z"
   },
   {
    "duration": 19,
    "start_time": "2023-09-23T00:41:52.342Z"
   },
   {
    "duration": 6,
    "start_time": "2023-09-23T00:41:52.956Z"
   },
   {
    "duration": 7,
    "start_time": "2023-09-23T00:42:08.014Z"
   },
   {
    "duration": 6,
    "start_time": "2023-09-23T00:42:10.032Z"
   },
   {
    "duration": 5,
    "start_time": "2023-09-23T00:42:10.542Z"
   },
   {
    "duration": 39,
    "start_time": "2023-09-23T00:42:11.135Z"
   },
   {
    "duration": 9,
    "start_time": "2023-09-23T00:42:30.982Z"
   },
   {
    "duration": 5,
    "start_time": "2023-09-23T00:42:32.560Z"
   },
   {
    "duration": 27,
    "start_time": "2023-09-23T00:42:33.019Z"
   },
   {
    "duration": 9,
    "start_time": "2023-09-23T00:42:39.683Z"
   },
   {
    "duration": 29,
    "start_time": "2023-09-23T00:42:39.694Z"
   },
   {
    "duration": 48,
    "start_time": "2023-09-23T00:42:39.724Z"
   },
   {
    "duration": 53,
    "start_time": "2023-09-23T00:42:39.774Z"
   },
   {
    "duration": 29,
    "start_time": "2023-09-23T00:42:44.417Z"
   },
   {
    "duration": 1141,
    "start_time": "2023-09-23T00:43:01.825Z"
   },
   {
    "duration": 1403,
    "start_time": "2023-09-23T00:43:23.728Z"
   },
   {
    "duration": 2447,
    "start_time": "2023-09-23T00:43:28.260Z"
   },
   {
    "duration": 1417,
    "start_time": "2023-09-23T00:43:30.710Z"
   },
   {
    "duration": 1201,
    "start_time": "2023-09-23T00:43:32.128Z"
   },
   {
    "duration": 18,
    "start_time": "2023-09-23T00:43:33.331Z"
   },
   {
    "duration": 157,
    "start_time": "2023-09-23T00:43:33.351Z"
   },
   {
    "duration": 476,
    "start_time": "2023-09-23T00:43:33.518Z"
   },
   {
    "duration": 117,
    "start_time": "2023-09-23T00:43:34.001Z"
   },
   {
    "duration": 509,
    "start_time": "2023-09-23T00:43:34.120Z"
   },
   {
    "duration": 108,
    "start_time": "2023-09-23T00:43:34.631Z"
   },
   {
    "duration": 12,
    "start_time": "2023-09-23T00:43:34.741Z"
   },
   {
    "duration": 26,
    "start_time": "2023-09-23T00:43:34.755Z"
   },
   {
    "duration": 26,
    "start_time": "2023-09-23T00:43:34.807Z"
   },
   {
    "duration": 29,
    "start_time": "2023-09-23T00:43:34.835Z"
   },
   {
    "duration": 40,
    "start_time": "2023-09-23T00:43:34.867Z"
   },
   {
    "duration": 27,
    "start_time": "2023-09-23T00:43:34.914Z"
   },
   {
    "duration": 770,
    "start_time": "2023-09-23T00:43:34.943Z"
   },
   {
    "duration": 20,
    "start_time": "2023-09-23T00:43:35.715Z"
   },
   {
    "duration": 82,
    "start_time": "2023-09-23T00:43:35.737Z"
   },
   {
    "duration": 178,
    "start_time": "2023-09-23T00:43:35.821Z"
   },
   {
    "duration": 3283,
    "start_time": "2023-09-23T00:43:36.001Z"
   },
   {
    "duration": 58,
    "start_time": "2023-09-23T00:43:39.286Z"
   },
   {
    "duration": 25,
    "start_time": "2023-09-23T00:43:39.346Z"
   },
   {
    "duration": 48,
    "start_time": "2023-09-23T00:43:39.373Z"
   },
   {
    "duration": 26,
    "start_time": "2023-09-23T00:43:39.423Z"
   },
   {
    "duration": 5,
    "start_time": "2023-09-23T00:43:39.451Z"
   },
   {
    "duration": 19,
    "start_time": "2023-09-23T00:43:39.458Z"
   },
   {
    "duration": 29,
    "start_time": "2023-09-23T00:43:39.479Z"
   },
   {
    "duration": 29,
    "start_time": "2023-09-23T00:43:39.510Z"
   },
   {
    "duration": 56,
    "start_time": "2023-09-23T00:43:39.541Z"
   },
   {
    "duration": 62,
    "start_time": "2023-09-23T00:43:39.599Z"
   },
   {
    "duration": 21,
    "start_time": "2023-09-23T00:43:39.663Z"
   },
   {
    "duration": 141,
    "start_time": "2023-09-23T00:43:39.685Z"
   },
   {
    "duration": 159,
    "start_time": "2023-09-23T00:43:39.827Z"
   },
   {
    "duration": 139,
    "start_time": "2023-09-23T00:43:39.988Z"
   },
   {
    "duration": 54,
    "start_time": "2023-09-23T00:43:40.129Z"
   },
   {
    "duration": 92,
    "start_time": "2023-09-23T00:43:40.185Z"
   },
   {
    "duration": 781,
    "start_time": "2023-09-23T00:43:40.279Z"
   },
   {
    "duration": 66,
    "start_time": "2023-09-23T00:43:41.061Z"
   },
   {
    "duration": 16,
    "start_time": "2023-09-23T00:43:41.129Z"
   },
   {
    "duration": 139,
    "start_time": "2023-09-23T00:43:41.147Z"
   },
   {
    "duration": 5,
    "start_time": "2023-09-23T00:43:41.290Z"
   },
   {
    "duration": 26,
    "start_time": "2023-09-23T00:43:41.302Z"
   },
   {
    "duration": 167,
    "start_time": "2023-09-23T00:43:41.330Z"
   },
   {
    "duration": 0,
    "start_time": "2023-09-23T00:43:41.503Z"
   },
   {
    "duration": 0,
    "start_time": "2023-09-23T00:43:41.504Z"
   },
   {
    "duration": 0,
    "start_time": "2023-09-23T00:43:41.504Z"
   },
   {
    "duration": 0,
    "start_time": "2023-09-23T00:43:41.505Z"
   },
   {
    "duration": 0,
    "start_time": "2023-09-23T00:43:41.506Z"
   },
   {
    "duration": 0,
    "start_time": "2023-09-23T00:43:41.507Z"
   },
   {
    "duration": 0,
    "start_time": "2023-09-23T00:43:41.507Z"
   },
   {
    "duration": 0,
    "start_time": "2023-09-23T00:43:41.508Z"
   },
   {
    "duration": 0,
    "start_time": "2023-09-23T00:43:41.510Z"
   },
   {
    "duration": 0,
    "start_time": "2023-09-23T00:43:41.519Z"
   },
   {
    "duration": 0,
    "start_time": "2023-09-23T00:43:41.521Z"
   },
   {
    "duration": 0,
    "start_time": "2023-09-23T00:43:41.523Z"
   },
   {
    "duration": 3,
    "start_time": "2023-09-23T00:45:02.918Z"
   },
   {
    "duration": 955,
    "start_time": "2023-09-23T00:45:03.315Z"
   },
   {
    "duration": 34,
    "start_time": "2023-09-23T00:45:04.272Z"
   },
   {
    "duration": 48,
    "start_time": "2023-09-23T00:45:06.618Z"
   },
   {
    "duration": 20,
    "start_time": "2023-09-23T00:47:40.434Z"
   },
   {
    "duration": 2439,
    "start_time": "2023-09-23T00:47:44.788Z"
   },
   {
    "duration": 1423,
    "start_time": "2023-09-23T00:47:47.230Z"
   },
   {
    "duration": 1237,
    "start_time": "2023-09-23T00:47:48.655Z"
   },
   {
    "duration": 28,
    "start_time": "2023-09-23T00:47:49.893Z"
   },
   {
    "duration": 140,
    "start_time": "2023-09-23T00:47:49.923Z"
   },
   {
    "duration": 502,
    "start_time": "2023-09-23T00:47:50.065Z"
   },
   {
    "duration": 123,
    "start_time": "2023-09-23T00:47:50.569Z"
   },
   {
    "duration": 504,
    "start_time": "2023-09-23T00:47:50.703Z"
   },
   {
    "duration": 81,
    "start_time": "2023-09-23T00:47:51.209Z"
   },
   {
    "duration": 26,
    "start_time": "2023-09-23T00:47:51.292Z"
   },
   {
    "duration": 36,
    "start_time": "2023-09-23T00:47:51.320Z"
   },
   {
    "duration": 30,
    "start_time": "2023-09-23T00:47:51.358Z"
   },
   {
    "duration": 52,
    "start_time": "2023-09-23T00:47:51.390Z"
   },
   {
    "duration": 202,
    "start_time": "2023-09-23T00:47:51.447Z"
   },
   {
    "duration": 66,
    "start_time": "2023-09-23T00:47:51.651Z"
   },
   {
    "duration": 830,
    "start_time": "2023-09-23T00:47:51.720Z"
   },
   {
    "duration": 19,
    "start_time": "2023-09-23T00:47:52.552Z"
   },
   {
    "duration": 161,
    "start_time": "2023-09-23T00:47:52.573Z"
   },
   {
    "duration": 252,
    "start_time": "2023-09-23T00:47:52.736Z"
   },
   {
    "duration": 3302,
    "start_time": "2023-09-23T00:47:52.990Z"
   },
   {
    "duration": 40,
    "start_time": "2023-09-23T00:47:56.293Z"
   },
   {
    "duration": 40,
    "start_time": "2023-09-23T00:47:56.335Z"
   },
   {
    "duration": 99,
    "start_time": "2023-09-23T00:47:56.377Z"
   },
   {
    "duration": 4,
    "start_time": "2023-09-23T00:47:56.478Z"
   },
   {
    "duration": 16,
    "start_time": "2023-09-23T00:47:56.484Z"
   },
   {
    "duration": 17,
    "start_time": "2023-09-23T00:47:56.503Z"
   },
   {
    "duration": 17,
    "start_time": "2023-09-23T00:47:56.523Z"
   },
   {
    "duration": 41,
    "start_time": "2023-09-23T00:47:56.542Z"
   },
   {
    "duration": 24,
    "start_time": "2023-09-23T00:47:56.585Z"
   },
   {
    "duration": 9,
    "start_time": "2023-09-23T00:47:56.611Z"
   },
   {
    "duration": 119,
    "start_time": "2023-09-23T00:47:56.622Z"
   },
   {
    "duration": 151,
    "start_time": "2023-09-23T00:47:56.743Z"
   },
   {
    "duration": 152,
    "start_time": "2023-09-23T00:47:56.896Z"
   },
   {
    "duration": 67,
    "start_time": "2023-09-23T00:47:57.049Z"
   },
   {
    "duration": 68,
    "start_time": "2023-09-23T00:47:57.118Z"
   },
   {
    "duration": 750,
    "start_time": "2023-09-23T00:47:57.188Z"
   },
   {
    "duration": 38,
    "start_time": "2023-09-23T00:47:57.940Z"
   },
   {
    "duration": 43,
    "start_time": "2023-09-23T00:47:57.980Z"
   },
   {
    "duration": 30,
    "start_time": "2023-09-23T00:47:58.025Z"
   },
   {
    "duration": 139,
    "start_time": "2023-09-23T00:47:58.057Z"
   },
   {
    "duration": 0,
    "start_time": "2023-09-23T00:47:58.202Z"
   },
   {
    "duration": 0,
    "start_time": "2023-09-23T00:47:58.203Z"
   },
   {
    "duration": 0,
    "start_time": "2023-09-23T00:47:58.206Z"
   },
   {
    "duration": 0,
    "start_time": "2023-09-23T00:47:58.207Z"
   },
   {
    "duration": 0,
    "start_time": "2023-09-23T00:47:58.214Z"
   },
   {
    "duration": 0,
    "start_time": "2023-09-23T00:47:58.216Z"
   },
   {
    "duration": 1,
    "start_time": "2023-09-23T00:47:58.219Z"
   },
   {
    "duration": 0,
    "start_time": "2023-09-23T00:47:58.221Z"
   },
   {
    "duration": 0,
    "start_time": "2023-09-23T00:47:58.222Z"
   },
   {
    "duration": 0,
    "start_time": "2023-09-23T00:47:58.222Z"
   },
   {
    "duration": 0,
    "start_time": "2023-09-23T00:47:58.223Z"
   },
   {
    "duration": 0,
    "start_time": "2023-09-23T00:47:58.224Z"
   },
   {
    "duration": 0,
    "start_time": "2023-09-23T00:47:58.225Z"
   },
   {
    "duration": 0,
    "start_time": "2023-09-23T00:47:58.226Z"
   },
   {
    "duration": 261,
    "start_time": "2023-09-23T00:48:36.685Z"
   },
   {
    "duration": 19,
    "start_time": "2023-09-23T00:48:40.279Z"
   },
   {
    "duration": 59,
    "start_time": "2023-09-23T00:48:43.300Z"
   },
   {
    "duration": 22,
    "start_time": "2023-09-23T00:49:21.256Z"
   },
   {
    "duration": 36,
    "start_time": "2023-09-23T00:50:24.392Z"
   },
   {
    "duration": 49,
    "start_time": "2023-09-23T00:50:55.414Z"
   },
   {
    "duration": 16,
    "start_time": "2023-09-23T00:52:15.938Z"
   },
   {
    "duration": 2613,
    "start_time": "2023-09-23T00:52:22.760Z"
   },
   {
    "duration": 1312,
    "start_time": "2023-09-23T00:52:25.376Z"
   },
   {
    "duration": 1160,
    "start_time": "2023-09-23T00:52:26.690Z"
   },
   {
    "duration": 17,
    "start_time": "2023-09-23T00:52:27.852Z"
   },
   {
    "duration": 331,
    "start_time": "2023-09-23T00:52:27.871Z"
   },
   {
    "duration": 549,
    "start_time": "2023-09-23T00:52:28.212Z"
   },
   {
    "duration": 106,
    "start_time": "2023-09-23T00:52:28.762Z"
   },
   {
    "duration": 492,
    "start_time": "2023-09-23T00:52:28.870Z"
   },
   {
    "duration": 96,
    "start_time": "2023-09-23T00:52:29.364Z"
   },
   {
    "duration": 12,
    "start_time": "2023-09-23T00:52:29.462Z"
   },
   {
    "duration": 44,
    "start_time": "2023-09-23T00:52:29.476Z"
   },
   {
    "duration": 30,
    "start_time": "2023-09-23T00:52:29.522Z"
   },
   {
    "duration": 23,
    "start_time": "2023-09-23T00:52:29.554Z"
   },
   {
    "duration": 47,
    "start_time": "2023-09-23T00:52:29.580Z"
   },
   {
    "duration": 31,
    "start_time": "2023-09-23T00:52:29.628Z"
   },
   {
    "duration": 799,
    "start_time": "2023-09-23T00:52:29.661Z"
   },
   {
    "duration": 20,
    "start_time": "2023-09-23T00:52:30.462Z"
   },
   {
    "duration": 45,
    "start_time": "2023-09-23T00:52:30.484Z"
   },
   {
    "duration": 147,
    "start_time": "2023-09-23T00:52:30.532Z"
   },
   {
    "duration": 3305,
    "start_time": "2023-09-23T00:52:30.681Z"
   },
   {
    "duration": 42,
    "start_time": "2023-09-23T00:52:33.988Z"
   },
   {
    "duration": 44,
    "start_time": "2023-09-23T00:52:34.032Z"
   },
   {
    "duration": 44,
    "start_time": "2023-09-23T00:52:34.078Z"
   },
   {
    "duration": 21,
    "start_time": "2023-09-23T00:52:34.124Z"
   },
   {
    "duration": 13,
    "start_time": "2023-09-23T00:52:34.147Z"
   },
   {
    "duration": 4,
    "start_time": "2023-09-23T00:52:34.162Z"
   },
   {
    "duration": 76,
    "start_time": "2023-09-23T00:52:34.168Z"
   },
   {
    "duration": 41,
    "start_time": "2023-09-23T00:52:34.246Z"
   },
   {
    "duration": 6,
    "start_time": "2023-09-23T00:52:34.289Z"
   },
   {
    "duration": 129,
    "start_time": "2023-09-23T00:52:34.303Z"
   },
   {
    "duration": 188,
    "start_time": "2023-09-23T00:52:34.434Z"
   },
   {
    "duration": 168,
    "start_time": "2023-09-23T00:52:34.625Z"
   },
   {
    "duration": 67,
    "start_time": "2023-09-23T00:52:34.794Z"
   },
   {
    "duration": 73,
    "start_time": "2023-09-23T00:52:34.862Z"
   },
   {
    "duration": 741,
    "start_time": "2023-09-23T00:52:34.936Z"
   },
   {
    "duration": 51,
    "start_time": "2023-09-23T00:52:35.679Z"
   },
   {
    "duration": 16,
    "start_time": "2023-09-23T00:52:35.731Z"
   },
   {
    "duration": 30,
    "start_time": "2023-09-23T00:52:35.748Z"
   },
   {
    "duration": 267,
    "start_time": "2023-09-23T00:52:35.780Z"
   },
   {
    "duration": 17,
    "start_time": "2023-09-23T00:52:36.049Z"
   },
   {
    "duration": 205,
    "start_time": "2023-09-23T00:52:36.070Z"
   },
   {
    "duration": 0,
    "start_time": "2023-09-23T00:52:36.276Z"
   },
   {
    "duration": 0,
    "start_time": "2023-09-23T00:52:36.278Z"
   },
   {
    "duration": 0,
    "start_time": "2023-09-23T00:52:36.280Z"
   },
   {
    "duration": 0,
    "start_time": "2023-09-23T00:52:36.282Z"
   },
   {
    "duration": 0,
    "start_time": "2023-09-23T00:52:36.283Z"
   },
   {
    "duration": 0,
    "start_time": "2023-09-23T00:52:36.285Z"
   },
   {
    "duration": 1,
    "start_time": "2023-09-23T00:52:36.301Z"
   },
   {
    "duration": 0,
    "start_time": "2023-09-23T00:52:36.303Z"
   },
   {
    "duration": 0,
    "start_time": "2023-09-23T00:52:36.304Z"
   },
   {
    "duration": 0,
    "start_time": "2023-09-23T00:52:36.305Z"
   },
   {
    "duration": 0,
    "start_time": "2023-09-23T00:52:36.306Z"
   },
   {
    "duration": 0,
    "start_time": "2023-09-23T00:52:36.307Z"
   },
   {
    "duration": 2526,
    "start_time": "2023-09-23T00:53:30.855Z"
   },
   {
    "duration": 1458,
    "start_time": "2023-09-23T00:53:33.384Z"
   },
   {
    "duration": 1174,
    "start_time": "2023-09-23T00:53:34.843Z"
   },
   {
    "duration": 18,
    "start_time": "2023-09-23T00:53:36.019Z"
   },
   {
    "duration": 182,
    "start_time": "2023-09-23T00:53:36.039Z"
   },
   {
    "duration": 479,
    "start_time": "2023-09-23T00:53:36.224Z"
   },
   {
    "duration": 112,
    "start_time": "2023-09-23T00:53:36.705Z"
   },
   {
    "duration": 477,
    "start_time": "2023-09-23T00:53:36.819Z"
   },
   {
    "duration": 82,
    "start_time": "2023-09-23T00:53:37.298Z"
   },
   {
    "duration": 32,
    "start_time": "2023-09-23T00:53:37.382Z"
   },
   {
    "duration": 33,
    "start_time": "2023-09-23T00:53:37.416Z"
   },
   {
    "duration": 24,
    "start_time": "2023-09-23T00:53:37.451Z"
   },
   {
    "duration": 49,
    "start_time": "2023-09-23T00:53:37.477Z"
   },
   {
    "duration": 25,
    "start_time": "2023-09-23T00:53:37.529Z"
   },
   {
    "duration": 27,
    "start_time": "2023-09-23T00:53:37.556Z"
   },
   {
    "duration": 825,
    "start_time": "2023-09-23T00:53:37.585Z"
   },
   {
    "duration": 22,
    "start_time": "2023-09-23T00:53:38.413Z"
   },
   {
    "duration": 7,
    "start_time": "2023-09-23T00:53:38.436Z"
   },
   {
    "duration": 118,
    "start_time": "2023-09-23T00:53:38.445Z"
   },
   {
    "duration": 3216,
    "start_time": "2023-09-23T00:53:38.565Z"
   },
   {
    "duration": 32,
    "start_time": "2023-09-23T00:53:41.782Z"
   },
   {
    "duration": 36,
    "start_time": "2023-09-23T00:53:41.816Z"
   },
   {
    "duration": 40,
    "start_time": "2023-09-23T00:53:41.854Z"
   },
   {
    "duration": 30,
    "start_time": "2023-09-23T00:53:41.896Z"
   },
   {
    "duration": 13,
    "start_time": "2023-09-23T00:53:41.927Z"
   },
   {
    "duration": 16,
    "start_time": "2023-09-23T00:53:41.941Z"
   },
   {
    "duration": 39,
    "start_time": "2023-09-23T00:53:41.958Z"
   },
   {
    "duration": 32,
    "start_time": "2023-09-23T00:53:42.000Z"
   },
   {
    "duration": 12,
    "start_time": "2023-09-23T00:53:42.036Z"
   },
   {
    "duration": 133,
    "start_time": "2023-09-23T00:53:42.049Z"
   },
   {
    "duration": 182,
    "start_time": "2023-09-23T00:53:42.184Z"
   },
   {
    "duration": 151,
    "start_time": "2023-09-23T00:53:42.367Z"
   },
   {
    "duration": 53,
    "start_time": "2023-09-23T00:53:42.519Z"
   },
   {
    "duration": 88,
    "start_time": "2023-09-23T00:53:42.574Z"
   },
   {
    "duration": 768,
    "start_time": "2023-09-23T00:53:42.663Z"
   },
   {
    "duration": 42,
    "start_time": "2023-09-23T00:53:43.433Z"
   },
   {
    "duration": 39,
    "start_time": "2023-09-23T00:53:43.476Z"
   },
   {
    "duration": 6,
    "start_time": "2023-09-23T00:53:43.517Z"
   },
   {
    "duration": 267,
    "start_time": "2023-09-23T00:53:43.524Z"
   },
   {
    "duration": 21,
    "start_time": "2023-09-23T00:53:43.800Z"
   },
   {
    "duration": 119,
    "start_time": "2023-09-23T00:53:43.825Z"
   },
   {
    "duration": 12,
    "start_time": "2023-09-23T00:53:43.946Z"
   },
   {
    "duration": 80,
    "start_time": "2023-09-23T00:53:43.960Z"
   },
   {
    "duration": 17,
    "start_time": "2023-09-23T00:53:44.042Z"
   },
   {
    "duration": 12,
    "start_time": "2023-09-23T00:53:44.061Z"
   },
   {
    "duration": 43,
    "start_time": "2023-09-23T00:53:44.075Z"
   },
   {
    "duration": 33,
    "start_time": "2023-09-23T00:53:44.120Z"
   },
   {
    "duration": 28,
    "start_time": "2023-09-23T00:53:44.155Z"
   },
   {
    "duration": 32,
    "start_time": "2023-09-23T00:53:44.184Z"
   },
   {
    "duration": 135,
    "start_time": "2023-09-23T00:53:44.218Z"
   },
   {
    "duration": 0,
    "start_time": "2023-09-23T00:53:44.355Z"
   },
   {
    "duration": 0,
    "start_time": "2023-09-23T00:53:44.357Z"
   },
   {
    "duration": 0,
    "start_time": "2023-09-23T00:53:44.359Z"
   },
   {
    "duration": 11,
    "start_time": "2023-09-23T00:54:05.004Z"
   },
   {
    "duration": 2442,
    "start_time": "2023-09-23T01:02:40.936Z"
   },
   {
    "duration": 1386,
    "start_time": "2023-09-23T01:02:43.380Z"
   },
   {
    "duration": 1216,
    "start_time": "2023-09-23T01:02:44.769Z"
   },
   {
    "duration": 31,
    "start_time": "2023-09-23T01:02:45.987Z"
   },
   {
    "duration": 142,
    "start_time": "2023-09-23T01:02:46.022Z"
   },
   {
    "duration": 490,
    "start_time": "2023-09-23T01:02:46.166Z"
   },
   {
    "duration": 114,
    "start_time": "2023-09-23T01:02:46.658Z"
   },
   {
    "duration": 477,
    "start_time": "2023-09-23T01:02:46.774Z"
   },
   {
    "duration": 102,
    "start_time": "2023-09-23T01:02:47.253Z"
   },
   {
    "duration": 9,
    "start_time": "2023-09-23T01:02:47.357Z"
   },
   {
    "duration": 36,
    "start_time": "2023-09-23T01:02:47.368Z"
   },
   {
    "duration": 28,
    "start_time": "2023-09-23T01:02:47.406Z"
   },
   {
    "duration": 46,
    "start_time": "2023-09-23T01:02:47.436Z"
   },
   {
    "duration": 76,
    "start_time": "2023-09-23T01:02:47.486Z"
   },
   {
    "duration": 28,
    "start_time": "2023-09-23T01:02:47.564Z"
   },
   {
    "duration": 802,
    "start_time": "2023-09-23T01:02:47.594Z"
   },
   {
    "duration": 22,
    "start_time": "2023-09-23T01:02:48.403Z"
   },
   {
    "duration": 9,
    "start_time": "2023-09-23T01:02:48.427Z"
   },
   {
    "duration": 80,
    "start_time": "2023-09-23T01:02:48.438Z"
   },
   {
    "duration": 3229,
    "start_time": "2023-09-23T01:02:48.519Z"
   },
   {
    "duration": 24,
    "start_time": "2023-09-23T01:02:51.750Z"
   },
   {
    "duration": 48,
    "start_time": "2023-09-23T01:02:51.776Z"
   },
   {
    "duration": 36,
    "start_time": "2023-09-23T01:02:51.826Z"
   },
   {
    "duration": 47,
    "start_time": "2023-09-23T01:02:51.864Z"
   },
   {
    "duration": 43,
    "start_time": "2023-09-23T01:02:51.912Z"
   },
   {
    "duration": 20,
    "start_time": "2023-09-23T01:02:51.957Z"
   },
   {
    "duration": 66,
    "start_time": "2023-09-23T01:02:51.978Z"
   },
   {
    "duration": 34,
    "start_time": "2023-09-23T01:02:52.045Z"
   },
   {
    "duration": 35,
    "start_time": "2023-09-23T01:02:52.081Z"
   },
   {
    "duration": 137,
    "start_time": "2023-09-23T01:02:52.117Z"
   },
   {
    "duration": 165,
    "start_time": "2023-09-23T01:02:52.257Z"
   },
   {
    "duration": 148,
    "start_time": "2023-09-23T01:02:52.424Z"
   },
   {
    "duration": 69,
    "start_time": "2023-09-23T01:02:52.573Z"
   },
   {
    "duration": 91,
    "start_time": "2023-09-23T01:02:52.644Z"
   },
   {
    "duration": 790,
    "start_time": "2023-09-23T01:02:52.737Z"
   },
   {
    "duration": 41,
    "start_time": "2023-09-23T01:02:53.529Z"
   },
   {
    "duration": 34,
    "start_time": "2023-09-23T01:02:53.572Z"
   },
   {
    "duration": 17,
    "start_time": "2023-09-23T01:02:53.613Z"
   },
   {
    "duration": 289,
    "start_time": "2023-09-23T01:02:53.632Z"
   },
   {
    "duration": 14,
    "start_time": "2023-09-23T01:02:53.923Z"
   },
   {
    "duration": 126,
    "start_time": "2023-09-23T01:02:53.941Z"
   },
   {
    "duration": 13,
    "start_time": "2023-09-23T01:02:54.069Z"
   },
   {
    "duration": 33,
    "start_time": "2023-09-23T01:02:54.084Z"
   },
   {
    "duration": 57,
    "start_time": "2023-09-23T01:02:54.119Z"
   },
   {
    "duration": 32,
    "start_time": "2023-09-23T01:02:54.177Z"
   },
   {
    "duration": 39,
    "start_time": "2023-09-23T01:02:54.212Z"
   },
   {
    "duration": 27,
    "start_time": "2023-09-23T01:02:54.253Z"
   },
   {
    "duration": 39,
    "start_time": "2023-09-23T01:02:54.282Z"
   },
   {
    "duration": 23,
    "start_time": "2023-09-23T01:02:54.323Z"
   },
   {
    "duration": 31,
    "start_time": "2023-09-23T01:02:54.348Z"
   },
   {
    "duration": 310,
    "start_time": "2023-09-23T01:02:54.381Z"
   },
   {
    "duration": 0,
    "start_time": "2023-09-23T01:02:54.694Z"
   },
   {
    "duration": 16,
    "start_time": "2023-09-23T01:03:32.351Z"
   },
   {
    "duration": 3,
    "start_time": "2023-09-23T01:03:33.832Z"
   },
   {
    "duration": 142,
    "start_time": "2023-09-23T01:03:34.092Z"
   },
   {
    "duration": 16,
    "start_time": "2023-09-23T01:03:34.433Z"
   },
   {
    "duration": 7,
    "start_time": "2023-09-23T01:03:51.350Z"
   },
   {
    "duration": 3,
    "start_time": "2023-09-23T01:03:51.613Z"
   },
   {
    "duration": 303211,
    "start_time": "2023-09-23T01:03:51.783Z"
   },
   {
    "duration": 0,
    "start_time": "2023-09-23T01:08:55.001Z"
   },
   {
    "duration": 18,
    "start_time": "2023-09-23T01:09:43.168Z"
   },
   {
    "duration": 20,
    "start_time": "2023-09-23T01:10:03.770Z"
   },
   {
    "duration": 6,
    "start_time": "2023-09-23T01:12:20.218Z"
   },
   {
    "duration": 6,
    "start_time": "2023-09-23T01:12:20.684Z"
   },
   {
    "duration": 16,
    "start_time": "2023-09-23T01:12:21.215Z"
   },
   {
    "duration": 3,
    "start_time": "2023-09-23T01:12:21.617Z"
   },
   {
    "duration": 33116,
    "start_time": "2023-09-23T01:12:22.342Z"
   },
   {
    "duration": 6550,
    "start_time": "2023-09-23T03:50:49.233Z"
   },
   {
    "duration": 2060,
    "start_time": "2023-09-23T03:52:30.453Z"
   },
   {
    "duration": 1341,
    "start_time": "2023-09-23T03:52:32.515Z"
   },
   {
    "duration": 1256,
    "start_time": "2023-09-23T03:52:33.858Z"
   },
   {
    "duration": 16,
    "start_time": "2023-09-23T03:52:35.116Z"
   },
   {
    "duration": 123,
    "start_time": "2023-09-23T03:52:35.134Z"
   },
   {
    "duration": 382,
    "start_time": "2023-09-23T03:52:35.258Z"
   },
   {
    "duration": 83,
    "start_time": "2023-09-23T03:52:35.642Z"
   },
   {
    "duration": 475,
    "start_time": "2023-09-23T03:52:35.726Z"
   },
   {
    "duration": 83,
    "start_time": "2023-09-23T03:52:36.202Z"
   },
   {
    "duration": 11,
    "start_time": "2023-09-23T03:52:36.287Z"
   },
   {
    "duration": 33,
    "start_time": "2023-09-23T03:52:36.299Z"
   },
   {
    "duration": 48,
    "start_time": "2023-09-23T03:52:36.333Z"
   },
   {
    "duration": 34,
    "start_time": "2023-09-23T03:52:36.382Z"
   },
   {
    "duration": 50,
    "start_time": "2023-09-23T03:52:36.417Z"
   },
   {
    "duration": 39,
    "start_time": "2023-09-23T03:52:36.468Z"
   },
   {
    "duration": 596,
    "start_time": "2023-09-23T03:52:36.509Z"
   },
   {
    "duration": 18,
    "start_time": "2023-09-23T03:52:37.106Z"
   },
   {
    "duration": 19,
    "start_time": "2023-09-23T03:52:37.126Z"
   },
   {
    "duration": 51,
    "start_time": "2023-09-23T03:52:37.147Z"
   },
   {
    "duration": 2534,
    "start_time": "2023-09-23T03:52:37.200Z"
   },
   {
    "duration": 26,
    "start_time": "2023-09-23T03:52:39.736Z"
   },
   {
    "duration": 30,
    "start_time": "2023-09-23T03:52:39.764Z"
   },
   {
    "duration": 27,
    "start_time": "2023-09-23T03:52:39.796Z"
   },
   {
    "duration": 31,
    "start_time": "2023-09-23T03:52:39.825Z"
   },
   {
    "duration": 9,
    "start_time": "2023-09-23T03:52:39.857Z"
   },
   {
    "duration": 4,
    "start_time": "2023-09-23T03:52:39.867Z"
   },
   {
    "duration": 25,
    "start_time": "2023-09-23T03:52:39.873Z"
   },
   {
    "duration": 48,
    "start_time": "2023-09-23T03:52:39.902Z"
   },
   {
    "duration": 3,
    "start_time": "2023-09-23T03:52:39.951Z"
   },
   {
    "duration": 103,
    "start_time": "2023-09-23T03:52:39.956Z"
   },
   {
    "duration": 127,
    "start_time": "2023-09-23T03:52:40.061Z"
   },
   {
    "duration": 123,
    "start_time": "2023-09-23T03:52:40.190Z"
   },
   {
    "duration": 57,
    "start_time": "2023-09-23T03:52:40.315Z"
   },
   {
    "duration": 75,
    "start_time": "2023-09-23T03:52:40.374Z"
   },
   {
    "duration": 644,
    "start_time": "2023-09-23T03:52:40.451Z"
   },
   {
    "duration": 35,
    "start_time": "2023-09-23T03:52:41.096Z"
   },
   {
    "duration": 24,
    "start_time": "2023-09-23T03:52:41.133Z"
   },
   {
    "duration": 3,
    "start_time": "2023-09-23T03:52:41.159Z"
   },
   {
    "duration": 223,
    "start_time": "2023-09-23T03:52:41.164Z"
   },
   {
    "duration": 13,
    "start_time": "2023-09-23T03:52:41.389Z"
   },
   {
    "duration": 100,
    "start_time": "2023-09-23T03:52:41.403Z"
   },
   {
    "duration": 18,
    "start_time": "2023-09-23T03:52:41.505Z"
   },
   {
    "duration": 10,
    "start_time": "2023-09-23T03:52:41.525Z"
   },
   {
    "duration": 16,
    "start_time": "2023-09-23T03:52:41.537Z"
   },
   {
    "duration": 18,
    "start_time": "2023-09-23T03:52:41.555Z"
   },
   {
    "duration": 29,
    "start_time": "2023-09-23T03:52:41.575Z"
   },
   {
    "duration": 7,
    "start_time": "2023-09-23T03:52:41.606Z"
   },
   {
    "duration": 14,
    "start_time": "2023-09-23T03:52:41.615Z"
   },
   {
    "duration": 9,
    "start_time": "2023-09-23T03:52:41.631Z"
   },
   {
    "duration": 3,
    "start_time": "2023-09-23T03:52:41.642Z"
   },
   {
    "duration": 120,
    "start_time": "2023-09-23T03:52:41.647Z"
   },
   {
    "duration": 0,
    "start_time": "2023-09-23T03:52:41.768Z"
   },
   {
    "duration": 0,
    "start_time": "2023-09-23T03:52:41.770Z"
   },
   {
    "duration": 12,
    "start_time": "2023-09-23T03:52:57.377Z"
   },
   {
    "duration": 117,
    "start_time": "2023-09-23T03:54:15.721Z"
   },
   {
    "duration": 101,
    "start_time": "2023-09-23T03:54:22.881Z"
   },
   {
    "duration": 5,
    "start_time": "2023-09-23T03:54:28.203Z"
   },
   {
    "duration": 91,
    "start_time": "2023-09-23T03:54:38.680Z"
   },
   {
    "duration": 4,
    "start_time": "2023-09-23T03:54:54.684Z"
   },
   {
    "duration": 12,
    "start_time": "2023-09-23T03:55:01.544Z"
   },
   {
    "duration": 12,
    "start_time": "2023-09-23T03:55:48.993Z"
   },
   {
    "duration": 2018,
    "start_time": "2023-09-23T04:00:18.955Z"
   },
   {
    "duration": 1606,
    "start_time": "2023-09-23T04:00:20.975Z"
   },
   {
    "duration": 996,
    "start_time": "2023-09-23T04:00:22.583Z"
   },
   {
    "duration": 17,
    "start_time": "2023-09-23T04:00:23.581Z"
   },
   {
    "duration": 115,
    "start_time": "2023-09-23T04:00:23.601Z"
   },
   {
    "duration": 389,
    "start_time": "2023-09-23T04:00:23.718Z"
   },
   {
    "duration": 94,
    "start_time": "2023-09-23T04:00:24.109Z"
   },
   {
    "duration": 396,
    "start_time": "2023-09-23T04:00:24.205Z"
   },
   {
    "duration": 77,
    "start_time": "2023-09-23T04:00:24.603Z"
   },
   {
    "duration": 8,
    "start_time": "2023-09-23T04:00:24.682Z"
   },
   {
    "duration": 19,
    "start_time": "2023-09-23T04:00:24.691Z"
   },
   {
    "duration": 31,
    "start_time": "2023-09-23T04:00:24.711Z"
   },
   {
    "duration": 47,
    "start_time": "2023-09-23T04:00:24.750Z"
   },
   {
    "duration": 25,
    "start_time": "2023-09-23T04:00:24.800Z"
   },
   {
    "duration": 24,
    "start_time": "2023-09-23T04:00:24.826Z"
   },
   {
    "duration": 628,
    "start_time": "2023-09-23T04:00:24.851Z"
   },
   {
    "duration": 17,
    "start_time": "2023-09-23T04:00:25.481Z"
   },
   {
    "duration": 26,
    "start_time": "2023-09-23T04:00:25.500Z"
   },
   {
    "duration": 54,
    "start_time": "2023-09-23T04:00:25.527Z"
   },
   {
    "duration": 2646,
    "start_time": "2023-09-23T04:00:25.583Z"
   },
   {
    "duration": 23,
    "start_time": "2023-09-23T04:00:28.231Z"
   },
   {
    "duration": 22,
    "start_time": "2023-09-23T04:00:28.255Z"
   },
   {
    "duration": 27,
    "start_time": "2023-09-23T04:00:28.279Z"
   },
   {
    "duration": 24,
    "start_time": "2023-09-23T04:00:28.308Z"
   },
   {
    "duration": 18,
    "start_time": "2023-09-23T04:00:28.334Z"
   },
   {
    "duration": 3,
    "start_time": "2023-09-23T04:00:28.353Z"
   },
   {
    "duration": 28,
    "start_time": "2023-09-23T04:00:28.358Z"
   },
   {
    "duration": 20,
    "start_time": "2023-09-23T04:00:28.388Z"
   },
   {
    "duration": 10,
    "start_time": "2023-09-23T04:00:28.410Z"
   },
   {
    "duration": 109,
    "start_time": "2023-09-23T04:00:28.422Z"
   },
   {
    "duration": 133,
    "start_time": "2023-09-23T04:00:28.532Z"
   },
   {
    "duration": 131,
    "start_time": "2023-09-23T04:00:28.667Z"
   },
   {
    "duration": 56,
    "start_time": "2023-09-23T04:00:28.800Z"
   },
   {
    "duration": 64,
    "start_time": "2023-09-23T04:00:28.858Z"
   },
   {
    "duration": 631,
    "start_time": "2023-09-23T04:00:28.924Z"
   },
   {
    "duration": 34,
    "start_time": "2023-09-23T04:00:29.556Z"
   },
   {
    "duration": 9,
    "start_time": "2023-09-23T04:00:29.592Z"
   },
   {
    "duration": 5,
    "start_time": "2023-09-23T04:00:29.603Z"
   },
   {
    "duration": 249,
    "start_time": "2023-09-23T04:00:29.610Z"
   },
   {
    "duration": 13,
    "start_time": "2023-09-23T04:00:29.861Z"
   },
   {
    "duration": 107,
    "start_time": "2023-09-23T04:00:29.878Z"
   },
   {
    "duration": 12,
    "start_time": "2023-09-23T04:00:29.986Z"
   },
   {
    "duration": 11,
    "start_time": "2023-09-23T04:00:29.999Z"
   },
   {
    "duration": 39,
    "start_time": "2023-09-23T04:00:30.011Z"
   },
   {
    "duration": 42,
    "start_time": "2023-09-23T04:00:30.052Z"
   },
   {
    "duration": 389,
    "start_time": "2023-09-23T04:00:30.095Z"
   },
   {
    "duration": 1,
    "start_time": "2023-09-23T04:00:30.485Z"
   },
   {
    "duration": 0,
    "start_time": "2023-09-23T04:00:30.487Z"
   },
   {
    "duration": 0,
    "start_time": "2023-09-23T04:00:30.488Z"
   },
   {
    "duration": 0,
    "start_time": "2023-09-23T04:00:30.489Z"
   },
   {
    "duration": 0,
    "start_time": "2023-09-23T04:00:30.490Z"
   },
   {
    "duration": 77,
    "start_time": "2023-09-23T04:00:58.769Z"
   },
   {
    "duration": 98,
    "start_time": "2023-09-23T04:01:14.763Z"
   },
   {
    "duration": 3,
    "start_time": "2023-09-23T04:01:29.598Z"
   },
   {
    "duration": 87,
    "start_time": "2023-09-23T04:01:31.822Z"
   },
   {
    "duration": 103,
    "start_time": "2023-09-23T04:01:39.639Z"
   },
   {
    "duration": 867,
    "start_time": "2023-09-23T04:01:51.423Z"
   },
   {
    "duration": 3,
    "start_time": "2023-09-23T04:04:39.438Z"
   },
   {
    "duration": 23,
    "start_time": "2023-09-23T04:06:39.424Z"
   },
   {
    "duration": 4,
    "start_time": "2023-09-23T04:06:56.537Z"
   },
   {
    "duration": 3,
    "start_time": "2023-09-23T04:08:11.620Z"
   },
   {
    "duration": 826,
    "start_time": "2023-09-23T04:08:11.858Z"
   },
   {
    "duration": 9363,
    "start_time": "2023-09-23T04:09:59.899Z"
   },
   {
    "duration": 4,
    "start_time": "2023-09-23T04:12:05.868Z"
   },
   {
    "duration": 10,
    "start_time": "2023-09-23T04:12:36.909Z"
   },
   {
    "duration": 10,
    "start_time": "2023-09-23T04:14:32.828Z"
   },
   {
    "duration": 5,
    "start_time": "2023-09-23T04:16:29.521Z"
   },
   {
    "duration": 10,
    "start_time": "2023-09-23T04:16:56.517Z"
   },
   {
    "duration": 12,
    "start_time": "2023-09-23T04:17:28.847Z"
   },
   {
    "duration": 4,
    "start_time": "2023-09-23T04:17:40.010Z"
   },
   {
    "duration": 9,
    "start_time": "2023-09-23T04:18:11.615Z"
   },
   {
    "duration": 11,
    "start_time": "2023-09-23T04:18:26.222Z"
   },
   {
    "duration": 10,
    "start_time": "2023-09-23T04:19:05.022Z"
   },
   {
    "duration": 10,
    "start_time": "2023-09-23T04:20:02.795Z"
   },
   {
    "duration": 10,
    "start_time": "2023-09-23T04:20:10.791Z"
   },
   {
    "duration": 2061,
    "start_time": "2023-09-23T04:20:19.860Z"
   },
   {
    "duration": 1257,
    "start_time": "2023-09-23T04:20:21.923Z"
   },
   {
    "duration": 972,
    "start_time": "2023-09-23T04:20:23.181Z"
   },
   {
    "duration": 17,
    "start_time": "2023-09-23T04:20:24.154Z"
   },
   {
    "duration": 110,
    "start_time": "2023-09-23T04:20:24.174Z"
   },
   {
    "duration": 394,
    "start_time": "2023-09-23T04:20:24.285Z"
   },
   {
    "duration": 92,
    "start_time": "2023-09-23T04:20:24.681Z"
   },
   {
    "duration": 422,
    "start_time": "2023-09-23T04:20:24.775Z"
   },
   {
    "duration": 91,
    "start_time": "2023-09-23T04:20:25.199Z"
   },
   {
    "duration": 9,
    "start_time": "2023-09-23T04:20:25.292Z"
   },
   {
    "duration": 39,
    "start_time": "2023-09-23T04:20:25.303Z"
   },
   {
    "duration": 39,
    "start_time": "2023-09-23T04:20:25.343Z"
   },
   {
    "duration": 34,
    "start_time": "2023-09-23T04:20:25.384Z"
   },
   {
    "duration": 38,
    "start_time": "2023-09-23T04:20:25.421Z"
   },
   {
    "duration": 35,
    "start_time": "2023-09-23T04:20:25.461Z"
   },
   {
    "duration": 652,
    "start_time": "2023-09-23T04:20:25.498Z"
   },
   {
    "duration": 18,
    "start_time": "2023-09-23T04:20:26.152Z"
   },
   {
    "duration": 11,
    "start_time": "2023-09-23T04:20:26.172Z"
   },
   {
    "duration": 65,
    "start_time": "2023-09-23T04:20:26.185Z"
   },
   {
    "duration": 2654,
    "start_time": "2023-09-23T04:20:26.252Z"
   },
   {
    "duration": 22,
    "start_time": "2023-09-23T04:20:28.908Z"
   },
   {
    "duration": 34,
    "start_time": "2023-09-23T04:20:28.931Z"
   },
   {
    "duration": 26,
    "start_time": "2023-09-23T04:20:28.967Z"
   },
   {
    "duration": 17,
    "start_time": "2023-09-23T04:20:28.994Z"
   },
   {
    "duration": 17,
    "start_time": "2023-09-23T04:20:29.013Z"
   },
   {
    "duration": 15,
    "start_time": "2023-09-23T04:20:29.031Z"
   },
   {
    "duration": 30,
    "start_time": "2023-09-23T04:20:29.049Z"
   },
   {
    "duration": 21,
    "start_time": "2023-09-23T04:20:29.081Z"
   },
   {
    "duration": 4,
    "start_time": "2023-09-23T04:20:29.104Z"
   },
   {
    "duration": 115,
    "start_time": "2023-09-23T04:20:29.109Z"
   },
   {
    "duration": 136,
    "start_time": "2023-09-23T04:20:29.226Z"
   },
   {
    "duration": 111,
    "start_time": "2023-09-23T04:20:29.363Z"
   },
   {
    "duration": 43,
    "start_time": "2023-09-23T04:20:29.476Z"
   },
   {
    "duration": 74,
    "start_time": "2023-09-23T04:20:29.521Z"
   },
   {
    "duration": 623,
    "start_time": "2023-09-23T04:20:29.596Z"
   },
   {
    "duration": 39,
    "start_time": "2023-09-23T04:20:30.221Z"
   },
   {
    "duration": 9,
    "start_time": "2023-09-23T04:20:30.262Z"
   },
   {
    "duration": 33,
    "start_time": "2023-09-23T04:20:30.272Z"
   },
   {
    "duration": 251,
    "start_time": "2023-09-23T04:20:30.307Z"
   },
   {
    "duration": 12,
    "start_time": "2023-09-23T04:20:30.560Z"
   },
   {
    "duration": 143,
    "start_time": "2023-09-23T04:20:30.575Z"
   },
   {
    "duration": 11,
    "start_time": "2023-09-23T04:20:30.719Z"
   },
   {
    "duration": 24,
    "start_time": "2023-09-23T04:20:30.731Z"
   },
   {
    "duration": 32,
    "start_time": "2023-09-23T04:20:30.756Z"
   },
   {
    "duration": 54,
    "start_time": "2023-09-23T04:20:30.789Z"
   },
   {
    "duration": 45,
    "start_time": "2023-09-23T04:20:30.844Z"
   },
   {
    "duration": 44,
    "start_time": "2023-09-23T04:20:30.891Z"
   },
   {
    "duration": 123,
    "start_time": "2023-09-23T04:20:30.936Z"
   },
   {
    "duration": 0,
    "start_time": "2023-09-23T04:20:31.060Z"
   },
   {
    "duration": 0,
    "start_time": "2023-09-23T04:20:31.062Z"
   },
   {
    "duration": 0,
    "start_time": "2023-09-23T04:20:31.063Z"
   },
   {
    "duration": 0,
    "start_time": "2023-09-23T04:20:31.064Z"
   },
   {
    "duration": 0,
    "start_time": "2023-09-23T04:20:31.065Z"
   },
   {
    "duration": 0,
    "start_time": "2023-09-23T04:20:31.065Z"
   },
   {
    "duration": 0,
    "start_time": "2023-09-23T04:20:31.066Z"
   },
   {
    "duration": 10,
    "start_time": "2023-09-23T04:22:01.130Z"
   },
   {
    "duration": 10,
    "start_time": "2023-09-23T04:22:12.922Z"
   },
   {
    "duration": 12,
    "start_time": "2023-09-23T04:22:27.787Z"
   },
   {
    "duration": 10,
    "start_time": "2023-09-23T04:22:43.375Z"
   },
   {
    "duration": 12,
    "start_time": "2023-09-23T04:22:51.508Z"
   },
   {
    "duration": 17,
    "start_time": "2023-09-23T04:25:17.420Z"
   },
   {
    "duration": 14,
    "start_time": "2023-09-23T04:28:00.908Z"
   },
   {
    "duration": 91,
    "start_time": "2023-09-23T04:28:45.348Z"
   },
   {
    "duration": 12,
    "start_time": "2023-09-23T04:28:46.779Z"
   },
   {
    "duration": 17,
    "start_time": "2023-09-23T04:28:52.781Z"
   },
   {
    "duration": 13,
    "start_time": "2023-09-23T04:29:33.067Z"
   },
   {
    "duration": 11,
    "start_time": "2023-09-23T04:29:43.179Z"
   },
   {
    "duration": 897,
    "start_time": "2023-09-23T04:30:37.594Z"
   },
   {
    "duration": 30,
    "start_time": "2023-09-23T04:31:20.890Z"
   },
   {
    "duration": 2087,
    "start_time": "2023-09-23T04:31:35.627Z"
   },
   {
    "duration": 1191,
    "start_time": "2023-09-23T04:31:37.716Z"
   },
   {
    "duration": 966,
    "start_time": "2023-09-23T04:31:38.908Z"
   },
   {
    "duration": 15,
    "start_time": "2023-09-23T04:31:39.876Z"
   },
   {
    "duration": 108,
    "start_time": "2023-09-23T04:31:39.893Z"
   },
   {
    "duration": 375,
    "start_time": "2023-09-23T04:31:40.002Z"
   },
   {
    "duration": 89,
    "start_time": "2023-09-23T04:31:40.378Z"
   },
   {
    "duration": 420,
    "start_time": "2023-09-23T04:31:40.468Z"
   },
   {
    "duration": 82,
    "start_time": "2023-09-23T04:31:40.890Z"
   },
   {
    "duration": 9,
    "start_time": "2023-09-23T04:31:40.973Z"
   },
   {
    "duration": 21,
    "start_time": "2023-09-23T04:31:40.983Z"
   },
   {
    "duration": 23,
    "start_time": "2023-09-23T04:31:41.005Z"
   },
   {
    "duration": 36,
    "start_time": "2023-09-23T04:31:41.029Z"
   },
   {
    "duration": 20,
    "start_time": "2023-09-23T04:31:41.067Z"
   },
   {
    "duration": 21,
    "start_time": "2023-09-23T04:31:41.089Z"
   },
   {
    "duration": 612,
    "start_time": "2023-09-23T04:31:41.112Z"
   },
   {
    "duration": 125,
    "start_time": "2023-09-23T04:31:41.725Z"
   },
   {
    "duration": 0,
    "start_time": "2023-09-23T04:31:41.852Z"
   },
   {
    "duration": 0,
    "start_time": "2023-09-23T04:31:41.853Z"
   },
   {
    "duration": 0,
    "start_time": "2023-09-23T04:31:41.854Z"
   },
   {
    "duration": 0,
    "start_time": "2023-09-23T04:31:41.855Z"
   },
   {
    "duration": 0,
    "start_time": "2023-09-23T04:31:41.856Z"
   },
   {
    "duration": 0,
    "start_time": "2023-09-23T04:31:41.857Z"
   },
   {
    "duration": 0,
    "start_time": "2023-09-23T04:31:41.858Z"
   },
   {
    "duration": 0,
    "start_time": "2023-09-23T04:31:41.859Z"
   },
   {
    "duration": 0,
    "start_time": "2023-09-23T04:31:41.859Z"
   },
   {
    "duration": 0,
    "start_time": "2023-09-23T04:31:41.860Z"
   },
   {
    "duration": 0,
    "start_time": "2023-09-23T04:31:41.861Z"
   },
   {
    "duration": 0,
    "start_time": "2023-09-23T04:31:41.862Z"
   },
   {
    "duration": 0,
    "start_time": "2023-09-23T04:31:41.864Z"
   },
   {
    "duration": 0,
    "start_time": "2023-09-23T04:31:41.865Z"
   },
   {
    "duration": 0,
    "start_time": "2023-09-23T04:31:41.865Z"
   },
   {
    "duration": 0,
    "start_time": "2023-09-23T04:31:41.866Z"
   },
   {
    "duration": 0,
    "start_time": "2023-09-23T04:31:41.867Z"
   },
   {
    "duration": 0,
    "start_time": "2023-09-23T04:31:41.868Z"
   },
   {
    "duration": 0,
    "start_time": "2023-09-23T04:31:41.869Z"
   },
   {
    "duration": 0,
    "start_time": "2023-09-23T04:31:41.870Z"
   },
   {
    "duration": 0,
    "start_time": "2023-09-23T04:31:41.871Z"
   },
   {
    "duration": 0,
    "start_time": "2023-09-23T04:31:41.872Z"
   },
   {
    "duration": 0,
    "start_time": "2023-09-23T04:31:41.873Z"
   },
   {
    "duration": 0,
    "start_time": "2023-09-23T04:31:41.874Z"
   },
   {
    "duration": 0,
    "start_time": "2023-09-23T04:31:41.875Z"
   },
   {
    "duration": 0,
    "start_time": "2023-09-23T04:31:41.876Z"
   },
   {
    "duration": 0,
    "start_time": "2023-09-23T04:31:41.877Z"
   },
   {
    "duration": 0,
    "start_time": "2023-09-23T04:31:41.878Z"
   },
   {
    "duration": 1,
    "start_time": "2023-09-23T04:31:41.878Z"
   },
   {
    "duration": 0,
    "start_time": "2023-09-23T04:31:41.879Z"
   },
   {
    "duration": 0,
    "start_time": "2023-09-23T04:31:41.880Z"
   },
   {
    "duration": 0,
    "start_time": "2023-09-23T04:31:41.881Z"
   },
   {
    "duration": 0,
    "start_time": "2023-09-23T04:31:41.882Z"
   },
   {
    "duration": 0,
    "start_time": "2023-09-23T04:31:41.883Z"
   },
   {
    "duration": 0,
    "start_time": "2023-09-23T04:31:41.884Z"
   },
   {
    "duration": 0,
    "start_time": "2023-09-23T04:31:41.885Z"
   },
   {
    "duration": 0,
    "start_time": "2023-09-23T04:31:41.886Z"
   },
   {
    "duration": 0,
    "start_time": "2023-09-23T04:31:41.887Z"
   },
   {
    "duration": 0,
    "start_time": "2023-09-23T04:31:41.888Z"
   },
   {
    "duration": 0,
    "start_time": "2023-09-23T04:31:41.888Z"
   },
   {
    "duration": 13,
    "start_time": "2023-09-23T04:33:01.931Z"
   },
   {
    "duration": 2026,
    "start_time": "2023-09-23T04:33:07.892Z"
   },
   {
    "duration": 1275,
    "start_time": "2023-09-23T04:33:09.920Z"
   },
   {
    "duration": 944,
    "start_time": "2023-09-23T04:33:11.196Z"
   },
   {
    "duration": 15,
    "start_time": "2023-09-23T04:33:12.142Z"
   },
   {
    "duration": 100,
    "start_time": "2023-09-23T04:33:12.159Z"
   },
   {
    "duration": 370,
    "start_time": "2023-09-23T04:33:12.260Z"
   },
   {
    "duration": 92,
    "start_time": "2023-09-23T04:33:12.631Z"
   },
   {
    "duration": 376,
    "start_time": "2023-09-23T04:33:12.724Z"
   },
   {
    "duration": 77,
    "start_time": "2023-09-23T04:33:13.101Z"
   },
   {
    "duration": 9,
    "start_time": "2023-09-23T04:33:13.179Z"
   },
   {
    "duration": 47,
    "start_time": "2023-09-23T04:33:13.189Z"
   },
   {
    "duration": 21,
    "start_time": "2023-09-23T04:33:13.237Z"
   },
   {
    "duration": 27,
    "start_time": "2023-09-23T04:33:13.260Z"
   },
   {
    "duration": 20,
    "start_time": "2023-09-23T04:33:13.290Z"
   },
   {
    "duration": 38,
    "start_time": "2023-09-23T04:33:13.312Z"
   },
   {
    "duration": 566,
    "start_time": "2023-09-23T04:33:13.352Z"
   },
   {
    "duration": 17,
    "start_time": "2023-09-23T04:33:13.920Z"
   },
   {
    "duration": 2007,
    "start_time": "2023-09-23T04:33:13.939Z"
   },
   {
    "duration": 0,
    "start_time": "2023-09-23T04:33:15.949Z"
   },
   {
    "duration": 0,
    "start_time": "2023-09-23T04:33:15.950Z"
   },
   {
    "duration": 0,
    "start_time": "2023-09-23T04:33:15.952Z"
   },
   {
    "duration": 0,
    "start_time": "2023-09-23T04:33:15.953Z"
   },
   {
    "duration": 0,
    "start_time": "2023-09-23T04:33:15.954Z"
   },
   {
    "duration": 0,
    "start_time": "2023-09-23T04:33:15.955Z"
   },
   {
    "duration": 0,
    "start_time": "2023-09-23T04:33:15.956Z"
   },
   {
    "duration": 0,
    "start_time": "2023-09-23T04:33:15.957Z"
   },
   {
    "duration": 0,
    "start_time": "2023-09-23T04:33:15.958Z"
   },
   {
    "duration": 0,
    "start_time": "2023-09-23T04:33:15.959Z"
   },
   {
    "duration": 0,
    "start_time": "2023-09-23T04:33:15.962Z"
   },
   {
    "duration": 0,
    "start_time": "2023-09-23T04:33:15.963Z"
   },
   {
    "duration": 0,
    "start_time": "2023-09-23T04:33:15.964Z"
   },
   {
    "duration": 0,
    "start_time": "2023-09-23T04:33:15.965Z"
   },
   {
    "duration": 0,
    "start_time": "2023-09-23T04:33:15.967Z"
   },
   {
    "duration": 0,
    "start_time": "2023-09-23T04:33:15.969Z"
   },
   {
    "duration": 0,
    "start_time": "2023-09-23T04:33:15.970Z"
   },
   {
    "duration": 0,
    "start_time": "2023-09-23T04:33:15.972Z"
   },
   {
    "duration": 0,
    "start_time": "2023-09-23T04:33:15.973Z"
   },
   {
    "duration": 0,
    "start_time": "2023-09-23T04:33:15.974Z"
   },
   {
    "duration": 0,
    "start_time": "2023-09-23T04:33:15.976Z"
   },
   {
    "duration": 0,
    "start_time": "2023-09-23T04:33:15.977Z"
   },
   {
    "duration": 0,
    "start_time": "2023-09-23T04:33:15.978Z"
   },
   {
    "duration": 0,
    "start_time": "2023-09-23T04:33:15.981Z"
   },
   {
    "duration": 0,
    "start_time": "2023-09-23T04:33:15.982Z"
   },
   {
    "duration": 0,
    "start_time": "2023-09-23T04:33:15.983Z"
   },
   {
    "duration": 0,
    "start_time": "2023-09-23T04:33:15.985Z"
   },
   {
    "duration": 0,
    "start_time": "2023-09-23T04:33:15.986Z"
   },
   {
    "duration": 0,
    "start_time": "2023-09-23T04:33:15.987Z"
   },
   {
    "duration": 0,
    "start_time": "2023-09-23T04:33:15.989Z"
   },
   {
    "duration": 0,
    "start_time": "2023-09-23T04:33:15.990Z"
   },
   {
    "duration": 0,
    "start_time": "2023-09-23T04:33:16.063Z"
   },
   {
    "duration": 0,
    "start_time": "2023-09-23T04:33:16.064Z"
   },
   {
    "duration": 0,
    "start_time": "2023-09-23T04:33:16.066Z"
   },
   {
    "duration": 0,
    "start_time": "2023-09-23T04:33:16.067Z"
   },
   {
    "duration": 0,
    "start_time": "2023-09-23T04:33:16.068Z"
   },
   {
    "duration": 0,
    "start_time": "2023-09-23T04:33:16.069Z"
   },
   {
    "duration": 0,
    "start_time": "2023-09-23T04:33:16.071Z"
   },
   {
    "duration": 8,
    "start_time": "2023-09-23T04:33:28.790Z"
   },
   {
    "duration": 21,
    "start_time": "2023-09-23T04:33:29.287Z"
   },
   {
    "duration": 57,
    "start_time": "2023-09-23T04:33:30.492Z"
   },
   {
    "duration": 2552,
    "start_time": "2023-09-23T04:33:30.908Z"
   },
   {
    "duration": 21,
    "start_time": "2023-09-23T04:33:33.461Z"
   },
   {
    "duration": 20,
    "start_time": "2023-09-23T04:33:33.483Z"
   },
   {
    "duration": 30,
    "start_time": "2023-09-23T04:33:33.505Z"
   },
   {
    "duration": 16,
    "start_time": "2023-09-23T04:33:33.549Z"
   },
   {
    "duration": 9,
    "start_time": "2023-09-23T04:33:33.664Z"
   },
   {
    "duration": 3,
    "start_time": "2023-09-23T04:33:33.915Z"
   },
   {
    "duration": 24,
    "start_time": "2023-09-23T04:33:33.944Z"
   },
   {
    "duration": 20,
    "start_time": "2023-09-23T04:33:34.367Z"
   },
   {
    "duration": 3,
    "start_time": "2023-09-23T04:33:34.618Z"
   },
   {
    "duration": 90,
    "start_time": "2023-09-23T04:33:34.648Z"
   },
   {
    "duration": 133,
    "start_time": "2023-09-23T04:33:34.740Z"
   },
   {
    "duration": 114,
    "start_time": "2023-09-23T04:33:34.874Z"
   },
   {
    "duration": 43,
    "start_time": "2023-09-23T04:33:35.386Z"
   },
   {
    "duration": 60,
    "start_time": "2023-09-23T04:33:35.637Z"
   },
   {
    "duration": 654,
    "start_time": "2023-09-23T04:33:35.699Z"
   },
   {
    "duration": 40,
    "start_time": "2023-09-23T04:33:36.355Z"
   },
   {
    "duration": 10,
    "start_time": "2023-09-23T04:33:36.397Z"
   },
   {
    "duration": 46,
    "start_time": "2023-09-23T04:33:36.408Z"
   },
   {
    "duration": 236,
    "start_time": "2023-09-23T04:33:36.456Z"
   },
   {
    "duration": 13,
    "start_time": "2023-09-23T04:33:36.694Z"
   },
   {
    "duration": 92,
    "start_time": "2023-09-23T04:33:36.708Z"
   },
   {
    "duration": 12,
    "start_time": "2023-09-23T04:33:36.802Z"
   },
   {
    "duration": 17,
    "start_time": "2023-09-23T04:33:36.815Z"
   },
   {
    "duration": 17,
    "start_time": "2023-09-23T04:33:36.833Z"
   },
   {
    "duration": 2,
    "start_time": "2023-09-23T04:33:36.851Z"
   },
   {
    "duration": 2,
    "start_time": "2023-09-23T04:33:37.119Z"
   },
   {
    "duration": 2,
    "start_time": "2023-09-23T04:33:37.727Z"
   },
   {
    "duration": 3,
    "start_time": "2023-09-23T04:33:39.326Z"
   },
   {
    "duration": 12,
    "start_time": "2023-09-23T04:33:40.255Z"
   },
   {
    "duration": 10,
    "start_time": "2023-09-23T04:34:16.370Z"
   },
   {
    "duration": 41,
    "start_time": "2023-09-23T04:35:44.587Z"
   },
   {
    "duration": 43,
    "start_time": "2023-09-23T04:35:45.007Z"
   },
   {
    "duration": 9,
    "start_time": "2023-09-23T04:35:45.726Z"
   },
   {
    "duration": 5,
    "start_time": "2023-09-23T04:35:45.989Z"
   },
   {
    "duration": 212,
    "start_time": "2023-09-23T04:35:46.284Z"
   },
   {
    "duration": 12,
    "start_time": "2023-09-23T04:35:46.743Z"
   },
   {
    "duration": 83,
    "start_time": "2023-09-23T04:35:47.112Z"
   },
   {
    "duration": 11,
    "start_time": "2023-09-23T04:35:47.386Z"
   },
   {
    "duration": 14,
    "start_time": "2023-09-23T04:35:47.627Z"
   },
   {
    "duration": 11,
    "start_time": "2023-09-23T04:36:29.000Z"
   },
   {
    "duration": 97,
    "start_time": "2023-09-23T04:37:11.042Z"
   },
   {
    "duration": 10,
    "start_time": "2023-09-23T04:37:38.514Z"
   },
   {
    "duration": 104,
    "start_time": "2023-09-23T04:39:04.397Z"
   },
   {
    "duration": 96,
    "start_time": "2023-09-23T04:40:02.191Z"
   },
   {
    "duration": 91,
    "start_time": "2023-09-23T04:40:56.785Z"
   },
   {
    "duration": 8,
    "start_time": "2023-09-23T04:40:57.321Z"
   },
   {
    "duration": 16,
    "start_time": "2023-09-23T04:41:42.632Z"
   },
   {
    "duration": 12,
    "start_time": "2023-09-23T04:41:52.217Z"
   },
   {
    "duration": 11,
    "start_time": "2023-09-23T04:41:52.393Z"
   },
   {
    "duration": 13,
    "start_time": "2023-09-23T04:42:09.440Z"
   },
   {
    "duration": 2030,
    "start_time": "2023-09-23T04:42:38.208Z"
   },
   {
    "duration": 1217,
    "start_time": "2023-09-23T04:42:40.240Z"
   },
   {
    "duration": 922,
    "start_time": "2023-09-23T04:42:41.459Z"
   },
   {
    "duration": 16,
    "start_time": "2023-09-23T04:42:42.383Z"
   },
   {
    "duration": 113,
    "start_time": "2023-09-23T04:42:42.400Z"
   },
   {
    "duration": 379,
    "start_time": "2023-09-23T04:42:42.514Z"
   },
   {
    "duration": 97,
    "start_time": "2023-09-23T04:42:42.894Z"
   },
   {
    "duration": 389,
    "start_time": "2023-09-23T04:42:42.993Z"
   },
   {
    "duration": 76,
    "start_time": "2023-09-23T04:42:43.383Z"
   },
   {
    "duration": 8,
    "start_time": "2023-09-23T04:42:43.462Z"
   },
   {
    "duration": 19,
    "start_time": "2023-09-23T04:42:43.472Z"
   },
   {
    "duration": 19,
    "start_time": "2023-09-23T04:42:43.492Z"
   },
   {
    "duration": 42,
    "start_time": "2023-09-23T04:42:43.513Z"
   },
   {
    "duration": 29,
    "start_time": "2023-09-23T04:42:43.556Z"
   },
   {
    "duration": 20,
    "start_time": "2023-09-23T04:42:43.587Z"
   },
   {
    "duration": 616,
    "start_time": "2023-09-23T04:42:43.608Z"
   },
   {
    "duration": 23,
    "start_time": "2023-09-23T04:42:44.226Z"
   },
   {
    "duration": 8,
    "start_time": "2023-09-23T04:42:44.251Z"
   },
   {
    "duration": 25,
    "start_time": "2023-09-23T04:42:44.260Z"
   },
   {
    "duration": 63,
    "start_time": "2023-09-23T04:42:44.287Z"
   },
   {
    "duration": 2568,
    "start_time": "2023-09-23T04:42:44.352Z"
   },
   {
    "duration": 21,
    "start_time": "2023-09-23T04:42:46.922Z"
   },
   {
    "duration": 31,
    "start_time": "2023-09-23T04:42:46.949Z"
   },
   {
    "duration": 26,
    "start_time": "2023-09-23T04:42:46.982Z"
   },
   {
    "duration": 31,
    "start_time": "2023-09-23T04:42:47.009Z"
   },
   {
    "duration": 11,
    "start_time": "2023-09-23T04:42:47.041Z"
   },
   {
    "duration": 3,
    "start_time": "2023-09-23T04:42:47.053Z"
   },
   {
    "duration": 31,
    "start_time": "2023-09-23T04:42:47.059Z"
   },
   {
    "duration": 20,
    "start_time": "2023-09-23T04:42:47.091Z"
   },
   {
    "duration": 4,
    "start_time": "2023-09-23T04:42:47.112Z"
   },
   {
    "duration": 103,
    "start_time": "2023-09-23T04:42:47.117Z"
   },
   {
    "duration": 128,
    "start_time": "2023-09-23T04:42:47.221Z"
   },
   {
    "duration": 107,
    "start_time": "2023-09-23T04:42:47.351Z"
   },
   {
    "duration": 44,
    "start_time": "2023-09-23T04:42:47.460Z"
   },
   {
    "duration": 71,
    "start_time": "2023-09-23T04:42:47.506Z"
   },
   {
    "duration": 604,
    "start_time": "2023-09-23T04:42:47.578Z"
   },
   {
    "duration": 38,
    "start_time": "2023-09-23T04:42:48.183Z"
   },
   {
    "duration": 55,
    "start_time": "2023-09-23T04:42:48.223Z"
   },
   {
    "duration": 11,
    "start_time": "2023-09-23T04:42:48.279Z"
   },
   {
    "duration": 7,
    "start_time": "2023-09-23T04:42:48.291Z"
   },
   {
    "duration": 219,
    "start_time": "2023-09-23T04:42:48.299Z"
   },
   {
    "duration": 12,
    "start_time": "2023-09-23T04:42:48.520Z"
   },
   {
    "duration": 110,
    "start_time": "2023-09-23T04:42:48.534Z"
   },
   {
    "duration": 11,
    "start_time": "2023-09-23T04:42:48.645Z"
   },
   {
    "duration": 19,
    "start_time": "2023-09-23T04:42:48.658Z"
   },
   {
    "duration": 4,
    "start_time": "2023-09-23T04:42:48.678Z"
   },
   {
    "duration": 15,
    "start_time": "2023-09-23T04:42:48.683Z"
   },
   {
    "duration": 7,
    "start_time": "2023-09-23T04:42:48.699Z"
   },
   {
    "duration": 10,
    "start_time": "2023-09-23T04:42:48.707Z"
   },
   {
    "duration": 129,
    "start_time": "2023-09-23T04:42:48.718Z"
   },
   {
    "duration": 0,
    "start_time": "2023-09-23T04:42:48.848Z"
   },
   {
    "duration": 0,
    "start_time": "2023-09-23T04:42:48.849Z"
   },
   {
    "duration": 0,
    "start_time": "2023-09-23T04:42:48.851Z"
   },
   {
    "duration": 0,
    "start_time": "2023-09-23T04:42:48.852Z"
   },
   {
    "duration": 0,
    "start_time": "2023-09-23T04:42:48.853Z"
   },
   {
    "duration": 0,
    "start_time": "2023-09-23T04:42:48.855Z"
   },
   {
    "duration": 0,
    "start_time": "2023-09-23T04:42:48.856Z"
   },
   {
    "duration": 0,
    "start_time": "2023-09-23T04:42:48.858Z"
   },
   {
    "duration": 18,
    "start_time": "2023-09-23T04:43:15.214Z"
   },
   {
    "duration": 1976,
    "start_time": "2023-09-23T04:43:22.318Z"
   },
   {
    "duration": 1183,
    "start_time": "2023-09-23T04:43:24.296Z"
   },
   {
    "duration": 1028,
    "start_time": "2023-09-23T04:43:25.481Z"
   },
   {
    "duration": 17,
    "start_time": "2023-09-23T04:43:26.510Z"
   },
   {
    "duration": 112,
    "start_time": "2023-09-23T04:43:26.528Z"
   },
   {
    "duration": 409,
    "start_time": "2023-09-23T04:43:26.641Z"
   },
   {
    "duration": 85,
    "start_time": "2023-09-23T04:43:27.052Z"
   },
   {
    "duration": 440,
    "start_time": "2023-09-23T04:43:27.138Z"
   },
   {
    "duration": 77,
    "start_time": "2023-09-23T04:43:27.579Z"
   },
   {
    "duration": 8,
    "start_time": "2023-09-23T04:43:27.657Z"
   },
   {
    "duration": 23,
    "start_time": "2023-09-23T04:43:27.666Z"
   },
   {
    "duration": 27,
    "start_time": "2023-09-23T04:43:27.690Z"
   },
   {
    "duration": 30,
    "start_time": "2023-09-23T04:43:27.719Z"
   },
   {
    "duration": 20,
    "start_time": "2023-09-23T04:43:27.752Z"
   },
   {
    "duration": 23,
    "start_time": "2023-09-23T04:43:27.773Z"
   },
   {
    "duration": 611,
    "start_time": "2023-09-23T04:43:27.798Z"
   },
   {
    "duration": 18,
    "start_time": "2023-09-23T04:43:28.411Z"
   },
   {
    "duration": 8,
    "start_time": "2023-09-23T04:43:28.430Z"
   },
   {
    "duration": 33,
    "start_time": "2023-09-23T04:43:28.449Z"
   },
   {
    "duration": 52,
    "start_time": "2023-09-23T04:43:28.484Z"
   },
   {
    "duration": 2613,
    "start_time": "2023-09-23T04:43:28.538Z"
   },
   {
    "duration": 21,
    "start_time": "2023-09-23T04:43:31.153Z"
   },
   {
    "duration": 61,
    "start_time": "2023-09-23T04:43:31.176Z"
   },
   {
    "duration": 69,
    "start_time": "2023-09-23T04:43:31.239Z"
   },
   {
    "duration": 50,
    "start_time": "2023-09-23T04:43:31.309Z"
   },
   {
    "duration": 59,
    "start_time": "2023-09-23T04:43:31.360Z"
   },
   {
    "duration": 52,
    "start_time": "2023-09-23T04:43:31.420Z"
   },
   {
    "duration": 87,
    "start_time": "2023-09-23T04:43:31.474Z"
   },
   {
    "duration": 44,
    "start_time": "2023-09-23T04:43:31.563Z"
   },
   {
    "duration": 50,
    "start_time": "2023-09-23T04:43:31.608Z"
   },
   {
    "duration": 152,
    "start_time": "2023-09-23T04:43:31.660Z"
   },
   {
    "duration": 125,
    "start_time": "2023-09-23T04:43:31.813Z"
   },
   {
    "duration": 116,
    "start_time": "2023-09-23T04:43:31.939Z"
   },
   {
    "duration": 44,
    "start_time": "2023-09-23T04:43:32.056Z"
   },
   {
    "duration": 72,
    "start_time": "2023-09-23T04:43:32.101Z"
   },
   {
    "duration": 620,
    "start_time": "2023-09-23T04:43:32.174Z"
   },
   {
    "duration": 37,
    "start_time": "2023-09-23T04:43:32.795Z"
   },
   {
    "duration": 56,
    "start_time": "2023-09-23T04:43:32.834Z"
   },
   {
    "duration": 12,
    "start_time": "2023-09-23T04:43:32.892Z"
   },
   {
    "duration": 13,
    "start_time": "2023-09-23T04:43:32.905Z"
   },
   {
    "duration": 220,
    "start_time": "2023-09-23T04:43:32.922Z"
   },
   {
    "duration": 14,
    "start_time": "2023-09-23T04:43:33.144Z"
   },
   {
    "duration": 96,
    "start_time": "2023-09-23T04:43:33.160Z"
   },
   {
    "duration": 11,
    "start_time": "2023-09-23T04:43:33.258Z"
   },
   {
    "duration": 14,
    "start_time": "2023-09-23T04:43:33.270Z"
   },
   {
    "duration": 9,
    "start_time": "2023-09-23T04:43:33.285Z"
   },
   {
    "duration": 8,
    "start_time": "2023-09-23T04:43:33.295Z"
   },
   {
    "duration": 10,
    "start_time": "2023-09-23T04:43:33.304Z"
   },
   {
    "duration": 15,
    "start_time": "2023-09-23T04:43:33.315Z"
   },
   {
    "duration": 111,
    "start_time": "2023-09-23T04:43:33.331Z"
   },
   {
    "duration": 0,
    "start_time": "2023-09-23T04:43:33.444Z"
   },
   {
    "duration": 0,
    "start_time": "2023-09-23T04:43:33.449Z"
   },
   {
    "duration": 0,
    "start_time": "2023-09-23T04:43:33.450Z"
   },
   {
    "duration": 0,
    "start_time": "2023-09-23T04:43:33.451Z"
   },
   {
    "duration": 0,
    "start_time": "2023-09-23T04:43:33.452Z"
   },
   {
    "duration": 0,
    "start_time": "2023-09-23T04:43:33.453Z"
   },
   {
    "duration": 0,
    "start_time": "2023-09-23T04:43:33.453Z"
   },
   {
    "duration": 0,
    "start_time": "2023-09-23T04:43:33.454Z"
   },
   {
    "duration": 3,
    "start_time": "2023-09-23T04:43:53.007Z"
   },
   {
    "duration": 13,
    "start_time": "2023-09-23T04:44:41.421Z"
   },
   {
    "duration": 4,
    "start_time": "2023-09-23T04:45:14.088Z"
   },
   {
    "duration": 92,
    "start_time": "2023-09-23T04:45:15.483Z"
   },
   {
    "duration": 12,
    "start_time": "2023-09-23T04:45:19.775Z"
   },
   {
    "duration": 2,
    "start_time": "2023-09-23T04:45:37.381Z"
   },
   {
    "duration": 5,
    "start_time": "2023-09-23T04:45:46.436Z"
   },
   {
    "duration": 14,
    "start_time": "2023-09-23T04:48:49.629Z"
   },
   {
    "duration": 14,
    "start_time": "2023-09-23T04:49:16.361Z"
   },
   {
    "duration": 6,
    "start_time": "2023-09-23T04:49:52.149Z"
   },
   {
    "duration": 5,
    "start_time": "2023-09-23T04:50:01.820Z"
   },
   {
    "duration": 44,
    "start_time": "2023-09-23T04:53:29.421Z"
   },
   {
    "duration": 3035,
    "start_time": "2023-09-23T04:53:41.817Z"
   },
   {
    "duration": 2389,
    "start_time": "2023-09-23T04:53:44.855Z"
   },
   {
    "duration": 1215,
    "start_time": "2023-09-23T04:53:47.246Z"
   },
   {
    "duration": 19,
    "start_time": "2023-09-23T04:53:48.463Z"
   },
   {
    "duration": 93,
    "start_time": "2023-09-23T04:53:48.483Z"
   },
   {
    "duration": 358,
    "start_time": "2023-09-23T04:53:48.577Z"
   },
   {
    "duration": 82,
    "start_time": "2023-09-23T04:53:48.936Z"
   },
   {
    "duration": 460,
    "start_time": "2023-09-23T04:53:49.019Z"
   },
   {
    "duration": 76,
    "start_time": "2023-09-23T04:53:49.481Z"
   },
   {
    "duration": 9,
    "start_time": "2023-09-23T04:53:49.559Z"
   },
   {
    "duration": 26,
    "start_time": "2023-09-23T04:53:49.569Z"
   },
   {
    "duration": 26,
    "start_time": "2023-09-23T04:53:49.596Z"
   },
   {
    "duration": 40,
    "start_time": "2023-09-23T04:53:49.624Z"
   },
   {
    "duration": 32,
    "start_time": "2023-09-23T04:53:49.667Z"
   },
   {
    "duration": 33,
    "start_time": "2023-09-23T04:53:49.701Z"
   },
   {
    "duration": 597,
    "start_time": "2023-09-23T04:53:49.736Z"
   },
   {
    "duration": 29,
    "start_time": "2023-09-23T04:53:50.335Z"
   },
   {
    "duration": 34,
    "start_time": "2023-09-23T04:53:50.365Z"
   },
   {
    "duration": 22,
    "start_time": "2023-09-23T04:53:50.400Z"
   },
   {
    "duration": 27,
    "start_time": "2023-09-23T04:53:50.424Z"
   },
   {
    "duration": 49,
    "start_time": "2023-09-23T04:53:50.452Z"
   },
   {
    "duration": 2687,
    "start_time": "2023-09-23T04:53:50.503Z"
   },
   {
    "duration": 21,
    "start_time": "2023-09-23T04:53:53.192Z"
   },
   {
    "duration": 38,
    "start_time": "2023-09-23T04:53:53.214Z"
   },
   {
    "duration": 75,
    "start_time": "2023-09-23T04:53:53.254Z"
   },
   {
    "duration": 20,
    "start_time": "2023-09-23T04:53:53.331Z"
   },
   {
    "duration": 45,
    "start_time": "2023-09-23T04:53:53.352Z"
   },
   {
    "duration": 45,
    "start_time": "2023-09-23T04:53:53.399Z"
   },
   {
    "duration": 60,
    "start_time": "2023-09-23T04:53:53.445Z"
   },
   {
    "duration": 41,
    "start_time": "2023-09-23T04:53:53.506Z"
   },
   {
    "duration": 44,
    "start_time": "2023-09-23T04:53:53.549Z"
   },
   {
    "duration": 118,
    "start_time": "2023-09-23T04:53:53.594Z"
   },
   {
    "duration": 120,
    "start_time": "2023-09-23T04:53:53.714Z"
   },
   {
    "duration": 115,
    "start_time": "2023-09-23T04:53:53.835Z"
   },
   {
    "duration": 44,
    "start_time": "2023-09-23T04:53:53.952Z"
   },
   {
    "duration": 76,
    "start_time": "2023-09-23T04:53:53.998Z"
   },
   {
    "duration": 636,
    "start_time": "2023-09-23T04:53:54.076Z"
   },
   {
    "duration": 49,
    "start_time": "2023-09-23T04:53:54.714Z"
   },
   {
    "duration": 54,
    "start_time": "2023-09-23T04:53:54.764Z"
   },
   {
    "duration": 10,
    "start_time": "2023-09-23T04:53:54.820Z"
   },
   {
    "duration": 18,
    "start_time": "2023-09-23T04:53:54.834Z"
   },
   {
    "duration": 243,
    "start_time": "2023-09-23T04:53:54.853Z"
   },
   {
    "duration": 12,
    "start_time": "2023-09-23T04:53:55.097Z"
   },
   {
    "duration": 119,
    "start_time": "2023-09-23T04:53:55.111Z"
   },
   {
    "duration": 11,
    "start_time": "2023-09-23T04:53:55.232Z"
   },
   {
    "duration": 39,
    "start_time": "2023-09-23T04:53:55.244Z"
   },
   {
    "duration": 36,
    "start_time": "2023-09-23T04:53:55.284Z"
   },
   {
    "duration": 84,
    "start_time": "2023-09-23T04:53:55.321Z"
   },
   {
    "duration": 0,
    "start_time": "2023-09-23T04:53:55.407Z"
   },
   {
    "duration": 0,
    "start_time": "2023-09-23T04:53:55.408Z"
   },
   {
    "duration": 0,
    "start_time": "2023-09-23T04:53:55.409Z"
   },
   {
    "duration": 0,
    "start_time": "2023-09-23T04:53:55.410Z"
   },
   {
    "duration": 0,
    "start_time": "2023-09-23T04:53:55.412Z"
   },
   {
    "duration": 0,
    "start_time": "2023-09-23T04:53:55.413Z"
   },
   {
    "duration": 0,
    "start_time": "2023-09-23T04:53:55.414Z"
   },
   {
    "duration": 0,
    "start_time": "2023-09-23T04:53:55.415Z"
   },
   {
    "duration": 0,
    "start_time": "2023-09-23T04:53:55.416Z"
   },
   {
    "duration": 0,
    "start_time": "2023-09-23T04:53:55.417Z"
   },
   {
    "duration": 0,
    "start_time": "2023-09-23T04:53:55.418Z"
   },
   {
    "duration": 0,
    "start_time": "2023-09-23T04:53:55.419Z"
   },
   {
    "duration": 0,
    "start_time": "2023-09-23T04:53:55.420Z"
   },
   {
    "duration": 101,
    "start_time": "2023-09-23T04:54:10.054Z"
   },
   {
    "duration": 34,
    "start_time": "2023-09-23T04:54:13.398Z"
   },
   {
    "duration": 31,
    "start_time": "2023-09-23T04:54:40.259Z"
   },
   {
    "duration": 1961,
    "start_time": "2023-09-23T04:54:49.908Z"
   },
   {
    "duration": 1190,
    "start_time": "2023-09-23T04:54:51.871Z"
   },
   {
    "duration": 949,
    "start_time": "2023-09-23T04:54:53.062Z"
   },
   {
    "duration": 18,
    "start_time": "2023-09-23T04:54:54.013Z"
   },
   {
    "duration": 102,
    "start_time": "2023-09-23T04:54:54.032Z"
   },
   {
    "duration": 375,
    "start_time": "2023-09-23T04:54:54.136Z"
   },
   {
    "duration": 88,
    "start_time": "2023-09-23T04:54:54.513Z"
   },
   {
    "duration": 378,
    "start_time": "2023-09-23T04:54:54.602Z"
   },
   {
    "duration": 85,
    "start_time": "2023-09-23T04:54:54.981Z"
   },
   {
    "duration": 9,
    "start_time": "2023-09-23T04:54:55.068Z"
   },
   {
    "duration": 23,
    "start_time": "2023-09-23T04:54:55.079Z"
   },
   {
    "duration": 34,
    "start_time": "2023-09-23T04:54:55.104Z"
   },
   {
    "duration": 46,
    "start_time": "2023-09-23T04:54:55.140Z"
   },
   {
    "duration": 33,
    "start_time": "2023-09-23T04:54:55.187Z"
   },
   {
    "duration": 21,
    "start_time": "2023-09-23T04:54:55.222Z"
   },
   {
    "duration": 602,
    "start_time": "2023-09-23T04:54:55.245Z"
   },
   {
    "duration": 23,
    "start_time": "2023-09-23T04:54:55.850Z"
   },
   {
    "duration": 43,
    "start_time": "2023-09-23T04:54:55.874Z"
   },
   {
    "duration": 23,
    "start_time": "2023-09-23T04:54:55.919Z"
   },
   {
    "duration": 35,
    "start_time": "2023-09-23T04:54:55.944Z"
   },
   {
    "duration": 58,
    "start_time": "2023-09-23T04:54:55.980Z"
   },
   {
    "duration": 2576,
    "start_time": "2023-09-23T04:54:56.040Z"
   },
   {
    "duration": 21,
    "start_time": "2023-09-23T04:54:58.617Z"
   },
   {
    "duration": 28,
    "start_time": "2023-09-23T04:54:58.639Z"
   },
   {
    "duration": 25,
    "start_time": "2023-09-23T04:54:58.669Z"
   },
   {
    "duration": 30,
    "start_time": "2023-09-23T04:54:58.696Z"
   },
   {
    "duration": 19,
    "start_time": "2023-09-23T04:54:58.728Z"
   },
   {
    "duration": 17,
    "start_time": "2023-09-23T04:54:58.751Z"
   },
   {
    "duration": 56,
    "start_time": "2023-09-23T04:54:58.770Z"
   },
   {
    "duration": 58,
    "start_time": "2023-09-23T04:54:58.828Z"
   },
   {
    "duration": 45,
    "start_time": "2023-09-23T04:54:58.888Z"
   },
   {
    "duration": 154,
    "start_time": "2023-09-23T04:54:58.935Z"
   },
   {
    "duration": 186,
    "start_time": "2023-09-23T04:54:59.091Z"
   },
   {
    "duration": 115,
    "start_time": "2023-09-23T04:54:59.278Z"
   },
   {
    "duration": 45,
    "start_time": "2023-09-23T04:54:59.395Z"
   },
   {
    "duration": 135,
    "start_time": "2023-09-23T04:54:59.449Z"
   },
   {
    "duration": 598,
    "start_time": "2023-09-23T04:54:59.586Z"
   },
   {
    "duration": 115,
    "start_time": "2023-09-23T04:55:00.186Z"
   },
   {
    "duration": 0,
    "start_time": "2023-09-23T04:55:00.303Z"
   },
   {
    "duration": 0,
    "start_time": "2023-09-23T04:55:00.304Z"
   },
   {
    "duration": 0,
    "start_time": "2023-09-23T04:55:00.305Z"
   },
   {
    "duration": 0,
    "start_time": "2023-09-23T04:55:00.305Z"
   },
   {
    "duration": 0,
    "start_time": "2023-09-23T04:55:00.306Z"
   },
   {
    "duration": 0,
    "start_time": "2023-09-23T04:55:00.307Z"
   },
   {
    "duration": 0,
    "start_time": "2023-09-23T04:55:00.308Z"
   },
   {
    "duration": 0,
    "start_time": "2023-09-23T04:55:00.309Z"
   },
   {
    "duration": 0,
    "start_time": "2023-09-23T04:55:00.309Z"
   },
   {
    "duration": 0,
    "start_time": "2023-09-23T04:55:00.310Z"
   },
   {
    "duration": 0,
    "start_time": "2023-09-23T04:55:00.311Z"
   },
   {
    "duration": 0,
    "start_time": "2023-09-23T04:55:00.311Z"
   },
   {
    "duration": 0,
    "start_time": "2023-09-23T04:55:00.312Z"
   },
   {
    "duration": 0,
    "start_time": "2023-09-23T04:55:00.313Z"
   },
   {
    "duration": 0,
    "start_time": "2023-09-23T04:55:00.314Z"
   },
   {
    "duration": 0,
    "start_time": "2023-09-23T04:55:00.315Z"
   },
   {
    "duration": 0,
    "start_time": "2023-09-23T04:55:00.316Z"
   },
   {
    "duration": 0,
    "start_time": "2023-09-23T04:55:00.318Z"
   },
   {
    "duration": 0,
    "start_time": "2023-09-23T04:55:00.319Z"
   },
   {
    "duration": 0,
    "start_time": "2023-09-23T04:55:00.349Z"
   },
   {
    "duration": 0,
    "start_time": "2023-09-23T04:55:00.350Z"
   },
   {
    "duration": 0,
    "start_time": "2023-09-23T04:55:00.351Z"
   },
   {
    "duration": 0,
    "start_time": "2023-09-23T04:55:00.352Z"
   },
   {
    "duration": 19,
    "start_time": "2023-09-23T04:56:30.098Z"
   },
   {
    "duration": 14,
    "start_time": "2023-09-23T04:57:16.089Z"
   },
   {
    "duration": 1990,
    "start_time": "2023-09-23T04:57:54.102Z"
   },
   {
    "duration": 1214,
    "start_time": "2023-09-23T04:57:56.095Z"
   },
   {
    "duration": 1217,
    "start_time": "2023-09-23T04:57:57.311Z"
   },
   {
    "duration": 22,
    "start_time": "2023-09-23T04:57:58.530Z"
   },
   {
    "duration": 102,
    "start_time": "2023-09-23T04:57:58.553Z"
   },
   {
    "duration": 360,
    "start_time": "2023-09-23T04:57:58.657Z"
   },
   {
    "duration": 93,
    "start_time": "2023-09-23T04:57:59.018Z"
   },
   {
    "duration": 398,
    "start_time": "2023-09-23T04:57:59.113Z"
   },
   {
    "duration": 82,
    "start_time": "2023-09-23T04:57:59.513Z"
   },
   {
    "duration": 9,
    "start_time": "2023-09-23T04:57:59.597Z"
   },
   {
    "duration": 26,
    "start_time": "2023-09-23T04:57:59.608Z"
   },
   {
    "duration": 46,
    "start_time": "2023-09-23T04:57:59.636Z"
   },
   {
    "duration": 33,
    "start_time": "2023-09-23T04:57:59.684Z"
   },
   {
    "duration": 37,
    "start_time": "2023-09-23T04:57:59.721Z"
   },
   {
    "duration": 42,
    "start_time": "2023-09-23T04:57:59.759Z"
   },
   {
    "duration": 570,
    "start_time": "2023-09-23T04:57:59.802Z"
   },
   {
    "duration": 33,
    "start_time": "2023-09-23T04:58:00.374Z"
   },
   {
    "duration": 51,
    "start_time": "2023-09-23T04:58:00.409Z"
   },
   {
    "duration": 59,
    "start_time": "2023-09-23T04:58:00.462Z"
   },
   {
    "duration": 40,
    "start_time": "2023-09-23T04:58:00.522Z"
   },
   {
    "duration": 70,
    "start_time": "2023-09-23T04:58:00.564Z"
   },
   {
    "duration": 2551,
    "start_time": "2023-09-23T04:58:00.636Z"
   },
   {
    "duration": 21,
    "start_time": "2023-09-23T04:58:03.188Z"
   },
   {
    "duration": 21,
    "start_time": "2023-09-23T04:58:03.210Z"
   },
   {
    "duration": 40,
    "start_time": "2023-09-23T04:58:03.232Z"
   },
   {
    "duration": 16,
    "start_time": "2023-09-23T04:58:03.274Z"
   },
   {
    "duration": 21,
    "start_time": "2023-09-23T04:58:03.291Z"
   },
   {
    "duration": 17,
    "start_time": "2023-09-23T04:58:03.314Z"
   },
   {
    "duration": 47,
    "start_time": "2023-09-23T04:58:03.332Z"
   },
   {
    "duration": 27,
    "start_time": "2023-09-23T04:58:03.381Z"
   },
   {
    "duration": 8,
    "start_time": "2023-09-23T04:58:03.409Z"
   },
   {
    "duration": 123,
    "start_time": "2023-09-23T04:58:03.419Z"
   },
   {
    "duration": 116,
    "start_time": "2023-09-23T04:58:03.544Z"
   },
   {
    "duration": 107,
    "start_time": "2023-09-23T04:58:03.661Z"
   },
   {
    "duration": 42,
    "start_time": "2023-09-23T04:58:03.769Z"
   },
   {
    "duration": 73,
    "start_time": "2023-09-23T04:58:03.812Z"
   },
   {
    "duration": 604,
    "start_time": "2023-09-23T04:58:03.886Z"
   },
   {
    "duration": 106,
    "start_time": "2023-09-23T04:58:04.491Z"
   },
   {
    "duration": 0,
    "start_time": "2023-09-23T04:58:04.598Z"
   },
   {
    "duration": 0,
    "start_time": "2023-09-23T04:58:04.599Z"
   },
   {
    "duration": 0,
    "start_time": "2023-09-23T04:58:04.601Z"
   },
   {
    "duration": 0,
    "start_time": "2023-09-23T04:58:04.601Z"
   },
   {
    "duration": 0,
    "start_time": "2023-09-23T04:58:04.603Z"
   },
   {
    "duration": 0,
    "start_time": "2023-09-23T04:58:04.604Z"
   },
   {
    "duration": 0,
    "start_time": "2023-09-23T04:58:04.604Z"
   },
   {
    "duration": 0,
    "start_time": "2023-09-23T04:58:04.605Z"
   },
   {
    "duration": 0,
    "start_time": "2023-09-23T04:58:04.606Z"
   },
   {
    "duration": 0,
    "start_time": "2023-09-23T04:58:04.607Z"
   },
   {
    "duration": 0,
    "start_time": "2023-09-23T04:58:04.608Z"
   },
   {
    "duration": 0,
    "start_time": "2023-09-23T04:58:04.609Z"
   },
   {
    "duration": 0,
    "start_time": "2023-09-23T04:58:04.610Z"
   },
   {
    "duration": 0,
    "start_time": "2023-09-23T04:58:04.611Z"
   },
   {
    "duration": 0,
    "start_time": "2023-09-23T04:58:04.612Z"
   },
   {
    "duration": 0,
    "start_time": "2023-09-23T04:58:04.613Z"
   },
   {
    "duration": 0,
    "start_time": "2023-09-23T04:58:04.614Z"
   },
   {
    "duration": 0,
    "start_time": "2023-09-23T04:58:04.615Z"
   },
   {
    "duration": 0,
    "start_time": "2023-09-23T04:58:04.616Z"
   },
   {
    "duration": 0,
    "start_time": "2023-09-23T04:58:04.617Z"
   },
   {
    "duration": 0,
    "start_time": "2023-09-23T04:58:04.650Z"
   },
   {
    "duration": 0,
    "start_time": "2023-09-23T04:58:04.651Z"
   },
   {
    "duration": 0,
    "start_time": "2023-09-23T04:58:04.653Z"
   },
   {
    "duration": 0,
    "start_time": "2023-09-23T04:58:04.654Z"
   },
   {
    "duration": 16,
    "start_time": "2023-09-23T04:58:28.433Z"
   },
   {
    "duration": 18,
    "start_time": "2023-09-23T04:58:33.677Z"
   },
   {
    "duration": 13,
    "start_time": "2023-09-23T04:58:48.914Z"
   },
   {
    "duration": 12,
    "start_time": "2023-09-23T04:59:09.554Z"
   },
   {
    "duration": 2043,
    "start_time": "2023-09-23T04:59:14.248Z"
   },
   {
    "duration": 1168,
    "start_time": "2023-09-23T04:59:16.293Z"
   },
   {
    "duration": 925,
    "start_time": "2023-09-23T04:59:17.463Z"
   },
   {
    "duration": 15,
    "start_time": "2023-09-23T04:59:18.390Z"
   },
   {
    "duration": 107,
    "start_time": "2023-09-23T04:59:18.407Z"
   },
   {
    "duration": 352,
    "start_time": "2023-09-23T04:59:18.515Z"
   },
   {
    "duration": 82,
    "start_time": "2023-09-23T04:59:18.869Z"
   },
   {
    "duration": 419,
    "start_time": "2023-09-23T04:59:18.953Z"
   },
   {
    "duration": 76,
    "start_time": "2023-09-23T04:59:19.374Z"
   },
   {
    "duration": 8,
    "start_time": "2023-09-23T04:59:19.451Z"
   },
   {
    "duration": 38,
    "start_time": "2023-09-23T04:59:19.460Z"
   },
   {
    "duration": 26,
    "start_time": "2023-09-23T04:59:19.500Z"
   },
   {
    "duration": 32,
    "start_time": "2023-09-23T04:59:19.527Z"
   },
   {
    "duration": 31,
    "start_time": "2023-09-23T04:59:19.561Z"
   },
   {
    "duration": 46,
    "start_time": "2023-09-23T04:59:19.593Z"
   },
   {
    "duration": 548,
    "start_time": "2023-09-23T04:59:19.641Z"
   },
   {
    "duration": 33,
    "start_time": "2023-09-23T04:59:20.190Z"
   },
   {
    "duration": 37,
    "start_time": "2023-09-23T04:59:20.225Z"
   },
   {
    "duration": 17,
    "start_time": "2023-09-23T04:59:20.263Z"
   },
   {
    "duration": 23,
    "start_time": "2023-09-23T04:59:20.281Z"
   },
   {
    "duration": 46,
    "start_time": "2023-09-23T04:59:20.306Z"
   },
   {
    "duration": 2496,
    "start_time": "2023-09-23T04:59:20.354Z"
   },
   {
    "duration": 23,
    "start_time": "2023-09-23T04:59:22.851Z"
   },
   {
    "duration": 22,
    "start_time": "2023-09-23T04:59:22.876Z"
   },
   {
    "duration": 25,
    "start_time": "2023-09-23T04:59:22.900Z"
   },
   {
    "duration": 17,
    "start_time": "2023-09-23T04:59:22.949Z"
   },
   {
    "duration": 17,
    "start_time": "2023-09-23T04:59:22.968Z"
   },
   {
    "duration": 5,
    "start_time": "2023-09-23T04:59:22.986Z"
   },
   {
    "duration": 29,
    "start_time": "2023-09-23T04:59:22.992Z"
   },
   {
    "duration": 31,
    "start_time": "2023-09-23T04:59:23.023Z"
   },
   {
    "duration": 4,
    "start_time": "2023-09-23T04:59:23.056Z"
   },
   {
    "duration": 102,
    "start_time": "2023-09-23T04:59:23.061Z"
   },
   {
    "duration": 123,
    "start_time": "2023-09-23T04:59:23.165Z"
   },
   {
    "duration": 115,
    "start_time": "2023-09-23T04:59:23.290Z"
   },
   {
    "duration": 50,
    "start_time": "2023-09-23T04:59:23.407Z"
   },
   {
    "duration": 60,
    "start_time": "2023-09-23T04:59:23.459Z"
   },
   {
    "duration": 617,
    "start_time": "2023-09-23T04:59:23.521Z"
   },
   {
    "duration": 21,
    "start_time": "2023-09-23T04:59:24.140Z"
   },
   {
    "duration": 129,
    "start_time": "2023-09-23T04:59:24.163Z"
   },
   {
    "duration": 0,
    "start_time": "2023-09-23T04:59:24.294Z"
   },
   {
    "duration": 0,
    "start_time": "2023-09-23T04:59:24.295Z"
   },
   {
    "duration": 0,
    "start_time": "2023-09-23T04:59:24.296Z"
   },
   {
    "duration": 0,
    "start_time": "2023-09-23T04:59:24.297Z"
   },
   {
    "duration": 0,
    "start_time": "2023-09-23T04:59:24.297Z"
   },
   {
    "duration": 0,
    "start_time": "2023-09-23T04:59:24.299Z"
   },
   {
    "duration": 0,
    "start_time": "2023-09-23T04:59:24.300Z"
   },
   {
    "duration": 0,
    "start_time": "2023-09-23T04:59:24.301Z"
   },
   {
    "duration": 0,
    "start_time": "2023-09-23T04:59:24.301Z"
   },
   {
    "duration": 0,
    "start_time": "2023-09-23T04:59:24.302Z"
   },
   {
    "duration": 0,
    "start_time": "2023-09-23T04:59:24.303Z"
   },
   {
    "duration": 0,
    "start_time": "2023-09-23T04:59:24.304Z"
   },
   {
    "duration": 0,
    "start_time": "2023-09-23T04:59:24.305Z"
   },
   {
    "duration": 0,
    "start_time": "2023-09-23T04:59:24.306Z"
   },
   {
    "duration": 0,
    "start_time": "2023-09-23T04:59:24.307Z"
   },
   {
    "duration": 0,
    "start_time": "2023-09-23T04:59:24.308Z"
   },
   {
    "duration": 0,
    "start_time": "2023-09-23T04:59:24.308Z"
   },
   {
    "duration": 0,
    "start_time": "2023-09-23T04:59:24.309Z"
   },
   {
    "duration": 0,
    "start_time": "2023-09-23T04:59:24.310Z"
   },
   {
    "duration": 0,
    "start_time": "2023-09-23T04:59:24.311Z"
   },
   {
    "duration": 0,
    "start_time": "2023-09-23T04:59:24.312Z"
   },
   {
    "duration": 0,
    "start_time": "2023-09-23T04:59:24.313Z"
   },
   {
    "duration": 0,
    "start_time": "2023-09-23T04:59:24.314Z"
   },
   {
    "duration": 7,
    "start_time": "2023-09-23T05:01:50.349Z"
   },
   {
    "duration": 2238,
    "start_time": "2023-09-23T05:01:59.399Z"
   },
   {
    "duration": 1275,
    "start_time": "2023-09-23T05:02:01.639Z"
   },
   {
    "duration": 961,
    "start_time": "2023-09-23T05:02:02.915Z"
   },
   {
    "duration": 18,
    "start_time": "2023-09-23T05:02:03.877Z"
   },
   {
    "duration": 116,
    "start_time": "2023-09-23T05:02:03.897Z"
   },
   {
    "duration": 401,
    "start_time": "2023-09-23T05:02:04.015Z"
   },
   {
    "duration": 110,
    "start_time": "2023-09-23T05:02:04.417Z"
   },
   {
    "duration": 414,
    "start_time": "2023-09-23T05:02:04.528Z"
   },
   {
    "duration": 77,
    "start_time": "2023-09-23T05:02:04.949Z"
   },
   {
    "duration": 9,
    "start_time": "2023-09-23T05:02:05.027Z"
   },
   {
    "duration": 26,
    "start_time": "2023-09-23T05:02:05.050Z"
   },
   {
    "duration": 48,
    "start_time": "2023-09-23T05:02:05.077Z"
   },
   {
    "duration": 48,
    "start_time": "2023-09-23T05:02:05.127Z"
   },
   {
    "duration": 52,
    "start_time": "2023-09-23T05:02:05.178Z"
   },
   {
    "duration": 49,
    "start_time": "2023-09-23T05:02:05.231Z"
   },
   {
    "duration": 709,
    "start_time": "2023-09-23T05:02:05.282Z"
   },
   {
    "duration": 34,
    "start_time": "2023-09-23T05:02:05.993Z"
   },
   {
    "duration": 145,
    "start_time": "2023-09-23T05:02:06.029Z"
   },
   {
    "duration": 0,
    "start_time": "2023-09-23T05:02:06.176Z"
   },
   {
    "duration": 0,
    "start_time": "2023-09-23T05:02:06.178Z"
   },
   {
    "duration": 0,
    "start_time": "2023-09-23T05:02:06.179Z"
   },
   {
    "duration": 0,
    "start_time": "2023-09-23T05:02:06.180Z"
   },
   {
    "duration": 0,
    "start_time": "2023-09-23T05:02:06.181Z"
   },
   {
    "duration": 0,
    "start_time": "2023-09-23T05:02:06.182Z"
   },
   {
    "duration": 0,
    "start_time": "2023-09-23T05:02:06.184Z"
   },
   {
    "duration": 0,
    "start_time": "2023-09-23T05:02:06.185Z"
   },
   {
    "duration": 0,
    "start_time": "2023-09-23T05:02:06.186Z"
   },
   {
    "duration": 0,
    "start_time": "2023-09-23T05:02:06.187Z"
   },
   {
    "duration": 0,
    "start_time": "2023-09-23T05:02:06.188Z"
   },
   {
    "duration": 0,
    "start_time": "2023-09-23T05:02:06.189Z"
   },
   {
    "duration": 0,
    "start_time": "2023-09-23T05:02:06.190Z"
   },
   {
    "duration": 0,
    "start_time": "2023-09-23T05:02:06.191Z"
   },
   {
    "duration": 0,
    "start_time": "2023-09-23T05:02:06.192Z"
   },
   {
    "duration": 0,
    "start_time": "2023-09-23T05:02:06.193Z"
   },
   {
    "duration": 0,
    "start_time": "2023-09-23T05:02:06.194Z"
   },
   {
    "duration": 0,
    "start_time": "2023-09-23T05:02:06.195Z"
   },
   {
    "duration": 0,
    "start_time": "2023-09-23T05:02:06.196Z"
   },
   {
    "duration": 0,
    "start_time": "2023-09-23T05:02:06.197Z"
   },
   {
    "duration": 0,
    "start_time": "2023-09-23T05:02:06.198Z"
   },
   {
    "duration": 0,
    "start_time": "2023-09-23T05:02:06.199Z"
   },
   {
    "duration": 0,
    "start_time": "2023-09-23T05:02:06.199Z"
   },
   {
    "duration": 0,
    "start_time": "2023-09-23T05:02:06.200Z"
   },
   {
    "duration": 0,
    "start_time": "2023-09-23T05:02:06.201Z"
   },
   {
    "duration": 0,
    "start_time": "2023-09-23T05:02:06.202Z"
   },
   {
    "duration": 0,
    "start_time": "2023-09-23T05:02:06.203Z"
   },
   {
    "duration": 0,
    "start_time": "2023-09-23T05:02:06.204Z"
   },
   {
    "duration": 0,
    "start_time": "2023-09-23T05:02:06.250Z"
   },
   {
    "duration": 0,
    "start_time": "2023-09-23T05:02:06.251Z"
   },
   {
    "duration": 0,
    "start_time": "2023-09-23T05:02:06.252Z"
   },
   {
    "duration": 0,
    "start_time": "2023-09-23T05:02:06.253Z"
   },
   {
    "duration": 0,
    "start_time": "2023-09-23T05:02:06.254Z"
   },
   {
    "duration": 0,
    "start_time": "2023-09-23T05:02:06.255Z"
   },
   {
    "duration": 0,
    "start_time": "2023-09-23T05:02:06.257Z"
   },
   {
    "duration": 0,
    "start_time": "2023-09-23T05:02:06.257Z"
   },
   {
    "duration": 0,
    "start_time": "2023-09-23T05:02:06.258Z"
   },
   {
    "duration": 0,
    "start_time": "2023-09-23T05:02:06.259Z"
   },
   {
    "duration": 0,
    "start_time": "2023-09-23T05:02:06.260Z"
   },
   {
    "duration": 0,
    "start_time": "2023-09-23T05:02:06.261Z"
   },
   {
    "duration": 0,
    "start_time": "2023-09-23T05:02:06.262Z"
   },
   {
    "duration": 0,
    "start_time": "2023-09-23T05:02:06.263Z"
   },
   {
    "duration": 0,
    "start_time": "2023-09-23T05:02:06.264Z"
   },
   {
    "duration": 0,
    "start_time": "2023-09-23T05:02:06.265Z"
   },
   {
    "duration": 0,
    "start_time": "2023-09-23T05:02:06.266Z"
   },
   {
    "duration": 2198,
    "start_time": "2023-09-23T05:02:41.749Z"
   },
   {
    "duration": 1382,
    "start_time": "2023-09-23T05:02:43.950Z"
   },
   {
    "duration": 1066,
    "start_time": "2023-09-23T05:02:45.333Z"
   },
   {
    "duration": 17,
    "start_time": "2023-09-23T05:02:46.401Z"
   },
   {
    "duration": 117,
    "start_time": "2023-09-23T05:02:46.420Z"
   },
   {
    "duration": 421,
    "start_time": "2023-09-23T05:02:46.539Z"
   },
   {
    "duration": 100,
    "start_time": "2023-09-23T05:02:46.962Z"
   },
   {
    "duration": 433,
    "start_time": "2023-09-23T05:02:47.064Z"
   },
   {
    "duration": 82,
    "start_time": "2023-09-23T05:02:47.499Z"
   },
   {
    "duration": 8,
    "start_time": "2023-09-23T05:02:47.583Z"
   },
   {
    "duration": 27,
    "start_time": "2023-09-23T05:02:47.593Z"
   },
   {
    "duration": 29,
    "start_time": "2023-09-23T05:02:47.622Z"
   },
   {
    "duration": 21,
    "start_time": "2023-09-23T05:02:47.653Z"
   },
   {
    "duration": 23,
    "start_time": "2023-09-23T05:02:47.677Z"
   },
   {
    "duration": 24,
    "start_time": "2023-09-23T05:02:47.701Z"
   },
   {
    "duration": 628,
    "start_time": "2023-09-23T05:02:47.749Z"
   },
   {
    "duration": 36,
    "start_time": "2023-09-23T05:02:48.379Z"
   },
   {
    "duration": 39,
    "start_time": "2023-09-23T05:02:48.416Z"
   },
   {
    "duration": 22,
    "start_time": "2023-09-23T05:02:48.457Z"
   },
   {
    "duration": 9,
    "start_time": "2023-09-23T05:02:48.481Z"
   },
   {
    "duration": 24,
    "start_time": "2023-09-23T05:02:48.491Z"
   },
   {
    "duration": 59,
    "start_time": "2023-09-23T05:02:48.517Z"
   },
   {
    "duration": 2672,
    "start_time": "2023-09-23T05:02:48.578Z"
   },
   {
    "duration": 21,
    "start_time": "2023-09-23T05:02:51.252Z"
   },
   {
    "duration": 42,
    "start_time": "2023-09-23T05:02:51.274Z"
   },
   {
    "duration": 39,
    "start_time": "2023-09-23T05:02:51.318Z"
   },
   {
    "duration": 18,
    "start_time": "2023-09-23T05:02:51.359Z"
   },
   {
    "duration": 9,
    "start_time": "2023-09-23T05:02:51.378Z"
   },
   {
    "duration": 5,
    "start_time": "2023-09-23T05:02:51.388Z"
   },
   {
    "duration": 28,
    "start_time": "2023-09-23T05:02:51.395Z"
   },
   {
    "duration": 40,
    "start_time": "2023-09-23T05:02:51.424Z"
   },
   {
    "duration": 5,
    "start_time": "2023-09-23T05:02:51.465Z"
   },
   {
    "duration": 111,
    "start_time": "2023-09-23T05:02:51.472Z"
   },
   {
    "duration": 135,
    "start_time": "2023-09-23T05:02:51.585Z"
   },
   {
    "duration": 121,
    "start_time": "2023-09-23T05:02:51.722Z"
   },
   {
    "duration": 47,
    "start_time": "2023-09-23T05:02:51.845Z"
   },
   {
    "duration": 81,
    "start_time": "2023-09-23T05:02:51.894Z"
   },
   {
    "duration": 669,
    "start_time": "2023-09-23T05:02:51.977Z"
   },
   {
    "duration": 15,
    "start_time": "2023-09-23T05:02:52.647Z"
   },
   {
    "duration": 121,
    "start_time": "2023-09-23T05:02:52.664Z"
   },
   {
    "duration": 49,
    "start_time": "2023-09-23T05:02:52.789Z"
   },
   {
    "duration": 17,
    "start_time": "2023-09-23T05:02:52.839Z"
   },
   {
    "duration": 4,
    "start_time": "2023-09-23T05:02:52.857Z"
   },
   {
    "duration": 230,
    "start_time": "2023-09-23T05:02:52.862Z"
   },
   {
    "duration": 13,
    "start_time": "2023-09-23T05:02:53.094Z"
   },
   {
    "duration": 101,
    "start_time": "2023-09-23T05:02:53.108Z"
   },
   {
    "duration": 12,
    "start_time": "2023-09-23T05:02:53.211Z"
   },
   {
    "duration": 33,
    "start_time": "2023-09-23T05:02:53.224Z"
   },
   {
    "duration": 9,
    "start_time": "2023-09-23T05:02:53.258Z"
   },
   {
    "duration": 267,
    "start_time": "2023-09-23T05:02:53.268Z"
   },
   {
    "duration": 0,
    "start_time": "2023-09-23T05:02:53.537Z"
   },
   {
    "duration": 0,
    "start_time": "2023-09-23T05:02:53.538Z"
   },
   {
    "duration": 0,
    "start_time": "2023-09-23T05:02:53.539Z"
   },
   {
    "duration": 0,
    "start_time": "2023-09-23T05:02:53.540Z"
   },
   {
    "duration": 0,
    "start_time": "2023-09-23T05:02:53.541Z"
   },
   {
    "duration": 0,
    "start_time": "2023-09-23T05:02:53.542Z"
   },
   {
    "duration": 0,
    "start_time": "2023-09-23T05:02:53.543Z"
   },
   {
    "duration": 0,
    "start_time": "2023-09-23T05:02:53.544Z"
   },
   {
    "duration": 0,
    "start_time": "2023-09-23T05:02:53.545Z"
   },
   {
    "duration": 0,
    "start_time": "2023-09-23T05:02:53.545Z"
   },
   {
    "duration": 0,
    "start_time": "2023-09-23T05:02:53.546Z"
   },
   {
    "duration": 0,
    "start_time": "2023-09-23T05:02:53.547Z"
   },
   {
    "duration": 0,
    "start_time": "2023-09-23T05:02:53.549Z"
   },
   {
    "duration": 3,
    "start_time": "2023-09-23T05:03:14.600Z"
   },
   {
    "duration": 3,
    "start_time": "2023-09-23T05:03:17.140Z"
   },
   {
    "duration": 2,
    "start_time": "2023-09-23T05:03:17.346Z"
   },
   {
    "duration": 18,
    "start_time": "2023-09-23T05:03:19.783Z"
   },
   {
    "duration": 8,
    "start_time": "2023-09-23T05:03:20.123Z"
   },
   {
    "duration": 120,
    "start_time": "2023-09-23T05:03:26.756Z"
   },
   {
    "duration": 11,
    "start_time": "2023-09-23T05:03:46.837Z"
   },
   {
    "duration": 95,
    "start_time": "2023-09-23T05:03:55.866Z"
   },
   {
    "duration": 27,
    "start_time": "2023-09-23T05:04:06.861Z"
   },
   {
    "duration": 32,
    "start_time": "2023-09-23T05:04:25.480Z"
   },
   {
    "duration": 6,
    "start_time": "2023-09-23T05:06:58.496Z"
   },
   {
    "duration": 10,
    "start_time": "2023-09-23T05:07:38.516Z"
   },
   {
    "duration": 30,
    "start_time": "2023-09-23T05:08:04.215Z"
   },
   {
    "duration": 1626,
    "start_time": "2023-09-23T08:22:50.770Z"
   },
   {
    "duration": 7179,
    "start_time": "2023-09-23T08:22:53.614Z"
   },
   {
    "duration": 1428,
    "start_time": "2023-09-23T08:23:00.795Z"
   },
   {
    "duration": 20,
    "start_time": "2023-09-23T08:23:02.224Z"
   },
   {
    "duration": 145,
    "start_time": "2023-09-23T08:23:02.246Z"
   },
   {
    "duration": 422,
    "start_time": "2023-09-23T08:23:02.393Z"
   },
   {
    "duration": 94,
    "start_time": "2023-09-23T08:23:02.816Z"
   },
   {
    "duration": 474,
    "start_time": "2023-09-23T08:23:02.911Z"
   },
   {
    "duration": 83,
    "start_time": "2023-09-23T08:23:03.386Z"
   },
   {
    "duration": 9,
    "start_time": "2023-09-23T08:23:03.471Z"
   },
   {
    "duration": 26,
    "start_time": "2023-09-23T08:23:03.483Z"
   },
   {
    "duration": 51,
    "start_time": "2023-09-23T08:23:03.510Z"
   },
   {
    "duration": 25,
    "start_time": "2023-09-23T08:23:03.562Z"
   },
   {
    "duration": 27,
    "start_time": "2023-09-23T08:23:03.589Z"
   },
   {
    "duration": 38,
    "start_time": "2023-09-23T08:23:03.618Z"
   },
   {
    "duration": 632,
    "start_time": "2023-09-23T08:23:03.657Z"
   },
   {
    "duration": 34,
    "start_time": "2023-09-23T08:23:04.291Z"
   },
   {
    "duration": 47,
    "start_time": "2023-09-23T08:23:04.326Z"
   },
   {
    "duration": 7,
    "start_time": "2023-09-23T08:23:04.375Z"
   },
   {
    "duration": 13,
    "start_time": "2023-09-23T08:23:04.383Z"
   },
   {
    "duration": 29,
    "start_time": "2023-09-23T08:23:04.398Z"
   },
   {
    "duration": 96,
    "start_time": "2023-09-23T08:23:04.429Z"
   },
   {
    "duration": 2891,
    "start_time": "2023-09-23T08:23:04.527Z"
   },
   {
    "duration": 31,
    "start_time": "2023-09-23T08:23:07.420Z"
   },
   {
    "duration": 28,
    "start_time": "2023-09-23T08:23:07.456Z"
   },
   {
    "duration": 37,
    "start_time": "2023-09-23T08:23:07.485Z"
   },
   {
    "duration": 31,
    "start_time": "2023-09-23T08:23:07.523Z"
   },
   {
    "duration": 8,
    "start_time": "2023-09-23T08:23:07.563Z"
   },
   {
    "duration": 4,
    "start_time": "2023-09-23T08:23:07.573Z"
   },
   {
    "duration": 28,
    "start_time": "2023-09-23T08:23:07.578Z"
   },
   {
    "duration": 26,
    "start_time": "2023-09-23T08:23:07.607Z"
   },
   {
    "duration": 24,
    "start_time": "2023-09-23T08:23:07.635Z"
   },
   {
    "duration": 104,
    "start_time": "2023-09-23T08:23:07.665Z"
   },
   {
    "duration": 132,
    "start_time": "2023-09-23T08:23:07.770Z"
   },
   {
    "duration": 202,
    "start_time": "2023-09-23T08:23:07.903Z"
   },
   {
    "duration": 57,
    "start_time": "2023-09-23T08:23:08.108Z"
   },
   {
    "duration": 68,
    "start_time": "2023-09-23T08:23:08.244Z"
   },
   {
    "duration": 19,
    "start_time": "2023-09-23T08:23:42.558Z"
   },
   {
    "duration": 86,
    "start_time": "2023-09-23T08:23:42.789Z"
   },
   {
    "duration": 47,
    "start_time": "2023-09-23T08:23:42.982Z"
   },
   {
    "duration": 11,
    "start_time": "2023-09-23T08:23:43.163Z"
   },
   {
    "duration": 6,
    "start_time": "2023-09-23T08:23:43.348Z"
   },
   {
    "duration": 233,
    "start_time": "2023-09-23T08:23:43.532Z"
   },
   {
    "duration": 20,
    "start_time": "2023-09-23T08:23:43.914Z"
   },
   {
    "duration": 202,
    "start_time": "2023-09-23T08:23:44.113Z"
   },
   {
    "duration": 0,
    "start_time": "2023-09-23T08:23:44.316Z"
   },
   {
    "duration": 8,
    "start_time": "2023-09-23T08:23:44.499Z"
   },
   {
    "duration": 2,
    "start_time": "2023-09-23T08:23:44.692Z"
   },
   {
    "duration": 5,
    "start_time": "2023-09-23T08:23:44.914Z"
   },
   {
    "duration": 2178,
    "start_time": "2023-09-23T08:23:52.533Z"
   },
   {
    "duration": 1178,
    "start_time": "2023-09-23T08:23:54.713Z"
   },
   {
    "duration": 1088,
    "start_time": "2023-09-23T08:23:55.893Z"
   },
   {
    "duration": 17,
    "start_time": "2023-09-23T08:23:56.984Z"
   },
   {
    "duration": 131,
    "start_time": "2023-09-23T08:23:57.003Z"
   },
   {
    "duration": 456,
    "start_time": "2023-09-23T08:23:57.136Z"
   },
   {
    "duration": 96,
    "start_time": "2023-09-23T08:23:57.593Z"
   },
   {
    "duration": 425,
    "start_time": "2023-09-23T08:23:57.690Z"
   },
   {
    "duration": 80,
    "start_time": "2023-09-23T08:23:58.117Z"
   },
   {
    "duration": 8,
    "start_time": "2023-09-23T08:23:58.200Z"
   },
   {
    "duration": 24,
    "start_time": "2023-09-23T08:23:58.209Z"
   },
   {
    "duration": 52,
    "start_time": "2023-09-23T08:23:58.234Z"
   },
   {
    "duration": 38,
    "start_time": "2023-09-23T08:23:58.287Z"
   },
   {
    "duration": 46,
    "start_time": "2023-09-23T08:23:58.327Z"
   },
   {
    "duration": 34,
    "start_time": "2023-09-23T08:23:58.375Z"
   },
   {
    "duration": 659,
    "start_time": "2023-09-23T08:23:58.410Z"
   },
   {
    "duration": 59,
    "start_time": "2023-09-23T08:23:59.071Z"
   },
   {
    "duration": 50,
    "start_time": "2023-09-23T08:23:59.132Z"
   },
   {
    "duration": 9,
    "start_time": "2023-09-23T08:23:59.184Z"
   },
   {
    "duration": 12,
    "start_time": "2023-09-23T08:23:59.195Z"
   },
   {
    "duration": 68,
    "start_time": "2023-09-23T08:23:59.209Z"
   },
   {
    "duration": 68,
    "start_time": "2023-09-23T08:23:59.279Z"
   },
   {
    "duration": 2888,
    "start_time": "2023-09-23T08:23:59.349Z"
   },
   {
    "duration": 34,
    "start_time": "2023-09-23T08:24:02.238Z"
   },
   {
    "duration": 55,
    "start_time": "2023-09-23T08:24:02.273Z"
   },
   {
    "duration": 59,
    "start_time": "2023-09-23T08:24:02.330Z"
   },
   {
    "duration": 94,
    "start_time": "2023-09-23T08:24:02.392Z"
   },
   {
    "duration": 38,
    "start_time": "2023-09-23T08:24:02.491Z"
   },
   {
    "duration": 6,
    "start_time": "2023-09-23T08:24:02.531Z"
   },
   {
    "duration": 43,
    "start_time": "2023-09-23T08:24:02.539Z"
   },
   {
    "duration": 21,
    "start_time": "2023-09-23T08:24:02.584Z"
   },
   {
    "duration": 23,
    "start_time": "2023-09-23T08:24:02.606Z"
   },
   {
    "duration": 118,
    "start_time": "2023-09-23T08:24:02.630Z"
   },
   {
    "duration": 132,
    "start_time": "2023-09-23T08:24:02.751Z"
   },
   {
    "duration": 122,
    "start_time": "2023-09-23T08:24:02.885Z"
   },
   {
    "duration": 56,
    "start_time": "2023-09-23T08:24:03.008Z"
   },
   {
    "duration": 75,
    "start_time": "2023-09-23T08:24:03.066Z"
   },
   {
    "duration": 655,
    "start_time": "2023-09-23T08:24:03.142Z"
   },
   {
    "duration": 15,
    "start_time": "2023-09-23T08:24:03.798Z"
   },
   {
    "duration": 98,
    "start_time": "2023-09-23T08:24:03.815Z"
   },
   {
    "duration": 59,
    "start_time": "2023-09-23T08:24:03.915Z"
   },
   {
    "duration": 11,
    "start_time": "2023-09-23T08:24:03.975Z"
   },
   {
    "duration": 3,
    "start_time": "2023-09-23T08:24:03.988Z"
   },
   {
    "duration": 231,
    "start_time": "2023-09-23T08:24:03.993Z"
   },
   {
    "duration": 13,
    "start_time": "2023-09-23T08:24:04.226Z"
   },
   {
    "duration": 93,
    "start_time": "2023-09-23T08:24:04.255Z"
   },
   {
    "duration": 15,
    "start_time": "2023-09-23T08:24:04.353Z"
   },
   {
    "duration": 22,
    "start_time": "2023-09-23T08:24:04.371Z"
   },
   {
    "duration": 2,
    "start_time": "2023-09-23T08:24:04.395Z"
   },
   {
    "duration": 21,
    "start_time": "2023-09-23T08:24:04.399Z"
   },
   {
    "duration": 10,
    "start_time": "2023-09-23T08:24:04.422Z"
   },
   {
    "duration": 18,
    "start_time": "2023-09-23T08:24:04.434Z"
   },
   {
    "duration": 33,
    "start_time": "2023-09-23T08:24:04.454Z"
   },
   {
    "duration": 9,
    "start_time": "2023-09-23T08:24:04.490Z"
   },
   {
    "duration": 132,
    "start_time": "2023-09-23T08:24:04.501Z"
   },
   {
    "duration": 0,
    "start_time": "2023-09-23T08:24:04.635Z"
   },
   {
    "duration": 0,
    "start_time": "2023-09-23T08:24:04.636Z"
   },
   {
    "duration": 0,
    "start_time": "2023-09-23T08:24:04.637Z"
   },
   {
    "duration": 0,
    "start_time": "2023-09-23T08:24:04.638Z"
   },
   {
    "duration": 0,
    "start_time": "2023-09-23T08:24:04.639Z"
   },
   {
    "duration": 0,
    "start_time": "2023-09-23T08:24:04.640Z"
   },
   {
    "duration": 0,
    "start_time": "2023-09-23T08:24:04.641Z"
   },
   {
    "duration": 0,
    "start_time": "2023-09-23T08:24:04.642Z"
   },
   {
    "duration": 345,
    "start_time": "2023-09-23T08:24:21.523Z"
   },
   {
    "duration": 10307,
    "start_time": "2023-09-26T14:51:01.185Z"
   },
   {
    "duration": 1592,
    "start_time": "2023-09-26T14:51:11.495Z"
   },
   {
    "duration": 1468,
    "start_time": "2023-09-26T14:51:13.089Z"
   },
   {
    "duration": 19,
    "start_time": "2023-09-26T14:51:14.559Z"
   },
   {
    "duration": 113,
    "start_time": "2023-09-26T14:51:14.580Z"
   },
   {
    "duration": 474,
    "start_time": "2023-09-26T14:51:14.695Z"
   },
   {
    "duration": 119,
    "start_time": "2023-09-26T14:51:15.172Z"
   },
   {
    "duration": 518,
    "start_time": "2023-09-26T14:51:15.293Z"
   },
   {
    "duration": 94,
    "start_time": "2023-09-26T14:51:15.813Z"
   },
   {
    "duration": 11,
    "start_time": "2023-09-26T14:51:15.909Z"
   },
   {
    "duration": 25,
    "start_time": "2023-09-26T14:51:15.922Z"
   },
   {
    "duration": 65,
    "start_time": "2023-09-26T14:51:15.950Z"
   },
   {
    "duration": 42,
    "start_time": "2023-09-26T14:51:16.017Z"
   },
   {
    "duration": 41,
    "start_time": "2023-09-26T14:51:16.080Z"
   },
   {
    "duration": 47,
    "start_time": "2023-09-26T14:51:16.124Z"
   },
   {
    "duration": 774,
    "start_time": "2023-09-26T14:51:16.173Z"
   },
   {
    "duration": 46,
    "start_time": "2023-09-26T14:51:16.949Z"
   },
   {
    "duration": 32,
    "start_time": "2023-09-26T14:51:16.997Z"
   },
   {
    "duration": 7,
    "start_time": "2023-09-26T14:51:17.031Z"
   },
   {
    "duration": 44,
    "start_time": "2023-09-26T14:51:17.040Z"
   },
   {
    "duration": 34,
    "start_time": "2023-09-26T14:51:17.086Z"
   },
   {
    "duration": 90,
    "start_time": "2023-09-26T14:51:17.122Z"
   },
   {
    "duration": 3042,
    "start_time": "2023-09-26T14:51:17.215Z"
   },
   {
    "duration": 25,
    "start_time": "2023-09-26T14:51:20.259Z"
   },
   {
    "duration": 26,
    "start_time": "2023-09-26T14:51:20.286Z"
   },
   {
    "duration": 39,
    "start_time": "2023-09-26T14:51:20.314Z"
   },
   {
    "duration": 44,
    "start_time": "2023-09-26T14:51:20.355Z"
   },
   {
    "duration": 20,
    "start_time": "2023-09-26T14:51:20.401Z"
   },
   {
    "duration": 4,
    "start_time": "2023-09-26T14:51:20.422Z"
   },
   {
    "duration": 32,
    "start_time": "2023-09-26T14:51:20.428Z"
   },
   {
    "duration": 41,
    "start_time": "2023-09-26T14:51:20.462Z"
   },
   {
    "duration": 5,
    "start_time": "2023-09-26T14:51:20.504Z"
   },
   {
    "duration": 133,
    "start_time": "2023-09-26T14:51:20.510Z"
   },
   {
    "duration": 175,
    "start_time": "2023-09-26T14:51:20.645Z"
   },
   {
    "duration": 141,
    "start_time": "2023-09-26T14:51:20.822Z"
   },
   {
    "duration": 63,
    "start_time": "2023-09-26T14:51:20.965Z"
   },
   {
    "duration": 84,
    "start_time": "2023-09-26T14:51:21.030Z"
   },
   {
    "duration": 782,
    "start_time": "2023-09-26T14:51:21.115Z"
   },
   {
    "duration": 17,
    "start_time": "2023-09-26T14:51:21.899Z"
   },
   {
    "duration": 119,
    "start_time": "2023-09-26T14:51:21.918Z"
   },
   {
    "duration": 62,
    "start_time": "2023-09-26T14:51:22.042Z"
   },
   {
    "duration": 11,
    "start_time": "2023-09-26T14:51:22.106Z"
   },
   {
    "duration": 7,
    "start_time": "2023-09-26T14:51:22.119Z"
   },
   {
    "duration": 267,
    "start_time": "2023-09-26T14:51:22.127Z"
   },
   {
    "duration": 20,
    "start_time": "2023-09-26T14:51:22.396Z"
   },
   {
    "duration": 129,
    "start_time": "2023-09-26T14:51:22.418Z"
   },
   {
    "duration": 14,
    "start_time": "2023-09-26T14:51:22.549Z"
   },
   {
    "duration": 29,
    "start_time": "2023-09-26T14:51:22.564Z"
   },
   {
    "duration": 6,
    "start_time": "2023-09-26T14:51:22.595Z"
   },
   {
    "duration": 13,
    "start_time": "2023-09-26T14:51:22.603Z"
   },
   {
    "duration": 128,
    "start_time": "2023-09-26T14:51:22.617Z"
   },
   {
    "duration": 0,
    "start_time": "2023-09-26T14:51:22.746Z"
   },
   {
    "duration": 0,
    "start_time": "2023-09-26T14:51:22.747Z"
   },
   {
    "duration": 0,
    "start_time": "2023-09-26T14:51:22.749Z"
   },
   {
    "duration": 0,
    "start_time": "2023-09-26T14:51:22.750Z"
   },
   {
    "duration": 0,
    "start_time": "2023-09-26T14:51:22.751Z"
   },
   {
    "duration": 0,
    "start_time": "2023-09-26T14:51:22.752Z"
   },
   {
    "duration": 0,
    "start_time": "2023-09-26T14:51:22.753Z"
   },
   {
    "duration": 0,
    "start_time": "2023-09-26T14:51:22.754Z"
   },
   {
    "duration": 0,
    "start_time": "2023-09-26T14:51:22.755Z"
   },
   {
    "duration": 0,
    "start_time": "2023-09-26T14:51:22.756Z"
   },
   {
    "duration": 0,
    "start_time": "2023-09-26T14:51:22.781Z"
   },
   {
    "duration": 0,
    "start_time": "2023-09-26T14:51:22.783Z"
   },
   {
    "duration": 0,
    "start_time": "2023-09-26T14:51:22.784Z"
   },
   {
    "duration": 10,
    "start_time": "2023-09-26T14:51:45.819Z"
   },
   {
    "duration": 10,
    "start_time": "2023-09-26T14:51:54.439Z"
   },
   {
    "duration": 5,
    "start_time": "2023-09-26T14:53:29.136Z"
   },
   {
    "duration": 27,
    "start_time": "2023-09-26T14:53:31.176Z"
   },
   {
    "duration": 19,
    "start_time": "2023-09-26T14:53:40.148Z"
   },
   {
    "duration": 4,
    "start_time": "2023-09-26T14:53:41.573Z"
   },
   {
    "duration": 106,
    "start_time": "2023-09-26T14:53:42.560Z"
   },
   {
    "duration": 125,
    "start_time": "2023-09-26T14:53:43.180Z"
   },
   {
    "duration": 111,
    "start_time": "2023-09-26T14:53:43.759Z"
   },
   {
    "duration": 44,
    "start_time": "2023-09-26T14:53:45.737Z"
   },
   {
    "duration": 72,
    "start_time": "2023-09-26T14:53:47.709Z"
   },
   {
    "duration": 659,
    "start_time": "2023-09-26T14:53:53.665Z"
   },
   {
    "duration": 16,
    "start_time": "2023-09-26T14:54:02.983Z"
   },
   {
    "duration": 1767,
    "start_time": "2023-09-26T14:54:30.546Z"
   },
   {
    "duration": 2313,
    "start_time": "2023-09-26T14:58:53.251Z"
   },
   {
    "duration": 1507,
    "start_time": "2023-09-26T14:58:55.567Z"
   },
   {
    "duration": 1144,
    "start_time": "2023-09-26T14:58:57.076Z"
   },
   {
    "duration": 20,
    "start_time": "2023-09-26T14:58:58.222Z"
   },
   {
    "duration": 122,
    "start_time": "2023-09-26T14:58:58.245Z"
   },
   {
    "duration": 425,
    "start_time": "2023-09-26T14:58:58.369Z"
   },
   {
    "duration": 109,
    "start_time": "2023-09-26T14:58:58.796Z"
   },
   {
    "duration": 456,
    "start_time": "2023-09-26T14:58:58.907Z"
   },
   {
    "duration": 96,
    "start_time": "2023-09-26T14:58:59.364Z"
   },
   {
    "duration": 21,
    "start_time": "2023-09-26T14:58:59.461Z"
   },
   {
    "duration": 33,
    "start_time": "2023-09-26T14:58:59.483Z"
   },
   {
    "duration": 29,
    "start_time": "2023-09-26T14:58:59.518Z"
   },
   {
    "duration": 34,
    "start_time": "2023-09-26T14:58:59.549Z"
   },
   {
    "duration": 30,
    "start_time": "2023-09-26T14:58:59.586Z"
   },
   {
    "duration": 31,
    "start_time": "2023-09-26T14:58:59.618Z"
   },
   {
    "duration": 701,
    "start_time": "2023-09-26T14:58:59.651Z"
   },
   {
    "duration": 64,
    "start_time": "2023-09-26T14:59:00.354Z"
   },
   {
    "duration": 33,
    "start_time": "2023-09-26T14:59:00.420Z"
   },
   {
    "duration": 62,
    "start_time": "2023-09-26T14:59:00.454Z"
   },
   {
    "duration": 58,
    "start_time": "2023-09-26T14:59:00.518Z"
   },
   {
    "duration": 47,
    "start_time": "2023-09-26T14:59:00.578Z"
   },
   {
    "duration": 90,
    "start_time": "2023-09-26T14:59:00.626Z"
   },
   {
    "duration": 69,
    "start_time": "2023-09-26T14:59:00.718Z"
   },
   {
    "duration": 130,
    "start_time": "2023-09-26T14:59:00.789Z"
   },
   {
    "duration": 182,
    "start_time": "2023-09-26T14:59:00.921Z"
   },
   {
    "duration": 139,
    "start_time": "2023-09-26T14:59:01.105Z"
   },
   {
    "duration": 616,
    "start_time": "2023-09-26T14:59:01.246Z"
   },
   {
    "duration": 0,
    "start_time": "2023-09-26T14:59:01.864Z"
   },
   {
    "duration": 0,
    "start_time": "2023-09-26T14:59:01.865Z"
   },
   {
    "duration": 0,
    "start_time": "2023-09-26T14:59:01.867Z"
   },
   {
    "duration": 0,
    "start_time": "2023-09-26T14:59:01.868Z"
   },
   {
    "duration": 0,
    "start_time": "2023-09-26T14:59:01.869Z"
   },
   {
    "duration": 0,
    "start_time": "2023-09-26T14:59:01.870Z"
   },
   {
    "duration": 0,
    "start_time": "2023-09-26T14:59:01.870Z"
   },
   {
    "duration": 0,
    "start_time": "2023-09-26T14:59:01.872Z"
   },
   {
    "duration": 0,
    "start_time": "2023-09-26T14:59:01.873Z"
   },
   {
    "duration": 0,
    "start_time": "2023-09-26T14:59:01.874Z"
   },
   {
    "duration": 0,
    "start_time": "2023-09-26T14:59:01.875Z"
   },
   {
    "duration": 0,
    "start_time": "2023-09-26T14:59:01.876Z"
   },
   {
    "duration": 0,
    "start_time": "2023-09-26T14:59:01.877Z"
   },
   {
    "duration": 0,
    "start_time": "2023-09-26T14:59:01.878Z"
   },
   {
    "duration": 0,
    "start_time": "2023-09-26T14:59:01.879Z"
   },
   {
    "duration": 0,
    "start_time": "2023-09-26T14:59:01.879Z"
   },
   {
    "duration": 0,
    "start_time": "2023-09-26T14:59:01.881Z"
   },
   {
    "duration": 0,
    "start_time": "2023-09-26T14:59:01.881Z"
   },
   {
    "duration": 0,
    "start_time": "2023-09-26T14:59:01.882Z"
   },
   {
    "duration": 0,
    "start_time": "2023-09-26T14:59:01.883Z"
   },
   {
    "duration": 0,
    "start_time": "2023-09-26T14:59:01.884Z"
   },
   {
    "duration": 0,
    "start_time": "2023-09-26T14:59:01.885Z"
   },
   {
    "duration": 0,
    "start_time": "2023-09-26T14:59:01.886Z"
   },
   {
    "duration": 0,
    "start_time": "2023-09-26T14:59:01.888Z"
   },
   {
    "duration": 0,
    "start_time": "2023-09-26T14:59:01.888Z"
   },
   {
    "duration": 0,
    "start_time": "2023-09-26T14:59:01.890Z"
   },
   {
    "duration": 5,
    "start_time": "2023-09-26T15:02:19.925Z"
   },
   {
    "duration": 25,
    "start_time": "2023-09-26T15:02:33.836Z"
   },
   {
    "duration": 18,
    "start_time": "2023-09-26T15:02:38.817Z"
   },
   {
    "duration": 2441,
    "start_time": "2023-09-26T15:03:35.194Z"
   },
   {
    "duration": 1352,
    "start_time": "2023-09-26T15:03:37.638Z"
   },
   {
    "duration": 1129,
    "start_time": "2023-09-26T15:03:38.992Z"
   },
   {
    "duration": 21,
    "start_time": "2023-09-26T15:03:40.123Z"
   },
   {
    "duration": 118,
    "start_time": "2023-09-26T15:03:40.147Z"
   },
   {
    "duration": 436,
    "start_time": "2023-09-26T15:03:40.267Z"
   },
   {
    "duration": 110,
    "start_time": "2023-09-26T15:03:40.705Z"
   },
   {
    "duration": 461,
    "start_time": "2023-09-26T15:03:40.817Z"
   },
   {
    "duration": 79,
    "start_time": "2023-09-26T15:03:41.281Z"
   },
   {
    "duration": 27,
    "start_time": "2023-09-26T15:03:41.362Z"
   },
   {
    "duration": 24,
    "start_time": "2023-09-26T15:03:41.391Z"
   },
   {
    "duration": 23,
    "start_time": "2023-09-26T15:03:41.417Z"
   },
   {
    "duration": 43,
    "start_time": "2023-09-26T15:03:41.442Z"
   },
   {
    "duration": 38,
    "start_time": "2023-09-26T15:03:41.488Z"
   },
   {
    "duration": 27,
    "start_time": "2023-09-26T15:03:41.528Z"
   },
   {
    "duration": 697,
    "start_time": "2023-09-26T15:03:41.557Z"
   },
   {
    "duration": 47,
    "start_time": "2023-09-26T15:03:42.255Z"
   },
   {
    "duration": 33,
    "start_time": "2023-09-26T15:03:42.304Z"
   },
   {
    "duration": 17,
    "start_time": "2023-09-26T15:03:42.339Z"
   },
   {
    "duration": 28,
    "start_time": "2023-09-26T15:03:42.357Z"
   },
   {
    "duration": 74,
    "start_time": "2023-09-26T15:03:42.386Z"
   },
   {
    "duration": 63,
    "start_time": "2023-09-26T15:03:42.462Z"
   },
   {
    "duration": 79,
    "start_time": "2023-09-26T15:03:42.526Z"
   },
   {
    "duration": 81,
    "start_time": "2023-09-26T15:03:42.607Z"
   },
   {
    "duration": 19,
    "start_time": "2023-09-26T15:03:42.690Z"
   },
   {
    "duration": 15,
    "start_time": "2023-09-26T15:03:42.711Z"
   },
   {
    "duration": 42,
    "start_time": "2023-09-26T15:03:42.727Z"
   },
   {
    "duration": 41,
    "start_time": "2023-09-26T15:03:42.771Z"
   },
   {
    "duration": 20,
    "start_time": "2023-09-26T15:03:42.814Z"
   },
   {
    "duration": 83,
    "start_time": "2023-09-26T15:03:42.836Z"
   },
   {
    "duration": 65,
    "start_time": "2023-09-26T15:03:42.920Z"
   },
   {
    "duration": 4,
    "start_time": "2023-09-26T15:03:42.986Z"
   },
   {
    "duration": 117,
    "start_time": "2023-09-26T15:03:42.991Z"
   },
   {
    "duration": 164,
    "start_time": "2023-09-26T15:03:43.110Z"
   },
   {
    "duration": 128,
    "start_time": "2023-09-26T15:03:43.275Z"
   },
   {
    "duration": 59,
    "start_time": "2023-09-26T15:03:43.405Z"
   },
   {
    "duration": 95,
    "start_time": "2023-09-26T15:03:43.466Z"
   },
   {
    "duration": 481,
    "start_time": "2023-09-26T15:03:43.562Z"
   },
   {
    "duration": 131,
    "start_time": "2023-09-26T15:03:44.044Z"
   },
   {
    "duration": 0,
    "start_time": "2023-09-26T15:03:44.178Z"
   },
   {
    "duration": 0,
    "start_time": "2023-09-26T15:03:44.181Z"
   },
   {
    "duration": 0,
    "start_time": "2023-09-26T15:03:44.182Z"
   },
   {
    "duration": 0,
    "start_time": "2023-09-26T15:03:44.184Z"
   },
   {
    "duration": 0,
    "start_time": "2023-09-26T15:03:44.185Z"
   },
   {
    "duration": 0,
    "start_time": "2023-09-26T15:03:44.186Z"
   },
   {
    "duration": 0,
    "start_time": "2023-09-26T15:03:44.187Z"
   },
   {
    "duration": 0,
    "start_time": "2023-09-26T15:03:44.188Z"
   },
   {
    "duration": 0,
    "start_time": "2023-09-26T15:03:44.189Z"
   },
   {
    "duration": 0,
    "start_time": "2023-09-26T15:03:44.191Z"
   },
   {
    "duration": 0,
    "start_time": "2023-09-26T15:03:44.192Z"
   },
   {
    "duration": 0,
    "start_time": "2023-09-26T15:03:44.193Z"
   },
   {
    "duration": 0,
    "start_time": "2023-09-26T15:03:44.194Z"
   },
   {
    "duration": 0,
    "start_time": "2023-09-26T15:03:44.196Z"
   },
   {
    "duration": 0,
    "start_time": "2023-09-26T15:03:44.197Z"
   },
   {
    "duration": 1729,
    "start_time": "2023-09-26T15:04:23.714Z"
   },
   {
    "duration": 17,
    "start_time": "2023-09-26T15:05:02.177Z"
   },
   {
    "duration": 2467,
    "start_time": "2023-09-26T15:05:26.433Z"
   },
   {
    "duration": 1421,
    "start_time": "2023-09-26T15:05:28.903Z"
   },
   {
    "duration": 1185,
    "start_time": "2023-09-26T15:05:30.326Z"
   },
   {
    "duration": 20,
    "start_time": "2023-09-26T15:05:31.513Z"
   },
   {
    "duration": 171,
    "start_time": "2023-09-26T15:05:31.536Z"
   },
   {
    "duration": 479,
    "start_time": "2023-09-26T15:05:31.709Z"
   },
   {
    "duration": 121,
    "start_time": "2023-09-26T15:05:32.190Z"
   },
   {
    "duration": 450,
    "start_time": "2023-09-26T15:05:32.313Z"
   },
   {
    "duration": 89,
    "start_time": "2023-09-26T15:05:32.765Z"
   },
   {
    "duration": 10,
    "start_time": "2023-09-26T15:05:32.855Z"
   },
   {
    "duration": 36,
    "start_time": "2023-09-26T15:05:32.867Z"
   },
   {
    "duration": 47,
    "start_time": "2023-09-26T15:05:32.905Z"
   },
   {
    "duration": 33,
    "start_time": "2023-09-26T15:05:32.954Z"
   },
   {
    "duration": 60,
    "start_time": "2023-09-26T15:05:32.991Z"
   },
   {
    "duration": 734,
    "start_time": "2023-09-26T15:05:33.053Z"
   },
   {
    "duration": 35,
    "start_time": "2023-09-26T15:05:33.790Z"
   },
   {
    "duration": 137,
    "start_time": "2023-09-26T15:05:33.826Z"
   },
   {
    "duration": 0,
    "start_time": "2023-09-26T15:05:33.965Z"
   },
   {
    "duration": 0,
    "start_time": "2023-09-26T15:05:33.966Z"
   },
   {
    "duration": 0,
    "start_time": "2023-09-26T15:05:33.968Z"
   },
   {
    "duration": 0,
    "start_time": "2023-09-26T15:05:33.969Z"
   },
   {
    "duration": 0,
    "start_time": "2023-09-26T15:05:33.981Z"
   },
   {
    "duration": 0,
    "start_time": "2023-09-26T15:05:33.981Z"
   },
   {
    "duration": 0,
    "start_time": "2023-09-26T15:05:33.983Z"
   },
   {
    "duration": 0,
    "start_time": "2023-09-26T15:05:33.984Z"
   },
   {
    "duration": 0,
    "start_time": "2023-09-26T15:05:33.985Z"
   },
   {
    "duration": 0,
    "start_time": "2023-09-26T15:05:33.987Z"
   },
   {
    "duration": 0,
    "start_time": "2023-09-26T15:05:33.988Z"
   },
   {
    "duration": 0,
    "start_time": "2023-09-26T15:05:33.989Z"
   },
   {
    "duration": 0,
    "start_time": "2023-09-26T15:05:33.990Z"
   },
   {
    "duration": 0,
    "start_time": "2023-09-26T15:05:33.991Z"
   },
   {
    "duration": 0,
    "start_time": "2023-09-26T15:05:33.992Z"
   },
   {
    "duration": 0,
    "start_time": "2023-09-26T15:05:33.993Z"
   },
   {
    "duration": 0,
    "start_time": "2023-09-26T15:05:33.994Z"
   },
   {
    "duration": 0,
    "start_time": "2023-09-26T15:05:33.995Z"
   },
   {
    "duration": 0,
    "start_time": "2023-09-26T15:05:33.996Z"
   },
   {
    "duration": 0,
    "start_time": "2023-09-26T15:05:33.997Z"
   },
   {
    "duration": 0,
    "start_time": "2023-09-26T15:05:33.998Z"
   },
   {
    "duration": 0,
    "start_time": "2023-09-26T15:05:33.999Z"
   },
   {
    "duration": 0,
    "start_time": "2023-09-26T15:05:34.000Z"
   },
   {
    "duration": 0,
    "start_time": "2023-09-26T15:05:34.002Z"
   },
   {
    "duration": 0,
    "start_time": "2023-09-26T15:05:34.002Z"
   },
   {
    "duration": 0,
    "start_time": "2023-09-26T15:05:34.004Z"
   },
   {
    "duration": 0,
    "start_time": "2023-09-26T15:05:34.005Z"
   },
   {
    "duration": 0,
    "start_time": "2023-09-26T15:05:34.006Z"
   },
   {
    "duration": 0,
    "start_time": "2023-09-26T15:05:34.007Z"
   },
   {
    "duration": 0,
    "start_time": "2023-09-26T15:05:34.008Z"
   },
   {
    "duration": 0,
    "start_time": "2023-09-26T15:05:34.009Z"
   },
   {
    "duration": 0,
    "start_time": "2023-09-26T15:05:34.010Z"
   },
   {
    "duration": 0,
    "start_time": "2023-09-26T15:05:34.011Z"
   },
   {
    "duration": 0,
    "start_time": "2023-09-26T15:05:34.012Z"
   },
   {
    "duration": 0,
    "start_time": "2023-09-26T15:05:34.013Z"
   },
   {
    "duration": 0,
    "start_time": "2023-09-26T15:05:34.014Z"
   },
   {
    "duration": 8,
    "start_time": "2023-09-26T15:06:10.349Z"
   },
   {
    "duration": 80,
    "start_time": "2023-09-26T15:06:36.279Z"
   },
   {
    "duration": 69,
    "start_time": "2023-09-26T15:06:40.293Z"
   },
   {
    "duration": 71,
    "start_time": "2023-09-26T15:06:53.028Z"
   },
   {
    "duration": 103,
    "start_time": "2023-09-26T15:06:56.721Z"
   },
   {
    "duration": 70,
    "start_time": "2023-09-26T15:07:18.382Z"
   },
   {
    "duration": 15,
    "start_time": "2023-09-26T15:07:26.543Z"
   },
   {
    "duration": 19,
    "start_time": "2023-09-26T15:07:29.127Z"
   },
   {
    "duration": 74,
    "start_time": "2023-09-26T15:07:30.996Z"
   },
   {
    "duration": 69,
    "start_time": "2023-09-26T15:07:31.439Z"
   },
   {
    "duration": 23,
    "start_time": "2023-09-26T15:07:32.481Z"
   },
   {
    "duration": 30,
    "start_time": "2023-09-26T15:07:39.144Z"
   },
   {
    "duration": 78,
    "start_time": "2023-09-26T15:08:18.878Z"
   },
   {
    "duration": 30,
    "start_time": "2023-09-26T15:08:19.714Z"
   },
   {
    "duration": 2349,
    "start_time": "2023-09-26T15:08:27.413Z"
   },
   {
    "duration": 1454,
    "start_time": "2023-09-26T15:08:29.765Z"
   },
   {
    "duration": 1128,
    "start_time": "2023-09-26T15:08:31.221Z"
   },
   {
    "duration": 34,
    "start_time": "2023-09-26T15:08:32.350Z"
   },
   {
    "duration": 262,
    "start_time": "2023-09-26T15:08:32.388Z"
   },
   {
    "duration": 429,
    "start_time": "2023-09-26T15:08:32.652Z"
   },
   {
    "duration": 107,
    "start_time": "2023-09-26T15:08:33.083Z"
   },
   {
    "duration": 453,
    "start_time": "2023-09-26T15:08:33.191Z"
   },
   {
    "duration": 83,
    "start_time": "2023-09-26T15:08:33.646Z"
   },
   {
    "duration": 10,
    "start_time": "2023-09-26T15:08:33.731Z"
   },
   {
    "duration": 44,
    "start_time": "2023-09-26T15:08:33.743Z"
   },
   {
    "duration": 46,
    "start_time": "2023-09-26T15:08:33.789Z"
   },
   {
    "duration": 25,
    "start_time": "2023-09-26T15:08:33.837Z"
   },
   {
    "duration": 42,
    "start_time": "2023-09-26T15:08:33.865Z"
   },
   {
    "duration": 669,
    "start_time": "2023-09-26T15:08:33.909Z"
   },
   {
    "duration": 37,
    "start_time": "2023-09-26T15:08:34.581Z"
   },
   {
    "duration": 17,
    "start_time": "2023-09-26T15:08:34.620Z"
   },
   {
    "duration": 79,
    "start_time": "2023-09-26T15:08:34.639Z"
   },
   {
    "duration": 96,
    "start_time": "2023-09-26T15:08:34.720Z"
   },
   {
    "duration": 10,
    "start_time": "2023-09-26T15:08:34.818Z"
   },
   {
    "duration": 138,
    "start_time": "2023-09-26T15:08:34.830Z"
   },
   {
    "duration": 0,
    "start_time": "2023-09-26T15:08:34.970Z"
   },
   {
    "duration": 0,
    "start_time": "2023-09-26T15:08:34.972Z"
   },
   {
    "duration": 0,
    "start_time": "2023-09-26T15:08:34.973Z"
   },
   {
    "duration": 0,
    "start_time": "2023-09-26T15:08:34.981Z"
   },
   {
    "duration": 0,
    "start_time": "2023-09-26T15:08:34.983Z"
   },
   {
    "duration": 0,
    "start_time": "2023-09-26T15:08:34.985Z"
   },
   {
    "duration": 0,
    "start_time": "2023-09-26T15:08:34.987Z"
   },
   {
    "duration": 0,
    "start_time": "2023-09-26T15:08:34.988Z"
   },
   {
    "duration": 0,
    "start_time": "2023-09-26T15:08:34.990Z"
   },
   {
    "duration": 0,
    "start_time": "2023-09-26T15:08:34.992Z"
   },
   {
    "duration": 0,
    "start_time": "2023-09-26T15:08:34.993Z"
   },
   {
    "duration": 0,
    "start_time": "2023-09-26T15:08:34.995Z"
   },
   {
    "duration": 0,
    "start_time": "2023-09-26T15:08:34.997Z"
   },
   {
    "duration": 0,
    "start_time": "2023-09-26T15:08:34.998Z"
   },
   {
    "duration": 0,
    "start_time": "2023-09-26T15:08:35.000Z"
   },
   {
    "duration": 0,
    "start_time": "2023-09-26T15:08:35.001Z"
   },
   {
    "duration": 0,
    "start_time": "2023-09-26T15:08:35.003Z"
   },
   {
    "duration": 0,
    "start_time": "2023-09-26T15:08:35.005Z"
   },
   {
    "duration": 0,
    "start_time": "2023-09-26T15:08:35.007Z"
   },
   {
    "duration": 0,
    "start_time": "2023-09-26T15:08:35.008Z"
   },
   {
    "duration": 0,
    "start_time": "2023-09-26T15:08:35.009Z"
   },
   {
    "duration": 0,
    "start_time": "2023-09-26T15:08:35.011Z"
   },
   {
    "duration": 0,
    "start_time": "2023-09-26T15:08:35.012Z"
   },
   {
    "duration": 0,
    "start_time": "2023-09-26T15:08:35.014Z"
   },
   {
    "duration": 0,
    "start_time": "2023-09-26T15:08:35.016Z"
   },
   {
    "duration": 0,
    "start_time": "2023-09-26T15:08:35.018Z"
   },
   {
    "duration": 1,
    "start_time": "2023-09-26T15:08:35.019Z"
   },
   {
    "duration": 0,
    "start_time": "2023-09-26T15:08:35.081Z"
   },
   {
    "duration": 0,
    "start_time": "2023-09-26T15:08:35.082Z"
   },
   {
    "duration": 0,
    "start_time": "2023-09-26T15:08:35.083Z"
   },
   {
    "duration": 0,
    "start_time": "2023-09-26T15:08:35.085Z"
   },
   {
    "duration": 85,
    "start_time": "2023-09-26T15:08:56.641Z"
   },
   {
    "duration": 107,
    "start_time": "2023-09-26T15:09:08.054Z"
   },
   {
    "duration": 142,
    "start_time": "2023-09-26T15:09:08.780Z"
   },
   {
    "duration": 126,
    "start_time": "2023-09-26T15:09:09.274Z"
   },
   {
    "duration": 49,
    "start_time": "2023-09-26T15:09:10.330Z"
   },
   {
    "duration": 53,
    "start_time": "2023-09-26T15:09:17.225Z"
   },
   {
    "duration": 537,
    "start_time": "2023-09-26T15:10:10.157Z"
   },
   {
    "duration": 13,
    "start_time": "2023-09-26T15:12:18.902Z"
   },
   {
    "duration": 44,
    "start_time": "2023-09-26T15:14:32.160Z"
   },
   {
    "duration": 57,
    "start_time": "2023-09-26T15:14:40.027Z"
   },
   {
    "duration": 64,
    "start_time": "2023-09-26T15:15:48.583Z"
   },
   {
    "duration": 16,
    "start_time": "2023-09-26T15:15:56.960Z"
   },
   {
    "duration": 16,
    "start_time": "2023-09-26T15:16:04.103Z"
   },
   {
    "duration": 5,
    "start_time": "2023-09-26T15:16:17.951Z"
   },
   {
    "duration": 7,
    "start_time": "2023-09-26T15:16:26.255Z"
   },
   {
    "duration": 25547,
    "start_time": "2023-09-26T15:16:31.147Z"
   },
   {
    "duration": 5,
    "start_time": "2023-09-26T15:17:52.217Z"
   },
   {
    "duration": 24851,
    "start_time": "2023-09-26T15:17:53.439Z"
   },
   {
    "duration": 11,
    "start_time": "2023-09-26T15:21:32.035Z"
   },
   {
    "duration": 35,
    "start_time": "2023-09-26T15:22:39.497Z"
   },
   {
    "duration": 38,
    "start_time": "2023-09-26T15:23:09.156Z"
   },
   {
    "duration": 10,
    "start_time": "2023-09-26T15:31:05.751Z"
   },
   {
    "duration": 37663,
    "start_time": "2023-09-26T15:32:47.343Z"
   },
   {
    "duration": 11,
    "start_time": "2023-09-26T15:33:25.008Z"
   },
   {
    "duration": 550,
    "start_time": "2023-09-26T15:34:51.636Z"
   },
   {
    "duration": 28,
    "start_time": "2023-09-26T15:35:02.763Z"
   },
   {
    "duration": 1845,
    "start_time": "2023-09-26T15:35:22.047Z"
   },
   {
    "duration": 6,
    "start_time": "2023-09-26T15:37:00.406Z"
   },
   {
    "duration": 26905,
    "start_time": "2023-09-26T15:38:55.792Z"
   },
   {
    "duration": 586,
    "start_time": "2023-09-26T15:39:22.698Z"
   },
   {
    "duration": 799,
    "start_time": "2023-09-26T15:39:23.287Z"
   },
   {
    "duration": 15,
    "start_time": "2023-09-26T15:41:27.423Z"
   },
   {
    "duration": 13,
    "start_time": "2023-09-26T15:41:44.563Z"
   },
   {
    "duration": 9,
    "start_time": "2023-09-26T15:48:04.520Z"
   },
   {
    "duration": 5,
    "start_time": "2023-09-26T15:48:08.526Z"
   },
   {
    "duration": 16,
    "start_time": "2023-09-26T15:48:15.397Z"
   },
   {
    "duration": 4,
    "start_time": "2023-09-26T15:48:17.999Z"
   },
   {
    "duration": 5,
    "start_time": "2023-09-26T15:48:32.876Z"
   },
   {
    "duration": 2397,
    "start_time": "2023-09-26T15:49:09.659Z"
   },
   {
    "duration": 1502,
    "start_time": "2023-09-26T15:49:12.059Z"
   },
   {
    "duration": 1181,
    "start_time": "2023-09-26T15:49:13.562Z"
   },
   {
    "duration": 20,
    "start_time": "2023-09-26T15:49:14.745Z"
   },
   {
    "duration": 133,
    "start_time": "2023-09-26T15:49:14.768Z"
   },
   {
    "duration": 470,
    "start_time": "2023-09-26T15:49:14.903Z"
   },
   {
    "duration": 118,
    "start_time": "2023-09-26T15:49:15.375Z"
   },
   {
    "duration": 470,
    "start_time": "2023-09-26T15:49:15.495Z"
   },
   {
    "duration": 93,
    "start_time": "2023-09-26T15:49:15.968Z"
   },
   {
    "duration": 25,
    "start_time": "2023-09-26T15:49:16.063Z"
   },
   {
    "duration": 25,
    "start_time": "2023-09-26T15:49:16.090Z"
   },
   {
    "duration": 28,
    "start_time": "2023-09-26T15:49:16.117Z"
   },
   {
    "duration": 43,
    "start_time": "2023-09-26T15:49:16.147Z"
   },
   {
    "duration": 37,
    "start_time": "2023-09-26T15:49:16.194Z"
   },
   {
    "duration": 807,
    "start_time": "2023-09-26T15:49:16.232Z"
   },
   {
    "duration": 49,
    "start_time": "2023-09-26T15:49:17.041Z"
   },
   {
    "duration": 13,
    "start_time": "2023-09-26T15:49:17.092Z"
   },
   {
    "duration": 107,
    "start_time": "2023-09-26T15:49:17.111Z"
   },
   {
    "duration": 3,
    "start_time": "2023-09-26T15:49:17.220Z"
   },
   {
    "duration": 17,
    "start_time": "2023-09-26T15:49:17.225Z"
   },
   {
    "duration": 115,
    "start_time": "2023-09-26T15:49:17.244Z"
   },
   {
    "duration": 116,
    "start_time": "2023-09-26T15:49:17.361Z"
   },
   {
    "duration": 151,
    "start_time": "2023-09-26T15:49:17.481Z"
   },
   {
    "duration": 132,
    "start_time": "2023-09-26T15:49:17.634Z"
   },
   {
    "duration": 53,
    "start_time": "2023-09-26T15:49:17.768Z"
   },
   {
    "duration": 41,
    "start_time": "2023-09-26T15:49:17.822Z"
   },
   {
    "duration": 506,
    "start_time": "2023-09-26T15:49:17.865Z"
   },
   {
    "duration": 58,
    "start_time": "2023-09-26T15:49:18.373Z"
   },
   {
    "duration": 4,
    "start_time": "2023-09-26T15:49:18.432Z"
   },
   {
    "duration": 15,
    "start_time": "2023-09-26T15:49:18.438Z"
   },
   {
    "duration": 32,
    "start_time": "2023-09-26T15:49:18.455Z"
   },
   {
    "duration": 26740,
    "start_time": "2023-09-26T15:49:18.489Z"
   },
   {
    "duration": 659,
    "start_time": "2023-09-26T15:49:45.231Z"
   },
   {
    "duration": 223,
    "start_time": "2023-09-26T15:49:45.893Z"
   },
   {
    "duration": 0,
    "start_time": "2023-09-26T15:49:46.117Z"
   },
   {
    "duration": 0,
    "start_time": "2023-09-26T15:49:46.118Z"
   },
   {
    "duration": 0,
    "start_time": "2023-09-26T15:49:46.119Z"
   },
   {
    "duration": 0,
    "start_time": "2023-09-26T15:49:46.120Z"
   },
   {
    "duration": 0,
    "start_time": "2023-09-26T15:49:46.121Z"
   },
   {
    "duration": 0,
    "start_time": "2023-09-26T15:49:46.122Z"
   },
   {
    "duration": 0,
    "start_time": "2023-09-26T15:49:46.123Z"
   },
   {
    "duration": 0,
    "start_time": "2023-09-26T15:49:46.124Z"
   },
   {
    "duration": 0,
    "start_time": "2023-09-26T15:49:46.125Z"
   },
   {
    "duration": 0,
    "start_time": "2023-09-26T15:49:46.126Z"
   },
   {
    "duration": 0,
    "start_time": "2023-09-26T15:49:46.127Z"
   },
   {
    "duration": 0,
    "start_time": "2023-09-26T15:49:46.128Z"
   },
   {
    "duration": 0,
    "start_time": "2023-09-26T15:49:46.129Z"
   },
   {
    "duration": 16,
    "start_time": "2023-09-26T15:50:07.813Z"
   },
   {
    "duration": 14,
    "start_time": "2023-09-26T15:50:17.229Z"
   },
   {
    "duration": 614,
    "start_time": "2023-09-26T15:50:27.675Z"
   },
   {
    "duration": 19,
    "start_time": "2023-09-26T15:50:36.696Z"
   },
   {
    "duration": 5,
    "start_time": "2023-09-26T15:51:32.982Z"
   },
   {
    "duration": 14,
    "start_time": "2023-09-26T15:51:45.605Z"
   },
   {
    "duration": 6,
    "start_time": "2023-09-26T15:56:15.297Z"
   },
   {
    "duration": 5,
    "start_time": "2023-09-26T15:56:19.353Z"
   },
   {
    "duration": 6,
    "start_time": "2023-09-26T15:56:34.014Z"
   },
   {
    "duration": 6,
    "start_time": "2023-09-26T15:58:40.447Z"
   },
   {
    "duration": 5,
    "start_time": "2023-09-26T15:58:56.025Z"
   },
   {
    "duration": 5,
    "start_time": "2023-09-26T15:58:58.142Z"
   },
   {
    "duration": 4,
    "start_time": "2023-09-26T15:58:58.732Z"
   },
   {
    "duration": 6,
    "start_time": "2023-09-26T15:59:32.975Z"
   },
   {
    "duration": 6,
    "start_time": "2023-09-26T15:59:37.644Z"
   },
   {
    "duration": 5,
    "start_time": "2023-09-26T16:02:49.391Z"
   },
   {
    "duration": 5,
    "start_time": "2023-09-26T16:02:58.960Z"
   },
   {
    "duration": 6,
    "start_time": "2023-09-26T16:04:31.802Z"
   },
   {
    "duration": 5,
    "start_time": "2023-09-26T16:04:51.205Z"
   },
   {
    "duration": 6,
    "start_time": "2023-09-26T16:05:06.324Z"
   },
   {
    "duration": 7,
    "start_time": "2023-09-26T16:05:18.530Z"
   },
   {
    "duration": 6,
    "start_time": "2023-09-26T16:05:22.072Z"
   },
   {
    "duration": 10,
    "start_time": "2023-09-26T16:05:51.051Z"
   },
   {
    "duration": 4,
    "start_time": "2023-09-26T16:05:57.587Z"
   },
   {
    "duration": 4,
    "start_time": "2023-09-26T16:06:05.229Z"
   },
   {
    "duration": 9,
    "start_time": "2023-09-26T16:06:14.554Z"
   },
   {
    "duration": 5,
    "start_time": "2023-09-26T16:06:18.433Z"
   },
   {
    "duration": 4,
    "start_time": "2023-09-26T16:06:34.513Z"
   },
   {
    "duration": 4,
    "start_time": "2023-09-26T16:08:18.640Z"
   },
   {
    "duration": 4,
    "start_time": "2023-09-26T16:08:42.399Z"
   },
   {
    "duration": 4,
    "start_time": "2023-09-26T16:09:08.919Z"
   },
   {
    "duration": 4,
    "start_time": "2023-09-26T16:09:18.192Z"
   },
   {
    "duration": 9,
    "start_time": "2023-09-26T16:09:38.842Z"
   },
   {
    "duration": 4,
    "start_time": "2023-09-26T16:09:49.115Z"
   },
   {
    "duration": 389,
    "start_time": "2023-09-26T16:11:21.922Z"
   },
   {
    "duration": 58,
    "start_time": "2023-09-26T16:11:56.410Z"
   },
   {
    "duration": 194,
    "start_time": "2023-09-26T16:13:13.054Z"
   },
   {
    "duration": 11,
    "start_time": "2023-09-26T16:13:29.753Z"
   },
   {
    "duration": 164,
    "start_time": "2023-09-26T16:14:07.500Z"
   },
   {
    "duration": 90,
    "start_time": "2023-09-26T16:14:14.293Z"
   },
   {
    "duration": 73,
    "start_time": "2023-09-26T16:14:17.759Z"
   },
   {
    "duration": 121,
    "start_time": "2023-09-26T16:14:18.013Z"
   },
   {
    "duration": 4,
    "start_time": "2023-09-26T16:14:18.263Z"
   },
   {
    "duration": 5,
    "start_time": "2023-09-26T16:14:18.512Z"
   },
   {
    "duration": 8,
    "start_time": "2023-09-26T16:14:18.734Z"
   },
   {
    "duration": 28907,
    "start_time": "2023-09-26T16:14:18.939Z"
   },
   {
    "duration": 739,
    "start_time": "2023-09-26T16:14:47.849Z"
   },
   {
    "duration": 93,
    "start_time": "2023-09-26T16:14:48.590Z"
   },
   {
    "duration": 14,
    "start_time": "2023-09-26T16:14:48.686Z"
   },
   {
    "duration": 5,
    "start_time": "2023-09-26T16:14:48.703Z"
   },
   {
    "duration": 6,
    "start_time": "2023-09-26T16:14:48.710Z"
   },
   {
    "duration": 4,
    "start_time": "2023-09-26T16:16:59.332Z"
   },
   {
    "duration": 10,
    "start_time": "2023-09-26T16:17:10.290Z"
   },
   {
    "duration": 5,
    "start_time": "2023-09-26T16:17:14.308Z"
   },
   {
    "duration": 5,
    "start_time": "2023-09-26T16:18:44.968Z"
   },
   {
    "duration": 29330,
    "start_time": "2023-09-26T16:18:45.608Z"
   },
   {
    "duration": 746,
    "start_time": "2023-09-26T16:19:14.940Z"
   },
   {
    "duration": 96,
    "start_time": "2023-09-26T16:19:15.688Z"
   },
   {
    "duration": 97,
    "start_time": "2023-09-26T16:19:15.787Z"
   },
   {
    "duration": 5,
    "start_time": "2023-09-26T16:19:15.887Z"
   },
   {
    "duration": 7,
    "start_time": "2023-09-26T16:19:15.894Z"
   },
   {
    "duration": 31648,
    "start_time": "2023-09-26T16:23:56.442Z"
   },
   {
    "duration": 8,
    "start_time": "2023-09-26T16:24:28.182Z"
   },
   {
    "duration": 2397,
    "start_time": "2023-09-26T16:39:56.246Z"
   },
   {
    "duration": 1365,
    "start_time": "2023-09-26T16:39:58.646Z"
   },
   {
    "duration": 1148,
    "start_time": "2023-09-26T16:40:00.015Z"
   },
   {
    "duration": 28,
    "start_time": "2023-09-26T16:40:01.165Z"
   },
   {
    "duration": 202,
    "start_time": "2023-09-26T16:40:01.195Z"
   },
   {
    "duration": 643,
    "start_time": "2023-09-26T16:40:01.399Z"
   },
   {
    "duration": 111,
    "start_time": "2023-09-26T16:40:02.044Z"
   },
   {
    "duration": 657,
    "start_time": "2023-09-26T16:40:02.157Z"
   },
   {
    "duration": 86,
    "start_time": "2023-09-26T16:40:02.816Z"
   },
   {
    "duration": 354,
    "start_time": "2023-09-26T16:40:02.905Z"
   },
   {
    "duration": 301,
    "start_time": "2023-09-26T16:40:03.261Z"
   },
   {
    "duration": 62,
    "start_time": "2023-09-26T16:40:03.564Z"
   },
   {
    "duration": 68,
    "start_time": "2023-09-26T16:40:03.627Z"
   },
   {
    "duration": 51,
    "start_time": "2023-09-26T16:40:03.696Z"
   },
   {
    "duration": 1039,
    "start_time": "2023-09-26T16:40:03.749Z"
   },
   {
    "duration": 34,
    "start_time": "2023-09-26T16:40:04.790Z"
   },
   {
    "duration": 11,
    "start_time": "2023-09-26T16:40:04.826Z"
   },
   {
    "duration": 91,
    "start_time": "2023-09-26T16:40:04.838Z"
   },
   {
    "duration": 24,
    "start_time": "2023-09-26T16:40:04.931Z"
   },
   {
    "duration": 23,
    "start_time": "2023-09-26T16:40:04.957Z"
   },
   {
    "duration": 77,
    "start_time": "2023-09-26T16:40:04.981Z"
   },
   {
    "duration": 123,
    "start_time": "2023-09-26T16:40:05.061Z"
   },
   {
    "duration": 155,
    "start_time": "2023-09-26T16:40:05.186Z"
   },
   {
    "duration": 139,
    "start_time": "2023-09-26T16:40:05.343Z"
   },
   {
    "duration": 46,
    "start_time": "2023-09-26T16:40:05.484Z"
   },
   {
    "duration": 63,
    "start_time": "2023-09-26T16:40:05.532Z"
   },
   {
    "duration": 500,
    "start_time": "2023-09-26T16:40:05.596Z"
   },
   {
    "duration": 184,
    "start_time": "2023-09-26T16:40:06.100Z"
   },
   {
    "duration": 87,
    "start_time": "2023-09-26T16:40:06.286Z"
   },
   {
    "duration": 50,
    "start_time": "2023-09-26T16:40:06.385Z"
   },
   {
    "duration": 80,
    "start_time": "2023-09-26T16:40:06.437Z"
   },
   {
    "duration": 5,
    "start_time": "2023-09-26T16:40:06.518Z"
   },
   {
    "duration": 32,
    "start_time": "2023-09-26T16:40:06.525Z"
   },
   {
    "duration": 38,
    "start_time": "2023-09-26T16:40:06.559Z"
   },
   {
    "duration": 5833,
    "start_time": "2023-09-26T16:40:06.599Z"
   },
   {
    "duration": 299,
    "start_time": "2023-09-26T16:40:12.434Z"
   },
   {
    "duration": 6,
    "start_time": "2023-09-26T16:40:12.785Z"
   },
   {
    "duration": 101,
    "start_time": "2023-09-26T16:40:12.793Z"
   },
   {
    "duration": 18,
    "start_time": "2023-09-26T16:40:12.896Z"
   },
   {
    "duration": 6,
    "start_time": "2023-09-26T16:40:12.916Z"
   },
   {
    "duration": 124,
    "start_time": "2023-09-26T16:40:12.924Z"
   },
   {
    "duration": 0,
    "start_time": "2023-09-26T16:40:13.050Z"
   },
   {
    "duration": 0,
    "start_time": "2023-09-26T16:40:13.052Z"
   },
   {
    "duration": 0,
    "start_time": "2023-09-26T16:40:13.053Z"
   },
   {
    "duration": 0,
    "start_time": "2023-09-26T16:40:13.055Z"
   },
   {
    "duration": 0,
    "start_time": "2023-09-26T16:40:13.057Z"
   },
   {
    "duration": 0,
    "start_time": "2023-09-26T16:40:13.058Z"
   },
   {
    "duration": 1,
    "start_time": "2023-09-26T16:40:13.059Z"
   },
   {
    "duration": 0,
    "start_time": "2023-09-26T16:40:13.081Z"
   },
   {
    "duration": 0,
    "start_time": "2023-09-26T16:40:13.083Z"
   },
   {
    "duration": 0,
    "start_time": "2023-09-26T16:40:13.084Z"
   },
   {
    "duration": 0,
    "start_time": "2023-09-26T16:40:13.084Z"
   },
   {
    "duration": 0,
    "start_time": "2023-09-26T16:40:13.086Z"
   },
   {
    "duration": 0,
    "start_time": "2023-09-26T16:40:13.087Z"
   },
   {
    "duration": 0,
    "start_time": "2023-09-26T16:40:13.088Z"
   },
   {
    "duration": 5,
    "start_time": "2023-09-26T16:44:52.992Z"
   },
   {
    "duration": 6301,
    "start_time": "2023-09-26T16:45:21.988Z"
   },
   {
    "duration": 5,
    "start_time": "2023-09-26T16:46:26.949Z"
   },
   {
    "duration": 6205,
    "start_time": "2023-09-26T16:46:28.676Z"
   },
   {
    "duration": 6232,
    "start_time": "2023-09-26T16:46:41.153Z"
   },
   {
    "duration": 10657,
    "start_time": "2023-09-26T16:47:23.423Z"
   },
   {
    "duration": 6030,
    "start_time": "2023-09-26T16:49:55.251Z"
   },
   {
    "duration": 6777,
    "start_time": "2023-09-26T16:50:48.908Z"
   },
   {
    "duration": 173465,
    "start_time": "2023-09-26T16:50:56.540Z"
   },
   {
    "duration": 0,
    "start_time": "2023-09-26T16:53:50.007Z"
   },
   {
    "duration": 675,
    "start_time": "2023-09-26T16:54:02.679Z"
   },
   {
    "duration": 2373,
    "start_time": "2023-09-26T16:54:08.594Z"
   },
   {
    "duration": 1433,
    "start_time": "2023-09-26T16:54:10.970Z"
   },
   {
    "duration": 1155,
    "start_time": "2023-09-26T16:54:12.405Z"
   },
   {
    "duration": 24,
    "start_time": "2023-09-26T16:54:13.561Z"
   },
   {
    "duration": 115,
    "start_time": "2023-09-26T16:54:13.587Z"
   },
   {
    "duration": 444,
    "start_time": "2023-09-26T16:54:13.703Z"
   },
   {
    "duration": 106,
    "start_time": "2023-09-26T16:54:14.149Z"
   },
   {
    "duration": 440,
    "start_time": "2023-09-26T16:54:14.257Z"
   },
   {
    "duration": 90,
    "start_time": "2023-09-26T16:54:14.698Z"
   },
   {
    "duration": 9,
    "start_time": "2023-09-26T16:54:14.790Z"
   },
   {
    "duration": 24,
    "start_time": "2023-09-26T16:54:14.801Z"
   },
   {
    "duration": 31,
    "start_time": "2023-09-26T16:54:14.826Z"
   },
   {
    "duration": 36,
    "start_time": "2023-09-26T16:54:14.859Z"
   },
   {
    "duration": 33,
    "start_time": "2023-09-26T16:54:14.898Z"
   },
   {
    "duration": 686,
    "start_time": "2023-09-26T16:54:14.933Z"
   },
   {
    "duration": 35,
    "start_time": "2023-09-26T16:54:15.621Z"
   },
   {
    "duration": 25,
    "start_time": "2023-09-26T16:54:15.657Z"
   },
   {
    "duration": 87,
    "start_time": "2023-09-26T16:54:15.684Z"
   },
   {
    "duration": 2,
    "start_time": "2023-09-26T16:54:15.773Z"
   },
   {
    "duration": 18,
    "start_time": "2023-09-26T16:54:15.777Z"
   },
   {
    "duration": 88,
    "start_time": "2023-09-26T16:54:15.797Z"
   },
   {
    "duration": 113,
    "start_time": "2023-09-26T16:54:15.887Z"
   },
   {
    "duration": 151,
    "start_time": "2023-09-26T16:54:16.002Z"
   },
   {
    "duration": 142,
    "start_time": "2023-09-26T16:54:16.155Z"
   },
   {
    "duration": 52,
    "start_time": "2023-09-26T16:54:16.299Z"
   },
   {
    "duration": 58,
    "start_time": "2023-09-26T16:54:16.353Z"
   },
   {
    "duration": 559,
    "start_time": "2023-09-26T16:54:16.412Z"
   },
   {
    "duration": 231,
    "start_time": "2023-09-26T16:54:16.974Z"
   },
   {
    "duration": 102,
    "start_time": "2023-09-26T16:54:17.207Z"
   },
   {
    "duration": 50,
    "start_time": "2023-09-26T16:54:17.312Z"
   },
   {
    "duration": 76,
    "start_time": "2023-09-26T16:54:17.363Z"
   },
   {
    "duration": 4,
    "start_time": "2023-09-26T16:54:17.441Z"
   },
   {
    "duration": 10,
    "start_time": "2023-09-26T16:54:17.446Z"
   },
   {
    "duration": 143,
    "start_time": "2023-09-26T16:54:17.458Z"
   },
   {
    "duration": 0,
    "start_time": "2023-09-26T16:54:17.603Z"
   },
   {
    "duration": 0,
    "start_time": "2023-09-26T16:54:17.604Z"
   },
   {
    "duration": 6,
    "start_time": "2023-09-26T16:54:34.057Z"
   },
   {
    "duration": 6121,
    "start_time": "2023-09-26T16:54:35.364Z"
   },
   {
    "duration": 633,
    "start_time": "2023-09-26T16:54:42.914Z"
   },
   {
    "duration": 23,
    "start_time": "2023-09-26T16:55:31.398Z"
   },
   {
    "duration": 3017,
    "start_time": "2023-09-26T16:56:13.654Z"
   },
   {
    "duration": 1641,
    "start_time": "2023-09-26T16:56:26.118Z"
   },
   {
    "duration": 2439,
    "start_time": "2023-09-26T16:56:44.790Z"
   },
   {
    "duration": 22,
    "start_time": "2023-09-26T16:57:25.912Z"
   },
   {
    "duration": 2951,
    "start_time": "2023-09-26T16:58:31.566Z"
   },
   {
    "duration": 5999,
    "start_time": "2023-09-26T16:59:12.807Z"
   },
   {
    "duration": 5937,
    "start_time": "2023-09-26T17:00:11.638Z"
   },
   {
    "duration": 690,
    "start_time": "2023-09-26T17:01:36.096Z"
   },
   {
    "duration": 1464,
    "start_time": "2023-09-26T17:01:56.680Z"
   },
   {
    "duration": 693,
    "start_time": "2023-09-26T17:03:30.458Z"
   },
   {
    "duration": 7531,
    "start_time": "2023-09-26T17:04:07.256Z"
   },
   {
    "duration": 6,
    "start_time": "2023-09-26T17:04:31.047Z"
   },
   {
    "duration": 6829,
    "start_time": "2023-09-26T17:04:31.863Z"
   },
   {
    "duration": 317,
    "start_time": "2023-09-26T17:05:39.621Z"
   },
   {
    "duration": 102,
    "start_time": "2023-09-26T17:05:49.819Z"
   },
   {
    "duration": 11,
    "start_time": "2023-09-26T17:07:23.442Z"
   },
   {
    "duration": 12,
    "start_time": "2023-09-26T17:07:44.430Z"
   },
   {
    "duration": 26,
    "start_time": "2023-09-26T17:08:09.049Z"
   },
   {
    "duration": 8,
    "start_time": "2023-09-26T17:09:50.585Z"
   },
   {
    "duration": 125423,
    "start_time": "2023-09-26T17:10:22.372Z"
   },
   {
    "duration": 86493,
    "start_time": "2023-09-26T17:12:34.498Z"
   },
   {
    "duration": 0,
    "start_time": "2023-09-26T17:16:05.512Z"
   },
   {
    "duration": 2713,
    "start_time": "2023-09-26T17:18:02.386Z"
   },
   {
    "duration": 1532,
    "start_time": "2023-09-26T17:18:05.103Z"
   },
   {
    "duration": 1320,
    "start_time": "2023-09-26T17:18:06.638Z"
   },
   {
    "duration": 32,
    "start_time": "2023-09-26T17:18:07.960Z"
   },
   {
    "duration": 117,
    "start_time": "2023-09-26T17:18:07.996Z"
   },
   {
    "duration": 471,
    "start_time": "2023-09-26T17:18:08.115Z"
   },
   {
    "duration": 105,
    "start_time": "2023-09-26T17:18:08.590Z"
   },
   {
    "duration": 474,
    "start_time": "2023-09-26T17:18:08.697Z"
   },
   {
    "duration": 90,
    "start_time": "2023-09-26T17:18:09.174Z"
   },
   {
    "duration": 29,
    "start_time": "2023-09-26T17:18:09.268Z"
   },
   {
    "duration": 23,
    "start_time": "2023-09-26T17:18:09.300Z"
   },
   {
    "duration": 25,
    "start_time": "2023-09-26T17:18:09.325Z"
   },
   {
    "duration": 51,
    "start_time": "2023-09-26T17:18:09.352Z"
   },
   {
    "duration": 26,
    "start_time": "2023-09-26T17:18:09.405Z"
   },
   {
    "duration": 775,
    "start_time": "2023-09-26T17:18:09.433Z"
   },
   {
    "duration": 36,
    "start_time": "2023-09-26T17:18:10.210Z"
   },
   {
    "duration": 11,
    "start_time": "2023-09-26T17:18:10.248Z"
   },
   {
    "duration": 93,
    "start_time": "2023-09-26T17:18:10.261Z"
   },
   {
    "duration": 19,
    "start_time": "2023-09-26T17:18:10.355Z"
   },
   {
    "duration": 21,
    "start_time": "2023-09-26T17:18:10.376Z"
   },
   {
    "duration": 89,
    "start_time": "2023-09-26T17:18:10.398Z"
   },
   {
    "duration": 182,
    "start_time": "2023-09-26T17:18:10.488Z"
   },
   {
    "duration": 153,
    "start_time": "2023-09-26T17:18:10.672Z"
   },
   {
    "duration": 137,
    "start_time": "2023-09-26T17:18:10.827Z"
   },
   {
    "duration": 72,
    "start_time": "2023-09-26T17:18:10.966Z"
   },
   {
    "duration": 58,
    "start_time": "2023-09-26T17:18:11.040Z"
   },
   {
    "duration": 540,
    "start_time": "2023-09-26T17:18:11.099Z"
   },
   {
    "duration": 203,
    "start_time": "2023-09-26T17:18:11.642Z"
   },
   {
    "duration": 92,
    "start_time": "2023-09-26T17:18:11.847Z"
   },
   {
    "duration": 71,
    "start_time": "2023-09-26T17:18:11.941Z"
   },
   {
    "duration": 77,
    "start_time": "2023-09-26T17:18:12.014Z"
   },
   {
    "duration": 5,
    "start_time": "2023-09-26T17:18:12.093Z"
   },
   {
    "duration": 10,
    "start_time": "2023-09-26T17:18:12.100Z"
   },
   {
    "duration": 7,
    "start_time": "2023-09-26T17:18:12.112Z"
   },
   {
    "duration": 7,
    "start_time": "2023-09-26T17:18:12.120Z"
   },
   {
    "duration": 6552,
    "start_time": "2023-09-26T17:18:12.129Z"
   },
   {
    "duration": 234,
    "start_time": "2023-09-26T17:18:18.683Z"
   },
   {
    "duration": 0,
    "start_time": "2023-09-26T17:18:18.919Z"
   },
   {
    "duration": 0,
    "start_time": "2023-09-26T17:20:37.112Z"
   },
   {
    "duration": 13869,
    "start_time": "2023-09-26T17:20:41.230Z"
   },
   {
    "duration": 14171,
    "start_time": "2023-09-26T17:21:17.538Z"
   },
   {
    "duration": 0,
    "start_time": "2023-09-26T17:21:46.413Z"
   },
   {
    "duration": 2478,
    "start_time": "2023-09-26T17:22:01.627Z"
   },
   {
    "duration": 1470,
    "start_time": "2023-09-26T17:22:04.108Z"
   },
   {
    "duration": 1288,
    "start_time": "2023-09-26T17:22:05.580Z"
   },
   {
    "duration": 33,
    "start_time": "2023-09-26T17:22:06.872Z"
   },
   {
    "duration": 180,
    "start_time": "2023-09-26T17:22:06.908Z"
   },
   {
    "duration": 513,
    "start_time": "2023-09-26T17:22:07.092Z"
   },
   {
    "duration": 110,
    "start_time": "2023-09-26T17:22:07.607Z"
   },
   {
    "duration": 469,
    "start_time": "2023-09-26T17:22:07.718Z"
   },
   {
    "duration": 84,
    "start_time": "2023-09-26T17:22:08.189Z"
   },
   {
    "duration": 20,
    "start_time": "2023-09-26T17:22:08.274Z"
   },
   {
    "duration": 23,
    "start_time": "2023-09-26T17:22:08.299Z"
   },
   {
    "duration": 24,
    "start_time": "2023-09-26T17:22:08.324Z"
   },
   {
    "duration": 51,
    "start_time": "2023-09-26T17:22:08.349Z"
   },
   {
    "duration": 27,
    "start_time": "2023-09-26T17:22:08.404Z"
   },
   {
    "duration": 798,
    "start_time": "2023-09-26T17:22:08.433Z"
   },
   {
    "duration": 35,
    "start_time": "2023-09-26T17:22:09.233Z"
   },
   {
    "duration": 17,
    "start_time": "2023-09-26T17:22:09.281Z"
   },
   {
    "duration": 67,
    "start_time": "2023-09-26T17:22:09.300Z"
   },
   {
    "duration": 17,
    "start_time": "2023-09-26T17:22:09.369Z"
   },
   {
    "duration": 13,
    "start_time": "2023-09-26T17:22:09.388Z"
   },
   {
    "duration": 73,
    "start_time": "2023-09-26T17:22:09.402Z"
   },
   {
    "duration": 125,
    "start_time": "2023-09-26T17:22:09.476Z"
   },
   {
    "duration": 158,
    "start_time": "2023-09-26T17:22:09.603Z"
   },
   {
    "duration": 144,
    "start_time": "2023-09-26T17:22:09.763Z"
   },
   {
    "duration": 47,
    "start_time": "2023-09-26T17:22:09.909Z"
   },
   {
    "duration": 64,
    "start_time": "2023-09-26T17:22:09.958Z"
   },
   {
    "duration": 536,
    "start_time": "2023-09-26T17:22:10.024Z"
   },
   {
    "duration": 188,
    "start_time": "2023-09-26T17:22:10.563Z"
   },
   {
    "duration": 94,
    "start_time": "2023-09-26T17:22:10.753Z"
   },
   {
    "duration": 66,
    "start_time": "2023-09-26T17:22:10.850Z"
   },
   {
    "duration": 84,
    "start_time": "2023-09-26T17:22:10.918Z"
   },
   {
    "duration": 4,
    "start_time": "2023-09-26T17:22:11.004Z"
   },
   {
    "duration": 13,
    "start_time": "2023-09-26T17:22:11.010Z"
   },
   {
    "duration": 5,
    "start_time": "2023-09-26T17:22:11.025Z"
   },
   {
    "duration": 7,
    "start_time": "2023-09-26T17:22:11.031Z"
   },
   {
    "duration": 6669,
    "start_time": "2023-09-26T17:22:11.040Z"
   },
   {
    "duration": 286,
    "start_time": "2023-09-26T17:22:17.712Z"
   },
   {
    "duration": 0,
    "start_time": "2023-09-26T17:22:18.001Z"
   },
   {
    "duration": 7220,
    "start_time": "2023-09-26T17:22:24.274Z"
   },
   {
    "duration": 4351,
    "start_time": "2023-09-26T17:22:32.846Z"
   },
   {
    "duration": 124840,
    "start_time": "2023-09-26T17:22:41.765Z"
   },
   {
    "duration": 425,
    "start_time": "2023-09-26T17:26:40.657Z"
   },
   {
    "duration": 13569,
    "start_time": "2023-09-26T17:27:07.625Z"
   },
   {
    "duration": 13718,
    "start_time": "2023-09-26T17:27:35.373Z"
   },
   {
    "duration": 13514,
    "start_time": "2023-09-26T17:27:55.876Z"
   },
   {
    "duration": 12,
    "start_time": "2023-09-26T17:41:56.319Z"
   },
   {
    "duration": 10,
    "start_time": "2023-09-26T17:42:21.926Z"
   },
   {
    "duration": 81,
    "start_time": "2023-09-26T17:43:43.680Z"
   },
   {
    "duration": 26,
    "start_time": "2023-09-26T17:43:44.041Z"
   },
   {
    "duration": 4,
    "start_time": "2023-09-26T17:43:46.197Z"
   },
   {
    "duration": 4,
    "start_time": "2023-09-26T17:43:46.717Z"
   },
   {
    "duration": 4,
    "start_time": "2023-09-26T17:43:49.765Z"
   },
   {
    "duration": 4,
    "start_time": "2023-09-26T17:43:50.084Z"
   },
   {
    "duration": 4549,
    "start_time": "2023-09-26T17:43:51.240Z"
   },
   {
    "duration": 796,
    "start_time": "2023-09-26T17:43:55.791Z"
   },
   {
    "duration": 4436,
    "start_time": "2023-09-26T17:44:48.353Z"
   },
   {
    "duration": 893,
    "start_time": "2023-09-26T17:44:52.792Z"
   },
   {
    "duration": 934,
    "start_time": "2023-09-26T17:45:01.250Z"
   },
   {
    "duration": 2890,
    "start_time": "2023-09-26T17:45:17.209Z"
   },
   {
    "duration": 513,
    "start_time": "2023-09-26T17:45:42.073Z"
   },
   {
    "duration": 868,
    "start_time": "2023-09-26T17:49:27.857Z"
   },
   {
    "duration": 81,
    "start_time": "2023-09-26T17:49:34.674Z"
   },
   {
    "duration": 979,
    "start_time": "2023-09-26T17:49:35.035Z"
   },
   {
    "duration": 26,
    "start_time": "2023-09-26T17:49:36.016Z"
   },
   {
    "duration": 244,
    "start_time": "2023-09-26T17:52:41.746Z"
   },
   {
    "duration": 21,
    "start_time": "2023-09-26T17:52:47.049Z"
   },
   {
    "duration": 15,
    "start_time": "2023-09-26T17:53:37.857Z"
   },
   {
    "duration": 381,
    "start_time": "2023-09-26T17:54:21.204Z"
   },
   {
    "duration": 401,
    "start_time": "2023-09-26T17:58:28.587Z"
   },
   {
    "duration": 338,
    "start_time": "2023-09-26T17:58:33.846Z"
   },
   {
    "duration": 394,
    "start_time": "2023-09-26T17:58:37.497Z"
   },
   {
    "duration": 584,
    "start_time": "2023-09-26T17:58:49.604Z"
   },
   {
    "duration": 779,
    "start_time": "2023-09-26T17:59:13.412Z"
   },
   {
    "duration": 1236,
    "start_time": "2023-09-26T17:59:18.250Z"
   },
   {
    "duration": 782,
    "start_time": "2023-09-26T17:59:24.108Z"
   },
   {
    "duration": 424,
    "start_time": "2023-09-26T17:59:31.061Z"
   },
   {
    "duration": 757,
    "start_time": "2023-09-26T17:59:37.237Z"
   },
   {
    "duration": 984,
    "start_time": "2023-09-26T17:59:45.905Z"
   },
   {
    "duration": 747,
    "start_time": "2023-09-26T17:59:53.841Z"
   },
   {
    "duration": 1185,
    "start_time": "2023-09-26T18:00:02.308Z"
   },
   {
    "duration": 870,
    "start_time": "2023-09-26T18:00:08.622Z"
   },
   {
    "duration": 22300,
    "start_time": "2023-09-26T18:01:48.900Z"
   },
   {
    "duration": 4820,
    "start_time": "2023-09-26T18:02:22.966Z"
   },
   {
    "duration": 6884,
    "start_time": "2023-09-27T06:16:31.088Z"
   },
   {
    "duration": 1394,
    "start_time": "2023-09-27T06:16:37.974Z"
   },
   {
    "duration": 3039,
    "start_time": "2023-09-27T06:16:39.369Z"
   },
   {
    "duration": 17,
    "start_time": "2023-09-27T06:16:42.409Z"
   },
   {
    "duration": 102,
    "start_time": "2023-09-27T06:16:42.429Z"
   },
   {
    "duration": 395,
    "start_time": "2023-09-27T06:16:42.533Z"
   },
   {
    "duration": 95,
    "start_time": "2023-09-27T06:16:42.930Z"
   },
   {
    "duration": 488,
    "start_time": "2023-09-27T06:16:43.027Z"
   },
   {
    "duration": 75,
    "start_time": "2023-09-27T06:16:43.516Z"
   },
   {
    "duration": 8,
    "start_time": "2023-09-27T06:16:43.593Z"
   },
   {
    "duration": 40,
    "start_time": "2023-09-27T06:16:43.603Z"
   },
   {
    "duration": 19,
    "start_time": "2023-09-27T06:16:43.645Z"
   },
   {
    "duration": 21,
    "start_time": "2023-09-27T06:16:43.665Z"
   },
   {
    "duration": 27,
    "start_time": "2023-09-27T06:16:43.689Z"
   },
   {
    "duration": 686,
    "start_time": "2023-09-27T06:16:43.717Z"
   },
   {
    "duration": 40,
    "start_time": "2023-09-27T06:16:44.405Z"
   },
   {
    "duration": 43,
    "start_time": "2023-09-27T06:16:44.447Z"
   },
   {
    "duration": 73,
    "start_time": "2023-09-27T06:16:44.491Z"
   },
   {
    "duration": 25,
    "start_time": "2023-09-27T06:16:44.566Z"
   },
   {
    "duration": 19,
    "start_time": "2023-09-27T06:16:44.592Z"
   },
   {
    "duration": 72,
    "start_time": "2023-09-27T06:16:44.613Z"
   },
   {
    "duration": 109,
    "start_time": "2023-09-27T06:16:44.687Z"
   },
   {
    "duration": 153,
    "start_time": "2023-09-27T06:16:44.798Z"
   },
   {
    "duration": 128,
    "start_time": "2023-09-27T06:16:44.953Z"
   },
   {
    "duration": 158,
    "start_time": "2023-09-27T06:16:45.082Z"
   },
   {
    "duration": 38,
    "start_time": "2023-09-27T06:16:45.242Z"
   },
   {
    "duration": 433,
    "start_time": "2023-09-27T06:16:45.282Z"
   },
   {
    "duration": 155,
    "start_time": "2023-09-27T06:16:45.717Z"
   },
   {
    "duration": 76,
    "start_time": "2023-09-27T06:16:45.873Z"
   },
   {
    "duration": 42,
    "start_time": "2023-09-27T06:16:45.951Z"
   },
   {
    "duration": 79,
    "start_time": "2023-09-27T06:16:45.994Z"
   },
   {
    "duration": 25,
    "start_time": "2023-09-27T06:16:46.074Z"
   },
   {
    "duration": 4,
    "start_time": "2023-09-27T06:16:46.101Z"
   },
   {
    "duration": 13,
    "start_time": "2023-09-27T06:16:46.107Z"
   },
   {
    "duration": 4,
    "start_time": "2023-09-27T06:16:46.122Z"
   },
   {
    "duration": 17,
    "start_time": "2023-09-27T06:16:46.128Z"
   },
   {
    "duration": 4352,
    "start_time": "2023-09-27T06:16:46.147Z"
   },
   {
    "duration": 2606,
    "start_time": "2023-09-27T06:16:50.547Z"
   },
   {
    "duration": 20,
    "start_time": "2023-09-27T06:16:57.083Z"
   },
   {
    "duration": 2,
    "start_time": "2023-09-27T06:20:08.793Z"
   },
   {
    "duration": 48,
    "start_time": "2023-09-27T06:20:15.153Z"
   },
   {
    "duration": 3,
    "start_time": "2023-09-27T06:20:30.554Z"
   },
   {
    "duration": 44,
    "start_time": "2023-09-27T06:20:33.306Z"
   },
   {
    "duration": 131,
    "start_time": "2023-09-27T06:23:41.282Z"
   },
   {
    "duration": 4,
    "start_time": "2023-09-27T06:23:48.397Z"
   },
   {
    "duration": 4595,
    "start_time": "2023-09-27T06:23:49.850Z"
   },
   {
    "duration": 4,
    "start_time": "2023-09-27T06:24:41.241Z"
   },
   {
    "duration": 5,
    "start_time": "2023-09-27T06:24:47.358Z"
   },
   {
    "duration": 3,
    "start_time": "2023-09-27T06:35:46.521Z"
   },
   {
    "duration": 151,
    "start_time": "2023-09-27T06:36:22.013Z"
   },
   {
    "duration": 45,
    "start_time": "2023-09-27T06:36:50.743Z"
   },
   {
    "duration": 41,
    "start_time": "2023-09-27T06:40:01.886Z"
   },
   {
    "duration": 49,
    "start_time": "2023-09-27T06:40:29.848Z"
   },
   {
    "duration": 43,
    "start_time": "2023-09-27T06:41:45.127Z"
   },
   {
    "duration": 41,
    "start_time": "2023-09-27T06:41:54.773Z"
   },
   {
    "duration": 45,
    "start_time": "2023-09-27T06:45:36.617Z"
   },
   {
    "duration": 10635,
    "start_time": "2023-09-27T06:47:24.962Z"
   },
   {
    "duration": 0,
    "start_time": "2023-09-27T06:49:59.510Z"
   },
   {
    "duration": 15,
    "start_time": "2023-09-27T06:50:02.624Z"
   },
   {
    "duration": 14,
    "start_time": "2023-09-27T06:50:11.313Z"
   },
   {
    "duration": 14,
    "start_time": "2023-09-27T06:50:19.544Z"
   },
   {
    "duration": 17089,
    "start_time": "2023-09-27T06:50:29.913Z"
   },
   {
    "duration": 40,
    "start_time": "2023-09-27T06:58:32.147Z"
   },
   {
    "duration": 55211,
    "start_time": "2023-09-27T06:59:13.947Z"
   },
   {
    "duration": 36076,
    "start_time": "2023-09-27T07:00:23.348Z"
   },
   {
    "duration": 14,
    "start_time": "2023-09-27T07:01:47.858Z"
   },
   {
    "duration": 23927,
    "start_time": "2023-09-27T07:02:48.673Z"
   },
   {
    "duration": 15,
    "start_time": "2023-09-27T07:03:13.479Z"
   },
   {
    "duration": 14,
    "start_time": "2023-09-27T07:03:20.364Z"
   },
   {
    "duration": 14,
    "start_time": "2023-09-27T07:03:54.199Z"
   },
   {
    "duration": 11,
    "start_time": "2023-09-27T07:04:03.374Z"
   },
   {
    "duration": 10,
    "start_time": "2023-09-27T07:05:05.001Z"
   },
   {
    "duration": 11,
    "start_time": "2023-09-27T07:05:16.083Z"
   },
   {
    "duration": 67,
    "start_time": "2023-09-27T07:07:39.010Z"
   },
   {
    "duration": 47,
    "start_time": "2023-09-27T07:08:50.932Z"
   },
   {
    "duration": 43,
    "start_time": "2023-09-27T07:08:58.796Z"
   },
   {
    "duration": 44,
    "start_time": "2023-09-27T07:09:02.529Z"
   },
   {
    "duration": 46,
    "start_time": "2023-09-27T07:09:11.193Z"
   },
   {
    "duration": 62,
    "start_time": "2023-09-27T07:09:35.890Z"
   },
   {
    "duration": 47,
    "start_time": "2023-09-27T07:11:23.438Z"
   },
   {
    "duration": 117,
    "start_time": "2023-09-27T07:11:28.986Z"
   },
   {
    "duration": 48,
    "start_time": "2023-09-27T07:11:44.583Z"
   },
   {
    "duration": 43,
    "start_time": "2023-09-27T07:12:02.799Z"
   },
   {
    "duration": 146,
    "start_time": "2023-09-27T07:12:17.382Z"
   },
   {
    "duration": 24,
    "start_time": "2023-09-27T07:17:17.822Z"
   },
   {
    "duration": 65,
    "start_time": "2023-09-27T07:18:26.927Z"
   },
   {
    "duration": 12,
    "start_time": "2023-09-27T07:18:32.986Z"
   },
   {
    "duration": 60,
    "start_time": "2023-09-27T07:23:40.415Z"
   },
   {
    "duration": 50,
    "start_time": "2023-09-27T07:23:51.992Z"
   },
   {
    "duration": 721,
    "start_time": "2023-09-27T07:29:33.962Z"
   },
   {
    "duration": 396,
    "start_time": "2023-09-27T07:30:26.650Z"
   },
   {
    "duration": 655,
    "start_time": "2023-09-27T07:32:09.629Z"
   },
   {
    "duration": 656,
    "start_time": "2023-09-27T07:32:24.358Z"
   },
   {
    "duration": 936,
    "start_time": "2023-09-27T07:32:39.313Z"
   },
   {
    "duration": 83,
    "start_time": "2023-09-27T07:32:49.510Z"
   },
   {
    "duration": 882,
    "start_time": "2023-09-27T07:33:07.265Z"
   },
   {
    "duration": 96,
    "start_time": "2023-09-27T07:33:08.149Z"
   },
   {
    "duration": 11,
    "start_time": "2023-09-27T07:33:20.540Z"
   },
   {
    "duration": 906,
    "start_time": "2023-09-27T07:34:12.435Z"
   },
   {
    "duration": 90,
    "start_time": "2023-09-27T07:34:13.345Z"
   },
   {
    "duration": 30156,
    "start_time": "2023-09-27T07:35:06.398Z"
   },
   {
    "duration": 33466,
    "start_time": "2023-09-27T07:36:44.080Z"
   },
   {
    "duration": 112,
    "start_time": "2023-09-27T08:03:18.406Z"
   },
   {
    "duration": 0,
    "start_time": "2023-09-27T08:03:51.859Z"
   },
   {
    "duration": 56602,
    "start_time": "2023-09-27T08:03:52.961Z"
   },
   {
    "duration": 51273,
    "start_time": "2023-09-27T08:04:51.984Z"
   },
   {
    "duration": 22363,
    "start_time": "2023-09-27T08:05:47.305Z"
   },
   {
    "duration": 35565,
    "start_time": "2023-09-27T08:06:11.095Z"
   },
   {
    "duration": 6104,
    "start_time": "2023-09-27T08:06:55.456Z"
   },
   {
    "duration": 6332,
    "start_time": "2023-09-27T08:07:15.030Z"
   },
   {
    "duration": 8868,
    "start_time": "2023-09-27T08:07:35.992Z"
   },
   {
    "duration": 9607,
    "start_time": "2023-09-27T08:07:51.555Z"
   },
   {
    "duration": 14,
    "start_time": "2023-09-27T08:09:45.667Z"
   },
   {
    "duration": 14,
    "start_time": "2023-09-27T08:10:07.192Z"
   },
   {
    "duration": 7,
    "start_time": "2023-09-27T08:10:36.788Z"
   },
   {
    "duration": 14,
    "start_time": "2023-09-27T08:10:49.980Z"
   },
   {
    "duration": 4,
    "start_time": "2023-09-27T08:10:57.293Z"
   },
   {
    "duration": 84609,
    "start_time": "2023-09-27T08:11:41.605Z"
   },
   {
    "duration": 2,
    "start_time": "2023-09-27T08:13:35.375Z"
   },
   {
    "duration": 11,
    "start_time": "2023-09-27T08:14:08.982Z"
   },
   {
    "duration": 10,
    "start_time": "2023-09-27T08:14:15.479Z"
   },
   {
    "duration": 10,
    "start_time": "2023-09-27T08:14:24.620Z"
   },
   {
    "duration": 5,
    "start_time": "2023-09-27T08:14:40.091Z"
   },
   {
    "duration": 4,
    "start_time": "2023-09-27T08:15:13.817Z"
   },
   {
    "duration": 4,
    "start_time": "2023-09-27T08:15:15.181Z"
   },
   {
    "duration": 4,
    "start_time": "2023-09-27T08:18:34.540Z"
   },
   {
    "duration": 5,
    "start_time": "2023-09-27T08:19:01.843Z"
   },
   {
    "duration": 12,
    "start_time": "2023-09-27T08:19:02.615Z"
   },
   {
    "duration": 11,
    "start_time": "2023-09-27T08:19:17.833Z"
   },
   {
    "duration": 4,
    "start_time": "2023-09-27T08:21:23.018Z"
   },
   {
    "duration": 92626,
    "start_time": "2023-09-27T08:21:24.903Z"
   },
   {
    "duration": 7244,
    "start_time": "2023-09-27T08:22:57.531Z"
   },
   {
    "duration": 4,
    "start_time": "2023-09-27T08:23:04.777Z"
   },
   {
    "duration": 10,
    "start_time": "2023-09-27T08:23:04.783Z"
   },
   {
    "duration": 4,
    "start_time": "2023-09-27T08:25:17.398Z"
   },
   {
    "duration": 0,
    "start_time": "2023-09-27T08:30:10.244Z"
   },
   {
    "duration": 0,
    "start_time": "2023-09-27T08:30:10.245Z"
   },
   {
    "duration": 0,
    "start_time": "2023-09-27T08:30:10.247Z"
   },
   {
    "duration": 0,
    "start_time": "2023-09-27T08:30:10.248Z"
   },
   {
    "duration": 0,
    "start_time": "2023-09-27T08:30:10.249Z"
   },
   {
    "duration": 5,
    "start_time": "2023-09-27T08:30:11.587Z"
   },
   {
    "duration": 10501,
    "start_time": "2023-09-27T08:30:12.330Z"
   },
   {
    "duration": 0,
    "start_time": "2023-09-27T08:30:22.834Z"
   },
   {
    "duration": 0,
    "start_time": "2023-09-27T08:30:22.845Z"
   },
   {
    "duration": 0,
    "start_time": "2023-09-27T08:30:22.847Z"
   },
   {
    "duration": 6,
    "start_time": "2023-09-27T08:30:27.723Z"
   },
   {
    "duration": 18,
    "start_time": "2023-09-27T08:30:28.193Z"
   },
   {
    "duration": 3,
    "start_time": "2023-09-27T08:32:20.242Z"
   },
   {
    "duration": 0,
    "start_time": "2023-09-27T08:34:40.325Z"
   },
   {
    "duration": 0,
    "start_time": "2023-09-27T08:34:40.327Z"
   },
   {
    "duration": 0,
    "start_time": "2023-09-27T08:34:40.327Z"
   },
   {
    "duration": 3,
    "start_time": "2023-09-27T08:34:43.185Z"
   },
   {
    "duration": 11,
    "start_time": "2023-09-27T08:34:43.359Z"
   },
   {
    "duration": 13,
    "start_time": "2023-09-27T08:34:43.631Z"
   },
   {
    "duration": 5,
    "start_time": "2023-09-27T08:36:07.565Z"
   },
   {
    "duration": 48784,
    "start_time": "2023-09-27T08:36:08.081Z"
   },
   {
    "duration": 3985,
    "start_time": "2023-09-27T08:36:56.867Z"
   },
   {
    "duration": 5,
    "start_time": "2023-09-27T08:37:00.855Z"
   },
   {
    "duration": 197,
    "start_time": "2023-09-27T08:37:00.862Z"
   },
   {
    "duration": 106,
    "start_time": "2023-09-27T08:37:25.608Z"
   },
   {
    "duration": 102,
    "start_time": "2023-09-27T08:37:37.695Z"
   },
   {
    "duration": 4,
    "start_time": "2023-09-27T08:37:56.221Z"
   },
   {
    "duration": 4,
    "start_time": "2023-09-27T08:38:10.727Z"
   },
   {
    "duration": 56488,
    "start_time": "2023-09-27T08:38:27.370Z"
   },
   {
    "duration": 22008,
    "start_time": "2023-09-27T08:39:31.137Z"
   },
   {
    "duration": 8509,
    "start_time": "2023-09-27T08:39:53.147Z"
   },
   {
    "duration": 2132,
    "start_time": "2023-09-27T08:40:59.583Z"
   },
   {
    "duration": 1394,
    "start_time": "2023-09-27T08:41:01.717Z"
   },
   {
    "duration": 1057,
    "start_time": "2023-09-27T08:41:03.113Z"
   },
   {
    "duration": 24,
    "start_time": "2023-09-27T08:41:04.172Z"
   },
   {
    "duration": 147,
    "start_time": "2023-09-27T08:41:04.198Z"
   },
   {
    "duration": 410,
    "start_time": "2023-09-27T08:41:04.347Z"
   },
   {
    "duration": 101,
    "start_time": "2023-09-27T08:41:04.759Z"
   },
   {
    "duration": 459,
    "start_time": "2023-09-27T08:41:04.862Z"
   },
   {
    "duration": 88,
    "start_time": "2023-09-27T08:41:05.322Z"
   },
   {
    "duration": 9,
    "start_time": "2023-09-27T08:41:05.412Z"
   },
   {
    "duration": 45,
    "start_time": "2023-09-27T08:41:05.422Z"
   },
   {
    "duration": 26,
    "start_time": "2023-09-27T08:41:05.469Z"
   },
   {
    "duration": 62,
    "start_time": "2023-09-27T08:41:05.497Z"
   },
   {
    "duration": 51,
    "start_time": "2023-09-27T08:41:05.562Z"
   },
   {
    "duration": 767,
    "start_time": "2023-09-27T08:41:05.615Z"
   },
   {
    "duration": 32,
    "start_time": "2023-09-27T08:41:06.384Z"
   },
   {
    "duration": 159,
    "start_time": "2023-09-27T08:41:06.418Z"
   },
   {
    "duration": 71,
    "start_time": "2023-09-27T08:41:06.579Z"
   },
   {
    "duration": 3,
    "start_time": "2023-09-27T08:41:06.653Z"
   },
   {
    "duration": 13,
    "start_time": "2023-09-27T08:41:06.659Z"
   },
   {
    "duration": 97,
    "start_time": "2023-09-27T08:41:06.673Z"
   },
   {
    "duration": 115,
    "start_time": "2023-09-27T08:41:06.771Z"
   },
   {
    "duration": 148,
    "start_time": "2023-09-27T08:41:06.888Z"
   },
   {
    "duration": 132,
    "start_time": "2023-09-27T08:41:07.038Z"
   },
   {
    "duration": 40,
    "start_time": "2023-09-27T08:41:07.171Z"
   },
   {
    "duration": 58,
    "start_time": "2023-09-27T08:41:07.213Z"
   },
   {
    "duration": 464,
    "start_time": "2023-09-27T08:41:07.273Z"
   },
   {
    "duration": 170,
    "start_time": "2023-09-27T08:41:07.746Z"
   },
   {
    "duration": 82,
    "start_time": "2023-09-27T08:41:07.917Z"
   },
   {
    "duration": 51,
    "start_time": "2023-09-27T08:41:08.000Z"
   },
   {
    "duration": 70,
    "start_time": "2023-09-27T08:41:08.053Z"
   },
   {
    "duration": 44,
    "start_time": "2023-09-27T08:41:08.125Z"
   },
   {
    "duration": 4,
    "start_time": "2023-09-27T08:41:08.171Z"
   },
   {
    "duration": 36,
    "start_time": "2023-09-27T08:41:08.176Z"
   },
   {
    "duration": 46,
    "start_time": "2023-09-27T08:41:08.213Z"
   },
   {
    "duration": 56,
    "start_time": "2023-09-27T08:41:08.261Z"
   },
   {
    "duration": 1049,
    "start_time": "2023-09-27T08:41:08.319Z"
   },
   {
    "duration": 110,
    "start_time": "2023-09-27T08:41:09.370Z"
   },
   {
    "duration": 5,
    "start_time": "2023-09-27T08:41:09.482Z"
   },
   {
    "duration": 6759,
    "start_time": "2023-09-27T08:41:09.488Z"
   },
   {
    "duration": 30202,
    "start_time": "2023-09-27T08:41:16.250Z"
   },
   {
    "duration": 5,
    "start_time": "2023-09-27T08:41:46.454Z"
   },
   {
    "duration": 47018,
    "start_time": "2023-09-27T08:41:46.460Z"
   },
   {
    "duration": 4238,
    "start_time": "2023-09-27T08:42:33.479Z"
   },
   {
    "duration": 4,
    "start_time": "2023-09-27T08:42:37.718Z"
   },
   {
    "duration": 17,
    "start_time": "2023-09-27T08:42:37.724Z"
   },
   {
    "duration": 4,
    "start_time": "2023-09-27T08:43:00.892Z"
   },
   {
    "duration": 5757,
    "start_time": "2023-09-27T08:43:05.789Z"
   },
   {
    "duration": 2334,
    "start_time": "2023-09-27T08:48:13.929Z"
   },
   {
    "duration": 1377,
    "start_time": "2023-09-27T08:48:16.267Z"
   },
   {
    "duration": 1113,
    "start_time": "2023-09-27T08:48:17.646Z"
   },
   {
    "duration": 20,
    "start_time": "2023-09-27T08:48:18.761Z"
   },
   {
    "duration": 120,
    "start_time": "2023-09-27T08:48:18.782Z"
   },
   {
    "duration": 402,
    "start_time": "2023-09-27T08:48:18.904Z"
   },
   {
    "duration": 91,
    "start_time": "2023-09-27T08:48:19.307Z"
   },
   {
    "duration": 421,
    "start_time": "2023-09-27T08:48:19.399Z"
   },
   {
    "duration": 96,
    "start_time": "2023-09-27T08:48:19.821Z"
   },
   {
    "duration": 8,
    "start_time": "2023-09-27T08:48:19.920Z"
   },
   {
    "duration": 32,
    "start_time": "2023-09-27T08:48:19.944Z"
   },
   {
    "duration": 30,
    "start_time": "2023-09-27T08:48:19.978Z"
   },
   {
    "duration": 32,
    "start_time": "2023-09-27T08:48:20.010Z"
   },
   {
    "duration": 46,
    "start_time": "2023-09-27T08:48:20.044Z"
   },
   {
    "duration": 678,
    "start_time": "2023-09-27T08:48:20.091Z"
   },
   {
    "duration": 30,
    "start_time": "2023-09-27T08:48:20.770Z"
   },
   {
    "duration": 46,
    "start_time": "2023-09-27T08:48:20.801Z"
   },
   {
    "duration": 75,
    "start_time": "2023-09-27T08:48:20.849Z"
   },
   {
    "duration": 12,
    "start_time": "2023-09-27T08:48:20.925Z"
   },
   {
    "duration": 27,
    "start_time": "2023-09-27T08:48:20.938Z"
   },
   {
    "duration": 107,
    "start_time": "2023-09-27T08:48:20.967Z"
   },
   {
    "duration": 140,
    "start_time": "2023-09-27T08:48:21.076Z"
   },
   {
    "duration": 139,
    "start_time": "2023-09-27T08:48:21.217Z"
   },
   {
    "duration": 122,
    "start_time": "2023-09-27T08:48:21.358Z"
   },
   {
    "duration": 40,
    "start_time": "2023-09-27T08:48:21.482Z"
   },
   {
    "duration": 55,
    "start_time": "2023-09-27T08:48:21.523Z"
   },
   {
    "duration": 619,
    "start_time": "2023-09-27T08:48:21.580Z"
   },
   {
    "duration": 203,
    "start_time": "2023-09-27T08:48:22.249Z"
   },
   {
    "duration": 77,
    "start_time": "2023-09-27T08:48:22.454Z"
   },
   {
    "duration": 45,
    "start_time": "2023-09-27T08:48:22.545Z"
   },
   {
    "duration": 86,
    "start_time": "2023-09-27T08:48:22.591Z"
   },
   {
    "duration": 23,
    "start_time": "2023-09-27T08:48:22.679Z"
   },
   {
    "duration": 4,
    "start_time": "2023-09-27T08:48:22.703Z"
   },
   {
    "duration": 7,
    "start_time": "2023-09-27T08:48:22.708Z"
   },
   {
    "duration": 7,
    "start_time": "2023-09-27T08:48:22.716Z"
   },
   {
    "duration": 72,
    "start_time": "2023-09-27T08:48:22.725Z"
   },
   {
    "duration": 1000,
    "start_time": "2023-09-27T08:48:22.798Z"
   },
   {
    "duration": 102,
    "start_time": "2023-09-27T08:48:23.800Z"
   },
   {
    "duration": 4,
    "start_time": "2023-09-27T08:48:23.903Z"
   },
   {
    "duration": 7540,
    "start_time": "2023-09-27T08:48:23.908Z"
   },
   {
    "duration": 94012,
    "start_time": "2023-09-27T08:48:31.450Z"
   },
   {
    "duration": 6,
    "start_time": "2023-09-27T08:50:05.464Z"
   },
   {
    "duration": 46906,
    "start_time": "2023-09-27T08:50:05.472Z"
   },
   {
    "duration": 4137,
    "start_time": "2023-09-27T08:50:52.380Z"
   },
   {
    "duration": 5,
    "start_time": "2023-09-27T08:50:56.519Z"
   },
   {
    "duration": 11,
    "start_time": "2023-09-27T08:50:56.525Z"
   },
   {
    "duration": 4,
    "start_time": "2023-09-27T08:52:35.131Z"
   },
   {
    "duration": 12407,
    "start_time": "2023-09-27T08:52:37.386Z"
   },
   {
    "duration": 94962,
    "start_time": "2023-09-27T08:52:49.795Z"
   },
   {
    "duration": 146,
    "start_time": "2023-09-27T08:54:24.759Z"
   },
   {
    "duration": 0,
    "start_time": "2023-09-27T08:54:24.906Z"
   },
   {
    "duration": 5,
    "start_time": "2023-09-27T08:55:28.947Z"
   },
   {
    "duration": 45286,
    "start_time": "2023-09-27T08:55:29.311Z"
   },
   {
    "duration": 11733,
    "start_time": "2023-09-27T08:56:14.599Z"
   },
   {
    "duration": 11,
    "start_time": "2023-09-27T08:56:26.334Z"
   },
   {
    "duration": 11,
    "start_time": "2023-09-27T08:56:26.347Z"
   },
   {
    "duration": 4,
    "start_time": "2023-09-27T08:58:20.818Z"
   },
   {
    "duration": 22092,
    "start_time": "2023-09-27T08:58:23.307Z"
   },
   {
    "duration": 10,
    "start_time": "2023-09-27T08:58:45.401Z"
   },
   {
    "duration": 0,
    "start_time": "2023-09-27T08:58:45.412Z"
   },
   {
    "duration": 3,
    "start_time": "2023-09-27T08:59:02.895Z"
   },
   {
    "duration": 10,
    "start_time": "2023-09-27T08:59:03.667Z"
   },
   {
    "duration": 4,
    "start_time": "2023-09-27T08:59:11.530Z"
   },
   {
    "duration": 2235,
    "start_time": "2023-09-27T08:59:26.513Z"
   },
   {
    "duration": 1329,
    "start_time": "2023-09-27T08:59:28.751Z"
   },
   {
    "duration": 1041,
    "start_time": "2023-09-27T08:59:30.082Z"
   },
   {
    "duration": 28,
    "start_time": "2023-09-27T08:59:31.125Z"
   },
   {
    "duration": 107,
    "start_time": "2023-09-27T08:59:31.156Z"
   },
   {
    "duration": 390,
    "start_time": "2023-09-27T08:59:31.265Z"
   },
   {
    "duration": 103,
    "start_time": "2023-09-27T08:59:31.658Z"
   },
   {
    "duration": 447,
    "start_time": "2023-09-27T08:59:31.763Z"
   },
   {
    "duration": 97,
    "start_time": "2023-09-27T08:59:32.213Z"
   },
   {
    "duration": 10,
    "start_time": "2023-09-27T08:59:32.311Z"
   },
   {
    "duration": 37,
    "start_time": "2023-09-27T08:59:32.323Z"
   },
   {
    "duration": 25,
    "start_time": "2023-09-27T08:59:32.364Z"
   },
   {
    "duration": 27,
    "start_time": "2023-09-27T08:59:32.391Z"
   },
   {
    "duration": 50,
    "start_time": "2023-09-27T08:59:32.421Z"
   },
   {
    "duration": 621,
    "start_time": "2023-09-27T08:59:32.473Z"
   },
   {
    "duration": 30,
    "start_time": "2023-09-27T08:59:33.095Z"
   },
   {
    "duration": 56,
    "start_time": "2023-09-27T08:59:33.127Z"
   },
   {
    "duration": 96,
    "start_time": "2023-09-27T08:59:33.185Z"
   },
   {
    "duration": 16,
    "start_time": "2023-09-27T08:59:33.283Z"
   },
   {
    "duration": 43,
    "start_time": "2023-09-27T08:59:33.301Z"
   },
   {
    "duration": 79,
    "start_time": "2023-09-27T08:59:33.346Z"
   },
   {
    "duration": 110,
    "start_time": "2023-09-27T08:59:33.427Z"
   },
   {
    "duration": 132,
    "start_time": "2023-09-27T08:59:33.539Z"
   },
   {
    "duration": 122,
    "start_time": "2023-09-27T08:59:33.673Z"
   },
   {
    "duration": 55,
    "start_time": "2023-09-27T08:59:33.797Z"
   },
   {
    "duration": 42,
    "start_time": "2023-09-27T08:59:33.853Z"
   },
   {
    "duration": 567,
    "start_time": "2023-09-27T08:59:33.896Z"
   },
   {
    "duration": 173,
    "start_time": "2023-09-27T08:59:34.465Z"
   },
   {
    "duration": 74,
    "start_time": "2023-09-27T08:59:34.645Z"
   },
   {
    "duration": 54,
    "start_time": "2023-09-27T08:59:34.721Z"
   },
   {
    "duration": 67,
    "start_time": "2023-09-27T08:59:34.777Z"
   },
   {
    "duration": 32,
    "start_time": "2023-09-27T08:59:34.846Z"
   },
   {
    "duration": 4,
    "start_time": "2023-09-27T08:59:34.880Z"
   },
   {
    "duration": 17,
    "start_time": "2023-09-27T08:59:34.885Z"
   },
   {
    "duration": 6,
    "start_time": "2023-09-27T08:59:34.903Z"
   },
   {
    "duration": 77,
    "start_time": "2023-09-27T08:59:34.910Z"
   },
   {
    "duration": 982,
    "start_time": "2023-09-27T08:59:34.989Z"
   },
   {
    "duration": 103,
    "start_time": "2023-09-27T08:59:35.973Z"
   },
   {
    "duration": 4,
    "start_time": "2023-09-27T08:59:36.077Z"
   },
   {
    "duration": 6668,
    "start_time": "2023-09-27T08:59:36.082Z"
   },
   {
    "duration": 61888,
    "start_time": "2023-09-27T08:59:42.761Z"
   },
   {
    "duration": 4,
    "start_time": "2023-09-27T09:00:44.651Z"
   },
   {
    "duration": 42554,
    "start_time": "2023-09-27T09:00:44.657Z"
   },
   {
    "duration": 0,
    "start_time": "2023-09-27T09:01:41.755Z"
   },
   {
    "duration": 0,
    "start_time": "2023-09-27T09:01:41.756Z"
   },
   {
    "duration": 0,
    "start_time": "2023-09-27T09:01:41.757Z"
   },
   {
    "duration": 0,
    "start_time": "2023-09-27T09:01:41.758Z"
   },
   {
    "duration": 0,
    "start_time": "2023-09-27T09:01:41.759Z"
   },
   {
    "duration": 3,
    "start_time": "2023-09-27T09:01:44.072Z"
   },
   {
    "duration": 43368,
    "start_time": "2023-09-27T09:01:44.322Z"
   },
   {
    "duration": 30263,
    "start_time": "2023-09-27T09:02:27.692Z"
   },
   {
    "duration": 3,
    "start_time": "2023-09-27T09:02:57.957Z"
   },
   {
    "duration": 12,
    "start_time": "2023-09-27T09:02:57.962Z"
   },
   {
    "duration": 4,
    "start_time": "2023-09-27T09:04:13.444Z"
   },
   {
    "duration": 42100,
    "start_time": "2023-09-27T09:04:13.808Z"
   },
   {
    "duration": 89692,
    "start_time": "2023-09-27T09:04:55.910Z"
   },
   {
    "duration": 4,
    "start_time": "2023-09-27T09:06:25.604Z"
   },
   {
    "duration": 26,
    "start_time": "2023-09-27T09:06:25.610Z"
   },
   {
    "duration": 55801,
    "start_time": "2023-09-27T09:08:33.750Z"
   },
   {
    "duration": 1190,
    "start_time": "2023-09-27T09:10:46.758Z"
   },
   {
    "duration": 1595,
    "start_time": "2023-09-27T09:10:49.050Z"
   },
   {
    "duration": 1749,
    "start_time": "2023-09-27T09:11:01.196Z"
   },
   {
    "duration": 1448,
    "start_time": "2023-09-27T09:11:48.216Z"
   },
   {
    "duration": 1857,
    "start_time": "2023-09-27T09:11:53.892Z"
   },
   {
    "duration": 2256,
    "start_time": "2023-09-27T09:12:01.001Z"
   },
   {
    "duration": 2319,
    "start_time": "2023-09-27T09:19:58.236Z"
   },
   {
    "duration": 1319,
    "start_time": "2023-09-27T09:20:00.558Z"
   },
   {
    "duration": 997,
    "start_time": "2023-09-27T09:20:01.882Z"
   },
   {
    "duration": 17,
    "start_time": "2023-09-27T09:20:02.882Z"
   },
   {
    "duration": 116,
    "start_time": "2023-09-27T09:20:02.900Z"
   },
   {
    "duration": 414,
    "start_time": "2023-09-27T09:20:03.018Z"
   },
   {
    "duration": 120,
    "start_time": "2023-09-27T09:20:03.434Z"
   },
   {
    "duration": 438,
    "start_time": "2023-09-27T09:20:03.556Z"
   },
   {
    "duration": 92,
    "start_time": "2023-09-27T09:20:03.995Z"
   },
   {
    "duration": 11,
    "start_time": "2023-09-27T09:20:04.089Z"
   },
   {
    "duration": 45,
    "start_time": "2023-09-27T09:20:04.102Z"
   },
   {
    "duration": 27,
    "start_time": "2023-09-27T09:20:04.149Z"
   },
   {
    "duration": 41,
    "start_time": "2023-09-27T09:20:04.179Z"
   },
   {
    "duration": 40,
    "start_time": "2023-09-27T09:20:04.222Z"
   },
   {
    "duration": 680,
    "start_time": "2023-09-27T09:20:04.265Z"
   },
   {
    "duration": 31,
    "start_time": "2023-09-27T09:20:04.947Z"
   },
   {
    "duration": 30,
    "start_time": "2023-09-27T09:20:04.979Z"
   },
   {
    "duration": 90,
    "start_time": "2023-09-27T09:20:05.011Z"
   },
   {
    "duration": 17,
    "start_time": "2023-09-27T09:20:05.103Z"
   },
   {
    "duration": 62,
    "start_time": "2023-09-27T09:20:05.121Z"
   },
   {
    "duration": 113,
    "start_time": "2023-09-27T09:20:05.185Z"
   },
   {
    "duration": 132,
    "start_time": "2023-09-27T09:20:05.300Z"
   },
   {
    "duration": 116,
    "start_time": "2023-09-27T09:20:05.434Z"
   },
   {
    "duration": 39,
    "start_time": "2023-09-27T09:20:05.552Z"
   },
   {
    "duration": 55,
    "start_time": "2023-09-27T09:20:05.592Z"
   },
   {
    "duration": 430,
    "start_time": "2023-09-27T09:20:05.648Z"
   },
   {
    "duration": 160,
    "start_time": "2023-09-27T09:20:06.079Z"
   },
   {
    "duration": 81,
    "start_time": "2023-09-27T09:20:06.241Z"
   },
   {
    "duration": 52,
    "start_time": "2023-09-27T09:20:06.323Z"
   },
   {
    "duration": 71,
    "start_time": "2023-09-27T09:20:06.377Z"
   },
   {
    "duration": 21,
    "start_time": "2023-09-27T09:20:06.450Z"
   },
   {
    "duration": 3,
    "start_time": "2023-09-27T09:20:06.473Z"
   },
   {
    "duration": 13,
    "start_time": "2023-09-27T09:20:06.478Z"
   },
   {
    "duration": 10,
    "start_time": "2023-09-27T09:20:06.492Z"
   },
   {
    "duration": 63,
    "start_time": "2023-09-27T09:20:06.504Z"
   },
   {
    "duration": 917,
    "start_time": "2023-09-27T09:20:06.569Z"
   },
   {
    "duration": 92,
    "start_time": "2023-09-27T09:20:07.488Z"
   },
   {
    "duration": 4,
    "start_time": "2023-09-27T09:20:07.582Z"
   },
   {
    "duration": 4899,
    "start_time": "2023-09-27T09:20:07.588Z"
   },
   {
    "duration": 3456,
    "start_time": "2023-09-27T09:20:12.492Z"
   },
   {
    "duration": 4,
    "start_time": "2023-09-27T09:20:15.949Z"
   },
   {
    "duration": 42691,
    "start_time": "2023-09-27T09:20:15.955Z"
   },
   {
    "duration": 13038,
    "start_time": "2023-09-27T09:20:58.647Z"
   },
   {
    "duration": 13,
    "start_time": "2023-09-27T09:21:11.686Z"
   },
   {
    "duration": 0,
    "start_time": "2023-09-27T09:21:11.700Z"
   },
   {
    "duration": 0,
    "start_time": "2023-09-27T09:21:11.701Z"
   },
   {
    "duration": 0,
    "start_time": "2023-09-27T09:21:11.702Z"
   },
   {
    "duration": 3,
    "start_time": "2023-09-27T09:21:12.402Z"
   },
   {
    "duration": 954,
    "start_time": "2023-09-27T09:21:12.749Z"
   },
   {
    "duration": 22,
    "start_time": "2023-09-27T09:21:40.017Z"
   },
   {
    "duration": 4221,
    "start_time": "2023-09-27T09:21:41.024Z"
   },
   {
    "duration": 999,
    "start_time": "2023-09-27T09:21:45.248Z"
   },
   {
    "duration": 2126,
    "start_time": "2023-09-27T09:22:31.632Z"
   },
   {
    "duration": 1215,
    "start_time": "2023-09-27T09:22:33.760Z"
   },
   {
    "duration": 21,
    "start_time": "2023-09-27T09:22:34.977Z"
   },
   {
    "duration": 994,
    "start_time": "2023-09-27T09:22:34.999Z"
   },
   {
    "duration": 17,
    "start_time": "2023-09-27T09:22:35.995Z"
   },
   {
    "duration": 110,
    "start_time": "2023-09-27T09:22:36.013Z"
   },
   {
    "duration": 393,
    "start_time": "2023-09-27T09:22:36.125Z"
   },
   {
    "duration": 89,
    "start_time": "2023-09-27T09:22:36.520Z"
   },
   {
    "duration": 389,
    "start_time": "2023-09-27T09:22:36.611Z"
   },
   {
    "duration": 78,
    "start_time": "2023-09-27T09:22:37.003Z"
   },
   {
    "duration": 8,
    "start_time": "2023-09-27T09:22:37.083Z"
   },
   {
    "duration": 21,
    "start_time": "2023-09-27T09:22:37.093Z"
   },
   {
    "duration": 46,
    "start_time": "2023-09-27T09:22:37.115Z"
   },
   {
    "duration": 35,
    "start_time": "2023-09-27T09:22:37.163Z"
   },
   {
    "duration": 28,
    "start_time": "2023-09-27T09:22:37.199Z"
   },
   {
    "duration": 634,
    "start_time": "2023-09-27T09:22:37.230Z"
   },
   {
    "duration": 30,
    "start_time": "2023-09-27T09:22:37.866Z"
   },
   {
    "duration": 14,
    "start_time": "2023-09-27T09:22:37.898Z"
   },
   {
    "duration": 66,
    "start_time": "2023-09-27T09:22:37.913Z"
   },
   {
    "duration": 12,
    "start_time": "2023-09-27T09:22:37.981Z"
   },
   {
    "duration": 66,
    "start_time": "2023-09-27T09:22:37.995Z"
   },
   {
    "duration": 101,
    "start_time": "2023-09-27T09:22:38.062Z"
   },
   {
    "duration": 141,
    "start_time": "2023-09-27T09:22:38.164Z"
   },
   {
    "duration": 112,
    "start_time": "2023-09-27T09:22:38.306Z"
   },
   {
    "duration": 51,
    "start_time": "2023-09-27T09:22:38.420Z"
   },
   {
    "duration": 36,
    "start_time": "2023-09-27T09:22:38.472Z"
   },
   {
    "duration": 413,
    "start_time": "2023-09-27T09:22:38.509Z"
   },
   {
    "duration": 155,
    "start_time": "2023-09-27T09:22:38.925Z"
   },
   {
    "duration": 67,
    "start_time": "2023-09-27T09:22:39.082Z"
   },
   {
    "duration": 41,
    "start_time": "2023-09-27T09:22:39.150Z"
   },
   {
    "duration": 76,
    "start_time": "2023-09-27T09:22:39.193Z"
   },
   {
    "duration": 22,
    "start_time": "2023-09-27T09:22:39.271Z"
   },
   {
    "duration": 3,
    "start_time": "2023-09-27T09:22:39.295Z"
   },
   {
    "duration": 5,
    "start_time": "2023-09-27T09:22:39.300Z"
   },
   {
    "duration": 4,
    "start_time": "2023-09-27T09:22:39.307Z"
   },
   {
    "duration": 69,
    "start_time": "2023-09-27T09:22:39.312Z"
   },
   {
    "duration": 925,
    "start_time": "2023-09-27T09:22:39.383Z"
   },
   {
    "duration": 89,
    "start_time": "2023-09-27T09:22:40.310Z"
   },
   {
    "duration": 4,
    "start_time": "2023-09-27T09:22:40.401Z"
   },
   {
    "duration": 4246,
    "start_time": "2023-09-27T09:22:40.406Z"
   },
   {
    "duration": 2398,
    "start_time": "2023-09-27T09:22:44.654Z"
   },
   {
    "duration": 4,
    "start_time": "2023-09-27T09:22:47.054Z"
   },
   {
    "duration": 42306,
    "start_time": "2023-09-27T09:22:47.060Z"
   },
   {
    "duration": 2143,
    "start_time": "2023-09-27T09:24:03.516Z"
   },
   {
    "duration": 1193,
    "start_time": "2023-09-27T09:24:05.661Z"
   },
   {
    "duration": 957,
    "start_time": "2023-09-27T09:24:06.856Z"
   },
   {
    "duration": 16,
    "start_time": "2023-09-27T09:24:07.814Z"
   },
   {
    "duration": 117,
    "start_time": "2023-09-27T09:24:07.832Z"
   },
   {
    "duration": 389,
    "start_time": "2023-09-27T09:24:07.951Z"
   },
   {
    "duration": 84,
    "start_time": "2023-09-27T09:24:08.344Z"
   },
   {
    "duration": 458,
    "start_time": "2023-09-27T09:24:08.430Z"
   },
   {
    "duration": 77,
    "start_time": "2023-09-27T09:24:08.890Z"
   },
   {
    "duration": 9,
    "start_time": "2023-09-27T09:24:08.968Z"
   },
   {
    "duration": 21,
    "start_time": "2023-09-27T09:24:08.978Z"
   },
   {
    "duration": 24,
    "start_time": "2023-09-27T09:24:09.000Z"
   },
   {
    "duration": 33,
    "start_time": "2023-09-27T09:24:09.025Z"
   },
   {
    "duration": 27,
    "start_time": "2023-09-27T09:24:09.060Z"
   },
   {
    "duration": 607,
    "start_time": "2023-09-27T09:24:09.088Z"
   },
   {
    "duration": 30,
    "start_time": "2023-09-27T09:24:09.696Z"
   },
   {
    "duration": 17,
    "start_time": "2023-09-27T09:24:09.728Z"
   },
   {
    "duration": 63,
    "start_time": "2023-09-27T09:24:09.746Z"
   },
   {
    "duration": 8,
    "start_time": "2023-09-27T09:24:09.811Z"
   },
   {
    "duration": 70,
    "start_time": "2023-09-27T09:24:09.820Z"
   },
   {
    "duration": 99,
    "start_time": "2023-09-27T09:24:09.892Z"
   },
   {
    "duration": 130,
    "start_time": "2023-09-27T09:24:09.993Z"
   },
   {
    "duration": 119,
    "start_time": "2023-09-27T09:24:10.125Z"
   },
   {
    "duration": 42,
    "start_time": "2023-09-27T09:24:10.246Z"
   },
   {
    "duration": 34,
    "start_time": "2023-09-27T09:24:10.290Z"
   },
   {
    "duration": 427,
    "start_time": "2023-09-27T09:24:10.326Z"
   },
   {
    "duration": 165,
    "start_time": "2023-09-27T09:24:10.754Z"
   },
   {
    "duration": 68,
    "start_time": "2023-09-27T09:24:10.921Z"
   },
   {
    "duration": 42,
    "start_time": "2023-09-27T09:24:10.991Z"
   },
   {
    "duration": 75,
    "start_time": "2023-09-27T09:24:11.035Z"
   },
   {
    "duration": 34,
    "start_time": "2023-09-27T09:24:11.111Z"
   },
   {
    "duration": 3,
    "start_time": "2023-09-27T09:24:11.146Z"
   },
   {
    "duration": 17,
    "start_time": "2023-09-27T09:24:11.150Z"
   },
   {
    "duration": 8,
    "start_time": "2023-09-27T09:24:11.168Z"
   },
   {
    "duration": 58,
    "start_time": "2023-09-27T09:24:11.178Z"
   },
   {
    "duration": 987,
    "start_time": "2023-09-27T09:24:11.238Z"
   },
   {
    "duration": 97,
    "start_time": "2023-09-27T09:24:12.226Z"
   },
   {
    "duration": 6,
    "start_time": "2023-09-27T09:24:12.327Z"
   },
   {
    "duration": 4313,
    "start_time": "2023-09-27T09:24:12.334Z"
   },
   {
    "duration": 2416,
    "start_time": "2023-09-27T09:24:16.649Z"
   },
   {
    "duration": 4,
    "start_time": "2023-09-27T09:24:19.147Z"
   },
   {
    "duration": 41808,
    "start_time": "2023-09-27T09:24:19.152Z"
   },
   {
    "duration": 86992,
    "start_time": "2023-09-27T09:25:00.961Z"
   },
   {
    "duration": 3,
    "start_time": "2023-09-27T09:26:27.955Z"
   },
   {
    "duration": 10,
    "start_time": "2023-09-27T09:26:27.959Z"
   },
   {
    "duration": 5,
    "start_time": "2023-09-27T09:26:27.970Z"
   },
   {
    "duration": 92,
    "start_time": "2023-09-27T09:30:33.792Z"
   },
   {
    "duration": 79,
    "start_time": "2023-09-27T09:30:53.921Z"
   },
   {
    "duration": 105,
    "start_time": "2023-09-27T09:31:11.672Z"
   },
   {
    "duration": 44,
    "start_time": "2023-09-27T09:34:36.029Z"
   },
   {
    "duration": 7,
    "start_time": "2023-09-27T09:35:32.749Z"
   },
   {
    "duration": 69349,
    "start_time": "2023-09-27T09:35:35.377Z"
   },
   {
    "duration": 4,
    "start_time": "2023-09-27T09:37:09.266Z"
   },
   {
    "duration": 218,
    "start_time": "2023-09-27T09:37:12.042Z"
   },
   {
    "duration": 6,
    "start_time": "2023-09-27T09:37:20.057Z"
   },
   {
    "duration": 96,
    "start_time": "2023-09-27T09:37:21.707Z"
   },
   {
    "duration": 4,
    "start_time": "2023-09-27T09:37:37.658Z"
   },
   {
    "duration": 36756,
    "start_time": "2023-09-27T09:37:39.360Z"
   },
   {
    "duration": 4,
    "start_time": "2023-09-27T09:38:16.118Z"
   },
   {
    "duration": 3,
    "start_time": "2023-09-27T09:38:17.370Z"
   },
   {
    "duration": 47574,
    "start_time": "2023-09-27T09:38:18.105Z"
   },
   {
    "duration": 14,
    "start_time": "2023-09-27T09:39:29.639Z"
   },
   {
    "duration": 5,
    "start_time": "2023-09-27T09:39:39.653Z"
   },
   {
    "duration": 4,
    "start_time": "2023-09-27T09:40:08.796Z"
   },
   {
    "duration": 24247,
    "start_time": "2023-09-27T09:40:10.658Z"
   },
   {
    "duration": 3,
    "start_time": "2023-09-27T09:40:34.906Z"
   },
   {
    "duration": 3,
    "start_time": "2023-09-27T09:40:58.096Z"
   },
   {
    "duration": 12,
    "start_time": "2023-09-27T09:41:08.754Z"
   },
   {
    "duration": 30,
    "start_time": "2023-09-27T09:41:14.333Z"
   },
   {
    "duration": 2116,
    "start_time": "2023-09-27T09:41:36.019Z"
   },
   {
    "duration": 1265,
    "start_time": "2023-09-27T09:41:38.137Z"
   },
   {
    "duration": 1033,
    "start_time": "2023-09-27T09:41:39.403Z"
   },
   {
    "duration": 24,
    "start_time": "2023-09-27T09:41:40.438Z"
   },
   {
    "duration": 97,
    "start_time": "2023-09-27T09:41:40.463Z"
   },
   {
    "duration": 395,
    "start_time": "2023-09-27T09:41:40.562Z"
   },
   {
    "duration": 99,
    "start_time": "2023-09-27T09:41:40.958Z"
   },
   {
    "duration": 419,
    "start_time": "2023-09-27T09:41:41.059Z"
   },
   {
    "duration": 84,
    "start_time": "2023-09-27T09:41:41.479Z"
   },
   {
    "duration": 9,
    "start_time": "2023-09-27T09:41:41.564Z"
   },
   {
    "duration": 21,
    "start_time": "2023-09-27T09:41:41.574Z"
   },
   {
    "duration": 21,
    "start_time": "2023-09-27T09:41:41.596Z"
   },
   {
    "duration": 48,
    "start_time": "2023-09-27T09:41:41.619Z"
   },
   {
    "duration": 138,
    "start_time": "2023-09-27T09:41:41.670Z"
   },
   {
    "duration": 660,
    "start_time": "2023-09-27T09:41:41.809Z"
   },
   {
    "duration": 32,
    "start_time": "2023-09-27T09:41:42.471Z"
   },
   {
    "duration": 21,
    "start_time": "2023-09-27T09:41:42.505Z"
   },
   {
    "duration": 71,
    "start_time": "2023-09-27T09:41:42.528Z"
   },
   {
    "duration": 15,
    "start_time": "2023-09-27T09:41:42.601Z"
   },
   {
    "duration": 70,
    "start_time": "2023-09-27T09:41:42.618Z"
   },
   {
    "duration": 127,
    "start_time": "2023-09-27T09:41:42.690Z"
   },
   {
    "duration": 129,
    "start_time": "2023-09-27T09:41:42.819Z"
   },
   {
    "duration": 109,
    "start_time": "2023-09-27T09:41:42.957Z"
   },
   {
    "duration": 40,
    "start_time": "2023-09-27T09:41:43.068Z"
   },
   {
    "duration": 54,
    "start_time": "2023-09-27T09:41:43.109Z"
   },
   {
    "duration": 418,
    "start_time": "2023-09-27T09:41:43.164Z"
   },
   {
    "duration": 177,
    "start_time": "2023-09-27T09:41:43.584Z"
   },
   {
    "duration": 64,
    "start_time": "2023-09-27T09:41:43.763Z"
   },
   {
    "duration": 54,
    "start_time": "2023-09-27T09:41:43.828Z"
   },
   {
    "duration": 78,
    "start_time": "2023-09-27T09:41:43.884Z"
   },
   {
    "duration": 24,
    "start_time": "2023-09-27T09:41:43.965Z"
   },
   {
    "duration": 5,
    "start_time": "2023-09-27T09:41:43.991Z"
   },
   {
    "duration": 72,
    "start_time": "2023-09-27T09:41:43.998Z"
   },
   {
    "duration": 8,
    "start_time": "2023-09-27T09:41:44.072Z"
   },
   {
    "duration": 72,
    "start_time": "2023-09-27T09:41:44.084Z"
   },
   {
    "duration": 1094,
    "start_time": "2023-09-27T09:41:44.158Z"
   },
   {
    "duration": 107,
    "start_time": "2023-09-27T09:41:45.254Z"
   },
   {
    "duration": 4,
    "start_time": "2023-09-27T09:41:45.363Z"
   },
   {
    "duration": 5580,
    "start_time": "2023-09-27T09:41:45.368Z"
   },
   {
    "duration": 11215,
    "start_time": "2023-09-27T09:41:50.951Z"
   },
   {
    "duration": 107,
    "start_time": "2023-09-27T09:42:02.170Z"
   },
   {
    "duration": 4,
    "start_time": "2023-09-27T09:42:02.279Z"
   },
   {
    "duration": 44027,
    "start_time": "2023-09-27T09:42:02.285Z"
   },
   {
    "duration": 24618,
    "start_time": "2023-09-27T09:42:46.313Z"
   },
   {
    "duration": 12,
    "start_time": "2023-09-27T09:43:10.934Z"
   },
   {
    "duration": 9,
    "start_time": "2023-09-27T09:43:10.949Z"
   },
   {
    "duration": 143,
    "start_time": "2023-09-27T09:43:10.961Z"
   },
   {
    "duration": 2186,
    "start_time": "2023-09-27T09:43:31.399Z"
   },
   {
    "duration": 1244,
    "start_time": "2023-09-27T09:43:33.586Z"
   },
   {
    "duration": 1009,
    "start_time": "2023-09-27T09:43:34.831Z"
   },
   {
    "duration": 16,
    "start_time": "2023-09-27T09:43:35.842Z"
   },
   {
    "duration": 103,
    "start_time": "2023-09-27T09:43:35.860Z"
   },
   {
    "duration": 381,
    "start_time": "2023-09-27T09:43:35.964Z"
   },
   {
    "duration": 84,
    "start_time": "2023-09-27T09:43:36.347Z"
   },
   {
    "duration": 430,
    "start_time": "2023-09-27T09:43:36.433Z"
   },
   {
    "duration": 80,
    "start_time": "2023-09-27T09:43:36.865Z"
   },
   {
    "duration": 9,
    "start_time": "2023-09-27T09:43:36.947Z"
   },
   {
    "duration": 51,
    "start_time": "2023-09-27T09:43:36.958Z"
   },
   {
    "duration": 22,
    "start_time": "2023-09-27T09:43:37.011Z"
   },
   {
    "duration": 25,
    "start_time": "2023-09-27T09:43:37.035Z"
   },
   {
    "duration": 38,
    "start_time": "2023-09-27T09:43:37.062Z"
   },
   {
    "duration": 582,
    "start_time": "2023-09-27T09:43:37.101Z"
   },
   {
    "duration": 29,
    "start_time": "2023-09-27T09:43:37.685Z"
   },
   {
    "duration": 28,
    "start_time": "2023-09-27T09:43:37.715Z"
   },
   {
    "duration": 65,
    "start_time": "2023-09-27T09:43:37.744Z"
   },
   {
    "duration": 8,
    "start_time": "2023-09-27T09:43:37.811Z"
   },
   {
    "duration": 67,
    "start_time": "2023-09-27T09:43:37.820Z"
   },
   {
    "duration": 98,
    "start_time": "2023-09-27T09:43:37.889Z"
   },
   {
    "duration": 127,
    "start_time": "2023-09-27T09:43:37.988Z"
   },
   {
    "duration": 105,
    "start_time": "2023-09-27T09:43:38.116Z"
   },
   {
    "duration": 51,
    "start_time": "2023-09-27T09:43:38.223Z"
   },
   {
    "duration": 37,
    "start_time": "2023-09-27T09:43:38.276Z"
   },
   {
    "duration": 428,
    "start_time": "2023-09-27T09:43:38.315Z"
   },
   {
    "duration": 154,
    "start_time": "2023-09-27T09:43:38.745Z"
   },
   {
    "duration": 68,
    "start_time": "2023-09-27T09:43:38.900Z"
   },
   {
    "duration": 44,
    "start_time": "2023-09-27T09:43:38.970Z"
   },
   {
    "duration": 87,
    "start_time": "2023-09-27T09:43:39.016Z"
   },
   {
    "duration": 25,
    "start_time": "2023-09-27T09:43:39.105Z"
   },
   {
    "duration": 14,
    "start_time": "2023-09-27T09:43:39.131Z"
   },
   {
    "duration": 11,
    "start_time": "2023-09-27T09:43:39.147Z"
   },
   {
    "duration": 4,
    "start_time": "2023-09-27T09:43:39.160Z"
   },
   {
    "duration": 59,
    "start_time": "2023-09-27T09:43:39.166Z"
   },
   {
    "duration": 988,
    "start_time": "2023-09-27T09:43:39.227Z"
   },
   {
    "duration": 87,
    "start_time": "2023-09-27T09:43:40.217Z"
   },
   {
    "duration": 4,
    "start_time": "2023-09-27T09:43:40.305Z"
   },
   {
    "duration": 4434,
    "start_time": "2023-09-27T09:43:40.311Z"
   },
   {
    "duration": 2404,
    "start_time": "2023-09-27T09:43:44.748Z"
   },
   {
    "duration": 94,
    "start_time": "2023-09-27T09:43:47.156Z"
   },
   {
    "duration": 3,
    "start_time": "2023-09-27T09:43:47.252Z"
   },
   {
    "duration": 41444,
    "start_time": "2023-09-27T09:43:47.256Z"
   },
   {
    "duration": 8594,
    "start_time": "2023-09-27T09:44:28.702Z"
   },
   {
    "duration": 4,
    "start_time": "2023-09-27T09:44:37.298Z"
   },
   {
    "duration": 36,
    "start_time": "2023-09-27T09:44:37.303Z"
   },
   {
    "duration": 157,
    "start_time": "2023-09-27T09:44:37.341Z"
   },
   {
    "duration": 1837,
    "start_time": "2023-09-27T10:01:50.130Z"
   },
   {
    "duration": 69,
    "start_time": "2023-09-27T10:10:48.904Z"
   },
   {
    "duration": 23,
    "start_time": "2023-09-27T10:10:49.306Z"
   },
   {
    "duration": 4,
    "start_time": "2023-09-27T10:11:21.364Z"
   },
   {
    "duration": 4,
    "start_time": "2023-09-27T10:12:09.658Z"
   },
   {
    "duration": 59,
    "start_time": "2023-09-27T10:46:23.389Z"
   },
   {
    "duration": 26,
    "start_time": "2023-09-27T10:48:07.020Z"
   },
   {
    "duration": 83,
    "start_time": "2023-09-27T10:49:20.191Z"
   },
   {
    "duration": 149,
    "start_time": "2023-09-27T10:50:55.897Z"
   },
   {
    "duration": 176,
    "start_time": "2023-09-27T10:51:53.986Z"
   },
   {
    "duration": 82,
    "start_time": "2023-09-27T10:53:10.626Z"
   },
   {
    "duration": 123,
    "start_time": "2023-09-27T10:53:11.130Z"
   },
   {
    "duration": 2435,
    "start_time": "2023-09-27T10:53:51.924Z"
   },
   {
    "duration": 2242,
    "start_time": "2023-09-27T10:54:01.909Z"
   },
   {
    "duration": 2094,
    "start_time": "2023-09-27T10:54:15.233Z"
   },
   {
    "duration": 1263,
    "start_time": "2023-09-27T10:54:17.329Z"
   },
   {
    "duration": 984,
    "start_time": "2023-09-27T10:54:18.594Z"
   },
   {
    "duration": 19,
    "start_time": "2023-09-27T10:54:19.580Z"
   },
   {
    "duration": 108,
    "start_time": "2023-09-27T10:54:19.600Z"
   },
   {
    "duration": 405,
    "start_time": "2023-09-27T10:54:19.709Z"
   },
   {
    "duration": 91,
    "start_time": "2023-09-27T10:54:20.115Z"
   },
   {
    "duration": 384,
    "start_time": "2023-09-27T10:54:20.208Z"
   },
   {
    "duration": 80,
    "start_time": "2023-09-27T10:54:20.594Z"
   },
   {
    "duration": 8,
    "start_time": "2023-09-27T10:54:20.677Z"
   },
   {
    "duration": 20,
    "start_time": "2023-09-27T10:54:20.686Z"
   },
   {
    "duration": 38,
    "start_time": "2023-09-27T10:54:20.707Z"
   },
   {
    "duration": 21,
    "start_time": "2023-09-27T10:54:20.746Z"
   },
   {
    "duration": 28,
    "start_time": "2023-09-27T10:54:20.768Z"
   },
   {
    "duration": 615,
    "start_time": "2023-09-27T10:54:20.798Z"
   },
   {
    "duration": 39,
    "start_time": "2023-09-27T10:54:21.415Z"
   },
   {
    "duration": 34,
    "start_time": "2023-09-27T10:54:21.456Z"
   },
   {
    "duration": 6,
    "start_time": "2023-09-27T10:54:21.491Z"
   },
   {
    "duration": 98,
    "start_time": "2023-09-27T10:54:21.499Z"
   },
   {
    "duration": 161,
    "start_time": "2023-09-27T10:54:21.598Z"
   },
   {
    "duration": 123,
    "start_time": "2023-09-27T10:54:21.761Z"
   },
   {
    "duration": 48,
    "start_time": "2023-09-27T10:54:21.885Z"
   },
   {
    "duration": 42,
    "start_time": "2023-09-27T10:54:21.935Z"
   },
   {
    "duration": 578,
    "start_time": "2023-09-27T10:54:21.979Z"
   },
   {
    "duration": 163,
    "start_time": "2023-09-27T10:54:22.559Z"
   },
   {
    "duration": 61,
    "start_time": "2023-09-27T10:54:22.724Z"
   },
   {
    "duration": 94,
    "start_time": "2023-09-27T10:54:22.786Z"
   },
   {
    "duration": 26,
    "start_time": "2023-09-27T10:54:22.884Z"
   },
   {
    "duration": 4,
    "start_time": "2023-09-27T10:54:22.911Z"
   },
   {
    "duration": 4,
    "start_time": "2023-09-27T10:54:22.917Z"
   },
   {
    "duration": 68,
    "start_time": "2023-09-27T10:54:22.922Z"
   },
   {
    "duration": 990,
    "start_time": "2023-09-27T10:54:22.991Z"
   },
   {
    "duration": 108,
    "start_time": "2023-09-27T10:54:23.983Z"
   },
   {
    "duration": 5,
    "start_time": "2023-09-27T10:54:24.094Z"
   },
   {
    "duration": 5145,
    "start_time": "2023-09-27T10:54:24.101Z"
   },
   {
    "duration": 2400,
    "start_time": "2023-09-27T10:54:29.249Z"
   },
   {
    "duration": 33,
    "start_time": "2023-09-27T10:54:31.651Z"
   },
   {
    "duration": 3,
    "start_time": "2023-09-27T10:54:31.686Z"
   },
   {
    "duration": 42939,
    "start_time": "2023-09-27T10:54:31.690Z"
   },
   {
    "duration": 8762,
    "start_time": "2023-09-27T10:55:14.631Z"
   },
   {
    "duration": 4,
    "start_time": "2023-09-27T10:55:23.394Z"
   },
   {
    "duration": 11,
    "start_time": "2023-09-27T10:55:23.399Z"
   },
   {
    "duration": 134,
    "start_time": "2023-09-27T10:55:23.411Z"
   },
   {
    "duration": 108,
    "start_time": "2023-09-27T10:55:23.546Z"
   },
   {
    "duration": 99,
    "start_time": "2023-09-27T10:55:23.656Z"
   },
   {
    "duration": 27,
    "start_time": "2023-09-27T10:55:47.930Z"
   },
   {
    "duration": 2,
    "start_time": "2023-09-27T11:02:21.066Z"
   },
   {
    "duration": 121,
    "start_time": "2023-09-27T11:03:18.108Z"
   },
   {
    "duration": 6,
    "start_time": "2023-09-27T11:03:36.616Z"
   },
   {
    "duration": 4,
    "start_time": "2023-09-27T11:04:01.597Z"
   },
   {
    "duration": 7,
    "start_time": "2023-09-27T11:04:24.736Z"
   },
   {
    "duration": 7,
    "start_time": "2023-09-27T11:04:26.322Z"
   },
   {
    "duration": 2236,
    "start_time": "2023-09-27T11:04:50.523Z"
   },
   {
    "duration": 1251,
    "start_time": "2023-09-27T11:04:52.761Z"
   },
   {
    "duration": 1213,
    "start_time": "2023-09-27T11:04:54.014Z"
   },
   {
    "duration": 31,
    "start_time": "2023-09-27T11:04:55.229Z"
   },
   {
    "duration": 121,
    "start_time": "2023-09-27T11:04:55.262Z"
   },
   {
    "duration": 449,
    "start_time": "2023-09-27T11:04:55.385Z"
   },
   {
    "duration": 102,
    "start_time": "2023-09-27T11:04:55.835Z"
   },
   {
    "duration": 461,
    "start_time": "2023-09-27T11:04:55.938Z"
   },
   {
    "duration": 80,
    "start_time": "2023-09-27T11:04:56.400Z"
   },
   {
    "duration": 9,
    "start_time": "2023-09-27T11:04:56.482Z"
   },
   {
    "duration": 20,
    "start_time": "2023-09-27T11:04:56.492Z"
   },
   {
    "duration": 45,
    "start_time": "2023-09-27T11:04:56.514Z"
   },
   {
    "duration": 25,
    "start_time": "2023-09-27T11:04:56.561Z"
   },
   {
    "duration": 23,
    "start_time": "2023-09-27T11:04:56.589Z"
   },
   {
    "duration": 700,
    "start_time": "2023-09-27T11:04:56.613Z"
   },
   {
    "duration": 45,
    "start_time": "2023-09-27T11:04:57.314Z"
   },
   {
    "duration": 16,
    "start_time": "2023-09-27T11:04:57.361Z"
   },
   {
    "duration": 6,
    "start_time": "2023-09-27T11:04:57.379Z"
   },
   {
    "duration": 112,
    "start_time": "2023-09-27T11:04:57.387Z"
   },
   {
    "duration": 145,
    "start_time": "2023-09-27T11:04:57.501Z"
   },
   {
    "duration": 114,
    "start_time": "2023-09-27T11:04:57.655Z"
   },
   {
    "duration": 48,
    "start_time": "2023-09-27T11:04:57.770Z"
   },
   {
    "duration": 54,
    "start_time": "2023-09-27T11:04:57.819Z"
   },
   {
    "duration": 451,
    "start_time": "2023-09-27T11:04:57.875Z"
   },
   {
    "duration": 169,
    "start_time": "2023-09-27T11:04:58.327Z"
   },
   {
    "duration": 79,
    "start_time": "2023-09-27T11:04:58.497Z"
   },
   {
    "duration": 91,
    "start_time": "2023-09-27T11:04:58.578Z"
   },
   {
    "duration": 24,
    "start_time": "2023-09-27T11:04:58.671Z"
   },
   {
    "duration": 10,
    "start_time": "2023-09-27T11:04:58.697Z"
   },
   {
    "duration": 15,
    "start_time": "2023-09-27T11:04:58.709Z"
   },
   {
    "duration": 65,
    "start_time": "2023-09-27T11:04:58.726Z"
   },
   {
    "duration": 955,
    "start_time": "2023-09-27T11:04:58.793Z"
   },
   {
    "duration": 104,
    "start_time": "2023-09-27T11:04:59.755Z"
   },
   {
    "duration": 4,
    "start_time": "2023-09-27T11:04:59.860Z"
   },
   {
    "duration": 5285,
    "start_time": "2023-09-27T11:04:59.865Z"
   },
   {
    "duration": 12502,
    "start_time": "2023-09-27T11:05:05.156Z"
   },
   {
    "duration": 88,
    "start_time": "2023-09-27T11:05:17.662Z"
   },
   {
    "duration": 9,
    "start_time": "2023-09-27T11:05:17.752Z"
   },
   {
    "duration": 45277,
    "start_time": "2023-09-27T11:05:17.763Z"
   },
   {
    "duration": 9461,
    "start_time": "2023-09-27T11:06:03.041Z"
   },
   {
    "duration": 4,
    "start_time": "2023-09-27T11:06:12.505Z"
   },
   {
    "duration": 8,
    "start_time": "2023-09-27T11:06:12.510Z"
   },
   {
    "duration": 154,
    "start_time": "2023-09-27T11:06:12.519Z"
   },
   {
    "duration": 59,
    "start_time": "2023-09-27T11:06:12.675Z"
   },
   {
    "duration": 12,
    "start_time": "2023-09-27T11:06:12.744Z"
   },
   {
    "duration": 44,
    "start_time": "2023-09-27T12:38:40.629Z"
   },
   {
    "duration": 6847,
    "start_time": "2023-09-27T12:38:50.046Z"
   },
   {
    "duration": 1340,
    "start_time": "2023-09-27T12:38:56.895Z"
   },
   {
    "duration": 3037,
    "start_time": "2023-09-27T12:38:58.237Z"
   },
   {
    "duration": 24,
    "start_time": "2023-09-27T12:39:01.276Z"
   },
   {
    "duration": 127,
    "start_time": "2023-09-27T12:39:01.301Z"
   },
   {
    "duration": 369,
    "start_time": "2023-09-27T12:39:01.429Z"
   },
   {
    "duration": 98,
    "start_time": "2023-09-27T12:39:01.800Z"
   },
   {
    "duration": 622,
    "start_time": "2023-09-27T12:39:01.899Z"
   },
   {
    "duration": 91,
    "start_time": "2023-09-27T12:39:02.523Z"
   },
   {
    "duration": 10,
    "start_time": "2023-09-27T12:41:34.831Z"
   },
   {
    "duration": 80,
    "start_time": "2023-09-27T12:43:51.793Z"
   },
   {
    "duration": 9,
    "start_time": "2023-09-27T12:43:59.279Z"
   },
   {
    "duration": 7,
    "start_time": "2023-09-27T12:44:09.224Z"
   },
   {
    "duration": 35,
    "start_time": "2023-09-27T12:45:34.780Z"
   },
   {
    "duration": 21,
    "start_time": "2023-09-27T12:45:39.157Z"
   },
   {
    "duration": 4,
    "start_time": "2023-09-27T12:46:00.201Z"
   },
   {
    "duration": 4,
    "start_time": "2023-09-27T12:46:11.102Z"
   },
   {
    "duration": 84,
    "start_time": "2023-09-27T12:46:43.125Z"
   },
   {
    "duration": 150,
    "start_time": "2023-09-27T12:47:04.325Z"
   },
   {
    "duration": 157,
    "start_time": "2023-09-27T12:48:05.535Z"
   },
   {
    "duration": 143,
    "start_time": "2023-09-27T12:48:38.207Z"
   },
   {
    "duration": 148,
    "start_time": "2023-09-27T12:48:44.846Z"
   },
   {
    "duration": 2,
    "start_time": "2023-09-27T12:51:13.625Z"
   },
   {
    "duration": 2,
    "start_time": "2023-09-27T12:51:13.887Z"
   },
   {
    "duration": 43,
    "start_time": "2023-09-27T12:51:15.267Z"
   },
   {
    "duration": 27,
    "start_time": "2023-09-27T12:51:17.483Z"
   },
   {
    "duration": 6,
    "start_time": "2023-09-27T12:51:32.584Z"
   },
   {
    "duration": 124,
    "start_time": "2023-09-27T12:53:11.932Z"
   },
   {
    "duration": 102,
    "start_time": "2023-09-27T12:53:18.103Z"
   },
   {
    "duration": 121,
    "start_time": "2023-09-27T12:53:39.119Z"
   },
   {
    "duration": 123,
    "start_time": "2023-09-27T12:54:02.433Z"
   },
   {
    "duration": 192,
    "start_time": "2023-09-27T12:54:56.125Z"
   },
   {
    "duration": 194,
    "start_time": "2023-09-27T12:55:04.630Z"
   },
   {
    "duration": 173,
    "start_time": "2023-09-27T12:55:11.971Z"
   },
   {
    "duration": 173,
    "start_time": "2023-09-27T12:55:15.472Z"
   },
   {
    "duration": 152,
    "start_time": "2023-09-27T12:55:17.109Z"
   },
   {
    "duration": 152,
    "start_time": "2023-09-27T12:55:30.232Z"
   },
   {
    "duration": 183,
    "start_time": "2023-09-27T12:55:39.802Z"
   },
   {
    "duration": 147,
    "start_time": "2023-09-27T12:56:10.702Z"
   },
   {
    "duration": 175,
    "start_time": "2023-09-27T12:56:39.330Z"
   },
   {
    "duration": 172,
    "start_time": "2023-09-27T12:56:56.972Z"
   },
   {
    "duration": 26,
    "start_time": "2023-09-27T12:57:02.043Z"
   },
   {
    "duration": 28,
    "start_time": "2023-09-27T12:57:03.529Z"
   },
   {
    "duration": 18,
    "start_time": "2023-09-27T12:57:04.938Z"
   },
   {
    "duration": 47,
    "start_time": "2023-09-27T12:57:15.550Z"
   },
   {
    "duration": 478,
    "start_time": "2023-09-27T12:57:16.733Z"
   },
   {
    "duration": 147,
    "start_time": "2023-09-27T12:57:23.291Z"
   },
   {
    "duration": 76,
    "start_time": "2023-09-27T12:57:27.402Z"
   },
   {
    "duration": 13,
    "start_time": "2023-09-27T12:59:24.049Z"
   },
   {
    "duration": 113,
    "start_time": "2023-09-27T12:59:28.119Z"
   },
   {
    "duration": 39,
    "start_time": "2023-09-27T12:59:28.305Z"
   },
   {
    "duration": 4,
    "start_time": "2023-09-27T12:59:28.526Z"
   },
   {
    "duration": 4,
    "start_time": "2023-09-27T12:59:29.334Z"
   },
   {
    "duration": 24,
    "start_time": "2023-09-27T12:59:31.077Z"
   },
   {
    "duration": 56,
    "start_time": "2023-09-27T12:59:33.695Z"
   },
   {
    "duration": 3,
    "start_time": "2023-09-27T12:59:35.338Z"
   },
   {
    "duration": 1360,
    "start_time": "2023-09-27T12:59:46.686Z"
   },
   {
    "duration": 1023,
    "start_time": "2023-09-27T13:00:12.962Z"
   },
   {
    "duration": 774,
    "start_time": "2023-09-27T13:00:56.607Z"
   },
   {
    "duration": 97,
    "start_time": "2023-09-27T13:00:59.475Z"
   },
   {
    "duration": 3,
    "start_time": "2023-09-27T13:01:01.506Z"
   },
   {
    "duration": 3,
    "start_time": "2023-09-27T13:01:52.930Z"
   },
   {
    "duration": 5,
    "start_time": "2023-09-27T13:01:55.348Z"
   },
   {
    "duration": 4,
    "start_time": "2023-09-27T13:01:58.261Z"
   },
   {
    "duration": 1469,
    "start_time": "2023-09-27T13:03:25.282Z"
   },
   {
    "duration": 1368,
    "start_time": "2023-09-27T13:05:17.296Z"
   },
   {
    "duration": 3,
    "start_time": "2023-09-27T13:07:55.413Z"
   },
   {
    "duration": 3,
    "start_time": "2023-09-27T13:07:58.226Z"
   },
   {
    "duration": 8040,
    "start_time": "2023-09-27T13:08:12.109Z"
   },
   {
    "duration": 93,
    "start_time": "2023-09-27T13:08:48.985Z"
   },
   {
    "duration": 4,
    "start_time": "2023-09-27T13:09:02.724Z"
   },
   {
    "duration": 15,
    "start_time": "2023-09-27T13:10:37.763Z"
   },
   {
    "duration": 3,
    "start_time": "2023-09-27T13:10:58.241Z"
   },
   {
    "duration": 2448,
    "start_time": "2023-09-27T13:15:49.553Z"
   },
   {
    "duration": 1219,
    "start_time": "2023-09-27T13:15:52.003Z"
   },
   {
    "duration": 1188,
    "start_time": "2023-09-27T13:15:53.223Z"
   },
   {
    "duration": 34,
    "start_time": "2023-09-27T13:15:54.413Z"
   },
   {
    "duration": 123,
    "start_time": "2023-09-27T13:15:54.449Z"
   },
   {
    "duration": 443,
    "start_time": "2023-09-27T13:15:54.574Z"
   },
   {
    "duration": 109,
    "start_time": "2023-09-27T13:15:55.019Z"
   },
   {
    "duration": 626,
    "start_time": "2023-09-27T13:15:55.130Z"
   },
   {
    "duration": 74,
    "start_time": "2023-09-27T13:15:55.758Z"
   },
   {
    "duration": 8,
    "start_time": "2023-09-27T13:15:55.845Z"
   },
   {
    "duration": 77,
    "start_time": "2023-09-27T13:15:55.855Z"
   },
   {
    "duration": 159,
    "start_time": "2023-09-27T13:15:55.934Z"
   },
   {
    "duration": 31,
    "start_time": "2023-09-27T13:15:56.095Z"
   },
   {
    "duration": 167,
    "start_time": "2023-09-27T13:15:56.127Z"
   },
   {
    "duration": 22,
    "start_time": "2023-09-27T13:15:56.295Z"
   },
   {
    "duration": 172,
    "start_time": "2023-09-27T13:15:56.319Z"
   },
   {
    "duration": 22,
    "start_time": "2023-09-27T13:15:56.492Z"
   },
   {
    "duration": 715,
    "start_time": "2023-09-27T13:15:56.516Z"
   },
   {
    "duration": 3,
    "start_time": "2023-09-27T13:15:57.232Z"
   },
   {
    "duration": 20,
    "start_time": "2023-09-27T13:15:57.236Z"
   },
   {
    "duration": 60,
    "start_time": "2023-09-27T13:15:57.258Z"
   },
   {
    "duration": 3,
    "start_time": "2023-09-27T13:15:57.319Z"
   },
   {
    "duration": 27,
    "start_time": "2023-09-27T13:15:57.323Z"
   },
   {
    "duration": 177,
    "start_time": "2023-09-27T13:15:57.351Z"
   },
   {
    "duration": 193,
    "start_time": "2023-09-27T13:15:57.530Z"
   },
   {
    "duration": 257,
    "start_time": "2023-09-27T13:15:57.725Z"
   },
   {
    "duration": 18,
    "start_time": "2023-09-27T13:15:57.984Z"
   },
   {
    "duration": 27,
    "start_time": "2023-09-27T13:15:58.006Z"
   },
   {
    "duration": 23,
    "start_time": "2023-09-27T13:15:58.035Z"
   },
   {
    "duration": 37,
    "start_time": "2023-09-27T13:15:58.059Z"
   },
   {
    "duration": 532,
    "start_time": "2023-09-27T13:15:58.098Z"
   },
   {
    "duration": 165,
    "start_time": "2023-09-27T13:15:58.631Z"
   },
   {
    "duration": 121,
    "start_time": "2023-09-27T13:15:58.798Z"
   },
   {
    "duration": 188,
    "start_time": "2023-09-27T13:15:58.921Z"
   },
   {
    "duration": 38,
    "start_time": "2023-09-27T13:15:59.110Z"
   },
   {
    "duration": 31,
    "start_time": "2023-09-27T13:15:59.151Z"
   },
   {
    "duration": 47,
    "start_time": "2023-09-27T13:15:59.184Z"
   },
   {
    "duration": 111,
    "start_time": "2023-09-27T13:15:59.233Z"
   },
   {
    "duration": 98,
    "start_time": "2023-09-27T13:15:59.346Z"
   },
   {
    "duration": 3,
    "start_time": "2023-09-27T13:15:59.446Z"
   },
   {
    "duration": 3588,
    "start_time": "2023-09-27T13:15:59.451Z"
   },
   {
    "duration": 433,
    "start_time": "2023-09-27T13:16:03.041Z"
   },
   {
    "duration": 4,
    "start_time": "2023-09-27T13:16:03.476Z"
   },
   {
    "duration": 34,
    "start_time": "2023-09-27T13:16:03.482Z"
   },
   {
    "duration": 7,
    "start_time": "2023-09-27T13:16:03.518Z"
   },
   {
    "duration": 310,
    "start_time": "2023-09-27T13:16:03.527Z"
   },
   {
    "duration": 39310,
    "start_time": "2023-09-27T13:16:03.840Z"
   },
   {
    "duration": 90,
    "start_time": "2023-09-27T13:16:43.153Z"
   },
   {
    "duration": 11434,
    "start_time": "2023-09-27T13:16:43.246Z"
   },
   {
    "duration": 0,
    "start_time": "2023-09-27T13:16:54.682Z"
   },
   {
    "duration": 0,
    "start_time": "2023-09-27T13:16:54.683Z"
   },
   {
    "duration": 0,
    "start_time": "2023-09-27T13:16:54.684Z"
   },
   {
    "duration": 0,
    "start_time": "2023-09-27T13:16:54.685Z"
   },
   {
    "duration": 0,
    "start_time": "2023-09-27T13:16:54.686Z"
   },
   {
    "duration": 0,
    "start_time": "2023-09-27T13:16:54.687Z"
   },
   {
    "duration": 0,
    "start_time": "2023-09-27T13:16:54.688Z"
   },
   {
    "duration": 0,
    "start_time": "2023-09-27T13:16:54.690Z"
   },
   {
    "duration": 0,
    "start_time": "2023-09-27T13:16:54.691Z"
   },
   {
    "duration": 0,
    "start_time": "2023-09-27T13:16:54.692Z"
   },
   {
    "duration": 0,
    "start_time": "2023-09-27T13:16:54.693Z"
   },
   {
    "duration": 3937,
    "start_time": "2023-09-27T13:20:46.514Z"
   },
   {
    "duration": 2231,
    "start_time": "2023-09-27T13:21:19.685Z"
   },
   {
    "duration": 3179,
    "start_time": "2023-09-27T13:22:37.149Z"
   },
   {
    "duration": 3731,
    "start_time": "2023-09-27T13:23:39.246Z"
   },
   {
    "duration": 3488,
    "start_time": "2023-09-27T13:23:57.163Z"
   },
   {
    "duration": 376,
    "start_time": "2023-09-27T13:24:06.970Z"
   },
   {
    "duration": 3,
    "start_time": "2023-09-27T13:24:09.416Z"
   },
   {
    "duration": 3,
    "start_time": "2023-09-27T13:24:10.783Z"
   },
   {
    "duration": 4,
    "start_time": "2023-09-27T13:24:11.914Z"
   },
   {
    "duration": 4,
    "start_time": "2023-09-27T13:24:12.357Z"
   },
   {
    "duration": 2182,
    "start_time": "2023-09-27T13:24:20.236Z"
   },
   {
    "duration": 1284,
    "start_time": "2023-09-27T13:24:22.420Z"
   },
   {
    "duration": 1056,
    "start_time": "2023-09-27T13:24:23.705Z"
   },
   {
    "duration": 17,
    "start_time": "2023-09-27T13:24:24.763Z"
   },
   {
    "duration": 113,
    "start_time": "2023-09-27T13:24:24.781Z"
   },
   {
    "duration": 411,
    "start_time": "2023-09-27T13:24:24.895Z"
   },
   {
    "duration": 94,
    "start_time": "2023-09-27T13:24:25.308Z"
   },
   {
    "duration": 519,
    "start_time": "2023-09-27T13:24:25.404Z"
   },
   {
    "duration": 80,
    "start_time": "2023-09-27T13:24:25.925Z"
   },
   {
    "duration": 9,
    "start_time": "2023-09-27T13:24:26.009Z"
   },
   {
    "duration": 38,
    "start_time": "2023-09-27T13:24:26.019Z"
   },
   {
    "duration": 153,
    "start_time": "2023-09-27T13:24:26.059Z"
   },
   {
    "duration": 20,
    "start_time": "2023-09-27T13:24:26.213Z"
   },
   {
    "duration": 176,
    "start_time": "2023-09-27T13:24:26.235Z"
   },
   {
    "duration": 20,
    "start_time": "2023-09-27T13:24:26.412Z"
   },
   {
    "duration": 161,
    "start_time": "2023-09-27T13:24:26.445Z"
   },
   {
    "duration": 24,
    "start_time": "2023-09-27T13:24:26.607Z"
   },
   {
    "duration": 655,
    "start_time": "2023-09-27T13:24:26.643Z"
   },
   {
    "duration": 3,
    "start_time": "2023-09-27T13:24:27.300Z"
   },
   {
    "duration": 17,
    "start_time": "2023-09-27T13:24:27.304Z"
   },
   {
    "duration": 49,
    "start_time": "2023-09-27T13:24:27.323Z"
   },
   {
    "duration": 3,
    "start_time": "2023-09-27T13:24:27.373Z"
   },
   {
    "duration": 20,
    "start_time": "2023-09-27T13:24:27.377Z"
   },
   {
    "duration": 148,
    "start_time": "2023-09-27T13:24:27.399Z"
   },
   {
    "duration": 189,
    "start_time": "2023-09-27T13:24:27.548Z"
   },
   {
    "duration": 167,
    "start_time": "2023-09-27T13:24:27.743Z"
   },
   {
    "duration": 20,
    "start_time": "2023-09-27T13:24:27.912Z"
   },
   {
    "duration": 26,
    "start_time": "2023-09-27T13:24:27.947Z"
   },
   {
    "duration": 20,
    "start_time": "2023-09-27T13:24:27.975Z"
   },
   {
    "duration": 62,
    "start_time": "2023-09-27T13:24:27.997Z"
   },
   {
    "duration": 556,
    "start_time": "2023-09-27T13:24:28.061Z"
   },
   {
    "duration": 164,
    "start_time": "2023-09-27T13:24:28.618Z"
   },
   {
    "duration": 94,
    "start_time": "2023-09-27T13:24:28.783Z"
   },
   {
    "duration": 138,
    "start_time": "2023-09-27T13:24:28.879Z"
   },
   {
    "duration": 44,
    "start_time": "2023-09-27T13:24:29.019Z"
   },
   {
    "duration": 4,
    "start_time": "2023-09-27T13:24:29.064Z"
   },
   {
    "duration": 9,
    "start_time": "2023-09-27T13:24:29.070Z"
   },
   {
    "duration": 36,
    "start_time": "2023-09-27T13:24:29.081Z"
   },
   {
    "duration": 67,
    "start_time": "2023-09-27T13:24:29.118Z"
   },
   {
    "duration": 3,
    "start_time": "2023-09-27T13:24:29.187Z"
   },
   {
    "duration": 3678,
    "start_time": "2023-09-27T13:24:29.191Z"
   },
   {
    "duration": 387,
    "start_time": "2023-09-27T13:24:32.871Z"
   },
   {
    "duration": 2,
    "start_time": "2023-09-27T13:24:33.260Z"
   },
   {
    "duration": 12,
    "start_time": "2023-09-27T13:24:33.264Z"
   },
   {
    "duration": 7,
    "start_time": "2023-09-27T13:24:33.278Z"
   },
   {
    "duration": 9,
    "start_time": "2023-09-27T13:24:33.287Z"
   },
   {
    "duration": 33649,
    "start_time": "2023-09-27T13:24:33.298Z"
   },
   {
    "duration": 96,
    "start_time": "2023-09-27T13:25:06.949Z"
   },
   {
    "duration": 3756,
    "start_time": "2023-09-27T13:25:07.047Z"
   },
   {
    "duration": 0,
    "start_time": "2023-09-27T13:25:10.804Z"
   },
   {
    "duration": 0,
    "start_time": "2023-09-27T13:25:10.805Z"
   },
   {
    "duration": 0,
    "start_time": "2023-09-27T13:25:10.806Z"
   },
   {
    "duration": 0,
    "start_time": "2023-09-27T13:25:10.807Z"
   },
   {
    "duration": 0,
    "start_time": "2023-09-27T13:25:10.809Z"
   },
   {
    "duration": 0,
    "start_time": "2023-09-27T13:25:10.810Z"
   },
   {
    "duration": 0,
    "start_time": "2023-09-27T13:25:10.812Z"
   },
   {
    "duration": 0,
    "start_time": "2023-09-27T13:25:10.813Z"
   },
   {
    "duration": 0,
    "start_time": "2023-09-27T13:25:10.815Z"
   },
   {
    "duration": 0,
    "start_time": "2023-09-27T13:25:10.816Z"
   },
   {
    "duration": 0,
    "start_time": "2023-09-27T13:25:10.817Z"
   },
   {
    "duration": 14,
    "start_time": "2023-09-27T13:26:20.921Z"
   },
   {
    "duration": 15,
    "start_time": "2023-09-27T13:26:34.112Z"
   },
   {
    "duration": 11,
    "start_time": "2023-09-27T13:26:53.766Z"
   },
   {
    "duration": 4276,
    "start_time": "2023-09-27T13:27:09.292Z"
   },
   {
    "duration": 9,
    "start_time": "2023-09-27T13:31:13.567Z"
   },
   {
    "duration": 3671,
    "start_time": "2023-09-27T13:31:58.795Z"
   },
   {
    "duration": 4,
    "start_time": "2023-09-27T13:36:21.199Z"
   },
   {
    "duration": 3,
    "start_time": "2023-09-27T13:36:34.496Z"
   },
   {
    "duration": 3080,
    "start_time": "2023-09-27T13:37:30.135Z"
   },
   {
    "duration": 1332,
    "start_time": "2023-09-27T13:37:33.217Z"
   },
   {
    "duration": 1015,
    "start_time": "2023-09-27T13:37:34.550Z"
   },
   {
    "duration": 16,
    "start_time": "2023-09-27T13:37:35.567Z"
   },
   {
    "duration": 107,
    "start_time": "2023-09-27T13:37:35.585Z"
   },
   {
    "duration": 416,
    "start_time": "2023-09-27T13:37:35.694Z"
   },
   {
    "duration": 93,
    "start_time": "2023-09-27T13:37:36.112Z"
   },
   {
    "duration": 541,
    "start_time": "2023-09-27T13:37:36.207Z"
   },
   {
    "duration": 74,
    "start_time": "2023-09-27T13:37:36.749Z"
   },
   {
    "duration": 23,
    "start_time": "2023-09-27T13:37:36.826Z"
   },
   {
    "duration": 25,
    "start_time": "2023-09-27T13:37:36.851Z"
   },
   {
    "duration": 155,
    "start_time": "2023-09-27T13:37:36.878Z"
   },
   {
    "duration": 22,
    "start_time": "2023-09-27T13:37:37.035Z"
   },
   {
    "duration": 161,
    "start_time": "2023-09-27T13:37:37.059Z"
   },
   {
    "duration": 23,
    "start_time": "2023-09-27T13:37:37.222Z"
   },
   {
    "duration": 163,
    "start_time": "2023-09-27T13:37:37.246Z"
   },
   {
    "duration": 22,
    "start_time": "2023-09-27T13:37:37.410Z"
   },
   {
    "duration": 625,
    "start_time": "2023-09-27T13:37:37.433Z"
   },
   {
    "duration": 3,
    "start_time": "2023-09-27T13:37:38.059Z"
   },
   {
    "duration": 17,
    "start_time": "2023-09-27T13:37:38.064Z"
   },
   {
    "duration": 51,
    "start_time": "2023-09-27T13:37:38.083Z"
   },
   {
    "duration": 25,
    "start_time": "2023-09-27T13:37:38.136Z"
   },
   {
    "duration": 31,
    "start_time": "2023-09-27T13:37:38.163Z"
   },
   {
    "duration": 148,
    "start_time": "2023-09-27T13:37:38.196Z"
   },
   {
    "duration": 176,
    "start_time": "2023-09-27T13:37:38.346Z"
   },
   {
    "duration": 167,
    "start_time": "2023-09-27T13:37:38.523Z"
   },
   {
    "duration": 21,
    "start_time": "2023-09-27T13:37:38.691Z"
   },
   {
    "duration": 41,
    "start_time": "2023-09-27T13:37:38.715Z"
   },
   {
    "duration": 20,
    "start_time": "2023-09-27T13:37:38.758Z"
   },
   {
    "duration": 38,
    "start_time": "2023-09-27T13:37:38.779Z"
   },
   {
    "duration": 526,
    "start_time": "2023-09-27T13:37:38.818Z"
   },
   {
    "duration": 154,
    "start_time": "2023-09-27T13:37:39.346Z"
   },
   {
    "duration": 116,
    "start_time": "2023-09-27T13:37:39.502Z"
   },
   {
    "duration": 155,
    "start_time": "2023-09-27T13:37:39.620Z"
   },
   {
    "duration": 33,
    "start_time": "2023-09-27T13:37:39.777Z"
   },
   {
    "duration": 12,
    "start_time": "2023-09-27T13:37:39.812Z"
   },
   {
    "duration": 10,
    "start_time": "2023-09-27T13:37:39.826Z"
   },
   {
    "duration": 58,
    "start_time": "2023-09-27T13:37:39.837Z"
   },
   {
    "duration": 73,
    "start_time": "2023-09-27T13:37:39.897Z"
   },
   {
    "duration": 3,
    "start_time": "2023-09-27T13:37:39.972Z"
   },
   {
    "duration": 3415,
    "start_time": "2023-09-27T13:37:39.976Z"
   },
   {
    "duration": 367,
    "start_time": "2023-09-27T13:37:43.392Z"
   },
   {
    "duration": 3,
    "start_time": "2023-09-27T13:37:43.760Z"
   },
   {
    "duration": 12,
    "start_time": "2023-09-27T13:37:43.765Z"
   },
   {
    "duration": 143,
    "start_time": "2023-09-27T13:37:43.779Z"
   },
   {
    "duration": 0,
    "start_time": "2023-09-27T13:37:43.923Z"
   },
   {
    "duration": 0,
    "start_time": "2023-09-27T13:37:43.924Z"
   },
   {
    "duration": 0,
    "start_time": "2023-09-27T13:37:43.925Z"
   },
   {
    "duration": 0,
    "start_time": "2023-09-27T13:37:43.926Z"
   },
   {
    "duration": 0,
    "start_time": "2023-09-27T13:37:43.927Z"
   },
   {
    "duration": 0,
    "start_time": "2023-09-27T13:37:43.928Z"
   },
   {
    "duration": 0,
    "start_time": "2023-09-27T13:37:43.929Z"
   },
   {
    "duration": 0,
    "start_time": "2023-09-27T13:37:43.930Z"
   },
   {
    "duration": 0,
    "start_time": "2023-09-27T13:37:43.944Z"
   },
   {
    "duration": 0,
    "start_time": "2023-09-27T13:37:43.945Z"
   },
   {
    "duration": 0,
    "start_time": "2023-09-27T13:37:43.946Z"
   },
   {
    "duration": 0,
    "start_time": "2023-09-27T13:37:43.947Z"
   },
   {
    "duration": 0,
    "start_time": "2023-09-27T13:37:43.948Z"
   },
   {
    "duration": 0,
    "start_time": "2023-09-27T13:37:43.949Z"
   },
   {
    "duration": 0,
    "start_time": "2023-09-27T13:37:43.950Z"
   },
   {
    "duration": 0,
    "start_time": "2023-09-27T13:37:43.951Z"
   },
   {
    "duration": 4,
    "start_time": "2023-09-27T13:38:19.347Z"
   },
   {
    "duration": 38252,
    "start_time": "2023-09-27T13:38:22.143Z"
   },
   {
    "duration": 3,
    "start_time": "2023-09-27T13:39:00.397Z"
   },
   {
    "duration": 54,
    "start_time": "2023-09-27T13:39:00.402Z"
   },
   {
    "duration": 82,
    "start_time": "2023-09-27T13:39:00.458Z"
   },
   {
    "duration": 3634,
    "start_time": "2023-09-27T13:39:00.542Z"
   },
   {
    "duration": 2003,
    "start_time": "2023-09-27T13:40:20.214Z"
   },
   {
    "duration": 1881,
    "start_time": "2023-09-27T13:41:17.266Z"
   },
   {
    "duration": 2769,
    "start_time": "2023-09-27T13:41:40.334Z"
   },
   {
    "duration": 3461,
    "start_time": "2023-09-27T13:43:26.363Z"
   },
   {
    "duration": 2339,
    "start_time": "2023-09-27T13:44:33.114Z"
   },
   {
    "duration": 46,
    "start_time": "2023-09-27T13:51:25.175Z"
   },
   {
    "duration": 2875,
    "start_time": "2023-09-27T13:51:42.166Z"
   },
   {
    "duration": 1952,
    "start_time": "2023-09-27T13:51:45.043Z"
   },
   {
    "duration": 3022,
    "start_time": "2023-09-27T13:51:46.997Z"
   },
   {
    "duration": 17,
    "start_time": "2023-09-27T13:51:50.022Z"
   },
   {
    "duration": 118,
    "start_time": "2023-09-27T13:51:50.040Z"
   },
   {
    "duration": 408,
    "start_time": "2023-09-27T13:51:50.160Z"
   },
   {
    "duration": 89,
    "start_time": "2023-09-27T13:51:50.570Z"
   },
   {
    "duration": 562,
    "start_time": "2023-09-27T13:51:50.660Z"
   },
   {
    "duration": 81,
    "start_time": "2023-09-27T13:51:51.224Z"
   },
   {
    "duration": 7,
    "start_time": "2023-09-27T13:51:51.308Z"
   },
   {
    "duration": 33,
    "start_time": "2023-09-27T13:51:51.317Z"
   },
   {
    "duration": 159,
    "start_time": "2023-09-27T13:51:51.352Z"
   },
   {
    "duration": 21,
    "start_time": "2023-09-27T13:51:51.512Z"
   },
   {
    "duration": 181,
    "start_time": "2023-09-27T13:51:51.534Z"
   },
   {
    "duration": 30,
    "start_time": "2023-09-27T13:51:51.717Z"
   },
   {
    "duration": 154,
    "start_time": "2023-09-27T13:51:51.749Z"
   },
   {
    "duration": 23,
    "start_time": "2023-09-27T13:51:51.905Z"
   },
   {
    "duration": 589,
    "start_time": "2023-09-27T13:51:51.930Z"
   },
   {
    "duration": 2,
    "start_time": "2023-09-27T13:51:52.521Z"
   },
   {
    "duration": 13,
    "start_time": "2023-09-27T13:51:52.524Z"
   },
   {
    "duration": 38,
    "start_time": "2023-09-27T13:51:52.538Z"
   },
   {
    "duration": 19,
    "start_time": "2023-09-27T13:51:52.577Z"
   },
   {
    "duration": 13,
    "start_time": "2023-09-27T13:51:52.598Z"
   },
   {
    "duration": 164,
    "start_time": "2023-09-27T13:51:52.612Z"
   },
   {
    "duration": 193,
    "start_time": "2023-09-27T13:51:52.778Z"
   },
   {
    "duration": 163,
    "start_time": "2023-09-27T13:51:52.972Z"
   },
   {
    "duration": 24,
    "start_time": "2023-09-27T13:51:53.136Z"
   },
   {
    "duration": 54,
    "start_time": "2023-09-27T13:51:53.165Z"
   },
   {
    "duration": 24,
    "start_time": "2023-09-27T13:51:53.221Z"
   },
   {
    "duration": 39,
    "start_time": "2023-09-27T13:51:53.246Z"
   },
   {
    "duration": 489,
    "start_time": "2023-09-27T13:51:53.287Z"
   },
   {
    "duration": 199,
    "start_time": "2023-09-27T13:51:53.778Z"
   },
   {
    "duration": 141,
    "start_time": "2023-09-27T13:51:53.979Z"
   },
   {
    "duration": 130,
    "start_time": "2023-09-27T13:51:54.122Z"
   },
   {
    "duration": 39,
    "start_time": "2023-09-27T13:51:54.254Z"
   },
   {
    "duration": 4,
    "start_time": "2023-09-27T13:51:54.295Z"
   },
   {
    "duration": 39,
    "start_time": "2023-09-27T13:51:54.301Z"
   },
   {
    "duration": 49,
    "start_time": "2023-09-27T13:51:54.342Z"
   },
   {
    "duration": 72,
    "start_time": "2023-09-27T13:51:54.393Z"
   },
   {
    "duration": 2,
    "start_time": "2023-09-27T13:51:54.467Z"
   },
   {
    "duration": 2783,
    "start_time": "2023-09-27T13:51:54.471Z"
   },
   {
    "duration": 0,
    "start_time": "2023-09-27T13:51:57.256Z"
   },
   {
    "duration": 0,
    "start_time": "2023-09-27T13:51:57.257Z"
   },
   {
    "duration": 0,
    "start_time": "2023-09-27T13:51:57.258Z"
   },
   {
    "duration": 0,
    "start_time": "2023-09-27T13:51:57.259Z"
   },
   {
    "duration": 0,
    "start_time": "2023-09-27T13:51:57.260Z"
   },
   {
    "duration": 0,
    "start_time": "2023-09-27T13:51:57.261Z"
   },
   {
    "duration": 0,
    "start_time": "2023-09-27T13:51:57.262Z"
   },
   {
    "duration": 0,
    "start_time": "2023-09-27T13:51:57.262Z"
   },
   {
    "duration": 0,
    "start_time": "2023-09-27T13:51:57.263Z"
   },
   {
    "duration": 0,
    "start_time": "2023-09-27T13:51:57.264Z"
   },
   {
    "duration": 0,
    "start_time": "2023-09-27T13:51:57.266Z"
   },
   {
    "duration": 0,
    "start_time": "2023-09-27T13:51:57.267Z"
   },
   {
    "duration": 0,
    "start_time": "2023-09-27T13:51:57.268Z"
   },
   {
    "duration": 0,
    "start_time": "2023-09-27T13:51:57.269Z"
   },
   {
    "duration": 0,
    "start_time": "2023-09-27T13:51:57.270Z"
   },
   {
    "duration": 0,
    "start_time": "2023-09-27T13:51:57.271Z"
   },
   {
    "duration": 0,
    "start_time": "2023-09-27T13:51:57.273Z"
   },
   {
    "duration": 0,
    "start_time": "2023-09-27T13:51:57.274Z"
   },
   {
    "duration": 0,
    "start_time": "2023-09-27T13:51:57.275Z"
   },
   {
    "duration": 0,
    "start_time": "2023-09-27T13:51:57.277Z"
   },
   {
    "duration": 0,
    "start_time": "2023-09-27T13:51:57.278Z"
   },
   {
    "duration": 1943,
    "start_time": "2023-09-27T13:53:15.086Z"
   },
   {
    "duration": 2433,
    "start_time": "2023-09-27T13:53:48.542Z"
   },
   {
    "duration": 954,
    "start_time": "2023-09-27T13:57:51.007Z"
   },
   {
    "duration": 146,
    "start_time": "2023-09-27T13:58:49.628Z"
   },
   {
    "duration": 2603,
    "start_time": "2023-09-27T13:59:00.317Z"
   },
   {
    "duration": 3,
    "start_time": "2023-09-27T14:02:50.309Z"
   },
   {
    "duration": 3,
    "start_time": "2023-09-27T14:02:50.831Z"
   },
   {
    "duration": 4,
    "start_time": "2023-09-27T14:02:51.988Z"
   },
   {
    "duration": 38046,
    "start_time": "2023-09-27T14:03:00.291Z"
   },
   {
    "duration": 6,
    "start_time": "2023-09-27T14:03:38.340Z"
   },
   {
    "duration": 25,
    "start_time": "2023-09-27T14:03:38.347Z"
   },
   {
    "duration": 14,
    "start_time": "2023-09-27T14:03:38.374Z"
   },
   {
    "duration": 43,
    "start_time": "2023-09-27T14:04:34.817Z"
   },
   {
    "duration": 10,
    "start_time": "2023-09-27T14:04:51.870Z"
   },
   {
    "duration": 20,
    "start_time": "2023-09-27T14:05:02.001Z"
   },
   {
    "duration": 8,
    "start_time": "2023-09-27T14:06:57.971Z"
   },
   {
    "duration": 10,
    "start_time": "2023-09-27T14:07:02.502Z"
   },
   {
    "duration": 4,
    "start_time": "2023-09-27T14:07:15.343Z"
   },
   {
    "duration": 11,
    "start_time": "2023-09-27T14:07:21.923Z"
   },
   {
    "duration": 9,
    "start_time": "2023-09-27T14:07:25.527Z"
   },
   {
    "duration": 39901,
    "start_time": "2023-09-27T14:18:34.474Z"
   },
   {
    "duration": 72974,
    "start_time": "2023-09-27T14:19:30.320Z"
   },
   {
    "duration": 4,
    "start_time": "2023-09-27T14:22:16.850Z"
   },
   {
    "duration": 81,
    "start_time": "2023-09-27T14:22:45.051Z"
   },
   {
    "duration": 96,
    "start_time": "2023-09-27T14:23:48.458Z"
   },
   {
    "duration": 11480,
    "start_time": "2023-09-27T14:27:26.412Z"
   },
   {
    "duration": 7821,
    "start_time": "2023-09-30T14:44:36.496Z"
   },
   {
    "duration": 1573,
    "start_time": "2023-09-30T14:44:44.320Z"
   },
   {
    "duration": 1412,
    "start_time": "2023-09-30T14:44:45.895Z"
   },
   {
    "duration": 20,
    "start_time": "2023-09-30T14:44:47.309Z"
   },
   {
    "duration": 159,
    "start_time": "2023-09-30T14:44:47.331Z"
   },
   {
    "duration": 459,
    "start_time": "2023-09-30T14:44:47.492Z"
   },
   {
    "duration": 117,
    "start_time": "2023-09-30T14:44:47.953Z"
   },
   {
    "duration": 730,
    "start_time": "2023-09-30T14:44:48.072Z"
   },
   {
    "duration": 83,
    "start_time": "2023-09-30T14:44:48.805Z"
   },
   {
    "duration": 25,
    "start_time": "2023-09-30T14:44:48.892Z"
   },
   {
    "duration": 154,
    "start_time": "2023-09-30T14:44:48.919Z"
   },
   {
    "duration": 0,
    "start_time": "2023-09-30T14:44:49.077Z"
   },
   {
    "duration": 0,
    "start_time": "2023-09-30T14:44:49.078Z"
   },
   {
    "duration": 0,
    "start_time": "2023-09-30T14:44:49.080Z"
   },
   {
    "duration": 0,
    "start_time": "2023-09-30T14:44:49.081Z"
   },
   {
    "duration": 0,
    "start_time": "2023-09-30T14:44:49.083Z"
   },
   {
    "duration": 0,
    "start_time": "2023-09-30T14:44:49.084Z"
   },
   {
    "duration": 0,
    "start_time": "2023-09-30T14:44:49.086Z"
   },
   {
    "duration": 0,
    "start_time": "2023-09-30T14:44:49.110Z"
   },
   {
    "duration": 0,
    "start_time": "2023-09-30T14:44:49.112Z"
   },
   {
    "duration": 0,
    "start_time": "2023-09-30T14:44:49.113Z"
   },
   {
    "duration": 0,
    "start_time": "2023-09-30T14:44:49.115Z"
   },
   {
    "duration": 0,
    "start_time": "2023-09-30T14:44:49.116Z"
   },
   {
    "duration": 0,
    "start_time": "2023-09-30T14:44:49.118Z"
   },
   {
    "duration": 0,
    "start_time": "2023-09-30T14:44:49.120Z"
   },
   {
    "duration": 0,
    "start_time": "2023-09-30T14:44:49.121Z"
   },
   {
    "duration": 0,
    "start_time": "2023-09-30T14:44:49.123Z"
   },
   {
    "duration": 0,
    "start_time": "2023-09-30T14:44:49.124Z"
   },
   {
    "duration": 0,
    "start_time": "2023-09-30T14:44:49.126Z"
   },
   {
    "duration": 0,
    "start_time": "2023-09-30T14:44:49.127Z"
   },
   {
    "duration": 0,
    "start_time": "2023-09-30T14:44:49.129Z"
   },
   {
    "duration": 0,
    "start_time": "2023-09-30T14:44:49.130Z"
   },
   {
    "duration": 0,
    "start_time": "2023-09-30T14:44:49.131Z"
   },
   {
    "duration": 0,
    "start_time": "2023-09-30T14:44:49.133Z"
   },
   {
    "duration": 0,
    "start_time": "2023-09-30T14:44:49.134Z"
   },
   {
    "duration": 0,
    "start_time": "2023-09-30T14:44:49.135Z"
   },
   {
    "duration": 0,
    "start_time": "2023-09-30T14:44:49.136Z"
   },
   {
    "duration": 0,
    "start_time": "2023-09-30T14:44:49.137Z"
   },
   {
    "duration": 0,
    "start_time": "2023-09-30T14:44:49.138Z"
   },
   {
    "duration": 0,
    "start_time": "2023-09-30T14:44:49.139Z"
   },
   {
    "duration": 0,
    "start_time": "2023-09-30T14:44:49.140Z"
   },
   {
    "duration": 0,
    "start_time": "2023-09-30T14:44:49.141Z"
   },
   {
    "duration": 0,
    "start_time": "2023-09-30T14:44:49.142Z"
   },
   {
    "duration": 0,
    "start_time": "2023-09-30T14:44:49.143Z"
   },
   {
    "duration": 0,
    "start_time": "2023-09-30T14:44:49.144Z"
   },
   {
    "duration": 0,
    "start_time": "2023-09-30T14:44:49.145Z"
   },
   {
    "duration": 0,
    "start_time": "2023-09-30T14:44:49.209Z"
   },
   {
    "duration": 0,
    "start_time": "2023-09-30T14:44:49.211Z"
   },
   {
    "duration": 0,
    "start_time": "2023-09-30T14:44:49.211Z"
   },
   {
    "duration": 0,
    "start_time": "2023-09-30T14:44:49.212Z"
   },
   {
    "duration": 0,
    "start_time": "2023-09-30T14:44:49.213Z"
   },
   {
    "duration": 0,
    "start_time": "2023-09-30T14:44:49.214Z"
   },
   {
    "duration": 0,
    "start_time": "2023-09-30T14:44:49.215Z"
   },
   {
    "duration": 0,
    "start_time": "2023-09-30T14:44:49.216Z"
   },
   {
    "duration": 0,
    "start_time": "2023-09-30T14:44:49.217Z"
   },
   {
    "duration": 0,
    "start_time": "2023-09-30T14:44:49.218Z"
   },
   {
    "duration": 0,
    "start_time": "2023-09-30T14:44:49.219Z"
   },
   {
    "duration": 0,
    "start_time": "2023-09-30T14:44:49.221Z"
   },
   {
    "duration": 0,
    "start_time": "2023-09-30T14:44:49.222Z"
   },
   {
    "duration": 0,
    "start_time": "2023-09-30T14:44:49.223Z"
   },
   {
    "duration": 0,
    "start_time": "2023-09-30T14:44:49.225Z"
   },
   {
    "duration": 0,
    "start_time": "2023-09-30T14:51:20.274Z"
   },
   {
    "duration": 2634,
    "start_time": "2023-09-30T14:53:34.117Z"
   },
   {
    "duration": 1359,
    "start_time": "2023-09-30T14:53:36.753Z"
   },
   {
    "duration": 1125,
    "start_time": "2023-09-30T14:53:38.113Z"
   },
   {
    "duration": 21,
    "start_time": "2023-09-30T14:53:39.240Z"
   },
   {
    "duration": 123,
    "start_time": "2023-09-30T14:53:39.262Z"
   },
   {
    "duration": 443,
    "start_time": "2023-09-30T14:53:39.386Z"
   },
   {
    "duration": 103,
    "start_time": "2023-09-30T14:53:39.831Z"
   },
   {
    "duration": 583,
    "start_time": "2023-09-30T14:53:39.936Z"
   },
   {
    "duration": 105,
    "start_time": "2023-09-30T14:53:40.521Z"
   },
   {
    "duration": 10,
    "start_time": "2023-09-30T14:53:40.629Z"
   },
   {
    "duration": 43834,
    "start_time": "2023-09-30T14:53:40.641Z"
   },
   {
    "duration": 133,
    "start_time": "2023-09-30T14:54:24.478Z"
   },
   {
    "duration": 0,
    "start_time": "2023-09-30T14:54:24.614Z"
   },
   {
    "duration": 0,
    "start_time": "2023-09-30T14:54:24.615Z"
   },
   {
    "duration": 0,
    "start_time": "2023-09-30T14:54:24.616Z"
   },
   {
    "duration": 0,
    "start_time": "2023-09-30T14:54:24.618Z"
   },
   {
    "duration": 0,
    "start_time": "2023-09-30T14:54:24.619Z"
   },
   {
    "duration": 0,
    "start_time": "2023-09-30T14:54:24.620Z"
   },
   {
    "duration": 0,
    "start_time": "2023-09-30T14:54:24.622Z"
   },
   {
    "duration": 0,
    "start_time": "2023-09-30T14:54:24.623Z"
   },
   {
    "duration": 0,
    "start_time": "2023-09-30T14:54:24.624Z"
   },
   {
    "duration": 0,
    "start_time": "2023-09-30T14:54:24.625Z"
   },
   {
    "duration": 0,
    "start_time": "2023-09-30T14:54:24.627Z"
   },
   {
    "duration": 0,
    "start_time": "2023-09-30T14:54:24.629Z"
   },
   {
    "duration": 0,
    "start_time": "2023-09-30T14:54:24.630Z"
   },
   {
    "duration": 0,
    "start_time": "2023-09-30T14:54:24.631Z"
   },
   {
    "duration": 0,
    "start_time": "2023-09-30T14:54:24.632Z"
   },
   {
    "duration": 0,
    "start_time": "2023-09-30T14:54:24.633Z"
   },
   {
    "duration": 0,
    "start_time": "2023-09-30T14:54:24.634Z"
   },
   {
    "duration": 0,
    "start_time": "2023-09-30T14:54:24.635Z"
   },
   {
    "duration": 0,
    "start_time": "2023-09-30T14:54:24.636Z"
   },
   {
    "duration": 0,
    "start_time": "2023-09-30T14:54:24.638Z"
   },
   {
    "duration": 0,
    "start_time": "2023-09-30T14:54:24.638Z"
   },
   {
    "duration": 0,
    "start_time": "2023-09-30T14:54:24.639Z"
   },
   {
    "duration": 0,
    "start_time": "2023-09-30T14:54:24.640Z"
   },
   {
    "duration": 0,
    "start_time": "2023-09-30T14:54:24.641Z"
   },
   {
    "duration": 0,
    "start_time": "2023-09-30T14:54:24.642Z"
   },
   {
    "duration": 0,
    "start_time": "2023-09-30T14:54:24.643Z"
   },
   {
    "duration": 0,
    "start_time": "2023-09-30T14:54:24.644Z"
   },
   {
    "duration": 0,
    "start_time": "2023-09-30T14:54:24.646Z"
   },
   {
    "duration": 0,
    "start_time": "2023-09-30T14:54:24.646Z"
   },
   {
    "duration": 0,
    "start_time": "2023-09-30T14:54:24.647Z"
   },
   {
    "duration": 0,
    "start_time": "2023-09-30T14:54:24.649Z"
   },
   {
    "duration": 0,
    "start_time": "2023-09-30T14:54:24.650Z"
   },
   {
    "duration": 0,
    "start_time": "2023-09-30T14:54:24.710Z"
   },
   {
    "duration": 0,
    "start_time": "2023-09-30T14:54:24.711Z"
   },
   {
    "duration": 0,
    "start_time": "2023-09-30T14:54:24.712Z"
   },
   {
    "duration": 0,
    "start_time": "2023-09-30T14:54:24.713Z"
   },
   {
    "duration": 0,
    "start_time": "2023-09-30T14:54:24.714Z"
   },
   {
    "duration": 0,
    "start_time": "2023-09-30T14:54:24.715Z"
   },
   {
    "duration": 0,
    "start_time": "2023-09-30T14:54:24.716Z"
   },
   {
    "duration": 0,
    "start_time": "2023-09-30T14:54:24.717Z"
   },
   {
    "duration": 0,
    "start_time": "2023-09-30T14:54:24.718Z"
   },
   {
    "duration": 0,
    "start_time": "2023-09-30T14:54:24.719Z"
   },
   {
    "duration": 0,
    "start_time": "2023-09-30T14:54:24.720Z"
   },
   {
    "duration": 0,
    "start_time": "2023-09-30T14:54:24.721Z"
   },
   {
    "duration": 0,
    "start_time": "2023-09-30T14:54:24.722Z"
   },
   {
    "duration": 0,
    "start_time": "2023-09-30T14:54:24.723Z"
   },
   {
    "duration": 0,
    "start_time": "2023-09-30T14:54:24.724Z"
   },
   {
    "duration": 0,
    "start_time": "2023-09-30T14:54:24.725Z"
   },
   {
    "duration": 0,
    "start_time": "2023-09-30T14:54:24.726Z"
   },
   {
    "duration": 0,
    "start_time": "2023-09-30T14:54:24.728Z"
   },
   {
    "duration": 10,
    "start_time": "2023-09-30T14:55:06.300Z"
   },
   {
    "duration": 783,
    "start_time": "2023-09-30T14:55:28.403Z"
   },
   {
    "duration": 829,
    "start_time": "2023-09-30T14:56:40.886Z"
   },
   {
    "duration": 3,
    "start_time": "2023-09-30T14:59:09.799Z"
   },
   {
    "duration": 153,
    "start_time": "2023-09-30T15:02:01.998Z"
   },
   {
    "duration": 78,
    "start_time": "2023-09-30T15:07:13.319Z"
   },
   {
    "duration": 11,
    "start_time": "2023-09-30T15:29:20.243Z"
   },
   {
    "duration": 2441,
    "start_time": "2023-09-30T15:29:29.111Z"
   },
   {
    "duration": 1444,
    "start_time": "2023-09-30T15:29:31.556Z"
   },
   {
    "duration": 1131,
    "start_time": "2023-09-30T15:29:33.002Z"
   },
   {
    "duration": 20,
    "start_time": "2023-09-30T15:29:34.135Z"
   },
   {
    "duration": 135,
    "start_time": "2023-09-30T15:29:34.157Z"
   },
   {
    "duration": 473,
    "start_time": "2023-09-30T15:29:34.294Z"
   },
   {
    "duration": 109,
    "start_time": "2023-09-30T15:29:34.769Z"
   },
   {
    "duration": 648,
    "start_time": "2023-09-30T15:29:34.879Z"
   },
   {
    "duration": 91,
    "start_time": "2023-09-30T15:29:35.530Z"
   },
   {
    "duration": 8,
    "start_time": "2023-09-30T15:29:35.624Z"
   },
   {
    "duration": 878,
    "start_time": "2023-09-30T15:29:35.633Z"
   },
   {
    "duration": 23,
    "start_time": "2023-09-30T15:29:36.513Z"
   },
   {
    "duration": 172,
    "start_time": "2023-09-30T15:29:36.538Z"
   },
   {
    "duration": 22,
    "start_time": "2023-09-30T15:29:36.712Z"
   },
   {
    "duration": 147,
    "start_time": "2023-09-30T15:29:36.735Z"
   },
   {
    "duration": 31,
    "start_time": "2023-09-30T15:29:36.884Z"
   },
   {
    "duration": 158,
    "start_time": "2023-09-30T15:29:36.917Z"
   },
   {
    "duration": 25,
    "start_time": "2023-09-30T15:29:37.077Z"
   },
   {
    "duration": 639,
    "start_time": "2023-09-30T15:29:37.110Z"
   },
   {
    "duration": 2,
    "start_time": "2023-09-30T15:29:37.751Z"
   },
   {
    "duration": 10,
    "start_time": "2023-09-30T15:29:37.755Z"
   },
   {
    "duration": 52,
    "start_time": "2023-09-30T15:29:37.767Z"
   },
   {
    "duration": 2,
    "start_time": "2023-09-30T15:29:37.821Z"
   },
   {
    "duration": 13,
    "start_time": "2023-09-30T15:29:37.825Z"
   },
   {
    "duration": 174,
    "start_time": "2023-09-30T15:29:37.840Z"
   },
   {
    "duration": 216,
    "start_time": "2023-09-30T15:29:38.015Z"
   },
   {
    "duration": 198,
    "start_time": "2023-09-30T15:29:38.232Z"
   },
   {
    "duration": 21,
    "start_time": "2023-09-30T15:29:38.434Z"
   },
   {
    "duration": 31,
    "start_time": "2023-09-30T15:29:38.457Z"
   },
   {
    "duration": 40,
    "start_time": "2023-09-30T15:29:38.489Z"
   },
   {
    "duration": 148,
    "start_time": "2023-09-30T15:29:38.531Z"
   },
   {
    "duration": 680,
    "start_time": "2023-09-30T15:29:38.680Z"
   },
   {
    "duration": 185,
    "start_time": "2023-09-30T15:29:39.362Z"
   },
   {
    "duration": 129,
    "start_time": "2023-09-30T15:29:39.549Z"
   },
   {
    "duration": 244,
    "start_time": "2023-09-30T15:29:39.680Z"
   },
   {
    "duration": 3,
    "start_time": "2023-09-30T15:29:39.926Z"
   },
   {
    "duration": 152,
    "start_time": "2023-09-30T15:29:39.931Z"
   },
   {
    "duration": 0,
    "start_time": "2023-09-30T15:29:40.084Z"
   },
   {
    "duration": 0,
    "start_time": "2023-09-30T15:29:40.086Z"
   },
   {
    "duration": 0,
    "start_time": "2023-09-30T15:29:40.087Z"
   },
   {
    "duration": 0,
    "start_time": "2023-09-30T15:29:40.088Z"
   },
   {
    "duration": 0,
    "start_time": "2023-09-30T15:29:40.089Z"
   },
   {
    "duration": 0,
    "start_time": "2023-09-30T15:29:40.090Z"
   },
   {
    "duration": 0,
    "start_time": "2023-09-30T15:29:40.091Z"
   },
   {
    "duration": 0,
    "start_time": "2023-09-30T15:29:40.092Z"
   },
   {
    "duration": 0,
    "start_time": "2023-09-30T15:29:40.109Z"
   },
   {
    "duration": 0,
    "start_time": "2023-09-30T15:29:40.111Z"
   },
   {
    "duration": 0,
    "start_time": "2023-09-30T15:29:40.113Z"
   },
   {
    "duration": 0,
    "start_time": "2023-09-30T15:29:40.114Z"
   },
   {
    "duration": 0,
    "start_time": "2023-09-30T15:29:40.115Z"
   },
   {
    "duration": 0,
    "start_time": "2023-09-30T15:29:40.116Z"
   },
   {
    "duration": 0,
    "start_time": "2023-09-30T15:29:40.117Z"
   },
   {
    "duration": 0,
    "start_time": "2023-09-30T15:29:40.118Z"
   },
   {
    "duration": 0,
    "start_time": "2023-09-30T15:29:40.119Z"
   },
   {
    "duration": 0,
    "start_time": "2023-09-30T15:29:40.121Z"
   },
   {
    "duration": 0,
    "start_time": "2023-09-30T15:29:40.122Z"
   },
   {
    "duration": 0,
    "start_time": "2023-09-30T15:29:40.123Z"
   },
   {
    "duration": 0,
    "start_time": "2023-09-30T15:29:40.124Z"
   },
   {
    "duration": 0,
    "start_time": "2023-09-30T15:29:40.126Z"
   },
   {
    "duration": 0,
    "start_time": "2023-09-30T15:29:40.127Z"
   },
   {
    "duration": 39,
    "start_time": "2023-09-30T15:30:04.158Z"
   },
   {
    "duration": 80,
    "start_time": "2023-09-30T15:30:05.622Z"
   },
   {
    "duration": 101,
    "start_time": "2023-09-30T15:30:10.825Z"
   },
   {
    "duration": 3,
    "start_time": "2023-09-30T15:30:12.032Z"
   },
   {
    "duration": 4339,
    "start_time": "2023-09-30T15:30:13.136Z"
   },
   {
    "duration": 10092,
    "start_time": "2023-09-30T15:31:59.549Z"
   },
   {
    "duration": 298,
    "start_time": "2023-09-30T15:32:46.692Z"
   },
   {
    "duration": 27,
    "start_time": "2023-09-30T15:34:59.152Z"
   },
   {
    "duration": 2538,
    "start_time": "2023-09-30T15:37:10.402Z"
   },
   {
    "duration": 1378,
    "start_time": "2023-09-30T15:37:12.942Z"
   },
   {
    "duration": 1230,
    "start_time": "2023-09-30T15:37:14.322Z"
   },
   {
    "duration": 19,
    "start_time": "2023-09-30T15:37:15.555Z"
   },
   {
    "duration": 122,
    "start_time": "2023-09-30T15:37:15.576Z"
   },
   {
    "duration": 445,
    "start_time": "2023-09-30T15:37:15.700Z"
   },
   {
    "duration": 109,
    "start_time": "2023-09-30T15:37:16.147Z"
   },
   {
    "duration": 590,
    "start_time": "2023-09-30T15:37:16.258Z"
   },
   {
    "duration": 87,
    "start_time": "2023-09-30T15:37:16.849Z"
   },
   {
    "duration": 9,
    "start_time": "2023-09-30T15:37:16.939Z"
   },
   {
    "duration": 878,
    "start_time": "2023-09-30T15:37:16.949Z"
   },
   {
    "duration": 27,
    "start_time": "2023-09-30T15:37:17.829Z"
   },
   {
    "duration": 167,
    "start_time": "2023-09-30T15:37:17.859Z"
   },
   {
    "duration": 22,
    "start_time": "2023-09-30T15:37:18.028Z"
   },
   {
    "duration": 222,
    "start_time": "2023-09-30T15:37:18.052Z"
   },
   {
    "duration": 23,
    "start_time": "2023-09-30T15:37:18.276Z"
   },
   {
    "duration": 154,
    "start_time": "2023-09-30T15:37:18.300Z"
   },
   {
    "duration": 25,
    "start_time": "2023-09-30T15:37:18.456Z"
   },
   {
    "duration": 675,
    "start_time": "2023-09-30T15:37:18.482Z"
   },
   {
    "duration": 3,
    "start_time": "2023-09-30T15:37:19.159Z"
   },
   {
    "duration": 18,
    "start_time": "2023-09-30T15:37:19.164Z"
   },
   {
    "duration": 66,
    "start_time": "2023-09-30T15:37:19.184Z"
   },
   {
    "duration": 3,
    "start_time": "2023-09-30T15:37:19.252Z"
   },
   {
    "duration": 18,
    "start_time": "2023-09-30T15:37:19.258Z"
   },
   {
    "duration": 207,
    "start_time": "2023-09-30T15:37:19.278Z"
   },
   {
    "duration": 214,
    "start_time": "2023-09-30T15:37:19.486Z"
   },
   {
    "duration": 200,
    "start_time": "2023-09-30T15:37:19.701Z"
   },
   {
    "duration": 22,
    "start_time": "2023-09-30T15:37:19.908Z"
   },
   {
    "duration": 29,
    "start_time": "2023-09-30T15:37:19.932Z"
   },
   {
    "duration": 22,
    "start_time": "2023-09-30T15:37:19.963Z"
   },
   {
    "duration": 164,
    "start_time": "2023-09-30T15:37:19.987Z"
   },
   {
    "duration": 659,
    "start_time": "2023-09-30T15:37:20.153Z"
   },
   {
    "duration": 178,
    "start_time": "2023-09-30T15:37:20.813Z"
   },
   {
    "duration": 112,
    "start_time": "2023-09-30T15:37:20.993Z"
   },
   {
    "duration": 128,
    "start_time": "2023-09-30T15:37:21.110Z"
   },
   {
    "duration": 4,
    "start_time": "2023-09-30T15:37:21.240Z"
   },
   {
    "duration": 49,
    "start_time": "2023-09-30T15:37:21.246Z"
   },
   {
    "duration": 114,
    "start_time": "2023-09-30T15:37:21.297Z"
   },
   {
    "duration": 5,
    "start_time": "2023-09-30T15:37:21.413Z"
   },
   {
    "duration": 6206,
    "start_time": "2023-09-30T15:37:21.419Z"
   },
   {
    "duration": 300,
    "start_time": "2023-09-30T15:37:27.627Z"
   },
   {
    "duration": 434,
    "start_time": "2023-09-30T15:37:27.929Z"
   },
   {
    "duration": 4,
    "start_time": "2023-09-30T15:37:28.365Z"
   },
   {
    "duration": 9,
    "start_time": "2023-09-30T15:37:28.370Z"
   },
   {
    "duration": 12,
    "start_time": "2023-09-30T15:37:28.381Z"
   },
   {
    "duration": 183,
    "start_time": "2023-09-30T15:37:28.395Z"
   },
   {
    "duration": 0,
    "start_time": "2023-09-30T15:37:28.581Z"
   },
   {
    "duration": 0,
    "start_time": "2023-09-30T15:37:28.583Z"
   },
   {
    "duration": 0,
    "start_time": "2023-09-30T15:37:28.585Z"
   },
   {
    "duration": 0,
    "start_time": "2023-09-30T15:37:28.587Z"
   },
   {
    "duration": 0,
    "start_time": "2023-09-30T15:37:28.588Z"
   },
   {
    "duration": 0,
    "start_time": "2023-09-30T15:37:28.590Z"
   },
   {
    "duration": 0,
    "start_time": "2023-09-30T15:37:28.591Z"
   },
   {
    "duration": 0,
    "start_time": "2023-09-30T15:37:28.592Z"
   },
   {
    "duration": 0,
    "start_time": "2023-09-30T15:37:28.594Z"
   },
   {
    "duration": 1,
    "start_time": "2023-09-30T15:37:28.609Z"
   },
   {
    "duration": 0,
    "start_time": "2023-09-30T15:37:28.611Z"
   },
   {
    "duration": 0,
    "start_time": "2023-09-30T15:37:28.612Z"
   },
   {
    "duration": 0,
    "start_time": "2023-09-30T15:37:28.613Z"
   },
   {
    "duration": 0,
    "start_time": "2023-09-30T15:37:28.615Z"
   },
   {
    "duration": 0,
    "start_time": "2023-09-30T15:37:28.616Z"
   },
   {
    "duration": 23386,
    "start_time": "2023-09-30T15:39:30.184Z"
   },
   {
    "duration": 443301,
    "start_time": "2023-09-30T15:40:55.061Z"
   },
   {
    "duration": 457854,
    "start_time": "2023-09-30T15:48:25.219Z"
   },
   {
    "duration": 10,
    "start_time": "2023-09-30T15:56:17.479Z"
   },
   {
    "duration": 218153,
    "start_time": "2023-09-30T15:56:27.705Z"
   },
   {
    "duration": 11,
    "start_time": "2023-09-30T16:08:57.189Z"
   },
   {
    "duration": 3,
    "start_time": "2023-09-30T16:09:01.081Z"
   },
   {
    "duration": 11,
    "start_time": "2023-09-30T16:09:03.451Z"
   },
   {
    "duration": 12,
    "start_time": "2023-09-30T16:09:25.185Z"
   },
   {
    "duration": 664,
    "start_time": "2023-09-30T16:09:59.262Z"
   },
   {
    "duration": 3,
    "start_time": "2023-09-30T16:10:27.331Z"
   },
   {
    "duration": 679,
    "start_time": "2023-09-30T16:10:28.854Z"
   },
   {
    "duration": 1291,
    "start_time": "2023-09-30T16:13:16.232Z"
   },
   {
    "duration": 1240,
    "start_time": "2023-09-30T16:13:33.085Z"
   },
   {
    "duration": 12,
    "start_time": "2023-09-30T16:16:04.452Z"
   },
   {
    "duration": 11988,
    "start_time": "2023-09-30T16:16:11.042Z"
   },
   {
    "duration": 16,
    "start_time": "2023-09-30T16:17:43.659Z"
   },
   {
    "duration": 16,
    "start_time": "2023-09-30T16:18:07.616Z"
   },
   {
    "duration": 16,
    "start_time": "2023-09-30T16:18:16.309Z"
   },
   {
    "duration": 15102,
    "start_time": "2023-09-30T16:21:31.896Z"
   },
   {
    "duration": 12,
    "start_time": "2023-09-30T16:22:14.001Z"
   },
   {
    "duration": 12,
    "start_time": "2023-09-30T16:23:31.231Z"
   },
   {
    "duration": 46,
    "start_time": "2023-09-30T16:24:07.843Z"
   },
   {
    "duration": 18417,
    "start_time": "2023-09-30T16:24:39.375Z"
   },
   {
    "duration": 0,
    "start_time": "2023-09-30T16:26:15.018Z"
   },
   {
    "duration": 11741,
    "start_time": "2023-09-30T16:26:19.178Z"
   },
   {
    "duration": 10456,
    "start_time": "2023-09-30T16:27:06.975Z"
   },
   {
    "duration": 44,
    "start_time": "2023-09-30T16:28:20.687Z"
   },
   {
    "duration": 22565,
    "start_time": "2023-09-30T16:28:38.533Z"
   },
   {
    "duration": 19473,
    "start_time": "2023-09-30T16:29:10.521Z"
   },
   {
    "duration": 15515,
    "start_time": "2023-09-30T16:31:10.032Z"
   },
   {
    "duration": 3,
    "start_time": "2023-09-30T16:32:13.565Z"
   },
   {
    "duration": 42,
    "start_time": "2023-09-30T16:32:29.782Z"
   },
   {
    "duration": 4,
    "start_time": "2023-09-30T16:32:44.593Z"
   },
   {
    "duration": 2,
    "start_time": "2023-09-30T16:34:11.723Z"
   },
   {
    "duration": 28,
    "start_time": "2023-09-30T16:35:20.822Z"
   },
   {
    "duration": 34,
    "start_time": "2023-09-30T16:35:41.379Z"
   },
   {
    "duration": 21,
    "start_time": "2023-09-30T16:37:16.682Z"
   },
   {
    "duration": 5,
    "start_time": "2023-09-30T16:37:35.700Z"
   },
   {
    "duration": 4,
    "start_time": "2023-09-30T16:37:53.762Z"
   },
   {
    "duration": 16287,
    "start_time": "2023-09-30T16:37:57.657Z"
   },
   {
    "duration": 5,
    "start_time": "2023-09-30T16:38:18.400Z"
   },
   {
    "duration": 101,
    "start_time": "2023-09-30T16:39:16.862Z"
   },
   {
    "duration": 108743,
    "start_time": "2023-09-30T16:39:23.016Z"
   },
   {
    "duration": 4,
    "start_time": "2023-09-30T16:41:26.376Z"
   },
   {
    "duration": 10,
    "start_time": "2023-09-30T16:41:38.044Z"
   },
   {
    "duration": 3,
    "start_time": "2023-09-30T16:42:04.825Z"
   },
   {
    "duration": 3,
    "start_time": "2023-09-30T16:42:08.063Z"
   },
   {
    "duration": 4,
    "start_time": "2023-09-30T16:42:08.471Z"
   },
   {
    "duration": 116,
    "start_time": "2023-09-30T16:42:13.016Z"
   },
   {
    "duration": 4,
    "start_time": "2023-09-30T16:44:44.134Z"
   },
   {
    "duration": 121,
    "start_time": "2023-09-30T16:44:47.575Z"
   },
   {
    "duration": 4793,
    "start_time": "2023-09-30T16:45:52.621Z"
   },
   {
    "duration": 119,
    "start_time": "2023-09-30T16:46:32.706Z"
   },
   {
    "duration": 4,
    "start_time": "2023-09-30T16:46:48.176Z"
   },
   {
    "duration": 103,
    "start_time": "2023-09-30T16:46:52.362Z"
   },
   {
    "duration": 4,
    "start_time": "2023-09-30T16:48:01.986Z"
   },
   {
    "duration": 4,
    "start_time": "2023-09-30T16:48:02.373Z"
   },
   {
    "duration": 14605,
    "start_time": "2023-09-30T16:48:05.787Z"
   },
   {
    "duration": 139,
    "start_time": "2023-09-30T16:48:23.435Z"
   },
   {
    "duration": 13734,
    "start_time": "2023-09-30T16:49:46.368Z"
   },
   {
    "duration": 4,
    "start_time": "2023-09-30T16:50:13.980Z"
   },
   {
    "duration": 13924,
    "start_time": "2023-09-30T16:50:14.989Z"
   },
   {
    "duration": 14172,
    "start_time": "2023-09-30T16:52:04.927Z"
   },
   {
    "duration": 4,
    "start_time": "2023-09-30T16:52:21.868Z"
   },
   {
    "duration": 14267,
    "start_time": "2023-09-30T16:52:22.356Z"
   },
   {
    "duration": 5,
    "start_time": "2023-09-30T16:52:47.107Z"
   },
   {
    "duration": 207,
    "start_time": "2023-09-30T16:52:48.395Z"
   },
   {
    "duration": 5,
    "start_time": "2023-09-30T16:53:50.601Z"
   },
   {
    "duration": 14462,
    "start_time": "2023-09-30T16:53:50.968Z"
   },
   {
    "duration": 4,
    "start_time": "2023-09-30T16:54:05.434Z"
   },
   {
    "duration": 120,
    "start_time": "2023-09-30T16:54:05.440Z"
   },
   {
    "duration": 4,
    "start_time": "2023-09-30T16:54:49.222Z"
   },
   {
    "duration": 14393,
    "start_time": "2023-09-30T16:54:49.759Z"
   },
   {
    "duration": 4,
    "start_time": "2023-09-30T16:55:09.401Z"
   },
   {
    "duration": 166,
    "start_time": "2023-09-30T16:55:10.003Z"
   },
   {
    "duration": 4588,
    "start_time": "2023-09-30T16:55:28.876Z"
   },
   {
    "duration": 2734,
    "start_time": "2023-09-30T16:55:33.466Z"
   },
   {
    "duration": 1175,
    "start_time": "2023-09-30T16:55:36.205Z"
   },
   {
    "duration": 19,
    "start_time": "2023-09-30T16:55:37.382Z"
   },
   {
    "duration": 120,
    "start_time": "2023-09-30T16:55:37.410Z"
   },
   {
    "duration": 470,
    "start_time": "2023-09-30T16:55:37.532Z"
   },
   {
    "duration": 101,
    "start_time": "2023-09-30T16:55:38.010Z"
   },
   {
    "duration": 603,
    "start_time": "2023-09-30T16:55:38.113Z"
   },
   {
    "duration": 90,
    "start_time": "2023-09-30T16:55:38.720Z"
   },
   {
    "duration": 9,
    "start_time": "2023-09-30T16:55:38.812Z"
   },
   {
    "duration": 836,
    "start_time": "2023-09-30T16:55:38.823Z"
   },
   {
    "duration": 24,
    "start_time": "2023-09-30T16:55:39.661Z"
   },
   {
    "duration": 148,
    "start_time": "2023-09-30T16:55:39.687Z"
   },
   {
    "duration": 22,
    "start_time": "2023-09-30T16:55:39.838Z"
   },
   {
    "duration": 157,
    "start_time": "2023-09-30T16:55:39.861Z"
   },
   {
    "duration": 23,
    "start_time": "2023-09-30T16:55:40.020Z"
   },
   {
    "duration": 151,
    "start_time": "2023-09-30T16:55:40.045Z"
   },
   {
    "duration": 28,
    "start_time": "2023-09-30T16:55:40.198Z"
   },
   {
    "duration": 701,
    "start_time": "2023-09-30T16:55:40.227Z"
   },
   {
    "duration": 3,
    "start_time": "2023-09-30T16:55:40.929Z"
   },
   {
    "duration": 22,
    "start_time": "2023-09-30T16:55:40.933Z"
   },
   {
    "duration": 49,
    "start_time": "2023-09-30T16:55:40.957Z"
   },
   {
    "duration": 3,
    "start_time": "2023-09-30T16:55:41.008Z"
   },
   {
    "duration": 11,
    "start_time": "2023-09-30T16:55:41.013Z"
   },
   {
    "duration": 176,
    "start_time": "2023-09-30T16:55:41.026Z"
   },
   {
    "duration": 218,
    "start_time": "2023-09-30T16:55:41.204Z"
   },
   {
    "duration": 198,
    "start_time": "2023-09-30T16:55:41.426Z"
   },
   {
    "duration": 21,
    "start_time": "2023-09-30T16:55:41.626Z"
   },
   {
    "duration": 29,
    "start_time": "2023-09-30T16:55:41.649Z"
   },
   {
    "duration": 46,
    "start_time": "2023-09-30T16:55:41.680Z"
   },
   {
    "duration": 49,
    "start_time": "2023-09-30T16:55:41.728Z"
   },
   {
    "duration": 746,
    "start_time": "2023-09-30T16:55:41.779Z"
   },
   {
    "duration": 227,
    "start_time": "2023-09-30T16:55:42.527Z"
   },
   {
    "duration": 110,
    "start_time": "2023-09-30T16:55:42.756Z"
   },
   {
    "duration": 126,
    "start_time": "2023-09-30T16:55:42.868Z"
   },
   {
    "duration": 4,
    "start_time": "2023-09-30T16:55:42.996Z"
   },
   {
    "duration": 43,
    "start_time": "2023-09-30T16:55:43.009Z"
   },
   {
    "duration": 126,
    "start_time": "2023-09-30T16:55:43.054Z"
   },
   {
    "duration": 3,
    "start_time": "2023-09-30T16:55:43.182Z"
   },
   {
    "duration": 7324,
    "start_time": "2023-09-30T16:55:43.187Z"
   },
   {
    "duration": 298,
    "start_time": "2023-09-30T16:55:50.513Z"
   },
   {
    "duration": 397,
    "start_time": "2023-09-30T16:55:50.812Z"
   },
   {
    "duration": 2,
    "start_time": "2023-09-30T16:55:51.211Z"
   },
   {
    "duration": 9,
    "start_time": "2023-09-30T16:55:51.215Z"
   },
   {
    "duration": 20,
    "start_time": "2023-09-30T16:55:51.226Z"
   },
   {
    "duration": 25,
    "start_time": "2023-09-30T16:55:51.248Z"
   },
   {
    "duration": 2613,
    "start_time": "2023-09-30T16:56:21.098Z"
   },
   {
    "duration": 1436,
    "start_time": "2023-09-30T16:56:23.714Z"
   },
   {
    "duration": 1188,
    "start_time": "2023-09-30T16:56:25.152Z"
   },
   {
    "duration": 19,
    "start_time": "2023-09-30T16:56:26.343Z"
   },
   {
    "duration": 125,
    "start_time": "2023-09-30T16:56:26.364Z"
   },
   {
    "duration": 482,
    "start_time": "2023-09-30T16:56:26.491Z"
   },
   {
    "duration": 110,
    "start_time": "2023-09-30T16:56:26.975Z"
   },
   {
    "duration": 624,
    "start_time": "2023-09-30T16:56:27.087Z"
   },
   {
    "duration": 81,
    "start_time": "2023-09-30T16:56:27.713Z"
   },
   {
    "duration": 20,
    "start_time": "2023-09-30T16:56:27.797Z"
   },
   {
    "duration": 892,
    "start_time": "2023-09-30T16:56:27.819Z"
   },
   {
    "duration": 26,
    "start_time": "2023-09-30T16:56:28.714Z"
   },
   {
    "duration": 217,
    "start_time": "2023-09-30T16:56:28.742Z"
   },
   {
    "duration": 22,
    "start_time": "2023-09-30T16:56:28.961Z"
   },
   {
    "duration": 153,
    "start_time": "2023-09-30T16:56:28.985Z"
   },
   {
    "duration": 24,
    "start_time": "2023-09-30T16:56:29.140Z"
   },
   {
    "duration": 155,
    "start_time": "2023-09-30T16:56:29.166Z"
   },
   {
    "duration": 23,
    "start_time": "2023-09-30T16:56:29.323Z"
   },
   {
    "duration": 665,
    "start_time": "2023-09-30T16:56:29.348Z"
   },
   {
    "duration": 2,
    "start_time": "2023-09-30T16:56:30.015Z"
   },
   {
    "duration": 55,
    "start_time": "2023-09-30T16:56:30.019Z"
   },
   {
    "duration": 83,
    "start_time": "2023-09-30T16:56:30.077Z"
   },
   {
    "duration": 7,
    "start_time": "2023-09-30T16:56:30.162Z"
   },
   {
    "duration": 20,
    "start_time": "2023-09-30T16:56:30.170Z"
   },
   {
    "duration": 185,
    "start_time": "2023-09-30T16:56:30.192Z"
   },
   {
    "duration": 219,
    "start_time": "2023-09-30T16:56:30.378Z"
   },
   {
    "duration": 214,
    "start_time": "2023-09-30T16:56:30.599Z"
   },
   {
    "duration": 23,
    "start_time": "2023-09-30T16:56:30.817Z"
   },
   {
    "duration": 123,
    "start_time": "2023-09-30T16:56:30.841Z"
   },
   {
    "duration": 57,
    "start_time": "2023-09-30T16:56:30.966Z"
   },
   {
    "duration": 190,
    "start_time": "2023-09-30T16:56:31.025Z"
   },
   {
    "duration": 722,
    "start_time": "2023-09-30T16:56:31.217Z"
   },
   {
    "duration": 194,
    "start_time": "2023-09-30T16:56:31.941Z"
   },
   {
    "duration": 198,
    "start_time": "2023-09-30T16:56:32.136Z"
   },
   {
    "duration": 187,
    "start_time": "2023-09-30T16:56:32.336Z"
   },
   {
    "duration": 6,
    "start_time": "2023-09-30T16:56:32.525Z"
   },
   {
    "duration": 34,
    "start_time": "2023-09-30T16:56:32.533Z"
   },
   {
    "duration": 147,
    "start_time": "2023-09-30T16:56:32.569Z"
   },
   {
    "duration": 4,
    "start_time": "2023-09-30T16:56:32.718Z"
   },
   {
    "duration": 7346,
    "start_time": "2023-09-30T16:56:32.724Z"
   },
   {
    "duration": 286,
    "start_time": "2023-09-30T16:56:40.072Z"
   },
   {
    "duration": 388,
    "start_time": "2023-09-30T16:56:40.361Z"
   },
   {
    "duration": 4,
    "start_time": "2023-09-30T16:56:40.751Z"
   },
   {
    "duration": 5,
    "start_time": "2023-09-30T16:56:40.757Z"
   },
   {
    "duration": 11,
    "start_time": "2023-09-30T16:56:40.763Z"
   },
   {
    "duration": 41810,
    "start_time": "2023-09-30T16:56:40.776Z"
   },
   {
    "duration": 289259,
    "start_time": "2023-09-30T16:57:22.588Z"
   },
   {
    "duration": 0,
    "start_time": "2023-09-30T17:02:11.849Z"
   },
   {
    "duration": 0,
    "start_time": "2023-09-30T17:02:11.851Z"
   },
   {
    "duration": 0,
    "start_time": "2023-09-30T17:02:11.852Z"
   },
   {
    "duration": 0,
    "start_time": "2023-09-30T17:02:11.852Z"
   },
   {
    "duration": 0,
    "start_time": "2023-09-30T17:02:11.854Z"
   },
   {
    "duration": 0,
    "start_time": "2023-09-30T17:02:11.855Z"
   },
   {
    "duration": 0,
    "start_time": "2023-09-30T17:02:11.856Z"
   },
   {
    "duration": 0,
    "start_time": "2023-09-30T17:02:11.857Z"
   },
   {
    "duration": 0,
    "start_time": "2023-09-30T17:02:11.858Z"
   },
   {
    "duration": 0,
    "start_time": "2023-09-30T17:02:11.859Z"
   },
   {
    "duration": 0,
    "start_time": "2023-09-30T17:02:11.860Z"
   },
   {
    "duration": 0,
    "start_time": "2023-09-30T17:02:11.861Z"
   },
   {
    "duration": 0,
    "start_time": "2023-09-30T17:02:11.862Z"
   },
   {
    "duration": 1,
    "start_time": "2023-09-30T17:02:11.910Z"
   },
   {
    "duration": 15,
    "start_time": "2023-09-30T17:02:13.227Z"
   },
   {
    "duration": 132453,
    "start_time": "2023-09-30T17:02:22.444Z"
   },
   {
    "duration": 94115,
    "start_time": "2023-09-30T17:04:35.878Z"
   },
   {
    "duration": 4,
    "start_time": "2023-09-30T17:06:09.996Z"
   },
   {
    "duration": 12,
    "start_time": "2023-09-30T17:06:10.009Z"
   },
   {
    "duration": 171,
    "start_time": "2023-09-30T17:06:10.023Z"
   },
   {
    "duration": 42528,
    "start_time": "2023-09-30T17:06:23.318Z"
   },
   {
    "duration": 11263,
    "start_time": "2023-09-30T17:07:15.976Z"
   },
   {
    "duration": 5,
    "start_time": "2023-09-30T17:07:30.918Z"
   },
   {
    "duration": 2112,
    "start_time": "2023-10-01T15:41:34.677Z"
   },
   {
    "duration": 8522,
    "start_time": "2023-10-01T15:42:36.177Z"
   },
   {
    "duration": 3222,
    "start_time": "2023-10-01T15:42:44.701Z"
   },
   {
    "duration": 1840,
    "start_time": "2023-10-01T15:42:47.925Z"
   },
   {
    "duration": 1598,
    "start_time": "2023-10-01T15:42:49.768Z"
   },
   {
    "duration": 19,
    "start_time": "2023-10-01T15:42:51.368Z"
   },
   {
    "duration": 120,
    "start_time": "2023-10-01T15:42:51.389Z"
   },
   {
    "duration": 490,
    "start_time": "2023-10-01T15:42:51.511Z"
   },
   {
    "duration": 119,
    "start_time": "2023-10-01T15:42:52.003Z"
   },
   {
    "duration": 754,
    "start_time": "2023-10-01T15:42:52.125Z"
   },
   {
    "duration": 101,
    "start_time": "2023-10-01T15:42:52.882Z"
   },
   {
    "duration": 9,
    "start_time": "2023-10-01T15:42:52.985Z"
   },
   {
    "duration": 938,
    "start_time": "2023-10-01T15:42:52.996Z"
   },
   {
    "duration": 217051,
    "start_time": "2023-10-01T15:42:53.936Z"
   },
   {
    "duration": 0,
    "start_time": "2023-10-01T15:46:30.990Z"
   },
   {
    "duration": 0,
    "start_time": "2023-10-01T15:46:30.992Z"
   },
   {
    "duration": 0,
    "start_time": "2023-10-01T15:46:30.994Z"
   },
   {
    "duration": 0,
    "start_time": "2023-10-01T15:46:30.996Z"
   },
   {
    "duration": 0,
    "start_time": "2023-10-01T15:46:30.997Z"
   },
   {
    "duration": 0,
    "start_time": "2023-10-01T15:46:30.999Z"
   },
   {
    "duration": 0,
    "start_time": "2023-10-01T15:46:31.001Z"
   },
   {
    "duration": 0,
    "start_time": "2023-10-01T15:46:31.003Z"
   },
   {
    "duration": 0,
    "start_time": "2023-10-01T15:46:31.004Z"
   },
   {
    "duration": 0,
    "start_time": "2023-10-01T15:46:31.006Z"
   },
   {
    "duration": 0,
    "start_time": "2023-10-01T15:46:31.008Z"
   },
   {
    "duration": 0,
    "start_time": "2023-10-01T15:46:31.009Z"
   },
   {
    "duration": 0,
    "start_time": "2023-10-01T15:46:31.011Z"
   },
   {
    "duration": 0,
    "start_time": "2023-10-01T15:46:31.013Z"
   },
   {
    "duration": 0,
    "start_time": "2023-10-01T15:46:31.052Z"
   },
   {
    "duration": 0,
    "start_time": "2023-10-01T15:46:31.053Z"
   },
   {
    "duration": 0,
    "start_time": "2023-10-01T15:46:31.056Z"
   },
   {
    "duration": 0,
    "start_time": "2023-10-01T15:46:31.057Z"
   },
   {
    "duration": 0,
    "start_time": "2023-10-01T15:46:31.060Z"
   },
   {
    "duration": 0,
    "start_time": "2023-10-01T15:46:31.062Z"
   },
   {
    "duration": 0,
    "start_time": "2023-10-01T15:46:31.065Z"
   },
   {
    "duration": 0,
    "start_time": "2023-10-01T15:46:31.066Z"
   },
   {
    "duration": 0,
    "start_time": "2023-10-01T15:46:31.067Z"
   },
   {
    "duration": 0,
    "start_time": "2023-10-01T15:46:31.069Z"
   },
   {
    "duration": 0,
    "start_time": "2023-10-01T15:46:31.070Z"
   },
   {
    "duration": 0,
    "start_time": "2023-10-01T15:46:31.071Z"
   },
   {
    "duration": 0,
    "start_time": "2023-10-01T15:46:31.072Z"
   },
   {
    "duration": 0,
    "start_time": "2023-10-01T15:46:31.073Z"
   },
   {
    "duration": 0,
    "start_time": "2023-10-01T15:46:31.075Z"
   },
   {
    "duration": 0,
    "start_time": "2023-10-01T15:46:31.076Z"
   },
   {
    "duration": 0,
    "start_time": "2023-10-01T15:46:31.078Z"
   },
   {
    "duration": 0,
    "start_time": "2023-10-01T15:46:31.079Z"
   },
   {
    "duration": 0,
    "start_time": "2023-10-01T15:46:31.081Z"
   },
   {
    "duration": 0,
    "start_time": "2023-10-01T15:46:31.083Z"
   },
   {
    "duration": 0,
    "start_time": "2023-10-01T15:46:31.084Z"
   },
   {
    "duration": 0,
    "start_time": "2023-10-01T15:46:31.085Z"
   },
   {
    "duration": 0,
    "start_time": "2023-10-01T15:46:31.087Z"
   },
   {
    "duration": 0,
    "start_time": "2023-10-01T15:46:31.088Z"
   },
   {
    "duration": 0,
    "start_time": "2023-10-01T15:46:31.090Z"
   },
   {
    "duration": 0,
    "start_time": "2023-10-01T15:46:31.092Z"
   },
   {
    "duration": 0,
    "start_time": "2023-10-01T15:46:31.093Z"
   },
   {
    "duration": 0,
    "start_time": "2023-10-01T15:46:31.147Z"
   },
   {
    "duration": 0,
    "start_time": "2023-10-01T15:46:31.148Z"
   },
   {
    "duration": 0,
    "start_time": "2023-10-01T15:46:31.151Z"
   },
   {
    "duration": 0,
    "start_time": "2023-10-01T15:46:31.152Z"
   },
   {
    "duration": 0,
    "start_time": "2023-10-01T15:46:31.153Z"
   },
   {
    "duration": 0,
    "start_time": "2023-10-01T15:46:31.153Z"
   },
   {
    "duration": 0,
    "start_time": "2023-10-01T15:46:31.154Z"
   },
   {
    "duration": 0,
    "start_time": "2023-10-01T15:46:31.160Z"
   },
   {
    "duration": 1393,
    "start_time": "2023-10-01T15:46:35.370Z"
   },
   {
    "duration": 11,
    "start_time": "2023-10-01T15:49:58.369Z"
   },
   {
    "duration": 22864,
    "start_time": "2023-10-01T15:50:09.821Z"
   },
   {
    "duration": 22394,
    "start_time": "2023-10-01T15:51:08.667Z"
   },
   {
    "duration": 43788,
    "start_time": "2023-10-01T15:53:12.430Z"
   },
   {
    "duration": 12,
    "start_time": "2023-10-01T16:05:57.073Z"
   },
   {
    "duration": 29501,
    "start_time": "2023-10-01T16:06:01.976Z"
   },
   {
    "duration": 103,
    "start_time": "2023-10-01T16:20:16.175Z"
   },
   {
    "duration": 2757,
    "start_time": "2023-10-01T16:20:27.741Z"
   },
   {
    "duration": 2677,
    "start_time": "2023-10-01T16:20:30.501Z"
   },
   {
    "duration": 2492,
    "start_time": "2023-10-01T16:20:33.180Z"
   },
   {
    "duration": 1559,
    "start_time": "2023-10-01T16:20:35.674Z"
   },
   {
    "duration": 29,
    "start_time": "2023-10-01T16:20:37.236Z"
   },
   {
    "duration": 126,
    "start_time": "2023-10-01T16:20:37.267Z"
   },
   {
    "duration": 485,
    "start_time": "2023-10-01T16:20:37.395Z"
   },
   {
    "duration": 115,
    "start_time": "2023-10-01T16:20:37.882Z"
   },
   {
    "duration": 692,
    "start_time": "2023-10-01T16:20:37.999Z"
   },
   {
    "duration": 94,
    "start_time": "2023-10-01T16:20:38.692Z"
   },
   {
    "duration": 9,
    "start_time": "2023-10-01T16:20:38.788Z"
   },
   {
    "duration": 965,
    "start_time": "2023-10-01T16:20:38.799Z"
   },
   {
    "duration": 3,
    "start_time": "2023-10-01T16:20:39.766Z"
   },
   {
    "duration": 46,
    "start_time": "2023-10-01T16:20:39.772Z"
   },
   {
    "duration": 195,
    "start_time": "2023-10-01T16:20:39.821Z"
   },
   {
    "duration": 29,
    "start_time": "2023-10-01T16:20:40.019Z"
   },
   {
    "duration": 182,
    "start_time": "2023-10-01T16:20:40.056Z"
   },
   {
    "duration": 35,
    "start_time": "2023-10-01T16:20:40.240Z"
   },
   {
    "duration": 192,
    "start_time": "2023-10-01T16:20:40.278Z"
   },
   {
    "duration": 28,
    "start_time": "2023-10-01T16:20:40.471Z"
   },
   {
    "duration": 751,
    "start_time": "2023-10-01T16:20:40.501Z"
   },
   {
    "duration": 7,
    "start_time": "2023-10-01T16:20:41.254Z"
   },
   {
    "duration": 7,
    "start_time": "2023-10-01T16:20:41.262Z"
   },
   {
    "duration": 45,
    "start_time": "2023-10-01T16:20:41.271Z"
   },
   {
    "duration": 3,
    "start_time": "2023-10-01T16:20:41.317Z"
   },
   {
    "duration": 28,
    "start_time": "2023-10-01T16:20:41.322Z"
   },
   {
    "duration": 178,
    "start_time": "2023-10-01T16:20:41.356Z"
   },
   {
    "duration": 238,
    "start_time": "2023-10-01T16:20:41.536Z"
   },
   {
    "duration": 212,
    "start_time": "2023-10-01T16:20:41.776Z"
   },
   {
    "duration": 21,
    "start_time": "2023-10-01T16:20:41.990Z"
   },
   {
    "duration": 49,
    "start_time": "2023-10-01T16:20:42.013Z"
   },
   {
    "duration": 27,
    "start_time": "2023-10-01T16:20:42.064Z"
   },
   {
    "duration": 82,
    "start_time": "2023-10-01T16:20:42.093Z"
   },
   {
    "duration": 725,
    "start_time": "2023-10-01T16:20:42.178Z"
   },
   {
    "duration": 200,
    "start_time": "2023-10-01T16:20:42.905Z"
   },
   {
    "duration": 121,
    "start_time": "2023-10-01T16:20:43.106Z"
   },
   {
    "duration": 137,
    "start_time": "2023-10-01T16:20:43.229Z"
   },
   {
    "duration": 4,
    "start_time": "2023-10-01T16:20:43.368Z"
   },
   {
    "duration": 51,
    "start_time": "2023-10-01T16:20:43.374Z"
   },
   {
    "duration": 129,
    "start_time": "2023-10-01T16:20:43.427Z"
   },
   {
    "duration": 3,
    "start_time": "2023-10-01T16:20:43.564Z"
   },
   {
    "duration": 6419,
    "start_time": "2023-10-01T16:20:43.569Z"
   },
   {
    "duration": 318,
    "start_time": "2023-10-01T16:20:49.990Z"
   },
   {
    "duration": 448,
    "start_time": "2023-10-01T16:20:50.310Z"
   },
   {
    "duration": 3,
    "start_time": "2023-10-01T16:20:50.760Z"
   },
   {
    "duration": 14,
    "start_time": "2023-10-01T16:20:50.765Z"
   },
   {
    "duration": 25,
    "start_time": "2023-10-01T16:20:50.780Z"
   },
   {
    "duration": 141699,
    "start_time": "2023-10-01T16:20:50.806Z"
   },
   {
    "duration": 11,
    "start_time": "2023-10-01T16:23:12.507Z"
   },
   {
    "duration": 0,
    "start_time": "2023-10-01T16:23:12.519Z"
   },
   {
    "duration": 0,
    "start_time": "2023-10-01T16:23:12.520Z"
   },
   {
    "duration": 0,
    "start_time": "2023-10-01T16:23:12.522Z"
   },
   {
    "duration": 0,
    "start_time": "2023-10-01T16:23:12.524Z"
   },
   {
    "duration": 0,
    "start_time": "2023-10-01T16:23:12.526Z"
   },
   {
    "duration": 0,
    "start_time": "2023-10-01T16:23:12.527Z"
   },
   {
    "duration": 0,
    "start_time": "2023-10-01T16:23:12.529Z"
   },
   {
    "duration": 0,
    "start_time": "2023-10-01T16:23:12.530Z"
   },
   {
    "duration": 0,
    "start_time": "2023-10-01T16:23:12.532Z"
   },
   {
    "duration": 0,
    "start_time": "2023-10-01T16:23:12.533Z"
   },
   {
    "duration": 0,
    "start_time": "2023-10-01T16:23:12.534Z"
   },
   {
    "duration": 0,
    "start_time": "2023-10-01T16:23:12.536Z"
   },
   {
    "duration": 148137,
    "start_time": "2023-10-01T16:23:51.649Z"
   },
   {
    "duration": 98066,
    "start_time": "2023-10-01T16:28:32.548Z"
   },
   {
    "duration": 4,
    "start_time": "2023-10-01T16:32:36.743Z"
   },
   {
    "duration": 2613,
    "start_time": "2023-10-01T16:52:21.146Z"
   },
   {
    "duration": 2528,
    "start_time": "2023-10-01T16:52:23.761Z"
   },
   {
    "duration": 1461,
    "start_time": "2023-10-01T16:52:26.291Z"
   },
   {
    "duration": 1130,
    "start_time": "2023-10-01T16:52:27.754Z"
   },
   {
    "duration": 23,
    "start_time": "2023-10-01T16:52:28.886Z"
   },
   {
    "duration": 142,
    "start_time": "2023-10-01T16:52:28.913Z"
   },
   {
    "duration": 464,
    "start_time": "2023-10-01T16:52:29.057Z"
   },
   {
    "duration": 101,
    "start_time": "2023-10-01T16:52:29.523Z"
   },
   {
    "duration": 736,
    "start_time": "2023-10-01T16:52:29.625Z"
   },
   {
    "duration": 95,
    "start_time": "2023-10-01T16:52:30.364Z"
   },
   {
    "duration": 14,
    "start_time": "2023-10-01T16:52:30.462Z"
   },
   {
    "duration": 935,
    "start_time": "2023-10-01T16:52:30.478Z"
   },
   {
    "duration": 2,
    "start_time": "2023-10-01T16:52:31.416Z"
   },
   {
    "duration": 49,
    "start_time": "2023-10-01T16:52:31.420Z"
   },
   {
    "duration": 179,
    "start_time": "2023-10-01T16:52:31.471Z"
   },
   {
    "duration": 24,
    "start_time": "2023-10-01T16:52:31.652Z"
   },
   {
    "duration": 169,
    "start_time": "2023-10-01T16:52:31.678Z"
   },
   {
    "duration": 24,
    "start_time": "2023-10-01T16:52:31.849Z"
   },
   {
    "duration": 186,
    "start_time": "2023-10-01T16:52:31.874Z"
   },
   {
    "duration": 25,
    "start_time": "2023-10-01T16:52:32.062Z"
   },
   {
    "duration": 718,
    "start_time": "2023-10-01T16:52:32.089Z"
   },
   {
    "duration": 3,
    "start_time": "2023-10-01T16:52:32.809Z"
   },
   {
    "duration": 69,
    "start_time": "2023-10-01T16:52:32.813Z"
   },
   {
    "duration": 44,
    "start_time": "2023-10-01T16:52:32.884Z"
   },
   {
    "duration": 19,
    "start_time": "2023-10-01T16:52:32.930Z"
   },
   {
    "duration": 189,
    "start_time": "2023-10-01T16:52:32.950Z"
   },
   {
    "duration": 221,
    "start_time": "2023-10-01T16:52:33.141Z"
   },
   {
    "duration": 202,
    "start_time": "2023-10-01T16:52:33.367Z"
   },
   {
    "duration": 23,
    "start_time": "2023-10-01T16:52:33.570Z"
   },
   {
    "duration": 33,
    "start_time": "2023-10-01T16:52:33.594Z"
   },
   {
    "duration": 22,
    "start_time": "2023-10-01T16:52:33.647Z"
   },
   {
    "duration": 50,
    "start_time": "2023-10-01T16:52:33.671Z"
   },
   {
    "duration": 654,
    "start_time": "2023-10-01T16:52:33.722Z"
   },
   {
    "duration": 186,
    "start_time": "2023-10-01T16:52:34.378Z"
   },
   {
    "duration": 106,
    "start_time": "2023-10-01T16:52:34.566Z"
   },
   {
    "duration": 133,
    "start_time": "2023-10-01T16:52:34.673Z"
   },
   {
    "duration": 4,
    "start_time": "2023-10-01T16:52:34.808Z"
   },
   {
    "duration": 53,
    "start_time": "2023-10-01T16:52:34.813Z"
   },
   {
    "duration": 134,
    "start_time": "2023-10-01T16:52:34.868Z"
   },
   {
    "duration": 3,
    "start_time": "2023-10-01T16:52:35.005Z"
   },
   {
    "duration": 6612,
    "start_time": "2023-10-01T16:52:35.010Z"
   },
   {
    "duration": 282,
    "start_time": "2023-10-01T16:52:41.624Z"
   },
   {
    "duration": 142,
    "start_time": "2023-10-01T16:52:41.908Z"
   },
   {
    "duration": 0,
    "start_time": "2023-10-01T16:52:42.052Z"
   },
   {
    "duration": 0,
    "start_time": "2023-10-01T16:52:42.054Z"
   },
   {
    "duration": 0,
    "start_time": "2023-10-01T16:52:42.055Z"
   },
   {
    "duration": 0,
    "start_time": "2023-10-01T16:52:42.057Z"
   },
   {
    "duration": 0,
    "start_time": "2023-10-01T16:52:42.058Z"
   },
   {
    "duration": 0,
    "start_time": "2023-10-01T16:52:42.059Z"
   },
   {
    "duration": 0,
    "start_time": "2023-10-01T16:52:42.060Z"
   },
   {
    "duration": 0,
    "start_time": "2023-10-01T16:52:42.061Z"
   },
   {
    "duration": 0,
    "start_time": "2023-10-01T16:52:42.063Z"
   },
   {
    "duration": 0,
    "start_time": "2023-10-01T16:52:42.064Z"
   },
   {
    "duration": 0,
    "start_time": "2023-10-01T16:52:42.066Z"
   },
   {
    "duration": 0,
    "start_time": "2023-10-01T16:52:42.067Z"
   },
   {
    "duration": 0,
    "start_time": "2023-10-01T16:52:42.067Z"
   },
   {
    "duration": 0,
    "start_time": "2023-10-01T16:52:42.069Z"
   },
   {
    "duration": 0,
    "start_time": "2023-10-01T16:52:42.070Z"
   },
   {
    "duration": 0,
    "start_time": "2023-10-01T16:52:42.071Z"
   },
   {
    "duration": 0,
    "start_time": "2023-10-01T16:52:42.072Z"
   },
   {
    "duration": 7015,
    "start_time": "2023-10-01T16:53:28.621Z"
   },
   {
    "duration": 292,
    "start_time": "2023-10-01T16:53:35.638Z"
   },
   {
    "duration": 3495,
    "start_time": "2023-10-01T16:54:54.390Z"
   },
   {
    "duration": 0,
    "start_time": "2023-10-01T16:54:57.887Z"
   },
   {
    "duration": 4159,
    "start_time": "2023-10-01T16:55:21.054Z"
   },
   {
    "duration": 0,
    "start_time": "2023-10-01T16:55:25.214Z"
   },
   {
    "duration": 3971,
    "start_time": "2023-10-01T16:58:38.702Z"
   },
   {
    "duration": 281,
    "start_time": "2023-10-01T16:58:42.675Z"
   },
   {
    "duration": 4219,
    "start_time": "2023-10-01T17:00:39.595Z"
   },
   {
    "duration": 291,
    "start_time": "2023-10-01T17:00:43.817Z"
   },
   {
    "duration": 442,
    "start_time": "2023-10-01T17:01:23.987Z"
   },
   {
    "duration": 3,
    "start_time": "2023-10-01T17:01:25.624Z"
   },
   {
    "duration": 4,
    "start_time": "2023-10-01T17:01:27.445Z"
   },
   {
    "duration": 4,
    "start_time": "2023-10-01T17:01:30.561Z"
   },
   {
    "duration": 146891,
    "start_time": "2023-10-01T17:01:35.860Z"
   },
   {
    "duration": 9956,
    "start_time": "2023-10-01T17:05:26.729Z"
   },
   {
    "duration": 52105,
    "start_time": "2023-10-01T17:05:41.156Z"
   },
   {
    "duration": 4,
    "start_time": "2023-10-01T17:06:33.262Z"
   },
   {
    "duration": 29529,
    "start_time": "2023-10-01T17:07:05.984Z"
   },
   {
    "duration": 41200,
    "start_time": "2023-10-01T17:08:02.010Z"
   },
   {
    "duration": 5,
    "start_time": "2023-10-01T17:08:44.810Z"
   },
   {
    "duration": 21739,
    "start_time": "2023-10-01T17:10:03.329Z"
   },
   {
    "duration": 4,
    "start_time": "2023-10-01T17:10:25.070Z"
   },
   {
    "duration": 84,
    "start_time": "2023-10-01T17:10:57.201Z"
   },
   {
    "duration": 2,
    "start_time": "2023-10-01T17:14:23.637Z"
   },
   {
    "duration": 4,
    "start_time": "2023-10-01T17:14:27.804Z"
   },
   {
    "duration": 5871,
    "start_time": "2023-10-01T17:17:01.268Z"
   },
   {
    "duration": 308,
    "start_time": "2023-10-01T17:17:07.141Z"
   },
   {
    "duration": 2483,
    "start_time": "2023-10-01T17:23:10.467Z"
   },
   {
    "duration": 2469,
    "start_time": "2023-10-01T17:23:12.953Z"
   },
   {
    "duration": 2556,
    "start_time": "2023-10-01T17:23:15.425Z"
   },
   {
    "duration": 1443,
    "start_time": "2023-10-01T17:23:17.983Z"
   },
   {
    "duration": 18,
    "start_time": "2023-10-01T17:23:19.427Z"
   },
   {
    "duration": 152,
    "start_time": "2023-10-01T17:23:19.447Z"
   },
   {
    "duration": 473,
    "start_time": "2023-10-01T17:23:19.601Z"
   },
   {
    "duration": 118,
    "start_time": "2023-10-01T17:23:20.076Z"
   },
   {
    "duration": 695,
    "start_time": "2023-10-01T17:23:20.196Z"
   },
   {
    "duration": 95,
    "start_time": "2023-10-01T17:23:20.894Z"
   },
   {
    "duration": 10,
    "start_time": "2023-10-01T17:23:20.990Z"
   },
   {
    "duration": 924,
    "start_time": "2023-10-01T17:23:21.002Z"
   },
   {
    "duration": 4,
    "start_time": "2023-10-01T17:23:21.928Z"
   },
   {
    "duration": 75,
    "start_time": "2023-10-01T17:23:21.933Z"
   },
   {
    "duration": 192,
    "start_time": "2023-10-01T17:23:22.010Z"
   },
   {
    "duration": 27,
    "start_time": "2023-10-01T17:23:22.203Z"
   },
   {
    "duration": 205,
    "start_time": "2023-10-01T17:23:22.231Z"
   },
   {
    "duration": 32,
    "start_time": "2023-10-01T17:23:22.437Z"
   },
   {
    "duration": 199,
    "start_time": "2023-10-01T17:23:22.471Z"
   },
   {
    "duration": 27,
    "start_time": "2023-10-01T17:23:22.672Z"
   },
   {
    "duration": 671,
    "start_time": "2023-10-01T17:23:22.701Z"
   },
   {
    "duration": 3,
    "start_time": "2023-10-01T17:23:23.374Z"
   },
   {
    "duration": 59,
    "start_time": "2023-10-01T17:23:23.379Z"
   },
   {
    "duration": 20,
    "start_time": "2023-10-01T17:23:23.446Z"
   },
   {
    "duration": 22,
    "start_time": "2023-10-01T17:23:23.468Z"
   },
   {
    "duration": 193,
    "start_time": "2023-10-01T17:23:23.492Z"
   },
   {
    "duration": 230,
    "start_time": "2023-10-01T17:23:23.687Z"
   },
   {
    "duration": 202,
    "start_time": "2023-10-01T17:23:23.921Z"
   },
   {
    "duration": 28,
    "start_time": "2023-10-01T17:23:24.124Z"
   },
   {
    "duration": 31,
    "start_time": "2023-10-01T17:23:24.154Z"
   },
   {
    "duration": 26,
    "start_time": "2023-10-01T17:23:24.186Z"
   },
   {
    "duration": 67,
    "start_time": "2023-10-01T17:23:24.214Z"
   },
   {
    "duration": 696,
    "start_time": "2023-10-01T17:23:24.283Z"
   },
   {
    "duration": 198,
    "start_time": "2023-10-01T17:23:24.981Z"
   },
   {
    "duration": 132,
    "start_time": "2023-10-01T17:23:25.181Z"
   },
   {
    "duration": 165,
    "start_time": "2023-10-01T17:23:25.315Z"
   },
   {
    "duration": 6,
    "start_time": "2023-10-01T17:23:25.482Z"
   },
   {
    "duration": 59,
    "start_time": "2023-10-01T17:23:25.490Z"
   },
   {
    "duration": 118,
    "start_time": "2023-10-01T17:23:25.551Z"
   },
   {
    "duration": 4,
    "start_time": "2023-10-01T17:23:25.671Z"
   },
   {
    "duration": 4568,
    "start_time": "2023-10-01T17:23:25.677Z"
   },
   {
    "duration": 319,
    "start_time": "2023-10-01T17:23:30.247Z"
   },
   {
    "duration": 439,
    "start_time": "2023-10-01T17:23:30.568Z"
   },
   {
    "duration": 4,
    "start_time": "2023-10-01T17:23:31.009Z"
   },
   {
    "duration": 147,
    "start_time": "2023-10-01T17:23:31.015Z"
   },
   {
    "duration": 33,
    "start_time": "2023-10-01T17:23:31.164Z"
   },
   {
    "duration": 143381,
    "start_time": "2023-10-01T17:23:31.200Z"
   },
   {
    "duration": 27193,
    "start_time": "2023-10-01T17:25:54.583Z"
   },
   {
    "duration": 4,
    "start_time": "2023-10-01T17:26:21.779Z"
   },
   {
    "duration": 62,
    "start_time": "2023-10-01T17:26:21.785Z"
   },
   {
    "duration": 12,
    "start_time": "2023-10-01T17:26:21.850Z"
   },
   {
    "duration": 291,
    "start_time": "2023-10-01T17:26:21.864Z"
   },
   {
    "duration": 0,
    "start_time": "2023-10-01T17:26:22.157Z"
   },
   {
    "duration": 0,
    "start_time": "2023-10-01T17:26:22.158Z"
   },
   {
    "duration": 0,
    "start_time": "2023-10-01T17:26:22.160Z"
   },
   {
    "duration": 0,
    "start_time": "2023-10-01T17:26:22.162Z"
   },
   {
    "duration": 0,
    "start_time": "2023-10-01T17:26:22.163Z"
   },
   {
    "duration": 0,
    "start_time": "2023-10-01T17:26:22.164Z"
   },
   {
    "duration": 0,
    "start_time": "2023-10-01T17:26:22.165Z"
   },
   {
    "duration": 0,
    "start_time": "2023-10-01T17:26:22.167Z"
   },
   {
    "duration": 88,
    "start_time": "2023-10-01T17:26:46.726Z"
   },
   {
    "duration": 4,
    "start_time": "2023-10-01T17:27:57.256Z"
   },
   {
    "duration": 134,
    "start_time": "2023-10-01T17:28:09.757Z"
   },
   {
    "duration": 5,
    "start_time": "2023-10-01T17:29:15.599Z"
   },
   {
    "duration": 111372,
    "start_time": "2023-10-01T17:29:16.246Z"
   },
   {
    "duration": 4,
    "start_time": "2023-10-01T17:35:07.509Z"
   },
   {
    "duration": 12,
    "start_time": "2023-10-01T17:35:16.962Z"
   },
   {
    "duration": 16,
    "start_time": "2023-10-01T17:35:20.136Z"
   },
   {
    "duration": 350,
    "start_time": "2023-10-01T17:35:28.638Z"
   },
   {
    "duration": 390,
    "start_time": "2023-10-01T17:35:54.210Z"
   },
   {
    "duration": 8,
    "start_time": "2023-10-01T17:36:02.889Z"
   },
   {
    "duration": 413,
    "start_time": "2023-10-01T18:02:45.805Z"
   },
   {
    "duration": 6,
    "start_time": "2023-10-01T18:03:36.651Z"
   },
   {
    "duration": 91447,
    "start_time": "2023-10-01T18:04:08.449Z"
   },
   {
    "duration": 5,
    "start_time": "2023-10-01T18:05:39.898Z"
   },
   {
    "duration": 4,
    "start_time": "2023-10-01T18:07:21.137Z"
   },
   {
    "duration": 6,
    "start_time": "2023-10-01T18:10:45.086Z"
   },
   {
    "duration": 236927,
    "start_time": "2023-10-01T18:10:46.409Z"
   },
   {
    "duration": 6,
    "start_time": "2023-10-01T18:14:43.347Z"
   },
   {
    "duration": 32,
    "start_time": "2023-10-01T18:16:35.535Z"
   },
   {
    "duration": 5,
    "start_time": "2023-10-01T18:16:43.510Z"
   },
   {
    "duration": 356,
    "start_time": "2023-10-01T18:16:47.768Z"
   },
   {
    "duration": 45697,
    "start_time": "2023-10-01T18:44:42.882Z"
   },
   {
    "duration": 98770,
    "start_time": "2023-10-01T18:45:28.581Z"
   },
   {
    "duration": 315,
    "start_time": "2023-10-01T18:47:07.353Z"
   },
   {
    "duration": 300,
    "start_time": "2023-10-01T18:48:28.316Z"
   },
   {
    "duration": 3,
    "start_time": "2023-10-01T18:57:29.707Z"
   },
   {
    "duration": 4,
    "start_time": "2023-10-01T18:57:41.606Z"
   },
   {
    "duration": 95247,
    "start_time": "2023-10-01T18:57:51.340Z"
   },
   {
    "duration": 4,
    "start_time": "2023-10-01T18:59:26.589Z"
   },
   {
    "duration": 569,
    "start_time": "2023-10-01T19:01:29.502Z"
   },
   {
    "duration": 679,
    "start_time": "2023-10-01T19:03:12.885Z"
   },
   {
    "duration": 674,
    "start_time": "2023-10-01T19:09:51.079Z"
   },
   {
    "duration": 7739,
    "start_time": "2023-10-02T23:00:45.938Z"
   },
   {
    "duration": 3256,
    "start_time": "2023-10-02T23:00:53.679Z"
   },
   {
    "duration": 1834,
    "start_time": "2023-10-02T23:00:56.937Z"
   },
   {
    "duration": 1533,
    "start_time": "2023-10-02T23:00:58.774Z"
   },
   {
    "duration": 20,
    "start_time": "2023-10-02T23:01:00.310Z"
   },
   {
    "duration": 614,
    "start_time": "2023-10-02T23:01:00.332Z"
   },
   {
    "duration": 871,
    "start_time": "2023-10-02T23:01:00.948Z"
   },
   {
    "duration": 1197,
    "start_time": "2023-10-02T23:01:01.821Z"
   },
   {
    "duration": 868,
    "start_time": "2023-10-02T23:01:03.019Z"
   },
   {
    "duration": 99,
    "start_time": "2023-10-02T23:01:03.889Z"
   },
   {
    "duration": 12,
    "start_time": "2023-10-02T23:01:04.011Z"
   },
   {
    "duration": 1134,
    "start_time": "2023-10-02T23:01:04.024Z"
   },
   {
    "duration": 3,
    "start_time": "2023-10-02T23:01:05.160Z"
   },
   {
    "duration": 690,
    "start_time": "2023-10-02T23:01:05.165Z"
   },
   {
    "duration": 526,
    "start_time": "2023-10-02T23:01:05.857Z"
   },
   {
    "duration": 625,
    "start_time": "2023-10-02T23:01:06.384Z"
   },
   {
    "duration": 228,
    "start_time": "2023-10-02T23:01:07.011Z"
   },
   {
    "duration": 23,
    "start_time": "2023-10-02T23:01:07.241Z"
   },
   {
    "duration": 212,
    "start_time": "2023-10-02T23:01:07.266Z"
   },
   {
    "duration": 42,
    "start_time": "2023-10-02T23:01:07.480Z"
   },
   {
    "duration": 692,
    "start_time": "2023-10-02T23:01:07.524Z"
   },
   {
    "duration": 3,
    "start_time": "2023-10-02T23:01:08.218Z"
   },
   {
    "duration": 69,
    "start_time": "2023-10-02T23:01:08.223Z"
   },
   {
    "duration": 23,
    "start_time": "2023-10-02T23:01:08.293Z"
   },
   {
    "duration": 23,
    "start_time": "2023-10-02T23:01:08.318Z"
   },
   {
    "duration": 231,
    "start_time": "2023-10-02T23:01:08.343Z"
   },
   {
    "duration": 219,
    "start_time": "2023-10-02T23:01:08.576Z"
   },
   {
    "duration": 215,
    "start_time": "2023-10-02T23:01:08.803Z"
   },
   {
    "duration": 21,
    "start_time": "2023-10-02T23:01:09.020Z"
   },
   {
    "duration": 29,
    "start_time": "2023-10-02T23:01:09.043Z"
   },
   {
    "duration": 44,
    "start_time": "2023-10-02T23:01:09.074Z"
   },
   {
    "duration": 50,
    "start_time": "2023-10-02T23:01:09.119Z"
   },
   {
    "duration": 659,
    "start_time": "2023-10-02T23:01:09.171Z"
   },
   {
    "duration": 195,
    "start_time": "2023-10-02T23:01:09.832Z"
   },
   {
    "duration": 115,
    "start_time": "2023-10-02T23:01:10.029Z"
   },
   {
    "duration": 166,
    "start_time": "2023-10-02T23:01:10.146Z"
   },
   {
    "duration": 5,
    "start_time": "2023-10-02T23:01:10.314Z"
   },
   {
    "duration": 80,
    "start_time": "2023-10-02T23:01:10.321Z"
   },
   {
    "duration": 140,
    "start_time": "2023-10-02T23:01:10.402Z"
   },
   {
    "duration": 3,
    "start_time": "2023-10-02T23:01:10.545Z"
   },
   {
    "duration": 5834,
    "start_time": "2023-10-02T23:01:10.549Z"
   },
   {
    "duration": 300,
    "start_time": "2023-10-02T23:01:16.385Z"
   },
   {
    "duration": 388,
    "start_time": "2023-10-02T23:01:16.686Z"
   },
   {
    "duration": 3,
    "start_time": "2023-10-02T23:01:17.075Z"
   },
   {
    "duration": 30,
    "start_time": "2023-10-02T23:01:17.080Z"
   },
   {
    "duration": 25,
    "start_time": "2023-10-02T23:01:17.111Z"
   },
   {
    "duration": 49390,
    "start_time": "2023-10-02T23:01:17.138Z"
   },
   {
    "duration": 120911,
    "start_time": "2023-10-02T23:02:06.530Z"
   },
   {
    "duration": 3,
    "start_time": "2023-10-02T23:04:07.443Z"
   },
   {
    "duration": 648,
    "start_time": "2023-10-02T23:04:07.448Z"
   },
   {
    "duration": 7,
    "start_time": "2023-10-02T23:04:08.101Z"
   },
   {
    "duration": 41435,
    "start_time": "2023-10-02T23:04:08.111Z"
   },
   {
    "duration": 4,
    "start_time": "2023-10-02T23:04:49.548Z"
   },
   {
    "duration": 653,
    "start_time": "2023-10-02T23:04:49.553Z"
   },
   {
    "duration": 2,
    "start_time": "2023-10-02T23:04:50.208Z"
   },
   {
    "duration": 31,
    "start_time": "2023-10-02T23:04:50.212Z"
   },
   {
    "duration": 28,
    "start_time": "2023-10-02T23:04:50.244Z"
   },
   {
    "duration": 13,
    "start_time": "2023-10-02T23:04:50.274Z"
   },
   {
    "duration": 98009,
    "start_time": "2023-10-02T23:04:50.289Z"
   },
   {
    "duration": 643,
    "start_time": "2023-10-02T23:06:28.302Z"
   },
   {
    "duration": 18,
    "start_time": "2023-10-02T23:06:28.947Z"
   },
   {
    "duration": 21,
    "start_time": "2023-10-02T23:06:28.967Z"
   },
   {
    "duration": 364,
    "start_time": "2023-10-02T23:06:28.990Z"
   },
   {
    "duration": 334,
    "start_time": "2023-10-02T23:06:29.355Z"
   },
   {
    "duration": 11,
    "start_time": "2023-10-02T23:06:29.691Z"
   },
   {
    "duration": 962,
    "start_time": "2023-10-02T23:14:15.756Z"
   },
   {
    "duration": 117,
    "start_time": "2023-10-02T23:15:36.502Z"
   },
   {
    "duration": 815,
    "start_time": "2023-10-02T23:15:47.360Z"
   },
   {
    "duration": 867,
    "start_time": "2023-10-02T23:18:02.450Z"
   },
   {
    "duration": 57,
    "start_time": "2023-10-02T23:18:54.574Z"
   },
   {
    "duration": 43,
    "start_time": "2023-10-02T23:19:22.839Z"
   },
   {
    "duration": 67,
    "start_time": "2023-10-02T23:20:06.369Z"
   },
   {
    "duration": 3728,
    "start_time": "2023-10-02T23:20:38.920Z"
   },
   {
    "duration": 705,
    "start_time": "2023-10-02T23:21:11.113Z"
   },
   {
    "duration": 114,
    "start_time": "2023-10-02T23:21:54.838Z"
   },
   {
    "duration": 2574,
    "start_time": "2023-10-02T23:22:19.795Z"
   },
   {
    "duration": 2589,
    "start_time": "2023-10-02T23:22:22.371Z"
   },
   {
    "duration": 1691,
    "start_time": "2023-10-02T23:22:24.962Z"
   },
   {
    "duration": 1174,
    "start_time": "2023-10-02T23:22:26.655Z"
   },
   {
    "duration": 19,
    "start_time": "2023-10-02T23:22:27.831Z"
   },
   {
    "duration": 210,
    "start_time": "2023-10-02T23:22:27.852Z"
   },
   {
    "duration": 475,
    "start_time": "2023-10-02T23:22:28.064Z"
   },
   {
    "duration": 122,
    "start_time": "2023-10-02T23:22:28.542Z"
   },
   {
    "duration": 682,
    "start_time": "2023-10-02T23:22:28.666Z"
   },
   {
    "duration": 89,
    "start_time": "2023-10-02T23:22:29.351Z"
   },
   {
    "duration": 8,
    "start_time": "2023-10-02T23:22:29.442Z"
   },
   {
    "duration": 867,
    "start_time": "2023-10-02T23:22:29.451Z"
   },
   {
    "duration": 2,
    "start_time": "2023-10-02T23:22:30.321Z"
   },
   {
    "duration": 235,
    "start_time": "2023-10-02T23:22:30.325Z"
   },
   {
    "duration": 296,
    "start_time": "2023-10-02T23:22:30.562Z"
   },
   {
    "duration": 21,
    "start_time": "2023-10-02T23:22:30.860Z"
   },
   {
    "duration": 527,
    "start_time": "2023-10-02T23:22:30.883Z"
   },
   {
    "duration": 377,
    "start_time": "2023-10-02T23:22:31.412Z"
   },
   {
    "duration": 220,
    "start_time": "2023-10-02T23:22:31.791Z"
   },
   {
    "duration": 67,
    "start_time": "2023-10-02T23:22:32.012Z"
   },
   {
    "duration": 750,
    "start_time": "2023-10-02T23:22:32.082Z"
   },
   {
    "duration": 2,
    "start_time": "2023-10-02T23:22:32.834Z"
   },
   {
    "duration": 116,
    "start_time": "2023-10-02T23:22:32.838Z"
   },
   {
    "duration": 33,
    "start_time": "2023-10-02T23:22:32.956Z"
   },
   {
    "duration": 29,
    "start_time": "2023-10-02T23:22:32.990Z"
   },
   {
    "duration": 184,
    "start_time": "2023-10-02T23:22:33.021Z"
   },
   {
    "duration": 225,
    "start_time": "2023-10-02T23:22:33.206Z"
   },
   {
    "duration": 211,
    "start_time": "2023-10-02T23:22:33.436Z"
   },
   {
    "duration": 26,
    "start_time": "2023-10-02T23:22:33.649Z"
   },
   {
    "duration": 49,
    "start_time": "2023-10-02T23:22:33.677Z"
   },
   {
    "duration": 25,
    "start_time": "2023-10-02T23:22:33.728Z"
   },
   {
    "duration": 69,
    "start_time": "2023-10-02T23:22:33.754Z"
   },
   {
    "duration": 641,
    "start_time": "2023-10-02T23:22:33.825Z"
   },
   {
    "duration": 239,
    "start_time": "2023-10-02T23:22:34.468Z"
   },
   {
    "duration": 113,
    "start_time": "2023-10-02T23:22:34.710Z"
   },
   {
    "duration": 158,
    "start_time": "2023-10-02T23:22:34.825Z"
   },
   {
    "duration": 3,
    "start_time": "2023-10-02T23:22:34.985Z"
   },
   {
    "duration": 61,
    "start_time": "2023-10-02T23:22:34.990Z"
   },
   {
    "duration": 125,
    "start_time": "2023-10-02T23:22:35.052Z"
   },
   {
    "duration": 3,
    "start_time": "2023-10-02T23:22:35.179Z"
   },
   {
    "duration": 160,
    "start_time": "2023-10-02T23:22:35.183Z"
   },
   {
    "duration": 0,
    "start_time": "2023-10-02T23:22:35.345Z"
   },
   {
    "duration": 0,
    "start_time": "2023-10-02T23:22:35.346Z"
   },
   {
    "duration": 0,
    "start_time": "2023-10-02T23:22:35.347Z"
   },
   {
    "duration": 0,
    "start_time": "2023-10-02T23:22:35.348Z"
   },
   {
    "duration": 0,
    "start_time": "2023-10-02T23:22:35.349Z"
   },
   {
    "duration": 0,
    "start_time": "2023-10-02T23:22:35.351Z"
   },
   {
    "duration": 0,
    "start_time": "2023-10-02T23:22:35.351Z"
   },
   {
    "duration": 0,
    "start_time": "2023-10-02T23:22:35.353Z"
   },
   {
    "duration": 0,
    "start_time": "2023-10-02T23:22:35.354Z"
   },
   {
    "duration": 0,
    "start_time": "2023-10-02T23:22:35.355Z"
   },
   {
    "duration": 0,
    "start_time": "2023-10-02T23:22:35.356Z"
   },
   {
    "duration": 0,
    "start_time": "2023-10-02T23:22:35.357Z"
   },
   {
    "duration": 0,
    "start_time": "2023-10-02T23:22:35.358Z"
   },
   {
    "duration": 0,
    "start_time": "2023-10-02T23:22:35.358Z"
   },
   {
    "duration": 0,
    "start_time": "2023-10-02T23:22:35.359Z"
   },
   {
    "duration": 1,
    "start_time": "2023-10-02T23:22:35.360Z"
   },
   {
    "duration": 0,
    "start_time": "2023-10-02T23:22:35.362Z"
   },
   {
    "duration": 0,
    "start_time": "2023-10-02T23:22:35.363Z"
   },
   {
    "duration": 0,
    "start_time": "2023-10-02T23:22:35.364Z"
   },
   {
    "duration": 0,
    "start_time": "2023-10-02T23:22:35.365Z"
   },
   {
    "duration": 0,
    "start_time": "2023-10-02T23:22:35.366Z"
   },
   {
    "duration": 1,
    "start_time": "2023-10-02T23:22:35.404Z"
   },
   {
    "duration": 0,
    "start_time": "2023-10-02T23:22:35.406Z"
   },
   {
    "duration": 0,
    "start_time": "2023-10-02T23:22:35.407Z"
   },
   {
    "duration": 2383,
    "start_time": "2023-10-02T23:23:54.635Z"
   },
   {
    "duration": 2435,
    "start_time": "2023-10-02T23:23:57.021Z"
   },
   {
    "duration": 1690,
    "start_time": "2023-10-02T23:23:59.458Z"
   },
   {
    "duration": 1180,
    "start_time": "2023-10-02T23:24:01.153Z"
   },
   {
    "duration": 341,
    "start_time": "2023-10-02T23:24:02.334Z"
   },
   {
    "duration": 145,
    "start_time": "2023-10-02T23:24:02.677Z"
   },
   {
    "duration": 452,
    "start_time": "2023-10-02T23:24:02.823Z"
   },
   {
    "duration": 116,
    "start_time": "2023-10-02T23:24:03.277Z"
   },
   {
    "duration": 723,
    "start_time": "2023-10-02T23:24:03.394Z"
   },
   {
    "duration": 86,
    "start_time": "2023-10-02T23:24:04.120Z"
   },
   {
    "duration": 9,
    "start_time": "2023-10-02T23:24:04.208Z"
   },
   {
    "duration": 1079,
    "start_time": "2023-10-02T23:24:04.219Z"
   },
   {
    "duration": 3,
    "start_time": "2023-10-02T23:24:05.300Z"
   },
   {
    "duration": 46,
    "start_time": "2023-10-02T23:24:05.304Z"
   },
   {
    "duration": 167,
    "start_time": "2023-10-02T23:24:05.352Z"
   },
   {
    "duration": 21,
    "start_time": "2023-10-02T23:24:05.521Z"
   },
   {
    "duration": 174,
    "start_time": "2023-10-02T23:24:05.543Z"
   },
   {
    "duration": 23,
    "start_time": "2023-10-02T23:24:05.719Z"
   },
   {
    "duration": 237,
    "start_time": "2023-10-02T23:24:05.744Z"
   },
   {
    "duration": 27,
    "start_time": "2023-10-02T23:24:05.983Z"
   },
   {
    "duration": 705,
    "start_time": "2023-10-02T23:24:06.011Z"
   },
   {
    "duration": 3,
    "start_time": "2023-10-02T23:24:06.718Z"
   },
   {
    "duration": 63,
    "start_time": "2023-10-02T23:24:06.723Z"
   },
   {
    "duration": 4,
    "start_time": "2023-10-02T23:24:06.788Z"
   },
   {
    "duration": 35,
    "start_time": "2023-10-02T23:24:06.794Z"
   },
   {
    "duration": 203,
    "start_time": "2023-10-02T23:24:06.831Z"
   },
   {
    "duration": 209,
    "start_time": "2023-10-02T23:24:07.036Z"
   },
   {
    "duration": 198,
    "start_time": "2023-10-02T23:24:07.250Z"
   },
   {
    "duration": 23,
    "start_time": "2023-10-02T23:24:07.450Z"
   },
   {
    "duration": 49,
    "start_time": "2023-10-02T23:24:07.475Z"
   },
   {
    "duration": 22,
    "start_time": "2023-10-02T23:24:07.526Z"
   },
   {
    "duration": 65,
    "start_time": "2023-10-02T23:24:07.550Z"
   },
   {
    "duration": 704,
    "start_time": "2023-10-02T23:24:07.616Z"
   },
   {
    "duration": 185,
    "start_time": "2023-10-02T23:24:08.321Z"
   },
   {
    "duration": 117,
    "start_time": "2023-10-02T23:24:08.508Z"
   },
   {
    "duration": 147,
    "start_time": "2023-10-02T23:24:08.627Z"
   },
   {
    "duration": 3,
    "start_time": "2023-10-02T23:24:08.777Z"
   },
   {
    "duration": 75,
    "start_time": "2023-10-02T23:24:08.782Z"
   },
   {
    "duration": 163,
    "start_time": "2023-10-02T23:24:08.859Z"
   },
   {
    "duration": 3,
    "start_time": "2023-10-02T23:24:09.024Z"
   },
   {
    "duration": 165,
    "start_time": "2023-10-02T23:24:09.029Z"
   },
   {
    "duration": 44,
    "start_time": "2023-10-02T23:24:09.196Z"
   },
   {
    "duration": 67,
    "start_time": "2023-10-02T23:24:09.242Z"
   },
   {
    "duration": 54929,
    "start_time": "2023-10-02T23:24:09.311Z"
   },
   {
    "duration": 131305,
    "start_time": "2023-10-02T23:25:04.243Z"
   },
   {
    "duration": 4,
    "start_time": "2023-10-02T23:27:15.550Z"
   },
   {
    "duration": 627,
    "start_time": "2023-10-02T23:27:15.556Z"
   },
   {
    "duration": 4,
    "start_time": "2023-10-02T23:27:16.186Z"
   },
   {
    "duration": 191953,
    "start_time": "2023-10-02T23:27:16.201Z"
   },
   {
    "duration": 5,
    "start_time": "2023-10-02T23:30:28.155Z"
   },
   {
    "duration": 9653,
    "start_time": "2023-10-02T23:30:28.161Z"
   },
   {
    "duration": 1103,
    "start_time": "2023-10-02T23:30:37.816Z"
   },
   {
    "duration": 217,
    "start_time": "2023-10-02T23:30:38.923Z"
   },
   {
    "duration": 0,
    "start_time": "2023-10-02T23:30:39.142Z"
   },
   {
    "duration": 0,
    "start_time": "2023-10-02T23:30:39.144Z"
   },
   {
    "duration": 0,
    "start_time": "2023-10-02T23:30:39.145Z"
   },
   {
    "duration": 0,
    "start_time": "2023-10-02T23:30:39.146Z"
   },
   {
    "duration": 0,
    "start_time": "2023-10-02T23:30:39.147Z"
   },
   {
    "duration": 0,
    "start_time": "2023-10-02T23:30:39.148Z"
   },
   {
    "duration": 0,
    "start_time": "2023-10-02T23:30:39.149Z"
   },
   {
    "duration": 0,
    "start_time": "2023-10-02T23:30:39.150Z"
   },
   {
    "duration": 0,
    "start_time": "2023-10-02T23:30:39.152Z"
   },
   {
    "duration": 0,
    "start_time": "2023-10-02T23:30:39.152Z"
   },
   {
    "duration": 0,
    "start_time": "2023-10-02T23:30:39.154Z"
   },
   {
    "duration": 12,
    "start_time": "2023-10-02T23:41:55.076Z"
   },
   {
    "duration": 4,
    "start_time": "2023-10-02T23:42:09.837Z"
   },
   {
    "duration": 5,
    "start_time": "2023-10-02T23:42:16.031Z"
   },
   {
    "duration": 110336,
    "start_time": "2023-10-02T23:42:16.514Z"
   },
   {
    "duration": 21,
    "start_time": "2023-10-02T23:44:06.852Z"
   },
   {
    "duration": 4,
    "start_time": "2023-10-02T23:45:51.493Z"
   },
   {
    "duration": 36401,
    "start_time": "2023-10-02T23:46:23.401Z"
   },
   {
    "duration": 688,
    "start_time": "2023-10-02T23:46:59.804Z"
   },
   {
    "duration": 717,
    "start_time": "2023-10-02T23:47:14.793Z"
   },
   {
    "duration": 6,
    "start_time": "2023-10-03T00:00:58.909Z"
   },
   {
    "duration": 110379,
    "start_time": "2023-10-03T00:06:16.353Z"
   },
   {
    "duration": 5,
    "start_time": "2023-10-03T00:08:06.734Z"
   },
   {
    "duration": 36534,
    "start_time": "2023-10-03T00:08:06.740Z"
   },
   {
    "duration": 695,
    "start_time": "2023-10-03T00:08:43.276Z"
   },
   {
    "duration": 339,
    "start_time": "2023-10-03T00:08:43.972Z"
   },
   {
    "duration": 4,
    "start_time": "2023-10-03T00:24:52.033Z"
   },
   {
    "duration": 137749,
    "start_time": "2023-10-03T00:24:52.867Z"
   },
   {
    "duration": 4,
    "start_time": "2023-10-03T00:27:10.618Z"
   },
   {
    "duration": 3699,
    "start_time": "2023-10-03T00:27:10.624Z"
   },
   {
    "duration": 683,
    "start_time": "2023-10-03T00:27:14.326Z"
   },
   {
    "duration": 2941,
    "start_time": "2023-10-03T00:28:55.107Z"
   },
   {
    "duration": 688,
    "start_time": "2023-10-03T00:29:03.822Z"
   },
   {
    "duration": 7,
    "start_time": "2023-10-03T00:30:23.719Z"
   },
   {
    "duration": 61487,
    "start_time": "2023-10-03T00:30:24.450Z"
   },
   {
    "duration": 4,
    "start_time": "2023-10-03T00:31:25.939Z"
   },
   {
    "duration": 2208,
    "start_time": "2023-10-03T00:31:25.945Z"
   },
   {
    "duration": 668,
    "start_time": "2023-10-03T00:31:28.155Z"
   },
   {
    "duration": 4,
    "start_time": "2023-10-03T00:35:55.469Z"
   },
   {
    "duration": 172124,
    "start_time": "2023-10-03T00:35:56.090Z"
   },
   {
    "duration": 5,
    "start_time": "2023-10-03T00:38:48.217Z"
   },
   {
    "duration": 8,
    "start_time": "2023-10-03T00:41:16.226Z"
   },
   {
    "duration": 58314,
    "start_time": "2023-10-03T00:41:17.968Z"
   },
   {
    "duration": 5,
    "start_time": "2023-10-03T00:42:16.301Z"
   },
   {
    "duration": 2734,
    "start_time": "2023-10-03T00:42:16.307Z"
   },
   {
    "duration": 669,
    "start_time": "2023-10-03T00:42:19.042Z"
   },
   {
    "duration": 2005,
    "start_time": "2023-10-03T00:46:05.912Z"
   },
   {
    "duration": 706,
    "start_time": "2023-10-03T00:46:07.920Z"
   },
   {
    "duration": 5798,
    "start_time": "2023-10-03T00:46:41.730Z"
   },
   {
    "duration": 106,
    "start_time": "2023-10-03T01:01:33.659Z"
   },
   {
    "duration": 1711,
    "start_time": "2023-10-03T01:02:20.100Z"
   },
   {
    "duration": 714,
    "start_time": "2023-10-03T01:02:31.093Z"
   },
   {
    "duration": 711,
    "start_time": "2023-10-03T01:02:42.392Z"
   },
   {
    "duration": 736,
    "start_time": "2023-10-03T01:02:57.570Z"
   },
   {
    "duration": 1579,
    "start_time": "2023-10-03T01:03:00.431Z"
   },
   {
    "duration": 732,
    "start_time": "2023-10-03T01:03:14.674Z"
   },
   {
    "duration": 396,
    "start_time": "2023-10-03T01:04:33.110Z"
   },
   {
    "duration": 371,
    "start_time": "2023-10-03T01:04:55.736Z"
   },
   {
    "duration": 8,
    "start_time": "2023-10-03T01:05:02.663Z"
   },
   {
    "duration": 98,
    "start_time": "2023-10-03T01:10:53.972Z"
   }
  ],
  "kernelspec": {
   "display_name": "Python 3 (ipykernel)",
   "language": "python",
   "name": "python3"
  },
  "language_info": {
   "codemirror_mode": {
    "name": "ipython",
    "version": 3
   },
   "file_extension": ".py",
   "mimetype": "text/x-python",
   "name": "python",
   "nbconvert_exporter": "python",
   "pygments_lexer": "ipython3",
   "version": "3.9.16"
  },
  "toc": {
   "base_numbering": 1,
   "nav_menu": {},
   "number_sections": true,
   "sideBar": true,
   "skip_h1_title": true,
   "title_cell": "Table of Contents",
   "title_sidebar": "Contents",
   "toc_cell": false,
   "toc_position": {},
   "toc_section_display": true,
   "toc_window_display": false
  }
 },
 "nbformat": 4,
 "nbformat_minor": 2
}
