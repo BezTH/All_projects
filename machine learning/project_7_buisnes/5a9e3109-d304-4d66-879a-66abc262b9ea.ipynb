{
 "cells": [
  {
   "cell_type": "markdown",
   "metadata": {},
   "source": [
    "# Выбор локации для скважины"
   ]
  },
  {
   "cell_type": "markdown",
   "metadata": {},
   "source": [
    "Допустим, вы работаете в добывающей компании «ГлавРосГосНефть». Нужно решить, где бурить новую скважину.\n",
    "\n",
    "Вам предоставлены пробы нефти в трёх регионах: в каждом 10 000 месторождений, где измерили качество нефти и объём её запасов. Постройте модель машинного обучения, которая поможет определить регион, где добыча принесёт наибольшую прибыль. Проанализируйте возможную прибыль и риски техникой *Bootstrap.*\n",
    "\n",
    "Шаги для выбора локации:\n",
    "\n",
    "- В избранном регионе ищут месторождения, для каждого определяют значения признаков;\n",
    "- Строят модель и оценивают объём запасов;\n",
    "- Выбирают месторождения с самым высокими оценками значений. Количество месторождений зависит от бюджета компании и стоимости разработки одной скважины;\n",
    "- Прибыль равна суммарной прибыли отобранных месторождений."
   ]
  },
  {
   "cell_type": "markdown",
   "metadata": {},
   "source": [
    "<font size='5'>**Цели проекта:**</font>\n",
    "\n",
    "**Определить риски и вычислить потенциальную прибыль от месторождений выбранного региона.**\n",
    "\n",
    "**Выявить регион с риском убытка менее 2.5%**"
   ]
  },
  {
   "cell_type": "markdown",
   "metadata": {},
   "source": [
    "<font size='5'>**Ход проекта:**</font>\n",
    "* **Знакомство с данными и их обработка**\n",
    "* **Обучение и проверка модели**\n",
    "* **Подготовка к рассчёты прибыли**\n",
    "* **Расчёт прибыли и рисков**\n",
    "* **Выбор региона**"
   ]
  },
  {
   "cell_type": "markdown",
   "metadata": {},
   "source": [
    "## Загрузка и подготовка данных"
   ]
  },
  {
   "cell_type": "code",
   "execution_count": 1,
   "metadata": {},
   "outputs": [],
   "source": [
    "import pandas as pd\n",
    "import numpy as np\n",
    "\n",
    "from sklearn.model_selection import train_test_split\n",
    "from sklearn.linear_model import LinearRegression \n",
    "from sklearn.metrics import mean_squared_error as mse\n",
    "import matplotlib.pyplot as plt   \n",
    "import seaborn as sns "
   ]
  },
  {
   "cell_type": "code",
   "execution_count": 2,
   "metadata": {},
   "outputs": [],
   "source": [
    "data0 = pd.read_csv('/datasets/geo_data_0.csv')\n",
    "data1 = pd.read_csv('/datasets/geo_data_1.csv')\n",
    "data2 = pd.read_csv('/datasets/geo_data_2.csv')"
   ]
  },
  {
   "cell_type": "code",
   "execution_count": 3,
   "metadata": {},
   "outputs": [
    {
     "name": "stdout",
     "output_type": "stream",
     "text": [
      "      id        f0        f1        f2     product\n",
      "0  txEyH  0.705745 -0.497823  1.221170  105.280062\n",
      "1  2acmU  1.334711 -0.340164  4.365080   73.037750\n",
      "2  409Wp  1.022732  0.151990  1.419926   85.265647\n",
      "3  iJLyR -0.032172  0.139033  2.978566  168.620776\n",
      "4  Xdl7t  1.988431  0.155413  4.751769  154.036647\n",
      "      id         f0         f1        f2     product\n",
      "0  kBEdx -15.001348  -8.276000 -0.005876    3.179103\n",
      "1  62mP7  14.272088  -3.475083  0.999183   26.953261\n",
      "2  vyE1P   6.263187  -5.948386  5.001160  134.766305\n",
      "3  KcrkZ -13.081196 -11.506057  4.999415  137.945408\n",
      "4  AHL4O  12.702195  -8.147433  5.004363  134.766305\n"
     ]
    },
    {
     "data": {
      "text/html": [
       "<div>\n",
       "<style scoped>\n",
       "    .dataframe tbody tr th:only-of-type {\n",
       "        vertical-align: middle;\n",
       "    }\n",
       "\n",
       "    .dataframe tbody tr th {\n",
       "        vertical-align: top;\n",
       "    }\n",
       "\n",
       "    .dataframe thead th {\n",
       "        text-align: right;\n",
       "    }\n",
       "</style>\n",
       "<table border=\"1\" class=\"dataframe\">\n",
       "  <thead>\n",
       "    <tr style=\"text-align: right;\">\n",
       "      <th></th>\n",
       "      <th>id</th>\n",
       "      <th>f0</th>\n",
       "      <th>f1</th>\n",
       "      <th>f2</th>\n",
       "      <th>product</th>\n",
       "    </tr>\n",
       "  </thead>\n",
       "  <tbody>\n",
       "    <tr>\n",
       "      <th>0</th>\n",
       "      <td>fwXo0</td>\n",
       "      <td>-1.146987</td>\n",
       "      <td>0.963328</td>\n",
       "      <td>-0.828965</td>\n",
       "      <td>27.758673</td>\n",
       "    </tr>\n",
       "    <tr>\n",
       "      <th>1</th>\n",
       "      <td>WJtFt</td>\n",
       "      <td>0.262778</td>\n",
       "      <td>0.269839</td>\n",
       "      <td>-2.530187</td>\n",
       "      <td>56.069697</td>\n",
       "    </tr>\n",
       "    <tr>\n",
       "      <th>2</th>\n",
       "      <td>ovLUW</td>\n",
       "      <td>0.194587</td>\n",
       "      <td>0.289035</td>\n",
       "      <td>-5.586433</td>\n",
       "      <td>62.871910</td>\n",
       "    </tr>\n",
       "    <tr>\n",
       "      <th>3</th>\n",
       "      <td>q6cA6</td>\n",
       "      <td>2.236060</td>\n",
       "      <td>-0.553760</td>\n",
       "      <td>0.930038</td>\n",
       "      <td>114.572842</td>\n",
       "    </tr>\n",
       "    <tr>\n",
       "      <th>4</th>\n",
       "      <td>WPMUX</td>\n",
       "      <td>-0.515993</td>\n",
       "      <td>1.716266</td>\n",
       "      <td>5.899011</td>\n",
       "      <td>149.600746</td>\n",
       "    </tr>\n",
       "  </tbody>\n",
       "</table>\n",
       "</div>"
      ],
      "text/plain": [
       "      id        f0        f1        f2     product\n",
       "0  fwXo0 -1.146987  0.963328 -0.828965   27.758673\n",
       "1  WJtFt  0.262778  0.269839 -2.530187   56.069697\n",
       "2  ovLUW  0.194587  0.289035 -5.586433   62.871910\n",
       "3  q6cA6  2.236060 -0.553760  0.930038  114.572842\n",
       "4  WPMUX -0.515993  1.716266  5.899011  149.600746"
      ]
     },
     "execution_count": 3,
     "metadata": {},
     "output_type": "execute_result"
    }
   ],
   "source": [
    "print(data0.head())\n",
    "print(data1.head())\n",
    "data2.head()"
   ]
  },
  {
   "cell_type": "markdown",
   "metadata": {},
   "source": [
    "id — уникальный идентификатор скважины, далее снесём этот столбец.\n",
    "\n",
    "f0, f1, f2 — три признака точек.\n",
    "\n",
    "product — объём запасов в скважине (тыс. баррелей)."
   ]
  },
  {
   "cell_type": "code",
   "execution_count": 4,
   "metadata": {},
   "outputs": [
    {
     "name": "stdout",
     "output_type": "stream",
     "text": [
      "(100000, 5)\n",
      "(100000, 5)\n",
      "(100000, 5)\n"
     ]
    }
   ],
   "source": [
    "print(data0.shape)\n",
    "print(data1.shape)\n",
    "print(data2.shape)"
   ]
  },
  {
   "cell_type": "markdown",
   "metadata": {},
   "source": [
    "**100тыс строк и 5 столбцов**"
   ]
  },
  {
   "cell_type": "code",
   "execution_count": 5,
   "metadata": {},
   "outputs": [
    {
     "name": "stdout",
     "output_type": "stream",
     "text": [
      "0\n",
      "0\n",
      "0\n"
     ]
    }
   ],
   "source": [
    "print(data0.duplicated().sum())\n",
    "print(data1.duplicated().sum())\n",
    "print(data2.duplicated().sum())"
   ]
  },
  {
   "cell_type": "code",
   "execution_count": 6,
   "metadata": {},
   "outputs": [
    {
     "name": "stdout",
     "output_type": "stream",
     "text": [
      "99990\n",
      "99996\n",
      "99996\n"
     ]
    }
   ],
   "source": [
    "print(len(data0['id'].unique()))\n",
    "print(len(data1['id'].unique()))\n",
    "print(len(data2['id'].unique()))"
   ]
  },
  {
   "cell_type": "markdown",
   "metadata": {},
   "source": [
    "**Уникальных значений меньше чем длина сетов**"
   ]
  },
  {
   "cell_type": "code",
   "execution_count": 7,
   "metadata": {},
   "outputs": [
    {
     "name": "stdout",
     "output_type": "stream",
     "text": [
      "10\n",
      "4\n",
      "4\n"
     ]
    }
   ],
   "source": [
    "print(data0.duplicated(subset='id').sum())\n",
    "print(data1.duplicated(subset='id').sum())\n",
    "print(data2.duplicated(subset='id').sum())"
   ]
  },
  {
   "cell_type": "markdown",
   "metadata": {},
   "source": [
    "**В каждый сет положили подводный камень.**"
   ]
  },
  {
   "cell_type": "code",
   "execution_count": 8,
   "metadata": {},
   "outputs": [
    {
     "name": "stdout",
     "output_type": "stream",
     "text": [
      "          id        f0        f1         f2     product\n",
      "7530   HZww2  1.061194 -0.373969  10.430210  158.828695\n",
      "41724  bxg6G -0.823752  0.546319   3.630479   93.007798\n",
      "51970  A5aEY -0.180335  0.935548  -2.094773   33.020205\n",
      "63593  QcMuo  0.635635 -0.473422   0.862670   64.578675\n",
      "66136  74z30  1.084962 -0.312358   6.990771  127.643327\n",
      "69163  AGS9W -0.933795  0.116194  -3.655896   19.230453\n",
      "75715  Tdehs  0.112079  0.430296   3.218993   60.964018\n",
      "90815  fiKDv  0.049883  0.841313   6.394613  137.346586\n",
      "92341  TtcGQ  0.110711  1.022689   0.911381  101.318008\n",
      "97785  bsk9y  0.378429  0.005837   0.160827  160.637302\n",
      "          id         f0        f1        f2     product\n",
      "41906  LHZR0  -8.989672 -4.286607  2.009139   57.085625\n",
      "82178  bfPNe  -6.202799 -4.820045  2.995107   84.038886\n",
      "82873  wt4Uk  10.259972 -9.376355  4.994297  134.766305\n",
      "84461  5ltQ6  18.213839  2.191999  3.993869  107.813044\n",
      "          id        f0        f1        f2     product\n",
      "43233  xCHr8 -0.847066  2.101796  5.597130  184.388641\n",
      "49564  VF7Jo -0.883115  0.560537  0.723601  136.233420\n",
      "55967  KUPhW  1.211150  3.176408  5.543540  132.831802\n",
      "95090  Vcm5J  2.587702  1.986875  2.482245   92.327572\n"
     ]
    }
   ],
   "source": [
    "print(data0.loc[data0.duplicated(subset='id') == True])\n",
    "print(data1.loc[data1.duplicated(subset='id') == True])\n",
    "print(data2.loc[data2.duplicated(subset='id') == True])"
   ]
  },
  {
   "cell_type": "markdown",
   "metadata": {},
   "source": [
    "**Ради интереса глянул что-за пропуски.**"
   ]
  },
  {
   "cell_type": "code",
   "execution_count": 9,
   "metadata": {},
   "outputs": [],
   "source": [
    "data0 = data0.drop_duplicates(subset='id')\n",
    "data1 = data1.drop_duplicates(subset='id')\n",
    "data2 = data2.drop_duplicates(subset='id')"
   ]
  },
  {
   "cell_type": "markdown",
   "metadata": {},
   "source": [
    "**Дроп дубликатов.**"
   ]
  },
  {
   "cell_type": "code",
   "execution_count": 10,
   "metadata": {},
   "outputs": [
    {
     "name": "stdout",
     "output_type": "stream",
     "text": [
      "(99990, 5)\n",
      "(99996, 5)\n",
      "(99996, 5)\n"
     ]
    }
   ],
   "source": [
    "print(data0.shape)\n",
    "print(data1.shape)\n",
    "print(data2.shape)"
   ]
  },
  {
   "cell_type": "markdown",
   "metadata": {},
   "source": [
    "**Сверка размера сета после удаления, всё в порядке.**"
   ]
  },
  {
   "cell_type": "code",
   "execution_count": 11,
   "metadata": {},
   "outputs": [
    {
     "name": "stdout",
     "output_type": "stream",
     "text": [
      "id         0\n",
      "f0         0\n",
      "f1         0\n",
      "f2         0\n",
      "product    0\n",
      "dtype: int64\n",
      "id         0\n",
      "f0         0\n",
      "f1         0\n",
      "f2         0\n",
      "product    0\n",
      "dtype: int64\n",
      "id         0\n",
      "f0         0\n",
      "f1         0\n",
      "f2         0\n",
      "product    0\n",
      "dtype: int64\n"
     ]
    }
   ],
   "source": [
    "print(data0.isna().sum())\n",
    "print(data1.isna().sum())\n",
    "print(data2.isna().sum())"
   ]
  },
  {
   "cell_type": "markdown",
   "metadata": {},
   "source": [
    "**Пропущенных значений нет**"
   ]
  },
  {
   "cell_type": "code",
   "execution_count": 12,
   "metadata": {},
   "outputs": [
    {
     "name": "stdout",
     "output_type": "stream",
     "text": [
      "<class 'pandas.core.frame.DataFrame'>\n",
      "Int64Index: 99990 entries, 0 to 99999\n",
      "Data columns (total 5 columns):\n",
      " #   Column   Non-Null Count  Dtype  \n",
      "---  ------   --------------  -----  \n",
      " 0   id       99990 non-null  object \n",
      " 1   f0       99990 non-null  float64\n",
      " 2   f1       99990 non-null  float64\n",
      " 3   f2       99990 non-null  float64\n",
      " 4   product  99990 non-null  float64\n",
      "dtypes: float64(4), object(1)\n",
      "memory usage: 4.6+ MB\n",
      "None\n",
      "<class 'pandas.core.frame.DataFrame'>\n",
      "Int64Index: 99996 entries, 0 to 99999\n",
      "Data columns (total 5 columns):\n",
      " #   Column   Non-Null Count  Dtype  \n",
      "---  ------   --------------  -----  \n",
      " 0   id       99996 non-null  object \n",
      " 1   f0       99996 non-null  float64\n",
      " 2   f1       99996 non-null  float64\n",
      " 3   f2       99996 non-null  float64\n",
      " 4   product  99996 non-null  float64\n",
      "dtypes: float64(4), object(1)\n",
      "memory usage: 4.6+ MB\n",
      "None\n",
      "<class 'pandas.core.frame.DataFrame'>\n",
      "Int64Index: 99996 entries, 0 to 99999\n",
      "Data columns (total 5 columns):\n",
      " #   Column   Non-Null Count  Dtype  \n",
      "---  ------   --------------  -----  \n",
      " 0   id       99996 non-null  object \n",
      " 1   f0       99996 non-null  float64\n",
      " 2   f1       99996 non-null  float64\n",
      " 3   f2       99996 non-null  float64\n",
      " 4   product  99996 non-null  float64\n",
      "dtypes: float64(4), object(1)\n",
      "memory usage: 4.6+ MB\n",
      "None\n"
     ]
    }
   ],
   "source": [
    "print(data0.info())\n",
    "print(data1.info())\n",
    "print(data2.info())"
   ]
  },
  {
   "cell_type": "markdown",
   "metadata": {},
   "source": [
    "**Соответствующие типы данных.**"
   ]
  },
  {
   "cell_type": "code",
   "execution_count": 13,
   "metadata": {},
   "outputs": [],
   "source": [
    "data0 = data0.drop('id', axis=1)\n",
    "data1 = data1.drop('id', axis=1)\n",
    "data2 = data2.drop('id', axis=1)"
   ]
  },
  {
   "cell_type": "markdown",
   "metadata": {},
   "source": [
    "**Дроп столбца ID-шников, могут оказать негативное влияние на обучение модели.**"
   ]
  },
  {
   "cell_type": "code",
   "execution_count": 14,
   "metadata": {},
   "outputs": [
    {
     "data": {
      "image/png": "[encoded data removed]",
      "text/plain": [
       "<Figure size 1080x360 with 4 Axes>"
      ]
     },
     "metadata": {
      "needs_background": "light"
     },
     "output_type": "display_data"
    }
   ],
   "source": [
    "data0.hist(figsize=(15,5));"
   ]
  },
  {
   "cell_type": "code",
   "execution_count": 15,
   "metadata": {},
   "outputs": [
    {
     "data": {
      "image/png": "[encoded data removed]",
      "text/plain": [
       "<Figure size 1080x360 with 4 Axes>"
      ]
     },
     "metadata": {
      "needs_background": "light"
     },
     "output_type": "display_data"
    }
   ],
   "source": [
    "data1.hist(figsize=(15,5));"
   ]
  },
  {
   "cell_type": "code",
   "execution_count": 16,
   "metadata": {},
   "outputs": [
    {
     "data": {
      "image/png": "[encoded data removed]",
      "text/plain": [
       "<Figure size 1080x360 with 4 Axes>"
      ]
     },
     "metadata": {
      "needs_background": "light"
     },
     "output_type": "display_data"
    }
   ],
   "source": [
    "data2.hist(figsize=(15,5));"
   ]
  },
  {
   "cell_type": "markdown",
   "metadata": {},
   "source": [
    "**На гистограммах видно отсутствие выбросов.**"
   ]
  },
  {
   "cell_type": "markdown",
   "metadata": {},
   "source": [
    "### Промежуточный вывод:"
   ]
  },
  {
   "cell_type": "markdown",
   "metadata": {},
   "source": [
    "* **Имеем 3 датасета на 100тыс. строк и 5 столбцов каждый.**\n",
    "* **Удалены единичные дубликаты в сетах**\n",
    "* **Предобработки данных почти не понадобилось, удалили один столбец с ID скважин.**"
   ]
  },
  {
   "cell_type": "code",
   "execution_count": 17,
   "metadata": {},
   "outputs": [
    {
     "data": {
      "image/png": "[encoded data removed]",
      "text/plain": [
       "<Figure size 432x288 with 2 Axes>"
      ]
     },
     "metadata": {
      "needs_background": "light"
     },
     "output_type": "display_data"
    }
   ],
   "source": [
    "sns.heatmap(data0.corr(), cmap=\"YlGnBu\", annot=True)\n",
    "plt.title('Первый регион')\n",
    "plt.show()"
   ]
  },
  {
   "cell_type": "code",
   "execution_count": 18,
   "metadata": {},
   "outputs": [
    {
     "data": {
      "image/png": "[encoded data removed]",
      "text/plain": [
       "<Figure size 432x288 with 2 Axes>"
      ]
     },
     "metadata": {
      "needs_background": "light"
     },
     "output_type": "display_data"
    }
   ],
   "source": [
    "sns.heatmap(data1.corr(), cmap=\"YlGnBu\", annot=True)\n",
    "plt.title('Первый регион')\n",
    "plt.show()"
   ]
  },
  {
   "cell_type": "code",
   "execution_count": 19,
   "metadata": {},
   "outputs": [
    {
     "data": {
      "image/png": "[encoded data removed]",
      "text/plain": [
       "<Figure size 432x288 with 2 Axes>"
      ]
     },
     "metadata": {
      "needs_background": "light"
     },
     "output_type": "display_data"
    }
   ],
   "source": [
    "sns.heatmap(data2.corr(), cmap=\"YlGnBu\", annot=True)\n",
    "plt.title('Первый регион')\n",
    "plt.show()"
   ]
  },
  {
   "cell_type": "markdown",
   "metadata": {},
   "source": [
    "## Обучение и проверка модели"
   ]
  },
  {
   "cell_type": "code",
   "execution_count": 20,
   "metadata": {},
   "outputs": [
    {
     "name": "stdout",
     "output_type": "stream",
     "text": [
      "Средние запасы первого региона: 92.7892 Тыс.Баррелей.\n",
      "RMSE модели: 37.8535\n",
      "\n",
      "Средние запасы второго региона: 69.1783 Тыс.Баррелей.\n",
      "RMSE модели: 0.8921\n",
      "\n",
      "Средние запасы третьего региона: 94.8657 Тыс.Баррелей.\n",
      "RMSE модели: 40.0759\n",
      "\n"
     ]
    }
   ],
   "source": [
    "data = [data0, data1, data2] # Делаю список что-бы обращаться к данным в цикле.\n",
    "\n",
    "predictions0 = [] # Сохраняю предсказания модели и правильные ответы.\n",
    "target_valid0 = []\n",
    "\n",
    "predictions1 = []\n",
    "target_valid1 = []\n",
    "\n",
    "predictions2 = []\n",
    "target_valid2 = []\n",
    "\n",
    "count = -1\n",
    "\n",
    "\n",
    "for i in data:    \n",
    "    features = i.drop('product', axis=1)\n",
    "    target = i['product']\n",
    "\n",
    "    features_train, features_valid, target_train, target_valid = train_test_split(features, target, # Разделяю выборку.\n",
    "                                                                              test_size=0.25, random_state=12345)\n",
    "    model = LinearRegression()\n",
    "    model.fit(features_train, target_train)\n",
    "    predictions = model.predict(features_valid) # обучаем модель.\n",
    "    count += 1\n",
    "    if count == 0:\n",
    "        target_valid0 = target_valid\n",
    "        predictions0 = predictions\n",
    "        print('Средние запасы первого региона:', predictions.mean().round(4), 'Тыс.Баррелей.')\n",
    "        print('RMSE модели:', (mse(predictions, target_valid)**0.5).round(4))\n",
    "        print()       # После того как это написал подумал что удобнее было бы черезе функцию, переделывать не стал.\n",
    "    if count == 1:\n",
    "        target_valid1 = target_valid\n",
    "        predictions1 = predictions\n",
    "        print('Средние запасы второго региона:', predictions.mean().round(4), 'Тыс.Баррелей.')\n",
    "        print('RMSE модели:', (mse(predictions, target_valid)**0.5).round(4))\n",
    "        print()\n",
    "    if count == 2:\n",
    "        target_valid2 = target_valid\n",
    "        predictions2 = predictions\n",
    "        print('Средние запасы третьего региона:', predictions.mean().round(4), 'Тыс.Баррелей.')\n",
    "        print('RMSE модели:', (mse(predictions, target_valid)**0.5).round(4))\n",
    "        print()\n",
    "    "
   ]
  },
  {
   "cell_type": "markdown",
   "metadata": {},
   "source": [
    "### Промежуточный вывод:"
   ]
  },
  {
   "cell_type": "markdown",
   "metadata": {},
   "source": [
    "* **У первой и третьей модели очень высокая степень ошибки(40тыс.бар.) при среднем в регионе ~95.**\n",
    "\n",
    "* **у второй модели слишком маленькая степень ошибки, вероятно модель переобучилась.**"
   ]
  },
  {
   "cell_type": "markdown",
   "metadata": {},
   "source": [
    "## Подготовка к расчёту прибыли"
   ]
  },
  {
   "cell_type": "code",
   "execution_count": 21,
   "metadata": {},
   "outputs": [],
   "source": [
    "points = 500\n",
    "top_points = 200    # Записываем данные в переменные.\n",
    "budget = 10000000000\n",
    "barrel_income = 450*1000\n",
    "prob = 0.025"
   ]
  },
  {
   "cell_type": "code",
   "execution_count": 22,
   "metadata": {},
   "outputs": [
    {
     "name": "stdout",
     "output_type": "stream",
     "text": [
      "Средний объём скважин должен быть не менее: 111 Тыс.Баррелей.\n",
      "Средний объем первого региона 92.5 Тыс.Баррелей.\n",
      "Средний объем второго региона 68.824 Тыс.Баррелей.\n",
      "Средний объем третьего региона 94.998 Тыс.Баррелей.\n"
     ]
    }
   ],
   "source": [
    "point_budget = budget/200 # Средняя цена одной скважины.\n",
    "payback = point_budget/barrel_income # Нужный объём скважины для того что-бы она окупилась.\n",
    "print('Средний объём скважин должен быть не менее:', int(payback), 'Тыс.Баррелей.')\n",
    "\n",
    "print('Средний объем первого региона', data0['product'].mean().round(3), 'Тыс.Баррелей.')\n",
    "print('Средний объем второго региона', data1['product'].mean().round(3), 'Тыс.Баррелей.')\n",
    "print('Средний объем третьего региона', data2['product'].mean().round(3), 'Тыс.Баррелей.')"
   ]
  },
  {
   "cell_type": "markdown",
   "metadata": {},
   "source": [
    "### Промежуточный вывод:"
   ]
  },
  {
   "cell_type": "markdown",
   "metadata": {},
   "source": [
    "**Средний объём скважин в отдельно взятом регионе значительно ниже порога окупаемости, у первого и третьего региона средний объём 92.5 и 95 Т.Баррелей при минимальном объёме для окупаемости в 111 Т.Баррелей.**\n",
    "\n",
    "**Но если мы будем многократно случайным образом выбирать отдельно взятые 200 скважин из всего объёма, мы сможем рассчитать возможную прибыль и риски, в общем методом бутстрапирования мы вычислим значения и на их основе сделаем выводы о том даст какой-либо регион прибыль и мы сможем вывести решение о дальнейшей разработки.**"
   ]
  },
  {
   "cell_type": "markdown",
   "metadata": {},
   "source": [
    "## Расчёт прибыли и рисков "
   ]
  },
  {
   "cell_type": "code",
   "execution_count": 23,
   "metadata": {},
   "outputs": [],
   "source": [
    "def income(target_valid, predictions_valid, n): # Функция для расчёта прибыли\n",
    "    \n",
    "    target = target_valid.reset_index(drop = True)\n",
    "    predictions = pd.Series(predictions_valid, index = target.index) \n",
    "    best_points = target[predictions.sort_values(ascending = False).index][:n]\n",
    "    \n",
    "    return (best_points.sum() * barrel_income - budget) / 1000000"
   ]
  },
  {
   "cell_type": "code",
   "execution_count": 24,
   "metadata": {},
   "outputs": [],
   "source": [
    "def region(target, pred, n):       # Создаём функцию для того что-бы далее кормить ей каждый регион по отдельности.\n",
    "    state = np.random.RandomState(12345)\n",
    "    incomes = []\n",
    "\n",
    "    for i in range(1000):       # Копирую код из учебного материала и подставляю наши значения.\n",
    "        target_subsample = target.reset_index(drop= True).sample(n, random_state=state, replace=True)\n",
    "        probs_subsample = pred[target_subsample.index]\n",
    "        incomes.append(income(target_subsample, probs_subsample, 200))\n",
    "    \n",
    "    incomes = pd.Series(incomes)    \n",
    "    loss = incomes[incomes<0].count()/1000\n",
    "\n",
    "    lower = incomes.quantile(0.025)\n",
    "    upper = incomes.quantile(.975)\n",
    "\n",
    "    print('Средняя прибыль от 200 скважин:', (incomes.mean().round(2)), 'млн.руб.')\n",
    "    print('95% доверительный интервал от 200 скважин:', lower.round(3),\n",
    "          '-', upper.round(3))\n",
    "    print('Вероятность убытка:', loss*100, '%')"
   ]
  },
  {
   "cell_type": "code",
   "execution_count": 25,
   "metadata": {},
   "outputs": [
    {
     "name": "stdout",
     "output_type": "stream",
     "text": [
      "Средняя прибыль от 200 скважин: 380.61 млн.руб.\n",
      "95% доверительный интервал от 200 скважин: -142.943 - 890.977\n",
      "Вероятность убытка: 7.7 %\n"
     ]
    }
   ],
   "source": [
    "region(target_valid0, predictions0, 500)"
   ]
  },
  {
   "cell_type": "code",
   "execution_count": 26,
   "metadata": {},
   "outputs": [
    {
     "name": "stdout",
     "output_type": "stream",
     "text": [
      "Средняя прибыль от 200 скважин: 478.48 млн.руб.\n",
      "95% доверительный интервал от 200 скважин: 89.525 - 866.605\n",
      "Вероятность убытка: 1.2 %\n"
     ]
    }
   ],
   "source": [
    "region(target_valid1, predictions1, 500)"
   ]
  },
  {
   "cell_type": "code",
   "execution_count": 27,
   "metadata": {},
   "outputs": [
    {
     "name": "stdout",
     "output_type": "stream",
     "text": [
      "Средняя прибыль от 200 скважин: 330.55 млн.руб.\n",
      "95% доверительный интервал от 200 скважин: -190.366 - 840.467\n",
      "Вероятность убытка: 11.3 %\n"
     ]
    }
   ],
   "source": [
    "region(target_valid2, predictions2, 500)"
   ]
  },
  {
   "cell_type": "markdown",
   "metadata": {},
   "source": [
    "### Промежуточный вывод:"
   ]
  },
  {
   "cell_type": "markdown",
   "metadata": {},
   "source": [
    "**Все три региона потенциально выгодны, но лишь второй регион подходит под нашу задачу, вероятность убытка всего 1.5%**"
   ]
  },
  {
   "cell_type": "markdown",
   "metadata": {},
   "source": [
    "## Вывод:"
   ]
  },
  {
   "cell_type": "markdown",
   "metadata": {},
   "source": [
    "* **Проведена оценка и предобработка данных.**\n",
    "* **Проведена проверка и обучение модели**\n",
    "* **При подготовке к расчёту прибыли относительно объёма скважин выявлено, что средний объём скважин в отдельно взятом регионе значительно ниже порога окупаемости, у первого и третьего региона средний объём 92.5 и 95 Т.Баррелей при минимальном объёме для окупаемости в 111 Т.Баррелей.**\n",
    "* **Рассчёт прибыли и рисков с помощью Bootstrap на основе данных модели LinearRegression показали что от 200 взятых скважин среди исследуемых 500 скважин - средняя прибыль составит 356млн.руб., 95% доверительный интервал состовляет от 33 до 852млн.руб., а также вероятность убытка всего в 1.5%**"
   ]
  }
 ],
 "metadata": {
  "ExecuteTimeLog": [
   {
    "duration": 42,
    "start_time": "2023-08-21T05:08:20.121Z"
   },
   {
    "duration": 388,
    "start_time": "2023-08-21T05:08:22.493Z"
   },
   {
    "duration": 90,
    "start_time": "2023-08-21T05:08:22.882Z"
   },
   {
    "duration": 24,
    "start_time": "2023-08-21T05:08:23.041Z"
   },
   {
    "duration": 9,
    "start_time": "2023-08-21T05:08:41.932Z"
   },
   {
    "duration": 553,
    "start_time": "2023-08-21T05:08:56.383Z"
   },
   {
    "duration": 19,
    "start_time": "2023-08-21T05:08:57.382Z"
   },
   {
    "duration": 12,
    "start_time": "2023-08-21T05:09:21.046Z"
   },
   {
    "duration": 9,
    "start_time": "2023-08-21T05:09:26.717Z"
   },
   {
    "duration": 7,
    "start_time": "2023-08-21T05:09:46.380Z"
   },
   {
    "duration": 4,
    "start_time": "2023-08-21T05:09:57.397Z"
   },
   {
    "duration": 9,
    "start_time": "2023-08-21T05:10:36.492Z"
   },
   {
    "duration": 4,
    "start_time": "2023-08-21T05:10:41.762Z"
   },
   {
    "duration": 3,
    "start_time": "2023-08-21T05:10:51.645Z"
   },
   {
    "duration": 42,
    "start_time": "2023-08-21T05:12:17.563Z"
   },
   {
    "duration": 43,
    "start_time": "2023-08-21T05:12:22.289Z"
   },
   {
    "duration": 117,
    "start_time": "2023-08-21T05:12:40.976Z"
   },
   {
    "duration": 45,
    "start_time": "2023-08-21T05:13:57.463Z"
   },
   {
    "duration": 564,
    "start_time": "2023-08-21T05:14:22.374Z"
   },
   {
    "duration": 8,
    "start_time": "2023-08-21T05:14:22.940Z"
   },
   {
    "duration": 9,
    "start_time": "2023-08-21T05:14:23.476Z"
   },
   {
    "duration": 10,
    "start_time": "2023-08-21T05:14:23.868Z"
   },
   {
    "duration": 3,
    "start_time": "2023-08-21T05:14:24.455Z"
   },
   {
    "duration": 119,
    "start_time": "2023-08-21T05:14:24.995Z"
   },
   {
    "duration": 31,
    "start_time": "2023-08-21T05:14:25.498Z"
   },
   {
    "duration": 6,
    "start_time": "2023-08-21T05:15:17.425Z"
   },
   {
    "duration": 8,
    "start_time": "2023-08-21T05:15:21.440Z"
   },
   {
    "duration": 20,
    "start_time": "2023-08-21T05:15:30.918Z"
   },
   {
    "duration": 18,
    "start_time": "2023-08-21T05:16:42.937Z"
   },
   {
    "duration": 898,
    "start_time": "2023-08-21T05:18:45.402Z"
   },
   {
    "duration": 567,
    "start_time": "2023-08-21T05:19:02.154Z"
   },
   {
    "duration": 302,
    "start_time": "2023-08-21T05:19:26.096Z"
   },
   {
    "duration": 364,
    "start_time": "2023-08-21T05:19:36.822Z"
   },
   {
    "duration": 400,
    "start_time": "2023-08-21T05:19:43.844Z"
   },
   {
    "duration": 401,
    "start_time": "2023-08-21T05:19:49.747Z"
   },
   {
    "duration": 459,
    "start_time": "2023-08-21T05:19:59.082Z"
   },
   {
    "duration": 388,
    "start_time": "2023-08-21T05:19:59.618Z"
   },
   {
    "duration": 756,
    "start_time": "2023-08-21T05:22:35.662Z"
   },
   {
    "duration": 82,
    "start_time": "2023-08-21T05:30:14.925Z"
   },
   {
    "duration": 3,
    "start_time": "2023-08-21T05:30:53.272Z"
   },
   {
    "duration": 72,
    "start_time": "2023-08-21T05:30:56.886Z"
   },
   {
    "duration": 48,
    "start_time": "2023-08-21T05:33:45.994Z"
   },
   {
    "duration": 11,
    "start_time": "2023-08-21T05:34:02.502Z"
   },
   {
    "duration": 10,
    "start_time": "2023-08-21T05:46:00.722Z"
   },
   {
    "duration": 28,
    "start_time": "2023-08-21T05:55:33.722Z"
   },
   {
    "duration": 20,
    "start_time": "2023-08-21T05:55:38.392Z"
   },
   {
    "duration": 49,
    "start_time": "2023-08-21T05:55:42.217Z"
   },
   {
    "duration": 64,
    "start_time": "2023-08-21T05:56:57.639Z"
   },
   {
    "duration": 54,
    "start_time": "2023-08-21T05:57:27.017Z"
   },
   {
    "duration": 11,
    "start_time": "2023-08-21T05:58:24.919Z"
   },
   {
    "duration": 52,
    "start_time": "2023-08-21T05:58:27.550Z"
   },
   {
    "duration": 95,
    "start_time": "2023-08-21T05:58:35.743Z"
   },
   {
    "duration": 46,
    "start_time": "2023-08-21T07:39:35.810Z"
   },
   {
    "duration": 1190,
    "start_time": "2023-08-21T07:39:43.176Z"
   },
   {
    "duration": 755,
    "start_time": "2023-08-21T07:39:44.368Z"
   },
   {
    "duration": 16,
    "start_time": "2023-08-21T07:39:45.125Z"
   },
   {
    "duration": 22,
    "start_time": "2023-08-21T07:39:45.142Z"
   },
   {
    "duration": 11,
    "start_time": "2023-08-21T07:39:45.165Z"
   },
   {
    "duration": 20,
    "start_time": "2023-08-21T07:39:45.178Z"
   },
   {
    "duration": 119,
    "start_time": "2023-08-21T07:39:45.199Z"
   },
   {
    "duration": 25,
    "start_time": "2023-08-21T07:39:45.319Z"
   },
   {
    "duration": 31,
    "start_time": "2023-08-21T07:39:45.345Z"
   },
   {
    "duration": 11,
    "start_time": "2023-08-21T07:39:45.378Z"
   },
   {
    "duration": 674,
    "start_time": "2023-08-21T07:39:45.477Z"
   },
   {
    "duration": 381,
    "start_time": "2023-08-21T07:39:46.153Z"
   },
   {
    "duration": 472,
    "start_time": "2023-08-21T07:39:46.535Z"
   },
   {
    "duration": 45,
    "start_time": "2023-08-21T07:40:03.384Z"
   },
   {
    "duration": 7,
    "start_time": "2023-08-21T07:40:11.091Z"
   },
   {
    "duration": 6,
    "start_time": "2023-08-21T07:40:12.849Z"
   },
   {
    "duration": 6,
    "start_time": "2023-08-21T07:40:25.317Z"
   },
   {
    "duration": 1199,
    "start_time": "2023-08-21T07:40:36.166Z"
   },
   {
    "duration": 747,
    "start_time": "2023-08-21T07:40:37.366Z"
   },
   {
    "duration": 15,
    "start_time": "2023-08-21T07:40:38.115Z"
   },
   {
    "duration": 8,
    "start_time": "2023-08-21T07:40:38.131Z"
   },
   {
    "duration": 18,
    "start_time": "2023-08-21T07:40:38.141Z"
   },
   {
    "duration": 25,
    "start_time": "2023-08-21T07:40:38.161Z"
   },
   {
    "duration": 126,
    "start_time": "2023-08-21T07:40:38.188Z"
   },
   {
    "duration": 24,
    "start_time": "2023-08-21T07:40:38.315Z"
   },
   {
    "duration": 30,
    "start_time": "2023-08-21T07:40:38.341Z"
   },
   {
    "duration": 11,
    "start_time": "2023-08-21T07:40:38.373Z"
   },
   {
    "duration": 820,
    "start_time": "2023-08-21T07:40:38.385Z"
   },
   {
    "duration": 371,
    "start_time": "2023-08-21T07:40:39.206Z"
   },
   {
    "duration": 462,
    "start_time": "2023-08-21T07:40:39.578Z"
   },
   {
    "duration": 1114,
    "start_time": "2023-08-21T07:41:22.236Z"
   },
   {
    "duration": 753,
    "start_time": "2023-08-21T07:41:23.352Z"
   },
   {
    "duration": 15,
    "start_time": "2023-08-21T07:41:24.107Z"
   },
   {
    "duration": 30,
    "start_time": "2023-08-21T07:41:24.124Z"
   },
   {
    "duration": 25,
    "start_time": "2023-08-21T07:41:24.156Z"
   },
   {
    "duration": 9,
    "start_time": "2023-08-21T07:41:24.182Z"
   },
   {
    "duration": 121,
    "start_time": "2023-08-21T07:41:24.192Z"
   },
   {
    "duration": 24,
    "start_time": "2023-08-21T07:41:24.314Z"
   },
   {
    "duration": 44,
    "start_time": "2023-08-21T07:41:24.340Z"
   },
   {
    "duration": 12,
    "start_time": "2023-08-21T07:41:24.387Z"
   },
   {
    "duration": 696,
    "start_time": "2023-08-21T07:41:24.401Z"
   },
   {
    "duration": 376,
    "start_time": "2023-08-21T07:41:25.098Z"
   },
   {
    "duration": 488,
    "start_time": "2023-08-21T07:41:25.476Z"
   },
   {
    "duration": 45,
    "start_time": "2023-08-21T07:41:37.631Z"
   },
   {
    "duration": 1123,
    "start_time": "2023-08-21T07:41:43.037Z"
   },
   {
    "duration": 771,
    "start_time": "2023-08-21T07:41:44.161Z"
   },
   {
    "duration": 15,
    "start_time": "2023-08-21T07:41:44.934Z"
   },
   {
    "duration": 13,
    "start_time": "2023-08-21T07:41:44.951Z"
   },
   {
    "duration": 18,
    "start_time": "2023-08-21T07:41:44.965Z"
   },
   {
    "duration": 22,
    "start_time": "2023-08-21T07:41:44.985Z"
   },
   {
    "duration": 160,
    "start_time": "2023-08-21T07:41:45.009Z"
   },
   {
    "duration": 19,
    "start_time": "2023-08-21T07:41:45.170Z"
   },
   {
    "duration": 45,
    "start_time": "2023-08-21T07:41:45.191Z"
   },
   {
    "duration": 11,
    "start_time": "2023-08-21T07:41:45.238Z"
   },
   {
    "duration": 633,
    "start_time": "2023-08-21T07:41:45.269Z"
   },
   {
    "duration": 385,
    "start_time": "2023-08-21T07:41:45.904Z"
   },
   {
    "duration": 470,
    "start_time": "2023-08-21T07:41:46.290Z"
   },
   {
    "duration": 1110,
    "start_time": "2023-08-21T07:42:09.704Z"
   },
   {
    "duration": 753,
    "start_time": "2023-08-21T07:42:10.816Z"
   },
   {
    "duration": 15,
    "start_time": "2023-08-21T07:42:11.570Z"
   },
   {
    "duration": 16,
    "start_time": "2023-08-21T07:42:11.587Z"
   },
   {
    "duration": 16,
    "start_time": "2023-08-21T07:42:11.605Z"
   },
   {
    "duration": 20,
    "start_time": "2023-08-21T07:42:11.622Z"
   },
   {
    "duration": 137,
    "start_time": "2023-08-21T07:42:11.644Z"
   },
   {
    "duration": 21,
    "start_time": "2023-08-21T07:42:11.784Z"
   },
   {
    "duration": 70,
    "start_time": "2023-08-21T07:42:11.807Z"
   },
   {
    "duration": 12,
    "start_time": "2023-08-21T07:42:11.879Z"
   },
   {
    "duration": 657,
    "start_time": "2023-08-21T07:42:11.893Z"
   },
   {
    "duration": 426,
    "start_time": "2023-08-21T07:42:12.552Z"
   },
   {
    "duration": 464,
    "start_time": "2023-08-21T07:42:12.979Z"
   },
   {
    "duration": 45,
    "start_time": "2023-08-21T07:42:29.376Z"
   },
   {
    "duration": 1123,
    "start_time": "2023-08-21T07:42:39.259Z"
   },
   {
    "duration": 745,
    "start_time": "2023-08-21T07:42:40.384Z"
   },
   {
    "duration": 15,
    "start_time": "2023-08-21T07:42:41.131Z"
   },
   {
    "duration": 8,
    "start_time": "2023-08-21T07:42:41.148Z"
   },
   {
    "duration": 9,
    "start_time": "2023-08-21T07:42:41.158Z"
   },
   {
    "duration": 6,
    "start_time": "2023-08-21T07:42:41.169Z"
   },
   {
    "duration": 127,
    "start_time": "2023-08-21T07:42:41.177Z"
   },
   {
    "duration": 19,
    "start_time": "2023-08-21T07:42:41.306Z"
   },
   {
    "duration": 32,
    "start_time": "2023-08-21T07:42:41.334Z"
   },
   {
    "duration": 10,
    "start_time": "2023-08-21T07:42:41.368Z"
   },
   {
    "duration": 693,
    "start_time": "2023-08-21T07:42:41.380Z"
   },
   {
    "duration": 394,
    "start_time": "2023-08-21T07:42:42.074Z"
   },
   {
    "duration": 512,
    "start_time": "2023-08-21T07:42:42.469Z"
   },
   {
    "duration": 235,
    "start_time": "2023-08-21T07:42:42.983Z"
   },
   {
    "duration": 0,
    "start_time": "2023-08-21T07:42:43.219Z"
   },
   {
    "duration": 31,
    "start_time": "2023-08-21T07:42:58.849Z"
   },
   {
    "duration": 47,
    "start_time": "2023-08-21T07:44:52.139Z"
   },
   {
    "duration": 1101,
    "start_time": "2023-08-21T07:44:57.624Z"
   },
   {
    "duration": 736,
    "start_time": "2023-08-21T07:44:58.727Z"
   },
   {
    "duration": 15,
    "start_time": "2023-08-21T07:44:59.465Z"
   },
   {
    "duration": 9,
    "start_time": "2023-08-21T07:44:59.482Z"
   },
   {
    "duration": 12,
    "start_time": "2023-08-21T07:44:59.494Z"
   },
   {
    "duration": 14,
    "start_time": "2023-08-21T07:44:59.507Z"
   },
   {
    "duration": 121,
    "start_time": "2023-08-21T07:44:59.523Z"
   },
   {
    "duration": 20,
    "start_time": "2023-08-21T07:44:59.646Z"
   },
   {
    "duration": 34,
    "start_time": "2023-08-21T07:44:59.667Z"
   },
   {
    "duration": 11,
    "start_time": "2023-08-21T07:44:59.702Z"
   },
   {
    "duration": 663,
    "start_time": "2023-08-21T07:44:59.714Z"
   },
   {
    "duration": 388,
    "start_time": "2023-08-21T07:45:00.379Z"
   },
   {
    "duration": 459,
    "start_time": "2023-08-21T07:45:00.768Z"
   },
   {
    "duration": 286,
    "start_time": "2023-08-21T07:45:01.229Z"
   },
   {
    "duration": 0,
    "start_time": "2023-08-21T07:45:01.517Z"
   },
   {
    "duration": 182,
    "start_time": "2023-08-21T07:45:34.953Z"
   },
   {
    "duration": 100,
    "start_time": "2023-08-21T07:46:17.336Z"
   },
   {
    "duration": 309,
    "start_time": "2023-08-21T07:46:51.526Z"
   },
   {
    "duration": 5,
    "start_time": "2023-08-21T07:46:55.903Z"
   },
   {
    "duration": 258,
    "start_time": "2023-08-21T07:47:51.582Z"
   },
   {
    "duration": 241,
    "start_time": "2023-08-21T07:48:50.198Z"
   },
   {
    "duration": 401,
    "start_time": "2023-08-21T07:48:59.737Z"
   },
   {
    "duration": 119,
    "start_time": "2023-08-21T07:51:14.116Z"
   },
   {
    "duration": 3,
    "start_time": "2023-08-21T07:51:26.262Z"
   },
   {
    "duration": 409,
    "start_time": "2023-08-21T07:51:29.634Z"
   },
   {
    "duration": 316,
    "start_time": "2023-08-21T07:52:59.930Z"
   },
   {
    "duration": 349,
    "start_time": "2023-08-21T07:58:41.789Z"
   },
   {
    "duration": 262,
    "start_time": "2023-08-21T07:58:52.586Z"
   },
   {
    "duration": 120,
    "start_time": "2023-08-21T07:59:02.420Z"
   },
   {
    "duration": 318,
    "start_time": "2023-08-21T07:59:11.523Z"
   },
   {
    "duration": 343,
    "start_time": "2023-08-21T07:59:45.601Z"
   },
   {
    "duration": 437,
    "start_time": "2023-08-21T08:00:25.317Z"
   },
   {
    "duration": 385,
    "start_time": "2023-08-21T08:01:00.349Z"
   },
   {
    "duration": 328,
    "start_time": "2023-08-21T08:01:37.313Z"
   },
   {
    "duration": 3,
    "start_time": "2023-08-21T08:02:05.771Z"
   },
   {
    "duration": 3,
    "start_time": "2023-08-21T08:02:10.649Z"
   },
   {
    "duration": 3,
    "start_time": "2023-08-21T08:23:27.214Z"
   },
   {
    "duration": 10,
    "start_time": "2023-08-21T08:26:22.109Z"
   },
   {
    "duration": 4,
    "start_time": "2023-08-21T08:26:27.090Z"
   },
   {
    "duration": 8,
    "start_time": "2023-08-21T08:26:44.839Z"
   },
   {
    "duration": 4,
    "start_time": "2023-08-21T08:27:40.456Z"
   },
   {
    "duration": 13,
    "start_time": "2023-08-21T08:28:54.450Z"
   },
   {
    "duration": 10,
    "start_time": "2023-08-21T08:29:13.674Z"
   },
   {
    "duration": 11,
    "start_time": "2023-08-21T08:29:24.702Z"
   },
   {
    "duration": 11,
    "start_time": "2023-08-21T08:29:30.201Z"
   },
   {
    "duration": 6,
    "start_time": "2023-08-21T08:29:44.763Z"
   },
   {
    "duration": 12343,
    "start_time": "2023-08-21T08:30:01.592Z"
   },
   {
    "duration": 46,
    "start_time": "2023-08-21T08:35:58.552Z"
   },
   {
    "duration": 84,
    "start_time": "2023-08-21T08:36:12.273Z"
   },
   {
    "duration": 94,
    "start_time": "2023-08-21T08:36:24.114Z"
   },
   {
    "duration": 104,
    "start_time": "2023-08-21T08:36:40.027Z"
   },
   {
    "duration": 12160,
    "start_time": "2023-08-21T08:37:04.408Z"
   },
   {
    "duration": 189,
    "start_time": "2023-08-21T08:37:18.484Z"
   },
   {
    "duration": 171,
    "start_time": "2023-08-21T08:37:33.180Z"
   },
   {
    "duration": 63,
    "start_time": "2023-08-21T08:37:50.357Z"
   },
   {
    "duration": 202,
    "start_time": "2023-08-21T08:38:15.917Z"
   },
   {
    "duration": 124,
    "start_time": "2023-08-21T08:38:57.201Z"
   },
   {
    "duration": 116,
    "start_time": "2023-08-21T08:39:36.162Z"
   },
   {
    "duration": 87,
    "start_time": "2023-08-21T08:39:56.225Z"
   },
   {
    "duration": 95,
    "start_time": "2023-08-21T08:40:28.364Z"
   },
   {
    "duration": 90,
    "start_time": "2023-08-21T08:40:32.080Z"
   },
   {
    "duration": 101,
    "start_time": "2023-08-21T08:40:38.858Z"
   },
   {
    "duration": 107,
    "start_time": "2023-08-21T08:40:49.987Z"
   },
   {
    "duration": 103,
    "start_time": "2023-08-21T08:45:07.724Z"
   },
   {
    "duration": 130,
    "start_time": "2023-08-21T08:45:14.234Z"
   },
   {
    "duration": 97,
    "start_time": "2023-08-21T08:45:23.670Z"
   },
   {
    "duration": 115,
    "start_time": "2023-08-21T08:45:49.545Z"
   },
   {
    "duration": 77,
    "start_time": "2023-08-21T08:48:34.932Z"
   },
   {
    "duration": 4,
    "start_time": "2023-08-21T08:48:43.299Z"
   },
   {
    "duration": 6,
    "start_time": "2023-08-21T08:51:13.441Z"
   },
   {
    "duration": 5,
    "start_time": "2023-08-21T08:52:16.854Z"
   },
   {
    "duration": 6,
    "start_time": "2023-08-21T08:52:52.624Z"
   },
   {
    "duration": 5,
    "start_time": "2023-08-21T08:53:27.108Z"
   },
   {
    "duration": 6,
    "start_time": "2023-08-21T08:54:15.257Z"
   },
   {
    "duration": 6,
    "start_time": "2023-08-21T08:54:21.959Z"
   },
   {
    "duration": 6,
    "start_time": "2023-08-21T08:54:32.164Z"
   },
   {
    "duration": 17,
    "start_time": "2023-08-21T08:59:05.944Z"
   },
   {
    "duration": 14,
    "start_time": "2023-08-21T08:59:18.679Z"
   },
   {
    "duration": 16,
    "start_time": "2023-08-21T09:00:15.013Z"
   },
   {
    "duration": 15,
    "start_time": "2023-08-21T09:00:48.914Z"
   },
   {
    "duration": 23,
    "start_time": "2023-08-21T09:01:32.091Z"
   },
   {
    "duration": 11,
    "start_time": "2023-08-21T09:01:53.322Z"
   },
   {
    "duration": 9,
    "start_time": "2023-08-21T09:02:37.956Z"
   },
   {
    "duration": 11,
    "start_time": "2023-08-21T09:02:50.668Z"
   },
   {
    "duration": 9,
    "start_time": "2023-08-21T09:03:29.176Z"
   },
   {
    "duration": 10,
    "start_time": "2023-08-21T09:03:44.203Z"
   },
   {
    "duration": 9,
    "start_time": "2023-08-21T09:03:57.431Z"
   },
   {
    "duration": 15,
    "start_time": "2023-08-21T09:04:11.735Z"
   },
   {
    "duration": 8,
    "start_time": "2023-08-21T09:04:22.523Z"
   },
   {
    "duration": 5,
    "start_time": "2023-08-21T09:04:29.976Z"
   },
   {
    "duration": 6,
    "start_time": "2023-08-21T09:04:40.255Z"
   },
   {
    "duration": 6,
    "start_time": "2023-08-21T09:04:59.426Z"
   },
   {
    "duration": 7,
    "start_time": "2023-08-21T09:05:02.416Z"
   },
   {
    "duration": 12,
    "start_time": "2023-08-21T09:06:03.559Z"
   },
   {
    "duration": 18,
    "start_time": "2023-08-21T09:06:14.567Z"
   },
   {
    "duration": 8,
    "start_time": "2023-08-21T09:07:16.895Z"
   },
   {
    "duration": 10,
    "start_time": "2023-08-21T09:07:29.962Z"
   },
   {
    "duration": 9,
    "start_time": "2023-08-21T09:07:43.940Z"
   },
   {
    "duration": 10,
    "start_time": "2023-08-21T09:09:53.233Z"
   },
   {
    "duration": 8,
    "start_time": "2023-08-21T09:10:03.918Z"
   },
   {
    "duration": 10,
    "start_time": "2023-08-21T09:10:17.720Z"
   },
   {
    "duration": 7,
    "start_time": "2023-08-21T09:10:21.568Z"
   },
   {
    "duration": 11,
    "start_time": "2023-08-21T09:10:46.738Z"
   },
   {
    "duration": 8,
    "start_time": "2023-08-21T09:11:16.386Z"
   },
   {
    "duration": 7,
    "start_time": "2023-08-21T09:11:28.762Z"
   },
   {
    "duration": 9,
    "start_time": "2023-08-21T09:11:37.244Z"
   },
   {
    "duration": 4,
    "start_time": "2023-08-21T09:22:53.097Z"
   },
   {
    "duration": 8,
    "start_time": "2023-08-21T09:23:52.937Z"
   },
   {
    "duration": 8,
    "start_time": "2023-08-21T09:23:57.034Z"
   },
   {
    "duration": 9,
    "start_time": "2023-08-21T09:26:41.389Z"
   },
   {
    "duration": 9,
    "start_time": "2023-08-21T09:26:50.536Z"
   },
   {
    "duration": 4,
    "start_time": "2023-08-21T09:26:56.069Z"
   },
   {
    "duration": 3,
    "start_time": "2023-08-21T09:27:16.409Z"
   },
   {
    "duration": 4,
    "start_time": "2023-08-21T09:27:25.766Z"
   },
   {
    "duration": 3,
    "start_time": "2023-08-21T09:28:17.700Z"
   },
   {
    "duration": 6,
    "start_time": "2023-08-21T09:28:37.571Z"
   },
   {
    "duration": 10,
    "start_time": "2023-08-21T09:30:39.694Z"
   },
   {
    "duration": 6,
    "start_time": "2023-08-21T09:30:53.310Z"
   },
   {
    "duration": 12,
    "start_time": "2023-08-21T09:32:11.119Z"
   },
   {
    "duration": 12,
    "start_time": "2023-08-21T09:33:09.918Z"
   },
   {
    "duration": 5,
    "start_time": "2023-08-21T09:33:35.182Z"
   },
   {
    "duration": 12,
    "start_time": "2023-08-21T09:33:45.950Z"
   },
   {
    "duration": 5,
    "start_time": "2023-08-21T09:34:43.752Z"
   },
   {
    "duration": 23,
    "start_time": "2023-08-21T09:35:18.029Z"
   },
   {
    "duration": 7,
    "start_time": "2023-08-21T09:40:31.697Z"
   },
   {
    "duration": 6,
    "start_time": "2023-08-21T09:40:50.871Z"
   },
   {
    "duration": 21,
    "start_time": "2023-08-21T09:41:10.791Z"
   },
   {
    "duration": 6,
    "start_time": "2023-08-21T09:41:19.973Z"
   },
   {
    "duration": 6,
    "start_time": "2023-08-21T09:41:38.189Z"
   },
   {
    "duration": 145,
    "start_time": "2023-08-21T09:42:31.020Z"
   },
   {
    "duration": 13,
    "start_time": "2023-08-21T09:42:52.873Z"
   },
   {
    "duration": 5,
    "start_time": "2023-08-21T09:43:09.781Z"
   },
   {
    "duration": 14,
    "start_time": "2023-08-21T09:43:18.501Z"
   },
   {
    "duration": 13,
    "start_time": "2023-08-21T09:43:20.709Z"
   },
   {
    "duration": 13,
    "start_time": "2023-08-21T09:43:34.837Z"
   },
   {
    "duration": 6,
    "start_time": "2023-08-21T09:43:45.244Z"
   },
   {
    "duration": 6,
    "start_time": "2023-08-21T09:43:58.683Z"
   },
   {
    "duration": 6,
    "start_time": "2023-08-21T09:44:06.063Z"
   },
   {
    "duration": 15,
    "start_time": "2023-08-21T09:44:32.076Z"
   },
   {
    "duration": 14,
    "start_time": "2023-08-21T09:45:05.107Z"
   },
   {
    "duration": 3,
    "start_time": "2023-08-21T09:45:17.857Z"
   },
   {
    "duration": 23,
    "start_time": "2023-08-21T09:45:29.680Z"
   },
   {
    "duration": 7,
    "start_time": "2023-08-21T09:45:32.634Z"
   },
   {
    "duration": 6,
    "start_time": "2023-08-21T09:45:52.166Z"
   },
   {
    "duration": 7,
    "start_time": "2023-08-21T09:46:00.782Z"
   },
   {
    "duration": 9,
    "start_time": "2023-08-21T09:46:04.765Z"
   },
   {
    "duration": 6,
    "start_time": "2023-08-21T09:46:43.219Z"
   },
   {
    "duration": 7,
    "start_time": "2023-08-21T09:46:51.300Z"
   },
   {
    "duration": 6,
    "start_time": "2023-08-21T09:47:05.837Z"
   },
   {
    "duration": 6,
    "start_time": "2023-08-21T09:47:08.314Z"
   },
   {
    "duration": 7,
    "start_time": "2023-08-21T09:47:18.886Z"
   },
   {
    "duration": 6,
    "start_time": "2023-08-21T09:47:20.967Z"
   },
   {
    "duration": 8,
    "start_time": "2023-08-21T09:47:23.542Z"
   },
   {
    "duration": 6,
    "start_time": "2023-08-21T09:47:26.791Z"
   },
   {
    "duration": 26,
    "start_time": "2023-08-21T09:58:08.020Z"
   },
   {
    "duration": 13,
    "start_time": "2023-08-21T09:58:47.632Z"
   },
   {
    "duration": 12,
    "start_time": "2023-08-21T09:58:55.864Z"
   },
   {
    "duration": 2626,
    "start_time": "2023-08-21T09:59:16.043Z"
   },
   {
    "duration": 18,
    "start_time": "2023-08-21T10:00:13.480Z"
   },
   {
    "duration": 2573,
    "start_time": "2023-08-21T10:00:24.062Z"
   },
   {
    "duration": 17,
    "start_time": "2023-08-21T10:00:57.182Z"
   },
   {
    "duration": 16,
    "start_time": "2023-08-21T10:01:06.290Z"
   },
   {
    "duration": 19,
    "start_time": "2023-08-21T10:02:21.029Z"
   },
   {
    "duration": 19,
    "start_time": "2023-08-21T10:02:37.139Z"
   },
   {
    "duration": 21,
    "start_time": "2023-08-21T10:03:22.717Z"
   },
   {
    "duration": 16,
    "start_time": "2023-08-21T10:05:37.232Z"
   },
   {
    "duration": 5,
    "start_time": "2023-08-21T10:06:46.278Z"
   },
   {
    "duration": 16,
    "start_time": "2023-08-21T10:07:16.837Z"
   },
   {
    "duration": 18,
    "start_time": "2023-08-21T10:07:27.274Z"
   },
   {
    "duration": 18,
    "start_time": "2023-08-21T10:07:45.714Z"
   },
   {
    "duration": 16,
    "start_time": "2023-08-21T10:07:51.072Z"
   },
   {
    "duration": 6,
    "start_time": "2023-08-21T10:08:04.154Z"
   },
   {
    "duration": 1124,
    "start_time": "2023-08-21T10:09:04.705Z"
   },
   {
    "duration": 395,
    "start_time": "2023-08-21T10:09:05.831Z"
   },
   {
    "duration": 17,
    "start_time": "2023-08-21T10:09:06.227Z"
   },
   {
    "duration": 21,
    "start_time": "2023-08-21T10:09:06.245Z"
   },
   {
    "duration": 43,
    "start_time": "2023-08-21T10:09:06.269Z"
   },
   {
    "duration": 25,
    "start_time": "2023-08-21T10:09:06.313Z"
   },
   {
    "duration": 157,
    "start_time": "2023-08-21T10:09:06.340Z"
   },
   {
    "duration": 21,
    "start_time": "2023-08-21T10:09:06.498Z"
   },
   {
    "duration": 36,
    "start_time": "2023-08-21T10:09:06.534Z"
   },
   {
    "duration": 13,
    "start_time": "2023-08-21T10:09:06.571Z"
   },
   {
    "duration": 727,
    "start_time": "2023-08-21T10:09:06.585Z"
   },
   {
    "duration": 439,
    "start_time": "2023-08-21T10:09:07.314Z"
   },
   {
    "duration": 527,
    "start_time": "2023-08-21T10:09:07.755Z"
   },
   {
    "duration": 355,
    "start_time": "2023-08-21T10:09:08.285Z"
   },
   {
    "duration": 190,
    "start_time": "2023-08-21T10:09:08.644Z"
   },
   {
    "duration": 4,
    "start_time": "2023-08-21T10:09:08.836Z"
   },
   {
    "duration": 19,
    "start_time": "2023-08-21T10:09:08.842Z"
   },
   {
    "duration": 7,
    "start_time": "2023-08-21T10:09:08.863Z"
   },
   {
    "duration": 143,
    "start_time": "2023-08-21T10:09:08.871Z"
   },
   {
    "duration": 1239,
    "start_time": "2023-08-21T10:09:42.704Z"
   },
   {
    "duration": 460,
    "start_time": "2023-08-21T10:09:43.945Z"
   },
   {
    "duration": 17,
    "start_time": "2023-08-21T10:09:44.407Z"
   },
   {
    "duration": 52,
    "start_time": "2023-08-21T10:09:44.426Z"
   },
   {
    "duration": 42,
    "start_time": "2023-08-21T10:09:44.482Z"
   },
   {
    "duration": 15,
    "start_time": "2023-08-21T10:09:44.526Z"
   },
   {
    "duration": 178,
    "start_time": "2023-08-21T10:09:44.543Z"
   },
   {
    "duration": 29,
    "start_time": "2023-08-21T10:09:44.723Z"
   },
   {
    "duration": 42,
    "start_time": "2023-08-21T10:09:44.754Z"
   },
   {
    "duration": 35,
    "start_time": "2023-08-21T10:09:44.799Z"
   },
   {
    "duration": 701,
    "start_time": "2023-08-21T10:09:44.837Z"
   },
   {
    "duration": 409,
    "start_time": "2023-08-21T10:09:45.540Z"
   },
   {
    "duration": 742,
    "start_time": "2023-08-21T10:09:45.951Z"
   },
   {
    "duration": 451,
    "start_time": "2023-08-21T10:09:46.696Z"
   },
   {
    "duration": 88,
    "start_time": "2023-08-21T10:09:47.150Z"
   },
   {
    "duration": 93,
    "start_time": "2023-08-21T10:09:47.241Z"
   },
   {
    "duration": 7,
    "start_time": "2023-08-21T10:09:47.336Z"
   },
   {
    "duration": 11,
    "start_time": "2023-08-21T10:09:47.345Z"
   },
   {
    "duration": 134,
    "start_time": "2023-08-21T10:09:47.358Z"
   },
   {
    "duration": 12,
    "start_time": "2023-08-21T10:11:03.298Z"
   },
   {
    "duration": 5,
    "start_time": "2023-08-21T10:11:11.547Z"
   },
   {
    "duration": 5,
    "start_time": "2023-08-21T10:11:41.003Z"
   },
   {
    "duration": 27,
    "start_time": "2023-08-21T10:11:46.723Z"
   },
   {
    "duration": 6,
    "start_time": "2023-08-21T10:12:04.710Z"
   },
   {
    "duration": 15,
    "start_time": "2023-08-21T10:12:11.216Z"
   },
   {
    "duration": 15,
    "start_time": "2023-08-21T10:12:19.741Z"
   },
   {
    "duration": 14,
    "start_time": "2023-08-21T10:12:42.400Z"
   },
   {
    "duration": 17,
    "start_time": "2023-08-21T10:13:29.009Z"
   },
   {
    "duration": 5,
    "start_time": "2023-08-21T10:13:33.175Z"
   },
   {
    "duration": 14,
    "start_time": "2023-08-21T10:13:33.950Z"
   },
   {
    "duration": 4,
    "start_time": "2023-08-21T10:15:18.737Z"
   },
   {
    "duration": 4,
    "start_time": "2023-08-21T10:15:24.326Z"
   },
   {
    "duration": 4,
    "start_time": "2023-08-21T10:15:47.283Z"
   },
   {
    "duration": 6,
    "start_time": "2023-08-21T10:16:01.915Z"
   },
   {
    "duration": 5,
    "start_time": "2023-08-21T10:16:22.612Z"
   },
   {
    "duration": 13,
    "start_time": "2023-08-21T10:17:52.136Z"
   },
   {
    "duration": 12,
    "start_time": "2023-08-21T10:18:18.862Z"
   },
   {
    "duration": 12,
    "start_time": "2023-08-21T10:18:28.769Z"
   },
   {
    "duration": 11,
    "start_time": "2023-08-21T10:18:46.864Z"
   },
   {
    "duration": 11,
    "start_time": "2023-08-21T10:20:07.397Z"
   },
   {
    "duration": 13,
    "start_time": "2023-08-21T10:20:47.797Z"
   },
   {
    "duration": 20,
    "start_time": "2023-08-21T10:21:26.173Z"
   },
   {
    "duration": 5,
    "start_time": "2023-08-21T10:22:16.132Z"
   },
   {
    "duration": 18,
    "start_time": "2023-08-21T10:22:48.309Z"
   },
   {
    "duration": 1102,
    "start_time": "2023-08-21T10:23:13.062Z"
   },
   {
    "duration": 388,
    "start_time": "2023-08-21T10:23:14.166Z"
   },
   {
    "duration": 18,
    "start_time": "2023-08-21T10:23:14.556Z"
   },
   {
    "duration": 19,
    "start_time": "2023-08-21T10:23:14.576Z"
   },
   {
    "duration": 24,
    "start_time": "2023-08-21T10:23:14.598Z"
   },
   {
    "duration": 41,
    "start_time": "2023-08-21T10:23:14.624Z"
   },
   {
    "duration": 195,
    "start_time": "2023-08-21T10:23:14.667Z"
   },
   {
    "duration": 19,
    "start_time": "2023-08-21T10:23:14.864Z"
   },
   {
    "duration": 33,
    "start_time": "2023-08-21T10:23:14.885Z"
   },
   {
    "duration": 21,
    "start_time": "2023-08-21T10:23:14.920Z"
   },
   {
    "duration": 939,
    "start_time": "2023-08-21T10:23:14.943Z"
   },
   {
    "duration": 430,
    "start_time": "2023-08-21T10:23:15.884Z"
   },
   {
    "duration": 509,
    "start_time": "2023-08-21T10:23:16.315Z"
   },
   {
    "duration": 429,
    "start_time": "2023-08-21T10:23:16.827Z"
   },
   {
    "duration": 11,
    "start_time": "2023-08-21T10:23:17.335Z"
   },
   {
    "duration": 27,
    "start_time": "2023-08-21T10:23:17.349Z"
   },
   {
    "duration": 70,
    "start_time": "2023-08-21T10:23:17.378Z"
   },
   {
    "duration": 3,
    "start_time": "2023-08-21T10:23:17.450Z"
   },
   {
    "duration": 12,
    "start_time": "2023-08-21T10:23:17.455Z"
   },
   {
    "duration": 120,
    "start_time": "2023-08-21T10:23:17.468Z"
   },
   {
    "duration": 407,
    "start_time": "2023-08-21T10:25:32.331Z"
   },
   {
    "duration": 13,
    "start_time": "2023-08-21T10:25:50.242Z"
   },
   {
    "duration": 5,
    "start_time": "2023-08-21T10:26:00.135Z"
   },
   {
    "duration": 18,
    "start_time": "2023-08-21T10:26:01.790Z"
   },
   {
    "duration": 4,
    "start_time": "2023-08-21T10:26:47.390Z"
   },
   {
    "duration": 5,
    "start_time": "2023-08-21T10:26:47.691Z"
   },
   {
    "duration": 26,
    "start_time": "2023-08-21T10:26:48.191Z"
   },
   {
    "duration": 5,
    "start_time": "2023-08-21T10:27:08.525Z"
   },
   {
    "duration": 5,
    "start_time": "2023-08-21T10:27:09.038Z"
   },
   {
    "duration": 17,
    "start_time": "2023-08-21T10:27:09.464Z"
   },
   {
    "duration": 4,
    "start_time": "2023-08-21T10:28:15.322Z"
   },
   {
    "duration": 5,
    "start_time": "2023-08-21T10:28:15.916Z"
   },
   {
    "duration": 978,
    "start_time": "2023-08-21T10:28:16.201Z"
   },
   {
    "duration": 5,
    "start_time": "2023-08-21T10:28:34.889Z"
   },
   {
    "duration": 953,
    "start_time": "2023-08-21T10:28:35.638Z"
   },
   {
    "duration": 4,
    "start_time": "2023-08-21T10:29:08.983Z"
   },
   {
    "duration": 5,
    "start_time": "2023-08-21T10:29:09.581Z"
   },
   {
    "duration": 950,
    "start_time": "2023-08-21T10:29:10.022Z"
   },
   {
    "duration": 3,
    "start_time": "2023-08-21T10:29:21.371Z"
   },
   {
    "duration": 5,
    "start_time": "2023-08-21T10:29:23.263Z"
   },
   {
    "duration": 1042,
    "start_time": "2023-08-21T10:29:23.619Z"
   },
   {
    "duration": 5,
    "start_time": "2023-08-21T10:29:29.607Z"
   },
   {
    "duration": 10,
    "start_time": "2023-08-21T10:29:30.499Z"
   },
   {
    "duration": 963,
    "start_time": "2023-08-21T10:29:31.081Z"
   },
   {
    "duration": 3,
    "start_time": "2023-08-21T10:31:18.344Z"
   },
   {
    "duration": 5,
    "start_time": "2023-08-21T10:31:19.048Z"
   },
   {
    "duration": 928,
    "start_time": "2023-08-21T10:31:19.550Z"
   },
   {
    "duration": 4,
    "start_time": "2023-08-21T10:34:36.981Z"
   },
   {
    "duration": 5,
    "start_time": "2023-08-21T10:34:37.335Z"
   },
   {
    "duration": 944,
    "start_time": "2023-08-21T10:34:37.771Z"
   },
   {
    "duration": 3,
    "start_time": "2023-08-21T10:35:11.340Z"
   },
   {
    "duration": 8,
    "start_time": "2023-08-21T10:35:11.661Z"
   },
   {
    "duration": 1070,
    "start_time": "2023-08-21T10:35:12.068Z"
   },
   {
    "duration": 5,
    "start_time": "2023-08-21T10:49:30.715Z"
   },
   {
    "duration": 977,
    "start_time": "2023-08-21T10:49:31.425Z"
   },
   {
    "duration": 109,
    "start_time": "2023-08-21T10:49:59.479Z"
   },
   {
    "duration": 8,
    "start_time": "2023-08-21T10:50:04.493Z"
   },
   {
    "duration": 1046,
    "start_time": "2023-08-21T10:50:04.503Z"
   },
   {
    "duration": 4,
    "start_time": "2023-08-21T10:50:35.367Z"
   },
   {
    "duration": 987,
    "start_time": "2023-08-21T10:50:36.401Z"
   },
   {
    "duration": 5,
    "start_time": "2023-08-21T10:50:50.161Z"
   },
   {
    "duration": 953,
    "start_time": "2023-08-21T10:50:50.889Z"
   },
   {
    "duration": 8,
    "start_time": "2023-08-21T10:51:16.639Z"
   },
   {
    "duration": 964,
    "start_time": "2023-08-21T10:51:17.258Z"
   },
   {
    "duration": 8,
    "start_time": "2023-08-21T10:51:43.037Z"
   },
   {
    "duration": 1008,
    "start_time": "2023-08-21T10:51:43.872Z"
   },
   {
    "duration": 5,
    "start_time": "2023-08-21T10:52:30.489Z"
   },
   {
    "duration": 5,
    "start_time": "2023-08-21T10:52:41.584Z"
   },
   {
    "duration": 995,
    "start_time": "2023-08-21T10:52:42.078Z"
   },
   {
    "duration": 6,
    "start_time": "2023-08-21T10:55:49.269Z"
   },
   {
    "duration": 932,
    "start_time": "2023-08-21T10:55:49.576Z"
   },
   {
    "duration": 1016,
    "start_time": "2023-08-21T10:56:10.077Z"
   },
   {
    "duration": 1014,
    "start_time": "2023-08-21T10:56:11.095Z"
   },
   {
    "duration": 6,
    "start_time": "2023-08-21T10:58:24.708Z"
   },
   {
    "duration": 17,
    "start_time": "2023-08-21T10:58:24.994Z"
   },
   {
    "duration": 5,
    "start_time": "2023-08-21T10:59:27.944Z"
   },
   {
    "duration": 1097,
    "start_time": "2023-08-21T10:59:28.295Z"
   },
   {
    "duration": 4,
    "start_time": "2023-08-21T11:00:48.143Z"
   },
   {
    "duration": 1001,
    "start_time": "2023-08-21T11:00:48.469Z"
   },
   {
    "duration": 3,
    "start_time": "2023-08-21T11:01:20.528Z"
   },
   {
    "duration": 6,
    "start_time": "2023-08-21T11:01:20.877Z"
   },
   {
    "duration": 1050,
    "start_time": "2023-08-21T11:01:21.140Z"
   },
   {
    "duration": 1148,
    "start_time": "2023-08-21T11:05:10.707Z"
   },
   {
    "duration": 405,
    "start_time": "2023-08-21T11:05:11.857Z"
   },
   {
    "duration": 17,
    "start_time": "2023-08-21T11:05:12.263Z"
   },
   {
    "duration": 10,
    "start_time": "2023-08-21T11:05:12.282Z"
   },
   {
    "duration": 10,
    "start_time": "2023-08-21T11:05:12.296Z"
   },
   {
    "duration": 27,
    "start_time": "2023-08-21T11:05:12.308Z"
   },
   {
    "duration": 131,
    "start_time": "2023-08-21T11:05:12.337Z"
   },
   {
    "duration": 20,
    "start_time": "2023-08-21T11:05:12.470Z"
   },
   {
    "duration": 54,
    "start_time": "2023-08-21T11:05:12.492Z"
   },
   {
    "duration": 13,
    "start_time": "2023-08-21T11:05:12.548Z"
   },
   {
    "duration": 744,
    "start_time": "2023-08-21T11:05:12.563Z"
   },
   {
    "duration": 425,
    "start_time": "2023-08-21T11:05:13.309Z"
   },
   {
    "duration": 510,
    "start_time": "2023-08-21T11:05:13.736Z"
   },
   {
    "duration": 297,
    "start_time": "2023-08-21T11:05:14.249Z"
   },
   {
    "duration": 90,
    "start_time": "2023-08-21T11:05:14.548Z"
   },
   {
    "duration": 105,
    "start_time": "2023-08-21T11:05:14.641Z"
   },
   {
    "duration": 12,
    "start_time": "2023-08-21T11:05:14.748Z"
   },
   {
    "duration": 6,
    "start_time": "2023-08-21T11:05:14.762Z"
   },
   {
    "duration": 149,
    "start_time": "2023-08-21T11:05:14.770Z"
   },
   {
    "duration": 0,
    "start_time": "2023-08-21T11:05:14.921Z"
   },
   {
    "duration": 0,
    "start_time": "2023-08-21T11:05:14.923Z"
   },
   {
    "duration": 5,
    "start_time": "2023-08-21T11:05:54.497Z"
   },
   {
    "duration": 950,
    "start_time": "2023-08-21T11:05:54.938Z"
   },
   {
    "duration": 5,
    "start_time": "2023-08-21T11:06:37.728Z"
   },
   {
    "duration": 15,
    "start_time": "2023-08-21T11:06:38.096Z"
   },
   {
    "duration": 5,
    "start_time": "2023-08-21T11:06:48.280Z"
   },
   {
    "duration": 940,
    "start_time": "2023-08-21T11:06:48.684Z"
   },
   {
    "duration": 1221,
    "start_time": "2023-08-21T11:06:54.410Z"
   },
   {
    "duration": 383,
    "start_time": "2023-08-21T11:06:55.633Z"
   },
   {
    "duration": 23,
    "start_time": "2023-08-21T11:06:56.018Z"
   },
   {
    "duration": 13,
    "start_time": "2023-08-21T11:06:56.043Z"
   },
   {
    "duration": 37,
    "start_time": "2023-08-21T11:06:56.059Z"
   },
   {
    "duration": 16,
    "start_time": "2023-08-21T11:06:56.098Z"
   },
   {
    "duration": 154,
    "start_time": "2023-08-21T11:06:56.117Z"
   },
   {
    "duration": 20,
    "start_time": "2023-08-21T11:06:56.272Z"
   },
   {
    "duration": 47,
    "start_time": "2023-08-21T11:06:56.293Z"
   },
   {
    "duration": 12,
    "start_time": "2023-08-21T11:06:56.341Z"
   },
   {
    "duration": 651,
    "start_time": "2023-08-21T11:06:56.355Z"
   },
   {
    "duration": 413,
    "start_time": "2023-08-21T11:06:57.008Z"
   },
   {
    "duration": 496,
    "start_time": "2023-08-21T11:06:57.423Z"
   },
   {
    "duration": 420,
    "start_time": "2023-08-21T11:06:57.921Z"
   },
   {
    "duration": 94,
    "start_time": "2023-08-21T11:06:58.345Z"
   },
   {
    "duration": 109,
    "start_time": "2023-08-21T11:06:58.443Z"
   },
   {
    "duration": 8,
    "start_time": "2023-08-21T11:06:58.554Z"
   },
   {
    "duration": 15,
    "start_time": "2023-08-21T11:06:58.564Z"
   },
   {
    "duration": 992,
    "start_time": "2023-08-21T11:06:58.581Z"
   },
   {
    "duration": 1003,
    "start_time": "2023-08-21T11:06:59.574Z"
   },
   {
    "duration": 975,
    "start_time": "2023-08-21T11:07:00.580Z"
   },
   {
    "duration": 5,
    "start_time": "2023-08-21T11:07:53.531Z"
   },
   {
    "duration": 1009,
    "start_time": "2023-08-21T11:07:53.828Z"
   },
   {
    "duration": 6,
    "start_time": "2023-08-21T11:09:34.561Z"
   },
   {
    "duration": 1055,
    "start_time": "2023-08-21T11:09:35.448Z"
   },
   {
    "duration": 5,
    "start_time": "2023-08-21T11:10:09.193Z"
   },
   {
    "duration": 956,
    "start_time": "2023-08-21T11:10:12.199Z"
   },
   {
    "duration": 6,
    "start_time": "2023-08-21T11:11:18.454Z"
   },
   {
    "duration": 946,
    "start_time": "2023-08-21T11:11:18.982Z"
   },
   {
    "duration": 5,
    "start_time": "2023-08-21T11:11:27.114Z"
   },
   {
    "duration": 991,
    "start_time": "2023-08-21T11:11:27.435Z"
   },
   {
    "duration": 12,
    "start_time": "2023-08-21T11:11:41.306Z"
   },
   {
    "duration": 13,
    "start_time": "2023-08-21T11:11:58.133Z"
   },
   {
    "duration": 8,
    "start_time": "2023-08-21T11:12:00.041Z"
   },
   {
    "duration": 10,
    "start_time": "2023-08-21T11:12:00.578Z"
   },
   {
    "duration": 5,
    "start_time": "2023-08-21T11:12:18.666Z"
   },
   {
    "duration": 972,
    "start_time": "2023-08-21T11:12:25.192Z"
   },
   {
    "duration": 9,
    "start_time": "2023-08-21T11:13:00.727Z"
   },
   {
    "duration": 5,
    "start_time": "2023-08-21T11:13:07.989Z"
   },
   {
    "duration": 9,
    "start_time": "2023-08-21T11:13:08.383Z"
   },
   {
    "duration": 994,
    "start_time": "2023-08-21T11:13:08.693Z"
   },
   {
    "duration": 6,
    "start_time": "2023-08-21T11:16:31.156Z"
   },
   {
    "duration": 10,
    "start_time": "2023-08-21T11:16:31.513Z"
   },
   {
    "duration": 980,
    "start_time": "2023-08-21T11:16:31.882Z"
   },
   {
    "duration": 5,
    "start_time": "2023-08-21T11:17:41.366Z"
   },
   {
    "duration": 900,
    "start_time": "2023-08-21T11:17:46.864Z"
   },
   {
    "duration": 4,
    "start_time": "2023-08-21T11:18:49.271Z"
   },
   {
    "duration": 1138,
    "start_time": "2023-08-21T11:18:52.562Z"
   },
   {
    "duration": 426,
    "start_time": "2023-08-21T11:18:53.705Z"
   },
   {
    "duration": 17,
    "start_time": "2023-08-21T11:18:54.133Z"
   },
   {
    "duration": 72,
    "start_time": "2023-08-21T11:18:54.152Z"
   },
   {
    "duration": 19,
    "start_time": "2023-08-21T11:18:54.227Z"
   },
   {
    "duration": 11,
    "start_time": "2023-08-21T11:18:54.248Z"
   },
   {
    "duration": 132,
    "start_time": "2023-08-21T11:18:54.260Z"
   },
   {
    "duration": 21,
    "start_time": "2023-08-21T11:18:54.394Z"
   },
   {
    "duration": 44,
    "start_time": "2023-08-21T11:18:54.417Z"
   },
   {
    "duration": 12,
    "start_time": "2023-08-21T11:18:54.463Z"
   },
   {
    "duration": 738,
    "start_time": "2023-08-21T11:18:54.477Z"
   },
   {
    "duration": 420,
    "start_time": "2023-08-21T11:18:55.217Z"
   },
   {
    "duration": 487,
    "start_time": "2023-08-21T11:18:55.639Z"
   },
   {
    "duration": 315,
    "start_time": "2023-08-21T11:18:56.129Z"
   },
   {
    "duration": 91,
    "start_time": "2023-08-21T11:18:56.446Z"
   },
   {
    "duration": 111,
    "start_time": "2023-08-21T11:18:56.539Z"
   },
   {
    "duration": 17,
    "start_time": "2023-08-21T11:18:56.652Z"
   },
   {
    "duration": 45,
    "start_time": "2023-08-21T11:18:56.671Z"
   },
   {
    "duration": 139,
    "start_time": "2023-08-21T11:18:56.718Z"
   },
   {
    "duration": 0,
    "start_time": "2023-08-21T11:18:56.859Z"
   },
   {
    "duration": 0,
    "start_time": "2023-08-21T11:18:56.861Z"
   },
   {
    "duration": 1229,
    "start_time": "2023-08-21T11:19:36.422Z"
   },
   {
    "duration": 376,
    "start_time": "2023-08-21T11:19:37.653Z"
   },
   {
    "duration": 18,
    "start_time": "2023-08-21T11:19:38.031Z"
   },
   {
    "duration": 8,
    "start_time": "2023-08-21T11:19:38.051Z"
   },
   {
    "duration": 29,
    "start_time": "2023-08-21T11:19:38.060Z"
   },
   {
    "duration": 14,
    "start_time": "2023-08-21T11:19:38.090Z"
   },
   {
    "duration": 141,
    "start_time": "2023-08-21T11:19:38.106Z"
   },
   {
    "duration": 24,
    "start_time": "2023-08-21T11:19:38.250Z"
   },
   {
    "duration": 76,
    "start_time": "2023-08-21T11:19:38.275Z"
   },
   {
    "duration": 15,
    "start_time": "2023-08-21T11:19:38.355Z"
   },
   {
    "duration": 682,
    "start_time": "2023-08-21T11:19:38.371Z"
   },
   {
    "duration": 408,
    "start_time": "2023-08-21T11:19:39.055Z"
   },
   {
    "duration": 541,
    "start_time": "2023-08-21T11:19:39.465Z"
   },
   {
    "duration": 338,
    "start_time": "2023-08-21T11:19:40.008Z"
   },
   {
    "duration": 89,
    "start_time": "2023-08-21T11:19:40.348Z"
   },
   {
    "duration": 115,
    "start_time": "2023-08-21T11:19:40.439Z"
   },
   {
    "duration": 12,
    "start_time": "2023-08-21T11:19:40.556Z"
   },
   {
    "duration": 41,
    "start_time": "2023-08-21T11:19:40.570Z"
   },
   {
    "duration": 1006,
    "start_time": "2023-08-21T11:19:40.613Z"
   },
   {
    "duration": 976,
    "start_time": "2023-08-21T11:19:41.621Z"
   },
   {
    "duration": 964,
    "start_time": "2023-08-21T11:19:42.598Z"
   },
   {
    "duration": 100,
    "start_time": "2023-08-21T11:53:42.127Z"
   },
   {
    "duration": 17,
    "start_time": "2023-08-21T11:55:16.398Z"
   },
   {
    "duration": 5,
    "start_time": "2023-08-21T12:12:23.798Z"
   },
   {
    "duration": 1013,
    "start_time": "2023-08-21T12:12:24.200Z"
   },
   {
    "duration": 2933,
    "start_time": "2023-08-21T16:52:52.405Z"
   },
   {
    "duration": 1137,
    "start_time": "2023-08-21T16:52:55.340Z"
   },
   {
    "duration": 26,
    "start_time": "2023-08-21T16:52:56.479Z"
   },
   {
    "duration": 16,
    "start_time": "2023-08-21T16:52:56.507Z"
   },
   {
    "duration": 223,
    "start_time": "2023-08-21T16:52:56.526Z"
   },
   {
    "duration": 55,
    "start_time": "2023-08-21T16:52:56.753Z"
   },
   {
    "duration": 111,
    "start_time": "2023-08-21T16:52:56.812Z"
   },
   {
    "duration": 19,
    "start_time": "2023-08-21T16:52:56.926Z"
   },
   {
    "duration": 812,
    "start_time": "2023-08-21T16:52:56.948Z"
   },
   {
    "duration": 489,
    "start_time": "2023-08-21T16:52:57.762Z"
   },
   {
    "duration": 595,
    "start_time": "2023-08-21T16:52:58.252Z"
   },
   {
    "duration": 368,
    "start_time": "2023-08-21T16:52:58.849Z"
   },
   {
    "duration": 13,
    "start_time": "2023-08-21T16:52:59.219Z"
   },
   {
    "duration": 20,
    "start_time": "2023-08-21T16:52:59.284Z"
   },
   {
    "duration": 78,
    "start_time": "2023-08-21T16:52:59.307Z"
   },
   {
    "duration": 9,
    "start_time": "2023-08-21T16:52:59.395Z"
   },
   {
    "duration": 1216,
    "start_time": "2023-08-21T16:52:59.412Z"
   },
   {
    "duration": 1226,
    "start_time": "2023-08-21T16:53:00.630Z"
   },
   {
    "duration": 1160,
    "start_time": "2023-08-21T16:53:01.857Z"
   },
   {
    "duration": 7,
    "start_time": "2023-08-21T16:53:05.497Z"
   },
   {
    "duration": 5,
    "start_time": "2023-08-21T16:53:08.659Z"
   },
   {
    "duration": 72,
    "start_time": "2023-08-21T17:53:17.142Z"
   },
   {
    "duration": 1215,
    "start_time": "2023-08-21T17:53:22.323Z"
   },
   {
    "duration": 1938,
    "start_time": "2023-08-21T17:53:23.541Z"
   },
   {
    "duration": 23,
    "start_time": "2023-08-21T17:53:25.481Z"
   },
   {
    "duration": 4,
    "start_time": "2023-08-21T17:53:25.506Z"
   },
   {
    "duration": 150,
    "start_time": "2023-08-21T17:53:25.513Z"
   },
   {
    "duration": 60,
    "start_time": "2023-08-21T17:53:25.665Z"
   },
   {
    "duration": 0,
    "start_time": "2023-08-21T17:53:25.727Z"
   },
   {
    "duration": 0,
    "start_time": "2023-08-21T17:53:25.728Z"
   },
   {
    "duration": 0,
    "start_time": "2023-08-21T17:53:25.730Z"
   },
   {
    "duration": 0,
    "start_time": "2023-08-21T17:53:25.731Z"
   },
   {
    "duration": 0,
    "start_time": "2023-08-21T17:53:25.732Z"
   },
   {
    "duration": 0,
    "start_time": "2023-08-21T17:53:25.734Z"
   },
   {
    "duration": 0,
    "start_time": "2023-08-21T17:53:25.735Z"
   },
   {
    "duration": 0,
    "start_time": "2023-08-21T17:53:25.736Z"
   },
   {
    "duration": 0,
    "start_time": "2023-08-21T17:53:25.737Z"
   },
   {
    "duration": 0,
    "start_time": "2023-08-21T17:53:25.739Z"
   },
   {
    "duration": 0,
    "start_time": "2023-08-21T17:53:25.740Z"
   },
   {
    "duration": 0,
    "start_time": "2023-08-21T17:53:25.741Z"
   },
   {
    "duration": 0,
    "start_time": "2023-08-21T17:53:25.742Z"
   },
   {
    "duration": 0,
    "start_time": "2023-08-21T17:53:25.744Z"
   },
   {
    "duration": 1089,
    "start_time": "2023-08-21T17:55:57.052Z"
   },
   {
    "duration": 346,
    "start_time": "2023-08-21T17:55:58.143Z"
   },
   {
    "duration": 22,
    "start_time": "2023-08-21T17:55:58.490Z"
   },
   {
    "duration": 3,
    "start_time": "2023-08-21T17:55:58.514Z"
   },
   {
    "duration": 154,
    "start_time": "2023-08-21T17:55:58.521Z"
   },
   {
    "duration": 19,
    "start_time": "2023-08-21T17:55:58.677Z"
   },
   {
    "duration": 36,
    "start_time": "2023-08-21T17:55:58.697Z"
   },
   {
    "duration": 37,
    "start_time": "2023-08-21T17:55:58.734Z"
   },
   {
    "duration": 802,
    "start_time": "2023-08-21T17:55:58.773Z"
   },
   {
    "duration": 399,
    "start_time": "2023-08-21T17:55:59.577Z"
   },
   {
    "duration": 504,
    "start_time": "2023-08-21T17:55:59.978Z"
   },
   {
    "duration": 382,
    "start_time": "2023-08-21T17:56:00.484Z"
   },
   {
    "duration": 3,
    "start_time": "2023-08-21T17:56:00.868Z"
   },
   {
    "duration": 219,
    "start_time": "2023-08-21T17:56:00.874Z"
   },
   {
    "duration": 42,
    "start_time": "2023-08-21T17:56:01.094Z"
   },
   {
    "duration": 60,
    "start_time": "2023-08-21T17:56:01.138Z"
   },
   {
    "duration": 1017,
    "start_time": "2023-08-21T17:56:01.200Z"
   },
   {
    "duration": 1042,
    "start_time": "2023-08-21T17:56:02.218Z"
   },
   {
    "duration": 1082,
    "start_time": "2023-08-21T17:56:03.261Z"
   },
   {
    "duration": 66,
    "start_time": "2023-08-21T18:04:06.134Z"
   },
   {
    "duration": 102,
    "start_time": "2023-08-21T18:38:28.096Z"
   },
   {
    "duration": 1388,
    "start_time": "2023-08-21T18:38:34.168Z"
   },
   {
    "duration": 377,
    "start_time": "2023-08-21T18:38:35.558Z"
   },
   {
    "duration": 23,
    "start_time": "2023-08-21T18:38:35.937Z"
   },
   {
    "duration": 4,
    "start_time": "2023-08-21T18:38:35.961Z"
   },
   {
    "duration": 153,
    "start_time": "2023-08-21T18:38:35.967Z"
   },
   {
    "duration": 21,
    "start_time": "2023-08-21T18:38:36.121Z"
   },
   {
    "duration": 49,
    "start_time": "2023-08-21T18:38:36.143Z"
   },
   {
    "duration": 15,
    "start_time": "2023-08-21T18:38:36.193Z"
   },
   {
    "duration": 450,
    "start_time": "2023-08-21T18:38:36.210Z"
   },
   {
    "duration": 494,
    "start_time": "2023-08-21T18:38:36.662Z"
   },
   {
    "duration": 432,
    "start_time": "2023-08-21T18:38:37.158Z"
   },
   {
    "duration": 123,
    "start_time": "2023-08-21T18:38:37.592Z"
   },
   {
    "duration": 0,
    "start_time": "2023-08-21T18:38:37.717Z"
   },
   {
    "duration": 0,
    "start_time": "2023-08-21T18:38:37.718Z"
   },
   {
    "duration": 0,
    "start_time": "2023-08-21T18:38:37.719Z"
   },
   {
    "duration": 0,
    "start_time": "2023-08-21T18:38:37.720Z"
   },
   {
    "duration": 0,
    "start_time": "2023-08-21T18:38:37.721Z"
   },
   {
    "duration": 0,
    "start_time": "2023-08-21T18:38:37.722Z"
   },
   {
    "duration": 0,
    "start_time": "2023-08-21T18:38:37.723Z"
   },
   {
    "duration": 0,
    "start_time": "2023-08-21T18:38:37.724Z"
   },
   {
    "duration": 74,
    "start_time": "2023-08-21T18:39:52.214Z"
   },
   {
    "duration": 13,
    "start_time": "2023-08-21T18:40:05.990Z"
   },
   {
    "duration": 102,
    "start_time": "2023-08-21T18:40:18.423Z"
   },
   {
    "duration": 244,
    "start_time": "2023-08-21T18:41:12.868Z"
   },
   {
    "duration": 240,
    "start_time": "2023-08-21T18:41:23.774Z"
   },
   {
    "duration": 285,
    "start_time": "2023-08-21T18:41:27.454Z"
   },
   {
    "duration": 58,
    "start_time": "2023-08-21T18:41:58.428Z"
   },
   {
    "duration": 221,
    "start_time": "2023-08-21T18:42:11.391Z"
   },
   {
    "duration": 23,
    "start_time": "2023-08-21T18:42:22.156Z"
   },
   {
    "duration": 115,
    "start_time": "2023-08-21T18:42:52.864Z"
   },
   {
    "duration": 292,
    "start_time": "2023-08-21T18:44:48.674Z"
   },
   {
    "duration": 438,
    "start_time": "2023-08-21T18:44:55.930Z"
   },
   {
    "duration": 314,
    "start_time": "2023-08-21T18:45:52.998Z"
   },
   {
    "duration": 112,
    "start_time": "2023-08-21T18:46:45.727Z"
   },
   {
    "duration": 296,
    "start_time": "2023-08-21T18:47:06.666Z"
   },
   {
    "duration": 308,
    "start_time": "2023-08-21T18:47:26.553Z"
   },
   {
    "duration": 318,
    "start_time": "2023-08-21T18:47:29.148Z"
   },
   {
    "duration": 280,
    "start_time": "2023-08-21T18:47:49.793Z"
   },
   {
    "duration": 313,
    "start_time": "2023-08-21T18:47:55.751Z"
   },
   {
    "duration": 346,
    "start_time": "2023-08-21T18:48:02.416Z"
   },
   {
    "duration": 66,
    "start_time": "2023-08-21T19:13:46.810Z"
   },
   {
    "duration": 1359,
    "start_time": "2023-08-21T19:16:30.602Z"
   },
   {
    "duration": 376,
    "start_time": "2023-08-21T19:16:31.963Z"
   },
   {
    "duration": 29,
    "start_time": "2023-08-21T19:16:32.343Z"
   },
   {
    "duration": 4,
    "start_time": "2023-08-21T19:16:32.374Z"
   },
   {
    "duration": 150,
    "start_time": "2023-08-21T19:16:32.379Z"
   },
   {
    "duration": 29,
    "start_time": "2023-08-21T19:16:32.530Z"
   },
   {
    "duration": 32,
    "start_time": "2023-08-21T19:16:32.561Z"
   },
   {
    "duration": 15,
    "start_time": "2023-08-21T19:16:32.594Z"
   },
   {
    "duration": 426,
    "start_time": "2023-08-21T19:16:32.610Z"
   },
   {
    "duration": 483,
    "start_time": "2023-08-21T19:16:33.037Z"
   },
   {
    "duration": 399,
    "start_time": "2023-08-21T19:16:33.522Z"
   },
   {
    "duration": 382,
    "start_time": "2023-08-21T19:16:33.922Z"
   },
   {
    "duration": 339,
    "start_time": "2023-08-21T19:16:34.308Z"
   },
   {
    "duration": 317,
    "start_time": "2023-08-21T19:16:34.649Z"
   },
   {
    "duration": 391,
    "start_time": "2023-08-21T19:16:34.968Z"
   },
   {
    "duration": 5,
    "start_time": "2023-08-21T19:16:35.361Z"
   },
   {
    "duration": 108,
    "start_time": "2023-08-21T19:16:35.368Z"
   },
   {
    "duration": 5,
    "start_time": "2023-08-21T19:16:35.478Z"
   },
   {
    "duration": 11,
    "start_time": "2023-08-21T19:16:35.485Z"
   },
   {
    "duration": 1036,
    "start_time": "2023-08-21T19:16:35.498Z"
   },
   {
    "duration": 990,
    "start_time": "2023-08-21T19:16:36.535Z"
   },
   {
    "duration": 997,
    "start_time": "2023-08-21T19:16:37.527Z"
   },
   {
    "duration": 45,
    "start_time": "2023-08-22T18:14:45.809Z"
   },
   {
    "duration": 1637,
    "start_time": "2023-08-22T18:14:49.529Z"
   },
   {
    "duration": 840,
    "start_time": "2023-08-22T18:14:51.168Z"
   },
   {
    "duration": 20,
    "start_time": "2023-08-22T18:14:52.010Z"
   },
   {
    "duration": 36,
    "start_time": "2023-08-22T18:14:52.031Z"
   },
   {
    "duration": 182,
    "start_time": "2023-08-22T18:14:52.069Z"
   },
   {
    "duration": 22,
    "start_time": "2023-08-22T18:14:52.253Z"
   },
   {
    "duration": 36,
    "start_time": "2023-08-22T18:14:52.288Z"
   },
   {
    "duration": 15,
    "start_time": "2023-08-22T18:14:52.326Z"
   },
   {
    "duration": 486,
    "start_time": "2023-08-22T18:14:52.343Z"
   },
   {
    "duration": 501,
    "start_time": "2023-08-22T18:14:52.832Z"
   },
   {
    "duration": 442,
    "start_time": "2023-08-22T18:14:53.335Z"
   },
   {
    "duration": 114,
    "start_time": "2023-08-22T18:14:53.779Z"
   },
   {
    "duration": 0,
    "start_time": "2023-08-22T18:14:53.894Z"
   },
   {
    "duration": 0,
    "start_time": "2023-08-22T18:14:53.895Z"
   },
   {
    "duration": 0,
    "start_time": "2023-08-22T18:14:53.897Z"
   },
   {
    "duration": 0,
    "start_time": "2023-08-22T18:14:53.898Z"
   },
   {
    "duration": 0,
    "start_time": "2023-08-22T18:14:53.899Z"
   },
   {
    "duration": 0,
    "start_time": "2023-08-22T18:14:53.900Z"
   },
   {
    "duration": 0,
    "start_time": "2023-08-22T18:14:53.901Z"
   },
   {
    "duration": 0,
    "start_time": "2023-08-22T18:14:53.902Z"
   },
   {
    "duration": 0,
    "start_time": "2023-08-22T18:14:53.903Z"
   },
   {
    "duration": 0,
    "start_time": "2023-08-22T18:14:53.904Z"
   },
   {
    "duration": 0,
    "start_time": "2023-08-22T18:14:53.905Z"
   },
   {
    "duration": 0,
    "start_time": "2023-08-22T18:14:53.907Z"
   },
   {
    "duration": 79,
    "start_time": "2023-08-22T18:18:51.805Z"
   },
   {
    "duration": 1461,
    "start_time": "2023-08-22T18:21:39.931Z"
   },
   {
    "duration": 387,
    "start_time": "2023-08-22T18:21:41.394Z"
   },
   {
    "duration": 20,
    "start_time": "2023-08-22T18:21:41.783Z"
   },
   {
    "duration": 9,
    "start_time": "2023-08-22T18:21:41.805Z"
   },
   {
    "duration": 155,
    "start_time": "2023-08-22T18:21:41.816Z"
   },
   {
    "duration": 30,
    "start_time": "2023-08-22T18:21:41.973Z"
   },
   {
    "duration": 48,
    "start_time": "2023-08-22T18:21:42.005Z"
   },
   {
    "duration": 12,
    "start_time": "2023-08-22T18:21:42.055Z"
   },
   {
    "duration": 453,
    "start_time": "2023-08-22T18:21:42.069Z"
   },
   {
    "duration": 516,
    "start_time": "2023-08-22T18:21:42.524Z"
   },
   {
    "duration": 458,
    "start_time": "2023-08-22T18:21:43.041Z"
   },
   {
    "duration": 114,
    "start_time": "2023-08-22T18:21:43.501Z"
   },
   {
    "duration": 0,
    "start_time": "2023-08-22T18:21:43.617Z"
   },
   {
    "duration": 0,
    "start_time": "2023-08-22T18:21:43.618Z"
   },
   {
    "duration": 0,
    "start_time": "2023-08-22T18:21:43.619Z"
   },
   {
    "duration": 0,
    "start_time": "2023-08-22T18:21:43.621Z"
   },
   {
    "duration": 0,
    "start_time": "2023-08-22T18:21:43.622Z"
   },
   {
    "duration": 0,
    "start_time": "2023-08-22T18:21:43.623Z"
   },
   {
    "duration": 0,
    "start_time": "2023-08-22T18:21:43.624Z"
   },
   {
    "duration": 0,
    "start_time": "2023-08-22T18:21:43.625Z"
   },
   {
    "duration": 0,
    "start_time": "2023-08-22T18:21:43.626Z"
   },
   {
    "duration": 0,
    "start_time": "2023-08-22T18:21:43.627Z"
   },
   {
    "duration": 0,
    "start_time": "2023-08-22T18:21:43.628Z"
   },
   {
    "duration": 0,
    "start_time": "2023-08-22T18:21:43.630Z"
   },
   {
    "duration": 9,
    "start_time": "2023-08-22T18:21:59.838Z"
   },
   {
    "duration": 1393,
    "start_time": "2023-08-22T18:22:34.595Z"
   },
   {
    "duration": 1403,
    "start_time": "2023-08-22T18:24:56.765Z"
   },
   {
    "duration": 10,
    "start_time": "2023-08-22T18:25:07.004Z"
   },
   {
    "duration": 1395,
    "start_time": "2023-08-22T18:26:36.134Z"
   },
   {
    "duration": 402,
    "start_time": "2023-08-22T18:26:37.531Z"
   },
   {
    "duration": 21,
    "start_time": "2023-08-22T18:26:37.939Z"
   },
   {
    "duration": 35,
    "start_time": "2023-08-22T18:26:37.962Z"
   },
   {
    "duration": 144,
    "start_time": "2023-08-22T18:26:37.999Z"
   },
   {
    "duration": 1424,
    "start_time": "2023-08-22T18:33:56.808Z"
   },
   {
    "duration": 411,
    "start_time": "2023-08-22T18:33:58.234Z"
   },
   {
    "duration": 25,
    "start_time": "2023-08-22T18:33:58.648Z"
   },
   {
    "duration": 28,
    "start_time": "2023-08-22T18:33:58.674Z"
   },
   {
    "duration": 143,
    "start_time": "2023-08-22T18:33:58.704Z"
   },
   {
    "duration": 21,
    "start_time": "2023-08-22T18:33:58.848Z"
   },
   {
    "duration": 46,
    "start_time": "2023-08-22T18:33:58.871Z"
   },
   {
    "duration": 15,
    "start_time": "2023-08-22T18:33:58.918Z"
   },
   {
    "duration": 462,
    "start_time": "2023-08-22T18:33:58.935Z"
   },
   {
    "duration": 520,
    "start_time": "2023-08-22T18:33:59.399Z"
   },
   {
    "duration": 444,
    "start_time": "2023-08-22T18:33:59.920Z"
   },
   {
    "duration": 358,
    "start_time": "2023-08-22T18:34:00.366Z"
   },
   {
    "duration": 306,
    "start_time": "2023-08-22T18:34:00.726Z"
   },
   {
    "duration": 346,
    "start_time": "2023-08-22T18:34:01.035Z"
   },
   {
    "duration": 408,
    "start_time": "2023-08-22T18:34:01.383Z"
   },
   {
    "duration": 94,
    "start_time": "2023-08-22T18:34:01.794Z"
   },
   {
    "duration": 131,
    "start_time": "2023-08-22T18:34:01.894Z"
   },
   {
    "duration": 35,
    "start_time": "2023-08-22T18:34:02.027Z"
   },
   {
    "duration": 47,
    "start_time": "2023-08-22T18:34:02.064Z"
   },
   {
    "duration": 1088,
    "start_time": "2023-08-22T18:34:02.113Z"
   },
   {
    "duration": 1005,
    "start_time": "2023-08-22T18:34:03.202Z"
   },
   {
    "duration": 1072,
    "start_time": "2023-08-22T18:34:04.210Z"
   },
   {
    "duration": 108,
    "start_time": "2023-08-22T18:34:56.260Z"
   },
   {
    "duration": 98,
    "start_time": "2023-08-22T18:36:45.030Z"
   },
   {
    "duration": 30,
    "start_time": "2023-08-22T18:39:17.103Z"
   },
   {
    "duration": 47,
    "start_time": "2023-08-22T18:39:23.555Z"
   },
   {
    "duration": 76,
    "start_time": "2023-08-22T18:39:48.039Z"
   },
   {
    "duration": 1931,
    "start_time": "2023-08-23T20:42:03.206Z"
   },
   {
    "duration": 1671,
    "start_time": "2023-08-23T20:42:05.139Z"
   },
   {
    "duration": 18,
    "start_time": "2023-08-23T20:42:06.811Z"
   },
   {
    "duration": 4,
    "start_time": "2023-08-23T20:42:06.830Z"
   },
   {
    "duration": 172,
    "start_time": "2023-08-23T20:42:06.836Z"
   },
   {
    "duration": 32,
    "start_time": "2023-08-23T20:42:07.011Z"
   },
   {
    "duration": 71,
    "start_time": "2023-08-23T20:42:07.045Z"
   },
   {
    "duration": 18,
    "start_time": "2023-08-23T20:42:07.119Z"
   },
   {
    "duration": 484,
    "start_time": "2023-08-23T20:42:07.138Z"
   },
   {
    "duration": 543,
    "start_time": "2023-08-23T20:42:07.623Z"
   },
   {
    "duration": 447,
    "start_time": "2023-08-23T20:42:08.168Z"
   },
   {
    "duration": 379,
    "start_time": "2023-08-23T20:42:08.620Z"
   },
   {
    "duration": 307,
    "start_time": "2023-08-23T20:42:09.001Z"
   },
   {
    "duration": 298,
    "start_time": "2023-08-23T20:42:09.312Z"
   },
   {
    "duration": 478,
    "start_time": "2023-08-23T20:42:09.611Z"
   },
   {
    "duration": 5,
    "start_time": "2023-08-23T20:42:10.105Z"
   },
   {
    "duration": 59,
    "start_time": "2023-08-23T20:42:10.112Z"
   },
   {
    "duration": 22,
    "start_time": "2023-08-23T20:42:10.173Z"
   },
   {
    "duration": 19,
    "start_time": "2023-08-23T20:42:10.197Z"
   },
   {
    "duration": 1143,
    "start_time": "2023-08-23T20:42:10.224Z"
   },
   {
    "duration": 1063,
    "start_time": "2023-08-23T20:42:11.379Z"
   },
   {
    "duration": 1032,
    "start_time": "2023-08-23T20:42:12.443Z"
   },
   {
    "duration": 1509,
    "start_time": "2023-08-23T20:44:12.910Z"
   },
   {
    "duration": 457,
    "start_time": "2023-08-23T20:44:14.421Z"
   },
   {
    "duration": 35,
    "start_time": "2023-08-23T20:44:14.886Z"
   },
   {
    "duration": 3,
    "start_time": "2023-08-23T20:44:14.923Z"
   },
   {
    "duration": 148,
    "start_time": "2023-08-23T20:44:14.928Z"
   },
   {
    "duration": 2812,
    "start_time": "2023-08-23T20:44:15.078Z"
   },
   {
    "duration": 39,
    "start_time": "2023-08-23T20:44:17.894Z"
   },
   {
    "duration": 102,
    "start_time": "2023-08-23T20:44:17.935Z"
   },
   {
    "duration": 21,
    "start_time": "2023-08-23T20:44:18.039Z"
   },
   {
    "duration": 472,
    "start_time": "2023-08-23T20:44:18.065Z"
   },
   {
    "duration": 535,
    "start_time": "2023-08-23T20:44:18.538Z"
   },
   {
    "duration": 506,
    "start_time": "2023-08-23T20:44:19.077Z"
   },
   {
    "duration": 313,
    "start_time": "2023-08-23T20:44:19.584Z"
   },
   {
    "duration": 344,
    "start_time": "2023-08-23T20:44:19.899Z"
   },
   {
    "duration": 369,
    "start_time": "2023-08-23T20:44:20.245Z"
   },
   {
    "duration": 389,
    "start_time": "2023-08-23T20:44:20.620Z"
   },
   {
    "duration": 6,
    "start_time": "2023-08-23T20:44:21.010Z"
   },
   {
    "duration": 77,
    "start_time": "2023-08-23T20:44:21.017Z"
   },
   {
    "duration": 12,
    "start_time": "2023-08-23T20:44:21.096Z"
   },
   {
    "duration": 6,
    "start_time": "2023-08-23T20:44:21.110Z"
   },
   {
    "duration": 1077,
    "start_time": "2023-08-23T20:44:21.150Z"
   },
   {
    "duration": 1293,
    "start_time": "2023-08-23T20:44:22.229Z"
   },
   {
    "duration": 1080,
    "start_time": "2023-08-23T20:44:23.524Z"
   },
   {
    "duration": 2323,
    "start_time": "2023-08-23T20:44:50.980Z"
   },
   {
    "duration": 1848,
    "start_time": "2023-08-23T20:48:02.915Z"
   },
   {
    "duration": 1626,
    "start_time": "2023-08-23T20:48:16.437Z"
   },
   {
    "duration": 516,
    "start_time": "2023-08-23T20:48:18.070Z"
   },
   {
    "duration": 28,
    "start_time": "2023-08-23T20:48:18.588Z"
   },
   {
    "duration": 3,
    "start_time": "2023-08-23T20:48:18.617Z"
   },
   {
    "duration": 159,
    "start_time": "2023-08-23T20:48:18.622Z"
   },
   {
    "duration": 1040,
    "start_time": "2023-08-23T20:48:18.787Z"
   },
   {
    "duration": 0,
    "start_time": "2023-08-23T20:48:19.831Z"
   },
   {
    "duration": 0,
    "start_time": "2023-08-23T20:48:19.832Z"
   },
   {
    "duration": 0,
    "start_time": "2023-08-23T20:48:19.833Z"
   },
   {
    "duration": 0,
    "start_time": "2023-08-23T20:48:19.835Z"
   },
   {
    "duration": 0,
    "start_time": "2023-08-23T20:48:19.836Z"
   },
   {
    "duration": 0,
    "start_time": "2023-08-23T20:48:19.837Z"
   },
   {
    "duration": 0,
    "start_time": "2023-08-23T20:48:19.838Z"
   },
   {
    "duration": 0,
    "start_time": "2023-08-23T20:48:19.839Z"
   },
   {
    "duration": 0,
    "start_time": "2023-08-23T20:48:19.841Z"
   },
   {
    "duration": 0,
    "start_time": "2023-08-23T20:48:19.842Z"
   },
   {
    "duration": 0,
    "start_time": "2023-08-23T20:48:19.842Z"
   },
   {
    "duration": 0,
    "start_time": "2023-08-23T20:48:19.843Z"
   },
   {
    "duration": 0,
    "start_time": "2023-08-23T20:48:19.844Z"
   },
   {
    "duration": 0,
    "start_time": "2023-08-23T20:48:19.845Z"
   },
   {
    "duration": 0,
    "start_time": "2023-08-23T20:48:19.846Z"
   },
   {
    "duration": 0,
    "start_time": "2023-08-23T20:48:19.852Z"
   },
   {
    "duration": 0,
    "start_time": "2023-08-23T20:48:19.857Z"
   },
   {
    "duration": 19,
    "start_time": "2023-08-23T20:48:58.393Z"
   },
   {
    "duration": 52,
    "start_time": "2023-08-23T20:49:13.972Z"
   },
   {
    "duration": 38,
    "start_time": "2023-08-23T20:49:28.393Z"
   },
   {
    "duration": 69,
    "start_time": "2023-08-23T20:50:56.446Z"
   },
   {
    "duration": 21,
    "start_time": "2023-08-23T20:51:04.609Z"
   },
   {
    "duration": 64,
    "start_time": "2023-08-23T20:51:20.371Z"
   },
   {
    "duration": 65,
    "start_time": "2023-08-23T20:51:29.733Z"
   },
   {
    "duration": 29,
    "start_time": "2023-08-23T20:52:13.102Z"
   },
   {
    "duration": 63,
    "start_time": "2023-08-23T20:54:20.924Z"
   },
   {
    "duration": 40,
    "start_time": "2023-08-23T20:54:36.892Z"
   },
   {
    "duration": 51,
    "start_time": "2023-08-23T20:56:31.605Z"
   },
   {
    "duration": 112,
    "start_time": "2023-08-23T20:57:49.632Z"
   },
   {
    "duration": 87,
    "start_time": "2023-08-23T20:58:45.354Z"
   },
   {
    "duration": 149,
    "start_time": "2023-08-23T21:00:16.468Z"
   },
   {
    "duration": 18,
    "start_time": "2023-08-23T21:00:36.700Z"
   },
   {
    "duration": 10,
    "start_time": "2023-08-23T21:00:41.575Z"
   },
   {
    "duration": 7,
    "start_time": "2023-08-23T21:01:16.872Z"
   },
   {
    "duration": 170,
    "start_time": "2023-08-23T21:01:18.648Z"
   },
   {
    "duration": 5,
    "start_time": "2023-08-23T21:01:18.922Z"
   },
   {
    "duration": 15,
    "start_time": "2023-08-23T21:01:38.076Z"
   },
   {
    "duration": 4,
    "start_time": "2023-08-23T21:01:52.542Z"
   },
   {
    "duration": 1913,
    "start_time": "2023-08-23T21:05:40.451Z"
   },
   {
    "duration": 626,
    "start_time": "2023-08-23T21:05:42.371Z"
   },
   {
    "duration": 33,
    "start_time": "2023-08-23T21:05:43.006Z"
   },
   {
    "duration": 10,
    "start_time": "2023-08-23T21:05:43.042Z"
   },
   {
    "duration": 215,
    "start_time": "2023-08-23T21:05:43.055Z"
   },
   {
    "duration": 78,
    "start_time": "2023-08-23T21:05:43.275Z"
   },
   {
    "duration": 91,
    "start_time": "2023-08-23T21:05:43.360Z"
   },
   {
    "duration": 124,
    "start_time": "2023-08-23T21:05:43.457Z"
   },
   {
    "duration": 129,
    "start_time": "2023-08-23T21:05:43.587Z"
   },
   {
    "duration": 14,
    "start_time": "2023-08-23T21:05:43.719Z"
   },
   {
    "duration": 88,
    "start_time": "2023-08-23T21:05:43.735Z"
   },
   {
    "duration": 67,
    "start_time": "2023-08-23T21:05:43.825Z"
   },
   {
    "duration": 24,
    "start_time": "2023-08-23T21:05:43.900Z"
   },
   {
    "duration": 575,
    "start_time": "2023-08-23T21:05:43.927Z"
   },
   {
    "duration": 582,
    "start_time": "2023-08-23T21:05:44.515Z"
   },
   {
    "duration": 543,
    "start_time": "2023-08-23T21:05:45.099Z"
   },
   {
    "duration": 367,
    "start_time": "2023-08-23T21:05:45.644Z"
   },
   {
    "duration": 387,
    "start_time": "2023-08-23T21:05:46.015Z"
   },
   {
    "duration": 364,
    "start_time": "2023-08-23T21:05:46.406Z"
   },
   {
    "duration": 380,
    "start_time": "2023-08-23T21:05:46.774Z"
   },
   {
    "duration": 8,
    "start_time": "2023-08-23T21:05:47.161Z"
   },
   {
    "duration": 78,
    "start_time": "2023-08-23T21:05:47.175Z"
   },
   {
    "duration": 17,
    "start_time": "2023-08-23T21:05:47.259Z"
   },
   {
    "duration": 12,
    "start_time": "2023-08-23T21:05:47.284Z"
   },
   {
    "duration": 1542,
    "start_time": "2023-08-23T21:05:47.302Z"
   },
   {
    "duration": 1337,
    "start_time": "2023-08-23T21:05:48.846Z"
   },
   {
    "duration": 1188,
    "start_time": "2023-08-23T21:05:50.188Z"
   },
   {
    "duration": 1582,
    "start_time": "2023-08-23T21:08:08.914Z"
   },
   {
    "duration": 556,
    "start_time": "2023-08-23T21:08:10.498Z"
   },
   {
    "duration": 27,
    "start_time": "2023-08-23T21:08:11.057Z"
   },
   {
    "duration": 18,
    "start_time": "2023-08-23T21:08:11.086Z"
   },
   {
    "duration": 184,
    "start_time": "2023-08-23T21:08:11.106Z"
   },
   {
    "duration": 46,
    "start_time": "2023-08-23T21:08:11.300Z"
   },
   {
    "duration": 76,
    "start_time": "2023-08-23T21:08:11.359Z"
   },
   {
    "duration": 78,
    "start_time": "2023-08-23T21:08:11.436Z"
   },
   {
    "duration": 96,
    "start_time": "2023-08-23T21:08:11.516Z"
   },
   {
    "duration": 4,
    "start_time": "2023-08-23T21:08:11.615Z"
   },
   {
    "duration": 31,
    "start_time": "2023-08-23T21:08:11.620Z"
   },
   {
    "duration": 55,
    "start_time": "2023-08-23T21:08:11.652Z"
   },
   {
    "duration": 16,
    "start_time": "2023-08-23T21:08:11.709Z"
   },
   {
    "duration": 488,
    "start_time": "2023-08-23T21:08:11.726Z"
   },
   {
    "duration": 486,
    "start_time": "2023-08-23T21:08:12.216Z"
   },
   {
    "duration": 561,
    "start_time": "2023-08-23T21:08:12.703Z"
   },
   {
    "duration": 347,
    "start_time": "2023-08-23T21:08:13.265Z"
   },
   {
    "duration": 330,
    "start_time": "2023-08-23T21:08:13.613Z"
   },
   {
    "duration": 350,
    "start_time": "2023-08-23T21:08:13.945Z"
   },
   {
    "duration": 205,
    "start_time": "2023-08-23T21:08:14.302Z"
   },
   {
    "duration": 15,
    "start_time": "2023-08-23T21:08:14.552Z"
   },
   {
    "duration": 41,
    "start_time": "2023-08-23T21:08:14.570Z"
   },
   {
    "duration": 15,
    "start_time": "2023-08-23T21:08:14.653Z"
   },
   {
    "duration": 12,
    "start_time": "2023-08-23T21:08:14.673Z"
   },
   {
    "duration": 1134,
    "start_time": "2023-08-23T21:08:14.691Z"
   },
   {
    "duration": 1185,
    "start_time": "2023-08-23T21:08:15.828Z"
   },
   {
    "duration": 1087,
    "start_time": "2023-08-23T21:08:17.014Z"
   }
  ],
  "kernelspec": {
   "display_name": "Python 3 (ipykernel)",
   "language": "python",
   "name": "python3"
  },
  "language_info": {
   "codemirror_mode": {
    "name": "ipython",
    "version": 3
   },
   "file_extension": ".py",
   "mimetype": "text/x-python",
   "name": "python",
   "nbconvert_exporter": "python",
   "pygments_lexer": "ipython3",
   "version": "3.9.16"
  },
  "toc": {
   "base_numbering": 1,
   "nav_menu": {},
   "number_sections": true,
   "sideBar": true,
   "skip_h1_title": true,
   "title_cell": "Table of Contents",
   "title_sidebar": "Contents",
   "toc_cell": false,
   "toc_position": {},
   "toc_section_display": true,
   "toc_window_display": false
  }
 },
 "nbformat": 4,
 "nbformat_minor": 2
}
