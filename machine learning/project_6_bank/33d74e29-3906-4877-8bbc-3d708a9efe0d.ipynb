{
 "cells": [
  {
   "cell_type": "markdown",
   "metadata": {
    "toc": true
   },
   "source": [
    "<h1>Содержание<span class=\"tocSkip\"></span></h1>\n",
    "<div class=\"toc\"><ul class=\"toc-item\"><li><span><a href=\"#Загрузка-и-знакомство-с-данными.\" data-toc-modified-id=\"Загрузка-и-знакомство-с-данными.-1\"><span class=\"toc-item-num\">1&nbsp;&nbsp;</span>Загрузка и знакомство с данными.</a></span><ul class=\"toc-item\"><li><span><a href=\"#Знакомство-с-данными.\" data-toc-modified-id=\"Знакомство-с-данными.-1.1\"><span class=\"toc-item-num\">1.1&nbsp;&nbsp;</span>Знакомство с данными.</a></span></li><li><span><a href=\"#Промежуточный-вывод\" data-toc-modified-id=\"Промежуточный-вывод-1.2\"><span class=\"toc-item-num\">1.2&nbsp;&nbsp;</span>Промежуточный вывод</a></span></li></ul></li><li><span><a href=\"#Предобработка-данных.\" data-toc-modified-id=\"Предобработка-данных.-2\"><span class=\"toc-item-num\">2&nbsp;&nbsp;</span>Предобработка данных.</a></span><ul class=\"toc-item\"><li><span><a href=\"#Промежуточный-вывод\" data-toc-modified-id=\"Промежуточный-вывод-2.1\"><span class=\"toc-item-num\">2.1&nbsp;&nbsp;</span>Промежуточный вывод</a></span></li></ul></li><li><span><a href=\"#Подготовка-данных.\" data-toc-modified-id=\"Подготовка-данных.-3\"><span class=\"toc-item-num\">3&nbsp;&nbsp;</span>Подготовка данных.</a></span><ul class=\"toc-item\"><li><span><a href=\"#Промежуточный-вывод\" data-toc-modified-id=\"Промежуточный-вывод-3.1\"><span class=\"toc-item-num\">3.1&nbsp;&nbsp;</span>Промежуточный вывод</a></span></li></ul></li><li><span><a href=\"#Исследование-задачи\" data-toc-modified-id=\"Исследование-задачи-4\"><span class=\"toc-item-num\">4&nbsp;&nbsp;</span>Исследование задачи</a></span><ul class=\"toc-item\"><li><span><a href=\"#Проверка-на-дисбаланс-классов.\" data-toc-modified-id=\"Проверка-на-дисбаланс-классов.-4.1\"><span class=\"toc-item-num\">4.1&nbsp;&nbsp;</span>Проверка на дисбаланс классов.</a></span></li><li><span><a href=\"#Проверка-моделей-без-учёта-дисбаланса-классов.\" data-toc-modified-id=\"Проверка-моделей-без-учёта-дисбаланса-классов.-4.2\"><span class=\"toc-item-num\">4.2&nbsp;&nbsp;</span>Проверка моделей без учёта дисбаланса классов.</a></span><ul class=\"toc-item\"><li><span><a href=\"#Модель-DecisionTreeClassifier\" data-toc-modified-id=\"Модель-DecisionTreeClassifier-4.2.1\"><span class=\"toc-item-num\">4.2.1&nbsp;&nbsp;</span>Модель DecisionTreeClassifier</a></span></li><li><span><a href=\"#Модель-RandomForestClassifier\" data-toc-modified-id=\"Модель-RandomForestClassifier-4.2.2\"><span class=\"toc-item-num\">4.2.2&nbsp;&nbsp;</span>Модель RandomForestClassifier</a></span></li><li><span><a href=\"#Модель-LogisticRegression\" data-toc-modified-id=\"Модель-LogisticRegression-4.2.3\"><span class=\"toc-item-num\">4.2.3&nbsp;&nbsp;</span>Модель LogisticRegression</a></span></li></ul></li><li><span><a href=\"#Промежуточный-вывод\" data-toc-modified-id=\"Промежуточный-вывод-4.3\"><span class=\"toc-item-num\">4.3&nbsp;&nbsp;</span>Промежуточный вывод</a></span></li></ul></li><li><span><a href=\"#Борьба-с-дисбалансом\" data-toc-modified-id=\"Борьба-с-дисбалансом-5\"><span class=\"toc-item-num\">5&nbsp;&nbsp;</span>Борьба с дисбалансом</a></span><ul class=\"toc-item\"><li><span><a href=\"#Взвешивание-классов.\" data-toc-modified-id=\"Взвешивание-классов.-5.1\"><span class=\"toc-item-num\">5.1&nbsp;&nbsp;</span>Взвешивание классов.</a></span><ul class=\"toc-item\"><li><span><a href=\"#Модель-DecisionTreeClassifier\" data-toc-modified-id=\"Модель-DecisionTreeClassifier-5.1.1\"><span class=\"toc-item-num\">5.1.1&nbsp;&nbsp;</span>Модель DecisionTreeClassifier</a></span></li><li><span><a href=\"#Модель-RandomForestClassifier\" data-toc-modified-id=\"Модель-RandomForestClassifier-5.1.2\"><span class=\"toc-item-num\">5.1.2&nbsp;&nbsp;</span>Модель RandomForestClassifier</a></span></li><li><span><a href=\"#Модель-LogisticRegression\" data-toc-modified-id=\"Модель-LogisticRegression-5.1.3\"><span class=\"toc-item-num\">5.1.3&nbsp;&nbsp;</span>Модель LogisticRegression</a></span></li></ul></li><li><span><a href=\"#Увеличение-выборки.\" data-toc-modified-id=\"Увеличение-выборки.-5.2\"><span class=\"toc-item-num\">5.2&nbsp;&nbsp;</span>Увеличение выборки.</a></span><ul class=\"toc-item\"><li><span><a href=\"#Модель-DecisionTreeClassifier\" data-toc-modified-id=\"Модель-DecisionTreeClassifier-5.2.1\"><span class=\"toc-item-num\">5.2.1&nbsp;&nbsp;</span>Модель DecisionTreeClassifier</a></span></li><li><span><a href=\"#Модель-RandomForestClassifier\" data-toc-modified-id=\"Модель-RandomForestClassifier-5.2.2\"><span class=\"toc-item-num\">5.2.2&nbsp;&nbsp;</span>Модель RandomForestClassifier</a></span></li><li><span><a href=\"#Модель-LogisticRegression\" data-toc-modified-id=\"Модель-LogisticRegression-5.2.3\"><span class=\"toc-item-num\">5.2.3&nbsp;&nbsp;</span>Модель LogisticRegression</a></span></li></ul></li><li><span><a href=\"#Уменьшение-выборки.\" data-toc-modified-id=\"Уменьшение-выборки.-5.3\"><span class=\"toc-item-num\">5.3&nbsp;&nbsp;</span>Уменьшение выборки.</a></span><ul class=\"toc-item\"><li><span><a href=\"#Модель-DecisionTreeClassifier\" data-toc-modified-id=\"Модель-DecisionTreeClassifier-5.3.1\"><span class=\"toc-item-num\">5.3.1&nbsp;&nbsp;</span>Модель DecisionTreeClassifier</a></span></li><li><span><a href=\"#Модель-RandomForestClassifier\" data-toc-modified-id=\"Модель-RandomForestClassifier-5.3.2\"><span class=\"toc-item-num\">5.3.2&nbsp;&nbsp;</span>Модель RandomForestClassifier</a></span></li><li><span><a href=\"#Модель-LogisticRegression\" data-toc-modified-id=\"Модель-LogisticRegression-5.3.3\"><span class=\"toc-item-num\">5.3.3&nbsp;&nbsp;</span>Модель LogisticRegression</a></span></li></ul></li><li><span><a href=\"#Промежуточный-вывод\" data-toc-modified-id=\"Промежуточный-вывод-5.4\"><span class=\"toc-item-num\">5.4&nbsp;&nbsp;</span>Промежуточный вывод</a></span></li></ul></li><li><span><a href=\"#Тестирование-лучшей-модели-(RandomForestClassifier-c-взвешиванием-классов)\" data-toc-modified-id=\"Тестирование-лучшей-модели-(RandomForestClassifier-c-взвешиванием-классов)-6\"><span class=\"toc-item-num\">6&nbsp;&nbsp;</span>Тестирование лучшей модели (RandomForestClassifier c взвешиванием классов)</a></span><ul class=\"toc-item\"><li><span><a href=\"#Промежуточный-вывод\" data-toc-modified-id=\"Промежуточный-вывод-6.1\"><span class=\"toc-item-num\">6.1&nbsp;&nbsp;</span>Промежуточный вывод</a></span></li></ul></li><li><span><a href=\"#Общий-вывод\" data-toc-modified-id=\"Общий-вывод-7\"><span class=\"toc-item-num\">7&nbsp;&nbsp;</span>Общий вывод</a></span><ul class=\"toc-item\"><li><span><a href=\"#Знакомство-с-данными\" data-toc-modified-id=\"Знакомство-с-данными-7.1\"><span class=\"toc-item-num\">7.1&nbsp;&nbsp;</span>Знакомство с данными</a></span></li><li><span><a href=\"#Предобработка-данных\" data-toc-modified-id=\"Предобработка-данных-7.2\"><span class=\"toc-item-num\">7.2&nbsp;&nbsp;</span>Предобработка данных</a></span></li><li><span><a href=\"#Подготовка-данных\" data-toc-modified-id=\"Подготовка-данных-7.3\"><span class=\"toc-item-num\">7.3&nbsp;&nbsp;</span>Подготовка данных</a></span></li><li><span><a href=\"#Исследование-задачи\" data-toc-modified-id=\"Исследование-задачи-7.4\"><span class=\"toc-item-num\">7.4&nbsp;&nbsp;</span>Исследование задачи</a></span></li><li><span><a href=\"#Борьба-с-дисбалансом\" data-toc-modified-id=\"Борьба-с-дисбалансом-7.5\"><span class=\"toc-item-num\">7.5&nbsp;&nbsp;</span>Борьба с дисбалансом</a></span></li><li><span><a href=\"#Тестирование-лучшей-модели\" data-toc-modified-id=\"Тестирование-лучшей-модели-7.6\"><span class=\"toc-item-num\">7.6&nbsp;&nbsp;</span>Тестирование лучшей модели</a></span></li></ul></li><li><span><a href=\"#Чек-лист-готовности-проекта\" data-toc-modified-id=\"Чек-лист-готовности-проекта-8\"><span class=\"toc-item-num\">8&nbsp;&nbsp;</span>Чек-лист готовности проекта</a></span></li></ul></div>"
   ]
  },
  {
   "cell_type": "markdown",
   "metadata": {},
   "source": [
    "# Отток клиентов"
   ]
  },
  {
   "cell_type": "markdown",
   "metadata": {},
   "source": [
    "**Из «Бета-Банка» стали уходить клиенты. Каждый месяц. Немного, но заметно. Банковские маркетологи посчитали: сохранять текущих клиентов дешевле, чем привлекать новых.**\n",
    "\n",
    "Источник данных: [https://www.kaggle.com/barelydedicated/bank-customer-churn-modeling](https://www.kaggle.com/barelydedicated/bank-customer-churn-modeling)"
   ]
  },
  {
   "cell_type": "markdown",
   "metadata": {},
   "source": [
    "# Цель проекта"
   ]
  },
  {
   "cell_type": "markdown",
   "metadata": {},
   "source": [
    "**Спрогнозировать, уйдёт клиент из банка в ближайшее время или нет. Вам предоставлены исторические данные о поведении клиентов и расторжении договоров с банком.**"
   ]
  },
  {
   "cell_type": "markdown",
   "metadata": {},
   "source": [
    "# Ход проекта"
   ]
  },
  {
   "cell_type": "markdown",
   "metadata": {},
   "source": [
    "* **Загрузка и знакомство с данными**\n",
    "* **Предобработка данных**\n",
    "* **Подготовка данных**\n",
    "* **Исследование задачи, баланс классов**\n",
    "* **Борьба с дисбалансом классов путём взвешивания классов, увеличения и уменьшения выборки**\n",
    "* **Тестирование лучшей модели относительно f1-меры**\n",
    "* **Измерение AUC-ROC лучшей модели**\n",
    "* **Общий вывод**"
   ]
  },
  {
   "cell_type": "code",
   "execution_count": 2,
   "metadata": {},
   "outputs": [],
   "source": [
    "import pandas as pd\n",
    "import seaborn as sns\n",
    "import matplotlib.pyplot as plt\n",
    "import numpy as np\n",
    "import warnings\n",
    "\n",
    "from sklearn.preprocessing import StandardScaler, OneHotEncoder, MinMaxScaler\n",
    "from sklearn.tree import DecisionTreeClassifier\n",
    "from sklearn.ensemble import RandomForestClassifier\n",
    "from sklearn.linear_model import LogisticRegression\n",
    "from sklearn.utils import shuffle\n",
    "from sklearn.dummy import DummyClassifier\n",
    "\n",
    "from sklearn.metrics import (\n",
    "    confusion_matrix,\n",
    "    plot_confusion_matrix,\n",
    "    roc_curve,\n",
    "    roc_auc_score,\n",
    "    accuracy_score,\n",
    "    f1_score,\n",
    "    recall_score,\n",
    "    precision_score\n",
    "    )\n",
    "\n",
    "warnings.filterwarnings(\"ignore\")"
   ]
  },
  {
   "cell_type": "markdown",
   "metadata": {},
   "source": [
    "## Загрузка и знакомство с данными."
   ]
  },
  {
   "cell_type": "markdown",
   "metadata": {},
   "source": [
    "### Знакомство с данными."
   ]
  },
  {
   "cell_type": "code",
   "execution_count": 3,
   "metadata": {},
   "outputs": [],
   "source": [
    "data = pd.read_csv('C:/Users/bezth/pract/project6_ml_bank/Churn.csv')\n",
    "pd.set_option('display.max_rows', None)"
   ]
  },
  {
   "cell_type": "code",
   "execution_count": 4,
   "metadata": {},
   "outputs": [
    {
     "data": {
      "text/html": [
       "<div>\n",
       "<style scoped>\n",
       "    .dataframe tbody tr th:only-of-type {\n",
       "        vertical-align: middle;\n",
       "    }\n",
       "\n",
       "    .dataframe tbody tr th {\n",
       "        vertical-align: top;\n",
       "    }\n",
       "\n",
       "    .dataframe thead th {\n",
       "        text-align: right;\n",
       "    }\n",
       "</style>\n",
       "<table border=\"1\" class=\"dataframe\">\n",
       "  <thead>\n",
       "    <tr style=\"text-align: right;\">\n",
       "      <th></th>\n",
       "      <th>RowNumber</th>\n",
       "      <th>CustomerId</th>\n",
       "      <th>Surname</th>\n",
       "      <th>CreditScore</th>\n",
       "      <th>Geography</th>\n",
       "      <th>Gender</th>\n",
       "      <th>Age</th>\n",
       "      <th>Tenure</th>\n",
       "      <th>Balance</th>\n",
       "      <th>NumOfProducts</th>\n",
       "      <th>HasCrCard</th>\n",
       "      <th>IsActiveMember</th>\n",
       "      <th>EstimatedSalary</th>\n",
       "      <th>Exited</th>\n",
       "    </tr>\n",
       "  </thead>\n",
       "  <tbody>\n",
       "    <tr>\n",
       "      <th>0</th>\n",
       "      <td>1</td>\n",
       "      <td>15634602</td>\n",
       "      <td>Hargrave</td>\n",
       "      <td>619</td>\n",
       "      <td>France</td>\n",
       "      <td>Female</td>\n",
       "      <td>42</td>\n",
       "      <td>2</td>\n",
       "      <td>0.00</td>\n",
       "      <td>1</td>\n",
       "      <td>1</td>\n",
       "      <td>1</td>\n",
       "      <td>101348.88</td>\n",
       "      <td>1</td>\n",
       "    </tr>\n",
       "    <tr>\n",
       "      <th>1</th>\n",
       "      <td>2</td>\n",
       "      <td>15647311</td>\n",
       "      <td>Hill</td>\n",
       "      <td>608</td>\n",
       "      <td>Spain</td>\n",
       "      <td>Female</td>\n",
       "      <td>41</td>\n",
       "      <td>1</td>\n",
       "      <td>83807.86</td>\n",
       "      <td>1</td>\n",
       "      <td>0</td>\n",
       "      <td>1</td>\n",
       "      <td>112542.58</td>\n",
       "      <td>0</td>\n",
       "    </tr>\n",
       "    <tr>\n",
       "      <th>2</th>\n",
       "      <td>3</td>\n",
       "      <td>15619304</td>\n",
       "      <td>Onio</td>\n",
       "      <td>502</td>\n",
       "      <td>France</td>\n",
       "      <td>Female</td>\n",
       "      <td>42</td>\n",
       "      <td>8</td>\n",
       "      <td>159660.80</td>\n",
       "      <td>3</td>\n",
       "      <td>1</td>\n",
       "      <td>0</td>\n",
       "      <td>113931.57</td>\n",
       "      <td>1</td>\n",
       "    </tr>\n",
       "    <tr>\n",
       "      <th>3</th>\n",
       "      <td>4</td>\n",
       "      <td>15701354</td>\n",
       "      <td>Boni</td>\n",
       "      <td>699</td>\n",
       "      <td>France</td>\n",
       "      <td>Female</td>\n",
       "      <td>39</td>\n",
       "      <td>1</td>\n",
       "      <td>0.00</td>\n",
       "      <td>2</td>\n",
       "      <td>0</td>\n",
       "      <td>0</td>\n",
       "      <td>93826.63</td>\n",
       "      <td>0</td>\n",
       "    </tr>\n",
       "    <tr>\n",
       "      <th>4</th>\n",
       "      <td>5</td>\n",
       "      <td>15737888</td>\n",
       "      <td>Mitchell</td>\n",
       "      <td>850</td>\n",
       "      <td>Spain</td>\n",
       "      <td>Female</td>\n",
       "      <td>43</td>\n",
       "      <td>2</td>\n",
       "      <td>125510.82</td>\n",
       "      <td>1</td>\n",
       "      <td>1</td>\n",
       "      <td>1</td>\n",
       "      <td>79084.10</td>\n",
       "      <td>0</td>\n",
       "    </tr>\n",
       "  </tbody>\n",
       "</table>\n",
       "</div>"
      ],
      "text/plain": [
       "   RowNumber  CustomerId   Surname  CreditScore Geography  Gender  Age  \\\n",
       "0          1    15634602  Hargrave          619    France  Female   42   \n",
       "1          2    15647311      Hill          608     Spain  Female   41   \n",
       "2          3    15619304      Onio          502    France  Female   42   \n",
       "3          4    15701354      Boni          699    France  Female   39   \n",
       "4          5    15737888  Mitchell          850     Spain  Female   43   \n",
       "\n",
       "   Tenure    Balance  NumOfProducts  HasCrCard  IsActiveMember  \\\n",
       "0       2       0.00              1          1               1   \n",
       "1       1   83807.86              1          0               1   \n",
       "2       8  159660.80              3          1               0   \n",
       "3       1       0.00              2          0               0   \n",
       "4       2  125510.82              1          1               1   \n",
       "\n",
       "   EstimatedSalary  Exited  \n",
       "0        101348.88       1  \n",
       "1        112542.58       0  \n",
       "2        113931.57       1  \n",
       "3         93826.63       0  \n",
       "4         79084.10       0  "
      ]
     },
     "execution_count": 4,
     "metadata": {},
     "output_type": "execute_result"
    }
   ],
   "source": [
    "data.head()"
   ]
  },
  {
   "cell_type": "markdown",
   "metadata": {},
   "source": [
    "**Надо будет изменить названия столбцов. Также присутствуют данные не имеющие фактического отношения к задаче, такие как имя, id клиента.**\\\n",
    "\\\n",
    "**Целевой признак exited(останется клиент или уйдёт)**"
   ]
  },
  {
   "cell_type": "code",
   "execution_count": 5,
   "metadata": {},
   "outputs": [
    {
     "name": "stdout",
     "output_type": "stream",
     "text": [
      "<class 'pandas.core.frame.DataFrame'>\n",
      "RangeIndex: 10000 entries, 0 to 9999\n",
      "Data columns (total 14 columns):\n",
      " #   Column           Non-Null Count  Dtype  \n",
      "---  ------           --------------  -----  \n",
      " 0   RowNumber        10000 non-null  int64  \n",
      " 1   CustomerId       10000 non-null  int64  \n",
      " 2   Surname          10000 non-null  object \n",
      " 3   CreditScore      10000 non-null  int64  \n",
      " 4   Geography        10000 non-null  object \n",
      " 5   Gender           10000 non-null  object \n",
      " 6   Age              10000 non-null  int64  \n",
      " 7   Tenure           10000 non-null  int64  \n",
      " 8   Balance          10000 non-null  float64\n",
      " 9   NumOfProducts    10000 non-null  int64  \n",
      " 10  HasCrCard        10000 non-null  int64  \n",
      " 11  IsActiveMember   10000 non-null  int64  \n",
      " 12  EstimatedSalary  10000 non-null  float64\n",
      " 13  Exited           10000 non-null  int64  \n",
      "dtypes: float64(2), int64(9), object(3)\n",
      "memory usage: 1.1+ MB\n"
     ]
    }
   ],
   "source": [
    "data.info()"
   ]
  },
  {
   "cell_type": "markdown",
   "metadata": {},
   "source": [
    "**Пропуски в столбцу tenure, количество лет которым является клиент банка.**\\\n",
    "\\\n",
    "**Столбец Tenure имеет значения равные натуральным числам, можно изменить тип данных на int.**\\\n",
    "\\\n",
    "**Столбцы CreditScore, EstimatedSalary тоже можно перевести в int, это срежет копейки которые не имеют большого значения но увеличивают длину числа что потребует больших ресурсов компьютера для рассчётов**"
   ]
  },
  {
   "cell_type": "code",
   "execution_count": 6,
   "metadata": {},
   "outputs": [
    {
     "data": {
      "text/plain": [
       "RowNumber          0\n",
       "CustomerId         0\n",
       "Surname            0\n",
       "CreditScore        0\n",
       "Geography          0\n",
       "Gender             0\n",
       "Age                0\n",
       "Tenure             0\n",
       "Balance            0\n",
       "NumOfProducts      0\n",
       "HasCrCard          0\n",
       "IsActiveMember     0\n",
       "EstimatedSalary    0\n",
       "Exited             0\n",
       "dtype: int64"
      ]
     },
     "execution_count": 6,
     "metadata": {},
     "output_type": "execute_result"
    }
   ],
   "source": [
    "data.isna().sum()"
   ]
  },
  {
   "cell_type": "markdown",
   "metadata": {},
   "source": [
    "**Пропусков меньше 10% избавимся от них.**"
   ]
  },
  {
   "cell_type": "code",
   "execution_count": 7,
   "metadata": {},
   "outputs": [
    {
     "data": {
      "image/png": "[encoded data removed]",
      "text/plain": [
       "<Figure size 1500x1500 with 12 Axes>"
      ]
     },
     "metadata": {},
     "output_type": "display_data"
    }
   ],
   "source": [
    "data.hist(figsize=(15,15));"
   ]
  },
  {
   "cell_type": "markdown",
   "metadata": {},
   "source": [
    "**При первом взгляде на гистограммы не заметны выбросы данных.**"
   ]
  },
  {
   "cell_type": "code",
   "execution_count": 8,
   "metadata": {},
   "outputs": [
    {
     "data": {
      "text/plain": [
       "0"
      ]
     },
     "execution_count": 8,
     "metadata": {},
     "output_type": "execute_result"
    }
   ],
   "source": [
    "data.duplicated().sum()"
   ]
  },
  {
   "cell_type": "markdown",
   "metadata": {},
   "source": [
    "**Дубликатов нет.**"
   ]
  },
  {
   "cell_type": "code",
   "execution_count": 9,
   "metadata": {},
   "outputs": [
    {
     "data": {
      "text/plain": [
       "array(['France', 'Spain', 'Germany'], dtype=object)"
      ]
     },
     "execution_count": 9,
     "metadata": {},
     "output_type": "execute_result"
    }
   ],
   "source": [
    "data['Geography'].unique()"
   ]
  },
  {
   "cell_type": "code",
   "execution_count": 10,
   "metadata": {},
   "outputs": [
    {
     "data": {
      "text/plain": [
       "array(['Female', 'Male'], dtype=object)"
      ]
     },
     "execution_count": 10,
     "metadata": {},
     "output_type": "execute_result"
    }
   ],
   "source": [
    "data['Gender'].unique()"
   ]
  },
  {
   "cell_type": "markdown",
   "metadata": {},
   "source": [
    "**Категориальные признаки, будут переведенны в численные**"
   ]
  },
  {
   "cell_type": "markdown",
   "metadata": {},
   "source": [
    "### Промежуточный вывод"
   ]
  },
  {
   "cell_type": "markdown",
   "metadata": {},
   "source": [
    "**При знакомстве с данными выявленно:**\\\n",
    "\\\n",
    "**Целевой признак exited (останется клиент или уйдёт)**\\\n",
    "\\\n",
    "**Необходимость изменения названий столбцов.**\\\n",
    "\\\n",
    "**Необходимо удалить пропущенные значения(меньше 10% от общего числа строк).**\\\n",
    "\\\n",
    "**Столбец Tenure имеет значения равные натуральным числам, можно изменить тип данных на int.**\\\n",
    "\\\n",
    "**Столбцы Balance, EstimatedSalary тоже можно перевести в int, это срежет копейки которые не имеют большого значения но увеличивают длину числа что в свою очередь потребует больших ресурсов компьютера для рассчётов.**\\\n",
    "\\\n",
    "**необходимость перевести категориальный признак Geography в численный тип техникой OHE.**"
   ]
  },
  {
   "cell_type": "markdown",
   "metadata": {},
   "source": [
    "## Предобработка данных."
   ]
  },
  {
   "cell_type": "code",
   "execution_count": 11,
   "metadata": {},
   "outputs": [
    {
     "data": {
      "text/plain": [
       "Index(['row_number', 'customer_id', 'surname', 'credit_score', 'geography',\n",
       "       'gender', 'age', 'tenure', 'balance', 'num_of_products', 'has_cr_card',\n",
       "       'is_active_member', 'estimated_salary', 'exited'],\n",
       "      dtype='object')"
      ]
     },
     "execution_count": 11,
     "metadata": {},
     "output_type": "execute_result"
    }
   ],
   "source": [
    "data.columns = (data.columns\n",
    "                .str.replace('(?<=[a-z])(?=[A-Z])', '_', regex=True)\n",
    "                .str.lower())\n",
    "#data.columns = map(str.lower, data.columns)\n",
    "data.columns"
   ]
  },
  {
   "cell_type": "markdown",
   "metadata": {},
   "source": [
    "**Приводим наименование столбцов в правильный вид.**"
   ]
  },
  {
   "cell_type": "code",
   "execution_count": 12,
   "metadata": {},
   "outputs": [
    {
     "name": "stdout",
     "output_type": "stream",
     "text": [
      "<class 'pandas.core.frame.DataFrame'>\n",
      "RangeIndex: 10000 entries, 0 to 9999\n",
      "Data columns (total 15 columns):\n",
      " #   Column            Non-Null Count  Dtype  \n",
      "---  ------            --------------  -----  \n",
      " 0   index             10000 non-null  int64  \n",
      " 1   row_number        10000 non-null  int64  \n",
      " 2   customer_id       10000 non-null  int64  \n",
      " 3   surname           10000 non-null  object \n",
      " 4   credit_score      10000 non-null  int64  \n",
      " 5   geography         10000 non-null  object \n",
      " 6   gender            10000 non-null  object \n",
      " 7   age               10000 non-null  int64  \n",
      " 8   tenure            10000 non-null  int64  \n",
      " 9   balance           10000 non-null  float64\n",
      " 10  num_of_products   10000 non-null  int64  \n",
      " 11  has_cr_card       10000 non-null  int64  \n",
      " 12  is_active_member  10000 non-null  int64  \n",
      " 13  estimated_salary  10000 non-null  float64\n",
      " 14  exited            10000 non-null  int64  \n",
      "dtypes: float64(2), int64(10), object(3)\n",
      "memory usage: 1.1+ MB\n"
     ]
    }
   ],
   "source": [
    "data.dropna(inplace=True)\n",
    "data.reset_index(inplace=True)\n",
    "data.info()"
   ]
  },
  {
   "cell_type": "markdown",
   "metadata": {},
   "source": [
    "**Дроп строк с пропусками.**"
   ]
  },
  {
   "cell_type": "code",
   "execution_count": 13,
   "metadata": {},
   "outputs": [
    {
     "data": {
      "text/html": [
       "<div>\n",
       "<style scoped>\n",
       "    .dataframe tbody tr th:only-of-type {\n",
       "        vertical-align: middle;\n",
       "    }\n",
       "\n",
       "    .dataframe tbody tr th {\n",
       "        vertical-align: top;\n",
       "    }\n",
       "\n",
       "    .dataframe thead th {\n",
       "        text-align: right;\n",
       "    }\n",
       "</style>\n",
       "<table border=\"1\" class=\"dataframe\">\n",
       "  <thead>\n",
       "    <tr style=\"text-align: right;\">\n",
       "      <th></th>\n",
       "      <th>index</th>\n",
       "      <th>row_number</th>\n",
       "      <th>customer_id</th>\n",
       "      <th>surname</th>\n",
       "      <th>credit_score</th>\n",
       "      <th>geography</th>\n",
       "      <th>gender</th>\n",
       "      <th>age</th>\n",
       "      <th>tenure</th>\n",
       "      <th>balance</th>\n",
       "      <th>num_of_products</th>\n",
       "      <th>has_cr_card</th>\n",
       "      <th>is_active_member</th>\n",
       "      <th>estimated_salary</th>\n",
       "      <th>exited</th>\n",
       "    </tr>\n",
       "  </thead>\n",
       "  <tbody>\n",
       "    <tr>\n",
       "      <th>0</th>\n",
       "      <td>0</td>\n",
       "      <td>1</td>\n",
       "      <td>15634602</td>\n",
       "      <td>Hargrave</td>\n",
       "      <td>619</td>\n",
       "      <td>France</td>\n",
       "      <td>Female</td>\n",
       "      <td>42</td>\n",
       "      <td>2</td>\n",
       "      <td>0</td>\n",
       "      <td>1</td>\n",
       "      <td>1</td>\n",
       "      <td>1</td>\n",
       "      <td>101348</td>\n",
       "      <td>1</td>\n",
       "    </tr>\n",
       "    <tr>\n",
       "      <th>1</th>\n",
       "      <td>1</td>\n",
       "      <td>2</td>\n",
       "      <td>15647311</td>\n",
       "      <td>Hill</td>\n",
       "      <td>608</td>\n",
       "      <td>Spain</td>\n",
       "      <td>Female</td>\n",
       "      <td>41</td>\n",
       "      <td>1</td>\n",
       "      <td>83807</td>\n",
       "      <td>1</td>\n",
       "      <td>0</td>\n",
       "      <td>1</td>\n",
       "      <td>112542</td>\n",
       "      <td>0</td>\n",
       "    </tr>\n",
       "    <tr>\n",
       "      <th>2</th>\n",
       "      <td>2</td>\n",
       "      <td>3</td>\n",
       "      <td>15619304</td>\n",
       "      <td>Onio</td>\n",
       "      <td>502</td>\n",
       "      <td>France</td>\n",
       "      <td>Female</td>\n",
       "      <td>42</td>\n",
       "      <td>8</td>\n",
       "      <td>159660</td>\n",
       "      <td>3</td>\n",
       "      <td>1</td>\n",
       "      <td>0</td>\n",
       "      <td>113931</td>\n",
       "      <td>1</td>\n",
       "    </tr>\n",
       "    <tr>\n",
       "      <th>3</th>\n",
       "      <td>3</td>\n",
       "      <td>4</td>\n",
       "      <td>15701354</td>\n",
       "      <td>Boni</td>\n",
       "      <td>699</td>\n",
       "      <td>France</td>\n",
       "      <td>Female</td>\n",
       "      <td>39</td>\n",
       "      <td>1</td>\n",
       "      <td>0</td>\n",
       "      <td>2</td>\n",
       "      <td>0</td>\n",
       "      <td>0</td>\n",
       "      <td>93826</td>\n",
       "      <td>0</td>\n",
       "    </tr>\n",
       "    <tr>\n",
       "      <th>4</th>\n",
       "      <td>4</td>\n",
       "      <td>5</td>\n",
       "      <td>15737888</td>\n",
       "      <td>Mitchell</td>\n",
       "      <td>850</td>\n",
       "      <td>Spain</td>\n",
       "      <td>Female</td>\n",
       "      <td>43</td>\n",
       "      <td>2</td>\n",
       "      <td>125510</td>\n",
       "      <td>1</td>\n",
       "      <td>1</td>\n",
       "      <td>1</td>\n",
       "      <td>79084</td>\n",
       "      <td>0</td>\n",
       "    </tr>\n",
       "  </tbody>\n",
       "</table>\n",
       "</div>"
      ],
      "text/plain": [
       "   index  row_number  customer_id   surname  credit_score geography  gender  \\\n",
       "0      0           1     15634602  Hargrave           619    France  Female   \n",
       "1      1           2     15647311      Hill           608     Spain  Female   \n",
       "2      2           3     15619304      Onio           502    France  Female   \n",
       "3      3           4     15701354      Boni           699    France  Female   \n",
       "4      4           5     15737888  Mitchell           850     Spain  Female   \n",
       "\n",
       "   age  tenure  balance  num_of_products  has_cr_card  is_active_member  \\\n",
       "0   42       2        0                1            1                 1   \n",
       "1   41       1    83807                1            0                 1   \n",
       "2   42       8   159660                3            1                 0   \n",
       "3   39       1        0                2            0                 0   \n",
       "4   43       2   125510                1            1                 1   \n",
       "\n",
       "   estimated_salary  exited  \n",
       "0            101348       1  \n",
       "1            112542       0  \n",
       "2            113931       1  \n",
       "3             93826       0  \n",
       "4             79084       0  "
      ]
     },
     "execution_count": 13,
     "metadata": {},
     "output_type": "execute_result"
    }
   ],
   "source": [
    "data['tenure'] = data['tenure'].astype(int)\n",
    "data['balance'] = data['balance'].astype(int)\n",
    "data['estimated_salary'] = data['estimated_salary'].astype(int)\n",
    "data.head()"
   ]
  },
  {
   "cell_type": "markdown",
   "metadata": {},
   "source": [
    "**Изменение типов данных.**"
   ]
  },
  {
   "cell_type": "code",
   "execution_count": 14,
   "metadata": {},
   "outputs": [
    {
     "data": {
      "text/html": [
       "<div>\n",
       "<style scoped>\n",
       "    .dataframe tbody tr th:only-of-type {\n",
       "        vertical-align: middle;\n",
       "    }\n",
       "\n",
       "    .dataframe tbody tr th {\n",
       "        vertical-align: top;\n",
       "    }\n",
       "\n",
       "    .dataframe thead th {\n",
       "        text-align: right;\n",
       "    }\n",
       "</style>\n",
       "<table border=\"1\" class=\"dataframe\">\n",
       "  <thead>\n",
       "    <tr style=\"text-align: right;\">\n",
       "      <th></th>\n",
       "      <th>credit_score</th>\n",
       "      <th>geography</th>\n",
       "      <th>gender</th>\n",
       "      <th>age</th>\n",
       "      <th>tenure</th>\n",
       "      <th>balance</th>\n",
       "      <th>num_of_products</th>\n",
       "      <th>has_cr_card</th>\n",
       "      <th>is_active_member</th>\n",
       "      <th>estimated_salary</th>\n",
       "      <th>exited</th>\n",
       "    </tr>\n",
       "  </thead>\n",
       "  <tbody>\n",
       "    <tr>\n",
       "      <th>0</th>\n",
       "      <td>619</td>\n",
       "      <td>France</td>\n",
       "      <td>Female</td>\n",
       "      <td>42</td>\n",
       "      <td>2</td>\n",
       "      <td>0</td>\n",
       "      <td>1</td>\n",
       "      <td>1</td>\n",
       "      <td>1</td>\n",
       "      <td>101348</td>\n",
       "      <td>1</td>\n",
       "    </tr>\n",
       "    <tr>\n",
       "      <th>1</th>\n",
       "      <td>608</td>\n",
       "      <td>Spain</td>\n",
       "      <td>Female</td>\n",
       "      <td>41</td>\n",
       "      <td>1</td>\n",
       "      <td>83807</td>\n",
       "      <td>1</td>\n",
       "      <td>0</td>\n",
       "      <td>1</td>\n",
       "      <td>112542</td>\n",
       "      <td>0</td>\n",
       "    </tr>\n",
       "    <tr>\n",
       "      <th>2</th>\n",
       "      <td>502</td>\n",
       "      <td>France</td>\n",
       "      <td>Female</td>\n",
       "      <td>42</td>\n",
       "      <td>8</td>\n",
       "      <td>159660</td>\n",
       "      <td>3</td>\n",
       "      <td>1</td>\n",
       "      <td>0</td>\n",
       "      <td>113931</td>\n",
       "      <td>1</td>\n",
       "    </tr>\n",
       "    <tr>\n",
       "      <th>3</th>\n",
       "      <td>699</td>\n",
       "      <td>France</td>\n",
       "      <td>Female</td>\n",
       "      <td>39</td>\n",
       "      <td>1</td>\n",
       "      <td>0</td>\n",
       "      <td>2</td>\n",
       "      <td>0</td>\n",
       "      <td>0</td>\n",
       "      <td>93826</td>\n",
       "      <td>0</td>\n",
       "    </tr>\n",
       "    <tr>\n",
       "      <th>4</th>\n",
       "      <td>850</td>\n",
       "      <td>Spain</td>\n",
       "      <td>Female</td>\n",
       "      <td>43</td>\n",
       "      <td>2</td>\n",
       "      <td>125510</td>\n",
       "      <td>1</td>\n",
       "      <td>1</td>\n",
       "      <td>1</td>\n",
       "      <td>79084</td>\n",
       "      <td>0</td>\n",
       "    </tr>\n",
       "  </tbody>\n",
       "</table>\n",
       "</div>"
      ],
      "text/plain": [
       "   credit_score geography  gender  age  tenure  balance  num_of_products  \\\n",
       "0           619    France  Female   42       2        0                1   \n",
       "1           608     Spain  Female   41       1    83807                1   \n",
       "2           502    France  Female   42       8   159660                3   \n",
       "3           699    France  Female   39       1        0                2   \n",
       "4           850     Spain  Female   43       2   125510                1   \n",
       "\n",
       "   has_cr_card  is_active_member  estimated_salary  exited  \n",
       "0            1                 1            101348       1  \n",
       "1            0                 1            112542       0  \n",
       "2            1                 0            113931       1  \n",
       "3            0                 0             93826       0  \n",
       "4            1                 1             79084       0  "
      ]
     },
     "execution_count": 14,
     "metadata": {},
     "output_type": "execute_result"
    }
   ],
   "source": [
    "#data = data.drop('row_number', axis=1)\n",
    "#data = data.drop('customer_id', axis=1)\n",
    "#data = data.drop('index', axis=1)\n",
    "#data = data.drop('surname', axis=1)\n",
    "data = data.drop(['row_number', 'customer_id', 'surname', 'index'], axis=1)\n",
    "data.head()"
   ]
  },
  {
   "cell_type": "markdown",
   "metadata": {},
   "source": [
    "**Дроп столбцов не имеющих фактического влияния на целевой признак, они же в случае если их оставить могут наоборот оказать негативное влияние на предсказывание целевого признака.**"
   ]
  },
  {
   "cell_type": "markdown",
   "metadata": {},
   "source": [
    "### Промежуточный вывод"
   ]
  },
  {
   "cell_type": "markdown",
   "metadata": {},
   "source": [
    "* **Привели в правильный вид названия всех столбцов.**\n",
    "* **Изменили тип данных следующих столбцов на int - tenure, balance, estimated_salary**\n",
    "* **Дроп столбцов с потенциально негативным влиянием на обучение модели. row_number, customer_id, surname.**"
   ]
  },
  {
   "cell_type": "markdown",
   "metadata": {},
   "source": [
    "## Подготовка данных."
   ]
  },
  {
   "cell_type": "markdown",
   "metadata": {},
   "source": [
    "**Приводим категориальные признаки в числовой тип.**"
   ]
  },
  {
   "cell_type": "code",
   "execution_count": 16,
   "metadata": {},
   "outputs": [],
   "source": [
    "data_train, data_valid, data_test = np.split(data.sample(frac=1, random_state=12345), \n",
    "                                                         [int(.6*len(data)), int(.8*len(data))])\n",
    "features_train = data_train.drop(['exited'], axis=1)\n",
    "target_train = data_train['exited']\n",
    "\n",
    "features_valid = data_valid.drop(['exited'], axis=1)\n",
    "target_valid = data_valid['exited']\n",
    "\n",
    "features_test = data_test.drop(['exited'], axis=1)\n",
    "target_test = data_test['exited']"
   ]
  },
  {
   "cell_type": "markdown",
   "metadata": {},
   "source": [
    "**Данные разбиты на три датафрейма:\\\n",
    "train - 60%\\\n",
    "valid - 20%\\\n",
    "test  - 20%\\\n",
    "Процент от общего числа строк.**"
   ]
  },
  {
   "cell_type": "code",
   "execution_count": 17,
   "metadata": {},
   "outputs": [],
   "source": [
    "features_train = pd.get_dummies(features_train, drop_first=True, columns=['gender', 'geography'])\n",
    "features_valid = pd.get_dummies(features_valid, drop_first=True, columns=['gender', 'geography'])\n",
    "features_test = pd.get_dummies(features_test, drop_first=True, columns=['gender', 'geography'])\n",
    "\n",
    "#enc = OneHotEncoder(drop_first=True, handle_unknown = 'ignore')\n",
    "#enc.fit(features_train)\n",
    "#enc.head(10)"
   ]
  },
  {
   "cell_type": "code",
   "execution_count": 18,
   "metadata": {},
   "outputs": [],
   "source": [
    "numeric = ['credit_score', 'age', 'tenure', 'balance', 'num_of_products', 'estimated_salary']\n",
    "\n",
    "scaler = MinMaxScaler()\n",
    "                      \n",
    "scaler = scaler.fit(features_train[numeric])\n",
    "features_train[numeric] = scaler.transform(features_train[numeric])\n",
    "features_valid[numeric] = scaler.transform(features_valid[numeric])\n",
    "features_test[numeric] = scaler.transform(features_test[numeric])"
   ]
  },
  {
   "cell_type": "markdown",
   "metadata": {},
   "source": [
    "**Масштабирую признаки.**"
   ]
  },
  {
   "cell_type": "code",
   "execution_count": 19,
   "metadata": {},
   "outputs": [
    {
     "data": {
      "text/html": [
       "<div>\n",
       "<style scoped>\n",
       "    .dataframe tbody tr th:only-of-type {\n",
       "        vertical-align: middle;\n",
       "    }\n",
       "\n",
       "    .dataframe tbody tr th {\n",
       "        vertical-align: top;\n",
       "    }\n",
       "\n",
       "    .dataframe thead th {\n",
       "        text-align: right;\n",
       "    }\n",
       "</style>\n",
       "<table border=\"1\" class=\"dataframe\">\n",
       "  <thead>\n",
       "    <tr style=\"text-align: right;\">\n",
       "      <th></th>\n",
       "      <th>credit_score</th>\n",
       "      <th>age</th>\n",
       "      <th>tenure</th>\n",
       "      <th>balance</th>\n",
       "      <th>num_of_products</th>\n",
       "      <th>has_cr_card</th>\n",
       "      <th>is_active_member</th>\n",
       "      <th>estimated_salary</th>\n",
       "      <th>gender_Male</th>\n",
       "      <th>geography_Germany</th>\n",
       "      <th>geography_Spain</th>\n",
       "    </tr>\n",
       "  </thead>\n",
       "  <tbody>\n",
       "    <tr>\n",
       "      <th>3417</th>\n",
       "      <td>0.524</td>\n",
       "      <td>0.324324</td>\n",
       "      <td>1.0</td>\n",
       "      <td>0.316699</td>\n",
       "      <td>0.000000</td>\n",
       "      <td>0</td>\n",
       "      <td>0</td>\n",
       "      <td>0.748327</td>\n",
       "      <td>0</td>\n",
       "      <td>0</td>\n",
       "      <td>0</td>\n",
       "    </tr>\n",
       "    <tr>\n",
       "      <th>2581</th>\n",
       "      <td>0.708</td>\n",
       "      <td>0.175676</td>\n",
       "      <td>0.0</td>\n",
       "      <td>0.000000</td>\n",
       "      <td>0.333333</td>\n",
       "      <td>1</td>\n",
       "      <td>0</td>\n",
       "      <td>0.915188</td>\n",
       "      <td>1</td>\n",
       "      <td>0</td>\n",
       "      <td>0</td>\n",
       "    </tr>\n",
       "    <tr>\n",
       "      <th>7574</th>\n",
       "      <td>0.798</td>\n",
       "      <td>0.202703</td>\n",
       "      <td>0.1</td>\n",
       "      <td>0.312035</td>\n",
       "      <td>0.000000</td>\n",
       "      <td>1</td>\n",
       "      <td>0</td>\n",
       "      <td>0.100419</td>\n",
       "      <td>0</td>\n",
       "      <td>0</td>\n",
       "      <td>0</td>\n",
       "    </tr>\n",
       "    <tr>\n",
       "      <th>5143</th>\n",
       "      <td>0.592</td>\n",
       "      <td>0.175676</td>\n",
       "      <td>0.2</td>\n",
       "      <td>0.000000</td>\n",
       "      <td>0.000000</td>\n",
       "      <td>1</td>\n",
       "      <td>1</td>\n",
       "      <td>0.854073</td>\n",
       "      <td>1</td>\n",
       "      <td>0</td>\n",
       "      <td>1</td>\n",
       "    </tr>\n",
       "    <tr>\n",
       "      <th>3432</th>\n",
       "      <td>0.880</td>\n",
       "      <td>0.108108</td>\n",
       "      <td>0.5</td>\n",
       "      <td>0.000000</td>\n",
       "      <td>0.000000</td>\n",
       "      <td>1</td>\n",
       "      <td>0</td>\n",
       "      <td>0.102150</td>\n",
       "      <td>1</td>\n",
       "      <td>0</td>\n",
       "      <td>0</td>\n",
       "    </tr>\n",
       "    <tr>\n",
       "      <th>8024</th>\n",
       "      <td>0.688</td>\n",
       "      <td>0.162162</td>\n",
       "      <td>1.0</td>\n",
       "      <td>0.606929</td>\n",
       "      <td>0.000000</td>\n",
       "      <td>1</td>\n",
       "      <td>1</td>\n",
       "      <td>0.158653</td>\n",
       "      <td>1</td>\n",
       "      <td>0</td>\n",
       "      <td>0</td>\n",
       "    </tr>\n",
       "    <tr>\n",
       "      <th>8945</th>\n",
       "      <td>0.384</td>\n",
       "      <td>0.229730</td>\n",
       "      <td>0.2</td>\n",
       "      <td>0.733656</td>\n",
       "      <td>0.000000</td>\n",
       "      <td>1</td>\n",
       "      <td>1</td>\n",
       "      <td>0.111174</td>\n",
       "      <td>1</td>\n",
       "      <td>0</td>\n",
       "      <td>1</td>\n",
       "    </tr>\n",
       "    <tr>\n",
       "      <th>661</th>\n",
       "      <td>0.688</td>\n",
       "      <td>0.527027</td>\n",
       "      <td>0.8</td>\n",
       "      <td>0.487971</td>\n",
       "      <td>0.000000</td>\n",
       "      <td>1</td>\n",
       "      <td>1</td>\n",
       "      <td>0.588358</td>\n",
       "      <td>1</td>\n",
       "      <td>0</td>\n",
       "      <td>1</td>\n",
       "    </tr>\n",
       "    <tr>\n",
       "      <th>7564</th>\n",
       "      <td>0.496</td>\n",
       "      <td>0.270270</td>\n",
       "      <td>0.1</td>\n",
       "      <td>0.425724</td>\n",
       "      <td>0.000000</td>\n",
       "      <td>1</td>\n",
       "      <td>1</td>\n",
       "      <td>0.379531</td>\n",
       "      <td>1</td>\n",
       "      <td>1</td>\n",
       "      <td>0</td>\n",
       "    </tr>\n",
       "    <tr>\n",
       "      <th>5559</th>\n",
       "      <td>1.000</td>\n",
       "      <td>0.243243</td>\n",
       "      <td>0.5</td>\n",
       "      <td>0.503316</td>\n",
       "      <td>0.000000</td>\n",
       "      <td>1</td>\n",
       "      <td>0</td>\n",
       "      <td>0.957694</td>\n",
       "      <td>1</td>\n",
       "      <td>1</td>\n",
       "      <td>0</td>\n",
       "    </tr>\n",
       "  </tbody>\n",
       "</table>\n",
       "</div>"
      ],
      "text/plain": [
       "      credit_score       age  tenure   balance  num_of_products  has_cr_card  \\\n",
       "3417         0.524  0.324324     1.0  0.316699         0.000000            0   \n",
       "2581         0.708  0.175676     0.0  0.000000         0.333333            1   \n",
       "7574         0.798  0.202703     0.1  0.312035         0.000000            1   \n",
       "5143         0.592  0.175676     0.2  0.000000         0.000000            1   \n",
       "3432         0.880  0.108108     0.5  0.000000         0.000000            1   \n",
       "8024         0.688  0.162162     1.0  0.606929         0.000000            1   \n",
       "8945         0.384  0.229730     0.2  0.733656         0.000000            1   \n",
       "661          0.688  0.527027     0.8  0.487971         0.000000            1   \n",
       "7564         0.496  0.270270     0.1  0.425724         0.000000            1   \n",
       "5559         1.000  0.243243     0.5  0.503316         0.000000            1   \n",
       "\n",
       "      is_active_member  estimated_salary  gender_Male  geography_Germany  \\\n",
       "3417                 0          0.748327            0                  0   \n",
       "2581                 0          0.915188            1                  0   \n",
       "7574                 0          0.100419            0                  0   \n",
       "5143                 1          0.854073            1                  0   \n",
       "3432                 0          0.102150            1                  0   \n",
       "8024                 1          0.158653            1                  0   \n",
       "8945                 1          0.111174            1                  0   \n",
       "661                  1          0.588358            1                  0   \n",
       "7564                 1          0.379531            1                  1   \n",
       "5559                 0          0.957694            1                  1   \n",
       "\n",
       "      geography_Spain  \n",
       "3417                0  \n",
       "2581                0  \n",
       "7574                0  \n",
       "5143                1  \n",
       "3432                0  \n",
       "8024                0  \n",
       "8945                1  \n",
       "661                 1  \n",
       "7564                0  \n",
       "5559                0  "
      ]
     },
     "execution_count": 19,
     "metadata": {},
     "output_type": "execute_result"
    }
   ],
   "source": [
    "features_test.head(10)"
   ]
  },
  {
   "cell_type": "markdown",
   "metadata": {},
   "source": [
    "**Смотрю что получилось, смущают отрицательные значения, иду дальше.**"
   ]
  },
  {
   "cell_type": "markdown",
   "metadata": {},
   "source": [
    "### Промежуточный вывод"
   ]
  },
  {
   "cell_type": "markdown",
   "metadata": {},
   "source": [
    "* **Перевели категориальные признаки в числовой тип методом OHE. (geography, gender)**\n",
    "* **Масштабировали признаки столбцов credit_score, age, tenure, balance, num_of_products, estimated_salary**\n",
    "* **Разделили выборку на три части, train(60%), valid(20%), test(20%). Процент от общего числа строк.**"
   ]
  },
  {
   "cell_type": "markdown",
   "metadata": {},
   "source": [
    "## Исследование задачи"
   ]
  },
  {
   "cell_type": "markdown",
   "metadata": {},
   "source": [
    "### Проверка на дисбаланс классов."
   ]
  },
  {
   "cell_type": "markdown",
   "metadata": {},
   "source": [
    "**Подсчитываем классы в целевом признаке.**"
   ]
  },
  {
   "cell_type": "code",
   "execution_count": 20,
   "metadata": {},
   "outputs": [
    {
     "name": "stdout",
     "output_type": "stream",
     "text": [
      "0    0.7963\n",
      "1    0.2037\n",
      "Name: exited, dtype: float64\n"
     ]
    },
    {
     "data": {
      "image/png": "[encoded data removed]",
      "text/plain": [
       "<Figure size 640x480 with 1 Axes>"
      ]
     },
     "metadata": {},
     "output_type": "display_data"
    }
   ],
   "source": [
    "class_frequency = data['exited'].value_counts(normalize=True)\n",
    "print(class_frequency)\n",
    "class_frequency.plot(kind='bar', title='Соотнешение классов в целевом признаке', xlabel='Класс', ylabel='Количество');"
   ]
  },
  {
   "cell_type": "markdown",
   "metadata": {},
   "source": [
    "**Присутствует дисбаланс классов, примерно 1 к 4**"
   ]
  },
  {
   "cell_type": "markdown",
   "metadata": {},
   "source": [
    "**Создаём константную модель которая предсказывает любому объекту 1.**"
   ]
  },
  {
   "cell_type": "code",
   "execution_count": 21,
   "metadata": {},
   "outputs": [
    {
     "name": "stdout",
     "output_type": "stream",
     "text": [
      "0.3384564260197724\n"
     ]
    }
   ],
   "source": [
    "target = data['exited']\n",
    "features = data.drop('exited', axis=1)\n",
    "\n",
    "target_pred_constant = pd.Series(1, index=target.index)\n",
    "print(f1_score(target, target_pred_constant))"
   ]
  },
  {
   "cell_type": "code",
   "execution_count": 22,
   "metadata": {},
   "outputs": [
    {
     "data": {
      "text/plain": [
       "0.3586376692654904"
      ]
     },
     "execution_count": 22,
     "metadata": {},
     "output_type": "execute_result"
    }
   ],
   "source": [
    "dummy_model = DummyClassifier(strategy='constant', constant=1)\n",
    "dummy_model.fit(features_train, target_train)\n",
    "f1_score(dummy_model.predict(features_test), target_test)"
   ]
  },
  {
   "cell_type": "markdown",
   "metadata": {},
   "source": [
    "**f1-мера при константном предсказании единицы равна 0.32.**"
   ]
  },
  {
   "cell_type": "markdown",
   "metadata": {},
   "source": [
    "### Проверка моделей без учёта дисбаланса классов."
   ]
  },
  {
   "cell_type": "markdown",
   "metadata": {},
   "source": [
    "#### Модель DecisionTreeClassifier"
   ]
  },
  {
   "cell_type": "code",
   "execution_count": 23,
   "metadata": {},
   "outputs": [
    {
     "name": "stdout",
     "output_type": "stream",
     "text": [
      "<class 'pandas.core.frame.DataFrame'>\n",
      "Int64Index: 6000 entries, 7867 to 5563\n",
      "Data columns (total 11 columns):\n",
      " #   Column             Non-Null Count  Dtype  \n",
      "---  ------             --------------  -----  \n",
      " 0   credit_score       6000 non-null   float64\n",
      " 1   age                6000 non-null   float64\n",
      " 2   tenure             6000 non-null   float64\n",
      " 3   balance            6000 non-null   float64\n",
      " 4   num_of_products    6000 non-null   float64\n",
      " 5   has_cr_card        6000 non-null   int64  \n",
      " 6   is_active_member   6000 non-null   int64  \n",
      " 7   estimated_salary   6000 non-null   float64\n",
      " 8   gender_Male        6000 non-null   uint8  \n",
      " 9   geography_Germany  6000 non-null   uint8  \n",
      " 10  geography_Spain    6000 non-null   uint8  \n",
      "dtypes: float64(6), int64(2), uint8(3)\n",
      "memory usage: 439.5 KB\n"
     ]
    }
   ],
   "source": [
    "features_train.info()"
   ]
  },
  {
   "cell_type": "code",
   "execution_count": 24,
   "metadata": {},
   "outputs": [
    {
     "name": "stdout",
     "output_type": "stream",
     "text": [
      "f1_score:  0.5357686453576865\n",
      "Лучшая модель: DecisionTreeClassifier(max_depth=7, random_state=12345)\n",
      "Лучшая глубина:  7\n"
     ]
    }
   ],
   "source": [
    "best_model = 0\n",
    "best_f1_score = 0\n",
    "best_depth = 0\n",
    "\n",
    "for depth in range(1, 15):\n",
    "    model = DecisionTreeClassifier(random_state=12345, max_depth=depth)\n",
    "    model.fit(features_train, target_train) \n",
    "    predictions_valid = model.predict(features_valid)\n",
    "    score = f1_score(target_valid, predictions_valid)\n",
    "    \n",
    "    if score > best_f1_score:\n",
    "        best_model = model\n",
    "        best_f1_score = score\n",
    "        best_depth = depth\n",
    "        \n",
    "print('f1_score: ', best_f1_score)\n",
    "print('Лучшая модель:', best_model)\n",
    "print('Лучшая глубина: ', best_depth)"
   ]
  },
  {
   "cell_type": "markdown",
   "metadata": {},
   "source": [
    "**Модель DecisionTreeClassifier с гиперпараметрами глубины в 9, показало f1-меру в 0.56.**"
   ]
  },
  {
   "cell_type": "code",
   "execution_count": 25,
   "metadata": {},
   "outputs": [
    {
     "name": "stdout",
     "output_type": "stream",
     "text": [
      "             Матрица ошибок\n"
     ]
    },
    {
     "data": {
      "image/png": "[encoded data removed]",
      "text/plain": [
       "<Figure size 640x480 with 2 Axes>"
      ]
     },
     "metadata": {},
     "output_type": "display_data"
    }
   ],
   "source": [
    "plot_confusion_matrix(estimator=model, X=features_valid, y_true=target_valid,\n",
    "                      normalize='true', cmap='Blues');\n",
    "print('             Матрица ошибок')"
   ]
  },
  {
   "cell_type": "markdown",
   "metadata": {},
   "source": [
    "**Выявленна проблема**\\\n",
    "**Матрица ошибок говорит о том что единицу модель правильно предсказывает меньше чем в половине случаев. (0.49)**"
   ]
  },
  {
   "cell_type": "markdown",
   "metadata": {},
   "source": [
    "#### Модель RandomForestClassifier"
   ]
  },
  {
   "cell_type": "code",
   "execution_count": 26,
   "metadata": {},
   "outputs": [
    {
     "name": "stdout",
     "output_type": "stream",
     "text": [
      "f1_score:  0.5495934959349594\n",
      "Лучшая модель: RandomForestClassifier(max_depth=9, n_estimators=41, random_state=12345)\n",
      "Лучшая глубина:  9\n",
      "Количество деревьев:  41\n"
     ]
    }
   ],
   "source": [
    "best_model = 0\n",
    "best_f1_score = 0\n",
    "best_depth = 0\n",
    "best_est = 0\n",
    "\n",
    "for est in range(1, 51, 10):\n",
    "    for depth in range (1, 11):\n",
    "        model = RandomForestClassifier(random_state=12345, n_estimators=est, max_depth=depth)\n",
    "        model.fit(features_train, target_train)\n",
    "        predictions_valid = model.predict(features_valid)\n",
    "        score = f1_score(target_valid, predictions_valid)\n",
    "    \n",
    "        if score > best_f1_score:\n",
    "            best_model = model\n",
    "            best_f1_score = score\n",
    "            best_depth = depth\n",
    "            best_est = est\n",
    "\n",
    "print('f1_score: ', best_f1_score)\n",
    "print('Лучшая модель:', best_model)\n",
    "print('Лучшая глубина: ', best_depth)\n",
    "print('Количество деревьев: ', best_est)"
   ]
  },
  {
   "cell_type": "code",
   "execution_count": 27,
   "metadata": {},
   "outputs": [
    {
     "name": "stdout",
     "output_type": "stream",
     "text": [
      "             Матрица ошибок\n"
     ]
    },
    {
     "data": {
      "image/png": "[encoded data removed]",
      "text/plain": [
       "<Figure size 640x480 with 2 Axes>"
      ]
     },
     "metadata": {},
     "output_type": "display_data"
    }
   ],
   "source": [
    "plot_confusion_matrix(estimator=model, X=features_valid, y_true=target_valid,\n",
    "                      normalize='true', cmap='Blues');\n",
    "print('             Матрица ошибок')"
   ]
  },
  {
   "cell_type": "markdown",
   "metadata": {},
   "source": [
    "**Проблема сохраняется**"
   ]
  },
  {
   "cell_type": "markdown",
   "metadata": {},
   "source": [
    "#### Модель LogisticRegression"
   ]
  },
  {
   "cell_type": "code",
   "execution_count": 28,
   "metadata": {},
   "outputs": [
    {
     "name": "stdout",
     "output_type": "stream",
     "text": [
      "f1_score:  0.2835249042145594\n"
     ]
    }
   ],
   "source": [
    "model = LogisticRegression(random_state=12345, solver='liblinear')\n",
    "model.fit(features_train, target_train)\n",
    "predictions_valid = model.predict(features_valid)\n",
    "\n",
    "print('f1_score: ', f1_score(target_valid, predictions_valid))"
   ]
  },
  {
   "cell_type": "code",
   "execution_count": 29,
   "metadata": {},
   "outputs": [
    {
     "name": "stdout",
     "output_type": "stream",
     "text": [
      "             Матрица ошибок\n"
     ]
    },
    {
     "data": {
      "image/png": "[encoded data removed]",
      "text/plain": [
       "<Figure size 640x480 with 2 Axes>"
      ]
     },
     "metadata": {},
     "output_type": "display_data"
    }
   ],
   "source": [
    "plot_confusion_matrix(estimator=model, X=features_valid, y_true=target_valid,\n",
    "                      normalize='true', cmap='Blues');\n",
    "print('             Матрица ошибок')"
   ]
  },
  {
   "cell_type": "markdown",
   "metadata": {},
   "source": [
    "**Модель LogisticRegression вообще почти всюду ставит нули.**"
   ]
  },
  {
   "cell_type": "markdown",
   "metadata": {},
   "source": [
    "### Промежуточный вывод"
   ]
  },
  {
   "cell_type": "markdown",
   "metadata": {},
   "source": [
    "* **Проверка моделей без учёта дисбаланса показала что модели показывают слабое значение f1-меры.**"
   ]
  },
  {
   "cell_type": "markdown",
   "metadata": {},
   "source": [
    "## Борьба с дисбалансом"
   ]
  },
  {
   "cell_type": "markdown",
   "metadata": {},
   "source": [
    "### Взвешивание классов."
   ]
  },
  {
   "cell_type": "markdown",
   "metadata": {},
   "source": [
    "#### Модель DecisionTreeClassifier"
   ]
  },
  {
   "cell_type": "code",
   "execution_count": 30,
   "metadata": {},
   "outputs": [
    {
     "name": "stdout",
     "output_type": "stream",
     "text": [
      "f1_score:  0.5425925925925926\n",
      "Лучшая модель: DecisionTreeClassifier(class_weight='balanced', max_depth=8, random_state=12345)\n",
      "Лучшая глубина:  8\n"
     ]
    }
   ],
   "source": [
    "best_depth = 0\n",
    "best_model = 0\n",
    "best_f1_score = 0\n",
    "\n",
    "for depth in range(1, 15):\n",
    "    model = DecisionTreeClassifier(random_state=12345, max_depth=depth, class_weight='balanced')\n",
    "    model.fit(features_train, target_train) \n",
    "    predictions_valid = model.predict(features_valid)\n",
    "    score = f1_score(target_valid, predictions_valid)\n",
    "    \n",
    "    if score > best_f1_score:\n",
    "        best_model = model\n",
    "        best_f1_score = score\n",
    "        best_depth = depth\n",
    "        \n",
    "print('f1_score: ', best_f1_score)\n",
    "print('Лучшая модель:', best_model)\n",
    "print('Лучшая глубина: ', best_depth)"
   ]
  },
  {
   "cell_type": "code",
   "execution_count": 31,
   "metadata": {},
   "outputs": [
    {
     "name": "stdout",
     "output_type": "stream",
     "text": [
      "             Матрица ошибок\n"
     ]
    },
    {
     "data": {
      "image/png": "[encoded data removed]",
      "text/plain": [
       "<Figure size 640x480 with 2 Axes>"
      ]
     },
     "metadata": {},
     "output_type": "display_data"
    }
   ],
   "source": [
    "plot_confusion_matrix(estimator=model, X=features_valid, y_true=target_valid,\n",
    "                      normalize='true', cmap='Blues');\n",
    "print('             Матрица ошибок')"
   ]
  },
  {
   "cell_type": "markdown",
   "metadata": {},
   "source": [
    "**Модель DecisionTreeClassifier с гиперпараметром глубины в 7, и взвешиванием классов показала f1-меру в 0.57**"
   ]
  },
  {
   "cell_type": "markdown",
   "metadata": {},
   "source": [
    "#### Модель RandomForestClassifier"
   ]
  },
  {
   "cell_type": "code",
   "execution_count": 32,
   "metadata": {},
   "outputs": [
    {
     "name": "stdout",
     "output_type": "stream",
     "text": [
      "f1_score:  0.5810968494749126\n",
      "Лучшая модель: RandomForestClassifier(class_weight='balanced', max_depth=9, n_estimators=31,\n",
      "                       random_state=12345)\n",
      "Лучшая глубина:  9\n",
      "Количество деревьев: 31\n"
     ]
    }
   ],
   "source": [
    "best_depth = 0\n",
    "best_model = 0\n",
    "best_f1_score = 0\n",
    "best_est = 0\n",
    "\n",
    "\n",
    "for est in range(1, 51, 10):\n",
    "    for depth in range (1, 11):\n",
    "        model = RandomForestClassifier(random_state=12345, n_estimators=est, max_depth=depth, class_weight='balanced')\n",
    "        model.fit(features_train, target_train)\n",
    "        predictions_valid = model.predict(features_valid)\n",
    "        score = f1_score(target_valid, predictions_valid)\n",
    "    \n",
    "        if score > best_f1_score:\n",
    "            best_model = model\n",
    "            best_f1_score = score\n",
    "            best_depth = depth\n",
    "            best_est = est\n",
    "\n",
    "print('f1_score: ', best_f1_score)\n",
    "print('Лучшая модель:', best_model)\n",
    "print('Лучшая глубина: ', best_depth)\n",
    "print('Количество деревьев:', best_est)"
   ]
  },
  {
   "cell_type": "code",
   "execution_count": 33,
   "metadata": {},
   "outputs": [
    {
     "name": "stdout",
     "output_type": "stream",
     "text": [
      "             Матрица ошибок\n"
     ]
    },
    {
     "data": {
      "image/png": "[encoded data removed]",
      "text/plain": [
       "<Figure size 640x480 with 2 Axes>"
      ]
     },
     "metadata": {},
     "output_type": "display_data"
    }
   ],
   "source": [
    "plot_confusion_matrix(estimator=model, X=features_valid, y_true=target_valid,\n",
    "                      normalize='true', cmap='Blues');\n",
    "print('             Матрица ошибок')"
   ]
  },
  {
   "cell_type": "markdown",
   "metadata": {},
   "source": [
    "**Модель RandomForestClassifier с гиперпараметрами глубины 8, количеством деревьев в 11 показала f1-меру в 0.59, отличный результат.**"
   ]
  },
  {
   "cell_type": "markdown",
   "metadata": {},
   "source": [
    "#### Модель LogisticRegression"
   ]
  },
  {
   "cell_type": "code",
   "execution_count": 34,
   "metadata": {},
   "outputs": [
    {
     "name": "stdout",
     "output_type": "stream",
     "text": [
      "f1_score:  0.4964788732394366\n"
     ]
    }
   ],
   "source": [
    "model = LogisticRegression(random_state=12345, solver='liblinear', class_weight='balanced')\n",
    "model.fit(features_train, target_train)\n",
    "predictions_valid = model.predict(features_valid)\n",
    "\n",
    "print('f1_score: ', f1_score(target_valid, predictions_valid))"
   ]
  },
  {
   "cell_type": "code",
   "execution_count": 35,
   "metadata": {},
   "outputs": [
    {
     "name": "stdout",
     "output_type": "stream",
     "text": [
      "             Матрица ошибок\n"
     ]
    },
    {
     "data": {
      "image/png": "[encoded data removed]",
      "text/plain": [
       "<Figure size 640x480 with 2 Axes>"
      ]
     },
     "metadata": {},
     "output_type": "display_data"
    }
   ],
   "source": [
    "plot_confusion_matrix(estimator=model, X=features_valid, y_true=target_valid,\n",
    "                      normalize='true', cmap='Blues');\n",
    "print('             Матрица ошибок')"
   ]
  },
  {
   "cell_type": "markdown",
   "metadata": {},
   "source": [
    "**Модель LogisticRegression с взвешиванием классов показала слабую f-1 меру.**"
   ]
  },
  {
   "cell_type": "markdown",
   "metadata": {},
   "source": [
    "### Увеличение выборки."
   ]
  },
  {
   "cell_type": "code",
   "execution_count": 36,
   "metadata": {},
   "outputs": [],
   "source": [
    "def upsample(features, target, repeat):\n",
    "    features_zeros = features[target == 0]\n",
    "    features_ones = features[target == 1]\n",
    "    target_zeros = target[target == 0]\n",
    "    target_ones = target[target == 1]\n",
    "\n",
    "    features_upsampled = pd.concat([features_zeros] + [features_ones] * repeat)\n",
    "    target_upsampled = pd.concat([target_zeros] + [target_ones] * repeat)\n",
    "    \n",
    "    features_upsampled, target_upsampled = shuffle(\n",
    "        features_upsampled, target_upsampled, random_state=12345)\n",
    "    \n",
    "    return features_upsampled, target_upsampled\n",
    "\n",
    "features_upsampled, target_upsampled = upsample(features_train, target_train, 4)"
   ]
  },
  {
   "cell_type": "code",
   "execution_count": 37,
   "metadata": {},
   "outputs": [
    {
     "name": "stdout",
     "output_type": "stream",
     "text": [
      "0    0.501827\n",
      "1    0.498173\n",
      "Name: exited, dtype: float64\n"
     ]
    },
    {
     "data": {
      "image/png": "[encoded data removed]",
      "text/plain": [
       "<Figure size 640x480 with 1 Axes>"
      ]
     },
     "metadata": {},
     "output_type": "display_data"
    }
   ],
   "source": [
    "class_frequency = target_upsampled.value_counts(normalize=True)\n",
    "print(class_frequency)\n",
    "class_frequency.plot(kind='bar', title='Соотнешение классов в целевом признаке', xlabel='Класс', ylabel='Количество');"
   ]
  },
  {
   "cell_type": "markdown",
   "metadata": {},
   "source": [
    "**Проверка на баланс классов.**"
   ]
  },
  {
   "cell_type": "markdown",
   "metadata": {},
   "source": [
    "#### Модель DecisionTreeClassifier"
   ]
  },
  {
   "cell_type": "code",
   "execution_count": 38,
   "metadata": {},
   "outputs": [
    {
     "name": "stdout",
     "output_type": "stream",
     "text": [
      "f1_score:  0.5452865064695009\n",
      "Лучшая модель: DecisionTreeClassifier(max_depth=8, random_state=12345)\n",
      "Лучшая глубина:  8\n"
     ]
    }
   ],
   "source": [
    "best_depth = 0\n",
    "best_model = 0\n",
    "best_f1_score = 0\n",
    "\n",
    "for depth in range(1, 15):\n",
    "    model = DecisionTreeClassifier(random_state=12345, max_depth=depth)\n",
    "    model.fit(features_upsampled, target_upsampled)\n",
    "    predictions_valid = model.predict(features_valid)\n",
    "    score = f1_score(target_valid, predictions_valid)\n",
    "    \n",
    "    if score > best_f1_score:\n",
    "        best_model = model\n",
    "        best_f1_score = score\n",
    "        best_depth = depth\n",
    "        \n",
    "print('f1_score: ', best_f1_score)\n",
    "print('Лучшая модель:', best_model)\n",
    "print('Лучшая глубина: ', best_depth)"
   ]
  },
  {
   "cell_type": "code",
   "execution_count": 39,
   "metadata": {},
   "outputs": [
    {
     "name": "stdout",
     "output_type": "stream",
     "text": [
      "             Матрица ошибок\n"
     ]
    },
    {
     "data": {
      "image/png": "[encoded data removed]",
      "text/plain": [
       "<Figure size 640x480 with 2 Axes>"
      ]
     },
     "metadata": {},
     "output_type": "display_data"
    }
   ],
   "source": [
    "plot_confusion_matrix(estimator=model, X=features_valid, y_true=target_valid,\n",
    "                      normalize='true', cmap='Blues');\n",
    "print('             Матрица ошибок')"
   ]
  },
  {
   "cell_type": "markdown",
   "metadata": {},
   "source": [
    "**Модель DecisionTreeClassifier на увеличенной выборке с гиперпараметрами глубины в 7 показала f1-меру в 0.51**"
   ]
  },
  {
   "cell_type": "markdown",
   "metadata": {},
   "source": [
    "#### Модель RandomForestClassifier"
   ]
  },
  {
   "cell_type": "code",
   "execution_count": 40,
   "metadata": {},
   "outputs": [
    {
     "name": "stdout",
     "output_type": "stream",
     "text": [
      "f1_score:  0.6077981651376148\n",
      "Лучшая модель: RandomForestClassifier(max_depth=10, n_estimators=71, random_state=12345)\n",
      "Лучшая глубина:  10\n",
      "Количество деревьев:  71\n"
     ]
    }
   ],
   "source": [
    "best_f1_score = 0\n",
    "best_model = 0\n",
    "best_depth = 0\n",
    "best_est = 0\n",
    "\n",
    "for est in range(1, 81, 10):\n",
    "    for depth in range (1, 16):\n",
    "        model = RandomForestClassifier(random_state=12345, n_estimators=est, max_depth=depth)\n",
    "        model.fit(features_upsampled, target_upsampled)\n",
    "        predictions_valid = model.predict(features_valid)\n",
    "        score = f1_score(target_valid, predictions_valid)\n",
    "        if score > best_f1_score:\n",
    "            best_f1_score = score\n",
    "            best_model = model\n",
    "            best_depth = depth\n",
    "            best_est = est\n",
    "\n",
    "print('f1_score: ', best_f1_score)\n",
    "print('Лучшая модель:', best_model)\n",
    "print('Лучшая глубина: ', best_depth)\n",
    "print('Количество деревьев: ', best_est)"
   ]
  },
  {
   "cell_type": "code",
   "execution_count": 41,
   "metadata": {},
   "outputs": [
    {
     "name": "stdout",
     "output_type": "stream",
     "text": [
      "             Матрица ошибок\n"
     ]
    },
    {
     "data": {
      "image/png": "[encoded data removed]",
      "text/plain": [
       "<Figure size 640x480 with 2 Axes>"
      ]
     },
     "metadata": {},
     "output_type": "display_data"
    }
   ],
   "source": [
    "plot_confusion_matrix(estimator=model, X=features_valid, y_true=target_valid,\n",
    "                      normalize='true', cmap='Blues');\n",
    "print('             Матрица ошибок')"
   ]
  },
  {
   "cell_type": "markdown",
   "metadata": {},
   "source": [
    "**Модель RandomForestClassifier на увеличенной выборке с гиперпараметрами глубины в 8 и количеством деревьев в 71, показала F1-меру в 0.61**"
   ]
  },
  {
   "cell_type": "markdown",
   "metadata": {},
   "source": [
    "#### Модель LogisticRegression"
   ]
  },
  {
   "cell_type": "code",
   "execution_count": 42,
   "metadata": {},
   "outputs": [
    {
     "name": "stdout",
     "output_type": "stream",
     "text": [
      "f1_score:  0.49822695035460995\n"
     ]
    }
   ],
   "source": [
    "model = LogisticRegression(random_state=12345, solver='liblinear')\n",
    "model.fit(features_upsampled, target_upsampled)\n",
    "predictions_valid = model.predict(features_valid)\n",
    "\n",
    "print('f1_score: ', f1_score(target_valid, predictions_valid))"
   ]
  },
  {
   "cell_type": "code",
   "execution_count": 43,
   "metadata": {},
   "outputs": [
    {
     "name": "stdout",
     "output_type": "stream",
     "text": [
      "             Матрица ошибок\n"
     ]
    },
    {
     "data": {
      "image/png": "[encoded data removed]",
      "text/plain": [
       "<Figure size 640x480 with 2 Axes>"
      ]
     },
     "metadata": {},
     "output_type": "display_data"
    }
   ],
   "source": [
    "plot_confusion_matrix(estimator=model, X=features_valid, y_true=target_valid,\n",
    "                      normalize='true', cmap='Blues');\n",
    "print('             Матрица ошибок')"
   ]
  },
  {
   "cell_type": "markdown",
   "metadata": {},
   "source": [
    "**Модель LogisticRegression на увелечинной выборке показала слабую f1-меру в 0.5.**"
   ]
  },
  {
   "cell_type": "markdown",
   "metadata": {},
   "source": [
    "### Уменьшение выборки."
   ]
  },
  {
   "cell_type": "code",
   "execution_count": 44,
   "metadata": {},
   "outputs": [],
   "source": [
    "def downsample(features, target, fraction):\n",
    "    features_zeros = features[target == 0]\n",
    "    features_ones = features[target == 1]\n",
    "    target_zeros = target[target == 0]\n",
    "    target_ones = target[target == 1]\n",
    "\n",
    "    features_downsampled = pd.concat(\n",
    "        [features_zeros.sample(frac=fraction, random_state=12345)] + [features_ones])\n",
    "    target_downsampled = pd.concat(\n",
    "        [target_zeros.sample(frac=fraction, random_state=12345)] + [target_ones])\n",
    "    \n",
    "    features_downsampled, target_downsampled = shuffle(\n",
    "        features_downsampled, target_downsampled, random_state=12345)\n",
    "    \n",
    "    return features_downsampled, target_downsampled\n",
    "\n",
    "features_downsampled, target_downsampled = downsample(features_train, target_train, 0.25)"
   ]
  },
  {
   "cell_type": "code",
   "execution_count": 45,
   "metadata": {},
   "outputs": [
    {
     "name": "stdout",
     "output_type": "stream",
     "text": [
      "0    0.501879\n",
      "1    0.498121\n",
      "Name: exited, dtype: float64\n"
     ]
    },
    {
     "data": {
      "image/png": "[encoded data removed]",
      "text/plain": [
       "<Figure size 640x480 with 1 Axes>"
      ]
     },
     "metadata": {},
     "output_type": "display_data"
    }
   ],
   "source": [
    "class_frequency = target_downsampled.value_counts(normalize=True)\n",
    "print(class_frequency)\n",
    "class_frequency.plot(kind='bar', title='Соотнешение классов в целевом признаке', xlabel='Класс', ylabel='Количество');"
   ]
  },
  {
   "cell_type": "markdown",
   "metadata": {},
   "source": [
    "**Всё отлично!**"
   ]
  },
  {
   "cell_type": "markdown",
   "metadata": {},
   "source": [
    "#### Модель DecisionTreeClassifier"
   ]
  },
  {
   "cell_type": "code",
   "execution_count": 46,
   "metadata": {},
   "outputs": [
    {
     "name": "stdout",
     "output_type": "stream",
     "text": [
      "f1_score:  0.5456521739130434\n",
      "Лучшая модель: DecisionTreeClassifier(max_depth=4, random_state=12345)\n",
      "Лучшая глубина:  4\n"
     ]
    }
   ],
   "source": [
    "best_depth = 0\n",
    "best_model = 0\n",
    "best_f1_score = 0\n",
    "\n",
    "for depth in range(1, 15):\n",
    "    model = DecisionTreeClassifier(random_state=12345, max_depth=depth)\n",
    "    model.fit(features_downsampled, target_downsampled)\n",
    "    predictions_valid = model.predict(features_valid)\n",
    "    score = f1_score(target_valid, predictions_valid)\n",
    "    \n",
    "    if score > best_f1_score:\n",
    "        best_model = model\n",
    "        best_f1_score = score\n",
    "        best_depth = depth\n",
    "        \n",
    "print('f1_score: ', best_f1_score)\n",
    "print('Лучшая модель:', best_model)\n",
    "print('Лучшая глубина: ', best_depth)"
   ]
  },
  {
   "cell_type": "code",
   "execution_count": 47,
   "metadata": {},
   "outputs": [
    {
     "name": "stdout",
     "output_type": "stream",
     "text": [
      "             Матрица ошибок\n"
     ]
    },
    {
     "data": {
      "image/png": "[encoded data removed]",
      "text/plain": [
       "<Figure size 640x480 with 2 Axes>"
      ]
     },
     "metadata": {},
     "output_type": "display_data"
    }
   ],
   "source": [
    "plot_confusion_matrix(estimator=model, X=features_valid, y_true=target_valid,\n",
    "                      normalize='true', cmap='Blues');\n",
    "print('             Матрица ошибок')"
   ]
  },
  {
   "cell_type": "markdown",
   "metadata": {},
   "source": [
    "**Модель DecisionTreeClassifier на уменьшенной выборке с гиперпараметром глубины в 5 показывает f1-меру в 0.57**"
   ]
  },
  {
   "cell_type": "markdown",
   "metadata": {},
   "source": [
    "#### Модель RandomForestClassifier"
   ]
  },
  {
   "cell_type": "code",
   "execution_count": 48,
   "metadata": {},
   "outputs": [
    {
     "name": "stdout",
     "output_type": "stream",
     "text": [
      "f1_score:  0.5669599217986315\n",
      "Лучшая модель: RandomForestClassifier(max_depth=9, n_estimators=41, random_state=12345)\n",
      "Лучшая глубина:  9\n",
      "Количество деревьев:  41\n"
     ]
    }
   ],
   "source": [
    "best_f1_score = 0\n",
    "best_model = 0\n",
    "best_depth = 0\n",
    "best_est = 0\n",
    "\n",
    "for est in range(1, 51, 10):\n",
    "    for depth in range (1, 11):\n",
    "        model = RandomForestClassifier(random_state=12345, n_estimators=est, max_depth=depth)\n",
    "        model.fit(features_downsampled, target_downsampled)\n",
    "        predictions_valid = model.predict(features_valid)\n",
    "        score = f1_score(target_valid, predictions_valid)\n",
    "        if score > best_f1_score:\n",
    "            best_f1_score = score\n",
    "            best_model = model\n",
    "            best_depth = depth\n",
    "            best_est = est\n",
    "\n",
    "print('f1_score: ', best_f1_score)\n",
    "print('Лучшая модель:', best_model)\n",
    "print('Лучшая глубина: ', best_depth)\n",
    "print('Количество деревьев: ', best_est)"
   ]
  },
  {
   "cell_type": "code",
   "execution_count": 49,
   "metadata": {},
   "outputs": [
    {
     "name": "stdout",
     "output_type": "stream",
     "text": [
      "             Матрица ошибок\n"
     ]
    },
    {
     "data": {
      "image/png": "[encoded data removed]",
      "text/plain": [
       "<Figure size 640x480 with 2 Axes>"
      ]
     },
     "metadata": {},
     "output_type": "display_data"
    }
   ],
   "source": [
    "plot_confusion_matrix(estimator=model, X=features_valid, y_true=target_valid,\n",
    "                      normalize='true', cmap='Blues');\n",
    "print('             Матрица ошибок')"
   ]
  },
  {
   "cell_type": "markdown",
   "metadata": {},
   "source": [
    "**Модель RandomForestClassifier на уменьшенной выборке с гиперпараметрами глубины в 7, и количеством деревьев в 41, показала f1-меру в 0.59, точность предсказания ухода клиента 0.71, хорошие результаты.**"
   ]
  },
  {
   "cell_type": "markdown",
   "metadata": {},
   "source": [
    "#### Модель LogisticRegression"
   ]
  },
  {
   "cell_type": "code",
   "execution_count": 50,
   "metadata": {},
   "outputs": [
    {
     "name": "stdout",
     "output_type": "stream",
     "text": [
      "f1_score:  0.4895104895104895\n"
     ]
    }
   ],
   "source": [
    "model = LogisticRegression(random_state=12345, solver='liblinear')\n",
    "model.fit(features_downsampled, target_downsampled)\n",
    "predictions_valid = model.predict(features_valid)\n",
    "\n",
    "print('f1_score: ', f1_score(target_valid, predictions_valid))"
   ]
  },
  {
   "cell_type": "code",
   "execution_count": 51,
   "metadata": {},
   "outputs": [
    {
     "name": "stdout",
     "output_type": "stream",
     "text": [
      "             Матрица ошибок\n"
     ]
    },
    {
     "data": {
      "image/png": "[encoded data removed]",
      "text/plain": [
       "<Figure size 640x480 with 2 Axes>"
      ]
     },
     "metadata": {},
     "output_type": "display_data"
    }
   ],
   "source": [
    "plot_confusion_matrix(estimator=model, X=features_valid, y_true=target_valid,\n",
    "                      normalize='true', cmap='Blues');\n",
    "print('             Матрица ошибок')"
   ]
  },
  {
   "cell_type": "markdown",
   "metadata": {},
   "source": [
    "**Модель LogisticRegression показывает слабую f1-меру**"
   ]
  },
  {
   "cell_type": "markdown",
   "metadata": {},
   "source": [
    "### Промежуточный вывод"
   ]
  },
  {
   "cell_type": "markdown",
   "metadata": {},
   "source": [
    "* **Проведенны проверки трёх моделей DecisionTreeClassifier, RandomForestClassifier, LogisticRegression.**\n",
    "* **Проверки проводились тремя разными способами борьбы с дисбалансом классов - Взвешивание классов, Увелечения выборки, Уменьшение выборки**\n",
    "* **Лучшие показатели у модели RandomForestClassifier на увеличенной выборке с глубиной в 8, и количеством деревьев в 71, показавшая f1-меру в 0.61. Далее будем тестировать её.**"
   ]
  },
  {
   "cell_type": "markdown",
   "metadata": {},
   "source": [
    "## Тестирование лучшей модели (RandomForestClassifier c взвешиванием классов)"
   ]
  },
  {
   "cell_type": "code",
   "execution_count": 52,
   "metadata": {},
   "outputs": [
    {
     "name": "stdout",
     "output_type": "stream",
     "text": [
      "f1_score:  0.6477732793522267\n"
     ]
    }
   ],
   "source": [
    "model = RandomForestClassifier(max_depth=8, n_estimators=71, random_state=12345)\n",
    "model.fit(features_upsampled, target_upsampled)\n",
    "predictions_test = model.predict(features_test)\n",
    "\n",
    "print('f1_score: ', f1_score(target_test, predictions_test))"
   ]
  },
  {
   "cell_type": "code",
   "execution_count": 53,
   "metadata": {},
   "outputs": [
    {
     "name": "stdout",
     "output_type": "stream",
     "text": [
      "             Матрица ошибок\n"
     ]
    },
    {
     "data": {
      "image/png": "[encoded data removed]",
      "text/plain": [
       "<Figure size 640x480 with 2 Axes>"
      ]
     },
     "metadata": {},
     "output_type": "display_data"
    }
   ],
   "source": [
    "plot_confusion_matrix(estimator=model, X=features_test, y_true=target_test,\n",
    "                      normalize='true', cmap='Blues');\n",
    "print('             Матрица ошибок')"
   ]
  },
  {
   "cell_type": "markdown",
   "metadata": {},
   "source": [
    "**Модель RandomForestClassifier обученная на увеличенной выборке с глубиной в 8, количеством деревьев в 71, показала f1-меру в 0.59, матрица ошибок показывает что модель предсказывает уход клиента в 69% случаев.**"
   ]
  },
  {
   "cell_type": "code",
   "execution_count": 54,
   "metadata": {},
   "outputs": [
    {
     "data": {
      "image/png": "[encoded data removed]",
      "text/plain": [
       "<Figure size 700x500 with 1 Axes>"
      ]
     },
     "metadata": {},
     "output_type": "display_data"
    }
   ],
   "source": [
    "probabilities_test = model.predict_proba(features_test)\n",
    "probabilities_one_test = probabilities_test[:, 1]\n",
    "\n",
    "fpr, tpr, thresholds = roc_curve(target_test, probabilities_one_test)\n",
    "\n",
    "plt.figure(figsize=(7, 5))\n",
    "\n",
    "plt.plot(fpr, tpr)\n",
    "plt.plot([0, 1], [0, 1], linestyle='--')\n",
    "plt.xlim([0.0, 1.0])\n",
    "plt.ylim([0.0, 1.0])\n",
    "plt.xlabel('False Positive Rate')\n",
    "plt.ylabel('True Positive Rate')\n",
    "plt.title('ROC-кривая')\n",
    "plt.show()"
   ]
  },
  {
   "cell_type": "code",
   "execution_count": 55,
   "metadata": {},
   "outputs": [
    {
     "name": "stdout",
     "output_type": "stream",
     "text": [
      "0.8716837156732271\n"
     ]
    }
   ],
   "source": [
    "print(roc_auc_score(target_test, probabilities_one_test))"
   ]
  },
  {
   "cell_type": "markdown",
   "metadata": {},
   "source": [
    "**Значение AUC_ROC показывает что модель делает верное предсказание почти в 84% случаях.**"
   ]
  },
  {
   "cell_type": "markdown",
   "metadata": {},
   "source": [
    "### Промежуточный вывод"
   ]
  },
  {
   "cell_type": "markdown",
   "metadata": {},
   "source": [
    "* **На тестовой выборке модель RandomForestClassifier обученную на увелеченной выборке с гиперпараметрами глубины в 8, и количеством деревьев в 71, f1-меру в 0.59**\n",
    "* **Значение AUC_ROC показывает что модель делает верное предсказание почти в 85% случаях.**"
   ]
  },
  {
   "cell_type": "markdown",
   "metadata": {},
   "source": [
    "## Общий вывод"
   ]
  },
  {
   "cell_type": "markdown",
   "metadata": {},
   "source": [
    "### Знакомство с данными"
   ]
  },
  {
   "cell_type": "markdown",
   "metadata": {},
   "source": [
    "**При знакомстве с данными выявлена необходимость**\n",
    "* **Привести названия столбцов в правильный вид**\n",
    "* **Удалить пропущенные значения**\n",
    "* **Изменить тип данных некоторых столбцов**\n",
    "* **Привести значения столбцов с категориальными признакми в числовой тип**"
   ]
  },
  {
   "cell_type": "markdown",
   "metadata": {},
   "source": [
    "### Предобработка данных"
   ]
  },
  {
   "cell_type": "markdown",
   "metadata": {},
   "source": [
    "* **Приведены в правильный вид названия всех столбцов.**\n",
    "* **Изменен тип данных следующих столбцов на int - tenure, balance, estimated_salary**\n",
    "* **Дроп столбцов с потенциально негативным влиянием на обучение модели. row_number, customer_id, surname.**"
   ]
  },
  {
   "cell_type": "markdown",
   "metadata": {},
   "source": [
    "### Подготовка данных"
   ]
  },
  {
   "cell_type": "markdown",
   "metadata": {},
   "source": [
    "* **Переведены категориальные признаки в числовой тип методом OHE. (geography, gender)**\n",
    "* **Масштабированы признаки столбцов credit_score, age, tenure, balance, num_of_products, estimated_salary**\n",
    "* **Выборка разделена на три части, train(60%), valid(20%), test(20%). Процент от общего числа строк.**"
   ]
  },
  {
   "cell_type": "markdown",
   "metadata": {},
   "source": [
    "### Исследование задачи"
   ]
  },
  {
   "cell_type": "markdown",
   "metadata": {},
   "source": [
    "* **Проведена проверка на дисбаланс классов, соотношение целевых значений 1 к 5.**\n",
    "* **Проведена проверка без учёта дисбаланса следующих моделей DecisionTreeClassifier, RandomForestClassifier, LogisticRegression.**\n",
    "* **Модели показывают слабое значение f1-меры.**"
   ]
  },
  {
   "cell_type": "markdown",
   "metadata": {},
   "source": [
    "### Борьба с дисбалансом"
   ]
  },
  {
   "cell_type": "markdown",
   "metadata": {},
   "source": [
    "* **Проведенны проверки трёх моделей DecisionTreeClassifier, RandomForestClassifier, LogisticRegression.**\n",
    "* **Проверки проводились тремя разными способами борьбы с дисбалансом классов - Взвешивание классов, Увелечения выборки, Уменьшение выборки**\n",
    "* **Лучшие показатели у модели RandomForestClassifier на увеличенной выборке с глубиной в 8, и количеством деревьев в 71, показавшая f1-меру в 0.61.**"
   ]
  },
  {
   "cell_type": "markdown",
   "metadata": {},
   "source": [
    "### Тестирование лучшей модели"
   ]
  },
  {
   "cell_type": "markdown",
   "metadata": {},
   "source": [
    "* **На тестовой выборке модель RandomForestClassifier обученную на увелеченной выборке с гиперпараметрами глубины в 8, и количеством деревьев в 71, f1-меру в 0.59**\n",
    "* **Значение AUC_ROC показывает что модель делает верное предсказание почти в 85% случаях.**"
   ]
  },
  {
   "cell_type": "markdown",
   "metadata": {},
   "source": [
    "**Лучшая модель предсказывает то что клиент останется в 84% случаях, а то что клиент уйдёт в 69% случаях**"
   ]
  }
 ],
 "metadata": {
  "ExecuteTimeLog": [
   {
    "duration": 371,
    "start_time": "2023-08-08T15:41:07.856Z"
   },
   {
    "duration": 222,
    "start_time": "2023-08-08T15:41:35.827Z"
   },
   {
    "duration": 135,
    "start_time": "2023-08-08T15:44:41.391Z"
   },
   {
    "duration": 6736,
    "start_time": "2023-08-08T15:44:50.788Z"
   },
   {
    "duration": 5435,
    "start_time": "2023-08-08T15:46:09.756Z"
   },
   {
    "duration": 290,
    "start_time": "2023-08-08T15:46:28.626Z"
   },
   {
    "duration": 4592,
    "start_time": "2023-08-08T15:47:48.390Z"
   },
   {
    "duration": 96,
    "start_time": "2023-08-08T15:48:49.276Z"
   },
   {
    "duration": 19,
    "start_time": "2023-08-08T15:48:58.144Z"
   },
   {
    "duration": 13,
    "start_time": "2023-08-08T15:50:32.134Z"
   },
   {
    "duration": 17,
    "start_time": "2023-08-08T15:50:41.035Z"
   },
   {
    "duration": 11,
    "start_time": "2023-08-08T15:50:41.750Z"
   },
   {
    "duration": 35,
    "start_time": "2023-08-08T15:51:07.841Z"
   },
   {
    "duration": 27,
    "start_time": "2023-08-08T15:51:51.825Z"
   },
   {
    "duration": 393,
    "start_time": "2023-08-08T15:52:06.640Z"
   },
   {
    "duration": 55,
    "start_time": "2023-08-08T15:52:07.036Z"
   },
   {
    "duration": 41,
    "start_time": "2023-08-08T15:52:07.093Z"
   },
   {
    "duration": 20,
    "start_time": "2023-08-08T15:52:07.136Z"
   },
   {
    "duration": 23,
    "start_time": "2023-08-08T15:52:07.158Z"
   },
   {
    "duration": 6,
    "start_time": "2023-08-08T15:52:49.041Z"
   },
   {
    "duration": 111,
    "start_time": "2023-08-08T15:59:21.455Z"
   },
   {
    "duration": 1246,
    "start_time": "2023-08-08T15:59:25.146Z"
   },
   {
    "duration": 168,
    "start_time": "2023-08-08T15:59:27.897Z"
   },
   {
    "duration": 2220,
    "start_time": "2023-08-08T15:59:58.999Z"
   },
   {
    "duration": 2285,
    "start_time": "2023-08-08T16:00:22.843Z"
   },
   {
    "duration": 99,
    "start_time": "2023-08-08T16:00:45.663Z"
   },
   {
    "duration": 115,
    "start_time": "2023-08-08T16:01:39.383Z"
   },
   {
    "duration": 104,
    "start_time": "2023-08-08T16:01:44.894Z"
   },
   {
    "duration": 111,
    "start_time": "2023-08-08T16:02:09.632Z"
   },
   {
    "duration": 115,
    "start_time": "2023-08-08T16:02:14.981Z"
   },
   {
    "duration": 2481,
    "start_time": "2023-08-08T16:02:52.989Z"
   },
   {
    "duration": 2789,
    "start_time": "2023-08-08T16:03:04.096Z"
   },
   {
    "duration": 33,
    "start_time": "2023-08-08T16:03:35.329Z"
   },
   {
    "duration": 2120,
    "start_time": "2023-08-08T16:03:49.067Z"
   },
   {
    "duration": 123,
    "start_time": "2023-08-08T16:04:04.313Z"
   },
   {
    "duration": 9168,
    "start_time": "2023-08-08T16:04:11.890Z"
   },
   {
    "duration": 1994,
    "start_time": "2023-08-08T16:04:48.068Z"
   },
   {
    "duration": 8,
    "start_time": "2023-08-08T16:04:56.520Z"
   },
   {
    "duration": 127,
    "start_time": "2023-08-08T16:04:59.495Z"
   },
   {
    "duration": 99,
    "start_time": "2023-08-08T16:05:24.428Z"
   },
   {
    "duration": 143,
    "start_time": "2023-08-08T16:05:42.792Z"
   },
   {
    "duration": 104,
    "start_time": "2023-08-08T16:06:13.174Z"
   },
   {
    "duration": 851,
    "start_time": "2023-08-08T16:06:50.261Z"
   },
   {
    "duration": 59,
    "start_time": "2023-08-08T16:07:03.288Z"
   },
   {
    "duration": 3,
    "start_time": "2023-08-08T16:07:36.647Z"
   },
   {
    "duration": 1021,
    "start_time": "2023-08-08T16:08:01.964Z"
   },
   {
    "duration": 962,
    "start_time": "2023-08-08T16:08:06.655Z"
   },
   {
    "duration": 1459,
    "start_time": "2023-08-08T16:08:12.790Z"
   },
   {
    "duration": 5,
    "start_time": "2023-08-08T16:12:21.589Z"
   },
   {
    "duration": 17,
    "start_time": "2023-08-08T16:12:39.062Z"
   },
   {
    "duration": 19,
    "start_time": "2023-08-08T16:12:54.298Z"
   },
   {
    "duration": 18,
    "start_time": "2023-08-08T16:13:32.722Z"
   },
   {
    "duration": 24,
    "start_time": "2023-08-08T16:13:52.170Z"
   },
   {
    "duration": 9,
    "start_time": "2023-08-08T16:14:43.357Z"
   },
   {
    "duration": 28,
    "start_time": "2023-08-08T16:14:50.621Z"
   },
   {
    "duration": 16,
    "start_time": "2023-08-08T16:14:55.248Z"
   },
   {
    "duration": 31,
    "start_time": "2023-08-08T16:15:38.798Z"
   },
   {
    "duration": 27,
    "start_time": "2023-08-08T16:15:56.692Z"
   },
   {
    "duration": 14,
    "start_time": "2023-08-08T16:18:49.525Z"
   },
   {
    "duration": 10,
    "start_time": "2023-08-08T16:18:53.268Z"
   },
   {
    "duration": 38,
    "start_time": "2023-08-08T16:34:39.441Z"
   },
   {
    "duration": 19,
    "start_time": "2023-08-08T16:34:41.218Z"
   },
   {
    "duration": 3402,
    "start_time": "2023-08-08T16:37:48.628Z"
   },
   {
    "duration": 4863,
    "start_time": "2023-08-08T16:37:57.195Z"
   },
   {
    "duration": 2816,
    "start_time": "2023-08-08T16:38:55.656Z"
   },
   {
    "duration": 2224,
    "start_time": "2023-08-08T16:39:02.122Z"
   },
   {
    "duration": 1161,
    "start_time": "2023-08-08T16:39:21.485Z"
   },
   {
    "duration": 40,
    "start_time": "2023-08-08T16:39:22.649Z"
   },
   {
    "duration": 25,
    "start_time": "2023-08-08T16:39:22.691Z"
   },
   {
    "duration": 43,
    "start_time": "2023-08-08T16:39:22.717Z"
   },
   {
    "duration": 12,
    "start_time": "2023-08-08T16:39:22.762Z"
   },
   {
    "duration": 1395,
    "start_time": "2023-08-08T16:39:22.775Z"
   },
   {
    "duration": 16,
    "start_time": "2023-08-08T16:39:24.172Z"
   },
   {
    "duration": 36,
    "start_time": "2023-08-08T16:39:24.190Z"
   },
   {
    "duration": 37,
    "start_time": "2023-08-08T16:39:24.234Z"
   },
   {
    "duration": 4,
    "start_time": "2023-08-08T16:39:24.272Z"
   },
   {
    "duration": 15,
    "start_time": "2023-08-08T16:40:16.719Z"
   },
   {
    "duration": 12,
    "start_time": "2023-08-08T16:40:21.769Z"
   },
   {
    "duration": 123,
    "start_time": "2023-08-08T16:43:11.194Z"
   },
   {
    "duration": 20,
    "start_time": "2023-08-08T16:44:04.497Z"
   },
   {
    "duration": 23,
    "start_time": "2023-08-08T16:44:37.595Z"
   },
   {
    "duration": 1190,
    "start_time": "2023-08-08T16:44:51.072Z"
   },
   {
    "duration": 61,
    "start_time": "2023-08-08T16:44:52.264Z"
   },
   {
    "duration": 16,
    "start_time": "2023-08-08T16:44:52.343Z"
   },
   {
    "duration": 55,
    "start_time": "2023-08-08T16:44:52.361Z"
   },
   {
    "duration": 59,
    "start_time": "2023-08-08T16:44:52.419Z"
   },
   {
    "duration": 1505,
    "start_time": "2023-08-08T16:44:52.479Z"
   },
   {
    "duration": 11,
    "start_time": "2023-08-08T16:44:53.985Z"
   },
   {
    "duration": 64,
    "start_time": "2023-08-08T16:44:53.998Z"
   },
   {
    "duration": 28,
    "start_time": "2023-08-08T16:44:54.063Z"
   },
   {
    "duration": 66,
    "start_time": "2023-08-08T16:44:54.093Z"
   },
   {
    "duration": 22,
    "start_time": "2023-08-08T16:44:54.161Z"
   },
   {
    "duration": 134,
    "start_time": "2023-08-08T16:45:31.455Z"
   },
   {
    "duration": 5,
    "start_time": "2023-08-08T16:45:45.981Z"
   },
   {
    "duration": 6,
    "start_time": "2023-08-08T16:46:13.354Z"
   },
   {
    "duration": 39,
    "start_time": "2023-08-08T16:50:07.582Z"
   },
   {
    "duration": 8,
    "start_time": "2023-08-08T16:54:17.745Z"
   },
   {
    "duration": 13,
    "start_time": "2023-08-08T16:55:22.724Z"
   },
   {
    "duration": 390,
    "start_time": "2023-08-08T17:02:12.435Z"
   },
   {
    "duration": 13,
    "start_time": "2023-08-08T17:07:21.658Z"
   },
   {
    "duration": 13,
    "start_time": "2023-08-08T17:08:11.698Z"
   },
   {
    "duration": 11,
    "start_time": "2023-08-08T17:08:39.422Z"
   },
   {
    "duration": 34,
    "start_time": "2023-08-08T17:09:21.144Z"
   },
   {
    "duration": 8,
    "start_time": "2023-08-08T17:09:39.238Z"
   },
   {
    "duration": 10,
    "start_time": "2023-08-08T17:09:43.155Z"
   },
   {
    "duration": 11,
    "start_time": "2023-08-08T17:11:48.142Z"
   },
   {
    "duration": 144,
    "start_time": "2023-08-08T17:14:19.315Z"
   },
   {
    "duration": 33,
    "start_time": "2023-08-08T17:14:47.224Z"
   },
   {
    "duration": 7,
    "start_time": "2023-08-08T17:16:22.891Z"
   },
   {
    "duration": 1437,
    "start_time": "2023-08-08T17:17:55.430Z"
   },
   {
    "duration": 162,
    "start_time": "2023-08-08T17:18:02.526Z"
   },
   {
    "duration": 3,
    "start_time": "2023-08-08T17:19:37.742Z"
   },
   {
    "duration": 181,
    "start_time": "2023-08-08T17:20:00.224Z"
   },
   {
    "duration": 214,
    "start_time": "2023-08-08T17:35:05.702Z"
   },
   {
    "duration": 277,
    "start_time": "2023-08-08T17:42:14.270Z"
   },
   {
    "duration": 11,
    "start_time": "2023-08-08T17:43:35.823Z"
   },
   {
    "duration": 14,
    "start_time": "2023-08-08T17:44:14.669Z"
   },
   {
    "duration": 4204,
    "start_time": "2023-08-08T17:44:21.742Z"
   },
   {
    "duration": 6,
    "start_time": "2023-08-08T17:44:56.593Z"
   },
   {
    "duration": 257,
    "start_time": "2023-08-08T17:45:16.717Z"
   },
   {
    "duration": 4208,
    "start_time": "2023-08-08T17:45:21.268Z"
   },
   {
    "duration": 11,
    "start_time": "2023-08-08T17:50:09.443Z"
   },
   {
    "duration": 3,
    "start_time": "2023-08-08T17:50:47.949Z"
   },
   {
    "duration": 29,
    "start_time": "2023-08-08T17:50:54.420Z"
   },
   {
    "duration": 78,
    "start_time": "2023-08-08T17:51:41.345Z"
   },
   {
    "duration": 15,
    "start_time": "2023-08-08T17:51:52.649Z"
   },
   {
    "duration": 5,
    "start_time": "2023-08-08T17:52:07.792Z"
   },
   {
    "duration": 347,
    "start_time": "2023-08-08T17:52:29.493Z"
   },
   {
    "duration": 22,
    "start_time": "2023-08-08T17:52:40.305Z"
   },
   {
    "duration": 22,
    "start_time": "2023-08-08T17:52:45.615Z"
   },
   {
    "duration": 4815,
    "start_time": "2023-08-08T17:52:54.478Z"
   },
   {
    "duration": 5,
    "start_time": "2023-08-08T17:53:25.455Z"
   },
   {
    "duration": 274,
    "start_time": "2023-08-08T17:53:36.725Z"
   },
   {
    "duration": 4111,
    "start_time": "2023-08-08T17:53:38.985Z"
   },
   {
    "duration": 117,
    "start_time": "2023-08-08T17:53:43.099Z"
   },
   {
    "duration": 3,
    "start_time": "2023-08-08T17:54:40.865Z"
   },
   {
    "duration": 7,
    "start_time": "2023-08-08T17:55:18.317Z"
   },
   {
    "duration": 268,
    "start_time": "2023-08-08T17:56:11.701Z"
   },
   {
    "duration": 94,
    "start_time": "2023-08-08T17:56:52.610Z"
   },
   {
    "duration": 287,
    "start_time": "2023-08-08T17:56:56.860Z"
   },
   {
    "duration": 4691,
    "start_time": "2023-08-08T17:56:57.695Z"
   },
   {
    "duration": 42,
    "start_time": "2023-08-08T17:57:02.388Z"
   },
   {
    "duration": 20,
    "start_time": "2023-08-08T17:57:28.947Z"
   },
   {
    "duration": 276,
    "start_time": "2023-08-08T18:15:02.895Z"
   },
   {
    "duration": 91,
    "start_time": "2023-08-08T18:16:19.290Z"
   },
   {
    "duration": 30,
    "start_time": "2023-08-08T18:16:30.824Z"
   },
   {
    "duration": 3896,
    "start_time": "2023-08-08T18:16:37.417Z"
   },
   {
    "duration": 8,
    "start_time": "2023-08-08T18:18:42.962Z"
   },
   {
    "duration": 4,
    "start_time": "2023-08-08T18:19:11.937Z"
   },
   {
    "duration": 151,
    "start_time": "2023-08-08T18:19:20.806Z"
   },
   {
    "duration": 3,
    "start_time": "2023-08-08T18:20:19.058Z"
   },
   {
    "duration": 6,
    "start_time": "2023-08-08T18:20:57.528Z"
   },
   {
    "duration": 12,
    "start_time": "2023-08-08T18:21:39.406Z"
   },
   {
    "duration": 122,
    "start_time": "2023-08-08T18:21:42.550Z"
   },
   {
    "duration": 116,
    "start_time": "2023-08-08T18:21:50.220Z"
   },
   {
    "duration": 119,
    "start_time": "2023-08-08T18:21:54.316Z"
   },
   {
    "duration": 121,
    "start_time": "2023-08-08T18:22:01.758Z"
   },
   {
    "duration": 122,
    "start_time": "2023-08-08T18:22:19.690Z"
   },
   {
    "duration": 131,
    "start_time": "2023-08-08T18:24:16.660Z"
   },
   {
    "duration": 260,
    "start_time": "2023-08-08T18:24:33.666Z"
   },
   {
    "duration": 199,
    "start_time": "2023-08-08T18:24:34.425Z"
   },
   {
    "duration": 3986,
    "start_time": "2023-08-08T18:24:35.141Z"
   },
   {
    "duration": 131,
    "start_time": "2023-08-08T18:24:39.128Z"
   },
   {
    "duration": 49,
    "start_time": "2023-08-08T18:24:39.260Z"
   },
   {
    "duration": 400,
    "start_time": "2023-08-08T18:24:39.310Z"
   },
   {
    "duration": 9,
    "start_time": "2023-08-08T19:25:08.895Z"
   },
   {
    "duration": 21,
    "start_time": "2023-08-08T19:25:27.375Z"
   },
   {
    "duration": 17,
    "start_time": "2023-08-08T19:26:00.767Z"
   },
   {
    "duration": 127,
    "start_time": "2023-08-08T19:34:50.675Z"
   },
   {
    "duration": 8,
    "start_time": "2023-08-08T19:34:52.127Z"
   },
   {
    "duration": 12,
    "start_time": "2023-08-08T19:36:34.890Z"
   },
   {
    "duration": 271,
    "start_time": "2023-08-08T19:39:07.169Z"
   },
   {
    "duration": 4026,
    "start_time": "2023-08-08T19:40:37.570Z"
   },
   {
    "duration": 29,
    "start_time": "2023-08-08T19:42:00.052Z"
   },
   {
    "duration": 19,
    "start_time": "2023-08-08T19:47:38.190Z"
   },
   {
    "duration": 5,
    "start_time": "2023-08-08T19:49:06.632Z"
   },
   {
    "duration": 13,
    "start_time": "2023-08-08T19:49:19.235Z"
   },
   {
    "duration": 277,
    "start_time": "2023-08-08T19:50:14.529Z"
   },
   {
    "duration": 275,
    "start_time": "2023-08-08T19:51:55.276Z"
   },
   {
    "duration": 271,
    "start_time": "2023-08-08T19:52:01.705Z"
   },
   {
    "duration": 480,
    "start_time": "2023-08-08T19:52:25.379Z"
   },
   {
    "duration": 7099,
    "start_time": "2023-08-08T19:53:32.791Z"
   },
   {
    "duration": 49,
    "start_time": "2023-08-08T19:54:34.463Z"
   },
   {
    "duration": 9,
    "start_time": "2023-08-08T19:55:32.150Z"
   },
   {
    "duration": 108,
    "start_time": "2023-08-08T19:56:46.522Z"
   },
   {
    "duration": 2208,
    "start_time": "2023-08-08T19:57:23.907Z"
   },
   {
    "duration": 17,
    "start_time": "2023-08-08T19:57:47.017Z"
   },
   {
    "duration": 78,
    "start_time": "2023-08-08T20:04:14.863Z"
   },
   {
    "duration": 125,
    "start_time": "2023-08-08T20:07:38.620Z"
   },
   {
    "duration": 228,
    "start_time": "2023-08-08T20:10:09.333Z"
   },
   {
    "duration": 254,
    "start_time": "2023-08-08T20:10:55.894Z"
   },
   {
    "duration": 6764,
    "start_time": "2023-08-08T20:12:12.055Z"
   },
   {
    "duration": 4219,
    "start_time": "2023-08-08T20:12:34.263Z"
   },
   {
    "duration": 6745,
    "start_time": "2023-08-08T20:13:06.291Z"
   },
   {
    "duration": 4106,
    "start_time": "2023-08-08T20:13:38.917Z"
   },
   {
    "duration": 307,
    "start_time": "2023-08-08T20:15:03.455Z"
   },
   {
    "duration": 271,
    "start_time": "2023-08-08T20:15:34.646Z"
   },
   {
    "duration": 24,
    "start_time": "2023-08-09T04:08:44.489Z"
   },
   {
    "duration": 15,
    "start_time": "2023-08-09T04:09:07.653Z"
   },
   {
    "duration": 16,
    "start_time": "2023-08-09T04:09:45.762Z"
   },
   {
    "duration": 1307,
    "start_time": "2023-08-09T04:09:53.402Z"
   },
   {
    "duration": 41,
    "start_time": "2023-08-09T04:09:54.711Z"
   },
   {
    "duration": 13,
    "start_time": "2023-08-09T04:09:54.754Z"
   },
   {
    "duration": 11,
    "start_time": "2023-08-09T04:09:54.769Z"
   },
   {
    "duration": 10,
    "start_time": "2023-08-09T04:09:54.782Z"
   },
   {
    "duration": 1219,
    "start_time": "2023-08-09T04:09:54.793Z"
   },
   {
    "duration": 11,
    "start_time": "2023-08-09T04:09:56.014Z"
   },
   {
    "duration": 1293,
    "start_time": "2023-08-09T04:09:56.027Z"
   },
   {
    "duration": 0,
    "start_time": "2023-08-09T04:09:57.324Z"
   },
   {
    "duration": 0,
    "start_time": "2023-08-09T04:09:57.325Z"
   },
   {
    "duration": 0,
    "start_time": "2023-08-09T04:09:57.327Z"
   },
   {
    "duration": 0,
    "start_time": "2023-08-09T04:09:57.328Z"
   },
   {
    "duration": 0,
    "start_time": "2023-08-09T04:09:57.330Z"
   },
   {
    "duration": 0,
    "start_time": "2023-08-09T04:09:57.331Z"
   },
   {
    "duration": 0,
    "start_time": "2023-08-09T04:09:57.333Z"
   },
   {
    "duration": 0,
    "start_time": "2023-08-09T04:09:57.334Z"
   },
   {
    "duration": 0,
    "start_time": "2023-08-09T04:09:57.336Z"
   },
   {
    "duration": 0,
    "start_time": "2023-08-09T04:09:57.337Z"
   },
   {
    "duration": 0,
    "start_time": "2023-08-09T04:09:57.338Z"
   },
   {
    "duration": 0,
    "start_time": "2023-08-09T04:09:57.339Z"
   },
   {
    "duration": 0,
    "start_time": "2023-08-09T04:09:57.341Z"
   },
   {
    "duration": 0,
    "start_time": "2023-08-09T04:09:57.342Z"
   },
   {
    "duration": 0,
    "start_time": "2023-08-09T04:09:57.344Z"
   },
   {
    "duration": 0,
    "start_time": "2023-08-09T04:09:57.345Z"
   },
   {
    "duration": 1,
    "start_time": "2023-08-09T04:09:57.346Z"
   },
   {
    "duration": 0,
    "start_time": "2023-08-09T04:09:57.348Z"
   },
   {
    "duration": 0,
    "start_time": "2023-08-09T04:09:57.349Z"
   },
   {
    "duration": 0,
    "start_time": "2023-08-09T04:09:57.350Z"
   },
   {
    "duration": 0,
    "start_time": "2023-08-09T04:09:57.352Z"
   },
   {
    "duration": 0,
    "start_time": "2023-08-09T04:09:57.353Z"
   },
   {
    "duration": 0,
    "start_time": "2023-08-09T04:09:57.354Z"
   },
   {
    "duration": 0,
    "start_time": "2023-08-09T04:09:57.355Z"
   },
   {
    "duration": 0,
    "start_time": "2023-08-09T04:09:57.357Z"
   },
   {
    "duration": 0,
    "start_time": "2023-08-09T04:09:57.358Z"
   },
   {
    "duration": 0,
    "start_time": "2023-08-09T04:09:57.359Z"
   },
   {
    "duration": 0,
    "start_time": "2023-08-09T04:09:57.361Z"
   },
   {
    "duration": 0,
    "start_time": "2023-08-09T04:09:57.400Z"
   },
   {
    "duration": 0,
    "start_time": "2023-08-09T04:09:57.402Z"
   },
   {
    "duration": 6,
    "start_time": "2023-08-09T04:10:23.744Z"
   },
   {
    "duration": 1311,
    "start_time": "2023-08-09T04:10:29.628Z"
   },
   {
    "duration": 42,
    "start_time": "2023-08-09T04:10:30.941Z"
   },
   {
    "duration": 14,
    "start_time": "2023-08-09T04:10:30.984Z"
   },
   {
    "duration": 38,
    "start_time": "2023-08-09T04:10:31.000Z"
   },
   {
    "duration": 42,
    "start_time": "2023-08-09T04:10:31.040Z"
   },
   {
    "duration": 1209,
    "start_time": "2023-08-09T04:10:31.084Z"
   },
   {
    "duration": 13,
    "start_time": "2023-08-09T04:10:32.294Z"
   },
   {
    "duration": 27,
    "start_time": "2023-08-09T04:10:32.308Z"
   },
   {
    "duration": 39,
    "start_time": "2023-08-09T04:10:32.337Z"
   },
   {
    "duration": 41,
    "start_time": "2023-08-09T04:10:32.379Z"
   },
   {
    "duration": 11,
    "start_time": "2023-08-09T04:10:32.422Z"
   },
   {
    "duration": 18,
    "start_time": "2023-08-09T04:10:32.435Z"
   },
   {
    "duration": 12,
    "start_time": "2023-08-09T04:10:32.454Z"
   },
   {
    "duration": 8,
    "start_time": "2023-08-09T04:10:32.468Z"
   },
   {
    "duration": 31,
    "start_time": "2023-08-09T04:10:32.477Z"
   },
   {
    "duration": 10,
    "start_time": "2023-08-09T04:10:32.509Z"
   },
   {
    "duration": 40,
    "start_time": "2023-08-09T04:10:32.520Z"
   },
   {
    "duration": 103,
    "start_time": "2023-08-09T04:10:32.562Z"
   },
   {
    "duration": 126,
    "start_time": "2023-08-09T04:10:32.666Z"
   },
   {
    "duration": 5,
    "start_time": "2023-08-09T04:10:32.800Z"
   },
   {
    "duration": 126,
    "start_time": "2023-08-09T04:10:32.806Z"
   },
   {
    "duration": 0,
    "start_time": "2023-08-09T04:10:32.933Z"
   },
   {
    "duration": 0,
    "start_time": "2023-08-09T04:10:32.934Z"
   },
   {
    "duration": 0,
    "start_time": "2023-08-09T04:10:32.935Z"
   },
   {
    "duration": 0,
    "start_time": "2023-08-09T04:10:32.936Z"
   },
   {
    "duration": 0,
    "start_time": "2023-08-09T04:10:32.937Z"
   },
   {
    "duration": 0,
    "start_time": "2023-08-09T04:10:32.938Z"
   },
   {
    "duration": 0,
    "start_time": "2023-08-09T04:10:32.938Z"
   },
   {
    "duration": 0,
    "start_time": "2023-08-09T04:10:32.939Z"
   },
   {
    "duration": 0,
    "start_time": "2023-08-09T04:10:32.940Z"
   },
   {
    "duration": 0,
    "start_time": "2023-08-09T04:10:32.941Z"
   },
   {
    "duration": 0,
    "start_time": "2023-08-09T04:10:32.942Z"
   },
   {
    "duration": 0,
    "start_time": "2023-08-09T04:10:32.943Z"
   },
   {
    "duration": 0,
    "start_time": "2023-08-09T04:10:32.943Z"
   },
   {
    "duration": 0,
    "start_time": "2023-08-09T04:10:32.944Z"
   },
   {
    "duration": 0,
    "start_time": "2023-08-09T04:10:32.945Z"
   },
   {
    "duration": 0,
    "start_time": "2023-08-09T04:10:32.946Z"
   },
   {
    "duration": 0,
    "start_time": "2023-08-09T04:10:32.946Z"
   },
   {
    "duration": 17,
    "start_time": "2023-08-09T04:14:27.218Z"
   },
   {
    "duration": 17,
    "start_time": "2023-08-09T04:15:11.248Z"
   },
   {
    "duration": 125,
    "start_time": "2023-08-09T04:15:26.935Z"
   },
   {
    "duration": 3877,
    "start_time": "2023-08-09T04:15:35.194Z"
   },
   {
    "duration": 4,
    "start_time": "2023-08-09T04:15:54.119Z"
   },
   {
    "duration": 262,
    "start_time": "2023-08-09T04:16:27.306Z"
   },
   {
    "duration": 1333,
    "start_time": "2023-08-09T04:16:38.003Z"
   },
   {
    "duration": 40,
    "start_time": "2023-08-09T04:16:39.338Z"
   },
   {
    "duration": 15,
    "start_time": "2023-08-09T04:16:39.380Z"
   },
   {
    "duration": 18,
    "start_time": "2023-08-09T04:16:39.396Z"
   },
   {
    "duration": 6,
    "start_time": "2023-08-09T04:16:39.416Z"
   },
   {
    "duration": 1170,
    "start_time": "2023-08-09T04:16:39.423Z"
   },
   {
    "duration": 12,
    "start_time": "2023-08-09T04:16:40.595Z"
   },
   {
    "duration": 4,
    "start_time": "2023-08-09T04:16:40.608Z"
   },
   {
    "duration": 23,
    "start_time": "2023-08-09T04:16:40.613Z"
   },
   {
    "duration": 19,
    "start_time": "2023-08-09T04:16:40.638Z"
   },
   {
    "duration": 12,
    "start_time": "2023-08-09T04:16:40.658Z"
   },
   {
    "duration": 17,
    "start_time": "2023-08-09T04:16:40.672Z"
   },
   {
    "duration": 40,
    "start_time": "2023-08-09T04:16:40.690Z"
   },
   {
    "duration": 8,
    "start_time": "2023-08-09T04:16:40.732Z"
   },
   {
    "duration": 22,
    "start_time": "2023-08-09T04:16:40.741Z"
   },
   {
    "duration": 11,
    "start_time": "2023-08-09T04:16:40.764Z"
   },
   {
    "duration": 33,
    "start_time": "2023-08-09T04:16:40.776Z"
   },
   {
    "duration": 101,
    "start_time": "2023-08-09T04:16:40.810Z"
   },
   {
    "duration": 128,
    "start_time": "2023-08-09T04:16:40.912Z"
   },
   {
    "duration": 5,
    "start_time": "2023-08-09T04:16:41.041Z"
   },
   {
    "duration": 274,
    "start_time": "2023-08-09T04:16:41.048Z"
   },
   {
    "duration": 125,
    "start_time": "2023-08-09T04:16:41.324Z"
   },
   {
    "duration": 3858,
    "start_time": "2023-08-09T04:16:41.451Z"
   },
   {
    "duration": 136,
    "start_time": "2023-08-09T04:16:45.310Z"
   },
   {
    "duration": 59,
    "start_time": "2023-08-09T04:16:45.447Z"
   },
   {
    "duration": 404,
    "start_time": "2023-08-09T04:16:45.509Z"
   },
   {
    "duration": 270,
    "start_time": "2023-08-09T04:16:45.914Z"
   },
   {
    "duration": 3914,
    "start_time": "2023-08-09T04:16:46.187Z"
   },
   {
    "duration": 102,
    "start_time": "2023-08-09T04:16:50.103Z"
   },
   {
    "duration": 100,
    "start_time": "2023-08-09T04:16:50.207Z"
   },
   {
    "duration": 425,
    "start_time": "2023-08-09T04:16:50.309Z"
   },
   {
    "duration": 6848,
    "start_time": "2023-08-09T04:16:50.735Z"
   },
   {
    "duration": 115,
    "start_time": "2023-08-09T04:16:57.584Z"
   },
   {
    "duration": 101,
    "start_time": "2023-08-09T04:16:57.702Z"
   },
   {
    "duration": 115,
    "start_time": "2023-08-09T04:16:57.804Z"
   },
   {
    "duration": 2161,
    "start_time": "2023-08-09T04:16:57.921Z"
   },
   {
    "duration": 26,
    "start_time": "2023-08-09T04:17:00.084Z"
   },
   {
    "duration": 319,
    "start_time": "2023-08-09T04:17:00.112Z"
   },
   {
    "duration": 262,
    "start_time": "2023-08-09T04:17:41.441Z"
   },
   {
    "duration": 3906,
    "start_time": "2023-08-09T04:18:44.369Z"
   },
   {
    "duration": 22,
    "start_time": "2023-08-09T04:19:17.914Z"
   },
   {
    "duration": 326,
    "start_time": "2023-08-09T04:19:24.986Z"
   },
   {
    "duration": 262,
    "start_time": "2023-08-09T04:20:29.155Z"
   },
   {
    "duration": 427,
    "start_time": "2023-08-09T04:21:09.537Z"
   },
   {
    "duration": 110,
    "start_time": "2023-08-09T04:21:50.283Z"
   },
   {
    "duration": 3915,
    "start_time": "2023-08-09T04:22:39.614Z"
   },
   {
    "duration": 18,
    "start_time": "2023-08-09T04:23:50.916Z"
   },
   {
    "duration": 33,
    "start_time": "2023-08-09T04:29:09.884Z"
   },
   {
    "duration": 2057,
    "start_time": "2023-08-09T04:29:52.409Z"
   },
   {
    "duration": 16,
    "start_time": "2023-08-09T04:30:11.026Z"
   },
   {
    "duration": 1273,
    "start_time": "2023-08-09T04:31:42.753Z"
   },
   {
    "duration": 40,
    "start_time": "2023-08-09T04:31:44.027Z"
   },
   {
    "duration": 14,
    "start_time": "2023-08-09T04:31:44.069Z"
   },
   {
    "duration": 10,
    "start_time": "2023-08-09T04:31:44.085Z"
   },
   {
    "duration": 6,
    "start_time": "2023-08-09T04:31:44.097Z"
   },
   {
    "duration": 1147,
    "start_time": "2023-08-09T04:31:44.105Z"
   },
   {
    "duration": 10,
    "start_time": "2023-08-09T04:31:45.254Z"
   },
   {
    "duration": 4,
    "start_time": "2023-08-09T04:31:45.266Z"
   },
   {
    "duration": 10,
    "start_time": "2023-08-09T04:31:45.271Z"
   },
   {
    "duration": 14,
    "start_time": "2023-08-09T04:31:45.299Z"
   },
   {
    "duration": 13,
    "start_time": "2023-08-09T04:31:45.315Z"
   },
   {
    "duration": 19,
    "start_time": "2023-08-09T04:31:45.329Z"
   },
   {
    "duration": 13,
    "start_time": "2023-08-09T04:31:45.349Z"
   },
   {
    "duration": 8,
    "start_time": "2023-08-09T04:31:45.363Z"
   },
   {
    "duration": 47,
    "start_time": "2023-08-09T04:31:45.372Z"
   },
   {
    "duration": 11,
    "start_time": "2023-08-09T04:31:45.420Z"
   },
   {
    "duration": 33,
    "start_time": "2023-08-09T04:31:45.432Z"
   },
   {
    "duration": 107,
    "start_time": "2023-08-09T04:31:45.466Z"
   },
   {
    "duration": 127,
    "start_time": "2023-08-09T04:31:45.575Z"
   },
   {
    "duration": 5,
    "start_time": "2023-08-09T04:31:45.704Z"
   },
   {
    "duration": 272,
    "start_time": "2023-08-09T04:31:45.711Z"
   },
   {
    "duration": 136,
    "start_time": "2023-08-09T04:31:45.984Z"
   },
   {
    "duration": 3870,
    "start_time": "2023-08-09T04:31:46.122Z"
   },
   {
    "duration": 134,
    "start_time": "2023-08-09T04:31:49.993Z"
   },
   {
    "duration": 18,
    "start_time": "2023-08-09T04:31:50.128Z"
   },
   {
    "duration": 412,
    "start_time": "2023-08-09T04:31:50.202Z"
   },
   {
    "duration": 270,
    "start_time": "2023-08-09T04:31:50.615Z"
   },
   {
    "duration": 3914,
    "start_time": "2023-08-09T04:31:50.889Z"
   },
   {
    "duration": 16,
    "start_time": "2023-08-09T04:31:54.805Z"
   },
   {
    "duration": 84,
    "start_time": "2023-08-09T04:31:54.823Z"
   },
   {
    "duration": 529,
    "start_time": "2023-08-09T04:31:54.908Z"
   },
   {
    "duration": 7361,
    "start_time": "2023-08-09T04:31:55.438Z"
   },
   {
    "duration": 34,
    "start_time": "2023-08-09T04:32:02.801Z"
   },
   {
    "duration": 101,
    "start_time": "2023-08-09T04:32:02.902Z"
   },
   {
    "duration": 123,
    "start_time": "2023-08-09T04:32:03.005Z"
   },
   {
    "duration": 2095,
    "start_time": "2023-08-09T04:32:03.129Z"
   },
   {
    "duration": 74,
    "start_time": "2023-08-09T04:32:05.226Z"
   },
   {
    "duration": 254,
    "start_time": "2023-08-09T04:32:05.301Z"
   },
   {
    "duration": 200,
    "start_time": "2023-08-09T04:33:05.491Z"
   },
   {
    "duration": 192,
    "start_time": "2023-08-09T04:33:40.833Z"
   },
   {
    "duration": 4,
    "start_time": "2023-08-09T04:35:42.148Z"
   },
   {
    "duration": 113,
    "start_time": "2023-08-09T04:38:11.692Z"
   },
   {
    "duration": 124,
    "start_time": "2023-08-09T04:39:41.708Z"
   },
   {
    "duration": 7,
    "start_time": "2023-08-09T04:40:54.259Z"
   },
   {
    "duration": 144,
    "start_time": "2023-08-09T04:42:00.646Z"
   },
   {
    "duration": 123,
    "start_time": "2023-08-09T04:42:08.582Z"
   },
   {
    "duration": 125,
    "start_time": "2023-08-09T04:42:20.684Z"
   },
   {
    "duration": 137,
    "start_time": "2023-08-09T04:42:25.987Z"
   },
   {
    "duration": 184,
    "start_time": "2023-08-09T04:42:34.860Z"
   },
   {
    "duration": 113,
    "start_time": "2023-08-09T04:42:39.369Z"
   },
   {
    "duration": 1508,
    "start_time": "2023-08-09T04:48:45.163Z"
   },
   {
    "duration": 41,
    "start_time": "2023-08-09T04:48:46.673Z"
   },
   {
    "duration": 14,
    "start_time": "2023-08-09T04:48:46.715Z"
   },
   {
    "duration": 11,
    "start_time": "2023-08-09T04:48:46.730Z"
   },
   {
    "duration": 5,
    "start_time": "2023-08-09T04:48:46.744Z"
   },
   {
    "duration": 1196,
    "start_time": "2023-08-09T04:48:46.750Z"
   },
   {
    "duration": 10,
    "start_time": "2023-08-09T04:48:47.948Z"
   },
   {
    "duration": 3,
    "start_time": "2023-08-09T04:48:47.959Z"
   },
   {
    "duration": 21,
    "start_time": "2023-08-09T04:48:47.964Z"
   },
   {
    "duration": 23,
    "start_time": "2023-08-09T04:48:47.987Z"
   },
   {
    "duration": 13,
    "start_time": "2023-08-09T04:48:48.011Z"
   },
   {
    "duration": 13,
    "start_time": "2023-08-09T04:48:48.025Z"
   },
   {
    "duration": 12,
    "start_time": "2023-08-09T04:48:48.040Z"
   },
   {
    "duration": 8,
    "start_time": "2023-08-09T04:48:48.055Z"
   },
   {
    "duration": 48,
    "start_time": "2023-08-09T04:48:48.064Z"
   },
   {
    "duration": 13,
    "start_time": "2023-08-09T04:48:48.114Z"
   },
   {
    "duration": 36,
    "start_time": "2023-08-09T04:48:48.128Z"
   },
   {
    "duration": 124,
    "start_time": "2023-08-09T04:48:48.167Z"
   },
   {
    "duration": 133,
    "start_time": "2023-08-09T04:48:48.299Z"
   },
   {
    "duration": 6,
    "start_time": "2023-08-09T04:48:48.434Z"
   },
   {
    "duration": 270,
    "start_time": "2023-08-09T04:48:48.442Z"
   },
   {
    "duration": 129,
    "start_time": "2023-08-09T04:48:48.714Z"
   },
   {
    "duration": 3868,
    "start_time": "2023-08-09T04:48:48.845Z"
   },
   {
    "duration": 131,
    "start_time": "2023-08-09T04:48:52.714Z"
   },
   {
    "duration": 54,
    "start_time": "2023-08-09T04:48:52.847Z"
   },
   {
    "duration": 317,
    "start_time": "2023-08-09T04:48:52.902Z"
   },
   {
    "duration": 265,
    "start_time": "2023-08-09T04:48:53.221Z"
   },
   {
    "duration": 3994,
    "start_time": "2023-08-09T04:48:53.488Z"
   },
   {
    "duration": 27,
    "start_time": "2023-08-09T04:48:57.484Z"
   },
   {
    "duration": 95,
    "start_time": "2023-08-09T04:48:57.513Z"
   },
   {
    "duration": 485,
    "start_time": "2023-08-09T04:48:57.699Z"
   },
   {
    "duration": 7575,
    "start_time": "2023-08-09T04:48:58.185Z"
   },
   {
    "duration": 42,
    "start_time": "2023-08-09T04:49:05.762Z"
   },
   {
    "duration": 94,
    "start_time": "2023-08-09T04:49:05.806Z"
   },
   {
    "duration": 231,
    "start_time": "2023-08-09T04:49:05.902Z"
   },
   {
    "duration": 2072,
    "start_time": "2023-08-09T04:49:06.134Z"
   },
   {
    "duration": 14,
    "start_time": "2023-08-09T04:49:08.208Z"
   },
   {
    "duration": 368,
    "start_time": "2023-08-09T04:49:08.225Z"
   },
   {
    "duration": 130,
    "start_time": "2023-08-09T04:49:08.594Z"
   },
   {
    "duration": 7,
    "start_time": "2023-08-09T04:49:08.725Z"
   },
   {
    "duration": 17090,
    "start_time": "2023-08-09T04:49:36.913Z"
   },
   {
    "duration": 4047,
    "start_time": "2023-08-09T04:50:34.901Z"
   },
   {
    "duration": 6446,
    "start_time": "2023-08-09T04:51:43.742Z"
   },
   {
    "duration": 4113,
    "start_time": "2023-08-09T04:52:03.808Z"
   },
   {
    "duration": 10800,
    "start_time": "2023-08-09T04:52:34.165Z"
   },
   {
    "duration": 26295,
    "start_time": "2023-08-09T04:52:59.729Z"
   },
   {
    "duration": 4056,
    "start_time": "2023-08-09T04:53:37.101Z"
   },
   {
    "duration": 1386,
    "start_time": "2023-08-09T04:54:30.982Z"
   },
   {
    "duration": 40,
    "start_time": "2023-08-09T04:54:32.370Z"
   },
   {
    "duration": 14,
    "start_time": "2023-08-09T04:54:32.412Z"
   },
   {
    "duration": 28,
    "start_time": "2023-08-09T04:54:32.427Z"
   },
   {
    "duration": 9,
    "start_time": "2023-08-09T04:54:32.457Z"
   },
   {
    "duration": 1173,
    "start_time": "2023-08-09T04:54:32.467Z"
   },
   {
    "duration": 11,
    "start_time": "2023-08-09T04:54:33.641Z"
   },
   {
    "duration": 4,
    "start_time": "2023-08-09T04:54:33.653Z"
   },
   {
    "duration": 15,
    "start_time": "2023-08-09T04:54:33.659Z"
   },
   {
    "duration": 30,
    "start_time": "2023-08-09T04:54:33.676Z"
   },
   {
    "duration": 12,
    "start_time": "2023-08-09T04:54:33.708Z"
   },
   {
    "duration": 16,
    "start_time": "2023-08-09T04:54:33.721Z"
   },
   {
    "duration": 16,
    "start_time": "2023-08-09T04:54:33.739Z"
   },
   {
    "duration": 8,
    "start_time": "2023-08-09T04:54:33.757Z"
   },
   {
    "duration": 37,
    "start_time": "2023-08-09T04:54:33.766Z"
   },
   {
    "duration": 11,
    "start_time": "2023-08-09T04:54:33.804Z"
   },
   {
    "duration": 31,
    "start_time": "2023-08-09T04:54:33.817Z"
   },
   {
    "duration": 109,
    "start_time": "2023-08-09T04:54:33.850Z"
   },
   {
    "duration": 130,
    "start_time": "2023-08-09T04:54:33.960Z"
   },
   {
    "duration": 11,
    "start_time": "2023-08-09T04:54:34.092Z"
   },
   {
    "duration": 300,
    "start_time": "2023-08-09T04:54:34.104Z"
   },
   {
    "duration": 131,
    "start_time": "2023-08-09T04:54:34.405Z"
   },
   {
    "duration": 3959,
    "start_time": "2023-08-09T04:54:34.537Z"
   },
   {
    "duration": 128,
    "start_time": "2023-08-09T04:54:38.499Z"
   },
   {
    "duration": 74,
    "start_time": "2023-08-09T04:54:38.629Z"
   },
   {
    "duration": 411,
    "start_time": "2023-08-09T04:54:38.705Z"
   },
   {
    "duration": 269,
    "start_time": "2023-08-09T04:54:39.118Z"
   },
   {
    "duration": 3990,
    "start_time": "2023-08-09T04:54:39.388Z"
   },
   {
    "duration": 121,
    "start_time": "2023-08-09T04:54:43.379Z"
   },
   {
    "duration": 103,
    "start_time": "2023-08-09T04:54:43.502Z"
   },
   {
    "duration": 436,
    "start_time": "2023-08-09T04:54:43.607Z"
   },
   {
    "duration": 6899,
    "start_time": "2023-08-09T04:54:44.044Z"
   },
   {
    "duration": 55,
    "start_time": "2023-08-09T04:54:50.945Z"
   },
   {
    "duration": 102,
    "start_time": "2023-08-09T04:54:51.002Z"
   },
   {
    "duration": 144,
    "start_time": "2023-08-09T04:54:51.106Z"
   },
   {
    "duration": 2104,
    "start_time": "2023-08-09T04:54:51.251Z"
   },
   {
    "duration": 50,
    "start_time": "2023-08-09T04:54:53.356Z"
   },
   {
    "duration": 318,
    "start_time": "2023-08-09T04:54:53.407Z"
   },
   {
    "duration": 117,
    "start_time": "2023-08-09T04:54:53.726Z"
   },
   {
    "duration": 4,
    "start_time": "2023-08-09T04:54:53.845Z"
   },
   {
    "duration": 5,
    "start_time": "2023-08-09T05:23:54.364Z"
   },
   {
    "duration": 1466,
    "start_time": "2023-08-09T05:30:43.352Z"
   },
   {
    "duration": 1422,
    "start_time": "2023-08-09T05:30:50.657Z"
   },
   {
    "duration": 9,
    "start_time": "2023-08-09T05:33:26.774Z"
   },
   {
    "duration": 144,
    "start_time": "2023-08-09T05:42:07.985Z"
   },
   {
    "duration": 1322,
    "start_time": "2023-08-09T05:42:22.948Z"
   },
   {
    "duration": 43,
    "start_time": "2023-08-09T05:42:24.272Z"
   },
   {
    "duration": 16,
    "start_time": "2023-08-09T05:42:24.316Z"
   },
   {
    "duration": 13,
    "start_time": "2023-08-09T05:42:24.334Z"
   },
   {
    "duration": 32,
    "start_time": "2023-08-09T05:42:24.348Z"
   },
   {
    "duration": 1305,
    "start_time": "2023-08-09T05:42:24.382Z"
   },
   {
    "duration": 17,
    "start_time": "2023-08-09T05:42:25.688Z"
   },
   {
    "duration": 17,
    "start_time": "2023-08-09T05:42:25.706Z"
   },
   {
    "duration": 45,
    "start_time": "2023-08-09T05:42:25.725Z"
   },
   {
    "duration": 30,
    "start_time": "2023-08-09T05:42:25.773Z"
   },
   {
    "duration": 38,
    "start_time": "2023-08-09T05:42:25.805Z"
   },
   {
    "duration": 27,
    "start_time": "2023-08-09T05:42:25.845Z"
   },
   {
    "duration": 17,
    "start_time": "2023-08-09T05:42:25.873Z"
   },
   {
    "duration": 75,
    "start_time": "2023-08-09T05:42:25.892Z"
   },
   {
    "duration": 45,
    "start_time": "2023-08-09T05:42:25.969Z"
   },
   {
    "duration": 47,
    "start_time": "2023-08-09T05:42:26.016Z"
   },
   {
    "duration": 29,
    "start_time": "2023-08-09T05:42:26.065Z"
   },
   {
    "duration": 59,
    "start_time": "2023-08-09T05:42:26.096Z"
   },
   {
    "duration": 112,
    "start_time": "2023-08-09T05:42:26.157Z"
   },
   {
    "duration": 142,
    "start_time": "2023-08-09T05:42:26.270Z"
   },
   {
    "duration": 6,
    "start_time": "2023-08-09T05:42:26.414Z"
   },
   {
    "duration": 288,
    "start_time": "2023-08-09T05:42:26.422Z"
   },
   {
    "duration": 158,
    "start_time": "2023-08-09T05:42:26.712Z"
   },
   {
    "duration": 4168,
    "start_time": "2023-08-09T05:42:26.871Z"
   },
   {
    "duration": 145,
    "start_time": "2023-08-09T05:42:31.040Z"
   },
   {
    "duration": 33,
    "start_time": "2023-08-09T05:42:31.186Z"
   },
   {
    "duration": 494,
    "start_time": "2023-08-09T05:42:31.220Z"
   },
   {
    "duration": 297,
    "start_time": "2023-08-09T05:42:31.717Z"
   },
   {
    "duration": 4281,
    "start_time": "2023-08-09T05:42:32.016Z"
   },
   {
    "duration": 19,
    "start_time": "2023-08-09T05:42:36.299Z"
   },
   {
    "duration": 90,
    "start_time": "2023-08-09T05:42:36.320Z"
   },
   {
    "duration": 538,
    "start_time": "2023-08-09T05:42:36.412Z"
   },
   {
    "duration": 7414,
    "start_time": "2023-08-09T05:42:36.952Z"
   },
   {
    "duration": 51,
    "start_time": "2023-08-09T05:42:44.368Z"
   },
   {
    "duration": 180,
    "start_time": "2023-08-09T05:42:44.420Z"
   },
   {
    "duration": 130,
    "start_time": "2023-08-09T05:42:44.601Z"
   },
   {
    "duration": 2277,
    "start_time": "2023-08-09T05:42:44.733Z"
   },
   {
    "duration": 187,
    "start_time": "2023-08-09T05:42:47.013Z"
   },
   {
    "duration": 247,
    "start_time": "2023-08-09T05:42:47.202Z"
   },
   {
    "duration": 159,
    "start_time": "2023-08-09T05:42:47.451Z"
   },
   {
    "duration": 133,
    "start_time": "2023-08-09T05:42:47.612Z"
   },
   {
    "duration": 6,
    "start_time": "2023-08-09T05:42:47.746Z"
   },
   {
    "duration": 9,
    "start_time": "2023-08-09T05:58:53.666Z"
   },
   {
    "duration": 1429,
    "start_time": "2023-08-09T06:01:04.696Z"
   },
   {
    "duration": 41,
    "start_time": "2023-08-09T06:01:06.126Z"
   },
   {
    "duration": 16,
    "start_time": "2023-08-09T06:01:06.168Z"
   },
   {
    "duration": 14,
    "start_time": "2023-08-09T06:01:06.185Z"
   },
   {
    "duration": 7,
    "start_time": "2023-08-09T06:01:06.200Z"
   },
   {
    "duration": 1210,
    "start_time": "2023-08-09T06:01:06.208Z"
   },
   {
    "duration": 10,
    "start_time": "2023-08-09T06:01:07.420Z"
   },
   {
    "duration": 18,
    "start_time": "2023-08-09T06:01:07.432Z"
   },
   {
    "duration": 26,
    "start_time": "2023-08-09T06:01:07.451Z"
   },
   {
    "duration": 40,
    "start_time": "2023-08-09T06:01:07.479Z"
   },
   {
    "duration": 33,
    "start_time": "2023-08-09T06:01:07.521Z"
   },
   {
    "duration": 32,
    "start_time": "2023-08-09T06:01:07.555Z"
   },
   {
    "duration": 16,
    "start_time": "2023-08-09T06:01:07.588Z"
   },
   {
    "duration": 30,
    "start_time": "2023-08-09T06:01:07.605Z"
   },
   {
    "duration": 25,
    "start_time": "2023-08-09T06:01:07.637Z"
   },
   {
    "duration": 74,
    "start_time": "2023-08-09T06:01:07.664Z"
   },
   {
    "duration": 19,
    "start_time": "2023-08-09T06:01:07.739Z"
   },
   {
    "duration": 109,
    "start_time": "2023-08-09T06:01:07.759Z"
   },
   {
    "duration": 134,
    "start_time": "2023-08-09T06:01:07.869Z"
   },
   {
    "duration": 6,
    "start_time": "2023-08-09T06:01:08.004Z"
   },
   {
    "duration": 302,
    "start_time": "2023-08-09T06:01:08.011Z"
   },
   {
    "duration": 146,
    "start_time": "2023-08-09T06:01:08.314Z"
   },
   {
    "duration": 4014,
    "start_time": "2023-08-09T06:01:08.461Z"
   },
   {
    "duration": 131,
    "start_time": "2023-08-09T06:01:12.477Z"
   },
   {
    "duration": 89,
    "start_time": "2023-08-09T06:01:12.610Z"
   },
   {
    "duration": 407,
    "start_time": "2023-08-09T06:01:12.701Z"
   },
   {
    "duration": 277,
    "start_time": "2023-08-09T06:01:13.110Z"
   },
   {
    "duration": 4149,
    "start_time": "2023-08-09T06:01:13.390Z"
   },
   {
    "duration": 18,
    "start_time": "2023-08-09T06:01:17.541Z"
   },
   {
    "duration": 151,
    "start_time": "2023-08-09T06:01:17.560Z"
   },
   {
    "duration": 445,
    "start_time": "2023-08-09T06:01:17.712Z"
   },
   {
    "duration": 7190,
    "start_time": "2023-08-09T06:01:18.158Z"
   },
   {
    "duration": 62,
    "start_time": "2023-08-09T06:01:25.350Z"
   },
   {
    "duration": 111,
    "start_time": "2023-08-09T06:01:25.414Z"
   },
   {
    "duration": 124,
    "start_time": "2023-08-09T06:01:25.599Z"
   },
   {
    "duration": 2214,
    "start_time": "2023-08-09T06:01:25.725Z"
   },
   {
    "duration": 69,
    "start_time": "2023-08-09T06:01:27.940Z"
   },
   {
    "duration": 355,
    "start_time": "2023-08-09T06:01:28.010Z"
   },
   {
    "duration": 153,
    "start_time": "2023-08-09T06:01:28.366Z"
   },
   {
    "duration": 138,
    "start_time": "2023-08-09T06:01:28.521Z"
   },
   {
    "duration": 6,
    "start_time": "2023-08-09T06:01:28.661Z"
   },
   {
    "duration": 297,
    "start_time": "2023-08-09T06:07:25.486Z"
   },
   {
    "duration": 145,
    "start_time": "2023-08-09T06:07:26.313Z"
   },
   {
    "duration": 4240,
    "start_time": "2023-08-09T06:11:37.605Z"
   },
   {
    "duration": 145,
    "start_time": "2023-08-09T06:11:41.847Z"
   },
   {
    "duration": 19,
    "start_time": "2023-08-09T06:14:10.212Z"
   },
   {
    "duration": 364,
    "start_time": "2023-08-09T06:14:10.641Z"
   },
   {
    "duration": 1474,
    "start_time": "2023-08-09T06:22:25.214Z"
   },
   {
    "duration": 55,
    "start_time": "2023-08-09T06:22:26.689Z"
   },
   {
    "duration": 15,
    "start_time": "2023-08-09T06:22:26.746Z"
   },
   {
    "duration": 11,
    "start_time": "2023-08-09T06:22:26.763Z"
   },
   {
    "duration": 7,
    "start_time": "2023-08-09T06:22:26.776Z"
   },
   {
    "duration": 1360,
    "start_time": "2023-08-09T06:22:26.784Z"
   },
   {
    "duration": 12,
    "start_time": "2023-08-09T06:22:28.146Z"
   },
   {
    "duration": 21,
    "start_time": "2023-08-09T06:22:28.159Z"
   },
   {
    "duration": 18,
    "start_time": "2023-08-09T06:22:28.182Z"
   },
   {
    "duration": 38,
    "start_time": "2023-08-09T06:22:28.203Z"
   },
   {
    "duration": 30,
    "start_time": "2023-08-09T06:22:28.243Z"
   },
   {
    "duration": 15,
    "start_time": "2023-08-09T06:22:28.275Z"
   },
   {
    "duration": 22,
    "start_time": "2023-08-09T06:22:28.292Z"
   },
   {
    "duration": 25,
    "start_time": "2023-08-09T06:22:28.316Z"
   },
   {
    "duration": 15,
    "start_time": "2023-08-09T06:22:28.343Z"
   },
   {
    "duration": 27,
    "start_time": "2023-08-09T06:22:28.360Z"
   },
   {
    "duration": 15,
    "start_time": "2023-08-09T06:22:28.389Z"
   },
   {
    "duration": 140,
    "start_time": "2023-08-09T06:22:28.406Z"
   },
   {
    "duration": 160,
    "start_time": "2023-08-09T06:22:28.548Z"
   },
   {
    "duration": 7,
    "start_time": "2023-08-09T06:22:28.711Z"
   },
   {
    "duration": 321,
    "start_time": "2023-08-09T06:22:28.719Z"
   },
   {
    "duration": 157,
    "start_time": "2023-08-09T06:22:29.042Z"
   },
   {
    "duration": 4520,
    "start_time": "2023-08-09T06:22:29.204Z"
   },
   {
    "duration": 138,
    "start_time": "2023-08-09T06:22:33.726Z"
   },
   {
    "duration": 44,
    "start_time": "2023-08-09T06:22:33.866Z"
   },
   {
    "duration": 366,
    "start_time": "2023-08-09T06:22:33.913Z"
   },
   {
    "duration": 304,
    "start_time": "2023-08-09T06:22:34.280Z"
   },
   {
    "duration": 157,
    "start_time": "2023-08-09T06:22:34.587Z"
   },
   {
    "duration": 4530,
    "start_time": "2023-08-09T06:22:34.746Z"
   },
   {
    "duration": 158,
    "start_time": "2023-08-09T06:22:39.277Z"
   },
   {
    "duration": 72,
    "start_time": "2023-08-09T06:22:39.437Z"
   },
   {
    "duration": 328,
    "start_time": "2023-08-09T06:22:39.511Z"
   },
   {
    "duration": 12,
    "start_time": "2023-08-09T06:22:39.841Z"
   },
   {
    "duration": 486,
    "start_time": "2023-08-09T06:22:39.855Z"
   },
   {
    "duration": 132,
    "start_time": "2023-08-09T06:22:40.343Z"
   },
   {
    "duration": 8056,
    "start_time": "2023-08-09T06:22:40.477Z"
   },
   {
    "duration": 147,
    "start_time": "2023-08-09T06:22:48.535Z"
   },
   {
    "duration": 49,
    "start_time": "2023-08-09T06:22:48.684Z"
   },
   {
    "duration": 404,
    "start_time": "2023-08-09T06:22:48.734Z"
   },
   {
    "duration": 12,
    "start_time": "2023-08-09T06:22:49.139Z"
   },
   {
    "duration": 147,
    "start_time": "2023-08-09T06:22:49.152Z"
   },
   {
    "duration": 151,
    "start_time": "2023-08-09T06:22:49.301Z"
   },
   {
    "duration": 2291,
    "start_time": "2023-08-09T06:22:49.454Z"
   },
   {
    "duration": 168,
    "start_time": "2023-08-09T06:22:51.746Z"
   },
   {
    "duration": 16,
    "start_time": "2023-08-09T06:22:51.916Z"
   },
   {
    "duration": 491,
    "start_time": "2023-08-09T06:22:51.933Z"
   },
   {
    "duration": 217,
    "start_time": "2023-08-09T06:22:52.426Z"
   },
   {
    "duration": 174,
    "start_time": "2023-08-09T06:22:52.644Z"
   },
   {
    "duration": 176,
    "start_time": "2023-08-09T06:22:52.820Z"
   },
   {
    "duration": 6,
    "start_time": "2023-08-09T06:22:52.999Z"
   },
   {
    "duration": 116,
    "start_time": "2023-08-09T06:27:08.757Z"
   },
   {
    "duration": 10,
    "start_time": "2023-08-09T06:27:50.222Z"
   },
   {
    "duration": 233,
    "start_time": "2023-08-09T06:28:57.528Z"
   },
   {
    "duration": 153,
    "start_time": "2023-08-09T06:28:58.500Z"
   },
   {
    "duration": 12437,
    "start_time": "2023-08-09T06:34:15.897Z"
   },
   {
    "duration": 157,
    "start_time": "2023-08-09T06:34:32.899Z"
   },
   {
    "duration": 33816,
    "start_time": "2023-08-09T06:34:45.761Z"
   },
   {
    "duration": 194,
    "start_time": "2023-08-09T06:35:25.996Z"
   },
   {
    "duration": 7277,
    "start_time": "2023-08-09T06:36:08.311Z"
   },
   {
    "duration": 136,
    "start_time": "2023-08-09T06:36:16.515Z"
   },
   {
    "duration": 234,
    "start_time": "2023-08-09T06:41:17.691Z"
   },
   {
    "duration": 139,
    "start_time": "2023-08-09T06:41:29.821Z"
   },
   {
    "duration": 128,
    "start_time": "2023-08-09T06:41:50.116Z"
   },
   {
    "duration": 215,
    "start_time": "2023-08-09T06:43:22.961Z"
   },
   {
    "duration": 233,
    "start_time": "2023-08-09T06:43:23.286Z"
   },
   {
    "duration": 115,
    "start_time": "2023-08-09T06:43:24.177Z"
   },
   {
    "duration": 5,
    "start_time": "2023-08-09T06:43:27.413Z"
   },
   {
    "duration": 223,
    "start_time": "2023-08-09T06:50:00.788Z"
   },
   {
    "duration": 142,
    "start_time": "2023-08-09T06:50:02.823Z"
   },
   {
    "duration": 225,
    "start_time": "2023-08-09T06:50:25.585Z"
   },
   {
    "duration": 133,
    "start_time": "2023-08-09T06:50:27.059Z"
   },
   {
    "duration": 2109,
    "start_time": "2023-08-09T06:51:15.737Z"
   },
   {
    "duration": 11830,
    "start_time": "2023-08-09T06:51:22.731Z"
   },
   {
    "duration": 140,
    "start_time": "2023-08-09T06:51:37.518Z"
   },
   {
    "duration": 32109,
    "start_time": "2023-08-09T06:51:43.900Z"
   },
   {
    "duration": 179,
    "start_time": "2023-08-09T06:52:16.016Z"
   },
   {
    "duration": 7317,
    "start_time": "2023-08-09T06:52:52.112Z"
   },
   {
    "duration": 159,
    "start_time": "2023-08-09T06:52:59.431Z"
   },
   {
    "duration": 4320,
    "start_time": "2023-08-09T07:01:51.493Z"
   },
   {
    "duration": 156,
    "start_time": "2023-08-09T07:01:55.816Z"
   },
   {
    "duration": 65,
    "start_time": "2023-08-09T11:57:07.375Z"
   },
   {
    "duration": 1816,
    "start_time": "2023-08-09T11:57:12.472Z"
   },
   {
    "duration": 116,
    "start_time": "2023-08-09T11:57:14.295Z"
   },
   {
    "duration": 22,
    "start_time": "2023-08-09T11:57:14.413Z"
   },
   {
    "duration": 16,
    "start_time": "2023-08-09T11:57:14.437Z"
   },
   {
    "duration": 10,
    "start_time": "2023-08-09T11:57:14.454Z"
   },
   {
    "duration": 1945,
    "start_time": "2023-08-09T11:57:14.465Z"
   },
   {
    "duration": 19,
    "start_time": "2023-08-09T11:57:16.411Z"
   },
   {
    "duration": 9,
    "start_time": "2023-08-09T11:57:16.433Z"
   },
   {
    "duration": 39,
    "start_time": "2023-08-09T11:57:16.443Z"
   },
   {
    "duration": 30,
    "start_time": "2023-08-09T11:57:16.484Z"
   },
   {
    "duration": 27,
    "start_time": "2023-08-09T11:57:16.516Z"
   },
   {
    "duration": 13,
    "start_time": "2023-08-09T11:57:16.545Z"
   },
   {
    "duration": 20,
    "start_time": "2023-08-09T11:57:16.560Z"
   },
   {
    "duration": 18,
    "start_time": "2023-08-09T11:57:16.582Z"
   },
   {
    "duration": 43,
    "start_time": "2023-08-09T11:57:16.601Z"
   },
   {
    "duration": 40,
    "start_time": "2023-08-09T11:57:16.646Z"
   },
   {
    "duration": 26,
    "start_time": "2023-08-09T11:57:16.687Z"
   },
   {
    "duration": 137,
    "start_time": "2023-08-09T11:57:16.718Z"
   },
   {
    "duration": 174,
    "start_time": "2023-08-09T11:57:16.857Z"
   },
   {
    "duration": 7,
    "start_time": "2023-08-09T11:57:17.033Z"
   },
   {
    "duration": 443,
    "start_time": "2023-08-09T11:57:17.042Z"
   },
   {
    "duration": 0,
    "start_time": "2023-08-09T11:57:17.491Z"
   },
   {
    "duration": 0,
    "start_time": "2023-08-09T11:57:17.497Z"
   },
   {
    "duration": 0,
    "start_time": "2023-08-09T11:57:17.502Z"
   },
   {
    "duration": 0,
    "start_time": "2023-08-09T11:57:17.503Z"
   },
   {
    "duration": 0,
    "start_time": "2023-08-09T11:57:17.503Z"
   },
   {
    "duration": 0,
    "start_time": "2023-08-09T11:57:17.504Z"
   },
   {
    "duration": 0,
    "start_time": "2023-08-09T11:57:17.505Z"
   },
   {
    "duration": 0,
    "start_time": "2023-08-09T11:57:17.506Z"
   },
   {
    "duration": 0,
    "start_time": "2023-08-09T11:57:17.507Z"
   },
   {
    "duration": 0,
    "start_time": "2023-08-09T11:57:17.509Z"
   },
   {
    "duration": 0,
    "start_time": "2023-08-09T11:57:17.518Z"
   },
   {
    "duration": 0,
    "start_time": "2023-08-09T11:57:17.518Z"
   },
   {
    "duration": 0,
    "start_time": "2023-08-09T11:57:17.519Z"
   },
   {
    "duration": 0,
    "start_time": "2023-08-09T11:57:17.520Z"
   },
   {
    "duration": 0,
    "start_time": "2023-08-09T11:57:17.531Z"
   },
   {
    "duration": 0,
    "start_time": "2023-08-09T11:57:17.535Z"
   },
   {
    "duration": 0,
    "start_time": "2023-08-09T11:57:17.536Z"
   },
   {
    "duration": 0,
    "start_time": "2023-08-09T11:57:17.537Z"
   },
   {
    "duration": 0,
    "start_time": "2023-08-09T11:57:17.538Z"
   },
   {
    "duration": 0,
    "start_time": "2023-08-09T11:57:17.539Z"
   },
   {
    "duration": 0,
    "start_time": "2023-08-09T11:57:17.540Z"
   },
   {
    "duration": 0,
    "start_time": "2023-08-09T11:57:17.541Z"
   },
   {
    "duration": 0,
    "start_time": "2023-08-09T11:57:17.542Z"
   },
   {
    "duration": 0,
    "start_time": "2023-08-09T11:57:17.543Z"
   },
   {
    "duration": 0,
    "start_time": "2023-08-09T11:57:17.544Z"
   },
   {
    "duration": 0,
    "start_time": "2023-08-09T11:57:17.545Z"
   },
   {
    "duration": 0,
    "start_time": "2023-08-09T11:57:17.546Z"
   },
   {
    "duration": 0,
    "start_time": "2023-08-09T11:57:17.547Z"
   },
   {
    "duration": 0,
    "start_time": "2023-08-09T11:57:17.548Z"
   },
   {
    "duration": 5,
    "start_time": "2023-08-09T11:58:41.975Z"
   },
   {
    "duration": 4,
    "start_time": "2023-08-09T11:59:45.530Z"
   },
   {
    "duration": 1548,
    "start_time": "2023-08-09T12:05:02.372Z"
   },
   {
    "duration": 22,
    "start_time": "2023-08-09T12:05:32.213Z"
   },
   {
    "duration": 1770,
    "start_time": "2023-08-09T12:05:38.634Z"
   },
   {
    "duration": 57,
    "start_time": "2023-08-09T12:05:40.408Z"
   },
   {
    "duration": 17,
    "start_time": "2023-08-09T12:05:40.467Z"
   },
   {
    "duration": 33,
    "start_time": "2023-08-09T12:05:40.487Z"
   },
   {
    "duration": 25,
    "start_time": "2023-08-09T12:05:40.523Z"
   },
   {
    "duration": 1693,
    "start_time": "2023-08-09T12:05:40.550Z"
   },
   {
    "duration": 15,
    "start_time": "2023-08-09T12:05:42.244Z"
   },
   {
    "duration": 14,
    "start_time": "2023-08-09T12:05:42.261Z"
   },
   {
    "duration": 42,
    "start_time": "2023-08-09T12:05:42.276Z"
   },
   {
    "duration": 26,
    "start_time": "2023-08-09T12:05:42.323Z"
   },
   {
    "duration": 31,
    "start_time": "2023-08-09T12:05:42.350Z"
   },
   {
    "duration": 38,
    "start_time": "2023-08-09T12:05:42.384Z"
   },
   {
    "duration": 41,
    "start_time": "2023-08-09T12:05:42.424Z"
   },
   {
    "duration": 43,
    "start_time": "2023-08-09T12:05:42.470Z"
   },
   {
    "duration": 20,
    "start_time": "2023-08-09T12:05:42.515Z"
   },
   {
    "duration": 40,
    "start_time": "2023-08-09T12:05:42.537Z"
   },
   {
    "duration": 36,
    "start_time": "2023-08-09T12:05:42.579Z"
   },
   {
    "duration": 156,
    "start_time": "2023-08-09T12:05:42.619Z"
   },
   {
    "duration": 176,
    "start_time": "2023-08-09T12:05:42.776Z"
   },
   {
    "duration": 7,
    "start_time": "2023-08-09T12:05:42.954Z"
   },
   {
    "duration": 456,
    "start_time": "2023-08-09T12:05:42.962Z"
   },
   {
    "duration": 0,
    "start_time": "2023-08-09T12:05:43.421Z"
   },
   {
    "duration": 0,
    "start_time": "2023-08-09T12:05:43.422Z"
   },
   {
    "duration": 0,
    "start_time": "2023-08-09T12:05:43.423Z"
   },
   {
    "duration": 0,
    "start_time": "2023-08-09T12:05:43.424Z"
   },
   {
    "duration": 0,
    "start_time": "2023-08-09T12:05:43.426Z"
   },
   {
    "duration": 0,
    "start_time": "2023-08-09T12:05:43.427Z"
   },
   {
    "duration": 0,
    "start_time": "2023-08-09T12:05:43.428Z"
   },
   {
    "duration": 0,
    "start_time": "2023-08-09T12:05:43.430Z"
   },
   {
    "duration": 0,
    "start_time": "2023-08-09T12:05:43.431Z"
   },
   {
    "duration": 0,
    "start_time": "2023-08-09T12:05:43.432Z"
   },
   {
    "duration": 0,
    "start_time": "2023-08-09T12:05:43.433Z"
   },
   {
    "duration": 0,
    "start_time": "2023-08-09T12:05:43.434Z"
   },
   {
    "duration": 0,
    "start_time": "2023-08-09T12:05:43.436Z"
   },
   {
    "duration": 0,
    "start_time": "2023-08-09T12:05:43.437Z"
   },
   {
    "duration": 0,
    "start_time": "2023-08-09T12:05:43.438Z"
   },
   {
    "duration": 0,
    "start_time": "2023-08-09T12:05:43.439Z"
   },
   {
    "duration": 0,
    "start_time": "2023-08-09T12:05:43.441Z"
   },
   {
    "duration": 0,
    "start_time": "2023-08-09T12:05:43.442Z"
   },
   {
    "duration": 0,
    "start_time": "2023-08-09T12:05:43.443Z"
   },
   {
    "duration": 0,
    "start_time": "2023-08-09T12:05:43.444Z"
   },
   {
    "duration": 0,
    "start_time": "2023-08-09T12:05:43.445Z"
   },
   {
    "duration": 0,
    "start_time": "2023-08-09T12:05:43.447Z"
   },
   {
    "duration": 0,
    "start_time": "2023-08-09T12:05:43.448Z"
   },
   {
    "duration": 0,
    "start_time": "2023-08-09T12:05:43.449Z"
   },
   {
    "duration": 0,
    "start_time": "2023-08-09T12:05:43.450Z"
   },
   {
    "duration": 0,
    "start_time": "2023-08-09T12:05:43.451Z"
   },
   {
    "duration": 0,
    "start_time": "2023-08-09T12:05:43.452Z"
   },
   {
    "duration": 0,
    "start_time": "2023-08-09T12:05:43.453Z"
   },
   {
    "duration": 0,
    "start_time": "2023-08-09T12:05:43.454Z"
   },
   {
    "duration": 309,
    "start_time": "2023-08-09T12:06:40.732Z"
   },
   {
    "duration": 171,
    "start_time": "2023-08-09T12:07:11.473Z"
   },
   {
    "duration": 303,
    "start_time": "2023-08-09T12:07:16.065Z"
   },
   {
    "duration": 1643,
    "start_time": "2023-08-09T12:11:31.409Z"
   },
   {
    "duration": 47,
    "start_time": "2023-08-09T12:11:33.054Z"
   },
   {
    "duration": 129,
    "start_time": "2023-08-09T12:11:33.102Z"
   },
   {
    "duration": 42,
    "start_time": "2023-08-09T12:11:33.233Z"
   },
   {
    "duration": 42,
    "start_time": "2023-08-09T12:11:33.277Z"
   },
   {
    "duration": 1524,
    "start_time": "2023-08-09T12:11:33.326Z"
   },
   {
    "duration": 15,
    "start_time": "2023-08-09T12:11:34.853Z"
   },
   {
    "duration": 109,
    "start_time": "2023-08-09T12:11:34.870Z"
   },
   {
    "duration": 14,
    "start_time": "2023-08-09T12:11:34.981Z"
   },
   {
    "duration": 18,
    "start_time": "2023-08-09T12:11:35.004Z"
   },
   {
    "duration": 36,
    "start_time": "2023-08-09T12:11:35.024Z"
   },
   {
    "duration": 19,
    "start_time": "2023-08-09T12:11:35.063Z"
   },
   {
    "duration": 60,
    "start_time": "2023-08-09T12:11:35.084Z"
   },
   {
    "duration": 35,
    "start_time": "2023-08-09T12:11:35.149Z"
   },
   {
    "duration": 15,
    "start_time": "2023-08-09T12:11:35.193Z"
   },
   {
    "duration": 97,
    "start_time": "2023-08-09T12:11:35.212Z"
   },
   {
    "duration": 23,
    "start_time": "2023-08-09T12:11:35.323Z"
   },
   {
    "duration": 150,
    "start_time": "2023-08-09T12:11:35.348Z"
   },
   {
    "duration": 149,
    "start_time": "2023-08-09T12:11:35.503Z"
   },
   {
    "duration": 0,
    "start_time": "2023-08-09T12:11:35.654Z"
   },
   {
    "duration": 0,
    "start_time": "2023-08-09T12:11:35.655Z"
   },
   {
    "duration": 0,
    "start_time": "2023-08-09T12:11:35.656Z"
   },
   {
    "duration": 0,
    "start_time": "2023-08-09T12:11:35.657Z"
   },
   {
    "duration": 0,
    "start_time": "2023-08-09T12:11:35.658Z"
   },
   {
    "duration": 1,
    "start_time": "2023-08-09T12:11:35.659Z"
   },
   {
    "duration": 0,
    "start_time": "2023-08-09T12:11:35.660Z"
   },
   {
    "duration": 0,
    "start_time": "2023-08-09T12:11:35.662Z"
   },
   {
    "duration": 0,
    "start_time": "2023-08-09T12:11:35.663Z"
   },
   {
    "duration": 0,
    "start_time": "2023-08-09T12:11:35.664Z"
   },
   {
    "duration": 0,
    "start_time": "2023-08-09T12:11:35.665Z"
   },
   {
    "duration": 0,
    "start_time": "2023-08-09T12:11:35.687Z"
   },
   {
    "duration": 0,
    "start_time": "2023-08-09T12:11:35.689Z"
   },
   {
    "duration": 0,
    "start_time": "2023-08-09T12:11:35.693Z"
   },
   {
    "duration": 0,
    "start_time": "2023-08-09T12:11:35.693Z"
   },
   {
    "duration": 0,
    "start_time": "2023-08-09T12:11:35.694Z"
   },
   {
    "duration": 0,
    "start_time": "2023-08-09T12:11:35.695Z"
   },
   {
    "duration": 0,
    "start_time": "2023-08-09T12:11:35.699Z"
   },
   {
    "duration": 0,
    "start_time": "2023-08-09T12:11:35.708Z"
   },
   {
    "duration": 0,
    "start_time": "2023-08-09T12:11:35.715Z"
   },
   {
    "duration": 0,
    "start_time": "2023-08-09T12:11:35.718Z"
   },
   {
    "duration": 0,
    "start_time": "2023-08-09T12:11:35.722Z"
   },
   {
    "duration": 0,
    "start_time": "2023-08-09T12:11:35.724Z"
   },
   {
    "duration": 0,
    "start_time": "2023-08-09T12:11:35.727Z"
   },
   {
    "duration": 0,
    "start_time": "2023-08-09T12:11:35.730Z"
   },
   {
    "duration": 0,
    "start_time": "2023-08-09T12:11:35.732Z"
   },
   {
    "duration": 0,
    "start_time": "2023-08-09T12:11:35.733Z"
   },
   {
    "duration": 0,
    "start_time": "2023-08-09T12:11:35.739Z"
   },
   {
    "duration": 0,
    "start_time": "2023-08-09T12:11:35.743Z"
   },
   {
    "duration": 0,
    "start_time": "2023-08-09T12:11:35.744Z"
   },
   {
    "duration": 0,
    "start_time": "2023-08-09T12:11:35.745Z"
   },
   {
    "duration": 1732,
    "start_time": "2023-08-09T12:18:55.476Z"
   },
   {
    "duration": 54,
    "start_time": "2023-08-09T12:18:57.210Z"
   },
   {
    "duration": 16,
    "start_time": "2023-08-09T12:18:57.266Z"
   },
   {
    "duration": 34,
    "start_time": "2023-08-09T12:18:57.284Z"
   },
   {
    "duration": 20,
    "start_time": "2023-08-09T12:18:57.322Z"
   },
   {
    "duration": 1675,
    "start_time": "2023-08-09T12:18:57.344Z"
   },
   {
    "duration": 15,
    "start_time": "2023-08-09T12:18:59.021Z"
   },
   {
    "duration": 13,
    "start_time": "2023-08-09T12:18:59.038Z"
   },
   {
    "duration": 22,
    "start_time": "2023-08-09T12:18:59.052Z"
   },
   {
    "duration": 23,
    "start_time": "2023-08-09T12:18:59.076Z"
   },
   {
    "duration": 37,
    "start_time": "2023-08-09T12:18:59.101Z"
   },
   {
    "duration": 16,
    "start_time": "2023-08-09T12:18:59.140Z"
   },
   {
    "duration": 14,
    "start_time": "2023-08-09T12:18:59.157Z"
   },
   {
    "duration": 35,
    "start_time": "2023-08-09T12:18:59.173Z"
   },
   {
    "duration": 28,
    "start_time": "2023-08-09T12:18:59.215Z"
   },
   {
    "duration": 25,
    "start_time": "2023-08-09T12:18:59.247Z"
   },
   {
    "duration": 12,
    "start_time": "2023-08-09T12:18:59.274Z"
   },
   {
    "duration": 179,
    "start_time": "2023-08-09T12:18:59.292Z"
   },
   {
    "duration": 183,
    "start_time": "2023-08-09T12:18:59.472Z"
   },
   {
    "duration": 8,
    "start_time": "2023-08-09T12:18:59.659Z"
   },
   {
    "duration": 350,
    "start_time": "2023-08-09T12:18:59.668Z"
   },
   {
    "duration": 199,
    "start_time": "2023-08-09T12:19:00.019Z"
   },
   {
    "duration": 4923,
    "start_time": "2023-08-09T12:19:00.220Z"
   },
   {
    "duration": 223,
    "start_time": "2023-08-09T12:19:05.146Z"
   },
   {
    "duration": 134,
    "start_time": "2023-08-09T12:19:05.371Z"
   },
   {
    "duration": 567,
    "start_time": "2023-08-09T12:19:05.515Z"
   },
   {
    "duration": 335,
    "start_time": "2023-08-09T12:19:06.085Z"
   },
   {
    "duration": 167,
    "start_time": "2023-08-09T12:19:06.428Z"
   },
   {
    "duration": 5050,
    "start_time": "2023-08-09T12:19:06.596Z"
   },
   {
    "duration": 189,
    "start_time": "2023-08-09T12:19:11.647Z"
   },
   {
    "duration": 85,
    "start_time": "2023-08-09T12:19:11.837Z"
   },
   {
    "duration": 390,
    "start_time": "2023-08-09T12:19:11.927Z"
   },
   {
    "duration": 22,
    "start_time": "2023-08-09T12:19:12.326Z"
   },
   {
    "duration": 568,
    "start_time": "2023-08-09T12:19:12.351Z"
   },
   {
    "duration": 186,
    "start_time": "2023-08-09T12:19:12.921Z"
   },
   {
    "duration": 9693,
    "start_time": "2023-08-09T12:19:13.110Z"
   },
   {
    "duration": 191,
    "start_time": "2023-08-09T12:19:22.804Z"
   },
   {
    "duration": 106,
    "start_time": "2023-08-09T12:19:23.004Z"
   },
   {
    "duration": 360,
    "start_time": "2023-08-09T12:19:23.113Z"
   },
   {
    "duration": 28,
    "start_time": "2023-08-09T12:19:23.475Z"
   },
   {
    "duration": 153,
    "start_time": "2023-08-09T12:19:23.512Z"
   },
   {
    "duration": 236,
    "start_time": "2023-08-09T12:19:23.667Z"
   },
   {
    "duration": 2964,
    "start_time": "2023-08-09T12:19:23.905Z"
   },
   {
    "duration": 207,
    "start_time": "2023-08-09T12:19:26.871Z"
   },
   {
    "duration": 114,
    "start_time": "2023-08-09T12:19:27.079Z"
   },
   {
    "duration": 319,
    "start_time": "2023-08-09T12:19:27.195Z"
   },
   {
    "duration": 241,
    "start_time": "2023-08-09T12:19:27.517Z"
   },
   {
    "duration": 201,
    "start_time": "2023-08-09T12:19:27.761Z"
   },
   {
    "duration": 177,
    "start_time": "2023-08-09T12:19:27.964Z"
   },
   {
    "duration": 6,
    "start_time": "2023-08-09T12:19:28.146Z"
   },
   {
    "duration": 11376,
    "start_time": "2023-08-09T12:22:12.724Z"
   },
   {
    "duration": 7,
    "start_time": "2023-08-09T12:29:30.130Z"
   },
   {
    "duration": 184,
    "start_time": "2023-08-09T12:31:44.078Z"
   },
   {
    "duration": 16,
    "start_time": "2023-08-09T12:32:06.852Z"
   },
   {
    "duration": 2576,
    "start_time": "2023-08-09T12:32:47.795Z"
   },
   {
    "duration": 1454,
    "start_time": "2023-08-09T12:32:50.374Z"
   },
   {
    "duration": 54,
    "start_time": "2023-08-09T12:32:51.831Z"
   },
   {
    "duration": 44,
    "start_time": "2023-08-09T12:32:51.887Z"
   },
   {
    "duration": 69,
    "start_time": "2023-08-09T12:32:51.936Z"
   },
   {
    "duration": 42,
    "start_time": "2023-08-09T12:32:52.012Z"
   },
   {
    "duration": 1717,
    "start_time": "2023-08-09T12:32:52.055Z"
   },
   {
    "duration": 40,
    "start_time": "2023-08-09T12:32:53.774Z"
   },
   {
    "duration": 76,
    "start_time": "2023-08-09T12:32:53.818Z"
   },
   {
    "duration": 125,
    "start_time": "2023-08-09T12:32:53.902Z"
   },
   {
    "duration": 40,
    "start_time": "2023-08-09T12:32:54.029Z"
   },
   {
    "duration": 65,
    "start_time": "2023-08-09T12:32:54.071Z"
   },
   {
    "duration": 30,
    "start_time": "2023-08-09T12:32:54.139Z"
   },
   {
    "duration": 26,
    "start_time": "2023-08-09T12:32:54.299Z"
   },
   {
    "duration": 32,
    "start_time": "2023-08-09T12:32:54.328Z"
   },
   {
    "duration": 73,
    "start_time": "2023-08-09T12:32:54.363Z"
   },
   {
    "duration": 204,
    "start_time": "2023-08-09T12:32:54.438Z"
   },
   {
    "duration": 0,
    "start_time": "2023-08-09T12:32:54.644Z"
   },
   {
    "duration": 0,
    "start_time": "2023-08-09T12:32:54.646Z"
   },
   {
    "duration": 0,
    "start_time": "2023-08-09T12:32:54.647Z"
   },
   {
    "duration": 0,
    "start_time": "2023-08-09T12:32:54.649Z"
   },
   {
    "duration": 0,
    "start_time": "2023-08-09T12:32:54.650Z"
   },
   {
    "duration": 0,
    "start_time": "2023-08-09T12:32:54.652Z"
   },
   {
    "duration": 0,
    "start_time": "2023-08-09T12:32:54.653Z"
   },
   {
    "duration": 0,
    "start_time": "2023-08-09T12:32:54.655Z"
   },
   {
    "duration": 0,
    "start_time": "2023-08-09T12:32:54.659Z"
   },
   {
    "duration": 0,
    "start_time": "2023-08-09T12:32:54.660Z"
   },
   {
    "duration": 0,
    "start_time": "2023-08-09T12:32:54.662Z"
   },
   {
    "duration": 0,
    "start_time": "2023-08-09T12:32:54.664Z"
   },
   {
    "duration": 0,
    "start_time": "2023-08-09T12:32:54.665Z"
   },
   {
    "duration": 0,
    "start_time": "2023-08-09T12:32:54.667Z"
   },
   {
    "duration": 0,
    "start_time": "2023-08-09T12:32:54.688Z"
   },
   {
    "duration": 0,
    "start_time": "2023-08-09T12:32:54.689Z"
   },
   {
    "duration": 0,
    "start_time": "2023-08-09T12:32:54.690Z"
   },
   {
    "duration": 0,
    "start_time": "2023-08-09T12:32:54.692Z"
   },
   {
    "duration": 0,
    "start_time": "2023-08-09T12:32:54.693Z"
   },
   {
    "duration": 0,
    "start_time": "2023-08-09T12:32:54.694Z"
   },
   {
    "duration": 0,
    "start_time": "2023-08-09T12:32:54.695Z"
   },
   {
    "duration": 0,
    "start_time": "2023-08-09T12:32:54.696Z"
   },
   {
    "duration": 0,
    "start_time": "2023-08-09T12:32:54.697Z"
   },
   {
    "duration": 0,
    "start_time": "2023-08-09T12:32:54.698Z"
   },
   {
    "duration": 0,
    "start_time": "2023-08-09T12:32:54.699Z"
   },
   {
    "duration": 0,
    "start_time": "2023-08-09T12:32:54.701Z"
   },
   {
    "duration": 0,
    "start_time": "2023-08-09T12:32:54.702Z"
   },
   {
    "duration": 0,
    "start_time": "2023-08-09T12:32:54.703Z"
   },
   {
    "duration": 0,
    "start_time": "2023-08-09T12:32:54.704Z"
   },
   {
    "duration": 0,
    "start_time": "2023-08-09T12:32:54.705Z"
   },
   {
    "duration": 0,
    "start_time": "2023-08-09T12:32:54.706Z"
   },
   {
    "duration": 0,
    "start_time": "2023-08-09T12:32:54.707Z"
   },
   {
    "duration": 0,
    "start_time": "2023-08-09T12:32:54.708Z"
   },
   {
    "duration": 0,
    "start_time": "2023-08-09T12:32:54.708Z"
   },
   {
    "duration": 0,
    "start_time": "2023-08-09T12:32:54.709Z"
   },
   {
    "duration": 23,
    "start_time": "2023-08-09T12:34:16.911Z"
   },
   {
    "duration": 35,
    "start_time": "2023-08-09T12:34:31.470Z"
   },
   {
    "duration": 67,
    "start_time": "2023-08-09T12:36:11.641Z"
   },
   {
    "duration": 5,
    "start_time": "2023-08-09T12:41:18.544Z"
   },
   {
    "duration": 10,
    "start_time": "2023-08-09T12:42:57.775Z"
   },
   {
    "duration": 117,
    "start_time": "2023-08-09T12:43:38.234Z"
   },
   {
    "duration": 163,
    "start_time": "2023-08-09T12:43:55.719Z"
   },
   {
    "duration": 44,
    "start_time": "2023-08-09T12:45:20.760Z"
   },
   {
    "duration": 18,
    "start_time": "2023-08-09T12:45:25.417Z"
   },
   {
    "duration": 2333,
    "start_time": "2023-08-09T12:46:27.892Z"
   },
   {
    "duration": 1398,
    "start_time": "2023-08-09T12:46:30.227Z"
   },
   {
    "duration": 43,
    "start_time": "2023-08-09T12:46:31.627Z"
   },
   {
    "duration": 36,
    "start_time": "2023-08-09T12:46:31.672Z"
   },
   {
    "duration": 15,
    "start_time": "2023-08-09T12:46:31.709Z"
   },
   {
    "duration": 17,
    "start_time": "2023-08-09T12:46:31.726Z"
   },
   {
    "duration": 1502,
    "start_time": "2023-08-09T12:46:31.745Z"
   },
   {
    "duration": 12,
    "start_time": "2023-08-09T12:46:33.248Z"
   },
   {
    "duration": 12,
    "start_time": "2023-08-09T12:46:33.262Z"
   },
   {
    "duration": 36,
    "start_time": "2023-08-09T12:46:33.277Z"
   },
   {
    "duration": 28,
    "start_time": "2023-08-09T12:46:33.315Z"
   },
   {
    "duration": 128,
    "start_time": "2023-08-09T12:46:33.345Z"
   },
   {
    "duration": 26,
    "start_time": "2023-08-09T12:46:33.475Z"
   },
   {
    "duration": 14,
    "start_time": "2023-08-09T12:46:33.509Z"
   },
   {
    "duration": 13,
    "start_time": "2023-08-09T12:46:33.524Z"
   },
   {
    "duration": 43,
    "start_time": "2023-08-09T12:46:33.538Z"
   },
   {
    "duration": 51,
    "start_time": "2023-08-09T12:46:33.583Z"
   },
   {
    "duration": 85,
    "start_time": "2023-08-09T12:46:33.635Z"
   },
   {
    "duration": 19,
    "start_time": "2023-08-09T12:46:33.721Z"
   },
   {
    "duration": 162,
    "start_time": "2023-08-09T12:46:33.742Z"
   },
   {
    "duration": 145,
    "start_time": "2023-08-09T12:46:33.906Z"
   },
   {
    "duration": 0,
    "start_time": "2023-08-09T12:46:34.054Z"
   },
   {
    "duration": 0,
    "start_time": "2023-08-09T12:46:34.055Z"
   },
   {
    "duration": 0,
    "start_time": "2023-08-09T12:46:34.056Z"
   },
   {
    "duration": 0,
    "start_time": "2023-08-09T12:46:34.057Z"
   },
   {
    "duration": 0,
    "start_time": "2023-08-09T12:46:34.058Z"
   },
   {
    "duration": 0,
    "start_time": "2023-08-09T12:46:34.059Z"
   },
   {
    "duration": 0,
    "start_time": "2023-08-09T12:46:34.061Z"
   },
   {
    "duration": 0,
    "start_time": "2023-08-09T12:46:34.062Z"
   },
   {
    "duration": 0,
    "start_time": "2023-08-09T12:46:34.063Z"
   },
   {
    "duration": 0,
    "start_time": "2023-08-09T12:46:34.064Z"
   },
   {
    "duration": 0,
    "start_time": "2023-08-09T12:46:34.065Z"
   },
   {
    "duration": 0,
    "start_time": "2023-08-09T12:46:34.091Z"
   },
   {
    "duration": 0,
    "start_time": "2023-08-09T12:46:34.094Z"
   },
   {
    "duration": 0,
    "start_time": "2023-08-09T12:46:34.097Z"
   },
   {
    "duration": 0,
    "start_time": "2023-08-09T12:46:34.099Z"
   },
   {
    "duration": 0,
    "start_time": "2023-08-09T12:46:34.101Z"
   },
   {
    "duration": 0,
    "start_time": "2023-08-09T12:46:34.105Z"
   },
   {
    "duration": 0,
    "start_time": "2023-08-09T12:46:34.109Z"
   },
   {
    "duration": 0,
    "start_time": "2023-08-09T12:46:34.113Z"
   },
   {
    "duration": 1,
    "start_time": "2023-08-09T12:46:34.115Z"
   },
   {
    "duration": 0,
    "start_time": "2023-08-09T12:46:34.117Z"
   },
   {
    "duration": 0,
    "start_time": "2023-08-09T12:46:34.122Z"
   },
   {
    "duration": 0,
    "start_time": "2023-08-09T12:46:34.124Z"
   },
   {
    "duration": 0,
    "start_time": "2023-08-09T12:46:34.125Z"
   },
   {
    "duration": 0,
    "start_time": "2023-08-09T12:46:34.126Z"
   },
   {
    "duration": 0,
    "start_time": "2023-08-09T12:46:34.128Z"
   },
   {
    "duration": 0,
    "start_time": "2023-08-09T12:46:34.129Z"
   },
   {
    "duration": 0,
    "start_time": "2023-08-09T12:46:34.130Z"
   },
   {
    "duration": 0,
    "start_time": "2023-08-09T12:46:34.132Z"
   },
   {
    "duration": 0,
    "start_time": "2023-08-09T12:46:34.133Z"
   },
   {
    "duration": 0,
    "start_time": "2023-08-09T12:46:34.135Z"
   },
   {
    "duration": 112,
    "start_time": "2023-08-09T12:47:49.534Z"
   },
   {
    "duration": 188,
    "start_time": "2023-08-09T12:48:12.776Z"
   },
   {
    "duration": 120,
    "start_time": "2023-08-09T12:48:27.039Z"
   },
   {
    "duration": 126,
    "start_time": "2023-08-09T12:49:03.069Z"
   },
   {
    "duration": 2391,
    "start_time": "2023-08-09T12:50:07.414Z"
   },
   {
    "duration": 1444,
    "start_time": "2023-08-09T12:50:09.807Z"
   },
   {
    "duration": 51,
    "start_time": "2023-08-09T12:50:11.253Z"
   },
   {
    "duration": 26,
    "start_time": "2023-08-09T12:50:11.310Z"
   },
   {
    "duration": 13,
    "start_time": "2023-08-09T12:50:11.338Z"
   },
   {
    "duration": 15,
    "start_time": "2023-08-09T12:50:11.353Z"
   },
   {
    "duration": 1596,
    "start_time": "2023-08-09T12:50:11.370Z"
   },
   {
    "duration": 23,
    "start_time": "2023-08-09T12:50:12.967Z"
   },
   {
    "duration": 5,
    "start_time": "2023-08-09T12:50:12.991Z"
   },
   {
    "duration": 19,
    "start_time": "2023-08-09T12:50:12.998Z"
   },
   {
    "duration": 24,
    "start_time": "2023-08-09T12:50:13.019Z"
   },
   {
    "duration": 28,
    "start_time": "2023-08-09T12:50:13.045Z"
   },
   {
    "duration": 28,
    "start_time": "2023-08-09T12:50:13.075Z"
   },
   {
    "duration": 24,
    "start_time": "2023-08-09T12:50:13.205Z"
   },
   {
    "duration": 3,
    "start_time": "2023-08-09T12:50:13.238Z"
   },
   {
    "duration": 31,
    "start_time": "2023-08-09T12:50:13.243Z"
   },
   {
    "duration": 48,
    "start_time": "2023-08-09T12:50:13.275Z"
   },
   {
    "duration": 48,
    "start_time": "2023-08-09T12:50:13.325Z"
   },
   {
    "duration": 23,
    "start_time": "2023-08-09T12:50:13.374Z"
   },
   {
    "duration": 172,
    "start_time": "2023-08-09T12:50:13.399Z"
   },
   {
    "duration": 6,
    "start_time": "2023-08-09T12:50:13.573Z"
   },
   {
    "duration": 166,
    "start_time": "2023-08-09T12:50:13.589Z"
   },
   {
    "duration": 0,
    "start_time": "2023-08-09T12:50:13.757Z"
   },
   {
    "duration": 0,
    "start_time": "2023-08-09T12:50:13.759Z"
   },
   {
    "duration": 0,
    "start_time": "2023-08-09T12:50:13.760Z"
   },
   {
    "duration": 0,
    "start_time": "2023-08-09T12:50:13.762Z"
   },
   {
    "duration": 0,
    "start_time": "2023-08-09T12:50:13.763Z"
   },
   {
    "duration": 0,
    "start_time": "2023-08-09T12:50:13.765Z"
   },
   {
    "duration": 0,
    "start_time": "2023-08-09T12:50:13.767Z"
   },
   {
    "duration": 0,
    "start_time": "2023-08-09T12:50:13.788Z"
   },
   {
    "duration": 0,
    "start_time": "2023-08-09T12:50:13.790Z"
   },
   {
    "duration": 0,
    "start_time": "2023-08-09T12:50:13.791Z"
   },
   {
    "duration": 0,
    "start_time": "2023-08-09T12:50:13.791Z"
   },
   {
    "duration": 0,
    "start_time": "2023-08-09T12:50:13.792Z"
   },
   {
    "duration": 0,
    "start_time": "2023-08-09T12:50:13.793Z"
   },
   {
    "duration": 0,
    "start_time": "2023-08-09T12:50:13.795Z"
   },
   {
    "duration": 0,
    "start_time": "2023-08-09T12:50:13.796Z"
   },
   {
    "duration": 0,
    "start_time": "2023-08-09T12:50:13.799Z"
   },
   {
    "duration": 0,
    "start_time": "2023-08-09T12:50:13.800Z"
   },
   {
    "duration": 0,
    "start_time": "2023-08-09T12:50:13.801Z"
   },
   {
    "duration": 0,
    "start_time": "2023-08-09T12:50:13.802Z"
   },
   {
    "duration": 0,
    "start_time": "2023-08-09T12:50:13.803Z"
   },
   {
    "duration": 0,
    "start_time": "2023-08-09T12:50:13.804Z"
   },
   {
    "duration": 0,
    "start_time": "2023-08-09T12:50:13.806Z"
   },
   {
    "duration": 0,
    "start_time": "2023-08-09T12:50:13.807Z"
   },
   {
    "duration": 0,
    "start_time": "2023-08-09T12:50:13.808Z"
   },
   {
    "duration": 0,
    "start_time": "2023-08-09T12:50:13.810Z"
   },
   {
    "duration": 0,
    "start_time": "2023-08-09T12:50:13.810Z"
   },
   {
    "duration": 0,
    "start_time": "2023-08-09T12:50:13.812Z"
   },
   {
    "duration": 1,
    "start_time": "2023-08-09T12:50:13.813Z"
   },
   {
    "duration": 0,
    "start_time": "2023-08-09T12:50:13.815Z"
   },
   {
    "duration": 2310,
    "start_time": "2023-08-09T12:51:37.716Z"
   },
   {
    "duration": 1266,
    "start_time": "2023-08-09T12:51:40.028Z"
   },
   {
    "duration": 48,
    "start_time": "2023-08-09T12:51:41.299Z"
   },
   {
    "duration": 18,
    "start_time": "2023-08-09T12:51:41.349Z"
   },
   {
    "duration": 16,
    "start_time": "2023-08-09T12:51:41.369Z"
   },
   {
    "duration": 20,
    "start_time": "2023-08-09T12:51:41.386Z"
   },
   {
    "duration": 1498,
    "start_time": "2023-08-09T12:51:41.408Z"
   },
   {
    "duration": 27,
    "start_time": "2023-08-09T12:51:42.910Z"
   },
   {
    "duration": 7,
    "start_time": "2023-08-09T12:51:42.938Z"
   },
   {
    "duration": 13,
    "start_time": "2023-08-09T12:51:42.947Z"
   },
   {
    "duration": 48,
    "start_time": "2023-08-09T12:51:42.962Z"
   },
   {
    "duration": 60,
    "start_time": "2023-08-09T12:51:43.012Z"
   },
   {
    "duration": 51,
    "start_time": "2023-08-09T12:51:43.074Z"
   },
   {
    "duration": 13,
    "start_time": "2023-08-09T12:51:43.226Z"
   },
   {
    "duration": 12,
    "start_time": "2023-08-09T12:51:43.241Z"
   },
   {
    "duration": 27,
    "start_time": "2023-08-09T12:51:43.255Z"
   },
   {
    "duration": 59,
    "start_time": "2023-08-09T12:51:43.283Z"
   },
   {
    "duration": 57,
    "start_time": "2023-08-09T12:51:43.344Z"
   },
   {
    "duration": 19,
    "start_time": "2023-08-09T12:51:43.402Z"
   },
   {
    "duration": 134,
    "start_time": "2023-08-09T12:51:43.422Z"
   },
   {
    "duration": 7,
    "start_time": "2023-08-09T12:51:43.558Z"
   },
   {
    "duration": 177,
    "start_time": "2023-08-09T12:51:43.567Z"
   },
   {
    "duration": 0,
    "start_time": "2023-08-09T12:51:43.746Z"
   },
   {
    "duration": 0,
    "start_time": "2023-08-09T12:51:43.748Z"
   },
   {
    "duration": 0,
    "start_time": "2023-08-09T12:51:43.749Z"
   },
   {
    "duration": 0,
    "start_time": "2023-08-09T12:51:43.750Z"
   },
   {
    "duration": 0,
    "start_time": "2023-08-09T12:51:43.751Z"
   },
   {
    "duration": 0,
    "start_time": "2023-08-09T12:51:43.752Z"
   },
   {
    "duration": 0,
    "start_time": "2023-08-09T12:51:43.754Z"
   },
   {
    "duration": 0,
    "start_time": "2023-08-09T12:51:43.755Z"
   },
   {
    "duration": 0,
    "start_time": "2023-08-09T12:51:43.756Z"
   },
   {
    "duration": 0,
    "start_time": "2023-08-09T12:51:43.758Z"
   },
   {
    "duration": 0,
    "start_time": "2023-08-09T12:51:43.759Z"
   },
   {
    "duration": 0,
    "start_time": "2023-08-09T12:51:43.760Z"
   },
   {
    "duration": 0,
    "start_time": "2023-08-09T12:51:43.761Z"
   },
   {
    "duration": 0,
    "start_time": "2023-08-09T12:51:43.787Z"
   },
   {
    "duration": 0,
    "start_time": "2023-08-09T12:51:43.788Z"
   },
   {
    "duration": 0,
    "start_time": "2023-08-09T12:51:43.788Z"
   },
   {
    "duration": 0,
    "start_time": "2023-08-09T12:51:43.789Z"
   },
   {
    "duration": 0,
    "start_time": "2023-08-09T12:51:43.790Z"
   },
   {
    "duration": 0,
    "start_time": "2023-08-09T12:51:43.791Z"
   },
   {
    "duration": 0,
    "start_time": "2023-08-09T12:51:43.792Z"
   },
   {
    "duration": 0,
    "start_time": "2023-08-09T12:51:43.792Z"
   },
   {
    "duration": 0,
    "start_time": "2023-08-09T12:51:43.793Z"
   },
   {
    "duration": 0,
    "start_time": "2023-08-09T12:51:43.794Z"
   },
   {
    "duration": 0,
    "start_time": "2023-08-09T12:51:43.795Z"
   },
   {
    "duration": 0,
    "start_time": "2023-08-09T12:51:43.795Z"
   },
   {
    "duration": 0,
    "start_time": "2023-08-09T12:51:43.796Z"
   },
   {
    "duration": 0,
    "start_time": "2023-08-09T12:51:43.797Z"
   },
   {
    "duration": 0,
    "start_time": "2023-08-09T12:51:43.798Z"
   },
   {
    "duration": 0,
    "start_time": "2023-08-09T12:51:43.799Z"
   },
   {
    "duration": 9,
    "start_time": "2023-08-09T12:59:44.220Z"
   },
   {
    "duration": 14,
    "start_time": "2023-08-09T13:01:08.177Z"
   },
   {
    "duration": 2776,
    "start_time": "2023-08-09T13:02:21.777Z"
   },
   {
    "duration": 1498,
    "start_time": "2023-08-09T13:02:24.555Z"
   },
   {
    "duration": 53,
    "start_time": "2023-08-09T13:02:26.055Z"
   },
   {
    "duration": 22,
    "start_time": "2023-08-09T13:02:26.111Z"
   },
   {
    "duration": 43,
    "start_time": "2023-08-09T13:02:26.135Z"
   },
   {
    "duration": 20,
    "start_time": "2023-08-09T13:02:26.180Z"
   },
   {
    "duration": 1545,
    "start_time": "2023-08-09T13:02:26.202Z"
   },
   {
    "duration": 14,
    "start_time": "2023-08-09T13:02:27.749Z"
   },
   {
    "duration": 15,
    "start_time": "2023-08-09T13:02:27.765Z"
   },
   {
    "duration": 14,
    "start_time": "2023-08-09T13:02:27.800Z"
   },
   {
    "duration": 38,
    "start_time": "2023-08-09T13:02:27.815Z"
   },
   {
    "duration": 152,
    "start_time": "2023-08-09T13:02:27.855Z"
   },
   {
    "duration": 22,
    "start_time": "2023-08-09T13:02:28.009Z"
   },
   {
    "duration": 32,
    "start_time": "2023-08-09T13:02:28.033Z"
   },
   {
    "duration": 19,
    "start_time": "2023-08-09T13:02:28.068Z"
   },
   {
    "duration": 23,
    "start_time": "2023-08-09T13:02:28.089Z"
   },
   {
    "duration": 22,
    "start_time": "2023-08-09T13:02:28.115Z"
   },
   {
    "duration": 30,
    "start_time": "2023-08-09T13:02:28.138Z"
   },
   {
    "duration": 38,
    "start_time": "2023-08-09T13:02:28.170Z"
   },
   {
    "duration": 45,
    "start_time": "2023-08-09T13:02:28.222Z"
   },
   {
    "duration": 13,
    "start_time": "2023-08-09T13:02:28.268Z"
   },
   {
    "duration": 168,
    "start_time": "2023-08-09T13:02:28.283Z"
   },
   {
    "duration": 8,
    "start_time": "2023-08-09T13:02:28.452Z"
   },
   {
    "duration": 57,
    "start_time": "2023-08-09T13:02:28.462Z"
   },
   {
    "duration": 186,
    "start_time": "2023-08-09T13:02:28.522Z"
   },
   {
    "duration": 0,
    "start_time": "2023-08-09T13:02:28.712Z"
   },
   {
    "duration": 0,
    "start_time": "2023-08-09T13:02:28.716Z"
   },
   {
    "duration": 0,
    "start_time": "2023-08-09T13:02:28.718Z"
   },
   {
    "duration": 0,
    "start_time": "2023-08-09T13:02:28.722Z"
   },
   {
    "duration": 0,
    "start_time": "2023-08-09T13:02:28.726Z"
   },
   {
    "duration": 0,
    "start_time": "2023-08-09T13:02:28.730Z"
   },
   {
    "duration": 0,
    "start_time": "2023-08-09T13:02:28.731Z"
   },
   {
    "duration": 0,
    "start_time": "2023-08-09T13:02:28.732Z"
   },
   {
    "duration": 0,
    "start_time": "2023-08-09T13:02:28.734Z"
   },
   {
    "duration": 0,
    "start_time": "2023-08-09T13:02:28.735Z"
   },
   {
    "duration": 0,
    "start_time": "2023-08-09T13:02:28.737Z"
   },
   {
    "duration": 0,
    "start_time": "2023-08-09T13:02:28.738Z"
   },
   {
    "duration": 0,
    "start_time": "2023-08-09T13:02:28.739Z"
   },
   {
    "duration": 0,
    "start_time": "2023-08-09T13:02:28.740Z"
   },
   {
    "duration": 0,
    "start_time": "2023-08-09T13:02:28.741Z"
   },
   {
    "duration": 0,
    "start_time": "2023-08-09T13:02:28.742Z"
   },
   {
    "duration": 0,
    "start_time": "2023-08-09T13:02:28.743Z"
   },
   {
    "duration": 0,
    "start_time": "2023-08-09T13:02:28.745Z"
   },
   {
    "duration": 0,
    "start_time": "2023-08-09T13:02:28.745Z"
   },
   {
    "duration": 0,
    "start_time": "2023-08-09T13:02:28.746Z"
   },
   {
    "duration": 0,
    "start_time": "2023-08-09T13:02:28.747Z"
   },
   {
    "duration": 0,
    "start_time": "2023-08-09T13:02:28.748Z"
   },
   {
    "duration": 0,
    "start_time": "2023-08-09T13:02:28.794Z"
   },
   {
    "duration": 0,
    "start_time": "2023-08-09T13:02:28.798Z"
   },
   {
    "duration": 0,
    "start_time": "2023-08-09T13:02:28.801Z"
   },
   {
    "duration": 0,
    "start_time": "2023-08-09T13:02:28.803Z"
   },
   {
    "duration": 0,
    "start_time": "2023-08-09T13:02:28.804Z"
   },
   {
    "duration": 0,
    "start_time": "2023-08-09T13:02:28.806Z"
   },
   {
    "duration": 0,
    "start_time": "2023-08-09T13:02:28.811Z"
   },
   {
    "duration": 2948,
    "start_time": "2023-08-09T13:03:43.184Z"
   },
   {
    "duration": 1572,
    "start_time": "2023-08-09T13:03:46.134Z"
   },
   {
    "duration": 57,
    "start_time": "2023-08-09T13:03:47.712Z"
   },
   {
    "duration": 25,
    "start_time": "2023-08-09T13:03:47.771Z"
   },
   {
    "duration": 30,
    "start_time": "2023-08-09T13:03:47.799Z"
   },
   {
    "duration": 10,
    "start_time": "2023-08-09T13:03:47.832Z"
   },
   {
    "duration": 1886,
    "start_time": "2023-08-09T13:03:47.845Z"
   },
   {
    "duration": 15,
    "start_time": "2023-08-09T13:03:49.733Z"
   },
   {
    "duration": 5,
    "start_time": "2023-08-09T13:03:49.751Z"
   },
   {
    "duration": 11,
    "start_time": "2023-08-09T13:03:49.759Z"
   },
   {
    "duration": 33,
    "start_time": "2023-08-09T13:03:49.771Z"
   },
   {
    "duration": 146,
    "start_time": "2023-08-09T13:03:49.807Z"
   },
   {
    "duration": 16,
    "start_time": "2023-08-09T13:03:49.955Z"
   },
   {
    "duration": 75,
    "start_time": "2023-08-09T13:03:49.973Z"
   },
   {
    "duration": 10,
    "start_time": "2023-08-09T13:03:50.050Z"
   },
   {
    "duration": 24,
    "start_time": "2023-08-09T13:03:50.061Z"
   },
   {
    "duration": 42,
    "start_time": "2023-08-09T13:03:50.087Z"
   },
   {
    "duration": 35,
    "start_time": "2023-08-09T13:03:50.132Z"
   },
   {
    "duration": 13,
    "start_time": "2023-08-09T13:03:50.169Z"
   },
   {
    "duration": 177,
    "start_time": "2023-08-09T13:03:50.184Z"
   },
   {
    "duration": 9,
    "start_time": "2023-08-09T13:03:50.363Z"
   },
   {
    "duration": 34,
    "start_time": "2023-08-09T13:03:50.374Z"
   },
   {
    "duration": 356,
    "start_time": "2023-08-09T13:03:50.429Z"
   },
   {
    "duration": 220,
    "start_time": "2023-08-09T13:03:50.787Z"
   },
   {
    "duration": 6195,
    "start_time": "2023-08-09T13:03:51.015Z"
   },
   {
    "duration": 187,
    "start_time": "2023-08-09T13:03:57.222Z"
   },
   {
    "duration": 82,
    "start_time": "2023-08-09T13:03:57.412Z"
   },
   {
    "duration": 392,
    "start_time": "2023-08-09T13:03:57.500Z"
   },
   {
    "duration": 381,
    "start_time": "2023-08-09T13:03:57.895Z"
   },
   {
    "duration": 251,
    "start_time": "2023-08-09T13:03:58.277Z"
   },
   {
    "duration": 5544,
    "start_time": "2023-08-09T13:03:58.531Z"
   },
   {
    "duration": 203,
    "start_time": "2023-08-09T13:04:04.077Z"
   },
   {
    "duration": 47,
    "start_time": "2023-08-09T13:04:04.292Z"
   },
   {
    "duration": 457,
    "start_time": "2023-08-09T13:04:04.341Z"
   },
   {
    "duration": 26,
    "start_time": "2023-08-09T13:04:04.800Z"
   },
   {
    "duration": 694,
    "start_time": "2023-08-09T13:04:04.828Z"
   },
   {
    "duration": 192,
    "start_time": "2023-08-09T13:04:05.526Z"
   },
   {
    "duration": 10149,
    "start_time": "2023-08-09T13:04:05.721Z"
   },
   {
    "duration": 209,
    "start_time": "2023-08-09T13:04:15.872Z"
   },
   {
    "duration": 106,
    "start_time": "2023-08-09T13:04:16.083Z"
   },
   {
    "duration": 375,
    "start_time": "2023-08-09T13:04:16.191Z"
   },
   {
    "duration": 19,
    "start_time": "2023-08-09T13:04:16.568Z"
   },
   {
    "duration": 208,
    "start_time": "2023-08-09T13:04:16.589Z"
   },
   {
    "duration": 325,
    "start_time": "2023-08-09T13:04:16.799Z"
   },
   {
    "duration": 3382,
    "start_time": "2023-08-09T13:04:17.126Z"
   },
   {
    "duration": 226,
    "start_time": "2023-08-09T13:04:20.510Z"
   },
   {
    "duration": 50,
    "start_time": "2023-08-09T13:04:20.738Z"
   },
   {
    "duration": 403,
    "start_time": "2023-08-09T13:04:20.795Z"
   },
   {
    "duration": 277,
    "start_time": "2023-08-09T13:04:21.200Z"
   },
   {
    "duration": 193,
    "start_time": "2023-08-09T13:04:21.478Z"
   },
   {
    "duration": 194,
    "start_time": "2023-08-09T13:04:21.673Z"
   },
   {
    "duration": 7,
    "start_time": "2023-08-09T13:04:21.869Z"
   },
   {
    "duration": 15,
    "start_time": "2023-08-09T13:04:46.106Z"
   },
   {
    "duration": 7,
    "start_time": "2023-08-09T13:05:36.406Z"
   },
   {
    "duration": 8,
    "start_time": "2023-08-09T13:05:52.245Z"
   },
   {
    "duration": 303,
    "start_time": "2023-08-09T13:11:23.728Z"
   },
   {
    "duration": 326,
    "start_time": "2023-08-09T13:11:47.099Z"
   },
   {
    "duration": 339,
    "start_time": "2023-08-09T13:12:26.340Z"
   },
   {
    "duration": 381,
    "start_time": "2023-08-09T13:22:10.770Z"
   },
   {
    "duration": 380,
    "start_time": "2023-08-09T13:30:19.248Z"
   },
   {
    "duration": 267,
    "start_time": "2023-08-09T13:32:48.268Z"
   },
   {
    "duration": 6529,
    "start_time": "2023-08-09T13:33:52.050Z"
   },
   {
    "duration": 371,
    "start_time": "2023-08-09T13:35:24.435Z"
   },
   {
    "duration": 167,
    "start_time": "2023-08-09T13:36:21.862Z"
   },
   {
    "duration": 4767,
    "start_time": "2023-08-09T13:37:08.818Z"
   },
   {
    "duration": 206,
    "start_time": "2023-08-09T13:37:19.284Z"
   },
   {
    "duration": 460,
    "start_time": "2023-08-09T13:42:21.262Z"
   },
   {
    "duration": 261,
    "start_time": "2023-08-09T13:42:27.708Z"
   },
   {
    "duration": 425,
    "start_time": "2023-08-09T13:43:28.308Z"
   },
   {
    "duration": 5863,
    "start_time": "2023-08-09T13:44:24.026Z"
   },
   {
    "duration": 7144,
    "start_time": "2023-08-09T13:45:35.556Z"
   },
   {
    "duration": 161,
    "start_time": "2023-08-09T13:46:41.910Z"
   },
   {
    "duration": 255,
    "start_time": "2023-08-09T13:46:46.890Z"
   },
   {
    "duration": 321,
    "start_time": "2023-08-09T13:47:56.504Z"
   },
   {
    "duration": 96,
    "start_time": "2023-08-09T13:48:18.293Z"
   },
   {
    "duration": 62,
    "start_time": "2023-08-09T13:48:31.246Z"
   },
   {
    "duration": 374,
    "start_time": "2023-08-09T13:48:45.612Z"
   },
   {
    "duration": 763,
    "start_time": "2023-08-09T13:48:51.504Z"
   },
   {
    "duration": 530,
    "start_time": "2023-08-09T13:49:00.006Z"
   },
   {
    "duration": 423,
    "start_time": "2023-08-09T13:49:08.294Z"
   },
   {
    "duration": 448,
    "start_time": "2023-08-09T13:49:13.062Z"
   },
   {
    "duration": 191,
    "start_time": "2023-08-09T13:49:31.414Z"
   },
   {
    "duration": 29,
    "start_time": "2023-08-09T13:49:48.683Z"
   },
   {
    "duration": 495,
    "start_time": "2023-08-09T13:49:52.456Z"
   },
   {
    "duration": 333,
    "start_time": "2023-08-09T13:50:10.748Z"
   },
   {
    "duration": 500,
    "start_time": "2023-08-09T13:50:15.750Z"
   },
   {
    "duration": 477,
    "start_time": "2023-08-09T13:50:19.709Z"
   },
   {
    "duration": 438,
    "start_time": "2023-08-09T13:50:23.158Z"
   },
   {
    "duration": 4440,
    "start_time": "2023-08-09T13:52:24.583Z"
   },
   {
    "duration": 0,
    "start_time": "2023-08-09T13:52:29.037Z"
   },
   {
    "duration": 0,
    "start_time": "2023-08-09T13:52:29.047Z"
   },
   {
    "duration": 0,
    "start_time": "2023-08-09T13:52:29.057Z"
   },
   {
    "duration": 0,
    "start_time": "2023-08-09T13:52:29.065Z"
   },
   {
    "duration": 0,
    "start_time": "2023-08-09T13:52:29.082Z"
   },
   {
    "duration": 0,
    "start_time": "2023-08-09T13:52:29.090Z"
   },
   {
    "duration": 0,
    "start_time": "2023-08-09T13:52:29.092Z"
   },
   {
    "duration": 0,
    "start_time": "2023-08-09T13:52:29.095Z"
   },
   {
    "duration": 0,
    "start_time": "2023-08-09T13:52:29.102Z"
   },
   {
    "duration": 0,
    "start_time": "2023-08-09T13:52:29.105Z"
   },
   {
    "duration": 0,
    "start_time": "2023-08-09T13:52:29.107Z"
   },
   {
    "duration": 0,
    "start_time": "2023-08-09T13:52:29.112Z"
   },
   {
    "duration": 0,
    "start_time": "2023-08-09T13:52:29.120Z"
   },
   {
    "duration": 0,
    "start_time": "2023-08-09T13:52:29.122Z"
   },
   {
    "duration": 0,
    "start_time": "2023-08-09T13:52:29.126Z"
   },
   {
    "duration": 0,
    "start_time": "2023-08-09T13:52:29.131Z"
   },
   {
    "duration": 0,
    "start_time": "2023-08-09T13:52:29.132Z"
   },
   {
    "duration": 0,
    "start_time": "2023-08-09T13:52:29.139Z"
   },
   {
    "duration": 0,
    "start_time": "2023-08-09T13:52:29.141Z"
   },
   {
    "duration": 0,
    "start_time": "2023-08-09T13:52:29.150Z"
   },
   {
    "duration": 0,
    "start_time": "2023-08-09T13:52:29.155Z"
   },
   {
    "duration": 0,
    "start_time": "2023-08-09T13:52:29.157Z"
   },
   {
    "duration": 0,
    "start_time": "2023-08-09T13:52:29.158Z"
   },
   {
    "duration": 0,
    "start_time": "2023-08-09T13:52:29.159Z"
   },
   {
    "duration": 0,
    "start_time": "2023-08-09T13:52:29.186Z"
   },
   {
    "duration": 0,
    "start_time": "2023-08-09T13:52:29.189Z"
   },
   {
    "duration": 0,
    "start_time": "2023-08-09T13:52:29.198Z"
   },
   {
    "duration": 0,
    "start_time": "2023-08-09T13:52:29.204Z"
   },
   {
    "duration": 0,
    "start_time": "2023-08-09T13:52:29.210Z"
   },
   {
    "duration": 0,
    "start_time": "2023-08-09T13:52:29.225Z"
   },
   {
    "duration": 1,
    "start_time": "2023-08-09T13:52:29.226Z"
   },
   {
    "duration": 0,
    "start_time": "2023-08-09T13:52:29.228Z"
   },
   {
    "duration": 0,
    "start_time": "2023-08-09T13:52:29.234Z"
   },
   {
    "duration": 0,
    "start_time": "2023-08-09T13:52:29.235Z"
   },
   {
    "duration": 0,
    "start_time": "2023-08-09T13:52:29.236Z"
   },
   {
    "duration": 0,
    "start_time": "2023-08-09T13:52:29.237Z"
   },
   {
    "duration": 0,
    "start_time": "2023-08-09T13:52:29.238Z"
   },
   {
    "duration": 0,
    "start_time": "2023-08-09T13:52:29.239Z"
   },
   {
    "duration": 0,
    "start_time": "2023-08-09T13:52:29.240Z"
   },
   {
    "duration": 0,
    "start_time": "2023-08-09T13:52:29.242Z"
   },
   {
    "duration": 0,
    "start_time": "2023-08-09T13:52:29.244Z"
   },
   {
    "duration": 0,
    "start_time": "2023-08-09T13:52:29.247Z"
   },
   {
    "duration": 0,
    "start_time": "2023-08-09T13:52:29.249Z"
   },
   {
    "duration": 0,
    "start_time": "2023-08-09T13:52:29.249Z"
   },
   {
    "duration": 0,
    "start_time": "2023-08-09T13:52:29.259Z"
   },
   {
    "duration": 0,
    "start_time": "2023-08-09T13:52:29.261Z"
   },
   {
    "duration": 0,
    "start_time": "2023-08-09T13:52:29.264Z"
   },
   {
    "duration": 0,
    "start_time": "2023-08-09T13:52:29.270Z"
   },
   {
    "duration": 0,
    "start_time": "2023-08-09T13:52:29.272Z"
   },
   {
    "duration": 0,
    "start_time": "2023-08-09T13:52:29.275Z"
   },
   {
    "duration": 0,
    "start_time": "2023-08-09T13:52:29.281Z"
   },
   {
    "duration": 0,
    "start_time": "2023-08-09T13:52:29.283Z"
   },
   {
    "duration": 1968,
    "start_time": "2023-08-09T13:53:12.204Z"
   },
   {
    "duration": 3742,
    "start_time": "2023-08-09T13:53:18.752Z"
   },
   {
    "duration": 2009,
    "start_time": "2023-08-09T13:53:22.497Z"
   },
   {
    "duration": 70,
    "start_time": "2023-08-09T13:53:24.513Z"
   },
   {
    "duration": 27,
    "start_time": "2023-08-09T13:53:24.585Z"
   },
   {
    "duration": 87,
    "start_time": "2023-08-09T13:53:24.621Z"
   },
   {
    "duration": 54,
    "start_time": "2023-08-09T13:53:24.712Z"
   },
   {
    "duration": 2316,
    "start_time": "2023-08-09T13:53:24.775Z"
   },
   {
    "duration": 25,
    "start_time": "2023-08-09T13:53:27.101Z"
   },
   {
    "duration": 32,
    "start_time": "2023-08-09T13:53:27.135Z"
   },
   {
    "duration": 16,
    "start_time": "2023-08-09T13:53:27.175Z"
   },
   {
    "duration": 37,
    "start_time": "2023-08-09T13:53:27.197Z"
   },
   {
    "duration": 220,
    "start_time": "2023-08-09T13:53:27.248Z"
   },
   {
    "duration": 56,
    "start_time": "2023-08-09T13:53:27.474Z"
   },
   {
    "duration": 54,
    "start_time": "2023-08-09T13:53:27.538Z"
   },
   {
    "duration": 43,
    "start_time": "2023-08-09T13:53:27.604Z"
   },
   {
    "duration": 52,
    "start_time": "2023-08-09T13:53:27.655Z"
   },
   {
    "duration": 55,
    "start_time": "2023-08-09T13:53:27.710Z"
   },
   {
    "duration": 70,
    "start_time": "2023-08-09T13:53:27.771Z"
   },
   {
    "duration": 29,
    "start_time": "2023-08-09T13:53:27.849Z"
   },
   {
    "duration": 336,
    "start_time": "2023-08-09T13:53:27.886Z"
   },
   {
    "duration": 35,
    "start_time": "2023-08-09T13:53:28.231Z"
   },
   {
    "duration": 26,
    "start_time": "2023-08-09T13:53:28.273Z"
   },
   {
    "duration": 55,
    "start_time": "2023-08-09T13:53:28.301Z"
   },
   {
    "duration": 442,
    "start_time": "2023-08-09T13:53:28.359Z"
   },
   {
    "duration": 259,
    "start_time": "2023-08-09T13:53:28.804Z"
   },
   {
    "duration": 6233,
    "start_time": "2023-08-09T13:53:29.068Z"
   },
   {
    "duration": 264,
    "start_time": "2023-08-09T13:53:35.305Z"
   },
   {
    "duration": 35,
    "start_time": "2023-08-09T13:53:35.574Z"
   },
   {
    "duration": 587,
    "start_time": "2023-08-09T13:53:35.612Z"
   },
   {
    "duration": 405,
    "start_time": "2023-08-09T13:53:36.201Z"
   },
   {
    "duration": 229,
    "start_time": "2023-08-09T13:53:36.612Z"
   },
   {
    "duration": 6573,
    "start_time": "2023-08-09T13:53:36.846Z"
   },
   {
    "duration": 279,
    "start_time": "2023-08-09T13:53:43.429Z"
   },
   {
    "duration": 90,
    "start_time": "2023-08-09T13:53:43.713Z"
   },
   {
    "duration": 430,
    "start_time": "2023-08-09T13:53:43.816Z"
   },
   {
    "duration": 23,
    "start_time": "2023-08-09T13:53:44.251Z"
   },
   {
    "duration": 684,
    "start_time": "2023-08-09T13:53:44.281Z"
   },
   {
    "duration": 208,
    "start_time": "2023-08-09T13:53:44.970Z"
   },
   {
    "duration": 11758,
    "start_time": "2023-08-09T13:53:45.182Z"
   },
   {
    "duration": 233,
    "start_time": "2023-08-09T13:53:56.943Z"
   },
   {
    "duration": 77,
    "start_time": "2023-08-09T13:53:57.178Z"
   },
   {
    "duration": 472,
    "start_time": "2023-08-09T13:53:57.257Z"
   },
   {
    "duration": 22,
    "start_time": "2023-08-09T13:53:57.739Z"
   },
   {
    "duration": 235,
    "start_time": "2023-08-09T13:53:57.765Z"
   },
   {
    "duration": 343,
    "start_time": "2023-08-09T13:53:58.002Z"
   },
   {
    "duration": 3489,
    "start_time": "2023-08-09T13:53:58.349Z"
   },
   {
    "duration": 258,
    "start_time": "2023-08-09T13:54:01.840Z"
   },
   {
    "duration": 159,
    "start_time": "2023-08-09T13:54:02.104Z"
   },
   {
    "duration": 464,
    "start_time": "2023-08-09T13:54:02.296Z"
   },
   {
    "duration": 328,
    "start_time": "2023-08-09T13:54:02.766Z"
   },
   {
    "duration": 259,
    "start_time": "2023-08-09T13:54:03.100Z"
   },
   {
    "duration": 245,
    "start_time": "2023-08-09T13:54:03.364Z"
   },
   {
    "duration": 10,
    "start_time": "2023-08-09T13:54:03.614Z"
   },
   {
    "duration": 6275,
    "start_time": "2023-08-09T13:54:58.864Z"
   },
   {
    "duration": 12,
    "start_time": "2023-08-09T13:56:07.771Z"
   },
   {
    "duration": 4254,
    "start_time": "2023-08-09T14:20:08.622Z"
   },
   {
    "duration": 13,
    "start_time": "2023-08-09T14:20:30.040Z"
   },
   {
    "duration": 263,
    "start_time": "2023-08-09T14:20:39.314Z"
   },
   {
    "duration": 217,
    "start_time": "2023-08-09T14:22:21.412Z"
   },
   {
    "duration": 690,
    "start_time": "2023-08-09T14:23:15.541Z"
   },
   {
    "duration": 271,
    "start_time": "2023-08-09T14:23:22.105Z"
   },
   {
    "duration": 86,
    "start_time": "2023-08-09T14:25:50.499Z"
   },
   {
    "duration": 1029,
    "start_time": "2023-08-09T14:26:05.616Z"
   },
   {
    "duration": 968,
    "start_time": "2023-08-09T14:26:50.402Z"
   },
   {
    "duration": 286,
    "start_time": "2023-08-09T14:26:51.380Z"
   },
   {
    "duration": 13599,
    "start_time": "2023-08-09T14:29:12.310Z"
   },
   {
    "duration": 489,
    "start_time": "2023-08-09T14:29:25.911Z"
   },
   {
    "duration": 168,
    "start_time": "2023-08-09T14:32:41.638Z"
   },
   {
    "duration": 733,
    "start_time": "2023-08-09T14:32:44.138Z"
   },
   {
    "duration": 36,
    "start_time": "2023-08-09T14:33:47.473Z"
   },
   {
    "duration": 380,
    "start_time": "2023-08-09T14:34:16.921Z"
   },
   {
    "duration": 275,
    "start_time": "2023-08-09T14:35:32.678Z"
   },
   {
    "duration": 272,
    "start_time": "2023-08-09T14:35:34.133Z"
   },
   {
    "duration": 4179,
    "start_time": "2023-08-09T14:36:10.446Z"
   },
   {
    "duration": 220,
    "start_time": "2023-08-09T14:36:14.627Z"
   },
   {
    "duration": 100,
    "start_time": "2023-08-09T14:37:15.508Z"
   },
   {
    "duration": 402,
    "start_time": "2023-08-09T14:37:17.510Z"
   },
   {
    "duration": 17,
    "start_time": "2023-08-09T14:48:07.439Z"
   },
   {
    "duration": 299,
    "start_time": "2023-08-09T14:48:07.990Z"
   },
   {
    "duration": 826,
    "start_time": "2023-08-09T14:48:38.890Z"
   },
   {
    "duration": 10092,
    "start_time": "2023-08-09T14:50:50.595Z"
   },
   {
    "duration": 345,
    "start_time": "2023-08-09T14:51:00.699Z"
   },
   {
    "duration": 318,
    "start_time": "2023-08-09T14:59:04.529Z"
   },
   {
    "duration": 250,
    "start_time": "2023-08-09T14:59:07.663Z"
   },
   {
    "duration": 350,
    "start_time": "2023-08-09T14:59:30.605Z"
   },
   {
    "duration": 289,
    "start_time": "2023-08-09T14:59:32.105Z"
   },
   {
    "duration": 302,
    "start_time": "2023-08-09T14:59:56.537Z"
   },
   {
    "duration": 322,
    "start_time": "2023-08-09T15:01:59.763Z"
   },
   {
    "duration": 231,
    "start_time": "2023-08-09T15:02:00.940Z"
   },
   {
    "duration": 87,
    "start_time": "2023-08-09T15:04:29.211Z"
   },
   {
    "duration": 28034,
    "start_time": "2023-08-09T15:06:37.633Z"
   },
   {
    "duration": 6672,
    "start_time": "2023-08-09T15:08:02.124Z"
   },
   {
    "duration": 8177,
    "start_time": "2023-08-09T15:13:38.171Z"
   },
   {
    "duration": 217,
    "start_time": "2023-08-09T15:13:50.289Z"
   },
   {
    "duration": 408,
    "start_time": "2023-08-09T15:14:31.785Z"
   },
   {
    "duration": 214,
    "start_time": "2023-08-09T15:14:32.953Z"
   },
   {
    "duration": 220,
    "start_time": "2023-08-09T15:15:09.622Z"
   },
   {
    "duration": 3614,
    "start_time": "2023-08-09T15:15:16.017Z"
   },
   {
    "duration": 33878,
    "start_time": "2023-08-09T15:17:07.070Z"
   },
   {
    "duration": 5959,
    "start_time": "2023-08-09T15:18:13.047Z"
   },
   {
    "duration": 251,
    "start_time": "2023-08-09T15:18:19.862Z"
   },
   {
    "duration": 36033,
    "start_time": "2023-08-09T15:19:39.024Z"
   },
   {
    "duration": 3621,
    "start_time": "2023-08-09T15:20:42.308Z"
   },
   {
    "duration": 535,
    "start_time": "2023-08-09T15:22:29.104Z"
   },
   {
    "duration": 263,
    "start_time": "2023-08-09T15:22:32.448Z"
   },
   {
    "duration": 188,
    "start_time": "2023-08-09T15:25:19.286Z"
   },
   {
    "duration": 7,
    "start_time": "2023-08-09T15:25:29.718Z"
   },
   {
    "duration": 77,
    "start_time": "2023-08-09T15:34:35.506Z"
   },
   {
    "duration": 9298,
    "start_time": "2023-08-09T16:51:39.378Z"
   },
   {
    "duration": 1602,
    "start_time": "2023-08-09T16:51:48.679Z"
   },
   {
    "duration": 89,
    "start_time": "2023-08-09T16:51:50.283Z"
   },
   {
    "duration": 19,
    "start_time": "2023-08-09T16:51:50.375Z"
   },
   {
    "duration": 25,
    "start_time": "2023-08-09T16:51:50.396Z"
   },
   {
    "duration": 25,
    "start_time": "2023-08-09T16:51:50.423Z"
   },
   {
    "duration": 1523,
    "start_time": "2023-08-09T16:51:50.450Z"
   },
   {
    "duration": 13,
    "start_time": "2023-08-09T16:51:51.975Z"
   },
   {
    "duration": 25,
    "start_time": "2023-08-09T16:51:51.990Z"
   },
   {
    "duration": 14,
    "start_time": "2023-08-09T16:51:52.017Z"
   },
   {
    "duration": 18,
    "start_time": "2023-08-09T16:51:52.033Z"
   },
   {
    "duration": 55,
    "start_time": "2023-08-09T16:51:52.053Z"
   },
   {
    "duration": 15,
    "start_time": "2023-08-09T16:51:52.110Z"
   },
   {
    "duration": 15,
    "start_time": "2023-08-09T16:51:52.231Z"
   },
   {
    "duration": 33,
    "start_time": "2023-08-09T16:51:52.249Z"
   },
   {
    "duration": 52,
    "start_time": "2023-08-09T16:51:52.284Z"
   },
   {
    "duration": 35,
    "start_time": "2023-08-09T16:51:52.338Z"
   },
   {
    "duration": 35,
    "start_time": "2023-08-09T16:51:52.375Z"
   },
   {
    "duration": 14,
    "start_time": "2023-08-09T16:51:52.412Z"
   },
   {
    "duration": 143,
    "start_time": "2023-08-09T16:51:52.428Z"
   },
   {
    "duration": 10,
    "start_time": "2023-08-09T16:51:52.572Z"
   },
   {
    "duration": 13,
    "start_time": "2023-08-09T16:51:52.583Z"
   },
   {
    "duration": 27,
    "start_time": "2023-08-09T16:51:52.598Z"
   },
   {
    "duration": 295,
    "start_time": "2023-08-09T16:51:52.627Z"
   },
   {
    "duration": 167,
    "start_time": "2023-08-09T16:51:52.924Z"
   },
   {
    "duration": 4555,
    "start_time": "2023-08-09T16:51:53.094Z"
   },
   {
    "duration": 169,
    "start_time": "2023-08-09T16:51:57.651Z"
   },
   {
    "duration": 43,
    "start_time": "2023-08-09T16:51:57.822Z"
   },
   {
    "duration": 433,
    "start_time": "2023-08-09T16:51:57.867Z"
   },
   {
    "duration": 325,
    "start_time": "2023-08-09T16:51:58.302Z"
   },
   {
    "duration": 169,
    "start_time": "2023-08-09T16:51:58.630Z"
   },
   {
    "duration": 4715,
    "start_time": "2023-08-09T16:51:58.801Z"
   },
   {
    "duration": 223,
    "start_time": "2023-08-09T16:52:03.518Z"
   },
   {
    "duration": 38,
    "start_time": "2023-08-09T16:52:03.744Z"
   },
   {
    "duration": 455,
    "start_time": "2023-08-09T16:52:03.860Z"
   },
   {
    "duration": 11,
    "start_time": "2023-08-09T16:52:04.317Z"
   },
   {
    "duration": 140,
    "start_time": "2023-08-09T16:52:04.330Z"
   },
   {
    "duration": 375,
    "start_time": "2023-08-09T16:52:04.472Z"
   },
   {
    "duration": 182,
    "start_time": "2023-08-09T16:52:04.848Z"
   }
  ],
  "kernelspec": {
   "display_name": "Python 3 (ipykernel)",
   "language": "python",
   "name": "python3"
  },
  "language_info": {
   "codemirror_mode": {
    "name": "ipython",
    "version": 3
   },
   "file_extension": ".py",
   "mimetype": "text/x-python",
   "name": "python",
   "nbconvert_exporter": "python",
   "pygments_lexer": "ipython3",
   "version": "3.9.16"
  },
  "toc": {
   "base_numbering": 1,
   "nav_menu": {
    "height": "491.4px",
    "width": "210.8px"
   },
   "number_sections": true,
   "sideBar": true,
   "skip_h1_title": true,
   "title_cell": "Содержание",
   "title_sidebar": "Contents",
   "toc_cell": true,
   "toc_position": {},
   "toc_section_display": true,
   "toc_window_display": false
  }
 },
 "nbformat": 4,
 "nbformat_minor": 2
}
