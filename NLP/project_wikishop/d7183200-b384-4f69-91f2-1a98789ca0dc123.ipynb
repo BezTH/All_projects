{
 "cells": [
  {
   "cell_type": "markdown",
   "metadata": {},
   "source": [
    "# Проект для «Викишоп»"
   ]
  },
  {
   "cell_type": "markdown",
   "metadata": {},
   "source": [
    "Интернет-магазин «Викишоп» запускает новый сервис. Теперь пользователи могут редактировать и дополнять описания товаров, как в вики-сообществах. То есть клиенты предлагают свои правки и комментируют изменения других. Магазину нужен инструмент, который будет искать токсичные комментарии и отправлять их на модерацию. \n",
    "\n",
    "Обучите модель классифицировать комментарии на позитивные и негативные. В вашем распоряжении набор данных с разметкой о токсичности правок.\n",
    "\n",
    "Постройте модель со значением метрики качества *F1* не меньше 0.75. \n",
    "\n",
    "**Инструкция по выполнению проекта**\n",
    "\n",
    "1. Загрузите и подготовьте данные.\n",
    "2. Обучите разные модели. \n",
    "3. Сделайте выводы.\n",
    "\n",
    "Для выполнения проекта применять *BERT* необязательно, но вы можете попробовать.\n",
    "\n",
    "**Описание данных**\n",
    "\n",
    "Данные находятся в файле `toxic_comments.csv`. Столбец *text* в нём содержит текст комментария, а *toxic* — целевой признак."
   ]
  },
  {
   "cell_type": "markdown",
   "metadata": {},
   "source": [
    "## Ход проекта"
   ]
  },
  {
   "cell_type": "markdown",
   "metadata": {},
   "source": [
    "* **Знакомство с данными**\n",
    "* **Предообработка данных**\n",
    "* **Подготовка данных**\n",
    "* **Обучение моделей**\n",
    "* **Тестирование лучшей модели**\n",
    "* **Вывод**"
   ]
  },
  {
   "cell_type": "markdown",
   "metadata": {},
   "source": [
    "## Знакомство с данными."
   ]
  },
  {
   "cell_type": "code",
   "execution_count": 7,
   "metadata": {},
   "outputs": [
    {
     "name": "stderr",
     "output_type": "stream",
     "text": [
      "[nltk_data] Downloading package stopwords to\n",
      "[nltk_data]     C:\\Users\\bezth\\AppData\\Roaming\\nltk_data...\n",
      "[nltk_data]   Package stopwords is already up-to-date!\n"
     ]
    }
   ],
   "source": [
    "import pandas as pd\n",
    "import warnings\n",
    "import numpy as np\n",
    "import os\n",
    "import nltk\n",
    "import re\n",
    "import lightgbm as lgb\n",
    "import seaborn as sns\n",
    "import spacy\n",
    "import matplotlib.pyplot as plt\n",
    "\n",
    "from PIL import Image, ImageDraw\n",
    "from wordcloud import WordCloud\n",
    "from nltk.probability import FreqDist\n",
    "from sklearn.dummy import DummyClassifier\n",
    "from sklearn.model_selection import train_test_split, GridSearchCV\n",
    "from sklearn.linear_model import LogisticRegression\n",
    "from nltk.corpus import stopwords as nltk_stopwords\n",
    "from sklearn.feature_extraction.text import TfidfVectorizer\n",
    "from sklearn.metrics import f1_score, make_scorer\n",
    "from sklearn.linear_model import LogisticRegression, PassiveAggressiveClassifier\n",
    "from lightgbm import LGBMClassifier\n",
    "from sklearn.ensemble import RandomForestClassifier\n",
    "from nltk.tokenize import sent_tokenize, word_tokenize\n",
    "from sklearn.pipeline import Pipeline\n",
    "\n",
    "\n",
    "nlp = spacy.load(\"en_core_web_sm\")\n",
    "nltk.download('stopwords')\n",
    "stopwords = set(nltk_stopwords.words('english'))\n",
    "warnings.filterwarnings(\"ignore\")\n",
    "pd.set_option('display.max_columns', None)\n",
    "f1 = make_scorer(f1_score , average='macro')"
   ]
  },
  {
   "cell_type": "code",
   "execution_count": 8,
   "metadata": {},
   "outputs": [
    {
     "name": "stdout",
     "output_type": "stream",
     "text": [
      "complete\n"
     ]
    }
   ],
   "source": [
    "pth1 = 'C:/Users/bezth/datasets/toxic_comments.csv'\n",
    "pth2 = '/datasets/toxic_comments.csv'\n",
    "\n",
    "if os.path.exists(pth1):\n",
    "    data = pd.read_csv(pth1, index_col=0)\n",
    "    print('complete')\n",
    "elif os.path.exists(pth2):\n",
    "    data = pd.read_csv(pth2, index_col=0)\n",
    "else:\n",
    "    print('Something is wrong')"
   ]
  },
  {
   "cell_type": "code",
   "execution_count": 10,
   "metadata": {},
   "outputs": [
    {
     "name": "stdout",
     "output_type": "stream",
     "text": [
      "<class 'pandas.core.frame.DataFrame'>\n",
      "Int64Index: 159292 entries, 0 to 159450\n",
      "Data columns (total 2 columns):\n",
      " #   Column  Non-Null Count   Dtype \n",
      "---  ------  --------------   ----- \n",
      " 0   text    159292 non-null  object\n",
      " 1   toxic   159292 non-null  int64 \n",
      "dtypes: int64(1), object(1)\n",
      "memory usage: 3.6+ MB\n",
      "None\n",
      "\n",
      "(159292, 2)\n",
      "\n",
      "text     0\n",
      "toxic    0\n",
      "dtype: int64\n",
      "\n",
      "0\n",
      "\n"
     ]
    },
    {
     "data": {
      "text/html": [
       "<div>\n",
       "<style scoped>\n",
       "    .dataframe tbody tr th:only-of-type {\n",
       "        vertical-align: middle;\n",
       "    }\n",
       "\n",
       "    .dataframe tbody tr th {\n",
       "        vertical-align: top;\n",
       "    }\n",
       "\n",
       "    .dataframe thead th {\n",
       "        text-align: right;\n",
       "    }\n",
       "</style>\n",
       "<table border=\"1\" class=\"dataframe\">\n",
       "  <thead>\n",
       "    <tr style=\"text-align: right;\">\n",
       "      <th></th>\n",
       "      <th>text</th>\n",
       "      <th>toxic</th>\n",
       "    </tr>\n",
       "  </thead>\n",
       "  <tbody>\n",
       "    <tr>\n",
       "      <th>0</th>\n",
       "      <td>Explanation\\nWhy the edits made under my usern...</td>\n",
       "      <td>0</td>\n",
       "    </tr>\n",
       "    <tr>\n",
       "      <th>1</th>\n",
       "      <td>D'aww! He matches this background colour I'm s...</td>\n",
       "      <td>0</td>\n",
       "    </tr>\n",
       "    <tr>\n",
       "      <th>2</th>\n",
       "      <td>Hey man, I'm really not trying to edit war. It...</td>\n",
       "      <td>0</td>\n",
       "    </tr>\n",
       "    <tr>\n",
       "      <th>3</th>\n",
       "      <td>\"\\nMore\\nI can't make any real suggestions on ...</td>\n",
       "      <td>0</td>\n",
       "    </tr>\n",
       "    <tr>\n",
       "      <th>4</th>\n",
       "      <td>You, sir, are my hero. Any chance you remember...</td>\n",
       "      <td>0</td>\n",
       "    </tr>\n",
       "  </tbody>\n",
       "</table>\n",
       "</div>"
      ],
      "text/plain": [
       "                                                text  toxic\n",
       "0  Explanation\\nWhy the edits made under my usern...      0\n",
       "1  D'aww! He matches this background colour I'm s...      0\n",
       "2  Hey man, I'm really not trying to edit war. It...      0\n",
       "3  \"\\nMore\\nI can't make any real suggestions on ...      0\n",
       "4  You, sir, are my hero. Any chance you remember...      0"
      ]
     },
     "metadata": {},
     "output_type": "display_data"
    }
   ],
   "source": [
    "print(data.info())\n",
    "print()\n",
    "print(data.shape)\n",
    "print()\n",
    "print(data.isna().sum())\n",
    "print()\n",
    "print(data.duplicated().sum())\n",
    "print()\n",
    "display(data.head())"
   ]
  },
  {
   "cell_type": "markdown",
   "metadata": {},
   "source": [
    "**Всё в порядке, только один лишний столбец повторяющий индексацию.**"
   ]
  },
  {
   "cell_type": "code",
   "execution_count": 11,
   "metadata": {},
   "outputs": [
    {
     "data": {
      "text/html": [
       "<div>\n",
       "<style scoped>\n",
       "    .dataframe tbody tr th:only-of-type {\n",
       "        vertical-align: middle;\n",
       "    }\n",
       "\n",
       "    .dataframe tbody tr th {\n",
       "        vertical-align: top;\n",
       "    }\n",
       "\n",
       "    .dataframe thead th {\n",
       "        text-align: right;\n",
       "    }\n",
       "</style>\n",
       "<table border=\"1\" class=\"dataframe\">\n",
       "  <thead>\n",
       "    <tr style=\"text-align: right;\">\n",
       "      <th></th>\n",
       "      <th>text</th>\n",
       "      <th>toxic</th>\n",
       "    </tr>\n",
       "  </thead>\n",
       "  <tbody>\n",
       "    <tr>\n",
       "      <th>159446</th>\n",
       "      <td>\":::::And for the second time of asking, when ...</td>\n",
       "      <td>0</td>\n",
       "    </tr>\n",
       "    <tr>\n",
       "      <th>159447</th>\n",
       "      <td>You should be ashamed of yourself \\n\\nThat is ...</td>\n",
       "      <td>0</td>\n",
       "    </tr>\n",
       "    <tr>\n",
       "      <th>159448</th>\n",
       "      <td>Spitzer \\n\\nUmm, theres no actual article for ...</td>\n",
       "      <td>0</td>\n",
       "    </tr>\n",
       "    <tr>\n",
       "      <th>159449</th>\n",
       "      <td>And it looks like it was actually you who put ...</td>\n",
       "      <td>0</td>\n",
       "    </tr>\n",
       "    <tr>\n",
       "      <th>159450</th>\n",
       "      <td>\"\\nAnd ... I really don't think you understand...</td>\n",
       "      <td>0</td>\n",
       "    </tr>\n",
       "  </tbody>\n",
       "</table>\n",
       "</div>"
      ],
      "text/plain": [
       "                                                     text  toxic\n",
       "159446  \":::::And for the second time of asking, when ...      0\n",
       "159447  You should be ashamed of yourself \\n\\nThat is ...      0\n",
       "159448  Spitzer \\n\\nUmm, theres no actual article for ...      0\n",
       "159449  And it looks like it was actually you who put ...      0\n",
       "159450  \"\\nAnd ... I really don't think you understand...      0"
      ]
     },
     "execution_count": 11,
     "metadata": {},
     "output_type": "execute_result"
    }
   ],
   "source": [
    "data.tail()"
   ]
  },
  {
   "cell_type": "markdown",
   "metadata": {},
   "source": [
    "**Интересно то что индексация второго столбца где-то сбивается**"
   ]
  },
  {
   "cell_type": "code",
   "execution_count": 12,
   "metadata": {},
   "outputs": [
    {
     "data": {
      "text/plain": [
       "16186"
      ]
     },
     "execution_count": 12,
     "metadata": {},
     "output_type": "execute_result"
    }
   ],
   "source": [
    "data['toxic'].sum()"
   ]
  },
  {
   "cell_type": "code",
   "execution_count": 13,
   "metadata": {},
   "outputs": [
    {
     "data": {
      "text/plain": [
       "0.10161213369158527"
      ]
     },
     "execution_count": 13,
     "metadata": {},
     "output_type": "execute_result"
    }
   ],
   "source": [
    "data['toxic'].sum()/data['toxic'].count()"
   ]
  },
  {
   "cell_type": "markdown",
   "metadata": {},
   "source": [
    "**10% твитов - токсичны.**"
   ]
  },
  {
   "cell_type": "code",
   "execution_count": 14,
   "metadata": {},
   "outputs": [
    {
     "data": {
      "image/png": "[encoded data removed]",
      "text/plain": [
       "<Figure size 640x480 with 1 Axes>"
      ]
     },
     "metadata": {},
     "output_type": "display_data"
    }
   ],
   "source": [
    "class_frequency = data['toxic'].value_counts(normalize=True)\n",
    "class_frequency.plot(kind='bar', title='Соотношение классов в целевом признаке', xlabel='Класс', ylabel='Количество');"
   ]
  },
  {
   "cell_type": "markdown",
   "metadata": {},
   "source": [
    "### Промежуточный вывод"
   ]
  },
  {
   "cell_type": "markdown",
   "metadata": {},
   "source": [
    "* **С данными полный порядок, пропусков нет, дубликатов нет, тип данных, назвния колонок - порядок.**\n",
    "* **Данные содердат 160тысяч строк и 3 столбца.**\n",
    "* **В таблице лишний столбец с битыми индексами.**"
   ]
  },
  {
   "cell_type": "markdown",
   "metadata": {},
   "source": [
    "## Подготовка"
   ]
  },
  {
   "cell_type": "code",
   "execution_count": 16,
   "metadata": {},
   "outputs": [
    {
     "data": {
      "text/plain": [
       "0    Explanation\\nWhy the edits made under my usern...\n",
       "1    D'aww! He matches this background colour I'm s...\n",
       "2    Hey man, I'm really not trying to edit war. It...\n",
       "3    \"\\nMore\\nI can't make any real suggestions on ...\n",
       "4    You, sir, are my hero. Any chance you remember...\n",
       "5    \"\\n\\nCongratulations from me as well, use the ...\n",
       "6         COCKSUCKER BEFORE YOU PISS AROUND ON MY WORK\n",
       "7    Your vandalism to the Matt Shirvington article...\n",
       "8    Sorry if the word 'nonsense' was offensive to ...\n",
       "9    alignment on this subject and which are contra...\n",
       "Name: text, dtype: object"
      ]
     },
     "execution_count": 16,
     "metadata": {},
     "output_type": "execute_result"
    }
   ],
   "source": [
    "data['text'].head(10)"
   ]
  },
  {
   "cell_type": "code",
   "execution_count": 17,
   "metadata": {},
   "outputs": [
    {
     "name": "stdout",
     "output_type": "stream",
     "text": [
      "CPU times: total: 18min 3s\n",
      "Wall time: 20min 35s\n"
     ]
    }
   ],
   "source": [
    "%%time\n",
    "lemm_text = []\n",
    "for i in data['text']:\n",
    "    text = re.sub(r'[^a-zA-Z]', \" \", i.lower()).split()    \n",
    "    wordsFiltered = [w for w in text if w not in stopwords]\n",
    "    text = ' '.join(wordsFiltered)\n",
    "    doc = nlp(text)\n",
    "    \n",
    "    lemm_text.append(\" \".join([token.lemma_ for token in doc]))"
   ]
  },
  {
   "cell_type": "code",
   "execution_count": 18,
   "metadata": {},
   "outputs": [
    {
     "data": {
      "text/plain": [
       "0    explanation edit make username hardcore metall...\n",
       "1    aww match background colour seemingly stuck th...\n",
       "2    hey man really try edit war guy constantly rem...\n",
       "3    make real suggestion improvement wonder sectio...\n",
       "4                        sir hero chance remember page\n",
       "5               congratulation well use tool well talk\n",
       "6                          cocksucker piss around work\n",
       "7    vandalism matt shirvington article reverted pl...\n",
       "8    sorry word nonsense offensive anyway intend wr...\n",
       "9                 alignment subject contrary dulithgow\n",
       "Name: text, dtype: object"
      ]
     },
     "execution_count": 18,
     "metadata": {},
     "output_type": "execute_result"
    }
   ],
   "source": [
    "data['text'] = lemm_text    \n",
    "data['text'].head(10)"
   ]
  },
  {
   "cell_type": "code",
   "execution_count": 19,
   "metadata": {},
   "outputs": [
    {
     "data": {
      "text/html": [
       "<div>\n",
       "<style scoped>\n",
       "    .dataframe tbody tr th:only-of-type {\n",
       "        vertical-align: middle;\n",
       "    }\n",
       "\n",
       "    .dataframe tbody tr th {\n",
       "        vertical-align: top;\n",
       "    }\n",
       "\n",
       "    .dataframe thead th {\n",
       "        text-align: right;\n",
       "    }\n",
       "</style>\n",
       "<table border=\"1\" class=\"dataframe\">\n",
       "  <thead>\n",
       "    <tr style=\"text-align: right;\">\n",
       "      <th></th>\n",
       "      <th>text</th>\n",
       "      <th>toxic</th>\n",
       "    </tr>\n",
       "  </thead>\n",
       "  <tbody>\n",
       "    <tr>\n",
       "      <th>0</th>\n",
       "      <td>explanation edit make username hardcore metall...</td>\n",
       "      <td>0</td>\n",
       "    </tr>\n",
       "    <tr>\n",
       "      <th>1</th>\n",
       "      <td>aww match background colour seemingly stuck th...</td>\n",
       "      <td>0</td>\n",
       "    </tr>\n",
       "    <tr>\n",
       "      <th>2</th>\n",
       "      <td>hey man really try edit war guy constantly rem...</td>\n",
       "      <td>0</td>\n",
       "    </tr>\n",
       "    <tr>\n",
       "      <th>3</th>\n",
       "      <td>make real suggestion improvement wonder sectio...</td>\n",
       "      <td>0</td>\n",
       "    </tr>\n",
       "    <tr>\n",
       "      <th>4</th>\n",
       "      <td>sir hero chance remember page</td>\n",
       "      <td>0</td>\n",
       "    </tr>\n",
       "  </tbody>\n",
       "</table>\n",
       "</div>"
      ],
      "text/plain": [
       "                                                text  toxic\n",
       "0  explanation edit make username hardcore metall...      0\n",
       "1  aww match background colour seemingly stuck th...      0\n",
       "2  hey man really try edit war guy constantly rem...      0\n",
       "3  make real suggestion improvement wonder sectio...      0\n",
       "4                      sir hero chance remember page      0"
      ]
     },
     "execution_count": 19,
     "metadata": {},
     "output_type": "execute_result"
    }
   ],
   "source": [
    "data.head()"
   ]
  },
  {
   "cell_type": "code",
   "execution_count": 20,
   "metadata": {},
   "outputs": [],
   "source": [
    "neg = data.loc[data['toxic'] == 1]\n",
    "pos = data.loc[data['toxic'] == 0]"
   ]
  },
  {
   "cell_type": "code",
   "execution_count": 21,
   "metadata": {},
   "outputs": [],
   "source": [
    "neg_txt = (' '.join(neg['text'].tolist())).split()\n",
    "pos_txt = (' '.join(pos['text'].tolist())).split()"
   ]
  },
  {
   "cell_type": "code",
   "execution_count": 22,
   "metadata": {},
   "outputs": [],
   "source": [
    "fdist = FreqDist(neg_txt)\n",
    "fdist_p = FreqDist(pos_txt)\n"
   ]
  },
  {
   "cell_type": "code",
   "execution_count": 23,
   "metadata": {},
   "outputs": [
    {
     "data": {
      "text/plain": [
       "[('fuck', 10563),\n",
       " ('suck', 4813),\n",
       " ('go', 4190),\n",
       " ('like', 3946),\n",
       " ('wikipedia', 3929),\n",
       " ('shit', 3719),\n",
       " ('nigger', 3421),\n",
       " ('get', 3335),\n",
       " ('ass', 3031),\n",
       " ('fucking', 2962),\n",
       " ('u', 2946),\n",
       " ('page', 2857),\n",
       " ('hate', 2774),\n",
       " ('faggot', 2704),\n",
       " ('know', 2692),\n",
       " ('bitch', 2339),\n",
       " ('gay', 2289),\n",
       " ('edit', 2262),\n",
       " ('die', 2240),\n",
       " ('make', 2218)]"
      ]
     },
     "execution_count": 23,
     "metadata": {},
     "output_type": "execute_result"
    }
   ],
   "source": [
    "fdist.most_common(20)"
   ]
  },
  {
   "cell_type": "code",
   "execution_count": 25,
   "metadata": {},
   "outputs": [
    {
     "data": {
      "image/png": "[encoded data removed]",
      "text/plain": [
       "<Figure size 1000x500 with 1 Axes>"
      ]
     },
     "metadata": {},
     "output_type": "display_data"
    }
   ],
   "source": [
    "plt.figure(figsize=(10, 5))\n",
    "plt.title('Частота слов в негативных твитах')\n",
    "fdist.plot(30, cumulative=False);"
   ]
  },
  {
   "cell_type": "code",
   "execution_count": 26,
   "metadata": {},
   "outputs": [
    {
     "data": {
      "text/plain": [
       "[('article', 71994),\n",
       " ('page', 54233),\n",
       " ('wikipedia', 44648),\n",
       " ('talk', 38439),\n",
       " ('edit', 34256),\n",
       " ('use', 31923),\n",
       " ('one', 28881),\n",
       " ('please', 28786),\n",
       " ('would', 28168),\n",
       " ('make', 28057),\n",
       " ('see', 25637),\n",
       " ('like', 24692),\n",
       " ('say', 23336),\n",
       " ('source', 22893),\n",
       " ('think', 22856),\n",
       " ('thank', 22584),\n",
       " ('know', 21382),\n",
       " ('also', 19750),\n",
       " ('well', 19388),\n",
       " ('add', 19082)]"
      ]
     },
     "execution_count": 26,
     "metadata": {},
     "output_type": "execute_result"
    }
   ],
   "source": [
    "fdist_p.most_common(20)"
   ]
  },
  {
   "cell_type": "code",
   "execution_count": 27,
   "metadata": {},
   "outputs": [
    {
     "data": {
      "image/png": "[encoded data removed]",
      "text/plain": [
       "<Figure size 1000x500 with 1 Axes>"
      ]
     },
     "metadata": {},
     "output_type": "display_data"
    }
   ],
   "source": [
    "plt.figure(figsize=(10, 5))\n",
    "plt.title('Частота слов в позитивных твитах')\n",
    "fdist_p.plot(30, cumulative=False);"
   ]
  },
  {
   "cell_type": "markdown",
   "metadata": {},
   "source": [
    "### Разделение выборки, TF-IDF векторизация."
   ]
  },
  {
   "cell_type": "code",
   "execution_count": 29,
   "metadata": {},
   "outputs": [],
   "source": [
    "features = data.drop('toxic', axis=1)\n",
    "target = data['toxic']"
   ]
  },
  {
   "cell_type": "code",
   "execution_count": 30,
   "metadata": {},
   "outputs": [],
   "source": [
    "X_train, X_test, y_train, y_test = train_test_split(features, target, test_size=0.25, random_state=42, stratify=target)"
   ]
  },
  {
   "cell_type": "code",
   "execution_count": 31,
   "metadata": {},
   "outputs": [],
   "source": [
    "corpus_train = X_train['text'].values"
   ]
  },
  {
   "cell_type": "code",
   "execution_count": 32,
   "metadata": {},
   "outputs": [],
   "source": [
    "corpus_test = X_test['text'].values"
   ]
  },
  {
   "cell_type": "code",
   "execution_count": 33,
   "metadata": {},
   "outputs": [
    {
     "name": "stdout",
     "output_type": "stream",
     "text": [
      "CPU times: total: 4.36 s\n",
      "Wall time: 5.42 s\n"
     ]
    },
    {
     "data": {
      "text/plain": [
       "(39823, 129731)"
      ]
     },
     "execution_count": 33,
     "metadata": {},
     "output_type": "execute_result"
    }
   ],
   "source": [
    "%%time\n",
    "count_tf_idf = TfidfVectorizer(stop_words = stopwords)\n",
    "tf_idf_train = count_tf_idf.fit_transform(corpus_train) # Фитим на трейне.\n",
    "tf_idf_train.shape\n",
    "\n",
    "tf_idf_test = count_tf_idf.transform(corpus_test) # Трансформим тест.\n",
    "tf_idf_test.shape"
   ]
  },
  {
   "cell_type": "markdown",
   "metadata": {},
   "source": [
    "%%time\n",
    "count_tf_idf = TfidfVectorizer(stop_words = stopwords)\n",
    "tf_idf_train = count_tf_idf.fit_transform(X_train['text']) # Фитим на трейне.\n",
    "tf_idf_train.shape\n",
    "\n",
    "tf_idf_test = count_tf_idf.transform(X_test['text']) # Трансформим тест.\n",
    "tf_idf_test.shape"
   ]
  },
  {
   "cell_type": "code",
   "execution_count": 34,
   "metadata": {},
   "outputs": [
    {
     "data": {
      "text/plain": [
       "<119469x129731 sparse matrix of type '<class 'numpy.float64'>'\n",
       "\twith 3135443 stored elements in Compressed Sparse Row format>"
      ]
     },
     "execution_count": 34,
     "metadata": {},
     "output_type": "execute_result"
    }
   ],
   "source": [
    "tf_idf_train"
   ]
  },
  {
   "cell_type": "markdown",
   "metadata": {},
   "source": [
    "### Промежуточный вывод"
   ]
  },
  {
   "cell_type": "markdown",
   "metadata": {},
   "source": [
    "* **На мощностях яндекса или моего бука лемматизация текста выглядит сомнительным движением, в принципе можно было-бы и запустить, но ~35 часов это такое себе.**\n",
    "* **Выборка разделенны на трейн и тест, выполнена TF-IDF векторизация текста.**"
   ]
  },
  {
   "cell_type": "markdown",
   "metadata": {},
   "source": [
    "## Обучение моделей"
   ]
  },
  {
   "cell_type": "markdown",
   "metadata": {},
   "source": [
    "### LogisticRegression"
   ]
  },
  {
   "cell_type": "code",
   "execution_count": 35,
   "metadata": {},
   "outputs": [],
   "source": [
    "tf_idf_pip = TfidfVectorizer(stop_words = stopwords)"
   ]
  },
  {
   "cell_type": "code",
   "execution_count": 36,
   "metadata": {},
   "outputs": [],
   "source": [
    "X_train = X_train.iloc[:, 0]"
   ]
  },
  {
   "cell_type": "code",
   "execution_count": 37,
   "metadata": {},
   "outputs": [],
   "source": [
    "X_test = X_test.iloc[:, 0]"
   ]
  },
  {
   "cell_type": "code",
   "execution_count": 38,
   "metadata": {},
   "outputs": [
    {
     "name": "stdout",
     "output_type": "stream",
     "text": [
      "CPU times: total: 51.7 s\n",
      "Wall time: 1min 22s\n"
     ]
    },
    {
     "data": {
      "text/html": [
       "<style>#sk-container-id-1 {color: black;background-color: white;}#sk-container-id-1 pre{padding: 0;}#sk-container-id-1 div.sk-toggleable {background-color: white;}#sk-container-id-1 label.sk-toggleable__label {cursor: pointer;display: block;width: 100%;margin-bottom: 0;padding: 0.3em;box-sizing: border-box;text-align: center;}#sk-container-id-1 label.sk-toggleable__label-arrow:before {content: \"▸\";float: left;margin-right: 0.25em;color: #696969;}#sk-container-id-1 label.sk-toggleable__label-arrow:hover:before {color: black;}#sk-container-id-1 div.sk-estimator:hover label.sk-toggleable__label-arrow:before {color: black;}#sk-container-id-1 div.sk-toggleable__content {max-height: 0;max-width: 0;overflow: hidden;text-align: left;background-color: #f0f8ff;}#sk-container-id-1 div.sk-toggleable__content pre {margin: 0.2em;color: black;border-radius: 0.25em;background-color: #f0f8ff;}#sk-container-id-1 input.sk-toggleable__control:checked~div.sk-toggleable__content {max-height: 200px;max-width: 100%;overflow: auto;}#sk-container-id-1 input.sk-toggleable__control:checked~label.sk-toggleable__label-arrow:before {content: \"▾\";}#sk-container-id-1 div.sk-estimator input.sk-toggleable__control:checked~label.sk-toggleable__label {background-color: #d4ebff;}#sk-container-id-1 div.sk-label input.sk-toggleable__control:checked~label.sk-toggleable__label {background-color: #d4ebff;}#sk-container-id-1 input.sk-hidden--visually {border: 0;clip: rect(1px 1px 1px 1px);clip: rect(1px, 1px, 1px, 1px);height: 1px;margin: -1px;overflow: hidden;padding: 0;position: absolute;width: 1px;}#sk-container-id-1 div.sk-estimator {font-family: monospace;background-color: #f0f8ff;border: 1px dotted black;border-radius: 0.25em;box-sizing: border-box;margin-bottom: 0.5em;}#sk-container-id-1 div.sk-estimator:hover {background-color: #d4ebff;}#sk-container-id-1 div.sk-parallel-item::after {content: \"\";width: 100%;border-bottom: 1px solid gray;flex-grow: 1;}#sk-container-id-1 div.sk-label:hover label.sk-toggleable__label {background-color: #d4ebff;}#sk-container-id-1 div.sk-serial::before {content: \"\";position: absolute;border-left: 1px solid gray;box-sizing: border-box;top: 0;bottom: 0;left: 50%;z-index: 0;}#sk-container-id-1 div.sk-serial {display: flex;flex-direction: column;align-items: center;background-color: white;padding-right: 0.2em;padding-left: 0.2em;position: relative;}#sk-container-id-1 div.sk-item {position: relative;z-index: 1;}#sk-container-id-1 div.sk-parallel {display: flex;align-items: stretch;justify-content: center;background-color: white;position: relative;}#sk-container-id-1 div.sk-item::before, #sk-container-id-1 div.sk-parallel-item::before {content: \"\";position: absolute;border-left: 1px solid gray;box-sizing: border-box;top: 0;bottom: 0;left: 50%;z-index: -1;}#sk-container-id-1 div.sk-parallel-item {display: flex;flex-direction: column;z-index: 1;position: relative;background-color: white;}#sk-container-id-1 div.sk-parallel-item:first-child::after {align-self: flex-end;width: 50%;}#sk-container-id-1 div.sk-parallel-item:last-child::after {align-self: flex-start;width: 50%;}#sk-container-id-1 div.sk-parallel-item:only-child::after {width: 0;}#sk-container-id-1 div.sk-dashed-wrapped {border: 1px dashed gray;margin: 0 0.4em 0.5em 0.4em;box-sizing: border-box;padding-bottom: 0.4em;background-color: white;}#sk-container-id-1 div.sk-label label {font-family: monospace;font-weight: bold;display: inline-block;line-height: 1.2em;}#sk-container-id-1 div.sk-label-container {text-align: center;}#sk-container-id-1 div.sk-container {/* jupyter's `normalize.less` sets `[hidden] { display: none; }` but bootstrap.min.css set `[hidden] { display: none !important; }` so we also need the `!important` here to be able to override the default hidden behavior on the sphinx rendered scikit-learn.org. See: https://github.com/scikit-learn/scikit-learn/issues/21755 */display: inline-block !important;position: relative;}#sk-container-id-1 div.sk-text-repr-fallback {display: none;}</style><div id=\"sk-container-id-1\" class=\"sk-top-container\"><div class=\"sk-text-repr-fallback\"><pre>GridSearchCV(cv=3,\n",
       "             estimator=Pipeline(steps=[(&#x27;tfidf&#x27;,\n",
       "                                        TfidfVectorizer(stop_words={&#x27;a&#x27;,\n",
       "                                                                    &#x27;about&#x27;,\n",
       "                                                                    &#x27;above&#x27;,\n",
       "                                                                    &#x27;after&#x27;,\n",
       "                                                                    &#x27;again&#x27;,\n",
       "                                                                    &#x27;against&#x27;,\n",
       "                                                                    &#x27;ain&#x27;,\n",
       "                                                                    &#x27;all&#x27;, &#x27;am&#x27;,\n",
       "                                                                    &#x27;an&#x27;, &#x27;and&#x27;,\n",
       "                                                                    &#x27;any&#x27;,\n",
       "                                                                    &#x27;are&#x27;,\n",
       "                                                                    &#x27;aren&#x27;,\n",
       "                                                                    &quot;aren&#x27;t&quot;,\n",
       "                                                                    &#x27;as&#x27;, &#x27;at&#x27;,\n",
       "                                                                    &#x27;be&#x27;,\n",
       "                                                                    &#x27;because&#x27;,\n",
       "                                                                    &#x27;been&#x27;,\n",
       "                                                                    &#x27;before&#x27;,\n",
       "                                                                    &#x27;being&#x27;,\n",
       "                                                                    &#x27;below&#x27;,\n",
       "                                                                    &#x27;between&#x27;,\n",
       "                                                                    &#x27;both&#x27;,\n",
       "                                                                    &#x27;but&#x27;, &#x27;by&#x27;,\n",
       "                                                                    &#x27;can&#x27;,\n",
       "                                                                    &#x27;couldn&#x27;,\n",
       "                                                                    &quot;couldn&#x27;t&quot;, ...})),\n",
       "                                       (&#x27;model&#x27;,\n",
       "                                        LogisticRegression(random_state=42))]),\n",
       "             param_grid={&#x27;model__C&#x27;: [1, 5, 10, 20]},\n",
       "             scoring=make_scorer(f1_score, average=macro))</pre><b>In a Jupyter environment, please rerun this cell to show the HTML representation or trust the notebook. <br />On GitHub, the HTML representation is unable to render, please try loading this page with nbviewer.org.</b></div><div class=\"sk-container\" hidden><div class=\"sk-item sk-dashed-wrapped\"><div class=\"sk-label-container\"><div class=\"sk-label sk-toggleable\"><input class=\"sk-toggleable__control sk-hidden--visually\" id=\"sk-estimator-id-1\" type=\"checkbox\" ><label for=\"sk-estimator-id-1\" class=\"sk-toggleable__label sk-toggleable__label-arrow\">GridSearchCV</label><div class=\"sk-toggleable__content\"><pre>GridSearchCV(cv=3,\n",
       "             estimator=Pipeline(steps=[(&#x27;tfidf&#x27;,\n",
       "                                        TfidfVectorizer(stop_words={&#x27;a&#x27;,\n",
       "                                                                    &#x27;about&#x27;,\n",
       "                                                                    &#x27;above&#x27;,\n",
       "                                                                    &#x27;after&#x27;,\n",
       "                                                                    &#x27;again&#x27;,\n",
       "                                                                    &#x27;against&#x27;,\n",
       "                                                                    &#x27;ain&#x27;,\n",
       "                                                                    &#x27;all&#x27;, &#x27;am&#x27;,\n",
       "                                                                    &#x27;an&#x27;, &#x27;and&#x27;,\n",
       "                                                                    &#x27;any&#x27;,\n",
       "                                                                    &#x27;are&#x27;,\n",
       "                                                                    &#x27;aren&#x27;,\n",
       "                                                                    &quot;aren&#x27;t&quot;,\n",
       "                                                                    &#x27;as&#x27;, &#x27;at&#x27;,\n",
       "                                                                    &#x27;be&#x27;,\n",
       "                                                                    &#x27;because&#x27;,\n",
       "                                                                    &#x27;been&#x27;,\n",
       "                                                                    &#x27;before&#x27;,\n",
       "                                                                    &#x27;being&#x27;,\n",
       "                                                                    &#x27;below&#x27;,\n",
       "                                                                    &#x27;between&#x27;,\n",
       "                                                                    &#x27;both&#x27;,\n",
       "                                                                    &#x27;but&#x27;, &#x27;by&#x27;,\n",
       "                                                                    &#x27;can&#x27;,\n",
       "                                                                    &#x27;couldn&#x27;,\n",
       "                                                                    &quot;couldn&#x27;t&quot;, ...})),\n",
       "                                       (&#x27;model&#x27;,\n",
       "                                        LogisticRegression(random_state=42))]),\n",
       "             param_grid={&#x27;model__C&#x27;: [1, 5, 10, 20]},\n",
       "             scoring=make_scorer(f1_score, average=macro))</pre></div></div></div><div class=\"sk-parallel\"><div class=\"sk-parallel-item\"><div class=\"sk-item\"><div class=\"sk-label-container\"><div class=\"sk-label sk-toggleable\"><input class=\"sk-toggleable__control sk-hidden--visually\" id=\"sk-estimator-id-2\" type=\"checkbox\" ><label for=\"sk-estimator-id-2\" class=\"sk-toggleable__label sk-toggleable__label-arrow\">estimator: Pipeline</label><div class=\"sk-toggleable__content\"><pre>Pipeline(steps=[(&#x27;tfidf&#x27;,\n",
       "                 TfidfVectorizer(stop_words={&#x27;a&#x27;, &#x27;about&#x27;, &#x27;above&#x27;, &#x27;after&#x27;,\n",
       "                                             &#x27;again&#x27;, &#x27;against&#x27;, &#x27;ain&#x27;, &#x27;all&#x27;,\n",
       "                                             &#x27;am&#x27;, &#x27;an&#x27;, &#x27;and&#x27;, &#x27;any&#x27;, &#x27;are&#x27;,\n",
       "                                             &#x27;aren&#x27;, &quot;aren&#x27;t&quot;, &#x27;as&#x27;, &#x27;at&#x27;, &#x27;be&#x27;,\n",
       "                                             &#x27;because&#x27;, &#x27;been&#x27;, &#x27;before&#x27;,\n",
       "                                             &#x27;being&#x27;, &#x27;below&#x27;, &#x27;between&#x27;,\n",
       "                                             &#x27;both&#x27;, &#x27;but&#x27;, &#x27;by&#x27;, &#x27;can&#x27;,\n",
       "                                             &#x27;couldn&#x27;, &quot;couldn&#x27;t&quot;, ...})),\n",
       "                (&#x27;model&#x27;, LogisticRegression(random_state=42))])</pre></div></div></div><div class=\"sk-serial\"><div class=\"sk-item\"><div class=\"sk-serial\"><div class=\"sk-item\"><div class=\"sk-estimator sk-toggleable\"><input class=\"sk-toggleable__control sk-hidden--visually\" id=\"sk-estimator-id-3\" type=\"checkbox\" ><label for=\"sk-estimator-id-3\" class=\"sk-toggleable__label sk-toggleable__label-arrow\">TfidfVectorizer</label><div class=\"sk-toggleable__content\"><pre>TfidfVectorizer(stop_words={&#x27;a&#x27;, &#x27;about&#x27;, &#x27;above&#x27;, &#x27;after&#x27;, &#x27;again&#x27;, &#x27;against&#x27;,\n",
       "                            &#x27;ain&#x27;, &#x27;all&#x27;, &#x27;am&#x27;, &#x27;an&#x27;, &#x27;and&#x27;, &#x27;any&#x27;, &#x27;are&#x27;,\n",
       "                            &#x27;aren&#x27;, &quot;aren&#x27;t&quot;, &#x27;as&#x27;, &#x27;at&#x27;, &#x27;be&#x27;, &#x27;because&#x27;,\n",
       "                            &#x27;been&#x27;, &#x27;before&#x27;, &#x27;being&#x27;, &#x27;below&#x27;, &#x27;between&#x27;,\n",
       "                            &#x27;both&#x27;, &#x27;but&#x27;, &#x27;by&#x27;, &#x27;can&#x27;, &#x27;couldn&#x27;, &quot;couldn&#x27;t&quot;, ...})</pre></div></div></div><div class=\"sk-item\"><div class=\"sk-estimator sk-toggleable\"><input class=\"sk-toggleable__control sk-hidden--visually\" id=\"sk-estimator-id-4\" type=\"checkbox\" ><label for=\"sk-estimator-id-4\" class=\"sk-toggleable__label sk-toggleable__label-arrow\">LogisticRegression</label><div class=\"sk-toggleable__content\"><pre>LogisticRegression(random_state=42)</pre></div></div></div></div></div></div></div></div></div></div></div></div>"
      ],
      "text/plain": [
       "GridSearchCV(cv=3,\n",
       "             estimator=Pipeline(steps=[('tfidf',\n",
       "                                        TfidfVectorizer(stop_words={'a',\n",
       "                                                                    'about',\n",
       "                                                                    'above',\n",
       "                                                                    'after',\n",
       "                                                                    'again',\n",
       "                                                                    'against',\n",
       "                                                                    'ain',\n",
       "                                                                    'all', 'am',\n",
       "                                                                    'an', 'and',\n",
       "                                                                    'any',\n",
       "                                                                    'are',\n",
       "                                                                    'aren',\n",
       "                                                                    \"aren't\",\n",
       "                                                                    'as', 'at',\n",
       "                                                                    'be',\n",
       "                                                                    'because',\n",
       "                                                                    'been',\n",
       "                                                                    'before',\n",
       "                                                                    'being',\n",
       "                                                                    'below',\n",
       "                                                                    'between',\n",
       "                                                                    'both',\n",
       "                                                                    'but', 'by',\n",
       "                                                                    'can',\n",
       "                                                                    'couldn',\n",
       "                                                                    \"couldn't\", ...})),\n",
       "                                       ('model',\n",
       "                                        LogisticRegression(random_state=42))]),\n",
       "             param_grid={'model__C': [1, 5, 10, 20]},\n",
       "             scoring=make_scorer(f1_score, average=macro))"
      ]
     },
     "execution_count": 38,
     "metadata": {},
     "output_type": "execute_result"
    }
   ],
   "source": [
    "%%time\n",
    "model_lr = LogisticRegression(random_state = 42)\n",
    "\n",
    "final_pipe = Pipeline([('tfidf', tf_idf_pip),\n",
    "                       ('model', model_lr)])\n",
    "\n",
    "params = {\n",
    "    'model__C': [1, 5, 10, 20],\n",
    "}\n",
    "\n",
    "grid_lr = GridSearchCV(final_pipe, param_grid = params, cv=3, scoring=f1)\n",
    "\n",
    "grid_lr.fit(X_train, y_train)"
   ]
  },
  {
   "cell_type": "code",
   "execution_count": 39,
   "metadata": {},
   "outputs": [
    {
     "name": "stdout",
     "output_type": "stream",
     "text": [
      "Лучшие гиперпараметры модели\n",
      "{'model__C': 10}\n",
      "score:\n",
      "LogisticRegression f1_score: 0.8762474135152623\n"
     ]
    }
   ],
   "source": [
    "print('Лучшие гиперпараметры модели')\n",
    "print(grid_lr.best_params_)\n",
    "\n",
    "print('score:')\n",
    "print('LogisticRegression f1_score:', grid_lr.best_score_)"
   ]
  },
  {
   "cell_type": "code",
   "execution_count": 40,
   "metadata": {
    "scrolled": true
   },
   "outputs": [
    {
     "name": "stdout",
     "output_type": "stream",
     "text": [
      "CPU times: total: 3.34 s\n",
      "Wall time: 3.88 s\n"
     ]
    }
   ],
   "source": [
    "%%time\n",
    "pred_lr = grid_lr.predict(X_train)"
   ]
  },
  {
   "cell_type": "markdown",
   "metadata": {},
   "source": [
    "**Время обучения LogisticRegression 3.34 секунды, время предсказания 47мс. f1_score 0.75**"
   ]
  },
  {
   "cell_type": "markdown",
   "metadata": {},
   "source": [
    "### LightGBM Classifier"
   ]
  },
  {
   "cell_type": "code",
   "execution_count": 41,
   "metadata": {},
   "outputs": [
    {
     "name": "stdout",
     "output_type": "stream",
     "text": [
      "[LightGBM] [Info] Number of positive: 8093, number of negative: 71553\n",
      "[LightGBM] [Info] Auto-choosing row-wise multi-threading, the overhead of testing was 0.816398 seconds.\n",
      "You can set `force_row_wise=true` to remove the overhead.\n",
      "And if memory is not enough, you can set `force_col_wise=true`.\n",
      "[LightGBM] [Info] Total Bins 387738\n",
      "[LightGBM] [Info] Number of data points in the train set: 79646, number of used features: 7470\n",
      "[LightGBM] [Info] [binary:BoostFromScore]: pavg=0.101612 -> initscore=-2.179439\n",
      "[LightGBM] [Info] Start training from score -2.179439\n",
      "[LightGBM] [Info] Number of positive: 8093, number of negative: 71553\n",
      "[LightGBM] [Info] Auto-choosing col-wise multi-threading, the overhead of testing was 0.816837 seconds.\n",
      "You can set `force_col_wise=true` to remove the overhead.\n",
      "[LightGBM] [Info] Total Bins 385470\n",
      "[LightGBM] [Info] Number of data points in the train set: 79646, number of used features: 7425\n",
      "[LightGBM] [Info] [binary:BoostFromScore]: pavg=0.101612 -> initscore=-2.179439\n",
      "[LightGBM] [Info] Start training from score -2.179439\n",
      "[LightGBM] [Info] Number of positive: 8094, number of negative: 71552\n",
      "[LightGBM] [Info] Auto-choosing col-wise multi-threading, the overhead of testing was 0.814386 seconds.\n",
      "You can set `force_col_wise=true` to remove the overhead.\n",
      "[LightGBM] [Info] Total Bins 386292\n",
      "[LightGBM] [Info] Number of data points in the train set: 79646, number of used features: 7453\n",
      "[LightGBM] [Info] [binary:BoostFromScore]: pavg=0.101625 -> initscore=-2.179301\n",
      "[LightGBM] [Info] Start training from score -2.179301\n",
      "[LightGBM] [Info] Number of positive: 12140, number of negative: 107329\n",
      "[LightGBM] [Info] Auto-choosing col-wise multi-threading, the overhead of testing was 1.651713 seconds.\n",
      "You can set `force_col_wise=true` to remove the overhead.\n",
      "[LightGBM] [Info] Total Bins 518486\n",
      "[LightGBM] [Info] Number of data points in the train set: 119469, number of used features: 9590\n",
      "[LightGBM] [Info] [binary:BoostFromScore]: pavg=0.101616 -> initscore=-2.179393\n",
      "[LightGBM] [Info] Start training from score -2.179393\n",
      "CPU times: total: 2min 1s\n",
      "Wall time: 48 s\n"
     ]
    },
    {
     "data": {
      "text/html": [
       "<style>#sk-container-id-2 {color: black;background-color: white;}#sk-container-id-2 pre{padding: 0;}#sk-container-id-2 div.sk-toggleable {background-color: white;}#sk-container-id-2 label.sk-toggleable__label {cursor: pointer;display: block;width: 100%;margin-bottom: 0;padding: 0.3em;box-sizing: border-box;text-align: center;}#sk-container-id-2 label.sk-toggleable__label-arrow:before {content: \"▸\";float: left;margin-right: 0.25em;color: #696969;}#sk-container-id-2 label.sk-toggleable__label-arrow:hover:before {color: black;}#sk-container-id-2 div.sk-estimator:hover label.sk-toggleable__label-arrow:before {color: black;}#sk-container-id-2 div.sk-toggleable__content {max-height: 0;max-width: 0;overflow: hidden;text-align: left;background-color: #f0f8ff;}#sk-container-id-2 div.sk-toggleable__content pre {margin: 0.2em;color: black;border-radius: 0.25em;background-color: #f0f8ff;}#sk-container-id-2 input.sk-toggleable__control:checked~div.sk-toggleable__content {max-height: 200px;max-width: 100%;overflow: auto;}#sk-container-id-2 input.sk-toggleable__control:checked~label.sk-toggleable__label-arrow:before {content: \"▾\";}#sk-container-id-2 div.sk-estimator input.sk-toggleable__control:checked~label.sk-toggleable__label {background-color: #d4ebff;}#sk-container-id-2 div.sk-label input.sk-toggleable__control:checked~label.sk-toggleable__label {background-color: #d4ebff;}#sk-container-id-2 input.sk-hidden--visually {border: 0;clip: rect(1px 1px 1px 1px);clip: rect(1px, 1px, 1px, 1px);height: 1px;margin: -1px;overflow: hidden;padding: 0;position: absolute;width: 1px;}#sk-container-id-2 div.sk-estimator {font-family: monospace;background-color: #f0f8ff;border: 1px dotted black;border-radius: 0.25em;box-sizing: border-box;margin-bottom: 0.5em;}#sk-container-id-2 div.sk-estimator:hover {background-color: #d4ebff;}#sk-container-id-2 div.sk-parallel-item::after {content: \"\";width: 100%;border-bottom: 1px solid gray;flex-grow: 1;}#sk-container-id-2 div.sk-label:hover label.sk-toggleable__label {background-color: #d4ebff;}#sk-container-id-2 div.sk-serial::before {content: \"\";position: absolute;border-left: 1px solid gray;box-sizing: border-box;top: 0;bottom: 0;left: 50%;z-index: 0;}#sk-container-id-2 div.sk-serial {display: flex;flex-direction: column;align-items: center;background-color: white;padding-right: 0.2em;padding-left: 0.2em;position: relative;}#sk-container-id-2 div.sk-item {position: relative;z-index: 1;}#sk-container-id-2 div.sk-parallel {display: flex;align-items: stretch;justify-content: center;background-color: white;position: relative;}#sk-container-id-2 div.sk-item::before, #sk-container-id-2 div.sk-parallel-item::before {content: \"\";position: absolute;border-left: 1px solid gray;box-sizing: border-box;top: 0;bottom: 0;left: 50%;z-index: -1;}#sk-container-id-2 div.sk-parallel-item {display: flex;flex-direction: column;z-index: 1;position: relative;background-color: white;}#sk-container-id-2 div.sk-parallel-item:first-child::after {align-self: flex-end;width: 50%;}#sk-container-id-2 div.sk-parallel-item:last-child::after {align-self: flex-start;width: 50%;}#sk-container-id-2 div.sk-parallel-item:only-child::after {width: 0;}#sk-container-id-2 div.sk-dashed-wrapped {border: 1px dashed gray;margin: 0 0.4em 0.5em 0.4em;box-sizing: border-box;padding-bottom: 0.4em;background-color: white;}#sk-container-id-2 div.sk-label label {font-family: monospace;font-weight: bold;display: inline-block;line-height: 1.2em;}#sk-container-id-2 div.sk-label-container {text-align: center;}#sk-container-id-2 div.sk-container {/* jupyter's `normalize.less` sets `[hidden] { display: none; }` but bootstrap.min.css set `[hidden] { display: none !important; }` so we also need the `!important` here to be able to override the default hidden behavior on the sphinx rendered scikit-learn.org. See: https://github.com/scikit-learn/scikit-learn/issues/21755 */display: inline-block !important;position: relative;}#sk-container-id-2 div.sk-text-repr-fallback {display: none;}</style><div id=\"sk-container-id-2\" class=\"sk-top-container\"><div class=\"sk-text-repr-fallback\"><pre>GridSearchCV(cv=3,\n",
       "             estimator=Pipeline(steps=[(&#x27;tfidf&#x27;,\n",
       "                                        TfidfVectorizer(stop_words={&#x27;a&#x27;,\n",
       "                                                                    &#x27;about&#x27;,\n",
       "                                                                    &#x27;above&#x27;,\n",
       "                                                                    &#x27;after&#x27;,\n",
       "                                                                    &#x27;again&#x27;,\n",
       "                                                                    &#x27;against&#x27;,\n",
       "                                                                    &#x27;ain&#x27;,\n",
       "                                                                    &#x27;all&#x27;, &#x27;am&#x27;,\n",
       "                                                                    &#x27;an&#x27;, &#x27;and&#x27;,\n",
       "                                                                    &#x27;any&#x27;,\n",
       "                                                                    &#x27;are&#x27;,\n",
       "                                                                    &#x27;aren&#x27;,\n",
       "                                                                    &quot;aren&#x27;t&quot;,\n",
       "                                                                    &#x27;as&#x27;, &#x27;at&#x27;,\n",
       "                                                                    &#x27;be&#x27;,\n",
       "                                                                    &#x27;because&#x27;,\n",
       "                                                                    &#x27;been&#x27;,\n",
       "                                                                    &#x27;before&#x27;,\n",
       "                                                                    &#x27;being&#x27;,\n",
       "                                                                    &#x27;below&#x27;,\n",
       "                                                                    &#x27;between&#x27;,\n",
       "                                                                    &#x27;both&#x27;,\n",
       "                                                                    &#x27;but&#x27;, &#x27;by&#x27;,\n",
       "                                                                    &#x27;can&#x27;,\n",
       "                                                                    &#x27;couldn&#x27;,\n",
       "                                                                    &quot;couldn&#x27;t&quot;, ...})),\n",
       "                                       (&#x27;model&#x27;, LGBMClassifier())]),\n",
       "             param_grid={&#x27;model__learning_rate&#x27;: [0.5],\n",
       "                         &#x27;model__max_depth&#x27;: [None],\n",
       "                         &#x27;model__n_estimators&#x27;: [15],\n",
       "                         &#x27;model__num_iterations&#x27;: [25],\n",
       "                         &#x27;model__num_leaves&#x27;: [45],\n",
       "                         &#x27;model__random_state&#x27;: [42]},\n",
       "             scoring=make_scorer(f1_score, average=macro))</pre><b>In a Jupyter environment, please rerun this cell to show the HTML representation or trust the notebook. <br />On GitHub, the HTML representation is unable to render, please try loading this page with nbviewer.org.</b></div><div class=\"sk-container\" hidden><div class=\"sk-item sk-dashed-wrapped\"><div class=\"sk-label-container\"><div class=\"sk-label sk-toggleable\"><input class=\"sk-toggleable__control sk-hidden--visually\" id=\"sk-estimator-id-5\" type=\"checkbox\" ><label for=\"sk-estimator-id-5\" class=\"sk-toggleable__label sk-toggleable__label-arrow\">GridSearchCV</label><div class=\"sk-toggleable__content\"><pre>GridSearchCV(cv=3,\n",
       "             estimator=Pipeline(steps=[(&#x27;tfidf&#x27;,\n",
       "                                        TfidfVectorizer(stop_words={&#x27;a&#x27;,\n",
       "                                                                    &#x27;about&#x27;,\n",
       "                                                                    &#x27;above&#x27;,\n",
       "                                                                    &#x27;after&#x27;,\n",
       "                                                                    &#x27;again&#x27;,\n",
       "                                                                    &#x27;against&#x27;,\n",
       "                                                                    &#x27;ain&#x27;,\n",
       "                                                                    &#x27;all&#x27;, &#x27;am&#x27;,\n",
       "                                                                    &#x27;an&#x27;, &#x27;and&#x27;,\n",
       "                                                                    &#x27;any&#x27;,\n",
       "                                                                    &#x27;are&#x27;,\n",
       "                                                                    &#x27;aren&#x27;,\n",
       "                                                                    &quot;aren&#x27;t&quot;,\n",
       "                                                                    &#x27;as&#x27;, &#x27;at&#x27;,\n",
       "                                                                    &#x27;be&#x27;,\n",
       "                                                                    &#x27;because&#x27;,\n",
       "                                                                    &#x27;been&#x27;,\n",
       "                                                                    &#x27;before&#x27;,\n",
       "                                                                    &#x27;being&#x27;,\n",
       "                                                                    &#x27;below&#x27;,\n",
       "                                                                    &#x27;between&#x27;,\n",
       "                                                                    &#x27;both&#x27;,\n",
       "                                                                    &#x27;but&#x27;, &#x27;by&#x27;,\n",
       "                                                                    &#x27;can&#x27;,\n",
       "                                                                    &#x27;couldn&#x27;,\n",
       "                                                                    &quot;couldn&#x27;t&quot;, ...})),\n",
       "                                       (&#x27;model&#x27;, LGBMClassifier())]),\n",
       "             param_grid={&#x27;model__learning_rate&#x27;: [0.5],\n",
       "                         &#x27;model__max_depth&#x27;: [None],\n",
       "                         &#x27;model__n_estimators&#x27;: [15],\n",
       "                         &#x27;model__num_iterations&#x27;: [25],\n",
       "                         &#x27;model__num_leaves&#x27;: [45],\n",
       "                         &#x27;model__random_state&#x27;: [42]},\n",
       "             scoring=make_scorer(f1_score, average=macro))</pre></div></div></div><div class=\"sk-parallel\"><div class=\"sk-parallel-item\"><div class=\"sk-item\"><div class=\"sk-label-container\"><div class=\"sk-label sk-toggleable\"><input class=\"sk-toggleable__control sk-hidden--visually\" id=\"sk-estimator-id-6\" type=\"checkbox\" ><label for=\"sk-estimator-id-6\" class=\"sk-toggleable__label sk-toggleable__label-arrow\">estimator: Pipeline</label><div class=\"sk-toggleable__content\"><pre>Pipeline(steps=[(&#x27;tfidf&#x27;,\n",
       "                 TfidfVectorizer(stop_words={&#x27;a&#x27;, &#x27;about&#x27;, &#x27;above&#x27;, &#x27;after&#x27;,\n",
       "                                             &#x27;again&#x27;, &#x27;against&#x27;, &#x27;ain&#x27;, &#x27;all&#x27;,\n",
       "                                             &#x27;am&#x27;, &#x27;an&#x27;, &#x27;and&#x27;, &#x27;any&#x27;, &#x27;are&#x27;,\n",
       "                                             &#x27;aren&#x27;, &quot;aren&#x27;t&quot;, &#x27;as&#x27;, &#x27;at&#x27;, &#x27;be&#x27;,\n",
       "                                             &#x27;because&#x27;, &#x27;been&#x27;, &#x27;before&#x27;,\n",
       "                                             &#x27;being&#x27;, &#x27;below&#x27;, &#x27;between&#x27;,\n",
       "                                             &#x27;both&#x27;, &#x27;but&#x27;, &#x27;by&#x27;, &#x27;can&#x27;,\n",
       "                                             &#x27;couldn&#x27;, &quot;couldn&#x27;t&quot;, ...})),\n",
       "                (&#x27;model&#x27;, LGBMClassifier())])</pre></div></div></div><div class=\"sk-serial\"><div class=\"sk-item\"><div class=\"sk-serial\"><div class=\"sk-item\"><div class=\"sk-estimator sk-toggleable\"><input class=\"sk-toggleable__control sk-hidden--visually\" id=\"sk-estimator-id-7\" type=\"checkbox\" ><label for=\"sk-estimator-id-7\" class=\"sk-toggleable__label sk-toggleable__label-arrow\">TfidfVectorizer</label><div class=\"sk-toggleable__content\"><pre>TfidfVectorizer(stop_words={&#x27;a&#x27;, &#x27;about&#x27;, &#x27;above&#x27;, &#x27;after&#x27;, &#x27;again&#x27;, &#x27;against&#x27;,\n",
       "                            &#x27;ain&#x27;, &#x27;all&#x27;, &#x27;am&#x27;, &#x27;an&#x27;, &#x27;and&#x27;, &#x27;any&#x27;, &#x27;are&#x27;,\n",
       "                            &#x27;aren&#x27;, &quot;aren&#x27;t&quot;, &#x27;as&#x27;, &#x27;at&#x27;, &#x27;be&#x27;, &#x27;because&#x27;,\n",
       "                            &#x27;been&#x27;, &#x27;before&#x27;, &#x27;being&#x27;, &#x27;below&#x27;, &#x27;between&#x27;,\n",
       "                            &#x27;both&#x27;, &#x27;but&#x27;, &#x27;by&#x27;, &#x27;can&#x27;, &#x27;couldn&#x27;, &quot;couldn&#x27;t&quot;, ...})</pre></div></div></div><div class=\"sk-item\"><div class=\"sk-estimator sk-toggleable\"><input class=\"sk-toggleable__control sk-hidden--visually\" id=\"sk-estimator-id-8\" type=\"checkbox\" ><label for=\"sk-estimator-id-8\" class=\"sk-toggleable__label sk-toggleable__label-arrow\">LGBMClassifier</label><div class=\"sk-toggleable__content\"><pre>LGBMClassifier()</pre></div></div></div></div></div></div></div></div></div></div></div></div>"
      ],
      "text/plain": [
       "GridSearchCV(cv=3,\n",
       "             estimator=Pipeline(steps=[('tfidf',\n",
       "                                        TfidfVectorizer(stop_words={'a',\n",
       "                                                                    'about',\n",
       "                                                                    'above',\n",
       "                                                                    'after',\n",
       "                                                                    'again',\n",
       "                                                                    'against',\n",
       "                                                                    'ain',\n",
       "                                                                    'all', 'am',\n",
       "                                                                    'an', 'and',\n",
       "                                                                    'any',\n",
       "                                                                    'are',\n",
       "                                                                    'aren',\n",
       "                                                                    \"aren't\",\n",
       "                                                                    'as', 'at',\n",
       "                                                                    'be',\n",
       "                                                                    'because',\n",
       "                                                                    'been',\n",
       "                                                                    'before',\n",
       "                                                                    'being',\n",
       "                                                                    'below',\n",
       "                                                                    'between',\n",
       "                                                                    'both',\n",
       "                                                                    'but', 'by',\n",
       "                                                                    'can',\n",
       "                                                                    'couldn',\n",
       "                                                                    \"couldn't\", ...})),\n",
       "                                       ('model', LGBMClassifier())]),\n",
       "             param_grid={'model__learning_rate': [0.5],\n",
       "                         'model__max_depth': [None],\n",
       "                         'model__n_estimators': [15],\n",
       "                         'model__num_iterations': [25],\n",
       "                         'model__num_leaves': [45],\n",
       "                         'model__random_state': [42]},\n",
       "             scoring=make_scorer(f1_score, average=macro))"
      ]
     },
     "execution_count": 41,
     "metadata": {},
     "output_type": "execute_result"
    }
   ],
   "source": [
    "%%time\n",
    "model_lg = LGBMClassifier()\n",
    "\n",
    "final_pipe = Pipeline([('tfidf', tf_idf_pip),\n",
    "                       ('model', model_lg)])\n",
    "\n",
    "params = {\n",
    "    'model__num_leaves': [45],\n",
    "    'model__learning_rate': [0.5],\n",
    "    'model__max_depth': [None],\n",
    "    'model__n_estimators': [15],\n",
    "    'model__random_state': [42],\n",
    "    'model__num_iterations': [25],\n",
    "}\n",
    "\n",
    "grid_light = GridSearchCV(final_pipe, param_grid = params, cv=3, scoring=f1)\n",
    "\n",
    "grid_light.fit(X_train, y_train)"
   ]
  },
  {
   "cell_type": "markdown",
   "metadata": {},
   "source": [
    "**Запускал через поиски параметров, мелкими диапозонами, а потом и вовсе точечными. Оставил так что-бы время не тратила.**"
   ]
  },
  {
   "cell_type": "code",
   "execution_count": 42,
   "metadata": {},
   "outputs": [
    {
     "name": "stdout",
     "output_type": "stream",
     "text": [
      "Лучшие гиперпараметры модели\n",
      "{'model__learning_rate': 0.5, 'model__max_depth': None, 'model__n_estimators': 15, 'model__num_iterations': 25, 'model__num_leaves': 45, 'model__random_state': 42}\n",
      "score:\n",
      "LGBMRClassifier f1_score: 0.8708476595356158\n"
     ]
    }
   ],
   "source": [
    "print('Лучшие гиперпараметры модели')\n",
    "print(grid_light.best_params_)\n",
    "\n",
    "print('score:')\n",
    "print('LGBMRClassifier f1_score:', grid_light.best_score_)"
   ]
  },
  {
   "cell_type": "markdown",
   "metadata": {},
   "source": [
    "**LightGBM Classifier - время кроссвалидации 43 секунды, время обучения 14.5 сек, время предсказания 0.5 сек. f1_score: 0.86**"
   ]
  },
  {
   "cell_type": "markdown",
   "metadata": {},
   "source": [
    "### PassiveAgressiveClassifier"
   ]
  },
  {
   "cell_type": "code",
   "execution_count": 43,
   "metadata": {},
   "outputs": [
    {
     "name": "stdout",
     "output_type": "stream",
     "text": [
      "CPU times: total: 1min 24s\n",
      "Wall time: 1min 34s\n"
     ]
    },
    {
     "data": {
      "text/html": [
       "<style>#sk-container-id-3 {color: black;background-color: white;}#sk-container-id-3 pre{padding: 0;}#sk-container-id-3 div.sk-toggleable {background-color: white;}#sk-container-id-3 label.sk-toggleable__label {cursor: pointer;display: block;width: 100%;margin-bottom: 0;padding: 0.3em;box-sizing: border-box;text-align: center;}#sk-container-id-3 label.sk-toggleable__label-arrow:before {content: \"▸\";float: left;margin-right: 0.25em;color: #696969;}#sk-container-id-3 label.sk-toggleable__label-arrow:hover:before {color: black;}#sk-container-id-3 div.sk-estimator:hover label.sk-toggleable__label-arrow:before {color: black;}#sk-container-id-3 div.sk-toggleable__content {max-height: 0;max-width: 0;overflow: hidden;text-align: left;background-color: #f0f8ff;}#sk-container-id-3 div.sk-toggleable__content pre {margin: 0.2em;color: black;border-radius: 0.25em;background-color: #f0f8ff;}#sk-container-id-3 input.sk-toggleable__control:checked~div.sk-toggleable__content {max-height: 200px;max-width: 100%;overflow: auto;}#sk-container-id-3 input.sk-toggleable__control:checked~label.sk-toggleable__label-arrow:before {content: \"▾\";}#sk-container-id-3 div.sk-estimator input.sk-toggleable__control:checked~label.sk-toggleable__label {background-color: #d4ebff;}#sk-container-id-3 div.sk-label input.sk-toggleable__control:checked~label.sk-toggleable__label {background-color: #d4ebff;}#sk-container-id-3 input.sk-hidden--visually {border: 0;clip: rect(1px 1px 1px 1px);clip: rect(1px, 1px, 1px, 1px);height: 1px;margin: -1px;overflow: hidden;padding: 0;position: absolute;width: 1px;}#sk-container-id-3 div.sk-estimator {font-family: monospace;background-color: #f0f8ff;border: 1px dotted black;border-radius: 0.25em;box-sizing: border-box;margin-bottom: 0.5em;}#sk-container-id-3 div.sk-estimator:hover {background-color: #d4ebff;}#sk-container-id-3 div.sk-parallel-item::after {content: \"\";width: 100%;border-bottom: 1px solid gray;flex-grow: 1;}#sk-container-id-3 div.sk-label:hover label.sk-toggleable__label {background-color: #d4ebff;}#sk-container-id-3 div.sk-serial::before {content: \"\";position: absolute;border-left: 1px solid gray;box-sizing: border-box;top: 0;bottom: 0;left: 50%;z-index: 0;}#sk-container-id-3 div.sk-serial {display: flex;flex-direction: column;align-items: center;background-color: white;padding-right: 0.2em;padding-left: 0.2em;position: relative;}#sk-container-id-3 div.sk-item {position: relative;z-index: 1;}#sk-container-id-3 div.sk-parallel {display: flex;align-items: stretch;justify-content: center;background-color: white;position: relative;}#sk-container-id-3 div.sk-item::before, #sk-container-id-3 div.sk-parallel-item::before {content: \"\";position: absolute;border-left: 1px solid gray;box-sizing: border-box;top: 0;bottom: 0;left: 50%;z-index: -1;}#sk-container-id-3 div.sk-parallel-item {display: flex;flex-direction: column;z-index: 1;position: relative;background-color: white;}#sk-container-id-3 div.sk-parallel-item:first-child::after {align-self: flex-end;width: 50%;}#sk-container-id-3 div.sk-parallel-item:last-child::after {align-self: flex-start;width: 50%;}#sk-container-id-3 div.sk-parallel-item:only-child::after {width: 0;}#sk-container-id-3 div.sk-dashed-wrapped {border: 1px dashed gray;margin: 0 0.4em 0.5em 0.4em;box-sizing: border-box;padding-bottom: 0.4em;background-color: white;}#sk-container-id-3 div.sk-label label {font-family: monospace;font-weight: bold;display: inline-block;line-height: 1.2em;}#sk-container-id-3 div.sk-label-container {text-align: center;}#sk-container-id-3 div.sk-container {/* jupyter's `normalize.less` sets `[hidden] { display: none; }` but bootstrap.min.css set `[hidden] { display: none !important; }` so we also need the `!important` here to be able to override the default hidden behavior on the sphinx rendered scikit-learn.org. See: https://github.com/scikit-learn/scikit-learn/issues/21755 */display: inline-block !important;position: relative;}#sk-container-id-3 div.sk-text-repr-fallback {display: none;}</style><div id=\"sk-container-id-3\" class=\"sk-top-container\"><div class=\"sk-text-repr-fallback\"><pre>GridSearchCV(cv=3,\n",
       "             estimator=Pipeline(steps=[(&#x27;tfidf&#x27;,\n",
       "                                        TfidfVectorizer(stop_words={&#x27;a&#x27;,\n",
       "                                                                    &#x27;about&#x27;,\n",
       "                                                                    &#x27;above&#x27;,\n",
       "                                                                    &#x27;after&#x27;,\n",
       "                                                                    &#x27;again&#x27;,\n",
       "                                                                    &#x27;against&#x27;,\n",
       "                                                                    &#x27;ain&#x27;,\n",
       "                                                                    &#x27;all&#x27;, &#x27;am&#x27;,\n",
       "                                                                    &#x27;an&#x27;, &#x27;and&#x27;,\n",
       "                                                                    &#x27;any&#x27;,\n",
       "                                                                    &#x27;are&#x27;,\n",
       "                                                                    &#x27;aren&#x27;,\n",
       "                                                                    &quot;aren&#x27;t&quot;,\n",
       "                                                                    &#x27;as&#x27;, &#x27;at&#x27;,\n",
       "                                                                    &#x27;be&#x27;,\n",
       "                                                                    &#x27;because&#x27;,\n",
       "                                                                    &#x27;been&#x27;,\n",
       "                                                                    &#x27;before&#x27;,\n",
       "                                                                    &#x27;being&#x27;,\n",
       "                                                                    &#x27;below&#x27;,\n",
       "                                                                    &#x27;between&#x27;,\n",
       "                                                                    &#x27;both&#x27;,\n",
       "                                                                    &#x27;but&#x27;, &#x27;by&#x27;,\n",
       "                                                                    &#x27;can&#x27;,\n",
       "                                                                    &#x27;couldn&#x27;,\n",
       "                                                                    &quot;couldn&#x27;t&quot;, ...})),\n",
       "                                       (&#x27;model&#x27;,\n",
       "                                        PassiveAggressiveClassifier(n_jobs=-1,\n",
       "                                                                    random_state=42))]),\n",
       "             param_grid={&#x27;model__C&#x27;: [5, 10, 20], &#x27;model__max_iter&#x27;: [50, 100]},\n",
       "             scoring=make_scorer(f1_score, average=macro))</pre><b>In a Jupyter environment, please rerun this cell to show the HTML representation or trust the notebook. <br />On GitHub, the HTML representation is unable to render, please try loading this page with nbviewer.org.</b></div><div class=\"sk-container\" hidden><div class=\"sk-item sk-dashed-wrapped\"><div class=\"sk-label-container\"><div class=\"sk-label sk-toggleable\"><input class=\"sk-toggleable__control sk-hidden--visually\" id=\"sk-estimator-id-9\" type=\"checkbox\" ><label for=\"sk-estimator-id-9\" class=\"sk-toggleable__label sk-toggleable__label-arrow\">GridSearchCV</label><div class=\"sk-toggleable__content\"><pre>GridSearchCV(cv=3,\n",
       "             estimator=Pipeline(steps=[(&#x27;tfidf&#x27;,\n",
       "                                        TfidfVectorizer(stop_words={&#x27;a&#x27;,\n",
       "                                                                    &#x27;about&#x27;,\n",
       "                                                                    &#x27;above&#x27;,\n",
       "                                                                    &#x27;after&#x27;,\n",
       "                                                                    &#x27;again&#x27;,\n",
       "                                                                    &#x27;against&#x27;,\n",
       "                                                                    &#x27;ain&#x27;,\n",
       "                                                                    &#x27;all&#x27;, &#x27;am&#x27;,\n",
       "                                                                    &#x27;an&#x27;, &#x27;and&#x27;,\n",
       "                                                                    &#x27;any&#x27;,\n",
       "                                                                    &#x27;are&#x27;,\n",
       "                                                                    &#x27;aren&#x27;,\n",
       "                                                                    &quot;aren&#x27;t&quot;,\n",
       "                                                                    &#x27;as&#x27;, &#x27;at&#x27;,\n",
       "                                                                    &#x27;be&#x27;,\n",
       "                                                                    &#x27;because&#x27;,\n",
       "                                                                    &#x27;been&#x27;,\n",
       "                                                                    &#x27;before&#x27;,\n",
       "                                                                    &#x27;being&#x27;,\n",
       "                                                                    &#x27;below&#x27;,\n",
       "                                                                    &#x27;between&#x27;,\n",
       "                                                                    &#x27;both&#x27;,\n",
       "                                                                    &#x27;but&#x27;, &#x27;by&#x27;,\n",
       "                                                                    &#x27;can&#x27;,\n",
       "                                                                    &#x27;couldn&#x27;,\n",
       "                                                                    &quot;couldn&#x27;t&quot;, ...})),\n",
       "                                       (&#x27;model&#x27;,\n",
       "                                        PassiveAggressiveClassifier(n_jobs=-1,\n",
       "                                                                    random_state=42))]),\n",
       "             param_grid={&#x27;model__C&#x27;: [5, 10, 20], &#x27;model__max_iter&#x27;: [50, 100]},\n",
       "             scoring=make_scorer(f1_score, average=macro))</pre></div></div></div><div class=\"sk-parallel\"><div class=\"sk-parallel-item\"><div class=\"sk-item\"><div class=\"sk-label-container\"><div class=\"sk-label sk-toggleable\"><input class=\"sk-toggleable__control sk-hidden--visually\" id=\"sk-estimator-id-10\" type=\"checkbox\" ><label for=\"sk-estimator-id-10\" class=\"sk-toggleable__label sk-toggleable__label-arrow\">estimator: Pipeline</label><div class=\"sk-toggleable__content\"><pre>Pipeline(steps=[(&#x27;tfidf&#x27;,\n",
       "                 TfidfVectorizer(stop_words={&#x27;a&#x27;, &#x27;about&#x27;, &#x27;above&#x27;, &#x27;after&#x27;,\n",
       "                                             &#x27;again&#x27;, &#x27;against&#x27;, &#x27;ain&#x27;, &#x27;all&#x27;,\n",
       "                                             &#x27;am&#x27;, &#x27;an&#x27;, &#x27;and&#x27;, &#x27;any&#x27;, &#x27;are&#x27;,\n",
       "                                             &#x27;aren&#x27;, &quot;aren&#x27;t&quot;, &#x27;as&#x27;, &#x27;at&#x27;, &#x27;be&#x27;,\n",
       "                                             &#x27;because&#x27;, &#x27;been&#x27;, &#x27;before&#x27;,\n",
       "                                             &#x27;being&#x27;, &#x27;below&#x27;, &#x27;between&#x27;,\n",
       "                                             &#x27;both&#x27;, &#x27;but&#x27;, &#x27;by&#x27;, &#x27;can&#x27;,\n",
       "                                             &#x27;couldn&#x27;, &quot;couldn&#x27;t&quot;, ...})),\n",
       "                (&#x27;model&#x27;,\n",
       "                 PassiveAggressiveClassifier(n_jobs=-1, random_state=42))])</pre></div></div></div><div class=\"sk-serial\"><div class=\"sk-item\"><div class=\"sk-serial\"><div class=\"sk-item\"><div class=\"sk-estimator sk-toggleable\"><input class=\"sk-toggleable__control sk-hidden--visually\" id=\"sk-estimator-id-11\" type=\"checkbox\" ><label for=\"sk-estimator-id-11\" class=\"sk-toggleable__label sk-toggleable__label-arrow\">TfidfVectorizer</label><div class=\"sk-toggleable__content\"><pre>TfidfVectorizer(stop_words={&#x27;a&#x27;, &#x27;about&#x27;, &#x27;above&#x27;, &#x27;after&#x27;, &#x27;again&#x27;, &#x27;against&#x27;,\n",
       "                            &#x27;ain&#x27;, &#x27;all&#x27;, &#x27;am&#x27;, &#x27;an&#x27;, &#x27;and&#x27;, &#x27;any&#x27;, &#x27;are&#x27;,\n",
       "                            &#x27;aren&#x27;, &quot;aren&#x27;t&quot;, &#x27;as&#x27;, &#x27;at&#x27;, &#x27;be&#x27;, &#x27;because&#x27;,\n",
       "                            &#x27;been&#x27;, &#x27;before&#x27;, &#x27;being&#x27;, &#x27;below&#x27;, &#x27;between&#x27;,\n",
       "                            &#x27;both&#x27;, &#x27;but&#x27;, &#x27;by&#x27;, &#x27;can&#x27;, &#x27;couldn&#x27;, &quot;couldn&#x27;t&quot;, ...})</pre></div></div></div><div class=\"sk-item\"><div class=\"sk-estimator sk-toggleable\"><input class=\"sk-toggleable__control sk-hidden--visually\" id=\"sk-estimator-id-12\" type=\"checkbox\" ><label for=\"sk-estimator-id-12\" class=\"sk-toggleable__label sk-toggleable__label-arrow\">PassiveAggressiveClassifier</label><div class=\"sk-toggleable__content\"><pre>PassiveAggressiveClassifier(n_jobs=-1, random_state=42)</pre></div></div></div></div></div></div></div></div></div></div></div></div>"
      ],
      "text/plain": [
       "GridSearchCV(cv=3,\n",
       "             estimator=Pipeline(steps=[('tfidf',\n",
       "                                        TfidfVectorizer(stop_words={'a',\n",
       "                                                                    'about',\n",
       "                                                                    'above',\n",
       "                                                                    'after',\n",
       "                                                                    'again',\n",
       "                                                                    'against',\n",
       "                                                                    'ain',\n",
       "                                                                    'all', 'am',\n",
       "                                                                    'an', 'and',\n",
       "                                                                    'any',\n",
       "                                                                    'are',\n",
       "                                                                    'aren',\n",
       "                                                                    \"aren't\",\n",
       "                                                                    'as', 'at',\n",
       "                                                                    'be',\n",
       "                                                                    'because',\n",
       "                                                                    'been',\n",
       "                                                                    'before',\n",
       "                                                                    'being',\n",
       "                                                                    'below',\n",
       "                                                                    'between',\n",
       "                                                                    'both',\n",
       "                                                                    'but', 'by',\n",
       "                                                                    'can',\n",
       "                                                                    'couldn',\n",
       "                                                                    \"couldn't\", ...})),\n",
       "                                       ('model',\n",
       "                                        PassiveAggressiveClassifier(n_jobs=-1,\n",
       "                                                                    random_state=42))]),\n",
       "             param_grid={'model__C': [5, 10, 20], 'model__max_iter': [50, 100]},\n",
       "             scoring=make_scorer(f1_score, average=macro))"
      ]
     },
     "execution_count": 43,
     "metadata": {},
     "output_type": "execute_result"
    }
   ],
   "source": [
    "%%time\n",
    "model_pac = PassiveAggressiveClassifier(n_jobs=-1, random_state=42)\n",
    "\n",
    "final_pipe = Pipeline([('tfidf', tf_idf_pip),\n",
    "                       ('model', model_pac)])\n",
    "\n",
    "params = {\n",
    "    'model__max_iter': [50, 100],\n",
    "    'model__C': [5, 10, 20],\n",
    "}\n",
    "\n",
    "grid_pac = GridSearchCV(final_pipe, param_grid = params, cv=3, scoring=f1)\n",
    "\n",
    "grid_pac.fit(X_train, y_train)"
   ]
  },
  {
   "cell_type": "code",
   "execution_count": 44,
   "metadata": {},
   "outputs": [
    {
     "name": "stdout",
     "output_type": "stream",
     "text": [
      "Лучшие гиперпараметры модели\n",
      "{'model__C': 5, 'model__max_iter': 50}\n",
      "score:\n",
      "PassiveAgressiveClassifier f1_score: 0.8537559861789767\n"
     ]
    }
   ],
   "source": [
    "print('Лучшие гиперпараметры модели')\n",
    "print(grid_pac.best_params_)\n",
    "\n",
    "print('score:')\n",
    "print('PassiveAgressiveClassifier f1_score:', grid_pac.best_score_)"
   ]
  },
  {
   "cell_type": "code",
   "execution_count": 45,
   "metadata": {},
   "outputs": [
    {
     "name": "stdout",
     "output_type": "stream",
     "text": [
      "CPU times: total: 3.25 s\n",
      "Wall time: 3.93 s\n"
     ]
    }
   ],
   "source": [
    "%%time\n",
    "predp = grid_pac.predict(X_train)"
   ]
  },
  {
   "cell_type": "markdown",
   "metadata": {},
   "source": [
    "**PassiveAgressiveClassifier - время кроссвалидации 15 секунд, время обучения 1 сек, время предсказания 1 сек. f1_score: 0.47**"
   ]
  },
  {
   "cell_type": "markdown",
   "metadata": {},
   "source": [
    "### Промежуточный вывод"
   ]
  },
  {
   "cell_type": "markdown",
   "metadata": {},
   "source": [
    "* **Обучили три модели - RandomForestRegressor, LightGBM Classifier, RandomForestClassifier.**\n",
    "* **Модели показали следующие результаты**\n",
    "* **LogisticRegression время обучения 3.34 секунды, время предсказания 47мс. f1_score: 0.75**\n",
    "* **LightGBM Classifier - время кроссвалидации 43 секунды, время обучения 14.5 сек, время предсказания 0.5 сек. f1_score: 0.86**\n",
    "* **RandomForestClassifier - время кроссвалидации 15 секунд, время обучения 1 сек, время предсказания 1 сек. f1_score: 0.47**\n",
    "* **По итоговым результатам скорости обучения и значения f1 метрики выбрали LGBMClassifier как лучшую модель.**"
   ]
  },
  {
   "cell_type": "markdown",
   "metadata": {},
   "source": [
    "## Тестирование лучшей модели."
   ]
  },
  {
   "cell_type": "code",
   "execution_count": 46,
   "metadata": {},
   "outputs": [
    {
     "name": "stdout",
     "output_type": "stream",
     "text": [
      "CPU times: total: 1.02 s\n",
      "Wall time: 1.31 s\n"
     ]
    }
   ],
   "source": [
    "%%time\n",
    "predictions = grid_lr.predict(X_test)"
   ]
  },
  {
   "cell_type": "code",
   "execution_count": 47,
   "metadata": {
    "scrolled": false
   },
   "outputs": [
    {
     "name": "stdout",
     "output_type": "stream",
     "text": [
      "0.7757859900717042\n"
     ]
    }
   ],
   "source": [
    "print(f1_score(predictions, y_test))"
   ]
  },
  {
   "cell_type": "markdown",
   "metadata": {},
   "source": [
    "**На тестовой выборке лучшая модель показала время обучения 0.2 сек, показатель f1 0.75**"
   ]
  },
  {
   "cell_type": "markdown",
   "metadata": {},
   "source": [
    "### Проверка дамми"
   ]
  },
  {
   "cell_type": "code",
   "execution_count": 48,
   "metadata": {
    "scrolled": true
   },
   "outputs": [
    {
     "name": "stdout",
     "output_type": "stream",
     "text": [
      "0.18445827349609065\n"
     ]
    }
   ],
   "source": [
    "dummy = DummyClassifier(strategy = 'constant', constant = 1)\n",
    "dummy.fit(tf_idf_train, y_train)\n",
    "predictions = dummy.predict(X_test)\n",
    "print(f1_score(predictions, y_test))"
   ]
  },
  {
   "cell_type": "markdown",
   "metadata": {},
   "source": [
    "## Выводы"
   ]
  },
  {
   "cell_type": "markdown",
   "metadata": {},
   "source": [
    "### Знакомство с данными"
   ]
  },
  {
   "cell_type": "markdown",
   "metadata": {},
   "source": [
    "* **С данными полный порядок, пропусков нет, дубликатов нет, тип данных, назвния колонок - порядок.**\n",
    "* **Данные содердат 160тысяч строк и 3 столбца.**\n",
    "* **В таблице лишний столбец с битыми индексами.**"
   ]
  },
  {
   "cell_type": "markdown",
   "metadata": {},
   "source": [
    "### Предобработка"
   ]
  },
  {
   "cell_type": "markdown",
   "metadata": {},
   "source": [
    "* **Удалён лишний столбец**"
   ]
  },
  {
   "cell_type": "markdown",
   "metadata": {},
   "source": [
    "### Подготовка данных"
   ]
  },
  {
   "cell_type": "markdown",
   "metadata": {},
   "source": [
    "* **При попытки лемматизации текста выяснилось что это будет происходит очень долго, так-как проект учебный решено оставить только код обработки текста, сама обработка проведенна не была.**\n",
    "* **Данные разделены на тестовую и тренировачную выборку.**\n",
    "* **Проведенна TF-IDF векторизация текста.**"
   ]
  },
  {
   "cell_type": "markdown",
   "metadata": {},
   "source": [
    "### Обучение моделей"
   ]
  },
  {
   "cell_type": "markdown",
   "metadata": {},
   "source": [
    "* **Обучили три модели - RandomForestRegressor, LightGBM Classifier, RandomForestClassifier.**\n",
    "* **Модели показали следующие результаты**\n",
    "* **LogisticRegression время обучения 3.34 секунды, время предсказания 47мс. f1_score: 0.75**\n",
    "* **LightGBM Classifier - время кроссвалидации 43 секунды, время обучения 14.5 сек, время предсказания 0.5 сек. f1_score: 0.86**\n",
    "* **RandomForestClassifier - время кроссвалидации 15 секунд, время обучения 1 сек, время предсказания 1 сек. f1_score: 0.47**\n",
    "* **По итоговым результатам скорости обучения и значения f1 метрики выбрали LGBMClassifier как лучшую модель.**"
   ]
  },
  {
   "cell_type": "markdown",
   "metadata": {},
   "source": [
    "### Тестирование лучшей модели"
   ]
  },
  {
   "cell_type": "markdown",
   "metadata": {},
   "source": [
    "* **Тестирование LGBMClassifier показало отличный результат f1 метрики в 0.75**\n",
    "* **Проверка dummyclassifier по какой-то причине не удалась.**"
   ]
  }
 ],
 "metadata": {
  "ExecuteTimeLog": [
   {
    "duration": 1069,
    "start_time": "2023-10-14T20:13:52.389Z"
   },
   {
    "duration": 2735,
    "start_time": "2023-10-14T20:13:53.462Z"
   },
   {
    "duration": 22,
    "start_time": "2023-10-14T20:14:06.955Z"
   },
   {
    "duration": 9,
    "start_time": "2023-10-14T20:14:31.504Z"
   },
   {
    "duration": 48,
    "start_time": "2023-10-14T20:15:13.920Z"
   },
   {
    "duration": 46,
    "start_time": "2023-10-14T20:15:29.322Z"
   },
   {
    "duration": 47,
    "start_time": "2023-10-14T20:15:46.282Z"
   },
   {
    "duration": 46,
    "start_time": "2023-10-14T20:15:57.510Z"
   },
   {
    "duration": 137,
    "start_time": "2023-10-14T20:20:30.768Z"
   },
   {
    "duration": 67,
    "start_time": "2023-10-14T20:20:36.285Z"
   },
   {
    "duration": 80,
    "start_time": "2023-10-14T20:20:44.379Z"
   },
   {
    "duration": 334,
    "start_time": "2023-10-14T20:21:00.834Z"
   },
   {
    "duration": 296,
    "start_time": "2023-10-14T20:21:06.657Z"
   },
   {
    "duration": 1412,
    "start_time": "2023-10-14T20:22:57.084Z"
   },
   {
    "duration": 85,
    "start_time": "2023-10-14T20:23:14.248Z"
   },
   {
    "duration": 19,
    "start_time": "2023-10-14T20:23:18.489Z"
   },
   {
    "duration": 15,
    "start_time": "2023-10-14T20:23:25.377Z"
   },
   {
    "duration": 8,
    "start_time": "2023-10-14T20:23:56.099Z"
   },
   {
    "duration": 6,
    "start_time": "2023-10-14T20:24:36.280Z"
   },
   {
    "duration": 402,
    "start_time": "2023-10-14T20:32:07.514Z"
   },
   {
    "duration": 14,
    "start_time": "2023-10-14T20:35:02.795Z"
   },
   {
    "duration": 27,
    "start_time": "2023-10-14T20:35:02.977Z"
   },
   {
    "duration": 11150,
    "start_time": "2023-10-14T21:21:06.841Z"
   },
   {
    "duration": 33,
    "start_time": "2023-10-14T21:24:00.483Z"
   },
   {
    "duration": 2639,
    "start_time": "2023-10-14T21:24:07.221Z"
   },
   {
    "duration": 278,
    "start_time": "2023-10-14T21:24:10.080Z"
   },
   {
    "duration": 17667,
    "start_time": "2023-10-14T21:24:22.121Z"
   },
   {
    "duration": 7,
    "start_time": "2023-10-14T21:24:39.791Z"
   },
   {
    "duration": 886,
    "start_time": "2023-10-14T21:24:39.799Z"
   },
   {
    "duration": 295,
    "start_time": "2023-10-14T21:24:40.687Z"
   },
   {
    "duration": 8,
    "start_time": "2023-10-14T21:24:40.984Z"
   },
   {
    "duration": 5,
    "start_time": "2023-10-14T21:24:40.994Z"
   },
   {
    "duration": 18,
    "start_time": "2023-10-14T21:24:41.001Z"
   },
   {
    "duration": 114,
    "start_time": "2023-10-14T21:24:41.021Z"
   },
   {
    "duration": 7456,
    "start_time": "2023-10-14T21:25:27.676Z"
   },
   {
    "duration": 699,
    "start_time": "2023-10-14T21:26:11.518Z"
   },
   {
    "duration": 479,
    "start_time": "2023-10-14T21:26:49.500Z"
   },
   {
    "duration": 482,
    "start_time": "2023-10-14T21:27:00.024Z"
   },
   {
    "duration": 528,
    "start_time": "2023-10-14T21:28:44.564Z"
   },
   {
    "duration": 13994,
    "start_time": "2023-10-14T21:28:49.808Z"
   },
   {
    "duration": 569,
    "start_time": "2023-10-14T21:29:03.806Z"
   },
   {
    "duration": 979,
    "start_time": "2023-10-14T21:29:04.377Z"
   },
   {
    "duration": 321,
    "start_time": "2023-10-14T21:29:05.367Z"
   },
   {
    "duration": 6,
    "start_time": "2023-10-14T21:29:05.690Z"
   },
   {
    "duration": 6,
    "start_time": "2023-10-14T21:29:05.698Z"
   },
   {
    "duration": 13,
    "start_time": "2023-10-14T21:29:05.705Z"
   },
   {
    "duration": 614,
    "start_time": "2023-10-14T21:29:05.719Z"
   },
   {
    "duration": 812,
    "start_time": "2023-10-14T21:29:19.612Z"
   },
   {
    "duration": 551,
    "start_time": "2023-10-14T21:29:25.615Z"
   },
   {
    "duration": 3,
    "start_time": "2023-10-14T21:32:51.445Z"
   },
   {
    "duration": 18,
    "start_time": "2023-10-14T21:33:23.332Z"
   },
   {
    "duration": 3,
    "start_time": "2023-10-14T21:33:26.379Z"
   },
   {
    "duration": 39,
    "start_time": "2023-10-14T21:33:26.603Z"
   },
   {
    "duration": 11,
    "start_time": "2023-10-14T21:33:40.549Z"
   },
   {
    "duration": 29,
    "start_time": "2023-10-14T21:37:13.822Z"
   },
   {
    "duration": 4,
    "start_time": "2023-10-14T21:37:24.265Z"
   },
   {
    "duration": 5,
    "start_time": "2023-10-14T21:37:28.912Z"
   },
   {
    "duration": 24,
    "start_time": "2023-10-14T21:38:15.706Z"
   },
   {
    "duration": 12331,
    "start_time": "2023-10-14T21:40:22.828Z"
   },
   {
    "duration": 4500,
    "start_time": "2023-10-14T21:40:35.162Z"
   },
   {
    "duration": 863,
    "start_time": "2023-10-14T21:40:39.664Z"
   },
   {
    "duration": 282,
    "start_time": "2023-10-14T21:40:40.529Z"
   },
   {
    "duration": 7,
    "start_time": "2023-10-14T21:40:40.813Z"
   },
   {
    "duration": 33,
    "start_time": "2023-10-14T21:40:40.822Z"
   },
   {
    "duration": 45,
    "start_time": "2023-10-14T21:40:40.856Z"
   },
   {
    "duration": 42,
    "start_time": "2023-10-14T21:40:40.902Z"
   },
   {
    "duration": 73928,
    "start_time": "2023-10-14T21:40:40.946Z"
   },
   {
    "duration": 0,
    "start_time": "2023-10-14T21:41:54.876Z"
   },
   {
    "duration": 0,
    "start_time": "2023-10-14T21:41:54.877Z"
   },
   {
    "duration": 31,
    "start_time": "2023-10-14T21:43:29.312Z"
   },
   {
    "duration": 0,
    "start_time": "2023-10-14T21:44:01.681Z"
   },
   {
    "duration": 44,
    "start_time": "2023-10-14T21:44:04.557Z"
   },
   {
    "duration": 5793,
    "start_time": "2023-10-14T21:44:34.143Z"
   },
   {
    "duration": 21,
    "start_time": "2023-10-14T21:46:18.527Z"
   },
   {
    "duration": 32,
    "start_time": "2023-10-14T21:47:43.648Z"
   },
   {
    "duration": 891,
    "start_time": "2023-10-14T21:47:44.398Z"
   },
   {
    "duration": 47,
    "start_time": "2023-10-14T21:48:03.599Z"
   },
   {
    "duration": 55,
    "start_time": "2023-10-14T21:48:29.407Z"
   },
   {
    "duration": 69,
    "start_time": "2023-10-14T21:49:25.034Z"
   },
   {
    "duration": 67,
    "start_time": "2023-10-14T21:49:47.806Z"
   },
   {
    "duration": 131,
    "start_time": "2023-10-14T21:50:01.698Z"
   },
   {
    "duration": 85,
    "start_time": "2023-10-14T21:50:06.270Z"
   },
   {
    "duration": 71,
    "start_time": "2023-10-14T21:50:16.127Z"
   },
   {
    "duration": 704,
    "start_time": "2023-10-14T21:50:32.104Z"
   },
   {
    "duration": 809,
    "start_time": "2023-10-14T21:52:24.511Z"
   },
   {
    "duration": 4,
    "start_time": "2023-10-14T21:52:30.432Z"
   },
   {
    "duration": 3,
    "start_time": "2023-10-14T21:53:02.856Z"
   },
   {
    "duration": 36,
    "start_time": "2023-10-14T21:53:05.546Z"
   },
   {
    "duration": 3,
    "start_time": "2023-10-14T21:53:24.733Z"
   },
   {
    "duration": 59,
    "start_time": "2023-10-14T21:53:29.441Z"
   },
   {
    "duration": 4,
    "start_time": "2023-10-14T21:53:33.971Z"
   },
   {
    "duration": 56735,
    "start_time": "2023-10-14T21:53:34.309Z"
   },
   {
    "duration": 0,
    "start_time": "2023-10-14T21:54:31.046Z"
   },
   {
    "duration": 0,
    "start_time": "2023-10-14T21:54:31.048Z"
   },
   {
    "duration": 80,
    "start_time": "2023-10-14T21:54:41.192Z"
   },
   {
    "duration": 20,
    "start_time": "2023-10-14T21:55:01.536Z"
   },
   {
    "duration": 102351,
    "start_time": "2023-10-14T21:55:06.419Z"
   },
   {
    "duration": 0,
    "start_time": "2023-10-14T21:56:48.773Z"
   },
   {
    "duration": 0,
    "start_time": "2023-10-14T21:56:48.774Z"
   },
   {
    "duration": 15537,
    "start_time": "2023-10-14T21:56:49.772Z"
   },
   {
    "duration": 2158,
    "start_time": "2023-10-14T21:57:07.699Z"
   },
   {
    "duration": 11107,
    "start_time": "2023-10-14T21:57:20.130Z"
   },
   {
    "duration": 4,
    "start_time": "2023-10-14T21:57:38.727Z"
   },
   {
    "duration": 4,
    "start_time": "2023-10-14T21:58:19.278Z"
   },
   {
    "duration": 3,
    "start_time": "2023-10-14T21:58:30.248Z"
   },
   {
    "duration": 3,
    "start_time": "2023-10-14T21:59:18.157Z"
   },
   {
    "duration": 4,
    "start_time": "2023-10-14T21:59:25.226Z"
   },
   {
    "duration": 38,
    "start_time": "2023-10-14T21:59:54.545Z"
   },
   {
    "duration": 63,
    "start_time": "2023-10-14T22:00:33.704Z"
   },
   {
    "duration": 4,
    "start_time": "2023-10-14T22:00:45.722Z"
   },
   {
    "duration": 5,
    "start_time": "2023-10-14T22:00:54.061Z"
   },
   {
    "duration": 35,
    "start_time": "2023-10-14T22:00:58.863Z"
   },
   {
    "duration": 2147,
    "start_time": "2023-10-14T22:01:19.416Z"
   },
   {
    "duration": 1245,
    "start_time": "2023-10-14T22:01:21.565Z"
   },
   {
    "duration": 964,
    "start_time": "2023-10-14T22:01:22.812Z"
   },
   {
    "duration": 310,
    "start_time": "2023-10-14T22:01:23.778Z"
   },
   {
    "duration": 9,
    "start_time": "2023-10-14T22:01:24.091Z"
   },
   {
    "duration": 22,
    "start_time": "2023-10-14T22:01:24.101Z"
   },
   {
    "duration": 26,
    "start_time": "2023-10-14T22:01:24.125Z"
   },
   {
    "duration": 51,
    "start_time": "2023-10-14T22:01:24.152Z"
   },
   {
    "duration": 46,
    "start_time": "2023-10-14T22:01:24.204Z"
   },
   {
    "duration": 10799,
    "start_time": "2023-10-14T22:01:24.252Z"
   },
   {
    "duration": 6,
    "start_time": "2023-10-14T22:01:35.053Z"
   },
   {
    "duration": 20,
    "start_time": "2023-10-14T22:01:35.060Z"
   },
   {
    "duration": 44,
    "start_time": "2023-10-14T22:01:35.082Z"
   },
   {
    "duration": 32,
    "start_time": "2023-10-14T22:01:35.128Z"
   },
   {
    "duration": 1598,
    "start_time": "2023-10-14T22:04:36.928Z"
   },
   {
    "duration": 2017,
    "start_time": "2023-10-14T22:04:46.438Z"
   },
   {
    "duration": 4,
    "start_time": "2023-10-14T22:04:56.094Z"
   },
   {
    "duration": 9,
    "start_time": "2023-10-14T22:05:12.724Z"
   },
   {
    "duration": 5,
    "start_time": "2023-10-14T22:06:16.259Z"
   },
   {
    "duration": 7,
    "start_time": "2023-10-14T22:07:36.430Z"
   },
   {
    "duration": 10287,
    "start_time": "2023-10-14T22:10:37.968Z"
   },
   {
    "duration": 11,
    "start_time": "2023-10-14T22:10:52.617Z"
   },
   {
    "duration": 1432,
    "start_time": "2023-10-14T22:11:01.521Z"
   },
   {
    "duration": 0,
    "start_time": "2023-10-14T22:11:02.955Z"
   },
   {
    "duration": 14,
    "start_time": "2023-10-14T22:11:23.063Z"
   },
   {
    "duration": 26,
    "start_time": "2023-10-14T22:11:23.298Z"
   },
   {
    "duration": 48,
    "start_time": "2023-10-14T22:11:27.248Z"
   },
   {
    "duration": 0,
    "start_time": "2023-10-14T22:11:27.298Z"
   },
   {
    "duration": 2153,
    "start_time": "2023-10-14T22:11:37.524Z"
   },
   {
    "duration": 1779,
    "start_time": "2023-10-14T22:11:39.680Z"
   },
   {
    "duration": 2453,
    "start_time": "2023-10-14T22:11:41.460Z"
   },
   {
    "duration": 288,
    "start_time": "2023-10-14T22:11:43.915Z"
   },
   {
    "duration": 7,
    "start_time": "2023-10-14T22:11:44.205Z"
   },
   {
    "duration": 40,
    "start_time": "2023-10-14T22:11:44.214Z"
   },
   {
    "duration": 44,
    "start_time": "2023-10-14T22:11:44.255Z"
   },
   {
    "duration": 64,
    "start_time": "2023-10-14T22:11:44.301Z"
   },
   {
    "duration": 28,
    "start_time": "2023-10-14T22:11:44.367Z"
   },
   {
    "duration": 10840,
    "start_time": "2023-10-14T22:11:44.397Z"
   },
   {
    "duration": 6,
    "start_time": "2023-10-14T22:11:55.239Z"
   },
   {
    "duration": 52,
    "start_time": "2023-10-14T22:11:55.246Z"
   },
   {
    "duration": 80,
    "start_time": "2023-10-14T22:11:55.300Z"
   },
   {
    "duration": 28,
    "start_time": "2023-10-14T22:11:55.383Z"
   },
   {
    "duration": 2111,
    "start_time": "2023-10-14T22:11:55.413Z"
   },
   {
    "duration": 9819,
    "start_time": "2023-10-14T22:11:57.526Z"
   },
   {
    "duration": 42399,
    "start_time": "2023-10-14T22:12:07.347Z"
   },
   {
    "duration": 47,
    "start_time": "2023-10-14T22:12:57.115Z"
   },
   {
    "duration": 135,
    "start_time": "2023-10-14T22:13:03.917Z"
   },
   {
    "duration": 47,
    "start_time": "2023-10-14T22:13:42.054Z"
   },
   {
    "duration": 46,
    "start_time": "2023-10-14T22:14:27.740Z"
   },
   {
    "duration": 19,
    "start_time": "2023-10-14T22:15:40.107Z"
   },
   {
    "duration": 48,
    "start_time": "2023-10-14T22:16:13.937Z"
   },
   {
    "duration": 207,
    "start_time": "2023-10-14T23:08:34.773Z"
   },
   {
    "duration": 340,
    "start_time": "2023-10-14T23:09:14.995Z"
   },
   {
    "duration": 4,
    "start_time": "2023-10-14T23:10:57.970Z"
   },
   {
    "duration": 4,
    "start_time": "2023-10-14T23:15:10.297Z"
   },
   {
    "duration": 168,
    "start_time": "2023-10-14T23:15:11.374Z"
   },
   {
    "duration": 170,
    "start_time": "2023-10-14T23:16:16.417Z"
   },
   {
    "duration": 6,
    "start_time": "2023-10-14T23:16:35.433Z"
   },
   {
    "duration": 8,
    "start_time": "2023-10-14T23:16:43.811Z"
   },
   {
    "duration": 117,
    "start_time": "2023-10-15T09:52:48.231Z"
   },
   {
    "duration": 65,
    "start_time": "2023-10-15T09:55:43.894Z"
   },
   {
    "duration": 2465,
    "start_time": "2023-10-15T09:55:49.188Z"
   },
   {
    "duration": 2446,
    "start_time": "2023-10-15T09:55:51.655Z"
   },
   {
    "duration": 2313,
    "start_time": "2023-10-15T09:55:54.104Z"
   },
   {
    "duration": 2495,
    "start_time": "2023-10-15T09:55:56.419Z"
   },
   {
    "duration": 341,
    "start_time": "2023-10-15T09:55:58.916Z"
   },
   {
    "duration": 7,
    "start_time": "2023-10-15T09:55:59.259Z"
   },
   {
    "duration": 10,
    "start_time": "2023-10-15T09:55:59.267Z"
   },
   {
    "duration": 13,
    "start_time": "2023-10-15T09:55:59.278Z"
   },
   {
    "duration": 570,
    "start_time": "2023-10-15T09:55:59.293Z"
   },
   {
    "duration": 462,
    "start_time": "2023-10-15T09:56:12.455Z"
   },
   {
    "duration": 112,
    "start_time": "2023-10-15T09:56:16.446Z"
   },
   {
    "duration": 92,
    "start_time": "2023-10-15T09:57:29.720Z"
   },
   {
    "duration": 1313,
    "start_time": "2023-10-15T09:57:48.977Z"
   },
   {
    "duration": 70,
    "start_time": "2023-10-15T09:58:13.167Z"
   },
   {
    "duration": 39,
    "start_time": "2023-10-15T09:58:38.988Z"
   },
   {
    "duration": 15,
    "start_time": "2023-10-15T09:59:04.867Z"
   },
   {
    "duration": 44,
    "start_time": "2023-10-15T09:59:24.860Z"
   },
   {
    "duration": 11,
    "start_time": "2023-10-15T09:59:33.391Z"
   },
   {
    "duration": 969,
    "start_time": "2023-10-15T09:59:39.354Z"
   },
   {
    "duration": 914,
    "start_time": "2023-10-15T09:59:53.017Z"
   },
   {
    "duration": 0,
    "start_time": "2023-10-15T10:06:10.397Z"
   },
   {
    "duration": 3410,
    "start_time": "2023-10-15T10:06:16.882Z"
   },
   {
    "duration": 3544,
    "start_time": "2023-10-15T10:10:39.228Z"
   },
   {
    "duration": 4648,
    "start_time": "2023-10-15T10:10:42.775Z"
   },
   {
    "duration": 54,
    "start_time": "2023-10-15T10:11:10.556Z"
   },
   {
    "duration": 680,
    "start_time": "2023-10-17T18:05:42.066Z"
   },
   {
    "duration": 149,
    "start_time": "2023-10-17T18:05:47.977Z"
   },
   {
    "duration": 143,
    "start_time": "2023-10-17T18:05:52.920Z"
   },
   {
    "duration": 136,
    "start_time": "2023-10-17T18:06:33.269Z"
   },
   {
    "duration": 149,
    "start_time": "2023-10-17T18:06:48.103Z"
   },
   {
    "duration": 203,
    "start_time": "2023-10-17T18:07:45.646Z"
   },
   {
    "duration": 190,
    "start_time": "2023-10-17T18:07:52.134Z"
   },
   {
    "duration": 189,
    "start_time": "2023-10-17T18:07:56.247Z"
   }
  ],
  "kernelspec": {
   "display_name": "Python 3 (ipykernel)",
   "language": "python",
   "name": "python3"
  },
  "language_info": {
   "codemirror_mode": {
    "name": "ipython",
    "version": 3
   },
   "file_extension": ".py",
   "mimetype": "text/x-python",
   "name": "python",
   "nbconvert_exporter": "python",
   "pygments_lexer": "ipython3",
   "version": "3.9.16"
  },
  "toc": {
   "base_numbering": 1,
   "nav_menu": {},
   "number_sections": true,
   "sideBar": true,
   "skip_h1_title": true,
   "title_cell": "Содержание",
   "title_sidebar": "Contents",
   "toc_cell": true,
   "toc_position": {
    "height": "calc(100% - 180px)",
    "left": "10px",
    "top": "150px",
    "width": "302.391px"
   },
   "toc_section_display": true,
   "toc_window_display": false
  }
 },
 "nbformat": 4,
 "nbformat_minor": 2
}
