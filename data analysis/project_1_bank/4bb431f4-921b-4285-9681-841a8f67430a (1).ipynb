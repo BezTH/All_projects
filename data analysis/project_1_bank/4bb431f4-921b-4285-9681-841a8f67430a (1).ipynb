{
 "cells": [
  {
   "cell_type": "markdown",
   "id": "26735a31",
   "metadata": {
    "deletable": false,
    "editable": false,
    "id": "c81daeeb"
   },
   "source": [
    "# Исследование надежности заемщиков\n"
   ]
  },
  {
   "cell_type": "markdown",
   "id": "e9695c6b",
   "metadata": {
    "deletable": false,
    "editable": false,
    "id": "827c20bf"
   },
   "source": [
    "Во второй части проекта вы выполните шаги 3 и 4. Их вручную проверит ревьюер.\n",
    "Чтобы вам не пришлось писать код заново для шагов 1 и 2, мы добавили авторские решения в ячейки с кодом. \n",
    "\n"
   ]
  },
  {
   "cell_type": "markdown",
   "id": "5e509d41",
   "metadata": {
    "deletable": false,
    "editable": false,
    "id": "744d7639"
   },
   "source": [
    "## Откройте таблицу и изучите общую информацию о данных"
   ]
  },
  {
   "cell_type": "markdown",
   "id": "dbd897ec",
   "metadata": {
    "deletable": false,
    "editable": false,
    "id": "e7a14c31"
   },
   "source": [
    "**Задание 1. Импортируйте библиотеку pandas. Считайте данные из csv-файла в датафрейм и сохраните в переменную `data`. Путь к файлу:**\n",
    "\n",
    "`/datasets/data.csv`"
   ]
  },
  {
   "cell_type": "code",
   "execution_count": 1,
   "id": "c3049fd7",
   "metadata": {
    "deletable": false,
    "id": "7bcf75c9"
   },
   "outputs": [],
   "source": [
    "import pandas as pd\n",
    "\n",
    "try:\n",
    "    data = pd.read_csv('/datasets/data.csv')\n",
    "except:\n",
    "    data = pd.read_csv('https://code.s3.yandex.net/datasets/data.csv')"
   ]
  },
  {
   "cell_type": "markdown",
   "id": "bc66ccb3",
   "metadata": {
    "deletable": false,
    "editable": false,
    "id": "b8038fe3"
   },
   "source": [
    "**Задание 2. Выведите первые 20 строчек датафрейма `data` на экран.**"
   ]
  },
  {
   "cell_type": "code",
   "execution_count": 2,
   "id": "bde9f2b1",
   "metadata": {
    "deletable": false,
    "id": "2a7cab99",
    "outputId": "1a8f3ef2-d323-4ec2-ddf7-89670b5944c4"
   },
   "outputs": [
    {
     "data": {
      "text/html": [
       "<div>\n",
       "<style scoped>\n",
       "    .dataframe tbody tr th:only-of-type {\n",
       "        vertical-align: middle;\n",
       "    }\n",
       "\n",
       "    .dataframe tbody tr th {\n",
       "        vertical-align: top;\n",
       "    }\n",
       "\n",
       "    .dataframe thead th {\n",
       "        text-align: right;\n",
       "    }\n",
       "</style>\n",
       "<table border=\"1\" class=\"dataframe\">\n",
       "  <thead>\n",
       "    <tr style=\"text-align: right;\">\n",
       "      <th></th>\n",
       "      <th>children</th>\n",
       "      <th>days_employed</th>\n",
       "      <th>dob_years</th>\n",
       "      <th>education</th>\n",
       "      <th>education_id</th>\n",
       "      <th>family_status</th>\n",
       "      <th>family_status_id</th>\n",
       "      <th>gender</th>\n",
       "      <th>income_type</th>\n",
       "      <th>debt</th>\n",
       "      <th>total_income</th>\n",
       "      <th>purpose</th>\n",
       "    </tr>\n",
       "  </thead>\n",
       "  <tbody>\n",
       "    <tr>\n",
       "      <th>0</th>\n",
       "      <td>1</td>\n",
       "      <td>-8437.673028</td>\n",
       "      <td>42</td>\n",
       "      <td>высшее</td>\n",
       "      <td>0</td>\n",
       "      <td>женат / замужем</td>\n",
       "      <td>0</td>\n",
       "      <td>F</td>\n",
       "      <td>сотрудник</td>\n",
       "      <td>0</td>\n",
       "      <td>253875.639453</td>\n",
       "      <td>покупка жилья</td>\n",
       "    </tr>\n",
       "    <tr>\n",
       "      <th>1</th>\n",
       "      <td>1</td>\n",
       "      <td>-4024.803754</td>\n",
       "      <td>36</td>\n",
       "      <td>среднее</td>\n",
       "      <td>1</td>\n",
       "      <td>женат / замужем</td>\n",
       "      <td>0</td>\n",
       "      <td>F</td>\n",
       "      <td>сотрудник</td>\n",
       "      <td>0</td>\n",
       "      <td>112080.014102</td>\n",
       "      <td>приобретение автомобиля</td>\n",
       "    </tr>\n",
       "    <tr>\n",
       "      <th>2</th>\n",
       "      <td>0</td>\n",
       "      <td>-5623.422610</td>\n",
       "      <td>33</td>\n",
       "      <td>Среднее</td>\n",
       "      <td>1</td>\n",
       "      <td>женат / замужем</td>\n",
       "      <td>0</td>\n",
       "      <td>M</td>\n",
       "      <td>сотрудник</td>\n",
       "      <td>0</td>\n",
       "      <td>145885.952297</td>\n",
       "      <td>покупка жилья</td>\n",
       "    </tr>\n",
       "    <tr>\n",
       "      <th>3</th>\n",
       "      <td>3</td>\n",
       "      <td>-4124.747207</td>\n",
       "      <td>32</td>\n",
       "      <td>среднее</td>\n",
       "      <td>1</td>\n",
       "      <td>женат / замужем</td>\n",
       "      <td>0</td>\n",
       "      <td>M</td>\n",
       "      <td>сотрудник</td>\n",
       "      <td>0</td>\n",
       "      <td>267628.550329</td>\n",
       "      <td>дополнительное образование</td>\n",
       "    </tr>\n",
       "    <tr>\n",
       "      <th>4</th>\n",
       "      <td>0</td>\n",
       "      <td>340266.072047</td>\n",
       "      <td>53</td>\n",
       "      <td>среднее</td>\n",
       "      <td>1</td>\n",
       "      <td>гражданский брак</td>\n",
       "      <td>1</td>\n",
       "      <td>F</td>\n",
       "      <td>пенсионер</td>\n",
       "      <td>0</td>\n",
       "      <td>158616.077870</td>\n",
       "      <td>сыграть свадьбу</td>\n",
       "    </tr>\n",
       "    <tr>\n",
       "      <th>5</th>\n",
       "      <td>0</td>\n",
       "      <td>-926.185831</td>\n",
       "      <td>27</td>\n",
       "      <td>высшее</td>\n",
       "      <td>0</td>\n",
       "      <td>гражданский брак</td>\n",
       "      <td>1</td>\n",
       "      <td>M</td>\n",
       "      <td>компаньон</td>\n",
       "      <td>0</td>\n",
       "      <td>255763.565419</td>\n",
       "      <td>покупка жилья</td>\n",
       "    </tr>\n",
       "    <tr>\n",
       "      <th>6</th>\n",
       "      <td>0</td>\n",
       "      <td>-2879.202052</td>\n",
       "      <td>43</td>\n",
       "      <td>высшее</td>\n",
       "      <td>0</td>\n",
       "      <td>женат / замужем</td>\n",
       "      <td>0</td>\n",
       "      <td>F</td>\n",
       "      <td>компаньон</td>\n",
       "      <td>0</td>\n",
       "      <td>240525.971920</td>\n",
       "      <td>операции с жильем</td>\n",
       "    </tr>\n",
       "    <tr>\n",
       "      <th>7</th>\n",
       "      <td>0</td>\n",
       "      <td>-152.779569</td>\n",
       "      <td>50</td>\n",
       "      <td>СРЕДНЕЕ</td>\n",
       "      <td>1</td>\n",
       "      <td>женат / замужем</td>\n",
       "      <td>0</td>\n",
       "      <td>M</td>\n",
       "      <td>сотрудник</td>\n",
       "      <td>0</td>\n",
       "      <td>135823.934197</td>\n",
       "      <td>образование</td>\n",
       "    </tr>\n",
       "    <tr>\n",
       "      <th>8</th>\n",
       "      <td>2</td>\n",
       "      <td>-6929.865299</td>\n",
       "      <td>35</td>\n",
       "      <td>ВЫСШЕЕ</td>\n",
       "      <td>0</td>\n",
       "      <td>гражданский брак</td>\n",
       "      <td>1</td>\n",
       "      <td>F</td>\n",
       "      <td>сотрудник</td>\n",
       "      <td>0</td>\n",
       "      <td>95856.832424</td>\n",
       "      <td>на проведение свадьбы</td>\n",
       "    </tr>\n",
       "    <tr>\n",
       "      <th>9</th>\n",
       "      <td>0</td>\n",
       "      <td>-2188.756445</td>\n",
       "      <td>41</td>\n",
       "      <td>среднее</td>\n",
       "      <td>1</td>\n",
       "      <td>женат / замужем</td>\n",
       "      <td>0</td>\n",
       "      <td>M</td>\n",
       "      <td>сотрудник</td>\n",
       "      <td>0</td>\n",
       "      <td>144425.938277</td>\n",
       "      <td>покупка жилья для семьи</td>\n",
       "    </tr>\n",
       "    <tr>\n",
       "      <th>10</th>\n",
       "      <td>2</td>\n",
       "      <td>-4171.483647</td>\n",
       "      <td>36</td>\n",
       "      <td>высшее</td>\n",
       "      <td>0</td>\n",
       "      <td>женат / замужем</td>\n",
       "      <td>0</td>\n",
       "      <td>M</td>\n",
       "      <td>компаньон</td>\n",
       "      <td>0</td>\n",
       "      <td>113943.491460</td>\n",
       "      <td>покупка недвижимости</td>\n",
       "    </tr>\n",
       "    <tr>\n",
       "      <th>11</th>\n",
       "      <td>0</td>\n",
       "      <td>-792.701887</td>\n",
       "      <td>40</td>\n",
       "      <td>среднее</td>\n",
       "      <td>1</td>\n",
       "      <td>женат / замужем</td>\n",
       "      <td>0</td>\n",
       "      <td>F</td>\n",
       "      <td>сотрудник</td>\n",
       "      <td>0</td>\n",
       "      <td>77069.234271</td>\n",
       "      <td>покупка коммерческой недвижимости</td>\n",
       "    </tr>\n",
       "    <tr>\n",
       "      <th>12</th>\n",
       "      <td>0</td>\n",
       "      <td>NaN</td>\n",
       "      <td>65</td>\n",
       "      <td>среднее</td>\n",
       "      <td>1</td>\n",
       "      <td>гражданский брак</td>\n",
       "      <td>1</td>\n",
       "      <td>M</td>\n",
       "      <td>пенсионер</td>\n",
       "      <td>0</td>\n",
       "      <td>NaN</td>\n",
       "      <td>сыграть свадьбу</td>\n",
       "    </tr>\n",
       "    <tr>\n",
       "      <th>13</th>\n",
       "      <td>0</td>\n",
       "      <td>-1846.641941</td>\n",
       "      <td>54</td>\n",
       "      <td>неоконченное высшее</td>\n",
       "      <td>2</td>\n",
       "      <td>женат / замужем</td>\n",
       "      <td>0</td>\n",
       "      <td>F</td>\n",
       "      <td>сотрудник</td>\n",
       "      <td>0</td>\n",
       "      <td>130458.228857</td>\n",
       "      <td>приобретение автомобиля</td>\n",
       "    </tr>\n",
       "    <tr>\n",
       "      <th>14</th>\n",
       "      <td>0</td>\n",
       "      <td>-1844.956182</td>\n",
       "      <td>56</td>\n",
       "      <td>высшее</td>\n",
       "      <td>0</td>\n",
       "      <td>гражданский брак</td>\n",
       "      <td>1</td>\n",
       "      <td>F</td>\n",
       "      <td>компаньон</td>\n",
       "      <td>1</td>\n",
       "      <td>165127.911772</td>\n",
       "      <td>покупка жилой недвижимости</td>\n",
       "    </tr>\n",
       "    <tr>\n",
       "      <th>15</th>\n",
       "      <td>1</td>\n",
       "      <td>-972.364419</td>\n",
       "      <td>26</td>\n",
       "      <td>среднее</td>\n",
       "      <td>1</td>\n",
       "      <td>женат / замужем</td>\n",
       "      <td>0</td>\n",
       "      <td>F</td>\n",
       "      <td>сотрудник</td>\n",
       "      <td>0</td>\n",
       "      <td>116820.904450</td>\n",
       "      <td>строительство собственной недвижимости</td>\n",
       "    </tr>\n",
       "    <tr>\n",
       "      <th>16</th>\n",
       "      <td>0</td>\n",
       "      <td>-1719.934226</td>\n",
       "      <td>35</td>\n",
       "      <td>среднее</td>\n",
       "      <td>1</td>\n",
       "      <td>женат / замужем</td>\n",
       "      <td>0</td>\n",
       "      <td>F</td>\n",
       "      <td>сотрудник</td>\n",
       "      <td>0</td>\n",
       "      <td>289202.704229</td>\n",
       "      <td>недвижимость</td>\n",
       "    </tr>\n",
       "    <tr>\n",
       "      <th>17</th>\n",
       "      <td>0</td>\n",
       "      <td>-2369.999720</td>\n",
       "      <td>33</td>\n",
       "      <td>высшее</td>\n",
       "      <td>0</td>\n",
       "      <td>гражданский брак</td>\n",
       "      <td>1</td>\n",
       "      <td>M</td>\n",
       "      <td>сотрудник</td>\n",
       "      <td>0</td>\n",
       "      <td>90410.586745</td>\n",
       "      <td>строительство недвижимости</td>\n",
       "    </tr>\n",
       "    <tr>\n",
       "      <th>18</th>\n",
       "      <td>0</td>\n",
       "      <td>400281.136913</td>\n",
       "      <td>53</td>\n",
       "      <td>среднее</td>\n",
       "      <td>1</td>\n",
       "      <td>вдовец / вдова</td>\n",
       "      <td>2</td>\n",
       "      <td>F</td>\n",
       "      <td>пенсионер</td>\n",
       "      <td>0</td>\n",
       "      <td>56823.777243</td>\n",
       "      <td>на покупку подержанного автомобиля</td>\n",
       "    </tr>\n",
       "    <tr>\n",
       "      <th>19</th>\n",
       "      <td>0</td>\n",
       "      <td>-10038.818549</td>\n",
       "      <td>48</td>\n",
       "      <td>СРЕДНЕЕ</td>\n",
       "      <td>1</td>\n",
       "      <td>в разводе</td>\n",
       "      <td>3</td>\n",
       "      <td>F</td>\n",
       "      <td>сотрудник</td>\n",
       "      <td>0</td>\n",
       "      <td>242831.107982</td>\n",
       "      <td>на покупку своего автомобиля</td>\n",
       "    </tr>\n",
       "  </tbody>\n",
       "</table>\n",
       "</div>"
      ],
      "text/plain": [
       "    children  days_employed  dob_years            education  education_id  \\\n",
       "0          1   -8437.673028         42               высшее             0   \n",
       "1          1   -4024.803754         36              среднее             1   \n",
       "2          0   -5623.422610         33              Среднее             1   \n",
       "3          3   -4124.747207         32              среднее             1   \n",
       "4          0  340266.072047         53              среднее             1   \n",
       "5          0    -926.185831         27               высшее             0   \n",
       "6          0   -2879.202052         43               высшее             0   \n",
       "7          0    -152.779569         50              СРЕДНЕЕ             1   \n",
       "8          2   -6929.865299         35               ВЫСШЕЕ             0   \n",
       "9          0   -2188.756445         41              среднее             1   \n",
       "10         2   -4171.483647         36               высшее             0   \n",
       "11         0    -792.701887         40              среднее             1   \n",
       "12         0            NaN         65              среднее             1   \n",
       "13         0   -1846.641941         54  неоконченное высшее             2   \n",
       "14         0   -1844.956182         56               высшее             0   \n",
       "15         1    -972.364419         26              среднее             1   \n",
       "16         0   -1719.934226         35              среднее             1   \n",
       "17         0   -2369.999720         33               высшее             0   \n",
       "18         0  400281.136913         53              среднее             1   \n",
       "19         0  -10038.818549         48              СРЕДНЕЕ             1   \n",
       "\n",
       "       family_status  family_status_id gender income_type  debt  \\\n",
       "0    женат / замужем                 0      F   сотрудник     0   \n",
       "1    женат / замужем                 0      F   сотрудник     0   \n",
       "2    женат / замужем                 0      M   сотрудник     0   \n",
       "3    женат / замужем                 0      M   сотрудник     0   \n",
       "4   гражданский брак                 1      F   пенсионер     0   \n",
       "5   гражданский брак                 1      M   компаньон     0   \n",
       "6    женат / замужем                 0      F   компаньон     0   \n",
       "7    женат / замужем                 0      M   сотрудник     0   \n",
       "8   гражданский брак                 1      F   сотрудник     0   \n",
       "9    женат / замужем                 0      M   сотрудник     0   \n",
       "10   женат / замужем                 0      M   компаньон     0   \n",
       "11   женат / замужем                 0      F   сотрудник     0   \n",
       "12  гражданский брак                 1      M   пенсионер     0   \n",
       "13   женат / замужем                 0      F   сотрудник     0   \n",
       "14  гражданский брак                 1      F   компаньон     1   \n",
       "15   женат / замужем                 0      F   сотрудник     0   \n",
       "16   женат / замужем                 0      F   сотрудник     0   \n",
       "17  гражданский брак                 1      M   сотрудник     0   \n",
       "18    вдовец / вдова                 2      F   пенсионер     0   \n",
       "19         в разводе                 3      F   сотрудник     0   \n",
       "\n",
       "     total_income                                 purpose  \n",
       "0   253875.639453                           покупка жилья  \n",
       "1   112080.014102                 приобретение автомобиля  \n",
       "2   145885.952297                           покупка жилья  \n",
       "3   267628.550329              дополнительное образование  \n",
       "4   158616.077870                         сыграть свадьбу  \n",
       "5   255763.565419                           покупка жилья  \n",
       "6   240525.971920                       операции с жильем  \n",
       "7   135823.934197                             образование  \n",
       "8    95856.832424                   на проведение свадьбы  \n",
       "9   144425.938277                 покупка жилья для семьи  \n",
       "10  113943.491460                    покупка недвижимости  \n",
       "11   77069.234271       покупка коммерческой недвижимости  \n",
       "12            NaN                         сыграть свадьбу  \n",
       "13  130458.228857                 приобретение автомобиля  \n",
       "14  165127.911772              покупка жилой недвижимости  \n",
       "15  116820.904450  строительство собственной недвижимости  \n",
       "16  289202.704229                            недвижимость  \n",
       "17   90410.586745              строительство недвижимости  \n",
       "18   56823.777243      на покупку подержанного автомобиля  \n",
       "19  242831.107982            на покупку своего автомобиля  "
      ]
     },
     "execution_count": 2,
     "metadata": {},
     "output_type": "execute_result"
    }
   ],
   "source": [
    "data.head(20)"
   ]
  },
  {
   "cell_type": "markdown",
   "id": "ce215b20",
   "metadata": {
    "deletable": false,
    "editable": false,
    "id": "1c12e233"
   },
   "source": [
    "**Задание 3. Выведите основную информацию о датафрейме с помощью метода `info()`.**"
   ]
  },
  {
   "cell_type": "code",
   "execution_count": 3,
   "id": "5a6179ec",
   "metadata": {
    "deletable": false,
    "id": "2b757bca",
    "outputId": "15376089-8dad-46c9-b520-c05248d43158"
   },
   "outputs": [
    {
     "name": "stdout",
     "output_type": "stream",
     "text": [
      "<class 'pandas.core.frame.DataFrame'>\n",
      "RangeIndex: 21525 entries, 0 to 21524\n",
      "Data columns (total 12 columns):\n",
      " #   Column            Non-Null Count  Dtype  \n",
      "---  ------            --------------  -----  \n",
      " 0   children          21525 non-null  int64  \n",
      " 1   days_employed     19351 non-null  float64\n",
      " 2   dob_years         21525 non-null  int64  \n",
      " 3   education         21525 non-null  object \n",
      " 4   education_id      21525 non-null  int64  \n",
      " 5   family_status     21525 non-null  object \n",
      " 6   family_status_id  21525 non-null  int64  \n",
      " 7   gender            21525 non-null  object \n",
      " 8   income_type       21525 non-null  object \n",
      " 9   debt              21525 non-null  int64  \n",
      " 10  total_income      19351 non-null  float64\n",
      " 11  purpose           21525 non-null  object \n",
      "dtypes: float64(2), int64(5), object(5)\n",
      "memory usage: 2.0+ MB\n"
     ]
    }
   ],
   "source": [
    "data.info()"
   ]
  },
  {
   "cell_type": "markdown",
   "id": "63836912",
   "metadata": {
    "deletable": false,
    "editable": false,
    "id": "333ec665"
   },
   "source": [
    "## Предобработка данных"
   ]
  },
  {
   "cell_type": "markdown",
   "id": "69e34bc6",
   "metadata": {
    "deletable": false,
    "editable": false,
    "id": "02d92d53"
   },
   "source": [
    "### Удаление пропусков"
   ]
  },
  {
   "cell_type": "markdown",
   "id": "fe09af96",
   "metadata": {
    "deletable": false,
    "editable": false,
    "id": "cd84967c"
   },
   "source": [
    "**Задание 4. Выведите количество пропущенных значений для каждого столбца. Используйте комбинацию двух методов.**"
   ]
  },
  {
   "cell_type": "code",
   "execution_count": 4,
   "id": "695d805e",
   "metadata": {
    "deletable": false,
    "id": "7f9b2309",
    "outputId": "81f4d817-781c-465c-ed15-91ce4446810d"
   },
   "outputs": [
    {
     "data": {
      "text/plain": [
       "children               0\n",
       "days_employed       2174\n",
       "dob_years              0\n",
       "education              0\n",
       "education_id           0\n",
       "family_status          0\n",
       "family_status_id       0\n",
       "gender                 0\n",
       "income_type            0\n",
       "debt                   0\n",
       "total_income        2174\n",
       "purpose                0\n",
       "dtype: int64"
      ]
     },
     "execution_count": 4,
     "metadata": {},
     "output_type": "execute_result"
    }
   ],
   "source": [
    "data.isna().sum()"
   ]
  },
  {
   "cell_type": "markdown",
   "id": "597730f4",
   "metadata": {
    "deletable": false,
    "editable": false,
    "id": "db86e27b"
   },
   "source": [
    "**Задание 5. В двух столбцах есть пропущенные значения. Один из них — `days_employed`. Пропуски в этом столбце вы обработаете на следующем этапе. Другой столбец с пропущенными значениями — `total_income` — хранит данные о доходах. На сумму дохода сильнее всего влияет тип занятости, поэтому заполнить пропуски в этом столбце нужно медианным значением по каждому типу из столбца `income_type`. Например, у человека с типом занятости `сотрудник` пропуск в столбце `total_income` должен быть заполнен медианным доходом среди всех записей с тем же типом.**"
   ]
  },
  {
   "cell_type": "code",
   "execution_count": 5,
   "id": "ffdbf3ea",
   "metadata": {
    "deletable": false,
    "id": "42006a93"
   },
   "outputs": [],
   "source": [
    "for i in data['income_type'].unique():\n",
    "    data.loc[(data['income_type'] == i) & (data['total_income'].isna()), 'total_income'] = \\\n",
    "    data.loc[(data['income_type'] == i), 'total_income'].median()"
   ]
  },
  {
   "cell_type": "markdown",
   "id": "c73777e1",
   "metadata": {
    "deletable": false,
    "editable": false,
    "id": "89da5ece"
   },
   "source": [
    "### Обработка аномальных значений"
   ]
  },
  {
   "cell_type": "markdown",
   "id": "e4760a3d",
   "metadata": {
    "deletable": false,
    "editable": false,
    "id": "57964554"
   },
   "source": [
    "**Задание 6. В данных могут встречаться артефакты (аномалии) — значения, которые не отражают действительность и появились по какой-то ошибке. таким артефактом будет отрицательное количество дней трудового стажа в столбце `days_employed`. Для реальных данных это нормально. Обработайте значения в этом столбце: замените все отрицательные значения положительными с помощью метода `abs()`.**"
   ]
  },
  {
   "cell_type": "code",
   "execution_count": 6,
   "id": "92a0dd45",
   "metadata": {
    "deletable": false,
    "id": "f6f055bf"
   },
   "outputs": [],
   "source": [
    "data['days_employed'] = data['days_employed'].abs()"
   ]
  },
  {
   "cell_type": "markdown",
   "id": "b59b840c",
   "metadata": {
    "deletable": false,
    "editable": false,
    "id": "6107dd2f"
   },
   "source": [
    "**Задание 7. Для каждого типа занятости выведите медианное значение трудового стажа `days_employed` в днях.**"
   ]
  },
  {
   "cell_type": "code",
   "execution_count": 7,
   "id": "80c6361a",
   "metadata": {
    "deletable": false,
    "id": "85a5faf6",
    "outputId": "801ef80e-522b-4668-f34e-565af7432bcf"
   },
   "outputs": [
    {
     "data": {
      "text/plain": [
       "income_type\n",
       "безработный        366413.652744\n",
       "в декрете            3296.759962\n",
       "госслужащий          2689.368353\n",
       "компаньон            1547.382223\n",
       "пенсионер          365213.306266\n",
       "предприниматель       520.848083\n",
       "сотрудник            1574.202821\n",
       "студент               578.751554\n",
       "Name: days_employed, dtype: float64"
      ]
     },
     "execution_count": 7,
     "metadata": {},
     "output_type": "execute_result"
    }
   ],
   "source": [
    "data.groupby('income_type')['days_employed'].agg('median')"
   ]
  },
  {
   "cell_type": "markdown",
   "id": "0181fba9",
   "metadata": {
    "deletable": false,
    "editable": false,
    "id": "38d1a030"
   },
   "source": [
    "У двух типов (безработные и пенсионеры) получатся аномально большие значения. Исправить такие значения сложно, поэтому оставьте их как есть. Тем более этот столбец не понадобится вам для исследования."
   ]
  },
  {
   "cell_type": "markdown",
   "id": "dc91b8ff",
   "metadata": {
    "deletable": false,
    "editable": false,
    "id": "d8a9f147"
   },
   "source": [
    "**Задание 8. Выведите перечень уникальных значений столбца `children`.**"
   ]
  },
  {
   "cell_type": "code",
   "execution_count": 8,
   "id": "b84b134d",
   "metadata": {
    "deletable": false,
    "id": "ef5056eb",
    "outputId": "6975b15c-7f95-4697-d16d-a0c79b657b03"
   },
   "outputs": [
    {
     "data": {
      "text/plain": [
       "array([ 1,  0,  3,  2, -1,  4, 20,  5])"
      ]
     },
     "execution_count": 8,
     "metadata": {},
     "output_type": "execute_result"
    }
   ],
   "source": [
    "data['children'].unique()"
   ]
  },
  {
   "cell_type": "markdown",
   "id": "bd0b6074",
   "metadata": {
    "deletable": false,
    "editable": false,
    "id": "40b9ebf2"
   },
   "source": [
    "**Задание 9. В столбце `children` есть два аномальных значения. Удалите строки, в которых встречаются такие аномальные значения из датафрейма `data`.**"
   ]
  },
  {
   "cell_type": "code",
   "execution_count": 9,
   "id": "d3a97a40",
   "metadata": {
    "deletable": false,
    "id": "3ff9801d"
   },
   "outputs": [],
   "source": [
    "data = data[(data['children'] != -1) & (data['children'] != 20)]"
   ]
  },
  {
   "cell_type": "markdown",
   "id": "db974297",
   "metadata": {
    "deletable": false,
    "editable": false,
    "id": "bbc4d0ce"
   },
   "source": [
    "**Задание 10. Ещё раз выведите перечень уникальных значений столбца `children`, чтобы убедиться, что артефакты удалены.**"
   ]
  },
  {
   "cell_type": "code",
   "execution_count": 10,
   "id": "33224ae2",
   "metadata": {
    "deletable": false,
    "id": "ad4fa8b7",
    "outputId": "b2097101-d49d-44d9-901b-32a65c9463d1"
   },
   "outputs": [
    {
     "data": {
      "text/plain": [
       "array([1, 0, 3, 2, 4, 5])"
      ]
     },
     "execution_count": 10,
     "metadata": {},
     "output_type": "execute_result"
    }
   ],
   "source": [
    "data['children'].unique()"
   ]
  },
  {
   "cell_type": "markdown",
   "id": "d5599b0b",
   "metadata": {
    "deletable": false,
    "editable": false,
    "id": "75440b63"
   },
   "source": [
    "### Удаление пропусков (продолжение)"
   ]
  },
  {
   "cell_type": "markdown",
   "id": "fe90ba6a",
   "metadata": {
    "deletable": false,
    "editable": false,
    "id": "f4ea573f"
   },
   "source": [
    "**Задание 11. Заполните пропуски в столбце `days_employed` медианными значениями по каждого типа занятости `income_type`.**"
   ]
  },
  {
   "cell_type": "code",
   "execution_count": 11,
   "id": "55f6f0f8",
   "metadata": {
    "deletable": false,
    "id": "af6b1a7e"
   },
   "outputs": [],
   "source": [
    "for i in data['income_type'].unique():\n",
    "    data.loc[(data['income_type'] == i) & (data['days_employed'].isna()), 'days_employed'] = \\\n",
    "    data.loc[(data['income_type'] == i), 'days_employed'].median()"
   ]
  },
  {
   "cell_type": "markdown",
   "id": "ac6a857a",
   "metadata": {
    "deletable": false,
    "editable": false,
    "id": "2753f40d"
   },
   "source": [
    "**Задание 12. Убедитесь, что все пропуски заполнены. Проверьте себя и ещё раз выведите количество пропущенных значений для каждого столбца с помощью двух методов.**"
   ]
  },
  {
   "cell_type": "code",
   "execution_count": 12,
   "id": "4b9f0b8e",
   "metadata": {
    "deletable": false,
    "id": "55f78bc2",
    "outputId": "8da1e4e1-358e-4e87-98c9-f261bce0a7b2"
   },
   "outputs": [
    {
     "data": {
      "text/plain": [
       "children            0\n",
       "days_employed       0\n",
       "dob_years           0\n",
       "education           0\n",
       "education_id        0\n",
       "family_status       0\n",
       "family_status_id    0\n",
       "gender              0\n",
       "income_type         0\n",
       "debt                0\n",
       "total_income        0\n",
       "purpose             0\n",
       "dtype: int64"
      ]
     },
     "execution_count": 12,
     "metadata": {},
     "output_type": "execute_result"
    }
   ],
   "source": [
    "data.isna().sum()"
   ]
  },
  {
   "cell_type": "markdown",
   "id": "f58b665f",
   "metadata": {
    "deletable": false,
    "editable": false,
    "id": "ddc81e43"
   },
   "source": [
    "### Изменение типов данных"
   ]
  },
  {
   "cell_type": "markdown",
   "id": "77e37d23",
   "metadata": {
    "deletable": false,
    "editable": false,
    "id": "42d19d24"
   },
   "source": [
    "**Задание 13. Замените вещественный тип данных в столбце `total_income` на целочисленный с помощью метода `astype()`.**"
   ]
  },
  {
   "cell_type": "code",
   "execution_count": 13,
   "id": "f190bbbe",
   "metadata": {
    "deletable": false,
    "id": "920b65ad"
   },
   "outputs": [],
   "source": [
    "data['total_income'] = data['total_income'].astype(int)"
   ]
  },
  {
   "cell_type": "markdown",
   "id": "c84941e4",
   "metadata": {
    "deletable": false,
    "editable": false,
    "id": "80c420ba"
   },
   "source": [
    "### Обработка дубликатов"
   ]
  },
  {
   "cell_type": "markdown",
   "id": "2b95d09f",
   "metadata": {
    "deletable": false,
    "editable": false
   },
   "source": [
    "**Задание 14. Обработайте неявные дубликаты в столбце `education`. В этом столбце есть одни и те же значения, но записанные по-разному: с использованием заглавных и строчных букв. Приведите их к нижнему регистру. Проверьте остальные столбцы.**"
   ]
  },
  {
   "cell_type": "code",
   "execution_count": 14,
   "id": "a194c50f",
   "metadata": {
    "deletable": false
   },
   "outputs": [],
   "source": [
    "data['education'] = data['education'].str.lower()"
   ]
  },
  {
   "cell_type": "markdown",
   "id": "b6d1177e",
   "metadata": {
    "deletable": false,
    "editable": false,
    "id": "dc587695"
   },
   "source": [
    "**Задание 15. Выведите на экран количество строк-дубликатов в данных. Если такие строки присутствуют, удалите их.**"
   ]
  },
  {
   "cell_type": "code",
   "execution_count": 15,
   "id": "d894de47",
   "metadata": {
    "deletable": false,
    "id": "3ee445e4",
    "outputId": "9684deba-1934-42d1-99e1-cda61740f822"
   },
   "outputs": [
    {
     "data": {
      "text/plain": [
       "71"
      ]
     },
     "execution_count": 15,
     "metadata": {},
     "output_type": "execute_result"
    }
   ],
   "source": [
    "data.duplicated().sum()"
   ]
  },
  {
   "cell_type": "code",
   "execution_count": 16,
   "id": "f5257745",
   "metadata": {
    "deletable": false,
    "id": "8575fe05"
   },
   "outputs": [],
   "source": [
    "data = data.drop_duplicates()"
   ]
  },
  {
   "cell_type": "markdown",
   "id": "3aa65042",
   "metadata": {
    "deletable": false,
    "editable": false,
    "id": "9904cf55"
   },
   "source": [
    "### Категоризация данных"
   ]
  },
  {
   "cell_type": "markdown",
   "id": "5f795535",
   "metadata": {
    "deletable": false,
    "editable": false,
    "id": "72fcc8a2"
   },
   "source": [
    "**Задание 16. На основании диапазонов, указанных ниже, создайте в датафрейме `data` столбец `total_income_category` с категориями:**\n",
    "\n",
    "- 0–30000 — `'E'`;\n",
    "- 30001–50000 — `'D'`;\n",
    "- 50001–200000 — `'C'`;\n",
    "- 200001–1000000 — `'B'`;\n",
    "- 1000001 и выше — `'A'`.\n",
    "\n",
    "\n",
    "**Например, кредитополучателю с доходом 25000 нужно назначить категорию `'E'`, а клиенту, получающему 235000, — `'B'`. Используйте собственную функцию с именем `categorize_income()` и метод `apply()`.**"
   ]
  },
  {
   "cell_type": "code",
   "execution_count": 17,
   "id": "45ae83f3",
   "metadata": {
    "deletable": false,
    "id": "e1771346"
   },
   "outputs": [],
   "source": [
    "def categorize_income(income):\n",
    "    try:\n",
    "        if 0 <= income <= 30000:\n",
    "            return 'E'\n",
    "        elif 30001 <= income <= 50000:\n",
    "            return 'D'\n",
    "        elif 50001 <= income <= 200000:\n",
    "            return 'C'\n",
    "        elif 200001 <= income <= 1000000:\n",
    "            return 'B'\n",
    "        elif income >= 1000001:\n",
    "            return 'A'\n",
    "    except:\n",
    "        pass"
   ]
  },
  {
   "cell_type": "code",
   "execution_count": 18,
   "id": "53204b2b",
   "metadata": {
    "deletable": false,
    "id": "d5f3586d"
   },
   "outputs": [],
   "source": [
    "data['total_income_category'] = data['total_income'].apply(categorize_income)"
   ]
  },
  {
   "cell_type": "markdown",
   "id": "4b861c47",
   "metadata": {
    "deletable": false,
    "editable": false,
    "id": "dde49b5c"
   },
   "source": [
    "**Задание 17. Выведите на экран перечень уникальных целей взятия кредита из столбца `purpose`.**"
   ]
  },
  {
   "cell_type": "code",
   "execution_count": 19,
   "id": "642b24ea",
   "metadata": {
    "deletable": false,
    "id": "f67ce9b3",
    "outputId": "673c12d9-7d7e-4ae0-9812-c622c89dd244"
   },
   "outputs": [
    {
     "data": {
      "text/plain": [
       "array(['покупка жилья', 'приобретение автомобиля',\n",
       "       'дополнительное образование', 'сыграть свадьбу',\n",
       "       'операции с жильем', 'образование', 'на проведение свадьбы',\n",
       "       'покупка жилья для семьи', 'покупка недвижимости',\n",
       "       'покупка коммерческой недвижимости', 'покупка жилой недвижимости',\n",
       "       'строительство собственной недвижимости', 'недвижимость',\n",
       "       'строительство недвижимости', 'на покупку подержанного автомобиля',\n",
       "       'на покупку своего автомобиля',\n",
       "       'операции с коммерческой недвижимостью',\n",
       "       'строительство жилой недвижимости', 'жилье',\n",
       "       'операции со своей недвижимостью', 'автомобили',\n",
       "       'заняться образованием', 'сделка с подержанным автомобилем',\n",
       "       'получение образования', 'автомобиль', 'свадьба',\n",
       "       'получение дополнительного образования', 'покупка своего жилья',\n",
       "       'операции с недвижимостью', 'получение высшего образования',\n",
       "       'свой автомобиль', 'сделка с автомобилем',\n",
       "       'профильное образование', 'высшее образование',\n",
       "       'покупка жилья для сдачи', 'на покупку автомобиля', 'ремонт жилью',\n",
       "       'заняться высшим образованием'], dtype=object)"
      ]
     },
     "execution_count": 19,
     "metadata": {},
     "output_type": "execute_result"
    }
   ],
   "source": [
    "data['purpose'].unique()"
   ]
  },
  {
   "cell_type": "markdown",
   "id": "3d798e51",
   "metadata": {
    "deletable": false,
    "editable": false,
    "id": "85d0aef0"
   },
   "source": [
    "**Задание 18. Создайте функцию, которая на основании данных из столбца `purpose` сформирует новый столбец `purpose_category`, в который войдут следующие категории:**\n",
    "\n",
    "- `'операции с автомобилем'`,\n",
    "- `'операции с недвижимостью'`,\n",
    "- `'проведение свадьбы'`,\n",
    "- `'получение образования'`.\n",
    "\n",
    "**Например, если в столбце `purpose` находится подстрока `'на покупку автомобиля'`, то в столбце `purpose_category` должна появиться строка `'операции с автомобилем'`.**\n",
    "\n",
    "**Используйте собственную функцию с именем `categorize_purpose()` и метод `apply()`. Изучите данные в столбце `purpose` и определите, какие подстроки помогут вам правильно определить категорию.**"
   ]
  },
  {
   "cell_type": "code",
   "execution_count": 20,
   "id": "1ecbc8db",
   "metadata": {
    "deletable": false,
    "id": "e149fab4"
   },
   "outputs": [],
   "source": [
    "def categorize_purpose(row):\n",
    "    try:\n",
    "        if 'автом' in row:\n",
    "            return 'операции с автомобилем'\n",
    "        elif 'жил' in row or 'недвиж' in row:\n",
    "            return 'операции с недвижимостью'\n",
    "        elif 'свад' in row:\n",
    "            return 'проведение свадьбы'\n",
    "        elif 'образов' in row:\n",
    "            return 'получение образования'\n",
    "    except:\n",
    "        return 'нет категории'"
   ]
  },
  {
   "cell_type": "code",
   "execution_count": 21,
   "id": "6ff891ff",
   "metadata": {
    "deletable": false,
    "id": "bf36e69b"
   },
   "outputs": [],
   "source": [
    "data['purpose_category'] = data['purpose'].apply(categorize_purpose)"
   ]
  },
  {
   "cell_type": "markdown",
   "id": "5034e3e7",
   "metadata": {
    "deletable": false,
    "editable": false,
    "id": "09b242bf"
   },
   "source": [
    "### Шаг 3. Исследуйте данные и ответьте на вопросы"
   ]
  },
  {
   "cell_type": "markdown",
   "id": "e620aa2d",
   "metadata": {
    "deletable": false,
    "editable": false,
    "id": "c5d66278"
   },
   "source": [
    "#### 3.1 Есть ли зависимость между количеством детей и возвратом кредита в срок?"
   ]
  },
  {
   "cell_type": "code",
   "execution_count": 22,
   "id": "bde94933",
   "metadata": {},
   "outputs": [],
   "source": [
    "import matplotlib.pyplot as plt # Импорт библиотеки для графиков.\n",
    "import numpy as np # Импорт numpy для создания массива."
   ]
  },
  {
   "cell_type": "code",
   "execution_count": 23,
   "id": "ae2c5cb9",
   "metadata": {},
   "outputs": [],
   "source": [
    "coef = [] # Список с коэффициентами.\n",
    "numb_of_childs = [] # Список с количеством детей.\n",
    "# Индексы списков совпадают по значению: Количетсво детей и отношению не выплаченныъ/выплаченных кредитов в срок.\n",
    "\n",
    "\n",
    "for i in sorted(data['children'].unique()): # Итеририуем возможные варианты кол-ва детей. Также сортируем по возрастанию\n",
    "    # для того что-бы в дальнейшем не выяснять какой коэффициент какому количеству детей соотвествует.\n",
    "    \n",
    "    x = data.loc[(data['children'] == i) & (data['debt'] == 1)].count() / \\\n",
    "      data.loc[(data['children'] == i) & (data['debt'] == 0)].count()   \n",
    "    # Берём данные о детях у клиентов с долгом\n",
    "    # Делим на такие же данные но уже у клиентов без долга.\n",
    "    # Тем самым получаем коэффициент от 0 до 1 или другими словами вероятность возврата кредита в срок.\n",
    "    # Переменную 'х' создал так-как не сообразил как вытащить только значение из получившегося датафрейма сразу.\n",
    "    coef.append([x['children'].round(3)]) # Забор коэффициента из датафрейма 'х', и передача его в список.\n",
    "    numb_of_childs.append(i) # Передача значения количества детей в список."
   ]
  },
  {
   "cell_type": "code",
   "execution_count": 24,
   "id": "576a5dcf",
   "metadata": {},
   "outputs": [],
   "source": [
    "child_pivot = data.pivot_table(index='children', values='debt', aggfunc={'count', 'sum'})\n",
    "child_pivot['count'] = child_pivot['count'] - child_pivot['sum']\n",
    "child_pivot['coefficient'] = round(child_pivot['sum'] / child_pivot['count'], 3)\n",
    "child_pivot.rename(columns = {'sum': 'debt'}, inplace=True)"
   ]
  },
  {
   "cell_type": "code",
   "execution_count": 25,
   "id": "fb9b3c52",
   "metadata": {
    "deletable": false,
    "id": "2cacfc4a"
   },
   "outputs": [
    {
     "name": "stdout",
     "output_type": "stream",
     "text": [
      "\n"
     ]
    },
    {
     "data": {
      "image/png": "[encoded data removed]",
      "text/plain": [
       "<Figure size 720x360 with 1 Axes>"
      ]
     },
     "metadata": {
      "needs_background": "light"
     },
     "output_type": "display_data"
    }
   ],
   "source": [
    "x = np.array(numb_of_childs)\n",
    "y = np.array(coef)\n",
    "plt.figure(figsize=(10,5))\n",
    "plt.xlabel('Количество детей', fontsize=14, fontweight=\"bold\")\n",
    "plt.ylabel('Коэффициент нарушения срока', fontsize=14, fontweight=\"bold\")\n",
    "plt.plot(x,y)\n",
    "\n",
    "print()"
   ]
  },
  {
   "cell_type": "code",
   "execution_count": 26,
   "id": "2900880e",
   "metadata": {},
   "outputs": [
    {
     "name": "stdout",
     "output_type": "stream",
     "text": [
      "Количество детей, число людей без просрочки, число людей с просрочкой, и их соотношение.\n"
     ]
    },
    {
     "data": {
      "text/html": [
       "<div>\n",
       "<style scoped>\n",
       "    .dataframe tbody tr th:only-of-type {\n",
       "        vertical-align: middle;\n",
       "    }\n",
       "\n",
       "    .dataframe tbody tr th {\n",
       "        vertical-align: top;\n",
       "    }\n",
       "\n",
       "    .dataframe thead th {\n",
       "        text-align: right;\n",
       "    }\n",
       "</style>\n",
       "<table border=\"1\" class=\"dataframe\">\n",
       "  <thead>\n",
       "    <tr style=\"text-align: right;\">\n",
       "      <th></th>\n",
       "      <th>count</th>\n",
       "      <th>debt</th>\n",
       "      <th>coefficient</th>\n",
       "    </tr>\n",
       "    <tr>\n",
       "      <th>children</th>\n",
       "      <th></th>\n",
       "      <th></th>\n",
       "      <th></th>\n",
       "    </tr>\n",
       "  </thead>\n",
       "  <tbody>\n",
       "    <tr>\n",
       "      <th>0</th>\n",
       "      <td>13028</td>\n",
       "      <td>1063</td>\n",
       "      <td>0.082</td>\n",
       "    </tr>\n",
       "    <tr>\n",
       "      <th>1</th>\n",
       "      <td>4364</td>\n",
       "      <td>444</td>\n",
       "      <td>0.102</td>\n",
       "    </tr>\n",
       "    <tr>\n",
       "      <th>2</th>\n",
       "      <td>1858</td>\n",
       "      <td>194</td>\n",
       "      <td>0.104</td>\n",
       "    </tr>\n",
       "    <tr>\n",
       "      <th>3</th>\n",
       "      <td>303</td>\n",
       "      <td>27</td>\n",
       "      <td>0.089</td>\n",
       "    </tr>\n",
       "    <tr>\n",
       "      <th>4</th>\n",
       "      <td>37</td>\n",
       "      <td>4</td>\n",
       "      <td>0.108</td>\n",
       "    </tr>\n",
       "    <tr>\n",
       "      <th>5</th>\n",
       "      <td>9</td>\n",
       "      <td>0</td>\n",
       "      <td>0.000</td>\n",
       "    </tr>\n",
       "  </tbody>\n",
       "</table>\n",
       "</div>"
      ],
      "text/plain": [
       "          count  debt  coefficient\n",
       "children                          \n",
       "0         13028  1063        0.082\n",
       "1          4364   444        0.102\n",
       "2          1858   194        0.104\n",
       "3           303    27        0.089\n",
       "4            37     4        0.108\n",
       "5             9     0        0.000"
      ]
     },
     "execution_count": 26,
     "metadata": {},
     "output_type": "execute_result"
    }
   ],
   "source": [
    "print('Количество детей, число людей без просрочки, число людей с просрочкой, и их соотношение.')\n",
    "child_pivot"
   ]
  },
  {
   "cell_type": "markdown",
   "id": "7dbb972e",
   "metadata": {
    "deletable": false,
    "id": "3a6b99ec"
   },
   "source": [
    "**Вывод: Относительно клиентов без детей и до двух детей, график показывает что из ~92% клиентов без детей, готовых платить в срок, лишь ~2% в последствии теряют возможность возвращения кредита в срок, что в свою очередь говорит о небольшой зависимости.\\\n",
    "\\\n",
    "У клиентов с тремя детьми наблюдается обратная тенденция, вероятно имеет место быть гос. поддержка многодетных и малоимущих семей.\\\n",
    "\\\n",
    "Тем не менее у клиентов с 4 детьми наблюдается резкий рост, вероятно наблюдаем влияние не репрезентативной выборки, так как чем больше детей тем меньше имеем данных, к примеру клиентов с 5 детьми всего 9 человек, делать по ним выводы не имеет смысла.\\\n",
    "\\\n",
    "Взаимосвязь прослеживается**"
   ]
  },
  {
   "cell_type": "markdown",
   "id": "514320cb",
   "metadata": {
    "deletable": false,
    "editable": false,
    "id": "97be82ca"
   },
   "source": [
    "#### 3.2 Есть ли зависимость между семейным положением и возвратом кредита в срок?"
   ]
  },
  {
   "cell_type": "code",
   "execution_count": 27,
   "id": "0b7d3098",
   "metadata": {
    "deletable": false,
    "id": "dc3f7ee8"
   },
   "outputs": [],
   "source": [
    "table = data.pivot_table(index = ('family_status_id', 'family_status'), values = 'debt', aggfunc = {'count', 'sum'})\n",
    "# Создаём сводную таблицу, в качестве индекса беру два значения что-бы в дальнейшем при построении графика не запутаться.\n",
    "# В качестве значения берём булево значения долга, так как в значении мы имеем 0 и 1, мы можем просчитать общее количество\n",
    "# значений и сумму значений всех 'True', подобная хитрость позволяет нам  вычислить а затем вытащить нужный нам коэффициент\n",
    "# разделив сумму значений True на общее количество кредитов.\n",
    "table['coef'] = round(table['sum'] / (table['count']  - table['sum']), 3)\n",
    "table.rename(columns = {'sum': 'debt'}, inplace=True)\n",
    "table = table.sort_values('coef') # Провожу предварительную сортировку по возрастанию для графика. Его так удобнее читать."
   ]
  },
  {
   "cell_type": "code",
   "execution_count": 28,
   "id": "7d202935",
   "metadata": {},
   "outputs": [
    {
     "name": "stdout",
     "output_type": "stream",
     "text": [
      "\n"
     ]
    },
    {
     "data": {
      "image/png": "[encoded data removed]",
      "text/plain": [
       "<Figure size 3600x360 with 1 Axes>"
      ]
     },
     "metadata": {
      "needs_background": "light"
     },
     "output_type": "display_data"
    }
   ],
   "source": [
    "names = ['вдовец / вдова', 'в разводе', 'женат / замужем', 'гражданский брак', 'Не женат / не замужем']\n",
    "# К сожалению список names пришлось заполнять вручную, я не понял как вытащить индексы датафрейма table для цикла..\n",
    "values = []\n",
    "for i in table['coef']: # Заполняю список values коэффициентами. \n",
    "     values.append(i)\n",
    "\n",
    "plt.figure(figsize=(50, 5)) # Подстраиваю график под наши значения.\n",
    "plt.subplot(131)\n",
    "plt.ylabel('Коэффициент нарушения срока', fontsize=14, fontweight=\"bold\")\n",
    "plt.bar(names, values)\n",
    "print()"
   ]
  },
  {
   "cell_type": "code",
   "execution_count": 29,
   "id": "5830e7d5",
   "metadata": {},
   "outputs": [
    {
     "name": "stdout",
     "output_type": "stream",
     "text": [
      "Категория, число людей выплативших вовремя, число людей с просрочкой и их соотношение.\n"
     ]
    },
    {
     "data": {
      "text/html": [
       "<div>\n",
       "<style scoped>\n",
       "    .dataframe tbody tr th:only-of-type {\n",
       "        vertical-align: middle;\n",
       "    }\n",
       "\n",
       "    .dataframe tbody tr th {\n",
       "        vertical-align: top;\n",
       "    }\n",
       "\n",
       "    .dataframe thead th {\n",
       "        text-align: right;\n",
       "    }\n",
       "</style>\n",
       "<table border=\"1\" class=\"dataframe\">\n",
       "  <thead>\n",
       "    <tr style=\"text-align: right;\">\n",
       "      <th></th>\n",
       "      <th></th>\n",
       "      <th>count</th>\n",
       "      <th>debt</th>\n",
       "      <th>coef</th>\n",
       "    </tr>\n",
       "    <tr>\n",
       "      <th>family_status_id</th>\n",
       "      <th>family_status</th>\n",
       "      <th></th>\n",
       "      <th></th>\n",
       "      <th></th>\n",
       "    </tr>\n",
       "  </thead>\n",
       "  <tbody>\n",
       "    <tr>\n",
       "      <th>2</th>\n",
       "      <th>вдовец / вдова</th>\n",
       "      <td>951</td>\n",
       "      <td>63</td>\n",
       "      <td>0.071</td>\n",
       "    </tr>\n",
       "    <tr>\n",
       "      <th>3</th>\n",
       "      <th>в разводе</th>\n",
       "      <td>1189</td>\n",
       "      <td>84</td>\n",
       "      <td>0.076</td>\n",
       "    </tr>\n",
       "    <tr>\n",
       "      <th>0</th>\n",
       "      <th>женат / замужем</th>\n",
       "      <td>12261</td>\n",
       "      <td>927</td>\n",
       "      <td>0.082</td>\n",
       "    </tr>\n",
       "    <tr>\n",
       "      <th>1</th>\n",
       "      <th>гражданский брак</th>\n",
       "      <td>4134</td>\n",
       "      <td>385</td>\n",
       "      <td>0.103</td>\n",
       "    </tr>\n",
       "    <tr>\n",
       "      <th>4</th>\n",
       "      <th>Не женат / не замужем</th>\n",
       "      <td>2796</td>\n",
       "      <td>273</td>\n",
       "      <td>0.108</td>\n",
       "    </tr>\n",
       "  </tbody>\n",
       "</table>\n",
       "</div>"
      ],
      "text/plain": [
       "                                        count  debt   coef\n",
       "family_status_id family_status                            \n",
       "2                вдовец / вдова           951    63  0.071\n",
       "3                в разводе               1189    84  0.076\n",
       "0                женат / замужем        12261   927  0.082\n",
       "1                гражданский брак        4134   385  0.103\n",
       "4                Не женат / не замужем   2796   273  0.108"
      ]
     },
     "execution_count": 29,
     "metadata": {},
     "output_type": "execute_result"
    }
   ],
   "source": [
    "print('Категория, число людей выплативших вовремя, число людей с просрочкой и их соотношение.')\n",
    "table2 = table\n",
    "table2"
   ]
  },
  {
   "cell_type": "markdown",
   "id": "cd36a57f",
   "metadata": {
    "deletable": false,
    "id": "1cef7837"
   },
   "source": [
    "**График показывает коэфициент возврата долга в срок относительно семейного положения, категории отсортированны от более вероятной выплаты кредита в срок, до наименьшей.\\\n",
    "\\\n",
    "Вывод:\\\n",
    "\\\n",
    "На графике видно что категория 'вдовец/вдова' чаще других расплачиваются с кредитами в срок, вероятно связано с обогащением в виде наследства.\\\n",
    "\\\n",
    "Категория 'в разводе', успешность погашения кредитов относительно других вероятно связано с разделом/продажей совместно нажитого имущества от чего у людей появляется возможность выплатить кредит.\\\n",
    "\\\n",
    "Категория 'женат/замужем' семейные пары не редко вместе выплачивают один кредит чем можно и обусловить лишь не большой рост задолженностей относительно предидущих категорий.\\\n",
    "\\\n",
    "Категория 'гражданский брак', показывает более резкий рост, можно подумать что подобные пары распадаются чаще, что может приводить к определенным финансовым трудностям относительно взятых кредитов.\\\n",
    "\\\n",
    "Категория 'Не женат / не замужем' показатель не выплаты в срок почти в 10% от общей массы категории, что на треть выше первой категории, вероятно статистику данной категории в негативное русло загоняют авантюрные молодые люди взявшие кредит впервые, также можно предположить что в среднем люди этой категории имеют наименьший уровень ответственности, что в конечном итоге и ставит эту категорию на первое место по не выплатам в срок.\\\n",
    "\\\n",
    "Взаимосвязь прослеживается** "
   ]
  },
  {
   "cell_type": "markdown",
   "id": "3469c2d0",
   "metadata": {
    "deletable": false,
    "editable": false,
    "id": "1e8b2fca"
   },
   "source": [
    "#### 3.3 Есть ли зависимость между уровнем дохода и возвратом кредита в срок?"
   ]
  },
  {
   "cell_type": "code",
   "execution_count": 30,
   "id": "3d54cb8e",
   "metadata": {
    "deletable": false,
    "id": "cd7e3720"
   },
   "outputs": [
    {
     "name": "stdout",
     "output_type": "stream",
     "text": [
      "A\n",
      "income_type\n",
      "компаньон    15\n",
      "сотрудник    10\n",
      "Name: income_type, dtype: int64\n",
      "25\n",
      "\n",
      "B\n",
      "income_type\n",
      "безработный           1\n",
      "госслужащий         366\n",
      "компаньон          1733\n",
      "пенсионер           552\n",
      "предприниматель       2\n",
      "сотрудник          2360\n",
      "Name: income_type, dtype: int64\n",
      "5014\n",
      "\n",
      "C\n",
      "income_type\n",
      "безработный       1\n",
      "в декрете         1\n",
      "госслужащий    1060\n",
      "компаньон      3273\n",
      "пенсионер      3081\n",
      "сотрудник      8504\n",
      "студент           1\n",
      "Name: income_type, dtype: int64\n",
      "15921\n",
      "\n",
      "D\n",
      "income_type\n",
      "госслужащий     24\n",
      "компаньон       25\n",
      "пенсионер      164\n",
      "сотрудник      136\n",
      "Name: income_type, dtype: int64\n",
      "349\n",
      "\n",
      "E\n",
      "income_type\n",
      "госслужащий     1\n",
      "компаньон       1\n",
      "пенсионер      15\n",
      "сотрудник       5\n",
      "Name: income_type, dtype: int64\n",
      "22\n",
      "\n"
     ]
    }
   ],
   "source": [
    "data['mean_income'] = data.groupby('total_income_category')['total_income'].transform(lambda x: x.mean())\n",
    "\n",
    "coef = []\n",
    "inc_cat = []\n",
    "mean_cat = []\n",
    "\n",
    "for i in sorted(data['total_income_category'].unique()):\n",
    "    \n",
    "    y = data[(data['total_income_category'] == i) & (data['mean_income'])]\n",
    "    mean_cat.append(y['mean_income'].unique()[0]) # Захотелось добавить среднюю зп для большей наглядности, и тренировки.\n",
    "    \n",
    "    x = data[(data['total_income_category'] == i) & (data['debt'] == 1)].count() / \\\n",
    "    data[(data['total_income_category'] == i) & (data['debt'] == 0)].count()\n",
    "    \n",
    "    coef.append(x['debt'].round(3))\n",
    "    inc_cat.append(i)\n",
    "\n",
    "mean_cat = map(int, mean_cat)\n",
    "\n",
    "table = pd.DataFrame(list(zip(inc_cat, mean_cat, coef)), columns=['категория', 'средняя з/п', 'коэффициент'])\n",
    "\n",
    "for i in sorted(data['total_income_category'].unique()):\n",
    "    f = data[data['total_income_category'] == i].groupby('income_type')\n",
    "    print(i)\n",
    "    print(f['income_type'].count())             # Цикл написал что-бы посмотреть кого сколько и в каких категориях.\n",
    "    print(f['income_type'].count().sum())\n",
    "    print()"
   ]
  },
  {
   "cell_type": "code",
   "execution_count": 31,
   "id": "81ddef62",
   "metadata": {},
   "outputs": [],
   "source": [
    "inc_pivot = data.pivot_table(index='total_income_category', values='debt', aggfunc={'count', 'sum'})\n",
    "inc_pivot['coef'] = round(inc_pivot['sum'] / (inc_pivot['count'] - inc_pivot['sum']), 3)\n",
    "inc_pivot.rename(columns = {'sum': 'debt'}, inplace=True)"
   ]
  },
  {
   "cell_type": "code",
   "execution_count": 32,
   "id": "26fac615",
   "metadata": {},
   "outputs": [
    {
     "data": {
      "image/png": "[encoded data removed]",
      "text/plain": [
       "<Figure size 1080x360 with 1 Axes>"
      ]
     },
     "metadata": {
      "needs_background": "light"
     },
     "output_type": "display_data"
    }
   ],
   "source": [
    "cat_mean_inc = []\n",
    "for i in range(len(inc_cat)):\n",
    "    cat_mean_inc.append(inc_cat[i] + ' - ' + str(table['средняя з/п'].loc[table.index[i]]) + ' Руб')\n",
    "    # Совместил списки категорий и средних зп, для большей наглядности на графике.\n",
    "    # Мне пришлось вытаскивать значения зп из таблицы так как функция мэп что-то там сделала со списком))\n",
    "    # Лишь позже подумал о генераторе списков. Ну что-ж первый блин комом.\n",
    "    \n",
    "\n",
    "plt.figure(figsize=(15, 5))\n",
    "plt.ylim([0.06, 0.105])\n",
    "plt.grid()\n",
    "plt.xlabel('Категория и средний размер заработной платы', fontsize=14, fontweight=\"bold\")\n",
    "plt.ylabel('Коэффициент нарушения срока', fontsize=14, fontweight=\"bold\")\n",
    "plt.plot(cat_mean_inc, coef, 'r')\n",
    "plt.gca().invert_xaxis()\n",
    "plt.show()"
   ]
  },
  {
   "cell_type": "code",
   "execution_count": 33,
   "id": "5c08e399",
   "metadata": {},
   "outputs": [
    {
     "name": "stdout",
     "output_type": "stream",
     "text": [
      "Категория, число людей без долга, с долгом и их соотношение.\n"
     ]
    },
    {
     "data": {
      "text/html": [
       "<div>\n",
       "<style scoped>\n",
       "    .dataframe tbody tr th:only-of-type {\n",
       "        vertical-align: middle;\n",
       "    }\n",
       "\n",
       "    .dataframe tbody tr th {\n",
       "        vertical-align: top;\n",
       "    }\n",
       "\n",
       "    .dataframe thead th {\n",
       "        text-align: right;\n",
       "    }\n",
       "</style>\n",
       "<table border=\"1\" class=\"dataframe\">\n",
       "  <thead>\n",
       "    <tr style=\"text-align: right;\">\n",
       "      <th></th>\n",
       "      <th>count</th>\n",
       "      <th>debt</th>\n",
       "      <th>coef</th>\n",
       "    </tr>\n",
       "    <tr>\n",
       "      <th>total_income_category</th>\n",
       "      <th></th>\n",
       "      <th></th>\n",
       "      <th></th>\n",
       "    </tr>\n",
       "  </thead>\n",
       "  <tbody>\n",
       "    <tr>\n",
       "      <th>A</th>\n",
       "      <td>25</td>\n",
       "      <td>2</td>\n",
       "      <td>0.087</td>\n",
       "    </tr>\n",
       "    <tr>\n",
       "      <th>B</th>\n",
       "      <td>5014</td>\n",
       "      <td>354</td>\n",
       "      <td>0.076</td>\n",
       "    </tr>\n",
       "    <tr>\n",
       "      <th>C</th>\n",
       "      <td>15921</td>\n",
       "      <td>1353</td>\n",
       "      <td>0.093</td>\n",
       "    </tr>\n",
       "    <tr>\n",
       "      <th>D</th>\n",
       "      <td>349</td>\n",
       "      <td>21</td>\n",
       "      <td>0.064</td>\n",
       "    </tr>\n",
       "    <tr>\n",
       "      <th>E</th>\n",
       "      <td>22</td>\n",
       "      <td>2</td>\n",
       "      <td>0.100</td>\n",
       "    </tr>\n",
       "  </tbody>\n",
       "</table>\n",
       "</div>"
      ],
      "text/plain": [
       "                       count  debt   coef\n",
       "total_income_category                    \n",
       "A                         25     2  0.087\n",
       "B                       5014   354  0.076\n",
       "C                      15921  1353  0.093\n",
       "D                        349    21  0.064\n",
       "E                         22     2  0.100"
      ]
     },
     "execution_count": 33,
     "metadata": {},
     "output_type": "execute_result"
    }
   ],
   "source": [
    "print('Категория, число людей без долга, с долгом и их соотношение.')\n",
    "inc_pivot"
   ]
  },
  {
   "cell_type": "markdown",
   "id": "2b9aa634",
   "metadata": {
    "deletable": false,
    "id": "e8593def"
   },
   "source": [
    "**Вывод: Категория E - Категория с самым низким доходов, испытывают больше финансовых трудностей чем другие категории чем и обуславливается наибольший из всех категорий коэффициент нарушения срока кредита. Стоит добавить что выборка не репрезентативана и составаляет всего 22 человека\\\n",
    "\\\n",
    "Категория D - Объяснить минимальный коэффициент можно тем то что в данной категории граждан относительно нашей выборки, находится значительно больше пенсионеров чем в других категориях, то-есть вероятно поддержка со стороны позровслевших детей оказывает положительный эффект относительно отдачи кредита в срок.\\\n",
    "\\\n",
    "Категории C и B - Которые корректнее всего можно сравнивать относительно заработка так-как имеем похожее соотношение \n",
    "типа доходов, график показывает то что чем больше люди зарабатывают в данных категориях тем чаще они расплачиваются с кредитами в срок что в свою очередь естественно.\\\n",
    "\\\n",
    "Категория A - Обратную тенденцую относительно категорий С и B, можно объяснить не репрезентативной выборкой всего в 25 человек.\\\n",
    "\\\n",
    "Взаимосвязь прослеживается**"
   ]
  },
  {
   "cell_type": "markdown",
   "id": "95ca8bda",
   "metadata": {
    "deletable": false,
    "editable": false,
    "id": "99ecbd1f"
   },
   "source": [
    "#### 3.4 Как разные цели кредита влияют на его возврат в срок?"
   ]
  },
  {
   "cell_type": "code",
   "execution_count": 34,
   "id": "2ea7c4d3",
   "metadata": {
    "deletable": false,
    "id": "2b687290"
   },
   "outputs": [
    {
     "name": "stdout",
     "output_type": "stream",
     "text": [
      "A\n",
      "purpose_category\n",
      "операции с автомобилем       2\n",
      "операции с недвижимостью    17\n",
      "получение образования        4\n",
      "проведение свадьбы           2\n",
      "Name: purpose_category, dtype: int64\n",
      "25\n",
      "\n",
      "B\n",
      "purpose_category\n",
      "операции с автомобилем      1022\n",
      "операции с недвижимостью    2558\n",
      "получение образования        890\n",
      "проведение свадьбы           544\n",
      "Name: purpose_category, dtype: int64\n",
      "5014\n",
      "\n",
      "C\n",
      "purpose_category\n",
      "операции с автомобилем      3181\n",
      "операции с недвижимостью    7997\n",
      "получение образования       3014\n",
      "проведение свадьбы          1729\n",
      "Name: purpose_category, dtype: int64\n",
      "15921\n",
      "\n",
      "D\n",
      "purpose_category\n",
      "операции с автомобилем       72\n",
      "операции с недвижимостью    168\n",
      "получение образования        75\n",
      "проведение свадьбы           34\n",
      "Name: purpose_category, dtype: int64\n",
      "349\n",
      "\n",
      "E\n",
      "purpose_category\n",
      "операции с автомобилем       2\n",
      "операции с недвижимостью    11\n",
      "получение образования        5\n",
      "проведение свадьбы           4\n",
      "Name: purpose_category, dtype: int64\n",
      "22\n",
      "\n"
     ]
    }
   ],
   "source": [
    "pdata = data.pivot_table(index='purpose_category', values='debt', aggfunc={'count', 'sum'})\n",
    "pdata['coef'] = sorted(round(pdata['sum'] / (pdata['count'] - pdata['sum']),3))\n",
    "# Код используется в дальнейшем потому не удалил. Для выведения таблицы написал отдельный код.\n",
    "\n",
    "for i in sorted(data['total_income_category'].unique()):\n",
    "    f = data[data['total_income_category'] == i].groupby('purpose_category')\n",
    "    print(i)\n",
    "    print(f['purpose_category'].count())        \n",
    "    print(f['purpose_category'].count().sum())\n",
    "    print()"
   ]
  },
  {
   "cell_type": "code",
   "execution_count": 35,
   "id": "0560ec63",
   "metadata": {},
   "outputs": [],
   "source": [
    "target_pivot = data.pivot_table(index='purpose_category', values='debt', aggfunc={'count', 'sum'})\n",
    "target_pivot['coef'] = sorted(round(target_pivot['sum'] / (target_pivot['count'] - target_pivot['sum']), 3))\n",
    "target_pivot.rename(columns = {'sum': 'debt'}, inplace=True)"
   ]
  },
  {
   "cell_type": "code",
   "execution_count": 36,
   "id": "781691d8",
   "metadata": {},
   "outputs": [
    {
     "data": {
      "image/png": "[encoded data removed]",
      "text/plain": [
       "<Figure size 1080x360 with 1 Axes>"
      ]
     },
     "metadata": {
      "needs_background": "light"
     },
     "output_type": "display_data"
    }
   ],
   "source": [
    "plt.figure(figsize=(15, 5))\n",
    "plt.xlabel('Цель кредита', fontsize=14, fontweight=\"bold\")\n",
    "plt.ylabel('Количество кредитов', fontsize=14, fontweight=\"bold\")\n",
    "plt.bar(sorted(data['purpose_category'].unique()), data.groupby('purpose_category')['purpose_category'].count())\n",
    "plt.show()"
   ]
  },
  {
   "cell_type": "code",
   "execution_count": 37,
   "id": "aab6bbcc",
   "metadata": {},
   "outputs": [
    {
     "data": {
      "image/png": "[encoded data removed]",
      "text/plain": [
       "<Figure size 1080x360 with 1 Axes>"
      ]
     },
     "metadata": {
      "needs_background": "light"
     },
     "output_type": "display_data"
    }
   ],
   "source": [
    "plt.figure(figsize=(15, 5))\n",
    "plt.ylim([0, 0.12])\n",
    "plt.xlabel('цель кредита', fontsize=14, fontweight=\"bold\")\n",
    "plt.ylabel('Коэффициент нарушения срока', fontsize=14, fontweight=\"bold\")\n",
    "plt.bar(sorted(data['purpose_category'].unique()), sorted(pdata['coef']))\n",
    "plt.show()"
   ]
  },
  {
   "cell_type": "code",
   "execution_count": 38,
   "id": "6fd88c4e",
   "metadata": {},
   "outputs": [
    {
     "name": "stdout",
     "output_type": "stream",
     "text": [
      "Цели, число людей без долга, с долгом, и их соотношение.\n"
     ]
    },
    {
     "data": {
      "text/html": [
       "<div>\n",
       "<style scoped>\n",
       "    .dataframe tbody tr th:only-of-type {\n",
       "        vertical-align: middle;\n",
       "    }\n",
       "\n",
       "    .dataframe tbody tr th {\n",
       "        vertical-align: top;\n",
       "    }\n",
       "\n",
       "    .dataframe thead th {\n",
       "        text-align: right;\n",
       "    }\n",
       "</style>\n",
       "<table border=\"1\" class=\"dataframe\">\n",
       "  <thead>\n",
       "    <tr style=\"text-align: right;\">\n",
       "      <th></th>\n",
       "      <th>count</th>\n",
       "      <th>debt</th>\n",
       "      <th>coef</th>\n",
       "    </tr>\n",
       "    <tr>\n",
       "      <th>purpose_category</th>\n",
       "      <th></th>\n",
       "      <th></th>\n",
       "      <th></th>\n",
       "    </tr>\n",
       "  </thead>\n",
       "  <tbody>\n",
       "    <tr>\n",
       "      <th>операции с автомобилем</th>\n",
       "      <td>4279</td>\n",
       "      <td>400</td>\n",
       "      <td>0.078</td>\n",
       "    </tr>\n",
       "    <tr>\n",
       "      <th>операции с недвижимостью</th>\n",
       "      <td>10751</td>\n",
       "      <td>780</td>\n",
       "      <td>0.086</td>\n",
       "    </tr>\n",
       "    <tr>\n",
       "      <th>получение образования</th>\n",
       "      <td>3988</td>\n",
       "      <td>369</td>\n",
       "      <td>0.102</td>\n",
       "    </tr>\n",
       "    <tr>\n",
       "      <th>проведение свадьбы</th>\n",
       "      <td>2313</td>\n",
       "      <td>183</td>\n",
       "      <td>0.103</td>\n",
       "    </tr>\n",
       "  </tbody>\n",
       "</table>\n",
       "</div>"
      ],
      "text/plain": [
       "                          count  debt   coef\n",
       "purpose_category                            \n",
       "операции с автомобилем     4279   400  0.078\n",
       "операции с недвижимостью  10751   780  0.086\n",
       "получение образования      3988   369  0.102\n",
       "проведение свадьбы         2313   183  0.103"
      ]
     },
     "execution_count": 38,
     "metadata": {},
     "output_type": "execute_result"
    }
   ],
   "source": [
    "print('Цели, число людей без долга, с долгом, и их соотношение.')\n",
    "target_pivot"
   ]
  },
  {
   "cell_type": "markdown",
   "id": "5efb5818",
   "metadata": {
    "deletable": false,
    "id": "b4bb2ce6"
   },
   "source": [
    "**Вывод: Взаимосвязь определенно прослеживается, операции с авто и недвижимостью имеют самые низкие риски из представленных.\\\n",
    "\\\n",
    "Можно предположить что в среднем подобные операции проводят люди с лучшей дальновидностью чем те кто берут кредит на свадьбу.\\\n",
    "\\\n",
    "Взятие кредита на получение образования и не отдачи в срок можно обусловить с не простым финансовым положением, а также сама по себе трата времени на образование уменьшает вероятность того что человек будет подрабатывать как на основной работе так и пытаться получить другие источники дохода, что в свою очередь наносит ещё больший ущерб и в без того в не самое простое положение.** "
   ]
  },
  {
   "cell_type": "markdown",
   "id": "b96a6401",
   "metadata": {
    "deletable": false,
    "editable": false,
    "id": "09c3ac4c"
   },
   "source": [
    "#### 3.5 Приведите возможные причины появления пропусков в исходных данных."
   ]
  },
  {
   "cell_type": "markdown",
   "id": "95da5412",
   "metadata": {
    "deletable": false,
    "id": "9da2ceda"
   },
   "source": [
    "*Ответ: Человеческий фактор. \\\n",
    "\\\n",
    "А также микросбои программ при редактировании таблиц связанных с тем что некие космические частицы при попадании по транзистору процессора могут привести к изменению значения 0 на 1 в двоичном коде. Незнаю наверняка но думаю в огромнных массивах такое происходит регулярно.* "
   ]
  },
  {
   "cell_type": "markdown",
   "id": "fa823f7e",
   "metadata": {
    "deletable": false,
    "editable": false,
    "id": "7b0487d6"
   },
   "source": [
    "#### 3.6 Объясните, почему заполнить пропуски медианным значением — лучшее решение для количественных переменных."
   ]
  },
  {
   "cell_type": "markdown",
   "id": "f81a6d37",
   "metadata": {
    "deletable": false,
    "id": "7ecf2b8e"
   },
   "source": [
    "*Ответ: Медианное значение уменьшает влияние большого разброса в количественных значениях, из-за которого в свою очередь можно не верно интерпретировать данные.* "
   ]
  },
  {
   "cell_type": "markdown",
   "id": "c3ac1140",
   "metadata": {
    "deletable": false,
    "editable": false,
    "id": "6db5255a"
   },
   "source": [
    "### Шаг 4: общий вывод."
   ]
  },
  {
   "cell_type": "markdown",
   "id": "696b7343",
   "metadata": {
    "deletable": false,
    "id": "bad65432"
   },
   "source": [
    "##                              Общий вывод:\n",
    "### Предобработка данных:\n",
    "#### Удаление пропусков.\n",
    "* *Были обнаружены пропуски в двух столбцах - days_employed(Стаж в днях) и total_income(Размер ежемесячного дохода в рублях).*\n",
    "* *В пропуски были вставленны медианные значения столбцов в зависимости от категории income_type(Тип занятости).*\n",
    "#### Обработка аномальных значений.\n",
    "* *В значениях days_employed были обнаружены отрицательные значения, исправлены путём взятия числа в модуль.*\n",
    "* *Также в столбце children присутствовали отрицательные числа, и аномально большое количество детей(20), строки изъяты из таблицы.*\n",
    "#### Изменение типов данных.\n",
    "* *В столбце total_income присутствовали строковые типы данных содержащие в себе цифры, исправлено путём изменения типа данных на int.*\n",
    "#### Обработка дубликатов.\n",
    "* *Обработка велась путём приведения регистра строк в lower.*\n",
    "* *Дубликаты дропнуты из таблицы функцией pandas(drop_duplicates).*\n",
    "#### Категоризация данных.\n",
    "* *Данные были подвергнуты разделению на категории в зависимости от количества детей, ежемесячного дохода, семейного положения и целей кредита.*\n",
    "\n",
    "### Исследование данных на предмет:\n",
    "#### Есть ли зависимость между количеством детей и возвратом кредита в срок.\n",
    "\n",
    "* **Исследование показало зависимость от кол-ва детей.**\n",
    "\n",
    "* *При отсутствии детей у заёмщиков соотношение должников к выплатившим в срок состовляет 0.082*\n",
    "\n",
    "* *При наличии одного и двух детей соотношение увеличивается до 0.102 и 0.104, что может говорить о усложнении финансового положения заёмщиков.*\n",
    "\n",
    "* *Рождение третьего ребёнка снижает соотношение до 0.089, что можно обусловить гос. поддержкой многодетных семей.*\n",
    "\n",
    "* *Для выведения корректного соотношения при наличии трёх и более детей необходимо большее количество данных.*\n",
    "\n",
    "#### Есть ли зависимость от семейным положением и возвратом кредита в срок.\n",
    "\n",
    "* **Исследование показало зависимость от семейного положения**\n",
    "* *В категориях 'не женат / не замужем', 'гражданский брак' соотношение должников к выплатившим в срок состовляет 0.108 и 0.103 соответственно. В данных категориях самый высокий процент должников*\n",
    "* *В Категории 'женат / замужем' соотношение составляет 0.082, что говорит о том что пары находящиеся в браке более надёжны в плане займов.*\n",
    "* *Категории 'в разводе' и 'вдовец / вдова' показывают лучшее соотношение равное 0.076 и 0.071 соответственно, вероятно имеет место влияние раздела имущества или вступление в наследство.*\n",
    "\n",
    "\n",
    "#### Есть ли зависимость от уровня доходов и возвратом кредита в срок.\n",
    "* **Исследование показало зависимость от уровня доходов**\n",
    "* *Категории граждан разделены на пять категорий в зависимости от медианной уровня дохода в месяц, также в каждой категории по отдельности взята средняя з/п 'A - 1339 т.руб', 'B - 286 т.руб', 'C - 128 - т.руб', 'D - 42 т.руб', 'E - 25 т.руб.'*\n",
    "* *Исследование показало что чем больше люди зарабатывают тем чаще выплачивают кредит в срок*\n",
    "* *Соотношение должников к выплачивающим в срок.*\n",
    "* *Категория E - 0.100*\n",
    "* *Категория D - 0.064*\n",
    "* *Категория C - 0.093*\n",
    "* *Категория B - 0.076*\n",
    "* *Категория А - показывает аномальное значение 0.087, обусловлена не репрезентативной выборкой всего в 9 заёмщиков.*\n",
    "* *Единственная категория не попадающая под это утверждение категория D, было дополнительно выяснено что в данной категории значительно преобладающее количество пенсионеров в соотношении относительно других категорий что приводит к данной аномалии. Вероятна помощь с выплатами кредитов повзровслевших детей.*\n",
    "\n",
    "#### Есть ли зависимость от целей кредита и возвратом кредита в срок.\n",
    "* **Исследование показало зависимость от целей кредита**\n",
    "* *Цели кредита разделены на 4 категории, 'операции с автомобилем', 'операции с недвижимостью', 'получение образования', 'проведение свадьбы'*\n",
    "* *Примерно половину всех заёмщиков состовляют состоят из категории 'операции с недвижимостью' с соотношением должников к выплачивающим в срок в 0.086. В целом благодаря массовости можно считать данную категорию самой выгодной в плане данных займов.*\n",
    "* *Операции с автомобилем показывает соотнешние в 0.078, и имеет самый высокий коэффициент отдачи кредита в срок среди данных категорий*\n",
    "* *Категории 'получения образования' и 'проведение свадьбы' имеют примерно одинаковое и самое худшее соотношение в 0.102 и 0.103 соответственно, обусловить можно тем что в получении образования в среднем нуждаются люди с не простым финансовым положением, а само получение образования отнимает время которое могло бы пойти на поиск дополнительного дохода. Кредиты на проведение свадьбы зачастую могут не выплачиваться в срок по причине раннего расторжения брака.*"
   ]
  }
 ],
 "metadata": {
  "ExecuteTimeLog": [
   {
    "duration": 47,
    "start_time": "2023-05-20T04:44:14.340Z"
   },
   {
    "duration": 84,
    "start_time": "2023-05-20T04:45:13.823Z"
   },
   {
    "duration": 7,
    "start_time": "2023-05-20T04:45:20.055Z"
   },
   {
    "duration": 424,
    "start_time": "2023-05-20T04:45:38.748Z"
   },
   {
    "duration": 25,
    "start_time": "2023-05-20T04:45:39.301Z"
   },
   {
    "duration": 22,
    "start_time": "2023-05-20T04:45:39.690Z"
   },
   {
    "duration": 10,
    "start_time": "2023-05-20T04:45:40.811Z"
   },
   {
    "duration": 36,
    "start_time": "2023-05-20T04:45:41.400Z"
   },
   {
    "duration": 4,
    "start_time": "2023-05-20T04:45:42.497Z"
   },
   {
    "duration": 8,
    "start_time": "2023-05-20T04:45:43.144Z"
   },
   {
    "duration": 6,
    "start_time": "2023-05-20T04:45:43.929Z"
   },
   {
    "duration": 7,
    "start_time": "2023-05-20T04:45:44.312Z"
   },
   {
    "duration": 6,
    "start_time": "2023-05-20T04:45:44.713Z"
   },
   {
    "duration": 36,
    "start_time": "2023-05-20T04:45:45.234Z"
   },
   {
    "duration": 17,
    "start_time": "2023-05-20T04:45:45.592Z"
   },
   {
    "duration": 6,
    "start_time": "2023-05-20T04:45:46.507Z"
   },
   {
    "duration": 12,
    "start_time": "2023-05-20T04:45:47.050Z"
   },
   {
    "duration": 19,
    "start_time": "2023-05-20T04:45:48.028Z"
   },
   {
    "duration": 27,
    "start_time": "2023-05-20T04:45:49.490Z"
   },
   {
    "duration": 4,
    "start_time": "2023-05-20T04:45:50.857Z"
   },
   {
    "duration": 19,
    "start_time": "2023-05-20T04:45:51.192Z"
   },
   {
    "duration": 6,
    "start_time": "2023-05-20T04:45:53.930Z"
   },
   {
    "duration": 8,
    "start_time": "2023-05-20T04:45:55.303Z"
   },
   {
    "duration": 9,
    "start_time": "2023-05-20T04:45:56.313Z"
   },
   {
    "duration": 7,
    "start_time": "2023-05-20T04:45:58.851Z"
   },
   {
    "duration": 7,
    "start_time": "2023-05-20T04:46:44.220Z"
   },
   {
    "duration": 11,
    "start_time": "2023-05-20T04:46:49.993Z"
   },
   {
    "duration": 5,
    "start_time": "2023-05-20T04:48:25.409Z"
   },
   {
    "duration": 46,
    "start_time": "2023-05-20T05:04:35.339Z"
   },
   {
    "duration": 40,
    "start_time": "2023-05-20T05:06:35.527Z"
   },
   {
    "duration": 3,
    "start_time": "2023-05-20T05:08:51.490Z"
   },
   {
    "duration": 1104,
    "start_time": "2023-05-20T05:09:07.682Z"
   },
   {
    "duration": 4,
    "start_time": "2023-05-20T05:09:53.574Z"
   },
   {
    "duration": 6,
    "start_time": "2023-05-20T05:10:11.678Z"
   },
   {
    "duration": 7,
    "start_time": "2023-05-20T05:11:06.363Z"
   },
   {
    "duration": 7,
    "start_time": "2023-05-20T05:11:19.734Z"
   },
   {
    "duration": 5,
    "start_time": "2023-05-20T05:13:10.028Z"
   },
   {
    "duration": 32,
    "start_time": "2023-05-20T05:13:17.487Z"
   },
   {
    "duration": 26,
    "start_time": "2023-05-20T05:14:34.840Z"
   },
   {
    "duration": 23,
    "start_time": "2023-05-20T05:14:39.770Z"
   },
   {
    "duration": 19,
    "start_time": "2023-05-20T05:16:09.412Z"
   },
   {
    "duration": 31,
    "start_time": "2023-05-20T05:16:27.729Z"
   },
   {
    "duration": 28,
    "start_time": "2023-05-20T05:16:42.828Z"
   },
   {
    "duration": 19,
    "start_time": "2023-05-20T05:17:03.806Z"
   },
   {
    "duration": 29,
    "start_time": "2023-05-20T05:17:23.005Z"
   },
   {
    "duration": 18,
    "start_time": "2023-05-20T05:18:05.744Z"
   },
   {
    "duration": 52,
    "start_time": "2023-05-20T05:18:25.023Z"
   },
   {
    "duration": 32,
    "start_time": "2023-05-20T05:20:24.613Z"
   },
   {
    "duration": 9,
    "start_time": "2023-05-20T05:25:55.312Z"
   },
   {
    "duration": 13,
    "start_time": "2023-05-20T05:26:19.237Z"
   },
   {
    "duration": 13,
    "start_time": "2023-05-20T05:26:38.538Z"
   },
   {
    "duration": 8,
    "start_time": "2023-05-20T05:26:47.746Z"
   },
   {
    "duration": 9,
    "start_time": "2023-05-20T05:28:59.612Z"
   },
   {
    "duration": 7,
    "start_time": "2023-05-20T05:29:08.808Z"
   },
   {
    "duration": 8,
    "start_time": "2023-05-20T05:29:39.824Z"
   },
   {
    "duration": 9,
    "start_time": "2023-05-20T05:30:29.043Z"
   },
   {
    "duration": 10,
    "start_time": "2023-05-20T05:30:42.368Z"
   },
   {
    "duration": 15,
    "start_time": "2023-05-20T05:31:16.599Z"
   },
   {
    "duration": 10,
    "start_time": "2023-05-20T05:31:28.132Z"
   },
   {
    "duration": 11,
    "start_time": "2023-05-20T05:31:37.530Z"
   },
   {
    "duration": 15,
    "start_time": "2023-05-20T05:32:02.868Z"
   },
   {
    "duration": 11,
    "start_time": "2023-05-20T05:32:49.977Z"
   },
   {
    "duration": 9,
    "start_time": "2023-05-20T05:34:13.274Z"
   },
   {
    "duration": 16,
    "start_time": "2023-05-20T05:35:17.829Z"
   },
   {
    "duration": 873,
    "start_time": "2023-05-20T05:35:27.359Z"
   },
   {
    "duration": 24,
    "start_time": "2023-05-20T05:35:42.744Z"
   },
   {
    "duration": 33,
    "start_time": "2023-05-20T05:36:16.720Z"
   },
   {
    "duration": 13,
    "start_time": "2023-05-20T05:36:29.520Z"
   },
   {
    "duration": 8,
    "start_time": "2023-05-20T05:36:40.468Z"
   },
   {
    "duration": 12,
    "start_time": "2023-05-20T05:36:45.977Z"
   },
   {
    "duration": 20,
    "start_time": "2023-05-20T05:42:32.685Z"
   },
   {
    "duration": 13,
    "start_time": "2023-05-20T05:42:40.068Z"
   },
   {
    "duration": 1457,
    "start_time": "2023-05-20T05:42:46.628Z"
   },
   {
    "duration": 15,
    "start_time": "2023-05-20T05:42:55.143Z"
   },
   {
    "duration": 17,
    "start_time": "2023-05-20T05:44:04.319Z"
   },
   {
    "duration": 10,
    "start_time": "2023-05-20T05:44:07.557Z"
   },
   {
    "duration": 126,
    "start_time": "2023-05-20T05:46:36.419Z"
   },
   {
    "duration": 10,
    "start_time": "2023-05-20T05:46:41.279Z"
   },
   {
    "duration": 10,
    "start_time": "2023-05-20T05:46:56.552Z"
   },
   {
    "duration": 12,
    "start_time": "2023-05-20T05:47:53.257Z"
   },
   {
    "duration": 4,
    "start_time": "2023-05-20T05:52:33.914Z"
   },
   {
    "duration": 628,
    "start_time": "2023-05-20T05:52:42.991Z"
   },
   {
    "duration": 708,
    "start_time": "2023-05-20T05:52:59.842Z"
   },
   {
    "duration": 681,
    "start_time": "2023-05-20T05:53:21.195Z"
   },
   {
    "duration": 3,
    "start_time": "2023-05-20T05:53:28.949Z"
   },
   {
    "duration": 11,
    "start_time": "2023-05-20T05:53:30.877Z"
   },
   {
    "duration": 15,
    "start_time": "2023-05-20T05:53:52.395Z"
   },
   {
    "duration": 93,
    "start_time": "2023-05-20T05:54:25.225Z"
   },
   {
    "duration": 15,
    "start_time": "2023-05-20T05:54:31.389Z"
   },
   {
    "duration": 10,
    "start_time": "2023-05-20T05:54:40.628Z"
   },
   {
    "duration": 53,
    "start_time": "2023-05-20T05:55:18.433Z"
   },
   {
    "duration": 9,
    "start_time": "2023-05-20T05:55:49.997Z"
   },
   {
    "duration": 38,
    "start_time": "2023-05-20T05:56:13.961Z"
   },
   {
    "duration": 40,
    "start_time": "2023-05-20T05:56:35.310Z"
   },
   {
    "duration": 59,
    "start_time": "2023-05-20T05:56:46.461Z"
   },
   {
    "duration": 52,
    "start_time": "2023-05-20T05:57:34.294Z"
   },
   {
    "duration": 9,
    "start_time": "2023-05-20T05:57:51.954Z"
   },
   {
    "duration": 42,
    "start_time": "2023-05-20T05:57:55.191Z"
   },
   {
    "duration": 18,
    "start_time": "2023-05-20T05:58:58.436Z"
   },
   {
    "duration": 41,
    "start_time": "2023-05-20T05:59:17.676Z"
   },
   {
    "duration": 44,
    "start_time": "2023-05-20T06:00:18.395Z"
   },
   {
    "duration": 40,
    "start_time": "2023-05-20T06:00:48.888Z"
   },
   {
    "duration": 26,
    "start_time": "2023-05-20T06:01:15.430Z"
   },
   {
    "duration": 23,
    "start_time": "2023-05-20T06:01:25.912Z"
   },
   {
    "duration": 20,
    "start_time": "2023-05-20T06:01:53.428Z"
   },
   {
    "duration": 21,
    "start_time": "2023-05-20T06:02:03.983Z"
   },
   {
    "duration": 19,
    "start_time": "2023-05-20T06:02:14.511Z"
   },
   {
    "duration": 23,
    "start_time": "2023-05-20T06:02:43.046Z"
   },
   {
    "duration": 43,
    "start_time": "2023-05-20T06:03:45.995Z"
   },
   {
    "duration": 39,
    "start_time": "2023-05-20T06:04:05.560Z"
   },
   {
    "duration": 54,
    "start_time": "2023-05-20T06:04:53.322Z"
   },
   {
    "duration": 55,
    "start_time": "2023-05-20T06:06:09.577Z"
   },
   {
    "duration": 49,
    "start_time": "2023-05-20T06:06:58.886Z"
   },
   {
    "duration": 38,
    "start_time": "2023-05-20T06:07:09.149Z"
   },
   {
    "duration": 37,
    "start_time": "2023-05-20T06:07:27.831Z"
   },
   {
    "duration": 361,
    "start_time": "2023-05-20T06:10:12.901Z"
   },
   {
    "duration": 58,
    "start_time": "2023-05-20T06:10:34.443Z"
   },
   {
    "duration": 3,
    "start_time": "2023-05-20T06:12:14.168Z"
   },
   {
    "duration": 49,
    "start_time": "2023-05-20T06:12:15.070Z"
   },
   {
    "duration": 149,
    "start_time": "2023-05-20T06:12:57.146Z"
   },
   {
    "duration": 154,
    "start_time": "2023-05-20T06:15:32.661Z"
   },
   {
    "duration": 157,
    "start_time": "2023-05-20T06:15:47.609Z"
   },
   {
    "duration": 132,
    "start_time": "2023-05-20T06:15:52.406Z"
   },
   {
    "duration": 122,
    "start_time": "2023-05-20T06:16:14.186Z"
   },
   {
    "duration": 126,
    "start_time": "2023-05-20T06:16:33.303Z"
   },
   {
    "duration": 126,
    "start_time": "2023-05-20T06:17:37.544Z"
   },
   {
    "duration": 127,
    "start_time": "2023-05-20T06:18:21.533Z"
   },
   {
    "duration": 139,
    "start_time": "2023-05-20T06:19:02.680Z"
   },
   {
    "duration": 125,
    "start_time": "2023-05-20T06:19:56.252Z"
   },
   {
    "duration": 132,
    "start_time": "2023-05-20T06:20:46.351Z"
   },
   {
    "duration": 154,
    "start_time": "2023-05-20T06:21:30.375Z"
   },
   {
    "duration": 125,
    "start_time": "2023-05-20T06:21:57.107Z"
   },
   {
    "duration": 126,
    "start_time": "2023-05-20T06:22:27.132Z"
   },
   {
    "duration": 390,
    "start_time": "2023-05-20T06:23:38.908Z"
   },
   {
    "duration": 4,
    "start_time": "2023-05-20T06:24:28.738Z"
   },
   {
    "duration": 160,
    "start_time": "2023-05-20T06:24:36.332Z"
   },
   {
    "duration": 132,
    "start_time": "2023-05-20T06:25:05.716Z"
   },
   {
    "duration": 165,
    "start_time": "2023-05-20T06:25:19.673Z"
   },
   {
    "duration": 138,
    "start_time": "2023-05-20T06:26:33.388Z"
   },
   {
    "duration": 154,
    "start_time": "2023-05-20T06:26:43.501Z"
   },
   {
    "duration": 134,
    "start_time": "2023-05-20T06:29:10.973Z"
   },
   {
    "duration": 171,
    "start_time": "2023-05-20T06:29:18.176Z"
   },
   {
    "duration": 164,
    "start_time": "2023-05-20T06:29:54.651Z"
   },
   {
    "duration": 205,
    "start_time": "2023-05-20T06:30:46.072Z"
   },
   {
    "duration": 134,
    "start_time": "2023-05-20T06:31:01.209Z"
   },
   {
    "duration": 152,
    "start_time": "2023-05-20T06:33:09.318Z"
   },
   {
    "duration": 164,
    "start_time": "2023-05-20T06:34:53.685Z"
   },
   {
    "duration": 194,
    "start_time": "2023-05-20T06:35:20.031Z"
   },
   {
    "duration": 218,
    "start_time": "2023-05-20T06:35:47.231Z"
   },
   {
    "duration": 176,
    "start_time": "2023-05-20T06:35:57.574Z"
   },
   {
    "duration": 151,
    "start_time": "2023-05-20T06:36:03.635Z"
   },
   {
    "duration": 75,
    "start_time": "2023-05-20T06:37:03.128Z"
   },
   {
    "duration": 163,
    "start_time": "2023-05-20T06:37:11.065Z"
   },
   {
    "duration": 173,
    "start_time": "2023-05-20T06:40:23.940Z"
   },
   {
    "duration": 173,
    "start_time": "2023-05-20T06:40:49.820Z"
   },
   {
    "duration": 3,
    "start_time": "2023-05-20T06:42:04.532Z"
   },
   {
    "duration": 177,
    "start_time": "2023-05-20T06:42:04.970Z"
   },
   {
    "duration": 136,
    "start_time": "2023-05-20T07:00:10.906Z"
   },
   {
    "duration": 123,
    "start_time": "2023-05-20T07:01:24.031Z"
   },
   {
    "duration": 123,
    "start_time": "2023-05-20T07:01:27.649Z"
   },
   {
    "duration": 9,
    "start_time": "2023-05-20T07:21:03.792Z"
   },
   {
    "duration": 28,
    "start_time": "2023-05-20T07:21:25.487Z"
   },
   {
    "duration": 11,
    "start_time": "2023-05-20T07:39:48.299Z"
   },
   {
    "duration": 12,
    "start_time": "2023-05-20T07:40:02.563Z"
   },
   {
    "duration": 104,
    "start_time": "2023-05-20T07:42:01.290Z"
   },
   {
    "duration": 15,
    "start_time": "2023-05-20T07:42:11.351Z"
   },
   {
    "duration": 27,
    "start_time": "2023-05-20T08:01:11.185Z"
   },
   {
    "duration": 30,
    "start_time": "2023-05-20T08:01:28.278Z"
   },
   {
    "duration": 12,
    "start_time": "2023-05-20T08:02:51.338Z"
   },
   {
    "duration": 164,
    "start_time": "2023-05-20T08:09:34.271Z"
   },
   {
    "duration": 5,
    "start_time": "2023-05-20T08:15:25.314Z"
   },
   {
    "duration": 7,
    "start_time": "2023-05-20T08:15:45.970Z"
   },
   {
    "duration": 5,
    "start_time": "2023-05-20T08:16:27.181Z"
   },
   {
    "duration": 22,
    "start_time": "2023-05-20T08:19:22.435Z"
   },
   {
    "duration": 421,
    "start_time": "2023-05-20T08:22:40.039Z"
   },
   {
    "duration": 103,
    "start_time": "2023-05-20T08:22:49.673Z"
   },
   {
    "duration": 123,
    "start_time": "2023-05-20T08:23:37.779Z"
   },
   {
    "duration": 426,
    "start_time": "2023-05-20T08:23:43.123Z"
   },
   {
    "duration": 94,
    "start_time": "2023-05-20T08:24:53.459Z"
   },
   {
    "duration": 99,
    "start_time": "2023-05-20T08:24:58.419Z"
   },
   {
    "duration": 136,
    "start_time": "2023-05-20T08:26:40.256Z"
   },
   {
    "duration": 84,
    "start_time": "2023-05-20T08:26:52.167Z"
   },
   {
    "duration": 5,
    "start_time": "2023-05-20T08:27:07.161Z"
   },
   {
    "duration": 8,
    "start_time": "2023-05-20T08:27:25.567Z"
   },
   {
    "duration": 13,
    "start_time": "2023-05-20T08:27:39.201Z"
   },
   {
    "duration": 2032,
    "start_time": "2023-05-20T08:28:32.353Z"
   },
   {
    "duration": 1636,
    "start_time": "2023-05-20T08:28:39.755Z"
   },
   {
    "duration": 35,
    "start_time": "2023-05-20T08:29:30.078Z"
   },
   {
    "duration": 21,
    "start_time": "2023-05-20T08:29:37.215Z"
   },
   {
    "duration": 7,
    "start_time": "2023-05-20T08:30:16.414Z"
   },
   {
    "duration": 1853,
    "start_time": "2023-05-20T08:30:30.752Z"
   },
   {
    "duration": 19,
    "start_time": "2023-05-20T08:30:44.899Z"
   },
   {
    "duration": 1677,
    "start_time": "2023-05-20T08:30:50.742Z"
   },
   {
    "duration": 420,
    "start_time": "2023-05-20T08:30:58.391Z"
   },
   {
    "duration": 428,
    "start_time": "2023-05-20T08:31:18.032Z"
   },
   {
    "duration": 18,
    "start_time": "2023-05-20T08:31:25.855Z"
   },
   {
    "duration": 20,
    "start_time": "2023-05-20T08:31:52.663Z"
   },
   {
    "duration": 9,
    "start_time": "2023-05-20T08:33:26.290Z"
   },
   {
    "duration": 29,
    "start_time": "2023-05-20T08:33:55.744Z"
   },
   {
    "duration": 13,
    "start_time": "2023-05-20T08:34:19.287Z"
   },
   {
    "duration": 2407,
    "start_time": "2023-05-20T08:35:19.842Z"
   },
   {
    "duration": 15,
    "start_time": "2023-05-20T08:35:29.223Z"
   },
   {
    "duration": 11,
    "start_time": "2023-05-20T08:35:48.083Z"
   },
   {
    "duration": 20,
    "start_time": "2023-05-20T08:35:55.469Z"
   },
   {
    "duration": 27,
    "start_time": "2023-05-20T08:37:08.119Z"
   },
   {
    "duration": 19,
    "start_time": "2023-05-20T08:37:53.974Z"
   },
   {
    "duration": 12,
    "start_time": "2023-05-20T08:38:29.236Z"
   },
   {
    "duration": 6,
    "start_time": "2023-05-20T08:38:35.534Z"
   },
   {
    "duration": 7,
    "start_time": "2023-05-20T08:38:39.136Z"
   },
   {
    "duration": 15,
    "start_time": "2023-05-20T08:38:47.731Z"
   },
   {
    "duration": 14,
    "start_time": "2023-05-20T08:46:17.046Z"
   },
   {
    "duration": 15,
    "start_time": "2023-05-20T08:46:22.477Z"
   },
   {
    "duration": 178,
    "start_time": "2023-05-20T08:48:14.902Z"
   },
   {
    "duration": 9,
    "start_time": "2023-05-20T08:48:29.470Z"
   },
   {
    "duration": 14,
    "start_time": "2023-05-20T08:48:41.525Z"
   },
   {
    "duration": 19,
    "start_time": "2023-05-20T08:48:46.350Z"
   },
   {
    "duration": 17,
    "start_time": "2023-05-20T08:49:46.271Z"
   },
   {
    "duration": 118,
    "start_time": "2023-05-20T08:51:31.459Z"
   },
   {
    "duration": 20,
    "start_time": "2023-05-20T08:51:55.271Z"
   },
   {
    "duration": 20,
    "start_time": "2023-05-20T08:52:10.856Z"
   },
   {
    "duration": 22,
    "start_time": "2023-05-20T08:52:21.529Z"
   },
   {
    "duration": 22,
    "start_time": "2023-05-20T08:52:45.550Z"
   },
   {
    "duration": 34,
    "start_time": "2023-05-20T08:53:52.580Z"
   },
   {
    "duration": 30,
    "start_time": "2023-05-20T08:53:58.521Z"
   },
   {
    "duration": 141,
    "start_time": "2023-05-20T08:58:56.668Z"
   },
   {
    "duration": 115,
    "start_time": "2023-05-20T08:59:09.372Z"
   },
   {
    "duration": 157,
    "start_time": "2023-05-20T08:59:09.878Z"
   },
   {
    "duration": 6,
    "start_time": "2023-05-20T08:59:26.932Z"
   },
   {
    "duration": 104,
    "start_time": "2023-05-20T08:59:27.235Z"
   },
   {
    "duration": 135,
    "start_time": "2023-05-20T08:59:27.733Z"
   },
   {
    "duration": 107,
    "start_time": "2023-05-20T09:00:19.895Z"
   },
   {
    "duration": 141,
    "start_time": "2023-05-20T09:00:30.539Z"
   },
   {
    "duration": 60,
    "start_time": "2023-05-20T09:00:48.015Z"
   },
   {
    "duration": 183,
    "start_time": "2023-05-20T09:01:01.661Z"
   },
   {
    "duration": 47,
    "start_time": "2023-05-20T09:01:35.640Z"
   },
   {
    "duration": 24,
    "start_time": "2023-05-20T09:03:24.749Z"
   },
   {
    "duration": 1464,
    "start_time": "2023-05-20T09:08:35.827Z"
   },
   {
    "duration": 7,
    "start_time": "2023-05-20T09:08:54.322Z"
   },
   {
    "duration": 252,
    "start_time": "2023-05-20T09:10:05.320Z"
   },
   {
    "duration": 36,
    "start_time": "2023-05-20T09:10:13.392Z"
   },
   {
    "duration": 35,
    "start_time": "2023-05-20T09:10:26.912Z"
   },
   {
    "duration": 20,
    "start_time": "2023-05-20T09:12:08.382Z"
   },
   {
    "duration": 22,
    "start_time": "2023-05-20T09:13:26.336Z"
   },
   {
    "duration": 25,
    "start_time": "2023-05-20T09:16:12.263Z"
   },
   {
    "duration": 29,
    "start_time": "2023-05-20T09:17:03.713Z"
   },
   {
    "duration": 551,
    "start_time": "2023-05-20T09:19:09.063Z"
   },
   {
    "duration": 34,
    "start_time": "2023-05-20T09:19:11.318Z"
   },
   {
    "duration": 94,
    "start_time": "2023-05-20T09:19:22.723Z"
   },
   {
    "duration": 448,
    "start_time": "2023-05-20T09:19:50.793Z"
   },
   {
    "duration": 429,
    "start_time": "2023-05-20T09:20:09.273Z"
   },
   {
    "duration": 102,
    "start_time": "2023-05-20T09:20:36.639Z"
   },
   {
    "duration": 1975,
    "start_time": "2023-05-20T09:20:40.493Z"
   },
   {
    "duration": 1003,
    "start_time": "2023-05-20T09:20:47.365Z"
   },
   {
    "duration": 246,
    "start_time": "2023-05-20T09:22:59.841Z"
   },
   {
    "duration": 130,
    "start_time": "2023-05-20T09:23:25.399Z"
   },
   {
    "duration": 9,
    "start_time": "2023-05-20T09:24:08.034Z"
   },
   {
    "duration": 103,
    "start_time": "2023-05-20T09:26:08.971Z"
   },
   {
    "duration": 102,
    "start_time": "2023-05-20T09:26:13.163Z"
   },
   {
    "duration": 120,
    "start_time": "2023-05-20T09:26:20.943Z"
   },
   {
    "duration": 230,
    "start_time": "2023-05-20T09:26:23.238Z"
   },
   {
    "duration": 293,
    "start_time": "2023-05-20T09:26:32.377Z"
   },
   {
    "duration": 203,
    "start_time": "2023-05-20T09:26:40.572Z"
   },
   {
    "duration": 103,
    "start_time": "2023-05-20T09:27:24.187Z"
   },
   {
    "duration": 129,
    "start_time": "2023-05-20T09:27:54.454Z"
   },
   {
    "duration": 1988,
    "start_time": "2023-05-20T09:28:48.071Z"
   },
   {
    "duration": 41,
    "start_time": "2023-05-20T09:28:59.393Z"
   },
   {
    "duration": 1567,
    "start_time": "2023-05-20T09:29:03.121Z"
   },
   {
    "duration": 45,
    "start_time": "2023-05-20T09:29:18.713Z"
   },
   {
    "duration": 31,
    "start_time": "2023-05-20T09:29:24.671Z"
   },
   {
    "duration": 251,
    "start_time": "2023-05-20T09:29:33.773Z"
   },
   {
    "duration": 376,
    "start_time": "2023-05-20T09:30:15.030Z"
   },
   {
    "duration": 239,
    "start_time": "2023-05-20T09:30:28.465Z"
   },
   {
    "duration": 135,
    "start_time": "2023-05-20T09:31:43.513Z"
   },
   {
    "duration": 143,
    "start_time": "2023-05-20T09:32:11.344Z"
   },
   {
    "duration": 263,
    "start_time": "2023-05-20T09:32:59.483Z"
   },
   {
    "duration": 297,
    "start_time": "2023-05-20T09:33:19.753Z"
   },
   {
    "duration": 257,
    "start_time": "2023-05-20T09:33:23.848Z"
   },
   {
    "duration": 140,
    "start_time": "2023-05-20T09:33:59.715Z"
   },
   {
    "duration": 289,
    "start_time": "2023-05-20T09:34:13.043Z"
   },
   {
    "duration": 136,
    "start_time": "2023-05-20T09:34:21.339Z"
   },
   {
    "duration": 136,
    "start_time": "2023-05-20T09:34:40.734Z"
   },
   {
    "duration": 135,
    "start_time": "2023-05-20T09:34:44.719Z"
   },
   {
    "duration": 164,
    "start_time": "2023-05-20T09:34:49.184Z"
   },
   {
    "duration": 25,
    "start_time": "2023-05-20T09:35:36.852Z"
   },
   {
    "duration": 28,
    "start_time": "2023-05-20T09:35:50.360Z"
   },
   {
    "duration": 25,
    "start_time": "2023-05-20T09:36:06.231Z"
   },
   {
    "duration": 41,
    "start_time": "2023-05-20T09:36:14.423Z"
   },
   {
    "duration": 35,
    "start_time": "2023-05-20T09:36:31.252Z"
   },
   {
    "duration": 28,
    "start_time": "2023-05-20T09:37:45.456Z"
   },
   {
    "duration": 1513,
    "start_time": "2023-05-20T09:38:21.441Z"
   },
   {
    "duration": 29,
    "start_time": "2023-05-20T09:38:27.357Z"
   },
   {
    "duration": 147,
    "start_time": "2023-05-20T09:39:52.145Z"
   },
   {
    "duration": 212,
    "start_time": "2023-05-20T09:40:25.129Z"
   },
   {
    "duration": 214,
    "start_time": "2023-05-20T09:40:50.170Z"
   },
   {
    "duration": 146,
    "start_time": "2023-05-20T09:43:38.920Z"
   },
   {
    "duration": 408,
    "start_time": "2023-05-20T09:43:46.713Z"
   },
   {
    "duration": 167,
    "start_time": "2023-05-20T09:43:55.459Z"
   },
   {
    "duration": 44,
    "start_time": "2023-05-20T09:45:11.127Z"
   },
   {
    "duration": 737,
    "start_time": "2023-05-20T09:45:18.469Z"
   },
   {
    "duration": 33,
    "start_time": "2023-05-20T09:45:27.387Z"
   },
   {
    "duration": 36,
    "start_time": "2023-05-20T09:45:46.221Z"
   },
   {
    "duration": 1589,
    "start_time": "2023-05-20T09:45:56.976Z"
   },
   {
    "duration": 37,
    "start_time": "2023-05-20T09:46:18.762Z"
   },
   {
    "duration": 160,
    "start_time": "2023-05-20T09:46:24.296Z"
   },
   {
    "duration": 159,
    "start_time": "2023-05-20T09:46:32.281Z"
   },
   {
    "duration": 15,
    "start_time": "2023-05-20T09:47:09.171Z"
   },
   {
    "duration": 180,
    "start_time": "2023-05-20T09:47:16.388Z"
   },
   {
    "duration": 29,
    "start_time": "2023-05-20T09:47:22.216Z"
   },
   {
    "duration": 32,
    "start_time": "2023-05-20T09:47:27.220Z"
   },
   {
    "duration": 169,
    "start_time": "2023-05-20T09:47:32.638Z"
   },
   {
    "duration": 169,
    "start_time": "2023-05-20T09:48:19.031Z"
   },
   {
    "duration": 43,
    "start_time": "2023-05-20T09:48:31.787Z"
   },
   {
    "duration": 158,
    "start_time": "2023-05-20T09:48:35.638Z"
   },
   {
    "duration": 178,
    "start_time": "2023-05-20T09:48:56.606Z"
   },
   {
    "duration": 164,
    "start_time": "2023-05-20T09:49:01.049Z"
   },
   {
    "duration": 24,
    "start_time": "2023-05-20T09:49:16.820Z"
   },
   {
    "duration": 22,
    "start_time": "2023-05-20T09:53:25.630Z"
   },
   {
    "duration": 35,
    "start_time": "2023-05-20T10:01:14.186Z"
   },
   {
    "duration": 243,
    "start_time": "2023-05-20T10:03:46.483Z"
   },
   {
    "duration": 157,
    "start_time": "2023-05-20T10:04:05.359Z"
   },
   {
    "duration": 169,
    "start_time": "2023-05-20T10:04:21.064Z"
   },
   {
    "duration": 46,
    "start_time": "2023-05-20T10:04:38.983Z"
   },
   {
    "duration": 185,
    "start_time": "2023-05-20T10:04:43.164Z"
   },
   {
    "duration": 29,
    "start_time": "2023-05-20T10:20:10.456Z"
   },
   {
    "duration": 38,
    "start_time": "2023-05-20T10:21:00.087Z"
   },
   {
    "duration": 23,
    "start_time": "2023-05-20T10:22:17.070Z"
   },
   {
    "duration": 183,
    "start_time": "2023-05-20T11:11:15.438Z"
   },
   {
    "duration": 150,
    "start_time": "2023-05-20T11:11:43.218Z"
   },
   {
    "duration": 171,
    "start_time": "2023-05-20T11:11:58.334Z"
   },
   {
    "duration": 174,
    "start_time": "2023-05-20T11:12:34.082Z"
   },
   {
    "duration": 174,
    "start_time": "2023-05-20T11:13:48.836Z"
   },
   {
    "duration": 147,
    "start_time": "2023-05-20T11:14:08.243Z"
   },
   {
    "duration": 172,
    "start_time": "2023-05-20T11:14:15.613Z"
   },
   {
    "duration": 204,
    "start_time": "2023-05-20T11:34:49.121Z"
   },
   {
    "duration": 240,
    "start_time": "2023-05-20T11:35:08.037Z"
   },
   {
    "duration": 216,
    "start_time": "2023-05-20T11:37:22.857Z"
   },
   {
    "duration": 90,
    "start_time": "2023-05-21T10:37:56.056Z"
   },
   {
    "duration": 1390,
    "start_time": "2023-05-21T10:38:10.394Z"
   },
   {
    "duration": 41,
    "start_time": "2023-05-21T10:38:11.789Z"
   },
   {
    "duration": 18,
    "start_time": "2023-05-21T10:38:11.832Z"
   },
   {
    "duration": 38,
    "start_time": "2023-05-21T10:38:11.853Z"
   },
   {
    "duration": 63,
    "start_time": "2023-05-21T10:38:11.894Z"
   },
   {
    "duration": 4,
    "start_time": "2023-05-21T10:38:12.365Z"
   },
   {
    "duration": 11,
    "start_time": "2023-05-21T10:38:12.794Z"
   },
   {
    "duration": 5,
    "start_time": "2023-05-21T10:38:13.092Z"
   },
   {
    "duration": 10,
    "start_time": "2023-05-21T10:38:13.153Z"
   },
   {
    "duration": 6,
    "start_time": "2023-05-21T10:38:13.212Z"
   },
   {
    "duration": 47,
    "start_time": "2023-05-21T10:38:13.810Z"
   },
   {
    "duration": 17,
    "start_time": "2023-05-21T10:38:14.158Z"
   },
   {
    "duration": 7,
    "start_time": "2023-05-21T10:38:14.710Z"
   },
   {
    "duration": 14,
    "start_time": "2023-05-21T10:38:15.323Z"
   },
   {
    "duration": 34,
    "start_time": "2023-05-21T10:38:15.758Z"
   },
   {
    "duration": 162,
    "start_time": "2023-05-21T10:38:15.970Z"
   },
   {
    "duration": 6,
    "start_time": "2023-05-21T10:38:16.602Z"
   },
   {
    "duration": 20,
    "start_time": "2023-05-21T10:38:16.774Z"
   },
   {
    "duration": 7,
    "start_time": "2023-05-21T10:38:17.092Z"
   },
   {
    "duration": 4,
    "start_time": "2023-05-21T10:38:17.461Z"
   },
   {
    "duration": 18,
    "start_time": "2023-05-21T10:38:17.677Z"
   },
   {
    "duration": 824,
    "start_time": "2023-05-21T10:38:18.541Z"
   },
   {
    "duration": 70,
    "start_time": "2023-05-21T10:38:19.375Z"
   },
   {
    "duration": 346,
    "start_time": "2023-05-21T10:38:19.448Z"
   },
   {
    "duration": 32,
    "start_time": "2023-05-21T10:38:21.614Z"
   },
   {
    "duration": 197,
    "start_time": "2023-05-21T10:38:22.315Z"
   },
   {
    "duration": 4,
    "start_time": "2023-05-21T10:38:24.219Z"
   },
   {
    "duration": 21,
    "start_time": "2023-05-21T10:38:24.815Z"
   },
   {
    "duration": 49,
    "start_time": "2023-05-21T10:42:04.798Z"
   },
   {
    "duration": 20,
    "start_time": "2023-05-21T10:42:38.413Z"
   },
   {
    "duration": 23,
    "start_time": "2023-05-21T10:43:06.154Z"
   },
   {
    "duration": 1501,
    "start_time": "2023-05-21T10:46:04.658Z"
   },
   {
    "duration": 72,
    "start_time": "2023-05-21T10:46:06.163Z"
   },
   {
    "duration": 30,
    "start_time": "2023-05-21T10:46:06.239Z"
   },
   {
    "duration": 48,
    "start_time": "2023-05-21T10:46:06.272Z"
   },
   {
    "duration": 87,
    "start_time": "2023-05-21T10:46:06.324Z"
   },
   {
    "duration": 33,
    "start_time": "2023-05-21T10:46:06.417Z"
   },
   {
    "duration": 60,
    "start_time": "2023-05-21T10:46:06.453Z"
   },
   {
    "duration": 25,
    "start_time": "2023-05-21T10:46:06.516Z"
   },
   {
    "duration": 20,
    "start_time": "2023-05-21T10:46:06.544Z"
   },
   {
    "duration": 10,
    "start_time": "2023-05-21T10:46:06.566Z"
   },
   {
    "duration": 91,
    "start_time": "2023-05-21T10:46:06.579Z"
   },
   {
    "duration": 20,
    "start_time": "2023-05-21T10:46:06.675Z"
   },
   {
    "duration": 29,
    "start_time": "2023-05-21T10:46:06.700Z"
   },
   {
    "duration": 49,
    "start_time": "2023-05-21T10:46:06.734Z"
   },
   {
    "duration": 57,
    "start_time": "2023-05-21T10:46:06.786Z"
   },
   {
    "duration": 42,
    "start_time": "2023-05-21T10:46:06.846Z"
   },
   {
    "duration": 6,
    "start_time": "2023-05-21T10:46:06.896Z"
   },
   {
    "duration": 31,
    "start_time": "2023-05-21T10:46:06.905Z"
   },
   {
    "duration": 10,
    "start_time": "2023-05-21T10:46:06.939Z"
   },
   {
    "duration": 39,
    "start_time": "2023-05-21T10:46:06.952Z"
   },
   {
    "duration": 72,
    "start_time": "2023-05-21T10:46:06.995Z"
   },
   {
    "duration": 735,
    "start_time": "2023-05-21T10:46:07.070Z"
   },
   {
    "duration": 91,
    "start_time": "2023-05-21T10:46:07.808Z"
   },
   {
    "duration": 349,
    "start_time": "2023-05-21T10:46:07.903Z"
   },
   {
    "duration": 48,
    "start_time": "2023-05-21T10:46:08.255Z"
   },
   {
    "duration": 199,
    "start_time": "2023-05-21T10:46:08.305Z"
   },
   {
    "duration": 90,
    "start_time": "2023-05-21T10:46:08.506Z"
   },
   {
    "duration": 17,
    "start_time": "2023-05-21T10:46:08.598Z"
   },
   {
    "duration": 11,
    "start_time": "2023-05-21T10:46:08.618Z"
   },
   {
    "duration": 107,
    "start_time": "2023-05-21T10:46:32.385Z"
   },
   {
    "duration": 140,
    "start_time": "2023-05-21T10:47:36.813Z"
   },
   {
    "duration": 151,
    "start_time": "2023-05-21T10:50:02.006Z"
   },
   {
    "duration": 1008,
    "start_time": "2023-05-21T10:51:13.151Z"
   },
   {
    "duration": 685,
    "start_time": "2023-05-21T10:51:49.457Z"
   },
   {
    "duration": 740,
    "start_time": "2023-05-21T10:52:27.751Z"
   },
   {
    "duration": 37,
    "start_time": "2023-05-21T10:54:13.517Z"
   },
   {
    "duration": 69,
    "start_time": "2023-05-21T10:54:22.762Z"
   },
   {
    "duration": 66,
    "start_time": "2023-05-21T10:54:57.310Z"
   },
   {
    "duration": 90,
    "start_time": "2023-05-21T10:55:53.269Z"
   },
   {
    "duration": 83,
    "start_time": "2023-05-21T10:56:07.875Z"
   },
   {
    "duration": 87,
    "start_time": "2023-05-21T10:56:32.672Z"
   },
   {
    "duration": 121,
    "start_time": "2023-05-21T11:01:18.688Z"
   },
   {
    "duration": 71,
    "start_time": "2023-05-21T11:03:26.908Z"
   },
   {
    "duration": 88,
    "start_time": "2023-05-21T11:03:54.137Z"
   },
   {
    "duration": 96,
    "start_time": "2023-05-21T11:03:58.897Z"
   },
   {
    "duration": 118,
    "start_time": "2023-05-21T11:04:09.029Z"
   },
   {
    "duration": 83,
    "start_time": "2023-05-21T11:04:37.441Z"
   },
   {
    "duration": 130,
    "start_time": "2023-05-21T11:05:31.525Z"
   },
   {
    "duration": 97,
    "start_time": "2023-05-21T11:06:24.381Z"
   },
   {
    "duration": 103,
    "start_time": "2023-05-21T11:06:41.652Z"
   },
   {
    "duration": 111,
    "start_time": "2023-05-21T11:06:50.796Z"
   },
   {
    "duration": 103,
    "start_time": "2023-05-21T11:07:18.503Z"
   },
   {
    "duration": 133,
    "start_time": "2023-05-21T11:08:25.953Z"
   },
   {
    "duration": 134,
    "start_time": "2023-05-21T11:08:33.060Z"
   },
   {
    "duration": 170,
    "start_time": "2023-05-21T11:08:35.562Z"
   },
   {
    "duration": 80,
    "start_time": "2023-05-21T11:08:53.884Z"
   },
   {
    "duration": 96,
    "start_time": "2023-05-21T11:08:59.656Z"
   },
   {
    "duration": 111,
    "start_time": "2023-05-21T11:09:21.958Z"
   },
   {
    "duration": 87,
    "start_time": "2023-05-21T11:11:53.063Z"
   },
   {
    "duration": 70,
    "start_time": "2023-05-21T11:16:02.904Z"
   },
   {
    "duration": 72,
    "start_time": "2023-05-21T11:16:09.931Z"
   },
   {
    "duration": 72,
    "start_time": "2023-05-21T11:16:13.337Z"
   },
   {
    "duration": 132,
    "start_time": "2023-05-21T11:23:41.374Z"
   },
   {
    "duration": 115,
    "start_time": "2023-05-21T11:24:55.528Z"
   },
   {
    "duration": 77,
    "start_time": "2023-05-21T11:26:32.510Z"
   },
   {
    "duration": 88,
    "start_time": "2023-05-21T11:27:26.113Z"
   },
   {
    "duration": 103,
    "start_time": "2023-05-21T11:27:34.382Z"
   },
   {
    "duration": 127,
    "start_time": "2023-05-21T11:29:48.012Z"
   },
   {
    "duration": 109,
    "start_time": "2023-05-21T11:31:44.454Z"
   },
   {
    "duration": 96,
    "start_time": "2023-05-21T11:31:48.835Z"
   },
   {
    "duration": 121,
    "start_time": "2023-05-21T11:32:00.431Z"
   },
   {
    "duration": 115,
    "start_time": "2023-05-21T11:32:11.913Z"
   },
   {
    "duration": 169,
    "start_time": "2023-05-21T11:32:15.360Z"
   },
   {
    "duration": 88,
    "start_time": "2023-05-21T11:32:20.798Z"
   },
   {
    "duration": 92,
    "start_time": "2023-05-21T11:34:09.759Z"
   },
   {
    "duration": 131,
    "start_time": "2023-05-21T11:36:27.357Z"
   },
   {
    "duration": 116,
    "start_time": "2023-05-21T11:36:48.065Z"
   },
   {
    "duration": 184,
    "start_time": "2023-05-21T11:37:02.971Z"
   },
   {
    "duration": 831,
    "start_time": "2023-05-21T11:37:26.635Z"
   },
   {
    "duration": 150,
    "start_time": "2023-05-21T11:37:43.904Z"
   },
   {
    "duration": 142,
    "start_time": "2023-05-21T11:37:57.826Z"
   },
   {
    "duration": 118,
    "start_time": "2023-05-21T11:38:20.123Z"
   },
   {
    "duration": 157,
    "start_time": "2023-05-21T11:38:33.895Z"
   },
   {
    "duration": 107,
    "start_time": "2023-05-21T11:38:41.299Z"
   },
   {
    "duration": 119,
    "start_time": "2023-05-21T11:38:45.763Z"
   },
   {
    "duration": 117,
    "start_time": "2023-05-21T11:38:50.024Z"
   },
   {
    "duration": 119,
    "start_time": "2023-05-21T11:38:57.161Z"
   },
   {
    "duration": 130,
    "start_time": "2023-05-21T11:39:49.362Z"
   },
   {
    "duration": 125,
    "start_time": "2023-05-21T11:40:40.601Z"
   },
   {
    "duration": 118,
    "start_time": "2023-05-21T11:41:03.972Z"
   },
   {
    "duration": 113,
    "start_time": "2023-05-21T11:42:03.327Z"
   },
   {
    "duration": 125,
    "start_time": "2023-05-21T11:42:54.447Z"
   },
   {
    "duration": 111,
    "start_time": "2023-05-21T11:43:19.923Z"
   },
   {
    "duration": 122,
    "start_time": "2023-05-21T11:43:26.496Z"
   },
   {
    "duration": 134,
    "start_time": "2023-05-21T11:43:33.995Z"
   },
   {
    "duration": 248,
    "start_time": "2023-05-21T11:44:13.769Z"
   },
   {
    "duration": 159,
    "start_time": "2023-05-21T11:44:39.792Z"
   },
   {
    "duration": 32,
    "start_time": "2023-05-21T11:44:56.902Z"
   },
   {
    "duration": 38,
    "start_time": "2023-05-21T11:45:20.049Z"
   },
   {
    "duration": 27,
    "start_time": "2023-05-21T11:45:25.124Z"
   },
   {
    "duration": 109,
    "start_time": "2023-05-21T11:45:30.229Z"
   },
   {
    "duration": 141,
    "start_time": "2023-05-21T11:46:13.540Z"
   },
   {
    "duration": 116,
    "start_time": "2023-05-21T11:46:41.781Z"
   },
   {
    "duration": 146,
    "start_time": "2023-05-21T11:46:48.338Z"
   },
   {
    "duration": 104,
    "start_time": "2023-05-21T11:46:51.377Z"
   },
   {
    "duration": 100,
    "start_time": "2023-05-21T11:46:55.494Z"
   },
   {
    "duration": 27,
    "start_time": "2023-05-21T11:55:15.215Z"
   },
   {
    "duration": 105,
    "start_time": "2023-05-21T11:55:46.249Z"
   },
   {
    "duration": 67,
    "start_time": "2023-05-21T11:56:07.871Z"
   },
   {
    "duration": 30,
    "start_time": "2023-05-21T11:56:21.604Z"
   },
   {
    "duration": 24,
    "start_time": "2023-05-21T11:56:34.812Z"
   },
   {
    "duration": 9,
    "start_time": "2023-05-21T11:56:46.065Z"
   },
   {
    "duration": 34,
    "start_time": "2023-05-21T11:57:18.151Z"
   },
   {
    "duration": 121,
    "start_time": "2023-05-21T11:57:30.931Z"
   },
   {
    "duration": 116,
    "start_time": "2023-05-21T11:58:02.760Z"
   },
   {
    "duration": 44,
    "start_time": "2023-05-21T11:59:05.952Z"
   },
   {
    "duration": 99,
    "start_time": "2023-05-21T11:59:20.797Z"
   },
   {
    "duration": 119,
    "start_time": "2023-05-21T11:59:36.746Z"
   },
   {
    "duration": 119,
    "start_time": "2023-05-21T12:01:33.796Z"
   },
   {
    "duration": 134,
    "start_time": "2023-05-21T12:01:45.059Z"
   },
   {
    "duration": 165,
    "start_time": "2023-05-21T12:02:28.653Z"
   },
   {
    "duration": 26,
    "start_time": "2023-05-21T12:09:29.416Z"
   },
   {
    "duration": 128,
    "start_time": "2023-05-21T12:09:36.116Z"
   },
   {
    "duration": 26,
    "start_time": "2023-05-21T12:09:52.544Z"
   },
   {
    "duration": 36,
    "start_time": "2023-05-21T12:10:40.443Z"
   },
   {
    "duration": 36,
    "start_time": "2023-05-21T12:10:58.422Z"
   },
   {
    "duration": 28,
    "start_time": "2023-05-21T12:11:16.753Z"
   },
   {
    "duration": 28,
    "start_time": "2023-05-21T12:11:44.620Z"
   },
   {
    "duration": 115,
    "start_time": "2023-05-21T12:12:00.547Z"
   },
   {
    "duration": 95,
    "start_time": "2023-05-21T12:12:32.709Z"
   },
   {
    "duration": 440,
    "start_time": "2023-05-21T12:14:15.298Z"
   },
   {
    "duration": 201,
    "start_time": "2023-05-21T12:14:32.953Z"
   },
   {
    "duration": 105,
    "start_time": "2023-05-21T12:14:51.547Z"
   },
   {
    "duration": 110,
    "start_time": "2023-05-21T12:14:59.244Z"
   },
   {
    "duration": 145,
    "start_time": "2023-05-21T12:15:31.960Z"
   },
   {
    "duration": 32,
    "start_time": "2023-05-21T12:15:39.161Z"
   },
   {
    "duration": 107,
    "start_time": "2023-05-21T12:15:48.128Z"
   },
   {
    "duration": 98,
    "start_time": "2023-05-21T12:16:05.058Z"
   },
   {
    "duration": 115,
    "start_time": "2023-05-21T12:17:49.886Z"
   },
   {
    "duration": 110,
    "start_time": "2023-05-21T12:18:02.346Z"
   },
   {
    "duration": 115,
    "start_time": "2023-05-21T12:18:13.620Z"
   },
   {
    "duration": 134,
    "start_time": "2023-05-21T12:22:29.557Z"
   },
   {
    "duration": 158,
    "start_time": "2023-05-21T12:28:28.653Z"
   },
   {
    "duration": 219,
    "start_time": "2023-05-21T12:28:33.001Z"
   },
   {
    "duration": 191,
    "start_time": "2023-05-21T12:29:47.959Z"
   },
   {
    "duration": 149,
    "start_time": "2023-05-21T12:30:05.701Z"
   },
   {
    "duration": 134,
    "start_time": "2023-05-21T12:31:43.317Z"
   },
   {
    "duration": 138,
    "start_time": "2023-05-21T12:32:03.786Z"
   },
   {
    "duration": 130,
    "start_time": "2023-05-21T12:32:57.200Z"
   },
   {
    "duration": 133,
    "start_time": "2023-05-21T12:33:49.002Z"
   },
   {
    "duration": 130,
    "start_time": "2023-05-21T12:34:03.105Z"
   },
   {
    "duration": 146,
    "start_time": "2023-05-21T12:34:35.298Z"
   },
   {
    "duration": 139,
    "start_time": "2023-05-21T12:34:40.328Z"
   },
   {
    "duration": 140,
    "start_time": "2023-05-21T12:34:45.404Z"
   },
   {
    "duration": 188,
    "start_time": "2023-05-21T12:34:48.844Z"
   },
   {
    "duration": 17,
    "start_time": "2023-05-21T12:35:29.687Z"
   },
   {
    "duration": 15,
    "start_time": "2023-05-21T12:35:44.794Z"
   },
   {
    "duration": 17,
    "start_time": "2023-05-21T12:35:53.197Z"
   },
   {
    "duration": 250,
    "start_time": "2023-05-21T12:36:00.990Z"
   },
   {
    "duration": 12,
    "start_time": "2023-05-21T12:47:10.041Z"
   },
   {
    "duration": 9,
    "start_time": "2023-05-21T12:47:25.334Z"
   },
   {
    "duration": 117,
    "start_time": "2023-05-21T12:48:00.340Z"
   },
   {
    "duration": 138,
    "start_time": "2023-05-21T12:48:06.365Z"
   },
   {
    "duration": 1621,
    "start_time": "2023-05-21T12:49:21.940Z"
   },
   {
    "duration": 38,
    "start_time": "2023-05-21T12:49:49.376Z"
   },
   {
    "duration": 13,
    "start_time": "2023-05-21T12:52:23.557Z"
   },
   {
    "duration": 17,
    "start_time": "2023-05-21T12:53:16.559Z"
   },
   {
    "duration": 14,
    "start_time": "2023-05-21T12:53:22.551Z"
   },
   {
    "duration": 12,
    "start_time": "2023-05-21T12:54:09.146Z"
   },
   {
    "duration": 19,
    "start_time": "2023-05-21T12:54:20.101Z"
   },
   {
    "duration": 146,
    "start_time": "2023-05-21T12:54:34.901Z"
   },
   {
    "duration": 160,
    "start_time": "2023-05-21T12:56:54.082Z"
   },
   {
    "duration": 147,
    "start_time": "2023-05-21T12:57:11.740Z"
   },
   {
    "duration": 216,
    "start_time": "2023-05-21T12:57:23.181Z"
   },
   {
    "duration": 149,
    "start_time": "2023-05-21T12:57:27.600Z"
   },
   {
    "duration": 25,
    "start_time": "2023-05-21T12:57:55.869Z"
   },
   {
    "duration": 170,
    "start_time": "2023-05-21T12:58:08.439Z"
   },
   {
    "duration": 207,
    "start_time": "2023-05-21T12:58:13.613Z"
   },
   {
    "duration": 179,
    "start_time": "2023-05-21T12:58:19.818Z"
   },
   {
    "duration": 196,
    "start_time": "2023-05-21T12:58:28.912Z"
   },
   {
    "duration": 166,
    "start_time": "2023-05-21T12:58:42.113Z"
   },
   {
    "duration": 335,
    "start_time": "2023-05-21T12:58:47.752Z"
   },
   {
    "duration": 258,
    "start_time": "2023-05-21T12:59:00.560Z"
   },
   {
    "duration": 227,
    "start_time": "2023-05-21T12:59:13.959Z"
   },
   {
    "duration": 265,
    "start_time": "2023-05-21T12:59:30.557Z"
   },
   {
    "duration": 268,
    "start_time": "2023-05-21T12:59:50.851Z"
   },
   {
    "duration": 200,
    "start_time": "2023-05-21T13:00:20.213Z"
   },
   {
    "duration": 238,
    "start_time": "2023-05-21T13:00:28.173Z"
   },
   {
    "duration": 281,
    "start_time": "2023-05-21T13:01:05.996Z"
   },
   {
    "duration": 254,
    "start_time": "2023-05-21T13:01:12.693Z"
   },
   {
    "duration": 125,
    "start_time": "2023-05-21T13:18:40.034Z"
   },
   {
    "duration": 103,
    "start_time": "2023-05-21T13:18:45.531Z"
   },
   {
    "duration": 191,
    "start_time": "2023-05-21T13:18:47.124Z"
   },
   {
    "duration": 29,
    "start_time": "2023-05-21T15:08:31.063Z"
   },
   {
    "duration": 15,
    "start_time": "2023-05-21T15:08:42.345Z"
   },
   {
    "duration": 311,
    "start_time": "2023-05-21T15:09:06.102Z"
   },
   {
    "duration": 183,
    "start_time": "2023-05-21T15:09:11.041Z"
   },
   {
    "duration": 255,
    "start_time": "2023-05-21T15:09:28.247Z"
   },
   {
    "duration": 241,
    "start_time": "2023-05-21T15:09:38.158Z"
   },
   {
    "duration": 177,
    "start_time": "2023-05-21T15:09:43.690Z"
   },
   {
    "duration": 169,
    "start_time": "2023-05-21T15:09:50.137Z"
   },
   {
    "duration": 208,
    "start_time": "2023-05-21T15:09:55.496Z"
   },
   {
    "duration": 196,
    "start_time": "2023-05-21T15:10:02.897Z"
   },
   {
    "duration": 172,
    "start_time": "2023-05-21T15:10:19.944Z"
   },
   {
    "duration": 228,
    "start_time": "2023-05-21T15:10:24.363Z"
   },
   {
    "duration": 203,
    "start_time": "2023-05-21T15:11:13.134Z"
   },
   {
    "duration": 331,
    "start_time": "2023-05-21T15:11:19.833Z"
   },
   {
    "duration": 214,
    "start_time": "2023-05-21T15:11:22.101Z"
   },
   {
    "duration": 194,
    "start_time": "2023-05-21T15:15:07.553Z"
   },
   {
    "duration": 195,
    "start_time": "2023-05-21T15:15:39.336Z"
   },
   {
    "duration": 105,
    "start_time": "2023-05-21T15:16:05.205Z"
   },
   {
    "duration": 222,
    "start_time": "2023-05-21T15:16:18.081Z"
   },
   {
    "duration": 173,
    "start_time": "2023-05-21T15:17:03.736Z"
   },
   {
    "duration": 210,
    "start_time": "2023-05-21T15:17:29.941Z"
   },
   {
    "duration": 241,
    "start_time": "2023-05-21T15:17:54.155Z"
   },
   {
    "duration": 208,
    "start_time": "2023-05-21T15:17:59.702Z"
   },
   {
    "duration": 180,
    "start_time": "2023-05-21T15:19:13.207Z"
   },
   {
    "duration": 294,
    "start_time": "2023-05-21T15:19:23.349Z"
   },
   {
    "duration": 354,
    "start_time": "2023-05-21T15:30:37.404Z"
   },
   {
    "duration": 140,
    "start_time": "2023-05-21T15:37:53.057Z"
   },
   {
    "duration": 141,
    "start_time": "2023-05-21T15:38:14.870Z"
   },
   {
    "duration": 113,
    "start_time": "2023-05-21T15:38:29.757Z"
   },
   {
    "duration": 109,
    "start_time": "2023-05-21T15:39:16.461Z"
   },
   {
    "duration": 129,
    "start_time": "2023-05-21T15:40:24.294Z"
   },
   {
    "duration": 140,
    "start_time": "2023-05-21T15:40:31.905Z"
   },
   {
    "duration": 142,
    "start_time": "2023-05-21T15:41:09.901Z"
   },
   {
    "duration": 173,
    "start_time": "2023-05-21T15:41:24.473Z"
   },
   {
    "duration": 170,
    "start_time": "2023-05-21T15:41:54.945Z"
   },
   {
    "duration": 1645,
    "start_time": "2023-05-21T15:43:06.164Z"
   },
   {
    "duration": 1650,
    "start_time": "2023-05-21T15:44:42.415Z"
   },
   {
    "duration": 1508,
    "start_time": "2023-05-21T15:45:37.324Z"
   },
   {
    "duration": 1549,
    "start_time": "2023-05-21T15:45:53.818Z"
   },
   {
    "duration": 1511,
    "start_time": "2023-05-21T15:46:17.890Z"
   },
   {
    "duration": 1679,
    "start_time": "2023-05-21T15:46:29.929Z"
   },
   {
    "duration": 90,
    "start_time": "2023-05-21T15:46:49.630Z"
   },
   {
    "duration": 805,
    "start_time": "2023-05-21T15:47:11.211Z"
   },
   {
    "duration": 856,
    "start_time": "2023-05-21T15:48:32.669Z"
   },
   {
    "duration": 9239,
    "start_time": "2023-05-21T15:49:22.484Z"
   },
   {
    "duration": 134,
    "start_time": "2023-05-21T15:50:10.566Z"
   },
   {
    "duration": 93,
    "start_time": "2023-05-21T15:50:43.905Z"
   },
   {
    "duration": 143,
    "start_time": "2023-05-21T15:51:00.793Z"
   },
   {
    "duration": 115,
    "start_time": "2023-05-21T15:51:17.197Z"
   },
   {
    "duration": 99,
    "start_time": "2023-05-21T15:52:03.622Z"
   },
   {
    "duration": 95,
    "start_time": "2023-05-21T15:52:50.764Z"
   },
   {
    "duration": 98,
    "start_time": "2023-05-21T15:53:39.964Z"
   },
   {
    "duration": 125,
    "start_time": "2023-05-21T15:53:48.824Z"
   },
   {
    "duration": 146,
    "start_time": "2023-05-21T15:53:54.574Z"
   },
   {
    "duration": 103,
    "start_time": "2023-05-21T15:53:59.418Z"
   },
   {
    "duration": 111,
    "start_time": "2023-05-21T15:54:16.646Z"
   },
   {
    "duration": 154,
    "start_time": "2023-05-21T15:55:39.059Z"
   },
   {
    "duration": 125,
    "start_time": "2023-05-21T15:55:53.791Z"
   },
   {
    "duration": 152,
    "start_time": "2023-05-21T15:56:24.493Z"
   },
   {
    "duration": 139,
    "start_time": "2023-05-21T15:56:44.207Z"
   },
   {
    "duration": 113,
    "start_time": "2023-05-21T15:59:25.554Z"
   },
   {
    "duration": 179,
    "start_time": "2023-05-21T16:01:11.982Z"
   },
   {
    "duration": 140,
    "start_time": "2023-05-21T16:01:28.423Z"
   },
   {
    "duration": 163,
    "start_time": "2023-05-21T16:01:36.488Z"
   },
   {
    "duration": 124,
    "start_time": "2023-05-21T16:07:35.998Z"
   },
   {
    "duration": 183,
    "start_time": "2023-05-21T16:07:41.211Z"
   },
   {
    "duration": 257,
    "start_time": "2023-05-21T16:07:49.971Z"
   },
   {
    "duration": 302,
    "start_time": "2023-05-21T16:07:59.353Z"
   },
   {
    "duration": 208,
    "start_time": "2023-05-21T16:09:32.870Z"
   },
   {
    "duration": 151,
    "start_time": "2023-05-21T16:09:57.804Z"
   },
   {
    "duration": 144,
    "start_time": "2023-05-21T16:19:24.794Z"
   },
   {
    "duration": 136,
    "start_time": "2023-05-21T16:20:00.040Z"
   },
   {
    "duration": 143,
    "start_time": "2023-05-21T16:20:10.753Z"
   },
   {
    "duration": 158,
    "start_time": "2023-05-21T16:21:18.932Z"
   },
   {
    "duration": 193,
    "start_time": "2023-05-21T16:22:16.117Z"
   },
   {
    "duration": 97,
    "start_time": "2023-05-21T16:26:47.613Z"
   },
   {
    "duration": 141,
    "start_time": "2023-05-21T16:26:57.861Z"
   },
   {
    "duration": 130,
    "start_time": "2023-05-21T16:27:11.477Z"
   },
   {
    "duration": 130,
    "start_time": "2023-05-21T16:27:31.782Z"
   },
   {
    "duration": 138,
    "start_time": "2023-05-21T16:27:39.970Z"
   },
   {
    "duration": 126,
    "start_time": "2023-05-21T16:28:52.865Z"
   },
   {
    "duration": 132,
    "start_time": "2023-05-21T16:29:41.657Z"
   },
   {
    "duration": 110,
    "start_time": "2023-05-21T16:32:13.717Z"
   },
   {
    "duration": 133,
    "start_time": "2023-05-21T16:32:49.080Z"
   },
   {
    "duration": 111,
    "start_time": "2023-05-21T16:35:25.197Z"
   },
   {
    "duration": 16,
    "start_time": "2023-05-21T17:14:08.402Z"
   },
   {
    "duration": 26,
    "start_time": "2023-05-21T17:19:42.597Z"
   },
   {
    "duration": 18,
    "start_time": "2023-05-21T17:20:10.213Z"
   },
   {
    "duration": 37,
    "start_time": "2023-05-21T17:20:15.151Z"
   },
   {
    "duration": 26,
    "start_time": "2023-05-21T17:20:37.890Z"
   },
   {
    "duration": 34,
    "start_time": "2023-05-21T17:21:17.810Z"
   },
   {
    "duration": 25,
    "start_time": "2023-05-21T17:21:25.000Z"
   },
   {
    "duration": 25,
    "start_time": "2023-05-21T17:22:11.545Z"
   },
   {
    "duration": 217,
    "start_time": "2023-05-21T17:23:23.671Z"
   },
   {
    "duration": 186,
    "start_time": "2023-05-21T17:24:09.508Z"
   },
   {
    "duration": 205,
    "start_time": "2023-05-21T17:24:15.403Z"
   },
   {
    "duration": 236,
    "start_time": "2023-05-21T17:24:37.859Z"
   },
   {
    "duration": 286,
    "start_time": "2023-05-21T17:25:08.577Z"
   },
   {
    "duration": 219,
    "start_time": "2023-05-21T17:25:39.214Z"
   },
   {
    "duration": 255,
    "start_time": "2023-05-21T17:26:07.693Z"
   },
   {
    "duration": 223,
    "start_time": "2023-05-21T17:26:12.768Z"
   },
   {
    "duration": 223,
    "start_time": "2023-05-21T17:26:24.094Z"
   },
   {
    "duration": 218,
    "start_time": "2023-05-21T17:26:55.313Z"
   },
   {
    "duration": 178,
    "start_time": "2023-05-21T17:27:02.600Z"
   },
   {
    "duration": 199,
    "start_time": "2023-05-21T17:27:05.270Z"
   },
   {
    "duration": 179,
    "start_time": "2023-05-21T17:27:25.304Z"
   },
   {
    "duration": 191,
    "start_time": "2023-05-21T17:27:29.164Z"
   },
   {
    "duration": 47,
    "start_time": "2023-05-21T17:28:16.134Z"
   },
   {
    "duration": 137,
    "start_time": "2023-05-21T17:28:45.564Z"
   },
   {
    "duration": 260,
    "start_time": "2023-05-21T17:28:47.191Z"
   },
   {
    "duration": 31,
    "start_time": "2023-05-21T17:33:23.459Z"
   },
   {
    "duration": 54,
    "start_time": "2023-05-21T17:34:32.102Z"
   },
   {
    "duration": 246,
    "start_time": "2023-05-21T17:36:24.764Z"
   },
   {
    "duration": 200,
    "start_time": "2023-05-21T17:47:17.368Z"
   },
   {
    "duration": 309,
    "start_time": "2023-05-21T17:47:46.182Z"
   },
   {
    "duration": 202,
    "start_time": "2023-05-21T17:47:55.458Z"
   },
   {
    "duration": 239,
    "start_time": "2023-05-21T17:48:31.964Z"
   },
   {
    "duration": 220,
    "start_time": "2023-05-21T17:49:01.072Z"
   },
   {
    "duration": 459,
    "start_time": "2023-05-21T17:50:03.200Z"
   },
   {
    "duration": 290,
    "start_time": "2023-05-21T17:50:16.091Z"
   },
   {
    "duration": 73,
    "start_time": "2023-05-21T17:51:11.017Z"
   },
   {
    "duration": 106,
    "start_time": "2023-05-21T17:51:25.702Z"
   },
   {
    "duration": 224,
    "start_time": "2023-05-21T17:57:21.281Z"
   },
   {
    "duration": 191,
    "start_time": "2023-05-21T17:58:09.300Z"
   },
   {
    "duration": 188,
    "start_time": "2023-05-21T17:58:31.106Z"
   },
   {
    "duration": 170,
    "start_time": "2023-05-21T17:58:53.863Z"
   },
   {
    "duration": 762,
    "start_time": "2023-05-21T22:15:34.141Z"
   },
   {
    "duration": 25,
    "start_time": "2023-05-21T22:15:34.906Z"
   },
   {
    "duration": 22,
    "start_time": "2023-05-21T22:15:34.932Z"
   },
   {
    "duration": 19,
    "start_time": "2023-05-21T22:15:34.955Z"
   },
   {
    "duration": 59,
    "start_time": "2023-05-21T22:15:34.977Z"
   },
   {
    "duration": 4,
    "start_time": "2023-05-21T22:15:35.037Z"
   },
   {
    "duration": 15,
    "start_time": "2023-05-21T22:15:35.042Z"
   },
   {
    "duration": 6,
    "start_time": "2023-05-21T22:15:35.059Z"
   },
   {
    "duration": 9,
    "start_time": "2023-05-21T22:15:35.067Z"
   },
   {
    "duration": 7,
    "start_time": "2023-05-21T22:15:35.097Z"
   },
   {
    "duration": 66,
    "start_time": "2023-05-21T22:15:35.106Z"
   },
   {
    "duration": 12,
    "start_time": "2023-05-21T22:15:35.174Z"
   },
   {
    "duration": 14,
    "start_time": "2023-05-21T22:15:35.188Z"
   },
   {
    "duration": 16,
    "start_time": "2023-05-21T22:15:35.210Z"
   },
   {
    "duration": 28,
    "start_time": "2023-05-21T22:15:35.228Z"
   },
   {
    "duration": 21,
    "start_time": "2023-05-21T22:15:35.258Z"
   },
   {
    "duration": 4,
    "start_time": "2023-05-21T22:15:35.281Z"
   },
   {
    "duration": 22,
    "start_time": "2023-05-21T22:15:35.297Z"
   },
   {
    "duration": 10,
    "start_time": "2023-05-21T22:15:35.321Z"
   },
   {
    "duration": 4,
    "start_time": "2023-05-21T22:15:35.334Z"
   },
   {
    "duration": 19,
    "start_time": "2023-05-21T22:15:35.340Z"
   },
   {
    "duration": 486,
    "start_time": "2023-05-21T22:15:35.361Z"
   },
   {
    "duration": 65,
    "start_time": "2023-05-21T22:15:35.850Z"
   },
   {
    "duration": 168,
    "start_time": "2023-05-21T22:15:35.917Z"
   },
   {
    "duration": 37,
    "start_time": "2023-05-21T22:15:36.087Z"
   },
   {
    "duration": 182,
    "start_time": "2023-05-21T22:15:36.126Z"
   },
   {
    "duration": 119,
    "start_time": "2023-05-21T22:15:36.310Z"
   },
   {
    "duration": 211,
    "start_time": "2023-05-21T22:15:36.431Z"
   },
   {
    "duration": 86,
    "start_time": "2023-05-21T22:15:36.644Z"
   },
   {
    "duration": 194,
    "start_time": "2023-05-21T22:15:36.733Z"
   },
   {
    "duration": 235,
    "start_time": "2023-05-21T22:15:36.929Z"
   },
   {
    "duration": 64,
    "start_time": "2023-05-22T16:15:12.132Z"
   },
   {
    "duration": 1054,
    "start_time": "2023-05-22T16:15:25.046Z"
   },
   {
    "duration": 29,
    "start_time": "2023-05-22T16:15:26.103Z"
   },
   {
    "duration": 24,
    "start_time": "2023-05-22T16:15:26.134Z"
   },
   {
    "duration": 14,
    "start_time": "2023-05-22T16:15:26.160Z"
   },
   {
    "duration": 63,
    "start_time": "2023-05-22T16:15:26.177Z"
   },
   {
    "duration": 4,
    "start_time": "2023-05-22T16:15:26.243Z"
   },
   {
    "duration": 14,
    "start_time": "2023-05-22T16:15:26.249Z"
   },
   {
    "duration": 9,
    "start_time": "2023-05-22T16:15:26.265Z"
   },
   {
    "duration": 8,
    "start_time": "2023-05-22T16:15:26.297Z"
   },
   {
    "duration": 7,
    "start_time": "2023-05-22T16:15:26.308Z"
   },
   {
    "duration": 52,
    "start_time": "2023-05-22T16:15:26.317Z"
   },
   {
    "duration": 29,
    "start_time": "2023-05-22T16:15:26.371Z"
   },
   {
    "duration": 5,
    "start_time": "2023-05-22T16:15:26.402Z"
   },
   {
    "duration": 23,
    "start_time": "2023-05-22T16:15:26.410Z"
   },
   {
    "duration": 41,
    "start_time": "2023-05-22T16:15:26.435Z"
   },
   {
    "duration": 37,
    "start_time": "2023-05-22T16:15:26.478Z"
   },
   {
    "duration": 5,
    "start_time": "2023-05-22T16:15:26.517Z"
   },
   {
    "duration": 18,
    "start_time": "2023-05-22T16:15:26.524Z"
   },
   {
    "duration": 27,
    "start_time": "2023-05-22T16:15:26.544Z"
   },
   {
    "duration": 4,
    "start_time": "2023-05-22T16:15:26.573Z"
   },
   {
    "duration": 30,
    "start_time": "2023-05-22T16:15:26.579Z"
   },
   {
    "duration": 607,
    "start_time": "2023-05-22T16:15:26.611Z"
   },
   {
    "duration": 55,
    "start_time": "2023-05-22T16:15:27.220Z"
   },
   {
    "duration": 180,
    "start_time": "2023-05-22T16:15:27.277Z"
   },
   {
    "duration": 2227,
    "start_time": "2023-05-22T16:15:27.459Z"
   },
   {
    "duration": 0,
    "start_time": "2023-05-22T16:15:29.688Z"
   },
   {
    "duration": 0,
    "start_time": "2023-05-22T16:15:29.690Z"
   },
   {
    "duration": 0,
    "start_time": "2023-05-22T16:15:29.691Z"
   },
   {
    "duration": 0,
    "start_time": "2023-05-22T16:15:29.693Z"
   },
   {
    "duration": 0,
    "start_time": "2023-05-22T16:15:29.694Z"
   },
   {
    "duration": 0,
    "start_time": "2023-05-22T16:15:29.696Z"
   },
   {
    "duration": 0,
    "start_time": "2023-05-22T16:15:29.697Z"
   },
   {
    "duration": 0,
    "start_time": "2023-05-22T16:15:29.699Z"
   },
   {
    "duration": 16,
    "start_time": "2023-05-22T16:15:45.450Z"
   },
   {
    "duration": 18,
    "start_time": "2023-05-22T16:18:03.563Z"
   },
   {
    "duration": 17,
    "start_time": "2023-05-22T16:18:44.344Z"
   },
   {
    "duration": 26,
    "start_time": "2023-05-22T16:19:02.436Z"
   },
   {
    "duration": 19,
    "start_time": "2023-05-22T16:19:25.091Z"
   },
   {
    "duration": 8,
    "start_time": "2023-05-22T16:19:53.534Z"
   },
   {
    "duration": 21,
    "start_time": "2023-05-22T16:20:02.572Z"
   },
   {
    "duration": 20,
    "start_time": "2023-05-22T16:23:42.843Z"
   },
   {
    "duration": 22,
    "start_time": "2023-05-22T16:23:54.530Z"
   },
   {
    "duration": 18,
    "start_time": "2023-05-22T16:25:56.912Z"
   },
   {
    "duration": 20,
    "start_time": "2023-05-22T16:26:11.666Z"
   },
   {
    "duration": 19,
    "start_time": "2023-05-22T16:27:20.935Z"
   },
   {
    "duration": 370,
    "start_time": "2023-05-22T16:31:49.772Z"
   },
   {
    "duration": 21,
    "start_time": "2023-05-22T16:32:36.515Z"
   },
   {
    "duration": 22,
    "start_time": "2023-05-22T16:33:15.230Z"
   },
   {
    "duration": 152,
    "start_time": "2023-05-22T16:34:02.934Z"
   },
   {
    "duration": 19,
    "start_time": "2023-05-22T16:34:18.430Z"
   },
   {
    "duration": 21,
    "start_time": "2023-05-22T16:49:12.343Z"
   },
   {
    "duration": 19,
    "start_time": "2023-05-22T16:50:27.733Z"
   },
   {
    "duration": 21,
    "start_time": "2023-05-22T16:52:08.434Z"
   },
   {
    "duration": 19,
    "start_time": "2023-05-22T17:08:40.325Z"
   },
   {
    "duration": 139,
    "start_time": "2023-05-22T17:08:40.757Z"
   },
   {
    "duration": 18,
    "start_time": "2023-05-22T17:08:50.544Z"
   },
   {
    "duration": 169,
    "start_time": "2023-05-22T17:08:52.559Z"
   },
   {
    "duration": 24,
    "start_time": "2023-05-22T17:09:27.913Z"
   },
   {
    "duration": 24,
    "start_time": "2023-05-22T17:09:57.651Z"
   },
   {
    "duration": 22,
    "start_time": "2023-05-22T17:10:03.736Z"
   },
   {
    "duration": 187,
    "start_time": "2023-05-22T17:10:07.733Z"
   },
   {
    "duration": 1304,
    "start_time": "2023-05-22T17:13:19.334Z"
   },
   {
    "duration": 21,
    "start_time": "2023-05-22T17:13:56.070Z"
   },
   {
    "duration": 19,
    "start_time": "2023-05-22T17:14:24.710Z"
   },
   {
    "duration": 20,
    "start_time": "2023-05-22T17:14:31.475Z"
   },
   {
    "duration": 437,
    "start_time": "2023-05-22T17:18:24.432Z"
   },
   {
    "duration": 22,
    "start_time": "2023-05-22T17:18:24.872Z"
   },
   {
    "duration": 15,
    "start_time": "2023-05-22T17:18:24.896Z"
   },
   {
    "duration": 9,
    "start_time": "2023-05-22T17:18:24.913Z"
   },
   {
    "duration": 33,
    "start_time": "2023-05-22T17:18:24.924Z"
   },
   {
    "duration": 3,
    "start_time": "2023-05-22T17:18:24.959Z"
   },
   {
    "duration": 12,
    "start_time": "2023-05-22T17:18:24.964Z"
   },
   {
    "duration": 22,
    "start_time": "2023-05-22T17:18:24.978Z"
   },
   {
    "duration": 10,
    "start_time": "2023-05-22T17:18:25.002Z"
   },
   {
    "duration": 6,
    "start_time": "2023-05-22T17:18:25.015Z"
   },
   {
    "duration": 36,
    "start_time": "2023-05-22T17:18:25.023Z"
   },
   {
    "duration": 9,
    "start_time": "2023-05-22T17:18:25.061Z"
   },
   {
    "duration": 25,
    "start_time": "2023-05-22T17:18:25.072Z"
   },
   {
    "duration": 12,
    "start_time": "2023-05-22T17:18:25.099Z"
   },
   {
    "duration": 24,
    "start_time": "2023-05-22T17:18:25.112Z"
   },
   {
    "duration": 16,
    "start_time": "2023-05-22T17:18:25.138Z"
   },
   {
    "duration": 4,
    "start_time": "2023-05-22T17:18:25.156Z"
   },
   {
    "duration": 43,
    "start_time": "2023-05-22T17:18:25.162Z"
   },
   {
    "duration": 8,
    "start_time": "2023-05-22T17:18:25.207Z"
   },
   {
    "duration": 5,
    "start_time": "2023-05-22T17:18:25.216Z"
   },
   {
    "duration": 15,
    "start_time": "2023-05-22T17:18:25.223Z"
   },
   {
    "duration": 272,
    "start_time": "2023-05-22T17:18:25.239Z"
   },
   {
    "duration": 47,
    "start_time": "2023-05-22T17:18:25.513Z"
   },
   {
    "duration": 148,
    "start_time": "2023-05-22T17:18:25.562Z"
   },
   {
    "duration": 20,
    "start_time": "2023-05-22T17:18:25.712Z"
   },
   {
    "duration": 24,
    "start_time": "2023-05-22T17:18:25.734Z"
   },
   {
    "duration": 165,
    "start_time": "2023-05-22T17:18:25.760Z"
   },
   {
    "duration": 104,
    "start_time": "2023-05-22T17:18:25.928Z"
   },
   {
    "duration": 177,
    "start_time": "2023-05-22T17:18:26.034Z"
   },
   {
    "duration": 45,
    "start_time": "2023-05-22T17:18:26.213Z"
   },
   {
    "duration": 163,
    "start_time": "2023-05-22T17:18:26.260Z"
   },
   {
    "duration": 141,
    "start_time": "2023-05-22T17:18:26.425Z"
   },
   {
    "duration": 90,
    "start_time": "2023-05-22T17:20:57.475Z"
   },
   {
    "duration": 25,
    "start_time": "2023-05-22T17:21:02.642Z"
   },
   {
    "duration": 24,
    "start_time": "2023-05-22T17:21:12.959Z"
   },
   {
    "duration": 89,
    "start_time": "2023-05-22T17:21:44.511Z"
   },
   {
    "duration": 9,
    "start_time": "2023-05-22T17:22:22.841Z"
   },
   {
    "duration": 8,
    "start_time": "2023-05-22T17:23:22.330Z"
   },
   {
    "duration": 9,
    "start_time": "2023-05-22T17:28:36.640Z"
   },
   {
    "duration": 16,
    "start_time": "2023-05-22T17:34:19.206Z"
   },
   {
    "duration": 129,
    "start_time": "2023-05-22T17:34:19.499Z"
   },
   {
    "duration": 8,
    "start_time": "2023-05-22T17:34:19.886Z"
   },
   {
    "duration": 36,
    "start_time": "2023-05-22T17:34:41.699Z"
   },
   {
    "duration": 15,
    "start_time": "2023-05-22T17:34:42.106Z"
   },
   {
    "duration": 120,
    "start_time": "2023-05-22T17:34:42.527Z"
   },
   {
    "duration": 7,
    "start_time": "2023-05-22T17:34:46.207Z"
   },
   {
    "duration": 8,
    "start_time": "2023-05-22T17:36:13.414Z"
   },
   {
    "duration": 18,
    "start_time": "2023-05-22T17:36:17.403Z"
   },
   {
    "duration": 18,
    "start_time": "2023-05-22T17:37:36.710Z"
   },
   {
    "duration": 18,
    "start_time": "2023-05-22T17:39:36.114Z"
   },
   {
    "duration": 19,
    "start_time": "2023-05-22T17:40:42.458Z"
   },
   {
    "duration": 20,
    "start_time": "2023-05-22T17:40:51.497Z"
   },
   {
    "duration": 7,
    "start_time": "2023-05-22T17:41:08.459Z"
   },
   {
    "duration": 96,
    "start_time": "2023-05-22T17:41:39.949Z"
   },
   {
    "duration": 160,
    "start_time": "2023-05-22T17:41:49.457Z"
   },
   {
    "duration": 8,
    "start_time": "2023-05-22T17:41:51.760Z"
   },
   {
    "duration": 12,
    "start_time": "2023-05-22T17:53:34.125Z"
   },
   {
    "duration": 18,
    "start_time": "2023-05-22T17:57:58.009Z"
   },
   {
    "duration": 26,
    "start_time": "2023-05-22T18:00:14.840Z"
   },
   {
    "duration": 87,
    "start_time": "2023-05-22T18:00:51.290Z"
   },
   {
    "duration": 20,
    "start_time": "2023-05-22T18:01:08.462Z"
   },
   {
    "duration": 19,
    "start_time": "2023-05-22T18:01:13.893Z"
   },
   {
    "duration": 7,
    "start_time": "2023-05-22T18:01:33.992Z"
   },
   {
    "duration": 83,
    "start_time": "2023-05-22T18:02:11.763Z"
   },
   {
    "duration": 79,
    "start_time": "2023-05-22T18:02:18.421Z"
   },
   {
    "duration": 9,
    "start_time": "2023-05-22T18:02:23.736Z"
   },
   {
    "duration": 40,
    "start_time": "2023-05-22T18:03:02.298Z"
   },
   {
    "duration": 38,
    "start_time": "2023-05-22T18:03:33.806Z"
   },
   {
    "duration": 29,
    "start_time": "2023-05-22T18:04:24.228Z"
   },
   {
    "duration": 16,
    "start_time": "2023-05-22T18:04:25.844Z"
   },
   {
    "duration": 143,
    "start_time": "2023-05-22T18:04:26.692Z"
   },
   {
    "duration": 122,
    "start_time": "2023-05-22T18:04:27.625Z"
   },
   {
    "duration": 132,
    "start_time": "2023-05-22T18:04:33.541Z"
   },
   {
    "duration": 143,
    "start_time": "2023-05-22T18:04:37.829Z"
   },
   {
    "duration": 524,
    "start_time": "2023-05-22T18:27:46.284Z"
   },
   {
    "duration": 22,
    "start_time": "2023-05-22T18:27:46.810Z"
   },
   {
    "duration": 14,
    "start_time": "2023-05-22T18:27:46.833Z"
   },
   {
    "duration": 11,
    "start_time": "2023-05-22T18:27:46.849Z"
   },
   {
    "duration": 62,
    "start_time": "2023-05-22T18:27:46.862Z"
   },
   {
    "duration": 3,
    "start_time": "2023-05-22T18:27:46.925Z"
   },
   {
    "duration": 13,
    "start_time": "2023-05-22T18:27:46.930Z"
   },
   {
    "duration": 11,
    "start_time": "2023-05-22T18:27:46.945Z"
   },
   {
    "duration": 11,
    "start_time": "2023-05-22T18:27:46.958Z"
   },
   {
    "duration": 4,
    "start_time": "2023-05-22T18:27:46.972Z"
   },
   {
    "duration": 32,
    "start_time": "2023-05-22T18:27:46.997Z"
   },
   {
    "duration": 10,
    "start_time": "2023-05-22T18:27:47.031Z"
   },
   {
    "duration": 7,
    "start_time": "2023-05-22T18:27:47.042Z"
   },
   {
    "duration": 21,
    "start_time": "2023-05-22T18:27:47.050Z"
   },
   {
    "duration": 40,
    "start_time": "2023-05-22T18:27:47.072Z"
   },
   {
    "duration": 15,
    "start_time": "2023-05-22T18:27:47.114Z"
   },
   {
    "duration": 4,
    "start_time": "2023-05-22T18:27:47.131Z"
   },
   {
    "duration": 28,
    "start_time": "2023-05-22T18:27:47.137Z"
   },
   {
    "duration": 7,
    "start_time": "2023-05-22T18:27:47.167Z"
   },
   {
    "duration": 23,
    "start_time": "2023-05-22T18:27:47.175Z"
   },
   {
    "duration": 13,
    "start_time": "2023-05-22T18:27:47.200Z"
   },
   {
    "duration": 235,
    "start_time": "2023-05-22T18:27:47.214Z"
   },
   {
    "duration": 47,
    "start_time": "2023-05-22T18:27:47.450Z"
   },
   {
    "duration": 13,
    "start_time": "2023-05-22T18:27:47.499Z"
   },
   {
    "duration": 186,
    "start_time": "2023-05-22T18:27:47.514Z"
   },
   {
    "duration": 9,
    "start_time": "2023-05-22T18:27:47.701Z"
   },
   {
    "duration": 20,
    "start_time": "2023-05-22T18:27:47.712Z"
   },
   {
    "duration": 146,
    "start_time": "2023-05-22T18:27:47.735Z"
   },
   {
    "duration": 16,
    "start_time": "2023-05-22T18:27:47.883Z"
   },
   {
    "duration": 101,
    "start_time": "2023-05-22T18:27:47.900Z"
   },
   {
    "duration": 13,
    "start_time": "2023-05-22T18:27:48.003Z"
   },
   {
    "duration": 166,
    "start_time": "2023-05-22T18:27:48.017Z"
   },
   {
    "duration": 14,
    "start_time": "2023-05-22T18:27:48.185Z"
   },
   {
    "duration": 34,
    "start_time": "2023-05-22T18:27:48.200Z"
   },
   {
    "duration": 16,
    "start_time": "2023-05-22T18:27:48.236Z"
   },
   {
    "duration": 175,
    "start_time": "2023-05-22T18:27:48.253Z"
   },
   {
    "duration": 209,
    "start_time": "2023-05-22T18:27:48.430Z"
   },
   {
    "duration": 0,
    "start_time": "2023-05-22T18:27:48.640Z"
   },
   {
    "duration": 36,
    "start_time": "2023-05-22T18:28:36.955Z"
   },
   {
    "duration": 15,
    "start_time": "2023-05-22T18:28:37.239Z"
   },
   {
    "duration": 165,
    "start_time": "2023-05-22T18:28:37.504Z"
   },
   {
    "duration": 127,
    "start_time": "2023-05-22T18:28:37.748Z"
   },
   {
    "duration": 8,
    "start_time": "2023-05-22T18:28:38.442Z"
   },
   {
    "duration": 435,
    "start_time": "2023-05-22T18:28:53.057Z"
   },
   {
    "duration": 21,
    "start_time": "2023-05-22T18:28:53.494Z"
   },
   {
    "duration": 13,
    "start_time": "2023-05-22T18:28:53.516Z"
   },
   {
    "duration": 9,
    "start_time": "2023-05-22T18:28:53.531Z"
   },
   {
    "duration": 33,
    "start_time": "2023-05-22T18:28:53.542Z"
   },
   {
    "duration": 22,
    "start_time": "2023-05-22T18:28:53.576Z"
   },
   {
    "duration": 17,
    "start_time": "2023-05-22T18:28:53.600Z"
   },
   {
    "duration": 4,
    "start_time": "2023-05-22T18:28:53.619Z"
   },
   {
    "duration": 12,
    "start_time": "2023-05-22T18:28:53.625Z"
   },
   {
    "duration": 3,
    "start_time": "2023-05-22T18:28:53.640Z"
   },
   {
    "duration": 57,
    "start_time": "2023-05-22T18:28:53.645Z"
   },
   {
    "duration": 10,
    "start_time": "2023-05-22T18:28:53.704Z"
   },
   {
    "duration": 4,
    "start_time": "2023-05-22T18:28:53.715Z"
   },
   {
    "duration": 21,
    "start_time": "2023-05-22T18:28:53.721Z"
   },
   {
    "duration": 19,
    "start_time": "2023-05-22T18:28:53.743Z"
   },
   {
    "duration": 45,
    "start_time": "2023-05-22T18:28:53.763Z"
   },
   {
    "duration": 4,
    "start_time": "2023-05-22T18:28:53.810Z"
   },
   {
    "duration": 12,
    "start_time": "2023-05-22T18:28:53.816Z"
   },
   {
    "duration": 7,
    "start_time": "2023-05-22T18:28:53.829Z"
   },
   {
    "duration": 4,
    "start_time": "2023-05-22T18:28:53.838Z"
   },
   {
    "duration": 12,
    "start_time": "2023-05-22T18:28:53.843Z"
   },
   {
    "duration": 250,
    "start_time": "2023-05-22T18:28:53.857Z"
   },
   {
    "duration": 43,
    "start_time": "2023-05-22T18:28:54.109Z"
   },
   {
    "duration": 16,
    "start_time": "2023-05-22T18:28:54.153Z"
   },
   {
    "duration": 182,
    "start_time": "2023-05-22T18:28:54.170Z"
   },
   {
    "duration": 8,
    "start_time": "2023-05-22T18:28:54.354Z"
   },
   {
    "duration": 20,
    "start_time": "2023-05-22T18:28:54.364Z"
   },
   {
    "duration": 132,
    "start_time": "2023-05-22T18:28:54.387Z"
   },
   {
    "duration": 9,
    "start_time": "2023-05-22T18:28:54.520Z"
   },
   {
    "duration": 121,
    "start_time": "2023-05-22T18:28:54.531Z"
   },
   {
    "duration": 15,
    "start_time": "2023-05-22T18:28:54.655Z"
   },
   {
    "duration": 187,
    "start_time": "2023-05-22T18:28:54.672Z"
   },
   {
    "duration": 10,
    "start_time": "2023-05-22T18:28:54.861Z"
   },
   {
    "duration": 59,
    "start_time": "2023-05-22T18:28:54.873Z"
   },
   {
    "duration": 17,
    "start_time": "2023-05-22T18:28:54.934Z"
   },
   {
    "duration": 162,
    "start_time": "2023-05-22T18:28:54.952Z"
   },
   {
    "duration": 143,
    "start_time": "2023-05-22T18:28:55.115Z"
   },
   {
    "duration": 8,
    "start_time": "2023-05-22T18:28:55.261Z"
   },
   {
    "duration": 453,
    "start_time": "2023-05-22T18:46:33.728Z"
   },
   {
    "duration": 22,
    "start_time": "2023-05-22T18:46:34.183Z"
   },
   {
    "duration": 14,
    "start_time": "2023-05-22T18:46:34.207Z"
   },
   {
    "duration": 9,
    "start_time": "2023-05-22T18:46:34.223Z"
   },
   {
    "duration": 37,
    "start_time": "2023-05-22T18:46:34.234Z"
   },
   {
    "duration": 3,
    "start_time": "2023-05-22T18:46:34.273Z"
   },
   {
    "duration": 25,
    "start_time": "2023-05-22T18:46:34.277Z"
   },
   {
    "duration": 4,
    "start_time": "2023-05-22T18:46:34.303Z"
   },
   {
    "duration": 11,
    "start_time": "2023-05-22T18:46:34.308Z"
   },
   {
    "duration": 4,
    "start_time": "2023-05-22T18:46:34.322Z"
   },
   {
    "duration": 42,
    "start_time": "2023-05-22T18:46:34.328Z"
   },
   {
    "duration": 30,
    "start_time": "2023-05-22T18:46:34.371Z"
   },
   {
    "duration": 3,
    "start_time": "2023-05-22T18:46:34.403Z"
   },
   {
    "duration": 16,
    "start_time": "2023-05-22T18:46:34.407Z"
   },
   {
    "duration": 20,
    "start_time": "2023-05-22T18:46:34.424Z"
   },
   {
    "duration": 16,
    "start_time": "2023-05-22T18:46:34.446Z"
   },
   {
    "duration": 4,
    "start_time": "2023-05-22T18:46:34.464Z"
   },
   {
    "duration": 33,
    "start_time": "2023-05-22T18:46:34.470Z"
   },
   {
    "duration": 6,
    "start_time": "2023-05-22T18:46:34.504Z"
   },
   {
    "duration": 4,
    "start_time": "2023-05-22T18:46:34.511Z"
   },
   {
    "duration": 12,
    "start_time": "2023-05-22T18:46:34.517Z"
   },
   {
    "duration": 255,
    "start_time": "2023-05-22T18:46:34.530Z"
   },
   {
    "duration": 44,
    "start_time": "2023-05-22T18:46:34.786Z"
   },
   {
    "duration": 15,
    "start_time": "2023-05-22T18:46:34.831Z"
   },
   {
    "duration": 143,
    "start_time": "2023-05-22T18:46:34.848Z"
   },
   {
    "duration": 9,
    "start_time": "2023-05-22T18:46:34.997Z"
   },
   {
    "duration": 23,
    "start_time": "2023-05-22T18:46:35.008Z"
   },
   {
    "duration": 150,
    "start_time": "2023-05-22T18:46:35.035Z"
   },
   {
    "duration": 19,
    "start_time": "2023-05-22T18:46:35.187Z"
   },
   {
    "duration": 102,
    "start_time": "2023-05-22T18:46:35.208Z"
   },
   {
    "duration": 14,
    "start_time": "2023-05-22T18:46:35.312Z"
   },
   {
    "duration": 186,
    "start_time": "2023-05-22T18:46:35.328Z"
   },
   {
    "duration": 9,
    "start_time": "2023-05-22T18:46:35.517Z"
   },
   {
    "duration": 45,
    "start_time": "2023-05-22T18:46:35.527Z"
   },
   {
    "duration": 37,
    "start_time": "2023-05-22T18:46:35.574Z"
   },
   {
    "duration": 145,
    "start_time": "2023-05-22T18:46:35.613Z"
   },
   {
    "duration": 140,
    "start_time": "2023-05-22T18:46:35.760Z"
   },
   {
    "duration": 8,
    "start_time": "2023-05-22T18:46:35.901Z"
   },
   {
    "duration": 8,
    "start_time": "2023-05-22T19:21:47.592Z"
   },
   {
    "duration": 8,
    "start_time": "2023-05-22T19:25:15.042Z"
   },
   {
    "duration": 79,
    "start_time": "2023-05-22T19:25:35.450Z"
   },
   {
    "duration": 8,
    "start_time": "2023-05-22T19:25:41.232Z"
   },
   {
    "duration": 93,
    "start_time": "2023-05-22T19:37:00.911Z"
   },
   {
    "duration": 258,
    "start_time": "2023-05-22T19:38:00.853Z"
   },
   {
    "duration": 458,
    "start_time": "2023-05-22T19:38:15.603Z"
   },
   {
    "duration": 21,
    "start_time": "2023-05-22T19:38:16.062Z"
   },
   {
    "duration": 15,
    "start_time": "2023-05-22T19:38:16.085Z"
   },
   {
    "duration": 9,
    "start_time": "2023-05-22T19:38:16.101Z"
   },
   {
    "duration": 31,
    "start_time": "2023-05-22T19:38:16.111Z"
   },
   {
    "duration": 3,
    "start_time": "2023-05-22T19:38:16.143Z"
   },
   {
    "duration": 18,
    "start_time": "2023-05-22T19:38:16.147Z"
   },
   {
    "duration": 11,
    "start_time": "2023-05-22T19:38:16.166Z"
   },
   {
    "duration": 23,
    "start_time": "2023-05-22T19:38:16.178Z"
   },
   {
    "duration": 5,
    "start_time": "2023-05-22T19:38:16.203Z"
   },
   {
    "duration": 39,
    "start_time": "2023-05-22T19:38:16.209Z"
   },
   {
    "duration": 9,
    "start_time": "2023-05-22T19:38:16.250Z"
   },
   {
    "duration": 8,
    "start_time": "2023-05-22T19:38:16.260Z"
   },
   {
    "duration": 14,
    "start_time": "2023-05-22T19:38:16.269Z"
   },
   {
    "duration": 29,
    "start_time": "2023-05-22T19:38:16.284Z"
   },
   {
    "duration": 16,
    "start_time": "2023-05-22T19:38:16.314Z"
   },
   {
    "duration": 4,
    "start_time": "2023-05-22T19:38:16.331Z"
   },
   {
    "duration": 14,
    "start_time": "2023-05-22T19:38:16.336Z"
   },
   {
    "duration": 10,
    "start_time": "2023-05-22T19:38:16.351Z"
   },
   {
    "duration": 4,
    "start_time": "2023-05-22T19:38:16.363Z"
   },
   {
    "duration": 33,
    "start_time": "2023-05-22T19:38:16.369Z"
   },
   {
    "duration": 338,
    "start_time": "2023-05-22T19:38:16.404Z"
   },
   {
    "duration": 54,
    "start_time": "2023-05-22T19:38:16.747Z"
   },
   {
    "duration": 14,
    "start_time": "2023-05-22T19:38:16.802Z"
   },
   {
    "duration": 149,
    "start_time": "2023-05-22T19:38:16.818Z"
   },
   {
    "duration": 7,
    "start_time": "2023-05-22T19:38:16.969Z"
   },
   {
    "duration": 29,
    "start_time": "2023-05-22T19:38:16.977Z"
   },
   {
    "duration": 140,
    "start_time": "2023-05-22T19:38:17.008Z"
   },
   {
    "duration": 8,
    "start_time": "2023-05-22T19:38:17.150Z"
   },
   {
    "duration": 106,
    "start_time": "2023-05-22T19:38:17.160Z"
   },
   {
    "duration": 13,
    "start_time": "2023-05-22T19:38:17.268Z"
   },
   {
    "duration": 166,
    "start_time": "2023-05-22T19:38:17.283Z"
   },
   {
    "duration": 8,
    "start_time": "2023-05-22T19:38:17.450Z"
   },
   {
    "duration": 59,
    "start_time": "2023-05-22T19:38:17.460Z"
   },
   {
    "duration": 16,
    "start_time": "2023-05-22T19:38:17.521Z"
   },
   {
    "duration": 151,
    "start_time": "2023-05-22T19:38:17.539Z"
   },
   {
    "duration": 142,
    "start_time": "2023-05-22T19:38:17.692Z"
   },
   {
    "duration": 8,
    "start_time": "2023-05-22T19:38:17.836Z"
   },
   {
    "duration": 237,
    "start_time": "2023-05-22T19:38:17.846Z"
   },
   {
    "duration": 0,
    "start_time": "2023-05-22T19:38:18.084Z"
   },
   {
    "duration": 8,
    "start_time": "2023-05-22T19:39:57.174Z"
   },
   {
    "duration": 9,
    "start_time": "2023-05-22T19:50:34.190Z"
   },
   {
    "duration": 7,
    "start_time": "2023-05-22T19:51:28.751Z"
   },
   {
    "duration": 485,
    "start_time": "2023-05-22T19:51:48.896Z"
   },
   {
    "duration": 27,
    "start_time": "2023-05-22T19:51:49.383Z"
   },
   {
    "duration": 37,
    "start_time": "2023-05-22T19:51:49.411Z"
   },
   {
    "duration": 9,
    "start_time": "2023-05-22T19:51:49.450Z"
   },
   {
    "duration": 37,
    "start_time": "2023-05-22T19:51:49.461Z"
   },
   {
    "duration": 4,
    "start_time": "2023-05-22T19:51:49.501Z"
   },
   {
    "duration": 31,
    "start_time": "2023-05-22T19:51:49.507Z"
   },
   {
    "duration": 4,
    "start_time": "2023-05-22T19:51:49.540Z"
   },
   {
    "duration": 10,
    "start_time": "2023-05-22T19:51:49.545Z"
   },
   {
    "duration": 4,
    "start_time": "2023-05-22T19:51:49.558Z"
   },
   {
    "duration": 35,
    "start_time": "2023-05-22T19:51:49.563Z"
   },
   {
    "duration": 18,
    "start_time": "2023-05-22T19:51:49.601Z"
   },
   {
    "duration": 4,
    "start_time": "2023-05-22T19:51:49.620Z"
   },
   {
    "duration": 20,
    "start_time": "2023-05-22T19:51:49.626Z"
   },
   {
    "duration": 18,
    "start_time": "2023-05-22T19:51:49.648Z"
   },
   {
    "duration": 34,
    "start_time": "2023-05-22T19:51:49.667Z"
   },
   {
    "duration": 5,
    "start_time": "2023-05-22T19:51:49.703Z"
   },
   {
    "duration": 20,
    "start_time": "2023-05-22T19:51:49.709Z"
   },
   {
    "duration": 8,
    "start_time": "2023-05-22T19:51:49.730Z"
   },
   {
    "duration": 15,
    "start_time": "2023-05-22T19:51:49.739Z"
   },
   {
    "duration": 11,
    "start_time": "2023-05-22T19:51:49.756Z"
   },
   {
    "duration": 246,
    "start_time": "2023-05-22T19:51:49.769Z"
   },
   {
    "duration": 44,
    "start_time": "2023-05-22T19:51:50.017Z"
   },
   {
    "duration": 14,
    "start_time": "2023-05-22T19:51:50.063Z"
   },
   {
    "duration": 163,
    "start_time": "2023-05-22T19:51:50.079Z"
   },
   {
    "duration": 8,
    "start_time": "2023-05-22T19:51:50.244Z"
   },
   {
    "duration": 21,
    "start_time": "2023-05-22T19:51:50.254Z"
   },
   {
    "duration": 171,
    "start_time": "2023-05-22T19:51:50.278Z"
   },
   {
    "duration": 9,
    "start_time": "2023-05-22T19:51:50.451Z"
   },
   {
    "duration": 110,
    "start_time": "2023-05-22T19:51:50.462Z"
   },
   {
    "duration": 23,
    "start_time": "2023-05-22T19:51:50.574Z"
   },
   {
    "duration": 171,
    "start_time": "2023-05-22T19:51:50.599Z"
   },
   {
    "duration": 7,
    "start_time": "2023-05-22T19:51:50.772Z"
   },
   {
    "duration": 56,
    "start_time": "2023-05-22T19:51:50.781Z"
   },
   {
    "duration": 14,
    "start_time": "2023-05-22T19:51:50.838Z"
   },
   {
    "duration": 163,
    "start_time": "2023-05-22T19:51:50.854Z"
   },
   {
    "duration": 150,
    "start_time": "2023-05-22T19:51:51.019Z"
   },
   {
    "duration": 8,
    "start_time": "2023-05-22T19:51:51.171Z"
   },
   {
    "duration": 19,
    "start_time": "2023-05-22T19:51:51.181Z"
   },
   {
    "duration": 73,
    "start_time": "2023-05-22T19:51:51.202Z"
   },
   {
    "duration": 9,
    "start_time": "2023-05-22T19:52:22.612Z"
   },
   {
    "duration": 8,
    "start_time": "2023-05-22T20:09:15.881Z"
   },
   {
    "duration": 7,
    "start_time": "2023-05-22T20:35:38.098Z"
   },
   {
    "duration": 68,
    "start_time": "2023-05-22T20:39:09.168Z"
   },
   {
    "duration": 17,
    "start_time": "2023-05-22T20:39:13.062Z"
   },
   {
    "duration": 8,
    "start_time": "2023-05-22T20:39:15.585Z"
   },
   {
    "duration": 8,
    "start_time": "2023-05-22T20:39:27.679Z"
   },
   {
    "duration": 75,
    "start_time": "2023-05-22T20:54:52.722Z"
   },
   {
    "duration": 85,
    "start_time": "2023-05-22T20:56:04.186Z"
   },
   {
    "duration": 702,
    "start_time": "2023-05-22T21:59:26.064Z"
   },
   {
    "duration": 20,
    "start_time": "2023-05-22T21:59:26.768Z"
   },
   {
    "duration": 23,
    "start_time": "2023-05-22T21:59:26.790Z"
   },
   {
    "duration": 23,
    "start_time": "2023-05-22T21:59:26.815Z"
   },
   {
    "duration": 30,
    "start_time": "2023-05-22T21:59:26.840Z"
   },
   {
    "duration": 4,
    "start_time": "2023-05-22T21:59:26.871Z"
   },
   {
    "duration": 17,
    "start_time": "2023-05-22T21:59:26.876Z"
   },
   {
    "duration": 36,
    "start_time": "2023-05-22T21:59:26.894Z"
   },
   {
    "duration": 22,
    "start_time": "2023-05-22T21:59:26.932Z"
   },
   {
    "duration": 10,
    "start_time": "2023-05-22T21:59:26.957Z"
   },
   {
    "duration": 40,
    "start_time": "2023-05-22T21:59:26.968Z"
   },
   {
    "duration": 16,
    "start_time": "2023-05-22T21:59:27.010Z"
   },
   {
    "duration": 6,
    "start_time": "2023-05-22T21:59:27.027Z"
   },
   {
    "duration": 21,
    "start_time": "2023-05-22T21:59:27.035Z"
   },
   {
    "duration": 21,
    "start_time": "2023-05-22T21:59:27.058Z"
   },
   {
    "duration": 24,
    "start_time": "2023-05-22T21:59:27.081Z"
   },
   {
    "duration": 3,
    "start_time": "2023-05-22T21:59:27.107Z"
   },
   {
    "duration": 15,
    "start_time": "2023-05-22T21:59:27.111Z"
   },
   {
    "duration": 6,
    "start_time": "2023-05-22T21:59:27.128Z"
   },
   {
    "duration": 6,
    "start_time": "2023-05-22T21:59:27.136Z"
   },
   {
    "duration": 17,
    "start_time": "2023-05-22T21:59:27.143Z"
   },
   {
    "duration": 430,
    "start_time": "2023-05-22T21:59:27.162Z"
   },
   {
    "duration": 43,
    "start_time": "2023-05-22T21:59:27.595Z"
   },
   {
    "duration": 14,
    "start_time": "2023-05-22T21:59:27.639Z"
   },
   {
    "duration": 144,
    "start_time": "2023-05-22T21:59:27.654Z"
   },
   {
    "duration": 7,
    "start_time": "2023-05-22T21:59:27.800Z"
   },
   {
    "duration": 25,
    "start_time": "2023-05-22T21:59:27.808Z"
   },
   {
    "duration": 144,
    "start_time": "2023-05-22T21:59:27.837Z"
   },
   {
    "duration": 13,
    "start_time": "2023-05-22T21:59:27.982Z"
   },
   {
    "duration": 98,
    "start_time": "2023-05-22T21:59:27.997Z"
   },
   {
    "duration": 13,
    "start_time": "2023-05-22T21:59:28.096Z"
   },
   {
    "duration": 154,
    "start_time": "2023-05-22T21:59:28.111Z"
   },
   {
    "duration": 8,
    "start_time": "2023-05-22T21:59:28.266Z"
   },
   {
    "duration": 65,
    "start_time": "2023-05-22T21:59:28.276Z"
   },
   {
    "duration": 15,
    "start_time": "2023-05-22T21:59:28.342Z"
   },
   {
    "duration": 157,
    "start_time": "2023-05-22T21:59:28.359Z"
   },
   {
    "duration": 192,
    "start_time": "2023-05-22T21:59:28.517Z"
   },
   {
    "duration": 7,
    "start_time": "2023-05-22T21:59:28.711Z"
   },
   {
    "duration": 659,
    "start_time": "2023-05-24T01:54:11.730Z"
   },
   {
    "duration": 27,
    "start_time": "2023-05-24T01:54:12.391Z"
   },
   {
    "duration": 13,
    "start_time": "2023-05-24T01:54:12.420Z"
   },
   {
    "duration": 13,
    "start_time": "2023-05-24T01:54:12.436Z"
   },
   {
    "duration": 64,
    "start_time": "2023-05-24T01:54:12.450Z"
   },
   {
    "duration": 3,
    "start_time": "2023-05-24T01:54:12.516Z"
   },
   {
    "duration": 12,
    "start_time": "2023-05-24T01:54:12.520Z"
   },
   {
    "duration": 8,
    "start_time": "2023-05-24T01:54:12.533Z"
   },
   {
    "duration": 11,
    "start_time": "2023-05-24T01:54:12.542Z"
   },
   {
    "duration": 4,
    "start_time": "2023-05-24T01:54:12.556Z"
   },
   {
    "duration": 63,
    "start_time": "2023-05-24T01:54:12.561Z"
   },
   {
    "duration": 9,
    "start_time": "2023-05-24T01:54:12.626Z"
   },
   {
    "duration": 7,
    "start_time": "2023-05-24T01:54:12.636Z"
   },
   {
    "duration": 16,
    "start_time": "2023-05-24T01:54:12.645Z"
   },
   {
    "duration": 37,
    "start_time": "2023-05-24T01:54:12.662Z"
   },
   {
    "duration": 22,
    "start_time": "2023-05-24T01:54:12.701Z"
   },
   {
    "duration": 3,
    "start_time": "2023-05-24T01:54:12.725Z"
   },
   {
    "duration": 12,
    "start_time": "2023-05-24T01:54:12.729Z"
   },
   {
    "duration": 5,
    "start_time": "2023-05-24T01:54:12.742Z"
   },
   {
    "duration": 7,
    "start_time": "2023-05-24T01:54:12.748Z"
   },
   {
    "duration": 42,
    "start_time": "2023-05-24T01:54:12.757Z"
   },
   {
    "duration": 381,
    "start_time": "2023-05-24T01:54:12.804Z"
   },
   {
    "duration": 50,
    "start_time": "2023-05-24T01:54:13.188Z"
   },
   {
    "duration": 17,
    "start_time": "2023-05-24T01:54:13.252Z"
   },
   {
    "duration": 152,
    "start_time": "2023-05-24T01:54:13.271Z"
   },
   {
    "duration": 8,
    "start_time": "2023-05-24T01:54:13.424Z"
   },
   {
    "duration": 26,
    "start_time": "2023-05-24T01:54:13.434Z"
   },
   {
    "duration": 166,
    "start_time": "2023-05-24T01:54:13.464Z"
   },
   {
    "duration": 9,
    "start_time": "2023-05-24T01:54:13.631Z"
   },
   {
    "duration": 105,
    "start_time": "2023-05-24T01:54:13.642Z"
   },
   {
    "duration": 0,
    "start_time": "2023-05-24T01:54:13.749Z"
   },
   {
    "duration": 0,
    "start_time": "2023-05-24T01:54:13.750Z"
   },
   {
    "duration": 0,
    "start_time": "2023-05-24T01:54:13.752Z"
   },
   {
    "duration": 0,
    "start_time": "2023-05-24T01:54:13.753Z"
   },
   {
    "duration": 0,
    "start_time": "2023-05-24T01:54:13.755Z"
   },
   {
    "duration": 0,
    "start_time": "2023-05-24T01:54:13.755Z"
   },
   {
    "duration": 0,
    "start_time": "2023-05-24T01:54:13.756Z"
   },
   {
    "duration": 0,
    "start_time": "2023-05-24T01:54:13.758Z"
   },
   {
    "duration": 94,
    "start_time": "2023-05-24T01:59:16.122Z"
   },
   {
    "duration": 104,
    "start_time": "2023-05-24T02:10:56.196Z"
   },
   {
    "duration": 15,
    "start_time": "2023-05-24T02:10:56.820Z"
   },
   {
    "duration": 167,
    "start_time": "2023-05-24T02:10:57.258Z"
   },
   {
    "duration": 9,
    "start_time": "2023-05-24T02:10:57.619Z"
   },
   {
    "duration": 29,
    "start_time": "2023-05-24T02:13:23.363Z"
   },
   {
    "duration": 99,
    "start_time": "2023-05-24T02:13:38.058Z"
   },
   {
    "duration": 93,
    "start_time": "2023-05-24T02:14:30.235Z"
   },
   {
    "duration": 91,
    "start_time": "2023-05-24T02:14:48.761Z"
   },
   {
    "duration": 95,
    "start_time": "2023-05-24T02:15:15.035Z"
   },
   {
    "duration": 15,
    "start_time": "2023-05-24T02:15:15.732Z"
   },
   {
    "duration": 167,
    "start_time": "2023-05-24T02:15:16.287Z"
   },
   {
    "duration": 93,
    "start_time": "2023-05-24T02:15:50.663Z"
   },
   {
    "duration": 14,
    "start_time": "2023-05-24T02:15:56.842Z"
   },
   {
    "duration": 215,
    "start_time": "2023-05-24T02:15:57.164Z"
   },
   {
    "duration": 22,
    "start_time": "2023-05-24T02:16:03.203Z"
   },
   {
    "duration": 21,
    "start_time": "2023-05-24T02:16:16.331Z"
   },
   {
    "duration": 91,
    "start_time": "2023-05-24T02:16:23.811Z"
   },
   {
    "duration": 93,
    "start_time": "2023-05-24T02:16:39.156Z"
   },
   {
    "duration": 99,
    "start_time": "2023-05-24T02:16:47.030Z"
   },
   {
    "duration": 96,
    "start_time": "2023-05-24T02:17:07.060Z"
   },
   {
    "duration": 94,
    "start_time": "2023-05-24T02:18:03.273Z"
   },
   {
    "duration": 115,
    "start_time": "2023-05-24T02:28:25.061Z"
   },
   {
    "duration": 95,
    "start_time": "2023-05-24T02:28:41.172Z"
   },
   {
    "duration": 94,
    "start_time": "2023-05-24T03:02:28.256Z"
   },
   {
    "duration": 506,
    "start_time": "2023-05-24T03:04:28.764Z"
   },
   {
    "duration": 21,
    "start_time": "2023-05-24T03:04:29.272Z"
   },
   {
    "duration": 23,
    "start_time": "2023-05-24T03:04:29.295Z"
   },
   {
    "duration": 9,
    "start_time": "2023-05-24T03:04:29.320Z"
   },
   {
    "duration": 37,
    "start_time": "2023-05-24T03:04:29.330Z"
   },
   {
    "duration": 3,
    "start_time": "2023-05-24T03:04:29.369Z"
   },
   {
    "duration": 37,
    "start_time": "2023-05-24T03:04:29.373Z"
   },
   {
    "duration": 11,
    "start_time": "2023-05-24T03:04:29.412Z"
   },
   {
    "duration": 9,
    "start_time": "2023-05-24T03:04:29.425Z"
   },
   {
    "duration": 4,
    "start_time": "2023-05-24T03:04:29.438Z"
   },
   {
    "duration": 60,
    "start_time": "2023-05-24T03:04:29.444Z"
   },
   {
    "duration": 14,
    "start_time": "2023-05-24T03:04:29.505Z"
   },
   {
    "duration": 4,
    "start_time": "2023-05-24T03:04:29.521Z"
   },
   {
    "duration": 19,
    "start_time": "2023-05-24T03:04:29.526Z"
   },
   {
    "duration": 21,
    "start_time": "2023-05-24T03:04:29.547Z"
   },
   {
    "duration": 51,
    "start_time": "2023-05-24T03:04:29.569Z"
   },
   {
    "duration": 6,
    "start_time": "2023-05-24T03:04:29.621Z"
   },
   {
    "duration": 13,
    "start_time": "2023-05-24T03:04:29.628Z"
   },
   {
    "duration": 8,
    "start_time": "2023-05-24T03:04:29.642Z"
   },
   {
    "duration": 4,
    "start_time": "2023-05-24T03:04:29.651Z"
   },
   {
    "duration": 16,
    "start_time": "2023-05-24T03:04:29.656Z"
   },
   {
    "duration": 266,
    "start_time": "2023-05-24T03:04:29.673Z"
   },
   {
    "duration": 69,
    "start_time": "2023-05-24T03:04:29.941Z"
   },
   {
    "duration": 17,
    "start_time": "2023-05-24T03:04:30.012Z"
   },
   {
    "duration": 150,
    "start_time": "2023-05-24T03:04:30.032Z"
   },
   {
    "duration": 14,
    "start_time": "2023-05-24T03:04:30.183Z"
   },
   {
    "duration": 45,
    "start_time": "2023-05-24T03:04:30.199Z"
   },
   {
    "duration": 144,
    "start_time": "2023-05-24T03:04:30.248Z"
   },
   {
    "duration": 11,
    "start_time": "2023-05-24T03:04:30.394Z"
   },
   {
    "duration": 129,
    "start_time": "2023-05-24T03:04:30.407Z"
   },
   {
    "duration": 15,
    "start_time": "2023-05-24T03:04:30.537Z"
   },
   {
    "duration": 173,
    "start_time": "2023-05-24T03:04:30.553Z"
   },
   {
    "duration": 8,
    "start_time": "2023-05-24T03:04:30.728Z"
   },
   {
    "duration": 58,
    "start_time": "2023-05-24T03:04:30.738Z"
   },
   {
    "duration": 22,
    "start_time": "2023-05-24T03:04:30.797Z"
   },
   {
    "duration": 156,
    "start_time": "2023-05-24T03:04:30.821Z"
   },
   {
    "duration": 170,
    "start_time": "2023-05-24T03:04:30.978Z"
   },
   {
    "duration": 10,
    "start_time": "2023-05-24T03:04:31.150Z"
   }
  ],
  "colab": {
   "name": "dpp_template_part2.ipynb",
   "provenance": []
  },
  "kernelspec": {
   "display_name": "Python 3 (ipykernel)",
   "language": "python",
   "name": "python3"
  },
  "language_info": {
   "codemirror_mode": {
    "name": "ipython",
    "version": 3
   },
   "file_extension": ".py",
   "mimetype": "text/x-python",
   "name": "python",
   "nbconvert_exporter": "python",
   "pygments_lexer": "ipython3",
   "version": "3.9.16"
  },
  "toc": {
   "base_numbering": 1,
   "nav_menu": {},
   "number_sections": true,
   "sideBar": true,
   "skip_h1_title": true,
   "title_cell": "Table of Contents",
   "title_sidebar": "Contents",
   "toc_cell": false,
   "toc_position": {
    "height": "calc(100% - 180px)",
    "left": "10px",
    "top": "150px",
    "width": "165px"
   },
   "toc_section_display": true,
   "toc_window_display": true
  }
 },
 "nbformat": 4,
 "nbformat_minor": 5
}
