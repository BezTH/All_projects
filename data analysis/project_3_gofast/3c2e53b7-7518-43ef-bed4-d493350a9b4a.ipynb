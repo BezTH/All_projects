{
 "cells": [
  {
   "cell_type": "markdown",
   "id": "93afcf78",
   "metadata": {},
   "source": [
    "## Проект: аренды самокатов GoFast.\n",
    "**В проекте используются данные о пользователях сервиса GoFast и информации о их поездках.** \\\n",
    "\\\n",
    "**Для начала мы ознакомимся с данными в случае ошибок исправим их, далее на основе этих дынных проведём некоторые вычисления с построением графиков, к примеру узнаем какое в среднем пользователи преодолевают расстояние за одну поездку, их примерный возраст, преодолённую дистанцию, итд. Также разделим пользователей на две категории с подпиской и без.** \\\n",
    "\\\n",
    "**На основе имеющихся данных проверим несколько гипотез, касающихся сравнения категорий пользователей**"
   ]
  },
  {
   "cell_type": "code",
   "execution_count": 1,
   "id": "a58f2c05",
   "metadata": {},
   "outputs": [],
   "source": [
    "import pandas as pd\n",
    "import numpy as np\n",
    "from matplotlib import pyplot as plt\n",
    "from scipy import stats as st\n",
    "from scipy.stats import binom, norm, poisson\n",
    "from math import factorial, sqrt"
   ]
  },
  {
   "cell_type": "markdown",
   "id": "b8574552",
   "metadata": {},
   "source": [
    "### Шаг 1. Загрузка данных"
   ]
  },
  {
   "cell_type": "code",
   "execution_count": 2,
   "id": "4c08cd3a",
   "metadata": {},
   "outputs": [],
   "source": [
    "users = pd.read_csv('/datasets/users_go.csv')\n",
    "rides = pd.read_csv('/datasets/rides_go.csv', parse_dates=['date']) # Задаём параметр переводящий даты в datetime по сотлбцу date.\n",
    "subs = pd.read_csv('/datasets/subscriptions_go.csv')"
   ]
  },
  {
   "cell_type": "markdown",
   "id": "2d3e264e",
   "metadata": {},
   "source": [
    "#### Первый взляд на датасеты."
   ]
  },
  {
   "cell_type": "code",
   "execution_count": 3,
   "id": "cc8547af",
   "metadata": {},
   "outputs": [
    {
     "name": "stdout",
     "output_type": "stream",
     "text": [
      "<class 'pandas.core.frame.DataFrame'>\n",
      "RangeIndex: 1565 entries, 0 to 1564\n",
      "Data columns (total 5 columns):\n",
      " #   Column             Non-Null Count  Dtype \n",
      "---  ------             --------------  ----- \n",
      " 0   user_id            1565 non-null   int64 \n",
      " 1   name               1565 non-null   object\n",
      " 2   age                1565 non-null   int64 \n",
      " 3   city               1565 non-null   object\n",
      " 4   subscription_type  1565 non-null   object\n",
      "dtypes: int64(2), object(3)\n",
      "memory usage: 61.3+ KB\n"
     ]
    },
    {
     "data": {
      "text/html": [
       "<div>\n",
       "<style scoped>\n",
       "    .dataframe tbody tr th:only-of-type {\n",
       "        vertical-align: middle;\n",
       "    }\n",
       "\n",
       "    .dataframe tbody tr th {\n",
       "        vertical-align: top;\n",
       "    }\n",
       "\n",
       "    .dataframe thead th {\n",
       "        text-align: right;\n",
       "    }\n",
       "</style>\n",
       "<table border=\"1\" class=\"dataframe\">\n",
       "  <thead>\n",
       "    <tr style=\"text-align: right;\">\n",
       "      <th></th>\n",
       "      <th>user_id</th>\n",
       "      <th>name</th>\n",
       "      <th>age</th>\n",
       "      <th>city</th>\n",
       "      <th>subscription_type</th>\n",
       "    </tr>\n",
       "  </thead>\n",
       "  <tbody>\n",
       "    <tr>\n",
       "      <th>0</th>\n",
       "      <td>1</td>\n",
       "      <td>Кира</td>\n",
       "      <td>22</td>\n",
       "      <td>Тюмень</td>\n",
       "      <td>ultra</td>\n",
       "    </tr>\n",
       "    <tr>\n",
       "      <th>1</th>\n",
       "      <td>2</td>\n",
       "      <td>Станислав</td>\n",
       "      <td>31</td>\n",
       "      <td>Омск</td>\n",
       "      <td>ultra</td>\n",
       "    </tr>\n",
       "    <tr>\n",
       "      <th>2</th>\n",
       "      <td>3</td>\n",
       "      <td>Алексей</td>\n",
       "      <td>20</td>\n",
       "      <td>Москва</td>\n",
       "      <td>ultra</td>\n",
       "    </tr>\n",
       "    <tr>\n",
       "      <th>3</th>\n",
       "      <td>4</td>\n",
       "      <td>Константин</td>\n",
       "      <td>26</td>\n",
       "      <td>Ростов-на-Дону</td>\n",
       "      <td>ultra</td>\n",
       "    </tr>\n",
       "    <tr>\n",
       "      <th>4</th>\n",
       "      <td>5</td>\n",
       "      <td>Адель</td>\n",
       "      <td>28</td>\n",
       "      <td>Омск</td>\n",
       "      <td>ultra</td>\n",
       "    </tr>\n",
       "  </tbody>\n",
       "</table>\n",
       "</div>"
      ],
      "text/plain": [
       "   user_id        name  age            city subscription_type\n",
       "0        1        Кира   22          Тюмень             ultra\n",
       "1        2   Станислав   31            Омск             ultra\n",
       "2        3     Алексей   20          Москва             ultra\n",
       "3        4  Константин   26  Ростов-на-Дону             ultra\n",
       "4        5       Адель   28            Омск             ultra"
      ]
     },
     "execution_count": 3,
     "metadata": {},
     "output_type": "execute_result"
    }
   ],
   "source": [
    "users.info()\n",
    "users.head()"
   ]
  },
  {
   "cell_type": "markdown",
   "id": "d40cd040",
   "metadata": {},
   "source": [
    "<span style=\"color:purple\"><b>Всё в порядке.</b></span>"
   ]
  },
  {
   "cell_type": "code",
   "execution_count": 4,
   "id": "55305d4c",
   "metadata": {},
   "outputs": [
    {
     "name": "stdout",
     "output_type": "stream",
     "text": [
      "<class 'pandas.core.frame.DataFrame'>\n",
      "RangeIndex: 18068 entries, 0 to 18067\n",
      "Data columns (total 4 columns):\n",
      " #   Column    Non-Null Count  Dtype         \n",
      "---  ------    --------------  -----         \n",
      " 0   user_id   18068 non-null  int64         \n",
      " 1   distance  18068 non-null  float64       \n",
      " 2   duration  18068 non-null  float64       \n",
      " 3   date      18068 non-null  datetime64[ns]\n",
      "dtypes: datetime64[ns](1), float64(2), int64(1)\n",
      "memory usage: 564.8 KB\n"
     ]
    },
    {
     "data": {
      "text/html": [
       "<div>\n",
       "<style scoped>\n",
       "    .dataframe tbody tr th:only-of-type {\n",
       "        vertical-align: middle;\n",
       "    }\n",
       "\n",
       "    .dataframe tbody tr th {\n",
       "        vertical-align: top;\n",
       "    }\n",
       "\n",
       "    .dataframe thead th {\n",
       "        text-align: right;\n",
       "    }\n",
       "</style>\n",
       "<table border=\"1\" class=\"dataframe\">\n",
       "  <thead>\n",
       "    <tr style=\"text-align: right;\">\n",
       "      <th></th>\n",
       "      <th>user_id</th>\n",
       "      <th>distance</th>\n",
       "      <th>duration</th>\n",
       "      <th>date</th>\n",
       "    </tr>\n",
       "  </thead>\n",
       "  <tbody>\n",
       "    <tr>\n",
       "      <th>0</th>\n",
       "      <td>1</td>\n",
       "      <td>4409.919140</td>\n",
       "      <td>25.599769</td>\n",
       "      <td>2021-01-01</td>\n",
       "    </tr>\n",
       "    <tr>\n",
       "      <th>1</th>\n",
       "      <td>1</td>\n",
       "      <td>2617.592153</td>\n",
       "      <td>15.816871</td>\n",
       "      <td>2021-01-18</td>\n",
       "    </tr>\n",
       "    <tr>\n",
       "      <th>2</th>\n",
       "      <td>1</td>\n",
       "      <td>754.159807</td>\n",
       "      <td>6.232113</td>\n",
       "      <td>2021-04-20</td>\n",
       "    </tr>\n",
       "    <tr>\n",
       "      <th>3</th>\n",
       "      <td>1</td>\n",
       "      <td>2694.783254</td>\n",
       "      <td>18.511000</td>\n",
       "      <td>2021-08-11</td>\n",
       "    </tr>\n",
       "    <tr>\n",
       "      <th>4</th>\n",
       "      <td>1</td>\n",
       "      <td>4028.687306</td>\n",
       "      <td>26.265803</td>\n",
       "      <td>2021-08-28</td>\n",
       "    </tr>\n",
       "  </tbody>\n",
       "</table>\n",
       "</div>"
      ],
      "text/plain": [
       "   user_id     distance   duration       date\n",
       "0        1  4409.919140  25.599769 2021-01-01\n",
       "1        1  2617.592153  15.816871 2021-01-18\n",
       "2        1   754.159807   6.232113 2021-04-20\n",
       "3        1  2694.783254  18.511000 2021-08-11\n",
       "4        1  4028.687306  26.265803 2021-08-28"
      ]
     },
     "execution_count": 4,
     "metadata": {},
     "output_type": "execute_result"
    }
   ],
   "source": [
    "rides.info()\n",
    "rides.head()"
   ]
  },
  {
   "cell_type": "markdown",
   "id": "d9189dd5",
   "metadata": {},
   "source": [
    "<span style=\"color:purple\"><b>Столбец datetime исправлен во время загрузки df'a.</b></span>"
   ]
  },
  {
   "cell_type": "code",
   "execution_count": 5,
   "id": "76d6bbc8",
   "metadata": {},
   "outputs": [
    {
     "name": "stdout",
     "output_type": "stream",
     "text": [
      "<class 'pandas.core.frame.DataFrame'>\n",
      "RangeIndex: 2 entries, 0 to 1\n",
      "Data columns (total 4 columns):\n",
      " #   Column             Non-Null Count  Dtype \n",
      "---  ------             --------------  ----- \n",
      " 0   subscription_type  2 non-null      object\n",
      " 1   minute_price       2 non-null      int64 \n",
      " 2   start_ride_price   2 non-null      int64 \n",
      " 3   subscription_fee   2 non-null      int64 \n",
      "dtypes: int64(3), object(1)\n",
      "memory usage: 192.0+ bytes\n"
     ]
    },
    {
     "data": {
      "text/html": [
       "<div>\n",
       "<style scoped>\n",
       "    .dataframe tbody tr th:only-of-type {\n",
       "        vertical-align: middle;\n",
       "    }\n",
       "\n",
       "    .dataframe tbody tr th {\n",
       "        vertical-align: top;\n",
       "    }\n",
       "\n",
       "    .dataframe thead th {\n",
       "        text-align: right;\n",
       "    }\n",
       "</style>\n",
       "<table border=\"1\" class=\"dataframe\">\n",
       "  <thead>\n",
       "    <tr style=\"text-align: right;\">\n",
       "      <th></th>\n",
       "      <th>subscription_type</th>\n",
       "      <th>minute_price</th>\n",
       "      <th>start_ride_price</th>\n",
       "      <th>subscription_fee</th>\n",
       "    </tr>\n",
       "  </thead>\n",
       "  <tbody>\n",
       "    <tr>\n",
       "      <th>0</th>\n",
       "      <td>free</td>\n",
       "      <td>8</td>\n",
       "      <td>50</td>\n",
       "      <td>0</td>\n",
       "    </tr>\n",
       "    <tr>\n",
       "      <th>1</th>\n",
       "      <td>ultra</td>\n",
       "      <td>6</td>\n",
       "      <td>0</td>\n",
       "      <td>199</td>\n",
       "    </tr>\n",
       "  </tbody>\n",
       "</table>\n",
       "</div>"
      ],
      "text/plain": [
       "  subscription_type  minute_price  start_ride_price  subscription_fee\n",
       "0              free             8                50                 0\n",
       "1             ultra             6                 0               199"
      ]
     },
     "execution_count": 5,
     "metadata": {},
     "output_type": "execute_result"
    }
   ],
   "source": [
    "subs.info()\n",
    "subs.head()"
   ]
  },
  {
   "cell_type": "markdown",
   "id": "a0f79dfa",
   "metadata": {},
   "source": [
    "<span style=\"color:purple\"><b>Порядок.</b></span>"
   ]
  },
  {
   "cell_type": "markdown",
   "id": "3c800c50",
   "metadata": {},
   "source": [
    "#### Промежуточный вывод.\n",
    "**На руках имеем 3 датасета с данными.** \\\n",
    "* **users содержит следующую информацию - ID пользователя, имя, возраст, наименование города, категорию подписки.** \\\n",
    "* **В rides - ID, дистанция, продолжительность поездки, и дату поездки.** \\\n",
    "* **В subs содержится информация о типе подписки, стоимости одной минуты, стартовой цены, стоимости подписки.** \\\n",
    "\n",
    "*В целом типы данных выглядят верными, единственное что была обнаруженна ошибка в типе данных времени, но исправление внесено на этапе загрузки.*\n"
   ]
  },
  {
   "cell_type": "markdown",
   "id": "97acbcb2",
   "metadata": {},
   "source": [
    "### Шаг 2. Предобработка данных"
   ]
  },
  {
   "cell_type": "markdown",
   "id": "9cc8fd54",
   "metadata": {},
   "source": [
    "#### Изменение типов столбцов, добавление столбцов."
   ]
  },
  {
   "cell_type": "code",
   "execution_count": 6,
   "id": "fd82984a",
   "metadata": {},
   "outputs": [
    {
     "data": {
      "text/plain": [
       "<AxesSubplot:>"
      ]
     },
     "execution_count": 6,
     "metadata": {},
     "output_type": "execute_result"
    },
    {
     "data": {
      "image/png": "[encoded data removed]",
      "text/plain": [
       "<Figure size 432x288 with 1 Axes>"
      ]
     },
     "metadata": {
      "needs_background": "light"
     },
     "output_type": "display_data"
    }
   ],
   "source": [
    "rides['date'].hist()"
   ]
  },
  {
   "cell_type": "code",
   "execution_count": 7,
   "id": "ab33fd78",
   "metadata": {},
   "outputs": [],
   "source": [
    "rides['month'] = rides['date'].dt.month # Создаём новый столбец с номерами месяца."
   ]
  },
  {
   "cell_type": "markdown",
   "id": "300b4a61",
   "metadata": {},
   "source": [
    "<span style=\"color:purple\"><b>Период данных меньше года, потому можно для значений месяца взять только одно число без использования года.</b></span>"
   ]
  },
  {
   "cell_type": "markdown",
   "id": "4571b8b1",
   "metadata": {},
   "source": [
    "#### Пропущенные значения."
   ]
  },
  {
   "cell_type": "code",
   "execution_count": 8,
   "id": "f24f89b4",
   "metadata": {},
   "outputs": [
    {
     "name": "stdout",
     "output_type": "stream",
     "text": [
      "user_id              0\n",
      "name                 0\n",
      "age                  0\n",
      "city                 0\n",
      "subscription_type    0\n",
      "dtype: int64\n",
      "user_id     0\n",
      "distance    0\n",
      "duration    0\n",
      "date        0\n",
      "month       0\n",
      "dtype: int64\n",
      "subscription_type    0\n",
      "minute_price         0\n",
      "start_ride_price     0\n",
      "subscription_fee     0\n",
      "dtype: int64\n"
     ]
    }
   ],
   "source": [
    "print(users.isna().sum())\n",
    "print(rides.isna().sum())\n",
    "print(subs.isna().sum())"
   ]
  },
  {
   "cell_type": "markdown",
   "id": "73034bcf",
   "metadata": {},
   "source": [
    "<span style=\"color:purple\"><b>Пропущенных значений нет.</b></span>"
   ]
  },
  {
   "cell_type": "markdown",
   "id": "d171840a",
   "metadata": {},
   "source": [
    "#### Проверка на дубликаты."
   ]
  },
  {
   "cell_type": "code",
   "execution_count": 9,
   "id": "2d127e7a",
   "metadata": {},
   "outputs": [
    {
     "name": "stdout",
     "output_type": "stream",
     "text": [
      "31\n",
      "0\n",
      "0\n"
     ]
    }
   ],
   "source": [
    "print(users.duplicated().sum()) # Проверка на дубликаты и их вынос.\n",
    "print(rides.duplicated().sum())\n",
    "print(subs.duplicated().sum())"
   ]
  },
  {
   "cell_type": "code",
   "execution_count": 10,
   "id": "632fe29a",
   "metadata": {},
   "outputs": [],
   "source": [
    "users = users.drop_duplicates()"
   ]
  },
  {
   "cell_type": "markdown",
   "id": "60381557",
   "metadata": {},
   "source": [
    "<span style=\"color:purple\"><b>Дубликаты обнаружены и удалены.</b></span>"
   ]
  },
  {
   "cell_type": "markdown",
   "id": "32c55ce3",
   "metadata": {},
   "source": [
    "#### Аномалии."
   ]
  },
  {
   "cell_type": "code",
   "execution_count": 11,
   "id": "ab2565d0",
   "metadata": {},
   "outputs": [
    {
     "name": "stdout",
     "output_type": "stream",
     "text": [
      "\n"
     ]
    },
    {
     "data": {
      "image/png": "[encoded data removed]",
      "text/plain": [
       "<Figure size 1080x1080 with 6 Axes>"
      ]
     },
     "metadata": {
      "needs_background": "light"
     },
     "output_type": "display_data"
    }
   ],
   "source": [
    "rides.hist(figsize=(15, 15))\n",
    "print()"
   ]
  },
  {
   "cell_type": "code",
   "execution_count": 12,
   "id": "b75dd4c2",
   "metadata": {},
   "outputs": [
    {
     "name": "stdout",
     "output_type": "stream",
     "text": [
      "\n"
     ]
    },
    {
     "data": {
      "image/png": "[encoded data removed]",
      "text/plain": [
       "<Figure size 1080x360 with 2 Axes>"
      ]
     },
     "metadata": {
      "needs_background": "light"
     },
     "output_type": "display_data"
    }
   ],
   "source": [
    "users.hist(figsize=(15, 5))\n",
    "print()"
   ]
  },
  {
   "cell_type": "markdown",
   "id": "7aaa776f",
   "metadata": {},
   "source": [
    "<span style=\"color:purple\"><b>Аномальные значения продоложительности поездки и дистанции, скорее всего связанные с неисправностью самоката.</b></span>"
   ]
  },
  {
   "cell_type": "code",
   "execution_count": 13,
   "id": "2ca94383",
   "metadata": {},
   "outputs": [
    {
     "name": "stdout",
     "output_type": "stream",
     "text": [
      "<class 'pandas.core.frame.DataFrame'>\n",
      "RangeIndex: 18068 entries, 0 to 18067\n",
      "Data columns (total 5 columns):\n",
      " #   Column    Non-Null Count  Dtype         \n",
      "---  ------    --------------  -----         \n",
      " 0   user_id   18068 non-null  int64         \n",
      " 1   distance  18068 non-null  float64       \n",
      " 2   duration  18068 non-null  float64       \n",
      " 3   date      18068 non-null  datetime64[ns]\n",
      " 4   month     18068 non-null  int64         \n",
      "dtypes: datetime64[ns](1), float64(2), int64(2)\n",
      "memory usage: 705.9 KB\n"
     ]
    }
   ],
   "source": [
    "rides.info()"
   ]
  },
  {
   "cell_type": "code",
   "execution_count": 14,
   "id": "d5b1c24d",
   "metadata": {},
   "outputs": [
    {
     "data": {
      "text/html": [
       "<div>\n",
       "<style scoped>\n",
       "    .dataframe tbody tr th:only-of-type {\n",
       "        vertical-align: middle;\n",
       "    }\n",
       "\n",
       "    .dataframe tbody tr th {\n",
       "        vertical-align: top;\n",
       "    }\n",
       "\n",
       "    .dataframe thead th {\n",
       "        text-align: right;\n",
       "    }\n",
       "</style>\n",
       "<table border=\"1\" class=\"dataframe\">\n",
       "  <thead>\n",
       "    <tr style=\"text-align: right;\">\n",
       "      <th></th>\n",
       "      <th>user_id</th>\n",
       "      <th>distance</th>\n",
       "      <th>duration</th>\n",
       "      <th>date</th>\n",
       "      <th>month</th>\n",
       "    </tr>\n",
       "  </thead>\n",
       "  <tbody>\n",
       "    <tr>\n",
       "      <th>6531</th>\n",
       "      <td>701</td>\n",
       "      <td>4196.445201</td>\n",
       "      <td>0.5</td>\n",
       "      <td>2021-08-31</td>\n",
       "      <td>8</td>\n",
       "    </tr>\n",
       "    <tr>\n",
       "      <th>6570</th>\n",
       "      <td>704</td>\n",
       "      <td>4830.824371</td>\n",
       "      <td>0.5</td>\n",
       "      <td>2021-10-14</td>\n",
       "      <td>10</td>\n",
       "    </tr>\n",
       "    <tr>\n",
       "      <th>6680</th>\n",
       "      <td>712</td>\n",
       "      <td>4684.004397</td>\n",
       "      <td>0.5</td>\n",
       "      <td>2021-03-04</td>\n",
       "      <td>3</td>\n",
       "    </tr>\n",
       "    <tr>\n",
       "      <th>6695</th>\n",
       "      <td>713</td>\n",
       "      <td>5215.642710</td>\n",
       "      <td>0.5</td>\n",
       "      <td>2021-02-25</td>\n",
       "      <td>2</td>\n",
       "    </tr>\n",
       "    <tr>\n",
       "      <th>6768</th>\n",
       "      <td>718</td>\n",
       "      <td>5197.436649</td>\n",
       "      <td>0.5</td>\n",
       "      <td>2021-02-11</td>\n",
       "      <td>2</td>\n",
       "    </tr>\n",
       "    <tr>\n",
       "      <th>6860</th>\n",
       "      <td>724</td>\n",
       "      <td>6225.520342</td>\n",
       "      <td>0.5</td>\n",
       "      <td>2021-12-16</td>\n",
       "      <td>12</td>\n",
       "    </tr>\n",
       "    <tr>\n",
       "      <th>6883</th>\n",
       "      <td>726</td>\n",
       "      <td>4452.491518</td>\n",
       "      <td>0.5</td>\n",
       "      <td>2021-03-01</td>\n",
       "      <td>3</td>\n",
       "    </tr>\n",
       "    <tr>\n",
       "      <th>7018</th>\n",
       "      <td>735</td>\n",
       "      <td>4406.954812</td>\n",
       "      <td>0.5</td>\n",
       "      <td>2021-04-13</td>\n",
       "      <td>4</td>\n",
       "    </tr>\n",
       "    <tr>\n",
       "      <th>7160</th>\n",
       "      <td>745</td>\n",
       "      <td>5286.167732</td>\n",
       "      <td>0.5</td>\n",
       "      <td>2021-08-17</td>\n",
       "      <td>8</td>\n",
       "    </tr>\n",
       "    <tr>\n",
       "      <th>7364</th>\n",
       "      <td>760</td>\n",
       "      <td>4881.391865</td>\n",
       "      <td>0.5</td>\n",
       "      <td>2021-08-29</td>\n",
       "      <td>8</td>\n",
       "    </tr>\n",
       "  </tbody>\n",
       "</table>\n",
       "</div>"
      ],
      "text/plain": [
       "      user_id     distance  duration       date  month\n",
       "6531      701  4196.445201       0.5 2021-08-31      8\n",
       "6570      704  4830.824371       0.5 2021-10-14     10\n",
       "6680      712  4684.004397       0.5 2021-03-04      3\n",
       "6695      713  5215.642710       0.5 2021-02-25      2\n",
       "6768      718  5197.436649       0.5 2021-02-11      2\n",
       "6860      724  6225.520342       0.5 2021-12-16     12\n",
       "6883      726  4452.491518       0.5 2021-03-01      3\n",
       "7018      735  4406.954812       0.5 2021-04-13      4\n",
       "7160      745  5286.167732       0.5 2021-08-17      8\n",
       "7364      760  4881.391865       0.5 2021-08-29      8"
      ]
     },
     "execution_count": 14,
     "metadata": {},
     "output_type": "execute_result"
    }
   ],
   "source": [
    "rides[rides['duration'] < 1].head(10)"
   ]
  },
  {
   "cell_type": "code",
   "execution_count": 15,
   "id": "df07cce6",
   "metadata": {},
   "outputs": [
    {
     "data": {
      "text/plain": [
       "user_id     95\n",
       "distance    95\n",
       "duration    95\n",
       "date        95\n",
       "month       95\n",
       "dtype: int64"
      ]
     },
     "execution_count": 15,
     "metadata": {},
     "output_type": "execute_result"
    }
   ],
   "source": [
    "rides[rides['duration'] < 1].count()"
   ]
  },
  {
   "cell_type": "code",
   "execution_count": 16,
   "id": "0548e607",
   "metadata": {},
   "outputs": [],
   "source": [
    "rides = rides[rides['duration'] > 0.5]"
   ]
  },
  {
   "cell_type": "code",
   "execution_count": 17,
   "id": "1e4019f1",
   "metadata": {},
   "outputs": [
    {
     "data": {
      "text/html": [
       "<div>\n",
       "<style scoped>\n",
       "    .dataframe tbody tr th:only-of-type {\n",
       "        vertical-align: middle;\n",
       "    }\n",
       "\n",
       "    .dataframe tbody tr th {\n",
       "        vertical-align: top;\n",
       "    }\n",
       "\n",
       "    .dataframe thead th {\n",
       "        text-align: right;\n",
       "    }\n",
       "</style>\n",
       "<table border=\"1\" class=\"dataframe\">\n",
       "  <thead>\n",
       "    <tr style=\"text-align: right;\">\n",
       "      <th></th>\n",
       "      <th>user_id</th>\n",
       "      <th>distance</th>\n",
       "      <th>duration</th>\n",
       "      <th>date</th>\n",
       "      <th>month</th>\n",
       "    </tr>\n",
       "  </thead>\n",
       "  <tbody>\n",
       "    <tr>\n",
       "      <th>6648</th>\n",
       "      <td>709</td>\n",
       "      <td>4385.459636</td>\n",
       "      <td>10.770919</td>\n",
       "      <td>2021-12-04</td>\n",
       "      <td>12</td>\n",
       "    </tr>\n",
       "    <tr>\n",
       "      <th>7106</th>\n",
       "      <td>741</td>\n",
       "      <td>4746.964750</td>\n",
       "      <td>11.821306</td>\n",
       "      <td>2021-08-25</td>\n",
       "      <td>8</td>\n",
       "    </tr>\n",
       "    <tr>\n",
       "      <th>9099</th>\n",
       "      <td>894</td>\n",
       "      <td>5507.980168</td>\n",
       "      <td>13.015960</td>\n",
       "      <td>2021-11-30</td>\n",
       "      <td>11</td>\n",
       "    </tr>\n",
       "    <tr>\n",
       "      <th>11696</th>\n",
       "      <td>1078</td>\n",
       "      <td>4888.505444</td>\n",
       "      <td>11.777011</td>\n",
       "      <td>2021-09-01</td>\n",
       "      <td>9</td>\n",
       "    </tr>\n",
       "    <tr>\n",
       "      <th>11909</th>\n",
       "      <td>1095</td>\n",
       "      <td>4932.033033</td>\n",
       "      <td>12.204206</td>\n",
       "      <td>2021-05-20</td>\n",
       "      <td>5</td>\n",
       "    </tr>\n",
       "    <tr>\n",
       "      <th>12356</th>\n",
       "      <td>1128</td>\n",
       "      <td>4516.806367</td>\n",
       "      <td>11.033613</td>\n",
       "      <td>2021-10-06</td>\n",
       "      <td>10</td>\n",
       "    </tr>\n",
       "    <tr>\n",
       "      <th>12753</th>\n",
       "      <td>1157</td>\n",
       "      <td>4123.034244</td>\n",
       "      <td>10.246068</td>\n",
       "      <td>2021-12-19</td>\n",
       "      <td>12</td>\n",
       "    </tr>\n",
       "    <tr>\n",
       "      <th>12840</th>\n",
       "      <td>1163</td>\n",
       "      <td>4880.702286</td>\n",
       "      <td>11.761405</td>\n",
       "      <td>2021-06-15</td>\n",
       "      <td>6</td>\n",
       "    </tr>\n",
       "    <tr>\n",
       "      <th>13196</th>\n",
       "      <td>1190</td>\n",
       "      <td>4143.808108</td>\n",
       "      <td>10.287616</td>\n",
       "      <td>2021-03-19</td>\n",
       "      <td>3</td>\n",
       "    </tr>\n",
       "    <tr>\n",
       "      <th>13975</th>\n",
       "      <td>1243</td>\n",
       "      <td>5003.678510</td>\n",
       "      <td>12.352438</td>\n",
       "      <td>2021-05-15</td>\n",
       "      <td>5</td>\n",
       "    </tr>\n",
       "    <tr>\n",
       "      <th>14241</th>\n",
       "      <td>1261</td>\n",
       "      <td>5170.970011</td>\n",
       "      <td>12.341940</td>\n",
       "      <td>2021-01-29</td>\n",
       "      <td>1</td>\n",
       "    </tr>\n",
       "    <tr>\n",
       "      <th>14310</th>\n",
       "      <td>1265</td>\n",
       "      <td>6088.051913</td>\n",
       "      <td>14.595969</td>\n",
       "      <td>2021-09-22</td>\n",
       "      <td>9</td>\n",
       "    </tr>\n",
       "    <tr>\n",
       "      <th>15332</th>\n",
       "      <td>1341</td>\n",
       "      <td>5215.548311</td>\n",
       "      <td>12.431097</td>\n",
       "      <td>2021-08-29</td>\n",
       "      <td>8</td>\n",
       "    </tr>\n",
       "    <tr>\n",
       "      <th>15841</th>\n",
       "      <td>1379</td>\n",
       "      <td>4531.850739</td>\n",
       "      <td>11.063701</td>\n",
       "      <td>2021-10-28</td>\n",
       "      <td>10</td>\n",
       "    </tr>\n",
       "    <tr>\n",
       "      <th>17202</th>\n",
       "      <td>1474</td>\n",
       "      <td>4933.230080</td>\n",
       "      <td>12.206683</td>\n",
       "      <td>2021-06-19</td>\n",
       "      <td>6</td>\n",
       "    </tr>\n",
       "    <tr>\n",
       "      <th>17911</th>\n",
       "      <td>1524</td>\n",
       "      <td>4829.325021</td>\n",
       "      <td>11.658650</td>\n",
       "      <td>2021-08-20</td>\n",
       "      <td>8</td>\n",
       "    </tr>\n",
       "  </tbody>\n",
       "</table>\n",
       "</div>"
      ],
      "text/plain": [
       "       user_id     distance   duration       date  month\n",
       "6648       709  4385.459636  10.770919 2021-12-04     12\n",
       "7106       741  4746.964750  11.821306 2021-08-25      8\n",
       "9099       894  5507.980168  13.015960 2021-11-30     11\n",
       "11696     1078  4888.505444  11.777011 2021-09-01      9\n",
       "11909     1095  4932.033033  12.204206 2021-05-20      5\n",
       "12356     1128  4516.806367  11.033613 2021-10-06     10\n",
       "12753     1157  4123.034244  10.246068 2021-12-19     12\n",
       "12840     1163  4880.702286  11.761405 2021-06-15      6\n",
       "13196     1190  4143.808108  10.287616 2021-03-19      3\n",
       "13975     1243  5003.678510  12.352438 2021-05-15      5\n",
       "14241     1261  5170.970011  12.341940 2021-01-29      1\n",
       "14310     1265  6088.051913  14.595969 2021-09-22      9\n",
       "15332     1341  5215.548311  12.431097 2021-08-29      8\n",
       "15841     1379  4531.850739  11.063701 2021-10-28     10\n",
       "17202     1474  4933.230080  12.206683 2021-06-19      6\n",
       "17911     1524  4829.325021  11.658650 2021-08-20      8"
      ]
     },
     "execution_count": 17,
     "metadata": {},
     "output_type": "execute_result"
    }
   ],
   "source": [
    "rides[(rides['distance'] / rides['duration']) > 400]"
   ]
  },
  {
   "cell_type": "code",
   "execution_count": 18,
   "id": "03b1eb58",
   "metadata": {},
   "outputs": [
    {
     "name": "stdout",
     "output_type": "stream",
     "text": [
      "<class 'pandas.core.frame.DataFrame'>\n",
      "Int64Index: 17973 entries, 0 to 18067\n",
      "Data columns (total 5 columns):\n",
      " #   Column    Non-Null Count  Dtype         \n",
      "---  ------    --------------  -----         \n",
      " 0   user_id   17973 non-null  int64         \n",
      " 1   distance  17973 non-null  float64       \n",
      " 2   duration  17973 non-null  float64       \n",
      " 3   date      17973 non-null  datetime64[ns]\n",
      " 4   month     17973 non-null  int64         \n",
      "dtypes: datetime64[ns](1), float64(2), int64(2)\n",
      "memory usage: 842.5 KB\n"
     ]
    }
   ],
   "source": [
    "rides.info()"
   ]
  },
  {
   "cell_type": "markdown",
   "id": "3d7f0403",
   "metadata": {},
   "source": [
    "#### Промежуточный вывод:\n",
    "* **В предобратобке данных мы проверили период времени в датасете, так-как период меньше года для удобства используем только число месяца** \n",
    "* **Произвели проверку на пропущенные значение - их не оказалось.**\n",
    "* **Проверка на дубликаты дала положительный результат в датасете users, дубликаты были удалены.**\n",
    "* **С помощью гистограмм данные проверенны на выбросы или аномальные скачки, обнаружены аномалии в продолжительности поездки, время в 0.5 минут с разными дистанциями равными нескольким километрам. Удалены.**"
   ]
  },
  {
   "cell_type": "markdown",
   "id": "30c0e5bb",
   "metadata": {},
   "source": [
    "### Исследовательский анализ данных"
   ]
  },
  {
   "cell_type": "markdown",
   "id": "e710fb48",
   "metadata": {},
   "source": [
    "#### Частота встречаемости городов."
   ]
  },
  {
   "cell_type": "code",
   "execution_count": 19,
   "id": "d04e935c",
   "metadata": {},
   "outputs": [
    {
     "name": "stdout",
     "output_type": "stream",
     "text": [
      "city\n",
      "Москва            168\n",
      "Тюмень            180\n",
      "Омск              183\n",
      "Сочи              189\n",
      "Краснодар         193\n",
      "Ростов-на-Дону    198\n",
      "Екатеринбург      204\n",
      "Пятигорск         219\n",
      "Name: user_id, dtype: int64\n"
     ]
    },
    {
     "data": {
      "image/png": "[encoded data removed]",
      "text/plain": [
       "<Figure size 1080x360 with 1 Axes>"
      ]
     },
     "metadata": {
      "needs_background": "light"
     },
     "output_type": "display_data"
    }
   ],
   "source": [
    "users_city_hist = users.groupby('city')['user_id'].count().sort_values()\n",
    "uch = users_city_hist.plot(x='city', y='user_id', figsize=(15, 5), kind='barh',\n",
    "                     xlabel='', grid=True, fontsize='12')\n",
    "uch.set_ylabel('Количество пользователей', fontsize='12', fontweight='bold')\n",
    "print(users_city_hist)"
   ]
  },
  {
   "cell_type": "markdown",
   "id": "e719d852",
   "metadata": {},
   "source": [
    "<span style=\"color:purple\"><b>В общем 8 городов. Чаще встречается город - Пятигорск, реже всего Москва, разница между количеством пользователей из разных городов небольшая.</b></span>"
   ]
  },
  {
   "cell_type": "markdown",
   "id": "b2c1f854",
   "metadata": {},
   "source": [
    "#### Соотношение пользователей с подпиской и без подписки."
   ]
  },
  {
   "cell_type": "code",
   "execution_count": 20,
   "id": "e5287c50",
   "metadata": {},
   "outputs": [
    {
     "name": "stdout",
     "output_type": "stream",
     "text": [
      "Соотношение пользователей с подпиской и без = 1.195\n"
     ]
    },
    {
     "data": {
      "image/png": "[encoded data removed]",
      "text/plain": [
       "<Figure size 432x432 with 1 Axes>"
      ]
     },
     "metadata": {},
     "output_type": "display_data"
    }
   ],
   "source": [
    "users_subs_pie = users.groupby('subscription_type')['user_id'].count()\n",
    "users_subs_pie.plot(kind='pie', figsize=(6, 6), colors=['steelblue', 'red'], autopct='%1.0f%%', ylabel='',\n",
    "                    title='Соотношение пользователей с подпиской и без подписки на дискограмме', legend=False)\n",
    "\n",
    "print('Соотношение пользователей с подпиской и без =', round(users_subs_pie[0] / users_subs_pie[1], 3))"
   ]
  },
  {
   "cell_type": "markdown",
   "id": "8b125978",
   "metadata": {},
   "source": [
    "<span style=\"color:purple\"><b>Людей без подписки чуть больше половины.</b></span>"
   ]
  },
  {
   "cell_type": "markdown",
   "id": "f61276db",
   "metadata": {},
   "source": [
    "#### Возраст пользователей."
   ]
  },
  {
   "cell_type": "code",
   "execution_count": 21,
   "id": "c9cce6fa",
   "metadata": {},
   "outputs": [
    {
     "name": "stdout",
     "output_type": "stream",
     "text": [
      "\n"
     ]
    },
    {
     "data": {
      "image/png": "[encoded data removed]",
      "text/plain": [
       "<Figure size 1080x360 with 1 Axes>"
      ]
     },
     "metadata": {
      "needs_background": "light"
     },
     "output_type": "display_data"
    }
   ],
   "source": [
    "users_ages = users['age'].hist(figsize=(15, 5), bins=30)\n",
    "users_ages.set_xticks(np.arange(12,45,1))\n",
    "users_ages.set_xlabel('Возраст', fontsize='12', fontweight='bold')\n",
    "users_ages.set_ylabel('Количество пользователей', fontsize='12', fontweight='bold')\n",
    "users_ages.set_title('Гистограмма возвраста пользователей', fontsize='12', fontweight='bold')\n",
    "print()"
   ]
  },
  {
   "cell_type": "code",
   "execution_count": 22,
   "id": "56a21b4c",
   "metadata": {},
   "outputs": [
    {
     "data": {
      "text/plain": [
       "count    1534.000000\n",
       "mean       24.903520\n",
       "std         4.572367\n",
       "min        12.000000\n",
       "25%        22.000000\n",
       "50%        25.000000\n",
       "75%        28.000000\n",
       "max        43.000000\n",
       "Name: age, dtype: float64"
      ]
     },
     "execution_count": 22,
     "metadata": {},
     "output_type": "execute_result"
    }
   ],
   "source": [
    "users['age'].describe()"
   ]
  },
  {
   "cell_type": "markdown",
   "id": "24d2626e",
   "metadata": {},
   "source": [
    "<span style=\"color:purple\"><b>Промежуточные значения от первого до третьего квартиля состовляют от 22 до 28 лет.\n",
    "    Средний возрат 24 года.</b></span>"
   ]
  },
  {
   "cell_type": "markdown",
   "id": "80170372",
   "metadata": {},
   "source": [
    "#### Расстояние, которое пользователь преодолел за одну поездку."
   ]
  },
  {
   "cell_type": "code",
   "execution_count": 23,
   "id": "c0f01109",
   "metadata": {},
   "outputs": [
    {
     "name": "stdout",
     "output_type": "stream",
     "text": [
      "\n"
     ]
    },
    {
     "data": {
      "image/png": "[encoded data removed]",
      "text/plain": [
       "<Figure size 1080x360 with 1 Axes>"
      ]
     },
     "metadata": {
      "needs_background": "light"
     },
     "output_type": "display_data"
    }
   ],
   "source": [
    "rides_dist = rides['distance']\n",
    "rides_dist = rides_dist.hist(figsize=(15, 5), bins=70)\n",
    "rides_dist.set_xlabel('Среднее расстояние поездки пользователей', fontsize='12', fontweight='bold')\n",
    "rides_dist.set_ylabel('Количество пользователей', fontsize='12', fontweight='bold')\n",
    "rides_dist.set_title('Расстояние преодоленное пользователем за одну поездку в среднем', fontsize='12', fontweight='bold')\n",
    "rides_dist.set_xticks(np.arange(0,8000,400))\n",
    "print()"
   ]
  },
  {
   "cell_type": "code",
   "execution_count": 24,
   "id": "9c3b9f7f",
   "metadata": {},
   "outputs": [
    {
     "data": {
      "text/plain": [
       "count    17973.000000\n",
       "mean      3059.863833\n",
       "std       1108.814612\n",
       "min          0.855683\n",
       "25%       2538.839628\n",
       "50%       3129.029255\n",
       "75%       3762.636244\n",
       "max       7066.003772\n",
       "Name: distance, dtype: float64"
      ]
     },
     "execution_count": 24,
     "metadata": {},
     "output_type": "execute_result"
    }
   ],
   "source": [
    "rides['distance'].describe()"
   ]
  },
  {
   "cell_type": "markdown",
   "id": "079ea2a3",
   "metadata": {},
   "source": [
    "<span style=\"color:purple\"><b>От первого до третьего квартиля расстояние поездки состовляет от 2.5 до 3.8км</b></span>"
   ]
  },
  {
   "cell_type": "markdown",
   "id": "1fd61bb6",
   "metadata": {},
   "source": [
    "#### Продолжительность поездок."
   ]
  },
  {
   "cell_type": "code",
   "execution_count": 25,
   "id": "3aebe79b",
   "metadata": {},
   "outputs": [
    {
     "name": "stdout",
     "output_type": "stream",
     "text": [
      "\n"
     ]
    },
    {
     "data": {
      "image/png": "[encoded data removed]",
      "text/plain": [
       "<Figure size 1080x360 with 1 Axes>"
      ]
     },
     "metadata": {
      "needs_background": "light"
     },
     "output_type": "display_data"
    }
   ],
   "source": [
    "rides_dur = rides['duration'].hist(figsize=(15, 5), bins=40)\n",
    "rides_dur.set_xlabel('Продолжительность поездок', fontsize='12', fontweight='bold')\n",
    "rides_dur.set_ylabel('Количество поездок в минутах', fontsize='12', fontweight='bold')\n",
    "rides_dur.set_xticks(np.arange(0,42,2))\n",
    "rides_dur.set_title('Гистограмма продолжительности поездок пользователей', fontsize='12', fontweight='bold')\n",
    "print()"
   ]
  },
  {
   "cell_type": "code",
   "execution_count": 26,
   "id": "b2786d40",
   "metadata": {},
   "outputs": [
    {
     "data": {
      "text/plain": [
       "count    17973.000000\n",
       "mean        17.896480\n",
       "std          5.975424\n",
       "min          2.035632\n",
       "25%         13.670439\n",
       "50%         17.714122\n",
       "75%         21.747016\n",
       "max         40.823963\n",
       "Name: duration, dtype: float64"
      ]
     },
     "execution_count": 26,
     "metadata": {},
     "output_type": "execute_result"
    }
   ],
   "source": [
    "rides['duration'].describe()"
   ]
  },
  {
   "cell_type": "markdown",
   "id": "46275942",
   "metadata": {},
   "source": [
    "<span style=\"color:purple\"><b>Продолжительность поездки от первого квартиля до третьего состовляет от 14 до 22 минут.</b></span>"
   ]
  },
  {
   "cell_type": "markdown",
   "id": "d842f2c9",
   "metadata": {},
   "source": [
    "### Объединение данных"
   ]
  },
  {
   "cell_type": "markdown",
   "id": "af2b08f8",
   "metadata": {},
   "source": [
    "#### Объеденение трёх таблиц в одну."
   ]
  },
  {
   "cell_type": "code",
   "execution_count": 27,
   "id": "5272e30f",
   "metadata": {},
   "outputs": [
    {
     "name": "stdout",
     "output_type": "stream",
     "text": [
      "<class 'pandas.core.frame.DataFrame'>\n",
      "Int64Index: 1534 entries, 0 to 1533\n",
      "Data columns (total 5 columns):\n",
      " #   Column             Non-Null Count  Dtype \n",
      "---  ------             --------------  ----- \n",
      " 0   user_id            1534 non-null   int64 \n",
      " 1   name               1534 non-null   object\n",
      " 2   age                1534 non-null   int64 \n",
      " 3   city               1534 non-null   object\n",
      " 4   subscription_type  1534 non-null   object\n",
      "dtypes: int64(2), object(3)\n",
      "memory usage: 71.9+ KB\n"
     ]
    }
   ],
   "source": [
    "users.info()"
   ]
  },
  {
   "cell_type": "code",
   "execution_count": 28,
   "id": "daf5dbbe",
   "metadata": {},
   "outputs": [
    {
     "name": "stdout",
     "output_type": "stream",
     "text": [
      "<class 'pandas.core.frame.DataFrame'>\n",
      "Int64Index: 17973 entries, 0 to 17972\n",
      "Data columns (total 9 columns):\n",
      " #   Column             Non-Null Count  Dtype         \n",
      "---  ------             --------------  -----         \n",
      " 0   user_id            17973 non-null  int64         \n",
      " 1   name               17973 non-null  object        \n",
      " 2   age                17973 non-null  int64         \n",
      " 3   city               17973 non-null  object        \n",
      " 4   subscription_type  17973 non-null  object        \n",
      " 5   distance           17973 non-null  float64       \n",
      " 6   duration           17973 non-null  float64       \n",
      " 7   date               17973 non-null  datetime64[ns]\n",
      " 8   month              17973 non-null  int64         \n",
      "dtypes: datetime64[ns](1), float64(2), int64(3), object(3)\n",
      "memory usage: 1.4+ MB\n",
      "None\n",
      "<class 'pandas.core.frame.DataFrame'>\n",
      "Int64Index: 17973 entries, 0 to 17972\n",
      "Data columns (total 12 columns):\n",
      " #   Column             Non-Null Count  Dtype         \n",
      "---  ------             --------------  -----         \n",
      " 0   user_id            17973 non-null  int64         \n",
      " 1   name               17973 non-null  object        \n",
      " 2   age                17973 non-null  int64         \n",
      " 3   city               17973 non-null  object        \n",
      " 4   subscription_type  17973 non-null  object        \n",
      " 5   distance           17973 non-null  float64       \n",
      " 6   duration           17973 non-null  float64       \n",
      " 7   date               17973 non-null  datetime64[ns]\n",
      " 8   month              17973 non-null  int64         \n",
      " 9   minute_price       17973 non-null  int64         \n",
      " 10  start_ride_price   17973 non-null  int64         \n",
      " 11  subscription_fee   17973 non-null  int64         \n",
      "dtypes: datetime64[ns](1), float64(2), int64(6), object(3)\n",
      "memory usage: 1.8+ MB\n",
      "None\n"
     ]
    }
   ],
   "source": [
    "data = users.merge(rides, on='user_id', how='left')\n",
    "print(data.info())\n",
    "data = data.merge(subs, on='subscription_type', how='left')\n",
    "print(data.info())"
   ]
  },
  {
   "cell_type": "markdown",
   "id": "ce188caf",
   "metadata": {},
   "source": [
    "<span style=\"color:purple\"><b>Производим мерж таблиц, в таблице rides имеем 17913 строк, после левостороннего мержа количество строк сохраняется.</b></span>"
   ]
  },
  {
   "cell_type": "markdown",
   "id": "565de9fd",
   "metadata": {},
   "source": [
    "#### Создание отдельных таблиц-категорий пользователей с подпиской и без."
   ]
  },
  {
   "cell_type": "code",
   "execution_count": 29,
   "id": "06b597c7",
   "metadata": {},
   "outputs": [],
   "source": [
    "data_subs_on = data[data['subscription_type'] == 'ultra']\n",
    "data_subs_off = data[data['subscription_type'] == 'free']"
   ]
  },
  {
   "cell_type": "markdown",
   "id": "792ac57c",
   "metadata": {},
   "source": [
    "#### Расстояние и время, преодоленное для обоих категорий."
   ]
  },
  {
   "cell_type": "code",
   "execution_count": 30,
   "id": "077890ae",
   "metadata": {},
   "outputs": [
    {
     "name": "stdout",
     "output_type": "stream",
     "text": [
      "\n"
     ]
    },
    {
     "data": {
      "image/png": "[encoded data removed]",
      "text/plain": [
       "<Figure size 1080x360 with 1 Axes>"
      ]
     },
     "metadata": {
      "needs_background": "light"
     },
     "output_type": "display_data"
    }
   ],
   "source": [
    "rides_dur2 = data_subs_on['distance'].hist(figsize=(15, 5), bins=38, color='blue', label='C ПОДПИСКОЙ')\n",
    "\n",
    "rides_dur2 = data_subs_off['distance'].hist(figsize=(15, 5), bins=38, alpha=0.7, label='БЕЗ ПОДПИСКИ')\n",
    "rides_dur2.set_xlabel('Дистанция поездок в метрах', fontsize='12', fontweight='bold')\n",
    "rides_dur2.set_ylabel('Количество поездок', fontsize='12', fontweight='bold')\n",
    "rides_dur2.set_xticks(np.arange(0,7600,400))\n",
    "rides_dur2.set_title('Расстояния с подпиской и без', fontsize='12', fontweight='bold')\n",
    "\n",
    "#rides_dur2 = data_subs_on['distance'].hist(figsize=(15, 5), bins=38, color='blue', legend=True, alpha=0.0)\n",
    "# Пришлось сделать третью запись, так-как параметры legend и label не могут использоваться сразу вместе, \n",
    "# получается можно указать либо legend=True, либо я имею возможность указать наименование label, \n",
    "# но при этом legend дефолтно принимает значение False, третьего варианта не нашёл.\n",
    "\n",
    "\n",
    "# есть вариант проще (ниже), строку с твоим кодом закомментировал, чтобы показать работоспособность\n",
    "plt.legend()\n",
    "\n",
    "print()"
   ]
  },
  {
   "cell_type": "markdown",
   "id": "9eac3f42",
   "metadata": {},
   "source": [
    "<span style=\"color:purple\"><b>На основе двух графиков можно сделать вывод что пользователи с подпиской чаще ездят на одни и теже расстояния. \\\n",
    "Вероятно связано с тем что пользователи с подпиской чаще используют самокаты для того что-бы добраться до работы, или учёбы.</b></span>"
   ]
  },
  {
   "cell_type": "code",
   "execution_count": 31,
   "id": "c7085b70",
   "metadata": {},
   "outputs": [
    {
     "name": "stdout",
     "output_type": "stream",
     "text": [
      "\n"
     ]
    },
    {
     "data": {
      "image/png": "[encoded data removed]",
      "text/plain": [
       "<Figure size 1080x360 with 1 Axes>"
      ]
     },
     "metadata": {
      "needs_background": "light"
     },
     "output_type": "display_data"
    }
   ],
   "source": [
    "rides_dur = data_subs_on['duration'].hist(figsize=(15, 5), bins=35, color='blue', label='C ПОДПИСКОЙ')\n",
    "\n",
    "rides_dur = data_subs_off['duration'].hist(figsize=(15, 5), bins=35, alpha=0.7, label='БЕЗ ПОДПИСКИ')\n",
    "rides_dur.set_xlabel('Продолжительность поездок', fontsize='12', fontweight='bold')\n",
    "rides_dur.set_ylabel('Количество поездок', fontsize='12', fontweight='bold')\n",
    "rides_dur.set_title('Продолжительность поездок с подпиской и без', fontsize='12', fontweight='bold')\n",
    "rides_dur.set_xticks(np.arange(0,42,2))\n",
    "\n",
    "#rides_dur = data_subs_on['duration'].hist(figsize=(15, 5), bins=35, color='blue', legend=True, alpha=0.0)\n",
    "\n",
    "plt.legend()\n",
    "print()"
   ]
  },
  {
   "cell_type": "markdown",
   "id": "46821fa2",
   "metadata": {},
   "source": [
    "<span style=\"color:purple\"><b>Примерно одинаковое распределение продолжительности поездки, с учётом предидущего графика эти графики имеют подозрительно пропорциональный вид.</b></span>"
   ]
  },
  {
   "cell_type": "markdown",
   "id": "7df27ba8",
   "metadata": {},
   "source": [
    "### Подсчёт выручки"
   ]
  },
  {
   "cell_type": "code",
   "execution_count": 32,
   "id": "b1afcb1c",
   "metadata": {},
   "outputs": [],
   "source": [
    "data_agr = data.loc[:, ['user_id', 'subscription_type', 'month']]\n",
    "data_agr['sum_distance'] = data.groupby(['user_id', 'month'])['distance'].transform(lambda x: x.sum())\n",
    "data_agr['sum_duration'] = data.groupby(['user_id', 'month'])['duration'].transform(lambda x: x.apply(np.ceil).sum())\n",
    "data_agr['count'] = data.groupby(['user_id', 'month'])['user_id'].transform(lambda x: x.count())\n",
    "# Получаем суммы, не забываем про своевременное округление вверх.\n",
    "data_agr = data_agr.drop_duplicates().reset_index(drop=True)\n",
    "# Тут появляются дубликаты.\n",
    "data_agr = data_agr.merge(subs, on='subscription_type')\n",
    "# Соеденяю таблицы для более простого кода рассчёта."
   ]
  },
  {
   "cell_type": "code",
   "execution_count": 33,
   "id": "7a030e61",
   "metadata": {},
   "outputs": [
    {
     "data": {
      "text/html": [
       "<div>\n",
       "<style scoped>\n",
       "    .dataframe tbody tr th:only-of-type {\n",
       "        vertical-align: middle;\n",
       "    }\n",
       "\n",
       "    .dataframe tbody tr th {\n",
       "        vertical-align: top;\n",
       "    }\n",
       "\n",
       "    .dataframe thead th {\n",
       "        text-align: right;\n",
       "    }\n",
       "</style>\n",
       "<table border=\"1\" class=\"dataframe\">\n",
       "  <thead>\n",
       "    <tr style=\"text-align: right;\">\n",
       "      <th></th>\n",
       "      <th>user_id</th>\n",
       "      <th>month</th>\n",
       "      <th>subscription_type</th>\n",
       "      <th>minute_price</th>\n",
       "      <th>start_ride_price</th>\n",
       "      <th>subscription_fee</th>\n",
       "      <th>distance</th>\n",
       "      <th>duration</th>\n",
       "      <th>date</th>\n",
       "    </tr>\n",
       "  </thead>\n",
       "  <tbody>\n",
       "    <tr>\n",
       "      <th>0</th>\n",
       "      <td>1</td>\n",
       "      <td>1</td>\n",
       "      <td>ultra</td>\n",
       "      <td>6</td>\n",
       "      <td>0</td>\n",
       "      <td>199</td>\n",
       "      <td>7027.511294</td>\n",
       "      <td>41.416640</td>\n",
       "      <td>2</td>\n",
       "    </tr>\n",
       "    <tr>\n",
       "      <th>1</th>\n",
       "      <td>1</td>\n",
       "      <td>4</td>\n",
       "      <td>ultra</td>\n",
       "      <td>6</td>\n",
       "      <td>0</td>\n",
       "      <td>199</td>\n",
       "      <td>754.159807</td>\n",
       "      <td>6.232113</td>\n",
       "      <td>1</td>\n",
       "    </tr>\n",
       "    <tr>\n",
       "      <th>2</th>\n",
       "      <td>1</td>\n",
       "      <td>8</td>\n",
       "      <td>ultra</td>\n",
       "      <td>6</td>\n",
       "      <td>0</td>\n",
       "      <td>199</td>\n",
       "      <td>6723.470560</td>\n",
       "      <td>44.776802</td>\n",
       "      <td>2</td>\n",
       "    </tr>\n",
       "    <tr>\n",
       "      <th>3</th>\n",
       "      <td>1</td>\n",
       "      <td>10</td>\n",
       "      <td>ultra</td>\n",
       "      <td>6</td>\n",
       "      <td>0</td>\n",
       "      <td>199</td>\n",
       "      <td>5809.911100</td>\n",
       "      <td>31.578017</td>\n",
       "      <td>2</td>\n",
       "    </tr>\n",
       "    <tr>\n",
       "      <th>4</th>\n",
       "      <td>1</td>\n",
       "      <td>11</td>\n",
       "      <td>ultra</td>\n",
       "      <td>6</td>\n",
       "      <td>0</td>\n",
       "      <td>199</td>\n",
       "      <td>7003.499363</td>\n",
       "      <td>53.397424</td>\n",
       "      <td>3</td>\n",
       "    </tr>\n",
       "    <tr>\n",
       "      <th>...</th>\n",
       "      <td>...</td>\n",
       "      <td>...</td>\n",
       "      <td>...</td>\n",
       "      <td>...</td>\n",
       "      <td>...</td>\n",
       "      <td>...</td>\n",
       "      <td>...</td>\n",
       "      <td>...</td>\n",
       "      <td>...</td>\n",
       "    </tr>\n",
       "    <tr>\n",
       "      <th>11295</th>\n",
       "      <td>1534</td>\n",
       "      <td>6</td>\n",
       "      <td>free</td>\n",
       "      <td>8</td>\n",
       "      <td>50</td>\n",
       "      <td>0</td>\n",
       "      <td>3409.468534</td>\n",
       "      <td>24.812678</td>\n",
       "      <td>2</td>\n",
       "    </tr>\n",
       "    <tr>\n",
       "      <th>11296</th>\n",
       "      <td>1534</td>\n",
       "      <td>8</td>\n",
       "      <td>free</td>\n",
       "      <td>8</td>\n",
       "      <td>50</td>\n",
       "      <td>0</td>\n",
       "      <td>7622.453034</td>\n",
       "      <td>47.205960</td>\n",
       "      <td>2</td>\n",
       "    </tr>\n",
       "    <tr>\n",
       "      <th>11297</th>\n",
       "      <td>1534</td>\n",
       "      <td>9</td>\n",
       "      <td>free</td>\n",
       "      <td>8</td>\n",
       "      <td>50</td>\n",
       "      <td>0</td>\n",
       "      <td>4928.173852</td>\n",
       "      <td>22.560373</td>\n",
       "      <td>1</td>\n",
       "    </tr>\n",
       "    <tr>\n",
       "      <th>11298</th>\n",
       "      <td>1534</td>\n",
       "      <td>11</td>\n",
       "      <td>free</td>\n",
       "      <td>8</td>\n",
       "      <td>50</td>\n",
       "      <td>0</td>\n",
       "      <td>13350.015305</td>\n",
       "      <td>76.342174</td>\n",
       "      <td>4</td>\n",
       "    </tr>\n",
       "    <tr>\n",
       "      <th>11299</th>\n",
       "      <td>1534</td>\n",
       "      <td>12</td>\n",
       "      <td>free</td>\n",
       "      <td>8</td>\n",
       "      <td>50</td>\n",
       "      <td>0</td>\n",
       "      <td>2371.711192</td>\n",
       "      <td>15.893917</td>\n",
       "      <td>1</td>\n",
       "    </tr>\n",
       "  </tbody>\n",
       "</table>\n",
       "<p>11300 rows × 9 columns</p>\n",
       "</div>"
      ],
      "text/plain": [
       "       user_id  month subscription_type  minute_price  start_ride_price  \\\n",
       "0            1      1             ultra             6                 0   \n",
       "1            1      4             ultra             6                 0   \n",
       "2            1      8             ultra             6                 0   \n",
       "3            1     10             ultra             6                 0   \n",
       "4            1     11             ultra             6                 0   \n",
       "...        ...    ...               ...           ...               ...   \n",
       "11295     1534      6              free             8                50   \n",
       "11296     1534      8              free             8                50   \n",
       "11297     1534      9              free             8                50   \n",
       "11298     1534     11              free             8                50   \n",
       "11299     1534     12              free             8                50   \n",
       "\n",
       "       subscription_fee      distance   duration  date  \n",
       "0                   199   7027.511294  41.416640     2  \n",
       "1                   199    754.159807   6.232113     1  \n",
       "2                   199   6723.470560  44.776802     2  \n",
       "3                   199   5809.911100  31.578017     2  \n",
       "4                   199   7003.499363  53.397424     3  \n",
       "...                 ...           ...        ...   ...  \n",
       "11295                 0   3409.468534  24.812678     2  \n",
       "11296                 0   7622.453034  47.205960     2  \n",
       "11297                 0   4928.173852  22.560373     1  \n",
       "11298                 0  13350.015305  76.342174     4  \n",
       "11299                 0   2371.711192  15.893917     1  \n",
       "\n",
       "[11300 rows x 9 columns]"
      ]
     },
     "execution_count": 33,
     "metadata": {},
     "output_type": "execute_result"
    }
   ],
   "source": [
    "# код ревьюера\n",
    "(data.groupby(['user_id', 'month', 'subscription_type', 'minute_price', 'start_ride_price', 'subscription_fee'])\n",
    "     .agg({'distance' : 'sum',\n",
    "           'duration' : 'sum',\n",
    "           'date' : 'count'})\n",
    "     .reset_index()\n",
    ")"
   ]
  },
  {
   "cell_type": "code",
   "execution_count": 34,
   "id": "d9510093",
   "metadata": {},
   "outputs": [
    {
     "data": {
      "text/html": [
       "<div>\n",
       "<style scoped>\n",
       "    .dataframe tbody tr th:only-of-type {\n",
       "        vertical-align: middle;\n",
       "    }\n",
       "\n",
       "    .dataframe tbody tr th {\n",
       "        vertical-align: top;\n",
       "    }\n",
       "\n",
       "    .dataframe thead th {\n",
       "        text-align: right;\n",
       "    }\n",
       "</style>\n",
       "<table border=\"1\" class=\"dataframe\">\n",
       "  <thead>\n",
       "    <tr style=\"text-align: right;\">\n",
       "      <th></th>\n",
       "      <th>user_id</th>\n",
       "      <th>subscription_type</th>\n",
       "      <th>month</th>\n",
       "      <th>sum_distance</th>\n",
       "      <th>sum_duration</th>\n",
       "      <th>count</th>\n",
       "      <th>minute_price</th>\n",
       "      <th>start_ride_price</th>\n",
       "      <th>subscription_fee</th>\n",
       "    </tr>\n",
       "  </thead>\n",
       "  <tbody>\n",
       "    <tr>\n",
       "      <th>0</th>\n",
       "      <td>1</td>\n",
       "      <td>ultra</td>\n",
       "      <td>1</td>\n",
       "      <td>7027.511294</td>\n",
       "      <td>42.0</td>\n",
       "      <td>2</td>\n",
       "      <td>6</td>\n",
       "      <td>0</td>\n",
       "      <td>199</td>\n",
       "    </tr>\n",
       "    <tr>\n",
       "      <th>1</th>\n",
       "      <td>1</td>\n",
       "      <td>ultra</td>\n",
       "      <td>4</td>\n",
       "      <td>754.159807</td>\n",
       "      <td>7.0</td>\n",
       "      <td>1</td>\n",
       "      <td>6</td>\n",
       "      <td>0</td>\n",
       "      <td>199</td>\n",
       "    </tr>\n",
       "    <tr>\n",
       "      <th>2</th>\n",
       "      <td>1</td>\n",
       "      <td>ultra</td>\n",
       "      <td>8</td>\n",
       "      <td>6723.470560</td>\n",
       "      <td>46.0</td>\n",
       "      <td>2</td>\n",
       "      <td>6</td>\n",
       "      <td>0</td>\n",
       "      <td>199</td>\n",
       "    </tr>\n",
       "    <tr>\n",
       "      <th>3</th>\n",
       "      <td>1</td>\n",
       "      <td>ultra</td>\n",
       "      <td>10</td>\n",
       "      <td>5809.911100</td>\n",
       "      <td>32.0</td>\n",
       "      <td>2</td>\n",
       "      <td>6</td>\n",
       "      <td>0</td>\n",
       "      <td>199</td>\n",
       "    </tr>\n",
       "    <tr>\n",
       "      <th>4</th>\n",
       "      <td>1</td>\n",
       "      <td>ultra</td>\n",
       "      <td>11</td>\n",
       "      <td>7003.499363</td>\n",
       "      <td>56.0</td>\n",
       "      <td>3</td>\n",
       "      <td>6</td>\n",
       "      <td>0</td>\n",
       "      <td>199</td>\n",
       "    </tr>\n",
       "    <tr>\n",
       "      <th>5</th>\n",
       "      <td>1</td>\n",
       "      <td>ultra</td>\n",
       "      <td>12</td>\n",
       "      <td>6751.629942</td>\n",
       "      <td>28.0</td>\n",
       "      <td>2</td>\n",
       "      <td>6</td>\n",
       "      <td>0</td>\n",
       "      <td>199</td>\n",
       "    </tr>\n",
       "    <tr>\n",
       "      <th>6</th>\n",
       "      <td>2</td>\n",
       "      <td>ultra</td>\n",
       "      <td>3</td>\n",
       "      <td>10187.723006</td>\n",
       "      <td>63.0</td>\n",
       "      <td>3</td>\n",
       "      <td>6</td>\n",
       "      <td>0</td>\n",
       "      <td>199</td>\n",
       "    </tr>\n",
       "    <tr>\n",
       "      <th>7</th>\n",
       "      <td>2</td>\n",
       "      <td>ultra</td>\n",
       "      <td>4</td>\n",
       "      <td>6164.381824</td>\n",
       "      <td>40.0</td>\n",
       "      <td>2</td>\n",
       "      <td>6</td>\n",
       "      <td>0</td>\n",
       "      <td>199</td>\n",
       "    </tr>\n",
       "    <tr>\n",
       "      <th>8</th>\n",
       "      <td>2</td>\n",
       "      <td>ultra</td>\n",
       "      <td>6</td>\n",
       "      <td>3255.338202</td>\n",
       "      <td>14.0</td>\n",
       "      <td>1</td>\n",
       "      <td>6</td>\n",
       "      <td>0</td>\n",
       "      <td>199</td>\n",
       "    </tr>\n",
       "    <tr>\n",
       "      <th>9</th>\n",
       "      <td>2</td>\n",
       "      <td>ultra</td>\n",
       "      <td>7</td>\n",
       "      <td>6780.722964</td>\n",
       "      <td>48.0</td>\n",
       "      <td>2</td>\n",
       "      <td>6</td>\n",
       "      <td>0</td>\n",
       "      <td>199</td>\n",
       "    </tr>\n",
       "  </tbody>\n",
       "</table>\n",
       "</div>"
      ],
      "text/plain": [
       "   user_id subscription_type  month  sum_distance  sum_duration  count  \\\n",
       "0        1             ultra      1   7027.511294          42.0      2   \n",
       "1        1             ultra      4    754.159807           7.0      1   \n",
       "2        1             ultra      8   6723.470560          46.0      2   \n",
       "3        1             ultra     10   5809.911100          32.0      2   \n",
       "4        1             ultra     11   7003.499363          56.0      3   \n",
       "5        1             ultra     12   6751.629942          28.0      2   \n",
       "6        2             ultra      3  10187.723006          63.0      3   \n",
       "7        2             ultra      4   6164.381824          40.0      2   \n",
       "8        2             ultra      6   3255.338202          14.0      1   \n",
       "9        2             ultra      7   6780.722964          48.0      2   \n",
       "\n",
       "   minute_price  start_ride_price  subscription_fee  \n",
       "0             6                 0               199  \n",
       "1             6                 0               199  \n",
       "2             6                 0               199  \n",
       "3             6                 0               199  \n",
       "4             6                 0               199  \n",
       "5             6                 0               199  \n",
       "6             6                 0               199  \n",
       "7             6                 0               199  \n",
       "8             6                 0               199  \n",
       "9             6                 0               199  "
      ]
     },
     "execution_count": 34,
     "metadata": {},
     "output_type": "execute_result"
    }
   ],
   "source": [
    "data_agr.head(10)"
   ]
  },
  {
   "cell_type": "code",
   "execution_count": 35,
   "id": "11981ee6",
   "metadata": {},
   "outputs": [],
   "source": [
    "data_agr['profit'] = data_agr['sum_duration'] * data_agr['minute_price'] + \\\n",
    "data_agr['count'] * data_agr['start_ride_price'] + data_agr['subscription_fee']\n",
    "# Рассчёт профита."
   ]
  },
  {
   "cell_type": "markdown",
   "id": "423e9211",
   "metadata": {},
   "source": [
    "### Проверка гипотез"
   ]
  },
  {
   "cell_type": "markdown",
   "id": "a7567353",
   "metadata": {},
   "source": [
    "#### Тратят ли пользователи с подпиской больше времени на поездки?"
   ]
  },
  {
   "cell_type": "markdown",
   "id": "7c2f1d77",
   "metadata": {},
   "source": [
    "<span style=\"color:purple\"><b>Гипотеза h0 - обе категории пользователей тратят на поездки одно и тоже время. \\\n",
    "Гипотеза h1 - пользователи с подпиской тратят больше времени на поездки.</b></span>"
   ]
  },
  {
   "cell_type": "code",
   "execution_count": 36,
   "id": "48ab89f3",
   "metadata": {
    "scrolled": true
   },
   "outputs": [
    {
     "name": "stdout",
     "output_type": "stream",
     "text": [
      "pvalue 1.0424793873135756e-19\n",
      "Отвергаем нулевую гипотезу в пользу альтернативной\n"
     ]
    }
   ],
   "source": [
    "alpha = 0.05\n",
    "results = st.ttest_rel(data_subs_on['duration'], \n",
    "                       data_subs_off['duration'].sample(n = 6500), alternative='greater')\n",
    "\n",
    "print('pvalue', results.pvalue)\n",
    "if (results.pvalue < alpha):\n",
    "    print(\"Отвергаем нулевую гипотезу в пользу альтернативной\")\n",
    "else:\n",
    "    print(\"Опровергнуть нулевую гипотезу нельзя\")"
   ]
  },
  {
   "cell_type": "code",
   "execution_count": 37,
   "id": "aa068ccc",
   "metadata": {},
   "outputs": [
    {
     "name": "stdout",
     "output_type": "stream",
     "text": [
      "Средняя продолжительность поездки пользователей с подпиской = 18.54198516280583\n",
      "Средняя продолжительность поездки пользователей без подписки = 17.530771268800226\n"
     ]
    }
   ],
   "source": [
    "print('Средняя продолжительность поездки пользователей с подпиской =', data_subs_on['duration'].mean())\n",
    "print('Средняя продолжительность поездки пользователей без подписки =', data_subs_off['duration'].mean())"
   ]
  },
  {
   "cell_type": "markdown",
   "id": "760ddcac",
   "metadata": {},
   "source": [
    "<span style=\"color:purple\"><b>P-значение, основаного на результате правостороннего t-теста парных выборок меньше установленного уровня значимости alpha равному 0.05%, что отвергает гипотезу h0. Пользователи с подпиской тратят больше времени на поездку.</b></span>"
   ]
  },
  {
   "cell_type": "markdown",
   "id": "77f445fc",
   "metadata": {},
   "source": [
    "#### Можно ли сказать, что расстояние, которое проезжают пользователи с подпиской за одну поездку, не превышает 3130 метров? "
   ]
  },
  {
   "cell_type": "markdown",
   "id": "b9aa2625",
   "metadata": {},
   "source": [
    "<span style=\"color:purple\"><b>Гипотеза h0 - Пользователи с подпиской проезжают не более 3130 метров за одну поездку. \\\n",
    "Гипотеза h1 - Пользователи с подпиской проезжают за одну поездку более 3130 метров.</b></span>"
   ]
  },
  {
   "cell_type": "code",
   "execution_count": 38,
   "id": "c1e7b03c",
   "metadata": {},
   "outputs": [
    {
     "name": "stdout",
     "output_type": "stream",
     "text": [
      "pvalue 0.9264356652998772\n",
      "Опровергнуть нулевую гипотезу нельзя\n"
     ]
    }
   ],
   "source": [
    "dist = data_subs_on['distance'].astype('int')\n",
    "alpha = 0.05\n",
    "value = 3130\n",
    "results = st.ttest_1samp(dist, value, alternative='greater')\n",
    "print('pvalue', results.pvalue)\n",
    "if (results.pvalue < alpha):\n",
    "    print(\"Отвергаем нулевую гипотезу в пользу альтернативной\")\n",
    "else:\n",
    "    print(\"Опровергнуть нулевую гипотезу нельзя\")"
   ]
  },
  {
   "cell_type": "code",
   "execution_count": 39,
   "id": "5bc9979b",
   "metadata": {},
   "outputs": [
    {
     "data": {
      "text/plain": [
       "3115.4453880370247"
      ]
     },
     "execution_count": 39,
     "metadata": {},
     "output_type": "execute_result"
    }
   ],
   "source": [
    "data_subs_on['distance'].mean()"
   ]
  },
  {
   "cell_type": "code",
   "execution_count": 40,
   "id": "2fc0cff6",
   "metadata": {},
   "outputs": [
    {
     "data": {
      "text/html": [
       "<div>\n",
       "<style scoped>\n",
       "    .dataframe tbody tr th:only-of-type {\n",
       "        vertical-align: middle;\n",
       "    }\n",
       "\n",
       "    .dataframe tbody tr th {\n",
       "        vertical-align: top;\n",
       "    }\n",
       "\n",
       "    .dataframe thead th {\n",
       "        text-align: right;\n",
       "    }\n",
       "</style>\n",
       "<table border=\"1\" class=\"dataframe\">\n",
       "  <thead>\n",
       "    <tr style=\"text-align: right;\">\n",
       "      <th></th>\n",
       "      <th>user_id</th>\n",
       "      <th>age</th>\n",
       "      <th>distance</th>\n",
       "      <th>duration</th>\n",
       "      <th>month</th>\n",
       "      <th>minute_price</th>\n",
       "      <th>start_ride_price</th>\n",
       "      <th>subscription_fee</th>\n",
       "    </tr>\n",
       "  </thead>\n",
       "  <tbody>\n",
       "    <tr>\n",
       "      <th>count</th>\n",
       "      <td>6500.000000</td>\n",
       "      <td>6500.000000</td>\n",
       "      <td>6500.000000</td>\n",
       "      <td>6500.000000</td>\n",
       "      <td>6500.000000</td>\n",
       "      <td>6500.0</td>\n",
       "      <td>6500.0</td>\n",
       "      <td>6500.0</td>\n",
       "    </tr>\n",
       "    <tr>\n",
       "      <th>mean</th>\n",
       "      <td>348.725385</td>\n",
       "      <td>24.892615</td>\n",
       "      <td>3115.445388</td>\n",
       "      <td>18.541985</td>\n",
       "      <td>6.422308</td>\n",
       "      <td>6.0</td>\n",
       "      <td>0.0</td>\n",
       "      <td>199.0</td>\n",
       "    </tr>\n",
       "    <tr>\n",
       "      <th>std</th>\n",
       "      <td>201.099339</td>\n",
       "      <td>4.757208</td>\n",
       "      <td>836.895330</td>\n",
       "      <td>5.572048</td>\n",
       "      <td>3.414616</td>\n",
       "      <td>0.0</td>\n",
       "      <td>0.0</td>\n",
       "      <td>0.0</td>\n",
       "    </tr>\n",
       "    <tr>\n",
       "      <th>min</th>\n",
       "      <td>1.000000</td>\n",
       "      <td>12.000000</td>\n",
       "      <td>244.210438</td>\n",
       "      <td>3.760353</td>\n",
       "      <td>1.000000</td>\n",
       "      <td>6.0</td>\n",
       "      <td>0.0</td>\n",
       "      <td>199.0</td>\n",
       "    </tr>\n",
       "    <tr>\n",
       "      <th>25%</th>\n",
       "      <td>175.000000</td>\n",
       "      <td>22.000000</td>\n",
       "      <td>2785.444017</td>\n",
       "      <td>14.524654</td>\n",
       "      <td>4.000000</td>\n",
       "      <td>6.0</td>\n",
       "      <td>0.0</td>\n",
       "      <td>199.0</td>\n",
       "    </tr>\n",
       "    <tr>\n",
       "      <th>50%</th>\n",
       "      <td>351.000000</td>\n",
       "      <td>25.000000</td>\n",
       "      <td>3148.637229</td>\n",
       "      <td>18.178153</td>\n",
       "      <td>6.000000</td>\n",
       "      <td>6.0</td>\n",
       "      <td>0.0</td>\n",
       "      <td>199.0</td>\n",
       "    </tr>\n",
       "    <tr>\n",
       "      <th>75%</th>\n",
       "      <td>525.000000</td>\n",
       "      <td>28.000000</td>\n",
       "      <td>3560.574425</td>\n",
       "      <td>21.884129</td>\n",
       "      <td>9.000000</td>\n",
       "      <td>6.0</td>\n",
       "      <td>0.0</td>\n",
       "      <td>199.0</td>\n",
       "    </tr>\n",
       "    <tr>\n",
       "      <th>max</th>\n",
       "      <td>699.000000</td>\n",
       "      <td>38.000000</td>\n",
       "      <td>5699.769662</td>\n",
       "      <td>40.823963</td>\n",
       "      <td>12.000000</td>\n",
       "      <td>6.0</td>\n",
       "      <td>0.0</td>\n",
       "      <td>199.0</td>\n",
       "    </tr>\n",
       "  </tbody>\n",
       "</table>\n",
       "</div>"
      ],
      "text/plain": [
       "           user_id          age     distance     duration        month  \\\n",
       "count  6500.000000  6500.000000  6500.000000  6500.000000  6500.000000   \n",
       "mean    348.725385    24.892615  3115.445388    18.541985     6.422308   \n",
       "std     201.099339     4.757208   836.895330     5.572048     3.414616   \n",
       "min       1.000000    12.000000   244.210438     3.760353     1.000000   \n",
       "25%     175.000000    22.000000  2785.444017    14.524654     4.000000   \n",
       "50%     351.000000    25.000000  3148.637229    18.178153     6.000000   \n",
       "75%     525.000000    28.000000  3560.574425    21.884129     9.000000   \n",
       "max     699.000000    38.000000  5699.769662    40.823963    12.000000   \n",
       "\n",
       "       minute_price  start_ride_price  subscription_fee  \n",
       "count        6500.0            6500.0            6500.0  \n",
       "mean            6.0               0.0             199.0  \n",
       "std             0.0               0.0               0.0  \n",
       "min             6.0               0.0             199.0  \n",
       "25%             6.0               0.0             199.0  \n",
       "50%             6.0               0.0             199.0  \n",
       "75%             6.0               0.0             199.0  \n",
       "max             6.0               0.0             199.0  "
      ]
     },
     "execution_count": 40,
     "metadata": {},
     "output_type": "execute_result"
    }
   ],
   "source": [
    "data_subs_on.describe()"
   ]
  },
  {
   "cell_type": "markdown",
   "id": "4ce74e19",
   "metadata": {},
   "source": [
    "<span style=\"color:purple\"><b>P-значение полученное на основе правостороннего t-теста превышает уровень значимости alpha равный 0.05 не подтверждает гипотезу h1. Преодоленное расстояние за одну поездку не превышает 3130 метров.</b></span>"
   ]
  },
  {
   "cell_type": "markdown",
   "id": "7e102126",
   "metadata": {},
   "source": [
    "#### Будет ли помесячная выручка от пользователей с подпиской по месяцам выше, чем выручка от пользователей без подписки. "
   ]
  },
  {
   "cell_type": "markdown",
   "id": "b726bde3",
   "metadata": {},
   "source": [
    "<span style=\"color:purple\"><b>Гипотеза h0 - Помесячная выручка обоих категорий пользователей примерно равна. \\\n",
    "Гипотеза h1 - Помесячная выручка от пользователей с подпиской выше.</b></span>"
   ]
  },
  {
   "cell_type": "code",
   "execution_count": 41,
   "id": "2b5baace",
   "metadata": {},
   "outputs": [
    {
     "name": "stdout",
     "output_type": "stream",
     "text": [
      "p-value 3.4599607615671093e-31\n",
      "Отвергаем нулевую гипотезу в пользу альтернативной\n"
     ]
    }
   ],
   "source": [
    "alpha = 0.05\n",
    "\n",
    "results = st.ttest_rel(data_agr[data_agr['subscription_type'] == 'ultra']['profit'], \n",
    "                       data_agr[data_agr['subscription_type'] == 'free']['profit'].sample(n = 4533), alternative='greater')\n",
    "\n",
    "print('p-value', results.pvalue)\n",
    "\n",
    "if (results.pvalue < alpha):\n",
    "    print(\"Отвергаем нулевую гипотезу в пользу альтернативной\")\n",
    "else:\n",
    "    print(\"Опровергнуть нулевую гипотезу нельзя\")"
   ]
  },
  {
   "cell_type": "code",
   "execution_count": 42,
   "id": "29c88123",
   "metadata": {},
   "outputs": [
    {
     "name": "stdout",
     "output_type": "stream",
     "text": [
      "Средняя выручка пользователей с подпиской = 362.7921906022502\n",
      "Средняя выручка пользователей без подписки = 329.3326437121324\n",
      "\n"
     ]
    }
   ],
   "source": [
    "print('Средняя выручка пользователей с подпиской =', data_agr[data_agr['subscription_type'] == 'ultra']['profit'].mean())\n",
    "print('Средняя выручка пользователей без подписки =', data_agr[data_agr['subscription_type'] == 'free']['profit'].mean())\n",
    "\n",
    "print()"
   ]
  },
  {
   "cell_type": "markdown",
   "id": "d52da36a",
   "metadata": {},
   "source": [
    "<span style=\"color:purple\"><b>P-значение, основаного на результате правостороннего t-теста парных выборок меньше установленного уровня значимости alpha равному 0.05%, что отвергает гипотезу h0. Помесячная выручка от пользователей с подпиской выше.</b></span>"
   ]
  },
  {
   "cell_type": "code",
   "execution_count": 43,
   "id": "d77ca55e",
   "metadata": {},
   "outputs": [
    {
     "name": "stdout",
     "output_type": "stream",
     "text": [
      "p-value 3.4599607615671093e-31\n",
      "Отвергаем нулевую гипотезу в пользу альтернативной\n",
      "Средняя длительность поездки Ultra 362.7921906022502\n",
      "Средняя длительность поездки Free 329.3326437121324\n"
     ]
    }
   ],
   "source": [
    "# код ревьюера\n",
    "print('p-value', results.pvalue)\n",
    "\n",
    "if (results.pvalue < alpha):\n",
    "    print(\"Отвергаем нулевую гипотезу в пользу альтернативной\")\n",
    "else:\n",
    "    print(\"Опровергнуть нулевую гипотезу нельзя\")\n",
    "\n",
    "print('Средняя длительность поездки Ultra', data_agr[data_agr['subscription_type'] == 'ultra']['profit'].mean())\n",
    "print('Средняя длительность поездки Free', data_agr[data_agr['subscription_type'] == 'free']['profit'].mean())"
   ]
  },
  {
   "cell_type": "markdown",
   "id": "acfdf769",
   "metadata": {},
   "source": [
    "#### Представьте такую ситуацию: техническая команда сервиса обновила сервера, с которыми взаимодействует мобильное приложение. Она надеется, что из-за этого количество обращений в техподдержку значимо снизилось. Некоторый файл содержит для каждого пользователя данные о количестве обращений до обновления и после него. Какой тест вам понадобился бы для проверки этой гипотезы?"
   ]
  },
  {
   "cell_type": "markdown",
   "id": "ad70b1cb",
   "metadata": {},
   "source": [
    "<span style=\"color:purple\"><b>Чтобы проверить гипотезу о равенстве среднего генеральной совокупности для зависимых (парных) выборок в Python, применим метод о равенстве среднего значения генеральной совокупности до и после изменения. Метод scipy.stats.ttest_rel()</b></span>"
   ]
  },
  {
   "cell_type": "markdown",
   "id": "6f05ad8b",
   "metadata": {},
   "source": [
    "### Распределения"
   ]
  },
  {
   "cell_type": "markdown",
   "id": "a14dac09",
   "metadata": {},
   "source": [
    "#### Отделу маркетинга GoFast поставили задачу: нужно провести акцию с раздачей промокодов на один бесплатный месяц подписки, в рамках которой как минимум 100 существующих клиентов должны продлить эту подписку. То есть по завершении периода действия подписки пользователь может либо отказаться от неё, либо продлить, совершив соотвествующий платёж. Эта акция уже проводилась ранее и по итогу выяснилось, что после бесплатного пробного периода подписку продлевают 10% пользователей. Выясните, какое минимальное количество промокодов нужно разослать, чтобы вероятность не выполнить план была примерно 5 %."
   ]
  },
  {
   "cell_type": "code",
   "execution_count": 44,
   "id": "29b1d8b3",
   "metadata": {},
   "outputs": [
    {
     "name": "stdout",
     "output_type": "stream",
     "text": [
      "0.05762489347496267\n",
      "вероятность не выполнить план: 4.971%\n",
      "количество промокодов: 1169\n"
     ]
    }
   ],
   "source": [
    "for i in range(1100, 1200):\n",
    "    mu = i * 0.1             # Математическое ожидание биноминального распределения.\n",
    "    sigma = (i*0.1*0.9)**0.5 # Стандартное отклонение биноминального распределения.\n",
    "    distr = st.norm(mu, sigma)\n",
    "    x = 100 # Количество подписок.\n",
    "    result = distr.cdf(x)\n",
    "    if i == 1161:\n",
    "        print(result)\n",
    "    if result < 0.05:\n",
    "        print('вероятность не выполнить план: ', round(result,5)*100,'%', sep='')\n",
    "        print('количество промокодов:', i)\n",
    "        break\n",
    "    "
   ]
  },
  {
   "cell_type": "markdown",
   "id": "71fc3b53",
   "metadata": {},
   "source": [
    "<span style=\"color:purple\"><b>Отделу маркетинга надо разослать минимум 1169 промокодов что-бы вероятность не выполнения плана была не более 5%</b></span>"
   ]
  },
  {
   "cell_type": "code",
   "execution_count": 45,
   "id": "66c5e744",
   "metadata": {},
   "outputs": [
    {
     "name": "stdout",
     "output_type": "stream",
     "text": [
      "\n"
     ]
    },
    {
     "data": {
      "image/png": "[encoded data removed]",
      "text/plain": [
       "<Figure size 1080x360 with 1 Axes>"
      ]
     },
     "metadata": {
      "needs_background": "light"
     },
     "output_type": "display_data"
    }
   ],
   "source": [
    "n = 1169 # количество попыток\n",
    "p = 0.1 # вероятность успеха\n",
    "distr = []\n",
    "for k in range(0, n + 1):\n",
    "    choose = factorial(n) // (factorial(k) * factorial(n - k))\n",
    "    prob = choose // (10**k) * (1 - p)**(n - k) \n",
    "    distr.append(prob)\n",
    "x = [i for i in range(0, n + 1)]\n",
    "d = {'col1': x, 'col2': distr}\n",
    "df = pd.DataFrame(data=d)\n",
    "df = df[df['col2'] > 0.0001]\n",
    "f = df.plot(x='col1', y='col2', figsize=(15, 5), grid=True, legend=False)\n",
    "f.set_xticks(np.arange(80,160,5))\n",
    "f.set_xlabel('Количество новых подписок', fontsize='12', fontweight='bold')\n",
    "f.set_ylabel('Вероятность 1/10', fontsize='12', fontweight='bold')\n",
    "f.set_title('График распределения вероятности', fontsize='12', fontweight='bold')\n",
    "print()"
   ]
  },
  {
   "cell_type": "markdown",
   "id": "64f6602c",
   "metadata": {},
   "source": [
    "<span style=\"color:purple\"><b>График распределения вероятности при выдаче 1169 промокодов. \\\n",
    "     Вероятность не выполнить план: 4.971%</b></span>"
   ]
  },
  {
   "cell_type": "code",
   "execution_count": 46,
   "id": "94fa7fd9",
   "metadata": {},
   "outputs": [
    {
     "name": "stdout",
     "output_type": "stream",
     "text": [
      "вероятность не выполнить план: 4.976%\n",
      "количество промокодов: 1161\n"
     ]
    }
   ],
   "source": [
    "for i in range(1100, 1200):\n",
    "    sigma = 0.1\n",
    "    x = 100 # Количество подписок.\n",
    "    result = binom.cdf(x - 1, i, sigma)\n",
    "    if result < 0.05:\n",
    "        print('вероятность не выполнить план: ', round(result,5)*100,'%', sep='')\n",
    "        print('количество промокодов:', i)\n",
    "        break"
   ]
  },
  {
   "cell_type": "code",
   "execution_count": 47,
   "id": "00411545",
   "metadata": {},
   "outputs": [
    {
     "name": "stdout",
     "output_type": "stream",
     "text": [
      "Минимальное количество промокодов: 1161\n",
      "Вероятность не выполнить план при таком количестве промокодов: 4.976%\n"
     ]
    }
   ],
   "source": [
    "# Код ревьюера\n",
    "\n",
    "target_clients = 100  # Целевое количество клиентов для продления подписки\n",
    "p_renewal = 0.1       # Вероятность продления подписки\n",
    "\n",
    "# Подбор значения параметра n\n",
    "n = 1\n",
    "while binom.cdf(target_clients - 1, n, p_renewal) > 0.05:\n",
    "    n += 1\n",
    "\n",
    "# Вывод \n",
    "print(f\"Минимальное количество промокодов: {n}\")\n",
    "print(f\"Вероятность не выполнить план при таком количестве промокодов: {binom.cdf(target_clients - 1, n, p_renewal):.3%}\")"
   ]
  },
  {
   "cell_type": "markdown",
   "id": "06b87a99",
   "metadata": {},
   "source": [
    "#### Отдел маркетинга рассылает клиентам push-уведомления в мобильном приложении. Клиенты могут открыть его или не открывать. Известно, что уведомления открывают около 40% получивших клиентов. Отдел планирует разослать 1 млн уведомлений. С помощью аппроксимации постройте примерный график распределения и оцените вероятность того, что уведомление откроют не более 399,5 тыс. пользователей."
   ]
  },
  {
   "cell_type": "code",
   "execution_count": 48,
   "id": "89f289a3",
   "metadata": {},
   "outputs": [
    {
     "name": "stdout",
     "output_type": "stream",
     "text": [
      "0.1537\n"
     ]
    }
   ],
   "source": [
    "# задаём параметры биномиального распределения\n",
    "\n",
    "n = 1000000 # количество попыток\n",
    "p = 0.4 # вероятность успеха\n",
    "\n",
    "mu = n * p # Мат. ожидание.\n",
    "\n",
    "sigma = (n * p * (1 - p))**0.5 # Стандартное отклонение.\n",
    "\n",
    "# задаём нормальное распределение\n",
    "distr = st.norm(mu, sigma) \n",
    "\n",
    "# считаем вероятность левого хвоста от 399.5 тысяч\n",
    "result = distr.cdf(399500)\n",
    "print(round(result, 4))"
   ]
  },
  {
   "cell_type": "markdown",
   "id": "f85cbf21",
   "metadata": {},
   "source": [
    "<span style=\"color:purple\"><b>Вероятность того что уведомление откроют не более 399.5 тысяч пользователей 15.3%</b></span>"
   ]
  },
  {
   "cell_type": "code",
   "execution_count": 49,
   "id": "0f202838",
   "metadata": {},
   "outputs": [
    {
     "name": "stdout",
     "output_type": "stream",
     "text": [
      "Условие выполняется\n",
      "\n"
     ]
    },
    {
     "data": {
      "image/png": "[encoded data removed]",
      "text/plain": [
       "<Figure size 1080x360 with 1 Axes>"
      ]
     },
     "metadata": {
      "needs_background": "light"
     },
     "output_type": "display_data"
    }
   ],
   "source": [
    "def linspace(start, stop, num):\n",
    "    step = (stop - start) / (num - 1)\n",
    "    result = []                              # Функция создающая список для нормального распределения.\n",
    "    for i in range(num):\n",
    "        result.append(start + step * i)\n",
    "    return result\n",
    "\n",
    "n = 1000000            # Наши значения\n",
    "p = 0.4\n",
    "\n",
    "left = int(n * p - 4 * sqrt(n * p * (1 - p)))          # Границы интервала относительно наших значений.\n",
    "right = int(n * p + 4 * sqrt(n * p * (1 - p)))\n",
    "\n",
    "x = list(range(max(0, left), right))                   # Интервал - список.\n",
    "y = binom.pmf(x, n, p)\n",
    "\n",
    "d = {'col1': x, 'Аппроксимация': y}\n",
    "df = pd.DataFrame(data=d)\n",
    "f = df.plot(x='col1', y='Аппроксимация', figsize=(15, 5), grid=True, legend=True) # Тут почему-то нельзя указывать параметры линии.\n",
    "\n",
    "f.plot(x, y, 'bo', alpha=0.05, label='Аппроксимация') # В общем только через одно место получается задавать параметры.\n",
    "                                                      # И то не всё работает.\n",
    "f.set_xlabel('Количество открытых уведомлений', fontsize='12', fontweight='bold')\n",
    "f.set_ylabel('Вероятность', fontsize='12', fontweight='bold')\n",
    "\n",
    "mu = n * p\n",
    "sigma = sqrt(n * p * (1 - p))\n",
    " \n",
    "x = linspace(left, right, 100)       # График нормального распределения.\n",
    "y = norm.pdf(x, mu, sigma)\n",
    "f.plot(x, y, 'r-', lw=3, label='asdf') # Я не понимаю почему одни и теже параметры то работают то нет, то их оказывается вообще\n",
    "                                       # нельзя указывать, хотя тут же в другом графике указывал и всё можно было.\n",
    "\n",
    "if (mu - (3 * sigma) >= 0) and ((mu + (3 * sigma) <= n)):  # Проверка на верность выполнения аппроксимации\n",
    "    print('Условие выполняется')\n",
    "else:\n",
    "    print('Условие не выполняется')\n",
    "\n",
    "print()"
   ]
  },
  {
   "cell_type": "markdown",
   "id": "c1fe13de",
   "metadata": {},
   "source": [
    "<span style=\"color:purple\"><b>Аппроксимация проходит по нормальному распределению.</b></span>"
   ]
  },
  {
   "cell_type": "markdown",
   "id": "49dd2b2d",
   "metadata": {},
   "source": [
    "## Общий вывод:"
   ]
  },
  {
   "cell_type": "markdown",
   "id": "a9905958",
   "metadata": {},
   "source": [
    "### Предобработка данных"
   ]
  },
  {
   "cell_type": "markdown",
   "id": "90f2e383",
   "metadata": {},
   "source": [
    "* *Тип данных дат переведены в datetime64[ns], добавлен столбец с номером месяца*\n",
    "* *Были обнаружены и удалены дубликаты в df users_go.*\n",
    "* *Обнаружены и удалены аномальные значения в датасете rides_go, в столбцах duration и distance."
   ]
  },
  {
   "cell_type": "markdown",
   "id": "b379158e",
   "metadata": {},
   "source": [
    "### Исследовательский анализ данных"
   ]
  },
  {
   "cell_type": "markdown",
   "id": "b1d8cb34",
   "metadata": {},
   "source": [
    "* *В общем 8 городов. Чаще встречается город Пятигорск, реже всего Москва.*\n",
    "* *Соотношение пользователей с подпиской и без = 1.195, 46% и 54% соответственно.*\n",
    "* *Основная масса пользователей в возрасте от 22 до 28 лет. Средний возраст пользователей 24 года.*\n",
    "* *Основная масса пользователей за одну поездку проезжает от 2.5 до 3.8км*\n",
    "* *В основном продолжительность поездки состоявляет от 14 до 22 минут*\n",
    "* *Пользователи с подпиской чаще ездят на одни и теже расстояния.*\n",
    "* *У пользователей с подпиской и без примерно одинаковое распределение продолжительности поездок*"
   ]
  },
  {
   "cell_type": "markdown",
   "id": "7e7e1d1e",
   "metadata": {},
   "source": [
    "### Проверка гипотез"
   ]
  },
  {
   "cell_type": "markdown",
   "id": "3fa5353b",
   "metadata": {},
   "source": [
    "#### Тратят ли пользователи с подпиской больше времени на поездки?"
   ]
  },
  {
   "cell_type": "markdown",
   "id": "bb9ed4a2",
   "metadata": {},
   "source": [
    "* *Гипотеза проверялась правосторонним равенством среднего значения генеральной совокупности и показала что пользователи с подпиской тратят больше времени на поездки*"
   ]
  },
  {
   "cell_type": "markdown",
   "id": "a4fe4406",
   "metadata": {},
   "source": [
    "#### Можно ли сказать, что расстояние, которое проезжают пользователи с подпиской за одну поездку, не превышает 3130 метров? "
   ]
  },
  {
   "cell_type": "markdown",
   "id": "b49a0eed",
   "metadata": {},
   "source": [
    "* *Гипотеза проверялась равенством среднего генеральной совокупности числу и показало что расстояние за одну поездку не привышает 3130 метров*"
   ]
  },
  {
   "cell_type": "markdown",
   "id": "d10ace53",
   "metadata": {},
   "source": [
    "#### Будет ли помесячная выручка от пользователей с подпиской по месяцам выше, чем выручка от пользователей без подписки. "
   ]
  },
  {
   "cell_type": "markdown",
   "id": "6f73a1ff",
   "metadata": {},
   "source": [
    "* *Гипотеза проверялась правосторонним равенством среднего значения генеральной совокупности до и после изменения и показала что от пользователей с подпиской по месяцам выше чем выручка от пользоваталей без подписки.*"
   ]
  },
  {
   "cell_type": "markdown",
   "id": "8d3e9caa",
   "metadata": {},
   "source": [
    "### Распределения"
   ]
  },
  {
   "cell_type": "markdown",
   "id": "6bec4521",
   "metadata": {},
   "source": [
    "#### Какое минимальное количество промокодов нужно разослать, чтобы вероятность не выполнить план была примерно 5 %."
   ]
  },
  {
   "cell_type": "markdown",
   "id": "b138478e",
   "metadata": {},
   "source": [
    "* *Функция нормального распределения на основе предидущих данных показала что при рассылке 1161 промокодов вероятность того что будет оформлено менее 100 подписок равна менее 5%*"
   ]
  },
  {
   "cell_type": "markdown",
   "id": "895b6ee9",
   "metadata": {},
   "source": [
    "#### Отдел планирует разослать 1 млн уведомлений. Вероятность что уведомление откроют не более 399,5 тыс. пользователей."
   ]
  },
  {
   "cell_type": "markdown",
   "id": "58d9245c",
   "metadata": {},
   "source": [
    "* *Функция нормального распределения показала что при рассылке 1млн пуш уведомлений вероятность того что его откроют не более 399.5 тыс. пользователей равна 15.3%*"
   ]
  }
 ],
 "metadata": {
  "ExecuteTimeLog": [
   {
    "duration": 56,
    "start_time": "2023-06-19T10:18:26.072Z"
   },
   {
    "duration": 387,
    "start_time": "2023-06-19T10:19:06.985Z"
   },
   {
    "duration": 65,
    "start_time": "2023-06-19T10:19:07.893Z"
   },
   {
    "duration": 76,
    "start_time": "2023-06-19T10:21:45.720Z"
   },
   {
    "duration": 183,
    "start_time": "2023-06-19T10:22:30.233Z"
   },
   {
    "duration": 14,
    "start_time": "2023-06-19T10:22:51.254Z"
   },
   {
    "duration": 9,
    "start_time": "2023-06-19T10:22:59.747Z"
   },
   {
    "duration": 10,
    "start_time": "2023-06-19T10:23:04.527Z"
   },
   {
    "duration": 92,
    "start_time": "2023-06-19T10:26:51.499Z"
   },
   {
    "duration": 75,
    "start_time": "2023-06-19T10:27:44.212Z"
   },
   {
    "duration": 9,
    "start_time": "2023-06-19T10:27:45.598Z"
   },
   {
    "duration": 7,
    "start_time": "2023-06-19T10:27:45.980Z"
   },
   {
    "duration": 7,
    "start_time": "2023-06-19T10:27:47.144Z"
   },
   {
    "duration": 9,
    "start_time": "2023-06-19T10:28:03.284Z"
   },
   {
    "duration": 7,
    "start_time": "2023-06-19T10:28:05.890Z"
   },
   {
    "duration": 10,
    "start_time": "2023-06-19T10:28:11.090Z"
   },
   {
    "duration": 10,
    "start_time": "2023-06-19T10:28:21.447Z"
   },
   {
    "duration": 16,
    "start_time": "2023-06-19T10:33:54.820Z"
   },
   {
    "duration": 17,
    "start_time": "2023-06-19T10:34:04.596Z"
   },
   {
    "duration": 13,
    "start_time": "2023-06-19T10:34:11.413Z"
   },
   {
    "duration": 14,
    "start_time": "2023-06-19T10:36:26.716Z"
   },
   {
    "duration": 7,
    "start_time": "2023-06-19T10:58:22.291Z"
   },
   {
    "duration": 7,
    "start_time": "2023-06-19T11:00:28.043Z"
   },
   {
    "duration": 9,
    "start_time": "2023-06-19T11:00:54.606Z"
   },
   {
    "duration": 6,
    "start_time": "2023-06-19T11:01:01.292Z"
   },
   {
    "duration": 7,
    "start_time": "2023-06-19T11:01:08.319Z"
   },
   {
    "duration": 8,
    "start_time": "2023-06-19T11:02:19.611Z"
   },
   {
    "duration": 5,
    "start_time": "2023-06-19T11:02:31.711Z"
   },
   {
    "duration": 9,
    "start_time": "2023-06-19T11:02:38.846Z"
   },
   {
    "duration": 8,
    "start_time": "2023-06-19T11:02:52.420Z"
   },
   {
    "duration": 13,
    "start_time": "2023-06-19T11:03:53.951Z"
   },
   {
    "duration": 16,
    "start_time": "2023-06-19T11:04:01.518Z"
   },
   {
    "duration": 14,
    "start_time": "2023-06-19T11:04:14.514Z"
   },
   {
    "duration": 9,
    "start_time": "2023-06-19T11:04:31.448Z"
   },
   {
    "duration": 10,
    "start_time": "2023-06-19T11:05:05.771Z"
   },
   {
    "duration": 5,
    "start_time": "2023-06-19T11:06:10.515Z"
   },
   {
    "duration": 11,
    "start_time": "2023-06-19T11:07:34.654Z"
   },
   {
    "duration": 6,
    "start_time": "2023-06-19T11:07:48.669Z"
   },
   {
    "duration": 6,
    "start_time": "2023-06-19T11:08:07.176Z"
   },
   {
    "duration": 10,
    "start_time": "2023-06-19T11:08:22.411Z"
   },
   {
    "duration": 9,
    "start_time": "2023-06-19T11:08:40.355Z"
   },
   {
    "duration": 8,
    "start_time": "2023-06-19T11:08:54.412Z"
   },
   {
    "duration": 4,
    "start_time": "2023-06-19T11:10:12.551Z"
   },
   {
    "duration": 12,
    "start_time": "2023-06-19T11:10:21.012Z"
   },
   {
    "duration": 7,
    "start_time": "2023-06-19T11:11:16.325Z"
   },
   {
    "duration": 5,
    "start_time": "2023-06-19T11:11:20.826Z"
   },
   {
    "duration": 5,
    "start_time": "2023-06-19T11:11:31.172Z"
   },
   {
    "duration": 16,
    "start_time": "2023-06-19T11:11:44.319Z"
   },
   {
    "duration": 269,
    "start_time": "2023-06-19T11:12:10.933Z"
   },
   {
    "duration": 21,
    "start_time": "2023-06-19T11:13:45.517Z"
   },
   {
    "duration": 24,
    "start_time": "2023-06-19T11:13:48.692Z"
   },
   {
    "duration": 25,
    "start_time": "2023-06-19T11:13:55.997Z"
   },
   {
    "duration": 8,
    "start_time": "2023-06-19T11:15:38.928Z"
   },
   {
    "duration": 18,
    "start_time": "2023-06-19T12:31:21.411Z"
   },
   {
    "duration": 22,
    "start_time": "2023-06-19T12:31:25.518Z"
   },
   {
    "duration": 10,
    "start_time": "2023-06-19T12:31:49.927Z"
   },
   {
    "duration": 11,
    "start_time": "2023-06-19T12:31:52.871Z"
   },
   {
    "duration": 9,
    "start_time": "2023-06-19T12:32:01.106Z"
   },
   {
    "duration": 792,
    "start_time": "2023-06-19T14:35:13.163Z"
   },
   {
    "duration": 408,
    "start_time": "2023-06-19T14:35:29.389Z"
   },
   {
    "duration": 501,
    "start_time": "2023-06-19T14:35:49.411Z"
   },
   {
    "duration": 605,
    "start_time": "2023-06-19T14:36:08.822Z"
   },
   {
    "duration": 15,
    "start_time": "2023-06-19T14:36:59.986Z"
   },
   {
    "duration": 288,
    "start_time": "2023-06-19T14:37:02.720Z"
   },
   {
    "duration": 245,
    "start_time": "2023-06-19T14:37:06.883Z"
   },
   {
    "duration": 329,
    "start_time": "2023-06-19T14:44:59.664Z"
   },
   {
    "duration": 11,
    "start_time": "2023-06-19T14:52:48.270Z"
   },
   {
    "duration": 7,
    "start_time": "2023-06-19T14:52:52.321Z"
   },
   {
    "duration": 114,
    "start_time": "2023-06-19T14:55:29.295Z"
   },
   {
    "duration": 119,
    "start_time": "2023-06-19T14:56:22.220Z"
   },
   {
    "duration": 149,
    "start_time": "2023-06-19T14:56:31.973Z"
   },
   {
    "duration": 124,
    "start_time": "2023-06-19T14:58:32.601Z"
   },
   {
    "duration": 312,
    "start_time": "2023-06-19T14:58:46.181Z"
   },
   {
    "duration": 132,
    "start_time": "2023-06-19T14:58:55.286Z"
   },
   {
    "duration": 135,
    "start_time": "2023-06-19T14:58:58.972Z"
   },
   {
    "duration": 7,
    "start_time": "2023-06-19T15:00:30.795Z"
   },
   {
    "duration": 270,
    "start_time": "2023-06-19T15:00:35.140Z"
   },
   {
    "duration": 3,
    "start_time": "2023-06-19T15:00:54.478Z"
   },
   {
    "duration": 5,
    "start_time": "2023-06-19T15:00:59.940Z"
   },
   {
    "duration": 6,
    "start_time": "2023-06-19T15:01:08.133Z"
   },
   {
    "duration": 7,
    "start_time": "2023-06-19T15:01:27.546Z"
   },
   {
    "duration": 6,
    "start_time": "2023-06-19T15:01:38.663Z"
   },
   {
    "duration": 9,
    "start_time": "2023-06-19T15:01:53.150Z"
   },
   {
    "duration": 9,
    "start_time": "2023-06-19T15:02:01.583Z"
   },
   {
    "duration": 6,
    "start_time": "2023-06-19T15:02:06.875Z"
   },
   {
    "duration": 128,
    "start_time": "2023-06-19T15:02:21.473Z"
   },
   {
    "duration": 106,
    "start_time": "2023-06-19T15:02:59.955Z"
   },
   {
    "duration": 127,
    "start_time": "2023-06-19T15:03:35.174Z"
   },
   {
    "duration": 144,
    "start_time": "2023-06-19T15:03:47.713Z"
   },
   {
    "duration": 126,
    "start_time": "2023-06-19T15:04:03.197Z"
   },
   {
    "duration": 136,
    "start_time": "2023-06-19T15:04:49.473Z"
   },
   {
    "duration": 131,
    "start_time": "2023-06-19T15:05:42.450Z"
   },
   {
    "duration": 134,
    "start_time": "2023-06-19T15:06:38.919Z"
   },
   {
    "duration": 155,
    "start_time": "2023-06-19T15:08:39.715Z"
   },
   {
    "duration": 135,
    "start_time": "2023-06-19T15:11:11.872Z"
   },
   {
    "duration": 9,
    "start_time": "2023-06-19T15:22:16.223Z"
   },
   {
    "duration": 10,
    "start_time": "2023-06-19T15:25:16.395Z"
   },
   {
    "duration": 68,
    "start_time": "2023-06-19T15:25:45.796Z"
   },
   {
    "duration": 98,
    "start_time": "2023-06-19T15:26:00.594Z"
   },
   {
    "duration": 97,
    "start_time": "2023-06-19T15:26:09.494Z"
   },
   {
    "duration": 100,
    "start_time": "2023-06-19T15:26:13.195Z"
   },
   {
    "duration": 89,
    "start_time": "2023-06-19T15:26:16.817Z"
   },
   {
    "duration": 83,
    "start_time": "2023-06-19T15:26:21.468Z"
   },
   {
    "duration": 76,
    "start_time": "2023-06-19T15:27:15.183Z"
   },
   {
    "duration": 78,
    "start_time": "2023-06-19T15:28:17.818Z"
   },
   {
    "duration": 104,
    "start_time": "2023-06-19T15:28:31.266Z"
   },
   {
    "duration": 72,
    "start_time": "2023-06-19T15:28:59.805Z"
   },
   {
    "duration": 380,
    "start_time": "2023-06-19T15:29:09.160Z"
   },
   {
    "duration": 81,
    "start_time": "2023-06-19T15:29:17.651Z"
   },
   {
    "duration": 72,
    "start_time": "2023-06-19T15:29:27.442Z"
   },
   {
    "duration": 84,
    "start_time": "2023-06-19T15:30:18.590Z"
   },
   {
    "duration": 82,
    "start_time": "2023-06-19T15:30:27.165Z"
   },
   {
    "duration": 86,
    "start_time": "2023-06-19T15:31:31.594Z"
   },
   {
    "duration": 4,
    "start_time": "2023-06-19T15:35:04.877Z"
   },
   {
    "duration": 9,
    "start_time": "2023-06-19T15:36:47.152Z"
   },
   {
    "duration": 4,
    "start_time": "2023-06-19T15:37:01.624Z"
   },
   {
    "duration": 86,
    "start_time": "2023-06-19T15:37:12.040Z"
   },
   {
    "duration": 80,
    "start_time": "2023-06-19T15:37:31.785Z"
   },
   {
    "duration": 69,
    "start_time": "2023-06-19T15:37:39.418Z"
   },
   {
    "duration": 81,
    "start_time": "2023-06-19T15:38:17.496Z"
   },
   {
    "duration": 73,
    "start_time": "2023-06-19T15:38:37.091Z"
   },
   {
    "duration": 198,
    "start_time": "2023-06-19T15:47:37.823Z"
   },
   {
    "duration": 123,
    "start_time": "2023-06-19T15:47:54.523Z"
   },
   {
    "duration": 184,
    "start_time": "2023-06-19T15:47:59.597Z"
   },
   {
    "duration": 140,
    "start_time": "2023-06-19T15:48:05.188Z"
   },
   {
    "duration": 214,
    "start_time": "2023-06-19T15:48:45.325Z"
   },
   {
    "duration": 76,
    "start_time": "2023-06-19T15:48:52.320Z"
   },
   {
    "duration": 70,
    "start_time": "2023-06-19T15:49:25.824Z"
   },
   {
    "duration": 206,
    "start_time": "2023-06-19T15:50:43.557Z"
   },
   {
    "duration": 220,
    "start_time": "2023-06-19T16:17:51.473Z"
   },
   {
    "duration": 204,
    "start_time": "2023-06-19T16:18:02.647Z"
   },
   {
    "duration": 134,
    "start_time": "2023-06-19T16:18:21.670Z"
   },
   {
    "duration": 209,
    "start_time": "2023-06-19T16:19:04.270Z"
   },
   {
    "duration": 187,
    "start_time": "2023-06-19T16:19:09.073Z"
   },
   {
    "duration": 153,
    "start_time": "2023-06-19T16:19:16.446Z"
   },
   {
    "duration": 181,
    "start_time": "2023-06-19T16:19:51.214Z"
   },
   {
    "duration": 2,
    "start_time": "2023-06-19T16:20:24.981Z"
   },
   {
    "duration": 139,
    "start_time": "2023-06-19T16:20:31.036Z"
   },
   {
    "duration": 167,
    "start_time": "2023-06-19T16:20:35.332Z"
   },
   {
    "duration": 137,
    "start_time": "2023-06-19T16:20:54.046Z"
   },
   {
    "duration": 160,
    "start_time": "2023-06-19T16:21:11.075Z"
   },
   {
    "duration": 176,
    "start_time": "2023-06-19T16:22:16.064Z"
   },
   {
    "duration": 156,
    "start_time": "2023-06-19T16:23:17.574Z"
   },
   {
    "duration": 2,
    "start_time": "2023-06-19T16:23:25.080Z"
   },
   {
    "duration": 171,
    "start_time": "2023-06-19T16:23:31.164Z"
   },
   {
    "duration": 410,
    "start_time": "2023-06-19T16:24:08.140Z"
   },
   {
    "duration": 146,
    "start_time": "2023-06-19T16:24:23.382Z"
   },
   {
    "duration": 148,
    "start_time": "2023-06-19T16:24:29.903Z"
   },
   {
    "duration": 243,
    "start_time": "2023-06-19T16:24:38.867Z"
   },
   {
    "duration": 268,
    "start_time": "2023-06-19T16:24:49.202Z"
   },
   {
    "duration": 261,
    "start_time": "2023-06-19T16:25:03.298Z"
   },
   {
    "duration": 308,
    "start_time": "2023-06-19T16:25:10.426Z"
   },
   {
    "duration": 256,
    "start_time": "2023-06-19T16:25:19.502Z"
   },
   {
    "duration": 215,
    "start_time": "2023-06-19T16:25:25.538Z"
   },
   {
    "duration": 248,
    "start_time": "2023-06-19T16:25:30.573Z"
   },
   {
    "duration": 235,
    "start_time": "2023-06-19T16:25:35.464Z"
   },
   {
    "duration": 219,
    "start_time": "2023-06-19T16:25:44.240Z"
   },
   {
    "duration": 307,
    "start_time": "2023-06-19T16:26:46.097Z"
   },
   {
    "duration": 439,
    "start_time": "2023-06-19T16:26:54.504Z"
   },
   {
    "duration": 66,
    "start_time": "2023-06-19T16:45:04.673Z"
   },
   {
    "duration": 330,
    "start_time": "2023-06-19T16:47:45.952Z"
   },
   {
    "duration": 257,
    "start_time": "2023-06-19T16:48:03.502Z"
   },
   {
    "duration": 279,
    "start_time": "2023-06-19T16:48:07.701Z"
   },
   {
    "duration": 249,
    "start_time": "2023-06-19T16:48:14.687Z"
   },
   {
    "duration": 159,
    "start_time": "2023-06-19T16:48:55.408Z"
   },
   {
    "duration": 132,
    "start_time": "2023-06-19T16:49:11.962Z"
   },
   {
    "duration": 140,
    "start_time": "2023-06-19T16:49:20.707Z"
   },
   {
    "duration": 143,
    "start_time": "2023-06-19T16:50:32.040Z"
   },
   {
    "duration": 159,
    "start_time": "2023-06-19T16:51:06.573Z"
   },
   {
    "duration": 150,
    "start_time": "2023-06-19T16:51:33.044Z"
   },
   {
    "duration": 147,
    "start_time": "2023-06-19T16:51:40.150Z"
   },
   {
    "duration": 163,
    "start_time": "2023-06-19T16:52:01.089Z"
   },
   {
    "duration": 187,
    "start_time": "2023-06-19T16:52:07.415Z"
   },
   {
    "duration": 141,
    "start_time": "2023-06-19T16:52:10.838Z"
   },
   {
    "duration": 153,
    "start_time": "2023-06-19T16:52:34.192Z"
   },
   {
    "duration": 252,
    "start_time": "2023-06-19T16:52:38.938Z"
   },
   {
    "duration": 246,
    "start_time": "2023-06-19T16:52:42.218Z"
   },
   {
    "duration": 282,
    "start_time": "2023-06-19T16:52:48.838Z"
   },
   {
    "duration": 393,
    "start_time": "2023-06-19T16:53:12.257Z"
   },
   {
    "duration": 1445,
    "start_time": "2023-06-19T17:56:30.358Z"
   },
   {
    "duration": 10,
    "start_time": "2023-06-19T17:56:50.544Z"
   },
   {
    "duration": 8,
    "start_time": "2023-06-19T17:56:56.569Z"
   },
   {
    "duration": 158,
    "start_time": "2023-06-19T17:57:22.154Z"
   },
   {
    "duration": 193,
    "start_time": "2023-06-19T17:57:55.577Z"
   },
   {
    "duration": 160,
    "start_time": "2023-06-19T17:58:14.543Z"
   },
   {
    "duration": 177,
    "start_time": "2023-06-19T18:00:33.999Z"
   },
   {
    "duration": 169,
    "start_time": "2023-06-19T18:00:40.411Z"
   },
   {
    "duration": 175,
    "start_time": "2023-06-19T18:00:45.936Z"
   },
   {
    "duration": 202,
    "start_time": "2023-06-19T18:01:08.902Z"
   },
   {
    "duration": 312,
    "start_time": "2023-06-19T18:04:20.487Z"
   },
   {
    "duration": 539,
    "start_time": "2023-06-19T18:04:29.635Z"
   },
   {
    "duration": 324,
    "start_time": "2023-06-19T18:04:40.231Z"
   },
   {
    "duration": 327,
    "start_time": "2023-06-19T18:05:07.388Z"
   },
   {
    "duration": 558,
    "start_time": "2023-06-19T18:05:14.459Z"
   },
   {
    "duration": 379,
    "start_time": "2023-06-19T18:05:34.732Z"
   },
   {
    "duration": 378,
    "start_time": "2023-06-19T18:05:41.273Z"
   },
   {
    "duration": 383,
    "start_time": "2023-06-19T18:06:07.844Z"
   },
   {
    "duration": 399,
    "start_time": "2023-06-19T18:07:03.554Z"
   },
   {
    "duration": 9,
    "start_time": "2023-06-19T18:07:57.615Z"
   },
   {
    "duration": 593,
    "start_time": "2023-06-19T18:08:21.770Z"
   },
   {
    "duration": 18,
    "start_time": "2023-06-19T18:08:24.497Z"
   },
   {
    "duration": 225,
    "start_time": "2023-06-19T18:08:38.381Z"
   },
   {
    "duration": 421,
    "start_time": "2023-06-19T18:08:43.219Z"
   },
   {
    "duration": 488,
    "start_time": "2023-06-19T18:09:13.280Z"
   },
   {
    "duration": 7,
    "start_time": "2023-06-19T18:09:15.877Z"
   },
   {
    "duration": 375,
    "start_time": "2023-06-19T18:11:16.118Z"
   },
   {
    "duration": 70,
    "start_time": "2023-06-19T18:11:16.495Z"
   },
   {
    "duration": 19,
    "start_time": "2023-06-19T18:11:16.566Z"
   },
   {
    "duration": 32,
    "start_time": "2023-06-19T18:11:16.586Z"
   },
   {
    "duration": 12,
    "start_time": "2023-06-19T18:11:16.619Z"
   },
   {
    "duration": 15,
    "start_time": "2023-06-19T18:11:16.632Z"
   },
   {
    "duration": 17,
    "start_time": "2023-06-19T18:11:16.648Z"
   },
   {
    "duration": 16,
    "start_time": "2023-06-19T18:11:16.667Z"
   },
   {
    "duration": 5,
    "start_time": "2023-06-19T18:11:16.684Z"
   },
   {
    "duration": 943,
    "start_time": "2023-06-19T18:11:16.690Z"
   },
   {
    "duration": 296,
    "start_time": "2023-06-19T18:11:17.634Z"
   },
   {
    "duration": 180,
    "start_time": "2023-06-19T18:11:17.931Z"
   },
   {
    "duration": 95,
    "start_time": "2023-06-19T18:11:18.113Z"
   },
   {
    "duration": 249,
    "start_time": "2023-06-19T18:11:18.210Z"
   },
   {
    "duration": 0,
    "start_time": "2023-06-19T18:12:47.729Z"
   },
   {
    "duration": 0,
    "start_time": "2023-06-19T18:12:47.730Z"
   },
   {
    "duration": 3815,
    "start_time": "2023-06-19T18:13:09.479Z"
   },
   {
    "duration": 233,
    "start_time": "2023-06-19T18:13:19.780Z"
   },
   {
    "duration": 1100,
    "start_time": "2023-06-19T18:13:23.450Z"
   },
   {
    "duration": 232,
    "start_time": "2023-06-19T18:14:44.089Z"
   },
   {
    "duration": 233,
    "start_time": "2023-06-19T18:15:19.528Z"
   },
   {
    "duration": 241,
    "start_time": "2023-06-19T18:15:49.869Z"
   },
   {
    "duration": 218,
    "start_time": "2023-06-19T18:16:28.711Z"
   },
   {
    "duration": 226,
    "start_time": "2023-06-19T18:16:35.228Z"
   },
   {
    "duration": 237,
    "start_time": "2023-06-19T18:16:38.399Z"
   },
   {
    "duration": 222,
    "start_time": "2023-06-19T18:17:47.115Z"
   },
   {
    "duration": 382,
    "start_time": "2023-06-19T18:22:54.841Z"
   },
   {
    "duration": 802,
    "start_time": "2023-06-19T18:23:45.515Z"
   },
   {
    "duration": 229,
    "start_time": "2023-06-19T18:24:08.489Z"
   },
   {
    "duration": 1482,
    "start_time": "2023-06-19T18:24:31.580Z"
   },
   {
    "duration": 342,
    "start_time": "2023-06-19T18:24:43.419Z"
   },
   {
    "duration": 477,
    "start_time": "2023-06-19T18:25:08.061Z"
   },
   {
    "duration": 9,
    "start_time": "2023-06-19T18:25:50.423Z"
   },
   {
    "duration": 322,
    "start_time": "2023-06-19T18:28:40.805Z"
   },
   {
    "duration": 359,
    "start_time": "2023-06-19T18:28:59.296Z"
   },
   {
    "duration": 360,
    "start_time": "2023-06-19T18:29:41.379Z"
   },
   {
    "duration": 322,
    "start_time": "2023-06-19T18:31:14.035Z"
   },
   {
    "duration": 319,
    "start_time": "2023-06-19T18:31:28.899Z"
   },
   {
    "duration": 440,
    "start_time": "2023-06-19T18:32:12.347Z"
   },
   {
    "duration": 304,
    "start_time": "2023-06-19T18:32:21.025Z"
   },
   {
    "duration": 312,
    "start_time": "2023-06-19T18:32:36.646Z"
   },
   {
    "duration": 311,
    "start_time": "2023-06-19T18:33:08.848Z"
   },
   {
    "duration": 305,
    "start_time": "2023-06-19T18:33:16.832Z"
   },
   {
    "duration": 365,
    "start_time": "2023-06-19T18:35:24.790Z"
   },
   {
    "duration": 331,
    "start_time": "2023-06-19T18:36:04.150Z"
   },
   {
    "duration": 454,
    "start_time": "2023-06-19T18:36:58.275Z"
   },
   {
    "duration": 413,
    "start_time": "2023-06-19T18:40:07.450Z"
   },
   {
    "duration": 463,
    "start_time": "2023-06-19T18:40:47.478Z"
   },
   {
    "duration": 494,
    "start_time": "2023-06-19T18:41:05.299Z"
   },
   {
    "duration": 481,
    "start_time": "2023-06-19T18:43:09.054Z"
   },
   {
    "duration": 489,
    "start_time": "2023-06-19T18:43:43.276Z"
   },
   {
    "duration": 473,
    "start_time": "2023-06-19T18:44:04.334Z"
   },
   {
    "duration": 470,
    "start_time": "2023-06-19T18:45:54.399Z"
   },
   {
    "duration": 489,
    "start_time": "2023-06-19T18:46:00.679Z"
   },
   {
    "duration": 493,
    "start_time": "2023-06-19T18:49:27.237Z"
   },
   {
    "duration": 568,
    "start_time": "2023-06-19T18:49:42.878Z"
   },
   {
    "duration": 543,
    "start_time": "2023-06-19T18:49:56.735Z"
   },
   {
    "duration": 319,
    "start_time": "2023-06-19T18:50:57.043Z"
   },
   {
    "duration": 567,
    "start_time": "2023-06-19T18:51:14.689Z"
   },
   {
    "duration": 531,
    "start_time": "2023-06-19T18:51:32.093Z"
   },
   {
    "duration": 504,
    "start_time": "2023-06-19T18:51:47.390Z"
   },
   {
    "duration": 493,
    "start_time": "2023-06-19T18:52:09.728Z"
   },
   {
    "duration": 496,
    "start_time": "2023-06-19T18:52:17.836Z"
   },
   {
    "duration": 506,
    "start_time": "2023-06-19T18:52:22.465Z"
   },
   {
    "duration": 561,
    "start_time": "2023-06-19T18:52:37.491Z"
   },
   {
    "duration": 641,
    "start_time": "2023-06-19T18:54:26.416Z"
   },
   {
    "duration": 14,
    "start_time": "2023-06-19T18:55:27.998Z"
   },
   {
    "duration": 336,
    "start_time": "2023-06-19T18:55:56.514Z"
   },
   {
    "duration": 532,
    "start_time": "2023-06-19T18:56:03.967Z"
   },
   {
    "duration": 531,
    "start_time": "2023-06-19T18:56:30.727Z"
   },
   {
    "duration": 565,
    "start_time": "2023-06-19T18:56:57.204Z"
   },
   {
    "duration": 570,
    "start_time": "2023-06-19T18:57:01.196Z"
   },
   {
    "duration": 259,
    "start_time": "2023-06-19T18:59:01.169Z"
   },
   {
    "duration": 253,
    "start_time": "2023-06-19T18:59:18.009Z"
   },
   {
    "duration": 1656,
    "start_time": "2023-06-19T19:00:58.652Z"
   },
   {
    "duration": 252,
    "start_time": "2023-06-19T19:01:33.564Z"
   },
   {
    "duration": 14,
    "start_time": "2023-06-19T19:01:40.070Z"
   },
   {
    "duration": 9,
    "start_time": "2023-06-19T19:01:53.250Z"
   },
   {
    "duration": 5,
    "start_time": "2023-06-19T19:01:56.854Z"
   },
   {
    "duration": 243,
    "start_time": "2023-06-19T19:03:10.656Z"
   },
   {
    "duration": 257,
    "start_time": "2023-06-19T19:03:21.010Z"
   },
   {
    "duration": 247,
    "start_time": "2023-06-19T19:04:13.039Z"
   },
   {
    "duration": 194,
    "start_time": "2023-06-19T19:04:44.298Z"
   },
   {
    "duration": 208,
    "start_time": "2023-06-19T19:05:14.247Z"
   },
   {
    "duration": 272,
    "start_time": "2023-06-19T19:05:20.992Z"
   },
   {
    "duration": 234,
    "start_time": "2023-06-19T19:05:39.450Z"
   },
   {
    "duration": 252,
    "start_time": "2023-06-19T19:05:44.839Z"
   },
   {
    "duration": 257,
    "start_time": "2023-06-19T19:05:57.589Z"
   },
   {
    "duration": 226,
    "start_time": "2023-06-19T19:06:08.519Z"
   },
   {
    "duration": 218,
    "start_time": "2023-06-19T19:06:19.706Z"
   },
   {
    "duration": 356,
    "start_time": "2023-06-19T19:08:08.157Z"
   },
   {
    "duration": 229,
    "start_time": "2023-06-19T19:08:30.297Z"
   },
   {
    "duration": 230,
    "start_time": "2023-06-19T19:08:59.597Z"
   },
   {
    "duration": 10,
    "start_time": "2023-06-20T05:48:38.171Z"
   },
   {
    "duration": 588,
    "start_time": "2023-06-20T05:49:25.066Z"
   },
   {
    "duration": 123,
    "start_time": "2023-06-20T05:49:38.397Z"
   },
   {
    "duration": 210,
    "start_time": "2023-06-20T05:50:15.925Z"
   },
   {
    "duration": 189,
    "start_time": "2023-06-20T05:50:24.138Z"
   },
   {
    "duration": 158,
    "start_time": "2023-06-20T05:50:29.029Z"
   },
   {
    "duration": 180,
    "start_time": "2023-06-20T05:50:33.084Z"
   },
   {
    "duration": 250,
    "start_time": "2023-06-20T05:51:44.746Z"
   },
   {
    "duration": 3,
    "start_time": "2023-06-20T05:52:10.976Z"
   },
   {
    "duration": 236,
    "start_time": "2023-06-20T05:52:21.046Z"
   },
   {
    "duration": 264,
    "start_time": "2023-06-20T05:52:25.299Z"
   },
   {
    "duration": 246,
    "start_time": "2023-06-20T05:52:58.581Z"
   },
   {
    "duration": 244,
    "start_time": "2023-06-20T05:53:17.523Z"
   },
   {
    "duration": 231,
    "start_time": "2023-06-20T05:53:26.961Z"
   },
   {
    "duration": 8,
    "start_time": "2023-06-20T16:40:25.473Z"
   },
   {
    "duration": 11,
    "start_time": "2023-06-20T16:41:02.525Z"
   },
   {
    "duration": 23,
    "start_time": "2023-06-20T16:41:14.093Z"
   },
   {
    "duration": 429,
    "start_time": "2023-06-20T16:41:37.620Z"
   },
   {
    "duration": 198,
    "start_time": "2023-06-20T16:41:38.051Z"
   },
   {
    "duration": 21,
    "start_time": "2023-06-20T16:41:38.251Z"
   },
   {
    "duration": 14,
    "start_time": "2023-06-20T16:41:38.273Z"
   },
   {
    "duration": 15,
    "start_time": "2023-06-20T16:41:38.288Z"
   },
   {
    "duration": 335,
    "start_time": "2023-06-20T16:41:38.305Z"
   },
   {
    "duration": 9,
    "start_time": "2023-06-20T16:41:38.641Z"
   },
   {
    "duration": 8,
    "start_time": "2023-06-20T16:41:38.651Z"
   },
   {
    "duration": 4,
    "start_time": "2023-06-20T16:41:38.661Z"
   },
   {
    "duration": 958,
    "start_time": "2023-06-20T16:41:38.666Z"
   },
   {
    "duration": 237,
    "start_time": "2023-06-20T16:41:39.626Z"
   },
   {
    "duration": 159,
    "start_time": "2023-06-20T16:41:39.864Z"
   },
   {
    "duration": 76,
    "start_time": "2023-06-20T16:41:40.025Z"
   },
   {
    "duration": 250,
    "start_time": "2023-06-20T16:41:40.103Z"
   },
   {
    "duration": 224,
    "start_time": "2023-06-20T16:41:40.354Z"
   },
   {
    "duration": 264,
    "start_time": "2023-06-20T16:41:40.579Z"
   },
   {
    "duration": 9,
    "start_time": "2023-06-20T16:41:40.845Z"
   },
   {
    "duration": 33,
    "start_time": "2023-06-20T16:41:40.855Z"
   },
   {
    "duration": 10,
    "start_time": "2023-06-20T16:41:55.808Z"
   },
   {
    "duration": 79,
    "start_time": "2023-06-20T16:42:25.608Z"
   },
   {
    "duration": 9,
    "start_time": "2023-06-20T16:42:44.871Z"
   },
   {
    "duration": 8,
    "start_time": "2023-06-20T16:43:43.871Z"
   },
   {
    "duration": 11,
    "start_time": "2023-06-20T16:43:51.793Z"
   },
   {
    "duration": 8,
    "start_time": "2023-06-20T16:45:06.872Z"
   },
   {
    "duration": 12,
    "start_time": "2023-06-20T16:45:22.394Z"
   },
   {
    "duration": 549,
    "start_time": "2023-06-20T16:45:49.273Z"
   },
   {
    "duration": 73,
    "start_time": "2023-06-20T16:45:49.824Z"
   },
   {
    "duration": 22,
    "start_time": "2023-06-20T16:45:49.898Z"
   },
   {
    "duration": 16,
    "start_time": "2023-06-20T16:45:49.922Z"
   },
   {
    "duration": 13,
    "start_time": "2023-06-20T16:45:49.941Z"
   },
   {
    "duration": 384,
    "start_time": "2023-06-20T16:45:49.955Z"
   },
   {
    "duration": 7,
    "start_time": "2023-06-20T16:45:50.340Z"
   },
   {
    "duration": 12,
    "start_time": "2023-06-20T16:45:50.349Z"
   },
   {
    "duration": 3,
    "start_time": "2023-06-20T16:45:50.362Z"
   },
   {
    "duration": 965,
    "start_time": "2023-06-20T16:45:50.367Z"
   },
   {
    "duration": 235,
    "start_time": "2023-06-20T16:45:51.334Z"
   },
   {
    "duration": 150,
    "start_time": "2023-06-20T16:45:51.570Z"
   },
   {
    "duration": 66,
    "start_time": "2023-06-20T16:45:51.721Z"
   },
   {
    "duration": 256,
    "start_time": "2023-06-20T16:45:51.799Z"
   },
   {
    "duration": 217,
    "start_time": "2023-06-20T16:45:52.057Z"
   },
   {
    "duration": 275,
    "start_time": "2023-06-20T16:45:52.275Z"
   },
   {
    "duration": 10,
    "start_time": "2023-06-20T16:45:52.552Z"
   },
   {
    "duration": 12,
    "start_time": "2023-06-20T16:45:52.564Z"
   },
   {
    "duration": 27,
    "start_time": "2023-06-20T16:45:52.578Z"
   },
   {
    "duration": 8,
    "start_time": "2023-06-20T16:45:52.607Z"
   },
   {
    "duration": 16,
    "start_time": "2023-06-20T16:45:52.616Z"
   },
   {
    "duration": 8,
    "start_time": "2023-06-20T16:45:52.633Z"
   },
   {
    "duration": 12,
    "start_time": "2023-06-20T16:45:52.642Z"
   },
   {
    "duration": 7,
    "start_time": "2023-06-20T16:47:11.303Z"
   },
   {
    "duration": 10,
    "start_time": "2023-06-20T16:47:18.508Z"
   },
   {
    "duration": 14,
    "start_time": "2023-06-20T16:47:25.417Z"
   },
   {
    "duration": 211,
    "start_time": "2023-06-20T16:55:24.907Z"
   },
   {
    "duration": 206,
    "start_time": "2023-06-20T16:55:26.930Z"
   },
   {
    "duration": 241,
    "start_time": "2023-06-20T16:55:39.377Z"
   },
   {
    "duration": 205,
    "start_time": "2023-06-20T16:55:45.155Z"
   },
   {
    "duration": 210,
    "start_time": "2023-06-20T16:55:50.764Z"
   },
   {
    "duration": 218,
    "start_time": "2023-06-20T16:55:55.528Z"
   },
   {
    "duration": 271,
    "start_time": "2023-06-20T16:55:59.805Z"
   },
   {
    "duration": 214,
    "start_time": "2023-06-20T16:56:06.472Z"
   },
   {
    "duration": 203,
    "start_time": "2023-06-20T16:56:08.825Z"
   },
   {
    "duration": 220,
    "start_time": "2023-06-20T16:56:38.966Z"
   },
   {
    "duration": 200,
    "start_time": "2023-06-20T16:57:06.761Z"
   },
   {
    "duration": 203,
    "start_time": "2023-06-20T16:57:20.621Z"
   },
   {
    "duration": 204,
    "start_time": "2023-06-20T16:57:30.865Z"
   },
   {
    "duration": 204,
    "start_time": "2023-06-20T16:57:48.505Z"
   },
   {
    "duration": 284,
    "start_time": "2023-06-20T16:58:04.963Z"
   },
   {
    "duration": 218,
    "start_time": "2023-06-20T17:02:06.675Z"
   },
   {
    "duration": 223,
    "start_time": "2023-06-20T17:02:15.092Z"
   },
   {
    "duration": 216,
    "start_time": "2023-06-20T17:02:28.437Z"
   },
   {
    "duration": 176,
    "start_time": "2023-06-20T17:02:50.805Z"
   },
   {
    "duration": 225,
    "start_time": "2023-06-20T17:03:12.132Z"
   },
   {
    "duration": 227,
    "start_time": "2023-06-20T17:03:26.534Z"
   },
   {
    "duration": 300,
    "start_time": "2023-06-20T17:03:34.629Z"
   },
   {
    "duration": 200,
    "start_time": "2023-06-20T17:03:40.070Z"
   },
   {
    "duration": 228,
    "start_time": "2023-06-20T17:03:50.658Z"
   },
   {
    "duration": 219,
    "start_time": "2023-06-20T17:03:58.266Z"
   },
   {
    "duration": 203,
    "start_time": "2023-06-20T17:04:12.572Z"
   },
   {
    "duration": 2,
    "start_time": "2023-06-20T17:05:24.957Z"
   },
   {
    "duration": 231,
    "start_time": "2023-06-20T17:06:50.328Z"
   },
   {
    "duration": 291,
    "start_time": "2023-06-20T17:10:46.219Z"
   },
   {
    "duration": 225,
    "start_time": "2023-06-20T17:10:47.656Z"
   },
   {
    "duration": 209,
    "start_time": "2023-06-20T17:17:24.752Z"
   },
   {
    "duration": 249,
    "start_time": "2023-06-20T17:17:35.203Z"
   },
   {
    "duration": 2222,
    "start_time": "2023-06-20T17:17:38.481Z"
   },
   {
    "duration": 0,
    "start_time": "2023-06-20T17:19:36.112Z"
   },
   {
    "duration": 0,
    "start_time": "2023-06-20T17:19:36.112Z"
   },
   {
    "duration": 3939,
    "start_time": "2023-06-20T17:19:39.983Z"
   },
   {
    "duration": 10,
    "start_time": "2023-06-20T17:19:43.925Z"
   },
   {
    "duration": 211,
    "start_time": "2023-06-20T17:20:01.819Z"
   },
   {
    "duration": 214,
    "start_time": "2023-06-20T17:20:33.228Z"
   },
   {
    "duration": 7,
    "start_time": "2023-06-20T17:20:35.455Z"
   },
   {
    "duration": 218,
    "start_time": "2023-06-20T17:21:08.257Z"
   },
   {
    "duration": 220,
    "start_time": "2023-06-20T17:21:20.694Z"
   },
   {
    "duration": 162,
    "start_time": "2023-06-20T17:24:06.465Z"
   },
   {
    "duration": 262,
    "start_time": "2023-06-20T17:28:28.011Z"
   },
   {
    "duration": 246,
    "start_time": "2023-06-20T17:28:57.071Z"
   },
   {
    "duration": 211,
    "start_time": "2023-06-20T17:29:28.172Z"
   },
   {
    "duration": 299,
    "start_time": "2023-06-20T17:29:55.092Z"
   },
   {
    "duration": 255,
    "start_time": "2023-06-20T17:30:04.930Z"
   },
   {
    "duration": 250,
    "start_time": "2023-06-20T17:30:34.231Z"
   },
   {
    "duration": 245,
    "start_time": "2023-06-20T17:30:40.612Z"
   },
   {
    "duration": 241,
    "start_time": "2023-06-20T17:30:56.750Z"
   },
   {
    "duration": 255,
    "start_time": "2023-06-20T17:32:35.490Z"
   },
   {
    "duration": 252,
    "start_time": "2023-06-20T17:33:00.071Z"
   },
   {
    "duration": 250,
    "start_time": "2023-06-20T17:33:32.889Z"
   },
   {
    "duration": 255,
    "start_time": "2023-06-20T17:33:51.556Z"
   },
   {
    "duration": 249,
    "start_time": "2023-06-20T17:33:56.592Z"
   },
   {
    "duration": 168,
    "start_time": "2023-06-20T17:35:00.024Z"
   },
   {
    "duration": 254,
    "start_time": "2023-06-20T17:35:08.801Z"
   },
   {
    "duration": 281,
    "start_time": "2023-06-20T17:35:29.012Z"
   },
   {
    "duration": 295,
    "start_time": "2023-06-20T17:54:53.391Z"
   },
   {
    "duration": 320,
    "start_time": "2023-06-20T17:55:10.972Z"
   },
   {
    "duration": 178,
    "start_time": "2023-06-20T18:00:29.920Z"
   },
   {
    "duration": 10,
    "start_time": "2023-06-20T18:02:50.615Z"
   },
   {
    "duration": 311,
    "start_time": "2023-06-20T18:03:01.914Z"
   },
   {
    "duration": 253,
    "start_time": "2023-06-20T18:05:50.915Z"
   },
   {
    "duration": 269,
    "start_time": "2023-06-20T18:06:04.351Z"
   },
   {
    "duration": 298,
    "start_time": "2023-06-20T18:06:14.173Z"
   },
   {
    "duration": 187,
    "start_time": "2023-06-20T18:06:46.079Z"
   },
   {
    "duration": 262,
    "start_time": "2023-06-20T18:06:52.827Z"
   },
   {
    "duration": 170,
    "start_time": "2023-06-20T18:07:09.145Z"
   },
   {
    "duration": 269,
    "start_time": "2023-06-20T18:07:15.734Z"
   },
   {
    "duration": 290,
    "start_time": "2023-06-20T18:07:20.786Z"
   },
   {
    "duration": 258,
    "start_time": "2023-06-20T18:51:04.329Z"
   },
   {
    "duration": 306,
    "start_time": "2023-06-20T18:51:13.016Z"
   },
   {
    "duration": 275,
    "start_time": "2023-06-20T18:51:41.393Z"
   },
   {
    "duration": 335,
    "start_time": "2023-06-20T18:53:06.987Z"
   },
   {
    "duration": 367,
    "start_time": "2023-06-20T18:53:44.819Z"
   },
   {
    "duration": 256,
    "start_time": "2023-06-20T18:56:02.779Z"
   },
   {
    "duration": 422,
    "start_time": "2023-06-20T18:56:07.333Z"
   },
   {
    "duration": 361,
    "start_time": "2023-06-20T18:57:10.681Z"
   },
   {
    "duration": 244,
    "start_time": "2023-06-20T18:58:10.615Z"
   },
   {
    "duration": 248,
    "start_time": "2023-06-20T18:58:23.911Z"
   },
   {
    "duration": 266,
    "start_time": "2023-06-20T18:58:54.253Z"
   },
   {
    "duration": 362,
    "start_time": "2023-06-20T18:59:17.858Z"
   },
   {
    "duration": 367,
    "start_time": "2023-06-20T18:59:46.526Z"
   },
   {
    "duration": 347,
    "start_time": "2023-06-20T19:00:13.584Z"
   },
   {
    "duration": 359,
    "start_time": "2023-06-20T19:00:17.358Z"
   },
   {
    "duration": 350,
    "start_time": "2023-06-20T19:00:32.510Z"
   },
   {
    "duration": 347,
    "start_time": "2023-06-20T19:08:42.826Z"
   },
   {
    "duration": 392,
    "start_time": "2023-06-20T19:12:14.257Z"
   },
   {
    "duration": 373,
    "start_time": "2023-06-20T19:14:18.361Z"
   },
   {
    "duration": 399,
    "start_time": "2023-06-20T19:14:24.917Z"
   },
   {
    "duration": 373,
    "start_time": "2023-06-20T19:16:57.661Z"
   },
   {
    "duration": 11,
    "start_time": "2023-06-21T00:27:54.327Z"
   },
   {
    "duration": 139,
    "start_time": "2023-06-21T00:28:35.404Z"
   },
   {
    "duration": 7,
    "start_time": "2023-06-21T00:29:46.824Z"
   },
   {
    "duration": 6,
    "start_time": "2023-06-21T00:30:30.027Z"
   },
   {
    "duration": 6,
    "start_time": "2023-06-21T00:31:08.962Z"
   },
   {
    "duration": 6,
    "start_time": "2023-06-21T00:31:26.706Z"
   },
   {
    "duration": 11,
    "start_time": "2023-06-21T00:31:46.345Z"
   },
   {
    "duration": 32,
    "start_time": "2023-06-21T00:33:16.590Z"
   },
   {
    "duration": 449,
    "start_time": "2023-06-21T00:33:31.399Z"
   },
   {
    "duration": 70,
    "start_time": "2023-06-21T00:33:31.849Z"
   },
   {
    "duration": 21,
    "start_time": "2023-06-21T00:33:31.920Z"
   },
   {
    "duration": 37,
    "start_time": "2023-06-21T00:33:31.943Z"
   },
   {
    "duration": 35,
    "start_time": "2023-06-21T00:33:31.982Z"
   },
   {
    "duration": 350,
    "start_time": "2023-06-21T00:33:32.019Z"
   },
   {
    "duration": 7,
    "start_time": "2023-06-21T00:33:32.370Z"
   },
   {
    "duration": 20,
    "start_time": "2023-06-21T00:33:32.379Z"
   },
   {
    "duration": 4,
    "start_time": "2023-06-21T00:33:32.401Z"
   },
   {
    "duration": 984,
    "start_time": "2023-06-21T00:33:32.406Z"
   },
   {
    "duration": 253,
    "start_time": "2023-06-21T00:33:33.392Z"
   },
   {
    "duration": 162,
    "start_time": "2023-06-21T00:33:33.646Z"
   },
   {
    "duration": 71,
    "start_time": "2023-06-21T00:33:33.809Z"
   },
   {
    "duration": 279,
    "start_time": "2023-06-21T00:33:33.883Z"
   },
   {
    "duration": 223,
    "start_time": "2023-06-21T00:33:34.164Z"
   },
   {
    "duration": 281,
    "start_time": "2023-06-21T00:33:34.388Z"
   },
   {
    "duration": 9,
    "start_time": "2023-06-21T00:33:34.671Z"
   },
   {
    "duration": 60,
    "start_time": "2023-06-21T00:33:34.682Z"
   },
   {
    "duration": 9,
    "start_time": "2023-06-21T00:33:34.743Z"
   },
   {
    "duration": 359,
    "start_time": "2023-06-21T00:33:34.753Z"
   },
   {
    "duration": 356,
    "start_time": "2023-06-21T00:33:35.114Z"
   },
   {
    "duration": 12,
    "start_time": "2023-06-21T00:33:35.471Z"
   },
   {
    "duration": 473,
    "start_time": "2023-06-21T00:36:36.382Z"
   },
   {
    "duration": 71,
    "start_time": "2023-06-21T00:36:36.857Z"
   },
   {
    "duration": 22,
    "start_time": "2023-06-21T00:36:36.929Z"
   },
   {
    "duration": 28,
    "start_time": "2023-06-21T00:36:36.953Z"
   },
   {
    "duration": 12,
    "start_time": "2023-06-21T00:36:36.983Z"
   },
   {
    "duration": 351,
    "start_time": "2023-06-21T00:36:36.996Z"
   },
   {
    "duration": 9,
    "start_time": "2023-06-21T00:36:37.349Z"
   },
   {
    "duration": 9,
    "start_time": "2023-06-21T00:36:37.360Z"
   },
   {
    "duration": 6,
    "start_time": "2023-06-21T00:36:37.370Z"
   },
   {
    "duration": 1006,
    "start_time": "2023-06-21T00:36:37.377Z"
   },
   {
    "duration": 249,
    "start_time": "2023-06-21T00:36:38.384Z"
   },
   {
    "duration": 153,
    "start_time": "2023-06-21T00:36:38.634Z"
   },
   {
    "duration": 77,
    "start_time": "2023-06-21T00:36:38.788Z"
   },
   {
    "duration": 258,
    "start_time": "2023-06-21T00:36:38.869Z"
   },
   {
    "duration": 224,
    "start_time": "2023-06-21T00:36:39.128Z"
   },
   {
    "duration": 279,
    "start_time": "2023-06-21T00:36:39.354Z"
   },
   {
    "duration": 10,
    "start_time": "2023-06-21T00:36:39.634Z"
   },
   {
    "duration": 90,
    "start_time": "2023-06-21T00:36:39.645Z"
   },
   {
    "duration": 0,
    "start_time": "2023-06-21T00:36:39.736Z"
   },
   {
    "duration": 0,
    "start_time": "2023-06-21T00:36:39.737Z"
   },
   {
    "duration": 0,
    "start_time": "2023-06-21T00:36:39.738Z"
   },
   {
    "duration": 0,
    "start_time": "2023-06-21T00:36:39.739Z"
   },
   {
    "duration": 10,
    "start_time": "2023-06-21T00:37:06.323Z"
   },
   {
    "duration": 30,
    "start_time": "2023-06-21T00:38:05.039Z"
   },
   {
    "duration": 8,
    "start_time": "2023-06-21T00:39:14.338Z"
   },
   {
    "duration": 345,
    "start_time": "2023-06-21T00:39:14.888Z"
   },
   {
    "duration": 353,
    "start_time": "2023-06-21T00:39:15.380Z"
   },
   {
    "duration": 11,
    "start_time": "2023-06-21T00:47:24.943Z"
   },
   {
    "duration": 207,
    "start_time": "2023-06-21T00:52:01.691Z"
   },
   {
    "duration": 249,
    "start_time": "2023-06-21T00:52:46.622Z"
   },
   {
    "duration": 193,
    "start_time": "2023-06-21T00:54:39.760Z"
   },
   {
    "duration": 199,
    "start_time": "2023-06-21T00:57:47.433Z"
   },
   {
    "duration": 11,
    "start_time": "2023-06-21T00:59:32.325Z"
   },
   {
    "duration": 9,
    "start_time": "2023-06-21T00:59:40.921Z"
   },
   {
    "duration": 8,
    "start_time": "2023-06-21T00:59:50.045Z"
   },
   {
    "duration": 434,
    "start_time": "2023-06-21T01:00:28.931Z"
   },
   {
    "duration": 8,
    "start_time": "2023-06-21T01:00:34.897Z"
   },
   {
    "duration": 448,
    "start_time": "2023-06-21T01:00:51.007Z"
   },
   {
    "duration": 69,
    "start_time": "2023-06-21T01:00:51.456Z"
   },
   {
    "duration": 19,
    "start_time": "2023-06-21T01:00:51.526Z"
   },
   {
    "duration": 33,
    "start_time": "2023-06-21T01:00:51.546Z"
   },
   {
    "duration": 31,
    "start_time": "2023-06-21T01:00:51.581Z"
   },
   {
    "duration": 351,
    "start_time": "2023-06-21T01:00:51.614Z"
   },
   {
    "duration": 7,
    "start_time": "2023-06-21T01:00:51.966Z"
   },
   {
    "duration": 27,
    "start_time": "2023-06-21T01:00:51.974Z"
   },
   {
    "duration": 17,
    "start_time": "2023-06-21T01:00:52.002Z"
   },
   {
    "duration": 954,
    "start_time": "2023-06-21T01:00:52.021Z"
   },
   {
    "duration": 239,
    "start_time": "2023-06-21T01:00:52.976Z"
   },
   {
    "duration": 149,
    "start_time": "2023-06-21T01:00:53.216Z"
   },
   {
    "duration": 79,
    "start_time": "2023-06-21T01:00:53.367Z"
   },
   {
    "duration": 254,
    "start_time": "2023-06-21T01:00:53.449Z"
   },
   {
    "duration": 220,
    "start_time": "2023-06-21T01:00:53.704Z"
   },
   {
    "duration": 261,
    "start_time": "2023-06-21T01:00:53.926Z"
   },
   {
    "duration": 12,
    "start_time": "2023-06-21T01:00:54.188Z"
   },
   {
    "duration": 48,
    "start_time": "2023-06-21T01:00:54.201Z"
   },
   {
    "duration": 8,
    "start_time": "2023-06-21T01:00:54.250Z"
   },
   {
    "duration": 335,
    "start_time": "2023-06-21T01:00:54.259Z"
   },
   {
    "duration": 344,
    "start_time": "2023-06-21T01:00:54.595Z"
   },
   {
    "duration": 11,
    "start_time": "2023-06-21T01:00:54.940Z"
   },
   {
    "duration": 490,
    "start_time": "2023-06-21T01:00:54.953Z"
   },
   {
    "duration": 8,
    "start_time": "2023-06-21T01:00:55.444Z"
   },
   {
    "duration": 569,
    "start_time": "2023-06-21T01:01:26.250Z"
   },
   {
    "duration": 7,
    "start_time": "2023-06-21T01:01:27.706Z"
   },
   {
    "duration": 12,
    "start_time": "2023-06-21T01:01:37.895Z"
   },
   {
    "duration": 646,
    "start_time": "2023-06-21T01:02:56.017Z"
   },
   {
    "duration": 7,
    "start_time": "2023-06-21T01:02:56.665Z"
   },
   {
    "duration": 14,
    "start_time": "2023-06-21T01:04:13.398Z"
   },
   {
    "duration": 10,
    "start_time": "2023-06-21T01:04:20.733Z"
   },
   {
    "duration": 11,
    "start_time": "2023-06-21T01:04:29.167Z"
   },
   {
    "duration": 12,
    "start_time": "2023-06-21T01:04:35.800Z"
   },
   {
    "duration": 657,
    "start_time": "2023-06-21T01:05:21.373Z"
   },
   {
    "duration": 7,
    "start_time": "2023-06-21T01:05:22.237Z"
   },
   {
    "duration": 9,
    "start_time": "2023-06-21T01:06:15.851Z"
   },
   {
    "duration": 658,
    "start_time": "2023-06-21T01:06:19.886Z"
   },
   {
    "duration": 615,
    "start_time": "2023-06-21T01:07:16.322Z"
   },
   {
    "duration": 489,
    "start_time": "2023-06-21T01:11:25.185Z"
   },
   {
    "duration": 70,
    "start_time": "2023-06-21T01:11:25.676Z"
   },
   {
    "duration": 21,
    "start_time": "2023-06-21T01:11:25.748Z"
   },
   {
    "duration": 23,
    "start_time": "2023-06-21T01:11:25.771Z"
   },
   {
    "duration": 12,
    "start_time": "2023-06-21T01:11:25.797Z"
   },
   {
    "duration": 18,
    "start_time": "2023-06-21T01:11:25.810Z"
   },
   {
    "duration": 17,
    "start_time": "2023-06-21T01:11:25.830Z"
   },
   {
    "duration": 10,
    "start_time": "2023-06-21T01:11:25.849Z"
   },
   {
    "duration": 5,
    "start_time": "2023-06-21T01:11:25.861Z"
   },
   {
    "duration": 895,
    "start_time": "2023-06-21T01:11:25.867Z"
   },
   {
    "duration": 298,
    "start_time": "2023-06-21T01:11:26.764Z"
   },
   {
    "duration": 155,
    "start_time": "2023-06-21T01:11:27.064Z"
   },
   {
    "duration": 79,
    "start_time": "2023-06-21T01:11:27.220Z"
   },
   {
    "duration": 253,
    "start_time": "2023-06-21T01:11:27.302Z"
   },
   {
    "duration": 232,
    "start_time": "2023-06-21T01:11:27.556Z"
   },
   {
    "duration": 225,
    "start_time": "2023-06-21T01:11:27.790Z"
   },
   {
    "duration": 10,
    "start_time": "2023-06-21T01:11:28.016Z"
   },
   {
    "duration": 49,
    "start_time": "2023-06-21T01:11:28.027Z"
   },
   {
    "duration": 8,
    "start_time": "2023-06-21T01:11:28.077Z"
   },
   {
    "duration": 387,
    "start_time": "2023-06-21T01:11:28.086Z"
   },
   {
    "duration": 406,
    "start_time": "2023-06-21T01:11:28.474Z"
   },
   {
    "duration": 10,
    "start_time": "2023-06-21T01:11:28.882Z"
   },
   {
    "duration": 635,
    "start_time": "2023-06-21T01:11:28.899Z"
   },
   {
    "duration": 7,
    "start_time": "2023-06-21T01:11:29.536Z"
   },
   {
    "duration": 23,
    "start_time": "2023-06-21T01:11:29.544Z"
   },
   {
    "duration": 7,
    "start_time": "2023-06-21T01:20:19.955Z"
   },
   {
    "duration": 677,
    "start_time": "2023-06-21T01:22:20.802Z"
   },
   {
    "duration": 688,
    "start_time": "2023-06-21T01:22:42.407Z"
   },
   {
    "duration": 81,
    "start_time": "2023-06-21T01:26:05.936Z"
   },
   {
    "duration": 28,
    "start_time": "2023-06-21T01:27:25.259Z"
   },
   {
    "duration": 685,
    "start_time": "2023-06-21T01:27:58.331Z"
   },
   {
    "duration": 26,
    "start_time": "2023-06-21T01:27:59.017Z"
   },
   {
    "duration": 1412,
    "start_time": "2023-06-21T01:29:37.204Z"
   },
   {
    "duration": 7,
    "start_time": "2023-06-21T01:29:52.802Z"
   },
   {
    "duration": 616,
    "start_time": "2023-06-21T01:30:02.348Z"
   },
   {
    "duration": 4,
    "start_time": "2023-06-21T01:30:12.276Z"
   },
   {
    "duration": 11,
    "start_time": "2023-06-21T01:30:14.140Z"
   },
   {
    "duration": 15,
    "start_time": "2023-06-21T01:30:59.245Z"
   },
   {
    "duration": 4,
    "start_time": "2023-06-21T01:31:44.252Z"
   },
   {
    "duration": 9,
    "start_time": "2023-06-21T01:31:46.809Z"
   },
   {
    "duration": 118,
    "start_time": "2023-06-21T01:31:50.660Z"
   },
   {
    "duration": 4,
    "start_time": "2023-06-21T01:31:54.423Z"
   },
   {
    "duration": 10,
    "start_time": "2023-06-21T01:31:55.638Z"
   },
   {
    "duration": 3,
    "start_time": "2023-06-21T01:33:49.593Z"
   },
   {
    "duration": 10,
    "start_time": "2023-06-21T01:34:33.792Z"
   },
   {
    "duration": 3,
    "start_time": "2023-06-21T01:34:50.166Z"
   },
   {
    "duration": 10,
    "start_time": "2023-06-21T01:34:50.840Z"
   },
   {
    "duration": 3,
    "start_time": "2023-06-21T01:36:57.267Z"
   },
   {
    "duration": 8,
    "start_time": "2023-06-21T01:37:04.446Z"
   },
   {
    "duration": 765,
    "start_time": "2023-06-21T01:40:27.427Z"
   },
   {
    "duration": 4,
    "start_time": "2023-06-21T01:40:28.338Z"
   },
   {
    "duration": 3,
    "start_time": "2023-06-21T01:40:28.725Z"
   },
   {
    "duration": 9,
    "start_time": "2023-06-21T01:40:42.186Z"
   },
   {
    "duration": 419,
    "start_time": "2023-06-21T01:41:02.535Z"
   },
   {
    "duration": 70,
    "start_time": "2023-06-21T01:41:02.956Z"
   },
   {
    "duration": 21,
    "start_time": "2023-06-21T01:41:03.028Z"
   },
   {
    "duration": 15,
    "start_time": "2023-06-21T01:41:03.051Z"
   },
   {
    "duration": 12,
    "start_time": "2023-06-21T01:41:03.067Z"
   },
   {
    "duration": 6,
    "start_time": "2023-06-21T01:41:03.081Z"
   },
   {
    "duration": 6,
    "start_time": "2023-06-21T01:41:03.099Z"
   },
   {
    "duration": 15,
    "start_time": "2023-06-21T01:41:03.107Z"
   },
   {
    "duration": 3,
    "start_time": "2023-06-21T01:41:03.124Z"
   },
   {
    "duration": 843,
    "start_time": "2023-06-21T01:41:03.129Z"
   },
   {
    "duration": 275,
    "start_time": "2023-06-21T01:41:03.973Z"
   },
   {
    "duration": 151,
    "start_time": "2023-06-21T01:41:04.250Z"
   },
   {
    "duration": 66,
    "start_time": "2023-06-21T01:41:04.402Z"
   },
   {
    "duration": 245,
    "start_time": "2023-06-21T01:41:04.469Z"
   },
   {
    "duration": 221,
    "start_time": "2023-06-21T01:41:04.715Z"
   },
   {
    "duration": 206,
    "start_time": "2023-06-21T01:41:04.937Z"
   },
   {
    "duration": 9,
    "start_time": "2023-06-21T01:41:05.145Z"
   },
   {
    "duration": 44,
    "start_time": "2023-06-21T01:41:05.155Z"
   },
   {
    "duration": 8,
    "start_time": "2023-06-21T01:41:05.200Z"
   },
   {
    "duration": 354,
    "start_time": "2023-06-21T01:41:05.209Z"
   },
   {
    "duration": 394,
    "start_time": "2023-06-21T01:41:05.564Z"
   },
   {
    "duration": 721,
    "start_time": "2023-06-21T01:41:05.960Z"
   },
   {
    "duration": 4,
    "start_time": "2023-06-21T01:41:06.682Z"
   },
   {
    "duration": 17,
    "start_time": "2023-06-21T01:41:06.688Z"
   },
   {
    "duration": 3,
    "start_time": "2023-06-21T01:41:06.706Z"
   },
   {
    "duration": 13,
    "start_time": "2023-06-21T01:41:06.710Z"
   },
   {
    "duration": 402,
    "start_time": "2023-06-21T01:56:56.377Z"
   },
   {
    "duration": 3,
    "start_time": "2023-06-21T02:19:46.418Z"
   },
   {
    "duration": 148,
    "start_time": "2023-06-21T02:30:01.806Z"
   },
   {
    "duration": 11,
    "start_time": "2023-06-21T02:32:12.956Z"
   },
   {
    "duration": 10,
    "start_time": "2023-06-21T02:32:22.185Z"
   },
   {
    "duration": 11,
    "start_time": "2023-06-21T02:32:58.132Z"
   },
   {
    "duration": 6,
    "start_time": "2023-06-21T02:35:01.625Z"
   },
   {
    "duration": 5,
    "start_time": "2023-06-21T02:36:37.330Z"
   },
   {
    "duration": 5,
    "start_time": "2023-06-21T02:37:47.333Z"
   },
   {
    "duration": 11,
    "start_time": "2023-06-21T02:38:44.828Z"
   },
   {
    "duration": 5,
    "start_time": "2023-06-21T02:38:59.046Z"
   },
   {
    "duration": 11,
    "start_time": "2023-06-21T02:39:10.484Z"
   },
   {
    "duration": 6,
    "start_time": "2023-06-21T02:39:21.046Z"
   },
   {
    "duration": 5,
    "start_time": "2023-06-21T02:43:54.863Z"
   },
   {
    "duration": 4,
    "start_time": "2023-06-21T02:44:00.986Z"
   },
   {
    "duration": 6,
    "start_time": "2023-06-21T02:44:07.677Z"
   },
   {
    "duration": 5,
    "start_time": "2023-06-21T02:44:10.685Z"
   },
   {
    "duration": 5,
    "start_time": "2023-06-21T02:44:20.318Z"
   },
   {
    "duration": 5,
    "start_time": "2023-06-21T02:44:24.271Z"
   },
   {
    "duration": 9,
    "start_time": "2023-06-21T02:45:12.703Z"
   },
   {
    "duration": 9,
    "start_time": "2023-06-21T02:45:17.328Z"
   },
   {
    "duration": 6,
    "start_time": "2023-06-21T02:45:24.023Z"
   },
   {
    "duration": 6,
    "start_time": "2023-06-21T02:45:29.469Z"
   },
   {
    "duration": 5,
    "start_time": "2023-06-21T02:45:30.575Z"
   },
   {
    "duration": 6,
    "start_time": "2023-06-21T02:45:31.547Z"
   },
   {
    "duration": 5,
    "start_time": "2023-06-21T02:45:32.602Z"
   },
   {
    "duration": 6,
    "start_time": "2023-06-21T02:45:33.635Z"
   },
   {
    "duration": 6,
    "start_time": "2023-06-21T02:45:36.590Z"
   },
   {
    "duration": 8,
    "start_time": "2023-06-21T02:46:38.690Z"
   },
   {
    "duration": 11,
    "start_time": "2023-06-21T02:46:55.222Z"
   },
   {
    "duration": 6,
    "start_time": "2023-06-21T02:47:07.640Z"
   },
   {
    "duration": 8,
    "start_time": "2023-06-21T02:48:30.559Z"
   },
   {
    "duration": 227,
    "start_time": "2023-06-21T03:10:21.268Z"
   },
   {
    "duration": 7,
    "start_time": "2023-06-21T03:10:45.728Z"
   },
   {
    "duration": 6,
    "start_time": "2023-06-21T03:10:54.827Z"
   },
   {
    "duration": 8,
    "start_time": "2023-06-21T03:17:47.316Z"
   },
   {
    "duration": 8,
    "start_time": "2023-06-21T03:19:29.780Z"
   },
   {
    "duration": 6,
    "start_time": "2023-06-21T03:19:51.389Z"
   },
   {
    "duration": 9,
    "start_time": "2023-06-21T03:22:18.269Z"
   },
   {
    "duration": 5,
    "start_time": "2023-06-21T03:22:22.301Z"
   },
   {
    "duration": 5,
    "start_time": "2023-06-21T03:22:49.089Z"
   },
   {
    "duration": 4,
    "start_time": "2023-06-21T03:23:02.171Z"
   },
   {
    "duration": 6,
    "start_time": "2023-06-21T03:23:46.023Z"
   },
   {
    "duration": 5,
    "start_time": "2023-06-21T03:24:36.341Z"
   },
   {
    "duration": 5,
    "start_time": "2023-06-21T03:24:58.007Z"
   },
   {
    "duration": 6,
    "start_time": "2023-06-21T03:25:52.632Z"
   },
   {
    "duration": 5,
    "start_time": "2023-06-21T03:26:21.955Z"
   },
   {
    "duration": 6,
    "start_time": "2023-06-21T03:26:27.295Z"
   },
   {
    "duration": 79,
    "start_time": "2023-06-21T03:28:00.175Z"
   },
   {
    "duration": 1268,
    "start_time": "2023-06-21T03:30:37.979Z"
   },
   {
    "duration": 11,
    "start_time": "2023-06-21T03:32:26.849Z"
   },
   {
    "duration": 12,
    "start_time": "2023-06-21T03:33:29.141Z"
   },
   {
    "duration": 11,
    "start_time": "2023-06-21T03:33:45.554Z"
   },
   {
    "duration": 6,
    "start_time": "2023-06-21T03:34:16.906Z"
   },
   {
    "duration": 15,
    "start_time": "2023-06-21T03:34:26.472Z"
   },
   {
    "duration": 6,
    "start_time": "2023-06-21T03:34:41.277Z"
   },
   {
    "duration": 15,
    "start_time": "2023-06-21T03:35:35.389Z"
   },
   {
    "duration": 6,
    "start_time": "2023-06-21T03:35:54.100Z"
   },
   {
    "duration": 7,
    "start_time": "2023-06-21T03:36:05.185Z"
   },
   {
    "duration": 9,
    "start_time": "2023-06-21T03:36:16.074Z"
   },
   {
    "duration": 9,
    "start_time": "2023-06-21T03:36:21.483Z"
   },
   {
    "duration": 7,
    "start_time": "2023-06-21T03:39:24.509Z"
   },
   {
    "duration": 8,
    "start_time": "2023-06-21T03:39:29.749Z"
   },
   {
    "duration": 13,
    "start_time": "2023-06-21T03:45:30.722Z"
   },
   {
    "duration": 23,
    "start_time": "2023-06-21T03:46:17.419Z"
   },
   {
    "duration": 16,
    "start_time": "2023-06-21T03:46:39.363Z"
   },
   {
    "duration": 23,
    "start_time": "2023-06-21T03:47:20.067Z"
   },
   {
    "duration": 6,
    "start_time": "2023-06-21T03:47:53.006Z"
   },
   {
    "duration": 5,
    "start_time": "2023-06-21T03:48:26.253Z"
   },
   {
    "duration": 4,
    "start_time": "2023-06-21T03:48:30.229Z"
   },
   {
    "duration": 4,
    "start_time": "2023-06-21T03:52:23.184Z"
   },
   {
    "duration": 7,
    "start_time": "2023-06-21T03:52:30.738Z"
   },
   {
    "duration": 12,
    "start_time": "2023-06-21T03:52:45.698Z"
   },
   {
    "duration": 791,
    "start_time": "2023-06-21T03:55:27.203Z"
   },
   {
    "duration": 10,
    "start_time": "2023-06-21T03:55:27.995Z"
   },
   {
    "duration": 35882,
    "start_time": "2023-06-21T03:57:19.231Z"
   },
   {
    "duration": 0,
    "start_time": "2023-06-21T03:57:55.114Z"
   },
   {
    "duration": 3632,
    "start_time": "2023-06-21T03:58:13.665Z"
   },
   {
    "duration": 10,
    "start_time": "2023-06-21T03:58:18.803Z"
   },
   {
    "duration": 956,
    "start_time": "2023-06-21T03:58:46.565Z"
   },
   {
    "duration": 74,
    "start_time": "2023-06-21T03:58:47.523Z"
   },
   {
    "duration": 22,
    "start_time": "2023-06-21T03:58:47.599Z"
   },
   {
    "duration": 22,
    "start_time": "2023-06-21T03:58:47.623Z"
   },
   {
    "duration": 16,
    "start_time": "2023-06-21T03:58:47.647Z"
   },
   {
    "duration": 13,
    "start_time": "2023-06-21T03:58:47.665Z"
   },
   {
    "duration": 23,
    "start_time": "2023-06-21T03:58:47.680Z"
   },
   {
    "duration": 11,
    "start_time": "2023-06-21T03:58:47.705Z"
   },
   {
    "duration": 5,
    "start_time": "2023-06-21T03:58:47.718Z"
   },
   {
    "duration": 996,
    "start_time": "2023-06-21T03:58:47.727Z"
   },
   {
    "duration": 268,
    "start_time": "2023-06-21T03:58:48.725Z"
   },
   {
    "duration": 152,
    "start_time": "2023-06-21T03:58:48.999Z"
   },
   {
    "duration": 74,
    "start_time": "2023-06-21T03:58:49.153Z"
   },
   {
    "duration": 265,
    "start_time": "2023-06-21T03:58:49.229Z"
   },
   {
    "duration": 286,
    "start_time": "2023-06-21T03:58:49.495Z"
   },
   {
    "duration": 207,
    "start_time": "2023-06-21T03:58:49.783Z"
   },
   {
    "duration": 10,
    "start_time": "2023-06-21T03:58:49.999Z"
   },
   {
    "duration": 48,
    "start_time": "2023-06-21T03:58:50.010Z"
   },
   {
    "duration": 8,
    "start_time": "2023-06-21T03:58:50.060Z"
   },
   {
    "duration": 344,
    "start_time": "2023-06-21T03:58:50.070Z"
   },
   {
    "duration": 346,
    "start_time": "2023-06-21T03:58:50.416Z"
   },
   {
    "duration": 3288,
    "start_time": "2023-06-21T03:58:50.764Z"
   },
   {
    "duration": 10,
    "start_time": "2023-06-21T03:58:54.053Z"
   },
   {
    "duration": 17,
    "start_time": "2023-06-21T03:58:54.065Z"
   },
   {
    "duration": 19,
    "start_time": "2023-06-21T03:58:54.083Z"
   },
   {
    "duration": 8,
    "start_time": "2023-06-21T03:58:54.103Z"
   },
   {
    "duration": 118,
    "start_time": "2023-06-21T03:58:54.113Z"
   },
   {
    "duration": 0,
    "start_time": "2023-06-21T03:58:54.232Z"
   },
   {
    "duration": 0,
    "start_time": "2023-06-21T03:58:54.234Z"
   },
   {
    "duration": 17,
    "start_time": "2023-06-21T03:59:20.418Z"
   },
   {
    "duration": 3261,
    "start_time": "2023-06-21T04:01:00.254Z"
   },
   {
    "duration": 15,
    "start_time": "2023-06-21T04:01:03.529Z"
   },
   {
    "duration": 16,
    "start_time": "2023-06-21T04:01:09.173Z"
   },
   {
    "duration": 619,
    "start_time": "2023-06-21T04:02:18.106Z"
   },
   {
    "duration": 12,
    "start_time": "2023-06-21T04:02:18.771Z"
   },
   {
    "duration": 835,
    "start_time": "2023-06-21T04:02:31.939Z"
   },
   {
    "duration": 70,
    "start_time": "2023-06-21T04:02:32.776Z"
   },
   {
    "duration": 19,
    "start_time": "2023-06-21T04:02:32.848Z"
   },
   {
    "duration": 28,
    "start_time": "2023-06-21T04:02:32.869Z"
   },
   {
    "duration": 12,
    "start_time": "2023-06-21T04:02:32.898Z"
   },
   {
    "duration": 11,
    "start_time": "2023-06-21T04:02:32.911Z"
   },
   {
    "duration": 8,
    "start_time": "2023-06-21T04:02:32.923Z"
   },
   {
    "duration": 9,
    "start_time": "2023-06-21T04:02:32.932Z"
   },
   {
    "duration": 4,
    "start_time": "2023-06-21T04:02:32.942Z"
   },
   {
    "duration": 891,
    "start_time": "2023-06-21T04:02:32.948Z"
   },
   {
    "duration": 246,
    "start_time": "2023-06-21T04:02:33.841Z"
   },
   {
    "duration": 167,
    "start_time": "2023-06-21T04:02:34.089Z"
   },
   {
    "duration": 78,
    "start_time": "2023-06-21T04:02:34.258Z"
   },
   {
    "duration": 249,
    "start_time": "2023-06-21T04:02:34.337Z"
   },
   {
    "duration": 304,
    "start_time": "2023-06-21T04:02:34.588Z"
   },
   {
    "duration": 219,
    "start_time": "2023-06-21T04:02:34.894Z"
   },
   {
    "duration": 9,
    "start_time": "2023-06-21T04:02:35.114Z"
   },
   {
    "duration": 30,
    "start_time": "2023-06-21T04:02:35.125Z"
   },
   {
    "duration": 8,
    "start_time": "2023-06-21T04:02:35.156Z"
   },
   {
    "duration": 390,
    "start_time": "2023-06-21T04:02:35.165Z"
   },
   {
    "duration": 348,
    "start_time": "2023-06-21T04:02:35.556Z"
   },
   {
    "duration": 683,
    "start_time": "2023-06-21T04:02:35.907Z"
   },
   {
    "duration": 18,
    "start_time": "2023-06-21T04:02:36.592Z"
   },
   {
    "duration": 4,
    "start_time": "2023-06-21T04:02:36.611Z"
   },
   {
    "duration": 8,
    "start_time": "2023-06-21T04:02:36.616Z"
   },
   {
    "duration": 9,
    "start_time": "2023-06-21T04:02:36.625Z"
   },
   {
    "duration": 135,
    "start_time": "2023-06-21T04:02:36.635Z"
   },
   {
    "duration": 0,
    "start_time": "2023-06-21T04:02:36.771Z"
   },
   {
    "duration": 0,
    "start_time": "2023-06-21T04:02:36.772Z"
   },
   {
    "duration": 17,
    "start_time": "2023-06-21T04:04:39.703Z"
   },
   {
    "duration": 19,
    "start_time": "2023-06-21T04:05:05.628Z"
   },
   {
    "duration": 2418,
    "start_time": "2023-06-21T04:05:24.919Z"
   },
   {
    "duration": 11,
    "start_time": "2023-06-21T04:05:29.296Z"
   },
   {
    "duration": 346,
    "start_time": "2023-06-21T04:05:42.703Z"
   },
   {
    "duration": 8,
    "start_time": "2023-06-21T04:05:43.143Z"
   },
   {
    "duration": 4641,
    "start_time": "2023-06-21T04:06:17.451Z"
   },
   {
    "duration": 14,
    "start_time": "2023-06-21T04:06:22.094Z"
   },
   {
    "duration": 5929,
    "start_time": "2023-06-21T04:06:48.146Z"
   },
   {
    "duration": 12,
    "start_time": "2023-06-21T04:06:54.076Z"
   },
   {
    "duration": 883,
    "start_time": "2023-06-21T04:07:17.095Z"
   },
   {
    "duration": 69,
    "start_time": "2023-06-21T04:07:17.979Z"
   },
   {
    "duration": 20,
    "start_time": "2023-06-21T04:07:18.050Z"
   },
   {
    "duration": 14,
    "start_time": "2023-06-21T04:07:18.071Z"
   },
   {
    "duration": 12,
    "start_time": "2023-06-21T04:07:18.087Z"
   },
   {
    "duration": 9,
    "start_time": "2023-06-21T04:07:18.100Z"
   },
   {
    "duration": 19,
    "start_time": "2023-06-21T04:07:18.111Z"
   },
   {
    "duration": 13,
    "start_time": "2023-06-21T04:07:18.132Z"
   },
   {
    "duration": 10,
    "start_time": "2023-06-21T04:07:18.147Z"
   },
   {
    "duration": 870,
    "start_time": "2023-06-21T04:07:18.159Z"
   },
   {
    "duration": 243,
    "start_time": "2023-06-21T04:07:19.030Z"
   },
   {
    "duration": 160,
    "start_time": "2023-06-21T04:07:19.275Z"
   },
   {
    "duration": 83,
    "start_time": "2023-06-21T04:07:19.437Z"
   },
   {
    "duration": 258,
    "start_time": "2023-06-21T04:07:19.522Z"
   },
   {
    "duration": 292,
    "start_time": "2023-06-21T04:07:19.781Z"
   },
   {
    "duration": 209,
    "start_time": "2023-06-21T04:07:20.075Z"
   },
   {
    "duration": 21,
    "start_time": "2023-06-21T04:07:20.285Z"
   },
   {
    "duration": 57,
    "start_time": "2023-06-21T04:07:20.307Z"
   },
   {
    "duration": 8,
    "start_time": "2023-06-21T04:07:20.366Z"
   },
   {
    "duration": 346,
    "start_time": "2023-06-21T04:07:20.375Z"
   },
   {
    "duration": 334,
    "start_time": "2023-06-21T04:07:20.722Z"
   },
   {
    "duration": 6061,
    "start_time": "2023-06-21T04:07:21.058Z"
   },
   {
    "duration": 11,
    "start_time": "2023-06-21T04:07:27.121Z"
   },
   {
    "duration": 14,
    "start_time": "2023-06-21T04:07:27.133Z"
   },
   {
    "duration": 8,
    "start_time": "2023-06-21T04:07:27.149Z"
   },
   {
    "duration": 10,
    "start_time": "2023-06-21T04:07:27.158Z"
   },
   {
    "duration": 118,
    "start_time": "2023-06-21T04:07:27.169Z"
   },
   {
    "duration": 0,
    "start_time": "2023-06-21T04:07:27.288Z"
   },
   {
    "duration": 0,
    "start_time": "2023-06-21T04:07:27.290Z"
   },
   {
    "duration": 17,
    "start_time": "2023-06-21T04:10:18.196Z"
   },
   {
    "duration": 8,
    "start_time": "2023-06-21T04:10:48.429Z"
   },
   {
    "duration": 7,
    "start_time": "2023-06-21T04:10:56.739Z"
   },
   {
    "duration": 13,
    "start_time": "2023-06-21T04:11:04.515Z"
   },
   {
    "duration": 18,
    "start_time": "2023-06-21T04:11:14.322Z"
   },
   {
    "duration": 10,
    "start_time": "2023-06-21T04:11:34.239Z"
   },
   {
    "duration": 10,
    "start_time": "2023-06-21T04:11:39.939Z"
   },
   {
    "duration": 10,
    "start_time": "2023-06-21T04:12:06.595Z"
   },
   {
    "duration": 11,
    "start_time": "2023-06-21T04:13:48.247Z"
   },
   {
    "duration": 7,
    "start_time": "2023-06-21T04:14:44.718Z"
   },
   {
    "duration": 13,
    "start_time": "2023-06-21T04:17:47.498Z"
   },
   {
    "duration": 6094,
    "start_time": "2023-06-21T04:17:53.605Z"
   },
   {
    "duration": 11,
    "start_time": "2023-06-21T04:17:59.701Z"
   },
   {
    "duration": 6179,
    "start_time": "2023-06-21T04:18:44.922Z"
   },
   {
    "duration": 5,
    "start_time": "2023-06-21T04:18:51.104Z"
   },
   {
    "duration": 10,
    "start_time": "2023-06-21T04:21:49.806Z"
   },
   {
    "duration": 12,
    "start_time": "2023-06-21T04:39:50.220Z"
   },
   {
    "duration": 4,
    "start_time": "2023-06-21T04:41:36.775Z"
   },
   {
    "duration": 11,
    "start_time": "2023-06-21T04:41:39.564Z"
   },
   {
    "duration": 79,
    "start_time": "2023-06-21T04:52:09.092Z"
   },
   {
    "duration": 8,
    "start_time": "2023-06-21T06:41:32.066Z"
   },
   {
    "duration": 11,
    "start_time": "2023-06-21T06:41:50.962Z"
   },
   {
    "duration": 3,
    "start_time": "2023-06-21T06:57:06.771Z"
   },
   {
    "duration": 75,
    "start_time": "2023-06-21T06:57:37.971Z"
   },
   {
    "duration": 3,
    "start_time": "2023-06-21T06:57:59.273Z"
   },
   {
    "duration": 1191,
    "start_time": "2023-06-21T06:58:03.031Z"
   },
   {
    "duration": 195,
    "start_time": "2023-06-21T06:58:13.057Z"
   },
   {
    "duration": 168,
    "start_time": "2023-06-21T06:58:25.873Z"
   },
   {
    "duration": 113,
    "start_time": "2023-06-21T06:58:31.538Z"
   },
   {
    "duration": 10,
    "start_time": "2023-06-21T07:01:52.358Z"
   },
   {
    "duration": 3,
    "start_time": "2023-06-21T07:02:08.922Z"
   },
   {
    "duration": 4,
    "start_time": "2023-06-21T07:02:52.360Z"
   },
   {
    "duration": 27,
    "start_time": "2023-06-21T07:02:59.072Z"
   },
   {
    "duration": 1252,
    "start_time": "2023-06-21T07:13:34.143Z"
   },
   {
    "duration": 1420,
    "start_time": "2023-06-21T07:14:10.731Z"
   },
   {
    "duration": 1364,
    "start_time": "2023-06-21T07:15:27.603Z"
   },
   {
    "duration": 172,
    "start_time": "2023-06-21T07:21:25.672Z"
   },
   {
    "duration": 1355,
    "start_time": "2023-06-21T07:21:43.032Z"
   },
   {
    "duration": 1855,
    "start_time": "2023-06-21T07:23:13.116Z"
   },
   {
    "duration": 1520,
    "start_time": "2023-06-21T07:24:18.309Z"
   },
   {
    "duration": 1367,
    "start_time": "2023-06-21T07:24:49.360Z"
   },
   {
    "duration": 1512,
    "start_time": "2023-06-21T07:29:00.629Z"
   },
   {
    "duration": 299,
    "start_time": "2023-06-21T07:29:19.260Z"
   },
   {
    "duration": 1467,
    "start_time": "2023-06-21T07:29:31.764Z"
   },
   {
    "duration": 5,
    "start_time": "2023-06-21T07:33:21.118Z"
   },
   {
    "duration": 5,
    "start_time": "2023-06-21T07:33:24.017Z"
   },
   {
    "duration": 6,
    "start_time": "2023-06-21T07:33:31.718Z"
   },
   {
    "duration": 6,
    "start_time": "2023-06-21T07:34:31.918Z"
   },
   {
    "duration": 5,
    "start_time": "2023-06-21T07:35:05.137Z"
   },
   {
    "duration": 5,
    "start_time": "2023-06-21T07:38:50.742Z"
   },
   {
    "duration": 1245,
    "start_time": "2023-06-21T07:39:31.035Z"
   },
   {
    "duration": 91,
    "start_time": "2023-06-21T07:40:47.256Z"
   },
   {
    "duration": 1468,
    "start_time": "2023-06-21T07:41:45.792Z"
   },
   {
    "duration": 279,
    "start_time": "2023-06-21T07:42:17.812Z"
   },
   {
    "duration": 1556,
    "start_time": "2023-06-21T07:42:28.912Z"
   },
   {
    "duration": 168,
    "start_time": "2023-06-21T07:42:50.620Z"
   },
   {
    "duration": 80,
    "start_time": "2023-06-21T07:43:16.701Z"
   },
   {
    "duration": 183,
    "start_time": "2023-06-21T07:43:20.959Z"
   },
   {
    "duration": 224,
    "start_time": "2023-06-21T07:43:48.262Z"
   },
   {
    "duration": 1602,
    "start_time": "2023-06-21T07:44:07.975Z"
   },
   {
    "duration": 1606,
    "start_time": "2023-06-21T07:44:12.452Z"
   },
   {
    "duration": 250,
    "start_time": "2023-06-21T07:49:37.274Z"
   },
   {
    "duration": 1526,
    "start_time": "2023-06-21T07:50:37.270Z"
   },
   {
    "duration": 8,
    "start_time": "2023-06-21T07:51:21.019Z"
   },
   {
    "duration": 5,
    "start_time": "2023-06-21T07:53:30.362Z"
   },
   {
    "duration": 6,
    "start_time": "2023-06-21T07:53:40.579Z"
   },
   {
    "duration": 6,
    "start_time": "2023-06-21T07:53:50.082Z"
   },
   {
    "duration": 6,
    "start_time": "2023-06-21T07:53:53.419Z"
   },
   {
    "duration": 418,
    "start_time": "2023-06-21T07:54:34.947Z"
   },
   {
    "duration": 2297,
    "start_time": "2023-06-21T07:55:11.875Z"
   },
   {
    "duration": 854,
    "start_time": "2023-06-21T07:55:39.190Z"
   },
   {
    "duration": 324,
    "start_time": "2023-06-21T07:55:55.095Z"
   },
   {
    "duration": 219,
    "start_time": "2023-06-21T07:55:59.575Z"
   },
   {
    "duration": 341,
    "start_time": "2023-06-21T07:56:07.322Z"
   },
   {
    "duration": 426,
    "start_time": "2023-06-21T07:56:13.728Z"
   },
   {
    "duration": 1010,
    "start_time": "2023-06-21T07:57:03.177Z"
   },
   {
    "duration": 315,
    "start_time": "2023-06-21T07:57:07.796Z"
   },
   {
    "duration": 2173,
    "start_time": "2023-06-21T07:57:28.068Z"
   },
   {
    "duration": 253,
    "start_time": "2023-06-21T08:00:02.639Z"
   },
   {
    "duration": 1657,
    "start_time": "2023-06-21T08:00:06.057Z"
   },
   {
    "duration": 57,
    "start_time": "2023-06-21T08:00:56.328Z"
   },
   {
    "duration": 66,
    "start_time": "2023-06-21T08:01:16.017Z"
   },
   {
    "duration": 101,
    "start_time": "2023-06-21T08:01:49.424Z"
   },
   {
    "duration": 109,
    "start_time": "2023-06-21T08:01:55.518Z"
   },
   {
    "duration": 5,
    "start_time": "2023-06-21T08:02:07.076Z"
   },
   {
    "duration": 1366,
    "start_time": "2023-06-21T08:02:16.654Z"
   },
   {
    "duration": 10,
    "start_time": "2023-06-21T08:12:19.416Z"
   },
   {
    "duration": 7,
    "start_time": "2023-06-21T08:12:32.529Z"
   },
   {
    "duration": 5,
    "start_time": "2023-06-21T08:13:09.335Z"
   },
   {
    "duration": 5,
    "start_time": "2023-06-21T08:13:18.464Z"
   },
   {
    "duration": 6,
    "start_time": "2023-06-21T08:13:24.924Z"
   },
   {
    "duration": 8,
    "start_time": "2023-06-21T08:13:28.438Z"
   },
   {
    "duration": 6,
    "start_time": "2023-06-21T08:13:35.524Z"
   },
   {
    "duration": 4,
    "start_time": "2023-06-21T08:13:43.285Z"
   },
   {
    "duration": 14,
    "start_time": "2023-06-21T08:13:52.524Z"
   },
   {
    "duration": 12,
    "start_time": "2023-06-21T08:14:01.824Z"
   },
   {
    "duration": 6,
    "start_time": "2023-06-21T08:14:13.724Z"
   },
   {
    "duration": 6,
    "start_time": "2023-06-21T08:14:22.840Z"
   },
   {
    "duration": 7,
    "start_time": "2023-06-21T08:17:50.424Z"
   },
   {
    "duration": 11,
    "start_time": "2023-06-21T08:18:35.650Z"
   },
   {
    "duration": 6,
    "start_time": "2023-06-21T08:18:44.065Z"
   },
   {
    "duration": 5,
    "start_time": "2023-06-21T08:19:04.069Z"
   },
   {
    "duration": 80,
    "start_time": "2023-06-21T08:19:11.454Z"
   },
   {
    "duration": 72,
    "start_time": "2023-06-21T08:23:55.562Z"
   },
   {
    "duration": 19,
    "start_time": "2023-06-21T08:25:56.222Z"
   },
   {
    "duration": 48,
    "start_time": "2023-06-21T08:26:11.043Z"
   },
   {
    "duration": 54,
    "start_time": "2023-06-21T08:26:17.014Z"
   },
   {
    "duration": 45,
    "start_time": "2023-06-21T08:26:20.929Z"
   },
   {
    "duration": 52,
    "start_time": "2023-06-21T08:27:41.123Z"
   },
   {
    "duration": 57,
    "start_time": "2023-06-21T08:30:52.515Z"
   },
   {
    "duration": 74,
    "start_time": "2023-06-21T08:30:59.922Z"
   },
   {
    "duration": 123,
    "start_time": "2023-06-21T08:31:11.873Z"
   },
   {
    "duration": 112,
    "start_time": "2023-06-21T08:31:14.795Z"
   },
   {
    "duration": 50,
    "start_time": "2023-06-21T08:31:27.618Z"
   },
   {
    "duration": 1140,
    "start_time": "2023-06-21T09:07:48.926Z"
   },
   {
    "duration": 89,
    "start_time": "2023-06-21T09:07:50.068Z"
   },
   {
    "duration": 20,
    "start_time": "2023-06-21T09:07:50.158Z"
   },
   {
    "duration": 76,
    "start_time": "2023-06-21T09:07:50.180Z"
   },
   {
    "duration": 47,
    "start_time": "2023-06-21T09:07:50.259Z"
   },
   {
    "duration": 56,
    "start_time": "2023-06-21T09:07:50.308Z"
   },
   {
    "duration": 26,
    "start_time": "2023-06-21T09:07:50.366Z"
   },
   {
    "duration": 81,
    "start_time": "2023-06-21T09:07:50.394Z"
   },
   {
    "duration": 50,
    "start_time": "2023-06-21T09:07:50.476Z"
   },
   {
    "duration": 891,
    "start_time": "2023-06-21T09:07:50.528Z"
   },
   {
    "duration": 301,
    "start_time": "2023-06-21T09:07:51.420Z"
   },
   {
    "duration": 191,
    "start_time": "2023-06-21T09:07:51.723Z"
   },
   {
    "duration": 94,
    "start_time": "2023-06-21T09:07:51.915Z"
   },
   {
    "duration": 357,
    "start_time": "2023-06-21T09:07:52.012Z"
   },
   {
    "duration": 257,
    "start_time": "2023-06-21T09:07:52.370Z"
   },
   {
    "duration": 254,
    "start_time": "2023-06-21T09:07:52.628Z"
   },
   {
    "duration": 10,
    "start_time": "2023-06-21T09:07:52.884Z"
   },
   {
    "duration": 89,
    "start_time": "2023-06-21T09:07:52.895Z"
   },
   {
    "duration": 8,
    "start_time": "2023-06-21T09:07:52.985Z"
   },
   {
    "duration": 456,
    "start_time": "2023-06-21T09:07:52.995Z"
   },
   {
    "duration": 412,
    "start_time": "2023-06-21T09:07:53.453Z"
   },
   {
    "duration": 6699,
    "start_time": "2023-06-21T09:07:53.866Z"
   },
   {
    "duration": 9,
    "start_time": "2023-06-21T09:08:00.567Z"
   },
   {
    "duration": 217,
    "start_time": "2023-06-21T09:08:00.578Z"
   },
   {
    "duration": 181,
    "start_time": "2023-06-21T09:08:00.797Z"
   },
   {
    "duration": 61,
    "start_time": "2023-06-21T09:08:00.979Z"
   },
   {
    "duration": 66,
    "start_time": "2023-06-21T09:08:01.041Z"
   },
   {
    "duration": 137,
    "start_time": "2023-06-21T09:08:01.108Z"
   },
   {
    "duration": 128,
    "start_time": "2023-06-21T09:08:01.246Z"
   },
   {
    "duration": 6,
    "start_time": "2023-06-21T09:08:53.635Z"
   },
   {
    "duration": 6,
    "start_time": "2023-06-21T09:08:59.300Z"
   },
   {
    "duration": 6,
    "start_time": "2023-06-21T09:09:24.162Z"
   },
   {
    "duration": 111,
    "start_time": "2023-06-21T09:12:11.720Z"
   },
   {
    "duration": 13,
    "start_time": "2023-06-21T09:12:22.550Z"
   },
   {
    "duration": 171,
    "start_time": "2023-06-21T09:12:43.124Z"
   },
   {
    "duration": 9,
    "start_time": "2023-06-21T09:13:17.834Z"
   },
   {
    "duration": 4,
    "start_time": "2023-06-21T09:13:34.923Z"
   },
   {
    "duration": 38426,
    "start_time": "2023-06-21T09:13:39.815Z"
   },
   {
    "duration": 30572,
    "start_time": "2023-06-21T09:14:51.115Z"
   },
   {
    "duration": 32872,
    "start_time": "2023-06-21T09:17:35.596Z"
   },
   {
    "duration": 34924,
    "start_time": "2023-06-21T09:19:18.396Z"
   },
   {
    "duration": 129,
    "start_time": "2023-06-21T09:23:17.826Z"
   },
   {
    "duration": 124,
    "start_time": "2023-06-21T09:23:42.362Z"
   },
   {
    "duration": 361,
    "start_time": "2023-06-21T09:24:02.826Z"
   },
   {
    "duration": 233,
    "start_time": "2023-06-21T09:24:08.514Z"
   },
   {
    "duration": 129,
    "start_time": "2023-06-21T09:24:51.138Z"
   },
   {
    "duration": 6,
    "start_time": "2023-06-21T10:25:01.457Z"
   },
   {
    "duration": 2171,
    "start_time": "2023-06-21T10:52:38.519Z"
   },
   {
    "duration": 312,
    "start_time": "2023-06-21T10:55:05.833Z"
   },
   {
    "duration": 288,
    "start_time": "2023-06-21T10:55:50.384Z"
   },
   {
    "duration": 257,
    "start_time": "2023-06-21T10:55:56.640Z"
   },
   {
    "duration": 345,
    "start_time": "2023-06-21T11:01:18.368Z"
   },
   {
    "duration": 2238,
    "start_time": "2023-06-21T11:01:29.843Z"
   },
   {
    "duration": 415,
    "start_time": "2023-06-21T11:02:08.830Z"
   },
   {
    "duration": 2168,
    "start_time": "2023-06-21T11:02:13.085Z"
   },
   {
    "duration": 2507,
    "start_time": "2023-06-21T11:02:40.850Z"
   },
   {
    "duration": 673,
    "start_time": "2023-06-21T11:03:49.962Z"
   },
   {
    "duration": 413,
    "start_time": "2023-06-21T11:04:04.578Z"
   },
   {
    "duration": 368,
    "start_time": "2023-06-21T11:04:22.642Z"
   },
   {
    "duration": 273,
    "start_time": "2023-06-21T11:05:02.332Z"
   },
   {
    "duration": 270,
    "start_time": "2023-06-21T11:05:11.439Z"
   },
   {
    "duration": 228,
    "start_time": "2023-06-21T11:05:29.455Z"
   },
   {
    "duration": 103893,
    "start_time": "2023-06-21T11:05:59.128Z"
   },
   {
    "duration": 259,
    "start_time": "2023-06-21T11:08:24.354Z"
   },
   {
    "duration": 29,
    "start_time": "2023-06-21T11:08:57.445Z"
   },
   {
    "duration": 279,
    "start_time": "2023-06-21T11:09:13.826Z"
   },
   {
    "duration": 328,
    "start_time": "2023-06-21T11:09:23.485Z"
   },
   {
    "duration": 294,
    "start_time": "2023-06-21T11:09:26.785Z"
   },
   {
    "duration": 1748,
    "start_time": "2023-06-21T11:09:41.041Z"
   },
   {
    "duration": 323,
    "start_time": "2023-06-21T11:09:56.390Z"
   },
   {
    "duration": 285,
    "start_time": "2023-06-21T11:11:15.713Z"
   },
   {
    "duration": 266,
    "start_time": "2023-06-21T11:12:18.016Z"
   },
   {
    "duration": 282,
    "start_time": "2023-06-21T11:12:25.447Z"
   },
   {
    "duration": 247,
    "start_time": "2023-06-21T11:14:39.642Z"
   },
   {
    "duration": 597,
    "start_time": "2023-06-21T11:14:53.228Z"
   },
   {
    "duration": 483,
    "start_time": "2023-06-21T11:15:36.742Z"
   },
   {
    "duration": 18334,
    "start_time": "2023-06-21T11:16:06.027Z"
   },
   {
    "duration": 562,
    "start_time": "2023-06-21T11:16:59.363Z"
   },
   {
    "duration": 561,
    "start_time": "2023-06-21T11:17:22.062Z"
   },
   {
    "duration": 467,
    "start_time": "2023-06-21T11:17:41.926Z"
   },
   {
    "duration": 612,
    "start_time": "2023-06-21T11:17:55.761Z"
   },
   {
    "duration": 514,
    "start_time": "2023-06-21T11:18:20.559Z"
   },
   {
    "duration": 546,
    "start_time": "2023-06-21T11:18:45.027Z"
   },
   {
    "duration": 623,
    "start_time": "2023-06-21T11:18:57.682Z"
   },
   {
    "duration": 637,
    "start_time": "2023-06-21T11:19:10.558Z"
   },
   {
    "duration": 455,
    "start_time": "2023-06-21T11:19:29.182Z"
   },
   {
    "duration": 448,
    "start_time": "2023-06-21T11:19:39.281Z"
   },
   {
    "duration": 564,
    "start_time": "2023-06-21T11:19:51.320Z"
   },
   {
    "duration": 458,
    "start_time": "2023-06-21T11:20:06.623Z"
   },
   {
    "duration": 511,
    "start_time": "2023-06-21T11:20:13.122Z"
   },
   {
    "duration": 569,
    "start_time": "2023-06-21T11:23:26.270Z"
   },
   {
    "duration": 460,
    "start_time": "2023-06-21T11:24:33.487Z"
   },
   {
    "duration": 172,
    "start_time": "2023-06-21T11:30:13.497Z"
   },
   {
    "duration": 507,
    "start_time": "2023-06-21T11:31:00.114Z"
   },
   {
    "duration": 165,
    "start_time": "2023-06-21T11:31:54.418Z"
   },
   {
    "duration": 144,
    "start_time": "2023-06-21T11:31:57.966Z"
   },
   {
    "duration": 601,
    "start_time": "2023-06-21T11:34:10.140Z"
   },
   {
    "duration": 498,
    "start_time": "2023-06-21T11:34:20.497Z"
   },
   {
    "duration": 425,
    "start_time": "2023-06-21T11:34:30.566Z"
   },
   {
    "duration": 402,
    "start_time": "2023-06-21T11:34:38.657Z"
   },
   {
    "duration": 491,
    "start_time": "2023-06-21T11:34:52.458Z"
   },
   {
    "duration": 378,
    "start_time": "2023-06-21T11:35:02.465Z"
   },
   {
    "duration": 443,
    "start_time": "2023-06-21T11:35:12.371Z"
   },
   {
    "duration": 532,
    "start_time": "2023-06-21T11:35:37.958Z"
   },
   {
    "duration": 420,
    "start_time": "2023-06-21T11:35:57.375Z"
   },
   {
    "duration": 520,
    "start_time": "2023-06-21T11:36:16.478Z"
   },
   {
    "duration": 460,
    "start_time": "2023-06-21T11:38:30.861Z"
   },
   {
    "duration": 451,
    "start_time": "2023-06-21T11:38:38.839Z"
   },
   {
    "duration": 379,
    "start_time": "2023-06-21T11:43:46.906Z"
   },
   {
    "duration": 399,
    "start_time": "2023-06-21T11:44:10.650Z"
   },
   {
    "duration": 415,
    "start_time": "2023-06-21T11:44:21.175Z"
   },
   {
    "duration": 414,
    "start_time": "2023-06-21T11:44:26.106Z"
   },
   {
    "duration": 364,
    "start_time": "2023-06-21T11:44:35.065Z"
   },
   {
    "duration": 356,
    "start_time": "2023-06-21T11:44:45.668Z"
   },
   {
    "duration": 314,
    "start_time": "2023-06-21T11:44:58.458Z"
   },
   {
    "duration": 348,
    "start_time": "2023-06-21T11:45:27.174Z"
   },
   {
    "duration": 376,
    "start_time": "2023-06-21T11:45:34.479Z"
   },
   {
    "duration": 406,
    "start_time": "2023-06-21T11:46:09.074Z"
   },
   {
    "duration": 602,
    "start_time": "2023-06-21T11:47:09.669Z"
   },
   {
    "duration": 425,
    "start_time": "2023-06-21T11:47:18.562Z"
   },
   {
    "duration": 408,
    "start_time": "2023-06-21T11:48:01.235Z"
   },
   {
    "duration": 6,
    "start_time": "2023-06-21T11:49:54.466Z"
   },
   {
    "duration": 5,
    "start_time": "2023-06-21T11:50:12.390Z"
   },
   {
    "duration": 27,
    "start_time": "2023-06-21T11:50:49.527Z"
   },
   {
    "duration": 15,
    "start_time": "2023-06-21T11:50:54.818Z"
   },
   {
    "duration": 116,
    "start_time": "2023-06-21T11:51:52.170Z"
   },
   {
    "duration": 19,
    "start_time": "2023-06-21T11:53:19.371Z"
   },
   {
    "duration": 52,
    "start_time": "2023-06-21T11:54:41.697Z"
   },
   {
    "duration": 401,
    "start_time": "2023-06-21T11:54:50.171Z"
   },
   {
    "duration": 0,
    "start_time": "2023-06-21T11:57:37.580Z"
   },
   {
    "duration": 0,
    "start_time": "2023-06-21T11:57:37.581Z"
   },
   {
    "duration": 375,
    "start_time": "2023-06-21T11:57:41.054Z"
   },
   {
    "duration": 406,
    "start_time": "2023-06-21T11:57:59.355Z"
   },
   {
    "duration": 14,
    "start_time": "2023-06-21T11:59:05.164Z"
   },
   {
    "duration": 231,
    "start_time": "2023-06-21T11:59:40.698Z"
   },
   {
    "duration": 429,
    "start_time": "2023-06-21T11:59:57.159Z"
   },
   {
    "duration": 118,
    "start_time": "2023-06-21T12:00:09.248Z"
   },
   {
    "duration": 120,
    "start_time": "2023-06-21T12:00:22.454Z"
   },
   {
    "duration": 355,
    "start_time": "2023-06-21T12:01:33.756Z"
   },
   {
    "duration": 31,
    "start_time": "2023-06-21T12:02:07.326Z"
   },
   {
    "duration": 358,
    "start_time": "2023-06-21T12:03:20.596Z"
   },
   {
    "duration": 534,
    "start_time": "2023-06-21T12:03:29.450Z"
   },
   {
    "duration": 254,
    "start_time": "2023-06-21T12:03:37.761Z"
   },
   {
    "duration": 343,
    "start_time": "2023-06-21T12:03:58.418Z"
   },
   {
    "duration": 315,
    "start_time": "2023-06-21T12:04:08.022Z"
   },
   {
    "duration": 51,
    "start_time": "2023-06-21T12:05:35.197Z"
   },
   {
    "duration": 37,
    "start_time": "2023-06-21T12:05:55.757Z"
   },
   {
    "duration": 312,
    "start_time": "2023-06-21T12:06:02.327Z"
   },
   {
    "duration": 286,
    "start_time": "2023-06-21T12:06:18.710Z"
   },
   {
    "duration": 358,
    "start_time": "2023-06-21T12:06:29.202Z"
   },
   {
    "duration": 339,
    "start_time": "2023-06-21T12:06:35.427Z"
   },
   {
    "duration": 340,
    "start_time": "2023-06-21T12:06:40.054Z"
   },
   {
    "duration": 389,
    "start_time": "2023-06-21T12:06:52.224Z"
   },
   {
    "duration": 0,
    "start_time": "2023-06-21T12:07:29.757Z"
   },
   {
    "duration": 374,
    "start_time": "2023-06-21T12:07:30.671Z"
   },
   {
    "duration": 386,
    "start_time": "2023-06-21T12:08:06.770Z"
   },
   {
    "duration": 31,
    "start_time": "2023-06-21T12:08:42.950Z"
   },
   {
    "duration": 141,
    "start_time": "2023-06-21T12:08:47.730Z"
   },
   {
    "duration": 346,
    "start_time": "2023-06-21T12:08:51.321Z"
   },
   {
    "duration": 373,
    "start_time": "2023-06-21T12:09:03.501Z"
   },
   {
    "duration": 373,
    "start_time": "2023-06-21T12:09:33.396Z"
   },
   {
    "duration": 347,
    "start_time": "2023-06-21T12:09:42.158Z"
   },
   {
    "duration": 1907,
    "start_time": "2023-06-21T12:10:09.955Z"
   },
   {
    "duration": 19,
    "start_time": "2023-06-21T12:11:06.929Z"
   },
   {
    "duration": 349,
    "start_time": "2023-06-21T12:11:29.945Z"
   },
   {
    "duration": 395,
    "start_time": "2023-06-21T12:58:11.666Z"
   },
   {
    "duration": 405,
    "start_time": "2023-06-21T12:58:49.818Z"
   },
   {
    "duration": 376,
    "start_time": "2023-06-21T12:59:03.661Z"
   },
   {
    "duration": 332,
    "start_time": "2023-06-21T13:23:10.716Z"
   },
   {
    "duration": 272,
    "start_time": "2023-06-21T13:23:34.765Z"
   },
   {
    "duration": 259,
    "start_time": "2023-06-21T13:23:38.280Z"
   },
   {
    "duration": 230,
    "start_time": "2023-06-21T13:23:50.935Z"
   },
   {
    "duration": 255,
    "start_time": "2023-06-21T13:24:02.130Z"
   },
   {
    "duration": 259,
    "start_time": "2023-06-21T13:24:30.693Z"
   },
   {
    "duration": 243,
    "start_time": "2023-06-21T13:24:39.195Z"
   },
   {
    "duration": 249,
    "start_time": "2023-06-21T13:24:45.777Z"
   },
   {
    "duration": 338,
    "start_time": "2023-06-21T13:24:51.135Z"
   },
   {
    "duration": 1271,
    "start_time": "2023-06-21T13:25:20.480Z"
   },
   {
    "duration": 262,
    "start_time": "2023-06-21T13:25:27.761Z"
   },
   {
    "duration": 232,
    "start_time": "2023-06-21T13:25:36.426Z"
   },
   {
    "duration": 296,
    "start_time": "2023-06-21T13:25:56.035Z"
   },
   {
    "duration": 224,
    "start_time": "2023-06-21T13:26:13.765Z"
   },
   {
    "duration": 102,
    "start_time": "2023-06-21T13:26:33.660Z"
   },
   {
    "duration": 320,
    "start_time": "2023-06-21T13:26:40.025Z"
   },
   {
    "duration": 335,
    "start_time": "2023-06-21T13:26:49.326Z"
   },
   {
    "duration": 329,
    "start_time": "2023-06-21T13:27:04.463Z"
   },
   {
    "duration": 354,
    "start_time": "2023-06-21T13:27:11.193Z"
   },
   {
    "duration": 347,
    "start_time": "2023-06-21T13:28:12.370Z"
   },
   {
    "duration": 348,
    "start_time": "2023-06-21T13:28:17.844Z"
   },
   {
    "duration": 362,
    "start_time": "2023-06-21T13:28:47.575Z"
   },
   {
    "duration": 329,
    "start_time": "2023-06-21T13:29:12.326Z"
   },
   {
    "duration": 314,
    "start_time": "2023-06-21T13:29:21.556Z"
   },
   {
    "duration": 382,
    "start_time": "2023-06-21T13:29:25.762Z"
   },
   {
    "duration": 19,
    "start_time": "2023-06-21T13:30:51.839Z"
   },
   {
    "duration": 26,
    "start_time": "2023-06-21T13:31:26.317Z"
   },
   {
    "duration": 102,
    "start_time": "2023-06-21T13:31:39.971Z"
   },
   {
    "duration": 326,
    "start_time": "2023-06-21T13:31:47.573Z"
   },
   {
    "duration": 232,
    "start_time": "2023-06-21T13:32:20.238Z"
   },
   {
    "duration": 270,
    "start_time": "2023-06-21T13:32:31.811Z"
   },
   {
    "duration": 239,
    "start_time": "2023-06-21T13:32:59.137Z"
   },
   {
    "duration": 307,
    "start_time": "2023-06-21T13:33:05.918Z"
   },
   {
    "duration": 244,
    "start_time": "2023-06-21T13:34:07.930Z"
   },
   {
    "duration": 254,
    "start_time": "2023-06-21T13:34:59.643Z"
   },
   {
    "duration": 6,
    "start_time": "2023-06-21T13:36:18.462Z"
   },
   {
    "duration": 5,
    "start_time": "2023-06-21T13:37:20.542Z"
   },
   {
    "duration": 6,
    "start_time": "2023-06-21T13:37:25.330Z"
   },
   {
    "duration": 6,
    "start_time": "2023-06-21T13:37:55.662Z"
   },
   {
    "duration": 4,
    "start_time": "2023-06-21T13:38:16.656Z"
   },
   {
    "duration": 16,
    "start_time": "2023-06-21T13:38:31.921Z"
   },
   {
    "duration": 20,
    "start_time": "2023-06-21T13:38:39.319Z"
   },
   {
    "duration": 4,
    "start_time": "2023-06-21T13:39:36.555Z"
   },
   {
    "duration": 9,
    "start_time": "2023-06-21T13:39:39.730Z"
   },
   {
    "duration": 5,
    "start_time": "2023-06-21T13:39:43.847Z"
   },
   {
    "duration": 275,
    "start_time": "2023-06-21T13:40:44.185Z"
   },
   {
    "duration": 290,
    "start_time": "2023-06-21T13:41:11.069Z"
   },
   {
    "duration": 242,
    "start_time": "2023-06-21T13:41:23.738Z"
   },
   {
    "duration": 254,
    "start_time": "2023-06-21T13:42:54.537Z"
   },
   {
    "duration": 254,
    "start_time": "2023-06-21T13:43:03.124Z"
   },
   {
    "duration": 254,
    "start_time": "2023-06-21T13:43:07.339Z"
   },
   {
    "duration": 282,
    "start_time": "2023-06-21T13:43:11.460Z"
   },
   {
    "duration": 268,
    "start_time": "2023-06-21T13:43:30.167Z"
   },
   {
    "duration": 358,
    "start_time": "2023-06-21T13:43:37.337Z"
   },
   {
    "duration": 2,
    "start_time": "2023-06-21T16:09:16.714Z"
   },
   {
    "duration": 7,
    "start_time": "2023-06-21T16:11:54.677Z"
   },
   {
    "duration": 3,
    "start_time": "2023-06-21T16:12:25.934Z"
   },
   {
    "duration": 4,
    "start_time": "2023-06-21T16:12:29.848Z"
   },
   {
    "duration": 4,
    "start_time": "2023-06-21T16:12:34.065Z"
   },
   {
    "duration": 3,
    "start_time": "2023-06-21T16:12:37.739Z"
   },
   {
    "duration": 3,
    "start_time": "2023-06-21T16:12:41.318Z"
   },
   {
    "duration": 9,
    "start_time": "2023-06-21T16:12:46.484Z"
   },
   {
    "duration": 4,
    "start_time": "2023-06-21T16:13:11.911Z"
   },
   {
    "duration": 4,
    "start_time": "2023-06-21T16:13:15.513Z"
   },
   {
    "duration": 3,
    "start_time": "2023-06-21T16:13:17.523Z"
   },
   {
    "duration": 3,
    "start_time": "2023-06-21T16:13:20.149Z"
   },
   {
    "duration": 4,
    "start_time": "2023-06-21T16:13:22.733Z"
   },
   {
    "duration": 4,
    "start_time": "2023-06-21T16:13:25.222Z"
   },
   {
    "duration": 3,
    "start_time": "2023-06-21T16:13:28.333Z"
   },
   {
    "duration": 5,
    "start_time": "2023-06-21T16:21:39.038Z"
   },
   {
    "duration": 5,
    "start_time": "2023-06-21T16:21:46.680Z"
   },
   {
    "duration": 5,
    "start_time": "2023-06-21T16:22:32.127Z"
   },
   {
    "duration": 5,
    "start_time": "2023-06-21T16:24:26.277Z"
   },
   {
    "duration": 5,
    "start_time": "2023-06-21T16:24:31.005Z"
   },
   {
    "duration": 10,
    "start_time": "2023-06-21T16:29:16.850Z"
   },
   {
    "duration": 2,
    "start_time": "2023-06-21T16:29:31.746Z"
   },
   {
    "duration": 26404,
    "start_time": "2023-06-21T16:29:35.176Z"
   },
   {
    "duration": 146,
    "start_time": "2023-06-21T16:30:52.925Z"
   },
   {
    "duration": 93,
    "start_time": "2023-06-21T16:31:38.454Z"
   },
   {
    "duration": 138,
    "start_time": "2023-06-21T16:31:45.205Z"
   },
   {
    "duration": 34,
    "start_time": "2023-06-21T16:32:05.649Z"
   },
   {
    "duration": 29,
    "start_time": "2023-06-21T16:32:10.452Z"
   },
   {
    "duration": 90,
    "start_time": "2023-06-21T16:32:41.009Z"
   },
   {
    "duration": 92,
    "start_time": "2023-06-21T16:32:45.486Z"
   },
   {
    "duration": 27,
    "start_time": "2023-06-21T16:33:41.711Z"
   },
   {
    "duration": 25938,
    "start_time": "2023-06-21T16:34:09.744Z"
   },
   {
    "duration": 144,
    "start_time": "2023-06-21T16:35:17.597Z"
   },
   {
    "duration": 213,
    "start_time": "2023-06-21T16:35:39.312Z"
   },
   {
    "duration": 219,
    "start_time": "2023-06-21T16:36:05.399Z"
   },
   {
    "duration": 219,
    "start_time": "2023-06-21T16:36:14.701Z"
   },
   {
    "duration": 139,
    "start_time": "2023-06-21T16:37:51.351Z"
   },
   {
    "duration": 134,
    "start_time": "2023-06-21T16:37:57.025Z"
   },
   {
    "duration": 138,
    "start_time": "2023-06-21T16:38:03.902Z"
   },
   {
    "duration": 130,
    "start_time": "2023-06-21T16:38:33.903Z"
   },
   {
    "duration": 3,
    "start_time": "2023-06-21T16:40:15.385Z"
   },
   {
    "duration": 120,
    "start_time": "2023-06-21T16:41:19.055Z"
   },
   {
    "duration": 300,
    "start_time": "2023-06-21T16:41:30.373Z"
   },
   {
    "duration": 288,
    "start_time": "2023-06-21T16:41:42.055Z"
   },
   {
    "duration": 296,
    "start_time": "2023-06-21T16:41:46.764Z"
   },
   {
    "duration": 10,
    "start_time": "2023-06-22T02:23:20.292Z"
   },
   {
    "duration": 11,
    "start_time": "2023-06-22T02:24:00.872Z"
   },
   {
    "duration": 27,
    "start_time": "2023-06-22T02:24:25.457Z"
   },
   {
    "duration": 121,
    "start_time": "2023-06-22T02:25:00.337Z"
   },
   {
    "duration": 1822,
    "start_time": "2023-06-22T02:25:10.320Z"
   },
   {
    "duration": 139,
    "start_time": "2023-06-22T02:26:24.442Z"
   },
   {
    "duration": 122,
    "start_time": "2023-06-22T02:27:41.133Z"
   },
   {
    "duration": 125,
    "start_time": "2023-06-22T02:28:11.676Z"
   },
   {
    "duration": 5,
    "start_time": "2023-06-22T02:29:35.390Z"
   },
   {
    "duration": 169,
    "start_time": "2023-06-22T02:32:35.305Z"
   },
   {
    "duration": 148,
    "start_time": "2023-06-22T02:32:41.736Z"
   },
   {
    "duration": 149,
    "start_time": "2023-06-22T02:32:48.783Z"
   },
   {
    "duration": 155,
    "start_time": "2023-06-22T02:35:12.297Z"
   },
   {
    "duration": 156,
    "start_time": "2023-06-22T02:35:30.460Z"
   },
   {
    "duration": 144,
    "start_time": "2023-06-22T02:35:40.279Z"
   },
   {
    "duration": 116,
    "start_time": "2023-06-22T02:35:52.414Z"
   },
   {
    "duration": 92,
    "start_time": "2023-06-22T02:36:02.672Z"
   },
   {
    "duration": 64,
    "start_time": "2023-06-22T02:36:11.682Z"
   },
   {
    "duration": 85,
    "start_time": "2023-06-22T02:36:20.225Z"
   },
   {
    "duration": 157,
    "start_time": "2023-06-22T02:36:23.451Z"
   },
   {
    "duration": 149,
    "start_time": "2023-06-22T02:37:08.794Z"
   },
   {
    "duration": 165,
    "start_time": "2023-06-22T02:37:17.893Z"
   },
   {
    "duration": 144,
    "start_time": "2023-06-22T02:37:26.560Z"
   },
   {
    "duration": 84,
    "start_time": "2023-06-22T02:37:39.603Z"
   },
   {
    "duration": 73,
    "start_time": "2023-06-22T02:37:51.414Z"
   },
   {
    "duration": 151,
    "start_time": "2023-06-22T02:37:57.939Z"
   },
   {
    "duration": 164,
    "start_time": "2023-06-22T02:38:25.388Z"
   },
   {
    "duration": 2036,
    "start_time": "2023-06-22T02:39:00.412Z"
   },
   {
    "duration": 161,
    "start_time": "2023-06-22T02:39:09.575Z"
   },
   {
    "duration": 192,
    "start_time": "2023-06-22T02:39:25.847Z"
   },
   {
    "duration": 163,
    "start_time": "2023-06-22T02:39:34.113Z"
   },
   {
    "duration": 161,
    "start_time": "2023-06-22T02:39:43.774Z"
   },
   {
    "duration": 361,
    "start_time": "2023-06-22T02:40:05.447Z"
   },
   {
    "duration": 165,
    "start_time": "2023-06-22T02:40:13.658Z"
   },
   {
    "duration": 186,
    "start_time": "2023-06-22T02:40:41.442Z"
   },
   {
    "duration": 187,
    "start_time": "2023-06-22T02:41:18.280Z"
   },
   {
    "duration": 12,
    "start_time": "2023-06-22T02:42:03.751Z"
   },
   {
    "duration": 164,
    "start_time": "2023-06-22T02:42:14.850Z"
   },
   {
    "duration": 158,
    "start_time": "2023-06-22T02:42:24.748Z"
   },
   {
    "duration": 181,
    "start_time": "2023-06-22T02:42:31.835Z"
   },
   {
    "duration": 162,
    "start_time": "2023-06-22T02:42:38.854Z"
   },
   {
    "duration": 160,
    "start_time": "2023-06-22T02:44:41.065Z"
   },
   {
    "duration": 166,
    "start_time": "2023-06-22T02:44:47.907Z"
   },
   {
    "duration": 160,
    "start_time": "2023-06-22T02:45:40.132Z"
   },
   {
    "duration": 170,
    "start_time": "2023-06-22T02:46:37.059Z"
   },
   {
    "duration": 171,
    "start_time": "2023-06-22T02:46:56.913Z"
   },
   {
    "duration": 180,
    "start_time": "2023-06-22T02:47:01.297Z"
   },
   {
    "duration": 170,
    "start_time": "2023-06-22T02:47:07.633Z"
   },
   {
    "duration": 167,
    "start_time": "2023-06-22T02:47:09.960Z"
   },
   {
    "duration": 175,
    "start_time": "2023-06-22T02:47:24.506Z"
   },
   {
    "duration": 171,
    "start_time": "2023-06-22T02:47:36.526Z"
   },
   {
    "duration": 179,
    "start_time": "2023-06-22T02:47:40.398Z"
   },
   {
    "duration": 11,
    "start_time": "2023-06-22T02:48:07.195Z"
   },
   {
    "duration": 10,
    "start_time": "2023-06-22T02:48:17.060Z"
   },
   {
    "duration": 175,
    "start_time": "2023-06-22T02:48:24.351Z"
   },
   {
    "duration": 178,
    "start_time": "2023-06-22T02:48:31.742Z"
   },
   {
    "duration": 169,
    "start_time": "2023-06-22T02:49:19.869Z"
   },
   {
    "duration": 155,
    "start_time": "2023-06-22T02:52:51.227Z"
   },
   {
    "duration": 161,
    "start_time": "2023-06-22T02:53:12.891Z"
   },
   {
    "duration": 172,
    "start_time": "2023-06-22T03:00:12.275Z"
   },
   {
    "duration": 170,
    "start_time": "2023-06-22T03:01:19.318Z"
   },
   {
    "duration": 190,
    "start_time": "2023-06-22T03:01:31.029Z"
   },
   {
    "duration": 178,
    "start_time": "2023-06-22T03:01:48.733Z"
   },
   {
    "duration": 177,
    "start_time": "2023-06-22T03:01:54.883Z"
   },
   {
    "duration": 182,
    "start_time": "2023-06-22T03:02:00.410Z"
   },
   {
    "duration": 183,
    "start_time": "2023-06-22T03:02:18.386Z"
   },
   {
    "duration": 197,
    "start_time": "2023-06-22T03:02:23.926Z"
   },
   {
    "duration": 201,
    "start_time": "2023-06-22T03:03:34.522Z"
   },
   {
    "duration": 4297,
    "start_time": "2023-06-22T03:03:57.359Z"
   },
   {
    "duration": 205,
    "start_time": "2023-06-22T03:04:02.562Z"
   },
   {
    "duration": 193,
    "start_time": "2023-06-22T03:04:47.187Z"
   },
   {
    "duration": 196,
    "start_time": "2023-06-22T03:07:00.323Z"
   },
   {
    "duration": 207,
    "start_time": "2023-06-22T03:07:11.947Z"
   },
   {
    "duration": 191,
    "start_time": "2023-06-22T03:08:11.269Z"
   },
   {
    "duration": 195,
    "start_time": "2023-06-22T03:08:32.661Z"
   },
   {
    "duration": 203,
    "start_time": "2023-06-22T03:08:59.163Z"
   },
   {
    "duration": 210,
    "start_time": "2023-06-22T03:11:05.615Z"
   },
   {
    "duration": 72,
    "start_time": "2023-06-22T03:27:52.779Z"
   },
   {
    "duration": 2,
    "start_time": "2023-06-22T03:38:41.766Z"
   },
   {
    "duration": 547,
    "start_time": "2023-06-22T03:53:16.276Z"
   },
   {
    "duration": 224,
    "start_time": "2023-06-22T03:55:33.032Z"
   },
   {
    "duration": 2,
    "start_time": "2023-06-22T04:00:51.569Z"
   },
   {
    "duration": 86,
    "start_time": "2023-06-22T04:04:17.685Z"
   },
   {
    "duration": 115,
    "start_time": "2023-06-22T04:06:28.312Z"
   },
   {
    "duration": 1041,
    "start_time": "2023-06-22T04:08:03.617Z"
   },
   {
    "duration": 88,
    "start_time": "2023-06-22T04:08:04.660Z"
   },
   {
    "duration": 17,
    "start_time": "2023-06-22T04:08:04.752Z"
   },
   {
    "duration": 21,
    "start_time": "2023-06-22T04:08:04.770Z"
   },
   {
    "duration": 25,
    "start_time": "2023-06-22T04:08:04.792Z"
   },
   {
    "duration": 8,
    "start_time": "2023-06-22T04:08:04.818Z"
   },
   {
    "duration": 9,
    "start_time": "2023-06-22T04:08:04.827Z"
   },
   {
    "duration": 11,
    "start_time": "2023-06-22T04:08:04.837Z"
   },
   {
    "duration": 5,
    "start_time": "2023-06-22T04:08:04.850Z"
   },
   {
    "duration": 786,
    "start_time": "2023-06-22T04:08:04.856Z"
   },
   {
    "duration": 255,
    "start_time": "2023-06-22T04:08:05.643Z"
   },
   {
    "duration": 184,
    "start_time": "2023-06-22T04:08:05.900Z"
   },
   {
    "duration": 100,
    "start_time": "2023-06-22T04:08:06.086Z"
   },
   {
    "duration": 348,
    "start_time": "2023-06-22T04:08:06.187Z"
   },
   {
    "duration": 226,
    "start_time": "2023-06-22T04:08:06.537Z"
   },
   {
    "duration": 227,
    "start_time": "2023-06-22T04:08:06.764Z"
   },
   {
    "duration": 21,
    "start_time": "2023-06-22T04:08:06.992Z"
   },
   {
    "duration": 44,
    "start_time": "2023-06-22T04:08:07.018Z"
   },
   {
    "duration": 8,
    "start_time": "2023-06-22T04:08:07.064Z"
   },
   {
    "duration": 381,
    "start_time": "2023-06-22T04:08:07.074Z"
   },
   {
    "duration": 363,
    "start_time": "2023-06-22T04:08:07.457Z"
   },
   {
    "duration": 6092,
    "start_time": "2023-06-22T04:08:07.821Z"
   },
   {
    "duration": 10,
    "start_time": "2023-06-22T04:08:13.914Z"
   },
   {
    "duration": 23,
    "start_time": "2023-06-22T04:08:13.925Z"
   },
   {
    "duration": 12,
    "start_time": "2023-06-22T04:08:13.949Z"
   },
   {
    "duration": 14,
    "start_time": "2023-06-22T04:08:13.962Z"
   },
   {
    "duration": 12,
    "start_time": "2023-06-22T04:08:13.980Z"
   },
   {
    "duration": 61,
    "start_time": "2023-06-22T04:08:13.993Z"
   },
   {
    "duration": 335,
    "start_time": "2023-06-22T04:08:14.055Z"
   },
   {
    "duration": 19,
    "start_time": "2023-06-22T04:08:14.392Z"
   },
   {
    "duration": 205,
    "start_time": "2023-06-22T04:08:14.413Z"
   },
   {
    "duration": 1420,
    "start_time": "2023-06-22T05:45:13.514Z"
   },
   {
    "duration": 580,
    "start_time": "2023-06-22T05:45:14.936Z"
   },
   {
    "duration": 23,
    "start_time": "2023-06-22T05:45:15.518Z"
   },
   {
    "duration": 18,
    "start_time": "2023-06-22T05:45:15.543Z"
   },
   {
    "duration": 15,
    "start_time": "2023-06-22T05:45:15.564Z"
   },
   {
    "duration": 46,
    "start_time": "2023-06-22T05:45:15.581Z"
   },
   {
    "duration": 31,
    "start_time": "2023-06-22T05:45:15.629Z"
   },
   {
    "duration": 39,
    "start_time": "2023-06-22T05:45:15.662Z"
   },
   {
    "duration": 22,
    "start_time": "2023-06-22T05:45:15.703Z"
   },
   {
    "duration": 919,
    "start_time": "2023-06-22T05:45:15.726Z"
   },
   {
    "duration": 334,
    "start_time": "2023-06-22T05:45:16.647Z"
   },
   {
    "duration": 203,
    "start_time": "2023-06-22T05:45:16.983Z"
   },
   {
    "duration": 101,
    "start_time": "2023-06-22T05:45:17.188Z"
   },
   {
    "duration": 433,
    "start_time": "2023-06-22T05:45:17.292Z"
   },
   {
    "duration": 307,
    "start_time": "2023-06-22T05:45:17.726Z"
   },
   {
    "duration": 286,
    "start_time": "2023-06-22T05:45:18.034Z"
   },
   {
    "duration": 13,
    "start_time": "2023-06-22T05:45:18.322Z"
   },
   {
    "duration": 62,
    "start_time": "2023-06-22T05:45:18.337Z"
   },
   {
    "duration": 9,
    "start_time": "2023-06-22T05:45:18.401Z"
   },
   {
    "duration": 489,
    "start_time": "2023-06-22T05:45:18.412Z"
   },
   {
    "duration": 510,
    "start_time": "2023-06-22T05:45:18.903Z"
   },
   {
    "duration": 8780,
    "start_time": "2023-06-22T05:45:19.417Z"
   },
   {
    "duration": 12,
    "start_time": "2023-06-22T05:45:28.199Z"
   },
   {
    "duration": 8,
    "start_time": "2023-06-22T05:45:28.213Z"
   },
   {
    "duration": 10,
    "start_time": "2023-06-22T05:45:28.223Z"
   },
   {
    "duration": 7,
    "start_time": "2023-06-22T05:45:28.234Z"
   },
   {
    "duration": 37,
    "start_time": "2023-06-22T05:45:28.242Z"
   },
   {
    "duration": 102,
    "start_time": "2023-06-22T05:45:28.281Z"
   },
   {
    "duration": 358,
    "start_time": "2023-06-22T05:45:28.385Z"
   },
   {
    "duration": 6,
    "start_time": "2023-06-22T05:45:28.745Z"
   },
   {
    "duration": 246,
    "start_time": "2023-06-22T05:45:28.767Z"
   },
   {
    "duration": 477,
    "start_time": "2023-06-22T05:53:56.752Z"
   },
   {
    "duration": 407,
    "start_time": "2023-06-22T05:54:03.169Z"
   },
   {
    "duration": 21,
    "start_time": "2023-06-22T05:57:25.687Z"
   },
   {
    "duration": 9,
    "start_time": "2023-06-22T05:59:19.390Z"
   },
   {
    "duration": 83,
    "start_time": "2023-06-22T06:06:59.901Z"
   },
   {
    "duration": 6,
    "start_time": "2023-06-22T06:07:05.217Z"
   },
   {
    "duration": 236,
    "start_time": "2023-06-22T06:08:41.198Z"
   },
   {
    "duration": 1424,
    "start_time": "2023-06-22T06:09:41.751Z"
   },
   {
    "duration": 106,
    "start_time": "2023-06-22T06:09:43.177Z"
   },
   {
    "duration": 33,
    "start_time": "2023-06-22T06:09:43.285Z"
   },
   {
    "duration": 22,
    "start_time": "2023-06-22T06:09:43.321Z"
   },
   {
    "duration": 36,
    "start_time": "2023-06-22T06:09:43.346Z"
   },
   {
    "duration": 11,
    "start_time": "2023-06-22T06:09:43.391Z"
   },
   {
    "duration": 19,
    "start_time": "2023-06-22T06:09:43.404Z"
   },
   {
    "duration": 26,
    "start_time": "2023-06-22T06:09:43.425Z"
   },
   {
    "duration": 29,
    "start_time": "2023-06-22T06:09:43.454Z"
   },
   {
    "duration": 1268,
    "start_time": "2023-06-22T06:09:43.497Z"
   },
   {
    "duration": 435,
    "start_time": "2023-06-22T06:09:44.771Z"
   },
   {
    "duration": 208,
    "start_time": "2023-06-22T06:09:45.209Z"
   },
   {
    "duration": 126,
    "start_time": "2023-06-22T06:09:45.419Z"
   },
   {
    "duration": 466,
    "start_time": "2023-06-22T06:09:45.547Z"
   },
   {
    "duration": 329,
    "start_time": "2023-06-22T06:09:46.015Z"
   },
   {
    "duration": 397,
    "start_time": "2023-06-22T06:09:46.347Z"
   },
   {
    "duration": 28,
    "start_time": "2023-06-22T06:09:46.747Z"
   },
   {
    "duration": 65,
    "start_time": "2023-06-22T06:09:46.781Z"
   },
   {
    "duration": 25,
    "start_time": "2023-06-22T06:09:46.848Z"
   },
   {
    "duration": 541,
    "start_time": "2023-06-22T06:09:46.879Z"
   },
   {
    "duration": 664,
    "start_time": "2023-06-22T06:09:47.423Z"
   },
   {
    "duration": 10963,
    "start_time": "2023-06-22T06:09:48.093Z"
   },
   {
    "duration": 31,
    "start_time": "2023-06-22T06:09:59.058Z"
   },
   {
    "duration": 10,
    "start_time": "2023-06-22T06:09:59.094Z"
   },
   {
    "duration": 13,
    "start_time": "2023-06-22T06:09:59.106Z"
   },
   {
    "duration": 18,
    "start_time": "2023-06-22T06:09:59.121Z"
   },
   {
    "duration": 50,
    "start_time": "2023-06-22T06:09:59.142Z"
   },
   {
    "duration": 107,
    "start_time": "2023-06-22T06:09:59.199Z"
   },
   {
    "duration": 418,
    "start_time": "2023-06-22T06:09:59.309Z"
   },
   {
    "duration": 184,
    "start_time": "2023-06-22T06:09:59.729Z"
   },
   {
    "duration": 8,
    "start_time": "2023-06-22T06:09:59.915Z"
   },
   {
    "duration": 314,
    "start_time": "2023-06-22T06:09:59.925Z"
   },
   {
    "duration": 482,
    "start_time": "2023-06-22T06:13:01.064Z"
   },
   {
    "duration": 368,
    "start_time": "2023-06-22T06:14:56.023Z"
   },
   {
    "duration": 287,
    "start_time": "2023-06-22T06:15:24.551Z"
   },
   {
    "duration": 298,
    "start_time": "2023-06-22T06:15:39.891Z"
   },
   {
    "duration": 295,
    "start_time": "2023-06-22T06:16:19.260Z"
   },
   {
    "duration": 257,
    "start_time": "2023-06-22T06:18:17.566Z"
   },
   {
    "duration": 255,
    "start_time": "2023-06-22T06:20:21.961Z"
   },
   {
    "duration": 223,
    "start_time": "2023-06-22T06:20:34.989Z"
   },
   {
    "duration": 269,
    "start_time": "2023-06-22T06:21:08.169Z"
   },
   {
    "duration": 263,
    "start_time": "2023-06-22T06:21:56.158Z"
   },
   {
    "duration": 232,
    "start_time": "2023-06-22T06:22:05.296Z"
   },
   {
    "duration": 251,
    "start_time": "2023-06-22T06:22:19.988Z"
   },
   {
    "duration": 253,
    "start_time": "2023-06-22T06:22:50.441Z"
   },
   {
    "duration": 275,
    "start_time": "2023-06-22T06:23:03.826Z"
   },
   {
    "duration": 268,
    "start_time": "2023-06-22T06:23:13.764Z"
   },
   {
    "duration": 392,
    "start_time": "2023-06-22T06:23:24.933Z"
   },
   {
    "duration": 257,
    "start_time": "2023-06-22T06:23:38.749Z"
   },
   {
    "duration": 309,
    "start_time": "2023-06-22T06:24:33.176Z"
   },
   {
    "duration": 25,
    "start_time": "2023-06-22T06:25:40.428Z"
   },
   {
    "duration": 257,
    "start_time": "2023-06-22T06:25:46.004Z"
   },
   {
    "duration": 259,
    "start_time": "2023-06-22T06:26:03.725Z"
   },
   {
    "duration": 282,
    "start_time": "2023-06-22T06:26:52.700Z"
   },
   {
    "duration": 213,
    "start_time": "2023-06-22T06:27:10.709Z"
   },
   {
    "duration": 281,
    "start_time": "2023-06-22T06:27:17.325Z"
   },
   {
    "duration": 250,
    "start_time": "2023-06-22T06:27:52.096Z"
   },
   {
    "duration": 281,
    "start_time": "2023-06-22T06:28:07.932Z"
   },
   {
    "duration": 278,
    "start_time": "2023-06-22T06:28:27.964Z"
   },
   {
    "duration": 154,
    "start_time": "2023-06-22T06:29:01.141Z"
   },
   {
    "duration": 152,
    "start_time": "2023-06-22T06:29:21.887Z"
   },
   {
    "duration": 136,
    "start_time": "2023-06-22T06:29:52.408Z"
   },
   {
    "duration": 162,
    "start_time": "2023-06-22T06:31:09.559Z"
   },
   {
    "duration": 280,
    "start_time": "2023-06-22T06:31:36.405Z"
   },
   {
    "duration": 250,
    "start_time": "2023-06-22T06:31:52.380Z"
   },
   {
    "duration": 255,
    "start_time": "2023-06-22T06:32:16.041Z"
   },
   {
    "duration": 296,
    "start_time": "2023-06-22T06:32:54.753Z"
   },
   {
    "duration": 284,
    "start_time": "2023-06-22T06:33:07.721Z"
   },
   {
    "duration": 285,
    "start_time": "2023-06-22T06:34:32.849Z"
   },
   {
    "duration": 250,
    "start_time": "2023-06-22T06:37:22.595Z"
   },
   {
    "duration": 296,
    "start_time": "2023-06-22T06:37:34.014Z"
   },
   {
    "duration": 1359,
    "start_time": "2023-06-22T06:39:59.453Z"
   },
   {
    "duration": 90,
    "start_time": "2023-06-22T06:40:00.817Z"
   },
   {
    "duration": 23,
    "start_time": "2023-06-22T06:40:00.912Z"
   },
   {
    "duration": 82,
    "start_time": "2023-06-22T06:40:00.938Z"
   },
   {
    "duration": 119,
    "start_time": "2023-06-22T06:40:01.022Z"
   },
   {
    "duration": 86,
    "start_time": "2023-06-22T06:40:01.143Z"
   },
   {
    "duration": 51,
    "start_time": "2023-06-22T06:40:01.231Z"
   },
   {
    "duration": 99,
    "start_time": "2023-06-22T06:40:01.285Z"
   },
   {
    "duration": 70,
    "start_time": "2023-06-22T06:40:01.389Z"
   },
   {
    "duration": 1239,
    "start_time": "2023-06-22T06:40:01.462Z"
   },
   {
    "duration": 378,
    "start_time": "2023-06-22T06:40:02.703Z"
   },
   {
    "duration": 244,
    "start_time": "2023-06-22T06:40:03.082Z"
   },
   {
    "duration": 105,
    "start_time": "2023-06-22T06:40:03.328Z"
   },
   {
    "duration": 473,
    "start_time": "2023-06-22T06:40:03.435Z"
   },
   {
    "duration": 365,
    "start_time": "2023-06-22T06:40:03.911Z"
   },
   {
    "duration": 329,
    "start_time": "2023-06-22T06:40:04.286Z"
   },
   {
    "duration": 15,
    "start_time": "2023-06-22T06:40:04.620Z"
   },
   {
    "duration": 73,
    "start_time": "2023-06-22T06:40:04.637Z"
   },
   {
    "duration": 10,
    "start_time": "2023-06-22T06:40:04.714Z"
   },
   {
    "duration": 498,
    "start_time": "2023-06-22T06:40:04.726Z"
   },
   {
    "duration": 518,
    "start_time": "2023-06-22T06:40:05.226Z"
   },
   {
    "duration": 9884,
    "start_time": "2023-06-22T06:40:05.746Z"
   },
   {
    "duration": 12,
    "start_time": "2023-06-22T06:40:15.632Z"
   },
   {
    "duration": 24,
    "start_time": "2023-06-22T06:40:15.646Z"
   },
   {
    "duration": 25,
    "start_time": "2023-06-22T06:40:15.676Z"
   },
   {
    "duration": 35,
    "start_time": "2023-06-22T06:40:15.703Z"
   },
   {
    "duration": 11,
    "start_time": "2023-06-22T06:40:15.742Z"
   },
   {
    "duration": 91,
    "start_time": "2023-06-22T06:40:15.757Z"
   },
   {
    "duration": 433,
    "start_time": "2023-06-22T06:40:15.850Z"
   },
   {
    "duration": 206,
    "start_time": "2023-06-22T06:40:16.285Z"
   },
   {
    "duration": 16,
    "start_time": "2023-06-22T06:40:16.499Z"
   },
   {
    "duration": 291,
    "start_time": "2023-06-22T06:40:16.517Z"
   },
   {
    "duration": 275,
    "start_time": "2023-06-22T06:40:16.809Z"
   },
   {
    "duration": 288,
    "start_time": "2023-06-22T06:40:40.924Z"
   },
   {
    "duration": 267,
    "start_time": "2023-06-22T06:41:21.412Z"
   },
   {
    "duration": 305,
    "start_time": "2023-06-22T06:41:41.718Z"
   },
   {
    "duration": 366,
    "start_time": "2023-06-22T08:56:02.956Z"
   },
   {
    "duration": 195,
    "start_time": "2023-06-22T09:18:36.844Z"
   },
   {
    "duration": 105,
    "start_time": "2023-06-22T09:26:50.922Z"
   },
   {
    "duration": 4,
    "start_time": "2023-06-22T09:28:11.145Z"
   },
   {
    "duration": 78,
    "start_time": "2023-06-22T09:41:11.864Z"
   },
   {
    "duration": 1837,
    "start_time": "2023-06-22T09:41:23.001Z"
   },
   {
    "duration": 333,
    "start_time": "2023-06-22T09:41:24.840Z"
   },
   {
    "duration": 42,
    "start_time": "2023-06-22T09:41:25.183Z"
   },
   {
    "duration": 61,
    "start_time": "2023-06-22T09:41:25.231Z"
   },
   {
    "duration": 20,
    "start_time": "2023-06-22T09:41:26.126Z"
   },
   {
    "duration": 373,
    "start_time": "2023-06-22T09:41:29.548Z"
   },
   {
    "duration": 154,
    "start_time": "2023-06-22T09:42:40.236Z"
   },
   {
    "duration": 98,
    "start_time": "2023-06-22T09:43:07.047Z"
   },
   {
    "duration": 3,
    "start_time": "2023-06-22T09:43:36.108Z"
   },
   {
    "duration": 232,
    "start_time": "2023-06-22T10:36:33.861Z"
   },
   {
    "duration": 192,
    "start_time": "2023-06-22T10:36:40.900Z"
   },
   {
    "duration": 198,
    "start_time": "2023-06-22T10:36:48.138Z"
   },
   {
    "duration": 205,
    "start_time": "2023-06-22T10:36:56.962Z"
   },
   {
    "duration": 198,
    "start_time": "2023-06-22T10:37:48.848Z"
   },
   {
    "duration": 348,
    "start_time": "2023-06-22T10:38:01.715Z"
   },
   {
    "duration": 210,
    "start_time": "2023-06-22T10:38:06.726Z"
   },
   {
    "duration": 199,
    "start_time": "2023-06-22T10:38:29.227Z"
   },
   {
    "duration": 184,
    "start_time": "2023-06-22T10:39:30.592Z"
   },
   {
    "duration": 117,
    "start_time": "2023-06-22T10:39:38.707Z"
   },
   {
    "duration": 129,
    "start_time": "2023-06-22T10:40:38.324Z"
   },
   {
    "duration": 142,
    "start_time": "2023-06-22T10:40:50.003Z"
   },
   {
    "duration": 141,
    "start_time": "2023-06-22T10:41:54.202Z"
   },
   {
    "duration": 230,
    "start_time": "2023-06-22T10:42:20.834Z"
   },
   {
    "duration": 134,
    "start_time": "2023-06-22T10:42:25.815Z"
   },
   {
    "duration": 126,
    "start_time": "2023-06-22T10:42:30.828Z"
   },
   {
    "duration": 157,
    "start_time": "2023-06-22T10:44:17.342Z"
   },
   {
    "duration": 428,
    "start_time": "2023-06-22T10:45:25.450Z"
   },
   {
    "duration": 413,
    "start_time": "2023-06-22T10:49:17.334Z"
   },
   {
    "duration": 1347,
    "start_time": "2023-06-22T10:49:24.106Z"
   },
   {
    "duration": 112,
    "start_time": "2023-06-22T10:49:25.454Z"
   },
   {
    "duration": 27,
    "start_time": "2023-06-22T10:49:25.567Z"
   },
   {
    "duration": 55,
    "start_time": "2023-06-22T10:49:25.602Z"
   },
   {
    "duration": 19,
    "start_time": "2023-06-22T10:49:25.660Z"
   },
   {
    "duration": 390,
    "start_time": "2023-06-22T10:49:25.680Z"
   },
   {
    "duration": 15,
    "start_time": "2023-06-22T10:49:26.072Z"
   },
   {
    "duration": 68,
    "start_time": "2023-06-22T10:49:26.089Z"
   },
   {
    "duration": 36,
    "start_time": "2023-06-22T10:49:26.159Z"
   },
   {
    "duration": 58,
    "start_time": "2023-06-22T10:49:26.197Z"
   },
   {
    "duration": 1093,
    "start_time": "2023-06-22T10:49:26.257Z"
   },
   {
    "duration": 412,
    "start_time": "2023-06-22T10:49:27.352Z"
   },
   {
    "duration": 247,
    "start_time": "2023-06-22T10:49:27.766Z"
   },
   {
    "duration": 140,
    "start_time": "2023-06-22T10:49:28.019Z"
   },
   {
    "duration": 551,
    "start_time": "2023-06-22T10:49:28.161Z"
   },
   {
    "duration": 403,
    "start_time": "2023-06-22T10:49:28.714Z"
   },
   {
    "duration": 392,
    "start_time": "2023-06-22T10:49:29.121Z"
   },
   {
    "duration": 12,
    "start_time": "2023-06-22T10:49:29.515Z"
   },
   {
    "duration": 101,
    "start_time": "2023-06-22T10:49:29.529Z"
   },
   {
    "duration": 47,
    "start_time": "2023-06-22T10:49:29.641Z"
   },
   {
    "duration": 562,
    "start_time": "2023-06-22T10:49:29.693Z"
   },
   {
    "duration": 575,
    "start_time": "2023-06-22T10:49:30.257Z"
   },
   {
    "duration": 10518,
    "start_time": "2023-06-22T10:49:30.834Z"
   },
   {
    "duration": 10,
    "start_time": "2023-06-22T10:49:41.354Z"
   },
   {
    "duration": 39,
    "start_time": "2023-06-22T10:49:41.365Z"
   },
   {
    "duration": 38,
    "start_time": "2023-06-22T10:49:41.415Z"
   },
   {
    "duration": 13,
    "start_time": "2023-06-22T10:49:41.454Z"
   },
   {
    "duration": 80,
    "start_time": "2023-06-22T10:49:41.469Z"
   },
   {
    "duration": 79,
    "start_time": "2023-06-22T10:49:41.550Z"
   },
   {
    "duration": 458,
    "start_time": "2023-06-22T10:49:41.635Z"
   },
   {
    "duration": 198,
    "start_time": "2023-06-22T10:49:42.095Z"
   },
   {
    "duration": 13,
    "start_time": "2023-06-22T10:49:42.298Z"
   },
   {
    "duration": 289,
    "start_time": "2023-06-22T10:49:42.316Z"
   },
   {
    "duration": 278,
    "start_time": "2023-06-22T10:49:42.607Z"
   },
   {
    "duration": 121,
    "start_time": "2023-06-22T10:53:15.422Z"
   },
   {
    "duration": 8,
    "start_time": "2023-06-22T10:53:23.342Z"
   },
   {
    "duration": 2013,
    "start_time": "2023-06-22T10:53:49.850Z"
   },
   {
    "duration": 8,
    "start_time": "2023-06-22T10:53:54.439Z"
   },
   {
    "duration": 11,
    "start_time": "2023-06-22T10:55:01.415Z"
   },
   {
    "duration": 163,
    "start_time": "2023-06-22T10:56:19.743Z"
   },
   {
    "duration": 113,
    "start_time": "2023-06-22T10:56:26.832Z"
   },
   {
    "duration": 114,
    "start_time": "2023-06-22T10:56:46.849Z"
   },
   {
    "duration": 243,
    "start_time": "2023-06-22T10:58:49.360Z"
   },
   {
    "duration": 176,
    "start_time": "2023-06-22T10:58:55.086Z"
   },
   {
    "duration": 115,
    "start_time": "2023-06-22T10:59:19.632Z"
   },
   {
    "duration": 154,
    "start_time": "2023-06-22T11:01:57.517Z"
   },
   {
    "duration": 248,
    "start_time": "2023-06-22T11:02:19.128Z"
   },
   {
    "duration": 134,
    "start_time": "2023-06-22T11:02:24.005Z"
   },
   {
    "duration": 124,
    "start_time": "2023-06-22T11:02:38.618Z"
   },
   {
    "duration": 142,
    "start_time": "2023-06-22T11:02:57.604Z"
   },
   {
    "duration": 216,
    "start_time": "2023-06-22T11:04:33.755Z"
   },
   {
    "duration": 122,
    "start_time": "2023-06-22T11:08:13.343Z"
   },
   {
    "duration": 124,
    "start_time": "2023-06-22T11:13:19.507Z"
   },
   {
    "duration": 8,
    "start_time": "2023-06-22T11:16:15.307Z"
   },
   {
    "duration": 332,
    "start_time": "2023-06-22T11:16:24.361Z"
   },
   {
    "duration": 301,
    "start_time": "2023-06-22T11:16:37.936Z"
   },
   {
    "duration": 1074,
    "start_time": "2023-06-22T11:16:44.964Z"
   },
   {
    "duration": 863,
    "start_time": "2023-06-22T11:16:50.904Z"
   },
   {
    "duration": 7,
    "start_time": "2023-06-22T11:17:22.229Z"
   },
   {
    "duration": 1276,
    "start_time": "2023-06-22T11:17:27.607Z"
   },
   {
    "duration": 121,
    "start_time": "2023-06-22T11:17:28.885Z"
   },
   {
    "duration": 24,
    "start_time": "2023-06-22T11:17:29.008Z"
   },
   {
    "duration": 18,
    "start_time": "2023-06-22T11:17:29.033Z"
   },
   {
    "duration": 17,
    "start_time": "2023-06-22T11:17:29.053Z"
   },
   {
    "duration": 326,
    "start_time": "2023-06-22T11:17:29.072Z"
   },
   {
    "duration": 13,
    "start_time": "2023-06-22T11:17:29.403Z"
   },
   {
    "duration": 21,
    "start_time": "2023-06-22T11:17:29.423Z"
   },
   {
    "duration": 17,
    "start_time": "2023-06-22T11:17:29.445Z"
   },
   {
    "duration": 19,
    "start_time": "2023-06-22T11:17:29.464Z"
   },
   {
    "duration": 934,
    "start_time": "2023-06-22T11:17:29.495Z"
   },
   {
    "duration": 349,
    "start_time": "2023-06-22T11:17:30.431Z"
   },
   {
    "duration": 9,
    "start_time": "2023-06-22T11:17:30.782Z"
   },
   {
    "duration": 240,
    "start_time": "2023-06-22T11:17:30.796Z"
   },
   {
    "duration": 143,
    "start_time": "2023-06-22T11:17:31.038Z"
   },
   {
    "duration": 473,
    "start_time": "2023-06-22T11:17:31.183Z"
   },
   {
    "duration": 8,
    "start_time": "2023-06-22T11:17:31.658Z"
   },
   {
    "duration": 416,
    "start_time": "2023-06-22T11:17:31.680Z"
   },
   {
    "duration": 362,
    "start_time": "2023-06-22T11:17:32.098Z"
   },
   {
    "duration": 24,
    "start_time": "2023-06-22T11:17:32.462Z"
   },
   {
    "duration": 96,
    "start_time": "2023-06-22T11:17:32.495Z"
   },
   {
    "duration": 15,
    "start_time": "2023-06-22T11:17:32.597Z"
   },
   {
    "duration": 560,
    "start_time": "2023-06-22T11:17:32.615Z"
   },
   {
    "duration": 518,
    "start_time": "2023-06-22T11:17:33.176Z"
   },
   {
    "duration": 9237,
    "start_time": "2023-06-22T11:17:33.704Z"
   },
   {
    "duration": 11,
    "start_time": "2023-06-22T11:17:42.943Z"
   },
   {
    "duration": 8,
    "start_time": "2023-06-22T11:17:42.956Z"
   },
   {
    "duration": 74,
    "start_time": "2023-06-22T11:17:42.965Z"
   },
   {
    "duration": 17,
    "start_time": "2023-06-22T11:17:43.041Z"
   },
   {
    "duration": 27,
    "start_time": "2023-06-22T11:17:43.059Z"
   },
   {
    "duration": 115,
    "start_time": "2023-06-22T11:17:43.088Z"
   },
   {
    "duration": 440,
    "start_time": "2023-06-22T11:17:43.206Z"
   },
   {
    "duration": 212,
    "start_time": "2023-06-22T11:17:43.648Z"
   },
   {
    "duration": 6,
    "start_time": "2023-06-22T11:17:43.862Z"
   },
   {
    "duration": 321,
    "start_time": "2023-06-22T11:17:43.870Z"
   },
   {
    "duration": 251,
    "start_time": "2023-06-22T11:17:44.193Z"
   },
   {
    "duration": 1021,
    "start_time": "2023-06-22T11:18:10.458Z"
   },
   {
    "duration": 147,
    "start_time": "2023-06-22T11:18:43.808Z"
   },
   {
    "duration": 9,
    "start_time": "2023-06-22T11:19:07.120Z"
   },
   {
    "duration": 11,
    "start_time": "2023-06-22T11:19:21.045Z"
   },
   {
    "duration": 12,
    "start_time": "2023-06-22T11:19:32.925Z"
   },
   {
    "duration": 8,
    "start_time": "2023-06-22T11:19:57.562Z"
   },
   {
    "duration": 14,
    "start_time": "2023-06-22T11:19:58.352Z"
   },
   {
    "duration": 1237,
    "start_time": "2023-06-22T11:20:15.420Z"
   },
   {
    "duration": 119,
    "start_time": "2023-06-22T11:20:16.659Z"
   },
   {
    "duration": 23,
    "start_time": "2023-06-22T11:20:16.788Z"
   },
   {
    "duration": 44,
    "start_time": "2023-06-22T11:20:16.813Z"
   },
   {
    "duration": 19,
    "start_time": "2023-06-22T11:20:16.859Z"
   },
   {
    "duration": 368,
    "start_time": "2023-06-22T11:20:16.880Z"
   },
   {
    "duration": 4,
    "start_time": "2023-06-22T11:20:17.250Z"
   },
   {
    "duration": 31,
    "start_time": "2023-06-22T11:20:17.256Z"
   },
   {
    "duration": 49,
    "start_time": "2023-06-22T11:20:17.289Z"
   },
   {
    "duration": 5,
    "start_time": "2023-06-22T11:20:17.341Z"
   },
   {
    "duration": 950,
    "start_time": "2023-06-22T11:20:17.348Z"
   },
   {
    "duration": 377,
    "start_time": "2023-06-22T11:20:18.300Z"
   },
   {
    "duration": 23,
    "start_time": "2023-06-22T11:20:18.679Z"
   },
   {
    "duration": 40,
    "start_time": "2023-06-22T11:20:18.706Z"
   },
   {
    "duration": 17,
    "start_time": "2023-06-22T11:20:18.748Z"
   },
   {
    "duration": 222,
    "start_time": "2023-06-22T11:20:18.767Z"
   },
   {
    "duration": 136,
    "start_time": "2023-06-22T11:20:18.991Z"
   },
   {
    "duration": 480,
    "start_time": "2023-06-22T11:20:19.129Z"
   },
   {
    "duration": 15,
    "start_time": "2023-06-22T11:20:19.618Z"
   },
   {
    "duration": 357,
    "start_time": "2023-06-22T11:20:19.634Z"
   },
   {
    "duration": 309,
    "start_time": "2023-06-22T11:20:19.992Z"
   },
   {
    "duration": 27,
    "start_time": "2023-06-22T11:20:20.304Z"
   },
   {
    "duration": 70,
    "start_time": "2023-06-22T11:20:20.333Z"
   },
   {
    "duration": 31,
    "start_time": "2023-06-22T11:20:20.405Z"
   },
   {
    "duration": 483,
    "start_time": "2023-06-22T11:20:20.437Z"
   },
   {
    "duration": 469,
    "start_time": "2023-06-22T11:20:20.927Z"
   },
   {
    "duration": 9072,
    "start_time": "2023-06-22T11:20:21.400Z"
   },
   {
    "duration": 17,
    "start_time": "2023-06-22T11:20:30.475Z"
   },
   {
    "duration": 90,
    "start_time": "2023-06-22T11:20:30.495Z"
   },
   {
    "duration": 127,
    "start_time": "2023-06-22T11:20:30.588Z"
   },
   {
    "duration": 91,
    "start_time": "2023-06-22T11:20:30.718Z"
   },
   {
    "duration": 229,
    "start_time": "2023-06-22T11:20:30.812Z"
   },
   {
    "duration": 163,
    "start_time": "2023-06-22T11:20:31.042Z"
   },
   {
    "duration": 439,
    "start_time": "2023-06-22T11:20:31.211Z"
   },
   {
    "duration": 178,
    "start_time": "2023-06-22T11:20:31.652Z"
   },
   {
    "duration": 192,
    "start_time": "2023-06-22T11:20:31.832Z"
   },
   {
    "duration": 440,
    "start_time": "2023-06-22T11:20:32.026Z"
   },
   {
    "duration": 316,
    "start_time": "2023-06-22T11:20:32.468Z"
   },
   {
    "duration": 196,
    "start_time": "2023-06-22T11:27:03.360Z"
   },
   {
    "duration": 8,
    "start_time": "2023-06-22T11:30:37.933Z"
   },
   {
    "duration": 463,
    "start_time": "2023-06-22T11:33:36.801Z"
   },
   {
    "duration": 141,
    "start_time": "2023-06-22T11:34:20.249Z"
   },
   {
    "duration": 3012,
    "start_time": "2023-06-22T11:34:50.246Z"
   },
   {
    "duration": 9,
    "start_time": "2023-06-22T11:36:07.129Z"
   },
   {
    "duration": 11,
    "start_time": "2023-06-22T11:36:45.155Z"
   },
   {
    "duration": 17,
    "start_time": "2023-06-22T11:39:20.518Z"
   },
   {
    "duration": 122,
    "start_time": "2023-06-22T11:41:48.002Z"
   },
   {
    "duration": 94,
    "start_time": "2023-06-22T11:42:45.708Z"
   },
   {
    "duration": 515,
    "start_time": "2023-06-22T11:51:38.644Z"
   },
   {
    "duration": 360,
    "start_time": "2023-06-22T11:53:58.300Z"
   },
   {
    "duration": 306,
    "start_time": "2023-06-22T11:54:02.921Z"
   },
   {
    "duration": 346,
    "start_time": "2023-06-22T11:54:19.916Z"
   },
   {
    "duration": 433,
    "start_time": "2023-06-22T11:54:37.923Z"
   },
   {
    "duration": 127,
    "start_time": "2023-06-22T11:57:16.616Z"
   },
   {
    "duration": 8,
    "start_time": "2023-06-22T12:09:59.138Z"
   },
   {
    "duration": 151,
    "start_time": "2023-06-22T12:13:10.004Z"
   },
   {
    "duration": 190,
    "start_time": "2023-06-22T12:18:29.155Z"
   },
   {
    "duration": 98,
    "start_time": "2023-06-22T12:19:50.816Z"
   },
   {
    "duration": 531,
    "start_time": "2023-06-22T12:50:48.541Z"
   },
   {
    "duration": 12,
    "start_time": "2023-06-22T13:01:30.535Z"
   },
   {
    "duration": 169,
    "start_time": "2023-06-22T13:02:43.251Z"
   },
   {
    "duration": 13,
    "start_time": "2023-06-22T13:04:16.966Z"
   },
   {
    "duration": 9,
    "start_time": "2023-06-22T13:04:26.924Z"
   },
   {
    "duration": 19,
    "start_time": "2023-06-22T13:07:31.117Z"
   },
   {
    "duration": 107,
    "start_time": "2023-06-22T13:08:04.358Z"
   },
   {
    "duration": 113,
    "start_time": "2023-06-22T13:09:26.118Z"
   },
   {
    "duration": 11,
    "start_time": "2023-06-22T13:11:10.063Z"
   },
   {
    "duration": 14,
    "start_time": "2023-06-22T13:11:13.818Z"
   },
   {
    "duration": 20,
    "start_time": "2023-06-22T13:11:38.549Z"
   },
   {
    "duration": 45,
    "start_time": "2023-06-22T13:11:55.086Z"
   },
   {
    "duration": 23,
    "start_time": "2023-06-22T13:12:31.480Z"
   },
   {
    "duration": 14,
    "start_time": "2023-06-22T13:13:02.459Z"
   },
   {
    "duration": 13,
    "start_time": "2023-06-22T13:13:05.148Z"
   },
   {
    "duration": 13,
    "start_time": "2023-06-22T13:13:06.041Z"
   },
   {
    "duration": 13,
    "start_time": "2023-06-22T13:13:30.056Z"
   },
   {
    "duration": 12,
    "start_time": "2023-06-22T13:13:51.322Z"
   },
   {
    "duration": 19,
    "start_time": "2023-06-22T13:15:48.317Z"
   },
   {
    "duration": 26,
    "start_time": "2023-06-22T13:16:07.041Z"
   },
   {
    "duration": 25,
    "start_time": "2023-06-22T13:16:39.834Z"
   },
   {
    "duration": 186,
    "start_time": "2023-06-22T13:17:33.609Z"
   },
   {
    "duration": 26,
    "start_time": "2023-06-22T13:17:44.810Z"
   },
   {
    "duration": 21,
    "start_time": "2023-06-22T13:17:47.615Z"
   },
   {
    "duration": 41,
    "start_time": "2023-06-22T13:18:12.014Z"
   },
   {
    "duration": 85,
    "start_time": "2023-06-22T13:18:59.003Z"
   },
   {
    "duration": 96,
    "start_time": "2023-06-22T13:19:05.626Z"
   },
   {
    "duration": 98,
    "start_time": "2023-06-22T13:19:52.211Z"
   },
   {
    "duration": 86,
    "start_time": "2023-06-22T13:20:08.200Z"
   },
   {
    "duration": 7,
    "start_time": "2023-06-22T13:26:02.841Z"
   },
   {
    "duration": 11,
    "start_time": "2023-06-22T13:26:07.067Z"
   },
   {
    "duration": 99,
    "start_time": "2023-06-22T13:26:36.141Z"
   },
   {
    "duration": 103,
    "start_time": "2023-06-22T13:26:50.948Z"
   },
   {
    "duration": 93,
    "start_time": "2023-06-22T13:26:55.333Z"
   },
   {
    "duration": 115,
    "start_time": "2023-06-22T13:27:28.148Z"
   },
   {
    "duration": 85,
    "start_time": "2023-06-22T13:27:41.811Z"
   },
   {
    "duration": 82,
    "start_time": "2023-06-22T13:27:56.820Z"
   },
   {
    "duration": 93,
    "start_time": "2023-06-22T13:29:18.441Z"
   },
   {
    "duration": 78,
    "start_time": "2023-06-22T13:29:50.504Z"
   },
   {
    "duration": 109,
    "start_time": "2023-06-22T13:32:05.811Z"
   },
   {
    "duration": 74,
    "start_time": "2023-06-22T13:33:27.154Z"
   },
   {
    "duration": 78,
    "start_time": "2023-06-22T13:35:37.666Z"
   },
   {
    "duration": 86,
    "start_time": "2023-06-22T13:35:50.927Z"
   },
   {
    "duration": 82,
    "start_time": "2023-06-22T13:35:54.907Z"
   },
   {
    "duration": 76,
    "start_time": "2023-06-22T13:37:37.506Z"
   },
   {
    "duration": 81,
    "start_time": "2023-06-22T13:37:40.448Z"
   },
   {
    "duration": 73,
    "start_time": "2023-06-22T13:38:06.196Z"
   },
   {
    "duration": 89,
    "start_time": "2023-06-22T13:38:09.903Z"
   },
   {
    "duration": 64,
    "start_time": "2023-06-22T13:42:40.400Z"
   },
   {
    "duration": 73,
    "start_time": "2023-06-22T13:43:27.047Z"
   },
   {
    "duration": 85,
    "start_time": "2023-06-22T13:54:29.151Z"
   },
   {
    "duration": 364,
    "start_time": "2023-06-22T14:08:31.712Z"
   },
   {
    "duration": 137,
    "start_time": "2023-06-22T14:18:34.500Z"
   },
   {
    "duration": 1107,
    "start_time": "2023-06-22T14:18:45.122Z"
   },
   {
    "duration": 84,
    "start_time": "2023-06-22T14:18:46.231Z"
   },
   {
    "duration": 29,
    "start_time": "2023-06-22T14:18:46.317Z"
   },
   {
    "duration": 53,
    "start_time": "2023-06-22T14:18:46.349Z"
   },
   {
    "duration": 49,
    "start_time": "2023-06-22T14:18:46.403Z"
   },
   {
    "duration": 427,
    "start_time": "2023-06-22T14:18:46.454Z"
   },
   {
    "duration": 7,
    "start_time": "2023-06-22T14:18:46.883Z"
   },
   {
    "duration": 39,
    "start_time": "2023-06-22T14:18:46.892Z"
   },
   {
    "duration": 69,
    "start_time": "2023-06-22T14:18:46.933Z"
   },
   {
    "duration": 22,
    "start_time": "2023-06-22T14:18:47.005Z"
   },
   {
    "duration": 1056,
    "start_time": "2023-06-22T14:18:47.030Z"
   },
   {
    "duration": 328,
    "start_time": "2023-06-22T14:18:48.093Z"
   },
   {
    "duration": 12,
    "start_time": "2023-06-22T14:18:48.422Z"
   },
   {
    "duration": 8,
    "start_time": "2023-06-22T14:18:48.437Z"
   },
   {
    "duration": 41,
    "start_time": "2023-06-22T14:18:48.447Z"
   },
   {
    "duration": 166,
    "start_time": "2023-06-22T14:18:48.497Z"
   },
   {
    "duration": 159,
    "start_time": "2023-06-22T14:18:48.665Z"
   },
   {
    "duration": 469,
    "start_time": "2023-06-22T14:18:48.826Z"
   },
   {
    "duration": 11,
    "start_time": "2023-06-22T14:18:49.297Z"
   },
   {
    "duration": 319,
    "start_time": "2023-06-22T14:18:49.309Z"
   },
   {
    "duration": 9,
    "start_time": "2023-06-22T14:18:49.630Z"
   },
   {
    "duration": 371,
    "start_time": "2023-06-22T14:18:49.640Z"
   },
   {
    "duration": 10,
    "start_time": "2023-06-22T14:18:50.013Z"
   },
   {
    "duration": 26,
    "start_time": "2023-06-22T14:18:50.025Z"
   },
   {
    "duration": 59,
    "start_time": "2023-06-22T14:18:50.053Z"
   },
   {
    "duration": 9,
    "start_time": "2023-06-22T14:18:50.113Z"
   },
   {
    "duration": 388,
    "start_time": "2023-06-22T14:18:50.123Z"
   },
   {
    "duration": 414,
    "start_time": "2023-06-22T14:18:50.514Z"
   },
   {
    "duration": 7807,
    "start_time": "2023-06-22T14:18:50.929Z"
   },
   {
    "duration": 10,
    "start_time": "2023-06-22T14:18:58.738Z"
   },
   {
    "duration": 18,
    "start_time": "2023-06-22T14:18:58.750Z"
   },
   {
    "duration": 34,
    "start_time": "2023-06-22T14:18:58.770Z"
   },
   {
    "duration": 10,
    "start_time": "2023-06-22T14:18:58.806Z"
   },
   {
    "duration": 28,
    "start_time": "2023-06-22T14:18:58.818Z"
   },
   {
    "duration": 44,
    "start_time": "2023-06-22T14:18:58.848Z"
   },
   {
    "duration": 96,
    "start_time": "2023-06-22T14:18:58.894Z"
   },
   {
    "duration": 93,
    "start_time": "2023-06-22T14:18:58.993Z"
   },
   {
    "duration": 356,
    "start_time": "2023-06-22T14:18:59.096Z"
   },
   {
    "duration": 165,
    "start_time": "2023-06-22T14:18:59.454Z"
   },
   {
    "duration": 5,
    "start_time": "2023-06-22T14:18:59.621Z"
   },
   {
    "duration": 267,
    "start_time": "2023-06-22T14:18:59.628Z"
   },
   {
    "duration": 250,
    "start_time": "2023-06-22T14:18:59.898Z"
   },
   {
    "duration": 1521,
    "start_time": "2023-06-22T16:00:08.522Z"
   },
   {
    "duration": 220,
    "start_time": "2023-06-22T16:00:10.045Z"
   },
   {
    "duration": 21,
    "start_time": "2023-06-22T16:00:10.267Z"
   },
   {
    "duration": 31,
    "start_time": "2023-06-22T16:00:10.291Z"
   },
   {
    "duration": 22,
    "start_time": "2023-06-22T16:00:10.323Z"
   },
   {
    "duration": 305,
    "start_time": "2023-06-22T16:00:10.347Z"
   },
   {
    "duration": 6,
    "start_time": "2023-06-22T16:00:10.653Z"
   },
   {
    "duration": 22,
    "start_time": "2023-06-22T16:00:10.660Z"
   },
   {
    "duration": 17,
    "start_time": "2023-06-22T16:00:10.684Z"
   },
   {
    "duration": 9,
    "start_time": "2023-06-22T16:00:10.704Z"
   },
   {
    "duration": 808,
    "start_time": "2023-06-22T16:00:10.715Z"
   },
   {
    "duration": 312,
    "start_time": "2023-06-22T16:00:11.525Z"
   },
   {
    "duration": 18,
    "start_time": "2023-06-22T16:00:11.839Z"
   },
   {
    "duration": 7,
    "start_time": "2023-06-22T16:00:11.859Z"
   },
   {
    "duration": 22,
    "start_time": "2023-06-22T16:00:11.868Z"
   },
   {
    "duration": 181,
    "start_time": "2023-06-22T16:00:11.892Z"
   },
   {
    "duration": 122,
    "start_time": "2023-06-22T16:00:12.075Z"
   },
   {
    "duration": 437,
    "start_time": "2023-06-22T16:00:12.199Z"
   },
   {
    "duration": 15,
    "start_time": "2023-06-22T16:00:12.638Z"
   },
   {
    "duration": 293,
    "start_time": "2023-06-22T16:00:12.655Z"
   },
   {
    "duration": 9,
    "start_time": "2023-06-22T16:00:12.952Z"
   },
   {
    "duration": 284,
    "start_time": "2023-06-22T16:00:12.963Z"
   },
   {
    "duration": 10,
    "start_time": "2023-06-22T16:00:13.252Z"
   },
   {
    "duration": 16,
    "start_time": "2023-06-22T16:00:13.264Z"
   },
   {
    "duration": 62,
    "start_time": "2023-06-22T16:00:13.281Z"
   },
   {
    "duration": 13,
    "start_time": "2023-06-22T16:00:13.345Z"
   },
   {
    "duration": 400,
    "start_time": "2023-06-22T16:00:13.359Z"
   },
   {
    "duration": 388,
    "start_time": "2023-06-22T16:00:13.764Z"
   },
   {
    "duration": 8130,
    "start_time": "2023-06-22T16:00:14.154Z"
   },
   {
    "duration": 11,
    "start_time": "2023-06-22T16:00:22.287Z"
   },
   {
    "duration": 11,
    "start_time": "2023-06-22T16:00:22.300Z"
   },
   {
    "duration": 52,
    "start_time": "2023-06-22T16:00:22.313Z"
   },
   {
    "duration": 37,
    "start_time": "2023-06-22T16:00:22.367Z"
   },
   {
    "duration": 13,
    "start_time": "2023-06-22T16:00:22.405Z"
   },
   {
    "duration": 44,
    "start_time": "2023-06-22T16:00:22.420Z"
   },
   {
    "duration": 92,
    "start_time": "2023-06-22T16:00:22.466Z"
   },
   {
    "duration": 71,
    "start_time": "2023-06-22T16:00:22.559Z"
   },
   {
    "duration": 398,
    "start_time": "2023-06-22T16:00:22.631Z"
   },
   {
    "duration": 159,
    "start_time": "2023-06-22T16:00:23.031Z"
   },
   {
    "duration": 5,
    "start_time": "2023-06-22T16:00:23.192Z"
   },
   {
    "duration": 243,
    "start_time": "2023-06-22T16:00:23.199Z"
   },
   {
    "duration": 237,
    "start_time": "2023-06-22T16:00:23.443Z"
   },
   {
    "duration": 204,
    "start_time": "2023-06-22T16:09:57.488Z"
   },
   {
    "duration": 24,
    "start_time": "2023-06-22T16:19:27.365Z"
   },
   {
    "duration": 47,
    "start_time": "2023-06-22T16:20:07.152Z"
   },
   {
    "duration": 6,
    "start_time": "2023-06-22T16:27:00.280Z"
   },
   {
    "duration": 9,
    "start_time": "2023-06-22T16:35:20.105Z"
   },
   {
    "duration": 10,
    "start_time": "2023-06-22T16:35:50.283Z"
   },
   {
    "duration": 11,
    "start_time": "2023-06-22T16:36:11.630Z"
   },
   {
    "duration": 4,
    "start_time": "2023-06-22T16:37:11.047Z"
   },
   {
    "duration": 4,
    "start_time": "2023-06-22T16:37:20.463Z"
   },
   {
    "duration": 4,
    "start_time": "2023-06-22T16:37:36.415Z"
   },
   {
    "duration": 4,
    "start_time": "2023-06-22T16:37:37.246Z"
   },
   {
    "duration": 5,
    "start_time": "2023-06-22T16:37:55.247Z"
   },
   {
    "duration": 5,
    "start_time": "2023-06-22T16:37:56.151Z"
   },
   {
    "duration": 6,
    "start_time": "2023-06-22T16:38:11.193Z"
   },
   {
    "duration": 4,
    "start_time": "2023-06-22T16:38:11.735Z"
   },
   {
    "duration": 69,
    "start_time": "2023-06-22T16:38:28.640Z"
   },
   {
    "duration": 305,
    "start_time": "2023-06-22T16:40:45.879Z"
   },
   {
    "duration": 1209,
    "start_time": "2023-06-22T16:42:52.213Z"
   },
   {
    "duration": 107,
    "start_time": "2023-06-22T16:42:53.424Z"
   },
   {
    "duration": 21,
    "start_time": "2023-06-22T16:42:53.533Z"
   },
   {
    "duration": 24,
    "start_time": "2023-06-22T16:42:53.557Z"
   },
   {
    "duration": 16,
    "start_time": "2023-06-22T16:42:53.583Z"
   },
   {
    "duration": 286,
    "start_time": "2023-06-22T16:42:53.601Z"
   },
   {
    "duration": 5,
    "start_time": "2023-06-22T16:42:53.889Z"
   },
   {
    "duration": 13,
    "start_time": "2023-06-22T16:42:53.896Z"
   },
   {
    "duration": 11,
    "start_time": "2023-06-22T16:42:53.911Z"
   },
   {
    "duration": 6,
    "start_time": "2023-06-22T16:42:53.924Z"
   },
   {
    "duration": 795,
    "start_time": "2023-06-22T16:42:53.931Z"
   },
   {
    "duration": 290,
    "start_time": "2023-06-22T16:42:54.728Z"
   },
   {
    "duration": 11,
    "start_time": "2023-06-22T16:42:55.019Z"
   },
   {
    "duration": 21,
    "start_time": "2023-06-22T16:42:55.031Z"
   },
   {
    "duration": 10,
    "start_time": "2023-06-22T16:42:55.054Z"
   },
   {
    "duration": 188,
    "start_time": "2023-06-22T16:42:55.066Z"
   },
   {
    "duration": 137,
    "start_time": "2023-06-22T16:42:55.255Z"
   },
   {
    "duration": 419,
    "start_time": "2023-06-22T16:42:55.394Z"
   },
   {
    "duration": 9,
    "start_time": "2023-06-22T16:42:55.815Z"
   },
   {
    "duration": 302,
    "start_time": "2023-06-22T16:42:55.825Z"
   },
   {
    "duration": 23,
    "start_time": "2023-06-22T16:42:56.129Z"
   },
   {
    "duration": 286,
    "start_time": "2023-06-22T16:42:56.154Z"
   },
   {
    "duration": 17,
    "start_time": "2023-06-22T16:42:56.442Z"
   },
   {
    "duration": 20,
    "start_time": "2023-06-22T16:42:56.461Z"
   },
   {
    "duration": 43,
    "start_time": "2023-06-22T16:42:56.483Z"
   },
   {
    "duration": 10,
    "start_time": "2023-06-22T16:42:56.528Z"
   },
   {
    "duration": 399,
    "start_time": "2023-06-22T16:42:56.539Z"
   },
   {
    "duration": 385,
    "start_time": "2023-06-22T16:42:56.942Z"
   },
   {
    "duration": 8225,
    "start_time": "2023-06-22T16:42:57.329Z"
   },
   {
    "duration": 32,
    "start_time": "2023-06-22T16:43:05.555Z"
   },
   {
    "duration": 11,
    "start_time": "2023-06-22T16:43:05.589Z"
   },
   {
    "duration": 17,
    "start_time": "2023-06-22T16:43:05.605Z"
   },
   {
    "duration": 19,
    "start_time": "2023-06-22T16:43:05.624Z"
   },
   {
    "duration": 23,
    "start_time": "2023-06-22T16:43:05.645Z"
   },
   {
    "duration": 20,
    "start_time": "2023-06-22T16:43:05.670Z"
   },
   {
    "duration": 33,
    "start_time": "2023-06-22T16:43:05.692Z"
   },
   {
    "duration": 87,
    "start_time": "2023-06-22T16:43:05.727Z"
   },
   {
    "duration": 9,
    "start_time": "2023-06-22T16:43:05.816Z"
   },
   {
    "duration": 86,
    "start_time": "2023-06-22T16:43:05.827Z"
   },
   {
    "duration": 368,
    "start_time": "2023-06-22T16:43:05.914Z"
   },
   {
    "duration": 147,
    "start_time": "2023-06-22T16:43:06.284Z"
   },
   {
    "duration": 6,
    "start_time": "2023-06-22T16:43:06.433Z"
   },
   {
    "duration": 245,
    "start_time": "2023-06-22T16:43:06.451Z"
   },
   {
    "duration": 246,
    "start_time": "2023-06-22T16:43:06.698Z"
   },
   {
    "duration": 84,
    "start_time": "2023-06-22T17:01:16.960Z"
   },
   {
    "duration": 1773,
    "start_time": "2023-06-22T17:01:24.506Z"
   },
   {
    "duration": 331,
    "start_time": "2023-06-22T17:01:26.282Z"
   },
   {
    "duration": 29,
    "start_time": "2023-06-22T17:01:26.615Z"
   },
   {
    "duration": 25,
    "start_time": "2023-06-22T17:01:26.648Z"
   },
   {
    "duration": 21,
    "start_time": "2023-06-22T17:01:26.676Z"
   },
   {
    "duration": 316,
    "start_time": "2023-06-22T17:01:26.699Z"
   },
   {
    "duration": 6,
    "start_time": "2023-06-22T17:01:27.017Z"
   },
   {
    "duration": 21,
    "start_time": "2023-06-22T17:01:27.025Z"
   },
   {
    "duration": 35,
    "start_time": "2023-06-22T17:01:27.048Z"
   },
   {
    "duration": 6,
    "start_time": "2023-06-22T17:01:27.088Z"
   },
   {
    "duration": 918,
    "start_time": "2023-06-22T17:01:27.096Z"
   },
   {
    "duration": 479,
    "start_time": "2023-06-22T17:01:28.016Z"
   },
   {
    "duration": 17,
    "start_time": "2023-06-22T17:01:28.499Z"
   },
   {
    "duration": 21,
    "start_time": "2023-06-22T17:01:28.519Z"
   },
   {
    "duration": 36,
    "start_time": "2023-06-22T17:01:28.543Z"
   },
   {
    "duration": 233,
    "start_time": "2023-06-22T17:01:28.583Z"
   },
   {
    "duration": 142,
    "start_time": "2023-06-22T17:01:28.819Z"
   },
   {
    "duration": 461,
    "start_time": "2023-06-22T17:01:28.967Z"
   },
   {
    "duration": 12,
    "start_time": "2023-06-22T17:01:29.431Z"
   },
   {
    "duration": 338,
    "start_time": "2023-06-22T17:01:29.446Z"
   },
   {
    "duration": 11,
    "start_time": "2023-06-22T17:01:29.786Z"
   },
   {
    "duration": 486,
    "start_time": "2023-06-22T17:01:29.800Z"
   },
   {
    "duration": 14,
    "start_time": "2023-06-22T17:01:30.289Z"
   },
   {
    "duration": 55,
    "start_time": "2023-06-22T17:01:30.305Z"
   },
   {
    "duration": 115,
    "start_time": "2023-06-22T17:01:30.364Z"
   },
   {
    "duration": 36,
    "start_time": "2023-06-22T17:01:30.482Z"
   },
   {
    "duration": 633,
    "start_time": "2023-06-22T17:01:30.521Z"
   },
   {
    "duration": 583,
    "start_time": "2023-06-22T17:01:31.166Z"
   },
   {
    "duration": 13651,
    "start_time": "2023-06-22T17:01:31.752Z"
   },
   {
    "duration": 45,
    "start_time": "2023-06-22T17:01:45.405Z"
   },
   {
    "duration": 19,
    "start_time": "2023-06-22T17:01:45.452Z"
   },
   {
    "duration": 9,
    "start_time": "2023-06-22T17:01:45.474Z"
   },
   {
    "duration": 14,
    "start_time": "2023-06-22T17:01:45.486Z"
   },
   {
    "duration": 6,
    "start_time": "2023-06-22T17:01:45.502Z"
   },
   {
    "duration": 9,
    "start_time": "2023-06-22T17:01:45.509Z"
   },
   {
    "duration": 51,
    "start_time": "2023-06-22T17:01:45.521Z"
   },
   {
    "duration": 119,
    "start_time": "2023-06-22T17:01:45.575Z"
   },
   {
    "duration": 12,
    "start_time": "2023-06-22T17:01:45.698Z"
   },
   {
    "duration": 99,
    "start_time": "2023-06-22T17:01:45.712Z"
   },
   {
    "duration": 574,
    "start_time": "2023-06-22T17:01:45.813Z"
   },
   {
    "duration": 281,
    "start_time": "2023-06-22T17:01:46.390Z"
   },
   {
    "duration": 9,
    "start_time": "2023-06-22T17:01:46.673Z"
   },
   {
    "duration": 283,
    "start_time": "2023-06-22T17:01:46.685Z"
   },
   {
    "duration": 291,
    "start_time": "2023-06-22T17:01:46.971Z"
   },
   {
    "duration": 13,
    "start_time": "2023-06-22T17:02:40.428Z"
   },
   {
    "duration": 13,
    "start_time": "2023-06-22T17:02:45.697Z"
   },
   {
    "duration": 19,
    "start_time": "2023-06-22T17:02:49.050Z"
   },
   {
    "duration": 162,
    "start_time": "2023-06-22T17:05:00.410Z"
   },
   {
    "duration": 6,
    "start_time": "2023-06-22T17:05:04.657Z"
   },
   {
    "duration": 19,
    "start_time": "2023-06-22T17:05:19.529Z"
   },
   {
    "duration": 1496,
    "start_time": "2023-06-22T17:06:01.135Z"
   },
   {
    "duration": 95,
    "start_time": "2023-06-22T17:06:02.634Z"
   },
   {
    "duration": 40,
    "start_time": "2023-06-22T17:06:02.732Z"
   },
   {
    "duration": 26,
    "start_time": "2023-06-22T17:06:02.775Z"
   },
   {
    "duration": 26,
    "start_time": "2023-06-22T17:06:02.805Z"
   },
   {
    "duration": 378,
    "start_time": "2023-06-22T17:06:02.833Z"
   },
   {
    "duration": 8,
    "start_time": "2023-06-22T17:06:03.213Z"
   },
   {
    "duration": 25,
    "start_time": "2023-06-22T17:06:03.223Z"
   },
   {
    "duration": 35,
    "start_time": "2023-06-22T17:06:03.250Z"
   },
   {
    "duration": 10,
    "start_time": "2023-06-22T17:06:03.288Z"
   },
   {
    "duration": 1103,
    "start_time": "2023-06-22T17:06:03.300Z"
   },
   {
    "duration": 525,
    "start_time": "2023-06-22T17:06:04.406Z"
   },
   {
    "duration": 14,
    "start_time": "2023-06-22T17:06:04.935Z"
   },
   {
    "duration": 26,
    "start_time": "2023-06-22T17:06:04.966Z"
   },
   {
    "duration": 11,
    "start_time": "2023-06-22T17:06:04.995Z"
   },
   {
    "duration": 29,
    "start_time": "2023-06-22T17:06:05.009Z"
   },
   {
    "duration": 48,
    "start_time": "2023-06-22T17:06:05.041Z"
   },
   {
    "duration": 310,
    "start_time": "2023-06-22T17:06:05.091Z"
   },
   {
    "duration": 195,
    "start_time": "2023-06-22T17:06:05.404Z"
   },
   {
    "duration": 679,
    "start_time": "2023-06-22T17:06:05.602Z"
   },
   {
    "duration": 15,
    "start_time": "2023-06-22T17:06:06.285Z"
   },
   {
    "duration": 542,
    "start_time": "2023-06-22T17:06:06.303Z"
   },
   {
    "duration": 26,
    "start_time": "2023-06-22T17:06:06.849Z"
   },
   {
    "duration": 466,
    "start_time": "2023-06-22T17:06:06.896Z"
   },
   {
    "duration": 13,
    "start_time": "2023-06-22T17:06:07.369Z"
   },
   {
    "duration": 18,
    "start_time": "2023-06-22T17:06:07.384Z"
   },
   {
    "duration": 87,
    "start_time": "2023-06-22T17:06:07.405Z"
   },
   {
    "duration": 12,
    "start_time": "2023-06-22T17:06:07.495Z"
   },
   {
    "duration": 660,
    "start_time": "2023-06-22T17:06:07.510Z"
   },
   {
    "duration": 617,
    "start_time": "2023-06-22T17:06:08.173Z"
   },
   {
    "duration": 10000,
    "start_time": "2023-06-22T17:06:08.805Z"
   },
   {
    "duration": 41,
    "start_time": "2023-06-22T17:06:18.808Z"
   },
   {
    "duration": 25,
    "start_time": "2023-06-22T17:06:18.854Z"
   },
   {
    "duration": 16,
    "start_time": "2023-06-22T17:06:18.881Z"
   },
   {
    "duration": 12,
    "start_time": "2023-06-22T17:06:18.899Z"
   },
   {
    "duration": 14,
    "start_time": "2023-06-22T17:06:18.914Z"
   },
   {
    "duration": 15,
    "start_time": "2023-06-22T17:06:18.930Z"
   },
   {
    "duration": 18,
    "start_time": "2023-06-22T17:06:18.967Z"
   },
   {
    "duration": 136,
    "start_time": "2023-06-22T17:06:18.988Z"
   },
   {
    "duration": 15,
    "start_time": "2023-06-22T17:06:19.127Z"
   },
   {
    "duration": 78,
    "start_time": "2023-06-22T17:06:19.168Z"
   },
   {
    "duration": 659,
    "start_time": "2023-06-22T17:06:19.248Z"
   },
   {
    "duration": 315,
    "start_time": "2023-06-22T17:06:19.910Z"
   },
   {
    "duration": 9,
    "start_time": "2023-06-22T17:06:20.228Z"
   },
   {
    "duration": 282,
    "start_time": "2023-06-22T17:06:20.239Z"
   },
   {
    "duration": 396,
    "start_time": "2023-06-22T17:06:20.524Z"
   },
   {
    "duration": 69,
    "start_time": "2023-06-22T17:06:47.107Z"
   },
   {
    "duration": 149,
    "start_time": "2023-06-22T17:06:50.702Z"
   },
   {
    "duration": 6,
    "start_time": "2023-06-22T17:07:04.881Z"
   },
   {
    "duration": 10,
    "start_time": "2023-06-22T17:07:18.420Z"
   },
   {
    "duration": 123,
    "start_time": "2023-06-22T17:08:28.964Z"
   },
   {
    "duration": 6,
    "start_time": "2023-06-22T17:08:37.810Z"
   },
   {
    "duration": 16,
    "start_time": "2023-06-22T17:08:43.146Z"
   },
   {
    "duration": 25,
    "start_time": "2023-06-22T17:09:49.697Z"
   },
   {
    "duration": 25,
    "start_time": "2023-06-22T17:10:01.427Z"
   },
   {
    "duration": 26,
    "start_time": "2023-06-22T17:10:15.064Z"
   },
   {
    "duration": 19,
    "start_time": "2023-06-22T17:10:21.850Z"
   },
   {
    "duration": 104,
    "start_time": "2023-06-22T17:12:12.357Z"
   },
   {
    "duration": 190,
    "start_time": "2023-06-22T17:13:56.953Z"
   },
   {
    "duration": 65,
    "start_time": "2023-06-22T17:16:25.548Z"
   },
   {
    "duration": 70,
    "start_time": "2023-06-22T17:23:58.359Z"
   },
   {
    "duration": 19,
    "start_time": "2023-06-22T17:24:07.051Z"
   },
   {
    "duration": 15,
    "start_time": "2023-06-22T17:24:19.757Z"
   },
   {
    "duration": 280,
    "start_time": "2023-06-22T17:25:20.407Z"
   },
   {
    "duration": 379,
    "start_time": "2023-06-22T17:25:33.488Z"
   },
   {
    "duration": 438,
    "start_time": "2023-06-22T17:25:42.298Z"
   },
   {
    "duration": 303,
    "start_time": "2023-06-22T17:25:45.989Z"
   },
   {
    "duration": 71,
    "start_time": "2023-06-22T17:26:25.670Z"
   },
   {
    "duration": 15,
    "start_time": "2023-06-22T17:26:28.729Z"
   },
   {
    "duration": 10,
    "start_time": "2023-06-22T17:31:59.551Z"
   },
   {
    "duration": 10,
    "start_time": "2023-06-22T17:32:29.608Z"
   },
   {
    "duration": 7,
    "start_time": "2023-06-22T17:32:43.839Z"
   },
   {
    "duration": 4113,
    "start_time": "2023-06-22T17:37:53.969Z"
   },
   {
    "duration": 9,
    "start_time": "2023-06-22T17:39:43.476Z"
   },
   {
    "duration": 4,
    "start_time": "2023-06-22T17:40:33.726Z"
   },
   {
    "duration": 19,
    "start_time": "2023-06-22T17:41:04.963Z"
   },
   {
    "duration": 14,
    "start_time": "2023-06-22T17:41:08.785Z"
   },
   {
    "duration": 36,
    "start_time": "2023-06-22T17:41:55.137Z"
   },
   {
    "duration": 8,
    "start_time": "2023-06-22T17:43:01.343Z"
   },
   {
    "duration": 10,
    "start_time": "2023-06-22T17:43:04.340Z"
   },
   {
    "duration": 7,
    "start_time": "2023-06-22T17:49:49.271Z"
   },
   {
    "duration": 7,
    "start_time": "2023-06-22T17:50:16.076Z"
   },
   {
    "duration": 9,
    "start_time": "2023-06-22T17:50:45.734Z"
   },
   {
    "duration": 7,
    "start_time": "2023-06-22T17:51:04.642Z"
   },
   {
    "duration": 7,
    "start_time": "2023-06-22T17:51:31.402Z"
   },
   {
    "duration": 7,
    "start_time": "2023-06-22T17:51:40.257Z"
   },
   {
    "duration": 7,
    "start_time": "2023-06-22T17:56:19.757Z"
   },
   {
    "duration": 6,
    "start_time": "2023-06-22T18:02:58.981Z"
   },
   {
    "duration": 7,
    "start_time": "2023-06-22T18:03:03.201Z"
   },
   {
    "duration": 8,
    "start_time": "2023-06-22T18:03:16.315Z"
   },
   {
    "duration": 7,
    "start_time": "2023-06-22T18:03:45.103Z"
   },
   {
    "duration": 12,
    "start_time": "2023-06-22T18:05:15.263Z"
   },
   {
    "duration": 11,
    "start_time": "2023-06-22T18:05:20.350Z"
   },
   {
    "duration": 6,
    "start_time": "2023-06-22T18:05:30.356Z"
   },
   {
    "duration": 7,
    "start_time": "2023-06-22T18:05:42.888Z"
   },
   {
    "duration": 8,
    "start_time": "2023-06-22T18:06:09.709Z"
   },
   {
    "duration": 60,
    "start_time": "2023-06-22T18:08:11.269Z"
   },
   {
    "duration": 14,
    "start_time": "2023-06-22T18:09:38.867Z"
   },
   {
    "duration": 82,
    "start_time": "2023-06-22T18:10:31.413Z"
   },
   {
    "duration": 63,
    "start_time": "2023-06-22T18:11:27.537Z"
   },
   {
    "duration": 9,
    "start_time": "2023-06-22T18:12:09.674Z"
   },
   {
    "duration": 11,
    "start_time": "2023-06-22T18:13:08.909Z"
   },
   {
    "duration": 69,
    "start_time": "2023-06-22T18:14:38.098Z"
   },
   {
    "duration": 83,
    "start_time": "2023-06-22T18:20:09.374Z"
   },
   {
    "duration": 75,
    "start_time": "2023-06-22T18:21:02.745Z"
   },
   {
    "duration": 196,
    "start_time": "2023-06-22T18:21:36.310Z"
   },
   {
    "duration": 22,
    "start_time": "2023-06-22T18:25:29.644Z"
   },
   {
    "duration": 67,
    "start_time": "2023-06-22T18:35:22.245Z"
   },
   {
    "duration": 72,
    "start_time": "2023-06-22T18:36:08.762Z"
   },
   {
    "duration": 68,
    "start_time": "2023-06-22T18:45:40.275Z"
   },
   {
    "duration": 1044,
    "start_time": "2023-06-23T06:51:48.073Z"
   },
   {
    "duration": 69,
    "start_time": "2023-06-23T06:51:49.119Z"
   },
   {
    "duration": 23,
    "start_time": "2023-06-23T06:51:49.190Z"
   },
   {
    "duration": 27,
    "start_time": "2023-06-23T06:51:49.218Z"
   },
   {
    "duration": 17,
    "start_time": "2023-06-23T06:51:49.246Z"
   },
   {
    "duration": 242,
    "start_time": "2023-06-23T06:51:49.264Z"
   },
   {
    "duration": 7,
    "start_time": "2023-06-23T06:51:49.508Z"
   },
   {
    "duration": 22,
    "start_time": "2023-06-23T06:51:49.516Z"
   },
   {
    "duration": 13,
    "start_time": "2023-06-23T06:51:49.541Z"
   },
   {
    "duration": 5,
    "start_time": "2023-06-23T06:51:49.557Z"
   },
   {
    "duration": 732,
    "start_time": "2023-06-23T06:51:49.564Z"
   },
   {
    "duration": 297,
    "start_time": "2023-06-23T06:51:50.298Z"
   },
   {
    "duration": 25,
    "start_time": "2023-06-23T06:51:50.596Z"
   },
   {
    "duration": 14,
    "start_time": "2023-06-23T06:51:50.622Z"
   },
   {
    "duration": 8,
    "start_time": "2023-06-23T06:51:50.638Z"
   },
   {
    "duration": 10,
    "start_time": "2023-06-23T06:51:50.647Z"
   },
   {
    "duration": 15,
    "start_time": "2023-06-23T06:51:50.658Z"
   },
   {
    "duration": 23,
    "start_time": "2023-06-23T06:51:50.675Z"
   },
   {
    "duration": 189,
    "start_time": "2023-06-23T06:51:50.701Z"
   },
   {
    "duration": 126,
    "start_time": "2023-06-23T06:51:50.892Z"
   },
   {
    "duration": 361,
    "start_time": "2023-06-23T06:51:51.020Z"
   },
   {
    "duration": 30,
    "start_time": "2023-06-23T06:51:51.383Z"
   },
   {
    "duration": 276,
    "start_time": "2023-06-23T06:51:51.415Z"
   },
   {
    "duration": 22,
    "start_time": "2023-06-23T06:51:51.693Z"
   },
   {
    "duration": 259,
    "start_time": "2023-06-23T06:51:51.717Z"
   },
   {
    "duration": 9,
    "start_time": "2023-06-23T06:51:51.978Z"
   },
   {
    "duration": 32,
    "start_time": "2023-06-23T06:51:52.006Z"
   },
   {
    "duration": 79,
    "start_time": "2023-06-23T06:51:52.043Z"
   },
   {
    "duration": 11,
    "start_time": "2023-06-23T06:51:52.124Z"
   },
   {
    "duration": 346,
    "start_time": "2023-06-23T06:51:52.137Z"
   },
   {
    "duration": 303,
    "start_time": "2023-06-23T06:51:52.485Z"
   },
   {
    "duration": 6337,
    "start_time": "2023-06-23T06:51:52.790Z"
   },
   {
    "duration": 35,
    "start_time": "2023-06-23T06:51:59.128Z"
   },
   {
    "duration": 9,
    "start_time": "2023-06-23T06:51:59.165Z"
   },
   {
    "duration": 8,
    "start_time": "2023-06-23T06:51:59.175Z"
   },
   {
    "duration": 33,
    "start_time": "2023-06-23T06:51:59.184Z"
   },
   {
    "duration": 9,
    "start_time": "2023-06-23T06:51:59.219Z"
   },
   {
    "duration": 15,
    "start_time": "2023-06-23T06:51:59.229Z"
   },
   {
    "duration": 6,
    "start_time": "2023-06-23T06:51:59.246Z"
   },
   {
    "duration": 31,
    "start_time": "2023-06-23T06:51:59.253Z"
   },
   {
    "duration": 7,
    "start_time": "2023-06-23T06:51:59.286Z"
   },
   {
    "duration": 34,
    "start_time": "2023-06-23T06:51:59.295Z"
   },
   {
    "duration": 31,
    "start_time": "2023-06-23T06:51:59.331Z"
   },
   {
    "duration": 61,
    "start_time": "2023-06-23T06:51:59.364Z"
   },
   {
    "duration": 330,
    "start_time": "2023-06-23T06:51:59.426Z"
   },
   {
    "duration": 13,
    "start_time": "2023-06-23T06:51:59.757Z"
   },
   {
    "duration": 147,
    "start_time": "2023-06-23T06:51:59.772Z"
   },
   {
    "duration": 5,
    "start_time": "2023-06-23T06:51:59.921Z"
   },
   {
    "duration": 219,
    "start_time": "2023-06-23T06:51:59.928Z"
   },
   {
    "duration": 169,
    "start_time": "2023-06-23T06:52:00.148Z"
   },
   {
    "duration": 1288,
    "start_time": "2023-06-23T18:33:16.938Z"
   },
   {
    "duration": 569,
    "start_time": "2023-06-23T18:33:18.228Z"
   },
   {
    "duration": 20,
    "start_time": "2023-06-23T18:33:18.799Z"
   },
   {
    "duration": 15,
    "start_time": "2023-06-23T18:33:18.822Z"
   },
   {
    "duration": 13,
    "start_time": "2023-06-23T18:33:18.838Z"
   },
   {
    "duration": 251,
    "start_time": "2023-06-23T18:33:18.853Z"
   },
   {
    "duration": 4,
    "start_time": "2023-06-23T18:33:19.106Z"
   },
   {
    "duration": 16,
    "start_time": "2023-06-23T18:33:19.112Z"
   },
   {
    "duration": 12,
    "start_time": "2023-06-23T18:33:19.129Z"
   },
   {
    "duration": 5,
    "start_time": "2023-06-23T18:33:19.143Z"
   },
   {
    "duration": 753,
    "start_time": "2023-06-23T18:33:19.149Z"
   },
   {
    "duration": 322,
    "start_time": "2023-06-23T18:33:19.903Z"
   },
   {
    "duration": 12,
    "start_time": "2023-06-23T18:33:20.227Z"
   },
   {
    "duration": 34,
    "start_time": "2023-06-23T18:33:20.240Z"
   },
   {
    "duration": 10,
    "start_time": "2023-06-23T18:33:20.276Z"
   },
   {
    "duration": 4,
    "start_time": "2023-06-23T18:33:20.288Z"
   },
   {
    "duration": 12,
    "start_time": "2023-06-23T18:33:20.294Z"
   },
   {
    "duration": 10,
    "start_time": "2023-06-23T18:33:20.308Z"
   },
   {
    "duration": 219,
    "start_time": "2023-06-23T18:33:20.319Z"
   },
   {
    "duration": 108,
    "start_time": "2023-06-23T18:33:20.540Z"
   },
   {
    "duration": 411,
    "start_time": "2023-06-23T18:33:20.649Z"
   },
   {
    "duration": 20,
    "start_time": "2023-06-23T18:33:21.062Z"
   },
   {
    "duration": 327,
    "start_time": "2023-06-23T18:33:21.085Z"
   },
   {
    "duration": 9,
    "start_time": "2023-06-23T18:33:21.414Z"
   },
   {
    "duration": 301,
    "start_time": "2023-06-23T18:33:21.425Z"
   },
   {
    "duration": 9,
    "start_time": "2023-06-23T18:33:21.728Z"
   },
   {
    "duration": 20,
    "start_time": "2023-06-23T18:33:21.738Z"
   },
   {
    "duration": 40,
    "start_time": "2023-06-23T18:33:21.778Z"
   },
   {
    "duration": 9,
    "start_time": "2023-06-23T18:33:21.820Z"
   },
   {
    "duration": 396,
    "start_time": "2023-06-23T18:33:21.831Z"
   },
   {
    "duration": 395,
    "start_time": "2023-06-23T18:33:22.228Z"
   },
   {
    "duration": 7793,
    "start_time": "2023-06-23T18:33:22.625Z"
   },
   {
    "duration": 29,
    "start_time": "2023-06-23T18:33:30.420Z"
   },
   {
    "duration": 27,
    "start_time": "2023-06-23T18:33:30.451Z"
   },
   {
    "duration": 25,
    "start_time": "2023-06-23T18:33:30.479Z"
   },
   {
    "duration": 30,
    "start_time": "2023-06-23T18:33:30.506Z"
   },
   {
    "duration": 52,
    "start_time": "2023-06-23T18:33:30.537Z"
   },
   {
    "duration": 31,
    "start_time": "2023-06-23T18:33:30.591Z"
   },
   {
    "duration": 79,
    "start_time": "2023-06-23T18:33:30.624Z"
   },
   {
    "duration": 46,
    "start_time": "2023-06-23T18:33:30.705Z"
   },
   {
    "duration": 21,
    "start_time": "2023-06-23T18:33:30.753Z"
   },
   {
    "duration": 26,
    "start_time": "2023-06-23T18:33:30.782Z"
   },
   {
    "duration": 34,
    "start_time": "2023-06-23T18:33:30.810Z"
   },
   {
    "duration": 110,
    "start_time": "2023-06-23T18:33:30.845Z"
   },
   {
    "duration": 390,
    "start_time": "2023-06-23T18:33:30.957Z"
   },
   {
    "duration": 30,
    "start_time": "2023-06-23T18:33:31.348Z"
   },
   {
    "duration": 156,
    "start_time": "2023-06-23T18:33:31.380Z"
   },
   {
    "duration": 5,
    "start_time": "2023-06-23T18:33:31.538Z"
   },
   {
    "duration": 263,
    "start_time": "2023-06-23T18:33:31.545Z"
   },
   {
    "duration": 76,
    "start_time": "2023-06-23T18:33:31.810Z"
   },
   {
    "duration": 203,
    "start_time": "2023-06-23T18:34:02.052Z"
   }
  ],
  "kernelspec": {
   "display_name": "Python 3 (ipykernel)",
   "language": "python",
   "name": "python3"
  },
  "language_info": {
   "codemirror_mode": {
    "name": "ipython",
    "version": 3
   },
   "file_extension": ".py",
   "mimetype": "text/x-python",
   "name": "python",
   "nbconvert_exporter": "python",
   "pygments_lexer": "ipython3",
   "version": "3.9.16"
  },
  "toc": {
   "base_numbering": 1,
   "nav_menu": {},
   "number_sections": true,
   "sideBar": true,
   "skip_h1_title": true,
   "title_cell": "Table of Contents",
   "title_sidebar": "Contents",
   "toc_cell": false,
   "toc_position": {},
   "toc_section_display": true,
   "toc_window_display": false
  }
 },
 "nbformat": 4,
 "nbformat_minor": 5
}
